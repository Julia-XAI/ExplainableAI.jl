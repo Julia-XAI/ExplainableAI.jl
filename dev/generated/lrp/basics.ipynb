{
 "cells": [
  {
   "cell_type": "markdown",
   "source": [
    "# Basic usage of LRP\n",
    "This example will show you best practices for using LRP,\n",
    "building on the basics shown in the *Getting started* section."
   ],
   "metadata": {}
  },
  {
   "cell_type": "markdown",
   "source": [
    "We start out by loading a small convolutional neural network:"
   ],
   "metadata": {}
  },
  {
   "outputs": [],
   "cell_type": "code",
   "source": [
    "using ExplainableAI\n",
    "using Flux\n",
    "\n",
    "model = Chain(\n",
    "    Chain(\n",
    "        Conv((3, 3), 3 => 8, relu; pad=1),\n",
    "        Conv((3, 3), 8 => 8, relu; pad=1),\n",
    "        MaxPool((2, 2)),\n",
    "        Conv((3, 3), 8 => 16; pad=1),\n",
    "        BatchNorm(16, relu),\n",
    "        Conv((3, 3), 16 => 8, relu; pad=1),\n",
    "        BatchNorm(8, relu),\n",
    "    ),\n",
    "    Chain(\n",
    "        Flux.flatten,\n",
    "        Dense(2048 => 512, relu),\n",
    "        Dropout(0.5),\n",
    "        Dense(512 => 100, softmax)\n",
    "    ),\n",
    ");"
   ],
   "metadata": {},
   "execution_count": 1
  },
  {
   "cell_type": "markdown",
   "source": [
    "This model contains two chains: the convolutional layers and the fully connected layers."
   ],
   "metadata": {}
  },
  {
   "cell_type": "markdown",
   "source": [
    "## Model preparation\n",
    "### Stripping the output softmax\n",
    "When using LRP, it is recommended to explain output logits instead of probabilities.\n",
    "This can be done by stripping the output softmax activation from the model\n",
    "using the `strip_softmax` function:"
   ],
   "metadata": {}
  },
  {
   "outputs": [
    {
     "output_type": "execute_result",
     "data": {
      "text/plain": "Chain(\n  Chain(\n    Conv((3, 3), 3 => 8, relu, pad=1),  \u001b[90m# 224 parameters\u001b[39m\n    Conv((3, 3), 8 => 8, relu, pad=1),  \u001b[90m# 584 parameters\u001b[39m\n    MaxPool((2, 2)),\n    Conv((3, 3), 8 => 16, pad=1),       \u001b[90m# 1_168 parameters\u001b[39m\n    BatchNorm(16, relu),                \u001b[90m# 32 parameters\u001b[39m\u001b[90m, plus 32\u001b[39m\n    Conv((3, 3), 16 => 8, relu, pad=1),  \u001b[90m# 1_160 parameters\u001b[39m\n    BatchNorm(8, relu),                 \u001b[90m# 16 parameters\u001b[39m\u001b[90m, plus 16\u001b[39m\n  ),\n  Chain(\n    Flux.flatten,\n    Dense(2048 => 512, relu),           \u001b[90m# 1_049_088 parameters\u001b[39m\n    Dropout(0.5),\n    Dense(512 => 100),                  \u001b[90m# 51_300 parameters\u001b[39m\n  ),\n) \u001b[90m        # Total: 16 trainable arrays, \u001b[39m1_103_572 parameters,\n\u001b[90m          # plus 4 non-trainable, 48 parameters, summarysize \u001b[39m4.213 MiB."
     },
     "metadata": {},
     "execution_count": 2
    }
   ],
   "cell_type": "code",
   "source": [
    "model = strip_softmax(model)"
   ],
   "metadata": {},
   "execution_count": 2
  },
  {
   "cell_type": "markdown",
   "source": [
    "If you don't remove the output softmax,\n",
    "model checks will fail."
   ],
   "metadata": {}
  },
  {
   "cell_type": "markdown",
   "source": [
    "### Canonizing the model\n",
    "LRP is not invariant to a model's implementation.\n",
    "Applying the `GammaRule` to two linear layers in a row will yield different results\n",
    "than first fusing the two layers into one linear layer and then applying the rule.\n",
    "This fusing is called \"canonization\" and can be done using the `canonize` function:"
   ],
   "metadata": {}
  },
  {
   "outputs": [
    {
     "output_type": "execute_result",
     "data": {
      "text/plain": "Chain(\n  Conv((3, 3), 3 => 8, relu, pad=1),    \u001b[90m# 224 parameters\u001b[39m\n  Conv((3, 3), 8 => 8, relu, pad=1),    \u001b[90m# 584 parameters\u001b[39m\n  MaxPool((2, 2)),\n  Conv((3, 3), 8 => 16, relu, pad=1),   \u001b[90m# 1_168 parameters\u001b[39m\n  Conv((3, 3), 16 => 8, relu, pad=1),   \u001b[90m# 1_160 parameters\u001b[39m\n  BatchNorm(8, relu),                   \u001b[90m# 16 parameters\u001b[39m\u001b[90m, plus 16\u001b[39m\n  Flux.flatten,\n  Dense(2048 => 512, relu),             \u001b[90m# 1_049_088 parameters\u001b[39m\n  Dropout(0.5),\n  Dense(512 => 100),                    \u001b[90m# 51_300 parameters\u001b[39m\n) \u001b[90m        # Total: 14 trainable arrays, \u001b[39m1_103_540 parameters,\n\u001b[90m          # plus 2 non-trainable, 16 parameters, summarysize \u001b[39m4.212 MiB."
     },
     "metadata": {},
     "execution_count": 3
    }
   ],
   "cell_type": "code",
   "source": [
    "model = canonize(model)"
   ],
   "metadata": {},
   "execution_count": 3
  },
  {
   "cell_type": "markdown",
   "source": [
    "### Flattening the model\n",
    "ExplainableAI.jl's LRP implementation supports nested Flux Chains and Parallel layers.\n",
    "However, it is recommended to flatten the model before analyzing it.\n",
    "\n",
    "LRP is implemented by first running a forward pass through the model,\n",
    "keeping track of the intermediate activations, followed by a backward pass\n",
    "that computes the relevances.\n",
    "\n",
    "To keep the LRP implementation simple and maintainable,\n",
    "ExplainableAI.jl does not pre-compute \"nested\" activations.\n",
    "Instead, for every internal chain, a new forward pass is run to compute activations.\n",
    "\n",
    "By \"flattening\" a model, this overhead can be avoided.\n",
    "For this purpose, ExplainableAI.jl provides the function `flatten_model`:"
   ],
   "metadata": {}
  },
  {
   "outputs": [
    {
     "output_type": "execute_result",
     "data": {
      "text/plain": "Chain(\n  Conv((3, 3), 3 => 8, relu, pad=1),    \u001b[90m# 224 parameters\u001b[39m\n  Conv((3, 3), 8 => 8, relu, pad=1),    \u001b[90m# 584 parameters\u001b[39m\n  MaxPool((2, 2)),\n  Conv((3, 3), 8 => 16, relu, pad=1),   \u001b[90m# 1_168 parameters\u001b[39m\n  Conv((3, 3), 16 => 8, relu, pad=1),   \u001b[90m# 1_160 parameters\u001b[39m\n  BatchNorm(8, relu),                   \u001b[90m# 16 parameters\u001b[39m\u001b[90m, plus 16\u001b[39m\n  Flux.flatten,\n  Dense(2048 => 512, relu),             \u001b[90m# 1_049_088 parameters\u001b[39m\n  Dropout(0.5),\n  Dense(512 => 100),                    \u001b[90m# 51_300 parameters\u001b[39m\n) \u001b[90m        # Total: 14 trainable arrays, \u001b[39m1_103_540 parameters,\n\u001b[90m          # plus 2 non-trainable, 16 parameters, summarysize \u001b[39m4.212 MiB."
     },
     "metadata": {},
     "execution_count": 4
    }
   ],
   "cell_type": "code",
   "source": [
    "model_flat = flatten_model(model)"
   ],
   "metadata": {},
   "execution_count": 4
  },
  {
   "cell_type": "markdown",
   "source": [
    "This function is called by default when creating an LRP analyzer.\n",
    "Note that we pass the unflattened model to the analyzer, but `analyzer.model` is flattened:"
   ],
   "metadata": {}
  },
  {
   "outputs": [
    {
     "output_type": "execute_result",
     "data": {
      "text/plain": "Chain(\n  Conv((3, 3), 3 => 8, relu, pad=1),    \u001b[90m# 224 parameters\u001b[39m\n  Conv((3, 3), 8 => 8, relu, pad=1),    \u001b[90m# 584 parameters\u001b[39m\n  MaxPool((2, 2)),\n  Conv((3, 3), 8 => 16, relu, pad=1),   \u001b[90m# 1_168 parameters\u001b[39m\n  Conv((3, 3), 16 => 8, relu, pad=1),   \u001b[90m# 1_160 parameters\u001b[39m\n  BatchNorm(8, relu),                   \u001b[90m# 16 parameters\u001b[39m\u001b[90m, plus 16\u001b[39m\n  Flux.flatten,\n  Dense(2048 => 512, relu),             \u001b[90m# 1_049_088 parameters\u001b[39m\n  Dropout(0.5),\n  Dense(512 => 100),                    \u001b[90m# 51_300 parameters\u001b[39m\n) \u001b[90m        # Total: 14 trainable arrays, \u001b[39m1_103_540 parameters,\n\u001b[90m          # plus 2 non-trainable, 16 parameters, summarysize \u001b[39m4.212 MiB."
     },
     "metadata": {},
     "execution_count": 5
    }
   ],
   "cell_type": "code",
   "source": [
    "analyzer = LRP(model)\n",
    "analyzer.model"
   ],
   "metadata": {},
   "execution_count": 5
  },
  {
   "cell_type": "markdown",
   "source": [
    "If this flattening is not desired, it can be disabled\n",
    "by passing the keyword argument `flatten=false` to the `LRP` constructor."
   ],
   "metadata": {}
  },
  {
   "cell_type": "markdown",
   "source": [
    "## LRP rules\n",
    "By default, the `LRP` constructor will assign the `ZeroRule` to all layers."
   ],
   "metadata": {}
  },
  {
   "outputs": [
    {
     "output_type": "execute_result",
     "data": {
      "text/plain": "LRP(\n  Conv((3, 3), 3 => 8, relu, pad=1) \u001b[90m => \u001b[39m\u001b[33mZeroRule()\u001b[39m,\n  Conv((3, 3), 8 => 8, relu, pad=1) \u001b[90m => \u001b[39m\u001b[33mZeroRule()\u001b[39m,\n  MaxPool((2, 2))                   \u001b[90m => \u001b[39m\u001b[33mZeroRule()\u001b[39m,\n  Conv((3, 3), 8 => 16, relu, pad=1)\u001b[90m => \u001b[39m\u001b[33mZeroRule()\u001b[39m,\n  Conv((3, 3), 16 => 8, relu, pad=1)\u001b[90m => \u001b[39m\u001b[33mZeroRule()\u001b[39m,\n  BatchNorm(8, relu)                \u001b[90m => \u001b[39m\u001b[33mZeroRule()\u001b[39m,\n  Flux.flatten                      \u001b[90m => \u001b[39m\u001b[33mZeroRule()\u001b[39m,\n  Dense(2048 => 512, relu)          \u001b[90m => \u001b[39m\u001b[33mZeroRule()\u001b[39m,\n  Dropout(0.5)                      \u001b[90m => \u001b[39m\u001b[33mZeroRule()\u001b[39m,\n  Dense(512 => 100)                 \u001b[90m => \u001b[39m\u001b[33mZeroRule()\u001b[39m,\n)"
     },
     "metadata": {},
     "execution_count": 6
    }
   ],
   "cell_type": "code",
   "source": [
    "LRP(model)"
   ],
   "metadata": {},
   "execution_count": 6
  },
  {
   "cell_type": "markdown",
   "source": [
    "This analyzer will return heatmaps that look identical to `InputTimesGradient`."
   ],
   "metadata": {}
  },
  {
   "cell_type": "markdown",
   "source": [
    "LRP's strength lies in assigning different rules to different layers,\n",
    "based on their functionality in the neural network[^1].\n",
    "ExplainableAI.jl implements many LRP rules out of the box,\n",
    "but it is also possible to *implement custom rules*.\n",
    "\n",
    "To assign different rules to different layers,\n",
    "use one of the composites presets,\n",
    "or create your own composite, as described in\n",
    "*Assigning rules to layers*."
   ],
   "metadata": {}
  },
  {
   "outputs": [
    {
     "output_type": "execute_result",
     "data": {
      "text/plain": "Composite(\n  GlobalTypeMap(  \u001b[90m# all layers\u001b[39m\n\u001b[94m    Flux.Conv              \u001b[39m => \u001b[33mZPlusRule()\u001b[39m,\n\u001b[94m    Flux.ConvTranspose     \u001b[39m => \u001b[33mZPlusRule()\u001b[39m,\n\u001b[94m    Flux.CrossCor          \u001b[39m => \u001b[33mZPlusRule()\u001b[39m,\n\u001b[94m    Flux.Dense             \u001b[39m => \u001b[33mEpsilonRule{Float32}(1.0f-6)\u001b[39m,\n\u001b[94m    typeof(NNlib.dropout)  \u001b[39m => \u001b[33mPassRule()\u001b[39m,\n\u001b[94m    Flux.AlphaDropout      \u001b[39m => \u001b[33mPassRule()\u001b[39m,\n\u001b[94m    Flux.Dropout           \u001b[39m => \u001b[33mPassRule()\u001b[39m,\n\u001b[94m    Flux.BatchNorm         \u001b[39m => \u001b[33mPassRule()\u001b[39m,\n\u001b[94m    typeof(Flux.flatten)   \u001b[39m => \u001b[33mPassRule()\u001b[39m,\n\u001b[94m    typeof(MLUtils.flatten)\u001b[39m => \u001b[33mPassRule()\u001b[39m,\n\u001b[94m    typeof(identity)       \u001b[39m => \u001b[33mPassRule()\u001b[39m,\n ),\n  FirstLayerTypeMap(  \u001b[90m# first layer\u001b[39m\n\u001b[94m    Flux.Conv         \u001b[39m => \u001b[33mFlatRule()\u001b[39m,\n\u001b[94m    Flux.ConvTranspose\u001b[39m => \u001b[33mFlatRule()\u001b[39m,\n\u001b[94m    Flux.CrossCor     \u001b[39m => \u001b[33mFlatRule()\u001b[39m,\n\u001b[94m    Flux.Dense        \u001b[39m => \u001b[33mFlatRule()\u001b[39m,\n ),\n)"
     },
     "metadata": {},
     "execution_count": 7
    }
   ],
   "cell_type": "code",
   "source": [
    "composite = EpsilonPlusFlat() # using composite preset EpsilonPlusFlat"
   ],
   "metadata": {},
   "execution_count": 7
  },
  {
   "outputs": [
    {
     "output_type": "execute_result",
     "data": {
      "text/plain": "LRP(\n  Conv((3, 3), 3 => 8, relu, pad=1) \u001b[90m => \u001b[39m\u001b[33mFlatRule()\u001b[39m,\n  Conv((3, 3), 8 => 8, relu, pad=1) \u001b[90m => \u001b[39m\u001b[33mZPlusRule()\u001b[39m,\n  MaxPool((2, 2))                   \u001b[90m => \u001b[39m\u001b[33mZeroRule()\u001b[39m,\n  Conv((3, 3), 8 => 16, relu, pad=1)\u001b[90m => \u001b[39m\u001b[33mZPlusRule()\u001b[39m,\n  Conv((3, 3), 16 => 8, relu, pad=1)\u001b[90m => \u001b[39m\u001b[33mZPlusRule()\u001b[39m,\n  BatchNorm(8, relu)                \u001b[90m => \u001b[39m\u001b[33mPassRule()\u001b[39m,\n  Flux.flatten                      \u001b[90m => \u001b[39m\u001b[33mPassRule()\u001b[39m,\n  Dense(2048 => 512, relu)          \u001b[90m => \u001b[39m\u001b[33mEpsilonRule{Float32}(1.0f-6)\u001b[39m,\n  Dropout(0.5)                      \u001b[90m => \u001b[39m\u001b[33mPassRule()\u001b[39m,\n  Dense(512 => 100)                 \u001b[90m => \u001b[39m\u001b[33mEpsilonRule{Float32}(1.0f-6)\u001b[39m,\n)"
     },
     "metadata": {},
     "execution_count": 8
    }
   ],
   "cell_type": "code",
   "source": [
    "LRP(model, composite)"
   ],
   "metadata": {},
   "execution_count": 8
  },
  {
   "cell_type": "markdown",
   "source": [
    "## Computing layerwise relevances\n",
    "If you are interested in computing layerwise relevances,\n",
    "call `analyze` with an LRP analyzer and the keyword argument\n",
    "`layerwise_relevances=true`.\n",
    "\n",
    "The layerwise relevances can be accessed in the `extras` field\n",
    "of the returned `Explanation`:"
   ],
   "metadata": {}
  },
  {
   "outputs": [
    {
     "output_type": "execute_result",
     "data": {
      "text/plain": "11-element Vector{Array{Float32}}:\n [-0.02771241 -0.0039049594 … -0.048261236 -0.2852211; 0.040902186 0.010270282 … -0.054441605 0.094656035; … ; 0.11916849 0.035422105 … 0.013192096 0.0037925947; 0.067793004 -0.08094053 … -0.008839885 -0.010046935;;; -0.03301098 0.036637302 … 0.2577249 -0.03301511; -0.015048782 0.04523836 … -0.11108531 -0.039401677; … ; -0.0063282712 0.14215311 … -0.022456529 0.00022578392; -0.08829893 0.13226335 … -5.0280996f-6 -0.017521964;;; -0.009558902 -0.008010369 … -0.0020029924 -0.04395626; -0.003265462 0.008520584 … -0.21595272 0.18510677; … ; 0.0051477607 -0.001914447 … -0.00797239 -0.016137015; -0.03830846 0.0005499976 … 0.0067756926 -0.009455227;;;;]\n [0.0 -0.0 … 0.0 -0.0; -0.0 -0.0 … -0.0 0.0; … ; 0.0 -0.0 … -0.0 -0.0; 0.0 0.0 … 0.0 -0.0;;; -0.022067506 -0.032300323 … 0.027820807 0.0019088928; -0.007231942 0.0042960467 … -0.0 -0.0; … ; 0.10731207 0.06935658 … 0.0 -0.0; 0.062820785 0.061298914 … -0.0 -0.001402492;;; -0.0029044678 -0.0032180175 … 0.08272228 -0.016221156; -0.02069251 0.0 … -0.0 0.0; … ; 0.041276433 -0.0 … -0.04436143 -0.002818387; 0.022991437 -0.0 … 0.006841264 0.0022044121;;; -0.0037214502 0.0005587604 … -0.039035432 -0.0; -0.0 0.01297633 … 0.15858361 0.025276167; … ; -0.0 0.096622 … 0.0 0.008083416; -0.0022915783 0.0024954246 … -0.03783825 0.0062691513;;; -0.0 -0.0 … -0.0 0.0; -0.0 -0.036240753 … 0.0 -0.0; … ; -0.0 -0.0 … 0.0 0.0; 0.0 0.0 … -0.0 -0.0;;; 0.0 -0.0 … -0.0 0.017808855; 0.0 -0.0 … 0.0043670437 0.30750787; … ; -0.0 0.0 … -0.0 -0.023829846; -0.0 0.0 … -0.0 -0.004214637;;; 0.0 0.0 … -0.0 0.0; -0.0 -0.0 … -0.0 -0.0; … ; 0.0 0.0 … 0.0 0.0; -0.0 0.0 … 0.0 0.0;;; -0.0 0.0 … 0.0 0.0; -0.0 -0.0 … -0.0 -0.0; … ; 0.0 0.0 … -0.0 -0.0; -0.0 0.0 … 0.0 -0.0;;;;]\n [0.0026905106 0.0 … -0.0015492172 0.0; 0.0 0.0 … 0.0 0.0; … ; 0.041806575 0.0 … 0.0065987636 0.0; 0.0 0.0 … 0.0 0.0;;; 0.0 0.0 … 0.0 0.0; 0.0 0.007343432 … 0.0011332197 0.0; … ; 0.0 0.10143457 … 0.0 0.0; 0.0 0.0 … -0.02884771 0.0;;; 0.0 -0.02512177 … 0.12198245 0.0; 0.0 0.0 … 0.0 0.0; … ; 0.0 0.0 … -0.02639215 0.0; 0.051008105 0.0 … 0.0 0.0;;; 0.0 0.0 … 0.0 0.0; 0.0 0.0037762756 … 0.0 0.0; … ; 0.0 0.133217 … 0.0 -0.005505189; 0.0 0.0 … 0.0 0.0;;; 0.0 0.0 … 0.0 0.0; -0.0016160188 0.0 … 0.0 0.0055673146; … ; -0.00055636116 0.0 … 0.0 0.0; 0.0 0.0 … 0.0 0.0;;; 0.0 0.0 … 0.0 0.0; 0.0 -0.005391304 … 0.0 0.006060838; … ; 0.00021400118 0.0 … 0.0 0.0; 0.0 0.0 … 0.0 0.0026104918;;; 0.0 0.0062955525 … -0.058478657 0.0; 0.0 0.0 … 0.0 0.0; … ; 0.0 -0.02244417 … -0.0042340606 0.0; 0.0 0.0 … 0.0 0.0;;; -0.01702771 0.0 … 0.0 0.0; 0.0 0.0 … 0.122978404 0.0; … ; 0.0 0.006659831 … 0.0 0.0; 0.0 0.0 … -0.044944964 0.0;;;;]\n [0.0026905106 -0.01009653 … 0.23442134 -0.0015492173; -0.021687016 -0.016854454 … 0.01480869 -0.0; … ; 0.15072528 -0.08256478 … -0.0018799781 0.0062876376; 0.041806575 -0.01409764 … 0.006704306 0.0065987636;;; 0.007343432 -0.003035971 … 0.39041966 0.0011332197; -0.08834859 0.07436267 … -0.71217966 0.24669285; … ; -0.4287793 -0.37713218 … 0.0022857161 0.024562573; 0.10143457 -0.037063133 … -0.048263922 -0.02884771;;; -0.02512177 -0.08939745 … -0.17621966 0.12198245; 0.013254967 -0.025190035 … 0.47569394 -0.2500005; … ; -0.37525272 -0.060007337 … 0.031068718 -0.0389137; 0.051008105 0.048361734 … -0.037051775 -0.02639215;;; 0.0037762756 0.01713986 … 0.07233626 -0.0; 0.0013279191 0.037029393 … -0.019495958 0.10045872; … ; 0.0024307205 -0.17585425 … 0.054926723 0.006448044; 0.133217 0.062183086 … -0.022771016 -0.005505189;;; -0.001616019 0.0012801425 … 0.0 0.0055673146; -0.021561783 -0.0 … 0.0 -0.009725206; … ; 0.0 0.0 … -0.0011914867 -0.012395568; -0.0005563612 -0.0 … 0.0 -0.0;;; -0.005391304 0.028584383 … 0.0 0.006060838; -0.03043729 0.051511537 … -0.24776138 0.44637823; … ; -0.057063438 0.022440698 … -0.011533511 -0.02259785; 0.00021400124 0.0556816 … -0.0 0.0026104918;;; 0.0062955525 0.0034591956 … 0.17018577 -0.058478657; -0.013870011 0.00509058 … 0.73501354 -0.30403924; … ; 0.011787054 -0.29000798 … 0.05040088 -0.0063663786; -0.02244417 -0.03333465 … 0.03854153 -0.0042340606;;; -0.01702771 0.031640965 … 0.5981947 0.122978404; 0.05326152 0.11077396 … 0.59360874 -0.08797227; … ; -0.009425366 -0.31260395 … 0.11196705 0.03573768; 0.006659831 0.02108078 … 0.00876152 -0.044944964;;;;]\n [0.0 -0.0 … 0.0 -0.0; -0.0 0.0 … 0.3188498 -0.00012046065; … ; 0.0 -0.020317215 … 0.006318801 -0.005865689; 0.0 0.0038533325 … -0.004358462 -0.0001874705;;; -0.0 -0.0 … 0.0 -0.0; 0.0 0.0 … -0.0 -0.0; … ; 0.0 0.0 … -0.0 -0.0; -0.0 -0.0 … -0.0 -0.0;;; -0.007029393 -0.0 … 0.013868055 -0.014696487; -0.0 0.0 … -0.0 -0.01718625; … ; -0.0 -0.0 … 0.0 -0.04829016; 0.0 0.0 … -0.0 0.010023361;;; … ;;; -0.0070911185 0.0037470243 … -0.0056995926 0.0; 0.0 -0.007291771 … 0.13920176 -0.0; … ; 0.031273685 -0.00870367 … 0.042440984 0.011277022; 0.07164331 0.10200088 … -0.016058132 0.01608512;;; -0.0 -0.009655038 … 0.0065629706 -0.009615533; 0.0072125406 0.009224947 … 0.2723308 0.0001161121; … ; 0.001530356 0.0 … -0.027719276 -0.0; -0.0 -0.0 … -0.0 -0.0;;; 0.0 -0.0 … -0.0 -0.0; -0.0 0.0 … -0.0 0.0; … ; -0.0 0.0 … -0.0 -0.0; -0.0 -0.0 … 0.0 0.0;;;;]\n [0.0002648075 0.058054768 … 0.037152313 0.029168282; 0.0 0.0002681501 … 0.020634774 -0.015350557; … ; 0.0 0.1292576 … 0.0 0.060791947; 0.0 0.0 … 0.00010084648 0.0015643378;;; 0.0 0.0 … 0.0 0.0; 0.0 0.0 … 0.008534464 -0.0015847282; … ; 0.0 -0.010117468 … 0.0036473696 -0.0073939976; 0.0 0.00087042025 … 0.0037601418 0.008221326;;; 0.006343847 0.0005186475 … 0.0 7.622887f-5; 0.00072977634 0.030769631 … 0.0 0.0; … ; 0.00064487703 0.0006013991 … 0.0 0.0006238236; 0.0 0.0 … 0.0 0.0;;; -0.0027610555 -0.054906085 … -0.022670787 -0.0; -0.0137328915 -0.064604424 … 0.22017537 -0.021387206; … ; -0.01073428 -0.024553353 … -0.024681153 -0.02032792; -0.0048480746 -0.1410404 … -0.020370832 -0.0022886223;;; -0.0 -0.00013474998 … -0.003064298 -0.0; -0.0073637376 -0.0020513732 … -0.014786455 -0.01613129; … ; -0.0031362204 -0.006043181 … -0.0056479466 0.18742476; -0.002500701 0.3013911 … -0.07421605 0.0021238255;;; 0.0 0.0 … 0.00096564624 0.00090436224; 0.0 0.011309157 … 0.0010057742 0.0036995295; … ; 0.0 0.0 … 0.0 0.0; 0.0 0.0 … 0.0 0.0;;; -0.0070939185 -0.0 … -0.0 -0.0; 0.0032433902 -0.0 … -0.0 -0.0; … ; 9.834501f-6 -0.0 … -0.0 -0.0; -0.0 -0.0 … -0.0 -0.0;;; -0.0 -0.0 … -0.0 -0.0; -0.0 -0.0 … -0.0 -0.0; … ; -0.0 -0.0 … -0.0 -0.0; -0.0 -0.003913181 … -2.526879f-6 -0.00038204077;;;;]\n [6.692918f-5 0.018491985 … 0.0070769475 0.0038392046; -0.0 0.00019242632 … 0.002019984 -0.0055761524; … ; 0.0 0.009695113 … -0.0 0.009948204; -0.0 0.0 … 2.4258206f-5 -0.00088922854;;; 0.0 -0.0 … 0.0 0.0; 0.0 0.0 … 0.0047383322 -0.0015427399; … ; -0.0 -0.0014297618 … 0.0007689555 -0.008437529; 0.0 0.00042106403 … 0.0020232287 0.0061442964;;; 0.0035326146 8.536759f-5 … 0.0 0.0004375745; 0.0006353295 0.002319363 … 0.0 0.0; … ; 0.0013742083 -0.0021703462 … -0.0 0.0002460005; -0.0 0.0 … -0.0 -0.0;;; 0.00153646 -0.002208381 … 0.0032419194 -0.0; 0.0011548797 -0.004256452 … 0.04074557 0.0002750186; … ; -0.0018656708 0.006232919 … -0.0038045263 0.008843568; -0.0038284434 -0.02528525 … 0.0062895822 0.0066308933;;; -0.0 -4.3548105f-5 … -0.0023619772 -0.0; -0.0076205214 -0.002565664 … 0.003765122 0.013996975; … ; -0.0026246891 -0.0068297996 … 0.0031169 0.008677485; -0.0018252764 0.0038138174 … -0.017285028 0.017132264;;; 0.0 -0.0 … 0.0002429711 -0.00039593052; 0.0 0.00054758944 … -0.00028435083 -0.0019368167; … ; 0.0 -0.0 … -0.0 0.0; -0.0 -0.0 … 0.0 -0.0;;; -0.012122142 0.0 … 0.0 0.0; -0.007839659 0.0 … 0.0 0.0; … ; -2.8589884f-6 0.0 … -0.0 0.0; 0.0 0.0 … -0.0 0.0;;; -0.0 0.0 … -0.0 -0.0; 0.0 -0.0 … 0.0 0.0; … ; 0.0 0.0 … -0.0 0.0; -0.0 -0.003131282 … 0.00025170925 0.0006296687;;;;]\n [6.69292f-5; -0.0; … ; 0.0; 0.0006296687;;]\n [0.0; -0.0004152222; … ; -0.013072688; 0.012524182;;]\n [0.0; -0.0004152222; … ; -0.013072688; 0.012524182;;]\n [0.0; 0.0; … ; 0.0; 0.0;;]"
     },
     "metadata": {},
     "execution_count": 9
    }
   ],
   "cell_type": "code",
   "source": [
    "input = rand(Float32, 32, 32, 3, 1) # dummy input for our convolutional neural network\n",
    "\n",
    "expl = analyze(input, analyzer; layerwise_relevances=true)\n",
    "expl.extras.layerwise_relevances"
   ],
   "metadata": {},
   "execution_count": 9
  },
  {
   "cell_type": "markdown",
   "source": [
    "Note that the layerwise relevances are only kept for layers in the outermost `Chain` of the model.\n",
    "When using our unflattened model, we only obtain three layerwise relevances,\n",
    "one for each chain in the model and the output relevance:"
   ],
   "metadata": {}
  },
  {
   "outputs": [
    {
     "output_type": "execute_result",
     "data": {
      "text/plain": "11-element Vector{Array{Float32}}:\n [-0.009282939 -0.0033293571 … 0.0035625456 0.03534819; -0.012839222 -0.0026029574 … -0.010647323 -0.007089086; … ; -0.0066267434 -0.0019126027 … 0.017837618 -0.0024279687; -0.049757738 0.019197086 … 0.0009422756 -0.0023710383;;; 0.00599913 -0.0008611916 … -0.04126051 0.015349994; -0.004000138 0.0074656876 … 0.012604548 -0.010277449; … ; 0.0061143865 -0.18633588 … 0.0015353032 0.0006827912; 0.051553473 -0.014604057 … -1.142603f-6 -0.00053985405;;; 0.0021508862 -0.0035159418 … -0.000217068 -0.011368221; 0.0044659046 -0.001575764 … 0.026233211 -0.0261181; … ; 0.0060234643 0.0002904023 … -0.0035860485 0.00089587475; -0.0042848 0.002881736 … 0.0076270164 -8.431308f-5;;;;]\n [-0.0 0.0 … -0.0 0.0; 0.0 0.0 … 0.0 -0.0; … ; -0.0 -0.0 … -0.0 0.0; -0.0 -0.0 … 0.0 -0.0;;; -0.0018782222 -0.00035393293 … -0.002833355 0.00081824913; -0.001193282 -0.00081107445 … 0.0 0.0; … ; -0.016892133 -0.01094632 … -0.0 0.0; -0.029906489 -0.041078012 … 0.0 -0.00012469564;;; -0.0046560164 -0.0034115904 … -0.011216714 0.0013037053; -0.010335432 -0.0 … 0.0 -0.0; … ; -0.009921405 0.0 … 0.003694437 -0.000887834; -0.034112222 -0.0 … 0.0021792932 0.000630948;;; -0.0012385122 -0.001945511 … 0.00460559 0.0; 0.0 0.014207193 … -0.030699143 -0.0034968792; … ; 0.0 -0.039188664 … 0.0 -9.280923f-5; 0.003730835 -0.015132129 … -0.009154803 0.0054493537;;; 0.0 -0.0 … -0.0 -0.0; -0.0 3.579606f-5 … -0.0 0.0; … ; 0.0 -0.0 … -0.0 0.0; -0.0 -0.0 … -0.0 -0.0;;; -0.0 -0.0 … 0.0 -0.007827773; -0.0 -0.0 … 3.9923696f-5 -0.030419618; … ; -0.0 0.0 … 0.0 -0.0043696105; 0.0 -0.0 … 0.0 -0.00019972815;;; -0.0 -0.0 … 0.0 0.0; 0.0 -0.0 … 0.0 0.0; … ; 0.0 0.0 … -0.0 -0.0; 0.0 0.0 … -0.0 0.0;;; -0.0 0.0 … -0.0 0.0; 0.0 -0.0 … 0.0 0.0; … ; -0.0 -0.0 … 0.0 -0.0; 0.0 -0.0 … -0.0 -0.0;;;;]\n [-0.009261316 0.0 … 0.00087965844 0.0; 0.0 0.0 … 0.0 0.0; … ; -0.037010647 0.0 … 0.0019930352 0.0; 0.0 0.0 … 0.0 0.0;;; 0.0 0.0 … 0.0 0.0; 0.0 -0.01737372 … 0.008842118 0.0; … ; 0.0 -0.08889524 … 0.0 0.0; 0.0 0.0 … -0.013614937 0.0;;; 0.0 -0.011607387 … -0.016700782 0.0; 0.0 0.0 … 0.0 0.0; … ; 0.0 0.0 … -0.0025974074 0.0; -0.028508596 0.0 … 0.0 0.0;;; 0.0 0.0 … 0.0 0.0; 0.0 -0.015929772 … 0.0 0.0; … ; 0.0 -0.061352503 … 0.0 -5.4767308f-5; 0.0 0.0 … 0.0 0.0;;; 0.0 0.0 … 0.0 0.0; 0.00081861333 0.0 … 0.0 -0.001056687; … ; -0.0005747766 0.0 … 0.0 0.0; 0.0 0.0 … 0.0 0.0;;; 0.0 0.0 … 0.0 0.0; 0.0 -0.0030515527 … 0.0 -0.006556594; … ; -0.00024884543 0.0 … 0.0 0.0; 0.0 0.0 … 0.0 0.00033729846;;; 0.0 0.008462215 … 0.0017512185 0.0; 0.0 0.0 … 0.0 0.0; … ; 0.0 0.006790467 … -0.00075014133 0.0; 0.0 0.0 … 0.0 0.0;;; 0.016155824 0.0 … 0.0 0.0; 0.0 0.0 … -0.019227661 0.0; … ; 0.0 -0.034669362 … 0.0 0.0; 0.0 0.0 … 0.003092182 0.0;;;;]\n [-0.009261316 0.0063926964 … -0.01999435 0.0008796585; 0.009699351 0.011568704 … 0.026272982 0.0; … ; -0.011497942 -0.03524039 … -0.02286534 0.0016298579; -0.037010647 -0.007060667 … 0.0033363027 0.0019930352;;; -0.01737372 -0.0031509772 … -0.043910682 0.008842118; 0.034196857 -0.036992777 … 0.15116048 -0.101992995; … ; -0.048920307 -0.053745795 … 0.014835594 0.0057605193; -0.08889524 -0.029123753 … 0.022401229 -0.013614937;;; -0.011607387 0.0135606 … 0.024739757 -0.016700782; 0.0005356293 0.026589958 … -0.03634824 -0.01286752; … ; -0.042069018 -0.017135335 … 0.0830067 0.009415721; -0.028508596 -0.0324958 … 0.03596965 -0.0025974074;;; -0.015929772 -0.0096700955 … -0.008353376 0.0; 0.010888569 -0.01768168 … -0.034318775 -0.0038098015; … ; -0.0033397246 -0.019421145 … 0.037028823 0.0005287796; -0.061352503 -0.038572423 … -0.01724846 -5.4767308f-5;;; 0.00081861345 0.0008964935 … -0.0 -0.001056687; 0.0019236945 -0.0 … -0.0 0.04406401; … ; 0.0 0.0 … -0.0026718448 -0.010401798; -0.00057477667 -0.0 … -0.0 0.0;;; -0.0030515527 -0.008995676 … -0.0 -0.006556594; -0.017884728 -0.01085441 … 0.042463683 -0.05954869; … ; -0.011118467 -0.002841977 … -0.016393254 0.04498308; -0.00024884552 0.011238038 … -0.0 0.00033729846;;; 0.008462215 -0.0003171608 … -0.01629822 0.0017512185; -0.012440011 -0.014116304 … -0.060379215 0.022789154; … ; -0.0004448889 -0.05720957 … 0.078299746 -0.00069397496; 0.006790467 -0.029435638 … -0.023740338 -0.00075014133;;; 0.016155824 -0.0023163797 … -0.077301614 -0.019227661; -0.031215882 -0.055918183 … -0.16301835 0.036960512; … ; -0.10926762 -0.14429146 … 0.019233515 -0.004956583; -0.034669362 -0.10855089 … 0.0045448914 0.003092182;;;;]\n [-0.0 0.0 … 0.0 0.0; 0.0 0.0 … -0.03429152 0.00010002236; … ; -0.0 0.004288396 … 0.0024049736 0.0056167766; 0.0 -0.0026149182 … -0.0022920163 -0.0013437595;;; 0.0 0.0 … -0.0 0.0; 0.0 -0.0 … 0.0 -0.0; … ; -0.0 -0.0 … 0.0 -0.0; 0.0 0.0 … -0.0 -0.0;;; -0.004034705 0.0 … 0.0011194685 0.00052006537; -0.0 -0.0 … 0.0 0.017967623; … ; 0.0 -0.0 … -0.0 0.004076075; 0.0 -0.0 … -0.0 0.0010453137;;; … ;;; 0.006145701 -0.010527506 … 0.0008389315 -0.0; 0.0 0.0024980083 … -0.022920199 -0.0; … ; -0.01657948 -0.014540814 … 0.02517354 0.006860772; -0.014277557 -0.030617364 … 0.015114311 0.0038295903;;; -0.0 -7.917025f-5 … -0.0041849962 -0.00043741343; -0.0022761498 0.0075792386 … -0.027446775 0.00011923209; … ; -0.0017414166 -0.0 … -0.0024235279 -0.0; -0.0 0.0 … 0.0 0.0;;; -0.0 0.0 … -0.0 0.0; -0.0 0.0 … 0.0 0.0; … ; -0.0 -0.0 … -0.0 -0.0; 0.0 0.0 … 0.0 0.0;;;;]\n [-0.00012384252 0.0548546 … 0.019627033 0.04916539; -0.0 -0.00012546398 … -0.022247355 -0.017167281; … ; -0.0 -0.081871964 … -0.0 0.033107556; -0.0 -0.0 … -4.6104054f-5 -0.0008809537;;; -0.0 -0.0 … -0.0 -0.0; -0.0 -0.0 … 0.0017614953 -5.051764f-5; … ; -0.0 -0.0060410458 … -0.0027201646 -0.010916993; -0.0 0.0016200258 … -0.0016924686 0.0076191346;;; 0.009444945 -9.2460454f-5 … -0.0 -6.3323155f-6; -0.00018681717 -0.038598545 … -0.0 -0.0; … ; -0.00014202412 -0.00012301166 … -0.0 -0.00013253078; -0.0 -0.0 … -0.0 -0.0;;; -0.0017766682 -0.13727199 … -0.013449089 -0.0; -0.008367483 -0.032735266 … -0.08023479 -0.012729474; … ; -0.006616699 -0.014499425 … -0.01457052 -0.01213334; -0.0030774127 -0.016297666 … -0.012157532 0.049350187;;; 0.0 3.8078553f-5 … 0.0009202621 0.0; 0.0023704155 0.0006041575 … 0.0051891464 0.00573301; … ; 0.0009431169 0.0019080581 … 0.0017724269 0.03494698; 0.0007430268 -0.02770595 … -0.012117591 -0.02490056;;; -0.0 -0.0 … -0.00013491296 -0.00012626739; -0.0 0.0041940357 … -0.00014058016 -0.000493942; … ; -0.0 -0.0 … -0.0 -0.0; -0.0 -0.0 … -0.0 -0.0;;; -0.016806476 0.0 … 0.0 0.0; 0.008789354 0.0 … 0.0 0.0; … ; -0.0012811456 0.0 … 0.0 0.0; 0.0 0.0 … 0.0 0.0;;; 0.0 0.0 … 0.0 0.0; 0.0 0.0 … 0.0 0.0; … ; 0.0 0.0 … 0.0 0.0; 0.0 0.00078600185 … 1.0612472f-6 0.008213447;;;;]\n [-0.0 0.022504356 … 0.005857977 0.008828665; -0.0 0.0 … -0.0021577796 -0.0026508945; … ; 0.0 -0.0059782034 … -0.0 0.00703223; -0.0 -0.0 … 0.0 -0.00036547924;;; -0.0 -0.0 … -0.0 0.0; 0.0 0.0 … 0.001383092 0.0009777226; … ; -0.0 -0.00080242084 … -0.00050462264 -0.006591678; -0.0 0.0016362065 … -0.0005695051 0.007676307;;; 0.00692609 -0.0011890458 … 0.0 0.0; 0.0011828352 -0.0029691749 … 0.0 0.0; … ; 0.003661132 -0.0013487954 … -0.0 7.094106f-5; -0.0 0.0 … -0.0 0.0;;; 0.0003827947 -0.015143129 … 0.017389264 -0.0; 0.0007983391 -0.0016483534 … -0.009007001 0.007992243; … ; -0.0004012354 0.015005585 … -0.0066715153 0.003991332; -0.0019849187 0.0032096675 … 0.0014655826 0.012528275;;; 0.0 -0.0 … 0.0014186507 -0.0; -0.00034239786 -4.5477285f-5 … 0.012895564 0.0057092407; … ; -0.003913774 -0.0026974846 … 0.0026469992 0.0012249295; -0.0010449715 -0.00040257597 … -0.008894034 -0.018073408;;; -0.0 0.0 … 0.00011518372 -8.162588f-5; 0.0 0.004594414 … 0.00015139353 0.00032459147; … ; 0.0 -0.0 … -0.0 0.0; -0.0 0.0 … 0.0 0.0;;; -0.020616775 0.0 … 0.0 0.0; -0.00031734654 0.0 … -0.0 -0.0; … ; -0.0006723549 0.0 … 0.0 -0.0; 0.0 -0.0 … -0.0 0.0;;; -0.0 0.0 … 0.0 0.0; -0.0 -0.0 … 0.0 0.0; … ; -0.0 0.0 … -0.0 -0.0; -0.0 0.0013032019 … 0.00021294595 0.009331561;;;;]\n [-0.0; -0.0; … ; -0.0; 0.009331561;;]\n [0.0; -0.00044186082; … ; -0.012436175; 0.0;;]\n [0.0; -0.00044186082; … ; -0.012436175; 0.011619228;;]\n [0.0; 0.0; … ; 0.0; 0.0;;]"
     },
     "metadata": {},
     "execution_count": 10
    }
   ],
   "cell_type": "code",
   "source": [
    "analyzer = LRP(model; flatten=false) # use unflattened model\n",
    "\n",
    "expl = analyze(input, analyzer; layerwise_relevances=true)\n",
    "expl.extras.layerwise_relevances"
   ],
   "metadata": {},
   "execution_count": 10
  },
  {
   "cell_type": "markdown",
   "source": [
    "## Performance tips\n",
    "### Using LRP without a GPU\n",
    "Since ExplainableAI.jl's LRP implementation makes use of\n",
    "[Tullio.jl](https://github.com/mcabbott/Tullio.jl),\n",
    "analysis can be accelerated by loading either\n",
    "- a package from the [JuliaGPU](https://juliagpu.org) ecosystem,\n",
    "  e.g. [CUDA.jl](https://github.com/JuliaGPU/CUDA.jl), if a GPU is available\n",
    "- [LoopVectorization.jl](https://github.com/JuliaSIMD/LoopVectorization.jl)\n",
    "  if only a CPU is available.\n",
    "\n",
    "This only requires loading the LoopVectorization.jl package before ExplainableAI.jl:\n",
    "```julia\n",
    "using LoopVectorization\n",
    "using ExplainableAI\n",
    "```\n",
    "\n",
    "[^1]: G. Montavon et al., [Layer-Wise Relevance Propagation: An Overview](https://link.springer.com/chapter/10.1007/978-3-030-28954-6_10)"
   ],
   "metadata": {}
  },
  {
   "cell_type": "markdown",
   "source": [
    "---\n",
    "\n",
    "*This notebook was generated using [Literate.jl](https://github.com/fredrikekre/Literate.jl).*"
   ],
   "metadata": {}
  }
 ],
 "nbformat_minor": 3,
 "metadata": {
  "language_info": {
   "file_extension": ".jl",
   "mimetype": "application/julia",
   "name": "julia",
   "version": "1.9.3"
  },
  "kernelspec": {
   "name": "julia-1.9",
   "display_name": "Julia 1.9.3",
   "language": "julia"
  }
 },
 "nbformat": 4
}
