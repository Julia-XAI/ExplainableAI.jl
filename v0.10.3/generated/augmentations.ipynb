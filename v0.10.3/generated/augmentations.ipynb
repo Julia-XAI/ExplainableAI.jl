{
 "cells": [
  {
   "cell_type": "markdown",
   "source": [
    "# Analyzer augmentations\n",
    "All analyzers implemented in ExplainableAI.jl can be augmented by two types of augmentations:\n",
    "`NoiseAugmentation`s and `InterpolationAugmentation`s.\n",
    "These augmentations are wrappers around analyzers\n",
    "that modify the input before passing it to the analyzer.\n",
    "\n",
    "We build on the basics shown in the *Getting started* section\n",
    "and start out by loading the same pre-trained LeNet5 model and MNIST input data:"
   ],
   "metadata": {}
  },
  {
   "outputs": [
    {
     "output_type": "execute_result",
     "data": {
      "text/plain": "Chain(\n  Conv((5, 5), 1 => 6, relu),           \u001b[90m# 156 parameters\u001b[39m\n  MaxPool((2, 2)),\n  Conv((5, 5), 6 => 16, relu),          \u001b[90m# 2_416 parameters\u001b[39m\n  MaxPool((2, 2)),\n  Flux.flatten,\n  Dense(256 => 120, relu),              \u001b[90m# 30_840 parameters\u001b[39m\n  Dense(120 => 84, relu),               \u001b[90m# 10_164 parameters\u001b[39m\n  Dense(84 => 10),                      \u001b[90m# 850 parameters\u001b[39m\n) \u001b[90m                  # Total: 10 arrays, \u001b[39m44_426 parameters, 174.344 KiB."
     },
     "metadata": {},
     "execution_count": 1
    }
   ],
   "cell_type": "code",
   "source": [
    "using ExplainableAI\n",
    "using VisionHeatmaps\n",
    "using Zygote\n",
    "using Flux\n",
    "\n",
    "using BSON # hide\n",
    "model = BSON.load(\"../model.bson\", @__MODULE__)[:model] # hide\n",
    "model"
   ],
   "metadata": {},
   "execution_count": 1
  },
  {
   "outputs": [
    {
     "output_type": "execute_result",
     "data": {
      "text/plain": "28×28 reinterpret(reshape, ColorTypes.Gray{Float32}, ::Matrix{Float32}) with eltype ColorTypes.Gray{Float32}:\n 0.0  0.0  0.0  0.0  0.0  0.0  0.0  …  0.0        0.0  0.0  0.0  0.0  0.0\n 0.0  0.0  0.0  0.0  0.0  0.0  0.0     0.0        0.0  0.0  0.0  0.0  0.0\n 0.0  0.0  0.0  0.0  0.0  0.0  0.0     0.0        0.0  0.0  0.0  0.0  0.0\n 0.0  0.0  0.0  0.0  0.0  0.0  0.0     0.0        0.0  0.0  0.0  0.0  0.0\n 0.0  0.0  0.0  0.0  0.0  0.0  0.0     0.0        0.0  0.0  0.0  0.0  0.0\n 0.0  0.0  0.0  0.0  0.0  0.0  0.0  …  0.0        0.0  0.0  0.0  0.0  0.0\n 0.0  0.0  0.0  0.0  0.0  0.0  0.0     0.0        0.0  0.0  0.0  0.0  0.0\n 0.0  0.0  0.0  0.0  0.0  0.0  0.0     0.0        0.0  0.0  0.0  0.0  0.0\n 0.0  0.0  0.0  0.0  0.0  0.0  0.0     0.0235294  0.0  0.0  0.0  0.0  0.0\n 0.0  0.0  0.0  0.0  0.0  0.0  0.0     0.407843   0.0  0.0  0.0  0.0  0.0\n ⋮                        ⋮         ⋱                       ⋮         \n 0.0  0.0  0.0  0.0  0.0  0.0  0.0     0.0        0.0  0.0  0.0  0.0  0.0\n 0.0  0.0  0.0  0.0  0.0  0.0  0.0  …  0.0        0.0  0.0  0.0  0.0  0.0\n 0.0  0.0  0.0  0.0  0.0  0.0  0.0     0.0        0.0  0.0  0.0  0.0  0.0\n 0.0  0.0  0.0  0.0  0.0  0.0  0.0     0.0        0.0  0.0  0.0  0.0  0.0\n 0.0  0.0  0.0  0.0  0.0  0.0  0.0     0.0        0.0  0.0  0.0  0.0  0.0\n 0.0  0.0  0.0  0.0  0.0  0.0  0.0     0.0        0.0  0.0  0.0  0.0  0.0\n 0.0  0.0  0.0  0.0  0.0  0.0  0.0  …  0.0        0.0  0.0  0.0  0.0  0.0\n 0.0  0.0  0.0  0.0  0.0  0.0  0.0     0.0        0.0  0.0  0.0  0.0  0.0\n 0.0  0.0  0.0  0.0  0.0  0.0  0.0     0.0        0.0  0.0  0.0  0.0  0.0",
      "image/png": "[encoded data removed]",
      "text/html": [
       "<img src=\"data:image/png;base64,iVBORw0KGgoAAAANSUhEUgAAAHAAAABwCAAAAADji6uXAAAAAXNSR0IArs4c6QAAAARnQU1BAACxjwv8YQUAAAAgY0hSTQAAeiYAAICEAAD6AAAAgOgAAHUwAADqYAAAOpgAABdwnLpRPAAAAjhJREFUaAW9wb2L1gUAB/DPcd+oQaPswCGqpSGHXqYTapGgJSg4CeoPcEiECqFDpCGwTdIQImuIsGiTtmjJgl6GoKEiIhqCoMQsOOhFy85r+A3H8fTo73mM7+cTZVEWZVEWZVEWZVEWZVEWZVEWZVEWZVEWZVEWZVEWZVEWZVEWZVEWZVEWc7gTS1jBHlzGSXyK71xZlEVZlMUM7sYB7MWSrXbjH3yLj/E0/jYpyqIsymKEe3AAj+NGgx/xEb7HKj7HMnbgYXyBkyZFWZRFWVzFq1jBksH7+AqHcdHgfuzH67gP5/AyTuO8raIsyqIsprgBq9iHBZzHKziKP2x1CxbxPN7DHaaLsiiLsphiD57FAn7CXnxmq0XchlN4FzcbLOBNrJkUZVEWZTHFItYNLmE3HsNdBhewC7vwC3badA4v4JJJURZlURZTnMEHeAi34wQ2DNaxaNNOg8t4B0/hrP8WZVEWZTHFBazgJhzCA/gVP+B63ItlW72Gw1gzXZRFWZTFVazhkEmnsGzwGw7iDay7siiLsiiLOaziCZv2423jRFmURVnMaB+eQwy+xmnjRVmURVnMYBkvYpvB73gSfxkvyqIsymIGj2C7wZ94FJ+YTZRFWZTFSNuxatNb+NDsoizKoixG2IZvcJ3Bl3jGfKIsyqIsRngQt2LD4CAumk+URVmUxQhHsGFwFGfML8qiLMpihB1YwM94ybWJsiiLshjhGI7hCM66NlEWZVEWIxzHcf+PKIuyKPsXNwdYfgiRxs8AAAAASUVORK5C\">"
      ]
     },
     "metadata": {},
     "execution_count": 2
    }
   ],
   "cell_type": "code",
   "source": [
    "using MLDatasets\n",
    "using ImageCore, ImageIO, ImageShow\n",
    "\n",
    "index = 10\n",
    "x, y = MNIST(Float32, :test)[10]\n",
    "input = reshape(x, 28, 28, 1, :)\n",
    "\n",
    "convert2image(MNIST, x)"
   ],
   "metadata": {},
   "execution_count": 2
  },
  {
   "cell_type": "markdown",
   "source": [
    "## Noise augmentation\n",
    "The `NoiseAugmentation` wrapper computes explanations averaged over noisy inputs.\n",
    "Let's demonstrate this on the `Gradient` analyzer.\n",
    "First, we compute the heatmap of an explanation without augmentation:"
   ],
   "metadata": {}
  },
  {
   "outputs": [
    {
     "output_type": "execute_result",
     "data": {
      "text/plain": "1-element Vector{Matrix{ColorTypes.RGB{Float64}}}:\n [RGB(0.542044692993164, 0.5190736373901367, 0.18255157775878905) RGB(0.5405419067382813, 0.5186877868652343, 0.18299835205078127) … RGB(0.5501000518798829, 0.5211419052124023, 0.18022431030273436) RGB(0.5480906158447265, 0.5206259689331054, 0.18076740112304687); RGB(0.5577551651000977, 0.5230979751586914, 0.1782020248413086) RGB(0.5673554992675781, 0.5255300598144531, 0.17589942016601562) … RGB(0.550458218383789, 0.5212338668823242, 0.18012750854492188) RGB(0.5480906158447265, 0.5206259689331054, 0.18076740112304687); … ; RGB(0.5540689025878907, 0.5221609344482422, 0.17915164794921876) RGB(0.5669629669189453, 0.5254306182861328, 0.17598839416503906) … RGB(0.5511143676757813, 0.5214023376464844, 0.1799501708984375) RGB(0.5480906158447265, 0.5206259689331054, 0.18076740112304687); RGB(0.5480906158447265, 0.5206259689331054, 0.18076740112304687) RGB(0.5480906158447265, 0.5206259689331054, 0.18076740112304687) … RGB(0.5480906158447265, 0.5206259689331054, 0.18076740112304687) RGB(0.5480906158447265, 0.5206259689331054, 0.18076740112304687)]",
      "text/html": [
       "<table><tbody><tr><td style='text-align:center;vertical-align:middle; margin: 0.5em;border:1px #90999f solid;border-collapse:collapse'><img style='max-width: 100px; max-height:100px;display:inline' src=\"data:image/png;base64,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\"></td></tr></tbody></table><div><small>(a vector displayed as a row to save space)</small></div>"
      ]
     },
     "metadata": {},
     "execution_count": 3
    }
   ],
   "cell_type": "code",
   "source": [
    "analyzer = Gradient(model)\n",
    "heatmap(input, analyzer)"
   ],
   "metadata": {},
   "execution_count": 3
  },
  {
   "cell_type": "markdown",
   "source": [
    "Now we wrap the analyzer in a `NoiseAugmentation` with 10 samples of noise.\n",
    "By default, the noise is sampled from a Gaussian distribution\n",
    "with mean 0 and standard deviation 1."
   ],
   "metadata": {}
  },
  {
   "outputs": [
    {
     "name": "stdout",
     "output_type": "stream",
     "text": [
      "\rSampling NoiseAugmentation...   4%|▉                     |  ETA: 0:00:21\u001b[K\rSampling NoiseAugmentation... 100%|██████████████████████| Time: 0:00:01\u001b[K\n"
     ]
    },
    {
     "output_type": "execute_result",
     "data": {
      "text/plain": "1-element Vector{Matrix{ColorTypes.RGB{Float64}}}:\n [RGB(0.4097003479003906, 0.4824554809570312, 0.24119520263671873) RGB(0.4130999641418457, 0.48339691314697264, 0.2394169418334961) … RGB(0.4153353805541992, 0.48401595153808596, 0.23824764709472657) RGB(0.4110183792114258, 0.48282047424316404, 0.24050577087402342); RGB(0.4054578819274902, 0.4812184577941894, 0.24341433868408202) RGB(0.4075455169677734, 0.4818286895751953, 0.2423223449707031) … RGB(0.4252706283569336, 0.4868976051330566, 0.23307270660400392) RGB(0.41576553344726563, 0.4841350708007813, 0.23802264404296875); … ; RGB(0.4098558654785156, 0.48249854736328124, 0.24111385498046872) RGB(0.4103134422302246, 0.48262526092529295, 0.24087450714111328) … RGB(0.4107265853881836, 0.4827396697998047, 0.2406584014892578) RGB(0.40903523254394525, 0.48226414489746094, 0.24154310913085936); RGB(0.414040111541748, 0.48365726165771483, 0.23892517242431638) RGB(0.4115616989135742, 0.48297093200683594, 0.24022157287597656) … RGB(0.4049440193176269, 0.48106825180053714, 0.24368312835693356) RGB(0.41039863967895507, 0.4826488540649414, 0.24082994232177732)]",
      "text/html": [
       "<table><tbody><tr><td style='text-align:center;vertical-align:middle; margin: 0.5em;border:1px #90999f solid;border-collapse:collapse'><img style='max-width: 100px; max-height:100px;display:inline' src=\"data:image/png;base64,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\"></td></tr></tbody></table><div><small>(a vector displayed as a row to save space)</small></div>"
      ]
     },
     "metadata": {},
     "execution_count": 4
    }
   ],
   "cell_type": "code",
   "source": [
    "analyzer = NoiseAugmentation(Gradient(model), 50)\n",
    "heatmap(input, analyzer)"
   ],
   "metadata": {},
   "execution_count": 4
  },
  {
   "cell_type": "markdown",
   "source": [
    "Note that a higher sample size is desired, as it will lead to a smoother heatmap.\n",
    "However, this comes at the cost of a longer computation time.\n",
    "\n",
    "We can also set the standard deviation of the Gaussian distribution:"
   ],
   "metadata": {}
  },
  {
   "outputs": [
    {
     "output_type": "execute_result",
     "data": {
      "text/plain": "1-element Vector{Matrix{ColorTypes.RGB{Float64}}}:\n [RGB(0.5208006225585937, 0.513433497619629, 0.1897331085205078) RGB(0.517755825805664, 0.5126276153564453, 0.1908449676513672) … RGB(0.5255685791015624, 0.5146917083740234, 0.18801134643554687) RGB(0.5238296630859374, 0.5142328277587891, 0.18863928833007812); RGB(0.5226390747070312, 0.5139186447143556, 0.18906922302246093) RGB(0.5242807617187499, 0.5143518676757813, 0.1884763916015625) … RGB(0.5259908645629883, 0.5148070861816406, 0.18786614227294923) RGB(0.5230268920898437, 0.5140209854125977, 0.1889291778564453); … ; RGB(0.5209016967773438, 0.5134601699829102, 0.18969660949707032) RGB(0.52383779296875, 0.5142349731445313, 0.1886363525390625) … RGB(0.5216845825195312, 0.513666764831543, 0.18941390075683595) RGB(0.5223268432617187, 0.5138362503051759, 0.18918197326660158); RGB(0.5239263427734375, 0.5142583404541016, 0.1886043762207031) RGB(0.5245416870117187, 0.5144207229614258, 0.18838216857910156) … RGB(0.52075283203125, 0.5134208862304688, 0.1897503662109375) RGB(0.5226480834960937, 0.5139210220336914, 0.1890659698486328)]",
      "text/html": [
       "<table><tbody><tr><td style='text-align:center;vertical-align:middle; margin: 0.5em;border:1px #90999f solid;border-collapse:collapse'><img style='max-width: 100px; max-height:100px;display:inline' src=\"data:image/png;base64,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\"></td></tr></tbody></table><div><small>(a vector displayed as a row to save space)</small></div>"
      ]
     },
     "metadata": {},
     "execution_count": 5
    }
   ],
   "cell_type": "code",
   "source": [
    "analyzer = NoiseAugmentation(Gradient(model), 50, 0.1)\n",
    "heatmap(input, analyzer)"
   ],
   "metadata": {},
   "execution_count": 5
  },
  {
   "cell_type": "markdown",
   "source": [
    "When used with a `Gradient` analyzer, this is equivalent to `SmoothGrad`:"
   ],
   "metadata": {}
  },
  {
   "outputs": [
    {
     "output_type": "execute_result",
     "data": {
      "text/plain": "1-element Vector{Matrix{ColorTypes.RGB{Float64}}}:\n [RGB(0.39289619140625, 0.47753011932373046, 0.25017083282470703) RGB(0.39103837890625, 0.47697858123779296, 0.2511868240356445) … RGB(0.3982130241394043, 0.47910073013305665, 0.24727760238647462) RGB(0.40088385009765626, 0.4798814331054687, 0.24583946533203124); RGB(0.391654833984375, 0.47716159133911135, 0.2508497001647949) RGB(0.390688623046875, 0.47687474746704106, 0.25137809677124023) … RGB(0.4209193840026855, 0.4856379737854004, 0.2353267837524414) RGB(0.4085575218200683, 0.48212450637817383, 0.24179298858642576); … ; RGB(0.39706132125854493, 0.47876407852172853, 0.24789775009155274) RGB(0.3975478096008301, 0.4789062828063965, 0.24763579483032228) … RGB(0.389785595703125, 0.4766066612243653, 0.2518670272827148) RGB(0.3943451171875, 0.4779602691650391, 0.24937845153808594); RGB(0.3976114845275879, 0.47892489547729494, 0.24760150833129885) RGB(0.39541958007812505, 0.4782792503356934, 0.2487908546447754) … RGB(0.389548291015625, 0.4765362113952637, 0.25199309539794923) RGB(0.39438740234375, 0.47797282257080076, 0.2493553268432617)]",
      "text/html": [
       "<table><tbody><tr><td style='text-align:center;vertical-align:middle; margin: 0.5em;border:1px #90999f solid;border-collapse:collapse'><img style='max-width: 100px; max-height:100px;display:inline' src=\"data:image/png;base64,iVBORw0KGgoAAAANSUhEUgAAAHAAAABwCAIAAABJgmMcAAAAAXNSR0IArs4c6QAAAARnQU1BAACxjwv8YQUAAAAgY0hSTQAAeiYAAICEAAD6AAAAgOgAAHUwAADqYAAAOpgAABdwnLpRPAAACpRJREFUeAHtwUmvZdddxuHfWuu/9z7t7cq3estxE0dOiIBEglhEBJD4AjBAKAz5FHyZSBmAkGAMZBJFCEVKMCaOMcaWXbhcrjK3blv3dLtZazF6z8ngRghpD/fz2F/+1R9wE0dGHDsZh8TskCYFpM2Bm2R25qFGvMtI5Tsk4ZGYHZKyY8ch5iJiLiHBZSSz02WPpOyQhENydvx/GINeGYNeGYNeGb9GxiExO6TLHknZIV0OyDoWiGNnZjWScUhwCWmSIZmddSyQjEMyO3uWkNJHpPQRqXxENtGQJgcks9Mlz00SDonZI8agV8agV8agV+bJiHcZcWQk4pE6GZJwSMwOKX2H1KlANsmQlB2ySQXiScgmFciiK5E2B2QSWiTjkJgdcq9aIG+MGqTJNXIVPXLVFchFO0LaFJDMTsoOMQa9Mga9Mga9sjYHpIkBedGNkHUskJgd4l1GjssFUqcCuW4rZB2nSBMDslfWSJ0MKVxE6mRIzmytfYE830yRkXVI6SPy2EckZoe02SPn7QhZxgpxZCS4hGQcYgx6ZQx6ZQx6ZW3yyCYZsuhKxLGzZzVyb/QCuVstEE9GLrsRct6Mkc/XB2w5trqcEO8y0sSAXK4KZL10SDVhy7uMnK3HyPF4hdQpIAfFBmlSQMahRfaLNTLyHRJxiDHolTHolTHolWUcUrqIHBZrbnKrXCL7tkEmvkPMsXXWOmRqDTIKHbKKBeLJyNPFDEnJIfXGIcHYyWyl7JBlY0hlFTIvamRuNZLYObANMrMayTikTQExBr0yBr0yBr0y7zIyDi1y6NbIzBrkbrlCTtsRctFVyDIWyGkzRZZdhXx8eYRsGo+Mq4jMqxZZtYbcPopIzmzl7JA6eiQ4ttrokRe5QoJLyL3RNZLZ6XJAUnaIIyPGoFfGoFfGoFfmyIgnIwmHTEKLTENGJmGN3C48chQc8rR9hjxrPBJxyHVbIb9z8Dlyq9wgvzFxyGEYIxNfIXM/R67TAnlndYL85OIe8unyCDGXkMt2hDRphsytRvZsgwSXEGPQK2PQK2PQK/MuI132SBMDcu7HyHHRIA9Kj9y1OVL5Ajm2A+TVcoF8d36BfLC5QH5rfIwchHtIzBE5rl5GZvu/zdb0FbaWj5A7Zz9GRv59ZHHwJfLOi1vI4/UhcrqZILFySHAJKVxEjEGvjEGvjEGvzFxCUnbIMlbIal0iq1ggd47OkERC3pj+JjKZf4Ot2RtIOv8Z8vD6XeSgeoh8tnwfedycINdpgczqz5CXygfIVfscqfMGmXmPPG8zsugq5LqtkJFF5LqtkKNyjTjHljHolTHolTHolQWXkMJlxFxEzpop8uniCPlocYz83tF/Iyfdj5HvxRXywdMfIAdhjvzk+inypP4UebLZQ/7j6i1kZBGZhgbp8hny0fND5I9feYQ8HJXInXKDvH3wDKlCh1y2YyS4hJSu4ybGoFfGoFfGoFdmLnGTO9UCmVuNzGyKfH12gvzJ0QiJuUT++vSnSJcd8qBcIM6x9WSzh1y0E+SzxxXSXiQkNxWy+KJFMmvkR997FfmjrzxGSneGLGPBTdaxQDI7s6pGCp8QY9ArY9ArY9Ary9khzmVkFhrkbrVEvntwgsTM1r8s1si/vbiN/O7+FXJoCfnnq33k5dECealcIfera6R4KyJ7xQb5zv4JElxGUnZI5TPy6XqEnLVj5LIdIR8ubiPj0CJzq5HSR6TyHWIMemUMemUMemUJhxzaBnlQrZFvTebIfjhGTrtLZJM75A/nGXnr8M8R/8r3ke9fvY/kxSfIuyd/h/zT1Qb51v4z5O15QH7/+C/Y8oY0m2fIh9f/isz9OfKj8xk3OSzXSCAh49AiKTsk4RFj0Ctj0Ctj0CurfId4MnK/9Ih3HimcIXeLW8jYT5AH9/4MyUffRtL4PhLOf44sF/+FvLO6QH568RoyCi1S+S+QN6qfIffm30Y23SXytLtC6pyRiEO+2OwjTQrIsiuRO6MFkrNDEjViDHplDHplDHplwWUk4ZCAQz6pr5CzsESuYoeMvEfqL36IlM/+Fhn7KfLL9QfIe6sa+ftnX0cenc6QnNhadiXydPMMeX3yN8jHqz2kyzNk0VXIz88eIHXnkSJk5M5khXiXkC57JGWHGINeGYNeGYNeWc5sOXaeNhE56wrkyWaOfLY+RNaxQL45f4a8Mr5GvjObItexQZ5uJkjpI+I9W8vzjJwczZDXJufIL65vIR8tjpFH53tI27DV1WxVU7Zm8wZ5OL5EYnZI4RNS+YgYg14Zg14Zg15ZxCNd9sgn6xly0Y6Rj5cvIe9/OEOuP6qRX7z2VeTgZYf84+El8uhqHzn/nK14lZDmskZSZOtRWyDtV7+CbNqAeJeRskjI67eukdJH5LBYIZWPyEGxRm4Va+TJZo+bGINeGYNeGYNeWZ0CkrJDHBnpskfqaEgxd8jkfoG4wiEvTth6938OkOUnDVLsByRtEluZrdGtgMRVQj77d4cUtxzizSO373aIIyMPRlfIQbFBSheRUeiQhEOaHJDgEmIMemUMemUMemUpe6TODmlSQC7aMbJsDQkFW6N7AYk1W9WcrdVJQro6I6WxVd41ZH7XIzmztXiakDDzyGjO1teOL5G3Dx8jb0zWyKvlFFnnjq2ckf9cd8hpWyGejHTJI8agV8agV8agV5bYydkjq1gidTKkChG5fxSRu+NrZNmVyHk9Rs5ciZQHI2Q2z0hhCfnTh79EgkvIP+y/iYxChyQcMg4tMgoRebPaRw7CHIm5Qz5uniPmM2IuIyPfIatUIMagV8agV8agVxazR+pkyCYZsomGTKxFRqFDHDsvmgppokdmk4jUhUduz1bIN/e+RF4fr5CvjfaQl6v3kE12yGlTIfeqGnl7ehtpcotM/AR53p0ilfNI5SJS+IQ4l5FAQoxBr4xBr4xBr6xJAWlTYMchpY/I1BpkEw25bEbIi7pEuuiQ27M1sjFD7o2ukZg98vF6goz9NfKN8R7ysLyPHE/eRJ4u3keWaYXEnJAn7ZfIe6tr5EUMyDqOkGUsuIn5hBiDXhmDXhmDXhm/ovIdMvItclxGJOGQ8zxBUuiQV/cvkUBG5lYjhY9I4SNSp4CMfURmISCVKxGHR1bNCXIRr5CP6nPkSR2QF7FArrs9pE0BCS4hCYd4MjcxBr0yBr0yBr2ywiUkuIR4l5HgEtIkQ7zLyH6xRqbWIIWLyIPRNdJlj5zUU8T5jFx1JfLecoN8WZwi03CGBMfWJ2tDPljcRS67MVK6yE2m1iBzq5GUHZLJbGW2jEGvjEGvjEGvrPQdYi4hGYek7JDgEnJga6T0EfEuI+YSErNHuuSRdSqQNnnknJ1VLJBndUbWsUDa7JGzZoKc1lOkSQHZK2rkpWqJ5MxWHQ3J7ASXuIkx6JUx6JUx6JXxK7rsuYljx5MR8wlxLiOZHUdG6uSRTTLEkZFpaJEue+SinSCT0CAnzQypoyEJh8yLBplajVS+Q/asRmL2iHMZidkjDod4doxBr4xBr4xBr4xfI+PYydzEkZGcHZLZaQlIig5x7Ix8hyQcUrjITZaxRCrfIbNQIwmP1NGQeagR59jaJEMKl5A2ecQ7/k/GoFfGoFfGoFf/C+hcLNvkVhwLAAAAAElFTkSuQmCC\"></td></tr></tbody></table><div><small>(a vector displayed as a row to save space)</small></div>"
      ]
     },
     "metadata": {},
     "execution_count": 6
    }
   ],
   "cell_type": "code",
   "source": [
    "analyzer = SmoothGrad(model, 50)\n",
    "heatmap(input, analyzer)"
   ],
   "metadata": {},
   "execution_count": 6
  },
  {
   "cell_type": "markdown",
   "source": [
    "We can also use any distribution from\n",
    "[Distributions.jl](https://github.com/JuliaStats/Distributions.jl),\n",
    "for example Poisson noise with rate $\\lambda=0.5$:"
   ],
   "metadata": {}
  },
  {
   "outputs": [
    {
     "output_type": "execute_result",
     "data": {
      "text/plain": "1-element Vector{Matrix{ColorTypes.RGB{Float64}}}:\n [RGB(0.40371044158935554, 0.4807076675415039, 0.24432838439941407) RGB(0.40276657485961914, 0.48043176803588866, 0.24482569046020508) … RGB(0.40463238906860355, 0.4809771598815918, 0.24384613494873048) RGB(0.4058535194396973, 0.481334105682373, 0.24320738983154297); RGB(0.4020540504455567, 0.48022349166870115, 0.24520935745239258) RGB(0.40539093399047854, 0.4811988883972168, 0.2434493576049805) … RGB(0.4119001083374023, 0.4830646453857422, 0.2400445587158203) RGB(0.4069070816040039, 0.4816420700073242, 0.2426562957763672); … ; RGB(0.40038630294799804, 0.4797359962463379, 0.24610737533569338) RGB(0.39755356216430665, 0.4789079643249512, 0.24763269729614257) … RGB(0.39787476348876955, 0.47900185394287115, 0.24745974273681642) RGB(0.402008773803711, 0.48021025695800784, 0.24523373718261718); RGB(0.40296340179443363, 0.4804893020629883, 0.24471970672607424) RGB(0.39817171478271485, 0.47908865509033205, 0.24729984588623047) … RGB(0.40017529296875, 0.47967431640625, 0.24622099609374998) RGB(0.40412928771972656, 0.4808300994873047, 0.24410929565429687)]",
      "text/html": [
       "<table><tbody><tr><td style='text-align:center;vertical-align:middle; margin: 0.5em;border:1px #90999f solid;border-collapse:collapse'><img style='max-width: 100px; max-height:100px;display:inline' src=\"data:image/png;base64,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\"></td></tr></tbody></table><div><small>(a vector displayed as a row to save space)</small></div>"
      ]
     },
     "metadata": {},
     "execution_count": 7
    }
   ],
   "cell_type": "code",
   "source": [
    "using Distributions\n",
    "\n",
    "analyzer = NoiseAugmentation(Gradient(model), 50, Poisson(0.5))\n",
    "heatmap(input, analyzer)"
   ],
   "metadata": {},
   "execution_count": 7
  },
  {
   "cell_type": "markdown",
   "source": [
    "Is is also possible to define your own distributions or mixture distributions.\n",
    "\n",
    "`NoiseAugmentation` can be combined with any analyzer type from the Julia-XAI ecosystem,\n",
    "for example `LRP` from [RelevancePropagation.jl](https://github.com/Julia-XAI/RelevancePropagation.jl)."
   ],
   "metadata": {}
  },
  {
   "cell_type": "markdown",
   "source": [
    "## Integration augmentation\n",
    "The `InterpolationAugmentation` wrapper computes explanations\n",
    "averaged over `n` steps of linear interpolation between the input and a reference input,\n",
    "which is set to `zero(input)` by default:"
   ],
   "metadata": {}
  },
  {
   "outputs": [
    {
     "output_type": "execute_result",
     "data": {
      "text/plain": "1-element Vector{Matrix{ColorTypes.RGB{Float64}}}:\n [RGB(0.7892717529296875, 0.5711786254882814, 0.23524071044921874) RGB(0.7892717529296875, 0.5711786254882814, 0.23524071044921874) … RGB(0.7892717529296875, 0.5711786254882814, 0.23524071044921874) RGB(0.7892717529296875, 0.5711786254882814, 0.23524071044921874); RGB(0.7892717529296875, 0.5711786254882814, 0.23524071044921874) RGB(0.7892717529296875, 0.5711786254882814, 0.23524071044921874) … RGB(0.7892717529296875, 0.5711786254882814, 0.23524071044921874) RGB(0.7892717529296875, 0.5711786254882814, 0.23524071044921874); … ; RGB(0.7892717529296875, 0.5711786254882814, 0.23524071044921874) RGB(0.7892717529296875, 0.5711786254882814, 0.23524071044921874) … RGB(0.7892717529296875, 0.5711786254882814, 0.23524071044921874) RGB(0.7892717529296875, 0.5711786254882814, 0.23524071044921874); RGB(0.7892717529296875, 0.5711786254882814, 0.23524071044921874) RGB(0.7892717529296875, 0.5711786254882814, 0.23524071044921874) … RGB(0.7892717529296875, 0.5711786254882814, 0.23524071044921874) RGB(0.7892717529296875, 0.5711786254882814, 0.23524071044921874)]",
      "text/html": [
       "<table><tbody><tr><td style='text-align:center;vertical-align:middle; margin: 0.5em;border:1px #90999f solid;border-collapse:collapse'><img style='max-width: 100px; max-height:100px;display:inline' src=\"data:image/png;base64,iVBORw0KGgoAAAANSUhEUgAAAHAAAABwCAIAAABJgmMcAAAAAXNSR0IArs4c6QAAAARnQU1BAACxjwv8YQUAAAAgY0hSTQAAeiYAAICEAAD6AAAAgOgAAHUwAADqYAAAOpgAABdwnLpRPAAABE9JREFUeAHtwTtsVQUcx/HvOfd/em/vpdDSNm2RiERRGmvQAU2ML6ImPiJOLo5uLiZuOjo7mDiYaBxcZTWOmiAyGGOwJYIEjYLl2dIH7e3t7T33HKdfWUgM5E8f5v/52E+fPkPwYwRXRnBlBFdGcGUEV0ZwZQRXRnBlBFdGcGUEV0ZwZQRXRnBlBFdGcGUEV0ZwZQRXRnBlBFdGcGUEV0ZwZQRXRnBlBFfGFpaQcEuJTK7MI6eX+5GRahM5vKOCDFTqSEHJvWQEV0ZwZQRXxhZQUiIJCbLQbSIL3Q7SJUFqlRxpFxXk4toqkmcF8lz/80hetJHzK78hBQV3ywiujODKCK6MDdQs2siutI6M9owi8/kccj1fQgYrVWSlaCGHdjSRy2spcmppALlRW0Imev9BWkULGajsQm5057lbRnBlBFdGcGXcY2tljjxS3Y/UswGk0bsPWZo/geyxfiQnR8YrNW6nN72JvNCXICn9yLG580ijUiCdIkEON/qQNEm5E0ZwZQRXRnBl3AOdMkcerU8gu/a9w7ruCjL912fIctFEuhTckvBfXh16A7mw9AvSKtvIWE+BXFg15OHeLh6M4MoIrozgynBSS3qQ8cYTyOLaFaT8+0uk1V1CrubXuRMJCVJNMmRq8ThyujWPrBYJ8mb/QWS5dxmZzeeRNEm5W0ZwZQRXRnBlOFnoNpFPLp1EziwPI5NzDeT9h84gJ+bHkNOLo8gHD/6KTDbryGv9CfLNYgvZaWvIcMa6g7Uqsla0kfsbE0hn+RTSKtvcLSO4MoIrI7gynFQT45YOMjU/gpz7dg15Nz2EZNUE6d1TQU6N1JGvpiaQ9mNnkYVOAxnMVpCibCH7elLkUuc6srB0E8np4sEIrozgygiuDCdJkiCv9NeRIzvPIZ/v3omMVW8ip5fGkKGeJlJNu8iLB6aRH2b2I0fHfud20qREirJE6pUMyenizQiujODKCK6Me6yaZsh797W4JUPeGprl9nqR45VryMnLe5GzfcPI3toC8lQf63ZUamwUI7gygisjuDK2sJQUydICeXLsCrLD2sjruwukntbZDEZwZQRXRnBlbDGPD7yMJOMfIqs/Pou8PTiIXF27jLTLGlJSshmM4MoIrozgytgCHqg+gNjIS6y7+DXy9IGPWGcNpPnnx8hqPsdmM4IrI7gygitjC6hng6xrz7EuMaRYnESuLv6MzORzbCVGcGUEV0ZwZWySDEPqOw8hZf8EkqxMI5euHEOu5TNsVUZwZQRXRnBlbJKhbBCZmf0OGS47SKc1jVzLZ9gOjODKCK6M4MrYQLP5MnK+vYAc3X0E+X76C2TUBthujODKCK6M4MrYQFMrrJuoV5A/mlNIllSQlXKV7cYIrozgygiujA2023IkxZCcAqklGduZEVwZwZURXBkbaLzWQDplF6mQImVSsp0ZwZURXBnBlbGBqmmGVMmQnC7/F0ZwZQRXRnD1LxDMHwivzatpAAAAAElFTkSuQmCC\"></td></tr></tbody></table><div><small>(a vector displayed as a row to save space)</small></div>"
      ]
     },
     "metadata": {},
     "execution_count": 8
    }
   ],
   "cell_type": "code",
   "source": [
    "analyzer = InterpolationAugmentation(Gradient(model), 50)\n",
    "heatmap(input, analyzer)"
   ],
   "metadata": {},
   "execution_count": 8
  },
  {
   "cell_type": "markdown",
   "source": [
    "When used with a `Gradient` analyzer, this is equivalent to `IntegratedGradients`:"
   ],
   "metadata": {}
  },
  {
   "outputs": [
    {
     "output_type": "execute_result",
     "data": {
      "text/plain": "1-element Vector{Matrix{ColorTypes.RGB{Float64}}}:\n [RGB(0.7892717529296875, 0.5711786254882814, 0.23524071044921874) RGB(0.7892717529296875, 0.5711786254882814, 0.23524071044921874) … RGB(0.7892717529296875, 0.5711786254882814, 0.23524071044921874) RGB(0.7892717529296875, 0.5711786254882814, 0.23524071044921874); RGB(0.7892717529296875, 0.5711786254882814, 0.23524071044921874) RGB(0.7892717529296875, 0.5711786254882814, 0.23524071044921874) … RGB(0.7892717529296875, 0.5711786254882814, 0.23524071044921874) RGB(0.7892717529296875, 0.5711786254882814, 0.23524071044921874); … ; RGB(0.7892717529296875, 0.5711786254882814, 0.23524071044921874) RGB(0.7892717529296875, 0.5711786254882814, 0.23524071044921874) … RGB(0.7892717529296875, 0.5711786254882814, 0.23524071044921874) RGB(0.7892717529296875, 0.5711786254882814, 0.23524071044921874); RGB(0.7892717529296875, 0.5711786254882814, 0.23524071044921874) RGB(0.7892717529296875, 0.5711786254882814, 0.23524071044921874) … RGB(0.7892717529296875, 0.5711786254882814, 0.23524071044921874) RGB(0.7892717529296875, 0.5711786254882814, 0.23524071044921874)]",
      "text/html": [
       "<table><tbody><tr><td style='text-align:center;vertical-align:middle; margin: 0.5em;border:1px #90999f solid;border-collapse:collapse'><img style='max-width: 100px; max-height:100px;display:inline' src=\"data:image/png;base64,iVBORw0KGgoAAAANSUhEUgAAAHAAAABwCAIAAABJgmMcAAAAAXNSR0IArs4c6QAAAARnQU1BAACxjwv8YQUAAAAgY0hSTQAAeiYAAICEAAD6AAAAgOgAAHUwAADqYAAAOpgAABdwnLpRPAAABE9JREFUeAHtwTtsVQUcx/HvOfd/em/vpdDSNm2RiERRGmvQAU2ML6ImPiJOLo5uLiZuOjo7mDiYaBxcZTWOmiAyGGOwJYIEjYLl2dIH7e3t7T33HKdfWUgM5E8f5v/52E+fPkPwYwRXRnBlBFdGcGUEV0ZwZQRXRnBlBFdGcGUEV0ZwZQRXRnBlBFdGcGUEV0ZwZQRXRnBlBFdGcGUEV0ZwZQRXRnBlBFfGFpaQcEuJTK7MI6eX+5GRahM5vKOCDFTqSEHJvWQEV0ZwZQRXxhZQUiIJCbLQbSIL3Q7SJUFqlRxpFxXk4toqkmcF8lz/80hetJHzK78hBQV3ywiujODKCK6MDdQs2siutI6M9owi8/kccj1fQgYrVWSlaCGHdjSRy2spcmppALlRW0Imev9BWkULGajsQm5057lbRnBlBFdGcGXcY2tljjxS3Y/UswGk0bsPWZo/geyxfiQnR8YrNW6nN72JvNCXICn9yLG580ijUiCdIkEON/qQNEm5E0ZwZQRXRnBl3AOdMkcerU8gu/a9w7ruCjL912fIctFEuhTckvBfXh16A7mw9AvSKtvIWE+BXFg15OHeLh6M4MoIrozgynBSS3qQ8cYTyOLaFaT8+0uk1V1CrubXuRMJCVJNMmRq8ThyujWPrBYJ8mb/QWS5dxmZzeeRNEm5W0ZwZQRXRnBlOFnoNpFPLp1EziwPI5NzDeT9h84gJ+bHkNOLo8gHD/6KTDbryGv9CfLNYgvZaWvIcMa6g7Uqsla0kfsbE0hn+RTSKtvcLSO4MoIrI7gynFQT45YOMjU/gpz7dg15Nz2EZNUE6d1TQU6N1JGvpiaQ9mNnkYVOAxnMVpCibCH7elLkUuc6srB0E8np4sEIrozgygiuDCdJkiCv9NeRIzvPIZ/v3omMVW8ip5fGkKGeJlJNu8iLB6aRH2b2I0fHfud20qREirJE6pUMyenizQiujODKCK6Me6yaZsh797W4JUPeGprl9nqR45VryMnLe5GzfcPI3toC8lQf63ZUamwUI7gygisjuDK2sJQUydICeXLsCrLD2sjruwukntbZDEZwZQRXRnBlbDGPD7yMJOMfIqs/Pou8PTiIXF27jLTLGlJSshmM4MoIrozgytgCHqg+gNjIS6y7+DXy9IGPWGcNpPnnx8hqPsdmM4IrI7gygitjC6hng6xrz7EuMaRYnESuLv6MzORzbCVGcGUEV0ZwZWySDEPqOw8hZf8EkqxMI5euHEOu5TNsVUZwZQRXRnBlbJKhbBCZmf0OGS47SKc1jVzLZ9gOjODKCK6M4MrYQLP5MnK+vYAc3X0E+X76C2TUBthujODKCK6M4MrYQFMrrJuoV5A/mlNIllSQlXKV7cYIrozgygiujA2023IkxZCcAqklGduZEVwZwZURXBkbaLzWQDplF6mQImVSsp0ZwZURXBnBlbGBqmmGVMmQnC7/F0ZwZQRXRnD1LxDMHwivzatpAAAAAElFTkSuQmCC\"></td></tr></tbody></table><div><small>(a vector displayed as a row to save space)</small></div>"
      ]
     },
     "metadata": {},
     "execution_count": 9
    }
   ],
   "cell_type": "code",
   "source": [
    "analyzer = IntegratedGradients(model, 50)\n",
    "heatmap(input, analyzer)"
   ],
   "metadata": {},
   "execution_count": 9
  },
  {
   "cell_type": "markdown",
   "source": [
    "To select a different reference input, pass it to the `analyze` function\n",
    "using the keyword argument `input_ref`.\n",
    "Note that this is an arbitrary example for the sake of demonstration."
   ],
   "metadata": {}
  },
  {
   "outputs": [
    {
     "output_type": "execute_result",
     "data": {
      "text/plain": "1-element Vector{Matrix{ColorTypes.RGB{Float64}}}:\n [RGB(0.5700147277832031, 0.5262036819458008, 0.1752970932006836) RGB(0.5779593811035156, 0.5281851165771485, 0.1737385269165039) … RGB(0.6049205444335938, 0.5346333740234375, 0.17031295166015625) RGB(0.5770931091308594, 0.5279732772827148, 0.1739000442504883); RGB(0.5695549392700194, 0.5260872512817383, 0.1754008804321289) RGB(0.5767471801757812, 0.5278867950439453, 0.17396831970214843) … RGB(0.5702010864257813, 0.5262502716064453, 0.17526031188964844) RGB(0.5770931091308594, 0.5279732772827148, 0.1739000442504883); … ; RGB(0.5645154190063476, 0.5248105728149414, 0.17654317169189454) RGB(0.5449493194580077, 0.5198194198608398, 0.18168804016113282) … RGB(0.5758977233886718, 0.527674430847168, 0.17413597564697267) RGB(0.5770931091308594, 0.5279732772827148, 0.1739000442504883); RGB(0.5770931091308594, 0.5279732772827148, 0.1739000442504883) RGB(0.5770931091308594, 0.5279732772827148, 0.1739000442504883) … RGB(0.5770931091308594, 0.5279732772827148, 0.1739000442504883) RGB(0.5770931091308594, 0.5279732772827148, 0.1739000442504883)]",
      "text/html": [
       "<table><tbody><tr><td style='text-align:center;vertical-align:middle; margin: 0.5em;border:1px #90999f solid;border-collapse:collapse'><img style='max-width: 100px; max-height:100px;display:inline' src=\"data:image/png;base64,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\"></td></tr></tbody></table><div><small>(a vector displayed as a row to save space)</small></div>"
      ]
     },
     "metadata": {},
     "execution_count": 10
    }
   ],
   "cell_type": "code",
   "source": [
    "matrix_of_ones = ones(Float32, size(input))\n",
    "\n",
    "analyzer = InterpolationAugmentation(Gradient(model), 50)\n",
    "expl = analyzer(input; input_ref=matrix_of_ones)\n",
    "heatmap(expl)"
   ],
   "metadata": {},
   "execution_count": 10
  },
  {
   "cell_type": "markdown",
   "source": [
    "Once again, `InterpolationAugmentation` can be combined with any analyzer type from the Julia-XAI ecosystem,\n",
    "for example `LRP` from [RelevancePropagation.jl](https://github.com/Julia-XAI/RelevancePropagation.jl)."
   ],
   "metadata": {}
  },
  {
   "cell_type": "markdown",
   "source": [
    "---\n",
    "\n",
    "*This notebook was generated using [Literate.jl](https://github.com/fredrikekre/Literate.jl).*"
   ],
   "metadata": {}
  }
 ],
 "nbformat_minor": 3,
 "metadata": {
  "language_info": {
   "file_extension": ".jl",
   "mimetype": "application/julia",
   "name": "julia",
   "version": "1.11.5"
  },
  "kernelspec": {
   "name": "julia-1.11",
   "display_name": "Julia 1.11.5",
   "language": "julia"
  }
 },
 "nbformat": 4
}
