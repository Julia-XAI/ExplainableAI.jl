{
 "cells": [
  {
   "cell_type": "markdown",
   "source": [
    "# Analyzer augmentations\n",
    "All analyzers implemented in ExplainableAI.jl can be augmented by two types of augmentations:\n",
    "`NoiseAugmentation`s and `InterpolationAugmentation`s.\n",
    "These augmentations are wrappers around analyzers\n",
    "that modify the input before passing it to the analyzer.\n",
    "\n",
    "We build on the basics shown in the *Getting started* section\n",
    "and start out by loading the same pre-trained LeNet5 model and MNIST input data:"
   ],
   "metadata": {}
  },
  {
   "outputs": [
    {
     "output_type": "execute_result",
     "data": {
      "text/plain": "Chain(\n  Conv((5, 5), 1 => 6, relu),           \u001b[90m# 156 parameters\u001b[39m\n  MaxPool((2, 2)),\n  Conv((5, 5), 6 => 16, relu),          \u001b[90m# 2_416 parameters\u001b[39m\n  MaxPool((2, 2)),\n  Flux.flatten,\n  Dense(256 => 120, relu),              \u001b[90m# 30_840 parameters\u001b[39m\n  Dense(120 => 84, relu),               \u001b[90m# 10_164 parameters\u001b[39m\n  Dense(84 => 10),                      \u001b[90m# 850 parameters\u001b[39m\n) \u001b[90m                  # Total: 10 arrays, \u001b[39m44_426 parameters, 174.344 KiB."
     },
     "metadata": {},
     "execution_count": 1
    }
   ],
   "cell_type": "code",
   "source": [
    "using ExplainableAI\n",
    "using VisionHeatmaps\n",
    "using Zygote\n",
    "using Flux\n",
    "\n",
    "using BSON # hide\n",
    "model = BSON.load(\"../model.bson\", @__MODULE__)[:model] # hide\n",
    "model"
   ],
   "metadata": {},
   "execution_count": 1
  },
  {
   "outputs": [
    {
     "output_type": "execute_result",
     "data": {
      "text/plain": "28×28 reinterpret(reshape, ColorTypes.Gray{Float32}, ::Matrix{Float32}) with eltype ColorTypes.Gray{Float32}:\n 0.0  0.0  0.0  0.0  0.0  0.0  0.0  …  0.0        0.0  0.0  0.0  0.0  0.0\n 0.0  0.0  0.0  0.0  0.0  0.0  0.0     0.0        0.0  0.0  0.0  0.0  0.0\n 0.0  0.0  0.0  0.0  0.0  0.0  0.0     0.0        0.0  0.0  0.0  0.0  0.0\n 0.0  0.0  0.0  0.0  0.0  0.0  0.0     0.0        0.0  0.0  0.0  0.0  0.0\n 0.0  0.0  0.0  0.0  0.0  0.0  0.0     0.0        0.0  0.0  0.0  0.0  0.0\n 0.0  0.0  0.0  0.0  0.0  0.0  0.0  …  0.0        0.0  0.0  0.0  0.0  0.0\n 0.0  0.0  0.0  0.0  0.0  0.0  0.0     0.0        0.0  0.0  0.0  0.0  0.0\n 0.0  0.0  0.0  0.0  0.0  0.0  0.0     0.0        0.0  0.0  0.0  0.0  0.0\n 0.0  0.0  0.0  0.0  0.0  0.0  0.0     0.0235294  0.0  0.0  0.0  0.0  0.0\n 0.0  0.0  0.0  0.0  0.0  0.0  0.0     0.407843   0.0  0.0  0.0  0.0  0.0\n ⋮                        ⋮         ⋱                       ⋮         \n 0.0  0.0  0.0  0.0  0.0  0.0  0.0     0.0        0.0  0.0  0.0  0.0  0.0\n 0.0  0.0  0.0  0.0  0.0  0.0  0.0  …  0.0        0.0  0.0  0.0  0.0  0.0\n 0.0  0.0  0.0  0.0  0.0  0.0  0.0     0.0        0.0  0.0  0.0  0.0  0.0\n 0.0  0.0  0.0  0.0  0.0  0.0  0.0     0.0        0.0  0.0  0.0  0.0  0.0\n 0.0  0.0  0.0  0.0  0.0  0.0  0.0     0.0        0.0  0.0  0.0  0.0  0.0\n 0.0  0.0  0.0  0.0  0.0  0.0  0.0     0.0        0.0  0.0  0.0  0.0  0.0\n 0.0  0.0  0.0  0.0  0.0  0.0  0.0  …  0.0        0.0  0.0  0.0  0.0  0.0\n 0.0  0.0  0.0  0.0  0.0  0.0  0.0     0.0        0.0  0.0  0.0  0.0  0.0\n 0.0  0.0  0.0  0.0  0.0  0.0  0.0     0.0        0.0  0.0  0.0  0.0  0.0",
      "image/png": "[encoded data removed]",
      "text/html": [
       "<img src=\"data:image/png;base64,iVBORw0KGgoAAAANSUhEUgAAAHAAAABwCAAAAADji6uXAAAAAXNSR0IArs4c6QAAAARnQU1BAACxjwv8YQUAAAAgY0hSTQAAeiYAAICEAAD6AAAAgOgAAHUwAADqYAAAOpgAABdwnLpRPAAAAjhJREFUaAW9wb2L1gUAB/DPcd+oQaPswCGqpSGHXqYTapGgJSg4CeoPcEiECqFDpCGwTdIQImuIsGiTtmjJgl6GoKEiIhqCoMQsOOhFy85r+A3H8fTo73mM7+cTZVEWZVEWZVEWZVEWZVEWZVEWZVEWZVEWZVEWZVEWZVEWZVEWZVEWZVEWc7gTS1jBHlzGSXyK71xZlEVZlMUM7sYB7MWSrXbjH3yLj/E0/jYpyqIsymKEe3AAj+NGgx/xEb7HKj7HMnbgYXyBkyZFWZRFWVzFq1jBksH7+AqHcdHgfuzH67gP5/AyTuO8raIsyqIsprgBq9iHBZzHKziKP2x1CxbxPN7DHaaLsiiLsphiD57FAn7CXnxmq0XchlN4FzcbLOBNrJkUZVEWZTHFItYNLmE3HsNdBhewC7vwC3badA4v4JJJURZlURZTnMEHeAi34wQ2DNaxaNNOg8t4B0/hrP8WZVEWZTHFBazgJhzCA/gVP+B63ItlW72Gw1gzXZRFWZTFVazhkEmnsGzwGw7iDay7siiLsiiLOaziCZv2423jRFmURVnMaB+eQwy+xmnjRVmURVnMYBkvYpvB73gSfxkvyqIsymIGj2C7wZ94FJ+YTZRFWZTFSNuxatNb+NDsoizKoixG2IZvcJ3Bl3jGfKIsyqIsRngQt2LD4CAumk+URVmUxQhHsGFwFGfML8qiLMpihB1YwM94ybWJsiiLshjhGI7hCM66NlEWZVEWIxzHcf+PKIuyKPsXNwdYfgiRxs8AAAAASUVORK5C\">"
      ]
     },
     "metadata": {},
     "execution_count": 2
    }
   ],
   "cell_type": "code",
   "source": [
    "using MLDatasets\n",
    "using ImageCore, ImageIO, ImageShow\n",
    "\n",
    "index = 10\n",
    "x, y = MNIST(Float32, :test)[10]\n",
    "input = reshape(x, 28, 28, 1, :)\n",
    "\n",
    "convert2image(MNIST, x)"
   ],
   "metadata": {},
   "execution_count": 2
  },
  {
   "cell_type": "markdown",
   "source": [
    "## Noise augmentation\n",
    "The `NoiseAugmentation` wrapper computes explanations averaged over noisy inputs.\n",
    "Let's demonstrate this on the `Gradient` analyzer.\n",
    "First, we compute the heatmap of an explanation without augmentation:"
   ],
   "metadata": {}
  },
  {
   "outputs": [
    {
     "output_type": "execute_result",
     "data": {
      "text/plain": "1-element Vector{Matrix{ColorTypes.RGB{Float64}}}:\n [RGB(0.542044692993164, 0.5190736373901367, 0.18255157775878905) RGB(0.5405419067382813, 0.5186877868652343, 0.18299835205078127) … RGB(0.5501000518798829, 0.5211419052124023, 0.18022431030273436) RGB(0.5480906158447265, 0.5206259689331054, 0.18076740112304687); RGB(0.5577551651000977, 0.5230979751586914, 0.1782020248413086) RGB(0.5673554992675781, 0.5255300598144531, 0.17589942016601562) … RGB(0.550458218383789, 0.5212338668823242, 0.18012750854492188) RGB(0.5480906158447265, 0.5206259689331054, 0.18076740112304687); … ; RGB(0.5540689025878907, 0.5221609344482422, 0.17915164794921876) RGB(0.5669629669189453, 0.5254306182861328, 0.17598839416503906) … RGB(0.5511143676757813, 0.5214023376464844, 0.1799501708984375) RGB(0.5480906158447265, 0.5206259689331054, 0.18076740112304687); RGB(0.5480906158447265, 0.5206259689331054, 0.18076740112304687) RGB(0.5480906158447265, 0.5206259689331054, 0.18076740112304687) … RGB(0.5480906158447265, 0.5206259689331054, 0.18076740112304687) RGB(0.5480906158447265, 0.5206259689331054, 0.18076740112304687)]",
      "text/html": [
       "<table><tbody><tr><td style='text-align:center;vertical-align:middle; margin: 0.5em;border:1px #90999f solid;border-collapse:collapse'><img style='max-width: 100px; max-height:100px;display:inline' src=\"data:image/png;base64,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\"></td></tr></tbody></table><div><small>(a vector displayed as a row to save space)</small></div>"
      ]
     },
     "metadata": {},
     "execution_count": 3
    }
   ],
   "cell_type": "code",
   "source": [
    "analyzer = Gradient(model)\n",
    "heatmap(input, analyzer)"
   ],
   "metadata": {},
   "execution_count": 3
  },
  {
   "cell_type": "markdown",
   "source": [
    "Now we wrap the analyzer in a `NoiseAugmentation` with 10 samples of noise.\n",
    "By default, the noise is sampled from a Gaussian distribution\n",
    "with mean 0 and standard deviation 1."
   ],
   "metadata": {}
  },
  {
   "outputs": [
    {
     "name": "stdout",
     "output_type": "stream",
     "text": [
      "\rSampling NoiseAugmentation...   4%|▉                     |  ETA: 0:00:22\u001b[K\rSampling NoiseAugmentation... 100%|██████████████████████| Time: 0:00:01\u001b[K\n"
     ]
    },
    {
     "output_type": "execute_result",
     "data": {
      "text/plain": "1-element Vector{Matrix{ColorTypes.RGB{Float64}}}:\n [RGB(0.43428510284423827, 0.48949268112182615, 0.22842888641357423) RGB(0.43457901916503905, 0.4895772933959961, 0.22827747497558593) … RGB(0.4407346611022949, 0.4913277397155762, 0.22522024154663087) RGB(0.43741875610351566, 0.4903874084472657, 0.22685344848632816); RGB(0.4338831771850586, 0.48937697525024415, 0.22863593902587892) RGB(0.4395875457763672, 0.4910024383544922, 0.22578523864746095) … RGB(0.4423083473205566, 0.4917740089416504, 0.22444514236450194) RGB(0.4359361602783203, 0.4899669708251953, 0.22758368225097658); … ; RGB(0.4392316184997559, 0.49090150375366215, 0.22596054611206057) RGB(0.43225885772705075, 0.4889093681335449, 0.22947270965576172) … RGB(0.4290651550292969, 0.4879899688720703, 0.23111795043945313) RGB(0.4321264770507812, 0.48887125854492186, 0.22954090576171876); RGB(0.43656632995605466, 0.4901456756591797, 0.22727330017089845) RGB(0.4347090835571289, 0.4896147361755371, 0.22821047210693363) … RGB(0.4361906204223633, 0.4900391311645508, 0.22745835113525392) RGB(0.4351596008300781, 0.4897444305419922, 0.22797838745117188)]",
      "text/html": [
       "<table><tbody><tr><td style='text-align:center;vertical-align:middle; margin: 0.5em;border:1px #90999f solid;border-collapse:collapse'><img style='max-width: 100px; max-height:100px;display:inline' src=\"data:image/png;base64,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\"></td></tr></tbody></table><div><small>(a vector displayed as a row to save space)</small></div>"
      ]
     },
     "metadata": {},
     "execution_count": 4
    }
   ],
   "cell_type": "code",
   "source": [
    "analyzer = NoiseAugmentation(Gradient(model), 50)\n",
    "heatmap(input, analyzer)"
   ],
   "metadata": {},
   "execution_count": 4
  },
  {
   "cell_type": "markdown",
   "source": [
    "Note that a higher sample size is desired, as it will lead to a smoother heatmap.\n",
    "However, this comes at the cost of a longer computation time.\n",
    "\n",
    "We can also set the standard deviation of the Gaussian distribution:"
   ],
   "metadata": {}
  },
  {
   "outputs": [
    {
     "output_type": "execute_result",
     "data": {
      "text/plain": "1-element Vector{Matrix{ColorTypes.RGB{Float64}}}:\n [RGB(0.517648355102539, 0.5125988555908203, 0.1908858367919922) RGB(0.5158910140991211, 0.512128581237793, 0.19155412139892578) … RGB(0.5230895141601561, 0.5140375106811523, 0.18890656433105468) RGB(0.5207139404296874, 0.5134106231689454, 0.1897644104003906); RGB(0.5204612548828125, 0.5133439422607422, 0.18985565795898435) RGB(0.522675439453125, 0.5139282409667969, 0.18905609130859374) … RGB(0.5219813232421875, 0.5137450714111329, 0.18930674438476564) RGB(0.519393603515625, 0.5130622009277344, 0.19024119873046874); … ; RGB(0.5187299194335937, 0.5128870620727539, 0.1904808624267578) RGB(0.5238154907226562, 0.5142290878295899, 0.1886444061279297) … RGB(0.5176860565185546, 0.5126089447021485, 0.19087149963378905) RGB(0.5192041992187499, 0.5130122192382813, 0.1903095947265625); RGB(0.5207520629882813, 0.5134206832885743, 0.18975064392089844) RGB(0.5206586791992187, 0.5133960403442384, 0.18978436584472658) … RGB(0.518599951171875, 0.5128527648925781, 0.19052779541015624) RGB(0.519797021484375, 0.5131686584472657, 0.19009552001953126)]",
      "text/html": [
       "<table><tbody><tr><td style='text-align:center;vertical-align:middle; margin: 0.5em;border:1px #90999f solid;border-collapse:collapse'><img style='max-width: 100px; max-height:100px;display:inline' src=\"data:image/png;base64,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\"></td></tr></tbody></table><div><small>(a vector displayed as a row to save space)</small></div>"
      ]
     },
     "metadata": {},
     "execution_count": 5
    }
   ],
   "cell_type": "code",
   "source": [
    "analyzer = NoiseAugmentation(Gradient(model), 50, 0.1)\n",
    "heatmap(input, analyzer)"
   ],
   "metadata": {},
   "execution_count": 5
  },
  {
   "cell_type": "markdown",
   "source": [
    "When used with a `Gradient` analyzer, this is equivalent to `SmoothGrad`:"
   ],
   "metadata": {}
  },
  {
   "outputs": [
    {
     "output_type": "execute_result",
     "data": {
      "text/plain": "1-element Vector{Matrix{ColorTypes.RGB{Float64}}}:\n [RGB(0.4427792877197266, 0.49190755920410156, 0.22421318664550782) RGB(0.4427341003417969, 0.4918947448730469, 0.22423544311523436) … RGB(0.43853959732055664, 0.4907052589416504, 0.22630139236450197) RGB(0.4411139488220215, 0.49143529891967774, 0.22503342819213867); RGB(0.4392849845886231, 0.49091663742065433, 0.2259342613220215) RGB(0.443099382019043, 0.4919983322143555, 0.22405552825927733) … RGB(0.44086122665405275, 0.49136363143920897, 0.2251579032897949) RGB(0.43985785217285156, 0.4910790924072266, 0.22565210266113284); … ; RGB(0.4432841186523438, 0.49205072021484375, 0.22396453857421875) RGB(0.43755406265258784, 0.4904257789611816, 0.22678680496215822) … RGB(0.4359713798522949, 0.4899769584655762, 0.22756633529663087) RGB(0.4395690414428711, 0.4909971908569336, 0.22579435272216797); RGB(0.4435542205810547, 0.4921273162841797, 0.2238315032958984) RGB(0.44455703277587894, 0.49241169586181643, 0.223337580871582) … RGB(0.43705858612060544, 0.490285270690918, 0.22703084564208986) RGB(0.4401999267578125, 0.49117609863281253, 0.22548361816406248)]",
      "text/html": [
       "<table><tbody><tr><td style='text-align:center;vertical-align:middle; margin: 0.5em;border:1px #90999f solid;border-collapse:collapse'><img style='max-width: 100px; max-height:100px;display:inline' src=\"data:image/png;base64,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\"></td></tr></tbody></table><div><small>(a vector displayed as a row to save space)</small></div>"
      ]
     },
     "metadata": {},
     "execution_count": 6
    }
   ],
   "cell_type": "code",
   "source": [
    "analyzer = SmoothGrad(model, 50)\n",
    "heatmap(input, analyzer)"
   ],
   "metadata": {},
   "execution_count": 6
  },
  {
   "cell_type": "markdown",
   "source": [
    "We can also use any distribution from\n",
    "[Distributions.jl](https://github.com/JuliaStats/Distributions.jl),\n",
    "for example Poisson noise with rate $\\lambda=0.5$:"
   ],
   "metadata": {}
  },
  {
   "outputs": [
    {
     "output_type": "execute_result",
     "data": {
      "text/plain": "1-element Vector{Matrix{ColorTypes.RGB{Float64}}}:\n [RGB(0.3618611015319824, 0.46837398300170896, 0.2670216102600098) RGB(0.35837661590576175, 0.4673231063842773, 0.2689574356079102) … RGB(0.3650233100891113, 0.46932766494750977, 0.26527154693603516) RGB(0.3633947174072265, 0.4688365020751953, 0.2661696014404297); RGB(0.361296720123291, 0.4682037727355957, 0.26733515548706055) RGB(0.3615245971679687, 0.4682724975585938, 0.26720855712890623) … RGB(0.3756259765625001, 0.47250302429199215, 0.2595154815673828) RGB(0.36447003173828124, 0.46916080322265624, 0.26557220458984376); … ; RGB(0.3604172233581543, 0.46793852767944333, 0.26782376480102543) RGB(0.3597431091308594, 0.4677352233886719, 0.2681982727050781) … RGB(0.35736537246704103, 0.4670181282043457, 0.26951923751831053) RGB(0.3545082336425781, 0.46615645141601564, 0.2711065368652344); RGB(0.3597198455810547, 0.4677282073974609, 0.2682111968994141) RGB(0.3583917083740234, 0.4673276580810547, 0.26894905090332033) … RGB(0.36125759506225585, 0.46819197311401367, 0.2673568916320801) RGB(0.35683607864379885, 0.46685849990844724, 0.269813289642334)]",
      "text/html": [
       "<table><tbody><tr><td style='text-align:center;vertical-align:middle; margin: 0.5em;border:1px #90999f solid;border-collapse:collapse'><img style='max-width: 100px; max-height:100px;display:inline' src=\"data:image/png;base64,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\"></td></tr></tbody></table><div><small>(a vector displayed as a row to save space)</small></div>"
      ]
     },
     "metadata": {},
     "execution_count": 7
    }
   ],
   "cell_type": "code",
   "source": [
    "using Distributions\n",
    "\n",
    "analyzer = NoiseAugmentation(Gradient(model), 50, Poisson(0.5))\n",
    "heatmap(input, analyzer)"
   ],
   "metadata": {},
   "execution_count": 7
  },
  {
   "cell_type": "markdown",
   "source": [
    "Is is also possible to define your own distributions or mixture distributions.\n",
    "\n",
    "`NoiseAugmentation` can be combined with any analyzer type from the Julia-XAI ecosystem,\n",
    "for example `LRP` from [RelevancePropagation.jl](https://github.com/Julia-XAI/RelevancePropagation.jl)."
   ],
   "metadata": {}
  },
  {
   "cell_type": "markdown",
   "source": [
    "## Integration augmentation\n",
    "The `InterpolationAugmentation` wrapper computes explanations\n",
    "averaged over `n` steps of linear interpolation between the input and a reference input,\n",
    "which is set to `zero(input)` by default:"
   ],
   "metadata": {}
  },
  {
   "outputs": [
    {
     "output_type": "execute_result",
     "data": {
      "text/plain": "1-element Vector{Matrix{ColorTypes.RGB{Float64}}}:\n [RGB(0.7892717529296875, 0.5711786254882814, 0.23524071044921874) RGB(0.7892717529296875, 0.5711786254882814, 0.23524071044921874) … RGB(0.7892717529296875, 0.5711786254882814, 0.23524071044921874) RGB(0.7892717529296875, 0.5711786254882814, 0.23524071044921874); RGB(0.7892717529296875, 0.5711786254882814, 0.23524071044921874) RGB(0.7892717529296875, 0.5711786254882814, 0.23524071044921874) … RGB(0.7892717529296875, 0.5711786254882814, 0.23524071044921874) RGB(0.7892717529296875, 0.5711786254882814, 0.23524071044921874); … ; RGB(0.7892717529296875, 0.5711786254882814, 0.23524071044921874) RGB(0.7892717529296875, 0.5711786254882814, 0.23524071044921874) … RGB(0.7892717529296875, 0.5711786254882814, 0.23524071044921874) RGB(0.7892717529296875, 0.5711786254882814, 0.23524071044921874); RGB(0.7892717529296875, 0.5711786254882814, 0.23524071044921874) RGB(0.7892717529296875, 0.5711786254882814, 0.23524071044921874) … RGB(0.7892717529296875, 0.5711786254882814, 0.23524071044921874) RGB(0.7892717529296875, 0.5711786254882814, 0.23524071044921874)]",
      "text/html": [
       "<table><tbody><tr><td style='text-align:center;vertical-align:middle; margin: 0.5em;border:1px #90999f solid;border-collapse:collapse'><img style='max-width: 100px; max-height:100px;display:inline' src=\"data:image/png;base64,iVBORw0KGgoAAAANSUhEUgAAAHAAAABwCAIAAABJgmMcAAAAAXNSR0IArs4c6QAAAARnQU1BAACxjwv8YQUAAAAgY0hSTQAAeiYAAICEAAD6AAAAgOgAAHUwAADqYAAAOpgAABdwnLpRPAAABE9JREFUeAHtwTtsVQUcx/HvOfd/em/vpdDSNm2RiERRGmvQAU2ML6ImPiJOLo5uLiZuOjo7mDiYaBxcZTWOmiAyGGOwJYIEjYLl2dIH7e3t7T33HKdfWUgM5E8f5v/52E+fPkPwYwRXRnBlBFdGcGUEV0ZwZQRXRnBlBFdGcGUEV0ZwZQRXRnBlBFdGcGUEV0ZwZQRXRnBlBFdGcGUEV0ZwZQRXRnBlBFfGFpaQcEuJTK7MI6eX+5GRahM5vKOCDFTqSEHJvWQEV0ZwZQRXxhZQUiIJCbLQbSIL3Q7SJUFqlRxpFxXk4toqkmcF8lz/80hetJHzK78hBQV3ywiujODKCK6MDdQs2siutI6M9owi8/kccj1fQgYrVWSlaCGHdjSRy2spcmppALlRW0Imev9BWkULGajsQm5057lbRnBlBFdGcGXcY2tljjxS3Y/UswGk0bsPWZo/geyxfiQnR8YrNW6nN72JvNCXICn9yLG580ijUiCdIkEON/qQNEm5E0ZwZQRXRnBl3AOdMkcerU8gu/a9w7ruCjL912fIctFEuhTckvBfXh16A7mw9AvSKtvIWE+BXFg15OHeLh6M4MoIrozgynBSS3qQ8cYTyOLaFaT8+0uk1V1CrubXuRMJCVJNMmRq8ThyujWPrBYJ8mb/QWS5dxmZzeeRNEm5W0ZwZQRXRnBlOFnoNpFPLp1EziwPI5NzDeT9h84gJ+bHkNOLo8gHD/6KTDbryGv9CfLNYgvZaWvIcMa6g7Uqsla0kfsbE0hn+RTSKtvcLSO4MoIrI7gynFQT45YOMjU/gpz7dg15Nz2EZNUE6d1TQU6N1JGvpiaQ9mNnkYVOAxnMVpCibCH7elLkUuc6srB0E8np4sEIrozgygiuDCdJkiCv9NeRIzvPIZ/v3omMVW8ip5fGkKGeJlJNu8iLB6aRH2b2I0fHfud20qREirJE6pUMyenizQiujODKCK6Me6yaZsh797W4JUPeGprl9nqR45VryMnLe5GzfcPI3toC8lQf63ZUamwUI7gygisjuDK2sJQUydICeXLsCrLD2sjruwukntbZDEZwZQRXRnBlbDGPD7yMJOMfIqs/Pou8PTiIXF27jLTLGlJSshmM4MoIrozgytgCHqg+gNjIS6y7+DXy9IGPWGcNpPnnx8hqPsdmM4IrI7gygitjC6hng6xrz7EuMaRYnESuLv6MzORzbCVGcGUEV0ZwZWySDEPqOw8hZf8EkqxMI5euHEOu5TNsVUZwZQRXRnBlbJKhbBCZmf0OGS47SKc1jVzLZ9gOjODKCK6M4MrYQLP5MnK+vYAc3X0E+X76C2TUBthujODKCK6M4MrYQFMrrJuoV5A/mlNIllSQlXKV7cYIrozgygiujA2023IkxZCcAqklGduZEVwZwZURXBkbaLzWQDplF6mQImVSsp0ZwZURXBnBlbGBqmmGVMmQnC7/F0ZwZQRXRnD1LxDMHwivzatpAAAAAElFTkSuQmCC\"></td></tr></tbody></table><div><small>(a vector displayed as a row to save space)</small></div>"
      ]
     },
     "metadata": {},
     "execution_count": 8
    }
   ],
   "cell_type": "code",
   "source": [
    "analyzer = InterpolationAugmentation(Gradient(model), 50)\n",
    "heatmap(input, analyzer)"
   ],
   "metadata": {},
   "execution_count": 8
  },
  {
   "cell_type": "markdown",
   "source": [
    "When used with a `Gradient` analyzer, this is equivalent to `IntegratedGradients`:"
   ],
   "metadata": {}
  },
  {
   "outputs": [
    {
     "output_type": "execute_result",
     "data": {
      "text/plain": "1-element Vector{Matrix{ColorTypes.RGB{Float64}}}:\n [RGB(0.7892717529296875, 0.5711786254882814, 0.23524071044921874) RGB(0.7892717529296875, 0.5711786254882814, 0.23524071044921874) … RGB(0.7892717529296875, 0.5711786254882814, 0.23524071044921874) RGB(0.7892717529296875, 0.5711786254882814, 0.23524071044921874); RGB(0.7892717529296875, 0.5711786254882814, 0.23524071044921874) RGB(0.7892717529296875, 0.5711786254882814, 0.23524071044921874) … RGB(0.7892717529296875, 0.5711786254882814, 0.23524071044921874) RGB(0.7892717529296875, 0.5711786254882814, 0.23524071044921874); … ; RGB(0.7892717529296875, 0.5711786254882814, 0.23524071044921874) RGB(0.7892717529296875, 0.5711786254882814, 0.23524071044921874) … RGB(0.7892717529296875, 0.5711786254882814, 0.23524071044921874) RGB(0.7892717529296875, 0.5711786254882814, 0.23524071044921874); RGB(0.7892717529296875, 0.5711786254882814, 0.23524071044921874) RGB(0.7892717529296875, 0.5711786254882814, 0.23524071044921874) … RGB(0.7892717529296875, 0.5711786254882814, 0.23524071044921874) RGB(0.7892717529296875, 0.5711786254882814, 0.23524071044921874)]",
      "text/html": [
       "<table><tbody><tr><td style='text-align:center;vertical-align:middle; margin: 0.5em;border:1px #90999f solid;border-collapse:collapse'><img style='max-width: 100px; max-height:100px;display:inline' src=\"data:image/png;base64,iVBORw0KGgoAAAANSUhEUgAAAHAAAABwCAIAAABJgmMcAAAAAXNSR0IArs4c6QAAAARnQU1BAACxjwv8YQUAAAAgY0hSTQAAeiYAAICEAAD6AAAAgOgAAHUwAADqYAAAOpgAABdwnLpRPAAABE9JREFUeAHtwTtsVQUcx/HvOfd/em/vpdDSNm2RiERRGmvQAU2ML6ImPiJOLo5uLiZuOjo7mDiYaBxcZTWOmiAyGGOwJYIEjYLl2dIH7e3t7T33HKdfWUgM5E8f5v/52E+fPkPwYwRXRnBlBFdGcGUEV0ZwZQRXRnBlBFdGcGUEV0ZwZQRXRnBlBFdGcGUEV0ZwZQRXRnBlBFdGcGUEV0ZwZQRXRnBlBFfGFpaQcEuJTK7MI6eX+5GRahM5vKOCDFTqSEHJvWQEV0ZwZQRXxhZQUiIJCbLQbSIL3Q7SJUFqlRxpFxXk4toqkmcF8lz/80hetJHzK78hBQV3ywiujODKCK6MDdQs2siutI6M9owi8/kccj1fQgYrVWSlaCGHdjSRy2spcmppALlRW0Imev9BWkULGajsQm5057lbRnBlBFdGcGXcY2tljjxS3Y/UswGk0bsPWZo/geyxfiQnR8YrNW6nN72JvNCXICn9yLG580ijUiCdIkEON/qQNEm5E0ZwZQRXRnBl3AOdMkcerU8gu/a9w7ruCjL912fIctFEuhTckvBfXh16A7mw9AvSKtvIWE+BXFg15OHeLh6M4MoIrozgynBSS3qQ8cYTyOLaFaT8+0uk1V1CrubXuRMJCVJNMmRq8ThyujWPrBYJ8mb/QWS5dxmZzeeRNEm5W0ZwZQRXRnBlOFnoNpFPLp1EziwPI5NzDeT9h84gJ+bHkNOLo8gHD/6KTDbryGv9CfLNYgvZaWvIcMa6g7Uqsla0kfsbE0hn+RTSKtvcLSO4MoIrI7gynFQT45YOMjU/gpz7dg15Nz2EZNUE6d1TQU6N1JGvpiaQ9mNnkYVOAxnMVpCibCH7elLkUuc6srB0E8np4sEIrozgygiuDCdJkiCv9NeRIzvPIZ/v3omMVW8ip5fGkKGeJlJNu8iLB6aRH2b2I0fHfud20qREirJE6pUMyenizQiujODKCK6Me6yaZsh797W4JUPeGprl9nqR45VryMnLe5GzfcPI3toC8lQf63ZUamwUI7gygisjuDK2sJQUydICeXLsCrLD2sjruwukntbZDEZwZQRXRnBlbDGPD7yMJOMfIqs/Pou8PTiIXF27jLTLGlJSshmM4MoIrozgytgCHqg+gNjIS6y7+DXy9IGPWGcNpPnnx8hqPsdmM4IrI7gygitjC6hng6xrz7EuMaRYnESuLv6MzORzbCVGcGUEV0ZwZWySDEPqOw8hZf8EkqxMI5euHEOu5TNsVUZwZQRXRnBlbJKhbBCZmf0OGS47SKc1jVzLZ9gOjODKCK6M4MrYQLP5MnK+vYAc3X0E+X76C2TUBthujODKCK6M4MrYQFMrrJuoV5A/mlNIllSQlXKV7cYIrozgygiujA2023IkxZCcAqklGduZEVwZwZURXBkbaLzWQDplF6mQImVSsp0ZwZURXBnBlbGBqmmGVMmQnC7/F0ZwZQRXRnD1LxDMHwivzatpAAAAAElFTkSuQmCC\"></td></tr></tbody></table><div><small>(a vector displayed as a row to save space)</small></div>"
      ]
     },
     "metadata": {},
     "execution_count": 9
    }
   ],
   "cell_type": "code",
   "source": [
    "analyzer = IntegratedGradients(model, 50)\n",
    "heatmap(input, analyzer)"
   ],
   "metadata": {},
   "execution_count": 9
  },
  {
   "cell_type": "markdown",
   "source": [
    "To select a different reference input, pass it to the `analyze` function\n",
    "using the keyword argument `input_ref`.\n",
    "Note that this is an arbitrary example for the sake of demonstration."
   ],
   "metadata": {}
  },
  {
   "outputs": [
    {
     "output_type": "execute_result",
     "data": {
      "text/plain": "1-element Vector{Matrix{ColorTypes.RGB{Float64}}}:\n [RGB(0.5700147277832031, 0.5262036819458008, 0.1752970932006836) RGB(0.5779593811035156, 0.5281851165771485, 0.1737385269165039) … RGB(0.6049205444335938, 0.5346333740234375, 0.17031295166015625) RGB(0.5770931091308594, 0.5279732772827148, 0.1739000442504883); RGB(0.5695549392700194, 0.5260872512817383, 0.1754008804321289) RGB(0.5767471801757812, 0.5278867950439453, 0.17396831970214843) … RGB(0.5702010864257813, 0.5262502716064453, 0.17526031188964844) RGB(0.5770931091308594, 0.5279732772827148, 0.1739000442504883); … ; RGB(0.5645154190063476, 0.5248105728149414, 0.17654317169189454) RGB(0.5449493194580077, 0.5198194198608398, 0.18168804016113282) … RGB(0.5758977233886718, 0.527674430847168, 0.17413597564697267) RGB(0.5770931091308594, 0.5279732772827148, 0.1739000442504883); RGB(0.5770931091308594, 0.5279732772827148, 0.1739000442504883) RGB(0.5770931091308594, 0.5279732772827148, 0.1739000442504883) … RGB(0.5770931091308594, 0.5279732772827148, 0.1739000442504883) RGB(0.5770931091308594, 0.5279732772827148, 0.1739000442504883)]",
      "text/html": [
       "<table><tbody><tr><td style='text-align:center;vertical-align:middle; margin: 0.5em;border:1px #90999f solid;border-collapse:collapse'><img style='max-width: 100px; max-height:100px;display:inline' src=\"data:image/png;base64,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\"></td></tr></tbody></table><div><small>(a vector displayed as a row to save space)</small></div>"
      ]
     },
     "metadata": {},
     "execution_count": 10
    }
   ],
   "cell_type": "code",
   "source": [
    "matrix_of_ones = ones(Float32, size(input))\n",
    "\n",
    "analyzer = InterpolationAugmentation(Gradient(model), 50)\n",
    "expl = analyzer(input; input_ref=matrix_of_ones)\n",
    "heatmap(expl)"
   ],
   "metadata": {},
   "execution_count": 10
  },
  {
   "cell_type": "markdown",
   "source": [
    "Once again, `InterpolationAugmentation` can be combined with any analyzer type from the Julia-XAI ecosystem,\n",
    "for example `LRP` from [RelevancePropagation.jl](https://github.com/Julia-XAI/RelevancePropagation.jl)."
   ],
   "metadata": {}
  },
  {
   "cell_type": "markdown",
   "source": [
    "---\n",
    "\n",
    "*This notebook was generated using [Literate.jl](https://github.com/fredrikekre/Literate.jl).*"
   ],
   "metadata": {}
  }
 ],
 "nbformat_minor": 3,
 "metadata": {
  "language_info": {
   "file_extension": ".jl",
   "mimetype": "application/julia",
   "name": "julia",
   "version": "1.11.5"
  },
  "kernelspec": {
   "name": "julia-1.11",
   "display_name": "Julia 1.11.5",
   "language": "julia"
  }
 },
 "nbformat": 4
}
