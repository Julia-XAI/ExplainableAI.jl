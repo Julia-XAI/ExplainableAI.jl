{
 "cells": [
  {
   "cell_type": "markdown",
   "source": [
    "# Basic usage of LRP\n",
    "This example will show you best practices for using LRP,\n",
    "building on the basics shown in the *Getting started* section."
   ],
   "metadata": {}
  },
  {
   "cell_type": "markdown",
   "source": [
    "We start out by loading a small convolutional neural network:"
   ],
   "metadata": {}
  },
  {
   "outputs": [],
   "cell_type": "code",
   "source": [
    "using ExplainableAI\n",
    "using Flux\n",
    "\n",
    "model = Chain(\n",
    "    Chain(\n",
    "        Conv((3, 3), 3 => 8, relu; pad=1),\n",
    "        Conv((3, 3), 8 => 8, relu; pad=1),\n",
    "        MaxPool((2, 2)),\n",
    "        Conv((3, 3), 8 => 16; pad=1),\n",
    "        BatchNorm(16, relu),\n",
    "        Conv((3, 3), 16 => 8, relu; pad=1),\n",
    "        BatchNorm(8, relu),\n",
    "    ),\n",
    "    Chain(\n",
    "        Flux.flatten,\n",
    "        Dense(2048 => 512, relu),\n",
    "        Dropout(0.5),\n",
    "        Dense(512 => 100, softmax)\n",
    "    ),\n",
    ");"
   ],
   "metadata": {},
   "execution_count": 1
  },
  {
   "cell_type": "markdown",
   "source": [
    "This model contains two chains: the convolutional layers and the fully connected layers."
   ],
   "metadata": {}
  },
  {
   "cell_type": "markdown",
   "source": [
    "## Model preparation\n",
    "### Stripping the output softmax\n",
    "When using LRP, it is recommended to explain output logits instead of probabilities.\n",
    "This can be done by stripping the output softmax activation from the model\n",
    "using the `strip_softmax` function:"
   ],
   "metadata": {}
  },
  {
   "outputs": [
    {
     "output_type": "execute_result",
     "data": {
      "text/plain": "Chain(\n  Chain(\n    Conv((3, 3), 3 => 8, relu, pad=1),  \u001b[90m# 224 parameters\u001b[39m\n    Conv((3, 3), 8 => 8, relu, pad=1),  \u001b[90m# 584 parameters\u001b[39m\n    MaxPool((2, 2)),\n    Conv((3, 3), 8 => 16, pad=1),       \u001b[90m# 1_168 parameters\u001b[39m\n    BatchNorm(16, relu),                \u001b[90m# 32 parameters\u001b[39m\u001b[90m, plus 32\u001b[39m\n    Conv((3, 3), 16 => 8, relu, pad=1),  \u001b[90m# 1_160 parameters\u001b[39m\n    BatchNorm(8, relu),                 \u001b[90m# 16 parameters\u001b[39m\u001b[90m, plus 16\u001b[39m\n  ),\n  Chain(\n    Flux.flatten,\n    Dense(2048 => 512, relu),           \u001b[90m# 1_049_088 parameters\u001b[39m\n    Dropout(0.5),\n    Dense(512 => 100),                  \u001b[90m# 51_300 parameters\u001b[39m\n  ),\n) \u001b[90m        # Total: 16 trainable arrays, \u001b[39m1_103_572 parameters,\n\u001b[90m          # plus 4 non-trainable, 48 parameters, summarysize \u001b[39m4.213 MiB."
     },
     "metadata": {},
     "execution_count": 2
    }
   ],
   "cell_type": "code",
   "source": [
    "model = strip_softmax(model)"
   ],
   "metadata": {},
   "execution_count": 2
  },
  {
   "cell_type": "markdown",
   "source": [
    "If you don't remove the output softmax,\n",
    "model checks will fail."
   ],
   "metadata": {}
  },
  {
   "cell_type": "markdown",
   "source": [
    "### Canonizing the model\n",
    "LRP is not invariant to a model's implementation.\n",
    "Applying the `GammaRule` to two linear layers in a row will yield different results\n",
    "than first fusing the two layers into one linear layer and then applying the rule.\n",
    "This fusing is called \"canonization\" and can be done using the `canonize` function:"
   ],
   "metadata": {}
  },
  {
   "outputs": [
    {
     "output_type": "execute_result",
     "data": {
      "text/plain": "Chain(\n  Conv((3, 3), 3 => 8, relu, pad=1),    \u001b[90m# 224 parameters\u001b[39m\n  Conv((3, 3), 8 => 8, relu, pad=1),    \u001b[90m# 584 parameters\u001b[39m\n  MaxPool((2, 2)),\n  Conv((3, 3), 8 => 16, relu, pad=1),   \u001b[90m# 1_168 parameters\u001b[39m\n  Conv((3, 3), 16 => 8, relu, pad=1),   \u001b[90m# 1_160 parameters\u001b[39m\n  BatchNorm(8, relu),                   \u001b[90m# 16 parameters\u001b[39m\u001b[90m, plus 16\u001b[39m\n  Flux.flatten,\n  Dense(2048 => 512, relu),             \u001b[90m# 1_049_088 parameters\u001b[39m\n  Dropout(0.5),\n  Dense(512 => 100),                    \u001b[90m# 51_300 parameters\u001b[39m\n) \u001b[90m        # Total: 14 trainable arrays, \u001b[39m1_103_540 parameters,\n\u001b[90m          # plus 2 non-trainable, 16 parameters, summarysize \u001b[39m4.212 MiB."
     },
     "metadata": {},
     "execution_count": 3
    }
   ],
   "cell_type": "code",
   "source": [
    "model_canonized = canonize(model)"
   ],
   "metadata": {},
   "execution_count": 3
  },
  {
   "cell_type": "markdown",
   "source": [
    "After canonization, the first `BatchNorm` layer has been fused into the preceding `Conv` layer.\n",
    "The second `BatchNorm` layer wasn't fused\n",
    "since its preceding `Conv` layer has a ReLU activation function."
   ],
   "metadata": {}
  },
  {
   "cell_type": "markdown",
   "source": [
    "### Flattening the model\n",
    "ExplainableAI.jl's LRP implementation supports nested Flux Chains and Parallel layers.\n",
    "However, it is recommended to flatten the model before analyzing it.\n",
    "\n",
    "LRP is implemented by first running a forward pass through the model,\n",
    "keeping track of the intermediate activations, followed by a backward pass\n",
    "that computes the relevances.\n",
    "\n",
    "To keep the LRP implementation simple and maintainable,\n",
    "ExplainableAI.jl does not pre-compute \"nested\" activations.\n",
    "Instead, for every internal chain, a new forward pass is run to compute activations.\n",
    "\n",
    "By \"flattening\" a model, this overhead can be avoided.\n",
    "For this purpose, ExplainableAI.jl provides the function `flatten_model`:"
   ],
   "metadata": {}
  },
  {
   "outputs": [
    {
     "output_type": "execute_result",
     "data": {
      "text/plain": "Chain(\n  Conv((3, 3), 3 => 8, relu, pad=1),    \u001b[90m# 224 parameters\u001b[39m\n  Conv((3, 3), 8 => 8, relu, pad=1),    \u001b[90m# 584 parameters\u001b[39m\n  MaxPool((2, 2)),\n  Conv((3, 3), 8 => 16, pad=1),         \u001b[90m# 1_168 parameters\u001b[39m\n  BatchNorm(16, relu),                  \u001b[90m# 32 parameters\u001b[39m\u001b[90m, plus 32\u001b[39m\n  Conv((3, 3), 16 => 8, relu, pad=1),   \u001b[90m# 1_160 parameters\u001b[39m\n  BatchNorm(8, relu),                   \u001b[90m# 16 parameters\u001b[39m\u001b[90m, plus 16\u001b[39m\n  Flux.flatten,\n  Dense(2048 => 512, relu),             \u001b[90m# 1_049_088 parameters\u001b[39m\n  Dropout(0.5),\n  Dense(512 => 100),                    \u001b[90m# 51_300 parameters\u001b[39m\n) \u001b[90m        # Total: 16 trainable arrays, \u001b[39m1_103_572 parameters,\n\u001b[90m          # plus 4 non-trainable, 48 parameters, summarysize \u001b[39m4.212 MiB."
     },
     "metadata": {},
     "execution_count": 4
    }
   ],
   "cell_type": "code",
   "source": [
    "model_flat = flatten_model(model)"
   ],
   "metadata": {},
   "execution_count": 4
  },
  {
   "cell_type": "markdown",
   "source": [
    "This function is called by default when creating an LRP analyzer.\n",
    "Note that we pass the unflattened model to the analyzer, but `analyzer.model` is flattened:"
   ],
   "metadata": {}
  },
  {
   "outputs": [
    {
     "output_type": "execute_result",
     "data": {
      "text/plain": "Chain(\n  Conv((3, 3), 3 => 8, relu, pad=1),    \u001b[90m# 224 parameters\u001b[39m\n  Conv((3, 3), 8 => 8, relu, pad=1),    \u001b[90m# 584 parameters\u001b[39m\n  MaxPool((2, 2)),\n  Conv((3, 3), 8 => 16, pad=1),         \u001b[90m# 1_168 parameters\u001b[39m\n  BatchNorm(16, relu),                  \u001b[90m# 32 parameters\u001b[39m\u001b[90m, plus 32\u001b[39m\n  Conv((3, 3), 16 => 8, relu, pad=1),   \u001b[90m# 1_160 parameters\u001b[39m\n  BatchNorm(8, relu),                   \u001b[90m# 16 parameters\u001b[39m\u001b[90m, plus 16\u001b[39m\n  Flux.flatten,\n  Dense(2048 => 512, relu),             \u001b[90m# 1_049_088 parameters\u001b[39m\n  Dropout(0.5),\n  Dense(512 => 100),                    \u001b[90m# 51_300 parameters\u001b[39m\n) \u001b[90m        # Total: 16 trainable arrays, \u001b[39m1_103_572 parameters,\n\u001b[90m          # plus 4 non-trainable, 48 parameters, summarysize \u001b[39m4.212 MiB."
     },
     "metadata": {},
     "execution_count": 5
    }
   ],
   "cell_type": "code",
   "source": [
    "analyzer = LRP(model)\n",
    "analyzer.model"
   ],
   "metadata": {},
   "execution_count": 5
  },
  {
   "cell_type": "markdown",
   "source": [
    "If this flattening is not desired, it can be disabled\n",
    "by passing the keyword argument `flatten=false` to the `LRP` constructor."
   ],
   "metadata": {}
  },
  {
   "cell_type": "markdown",
   "source": [
    "## LRP rules\n",
    "By default, the `LRP` constructor will assign the `ZeroRule` to all layers."
   ],
   "metadata": {}
  },
  {
   "outputs": [
    {
     "output_type": "execute_result",
     "data": {
      "text/plain": "LRP(\n  Conv((3, 3), 3 => 8, relu, pad=1) \u001b[90m => \u001b[39m\u001b[33mZeroRule()\u001b[39m,\n  Conv((3, 3), 8 => 8, relu, pad=1) \u001b[90m => \u001b[39m\u001b[33mZeroRule()\u001b[39m,\n  MaxPool((2, 2))                   \u001b[90m => \u001b[39m\u001b[33mZeroRule()\u001b[39m,\n  Conv((3, 3), 8 => 16, pad=1)      \u001b[90m => \u001b[39m\u001b[33mZeroRule()\u001b[39m,\n  BatchNorm(16, relu)               \u001b[90m => \u001b[39m\u001b[33mZeroRule()\u001b[39m,\n  Conv((3, 3), 16 => 8, relu, pad=1)\u001b[90m => \u001b[39m\u001b[33mZeroRule()\u001b[39m,\n  BatchNorm(8, relu)                \u001b[90m => \u001b[39m\u001b[33mZeroRule()\u001b[39m,\n  Flux.flatten                      \u001b[90m => \u001b[39m\u001b[33mZeroRule()\u001b[39m,\n  Dense(2048 => 512, relu)          \u001b[90m => \u001b[39m\u001b[33mZeroRule()\u001b[39m,\n  Dropout(0.5)                      \u001b[90m => \u001b[39m\u001b[33mZeroRule()\u001b[39m,\n  Dense(512 => 100)                 \u001b[90m => \u001b[39m\u001b[33mZeroRule()\u001b[39m,\n)"
     },
     "metadata": {},
     "execution_count": 6
    }
   ],
   "cell_type": "code",
   "source": [
    "LRP(model)"
   ],
   "metadata": {},
   "execution_count": 6
  },
  {
   "cell_type": "markdown",
   "source": [
    "This analyzer will return heatmaps that look identical to `InputTimesGradient`."
   ],
   "metadata": {}
  },
  {
   "cell_type": "markdown",
   "source": [
    "LRP's strength lies in assigning different rules to different layers,\n",
    "based on their functionality in the neural network[^1].\n",
    "ExplainableAI.jl implements many LRP rules out of the box,\n",
    "but it is also possible to *implement custom rules*.\n",
    "\n",
    "To assign different rules to different layers,\n",
    "use one of the composites presets,\n",
    "or create your own composite, as described in\n",
    "*Assigning rules to layers*."
   ],
   "metadata": {}
  },
  {
   "outputs": [
    {
     "output_type": "execute_result",
     "data": {
      "text/plain": "Composite(\n  GlobalTypeMap(  \u001b[90m# all layers\u001b[39m\n\u001b[94m    Flux.Conv              \u001b[39m => \u001b[33mZPlusRule()\u001b[39m,\n\u001b[94m    Flux.ConvTranspose     \u001b[39m => \u001b[33mZPlusRule()\u001b[39m,\n\u001b[94m    Flux.CrossCor          \u001b[39m => \u001b[33mZPlusRule()\u001b[39m,\n\u001b[94m    Flux.Dense             \u001b[39m => \u001b[33mEpsilonRule{Float32}(1.0f-6)\u001b[39m,\n\u001b[94m    typeof(NNlib.dropout)  \u001b[39m => \u001b[33mPassRule()\u001b[39m,\n\u001b[94m    Flux.AlphaDropout      \u001b[39m => \u001b[33mPassRule()\u001b[39m,\n\u001b[94m    Flux.Dropout           \u001b[39m => \u001b[33mPassRule()\u001b[39m,\n\u001b[94m    Flux.BatchNorm         \u001b[39m => \u001b[33mPassRule()\u001b[39m,\n\u001b[94m    typeof(Flux.flatten)   \u001b[39m => \u001b[33mPassRule()\u001b[39m,\n\u001b[94m    typeof(MLUtils.flatten)\u001b[39m => \u001b[33mPassRule()\u001b[39m,\n\u001b[94m    typeof(identity)       \u001b[39m => \u001b[33mPassRule()\u001b[39m,\n ),\n  FirstLayerTypeMap(  \u001b[90m# first layer\u001b[39m\n\u001b[94m    Flux.Conv         \u001b[39m => \u001b[33mFlatRule()\u001b[39m,\n\u001b[94m    Flux.ConvTranspose\u001b[39m => \u001b[33mFlatRule()\u001b[39m,\n\u001b[94m    Flux.CrossCor     \u001b[39m => \u001b[33mFlatRule()\u001b[39m,\n ),\n)"
     },
     "metadata": {},
     "execution_count": 7
    }
   ],
   "cell_type": "code",
   "source": [
    "composite = EpsilonPlusFlat() # using composite preset EpsilonPlusFlat"
   ],
   "metadata": {},
   "execution_count": 7
  },
  {
   "outputs": [
    {
     "output_type": "execute_result",
     "data": {
      "text/plain": "LRP(\n  Conv((3, 3), 3 => 8, relu, pad=1) \u001b[90m => \u001b[39m\u001b[33mFlatRule()\u001b[39m,\n  Conv((3, 3), 8 => 8, relu, pad=1) \u001b[90m => \u001b[39m\u001b[33mZPlusRule()\u001b[39m,\n  MaxPool((2, 2))                   \u001b[90m => \u001b[39m\u001b[33mZeroRule()\u001b[39m,\n  Conv((3, 3), 8 => 16, pad=1)      \u001b[90m => \u001b[39m\u001b[33mZPlusRule()\u001b[39m,\n  BatchNorm(16, relu)               \u001b[90m => \u001b[39m\u001b[33mPassRule()\u001b[39m,\n  Conv((3, 3), 16 => 8, relu, pad=1)\u001b[90m => \u001b[39m\u001b[33mZPlusRule()\u001b[39m,\n  BatchNorm(8, relu)                \u001b[90m => \u001b[39m\u001b[33mPassRule()\u001b[39m,\n  Flux.flatten                      \u001b[90m => \u001b[39m\u001b[33mPassRule()\u001b[39m,\n  Dense(2048 => 512, relu)          \u001b[90m => \u001b[39m\u001b[33mEpsilonRule{Float32}(1.0f-6)\u001b[39m,\n  Dropout(0.5)                      \u001b[90m => \u001b[39m\u001b[33mPassRule()\u001b[39m,\n  Dense(512 => 100)                 \u001b[90m => \u001b[39m\u001b[33mEpsilonRule{Float32}(1.0f-6)\u001b[39m,\n)"
     },
     "metadata": {},
     "execution_count": 8
    }
   ],
   "cell_type": "code",
   "source": [
    "LRP(model, composite)"
   ],
   "metadata": {},
   "execution_count": 8
  },
  {
   "cell_type": "markdown",
   "source": [
    "## Computing layerwise relevances\n",
    "If you are interested in computing layerwise relevances,\n",
    "call `analyze` with an LRP analyzer and the keyword argument\n",
    "`layerwise_relevances=true`.\n",
    "\n",
    "The layerwise relevances can be accessed in the `extras` field\n",
    "of the returned `Explanation`:"
   ],
   "metadata": {}
  },
  {
   "outputs": [
    {
     "output_type": "execute_result",
     "data": {
      "text/plain": "([0.8475717 -7.1697936 … -4.488311 1.1361938; -1.4444214 6.4424925 … 0.049590174 0.05712043; … ; -1.1246612 -0.33655813 … 0.31200156 -6.318459; 0.4740614 0.098925225 … -2.2351985 0.36043087;;; -2.4671514 -0.25601497 … 2.8541305 -0.049491722; -1.9567597 1.345493 … 0.25834134 -0.1600452; … ; -0.38714147 0.19034539 … 3.0102313 -0.720391; 0.33046827 -0.3779141 … 0.8075993 3.3615806;;; -0.8969717 0.52079296 … -0.03711886 -0.59357977; -0.8508581 1.6018223 … -5.642279 2.8783355; … ; -0.32322997 0.018035587 … -1.6698924 -4.524719; 0.6536909 -0.20039631 … -0.47951293 3.4790509;;;;], [-0.22696327 0.1595568 … -0.0 0.12275504; -2.3384645 -6.571844 … -2.0594947 -0.0; … ; -0.77411586 0.008492024 … 4.2491884 -6.2431884; -0.0 -1.0703822 … 0.47847387 1.3185023;;; -0.21884148 0.073254675 … 0.4200339 0.013864291; 0.0 6.656616 … 0.0 -0.0; … ; 0.1265086 -0.0021854574 … -0.52711165 0.6081338; -0.15634407 0.0 … 0.0 -1.3049481;;; 0.0 0.13968861 … -0.34063217 -0.019537486; 0.0 -16.86173 … -0.46113458 -0.02562767; … ; -0.0 0.10754932 … 3.038871 -2.519779; -0.0 0.0 … 0.0 -0.0;;; 0.0 -0.067065425 … 0.012297578 -0.0; 0.0 0.0 … 0.0 0.0; … ; 0.0 0.0 … -0.0 0.0; 0.0 0.0 … 0.0 -0.0;;; 0.025165219 0.0 … -0.0 0.060359843; 0.0 0.0 … -0.0 -0.0; … ; 0.0 0.0 … -0.0 -0.0; -0.0 -0.0 … -0.0 1.5817617;;; -0.0 -0.0 … 0.0 0.0; 0.0 0.0 … -0.0 -0.0; … ; 0.0 0.0 … -0.0 -0.0; -0.0 -0.0 … -0.0 -0.0;;; 0.0 -0.0 … -0.51191753 -0.0; -2.6656632 -1.2189338 … -2.3354976 -0.01798043; … ; -0.5373807 -0.10380358 … 1.1988384 0.55102193; 0.20164077 0.22174996 … 1.3380594 -1.6394252;;; -0.0011065522 -0.0 … 0.0 0.007215514; -0.0 -4.552626 … -2.1121335 0.24426618; … ; 0.0 0.009786439 … 0.0 -1.328529; 0.0 0.0 … 0.0 -0.66778344;;;;], [0.0 0.0 … 0.0 0.0; 0.33664817 0.0 … 0.0 0.0; … ; 0.0 0.0 … 0.0 0.0; 0.0 0.0 … 0.0 0.0;;; 0.0 -1.225919 … 0.0 0.0; 0.0 0.0 … -0.020629799 0.0; … ; 0.0 0.0 … 0.0 0.0; 0.0 -0.12019786 … 0.0 -3.1420856;;; 0.0 0.0 … 0.008118986 0.0; 0.0 -0.68374693 … 0.0 0.0; … ; 0.0 0.0 … 0.0 0.0; 0.0 0.0 … 0.0 0.0;;; 0.0 0.0 … 0.0 0.0; 0.0 0.0 … 0.0 0.6001643; … ; 0.0 -0.9442996 … 0.0 9.241107; 0.0 0.0 … 0.0 0.0;;; 0.0 0.0 … 0.0 0.0; -0.2457138 0.0 … 0.003491711 0.0; … ; 0.0 0.0 … 0.0 0.0; 0.0 -0.22732817 … -8.271585 0.0;;; 0.0 -0.47245488 … 0.0 0.0; 0.0 0.0 … 0.0 0.0; … ; -0.45936066 0.0 … 0.0 0.0; 0.0 0.0 … 1.1250798 0.0;;; 0.0 0.0 … 0.0 0.0; 0.0 0.66176873 … 0.0 0.2662933; … ; 0.0 0.18482502 … 0.8416744 0.0; 0.0 0.0 … 0.0 0.0;;; 0.0 -0.242841 … 0.0 0.0; 0.0 0.0 … 0.0 0.019465607; … ; 0.0 0.0 … 0.0 0.0; 0.0 0.0 … 0.0 0.0;;;;], [0.33664817 -0.3232904 … -0.0 0.0; 1.497703 -0.9163267 … 0.0 0.0; … ; 0.0810353 0.0 … 0.0 -0.0; 0.0 0.0 … -0.0 -0.0;;; -1.225919 -0.2860293 … -1.2783372 -0.020629799; -24.415209 0.18323459 … -5.938703 0.09786164; … ; 0.96737564 0.27199918 … -6.316541 3.082328; -0.12019786 -1.2572006 … 11.766889 -3.1420856;;; -0.68374693 -0.7908411 … -4.206411 0.008118987; 5.355823 -0.0 … -3.6727257 -0.053720407; … ; -0.778071 -0.0 … 4.003262 -0.0; 0.0 -0.0 … 0.0 -0.0;;; 0.0 -0.56845284 … -0.39311638 0.6001643; -3.9988358 -19.438297 … -0.37068054 -0.09880083; … ; -0.11395652 -0.6595375 … 5.3904576 -0.811703; -0.9442996 0.40513203 … -10.294487 9.241107;;; -0.2457138 0.0 … -0.0 0.003491711; 5.838152 -7.8870506 … -4.6675396 -0.9444446; … ; -0.69098943 -0.06310587 … -7.2679996 -4.143128; -0.22732817 -1.4356711 … 2.6139522 -8.271585;;; -0.47245488 0.0070281345 … 2.4257712 0.0; 2.9465168 0.6687356 … 0.8830795 0.0; … ; 0.005847979 -0.0 … 2.2078536 1.0894227; -0.45936066 0.22049432 … -6.1201854 1.1250798;;; 0.66176873 -0.7916139 … 2.6756673 0.2662933; 3.9251704 3.532001 … -1.3654399 0.30777365; … ; 1.0776886 0.13098526 … -0.26191494 0.23293199; 0.18482502 0.2591226 … 9.306545 0.8416744;;; -0.242841 -0.5449257 … 2.5185409 0.019465607; -0.0 0.0 … 0.75029254 0.19382295; … ; 0.0 -0.08345045 … -0.0 5.595603; 0.0 0.0 … 0.0 -0.0;;;;], [-0.16875565 0.039860528 … 0.12267062 -0.008322832; 0.23818876 0.29580578 … 0.29551917 0.26683673; … ; 0.28718054 6.1847806 … 0.26015764 0.2469402; 0.27939254 -0.2708957 … 15.452564 9.008409;;; -0.28730184 -0.49382684 … 1.8501831 -0.3631658; -0.25055063 -0.4366688 … -0.42578274 -0.38450912; … ; -0.21368124 -0.2802032 … -0.3071137 -0.2904355; -0.29746345 -0.40855035 … -0.37778443 -0.54666674;;; 0.0 -0.0 … -0.0 -0.0; 0.0 -0.0 … -0.0 0.0; … ; 0.0 -0.0 … -0.0 -0.0; 0.0 0.0 … 0.0 0.0;;; … ;;; -0.038858086 -0.018823355 … -0.0013626121 -0.001630362; -0.06668197 -0.013049428 … -0.07230011 -0.17746434; … ; -0.007690644 -0.0027063212 … -2.785287 -0.014764936; -8.084986f-5 0.14066528 … -0.00023056433 -0.008404706;;; -0.00044263405 0.0025184094 … -0.00020240962 -0.096985735; 0.00010626356 -0.00032326262 … -0.001204841 -0.041081473; … ; 0.0012718498 -0.00039495912 … -0.0003940873 -0.030759208; -7.550034f-5 -0.00010091908 … 0.0010861992 -0.0004205905;;; 0.002445004 -0.1871355 … -0.5631299 -0.015271132; -0.05282836 -0.24701104 … -0.8181549 -0.6762657; … ; 0.005902118 -0.22586083 … -0.018382564 0.9387324; 0.1949138 -0.06594324 … 0.059692763 0.027832458;;;;], [-0.0 -0.0022847287 … -0.02483681 0.0; -0.08589631 -0.06888038 … 0.045882143 0.19715081; … ; 0.029471707 0.12628426 … -1.2814163 -0.5576878; -0.0017552187 -0.04304656 … 3.0411236 1.1189598;;; 0.07305492 -0.0055157384 … 0.0855077 -0.08143185; -0.12395274 0.19417697 … -0.10364558 -0.15496147; … ; -0.013865132 -0.055260856 … 0.34629735 0.8072763; -0.0067812544 -0.028736465 … -0.17519933 -0.92967504;;; -0.0 0.0 … 0.0 0.0; -0.0 0.0 … 0.0 -0.0; … ; -0.0 -0.0 … -0.0 0.0; -0.0 -0.0 … -0.0 -0.0;;; … ;;; 0.0 0.09019711 … -0.009482848 -0.0; 0.0 -0.023737136 … -0.008696706 -0.036356896; … ; -0.0 0.0037418297 … -1.2193558 0.2205926; 0.00012480674 0.02304664 … -0.0 0.13061407;;; -0.0 0.012242721 … -0.0 -0.18604161; 0.0 0.0 … -0.00879504 -0.09142518; … ; -0.0 0.0 … 0.0 -0.1097361; -0.0 0.0 … 0.0 -0.0;;; -0.0 0.07993682 … -0.028215045 0.0012413287; 0.01720809 -0.0296712 … -0.24687178 -0.12077617; … ; 0.0 0.019101437 … 0.0056146034 1.217103; 0.0 9.246866f-5 … 0.0 0.0;;;;], [0.12484039 0.13426952 … -1.843986 0.17136796; 0.13453697 -1.5301319 … 0.14538436 0.13362727; … ; 0.19444402 0.19049941 … 0.09016372 0.09593537; 0.12760432 0.09582819 … 0.0 0.012129132;;; 0.11311002 -0.0008356604 … -0.07000015 -0.039947927; -0.0 0.045617826 … 0.0049430495 -0.044375822; … ; -0.038069863 -0.0022607867 … -0.012476669 -0.0009096046; -0.0032924477 -0.0 … -0.0 -0.0;;; -0.0 -0.0 … -0.0 -0.0; -0.0 -0.0 … -0.0 -0.0; … ; -0.0 -0.0 … 0.0029838157 0.0012095309; -0.0 -0.0 … -0.0 -0.0;;; -0.07187138 -0.054098137 … -0.08015783 -0.1552247; -0.34248093 0.00084593013 … -0.016165901 -0.10487174; … ; -0.020403737 -0.037846394 … -0.0 -0.026321772; -0.038976766 -0.032417715 … -0.0 -0.04230136;;; 0.0 0.0020242438 … 0.0 0.0; 0.0 0.0 … 0.0 0.0; … ; 0.0 0.0 … 0.0 0.0; 0.0 0.0 … 0.0 0.0;;; 0.0 0.0 … 0.0 0.0; 0.0 0.0 … 0.0 0.0; … ; 0.0 0.008805018 … 0.021431597 0.00957633; 0.0064104726 0.03425378 … 0.055306837 -3.4859874;;; -0.0 -0.0 … -0.0 -0.006438595; -0.0 -0.0 … -0.0 0.00050646847; … ; -0.0 -0.0 … -0.0 -0.0; -0.0 -0.0 … -0.0 -0.0;;; 0.0 0.0 … 0.0 -0.0017350034; 0.0 0.0 … 0.0 0.0; … ; 0.0 0.0 … 0.0 0.0; 0.0 0.0 … 0.0 0.0;;;;], [-0.014471237 -0.015729425 … -0.046234515 0.010959965; 0.019310832 -0.04908916 … -0.056453194 0.018171405; … ; -0.0036234742 -0.011026488 … 0.007640168 -0.0091712; -5.2719017f-5 0.0038822533 … -0.0 0.0008996176;;; 0.028302314 -0.0022057812 … -0.03610562 -0.010256241; 0.0 0.0038341417 … 0.00815893 -0.0109770605; … ; -0.011481236 -0.0013815702 … -0.0026811832 0.001038947; 0.001083544 -0.0 … -0.0 -0.0;;; -0.0 0.0 … 0.0 -0.0; 0.0 0.0 … -0.0 0.0; … ; 0.0 -0.0 … 0.0027576836 0.00083961047; 0.0 -0.0 … -0.0 -0.0;;; -0.0020171243 0.0026744544 … -0.0025201875 -0.00932781; -0.0094645405 0.0060320343 … -0.002019997 -0.00094254204; … ; 0.0014515043 0.004662556 … 0.0 0.000327833; 0.003146344 -0.0026844807 … 0.0 -0.004718611;;; 0.0 0.0011220279 … 0.0 0.0; -0.0 -0.0 … -0.0 0.0; … ; -0.0 0.0 … -0.0 0.0; -0.0 0.0 … -0.0 -0.0;;; 0.0 -0.0 … 0.0 -0.0; -0.0 -0.0 … 0.0 0.0; … ; 0.0 -0.0021286833 … -0.00024098113 -0.00036338548; -0.00092264323 0.0040292256 … 0.014067801 -0.0030706576;;; 0.0 0.0 … -0.0 -0.0028632467; -0.0 -0.0 … 0.0 0.0012165287; … ; -0.0 0.0 … -0.0 -0.0; -0.0 -0.0 … 0.0 -0.0;;; -0.0 -0.0 … -0.0 -0.0016446752; -0.0 0.0 … 0.0 0.0; … ; -0.0 -0.0 … 0.0 0.0; 0.0 -0.0 … -0.0 -0.0;;;;], Float32[-0.014471237; 0.019310832; … ; 0.0; -0.0;;], Float32[-0.0022347402; 0.00031276996; … ; -0.009186808; 0.0051694354;;], Float32[-0.0022347402; 0.00031276996; … ; -0.009186808; 0.0051694354;;], Float32[0.0; 0.0; … ; 0.0; 0.0;;])"
     },
     "metadata": {},
     "execution_count": 9
    }
   ],
   "cell_type": "code",
   "source": [
    "input = rand(Float32, 32, 32, 3, 1) # dummy input for our convolutional neural network\n",
    "\n",
    "expl = analyze(input, analyzer; layerwise_relevances=true)\n",
    "expl.extras.layerwise_relevances"
   ],
   "metadata": {},
   "execution_count": 9
  },
  {
   "cell_type": "markdown",
   "source": [
    "Note that the layerwise relevances are only kept for layers in the outermost `Chain` of the model.\n",
    "When using our unflattened model, we only obtain three layerwise relevances,\n",
    "one for each chain in the model and the output relevance:"
   ],
   "metadata": {}
  },
  {
   "outputs": [
    {
     "output_type": "execute_result",
     "data": {
      "text/plain": "([0.15582691 -3.1213174 … -6.4253135 1.6301719; -0.7050953 3.50072 … 0.06963738 0.054919597; … ; -0.9018942 0.11207772 … -0.013051861 -0.010345775; 0.2092828 -0.017452195 … 0.12936424 -0.03045101;;; -1.0922853 0.13651791 … 4.704833 -0.3087354; -0.6725761 0.56188923 … 0.8293746 -0.056550827; … ; -0.057511672 -0.12849325 … -0.0064434265 0.048923012; 0.31806454 -0.8607238 … -0.19238603 0.28601038;;; -0.32185525 0.29606384 … -0.07203742 -0.13011013; 0.29198843 0.7582749 … -7.962946 4.348396; … ; 0.61944526 -0.03951049 … -0.120283864 0.32698154; 0.36423 -0.13700296 … -0.07616277 -0.03217129;;;;], [-0.015274267 -0.013119842 … -0.03814421 0.013781803; 0.019083558 -0.052591145 … -0.061644986 0.013201584; … ; -0.004906296 -0.00756409 … 0.0076116286 -0.0046764715; -0.0014372871 0.0062079914 … -0.0 0.0;;; 0.03108128 -0.0008958684 … -0.039702572 -0.011224626; 0.0 0.0008334859 … 0.010432166 -0.012602647; … ; -0.0057067485 -0.002230405 … -0.0040338514 0.0004106881; 0.005093248 -0.0 … -0.0 -0.0;;; 1.51257f-5 0.0 … 0.0 -0.0; 0.0 0.0 … -0.0 0.0; … ; 0.0 -0.0 … 0.0024999697 0.00041408444; 0.0 -0.0 … -0.0 -0.0;;; -0.00023129482 -0.00041644723 … -0.0019228942 -0.0118443; -0.011862783 0.009563815 … -0.0 0.0015707853; … ; 0.0009690547 0.0024990002 … -0.0 0.00093028677; 0.0022725367 -0.0009851455 … 0.0 -0.0052099586;;; 0.0 0.0024481341 … 0.0 0.0; -0.0 -0.0 … -0.0 0.0; … ; -0.0 0.0 … -0.0 0.0; -0.0 -0.0 … -0.0 -0.0;;; 0.0 -0.0 … 0.0 -0.0; -0.0 -0.0 … 0.0 0.0; … ; 0.0 -0.0015070414 … -0.0017019688 -0.0009212834; -0.00090341794 0.0059252647 … 0.017632507 -0.0039091976;;; 0.0 -0.0 … -0.0 -0.0031171774; 0.0 -0.0 … 0.0 0.004427816; … ; -0.0 0.0 … -0.0 -0.0; -0.0 -0.0 … 0.0 -0.0;;; -0.0 -0.00047698957 … -0.0 -0.0013966915; -0.0 0.0 … 0.0 0.0; … ; -0.0 -0.0 … 0.0 0.0; 0.0 -0.0 … -0.0 -0.0;;;;], Float32[0.0; 0.0; … ; 0.0; 0.0;;])"
     },
     "metadata": {},
     "execution_count": 10
    }
   ],
   "cell_type": "code",
   "source": [
    "analyzer = LRP(model; flatten=false) # use unflattened model\n",
    "\n",
    "expl = analyze(input, analyzer; layerwise_relevances=true)\n",
    "expl.extras.layerwise_relevances"
   ],
   "metadata": {},
   "execution_count": 10
  },
  {
   "cell_type": "markdown",
   "source": [
    "## Performance tips\n",
    "### Using LRP with a GPU\n",
    "Like all other analyzers, LRP can be used on GPUs.\n",
    "Follow the instructions on *GPU support*.\n",
    "\n",
    "### Using LRP without a GPU\n",
    "Using Julia's package extension mechanism,\n",
    "ExplainableAI.jl's LRP implementation can optionally make use of\n",
    "[Tullio.jl](https://github.com/mcabbott/Tullio.jl) and\n",
    "[LoopVectorization.jl](https://github.com/JuliaSIMD/LoopVectorization.jl)\n",
    "for faster LRP rules on dense layers.\n",
    "\n",
    "This only requires loading the packages before loading ExplainableAI.jl:\n",
    "```julia\n",
    "using LoopVectorization, Tullio\n",
    "using ExplainableAI\n",
    "```\n",
    "\n",
    "[^1]: G. Montavon et al., [Layer-Wise Relevance Propagation: An Overview](https://link.springer.com/chapter/10.1007/978-3-030-28954-6_10)"
   ],
   "metadata": {}
  },
  {
   "cell_type": "markdown",
   "source": [
    "---\n",
    "\n",
    "*This notebook was generated using [Literate.jl](https://github.com/fredrikekre/Literate.jl).*"
   ],
   "metadata": {}
  }
 ],
 "nbformat_minor": 3,
 "metadata": {
  "language_info": {
   "file_extension": ".jl",
   "mimetype": "application/julia",
   "name": "julia",
   "version": "1.9.3"
  },
  "kernelspec": {
   "name": "julia-1.9",
   "display_name": "Julia 1.9.3",
   "language": "julia"
  }
 },
 "nbformat": 4
}
