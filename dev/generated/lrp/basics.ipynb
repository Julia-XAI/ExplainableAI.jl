{
 "cells": [
  {
   "cell_type": "markdown",
   "source": [
    "# Basic usage of LRP\n",
    "This example will show you best practices for using LRP,\n",
    "building on the basics shown in the *Getting started* section."
   ],
   "metadata": {}
  },
  {
   "cell_type": "markdown",
   "source": [
    "We start out by loading a small convolutional neural network:"
   ],
   "metadata": {}
  },
  {
   "outputs": [],
   "cell_type": "code",
   "source": [
    "using ExplainableAI\n",
    "using Flux\n",
    "\n",
    "model = Chain(\n",
    "    Chain(\n",
    "        Conv((3, 3), 3 => 8, relu; pad=1),\n",
    "        Conv((3, 3), 8 => 8, relu; pad=1),\n",
    "        MaxPool((2, 2)),\n",
    "        Conv((3, 3), 8 => 16; pad=1),\n",
    "        BatchNorm(16, relu),\n",
    "        Conv((3, 3), 16 => 8, relu; pad=1),\n",
    "        BatchNorm(8, relu),\n",
    "    ),\n",
    "    Chain(\n",
    "        Flux.flatten,\n",
    "        Dense(2048 => 512, relu),\n",
    "        Dropout(0.5),\n",
    "        Dense(512 => 100, softmax)\n",
    "    ),\n",
    ");"
   ],
   "metadata": {},
   "execution_count": 1
  },
  {
   "cell_type": "markdown",
   "source": [
    "This model contains two chains: the convolutional layers and the fully connected layers."
   ],
   "metadata": {}
  },
  {
   "cell_type": "markdown",
   "source": [
    "## Model preparation\n",
    "### Stripping the output softmax\n",
    "When using LRP, it is recommended to explain output logits instead of probabilities.\n",
    "This can be done by stripping the output softmax activation from the model\n",
    "using the `strip_softmax` function:"
   ],
   "metadata": {}
  },
  {
   "outputs": [
    {
     "output_type": "execute_result",
     "data": {
      "text/plain": "Chain(\n  Chain(\n    Conv((3, 3), 3 => 8, relu, pad=1),  \u001b[90m# 224 parameters\u001b[39m\n    Conv((3, 3), 8 => 8, relu, pad=1),  \u001b[90m# 584 parameters\u001b[39m\n    MaxPool((2, 2)),\n    Conv((3, 3), 8 => 16, pad=1),       \u001b[90m# 1_168 parameters\u001b[39m\n    BatchNorm(16, relu),                \u001b[90m# 32 parameters\u001b[39m\u001b[90m, plus 32\u001b[39m\n    Conv((3, 3), 16 => 8, relu, pad=1),  \u001b[90m# 1_160 parameters\u001b[39m\n    BatchNorm(8, relu),                 \u001b[90m# 16 parameters\u001b[39m\u001b[90m, plus 16\u001b[39m\n  ),\n  Chain(\n    Flux.flatten,\n    Dense(2048 => 512, relu),           \u001b[90m# 1_049_088 parameters\u001b[39m\n    Dropout(0.5),\n    Dense(512 => 100),                  \u001b[90m# 51_300 parameters\u001b[39m\n  ),\n) \u001b[90m        # Total: 16 trainable arrays, \u001b[39m1_103_572 parameters,\n\u001b[90m          # plus 4 non-trainable, 48 parameters, summarysize \u001b[39m4.213 MiB."
     },
     "metadata": {},
     "execution_count": 2
    }
   ],
   "cell_type": "code",
   "source": [
    "model = strip_softmax(model)"
   ],
   "metadata": {},
   "execution_count": 2
  },
  {
   "cell_type": "markdown",
   "source": [
    "If you don't remove the output softmax,\n",
    "model checks will fail."
   ],
   "metadata": {}
  },
  {
   "cell_type": "markdown",
   "source": [
    "### Canonizing the model\n",
    "LRP is not invariant to a model's implementation.\n",
    "Applying the `GammaRule` to two linear layers in a row will yield different results\n",
    "than first fusing the two layers into one linear layer and then applying the rule.\n",
    "This fusing is called \"canonization\" and can be done using the `canonize` function:"
   ],
   "metadata": {}
  },
  {
   "outputs": [
    {
     "output_type": "execute_result",
     "data": {
      "text/plain": "Chain(\n  Conv((3, 3), 3 => 8, relu, pad=1),    \u001b[90m# 224 parameters\u001b[39m\n  Conv((3, 3), 8 => 8, relu, pad=1),    \u001b[90m# 584 parameters\u001b[39m\n  MaxPool((2, 2)),\n  Conv((3, 3), 8 => 16, relu, pad=1),   \u001b[90m# 1_168 parameters\u001b[39m\n  Conv((3, 3), 16 => 8, relu, pad=1),   \u001b[90m# 1_160 parameters\u001b[39m\n  BatchNorm(8, relu),                   \u001b[90m# 16 parameters\u001b[39m\u001b[90m, plus 16\u001b[39m\n  Flux.flatten,\n  Dense(2048 => 512, relu),             \u001b[90m# 1_049_088 parameters\u001b[39m\n  Dropout(0.5),\n  Dense(512 => 100),                    \u001b[90m# 51_300 parameters\u001b[39m\n) \u001b[90m        # Total: 14 trainable arrays, \u001b[39m1_103_540 parameters,\n\u001b[90m          # plus 2 non-trainable, 16 parameters, summarysize \u001b[39m4.212 MiB."
     },
     "metadata": {},
     "execution_count": 3
    }
   ],
   "cell_type": "code",
   "source": [
    "model_canonized = canonize(model)"
   ],
   "metadata": {},
   "execution_count": 3
  },
  {
   "cell_type": "markdown",
   "source": [
    "After canonization, the first `BatchNorm` layer has been fused into the preceding `Conv` layer.\n",
    "The second `BatchNorm` layer wasn't fused\n",
    "since its preceding `Conv` layer has a ReLU activation function."
   ],
   "metadata": {}
  },
  {
   "cell_type": "markdown",
   "source": [
    "### Flattening the model\n",
    "ExplainableAI.jl's LRP implementation supports nested Flux Chains and Parallel layers.\n",
    "However, it is recommended to flatten the model before analyzing it.\n",
    "\n",
    "LRP is implemented by first running a forward pass through the model,\n",
    "keeping track of the intermediate activations, followed by a backward pass\n",
    "that computes the relevances.\n",
    "\n",
    "To keep the LRP implementation simple and maintainable,\n",
    "ExplainableAI.jl does not pre-compute \"nested\" activations.\n",
    "Instead, for every internal chain, a new forward pass is run to compute activations.\n",
    "\n",
    "By \"flattening\" a model, this overhead can be avoided.\n",
    "For this purpose, ExplainableAI.jl provides the function `flatten_model`:"
   ],
   "metadata": {}
  },
  {
   "outputs": [
    {
     "output_type": "execute_result",
     "data": {
      "text/plain": "Chain(\n  Conv((3, 3), 3 => 8, relu, pad=1),    \u001b[90m# 224 parameters\u001b[39m\n  Conv((3, 3), 8 => 8, relu, pad=1),    \u001b[90m# 584 parameters\u001b[39m\n  MaxPool((2, 2)),\n  Conv((3, 3), 8 => 16, pad=1),         \u001b[90m# 1_168 parameters\u001b[39m\n  BatchNorm(16, relu),                  \u001b[90m# 32 parameters\u001b[39m\u001b[90m, plus 32\u001b[39m\n  Conv((3, 3), 16 => 8, relu, pad=1),   \u001b[90m# 1_160 parameters\u001b[39m\n  BatchNorm(8, relu),                   \u001b[90m# 16 parameters\u001b[39m\u001b[90m, plus 16\u001b[39m\n  Flux.flatten,\n  Dense(2048 => 512, relu),             \u001b[90m# 1_049_088 parameters\u001b[39m\n  Dropout(0.5),\n  Dense(512 => 100),                    \u001b[90m# 51_300 parameters\u001b[39m\n) \u001b[90m        # Total: 16 trainable arrays, \u001b[39m1_103_572 parameters,\n\u001b[90m          # plus 4 non-trainable, 48 parameters, summarysize \u001b[39m4.212 MiB."
     },
     "metadata": {},
     "execution_count": 4
    }
   ],
   "cell_type": "code",
   "source": [
    "model_flat = flatten_model(model)"
   ],
   "metadata": {},
   "execution_count": 4
  },
  {
   "cell_type": "markdown",
   "source": [
    "This function is called by default when creating an LRP analyzer.\n",
    "Note that we pass the unflattened model to the analyzer, but `analyzer.model` is flattened:"
   ],
   "metadata": {}
  },
  {
   "outputs": [
    {
     "output_type": "execute_result",
     "data": {
      "text/plain": "Chain(\n  Conv((3, 3), 3 => 8, relu, pad=1),    \u001b[90m# 224 parameters\u001b[39m\n  Conv((3, 3), 8 => 8, relu, pad=1),    \u001b[90m# 584 parameters\u001b[39m\n  MaxPool((2, 2)),\n  Conv((3, 3), 8 => 16, pad=1),         \u001b[90m# 1_168 parameters\u001b[39m\n  BatchNorm(16, relu),                  \u001b[90m# 32 parameters\u001b[39m\u001b[90m, plus 32\u001b[39m\n  Conv((3, 3), 16 => 8, relu, pad=1),   \u001b[90m# 1_160 parameters\u001b[39m\n  BatchNorm(8, relu),                   \u001b[90m# 16 parameters\u001b[39m\u001b[90m, plus 16\u001b[39m\n  Flux.flatten,\n  Dense(2048 => 512, relu),             \u001b[90m# 1_049_088 parameters\u001b[39m\n  Dropout(0.5),\n  Dense(512 => 100),                    \u001b[90m# 51_300 parameters\u001b[39m\n) \u001b[90m        # Total: 16 trainable arrays, \u001b[39m1_103_572 parameters,\n\u001b[90m          # plus 4 non-trainable, 48 parameters, summarysize \u001b[39m4.212 MiB."
     },
     "metadata": {},
     "execution_count": 5
    }
   ],
   "cell_type": "code",
   "source": [
    "analyzer = LRP(model)\n",
    "analyzer.model"
   ],
   "metadata": {},
   "execution_count": 5
  },
  {
   "cell_type": "markdown",
   "source": [
    "If this flattening is not desired, it can be disabled\n",
    "by passing the keyword argument `flatten=false` to the `LRP` constructor."
   ],
   "metadata": {}
  },
  {
   "cell_type": "markdown",
   "source": [
    "## LRP rules\n",
    "By default, the `LRP` constructor will assign the `ZeroRule` to all layers."
   ],
   "metadata": {}
  },
  {
   "outputs": [
    {
     "output_type": "execute_result",
     "data": {
      "text/plain": "LRP(\n  Conv((3, 3), 3 => 8, relu, pad=1) \u001b[90m => \u001b[39m\u001b[33mZeroRule()\u001b[39m,\n  Conv((3, 3), 8 => 8, relu, pad=1) \u001b[90m => \u001b[39m\u001b[33mZeroRule()\u001b[39m,\n  MaxPool((2, 2))                   \u001b[90m => \u001b[39m\u001b[33mZeroRule()\u001b[39m,\n  Conv((3, 3), 8 => 16, pad=1)      \u001b[90m => \u001b[39m\u001b[33mZeroRule()\u001b[39m,\n  BatchNorm(16, relu)               \u001b[90m => \u001b[39m\u001b[33mZeroRule()\u001b[39m,\n  Conv((3, 3), 16 => 8, relu, pad=1)\u001b[90m => \u001b[39m\u001b[33mZeroRule()\u001b[39m,\n  BatchNorm(8, relu)                \u001b[90m => \u001b[39m\u001b[33mZeroRule()\u001b[39m,\n  Flux.flatten                      \u001b[90m => \u001b[39m\u001b[33mZeroRule()\u001b[39m,\n  Dense(2048 => 512, relu)          \u001b[90m => \u001b[39m\u001b[33mZeroRule()\u001b[39m,\n  Dropout(0.5)                      \u001b[90m => \u001b[39m\u001b[33mZeroRule()\u001b[39m,\n  Dense(512 => 100)                 \u001b[90m => \u001b[39m\u001b[33mZeroRule()\u001b[39m,\n)"
     },
     "metadata": {},
     "execution_count": 6
    }
   ],
   "cell_type": "code",
   "source": [
    "LRP(model)"
   ],
   "metadata": {},
   "execution_count": 6
  },
  {
   "cell_type": "markdown",
   "source": [
    "This analyzer will return heatmaps that look identical to `InputTimesGradient`."
   ],
   "metadata": {}
  },
  {
   "cell_type": "markdown",
   "source": [
    "LRP's strength lies in assigning different rules to different layers,\n",
    "based on their functionality in the neural network[^1].\n",
    "ExplainableAI.jl implements many LRP rules out of the box,\n",
    "but it is also possible to *implement custom rules*.\n",
    "\n",
    "To assign different rules to different layers,\n",
    "use one of the composites presets,\n",
    "or create your own composite, as described in\n",
    "*Assigning rules to layers*."
   ],
   "metadata": {}
  },
  {
   "outputs": [
    {
     "output_type": "execute_result",
     "data": {
      "text/plain": "Composite(\n  GlobalTypeMap(  \u001b[90m# all layers\u001b[39m\n\u001b[94m    Flux.Conv              \u001b[39m => \u001b[33mZPlusRule()\u001b[39m,\n\u001b[94m    Flux.ConvTranspose     \u001b[39m => \u001b[33mZPlusRule()\u001b[39m,\n\u001b[94m    Flux.CrossCor          \u001b[39m => \u001b[33mZPlusRule()\u001b[39m,\n\u001b[94m    Flux.Dense             \u001b[39m => \u001b[33mEpsilonRule{Float32}(1.0f-6)\u001b[39m,\n\u001b[94m    typeof(NNlib.dropout)  \u001b[39m => \u001b[33mPassRule()\u001b[39m,\n\u001b[94m    Flux.AlphaDropout      \u001b[39m => \u001b[33mPassRule()\u001b[39m,\n\u001b[94m    Flux.Dropout           \u001b[39m => \u001b[33mPassRule()\u001b[39m,\n\u001b[94m    Flux.BatchNorm         \u001b[39m => \u001b[33mPassRule()\u001b[39m,\n\u001b[94m    typeof(Flux.flatten)   \u001b[39m => \u001b[33mPassRule()\u001b[39m,\n\u001b[94m    typeof(MLUtils.flatten)\u001b[39m => \u001b[33mPassRule()\u001b[39m,\n\u001b[94m    typeof(identity)       \u001b[39m => \u001b[33mPassRule()\u001b[39m,\n ),\n  FirstLayerTypeMap(  \u001b[90m# first layer\u001b[39m\n\u001b[94m    Flux.Conv         \u001b[39m => \u001b[33mFlatRule()\u001b[39m,\n\u001b[94m    Flux.ConvTranspose\u001b[39m => \u001b[33mFlatRule()\u001b[39m,\n\u001b[94m    Flux.CrossCor     \u001b[39m => \u001b[33mFlatRule()\u001b[39m,\n ),\n)"
     },
     "metadata": {},
     "execution_count": 7
    }
   ],
   "cell_type": "code",
   "source": [
    "composite = EpsilonPlusFlat() # using composite preset EpsilonPlusFlat"
   ],
   "metadata": {},
   "execution_count": 7
  },
  {
   "outputs": [
    {
     "output_type": "execute_result",
     "data": {
      "text/plain": "LRP(\n  Conv((3, 3), 3 => 8, relu, pad=1) \u001b[90m => \u001b[39m\u001b[33mFlatRule()\u001b[39m,\n  Conv((3, 3), 8 => 8, relu, pad=1) \u001b[90m => \u001b[39m\u001b[33mZPlusRule()\u001b[39m,\n  MaxPool((2, 2))                   \u001b[90m => \u001b[39m\u001b[33mZeroRule()\u001b[39m,\n  Conv((3, 3), 8 => 16, pad=1)      \u001b[90m => \u001b[39m\u001b[33mZPlusRule()\u001b[39m,\n  BatchNorm(16, relu)               \u001b[90m => \u001b[39m\u001b[33mPassRule()\u001b[39m,\n  Conv((3, 3), 16 => 8, relu, pad=1)\u001b[90m => \u001b[39m\u001b[33mZPlusRule()\u001b[39m,\n  BatchNorm(8, relu)                \u001b[90m => \u001b[39m\u001b[33mPassRule()\u001b[39m,\n  Flux.flatten                      \u001b[90m => \u001b[39m\u001b[33mPassRule()\u001b[39m,\n  Dense(2048 => 512, relu)          \u001b[90m => \u001b[39m\u001b[33mEpsilonRule{Float32}(1.0f-6)\u001b[39m,\n  Dropout(0.5)                      \u001b[90m => \u001b[39m\u001b[33mPassRule()\u001b[39m,\n  Dense(512 => 100)                 \u001b[90m => \u001b[39m\u001b[33mEpsilonRule{Float32}(1.0f-6)\u001b[39m,\n)"
     },
     "metadata": {},
     "execution_count": 8
    }
   ],
   "cell_type": "code",
   "source": [
    "LRP(model, composite)"
   ],
   "metadata": {},
   "execution_count": 8
  },
  {
   "cell_type": "markdown",
   "source": [
    "## Computing layerwise relevances\n",
    "If you are interested in computing layerwise relevances,\n",
    "call `analyze` with an LRP analyzer and the keyword argument\n",
    "`layerwise_relevances=true`.\n",
    "\n",
    "The layerwise relevances can be accessed in the `extras` field\n",
    "of the returned `Explanation`:"
   ],
   "metadata": {}
  },
  {
   "outputs": [
    {
     "output_type": "execute_result",
     "data": {
      "text/plain": "([-0.21632893 0.11160855 … -0.08888348 -0.0030769068; -0.08180256 -0.1762469 … -0.4942654 0.021972202; … ; 0.24112053 -0.9589502 … 0.041515835 -0.4643196; 0.047624893 0.6977129 … 0.09944023 -0.0045562643;;; 0.28244323 -0.029206356 … 0.058306564 0.16350394; -0.010486961 0.2733869 … -0.2533629 -0.026924085; … ; 0.036186233 -0.89153636 … -0.5558463 -0.00549786; 0.083368234 0.01094714 … 0.095877476 -0.310013;;; 0.05176253 0.22417805 … 0.043064263 0.07541387; 0.025433153 0.04384926 … -0.99404573 -0.029625777; … ; 0.5648236 -0.24329762 … -0.42695278 -0.38019776; -0.17779624 -0.08977477 … 0.004109943 -0.12744601;;;;], [0.0 0.033648778 … 0.010551295 0.0; 0.04717197 0.0025290416 … 0.0010431042 0.0073635546; … ; 0.47051007 0.51701695 … -0.0 0.0; -0.0040796404 0.06273557 … 0.003625001 -0.0;;; 0.0 -0.0 … -0.0 -0.09314235; 0.0 0.0 … 0.0 -0.067935094; … ; -0.0 0.039241977 … 0.080194265 0.19784418; 0.004356489 0.06024771 … -0.055853907 0.13431214;;; 0.0 0.0 … -0.10502989 -0.037124664; 0.0 0.0 … 0.0 -0.0; … ; -0.0 0.04288952 … -0.05464988 -0.0; 0.0 0.0 … -0.0 -0.0;;; 0.031860456 0.024646677 … -0.0 -0.0; 0.07389022 0.48132646 … -0.0 0.0; … ; -0.19976084 0.1051944 … -0.21739174 -0.0; 0.3579886 0.32774904 … -0.5702317 -0.049211927;;; -0.06282675 0.010085591 … -0.02119854 0.009409156; -0.004917054 -0.14623794 … -0.027189488 0.04163762; … ; 0.047474403 0.25024265 … 0.004631957 0.21455126; 0.0 -0.07709552 … -0.007019343 -0.044967823;;; -0.0 0.0 … -0.0 0.014510477; 0.0 -0.001748699 … 0.015417982 0.0; … ; 0.18352436 0.0 … 0.0 -0.15802391; 0.0069185756 -0.10915621 … -0.19361998 -0.0;;; -0.0315939 -0.1877483 … 0.073490314 -0.0; -0.07574553 -0.11007337 … 0.11691777 0.030910464; … ; -0.06534942 -0.578873 … -0.0011895963 -0.0; 0.13758214 -0.04399521 … -0.12954757 -0.022392819;;; 0.0 -0.0 … 0.0 0.0; 0.0 -0.0 … 0.0 0.0; … ; 0.0 0.0 … 0.0 0.0; 0.0 0.0 … 0.0 -0.0;;;;], [0.0 0.0 … 0.0 0.0; 0.0071351714 0.0 … 0.0 0.0; … ; 0.0 0.0 … 0.0 0.0; 0.0 -0.3403608 … -0.16520603 0.0;;; 0.40505955 0.0 … 0.0 0.0; 0.0 0.0 … 0.0 -0.1012692; … ; -0.044947155 0.0 … -0.008632641 0.0; 0.0 0.0 … 0.0 0.0;;; 0.0 0.0 … 0.0 0.0; -0.043069646 0.0 … 0.0 -0.23268361; … ; 0.0 0.098508455 … 0.0 0.0; 0.0 0.0 … -0.6034866 0.0;;; 0.0 0.0 … 0.0 0.0; 0.0 -0.42183846 … 0.0 0.0; … ; -0.2630186 0.0 … 0.0 0.0; 0.0 0.0 … -0.14198174 0.0;;; 0.07581192 0.0 … 0.0 0.0; 0.0 0.0 … -0.31054306 0.0; … ; 0.054098576 0.0 … 0.0 -0.2276251; 0.0 0.0 … 0.0 0.0;;; -0.09243034 0.0 … 0.0 -0.17027442; 0.0 0.0 … 0.0 0.0; … ; -0.13618602 0.0 … 0.0 0.0; 0.0 0.0 … 0.0 0.0;;; 0.0 -0.23645042 … 0.0 0.0; 0.0 0.0 … -0.12366031 0.0; … ; 0.0 0.0 … 0.0 -0.6682836; 0.0 0.1291754 … 0.0 0.0;;; 0.0 0.0 … 0.0 0.0; 0.0 0.0 … 0.0 0.0; … ; 0.0 0.0 … 0.0 0.0; 0.0 0.0 … 0.0 0.065354064;;;;], [0.0071351724 0.0 … 0.0 -0.0; 0.0 0.029058922 … -0.12214065 -0.0; … ; 0.051707584 -0.11316523 … -0.0 0.0; -0.3403608 -0.5473986 … -0.73591226 -0.16520603;;; 0.40505955 0.15912756 … 0.5406109 -0.1012692; 0.27221936 0.48090208 … 0.33144447 -0.041732214; … ; 0.717789 0.36453784 … -0.38414863 0.11759958; -0.044947155 0.020259663 … -0.056687966 -0.008632642;;; -0.043069646 -0.05552753 … -0.4781224 -0.23268361; -0.20187241 -0.112597585 … -1.3623662 -0.28162694; … ; 0.6792351 -2.2092805 … -0.05858114 -0.3510436; 0.098508455 -0.18027145 … -0.8489842 -0.6034866;;; -0.42183846 -0.0 … -0.00741008 -0.0; -0.12584116 -0.052675016 … -0.2166692 -0.0; … ; 0.12588054 -0.22145382 … -0.009921549 -0.031836405; -0.2630186 0.001011127 … -0.19668509 -0.14198174;;; 0.07581192 0.032433223 … -0.3095648 -0.31054306; -0.07996513 -0.22488691 … -0.0 -0.10431808; … ; 0.0131142065 -1.1293416 … -0.12611896 -0.0; 0.054098576 -0.60485566 … 0.17095783 -0.2276251;;; -0.09243034 -0.0006800468 … -0.089932956 -0.17027442; -0.011204876 -0.05703725 … -0.0 -0.0; … ; -0.14700116 0.0 … -0.089384995 0.04184991; -0.13618602 0.0 … 0.007567625 0.0;;; -0.23645042 -0.3386873 … -0.073107205 -0.12366031; -0.41059342 0.20441554 … 0.6754879 0.30712748; … ; 0.36645103 3.3087568 … -0.32026377 0.017079534; 0.1291754 -0.2857547 … -0.22946769 -0.6682836;;; -0.0 -0.08639212 … -0.0 0.0; -0.09637787 0.0 … 0.0 0.0; … ; 0.15778081 0.0 … 0.0 0.0; -0.0 0.0 … -0.0 0.065354064;;;;], [-0.07445917 -0.04618965 … -0.23558035 -0.0015181232; -6.85169f-5 -0.0012896684 … -0.00029559742 0.009817823; … ; -0.00012494456 -0.0033060948 … 0.019153258 8.513123f-5; -0.026520243 -0.00053222536 … -0.00043273848 -0.029936569;;; 0.00679016 -0.020835206 … 0.36765248 -0.036701187; 0.09895528 -0.020080104 … 0.23363268 0.03856468; … ; 0.018096454 0.3892452 … -0.0056793503 0.037438773; 0.026052088 0.026454221 … 0.015146285 0.007210843;;; -0.0141616715 7.741509f-5 … -0.021615228 0.00032973752; 5.212964f-5 0.00020279255 … 0.00033723703 -3.0281f-5; … ; 0.009827905 0.0027568305 … -2.0094962f-5 0.00038626484; 0.00031002262 0.0003188481 … 0.00024705488 0.00036762742;;; … ;;; -1.017355 -1.7414092 … -0.9496883 -0.01823839; -1.6367353 -0.8706218 … -0.69429386 -0.47694653; … ; -3.0623796 -0.3949312 … -1.5985044 -0.82676387; -0.88599616 -0.64555043 … -0.74439853 -0.026976224;;; 0.06709148 -0.053319465 … 0.093647525 0.049434166; -0.07331442 0.153123 … 0.015502693 0.16073549; … ; -0.084885985 0.5497445 … -0.24104539 0.22247739; -0.059478696 -0.08192396 … -0.58598596 0.14317782;;; -0.003925696 0.00017921806 … -0.008056681 0.0009378562; 0.0009269932 -0.0012312739 … -0.0065457593 -0.0016331883; … ; -0.019240655 0.005033633 … 0.0039594327 -0.0010214824; 0.17119052 -0.33024246 … -0.008405345 -0.031420715;;;;], [-0.046374723 -0.02394356 … -0.17483416 -0.0; 0.0 0.0 … -0.0 0.0035774915; … ; -0.0075074495 -0.0 … 0.0075386493 0.0; -0.0 -0.01925827 … 0.004143925 -0.007003078;;; 0.0 0.015593938 … 0.09160853 -0.0016586008; 0.0 -0.006664958 … 0.08859013 0.031359438; … ; 0.0 0.26684472 … 0.018579608 0.054187197; 0.0 -0.0 … 0.0 0.0;;; -0.029771894 0.0 … -0.053548068 0.0; 0.0 -0.0 … -0.0 -0.0; … ; 0.049673166 0.024220102 … 0.00015420797 -0.0; -0.0 -0.0 … 0.0 -0.0;;; … ;;; 0.085033976 -0.039039444 … 0.019728506 -0.0077317785; 0.09268654 0.050752573 … 0.102787256 -0.04022405; … ; -0.27574077 0.7498898 … 0.022238377 -0.0014645518; -0.024482735 0.18194675 … -0.053362355 0.00041369113;;; -0.0071942653 -0.024541799 … -0.11111294 -0.022835555; 0.0 -0.00066737336 … 0.00095583405 -0.10572062; … ; -0.0 0.049118795 … -0.05819576 0.0062252586; 0.0 0.0 … -0.0255251 -0.023239903;;; -0.0 -0.0 … 0.0 -0.0; -0.0 0.0 … -0.0 -0.0006275234; … ; -0.04318519 0.020255398 … 0.022638818 0.0018249014; 0.26445425 -0.33080986 … -0.005441229 -0.016912948;;;;], [0.0 0.012894066 … 0.0297029 0.051368926; 0.0 0.022897994 … 0.032091256 0.1520924; … ; 0.0 -0.39986438 … 0.043370787 0.0028887452; 0.0 0.0 … 0.0 0.0;;; -0.0 0.098225646 … -0.0 0.16367798; -0.00034027788 -0.0 … -0.0019817005 0.2697439; … ; -0.0016616991 -0.010697519 … -0.0009610435 -0.0019318806; -0.0 -0.0009807354 … -0.0 -0.0;;; 0.0 0.0 … -0.0034048497 0.0; 0.007238995 0.0005450986 … 0.0 0.0; … ; 0.0 0.0 … 0.0 0.0; -0.002479213 0.0 … 3.504939f-6 0.0;;; -0.0 -0.0 … -0.00073681225 -0.00029459398; -0.00360146 -0.00042995327 … -0.00285182 -0.002753675; … ; -0.07643305 -0.0025773635 … -0.03167621 -0.0; -0.10116006 -0.0020355724 … -0.0027764458 -0.0020917463;;; -0.0 -0.0 … -0.004002633 -0.0; -0.0025479225 -0.0 … -0.0015854511 -0.0; … ; -1.0963454 -0.0045280103 … -0.0 -0.0; -0.02845453 0.008379849 … 0.010864861 -0.0051993164;;; -0.0 -0.0 … -0.0 -0.0; -0.0 -0.0 … -0.00062278437 -0.0; … ; 0.0030199436 -0.0 … 3.056074f-5 -0.0; -0.0 -0.0 … -0.0 -0.0020298425;;; -0.024019547 0.0 … 0.00012764746 3.7816248f-5; 0.00018584888 0.0 … 0.0 0.0043967823; … ; 7.81021f-5 0.0 … 0.0 -0.017703384; 0.0 0.00018023286 … 2.0374797f-5 -0.029397491;;; -0.0 -0.0 … -0.0 -0.0; -0.0 0.0030586517 … -0.0 -0.0; … ; -0.0 -0.0 … -0.0 -0.004732782; -0.0 -0.0011308125 … -0.0 -1.3840405f-5;;;;], [0.0 -0.0036808064 … 0.0035524517 0.009988984; 0.0 0.005095406 … 0.008832092 0.018377293; … ; -0.0 -0.008187751 … -0.014142198 -0.044776764; -0.0 -0.0 … -0.0 -0.0;;; -0.0 0.003082111 … 0.0 0.007026023; 0.0005430831 0.0 … -0.0029962691 0.00054798654; … ; -0.0038748875 -0.0013802128 … 0.0007495976 -0.002427809; -0.0 0.00020531853 … 0.0 -0.0;;; 0.0 0.0 … -0.0015908781 -0.0; 0.008012813 0.00027201086 … 0.0 0.0; … ; -0.0 -0.0 … -0.0 0.0; -0.001497081 0.0 … -3.0489855f-5 0.0;;; 0.0 -0.0 … 0.0016518295 0.0017176676; 0.006697921 0.0012242991 … -0.00047392937 -0.002184981; … ; -0.009934505 -0.003012047 … -0.012664907 -0.0; -0.023959959 0.0020689091 … -0.005225867 0.003045756;;; -0.0 -0.0 … -0.0015002071 -0.0; 0.00032797764 -0.0 … 0.00038908087 -0.0; … ; -0.013000449 0.0065273857 … 0.0 -0.0; -0.0027820028 0.031148696 … 0.011041909 -0.0022532912;;; 0.0 0.0 … -0.0 -0.0; 0.0 0.0 … -0.00041920983 0.0; … ; 0.0027919293 0.0 … 1.6342256f-5 -0.0; 0.0 0.0 … 0.0 -0.0015926255;;; -0.0062335664 -0.0 … 0.0009901492 -0.00033077563; -0.0010190412 -0.0 … 0.0 0.002874311; … ; -0.00038100555 0.0 … 0.0 -0.015225021; 0.0 -0.0023470477 … -0.0001269743 -0.0019102454;;; 0.0 0.0 … 0.0 0.0; -0.0 0.0032458375 … -0.0 -0.0; … ; -0.0 -0.0 … 0.0 -0.0033755382; -0.0 -0.0005124331 … -0.0 0.0001149618;;;;], Float32[0.0; 0.0; … ; -0.0033755382; 0.0001149618;;], Float32[-0.0; -0.0; … ; -0.0037423605; 0.00055597315;;], Float32[-0.0; -0.0; … ; -0.0037423605; 0.00055597315;;], Float32[0.0; 0.0; … ; 0.0; 0.0;;])"
     },
     "metadata": {},
     "execution_count": 9
    }
   ],
   "cell_type": "code",
   "source": [
    "input = rand(Float32, 32, 32, 3, 1) # dummy input for our convolutional neural network\n",
    "\n",
    "expl = analyze(input, analyzer; layerwise_relevances=true)\n",
    "expl.extras.layerwise_relevances"
   ],
   "metadata": {},
   "execution_count": 9
  },
  {
   "cell_type": "markdown",
   "source": [
    "Note that the layerwise relevances are only kept for layers in the outermost `Chain` of the model.\n",
    "When using our unflattened model, we only obtain three layerwise relevances,\n",
    "one for each chain in the model and the output relevance:"
   ],
   "metadata": {}
  },
  {
   "outputs": [
    {
     "output_type": "execute_result",
     "data": {
      "text/plain": "([-0.023969242 0.024731223 … -0.07836759 0.04500648; 0.021780347 -0.034490205 … -0.34577543 0.038387172; … ; 0.21318473 -0.15040298 … -0.03426098 -0.08089496; -0.06753464 0.3842813 … -0.007699983 0.017595123;;; -0.12141348 0.047444955 … -0.003111814 -0.09298203; -0.00095016684 0.20467977 … -0.09371594 -0.07563563; … ; -0.012616622 -0.10030163 … -0.023450611 0.00018379121; 0.064829655 -0.001497754 … 0.033335797 -0.11833677;;; -0.051240835 -0.1064328 … -0.061028276 -0.038735494; -0.050262142 -0.085965395 … 0.34347364 -0.0715042; … ; 0.056110017 -0.30231655 … 0.17910853 -0.056606214; 0.09245924 -0.059125964 … 0.046003755 -0.0148630785;;;;], [0.0 -0.0025612519 … 0.0020036672 0.00970665; 0.0 0.003024621 … 0.0063475673 0.024715098; … ; -0.0 -0.0074213976 … -0.013550571 -0.04961445; -0.0 -0.0 … -0.0 -0.0;;; 0.0 0.0031528834 … 0.0 0.007129748; 0.0 0.0 … -0.0046359636 0.0016376085; … ; -0.004031672 -0.005798262 … 0.00051086326 -0.0021464534; -0.0 -6.7716086f-5 … 0.0 -0.0;;; 0.0 0.0 … -0.0026347155 -0.0; 0.012125757 9.71066f-5 … 0.0 0.0; … ; -0.0 -0.0 … 0.0 0.0; -0.0014882683 0.0 … -0.0 0.0;;; 0.0 -0.0 … 0.00044155828 0.0009389772; 0.0055739214 0.0022621693 … -0.001300409 -0.002675816; … ; -0.009552607 -0.0014791605 … -0.012201407 -0.0; -0.025185322 0.0016355354 … -0.0022791943 0.0031499884;;; -0.0 -0.0 … -0.0021024316 -0.0; 0.00018134234 -0.0 … 0.00017837294 -0.0; … ; -0.010509104 0.0056398604 … 0.0 -0.0; -0.0022776935 0.021718007 … 0.0130121065 -0.0013112868;;; 0.0 0.0 … -0.0 -0.0; 0.0 0.0 … -0.0009005372 0.0; … ; 0.0041427226 0.0 … 0.00015465164 0.0; 0.0 0.0 … 0.00046140395 -0.0028001617;;; -0.007214824 -0.0 … 0.0016394027 -0.00076716713; -0.0014762605 0.0 … 0.0 0.0047722766; … ; -0.00058138446 0.0 … 0.0 -0.018379971; 0.0 -0.0039952477 … -0.0005217241 -0.0017462535;;; 0.0 0.0 … 0.0 0.0; -0.0 0.0038168405 … -0.0 -0.0; … ; -0.0 -0.0 … 0.0 -0.0034356604; -0.0 0.00038495948 … -0.0 0.00059970515;;;;], Float32[0.0; 0.0; … ; 0.0; 0.0;;])"
     },
     "metadata": {},
     "execution_count": 10
    }
   ],
   "cell_type": "code",
   "source": [
    "analyzer = LRP(model; flatten=false) # use unflattened model\n",
    "\n",
    "expl = analyze(input, analyzer; layerwise_relevances=true)\n",
    "expl.extras.layerwise_relevances"
   ],
   "metadata": {},
   "execution_count": 10
  },
  {
   "cell_type": "markdown",
   "source": [
    "## Performance tips\n",
    "### Using LRP with a GPU\n",
    "Like all other analyzers, LRP can be used on GPUs.\n",
    "Follow the instructions on *GPU support*.\n",
    "\n",
    "### Using LRP without a GPU\n",
    "Using Julia's package extension mechanism,\n",
    "ExplainableAI.jl's LRP implementation can optionally make use of\n",
    "[Tullio.jl](https://github.com/mcabbott/Tullio.jl) and\n",
    "[LoopVectorization.jl](https://github.com/JuliaSIMD/LoopVectorization.jl)\n",
    "for faster LRP rules on dense layers.\n",
    "\n",
    "This only requires loading the packages before loading ExplainableAI.jl:\n",
    "```julia\n",
    "using LoopVectorization, Tullio\n",
    "using ExplainableAI\n",
    "```\n",
    "\n",
    "[^1]: G. Montavon et al., [Layer-Wise Relevance Propagation: An Overview](https://link.springer.com/chapter/10.1007/978-3-030-28954-6_10)"
   ],
   "metadata": {}
  },
  {
   "cell_type": "markdown",
   "source": [
    "---\n",
    "\n",
    "*This notebook was generated using [Literate.jl](https://github.com/fredrikekre/Literate.jl).*"
   ],
   "metadata": {}
  }
 ],
 "nbformat_minor": 3,
 "metadata": {
  "language_info": {
   "file_extension": ".jl",
   "mimetype": "application/julia",
   "name": "julia",
   "version": "1.9.3"
  },
  "kernelspec": {
   "name": "julia-1.9",
   "display_name": "Julia 1.9.3",
   "language": "julia"
  }
 },
 "nbformat": 4
}
