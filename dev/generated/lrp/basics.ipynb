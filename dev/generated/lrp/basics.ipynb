{
 "cells": [
  {
   "cell_type": "markdown",
   "source": [
    "# Basic usage of LRP\n",
    "This example will show you best practices for using LRP,\n",
    "building on the basics shown in the *Getting started* section."
   ],
   "metadata": {}
  },
  {
   "cell_type": "markdown",
   "source": [
    "We start out by loading a small convolutional neural network:"
   ],
   "metadata": {}
  },
  {
   "outputs": [],
   "cell_type": "code",
   "source": [
    "using ExplainableAI\n",
    "using Flux\n",
    "\n",
    "model = Chain(\n",
    "    Chain(\n",
    "        Conv((3, 3), 3 => 8, relu; pad=1),\n",
    "        Conv((3, 3), 8 => 8, relu; pad=1),\n",
    "        MaxPool((2, 2)),\n",
    "        Conv((3, 3), 8 => 16; pad=1),\n",
    "        BatchNorm(16, relu),\n",
    "        Conv((3, 3), 16 => 8, relu; pad=1),\n",
    "        BatchNorm(8, relu),\n",
    "    ),\n",
    "    Chain(\n",
    "        Flux.flatten,\n",
    "        Dense(2048 => 512, relu),\n",
    "        Dropout(0.5),\n",
    "        Dense(512 => 100, softmax)\n",
    "    ),\n",
    ");"
   ],
   "metadata": {},
   "execution_count": 1
  },
  {
   "cell_type": "markdown",
   "source": [
    "This model contains two chains: the convolutional layers and the fully connected layers."
   ],
   "metadata": {}
  },
  {
   "cell_type": "markdown",
   "source": [
    "## Model preparation\n",
    "### Stripping the output softmax\n",
    "When using LRP, it is recommended to explain output logits instead of probabilities.\n",
    "This can be done by stripping the output softmax activation from the model\n",
    "using the `strip_softmax` function:"
   ],
   "metadata": {}
  },
  {
   "outputs": [
    {
     "output_type": "execute_result",
     "data": {
      "text/plain": "Chain(\n  Chain(\n    Conv((3, 3), 3 => 8, relu, pad=1),  \u001b[90m# 224 parameters\u001b[39m\n    Conv((3, 3), 8 => 8, relu, pad=1),  \u001b[90m# 584 parameters\u001b[39m\n    MaxPool((2, 2)),\n    Conv((3, 3), 8 => 16, pad=1),       \u001b[90m# 1_168 parameters\u001b[39m\n    BatchNorm(16, relu),                \u001b[90m# 32 parameters\u001b[39m\u001b[90m, plus 32\u001b[39m\n    Conv((3, 3), 16 => 8, relu, pad=1),  \u001b[90m# 1_160 parameters\u001b[39m\n    BatchNorm(8, relu),                 \u001b[90m# 16 parameters\u001b[39m\u001b[90m, plus 16\u001b[39m\n  ),\n  Chain(\n    Flux.flatten,\n    Dense(2048 => 512, relu),           \u001b[90m# 1_049_088 parameters\u001b[39m\n    Dropout(0.5),\n    Dense(512 => 100),                  \u001b[90m# 51_300 parameters\u001b[39m\n  ),\n) \u001b[90m        # Total: 16 trainable arrays, \u001b[39m1_103_572 parameters,\n\u001b[90m          # plus 4 non-trainable, 48 parameters, summarysize \u001b[39m4.213 MiB."
     },
     "metadata": {},
     "execution_count": 2
    }
   ],
   "cell_type": "code",
   "source": [
    "model = strip_softmax(model)"
   ],
   "metadata": {},
   "execution_count": 2
  },
  {
   "cell_type": "markdown",
   "source": [
    "If you don't remove the output softmax,\n",
    "model checks will fail."
   ],
   "metadata": {}
  },
  {
   "cell_type": "markdown",
   "source": [
    "### Canonizing the model\n",
    "LRP is not invariant to a model's implementation.\n",
    "Applying the `GammaRule` to two linear layers in a row will yield different results\n",
    "than first fusing the two layers into one linear layer and then applying the rule.\n",
    "This fusing is called \"canonization\" and can be done using the `canonize` function:"
   ],
   "metadata": {}
  },
  {
   "outputs": [
    {
     "output_type": "execute_result",
     "data": {
      "text/plain": "Chain(\n  Conv((3, 3), 3 => 8, relu, pad=1),    \u001b[90m# 224 parameters\u001b[39m\n  Conv((3, 3), 8 => 8, relu, pad=1),    \u001b[90m# 584 parameters\u001b[39m\n  MaxPool((2, 2)),\n  Conv((3, 3), 8 => 16, relu, pad=1),   \u001b[90m# 1_168 parameters\u001b[39m\n  Conv((3, 3), 16 => 8, relu, pad=1),   \u001b[90m# 1_160 parameters\u001b[39m\n  BatchNorm(8, relu),                   \u001b[90m# 16 parameters\u001b[39m\u001b[90m, plus 16\u001b[39m\n  Flux.flatten,\n  Dense(2048 => 512, relu),             \u001b[90m# 1_049_088 parameters\u001b[39m\n  Dropout(0.5),\n  Dense(512 => 100),                    \u001b[90m# 51_300 parameters\u001b[39m\n) \u001b[90m        # Total: 14 trainable arrays, \u001b[39m1_103_540 parameters,\n\u001b[90m          # plus 2 non-trainable, 16 parameters, summarysize \u001b[39m4.212 MiB."
     },
     "metadata": {},
     "execution_count": 3
    }
   ],
   "cell_type": "code",
   "source": [
    "model = canonize(model)"
   ],
   "metadata": {},
   "execution_count": 3
  },
  {
   "cell_type": "markdown",
   "source": [
    "### Flattening the model\n",
    "ExplainableAI.jl's LRP implementation supports nested Flux Chains and Parallel layers.\n",
    "However, it is recommended to flatten the model before analyzing it.\n",
    "\n",
    "LRP is implemented by first running a forward pass through the model,\n",
    "keeping track of the intermediate activations, followed by a backward pass\n",
    "that computes the relevances.\n",
    "\n",
    "To keep the LRP implementation simple and maintainable,\n",
    "ExplainableAI.jl does not pre-compute \"nested\" activations.\n",
    "Instead, for every internal chain, a new forward pass is run to compute activations.\n",
    "\n",
    "By \"flattening\" a model, this overhead can be avoided.\n",
    "For this purpose, ExplainableAI.jl provides the function `flatten_model`:"
   ],
   "metadata": {}
  },
  {
   "outputs": [
    {
     "output_type": "execute_result",
     "data": {
      "text/plain": "Chain(\n  Conv((3, 3), 3 => 8, relu, pad=1),    \u001b[90m# 224 parameters\u001b[39m\n  Conv((3, 3), 8 => 8, relu, pad=1),    \u001b[90m# 584 parameters\u001b[39m\n  MaxPool((2, 2)),\n  Conv((3, 3), 8 => 16, relu, pad=1),   \u001b[90m# 1_168 parameters\u001b[39m\n  Conv((3, 3), 16 => 8, relu, pad=1),   \u001b[90m# 1_160 parameters\u001b[39m\n  BatchNorm(8, relu),                   \u001b[90m# 16 parameters\u001b[39m\u001b[90m, plus 16\u001b[39m\n  Flux.flatten,\n  Dense(2048 => 512, relu),             \u001b[90m# 1_049_088 parameters\u001b[39m\n  Dropout(0.5),\n  Dense(512 => 100),                    \u001b[90m# 51_300 parameters\u001b[39m\n) \u001b[90m        # Total: 14 trainable arrays, \u001b[39m1_103_540 parameters,\n\u001b[90m          # plus 2 non-trainable, 16 parameters, summarysize \u001b[39m4.212 MiB."
     },
     "metadata": {},
     "execution_count": 4
    }
   ],
   "cell_type": "code",
   "source": [
    "model_flat = flatten_model(model)"
   ],
   "metadata": {},
   "execution_count": 4
  },
  {
   "cell_type": "markdown",
   "source": [
    "This function is called by default when creating an LRP analyzer.\n",
    "Note that we pass the unflattened model to the analyzer, but `analyzer.model` is flattened:"
   ],
   "metadata": {}
  },
  {
   "outputs": [
    {
     "output_type": "execute_result",
     "data": {
      "text/plain": "Chain(\n  Conv((3, 3), 3 => 8, relu, pad=1),    \u001b[90m# 224 parameters\u001b[39m\n  Conv((3, 3), 8 => 8, relu, pad=1),    \u001b[90m# 584 parameters\u001b[39m\n  MaxPool((2, 2)),\n  Conv((3, 3), 8 => 16, relu, pad=1),   \u001b[90m# 1_168 parameters\u001b[39m\n  Conv((3, 3), 16 => 8, relu, pad=1),   \u001b[90m# 1_160 parameters\u001b[39m\n  BatchNorm(8, relu),                   \u001b[90m# 16 parameters\u001b[39m\u001b[90m, plus 16\u001b[39m\n  Flux.flatten,\n  Dense(2048 => 512, relu),             \u001b[90m# 1_049_088 parameters\u001b[39m\n  Dropout(0.5),\n  Dense(512 => 100),                    \u001b[90m# 51_300 parameters\u001b[39m\n) \u001b[90m        # Total: 14 trainable arrays, \u001b[39m1_103_540 parameters,\n\u001b[90m          # plus 2 non-trainable, 16 parameters, summarysize \u001b[39m4.212 MiB."
     },
     "metadata": {},
     "execution_count": 5
    }
   ],
   "cell_type": "code",
   "source": [
    "analyzer = LRP(model)\n",
    "analyzer.model"
   ],
   "metadata": {},
   "execution_count": 5
  },
  {
   "cell_type": "markdown",
   "source": [
    "If this flattening is not desired, it can be disabled\n",
    "by passing the keyword argument `flatten=false` to the `LRP` constructor."
   ],
   "metadata": {}
  },
  {
   "cell_type": "markdown",
   "source": [
    "## LRP rules\n",
    "By default, the `LRP` constructor will assign the `ZeroRule` to all layers."
   ],
   "metadata": {}
  },
  {
   "outputs": [
    {
     "output_type": "execute_result",
     "data": {
      "text/plain": "LRP(\n  Conv((3, 3), 3 => 8, relu, pad=1) \u001b[90m => \u001b[39m\u001b[33mZeroRule()\u001b[39m,\n  Conv((3, 3), 8 => 8, relu, pad=1) \u001b[90m => \u001b[39m\u001b[33mZeroRule()\u001b[39m,\n  MaxPool((2, 2))                   \u001b[90m => \u001b[39m\u001b[33mZeroRule()\u001b[39m,\n  Conv((3, 3), 8 => 16, relu, pad=1)\u001b[90m => \u001b[39m\u001b[33mZeroRule()\u001b[39m,\n  Conv((3, 3), 16 => 8, relu, pad=1)\u001b[90m => \u001b[39m\u001b[33mZeroRule()\u001b[39m,\n  BatchNorm(8, relu)                \u001b[90m => \u001b[39m\u001b[33mZeroRule()\u001b[39m,\n  Flux.flatten                      \u001b[90m => \u001b[39m\u001b[33mZeroRule()\u001b[39m,\n  Dense(2048 => 512, relu)          \u001b[90m => \u001b[39m\u001b[33mZeroRule()\u001b[39m,\n  Dropout(0.5)                      \u001b[90m => \u001b[39m\u001b[33mZeroRule()\u001b[39m,\n  Dense(512 => 100)                 \u001b[90m => \u001b[39m\u001b[33mZeroRule()\u001b[39m,\n)"
     },
     "metadata": {},
     "execution_count": 6
    }
   ],
   "cell_type": "code",
   "source": [
    "LRP(model)"
   ],
   "metadata": {},
   "execution_count": 6
  },
  {
   "cell_type": "markdown",
   "source": [
    "This analyzer will return heatmaps that look identical to `InputTimesGradient`."
   ],
   "metadata": {}
  },
  {
   "cell_type": "markdown",
   "source": [
    "LRP's strength lies in assigning different rules to different layers,\n",
    "based on their functionality in the neural network[^1].\n",
    "ExplainableAI.jl implements many LRP rules out of the box,\n",
    "but it is also possible to *implement custom rules*.\n",
    "\n",
    "To assign different rules to different layers,\n",
    "use one of the composites presets,\n",
    "or create your own composite, as described in\n",
    "*Assigning rules to layers*."
   ],
   "metadata": {}
  },
  {
   "outputs": [
    {
     "output_type": "execute_result",
     "data": {
      "text/plain": "Composite(\n  GlobalTypeMap(  \u001b[90m# all layers\u001b[39m\n\u001b[94m    Flux.Conv              \u001b[39m => \u001b[33mZPlusRule()\u001b[39m,\n\u001b[94m    Flux.ConvTranspose     \u001b[39m => \u001b[33mZPlusRule()\u001b[39m,\n\u001b[94m    Flux.CrossCor          \u001b[39m => \u001b[33mZPlusRule()\u001b[39m,\n\u001b[94m    Flux.Dense             \u001b[39m => \u001b[33mEpsilonRule{Float32}(1.0f-6)\u001b[39m,\n\u001b[94m    typeof(NNlib.dropout)  \u001b[39m => \u001b[33mPassRule()\u001b[39m,\n\u001b[94m    Flux.AlphaDropout      \u001b[39m => \u001b[33mPassRule()\u001b[39m,\n\u001b[94m    Flux.Dropout           \u001b[39m => \u001b[33mPassRule()\u001b[39m,\n\u001b[94m    Flux.BatchNorm         \u001b[39m => \u001b[33mPassRule()\u001b[39m,\n\u001b[94m    typeof(Flux.flatten)   \u001b[39m => \u001b[33mPassRule()\u001b[39m,\n\u001b[94m    typeof(MLUtils.flatten)\u001b[39m => \u001b[33mPassRule()\u001b[39m,\n\u001b[94m    typeof(identity)       \u001b[39m => \u001b[33mPassRule()\u001b[39m,\n ),\n  FirstLayerTypeMap(  \u001b[90m# first layer\u001b[39m\n\u001b[94m    Flux.Conv         \u001b[39m => \u001b[33mFlatRule()\u001b[39m,\n\u001b[94m    Flux.ConvTranspose\u001b[39m => \u001b[33mFlatRule()\u001b[39m,\n\u001b[94m    Flux.CrossCor     \u001b[39m => \u001b[33mFlatRule()\u001b[39m,\n\u001b[94m    Flux.Dense        \u001b[39m => \u001b[33mFlatRule()\u001b[39m,\n ),\n)"
     },
     "metadata": {},
     "execution_count": 7
    }
   ],
   "cell_type": "code",
   "source": [
    "composite = EpsilonPlusFlat() # using composite preset EpsilonPlusFlat"
   ],
   "metadata": {},
   "execution_count": 7
  },
  {
   "outputs": [
    {
     "output_type": "execute_result",
     "data": {
      "text/plain": "LRP(\n  Conv((3, 3), 3 => 8, relu, pad=1) \u001b[90m => \u001b[39m\u001b[33mFlatRule()\u001b[39m,\n  Conv((3, 3), 8 => 8, relu, pad=1) \u001b[90m => \u001b[39m\u001b[33mZPlusRule()\u001b[39m,\n  MaxPool((2, 2))                   \u001b[90m => \u001b[39m\u001b[33mZeroRule()\u001b[39m,\n  Conv((3, 3), 8 => 16, relu, pad=1)\u001b[90m => \u001b[39m\u001b[33mZPlusRule()\u001b[39m,\n  Conv((3, 3), 16 => 8, relu, pad=1)\u001b[90m => \u001b[39m\u001b[33mZPlusRule()\u001b[39m,\n  BatchNorm(8, relu)                \u001b[90m => \u001b[39m\u001b[33mPassRule()\u001b[39m,\n  Flux.flatten                      \u001b[90m => \u001b[39m\u001b[33mPassRule()\u001b[39m,\n  Dense(2048 => 512, relu)          \u001b[90m => \u001b[39m\u001b[33mEpsilonRule{Float32}(1.0f-6)\u001b[39m,\n  Dropout(0.5)                      \u001b[90m => \u001b[39m\u001b[33mPassRule()\u001b[39m,\n  Dense(512 => 100)                 \u001b[90m => \u001b[39m\u001b[33mEpsilonRule{Float32}(1.0f-6)\u001b[39m,\n)"
     },
     "metadata": {},
     "execution_count": 8
    }
   ],
   "cell_type": "code",
   "source": [
    "LRP(model, composite)"
   ],
   "metadata": {},
   "execution_count": 8
  },
  {
   "cell_type": "markdown",
   "source": [
    "## Computing layerwise relevances\n",
    "If you are interested in computing layerwise relevances,\n",
    "call `analyze` with an LRP analyzer and the keyword argument\n",
    "`layerwise_relevances=true`.\n",
    "\n",
    "The layerwise relevances can be accessed in the `extras` field\n",
    "of the returned `Explanation`:"
   ],
   "metadata": {}
  },
  {
   "outputs": [
    {
     "output_type": "execute_result",
     "data": {
      "text/plain": "([0.070911594 -0.005739877 … 0.020050077 0.013649693; 0.058823954 -0.021245474 … -0.029268607 0.019316878; … ; -0.0025407865 0.028541824 … -0.0029151158 -0.0011176834; -0.01845132 -0.0014127557 … 0.020842059 0.005983601;;; -0.009115747 0.102853075 … 0.01257232 0.048881076; -0.07704271 -0.042541314 … -0.06782364 0.07234024; … ; -0.002587716 -0.03424223 … 0.07197469 -0.0026967996; -0.012738505 0.00072014984 … 0.00542081 0.02169352;;; -0.013080878 0.0036326468 … -0.04036488 0.012548849; -0.007655174 0.027398698 … 0.028663527 0.005195543; … ; -0.010705031 -0.0046712295 … 0.0007241109 0.0013092858; -0.004629274 -0.022525892 … -0.011950095 0.029804965;;;;], [0.0 -0.0 … 0.0 -0.0; 0.0 -0.0 … 0.0 0.0; … ; -0.0 -0.0 … -0.0 -0.0; -0.0021022335 -0.0 … 0.04941562 0.0;;; 0.0 0.0050020204 … -0.0 0.0; 0.0 -0.0 … 0.0 -0.024198135; … ; -0.0 -0.0 … 0.0 -0.00372457; 0.0 -0.00019197342 … -0.0 -0.010762867;;; -0.0 -0.022589045 … 0.0 0.023636764; -0.0 0.0 … -0.0053951135 0.024860203; … ; -0.0 -0.004086365 … -0.0 -0.0113975005; -0.00029177245 -0.00093415193 … -0.0 0.0028683592;;; 0.0008625245 0.0 … -0.0 -0.0; 0.025806755 0.0012223449 … -0.0 -0.024669655; … ; 0.0049617086 0.028435836 … -0.0 0.011281574; -0.0031540885 -0.017612427 … 0.072144665 -0.03057043;;; -0.0 -0.0 … -0.0 -0.0; 0.0 0.0 … 0.023632023 -0.0034371668; … ; 0.0 -0.0 … -0.0 -0.011635829; -0.0 -0.0048646224 … 0.0 0.0;;; -0.0 -0.0 … -0.0 -0.0; 0.0 0.0 … -0.0 0.012290804; … ; 0.0 0.0 … 0.0 -0.015699495; 0.0 0.0036171144 … -0.0032933783 0.012203955;;; 0.022162221 0.010692428 … 0.020114303 -0.009397553; -0.034855448 -0.024105996 … -0.00097358524 0.0021173535; … ; -0.0049700034 0.0 … 0.025531176 0.0; 0.0 -0.0 … 0.009646694 -0.0;;; -0.016733691 -0.0029680554 … -0.007445186 0.0; -0.0041471054 0.08289645 … -0.014056399 0.0; … ; -0.0003926074 -0.0 … -0.0 -0.043771904; -0.0 -0.00234824 … 0.0 0.0;;;;], [0.0 0.0 … 0.0 0.0; 0.0 0.0 … 0.0 0.0; … ; 0.0 0.0 … 0.0 0.0; 0.0 0.0023253886 … 0.0 -0.09861741;;; 0.0 0.0 … 0.0 0.0072253337; 0.0 0.0 … 0.0 0.0; … ; 0.0 0.0 … 0.0 0.0; 0.0 0.0 … 0.0 0.0;;; 0.0 0.0 … 0.0 0.0; 0.060182236 0.0 … -0.033367753 0.0; … ; 0.0 0.0 … 0.0 0.0; 0.01048554 0.0 … 0.0332753 0.0;;; 0.0 0.0 … 0.0 0.0; 0.0 0.013488811 … 0.0 -0.0105867; … ; 0.0 0.0 … 0.0 0.051622637; 0.0 0.021357039 … 0.0 0.0;;; 0.0 0.0 … 0.0 0.0; 0.0 -0.024727311 … 0.0 -0.00642653; … ; 0.0 0.0 … 0.0 0.0; 0.0011526882 0.0 … 0.0 -0.021679971;;; 0.0 0.0 … 0.0 0.008488074; 0.0 0.047910932 … 0.0 0.0; … ; 0.0 0.0 … 0.0 0.0; 0.0 0.0022331427 … 0.0 0.0023452658;;; 0.0 0.0833308 … 0.0 0.10039149; 0.0 0.0 … 0.0 0.0; … ; 0.0 0.0 … 0.0 0.0046177027; 0.0 0.0 … 0.0 0.0;;; 0.0 0.0 … 0.0 0.0; 0.0 0.0 … 0.0 0.0; … ; 0.0 0.0 … 0.0 0.0; -0.009831198 0.0 … -6.241158f-5 0.0;;;;], [-0.0 -0.006241999 … 0.0 0.0; 0.028823286 0.048164953 … -0.0 -0.0011747127; … ; -0.0 0.0 … -0.0 0.0; 0.0023253886 -0.025049005 … 0.046685886 -0.09861741;;; -0.0 0.0 … 0.012642856 0.0072253337; 0.024119087 -0.004458468 … 0.010326536 0.15005736; … ; -0.011935461 0.0 … 0.020962734 0.0; 0.0 0.0 … -0.0 0.0;;; 0.060182236 -0.094788745 … -0.07401137 -0.033367753; -0.07678972 0.08426057 … 0.07014333 0.051171795; … ; -0.016335089 -0.049365822 … -0.0043139863 0.04708052; 0.01048554 -0.03362944 … 0.1323807 0.0332753;;; 0.013488811 0.011579501 … -0.036032453 -0.0105867; 0.06765579 -0.119345695 … -0.27205664 -0.22961101; … ; -0.015514021 -0.008214844 … 0.04679813 0.05303599; 0.021357039 -0.07226776 … 0.0058457144 0.051622637;;; -0.024727311 -0.0518197 … 0.014467743 -0.00642653; 0.08039789 -0.09222708 … -0.17391956 0.03157955; … ; -0.016044691 -0.010065586 … 0.14096658 -0.020692801; 0.0011526882 -0.0169815 … 0.0151312 -0.021679971;;; 0.047910932 0.07889358 … 0.025737008 0.008488074; 0.100841515 0.0013905669 … 0.005625728 0.04416788; … ; 0.011316157 -0.0055836826 … 0.13231081 -0.02352487; 0.0022331427 -0.0041364166 … 0.010781104 0.002345266;;; 0.0833308 0.024661077 … -0.049248718 0.10039149; 0.0 -0.0 … -0.0 0.0; … ; -0.0 -0.0 … 0.0 0.007253804; 0.0 0.0 … 0.0 0.004617703;;; -0.0 0.0 … 0.0 -0.0; 0.0 0.0 … -0.0 0.010549577; … ; -0.0 0.0 … 0.0 -0.0; -0.009831198 0.0 … 0.004555515 -6.2411586f-5;;;;], [0.0 0.0 … 0.0 -0.0; 0.0 -0.0 … 0.0 -0.0033299138; … ; 0.0 0.0 … -0.0 0.0; -0.0 -0.0 … -0.0 -0.0032485288;;; -0.00038616513 0.08731942 … 0.02047339 0.002918466; 0.037508395 -0.0066471165 … 0.028961571 0.013940614; … ; -0.012951316 0.052080367 … -0.06752319 -0.0; -0.0 -0.013893028 … 0.00024237164 0.023083193;;; 0.0 0.0 … 0.0 0.0; -0.0 -0.0 … 0.0 -0.0026642068; … ; -0.0 0.0 … 0.0 -0.0027608685; -0.0 0.0 … -0.0 -0.0;;; … ;;; -0.007113217 -0.02163333 … 0.016647106 -0.0074870363; 0.02918059 0.046674073 … 0.22743732 0.029518612; … ; -0.012656976 -0.055291824 … 0.11975869 -0.092889495; 0.0 -0.0021318616 … 0.005778469 -0.004438005;;; -0.000689181 0.0 … -0.0 0.0; 0.12611672 -0.013078224 … 0.0 0.0; … ; -0.014654244 -0.0 … -0.0 0.0; -0.004228804 -0.0004704088 … -0.012946976 -0.0;;; -0.00056759146 -0.027297325 … 0.0 0.0; 0.0 0.0 … 0.0 0.0; … ; -0.0022909436 -0.0072533377 … -0.0 -0.0; 0.0 0.002561234 … 0.03132376 1.6159393f-5;;;;], [-0.0049010874 -0.004508649 … -0.0041083535 -0.0017929027; 0.030335546 -0.016685192 … 0.15347786 -0.0; … ; -0.02479568 -0.037666924 … -0.003135779 -0.004103861; -0.00463006 -0.004956264 … -0.0027146896 -0.0;;; -0.013053616 -0.013253992 … -0.005409689 -0.0010178937; -0.029807411 0.0012534403 … 0.108462065 -0.011264223; … ; 0.08683493 -0.022043513 … -0.025342375 -0.01413476; -0.022823773 -0.023133121 … -0.012057759 -0.0076457458;;; 0.0 -0.0002101712 … 1.0015147f-5 0.0; -1.3523934f-5 -9.0522124f-5 … -0.00030479653 -1.3371741f-5; … ; 2.3172795f-5 -0.01649469 … -0.00021669414 0.0; 0.0 -0.00021465203 … -7.697505f-5 0.00024740916;;; -0.00080569123 0.0 … 0.0 0.0; 0.0 0.0 … 0.0 0.0; … ; 0.0 0.0 … 0.0 0.0; 0.0 0.0 … 0.0 0.0;;; 0.0052193096 0.0021016297 … 0.0 0.0; -0.0033957784 0.00048516717 … 0.0 0.0; … ; 5.661115f-5 0.0 … 0.0 0.0; 0.002444594 0.0 … 0.0 0.0;;; 0.0 0.0 … 0.0 0.0; 0.0 0.0 … 0.0 0.0; … ; 0.0014362513 0.0 … 0.0 0.0; 0.003795918 -2.9455885f-5 … 0.010338737 0.0;;; 0.0 0.0 … 0.0 0.0; 2.3763143f-5 0.0 … 0.0 0.0; … ; -0.0017374047 0.0 … 0.0 0.0; -0.0023123785 0.0 … 0.0 0.0;;; -0.006603343 -0.0015058502 … -0.0 -0.0; -0.009259406 -0.015482168 … -0.0103536295 -0.014795123; … ; -0.015079211 -0.06621942 … -0.017707909 -0.0052194777; -0.013501542 -0.017773254 … 0.41825253 -0.009960584;;;;], [-0.004476652 -0.0031786663 … -0.0090422705 -0.0015475038; 0.012140339 -0.0024623007 … 0.009330391 -0.0; … ; -0.0059184902 -0.01218241 … 0.0057357573 0.0015458413; 0.008181821 -0.0037956298 … -0.0048961067 0.0;;; 2.8147258f-5 0.0094936285 … 0.00038030645 0.0002799227; -0.0233754 0.0015454284 … 0.00841541 0.0021900472; … ; 0.013144379 0.004376533 … -0.015482758 0.0013577638; -0.005360393 -0.020244999 … -0.006728419 0.0030434914;;; -0.0 -0.0020483185 … -3.9478477f-6 0.0; -0.000282839 -0.0021468631 … 0.0012782626 0.00044822937; … ; -0.0011855679 -0.004048095 … -0.0015954761 -0.0; -0.0 -4.506593f-5 … -0.0009485719 0.00012466391;;; -0.0011137059 0.0 … 0.0 0.0; -0.0 -0.0 … -0.0 0.0; … ; 0.0 0.0 … -0.0 0.0; 0.0 -0.0 … -0.0 -0.0;;; 0.003370808 0.0009148625 … 0.0 0.0; -0.0047539095 2.2876598f-5 … 0.0 -0.0; … ; -2.4617912f-5 -0.0 … -0.0 -0.0; 0.00093188457 -0.0 … -0.0 0.0;;; 0.0 0.0 … -0.0 -0.0; 0.0 0.0 … 0.0 -0.0; … ; -0.000276073 -0.0 … 0.0 -0.0; -0.00043043957 -0.0032838804 … 0.0029597091 0.0;;; 0.0 -0.0 … 0.0 -0.0; 1.0915454f-5 -0.0 … -0.0 0.0; … ; -0.0013458213 0.0 … -0.0 -0.0; -0.0016449884 0.0 … -0.0 0.0;;; 0.004786482 0.0011072165 … -0.0 -0.0; -0.0041485806 -0.0038548203 … 0.003813646 0.0033402997; … ; -0.0043335957 -0.010538365 … 0.011199867 -0.0026243315; 0.005001725 -0.0015888178 … 0.010988531 0.0007537392;;;;], Float32[-0.004476652; 0.012140339; … ; -0.0026243315; 0.0007537392;;], Float32[0.0; 0.0; … ; -0.01590525; -0.0;;], Float32[0.0; 0.020128958; … ; -0.01590525; -0.0;;], Float32[0.0; 0.0; … ; 0.0; 0.0;;])"
     },
     "metadata": {},
     "execution_count": 9
    }
   ],
   "cell_type": "code",
   "source": [
    "input = rand(Float32, 32, 32, 3, 1) # dummy input for our convolutional neural network\n",
    "\n",
    "expl = analyze(input, analyzer; layerwise_relevances=true)\n",
    "expl.extras.layerwise_relevances"
   ],
   "metadata": {},
   "execution_count": 9
  },
  {
   "cell_type": "markdown",
   "source": [
    "Note that the layerwise relevances are only kept for layers in the outermost `Chain` of the model.\n",
    "When using our unflattened model, we only obtain three layerwise relevances,\n",
    "one for each chain in the model and the output relevance:"
   ],
   "metadata": {}
  },
  {
   "outputs": [
    {
     "output_type": "execute_result",
     "data": {
      "text/plain": "([0.06675495 -0.004981801 … 0.011021007 0.04421971; 0.048869647 -0.028399747 … -0.027329648 0.01106981; … ; -0.000514915 0.023441497 … 0.0043694833 -0.0018634752; -0.015467346 -0.002745655 … 0.005718846 -0.00504807;;; -0.011888327 0.08724773 … 0.034354433 0.046655826; -0.06444999 -0.047307562 … -0.059081946 0.064309664; … ; -0.0035586779 -0.019582044 … 0.033041686 -0.0013432204; -0.01314467 -4.676871f-5 … -0.007872148 0.011304704;;; -0.0080184415 0.0034944855 … -0.013814093 -0.006194211; -0.00012937235 0.032900084 … 0.012610558 -0.0019307476; … ; -0.0052919756 -0.0015672878 … 0.0014218562 0.00025216877; -0.0031280252 -0.02015292 … -0.0060569393 0.0216214;;;;], [0.0 -0.0 … 0.0 -0.0; 0.0 -0.0 … -0.0 0.0; … ; -0.0 -0.0 … -0.0 -0.0; -0.0028410077 -0.0 … 0.023995642 0.0;;; 0.0 0.0055916235 … -0.0 -0.0; 0.0 -0.0 … 0.0 -0.019809151; … ; -0.0 -0.0 … 0.0 0.00026082754; 0.0 0.0010287425 … 0.0 -0.0064365435;;; -0.0 -0.017906604 … 0.0 0.005572118; -0.0 0.0 … -0.003467294 0.010574062; … ; -0.0 -0.0025775135 … 0.0 -0.007769989; -0.00021629911 -0.0017827958 … -0.0 0.00077495223;;; 0.0015591509 0.0 … -0.0 -0.0; 0.023572272 0.000998407 … -0.0 -0.0015607807; … ; 0.0037446844 0.0256381 … -0.0 0.0044062436; -0.0026238917 -0.00823309 … 0.04553548 -0.014340758;;; -0.0 -0.0 … -0.0 -0.0; 0.0 0.0 … 0.032000374 -0.0009951295; … ; 0.0 -0.0 … -0.0 -0.0072909165; -0.0 -0.005053289 … 0.0 0.0;;; -0.0 -0.0 … 0.0 -0.0; 0.0 0.0 … -0.0 0.016898623; … ; 0.0 0.0 … 0.0 -0.011493766; 0.0 0.003974977 … -0.0014738138 0.0050803944;;; 0.011387365 0.0037072117 … 0.031021241 0.005071383; -0.029744845 -0.019751642 … 0.00011025917 0.0017885393; … ; -0.00808157 0.0 … 0.00043781556 0.0; 0.0 -0.0 … 0.004181656 -0.0;;; -0.012428162 -0.002930592 … -0.003714641 0.0; -0.0051483326 0.07134949 … -0.0051137693 0.0; … ; 0.0013374531 0.0 … -0.0 -0.02110666; -0.0 -0.0022694296 … -0.0 0.0;;;;], [0.0 0.0 … 0.0 0.0; 0.0 0.0 … 0.0 0.0; … ; 0.0 0.0 … 0.0 0.0; 0.0 0.009691285 … 0.0 -0.041840743;;; 0.0 0.0 … 0.0 0.0032086466; 0.0 0.0 … 0.0 0.0; … ; 0.0 0.0 … 0.0 0.0; 0.0 0.0 … 0.0 0.0;;; 0.0 0.0 … 0.0 0.0; 0.036139037 0.0 … -0.002500005 0.0; … ; 0.0 0.0 … 0.0 0.0; 0.00408777 0.0 … 0.012781783 0.0;;; 0.0 0.0 … 0.0 0.0; 0.0 0.022740569 … 0.0 -0.009081195; … ; 0.0 0.0 … 0.0 0.024894495; 0.0 0.020961339 … 0.0 0.0;;; 0.0 0.0 … 0.0 0.0; 0.0 -0.028965581 … 0.0 -0.008149508; … ; 0.0 0.0 … 0.0 0.0; 0.0015394163 0.0 … 0.0 -0.01766983;;; 0.0 0.0 … 0.0 -0.0019860843; 0.0 0.04365148 … 0.0 0.0; … ; 0.0 0.0 … 0.0 0.0; 0.0 0.002900477 … 0.0 0.0009884891;;; 0.0 0.07313556 … 0.0 0.044411477; 0.0 0.0 … 0.0 0.0; … ; 0.0 0.0 … 0.0 0.0023436146; 0.0 0.0 … 0.0 0.0;;; 0.0 0.0 … 0.0 0.0; 0.0 0.0 … 0.0 0.0; … ; 0.0 0.0 … 0.0 0.0; -0.009406861 0.0 … -0.00054808764 0.0;;;;], [-0.0 -0.0118652545 … 0.0 0.0; 0.01806296 0.022367675 … -0.0 0.0013473595; … ; -0.0 0.0 … -0.0 0.0; 0.009691285 -0.01431197 … 0.024089029 -0.041840743;;; -0.0 0.0 … 0.012984564 0.0032086466; 0.019689836 -0.004423599 … 0.004794718 0.113677435; … ; -0.01351284 0.0 … 0.004418851 0.0; 0.0 0.0 … -0.0 0.0;;; 0.036139037 -0.057302706 … -0.023883611 -0.002500005; -0.06689891 0.07442707 … 0.057772044 0.027059805; … ; -0.008390893 -0.059923276 … -0.03329058 -0.019365795; 0.00408777 -0.040845376 … 0.04358232 0.012781783;;; 0.022740569 0.016930364 … -0.012772466 -0.009081195; 0.082817264 -0.116046 … -0.20295951 -0.1381772; … ; -0.017098602 -0.017070925 … 0.029106867 0.01927253; 0.020961339 -0.05100236 … -0.0024883405 0.024894495;;; -0.028965581 -0.063578084 … 0.014477576 -0.008149508; 0.058298346 -0.08937018 … -0.11917145 0.0035823402; … ; -0.018277422 0.024668416 … 0.06751386 -0.0065621976; 0.0015394164 -0.014827069 … 0.014899954 -0.01766983;;; 0.04365148 0.06367825 … 0.0030434048 -0.0019860843; 0.10520518 -0.0072832056 … 0.033519562 0.0153867; … ; 0.01256892 -0.0058671967 … 0.059919916 -0.007906141; 0.002900477 -0.002929175 … 0.0021249824 0.0009884891;;; 0.07313556 0.022330256 … 0.012974701 0.044411477; 0.0 -0.0 … 0.0 0.0; … ; 0.0 -0.0 … 0.0 0.0055111097; 0.0 0.0 … 0.0 0.0023436148;;; -0.0 0.0 … 0.0 0.0; 0.0 0.0 … 0.0 0.0033378392; … ; -0.0 0.0 … 0.0 -0.0; -0.009406861 0.0 … 0.0033268982 -0.0005480877;;;;], [0.0 0.0 … 0.0 0.0; 0.0 -0.0 … -0.0 -0.0016512013; … ; 0.0 0.0 … -0.0 0.0; -0.0 -0.0 … 0.0 -0.0021844222;;; 0.0052410425 0.07554175 … 0.014611188 -0.0018349347; 0.040489715 0.009580542 … 0.04110724 0.008779676; … ; -0.017819121 0.045643616 … -0.028645247 -0.0; -0.0 -0.016168334 … -0.000907044 0.013149901;;; -0.0 0.0 … 0.0 0.0; -0.0 -0.0 … 0.0 0.001298995; … ; 0.0 0.0 … -0.0 -0.0024154913; -0.0 0.0 … -0.0 -0.0;;; … ;;; -0.0122420145 -0.026309855 … -0.0112353 0.022456948; 0.03503901 -0.004477748 … 0.08230857 0.008407354; … ; -0.019107932 -0.04754105 … 0.043847334 -0.071407765; 0.0 -0.0034336115 … 0.0045616985 -0.003450239;;; -0.0007276409 0.0 … -0.0 0.0; 0.12679866 -0.01838312 … 0.0 0.0; … ; -0.014081822 -0.0 … -0.0 0.0; -0.0025317627 -0.00047991183 … -0.005884008 -0.0;;; 0.0017601718 -0.027204046 … 0.0 -0.0; 0.0 0.0 … 0.0 0.0; … ; -0.0016196133 -0.0057810484 … -0.0 -0.0; 0.0 0.0016858848 … 0.011279638 -3.326395f-5;;;;], [-0.007449046 -0.00683694 … -0.0062145586 -0.0026636005; 0.02372585 -0.028086387 … 0.15060136 -0.0; … ; 0.0010523688 -0.045847625 … -0.0047117686 -0.006207586; -0.0070261117 -0.0075352537 … -0.004065797 -0.0;;; -0.0016685065 -0.001688123 … -0.0008082381 -0.00017104304; -0.0029925874 -0.10522392 … -0.102543406 -0.0014876387; … ; 0.12666373 -0.016723372 … -0.0026903793 -0.0017729215; -0.0025061541 -0.0025293692 … -0.0015691452 -0.001085973;;; 0.0 -5.6237015f-5 … 1.5492973f-5 0.0; 6.209738f-5 2.1558963f-5 … -0.00012270067 6.21585f-5; … ; 6.817964f-5 -0.0031864205 … -6.071669f-5 0.0; 0.0 -5.9312333f-5 … 2.9573417f-5 -0.0240986;;; -0.0005195858 0.0 … 0.0 0.0; 0.0 0.0 … 0.0 0.0; … ; 0.0 0.0 … 0.0 0.0; 0.0 0.0 … 0.0 0.0;;; 0.0030917423 -0.003505674 … -0.0 -0.0; -0.0037782772 0.0012327004 … -0.0 -0.0; … ; -0.00015736667 -0.0 … -0.0 -0.0; -1.0912697f-5 -0.0 … -0.0 -0.0;;; 0.0 0.0 … 0.0 0.0; 0.0 0.0 … 0.0 0.0; … ; 0.0013372205 0.0 … 0.0 0.0; 0.0029515512 0.0014416792 … 0.00623132 0.0;;; 0.0 0.0 … 0.0 0.0; -0.00069630623 0.0 … 0.0 0.0; … ; -0.00045286084 0.0 … 0.0 0.0; 0.002926426 0.0 … 0.0 0.0;;; -0.0106950635 -0.0024694302 … -0.0 -0.0; -0.0149092125 -0.024620924 … -0.06471654 -0.023558754; … ; -0.023998238 -0.103581436 … -0.028046248 -0.008480886; -0.021552414 -0.028146459 … 0.2738835 -0.016014375;;;;], [-0.005977482 0.002119555 … -0.0036124415 0.0012557396; 0.011549718 -0.0047164103 … 0.009340915 -0.0; … ; 0.008554378 -0.012545113 … 0.0034451599 0.0059088925; 0.008560788 -0.00346335 … -0.005177896 0.0;;; 0.0011146136 0.0048854635 … -0.0011880787 0.0; -0.02369424 -0.004254401 … -0.0057513574 0.003530225; … ; 0.013575764 -0.0024398386 … 0.00056575617 0.0019092265; -0.0071807327 -0.013282629 … -0.005665605 0.0014556359;;; -0.0 -0.0026340648 … 0.0 0.0; -0.00031986748 -0.00083122 … -0.002833483 -0.00051840994; … ; -0.00052874483 -0.0005461978 … -0.00046650285 0.0; 0.0 5.6715835f-5 … -0.00029071988 -0.0023310033;;; -0.00071822276 -0.0 … 0.0 0.0; -0.0 -0.0 … 0.0 0.0; … ; 0.0 0.0 … -0.0 -0.0; -0.0 -0.0 … -0.0 -0.0;;; 0.0057015573 -0.00033083057 … 0.0 -0.0; 0.0039352537 0.0012781107 … 0.0 -0.0; … ; -5.454095f-5 0.0 … -0.0 0.0; 0.0043493514 -0.0 … -0.0 0.0;;; 0.0 0.0 … -0.0 0.0; 0.0 0.0 … -0.0 -0.0; … ; 0.00016610893 -0.0 … -0.0 0.0; 0.0003190349 -0.00070793385 … 0.0019121732 0.0;;; 0.0 -0.0 … 0.0 -0.0; -0.00028625282 -0.0 … -0.0 0.0; … ; 0.00021770387 0.0 … 0.0 -0.0; 0.004077716 0.0 … 0.0 0.0;;; 0.0040026424 0.0 … -0.0 0.0; -0.0016499239 -0.0009956217 … -0.004645238 -0.0053023985; … ; 0.00025782865 -0.016645487 … 0.0052315774 -0.000531837; -0.002091923 -0.0012948032 … 0.007692171 0.002404385;;;;], Float32[-0.005977482; 0.011549718; … ; -0.000531837; 0.002404385;;], Float32[0.0; 0.018877447; … ; -0.017024558; -0.0;;], Float32[0.0; 0.018877447; … ; -0.017024558; -0.0;;], Float32[0.0; 0.0; … ; 0.0; 0.0;;])"
     },
     "metadata": {},
     "execution_count": 10
    }
   ],
   "cell_type": "code",
   "source": [
    "analyzer = LRP(model; flatten=false) # use unflattened model\n",
    "\n",
    "expl = analyze(input, analyzer; layerwise_relevances=true)\n",
    "expl.extras.layerwise_relevances"
   ],
   "metadata": {},
   "execution_count": 10
  },
  {
   "cell_type": "markdown",
   "source": [
    "## Performance tips\n",
    "### Using LRP with a GPU\n",
    "Like all other analyzers, LRP can be used on GPUs.\n",
    "Follow the instructions on *GPU support*.\n",
    "\n",
    "### Using LRP without a GPU\n",
    "Using Julia's package extension mechanism,\n",
    "ExplainableAI.jl's LRP implementation can optionally make use of\n",
    "[Tullio.jl](https://github.com/mcabbott/Tullio.jl) and\n",
    "[LoopVectorization.jl](https://github.com/JuliaSIMD/LoopVectorization.jl)\n",
    "for faster LRP rules on dense layers.\n",
    "\n",
    "This only requires loading the packages before loading ExplainableAI.jl:\n",
    "```julia\n",
    "using LoopVectorization, Tullio\n",
    "using ExplainableAI\n",
    "```\n",
    "\n",
    "[^1]: G. Montavon et al., [Layer-Wise Relevance Propagation: An Overview](https://link.springer.com/chapter/10.1007/978-3-030-28954-6_10)"
   ],
   "metadata": {}
  },
  {
   "cell_type": "markdown",
   "source": [
    "---\n",
    "\n",
    "*This notebook was generated using [Literate.jl](https://github.com/fredrikekre/Literate.jl).*"
   ],
   "metadata": {}
  }
 ],
 "nbformat_minor": 3,
 "metadata": {
  "language_info": {
   "file_extension": ".jl",
   "mimetype": "application/julia",
   "name": "julia",
   "version": "1.9.3"
  },
  "kernelspec": {
   "name": "julia-1.9",
   "display_name": "Julia 1.9.3",
   "language": "julia"
  }
 },
 "nbformat": 4
}
