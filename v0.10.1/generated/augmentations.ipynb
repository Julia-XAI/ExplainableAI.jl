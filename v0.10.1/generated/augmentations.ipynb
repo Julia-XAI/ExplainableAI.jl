{
 "cells": [
  {
   "cell_type": "markdown",
   "source": [
    "# Analyzer augmentations\n",
    "All analyzers implemented in ExplainableAI.jl can be augmented by two types of augmentations:\n",
    "`NoiseAugmentation`s and `InterpolationAugmentation`s.\n",
    "These augmentations are wrappers around analyzers\n",
    "that modify the input before passing it to the analyzer.\n",
    "\n",
    "We build on the basics shown in the *Getting started* section\n",
    "and start out by loading the same pre-trained LeNet5 model and MNIST input data:"
   ],
   "metadata": {}
  },
  {
   "outputs": [
    {
     "output_type": "execute_result",
     "data": {
      "text/plain": "Chain(\n  Conv((5, 5), 1 => 6, relu),           \u001b[90m# 156 parameters\u001b[39m\n  MaxPool((2, 2)),\n  Conv((5, 5), 6 => 16, relu),          \u001b[90m# 2_416 parameters\u001b[39m\n  MaxPool((2, 2)),\n  Flux.flatten,\n  Dense(256 => 120, relu),              \u001b[90m# 30_840 parameters\u001b[39m\n  Dense(120 => 84, relu),               \u001b[90m# 10_164 parameters\u001b[39m\n  Dense(84 => 10),                      \u001b[90m# 850 parameters\u001b[39m\n) \u001b[90m                  # Total: 10 arrays, \u001b[39m44_426 parameters, 174.344 KiB."
     },
     "metadata": {},
     "execution_count": 1
    }
   ],
   "cell_type": "code",
   "source": [
    "using ExplainableAI\n",
    "using VisionHeatmaps\n",
    "using Zygote\n",
    "using Flux\n",
    "\n",
    "using BSON # hide\n",
    "model = BSON.load(\"../model.bson\", @__MODULE__)[:model] # hide\n",
    "model"
   ],
   "metadata": {},
   "execution_count": 1
  },
  {
   "outputs": [
    {
     "output_type": "execute_result",
     "data": {
      "text/plain": "28×28 reinterpret(reshape, ColorTypes.Gray{Float32}, ::Matrix{Float32}) with eltype ColorTypes.Gray{Float32}:\n 0.0  0.0  0.0  0.0  0.0  0.0  0.0  …  0.0        0.0  0.0  0.0  0.0  0.0\n 0.0  0.0  0.0  0.0  0.0  0.0  0.0     0.0        0.0  0.0  0.0  0.0  0.0\n 0.0  0.0  0.0  0.0  0.0  0.0  0.0     0.0        0.0  0.0  0.0  0.0  0.0\n 0.0  0.0  0.0  0.0  0.0  0.0  0.0     0.0        0.0  0.0  0.0  0.0  0.0\n 0.0  0.0  0.0  0.0  0.0  0.0  0.0     0.0        0.0  0.0  0.0  0.0  0.0\n 0.0  0.0  0.0  0.0  0.0  0.0  0.0  …  0.0        0.0  0.0  0.0  0.0  0.0\n 0.0  0.0  0.0  0.0  0.0  0.0  0.0     0.0        0.0  0.0  0.0  0.0  0.0\n 0.0  0.0  0.0  0.0  0.0  0.0  0.0     0.0        0.0  0.0  0.0  0.0  0.0\n 0.0  0.0  0.0  0.0  0.0  0.0  0.0     0.0235294  0.0  0.0  0.0  0.0  0.0\n 0.0  0.0  0.0  0.0  0.0  0.0  0.0     0.407843   0.0  0.0  0.0  0.0  0.0\n ⋮                        ⋮         ⋱                       ⋮         \n 0.0  0.0  0.0  0.0  0.0  0.0  0.0     0.0        0.0  0.0  0.0  0.0  0.0\n 0.0  0.0  0.0  0.0  0.0  0.0  0.0  …  0.0        0.0  0.0  0.0  0.0  0.0\n 0.0  0.0  0.0  0.0  0.0  0.0  0.0     0.0        0.0  0.0  0.0  0.0  0.0\n 0.0  0.0  0.0  0.0  0.0  0.0  0.0     0.0        0.0  0.0  0.0  0.0  0.0\n 0.0  0.0  0.0  0.0  0.0  0.0  0.0     0.0        0.0  0.0  0.0  0.0  0.0\n 0.0  0.0  0.0  0.0  0.0  0.0  0.0     0.0        0.0  0.0  0.0  0.0  0.0\n 0.0  0.0  0.0  0.0  0.0  0.0  0.0  …  0.0        0.0  0.0  0.0  0.0  0.0\n 0.0  0.0  0.0  0.0  0.0  0.0  0.0     0.0        0.0  0.0  0.0  0.0  0.0\n 0.0  0.0  0.0  0.0  0.0  0.0  0.0     0.0        0.0  0.0  0.0  0.0  0.0",
      "image/png": "[encoded data removed]",
      "text/html": [
       "<img src=\"data:image/png;base64,iVBORw0KGgoAAAANSUhEUgAAAHAAAABwCAAAAADji6uXAAAAAXNSR0IArs4c6QAAAARnQU1BAACxjwv8YQUAAAAgY0hSTQAAeiYAAICEAAD6AAAAgOgAAHUwAADqYAAAOpgAABdwnLpRPAAAAjhJREFUaAW9wb2L1gUAB/DPcd+oQaPswCGqpSGHXqYTapGgJSg4CeoPcEiECqFDpCGwTdIQImuIsGiTtmjJgl6GoKEiIhqCoMQsOOhFy85r+A3H8fTo73mM7+cTZVEWZVEWZVEWZVEWZVEWZVEWZVEWZVEWZVEWZVEWZVEWZVEWZVEWZVEWc7gTS1jBHlzGSXyK71xZlEVZlMUM7sYB7MWSrXbjH3yLj/E0/jYpyqIsymKEe3AAj+NGgx/xEb7HKj7HMnbgYXyBkyZFWZRFWVzFq1jBksH7+AqHcdHgfuzH67gP5/AyTuO8raIsyqIsprgBq9iHBZzHKziKP2x1CxbxPN7DHaaLsiiLsphiD57FAn7CXnxmq0XchlN4FzcbLOBNrJkUZVEWZTHFItYNLmE3HsNdBhewC7vwC3badA4v4JJJURZlURZTnMEHeAi34wQ2DNaxaNNOg8t4B0/hrP8WZVEWZTHFBazgJhzCA/gVP+B63ItlW72Gw1gzXZRFWZTFVazhkEmnsGzwGw7iDay7siiLsiiLOaziCZv2423jRFmURVnMaB+eQwy+xmnjRVmURVnMYBkvYpvB73gSfxkvyqIsymIGj2C7wZ94FJ+YTZRFWZTFSNuxatNb+NDsoizKoixG2IZvcJ3Bl3jGfKIsyqIsRngQt2LD4CAumk+URVmUxQhHsGFwFGfML8qiLMpihB1YwM94ybWJsiiLshjhGI7hCM66NlEWZVEWIxzHcf+PKIuyKPsXNwdYfgiRxs8AAAAASUVORK5C\">"
      ]
     },
     "metadata": {},
     "execution_count": 2
    }
   ],
   "cell_type": "code",
   "source": [
    "using MLDatasets\n",
    "using ImageCore, ImageIO, ImageShow\n",
    "\n",
    "index = 10\n",
    "x, y = MNIST(Float32, :test)[10]\n",
    "input = reshape(x, 28, 28, 1, :)\n",
    "\n",
    "convert2image(MNIST, x)"
   ],
   "metadata": {},
   "execution_count": 2
  },
  {
   "cell_type": "markdown",
   "source": [
    "## Noise augmentation\n",
    "The `NoiseAugmentation` wrapper computes explanations averaged over noisy inputs.\n",
    "Let's demonstrate this on the `Gradient` analyzer.\n",
    "First, we compute the heatmap of an explanation without augmentation:"
   ],
   "metadata": {}
  },
  {
   "outputs": [
    {
     "output_type": "execute_result",
     "data": {
      "text/plain": "1-element Vector{Matrix{ColorTypes.RGB{Float64}}}:\n [RGB(0.542044692993164, 0.5190736373901367, 0.18255157775878905) RGB(0.5405419067382813, 0.5186877868652343, 0.18299835205078127) … RGB(0.5501000518798829, 0.5211419052124023, 0.18022431030273436) RGB(0.5480906158447265, 0.5206259689331054, 0.18076740112304687); RGB(0.5577551651000977, 0.5230979751586914, 0.1782020248413086) RGB(0.5673554992675781, 0.5255300598144531, 0.17589942016601562) … RGB(0.550458218383789, 0.5212338668823242, 0.18012750854492188) RGB(0.5480906158447265, 0.5206259689331054, 0.18076740112304687); … ; RGB(0.5540689025878907, 0.5221609344482422, 0.17915164794921876) RGB(0.5669629669189453, 0.5254306182861328, 0.17598839416503906) … RGB(0.5511143676757813, 0.5214023376464844, 0.1799501708984375) RGB(0.5480906158447265, 0.5206259689331054, 0.18076740112304687); RGB(0.5480906158447265, 0.5206259689331054, 0.18076740112304687) RGB(0.5480906158447265, 0.5206259689331054, 0.18076740112304687) … RGB(0.5480906158447265, 0.5206259689331054, 0.18076740112304687) RGB(0.5480906158447265, 0.5206259689331054, 0.18076740112304687)]",
      "text/html": [
       "<table><tbody><tr><td style='text-align:center;vertical-align:middle; margin: 0.5em;border:1px #90999f solid;border-collapse:collapse'><img style='max-width: 100px; max-height:100px;display:inline' src=\"data:image/png;base64,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\"></td></tr></tbody></table><div><small>(a vector displayed as a row to save space)</small></div>"
      ]
     },
     "metadata": {},
     "execution_count": 3
    }
   ],
   "cell_type": "code",
   "source": [
    "analyzer = Gradient(model)\n",
    "heatmap(input, analyzer)"
   ],
   "metadata": {},
   "execution_count": 3
  },
  {
   "cell_type": "markdown",
   "source": [
    "Now we wrap the analyzer in a `NoiseAugmentation` with 10 samples of noise.\n",
    "By default, the noise is sampled from a Gaussian distribution\n",
    "with mean 0 and standard deviation 1."
   ],
   "metadata": {}
  },
  {
   "outputs": [
    {
     "output_type": "execute_result",
     "data": {
      "text/plain": "1-element Vector{Matrix{ColorTypes.RGB{Float64}}}:\n [RGB(0.38782768554687497, 0.47602540664672854, 0.25290716705322264) RGB(0.39127705078125, 0.47704943695068364, 0.2510563003540039) … RGB(0.387117919921875, 0.4758146949768066, 0.2532842300415039) RGB(0.3931857421875, 0.4776160797119141, 0.2500124847412109); RGB(0.388228076171875, 0.4761442726135254, 0.2526944595336914) RGB(0.389336572265625, 0.47647335739135743, 0.2521055709838867) … RGB(0.39764664459228516, 0.478935173034668, 0.24758257598876954) RGB(0.39568310546875, 0.47835748443603515, 0.24864673919677735); … ; RGB(0.39092587890624997, 0.47694518280029297, 0.2512483474731445) RGB(0.39631884765625003, 0.47854622039794925, 0.2482990676879883) … RGB(0.389115673828125, 0.4764077781677246, 0.2522229232788086) RGB(0.392260205078125, 0.47734131088256837, 0.2505186378479004); RGB(0.3923546875, 0.4773693603515625, 0.25046696777343747) RGB(0.392277001953125, 0.477346297454834, 0.25050945205688474) … RGB(0.388911279296875, 0.4763470985412598, 0.25233150787353514) RGB(0.39191318359375, 0.4772382888793945, 0.25070841522216797)]",
      "text/html": [
       "<table><tbody><tr><td style='text-align:center;vertical-align:middle; margin: 0.5em;border:1px #90999f solid;border-collapse:collapse'><img style='max-width: 100px; max-height:100px;display:inline' src=\"data:image/png;base64,iVBORw0KGgoAAAANSUhEUgAAAHAAAABwCAIAAABJgmMcAAAAAXNSR0IArs4c6QAAAARnQU1BAACxjwv8YQUAAAAgY0hSTQAAeiYAAICEAAD6AAAAgOgAAHUwAADqYAAAOpgAABdwnLpRPAAACmtJREFUeAHtwUuvZNdZx+HfWuvdu3adqj4Xn9PtbrvtxM7NASuKgQgp8sCDTBiAxDdAMOMb8An4FAyZIgESiAEKsoQUIVCiGDsWuN22u9tpt/tybnXbe6/1MvpXZVAokz3cz2N/8VfvISGw5exEdnoPSPaIdJ6Q4oF9prFDJqlnnzpkxAlI9oD0HhEnIFXIiBOQSeyR3iMScKQQkeIBKR6QQkDcAxKCI8ZoUMZoUMZoUMZvcHbcA5LZ6T0hbUnIOhvSe2KfYI44AbFQkEnKSOsR2RRD+hLZJyZH5tYik9gjk5iRrkQke0Q2JSGtJ6R4QHoi+xijQRmjQRmjQVkIbAV2Co5kj0jAka4kpPOEFA9I7wmZEZHzrkaOqhVy3jfIItdIVxLSloRYKEjvCXECMql7ZJZ6JCa2Og/IMhvyvJsiMTiScKR4QIzRoIzRoIzRoCx7RLoSkdYT0peEhOBIISDT1CGLvkY2OSFfLI6RtiTkcZwj86pF2mxICI50JSLuAVkXQyaxQyw4cmwZ2ZSAPNtMkefdFFlnQ2JwJIWCFA+IMRqUMRqUMRqUdSUivUfkqm+QvkTkbLJAZmmF3JlcIV1JyP3VCXLRNchnV8eIxYRsckIOrEfqWNjn62WDLGtDnqzmyL3FGdKkDulKQo6rFVLHjKTgyCR2yDRlpCsJMUaDMkaDMkaDshgccQ9IHXskEZEbaYNYKEgKjqw8InPbIKf1AknBka83M+R0skS+Ws2R5+sGWW4Skju2uq5G+p6tc6uQ+bRHbh0skSb1SB0zYiEjTewRC4WtyJYxGpQxGpQxGpTx/zitlkgKBTmuVsi6VMiJdchh6pCb9Qp51jXIi3aKXLcVsuoPkU2X2AqOHE47xKcBKSUgXQ5Iio70JSLrbMhFN0UOqzVSp4x0nhDzgmSPiDEalDEalDEalFWhIIf1AjmyNXJatcihZeSyj8iyJOTtA0eyO/JZXCI/OnmAPFgds89JtUJ+cOMp8sYkIrerG0giIZ33yMebc+T9F7eQL1bHSGFnnQ257mvkuFohEWcfYzQoYzQoYzQoS6Gwz3nfIF+1c/aZxg65M1kgj9qMvDu/g/xOUyOv3P4O8jeP/xW5WTnyBwffQHq/g3xz/g4yufkeW/2Srf4Kufvkn9j5EPn3UJBPFmdIm43fpnhE6tgjxmhQxmhQxmhQFth52s6Qp+0Bkj0iVczIT07vI3968hry5t0/Q8rZj5G4/jXiX7+P/PHxm4h7QWJISOst8mDxAXK0foBc5BfIeb5CnvXXyL+9eBm5WS+Q03qJfHJ1ilgsiMWMODvFA2KMBmWMBmWMBmUER1IoSPGIPFsfINkD8rP0KvLa5DPk80//Gnnp8xvIv1yeI9+bFuQgGvLLRUZScOQ/L28jl50hvS+RB9c3kadf30F+9OZT5E5zibw2WSK36hUySy3SloR0npAqZCSFghijQRmjQRmjQVnEkUNbI7NZi7w1L8i6GPJqc4l07siHqxZ51l0hk8hWYOcszZGrvEAerI+Q97+4i6wvHenPC9JfFMSOM/LVK3OkSR3yaDNFVqVCNsUQCxlZlQpxAlLHghijQRmjQRmjQVn2iMxSi7zaLJAqONJERz5dHSDvn99E1tmQO80V8nqzRt6/OES+f/AM+d/Fq4gTkHdfe4ScVkvkzYML5LVJQc5Sg1yUFvnFdYXcXx0j61whD1dHiAVHXqqXSMARCxkxRoMyRoMyRoOyJvbIS9UauV0X5O3mJrIqG+SNyQaZhBVykubI777yl2zd+C7i5z9HSvsceav5R+Sj9QL5cjNBzqoW+fPbP0FiMGTTXyAfLT9AbtVXyC+vGuTR8hBZ9YZUqSCHVURicKTzhBijQRmjQRmjQVkdMzKJBakCWw+7F8gdO0Lu2AEyiTXyxsl7bN34NpJf+n0klRbZfPl3yL3NNfIPT76F9B6RP7p5D7lsHyNNmiGX3VPkw9Ul8sV6jiz6GtnkxD4WCjKJPdKVhKTgiDEalDEalDEalMXgyCIb4p6RB22PPOufIqsSkEWOyHfWf4t878VPkVmcIz+9+hXyq+UU+eevfoh8/mnNPv79byOPN/eQHx9ukIdtRj5eHCPPugPk3otj5GjaIhYdOWuWyNw2SBUykomIMRqUMRqUMRqUbUpCnJ0vNj3yVTtFrnONfLI4Q87bBnn39DPkv+wJ8oc3HiNXma37yxNk3SckTQNS1o48Wc2Qi1mD3N+skEfrGfKz568jz5YNsl4HJIQa+cbRJTJPG6SJPbLINTKJPWKMBmWMBmWMBmVtSezz+foG8rSdIZ9ev4TcfzhF8nVBHp2+hczmBfnvs6+QzxYnyP17E6QsC3LxyYp98rJGTt85Q75cHyKHtkZuVC3y8uk1cqu+Rg5tg9yeLJAX3QTpPSKbYkgKBTFGgzJGgzJGg7LeI+IlsE8de2RetcjR6QS5riJSMluXzyLyH+0dZHnuiGdnKwVkfseQUEfEO7Z+8dER+5TOkbvfzchbR0vkleYKuTtZI5PgiBOQp22DODvZI2KMBmWMBmWMBmUQkK4ExAnIop8gfYlIlRyxmq12wVaasNWu2SprRw5uRcSMLffIPpcPC1uBrTgJyN03O+RPXvkYObIWeWPiyKlNkYu8QZalRy5jRg5tg3QeEWM0KGM0KGM0KMseECcgbUnsM7cWKdOAvD7vkFUxZN1XSPaAXB5WyMl0xU5Afu/kIfLq5Br5+xtvIV2JSJ0K0qQeOe8a5EXXINf9Cjm0DdJ5QM4qR06rDXLeNUhfEmKMBmWMBmWMBmXZI7IphixzhTSxR6qYkbm1SGDn8fUMmVhGQmCvq7ZG3j55grwxvUDemSVknj5AvtkEZFUK8riNyFmVkWUJSGTnxAJy3mek84CscmIfZ8cYDcoYDcoYDcqyB3YcSaEghZ069kj2iFx2DTKreyQGRwKOrENCGsvIMlfIrzcz5IezNfKDgxr51uQu4jjyP/YAMSrkUbdGUghIZCews8wR6TwiVczIphhijAZljAZljAZlFgoSgyMpOBKDI11JSAoFmVmLvNxcIXXMSFsisp5WyCpXyA3bIIfWIkZE5mmCLMsKKV4Qd7butRvkOiek94A0sSDn/QRZ5ApZ5ApZ5gopHhFjNChjNChjNCiLwRELBSlekEJAOiJioSBHk2vkILVIVxLyerNALvMEebKZIVXIyPOuQX6+vETmcc1WuEAi+z3YNMjzdooUAjKJPVI8IIWAtCUhTkAsZMQYDcoYDcoYDcoCjgScnYAEduqYkcDOJPZIxJGb9QIpBKQrCQnsd93XyCfLY6QthjSxQwoBed4eINf9BFkXQ+qYkYPUIrPUIiGwVYWMBJx9jNGgjNGgjNGgLAT2cnacnYgjk9QjEUcKAVnkGgk4kj0gTeqRgCOZiFx0DZI9IhfeIJti7BXYmqYOsVAQCwUJgS0LmX0ijoTAljEalDEalDEalPEbnIBEdlLISAkBcWfLCUhXEpJDQSaxR5rYI8kdCTjiBGRDQnp3xLwgVcxI7xHpS0RiYKuKGbGQEXe2MhGxUPhtjNGgjNGgjNGg/g8A7jT70PZh+QAAAABJRU5ErkJg\"></td></tr></tbody></table><div><small>(a vector displayed as a row to save space)</small></div>"
      ]
     },
     "metadata": {},
     "execution_count": 4
    }
   ],
   "cell_type": "code",
   "source": [
    "analyzer = NoiseAugmentation(Gradient(model), 50)\n",
    "heatmap(input, analyzer)"
   ],
   "metadata": {},
   "execution_count": 4
  },
  {
   "cell_type": "markdown",
   "source": [
    "Note that a higher sample size is desired, as it will lead to a smoother heatmap.\n",
    "However, this comes at the cost of a longer computation time.\n",
    "\n",
    "We can also set the standard deviation of the Gaussian distribution:"
   ],
   "metadata": {}
  },
  {
   "outputs": [
    {
     "output_type": "execute_result",
     "data": {
      "text/plain": "1-element Vector{Matrix{ColorTypes.RGB{Float64}}}:\n [RGB(0.5181707580566406, 0.5127386535644531, 0.19068717651367187) RGB(0.5168672424316406, 0.5123898254394531, 0.19118287963867187) … RGB(0.5250838623046875, 0.5145637969970703, 0.18818638305664062) RGB(0.5226870849609375, 0.5139313140869141, 0.18905188598632813); RGB(0.5236807983398437, 0.5141935440063476, 0.1886930450439453) RGB(0.5286274459838867, 0.5155294372558594, 0.18696320343017578) … RGB(0.52420341796875, 0.5143314575195314, 0.1885043212890625) RGB(0.5216014160156249, 0.5136448181152344, 0.18944393310546875); … ; RGB(0.5224743896484374, 0.5138751861572266, 0.18912869262695312) RGB(0.5290977310180665, 0.5156582824707032, 0.18680214691162111) … RGB(0.5204292846679688, 0.5133355056762696, 0.18986720275878907) RGB(0.5205635375976562, 0.5133709335327149, 0.18981872253417967); RGB(0.5224351684570312, 0.5138648361206055, 0.18914285583496093) RGB(0.521222607421875, 0.5135448547363282, 0.18958072509765625) … RGB(0.5197164916992187, 0.5131474075317384, 0.19012460021972655) RGB(0.5216048217773437, 0.5136457168579102, 0.1894427032470703)]",
      "text/html": [
       "<table><tbody><tr><td style='text-align:center;vertical-align:middle; margin: 0.5em;border:1px #90999f solid;border-collapse:collapse'><img style='max-width: 100px; max-height:100px;display:inline' src=\"data:image/png;base64,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\"></td></tr></tbody></table><div><small>(a vector displayed as a row to save space)</small></div>"
      ]
     },
     "metadata": {},
     "execution_count": 5
    }
   ],
   "cell_type": "code",
   "source": [
    "analyzer = NoiseAugmentation(Gradient(model), 50, 0.1)\n",
    "heatmap(input, analyzer)"
   ],
   "metadata": {},
   "execution_count": 5
  },
  {
   "cell_type": "markdown",
   "source": [
    "When used with a `Gradient` analyzer, this is equivalent to `SmoothGrad`:"
   ],
   "metadata": {}
  },
  {
   "outputs": [
    {
     "output_type": "execute_result",
     "data": {
      "text/plain": "1-element Vector{Matrix{ColorTypes.RGB{Float64}}}:\n [RGB(0.4142361450195312, 0.4837115478515625, 0.2388226318359375) RGB(0.4137956771850586, 0.4835895721435547, 0.23905303039550782) … RGB(0.41900139999389646, 0.4850773323059082, 0.23633003692626953) RGB(0.4180858001708984, 0.4848096954345703, 0.23680896606445312); RGB(0.41257157135009764, 0.4832505889892578, 0.23969333190917969) RGB(0.41707577896118164, 0.48451445846557617, 0.23733728485107422) … RGB(0.41630672073364255, 0.484289656829834, 0.23773956146240235) RGB(0.4110758552551269, 0.4828363906860352, 0.2404757064819336); … ; RGB(0.41613776397705077, 0.4842402694702148, 0.23782793884277342) RGB(0.4155607223510742, 0.48407835388183595, 0.23812977600097654) … RGB(0.41435248565673827, 0.48374376525878904, 0.23876177673339843) RGB(0.41438868713378907, 0.48375379028320314, 0.23874284057617187); RGB(0.4163537330627441, 0.4843033988952637, 0.23771497039794923) RGB(0.41447814941406247, 0.483778564453125, 0.238696044921875) … RGB(0.41102819824218745, 0.48282319335937496, 0.240500634765625) RGB(0.41493180847167965, 0.4839041931152344, 0.2384587463378906)]",
      "text/html": [
       "<table><tbody><tr><td style='text-align:center;vertical-align:middle; margin: 0.5em;border:1px #90999f solid;border-collapse:collapse'><img style='max-width: 100px; max-height:100px;display:inline' src=\"data:image/png;base64,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\"></td></tr></tbody></table><div><small>(a vector displayed as a row to save space)</small></div>"
      ]
     },
     "metadata": {},
     "execution_count": 6
    }
   ],
   "cell_type": "code",
   "source": [
    "analyzer = SmoothGrad(model, 50)\n",
    "heatmap(input, analyzer)"
   ],
   "metadata": {},
   "execution_count": 6
  },
  {
   "cell_type": "markdown",
   "source": [
    "We can also use any distribution from\n",
    "[Distributions.jl](https://github.com/JuliaStats/Distributions.jl),\n",
    "for example Poisson noise with rate $\\lambda=0.5$:"
   ],
   "metadata": {}
  },
  {
   "outputs": [
    {
     "output_type": "execute_result",
     "data": {
      "text/plain": "1-element Vector{Matrix{ColorTypes.RGB{Float64}}}:\n [RGB(0.43535119781494136, 0.4897995872497558, 0.2278796859741211) RGB(0.43291189880371095, 0.4890973648071289, 0.2291362945556641) … RGB(0.4365864189147949, 0.49015137252807617, 0.2272634056091309) RGB(0.4376483222961426, 0.49045250930786133, 0.22674037857055662); RGB(0.43591581573486327, 0.4899612014770508, 0.22759370269775392) RGB(0.43900072326660156, 0.49083602600097653, 0.22607427062988283) … RGB(0.44813665008544923, 0.49342681121826176, 0.22157448577880856) RGB(0.4404876640319824, 0.4912576957702637, 0.22534189682006836); … ; RGB(0.4351748580932617, 0.48974882278442383, 0.22797052764892578) RGB(0.4324647552490234, 0.4889686416625977, 0.22936664123535155) … RGB(0.43616092147827146, 0.4900307090759277, 0.22747297897338867) RGB(0.4343935150146484, 0.4895238906860352, 0.22837303771972656); RGB(0.4368970054626465, 0.4902394493103028, 0.22711043014526366) RGB(0.43243293151855466, 0.4889594802856445, 0.22938303527832032) … RGB(0.43581843795776365, 0.48993358688354494, 0.2276416648864746) RGB(0.4369160720825195, 0.49024485626220704, 0.22710103912353516)]",
      "text/html": [
       "<table><tbody><tr><td style='text-align:center;vertical-align:middle; margin: 0.5em;border:1px #90999f solid;border-collapse:collapse'><img style='max-width: 100px; max-height:100px;display:inline' src=\"data:image/png;base64,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\"></td></tr></tbody></table><div><small>(a vector displayed as a row to save space)</small></div>"
      ]
     },
     "metadata": {},
     "execution_count": 7
    }
   ],
   "cell_type": "code",
   "source": [
    "using Distributions\n",
    "\n",
    "analyzer = NoiseAugmentation(Gradient(model), 50, Poisson(0.5))\n",
    "heatmap(input, analyzer)"
   ],
   "metadata": {},
   "execution_count": 7
  },
  {
   "cell_type": "markdown",
   "source": [
    "Is is also possible to define your own distributions or mixture distributions.\n",
    "\n",
    "`NoiseAugmentation` can be combined with any analyzer type from the Julia-XAI ecosystem,\n",
    "for example `LRP` from [RelevancePropagation.jl](https://github.com/Julia-XAI/RelevancePropagation.jl)."
   ],
   "metadata": {}
  },
  {
   "cell_type": "markdown",
   "source": [
    "## Integration augmentation\n",
    "The `InterpolationAugmentation` wrapper computes explanations\n",
    "averaged over `n` steps of linear interpolation between the input and a reference input,\n",
    "which is set to `zero(input)` by default:"
   ],
   "metadata": {}
  },
  {
   "outputs": [
    {
     "output_type": "execute_result",
     "data": {
      "text/plain": "1-element Vector{Matrix{ColorTypes.RGB{Float64}}}:\n [RGB(0.26731090087890624, 0.43895178527832035, 0.31948900451660156) RGB(0.26731090087890624, 0.43895178527832035, 0.31948900451660156) … RGB(0.26731090087890624, 0.43895178527832035, 0.31948900451660156) RGB(0.26731090087890624, 0.43895178527832035, 0.31948900451660156); RGB(0.26731090087890624, 0.43895178527832035, 0.31948900451660156) RGB(0.26731090087890624, 0.43895178527832035, 0.31948900451660156) … RGB(0.26731090087890624, 0.43895178527832035, 0.31948900451660156) RGB(0.26731090087890624, 0.43895178527832035, 0.31948900451660156); … ; RGB(0.26731090087890624, 0.43895178527832035, 0.31948900451660156) RGB(0.26731090087890624, 0.43895178527832035, 0.31948900451660156) … RGB(0.26731090087890624, 0.43895178527832035, 0.31948900451660156) RGB(0.26731090087890624, 0.43895178527832035, 0.31948900451660156); RGB(0.26731090087890624, 0.43895178527832035, 0.31948900451660156) RGB(0.26731090087890624, 0.43895178527832035, 0.31948900451660156) … RGB(0.26731090087890624, 0.43895178527832035, 0.31948900451660156) RGB(0.26731090087890624, 0.43895178527832035, 0.31948900451660156)]",
      "text/html": [
       "<table><tbody><tr><td style='text-align:center;vertical-align:middle; margin: 0.5em;border:1px #90999f solid;border-collapse:collapse'><img style='max-width: 100px; max-height:100px;display:inline' src=\"data:image/png;base64,iVBORw0KGgoAAAANSUhEUgAAAHAAAABwCAIAAABJgmMcAAAAAXNSR0IArs4c6QAAAARnQU1BAACxjwv8YQUAAAAgY0hSTQAAeiYAAICEAAD6AAAAgOgAAHUwAADqYAAAOpgAABdwnLpRPAAABENJREFUeAHtwUtvVXUUxuHff+91Lu1p62kLLVGUBhAlBgRJYODIaHTgyKFDYxwa/QQmfgKHxujQjyAzA8GJJppojBAjl2ohlEspvZ5ybns7elsHTYzNopya9Tz2xsfvEPwYwZURXBnBlRFcGcGVEVwZwZURXBnBlRFcGcGVEVwZwZURXBnBlRFcGcGVEVwZwZURXBnBlRFcGcGVEVwZwZURXBnBlTHQEts5NnIPOTGyhMy3a8ivqweQ1V4NSZQ8TkZwZQRXRnBlDIDElpIto/YIGbU2klMirX6G1LI+8nRtBbmXRpCf7h5A8rxEDo2tIFkq2SkjuDKCKyO4MnbRcN5FVns1ZGFjGBmrtZGJagtZ7g4h9ayHXF6bRKaq68ip0UXkr0ePkGvDk0gt7yEr3TrSrG6wU0ZwZQRXRnBlPGbVrEBm18aRjU6OrK9nSGN/F7nfHkEsFciN1gTbaReG/Lh0EClIyFvTfyCtfgWpZAXy2+o0UpSJ/8IIrozgygiuDDcJqaQ+cnVpHLn3e4mkCptmjreRYesiWSqQkn936eazyMGJFlLLesj9TgN5pr6KzLaaeDCCKyO4MoIrw0mnyJHry08hY/UuMn08R+rWR/bVW/wXJQnpFDlyfOohcrSxgNSyPnLx/mHkivWQiWoLKcrEThnBlRFcGcGV4WTU2sh7R64hp0cK5FzjZeTTm7PIa81l5GzjBeSTuUXkpZEF5OKDGeT1yRvISq+KLHaHkNnWGFLJCuT28jBSafaRWt5jp4zgygiujODKcNIpcrYk5GzjJNI88xXy2SsFknprSLZ8GTmx+CHy0dEPkHr6ApmssOlet49kqUTm22PIVH0NGa20kTwVeDCCKyO4MoIrw0nJlu8WDyE/LC0j76+dQebabDrXGEXmu6tIu8iRb259ibzdPIJ8vTDHloQUJCRRIp2iguSpwJsRXBnBlRFcGY9Zp8iRz28eZTvn+adptrPav4W8OXkMOdX4E7neLpBfFg8grX6FLSWPkxFcGcGVEVwZA6woE9ItcuTS4rfIcr+HXHhwGNnoG0+CEVwZwZURXBkD5sqdcWT+0gZSf3cKOT/fRPYPbSCVrI8kSp4EI7gygisjuDIGwO31UWR9ro9MnK4j3/9cQ4pOiQyfrCDjtR5PmhFcGcGVEVwZA6DVzpFsqGRTyabavgyZnugg47UNBokRXBnBlRFcGU9Ir8yRtYcJ6dzpItbMkedmeshkrcWgMoIrI7gygitjVyXkYbuOTB3oIfezKlIdZtNkbYW9wAiujODKCK6MXdSstJBDQw+RC7dnkFefv4sstBvsNUZwZQRXRnBl7KIXRxaQq+uTyExzBekVGVLPu+w1RnBlBFdGcGXsoqVuHSnKhOSpRNqFsZcZwZURXBnBlbGLbrQmkEoqkH6ZkDyV7GVGcGUEV0ZwZeyiTpEjHXIkTwX/F0ZwZQRXRnD1NwWjHIODIT05AAAAAElFTkSuQmCC\"></td></tr></tbody></table><div><small>(a vector displayed as a row to save space)</small></div>"
      ]
     },
     "metadata": {},
     "execution_count": 8
    }
   ],
   "cell_type": "code",
   "source": [
    "analyzer = InterpolationAugmentation(Gradient(model), 50)\n",
    "heatmap(input, analyzer)"
   ],
   "metadata": {},
   "execution_count": 8
  },
  {
   "cell_type": "markdown",
   "source": [
    "When used with a `Gradient` analyzer, this is equivalent to `IntegratedGradients`:"
   ],
   "metadata": {}
  },
  {
   "outputs": [
    {
     "output_type": "execute_result",
     "data": {
      "text/plain": "1-element Vector{Matrix{ColorTypes.RGB{Float64}}}:\n [RGB(0.26731090087890624, 0.43895178527832035, 0.31948900451660156) RGB(0.26731090087890624, 0.43895178527832035, 0.31948900451660156) … RGB(0.26731090087890624, 0.43895178527832035, 0.31948900451660156) RGB(0.26731090087890624, 0.43895178527832035, 0.31948900451660156); RGB(0.26731090087890624, 0.43895178527832035, 0.31948900451660156) RGB(0.26731090087890624, 0.43895178527832035, 0.31948900451660156) … RGB(0.26731090087890624, 0.43895178527832035, 0.31948900451660156) RGB(0.26731090087890624, 0.43895178527832035, 0.31948900451660156); … ; RGB(0.26731090087890624, 0.43895178527832035, 0.31948900451660156) RGB(0.26731090087890624, 0.43895178527832035, 0.31948900451660156) … RGB(0.26731090087890624, 0.43895178527832035, 0.31948900451660156) RGB(0.26731090087890624, 0.43895178527832035, 0.31948900451660156); RGB(0.26731090087890624, 0.43895178527832035, 0.31948900451660156) RGB(0.26731090087890624, 0.43895178527832035, 0.31948900451660156) … RGB(0.26731090087890624, 0.43895178527832035, 0.31948900451660156) RGB(0.26731090087890624, 0.43895178527832035, 0.31948900451660156)]",
      "text/html": [
       "<table><tbody><tr><td style='text-align:center;vertical-align:middle; margin: 0.5em;border:1px #90999f solid;border-collapse:collapse'><img style='max-width: 100px; max-height:100px;display:inline' src=\"data:image/png;base64,iVBORw0KGgoAAAANSUhEUgAAAHAAAABwCAIAAABJgmMcAAAAAXNSR0IArs4c6QAAAARnQU1BAACxjwv8YQUAAAAgY0hSTQAAeiYAAICEAAD6AAAAgOgAAHUwAADqYAAAOpgAABdwnLpRPAAABENJREFUeAHtwUtvVXUUxuHff+91Lu1p62kLLVGUBhAlBgRJYODIaHTgyKFDYxwa/QQmfgKHxujQjyAzA8GJJppojBAjl2ohlEspvZ5ybns7elsHTYzNopya9Tz2xsfvEPwYwZURXBnBlRFcGcGVEVwZwZURXBnBlRFcGcGVEVwZwZURXBnBlRFcGcGVEVwZwZURXBnBlRFcGcGVEVwZwZURXBnBlTHQEts5NnIPOTGyhMy3a8ivqweQ1V4NSZQ8TkZwZQRXRnBlDIDElpIto/YIGbU2klMirX6G1LI+8nRtBbmXRpCf7h5A8rxEDo2tIFkq2SkjuDKCKyO4MnbRcN5FVns1ZGFjGBmrtZGJagtZ7g4h9ayHXF6bRKaq68ip0UXkr0ePkGvDk0gt7yEr3TrSrG6wU0ZwZQRXRnBlPGbVrEBm18aRjU6OrK9nSGN/F7nfHkEsFciN1gTbaReG/Lh0EClIyFvTfyCtfgWpZAXy2+o0UpSJ/8IIrozgygiuDDcJqaQ+cnVpHLn3e4mkCptmjreRYesiWSqQkn936eazyMGJFlLLesj9TgN5pr6KzLaaeDCCKyO4MoIrw0mnyJHry08hY/UuMn08R+rWR/bVW/wXJQnpFDlyfOohcrSxgNSyPnLx/mHkivWQiWoLKcrEThnBlRFcGcGV4WTU2sh7R64hp0cK5FzjZeTTm7PIa81l5GzjBeSTuUXkpZEF5OKDGeT1yRvISq+KLHaHkNnWGFLJCuT28jBSafaRWt5jp4zgygiujODKcNIpcrYk5GzjJNI88xXy2SsFknprSLZ8GTmx+CHy0dEPkHr6ApmssOlet49kqUTm22PIVH0NGa20kTwVeDCCKyO4MoIrw0nJlu8WDyE/LC0j76+dQebabDrXGEXmu6tIu8iRb259ibzdPIJ8vTDHloQUJCRRIp2iguSpwJsRXBnBlRFcGY9Zp8iRz28eZTvn+adptrPav4W8OXkMOdX4E7neLpBfFg8grX6FLSWPkxFcGcGVEVwZA6woE9ItcuTS4rfIcr+HXHhwGNnoG0+CEVwZwZURXBkD5sqdcWT+0gZSf3cKOT/fRPYPbSCVrI8kSp4EI7gygisjuDIGwO31UWR9ro9MnK4j3/9cQ4pOiQyfrCDjtR5PmhFcGcGVEVwZA6DVzpFsqGRTyabavgyZnugg47UNBokRXBnBlRFcGU9Ir8yRtYcJ6dzpItbMkedmeshkrcWgMoIrI7gygitjVyXkYbuOTB3oIfezKlIdZtNkbYW9wAiujODKCK6MXdSstJBDQw+RC7dnkFefv4sstBvsNUZwZQRXRnBl7KIXRxaQq+uTyExzBekVGVLPu+w1RnBlBFdGcGXsoqVuHSnKhOSpRNqFsZcZwZURXBnBlbGLbrQmkEoqkH6ZkDyV7GVGcGUEV0ZwZeyiTpEjHXIkTwX/F0ZwZQRXRnD1NwWjHIODIT05AAAAAElFTkSuQmCC\"></td></tr></tbody></table><div><small>(a vector displayed as a row to save space)</small></div>"
      ]
     },
     "metadata": {},
     "execution_count": 9
    }
   ],
   "cell_type": "code",
   "source": [
    "analyzer = IntegratedGradients(model, 50)\n",
    "heatmap(input, analyzer)"
   ],
   "metadata": {},
   "execution_count": 9
  },
  {
   "cell_type": "markdown",
   "source": [
    "To select a different reference input, pass it to the `analyze` function\n",
    "using the keyword argument `input_ref`.\n",
    "Note that this is an arbitrary example for the sake of demonstration."
   ],
   "metadata": {}
  },
  {
   "outputs": [
    {
     "output_type": "execute_result",
     "data": {
      "text/plain": "1-element Vector{Matrix{ColorTypes.RGB{Float64}}}:\n [RGB(0.4490871696472168, 0.49369636154174806, 0.22110631942749023) RGB(0.44208317718505863, 0.49171015472412116, 0.22455604705810545) … RGB(0.41876847076416013, 0.485009245300293, 0.23645187683105467) RGB(0.44284696655273437, 0.49192675170898437, 0.22417985229492185); RGB(0.44949763870239257, 0.4938127632141114, 0.22090414810180664) RGB(0.4431518791198731, 0.4920132194519043, 0.22402967147827146) … RGB(0.4489227264404297, 0.49364972839355475, 0.22118731384277343) RGB(0.44284696655273437, 0.49192675170898437, 0.22417985229492185); … ; RGB(0.4539996612548828, 0.4950894561767578, 0.21868673400878905) RGB(0.47183586425781254, 0.5000806091308594, 0.21015371093750002) … RGB(0.4439007423400879, 0.49222558364868163, 0.2236608283996582) RGB(0.44284696655273437, 0.49192675170898437, 0.22417985229492185); RGB(0.44284696655273437, 0.49192675170898437, 0.22417985229492185) RGB(0.44284696655273437, 0.49192675170898437, 0.22417985229492185) … RGB(0.44284696655273437, 0.49192675170898437, 0.22417985229492185) RGB(0.44284696655273437, 0.49192675170898437, 0.22417985229492185)]",
      "text/html": [
       "<table><tbody><tr><td style='text-align:center;vertical-align:middle; margin: 0.5em;border:1px #90999f solid;border-collapse:collapse'><img style='max-width: 100px; max-height:100px;display:inline' src=\"data:image/png;base64,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\"></td></tr></tbody></table><div><small>(a vector displayed as a row to save space)</small></div>"
      ]
     },
     "metadata": {},
     "execution_count": 10
    }
   ],
   "cell_type": "code",
   "source": [
    "matrix_of_ones = ones(Float32, size(input))\n",
    "\n",
    "analyzer = InterpolationAugmentation(Gradient(model), 50)\n",
    "expl = analyzer(input; input_ref=matrix_of_ones)\n",
    "heatmap(expl)"
   ],
   "metadata": {},
   "execution_count": 10
  },
  {
   "cell_type": "markdown",
   "source": [
    "Once again, `InterpolationAugmentation` can be combined with any analyzer type from the Julia-XAI ecosystem,\n",
    "for example `LRP` from [RelevancePropagation.jl](https://github.com/Julia-XAI/RelevancePropagation.jl)."
   ],
   "metadata": {}
  },
  {
   "cell_type": "markdown",
   "source": [
    "---\n",
    "\n",
    "*This notebook was generated using [Literate.jl](https://github.com/fredrikekre/Literate.jl).*"
   ],
   "metadata": {}
  }
 ],
 "nbformat_minor": 3,
 "metadata": {
  "language_info": {
   "file_extension": ".jl",
   "mimetype": "application/julia",
   "name": "julia",
   "version": "1.11.4"
  },
  "kernelspec": {
   "name": "julia-1.11",
   "display_name": "Julia 1.11.4",
   "language": "julia"
  }
 },
 "nbformat": 4
}
