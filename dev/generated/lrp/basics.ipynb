{
 "cells": [
  {
   "cell_type": "markdown",
   "source": [
    "# Basic usage of LRP\n",
    "This example will show you best practices for using LRP,\n",
    "building on the basics shown in the *Getting started* section."
   ],
   "metadata": {}
  },
  {
   "cell_type": "markdown",
   "source": [
    "We start out by loading a small convolutional neural network:"
   ],
   "metadata": {}
  },
  {
   "outputs": [],
   "cell_type": "code",
   "source": [
    "using ExplainableAI\n",
    "using Flux\n",
    "\n",
    "model = Chain(\n",
    "    Chain(\n",
    "        Conv((3, 3), 3 => 8, relu; pad=1),\n",
    "        Conv((3, 3), 8 => 8, relu; pad=1),\n",
    "        MaxPool((2, 2)),\n",
    "        Conv((3, 3), 8 => 16; pad=1),\n",
    "        BatchNorm(16, relu),\n",
    "        Conv((3, 3), 16 => 8, relu; pad=1),\n",
    "        BatchNorm(8, relu),\n",
    "    ),\n",
    "    Chain(\n",
    "        Flux.flatten,\n",
    "        Dense(2048 => 512, relu),\n",
    "        Dropout(0.5),\n",
    "        Dense(512 => 100, softmax)\n",
    "    ),\n",
    ");"
   ],
   "metadata": {},
   "execution_count": 1
  },
  {
   "cell_type": "markdown",
   "source": [
    "This model contains two chains: the convolutional layers and the fully connected layers."
   ],
   "metadata": {}
  },
  {
   "cell_type": "markdown",
   "source": [
    "## Model preparation\n",
    "### Stripping the output softmax\n",
    "When using LRP, it is recommended to explain output logits instead of probabilities.\n",
    "This can be done by stripping the output softmax activation from the model\n",
    "using the `strip_softmax` function:"
   ],
   "metadata": {}
  },
  {
   "outputs": [
    {
     "output_type": "execute_result",
     "data": {
      "text/plain": "Chain(\n  Chain(\n    Conv((3, 3), 3 => 8, relu, pad=1),  \u001b[90m# 224 parameters\u001b[39m\n    Conv((3, 3), 8 => 8, relu, pad=1),  \u001b[90m# 584 parameters\u001b[39m\n    MaxPool((2, 2)),\n    Conv((3, 3), 8 => 16, pad=1),       \u001b[90m# 1_168 parameters\u001b[39m\n    BatchNorm(16, relu),                \u001b[90m# 32 parameters\u001b[39m\u001b[90m, plus 32\u001b[39m\n    Conv((3, 3), 16 => 8, relu, pad=1),  \u001b[90m# 1_160 parameters\u001b[39m\n    BatchNorm(8, relu),                 \u001b[90m# 16 parameters\u001b[39m\u001b[90m, plus 16\u001b[39m\n  ),\n  Chain(\n    Flux.flatten,\n    Dense(2048 => 512, relu),           \u001b[90m# 1_049_088 parameters\u001b[39m\n    Dropout(0.5),\n    Dense(512 => 100),                  \u001b[90m# 51_300 parameters\u001b[39m\n  ),\n) \u001b[90m        # Total: 16 trainable arrays, \u001b[39m1_103_572 parameters,\n\u001b[90m          # plus 4 non-trainable, 48 parameters, summarysize \u001b[39m4.213 MiB."
     },
     "metadata": {},
     "execution_count": 2
    }
   ],
   "cell_type": "code",
   "source": [
    "model = strip_softmax(model)"
   ],
   "metadata": {},
   "execution_count": 2
  },
  {
   "cell_type": "markdown",
   "source": [
    "If you don't remove the output softmax,\n",
    "model checks will fail."
   ],
   "metadata": {}
  },
  {
   "cell_type": "markdown",
   "source": [
    "### Canonizing the model\n",
    "LRP is not invariant to a model's implementation.\n",
    "Applying the `GammaRule` to two linear layers in a row will yield different results\n",
    "than first fusing the two layers into one linear layer and then applying the rule.\n",
    "This fusing is called \"canonization\" and can be done using the `canonize` function:"
   ],
   "metadata": {}
  },
  {
   "outputs": [
    {
     "output_type": "execute_result",
     "data": {
      "text/plain": "Chain(\n  Conv((3, 3), 3 => 8, relu, pad=1),    \u001b[90m# 224 parameters\u001b[39m\n  Conv((3, 3), 8 => 8, relu, pad=1),    \u001b[90m# 584 parameters\u001b[39m\n  MaxPool((2, 2)),\n  Conv((3, 3), 8 => 16, relu, pad=1),   \u001b[90m# 1_168 parameters\u001b[39m\n  Conv((3, 3), 16 => 8, relu, pad=1),   \u001b[90m# 1_160 parameters\u001b[39m\n  BatchNorm(8, relu),                   \u001b[90m# 16 parameters\u001b[39m\u001b[90m, plus 16\u001b[39m\n  Flux.flatten,\n  Dense(2048 => 512, relu),             \u001b[90m# 1_049_088 parameters\u001b[39m\n  Dropout(0.5),\n  Dense(512 => 100),                    \u001b[90m# 51_300 parameters\u001b[39m\n) \u001b[90m        # Total: 14 trainable arrays, \u001b[39m1_103_540 parameters,\n\u001b[90m          # plus 2 non-trainable, 16 parameters, summarysize \u001b[39m4.212 MiB."
     },
     "metadata": {},
     "execution_count": 3
    }
   ],
   "cell_type": "code",
   "source": [
    "model_canonized = canonize(model)"
   ],
   "metadata": {},
   "execution_count": 3
  },
  {
   "cell_type": "markdown",
   "source": [
    "After canonization, the first `BatchNorm` layer has been fused into the preceding `Conv` layer.\n",
    "The second `BatchNorm` layer wasn't fused\n",
    "since its preceding `Conv` layer has a ReLU activation function."
   ],
   "metadata": {}
  },
  {
   "cell_type": "markdown",
   "source": [
    "### Flattening the model\n",
    "ExplainableAI.jl's LRP implementation supports nested Flux Chains and Parallel layers.\n",
    "However, it is recommended to flatten the model before analyzing it.\n",
    "\n",
    "LRP is implemented by first running a forward pass through the model,\n",
    "keeping track of the intermediate activations, followed by a backward pass\n",
    "that computes the relevances.\n",
    "\n",
    "To keep the LRP implementation simple and maintainable,\n",
    "ExplainableAI.jl does not pre-compute \"nested\" activations.\n",
    "Instead, for every internal chain, a new forward pass is run to compute activations.\n",
    "\n",
    "By \"flattening\" a model, this overhead can be avoided.\n",
    "For this purpose, ExplainableAI.jl provides the function `flatten_model`:"
   ],
   "metadata": {}
  },
  {
   "outputs": [
    {
     "output_type": "execute_result",
     "data": {
      "text/plain": "Chain(\n  Conv((3, 3), 3 => 8, relu, pad=1),    \u001b[90m# 224 parameters\u001b[39m\n  Conv((3, 3), 8 => 8, relu, pad=1),    \u001b[90m# 584 parameters\u001b[39m\n  MaxPool((2, 2)),\n  Conv((3, 3), 8 => 16, pad=1),         \u001b[90m# 1_168 parameters\u001b[39m\n  BatchNorm(16, relu),                  \u001b[90m# 32 parameters\u001b[39m\u001b[90m, plus 32\u001b[39m\n  Conv((3, 3), 16 => 8, relu, pad=1),   \u001b[90m# 1_160 parameters\u001b[39m\n  BatchNorm(8, relu),                   \u001b[90m# 16 parameters\u001b[39m\u001b[90m, plus 16\u001b[39m\n  Flux.flatten,\n  Dense(2048 => 512, relu),             \u001b[90m# 1_049_088 parameters\u001b[39m\n  Dropout(0.5),\n  Dense(512 => 100),                    \u001b[90m# 51_300 parameters\u001b[39m\n) \u001b[90m        # Total: 16 trainable arrays, \u001b[39m1_103_572 parameters,\n\u001b[90m          # plus 4 non-trainable, 48 parameters, summarysize \u001b[39m4.212 MiB."
     },
     "metadata": {},
     "execution_count": 4
    }
   ],
   "cell_type": "code",
   "source": [
    "model_flat = flatten_model(model)"
   ],
   "metadata": {},
   "execution_count": 4
  },
  {
   "cell_type": "markdown",
   "source": [
    "This function is called by default when creating an LRP analyzer.\n",
    "Note that we pass the unflattened model to the analyzer, but `analyzer.model` is flattened:"
   ],
   "metadata": {}
  },
  {
   "outputs": [
    {
     "output_type": "execute_result",
     "data": {
      "text/plain": "Chain(\n  Conv((3, 3), 3 => 8, relu, pad=1),    \u001b[90m# 224 parameters\u001b[39m\n  Conv((3, 3), 8 => 8, relu, pad=1),    \u001b[90m# 584 parameters\u001b[39m\n  MaxPool((2, 2)),\n  Conv((3, 3), 8 => 16, pad=1),         \u001b[90m# 1_168 parameters\u001b[39m\n  BatchNorm(16, relu),                  \u001b[90m# 32 parameters\u001b[39m\u001b[90m, plus 32\u001b[39m\n  Conv((3, 3), 16 => 8, relu, pad=1),   \u001b[90m# 1_160 parameters\u001b[39m\n  BatchNorm(8, relu),                   \u001b[90m# 16 parameters\u001b[39m\u001b[90m, plus 16\u001b[39m\n  Flux.flatten,\n  Dense(2048 => 512, relu),             \u001b[90m# 1_049_088 parameters\u001b[39m\n  Dropout(0.5),\n  Dense(512 => 100),                    \u001b[90m# 51_300 parameters\u001b[39m\n) \u001b[90m        # Total: 16 trainable arrays, \u001b[39m1_103_572 parameters,\n\u001b[90m          # plus 4 non-trainable, 48 parameters, summarysize \u001b[39m4.212 MiB."
     },
     "metadata": {},
     "execution_count": 5
    }
   ],
   "cell_type": "code",
   "source": [
    "analyzer = LRP(model)\n",
    "analyzer.model"
   ],
   "metadata": {},
   "execution_count": 5
  },
  {
   "cell_type": "markdown",
   "source": [
    "If this flattening is not desired, it can be disabled\n",
    "by passing the keyword argument `flatten=false` to the `LRP` constructor."
   ],
   "metadata": {}
  },
  {
   "cell_type": "markdown",
   "source": [
    "## LRP rules\n",
    "By default, the `LRP` constructor will assign the `ZeroRule` to all layers."
   ],
   "metadata": {}
  },
  {
   "outputs": [
    {
     "output_type": "execute_result",
     "data": {
      "text/plain": "LRP(\n  Conv((3, 3), 3 => 8, relu, pad=1) \u001b[90m => \u001b[39m\u001b[33mZeroRule()\u001b[39m,\n  Conv((3, 3), 8 => 8, relu, pad=1) \u001b[90m => \u001b[39m\u001b[33mZeroRule()\u001b[39m,\n  MaxPool((2, 2))                   \u001b[90m => \u001b[39m\u001b[33mZeroRule()\u001b[39m,\n  Conv((3, 3), 8 => 16, pad=1)      \u001b[90m => \u001b[39m\u001b[33mZeroRule()\u001b[39m,\n  BatchNorm(16, relu)               \u001b[90m => \u001b[39m\u001b[33mZeroRule()\u001b[39m,\n  Conv((3, 3), 16 => 8, relu, pad=1)\u001b[90m => \u001b[39m\u001b[33mZeroRule()\u001b[39m,\n  BatchNorm(8, relu)                \u001b[90m => \u001b[39m\u001b[33mZeroRule()\u001b[39m,\n  Flux.flatten                      \u001b[90m => \u001b[39m\u001b[33mZeroRule()\u001b[39m,\n  Dense(2048 => 512, relu)          \u001b[90m => \u001b[39m\u001b[33mZeroRule()\u001b[39m,\n  Dropout(0.5)                      \u001b[90m => \u001b[39m\u001b[33mZeroRule()\u001b[39m,\n  Dense(512 => 100)                 \u001b[90m => \u001b[39m\u001b[33mZeroRule()\u001b[39m,\n)"
     },
     "metadata": {},
     "execution_count": 6
    }
   ],
   "cell_type": "code",
   "source": [
    "LRP(model)"
   ],
   "metadata": {},
   "execution_count": 6
  },
  {
   "cell_type": "markdown",
   "source": [
    "This analyzer will return heatmaps that look identical to `InputTimesGradient`."
   ],
   "metadata": {}
  },
  {
   "cell_type": "markdown",
   "source": [
    "LRP's strength lies in assigning different rules to different layers,\n",
    "based on their functionality in the neural network[^1].\n",
    "ExplainableAI.jl implements many LRP rules out of the box,\n",
    "but it is also possible to *implement custom rules*.\n",
    "\n",
    "To assign different rules to different layers,\n",
    "use one of the composites presets,\n",
    "or create your own composite, as described in\n",
    "*Assigning rules to layers*."
   ],
   "metadata": {}
  },
  {
   "outputs": [
    {
     "output_type": "execute_result",
     "data": {
      "text/plain": "Composite(\n  GlobalTypeMap(  \u001b[90m# all layers\u001b[39m\n\u001b[94m    Flux.Conv              \u001b[39m => \u001b[33mZPlusRule()\u001b[39m,\n\u001b[94m    Flux.ConvTranspose     \u001b[39m => \u001b[33mZPlusRule()\u001b[39m,\n\u001b[94m    Flux.CrossCor          \u001b[39m => \u001b[33mZPlusRule()\u001b[39m,\n\u001b[94m    Flux.Dense             \u001b[39m => \u001b[33mEpsilonRule{Float32}(1.0f-6)\u001b[39m,\n\u001b[94m    typeof(NNlib.dropout)  \u001b[39m => \u001b[33mPassRule()\u001b[39m,\n\u001b[94m    Flux.AlphaDropout      \u001b[39m => \u001b[33mPassRule()\u001b[39m,\n\u001b[94m    Flux.Dropout           \u001b[39m => \u001b[33mPassRule()\u001b[39m,\n\u001b[94m    Flux.BatchNorm         \u001b[39m => \u001b[33mPassRule()\u001b[39m,\n\u001b[94m    typeof(Flux.flatten)   \u001b[39m => \u001b[33mPassRule()\u001b[39m,\n\u001b[94m    typeof(MLUtils.flatten)\u001b[39m => \u001b[33mPassRule()\u001b[39m,\n\u001b[94m    typeof(identity)       \u001b[39m => \u001b[33mPassRule()\u001b[39m,\n ),\n  FirstLayerTypeMap(  \u001b[90m# first layer\u001b[39m\n\u001b[94m    Flux.Conv         \u001b[39m => \u001b[33mFlatRule()\u001b[39m,\n\u001b[94m    Flux.ConvTranspose\u001b[39m => \u001b[33mFlatRule()\u001b[39m,\n\u001b[94m    Flux.CrossCor     \u001b[39m => \u001b[33mFlatRule()\u001b[39m,\n\u001b[94m    Flux.Dense        \u001b[39m => \u001b[33mFlatRule()\u001b[39m,\n ),\n)"
     },
     "metadata": {},
     "execution_count": 7
    }
   ],
   "cell_type": "code",
   "source": [
    "composite = EpsilonPlusFlat() # using composite preset EpsilonPlusFlat"
   ],
   "metadata": {},
   "execution_count": 7
  },
  {
   "outputs": [
    {
     "output_type": "execute_result",
     "data": {
      "text/plain": "LRP(\n  Conv((3, 3), 3 => 8, relu, pad=1) \u001b[90m => \u001b[39m\u001b[33mFlatRule()\u001b[39m,\n  Conv((3, 3), 8 => 8, relu, pad=1) \u001b[90m => \u001b[39m\u001b[33mZPlusRule()\u001b[39m,\n  MaxPool((2, 2))                   \u001b[90m => \u001b[39m\u001b[33mZeroRule()\u001b[39m,\n  Conv((3, 3), 8 => 16, pad=1)      \u001b[90m => \u001b[39m\u001b[33mZPlusRule()\u001b[39m,\n  BatchNorm(16, relu)               \u001b[90m => \u001b[39m\u001b[33mPassRule()\u001b[39m,\n  Conv((3, 3), 16 => 8, relu, pad=1)\u001b[90m => \u001b[39m\u001b[33mZPlusRule()\u001b[39m,\n  BatchNorm(8, relu)                \u001b[90m => \u001b[39m\u001b[33mPassRule()\u001b[39m,\n  Flux.flatten                      \u001b[90m => \u001b[39m\u001b[33mPassRule()\u001b[39m,\n  Dense(2048 => 512, relu)          \u001b[90m => \u001b[39m\u001b[33mEpsilonRule{Float32}(1.0f-6)\u001b[39m,\n  Dropout(0.5)                      \u001b[90m => \u001b[39m\u001b[33mPassRule()\u001b[39m,\n  Dense(512 => 100)                 \u001b[90m => \u001b[39m\u001b[33mEpsilonRule{Float32}(1.0f-6)\u001b[39m,\n)"
     },
     "metadata": {},
     "execution_count": 8
    }
   ],
   "cell_type": "code",
   "source": [
    "LRP(model, composite)"
   ],
   "metadata": {},
   "execution_count": 8
  },
  {
   "cell_type": "markdown",
   "source": [
    "## Computing layerwise relevances\n",
    "If you are interested in computing layerwise relevances,\n",
    "call `analyze` with an LRP analyzer and the keyword argument\n",
    "`layerwise_relevances=true`.\n",
    "\n",
    "The layerwise relevances can be accessed in the `extras` field\n",
    "of the returned `Explanation`:"
   ],
   "metadata": {}
  },
  {
   "outputs": [
    {
     "output_type": "execute_result",
     "data": {
      "text/plain": "([-1.8368016 -0.25451118 … 2.1891966 -0.5045296; 1.7399545 0.07219772 … -0.64849067 -0.3584344; … ; 1.3643898 -2.949485 … -0.53362876 0.9120623; 1.7368892 1.6934012 … 0.6460672 0.5411148;;; 1.3007749 -0.1107582 … 0.06390015 -1.672209; 0.062249575 -1.2671943 … -2.4100754 -1.5342717; … ; 0.12695645 0.12211617 … 1.6355726 0.13567202; 2.2436192 1.2888893 … 1.3915855 0.0037784309;;; 0.7073595 0.014176874 … 0.40284806 0.71217644; -0.0017296985 -0.5223393 … 2.162932 -0.019612152; … ; 0.17008859 0.4201288 … 0.13305071 0.22952212; 2.2661805 -0.3225149 … 0.33977225 -0.18936005;;;;], [0.7919417 -0.88272125 … 0.2463741 -0.19367947; 1.1138746 0.0 … 0.02549447 -2.344646; … ; 1.1770641 -0.4131092 … 1.8564984 0.30247098; 0.047250256 -0.06657492 … -0.36451825 0.3587789;;; 0.0 -0.0 … -0.0 0.0; -0.0 0.0 … 0.0 -0.0; … ; 0.0 -0.0 … -0.065240644 -0.043318696; -0.0 0.0 … 0.0 0.04433548;;; 0.0 -0.006927779 … 0.0 -0.0; 0.0 1.747133 … -0.0 -0.0; … ; 0.0 0.12083344 … 0.0 -0.05992115; 0.06640332 -0.14156963 … 0.0 0.07353703;;; -0.0 -0.026058383 … 0.04007682 0.0; 0.0 -0.14310926 … -0.87517047 0.30694643; … ; 0.0 -0.948847 … 0.97498703 0.09432025; -0.16419579 4.6028247 … 1.8224735 1.4210179;;; 1.0970858 0.59815913 … -0.4251978 -0.71302146; 0.12260561 0.0 … 0.19247009 0.0; … ; 2.0261695 -0.096308365 … 0.09599524 -0.0; 1.2321547 0.0 … -0.0 0.0;;; 0.08259419 -0.0 … -0.0 -0.0; -0.0 -0.47106007 … 1.6889269 -0.080910556; … ; 0.3748313 -0.0 … 1.4966153 -0.0; 0.2822898 3.227696 … -0.52759576 0.30557483;;; -0.0 0.0 … -0.0 -0.0; 0.0 -0.0 … -0.0 -0.0; … ; 0.0 -0.0 … -0.0 -0.0; -0.34456855 -0.0 … -0.0 -0.0;;; 0.011367633 0.0 … -0.0 0.0; 0.12211522 0.0 … -0.0 0.053859513; … ; -0.24438064 -0.0 … 0.0 -0.4588351; -0.0 -0.0 … -0.0 0.018398127;;;;], [0.23166627 0.0 … 0.0 0.0; 0.0 0.0 … 0.0 0.0; … ; 1.81121 0.0 … 0.0 0.0; 0.0 0.0 … 0.0 -0.118832305;;; 0.0 0.0 … 0.0 0.0; 0.0 0.0 … 0.0 0.0; … ; 0.0 0.0 … 0.0 0.0; 0.0 0.1159993 … 0.0 0.0;;; 0.0 0.0 … 0.0 0.0; 0.0 0.09189016 … -1.5872582 0.0; … ; 0.0 0.0 … 0.0 0.0; 0.0 -0.5622055 … 0.0 -0.21930563;;; 0.0 0.0 … 0.0 0.0; -0.2975395 0.0 … 0.0 -0.7332509; … ; 0.0 0.0 … 0.0 0.8908959; 0.3419085 0.0 … 0.0 0.0;;; 0.0 0.0 … 0.0 0.20778693; 1.3725722 0.0 … 0.0 0.0; … ; 0.0 0.0 … 0.0 0.0; 1.9006932 0.0 … 1.7208483 0.0;;; 0.3136978 0.0 … 0.0 0.0; 0.0 0.0 … 2.513995 0.0; … ; 0.0 0.0 … 0.0 0.0; 0.0 4.221989 … 0.0 1.6486658;;; 0.0 0.0 … 0.4835862 0.0; 0.0 -0.6447805 … 0.0 0.0; … ; -0.15719374 0.0 … 0.0 -0.04437866; 0.0 0.0 … 0.0 0.0;;; 0.0 0.0 … 0.0 0.0; 0.0 2.9482439 … 0.1159219 0.0; … ; 0.0 0.0 … 0.0 0.0; 0.0 1.5970562 … 0.0 0.2874407;;;;], [0.23166627 0.012108215 … -0.02692776 -0.0; 0.53949904 -0.07377148 … -0.0 -0.21445124; … ; 0.73366886 -0.0 … -0.0 -1.9749539; 1.81121 -0.0 … 0.0 -0.118832305;;; -0.0 -0.0 … -0.097872324 0.0; 0.009375041 -0.0 … -0.0 0.0; … ; 0.0 0.0 … 0.018769095 0.0; 0.1159993 0.07350075 … 0.0 0.0;;; 0.09189016 0.39434668 … -0.16471519 -1.5872582; -0.40362766 -0.12656859 … -0.7687119 -0.0; … ; -0.0 -0.64906096 … -0.20276266 -0.0; -0.5622055 -0.7947393 … -1.724911 -0.21930565;;; -0.2975395 -0.81690097 … -0.4373863 -0.7332509; -0.28719375 0.10448897 … 0.18971872 0.134997; … ; -0.1596652 0.24075931 … 0.3287167 -0.10014643; 0.3419085 0.7218712 … 0.49784285 0.8908959;;; 1.3725722 0.6524451 … 0.3607824 0.20778693; 0.0 0.4958889 … 0.0 0.0; … ; 1.0195129 2.3208013 … 0.0 0.6461714; 1.9006932 2.9478571 … 0.50789297 1.7208483;;; 0.3136978 1.1602343 … 1.6424731 2.513995; 2.6736224 2.6978528 … 3.5623558 1.4935268; … ; 2.688271 1.9390632 … 3.556571 2.3238804; 4.221989 1.7469537 … 2.6589704 1.6486658;;; -0.6447805 -0.36179832 … 0.07739507 0.4835862; -0.19852509 -0.063199036 … 0.44364804 1.0890768; … ; -0.2768051 0.39157236 … 0.10071028 1.358249; -0.15719374 -0.32603964 … -1.3504952 -0.04437866;;; 2.9482439 5.380206 … 2.2517936 0.1159219; 0.7762732 2.5886698 … 2.1776652 0.44177255; … ; 1.4179856 1.9239051 … 1.1014115 0.24779485; 1.5970562 0.7950239 … 0.40996486 0.2874407;;;;], [0.040262785 0.06768729 … 0.0070836283 0.015969843; 0.044060588 0.08165442 … 0.08635969 0.06312129; … ; 0.032279324 0.06396424 … 0.26364833 0.009934269; -0.00012721299 0.027962076 … 0.03298204 -0.01938043;;; -0.00018809014 3.4132205f-5 … 0.00013001915 0.0010153002; -0.00016829149 0.0052261525 … -0.00018131071 -0.00012320472; … ; 0.0010121799 0.003135176 … -0.0002566605 -0.0002592648; -5.98871f-5 7.2187344f-5 … -0.00023734978 -0.0001776256;;; -0.0008172606 -0.0040854495 … -0.002374261 -0.0039946944; 0.0011535243 -0.0041017453 … 0.37741137 -0.011917859; … ; -0.00015898667 0.20980507 … 0.095406875 0.116569996; -0.0008440114 0.086360976 … -0.022319183 0.067359686;;; … ;;; -0.000100878184 -4.3312513f-5 … -4.164942f-5 -3.1931635f-5; -1.2502777f-5 -8.858104f-5 … 0.00032391574 0.00016095927; … ; -7.114181f-5 4.608487f-5 … 0.00050765247 -7.634386f-5; -6.938918f-5 0.00023920213 … 9.9865814f-5 -1.2159229f-5;;; -0.00048324838 -5.813838f-5 … -0.00028874207 -0.00040855366; -0.0033908475 0.012794639 … 0.0020664572 0.0019741391; … ; -0.005471344 -0.00047316 … -0.0014118998 -0.00021549215; 0.0036002542 -5.0708757f-5 … 0.0034689119 0.00057185005;;; 0.0072844517 0.0005564679 … -0.026224477 -0.011766583; 0.00056736293 0.0022506958 … 0.0027130074 -0.0001504006; … ; 0.0010980965 0.004383273 … 0.023108771 -0.00017529818; 0.01577314 0.013048507 … 0.0066747535 0.0088457;;;;], [-0.009161605 -0.018879378 … -0.0012281123 -0.0031304073; -0.010444191 -0.032530226 … -0.03403934 -0.0128400745; … ; -0.00045240324 -0.025138682 … 0.03695519 0.0013276956; -0.0 -0.0029174958 … 0.0043444596 -0.0;;; 0.0 0.0 … -0.0 -0.0; 0.0 0.006610251 … -0.0 -0.0; … ; 0.003153346 0.00586956 … 0.0 0.0; 0.0 -0.0 … 0.0 -0.0;;; 6.696344f-5 -0.004970662 … -0.0023012338 -0.0031535928; -0.0 0.01243708 … 0.017382802 -0.0032729073; … ; -0.00012875028 0.035982784 … 0.0445271 0.054061346; 0.0016180971 0.0233593 … -0.004883667 0.010581911;;; … ;;; 0.0 0.0 … 0.0 0.0; -0.0 -0.0 … -0.0 0.0; … ; -0.0 -0.0 … 0.0 -0.0; -0.0 -0.0 … 0.0 -0.0;;; -0.0 -0.0 … 0.0 0.0; -0.0053595784 0.014084952 … 0.0026798106 0.0014443625; … ; -0.007998844 -0.0 … -0.002944686 0.0; 0.004067497 0.0 … 0.0027763653 0.00017321914;;; 0.0049779676 0.0 … -0.016508715 -0.00558537; 0.00012802126 0.0 … 0.0 0.0003113993; … ; -0.0 0.0 … 0.019045431 -0.0003324442; 0.0 0.0 … -0.0 0.0;;;;], [-0.0025251561 -0.0 … -0.0017983725 -0.0; -0.0 -0.0 … -0.0 -0.0; … ; 0.0004299495 -0.0 … -0.0 -0.0; -0.00014356522 -0.0 … -0.0 -0.0;;; 0.0 0.0 … 0.0 0.0007682017; 0.0 0.0 … 0.0 0.0; … ; 0.0 0.0 … 0.0 0.0; -8.295764f-5 0.0012988956 … 0.0 0.0;;; -0.0 -0.0 … -0.0 -0.0; -0.0 -0.0 … -0.0 -0.0; … ; -0.0 -0.0 … 0.0029520022 -0.0; 0.001620435 -0.0027651745 … 0.00856292 0.002579179;;; -0.0 -0.0009717984 … -0.00052947435 -0.0006245547; -0.0022850349 -0.08114009 … -0.0032024062 -0.0020450177; … ; -0.003873175 -0.0018510323 … -0.0004397948 -0.00071971986; -0.0008341677 -0.003819831 … -0.0008507433 -0.0;;; -0.0035866038 -0.014190804 … -0.0010642393 -0.0; -0.04723172 -0.013684844 … -0.0070271483 -0.003053571; … ; -0.008378191 -0.097466424 … -0.0 -0.0010978346; -0.00454398 -0.00616874 … -0.004085175 -0.005309702;;; 0.0 0.0003690047 … 0.0 0.0; 0.0 0.0 … 0.0 0.0; … ; 0.0 0.0 … 0.0 0.0; 0.0 0.0 … 0.0 0.0;;; -0.027612228 0.007918859 … -0.029001975 0.002776843; 0.00371821 0.07527514 … 0.06973884 0.0017398952; … ; -0.020569876 0.0035195993 … 0.0012670524 0.0018503685; 0.0005426387 0.003746653 … 0.0036318665 0.0016496421;;; -0.0002149252 -0.00026142047 … -0.0 -0.0; -0.0 -0.0 … 0.003527314 -0.0006564743; … ; -0.0 -0.00035206898 … 0.015088253 -0.003139495; -0.0 -0.0 … -0.0020715806 -0.00021115552;;;;], [-0.0032025746 0.0 … -0.001976471 0.0; -0.0 0.0 … 0.0 -0.0; … ; 0.00025740717 -0.0 … -0.0 0.0; -0.0005317896 0.0 … 0.0 0.0;;; 0.0 0.0 … 0.0 -0.0011060599; -0.0 -0.0 … -0.0 -0.0; … ; -0.0 -0.0 … 0.0 0.0; -8.624512f-5 0.001055937 … -0.0 -0.0;;; -0.0 0.0 … 0.0 -0.0; 0.0 -0.0 … -0.0 -0.0; … ; -0.0 0.0 … 0.0010886294 0.0; 0.0016500142 -0.0015301525 … 0.007762901 0.002104831;;; -0.0 0.0018033129 … 0.00078749453 0.0019052979; 1.2970511f-5 -0.027531292 … 0.0022958254 0.003650464; … ; 0.0023323991 -0.005337426 … -0.001404084 -0.0041431542; -0.0027751743 0.0064431145 … -0.00020327435 0.0;;; 0.0032741171 -0.0039182906 … 0.00039754342 0.0; -0.005874727 0.0022527315 … 0.0023283677 -0.0022420504; … ; -0.007145992 -0.006276404 … -0.0 -0.00067468436; 0.0011958462 0.007992545 … -0.001854845 -0.0022598254;;; -0.0 0.00018371675 … 0.0 -0.0; -0.0 -0.0 … 0.0 0.0; … ; 0.0 0.0 … -0.0 -0.0; 0.0 -0.0 … 0.0 -0.0;;; -0.007705647 0.0019054553 … -0.0050155013 0.0047162687; -0.0012705028 0.0127483625 … 0.009090946 0.0019800826; … ; -0.007649268 0.0049834917 … 0.00033631347 -0.006003079; -0.0002219494 -0.009073207 … -0.0012853818 0.0011597642;;; 8.648436f-5 0.00017772378 … 0.0 -0.0; 0.0 -0.0 … 0.0048493887 0.00082508515; … ; -0.0 0.00020120895 … 0.024321552 0.00028640393; 0.0 0.0 … 0.006022514 0.00049016834;;;;], Float32[-0.0032025748; -0.0; … ; 0.00028640393; 0.00049016834;;], Float32[-8.502205f-5; 0.0; … ; -0.0; 0.0;;], Float32[-8.502205f-5; 0.0; … ; -0.0038826684; 0.0;;], Float32[0.0; 0.0; … ; 0.0; 0.0;;])"
     },
     "metadata": {},
     "execution_count": 9
    }
   ],
   "cell_type": "code",
   "source": [
    "input = rand(Float32, 32, 32, 3, 1) # dummy input for our convolutional neural network\n",
    "\n",
    "expl = analyze(input, analyzer; layerwise_relevances=true)\n",
    "expl.extras.layerwise_relevances"
   ],
   "metadata": {},
   "execution_count": 9
  },
  {
   "cell_type": "markdown",
   "source": [
    "Note that the layerwise relevances are only kept for layers in the outermost `Chain` of the model.\n",
    "When using our unflattened model, we only obtain three layerwise relevances,\n",
    "one for each chain in the model and the output relevance:"
   ],
   "metadata": {}
  },
  {
   "outputs": [
    {
     "output_type": "execute_result",
     "data": {
      "text/plain": "([-1.1169369 0.13512793 … 2.2937138 -0.45139778; 0.8928467 0.9042295 … -0.6907835 -0.2616502; … ; 0.12897438 -1.516621 … -0.5022452 0.9366102; 0.85926765 1.4837942 … 0.6315578 0.46443787;;; 0.872618 -0.04147989 … 0.0627866 -1.7799335; 0.052429758 -0.7067517 … -1.371025 -1.1384811; … ; 0.13367876 0.09682371 … 1.2258809 0.051208857; 1.644346 0.9311021 … 1.5906602 0.0010331185;;; 0.3670241 0.07571649 … 0.42935085 0.612491; -0.008582558 -0.3321896 … 1.8959248 -0.056244418; … ; 0.88899803 0.119302005 … -0.0025008693 0.23989932; 1.2527595 -0.38402194 … 0.23943417 -0.1722902;;;;], [-0.002998365 0.0 … -0.0010686801 -0.0; -0.0 -0.0 … 0.0 -0.0; … ; -0.00054008147 -0.00018731091 … -0.0 0.0; 0.00037887998 0.0 … -0.0 0.0;;; 0.0 0.0 … 0.0 0.0050514773; -0.0 -0.0 … -0.0 -0.0; … ; -0.0 -0.0 … 0.0 0.0; -0.0005967792 0.00039880842 … -0.0 -0.0;;; -0.0 0.0 … 0.0 -0.0; 0.0 0.0 … -0.0 0.0; … ; -0.0 -0.0 … 1.9721225f-5 -0.0; 0.00644556 -0.003550959 … 0.005292305 0.00045824348;;; -0.0 -0.00019755527 … 0.0003296287 -0.0003536745; -0.0020057387 -0.006340958 … -0.0032487935 9.917631f-5; … ; -0.003547713 -0.0012549289 … -0.0 -0.0005239756; -0.0021134145 -0.0004821485 … 0.000489461 0.0;;; 0.00033948576 -0.0039432067 … -0.0 0.0; -0.0016438127 -0.0048490297 … -0.0009556258 -0.0020917351; … ; -0.0049400697 -0.0002684633 … -0.0 -0.0; -0.0018543437 0.0028781043 … 0.0026176602 -0.0058737285;;; -1.9732901f-5 0.0012639686 … 0.0 -0.0; 0.0 -0.0 … 0.0 -0.0; … ; 0.0 -0.0 … -0.0 -0.0; 0.0 -0.0 … -0.0 -0.0;;; 3.316056f-5 -0.011289041 … 0.005429426 0.0019665896; 0.00093786063 0.008091837 … 0.013752524 0.00025352184; … ; 0.0112593705 0.0046296907 … -9.799807f-5 -0.0006024538; -0.0 0.0031888194 … 0.0007120029 0.00063436676;;; -0.0005463365 0.00080852356 … -0.0 -0.0; -0.0 0.0 … 0.0006949548 -0.001479103; … ; -0.0 0.000695379 … 0.0022664878 -0.004050209; 0.0 0.0 … -0.0028663983 -0.0017540585;;;;], Float32[0.0; 0.0; … ; 0.0; 0.0;;])"
     },
     "metadata": {},
     "execution_count": 10
    }
   ],
   "cell_type": "code",
   "source": [
    "analyzer = LRP(model; flatten=false) # use unflattened model\n",
    "\n",
    "expl = analyze(input, analyzer; layerwise_relevances=true)\n",
    "expl.extras.layerwise_relevances"
   ],
   "metadata": {},
   "execution_count": 10
  },
  {
   "cell_type": "markdown",
   "source": [
    "## Performance tips\n",
    "### Using LRP with a GPU\n",
    "Like all other analyzers, LRP can be used on GPUs.\n",
    "Follow the instructions on *GPU support*.\n",
    "\n",
    "### Using LRP without a GPU\n",
    "Using Julia's package extension mechanism,\n",
    "ExplainableAI.jl's LRP implementation can optionally make use of\n",
    "[Tullio.jl](https://github.com/mcabbott/Tullio.jl) and\n",
    "[LoopVectorization.jl](https://github.com/JuliaSIMD/LoopVectorization.jl)\n",
    "for faster LRP rules on dense layers.\n",
    "\n",
    "This only requires loading the packages before loading ExplainableAI.jl:\n",
    "```julia\n",
    "using LoopVectorization, Tullio\n",
    "using ExplainableAI\n",
    "```\n",
    "\n",
    "[^1]: G. Montavon et al., [Layer-Wise Relevance Propagation: An Overview](https://link.springer.com/chapter/10.1007/978-3-030-28954-6_10)"
   ],
   "metadata": {}
  },
  {
   "cell_type": "markdown",
   "source": [
    "---\n",
    "\n",
    "*This notebook was generated using [Literate.jl](https://github.com/fredrikekre/Literate.jl).*"
   ],
   "metadata": {}
  }
 ],
 "nbformat_minor": 3,
 "metadata": {
  "language_info": {
   "file_extension": ".jl",
   "mimetype": "application/julia",
   "name": "julia",
   "version": "1.9.3"
  },
  "kernelspec": {
   "name": "julia-1.9",
   "display_name": "Julia 1.9.3",
   "language": "julia"
  }
 },
 "nbformat": 4
}
