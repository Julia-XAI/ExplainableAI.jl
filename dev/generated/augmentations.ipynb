{
 "cells": [
  {
   "cell_type": "markdown",
   "source": [
    "# Analyzer augmentations\n",
    "All analyzers implemented in ExplainableAI.jl can be augmented by two types of augmentations:\n",
    "`NoiseAugmentation`s and `InterpolationAugmentation`s.\n",
    "These augmentations are wrappers around analyzers\n",
    "that modify the input before passing it to the analyzer.\n",
    "\n",
    "We build on the basics shown in the *Getting started* section\n",
    "and start out by loading the same pre-trained LeNet5 model and MNIST input data:"
   ],
   "metadata": {}
  },
  {
   "outputs": [
    {
     "output_type": "execute_result",
     "data": {
      "text/plain": "Chain(\n  Conv((5, 5), 1 => 6, relu),           \u001b[90m# 156 parameters\u001b[39m\n  MaxPool((2, 2)),\n  Conv((5, 5), 6 => 16, relu),          \u001b[90m# 2_416 parameters\u001b[39m\n  MaxPool((2, 2)),\n  Flux.flatten,\n  Dense(256 => 120, relu),              \u001b[90m# 30_840 parameters\u001b[39m\n  Dense(120 => 84, relu),               \u001b[90m# 10_164 parameters\u001b[39m\n  Dense(84 => 10),                      \u001b[90m# 850 parameters\u001b[39m\n) \u001b[90m                  # Total: 10 arrays, \u001b[39m44_426 parameters, 174.344 KiB."
     },
     "metadata": {},
     "execution_count": 1
    }
   ],
   "cell_type": "code",
   "source": [
    "using ExplainableAI\n",
    "using VisionHeatmaps\n",
    "using Zygote\n",
    "using Flux\n",
    "\n",
    "using BSON # hide\n",
    "model = BSON.load(\"../model.bson\", @__MODULE__)[:model] # hide\n",
    "model"
   ],
   "metadata": {},
   "execution_count": 1
  },
  {
   "outputs": [
    {
     "output_type": "execute_result",
     "data": {
      "text/plain": "28×28 reinterpret(reshape, ColorTypes.Gray{Float32}, ::Matrix{Float32}) with eltype ColorTypes.Gray{Float32}:\n 0.0  0.0  0.0  0.0  0.0  0.0  0.0  …  0.0        0.0  0.0  0.0  0.0  0.0\n 0.0  0.0  0.0  0.0  0.0  0.0  0.0     0.0        0.0  0.0  0.0  0.0  0.0\n 0.0  0.0  0.0  0.0  0.0  0.0  0.0     0.0        0.0  0.0  0.0  0.0  0.0\n 0.0  0.0  0.0  0.0  0.0  0.0  0.0     0.0        0.0  0.0  0.0  0.0  0.0\n 0.0  0.0  0.0  0.0  0.0  0.0  0.0     0.0        0.0  0.0  0.0  0.0  0.0\n 0.0  0.0  0.0  0.0  0.0  0.0  0.0  …  0.0        0.0  0.0  0.0  0.0  0.0\n 0.0  0.0  0.0  0.0  0.0  0.0  0.0     0.0        0.0  0.0  0.0  0.0  0.0\n 0.0  0.0  0.0  0.0  0.0  0.0  0.0     0.0        0.0  0.0  0.0  0.0  0.0\n 0.0  0.0  0.0  0.0  0.0  0.0  0.0     0.0235294  0.0  0.0  0.0  0.0  0.0\n 0.0  0.0  0.0  0.0  0.0  0.0  0.0     0.407843   0.0  0.0  0.0  0.0  0.0\n ⋮                        ⋮         ⋱                       ⋮         \n 0.0  0.0  0.0  0.0  0.0  0.0  0.0     0.0        0.0  0.0  0.0  0.0  0.0\n 0.0  0.0  0.0  0.0  0.0  0.0  0.0  …  0.0        0.0  0.0  0.0  0.0  0.0\n 0.0  0.0  0.0  0.0  0.0  0.0  0.0     0.0        0.0  0.0  0.0  0.0  0.0\n 0.0  0.0  0.0  0.0  0.0  0.0  0.0     0.0        0.0  0.0  0.0  0.0  0.0\n 0.0  0.0  0.0  0.0  0.0  0.0  0.0     0.0        0.0  0.0  0.0  0.0  0.0\n 0.0  0.0  0.0  0.0  0.0  0.0  0.0     0.0        0.0  0.0  0.0  0.0  0.0\n 0.0  0.0  0.0  0.0  0.0  0.0  0.0  …  0.0        0.0  0.0  0.0  0.0  0.0\n 0.0  0.0  0.0  0.0  0.0  0.0  0.0     0.0        0.0  0.0  0.0  0.0  0.0\n 0.0  0.0  0.0  0.0  0.0  0.0  0.0     0.0        0.0  0.0  0.0  0.0  0.0",
      "image/png": "[encoded data removed]",
      "text/html": [
       "<img src=\"data:image/png;base64,iVBORw0KGgoAAAANSUhEUgAAAHAAAABwCAAAAADji6uXAAAAAXNSR0IArs4c6QAAAARnQU1BAACxjwv8YQUAAAAgY0hSTQAAeiYAAICEAAD6AAAAgOgAAHUwAADqYAAAOpgAABdwnLpRPAAAAjhJREFUaAW9wb2L1gUAB/DPcd+oQaPswCGqpSGHXqYTapGgJSg4CeoPcEiECqFDpCGwTdIQImuIsGiTtmjJgl6GoKEiIhqCoMQsOOhFy85r+A3H8fTo73mM7+cTZVEWZVEWZVEWZVEWZVEWZVEWZVEWZVEWZVEWZVEWZVEWZVEWZVEWZVEWc7gTS1jBHlzGSXyK71xZlEVZlMUM7sYB7MWSrXbjH3yLj/E0/jYpyqIsymKEe3AAj+NGgx/xEb7HKj7HMnbgYXyBkyZFWZRFWVzFq1jBksH7+AqHcdHgfuzH67gP5/AyTuO8raIsyqIsprgBq9iHBZzHKziKP2x1CxbxPN7DHaaLsiiLsphiD57FAn7CXnxmq0XchlN4FzcbLOBNrJkUZVEWZTHFItYNLmE3HsNdBhewC7vwC3badA4v4JJJURZlURZTnMEHeAi34wQ2DNaxaNNOg8t4B0/hrP8WZVEWZTHFBazgJhzCA/gVP+B63ItlW72Gw1gzXZRFWZTFVazhkEmnsGzwGw7iDay7siiLsiiLOaziCZv2423jRFmURVnMaB+eQwy+xmnjRVmURVnMYBkvYpvB73gSfxkvyqIsymIGj2C7wZ94FJ+YTZRFWZTFSNuxatNb+NDsoizKoixG2IZvcJ3Bl3jGfKIsyqIsRngQt2LD4CAumk+URVmUxQhHsGFwFGfML8qiLMpihB1YwM94ybWJsiiLshjhGI7hCM66NlEWZVEWIxzHcf+PKIuyKPsXNwdYfgiRxs8AAAAASUVORK5C\">"
      ]
     },
     "metadata": {},
     "execution_count": 2
    }
   ],
   "cell_type": "code",
   "source": [
    "using MLDatasets\n",
    "using ImageCore, ImageIO, ImageShow\n",
    "\n",
    "index = 10\n",
    "x, y = MNIST(Float32, :test)[10]\n",
    "input = reshape(x, 28, 28, 1, :)\n",
    "\n",
    "convert2image(MNIST, x)"
   ],
   "metadata": {},
   "execution_count": 2
  },
  {
   "cell_type": "markdown",
   "source": [
    "## Noise augmentation\n",
    "The `NoiseAugmentation` wrapper computes explanations averaged over noisy inputs.\n",
    "Let's demonstrate this on the `Gradient` analyzer.\n",
    "First, we compute the heatmap of an explanation without augmentation:"
   ],
   "metadata": {}
  },
  {
   "outputs": [
    {
     "output_type": "execute_result",
     "data": {
      "text/plain": "1-element Vector{Matrix{ColorTypes.RGB{Float64}}}:\n [RGB(0.542044692993164, 0.5190736373901367, 0.18255157775878905) RGB(0.5405419067382813, 0.5186877868652343, 0.18299835205078127) … RGB(0.5501000518798829, 0.5211419052124023, 0.18022431030273436) RGB(0.5480906158447265, 0.5206259689331054, 0.18076740112304687); RGB(0.5577551651000977, 0.5230979751586914, 0.1782020248413086) RGB(0.5673554992675781, 0.5255300598144531, 0.17589942016601562) … RGB(0.550458218383789, 0.5212338668823242, 0.18012750854492188) RGB(0.5480906158447265, 0.5206259689331054, 0.18076740112304687); … ; RGB(0.5540689025878907, 0.5221609344482422, 0.17915164794921876) RGB(0.5669629669189453, 0.5254306182861328, 0.17598839416503906) … RGB(0.5511143676757813, 0.5214023376464844, 0.1799501708984375) RGB(0.5480906158447265, 0.5206259689331054, 0.18076740112304687); RGB(0.5480906158447265, 0.5206259689331054, 0.18076740112304687) RGB(0.5480906158447265, 0.5206259689331054, 0.18076740112304687) … RGB(0.5480906158447265, 0.5206259689331054, 0.18076740112304687) RGB(0.5480906158447265, 0.5206259689331054, 0.18076740112304687)]",
      "text/html": [
       "<table><tbody><tr><td style='text-align:center;vertical-align:middle; margin: 0.5em;border:1px #90999f solid;border-collapse:collapse'><img style='max-width: 100px; max-height:100px;display:inline' src=\"data:image/png;base64,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\"></td></tr></tbody></table><div><small>(a vector displayed as a row to save space)</small></div>"
      ]
     },
     "metadata": {},
     "execution_count": 3
    }
   ],
   "cell_type": "code",
   "source": [
    "analyzer = Gradient(model)\n",
    "heatmap(input, analyzer)"
   ],
   "metadata": {},
   "execution_count": 3
  },
  {
   "cell_type": "markdown",
   "source": [
    "Now we wrap the analyzer in a `NoiseAugmentation` with 10 samples of noise.\n",
    "By default, the noise is sampled from a Gaussian distribution\n",
    "with mean 0 and standard deviation 1."
   ],
   "metadata": {}
  },
  {
   "outputs": [
    {
     "output_type": "execute_result",
     "data": {
      "text/plain": "1-element Vector{Matrix{ColorTypes.RGB{Float64}}}:\n [RGB(0.5107888641357422, 0.5107632171630859, 0.19350157470703125) RGB(0.5084208251953125, 0.5101295166015625, 0.19443544921875) … RGB(0.5157156158447265, 0.5120816436767579, 0.1916208221435547) RGB(0.5135888442993164, 0.5115125076293946, 0.19242959442138674); RGB(0.5070970504760741, 0.5097752670288086, 0.1949575012207031) RGB(0.5104684020996093, 0.5106774597167969, 0.1936279541015625) … RGB(0.5227517944335937, 0.513948390197754, 0.1890285186767578) RGB(0.5127584381103516, 0.5112902862548828, 0.1927453826904297); … ; RGB(0.51061357421875, 0.5107163085937501, 0.19357070312500002) RGB(0.49946419296264644, 0.5077326713562011, 0.19803434371948242) … RGB(0.5075030990600586, 0.5098839279174805, 0.1947973693847656) RGB(0.508450617980957, 0.5101374893188477, 0.19442369995117187); RGB(0.5132026214599609, 0.5114091522216797, 0.1925764678955078) RGB(0.5148671173095702, 0.5118545806884767, 0.19194349060058594) … RGB(0.5026966018676757, 0.5085976821899414, 0.19671406402587893) RGB(0.5082472686767577, 0.510083071899414, 0.19450389404296875)]",
      "text/html": [
       "<table><tbody><tr><td style='text-align:center;vertical-align:middle; margin: 0.5em;border:1px #90999f solid;border-collapse:collapse'><img style='max-width: 100px; max-height:100px;display:inline' src=\"data:image/png;base64,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\"></td></tr></tbody></table><div><small>(a vector displayed as a row to save space)</small></div>"
      ]
     },
     "metadata": {},
     "execution_count": 4
    }
   ],
   "cell_type": "code",
   "source": [
    "analyzer = NoiseAugmentation(Gradient(model), 50)\n",
    "heatmap(input, analyzer)"
   ],
   "metadata": {},
   "execution_count": 4
  },
  {
   "cell_type": "markdown",
   "source": [
    "Note that a higher sample size is desired, as it will lead to a smoother heatmap.\n",
    "However, this comes at the cost of a longer computation time.\n",
    "\n",
    "We can also set the standard deviation of the Gaussian distribution:"
   ],
   "metadata": {}
  },
  {
   "outputs": [
    {
     "output_type": "execute_result",
     "data": {
      "text/plain": "1-element Vector{Matrix{ColorTypes.RGB{Float64}}}:\n [RGB(0.5160886215209961, 0.512181462097168, 0.1914789749145508) RGB(0.5140589202880859, 0.5116383026123048, 0.1922508331298828) … RGB(0.5215323120117187, 0.5136265823364259, 0.18946888732910155) RGB(0.5196964965820312, 0.5131421310424805, 0.19013182067871093); RGB(0.519370751953125, 0.5130561706542969, 0.19024945068359372) RGB(0.5224531860351562, 0.5138695907592774, 0.18913634948730468) … RGB(0.521212939453125, 0.5135423034667969, 0.18958421630859373) RGB(0.51935888671875, 0.5130530395507813, 0.19025373535156248); … ; RGB(0.5178411956787109, 0.5126504608154296, 0.19081250305175781) RGB(0.5210887939453125, 0.5135095428466797, 0.1896290466308594) … RGB(0.5170599746704101, 0.5124414016723633, 0.19110958709716797) RGB(0.5177050155639649, 0.5126140182495117, 0.19086428985595702); RGB(0.5196248657226562, 0.5131232284545899, 0.19015768737792968) RGB(0.5194590820312499, 0.5130794799804688, 0.1902175537109375) … RGB(0.5153128173828125, 0.5119738525390625, 0.1917739990234375) RGB(0.5184723999023437, 0.5128191055297852, 0.1905738555908203)]",
      "text/html": [
       "<table><tbody><tr><td style='text-align:center;vertical-align:middle; margin: 0.5em;border:1px #90999f solid;border-collapse:collapse'><img style='max-width: 100px; max-height:100px;display:inline' src=\"data:image/png;base64,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\"></td></tr></tbody></table><div><small>(a vector displayed as a row to save space)</small></div>"
      ]
     },
     "metadata": {},
     "execution_count": 5
    }
   ],
   "cell_type": "code",
   "source": [
    "analyzer = NoiseAugmentation(Gradient(model), 50, 0.1)\n",
    "heatmap(input, analyzer)"
   ],
   "metadata": {},
   "execution_count": 5
  },
  {
   "cell_type": "markdown",
   "source": [
    "When used with a `Gradient` analyzer, this is equivalent to `SmoothGrad`:"
   ],
   "metadata": {}
  },
  {
   "outputs": [
    {
     "output_type": "execute_result",
     "data": {
      "text/plain": "1-element Vector{Matrix{ColorTypes.RGB{Float64}}}:\n [RGB(0.45729220581054686, 0.4960231628417968, 0.21706503295898438) RGB(0.4564822578430176, 0.4957934761047363, 0.21746396255493164) … RGB(0.4620287017822266, 0.4973663482666016, 0.21473213195800783) RGB(0.4587712745666504, 0.4964426002502441, 0.2163365364074707); RGB(0.4571583305358886, 0.49598519821166986, 0.2171309715270996) RGB(0.45355581283569335, 0.49496358871459956, 0.21890534591674804) … RGB(0.4663378196716309, 0.4985567909240723, 0.2127201416015625) RGB(0.4612098594665528, 0.497134139251709, 0.2151354423522949); … ; RGB(0.4602866363525391, 0.4968723297119141, 0.21559016418457033) RGB(0.4570743453979492, 0.49596138153076175, 0.21717233734130859) … RGB(0.45779499206542973, 0.4961657440185547, 0.21681739196777344) RGB(0.4560879928588867, 0.49568166961669924, 0.21765815277099607); RGB(0.4591415657043457, 0.49654760818481447, 0.21615415420532225) RGB(0.4613343803405762, 0.4971694511413574, 0.2150741111755371) … RGB(0.45854579772949217, 0.4963786590576172, 0.21644759216308596) RGB(0.4601724922180176, 0.49683996047973633, 0.21564638442993164)]",
      "text/html": [
       "<table><tbody><tr><td style='text-align:center;vertical-align:middle; margin: 0.5em;border:1px #90999f solid;border-collapse:collapse'><img style='max-width: 100px; max-height:100px;display:inline' src=\"data:image/png;base64,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\"></td></tr></tbody></table><div><small>(a vector displayed as a row to save space)</small></div>"
      ]
     },
     "metadata": {},
     "execution_count": 6
    }
   ],
   "cell_type": "code",
   "source": [
    "analyzer = SmoothGrad(model, 50)\n",
    "heatmap(input, analyzer)"
   ],
   "metadata": {},
   "execution_count": 6
  },
  {
   "cell_type": "markdown",
   "source": [
    "We can also use any distribution from\n",
    "[Distributions.jl](https://github.com/JuliaStats/Distributions.jl),\n",
    "for example Poisson noise with rate $\\lambda=0.5$:"
   ],
   "metadata": {}
  },
  {
   "outputs": [
    {
     "output_type": "execute_result",
     "data": {
      "text/plain": "1-element Vector{Matrix{ColorTypes.RGB{Float64}}}:\n [RGB(0.4001772766113282, 0.4796748962402344, 0.2462199279785156) RGB(0.39710967254638674, 0.4787782119750977, 0.24787171478271486) … RGB(0.40888784790039057, 0.48222106323242186, 0.24162020263671874) RGB(0.40358641433715825, 0.48067141342163083, 0.2443932601928711); RGB(0.4021331977844238, 0.4802466270446777, 0.245166739654541) RGB(0.40518453598022464, 0.4811385566711426, 0.24355731964111327) … RGB(0.41125339126586913, 0.4828855545043945, 0.2403828414916992) RGB(0.4032041168212891, 0.4805596649169922, 0.24459323120117188); … ; RGB(0.39651185226440433, 0.4786034645080567, 0.2481936180114746) RGB(0.3998503227233887, 0.4795793251037598, 0.24639598007202151) … RGB(0.3920619140625, 0.4772824432373047, 0.2506270782470703) RGB(0.39058974609374997, 0.47684539337158205, 0.2514321701049804); RGB(0.4020411071777344, 0.48021970825195315, 0.2452163269042969) RGB(0.40047760009765626, 0.47976268310546877, 0.24605821533203126) … RGB(0.393524951171875, 0.4777167823791504, 0.24982697982788088) RGB(0.393286279296875, 0.4776459266662598, 0.24995750350952148)]",
      "text/html": [
       "<table><tbody><tr><td style='text-align:center;vertical-align:middle; margin: 0.5em;border:1px #90999f solid;border-collapse:collapse'><img style='max-width: 100px; max-height:100px;display:inline' src=\"data:image/png;base64,iVBORw0KGgoAAAANSUhEUgAAAHAAAABwCAIAAABJgmMcAAAAAXNSR0IArs4c6QAAAARnQU1BAACxjwv8YQUAAAAgY0hSTQAAeiYAAICEAAD6AAAAgOgAAHUwAADqYAAAOpgAABdwnLpRPAAACmdJREFUeAHtwU2PXFdex/Hv/5xzbz109YPbdsf2JEOkZJghAiEiHsIgwSCBWLBhg1gghMSCHW+APW8EDUgsWMEGgRASSDBhEcQompAxGadjx3bHdru7q6tu3XvP+bP6VWXREpu7vJ9P+tM//w3E2XGMmwQcyRjSlYj0HhBjpw4ZCTji7ARzJFpB3A0pGNJ7QJIVZBJ6JOCIGVvFjR1Heo+I4UjBEGPH2UmMBpUYDSoxGlQydswcCRTEMaS4IX2JSFsSkt2QziPSlozMY4dsSkKSZcSMrXWukOKGFAyZxxaJVpBZ6JFZ7JDsATEcKd4jrUekuCG9B8QxJDEaVGI0qMRoUMnZCew4hhQ3pC0RMRwxHJnGjITiSHFD9tMGOaDhJte5Rl7mOVLckE1JyDpXSO8BqeslclxtkOKGGDvLnJCuj0gmINkDN0mMBpUYDSoxGlRydroSkd4D4uxEc6Q4W/PYIutSIVf9BFnlGtmUhFQhI30JSO8RMXbakpDrvkbakBHDkcPUIBd9jfQekOyGnHczZJUrpA4ZSVaQgCOJ0aASo0ElRoNKfE3vAdmUiLQlIYu0QY6qBrk/WSKVOfK4WSDPNwvkrF0gE++RaeiReWyQaeyQF+2Cm/QekKt+gny+voW8aPeQ0+sjZJZ6JLshb0yXSGCDzFPHTRKjQSVGg0qMBpWMHTNHeo/cpA4ZuV2tkft1jzxvE3JUNYjhyCx2yDpXyF5qkSfNIWL9FNmUhOynBgnGVhV6pMkV8qqdIykUxMyRW1WDJCtItIJMY490JSCJ0aASo0ElRoNKvQck4Mh+apBJ6JFpyMhlXyOPN44YjpyuD5GPXj9ATk9rpH9VEO8difsBufM2W+/feYr88uFT5EFdkP+4PEC+WB8hr5oZ0hdDDqctMgkZMRypQkGKG1IwJDEaVGI0qMRoUMkxZBE3yDT2yEFqkdoK8qqbIL0bMg8F2ZSErNqE5MvClrH1xs8F5FtH58jvnTxEfvvgXeSt4z9BbHKCvP/l95HT9jnyl6lFXrZz5KqbIM+bBeIYkv0SyVVAAo4kRoNKjAaVGA0qubPlGLIpCTldz5BoBbnopshxvULOuxmyKQm5v3eN/MqvnSP3J1fI9w47ZB4q5CCeIHvxALG0QPL1T5BIQB5Ux8jv3n6KPGwq5EmzQB43R8hFN0VWuULq0CPBHEmMBpUYDSoxGlSKVpDihnzZHCAX/RQ5qZfIcb1Cvnv4GnmzapFv1g+Qbxy+z5ZnZLn+HHEvyH9e/xfy2eoMebh5gfSXHyFHsULO+hb5hdk9pHO23pl2yLONI22JyCJtkIAjyQpShYIkRoNKjAaVGA0qRXPE2WlKQs43M2TZ1cimJORsfoEswgbp28fID54+RKYWkI9XAfn0+jby2fU7yKqvkEnMiGOI4cijF3vIH377Y+Rn9xy5X+0hf3TC1j9ePEKWfY20HpHshrQlIonRoBKjQSVGg0rJCpJCQU4mS6SyjGQPyJ36GsluyL9ezJBPlneRZT9BohXkoGqQj8/vIn0OyOULQ7qXGXF3ZP20R/p2jfzz8TtIZT9GnGsksUK+OXHkFEPOu8COcZPEaFCJ0aASo0ElM0emoUNmdYd8Y3KJFAx5ttlH/vbpzyBPL+dIzsZNLh9lZPHNIyT3bH3r3hXy07da5PC9Bvn9ky+R/VghX7YbpHO2/me1j3x4eYwcpgZ5tlkg2QOSrCDJCpKsIInRoBKjQSVGg0oB5ybH1QZ5e5qRH68rZD81yHePP0fefHCN3EmOfG//O8j//tIpMgs1N/mbFxmpLSO/dZSR33z3L9jKa+T12T8gf/f6B8gidsgny7vIWbNAsgekDhk5mS6RW9Ua8dAjidGgEqNBJUaDSmZ8jSGGIz9pIlJbRm5XDTIJGfnjux8gh2/+AZLv/jpyvzlD7OxfkIdP/wp50hTkTn2NfNGeI+XqE8TiDJnVt5GmGDKLPfKy3UMev5ghXtiazh2JoSDGznG9QhKjQSVGg0qMBpWSFaSyjDiGdCUg05CRygryRtUjy/4VcmgJsf4K8dO/Rvr+Cvmnyy+QTfkp5NPlXWQRW+Tvn34f+cX5t5HPNp9zk/2Yka+WM6SasGXszCcZWaQW2UsbbpIYDSoxGlRiNKjUlYBMgyGTUJCDlJGztkZ+eHWCBGPri81nyHvXf4b86uI9ZJWvkdP2GWLsZA/IpiTkdT9FPlpm5NP1p8jLbop8eP4d5MHsErm7t0ZSKMjJZIkUDLk3uULWuUICjiRGg0qMBpUYDSqZOeLsrHJErjNbj9aHyKPrY+T5xRT5ZHEXeTC/RH549BB51u4h//bVe8izJxEpK0fm9wJy+nqBvHfnJRLNkbdmr5EPbp0id+oGuTe5Qu5Ua2QWM3Le1chVXyNdCUghIInRoBKjQSVGg0rZA9J7QIyd5+0c+apdIKsuIe2GrVdeIav2FvLfT28j6+cF8eyI1Y54YWuzZOvqeUb+/fA2Ui0M+TDeRd69v0Tenp8j9yZXyHHVIweRrVXOSBd75CpPkEhBEqNBJUaDSowGlYobssoVsuxr5NlmH3nR7CHLdUIW+wUJxlYMjuzNC9JUhtx7x5G2N3acLSvIV2dseVOQLhuy/yAgR1WDJCvIQWqRTTFkSUH2YkaakpBoBelKRBKjQSVGg0qMBpUKhkQcMW5m5sj+vEduTRpu4uxEc6R+e4bcnq6RZVcjd6bXyCT0yEfvniDHiw65XCekbblRHXrE2bnKCVllRy5yjVz2E6QvESkYkhgNKjEaVGI0qFTckIwhvQckmCNVKEgVCjfJbkj2gDRuSNNG5MtuD3n78AK5P7lEPjg6Q96aXSD7cYP8aHmCrHKN1KFHJqFH3qhbpDhbVzki09Ajlhy5YIL0JSKJ0aASo0ElRoNKwRxxDCkYYjhShYwEc6QtEelLQHIxZK/qkFvzDTKJPTINPdJ5RJI58vOLc+QyB+R37jxCfnR9hCxiizyYrJDjxNbjTUBmoSCVOVJZQTYlIo0bkhgNKjEaVGI0qMTXZDfE2KmsIIvYImlakMtuityeLpFgjsxihyz7GnEMCeaIuyGvuoSsS0SKG1JXLXJvco1c9RXyZDNHXvU9chA7pDZHjJ01hmQPSMGQxGhQidGgEqNBpeKGOIYUNyRaQaaxQ+rQI3XokVvVGtmLLVKFjDS5Qp40h8g8ttzki2YfCeaIO1tHqUNedxNkXRLS5AppPSIPJpdIZQXpPCCdR6QrESluSGI0qMRoUInRoBJfYzjiGJJCQYI74hhyWDXIIraI4dyk94BEK8gkZG7SlohkD0jrAfm8ceR1N0VetntIwZDKMtKVI6QKBZmGDjF2Coa4s5UYDSoxGlRiNKjE1xg70Rwpzo6x5e6IsbMpEQnmSMCR4oYs0oabzGKHGI4kK4h5RK5zjUxCRg6rBlnlCpmGHjFzJFpB2pK4SRUyYsZWYjSoxGhQidGgUmDH2Qk4YuaIYUgwR4yd1iMytR4xc2QvtcjUA2I4sikJqUNGCjczHGk9IlXIyFHISFsikiwjxo5ZQQLO/ycxGlRiNKjEaFD/B7qQMBBNScAzAAAAAElFTkSuQmCC\"></td></tr></tbody></table><div><small>(a vector displayed as a row to save space)</small></div>"
      ]
     },
     "metadata": {},
     "execution_count": 7
    }
   ],
   "cell_type": "code",
   "source": [
    "using Distributions\n",
    "\n",
    "analyzer = NoiseAugmentation(Gradient(model), 50, Poisson(0.5))\n",
    "heatmap(input, analyzer)"
   ],
   "metadata": {},
   "execution_count": 7
  },
  {
   "cell_type": "markdown",
   "source": [
    "Is is also possible to define your own distributions or mixture distributions.\n",
    "\n",
    "`NoiseAugmentation` can be combined with any analyzer type from the Julia-XAI ecosystem,\n",
    "for example `LRP` from [RelevancePropagation.jl](https://github.com/Julia-XAI/RelevancePropagation.jl)."
   ],
   "metadata": {}
  },
  {
   "cell_type": "markdown",
   "source": [
    "## Integration augmentation\n",
    "The `InterpolationAugmentation` wrapper computes explanations\n",
    "averaged over `n` steps of linear interpolation between the input and a reference input,\n",
    "which is set to `zero(input)` by default:"
   ],
   "metadata": {}
  },
  {
   "outputs": [
    {
     "output_type": "execute_result",
     "data": {
      "text/plain": "1-element Vector{Matrix{ColorTypes.RGB{Float64}}}:\n [RGB(0.26731090087890624, 0.43895178527832035, 0.31948900451660156) RGB(0.26731090087890624, 0.43895178527832035, 0.31948900451660156) … RGB(0.26731090087890624, 0.43895178527832035, 0.31948900451660156) RGB(0.26731090087890624, 0.43895178527832035, 0.31948900451660156); RGB(0.26731090087890624, 0.43895178527832035, 0.31948900451660156) RGB(0.26731090087890624, 0.43895178527832035, 0.31948900451660156) … RGB(0.26731090087890624, 0.43895178527832035, 0.31948900451660156) RGB(0.26731090087890624, 0.43895178527832035, 0.31948900451660156); … ; RGB(0.26731090087890624, 0.43895178527832035, 0.31948900451660156) RGB(0.26731090087890624, 0.43895178527832035, 0.31948900451660156) … RGB(0.26731090087890624, 0.43895178527832035, 0.31948900451660156) RGB(0.26731090087890624, 0.43895178527832035, 0.31948900451660156); RGB(0.26731090087890624, 0.43895178527832035, 0.31948900451660156) RGB(0.26731090087890624, 0.43895178527832035, 0.31948900451660156) … RGB(0.26731090087890624, 0.43895178527832035, 0.31948900451660156) RGB(0.26731090087890624, 0.43895178527832035, 0.31948900451660156)]",
      "text/html": [
       "<table><tbody><tr><td style='text-align:center;vertical-align:middle; margin: 0.5em;border:1px #90999f solid;border-collapse:collapse'><img style='max-width: 100px; max-height:100px;display:inline' src=\"data:image/png;base64,iVBORw0KGgoAAAANSUhEUgAAAHAAAABwCAIAAABJgmMcAAAAAXNSR0IArs4c6QAAAARnQU1BAACxjwv8YQUAAAAgY0hSTQAAeiYAAICEAAD6AAAAgOgAAHUwAADqYAAAOpgAABdwnLpRPAAABENJREFUeAHtwUtvVXUUxuHff+91Lu1p62kLLVGUBhAlBgRJYODIaHTgyKFDYxwa/QQmfgKHxujQjyAzA8GJJppojBAjl2ohlEspvZ5ybns7elsHTYzNopya9Tz2xsfvEPwYwZURXBnBlRFcGcGVEVwZwZURXBnBlRFcGcGVEVwZwZURXBnBlRFcGcGVEVwZwZURXBnBlRFcGcGVEVwZwZURXBnBlTHQEts5NnIPOTGyhMy3a8ivqweQ1V4NSZQ8TkZwZQRXRnBlDIDElpIto/YIGbU2klMirX6G1LI+8nRtBbmXRpCf7h5A8rxEDo2tIFkq2SkjuDKCKyO4MnbRcN5FVns1ZGFjGBmrtZGJagtZ7g4h9ayHXF6bRKaq68ip0UXkr0ePkGvDk0gt7yEr3TrSrG6wU0ZwZQRXRnBlPGbVrEBm18aRjU6OrK9nSGN/F7nfHkEsFciN1gTbaReG/Lh0EClIyFvTfyCtfgWpZAXy2+o0UpSJ/8IIrozgygiuDDcJqaQ+cnVpHLn3e4mkCptmjreRYesiWSqQkn936eazyMGJFlLLesj9TgN5pr6KzLaaeDCCKyO4MoIrw0mnyJHry08hY/UuMn08R+rWR/bVW/wXJQnpFDlyfOohcrSxgNSyPnLx/mHkivWQiWoLKcrEThnBlRFcGcGV4WTU2sh7R64hp0cK5FzjZeTTm7PIa81l5GzjBeSTuUXkpZEF5OKDGeT1yRvISq+KLHaHkNnWGFLJCuT28jBSafaRWt5jp4zgygiujODKcNIpcrYk5GzjJNI88xXy2SsFknprSLZ8GTmx+CHy0dEPkHr6ApmssOlet49kqUTm22PIVH0NGa20kTwVeDCCKyO4MoIrw0nJlu8WDyE/LC0j76+dQebabDrXGEXmu6tIu8iRb259ibzdPIJ8vTDHloQUJCRRIp2iguSpwJsRXBnBlRFcGY9Zp8iRz28eZTvn+adptrPav4W8OXkMOdX4E7neLpBfFg8grX6FLSWPkxFcGcGVEVwZA6woE9ItcuTS4rfIcr+HXHhwGNnoG0+CEVwZwZURXBkD5sqdcWT+0gZSf3cKOT/fRPYPbSCVrI8kSp4EI7gygisjuDIGwO31UWR9ro9MnK4j3/9cQ4pOiQyfrCDjtR5PmhFcGcGVEVwZA6DVzpFsqGRTyabavgyZnugg47UNBokRXBnBlRFcGU9Ir8yRtYcJ6dzpItbMkedmeshkrcWgMoIrI7gygitjVyXkYbuOTB3oIfezKlIdZtNkbYW9wAiujODKCK6MXdSstJBDQw+RC7dnkFefv4sstBvsNUZwZQRXRnBl7KIXRxaQq+uTyExzBekVGVLPu+w1RnBlBFdGcGXsoqVuHSnKhOSpRNqFsZcZwZURXBnBlbGLbrQmkEoqkH6ZkDyV7GVGcGUEV0ZwZeyiTpEjHXIkTwX/F0ZwZQRXRnD1NwWjHIODIT05AAAAAElFTkSuQmCC\"></td></tr></tbody></table><div><small>(a vector displayed as a row to save space)</small></div>"
      ]
     },
     "metadata": {},
     "execution_count": 8
    }
   ],
   "cell_type": "code",
   "source": [
    "analyzer = InterpolationAugmentation(Gradient(model), 50)\n",
    "heatmap(input, analyzer)"
   ],
   "metadata": {},
   "execution_count": 8
  },
  {
   "cell_type": "markdown",
   "source": [
    "When used with a `Gradient` analyzer, this is equivalent to `IntegratedGradients`:"
   ],
   "metadata": {}
  },
  {
   "outputs": [
    {
     "output_type": "execute_result",
     "data": {
      "text/plain": "1-element Vector{Matrix{ColorTypes.RGB{Float64}}}:\n [RGB(0.26731090087890624, 0.43895178527832035, 0.31948900451660156) RGB(0.26731090087890624, 0.43895178527832035, 0.31948900451660156) … RGB(0.26731090087890624, 0.43895178527832035, 0.31948900451660156) RGB(0.26731090087890624, 0.43895178527832035, 0.31948900451660156); RGB(0.26731090087890624, 0.43895178527832035, 0.31948900451660156) RGB(0.26731090087890624, 0.43895178527832035, 0.31948900451660156) … RGB(0.26731090087890624, 0.43895178527832035, 0.31948900451660156) RGB(0.26731090087890624, 0.43895178527832035, 0.31948900451660156); … ; RGB(0.26731090087890624, 0.43895178527832035, 0.31948900451660156) RGB(0.26731090087890624, 0.43895178527832035, 0.31948900451660156) … RGB(0.26731090087890624, 0.43895178527832035, 0.31948900451660156) RGB(0.26731090087890624, 0.43895178527832035, 0.31948900451660156); RGB(0.26731090087890624, 0.43895178527832035, 0.31948900451660156) RGB(0.26731090087890624, 0.43895178527832035, 0.31948900451660156) … RGB(0.26731090087890624, 0.43895178527832035, 0.31948900451660156) RGB(0.26731090087890624, 0.43895178527832035, 0.31948900451660156)]",
      "text/html": [
       "<table><tbody><tr><td style='text-align:center;vertical-align:middle; margin: 0.5em;border:1px #90999f solid;border-collapse:collapse'><img style='max-width: 100px; max-height:100px;display:inline' src=\"data:image/png;base64,iVBORw0KGgoAAAANSUhEUgAAAHAAAABwCAIAAABJgmMcAAAAAXNSR0IArs4c6QAAAARnQU1BAACxjwv8YQUAAAAgY0hSTQAAeiYAAICEAAD6AAAAgOgAAHUwAADqYAAAOpgAABdwnLpRPAAABENJREFUeAHtwUtvVXUUxuHff+91Lu1p62kLLVGUBhAlBgRJYODIaHTgyKFDYxwa/QQmfgKHxujQjyAzA8GJJppojBAjl2ohlEspvZ5ybns7elsHTYzNopya9Tz2xsfvEPwYwZURXBnBlRFcGcGVEVwZwZURXBnBlRFcGcGVEVwZwZURXBnBlRFcGcGVEVwZwZURXBnBlRFcGcGVEVwZwZURXBnBlTHQEts5NnIPOTGyhMy3a8ivqweQ1V4NSZQ8TkZwZQRXRnBlDIDElpIto/YIGbU2klMirX6G1LI+8nRtBbmXRpCf7h5A8rxEDo2tIFkq2SkjuDKCKyO4MnbRcN5FVns1ZGFjGBmrtZGJagtZ7g4h9ayHXF6bRKaq68ip0UXkr0ePkGvDk0gt7yEr3TrSrG6wU0ZwZQRXRnBlPGbVrEBm18aRjU6OrK9nSGN/F7nfHkEsFciN1gTbaReG/Lh0EClIyFvTfyCtfgWpZAXy2+o0UpSJ/8IIrozgygiuDDcJqaQ+cnVpHLn3e4mkCptmjreRYesiWSqQkn936eazyMGJFlLLesj9TgN5pr6KzLaaeDCCKyO4MoIrw0mnyJHry08hY/UuMn08R+rWR/bVW/wXJQnpFDlyfOohcrSxgNSyPnLx/mHkivWQiWoLKcrEThnBlRFcGcGV4WTU2sh7R64hp0cK5FzjZeTTm7PIa81l5GzjBeSTuUXkpZEF5OKDGeT1yRvISq+KLHaHkNnWGFLJCuT28jBSafaRWt5jp4zgygiujODKcNIpcrYk5GzjJNI88xXy2SsFknprSLZ8GTmx+CHy0dEPkHr6ApmssOlet49kqUTm22PIVH0NGa20kTwVeDCCKyO4MoIrw0nJlu8WDyE/LC0j76+dQebabDrXGEXmu6tIu8iRb259ibzdPIJ8vTDHloQUJCRRIp2iguSpwJsRXBnBlRFcGY9Zp8iRz28eZTvn+adptrPav4W8OXkMOdX4E7neLpBfFg8grX6FLSWPkxFcGcGVEVwZA6woE9ItcuTS4rfIcr+HXHhwGNnoG0+CEVwZwZURXBkD5sqdcWT+0gZSf3cKOT/fRPYPbSCVrI8kSp4EI7gygisjuDIGwO31UWR9ro9MnK4j3/9cQ4pOiQyfrCDjtR5PmhFcGcGVEVwZA6DVzpFsqGRTyabavgyZnugg47UNBokRXBnBlRFcGU9Ir8yRtYcJ6dzpItbMkedmeshkrcWgMoIrI7gygitjVyXkYbuOTB3oIfezKlIdZtNkbYW9wAiujODKCK6MXdSstJBDQw+RC7dnkFefv4sstBvsNUZwZQRXRnBl7KIXRxaQq+uTyExzBekVGVLPu+w1RnBlBFdGcGXsoqVuHSnKhOSpRNqFsZcZwZURXBnBlbGLbrQmkEoqkH6ZkDyV7GVGcGUEV0ZwZeyiTpEjHXIkTwX/F0ZwZQRXRnD1NwWjHIODIT05AAAAAElFTkSuQmCC\"></td></tr></tbody></table><div><small>(a vector displayed as a row to save space)</small></div>"
      ]
     },
     "metadata": {},
     "execution_count": 9
    }
   ],
   "cell_type": "code",
   "source": [
    "analyzer = IntegratedGradients(model, 50)\n",
    "heatmap(input, analyzer)"
   ],
   "metadata": {},
   "execution_count": 9
  },
  {
   "cell_type": "markdown",
   "source": [
    "To select a different reference input, pass it to the `analyze` function\n",
    "using the keyword argument `input_ref`.\n",
    "Note that this is an arbitrary example for the sake of demonstration."
   ],
   "metadata": {}
  },
  {
   "outputs": [
    {
     "output_type": "execute_result",
     "data": {
      "text/plain": "1-element Vector{Matrix{ColorTypes.RGB{Float64}}}:\n [RGB(0.4490871696472168, 0.49369636154174806, 0.22110631942749023) RGB(0.44208317718505863, 0.49171015472412116, 0.22455604705810545) … RGB(0.41876847076416013, 0.485009245300293, 0.23645187683105467) RGB(0.44284696655273437, 0.49192675170898437, 0.22417985229492185); RGB(0.44949763870239257, 0.4938127632141114, 0.22090414810180664) RGB(0.4431518791198731, 0.4920132194519043, 0.22402967147827146) … RGB(0.4489227264404297, 0.49364972839355475, 0.22118731384277343) RGB(0.44284696655273437, 0.49192675170898437, 0.22417985229492185); … ; RGB(0.4539996612548828, 0.4950894561767578, 0.21868673400878905) RGB(0.47183586425781254, 0.5000806091308594, 0.21015371093750002) … RGB(0.4439007423400879, 0.49222558364868163, 0.2236608283996582) RGB(0.44284696655273437, 0.49192675170898437, 0.22417985229492185); RGB(0.44284696655273437, 0.49192675170898437, 0.22417985229492185) RGB(0.44284696655273437, 0.49192675170898437, 0.22417985229492185) … RGB(0.44284696655273437, 0.49192675170898437, 0.22417985229492185) RGB(0.44284696655273437, 0.49192675170898437, 0.22417985229492185)]",
      "text/html": [
       "<table><tbody><tr><td style='text-align:center;vertical-align:middle; margin: 0.5em;border:1px #90999f solid;border-collapse:collapse'><img style='max-width: 100px; max-height:100px;display:inline' src=\"data:image/png;base64,iVBORw0KGgoAAAANSUhEUgAAAHAAAABwCAIAAABJgmMcAAAAAXNSR0IArs4c6QAAAARnQU1BAACxjwv8YQUAAAAgY0hSTQAAeiYAAICEAAD6AAAAgOgAAHUwAADqYAAAOpgAABdwnLpRPAAACtJJREFUeAHtwdurpedBx/Hvc3jfddpr7b32YWaSyRySmKSJaUlS0GirpClVEKFILxS9EbxUEFHwzj9BhIoUb/Qm3ihYEBGKmmoTpBpjElOTTBLnkDCzD7P37MM6vYfnebz6rXWzYai8l+/n43//j15GYjJIxCDOJMSbiGxmC8SwsuED0rcJ+azIkJGvkaMqQ7ayCjmuPdJ3ASmiRdZcQA6rHCmjQ/bLPmJNQgwrhoRkNiIhGR4mNwHxtBrlaTXK02qU58d0WncQZyJiSYhhJbjAeUIyyDx6ZK+0yGndQbq2RryJyGmdIzEZpOtqxLDiSEhipU4W6ZsKcRjEmoQkVlIyiKfVKE+rUZ5Wo7wlIZmNyCxkiDERSYmlR/IF8j/TMfJU/xB5dzJCurZGjusO8vlihBhW1rMFclbmyDibIxGDnFQ95CcGR8h2PkOqZJHcBGS3GCLTkCPeRMQREcOKISGeVqM8rUZ5Wo3yxrBkTUK6rkZmIUO8jciH0w2ka2vkqLJIHS1yvT9Hvnd4BdlfDJHISmYj0ncl0rEBmcUMudY9QW7P1xFnIrKVzZHdYg0Z+gLJbEA2fIE8qLpIxCApseRpNcrTapSn1ShfRosYm5AyOsSbgOyVQ8SSkOOqhzgTkQ8nF5C7xQi5Nx8hh/Mu0s9rxJqEjPwCeXbtAVJGi+yXXaSMDiljjpzWXeSV8T2kTgaZR4MclB3OY0lIjUU8rUZ5Wo3ytBrlEwZxJiFrvkTK6JBnBveRWciQpweHyFmdIR1bI2X0yJ2jAbI1KpGUDHJ97Qj5ncv3kdf2t5HNbI78y/3HkUu9M+TF0T1kw1fIxSxDPppH5PZiiIRkkJEvkKOqhwxdgXhajfK0GuVpNcp7E5HPFiPkQdVHHu8dId5EpO8qZOhq5NPZGPniaBcJySK/8eJNJLMGmYSIDKxFFtEjbx1dRmZVhlzsT5FbkzHyy9u3kJ3MIcehRg6rHnK5M0G2sxq5s+giQ1ciVXKIp9UoT6tRnlajvDMJ6bsKGWdHyDP9E+R7968jO50J8sHZBeRiZ4J8MLmAPNE/Qp7ubiNvnB0i+1UPeePwOmJNRDY7c+Sl8V3kpO4i3kbk304uIM+vHSLP9zvIL11+Abk1v4HcrU+QWSyQs3mOZCYinlajPK1GeVqN8j1bs+Q518AlZBYyZN0vkJ/bvIV8czNDcuOQF67+LvLOnT9DdssuclAOkC+O7iHeRB5m5BfI1e4xkjDIzfkQuVsE5PWTd5AqOuTZQYXcLfqIMxFJiSVPq1GeVqM8rUb5aciQOllkJ58h3hjk+dEu8gvjErlfl8h3j/rIf59tIfb2a8hGliMX8xJZcwXn8TYi85Ahzw2OkY/nQ+Sw7CNb2YwVgxTRIYvokXvFENkt1pAvDQ+Q/bKHVMkinlajPK1GeVqN8rPokTo65F6xhnTtKXK1O0EO64Q8no+QWf8E2cjuIIdlFwkYJGKQvquRJ3ozxLKy6T2yXyWWEkuvjHeR96cjlhJLp3UX2cjmyOvvXUIuXolInSzSczUy8gvE02qUp9UoT6tRvmMDUkeH3J5vIEV0SG4D8lbVQ7403EfuLMZIbgNiWNnKFsjXRl3k5ee+jcTBNcTu/iMS5p8hNhsjf3zjO8g3Rs8iJ+Ej5M58DdnMZpzn0tWA/OTGPrKdz5AyOsSahHhajfK0GuVpNcoPXYlM6g5yuXuKLIJHBq5EnInIvWKA9GyNBAwyzhbIH/7im0j6+E+QMH4JcQc/QN6886fIzXKCfHf/OuLNI8gnswOk60aIM5GlxNKT/TPkt594G7lf5cgiOsSSkEX0iKfVKE+rUZ5Wo3xipWMrZJwtkL1iDTmueshBuYZ8dLaDfHn8OdIxAfl0NkZ+7a+/hdw43UY2f/jryE+PP0PeO72EPNE/Qq72HiDzkCEDV3KuxNJ6ViCvDi8jh+EEmYQC+dG8QO4WfaRODvG0GuVpNcrTapTfL9aQR7tnSGJlET1SJ4eclF3kZ7duIx9PtpHLvRNk5Atk7OfIle4J5ymiQ76wdoAYEpIwSN+VPMwkdJCn+mfIdnYBGbkR8s78Y2QRHVInh+QmIJ5WozytRnlajfKJlcOqhyyCR9b9AllEj/zB4x8gb511kGnIkb/6h2uI7Vvk1ZcPkI9OtpGuD8i1wTGymU+RoSv4cdycb3KeR/Ij5M/330eudkrkxryHTOoM6dsKKZNDPK1GeVqN8rQa5S/kU+Tds0uIJSFPDo4Qb0vkq2svIKfhP5GvjD5FPr4YkN/79vPIG5uXkGKvRkzmkZ//2gPkoBwgQ1cghoREDOJMRLq2Ql4a7SHHISCX84D819kI2cwWSHIsTUOORAziaTXK02qUp9Uof2exjixChvRchXw63URmIUf+afg2suMzZOS6SGYmyKu/WiCvbH2IPN6pkBf7jyL/MTtB3j1LPEwZHXJjvoPU0SJlssjQWuSgSsiV7hSpk0Fm0SMDVyLTkCGeVqM8rUZ5Wo3y42yO7BdryFndQSZVB3E2Io/la8jtcoIYCuSbG88hv3npCpI/8x0kZSPk5r//CvLRrM+5DEsDWyFfHp0hLwwfIO9NNpD9so8M3CnSs5wrsxEJybBkWDKseFqN8rQa5Wk1ytfJIkNfIFeyE6TvSmTdF8jYjZF/XSyQU18hT3dmyJvH30e+/uAbyN5nf4n8xf4hUiTPeTITkd+68BhyofcE8sOTHyD75RT5YLqN9GyFJAyy4QtkEjLE8nCeVqM8rUZ5Wo3ymQnITmeKGBLyM+unyN3CIkM7Qk7rU+ST2SbSszeRyEpx8Dry/bP3kSINOY8xCfnKaIHUqUZm1SFyLbuE/F19HzkqB8iaK5FHu2dIYqVra2SvHCBjv+A8nlajPK1GeVqN8s4kZMvPkZ2sQKYhITtZQG6WnyPPDabIV9cL5FZhkPtlB/nbg79H3j5b41yJpVnMkdf21pEn+3vIte4t5KcG28i3thLyN2kfsSYhu8UaMvIFUieDeBORScgRQ0I8rUZ5Wo3ytBrlpyFHQrJISiw9N1ggB5VBnupkyLV8gPxvMUUsBrkx3UJm8QSJGM7TdTWyWw6RNVci94ohclZ3kEezB8g8BaTnekgRPTL0BXJad5DMBKSIHum7ivN4Wo3ytBrlaTXKD1yJWBJiTUI+nWfIbjlALmTHyNV8iOxkHnlt9yIyzuZIHS1LhpXE0mOdOXJ3MUJ28inSsQFZ9xWyVwekjAYZ+xKpU4UcVD0kt4HzDFzJw3hajfK0GuVpNcqHZJBoDFJEh5zGHBm6EvlkkSH//CBHJmGIGMNSbgMPs+Yr5EeTMfKFwSHyoO4ge+UAuT3PkKu9Y+RSXiABg0xDhnRMQI5DhuQ2IFVyiDMRsSTE02qUp9UoT6tR3pmEzEOGBGuR3AQktwFZBIeMfIEsYobcLwbIxXzCeTwRmQePPDU4RiwrVSqRIjpk4EqkiB7ZK1mahgyJGMSRkJ6tWDIsOcOSYSUlljytRnlajfK0GuUNK6OsQHITkCI6pEwOMSRkEnJkK5shfVciiRXDircRWQSPfL4YIM4k5LTuIFWySIgWudiZIJOQIyEZJCTLkg2IMwmJGM6TOJ+n1ShPq1GeVqN8SAYJwSEFjoexJiGOhHRtjRgSMo8ZUkWHVKlCDAnxJiJ9WyEDZ5CYDEuOpTI6zmNJiDWBpcRSwPD/5Wk1ytNqlKfVqP8D4wINrK2S6gYAAAAASUVORK5C\"></td></tr></tbody></table><div><small>(a vector displayed as a row to save space)</small></div>"
      ]
     },
     "metadata": {},
     "execution_count": 10
    }
   ],
   "cell_type": "code",
   "source": [
    "matrix_of_ones = ones(Float32, size(input))\n",
    "\n",
    "analyzer = InterpolationAugmentation(Gradient(model), 50)\n",
    "expl = analyzer(input; input_ref=matrix_of_ones)\n",
    "heatmap(expl)"
   ],
   "metadata": {},
   "execution_count": 10
  },
  {
   "cell_type": "markdown",
   "source": [
    "Once again, `InterpolationAugmentation` can be combined with any analyzer type from the Julia-XAI ecosystem,\n",
    "for example `LRP` from [RelevancePropagation.jl](https://github.com/Julia-XAI/RelevancePropagation.jl)."
   ],
   "metadata": {}
  },
  {
   "cell_type": "markdown",
   "source": [
    "---\n",
    "\n",
    "*This notebook was generated using [Literate.jl](https://github.com/fredrikekre/Literate.jl).*"
   ],
   "metadata": {}
  }
 ],
 "nbformat_minor": 3,
 "metadata": {
  "language_info": {
   "file_extension": ".jl",
   "mimetype": "application/julia",
   "name": "julia",
   "version": "1.11.4"
  },
  "kernelspec": {
   "name": "julia-1.11",
   "display_name": "Julia 1.11.4",
   "language": "julia"
  }
 },
 "nbformat": 4
}
