{
 "cells": [
  {
   "cell_type": "markdown",
   "source": [
    "# Basic usage of LRP\n",
    "This example will show you best practices for using LRP,\n",
    "building on the basics shown in the *Getting started* section."
   ],
   "metadata": {}
  },
  {
   "cell_type": "markdown",
   "source": [
    "We start out by loading a small convolutional neural network:"
   ],
   "metadata": {}
  },
  {
   "outputs": [],
   "cell_type": "code",
   "source": [
    "using ExplainableAI\n",
    "using Flux\n",
    "\n",
    "model = Chain(\n",
    "    Chain(\n",
    "        Conv((3, 3), 3 => 8, relu; pad=1),\n",
    "        Conv((3, 3), 8 => 8, relu; pad=1),\n",
    "        MaxPool((2, 2)),\n",
    "        Conv((3, 3), 8 => 16; pad=1),\n",
    "        BatchNorm(16, relu),\n",
    "        Conv((3, 3), 16 => 8, relu; pad=1),\n",
    "        BatchNorm(8, relu),\n",
    "    ),\n",
    "    Chain(\n",
    "        Flux.flatten,\n",
    "        Dense(2048 => 512, relu),\n",
    "        Dropout(0.5),\n",
    "        Dense(512 => 100, softmax)\n",
    "    ),\n",
    ");"
   ],
   "metadata": {},
   "execution_count": 1
  },
  {
   "cell_type": "markdown",
   "source": [
    "This model contains two chains: the convolutional layers and the fully connected layers."
   ],
   "metadata": {}
  },
  {
   "cell_type": "markdown",
   "source": [
    "## Model preparation\n",
    "### Stripping the output softmax\n",
    "When using LRP, it is recommended to explain output logits instead of probabilities.\n",
    "This can be done by stripping the output softmax activation from the model\n",
    "using the `strip_softmax` function:"
   ],
   "metadata": {}
  },
  {
   "outputs": [
    {
     "output_type": "execute_result",
     "data": {
      "text/plain": "Chain(\n  Chain(\n    Conv((3, 3), 3 => 8, relu, pad=1),  \u001b[90m# 224 parameters\u001b[39m\n    Conv((3, 3), 8 => 8, relu, pad=1),  \u001b[90m# 584 parameters\u001b[39m\n    MaxPool((2, 2)),\n    Conv((3, 3), 8 => 16, pad=1),       \u001b[90m# 1_168 parameters\u001b[39m\n    BatchNorm(16, relu),                \u001b[90m# 32 parameters\u001b[39m\u001b[90m, plus 32\u001b[39m\n    Conv((3, 3), 16 => 8, relu, pad=1),  \u001b[90m# 1_160 parameters\u001b[39m\n    BatchNorm(8, relu),                 \u001b[90m# 16 parameters\u001b[39m\u001b[90m, plus 16\u001b[39m\n  ),\n  Chain(\n    Flux.flatten,\n    Dense(2048 => 512, relu),           \u001b[90m# 1_049_088 parameters\u001b[39m\n    Dropout(0.5),\n    Dense(512 => 100),                  \u001b[90m# 51_300 parameters\u001b[39m\n  ),\n) \u001b[90m        # Total: 16 trainable arrays, \u001b[39m1_103_572 parameters,\n\u001b[90m          # plus 4 non-trainable, 48 parameters, summarysize \u001b[39m4.213 MiB."
     },
     "metadata": {},
     "execution_count": 2
    }
   ],
   "cell_type": "code",
   "source": [
    "model = strip_softmax(model)"
   ],
   "metadata": {},
   "execution_count": 2
  },
  {
   "cell_type": "markdown",
   "source": [
    "If you don't remove the output softmax,\n",
    "model checks will fail."
   ],
   "metadata": {}
  },
  {
   "cell_type": "markdown",
   "source": [
    "### Canonizing the model\n",
    "LRP is not invariant to a model's implementation.\n",
    "Applying the `GammaRule` to two linear layers in a row will yield different results\n",
    "than first fusing the two layers into one linear layer and then applying the rule.\n",
    "This fusing is called \"canonization\" and can be done using the `canonize` function:"
   ],
   "metadata": {}
  },
  {
   "outputs": [
    {
     "output_type": "execute_result",
     "data": {
      "text/plain": "Chain(\n  Chain(\n    Conv((3, 3), 3 => 8, relu, pad=1),  \u001b[90m# 224 parameters\u001b[39m\n    Conv((3, 3), 8 => 8, relu, pad=1),  \u001b[90m# 584 parameters\u001b[39m\n    MaxPool((2, 2)),\n    Conv((3, 3), 8 => 16, pad=1),       \u001b[90m# 1_168 parameters\u001b[39m\n    BatchNorm(16, relu),                \u001b[90m# 32 parameters\u001b[39m\u001b[90m, plus 32\u001b[39m\n    Conv((3, 3), 16 => 8, relu, pad=1),  \u001b[90m# 1_160 parameters\u001b[39m\n    BatchNorm(8, relu),                 \u001b[90m# 16 parameters\u001b[39m\u001b[90m, plus 16\u001b[39m\n  ),\n  Chain(\n    Flux.flatten,\n    Dense(2048 => 512, relu),           \u001b[90m# 1_049_088 parameters\u001b[39m\n    Dropout(0.5),\n    Dense(512 => 100),                  \u001b[90m# 51_300 parameters\u001b[39m\n  ),\n) \u001b[90m        # Total: 16 trainable arrays, \u001b[39m1_103_572 parameters,\n\u001b[90m          # plus 4 non-trainable, 48 parameters, summarysize \u001b[39m4.213 MiB."
     },
     "metadata": {},
     "execution_count": 3
    }
   ],
   "cell_type": "code",
   "source": [
    "model = canonize(model)"
   ],
   "metadata": {},
   "execution_count": 3
  },
  {
   "cell_type": "markdown",
   "source": [
    "### Flattening the model\n",
    "ExplainableAI.jl's LRP implementation supports nested Flux Chains and Parallel layers.\n",
    "However, it is recommended to flatten the model before analyzing it.\n",
    "\n",
    "LRP is implemented by first running a forward pass through the model,\n",
    "keeping track of the intermediate activations, followed by a backward pass\n",
    "that computes the relevances.\n",
    "\n",
    "To keep the LRP implementation simple and maintainable,\n",
    "ExplainableAI.jl does not pre-compute \"nested\" activations.\n",
    "Instead, for every internal chain, a new forward pass is run to compute activations.\n",
    "\n",
    "By \"flattening\" a model, this overhead can be avoided.\n",
    "For this purpose, ExplainableAI.jl provides the function `flatten_model`:"
   ],
   "metadata": {}
  },
  {
   "outputs": [
    {
     "output_type": "execute_result",
     "data": {
      "text/plain": "Chain(\n  Conv((3, 3), 3 => 8, relu, pad=1),    \u001b[90m# 224 parameters\u001b[39m\n  Conv((3, 3), 8 => 8, relu, pad=1),    \u001b[90m# 584 parameters\u001b[39m\n  MaxPool((2, 2)),\n  Conv((3, 3), 8 => 16, pad=1),         \u001b[90m# 1_168 parameters\u001b[39m\n  BatchNorm(16, relu),                  \u001b[90m# 32 parameters\u001b[39m\u001b[90m, plus 32\u001b[39m\n  Conv((3, 3), 16 => 8, relu, pad=1),   \u001b[90m# 1_160 parameters\u001b[39m\n  BatchNorm(8, relu),                   \u001b[90m# 16 parameters\u001b[39m\u001b[90m, plus 16\u001b[39m\n  Flux.flatten,\n  Dense(2048 => 512, relu),             \u001b[90m# 1_049_088 parameters\u001b[39m\n  Dropout(0.5),\n  Dense(512 => 100),                    \u001b[90m# 51_300 parameters\u001b[39m\n) \u001b[90m        # Total: 16 trainable arrays, \u001b[39m1_103_572 parameters,\n\u001b[90m          # plus 4 non-trainable, 48 parameters, summarysize \u001b[39m4.212 MiB."
     },
     "metadata": {},
     "execution_count": 4
    }
   ],
   "cell_type": "code",
   "source": [
    "model_flat = flatten_model(model)"
   ],
   "metadata": {},
   "execution_count": 4
  },
  {
   "cell_type": "markdown",
   "source": [
    "This function is called by default when creating an LRP analyzer.\n",
    "Note that we pass the unflattened model to the analyzer, but `analyzer.model` is flattened:"
   ],
   "metadata": {}
  },
  {
   "outputs": [
    {
     "output_type": "execute_result",
     "data": {
      "text/plain": "Chain(\n  Conv((3, 3), 3 => 8, relu, pad=1),    \u001b[90m# 224 parameters\u001b[39m\n  Conv((3, 3), 8 => 8, relu, pad=1),    \u001b[90m# 584 parameters\u001b[39m\n  MaxPool((2, 2)),\n  Conv((3, 3), 8 => 16, pad=1),         \u001b[90m# 1_168 parameters\u001b[39m\n  BatchNorm(16, relu),                  \u001b[90m# 32 parameters\u001b[39m\u001b[90m, plus 32\u001b[39m\n  Conv((3, 3), 16 => 8, relu, pad=1),   \u001b[90m# 1_160 parameters\u001b[39m\n  BatchNorm(8, relu),                   \u001b[90m# 16 parameters\u001b[39m\u001b[90m, plus 16\u001b[39m\n  Flux.flatten,\n  Dense(2048 => 512, relu),             \u001b[90m# 1_049_088 parameters\u001b[39m\n  Dropout(0.5),\n  Dense(512 => 100),                    \u001b[90m# 51_300 parameters\u001b[39m\n) \u001b[90m        # Total: 16 trainable arrays, \u001b[39m1_103_572 parameters,\n\u001b[90m          # plus 4 non-trainable, 48 parameters, summarysize \u001b[39m4.212 MiB."
     },
     "metadata": {},
     "execution_count": 5
    }
   ],
   "cell_type": "code",
   "source": [
    "analyzer = LRP(model)\n",
    "analyzer.model"
   ],
   "metadata": {},
   "execution_count": 5
  },
  {
   "cell_type": "markdown",
   "source": [
    "If this flattening is not desired, it can be disabled\n",
    "by passing the keyword argument `flatten=false` to the `LRP` constructor."
   ],
   "metadata": {}
  },
  {
   "cell_type": "markdown",
   "source": [
    "## LRP rules\n",
    "By default, the `LRP` constructor will assign the `ZeroRule` to all layers."
   ],
   "metadata": {}
  },
  {
   "outputs": [
    {
     "output_type": "execute_result",
     "data": {
      "text/plain": "LRP(\n  Conv((3, 3), 3 => 8, relu, pad=1) \u001b[90m => \u001b[39m\u001b[33mZeroRule()\u001b[39m,\n  Conv((3, 3), 8 => 8, relu, pad=1) \u001b[90m => \u001b[39m\u001b[33mZeroRule()\u001b[39m,\n  MaxPool((2, 2))                   \u001b[90m => \u001b[39m\u001b[33mZeroRule()\u001b[39m,\n  Conv((3, 3), 8 => 16, pad=1)      \u001b[90m => \u001b[39m\u001b[33mZeroRule()\u001b[39m,\n  BatchNorm(16, relu)               \u001b[90m => \u001b[39m\u001b[33mZeroRule()\u001b[39m,\n  Conv((3, 3), 16 => 8, relu, pad=1)\u001b[90m => \u001b[39m\u001b[33mZeroRule()\u001b[39m,\n  BatchNorm(8, relu)                \u001b[90m => \u001b[39m\u001b[33mZeroRule()\u001b[39m,\n  Flux.flatten                      \u001b[90m => \u001b[39m\u001b[33mZeroRule()\u001b[39m,\n  Dense(2048 => 512, relu)          \u001b[90m => \u001b[39m\u001b[33mZeroRule()\u001b[39m,\n  Dropout(0.5)                      \u001b[90m => \u001b[39m\u001b[33mZeroRule()\u001b[39m,\n  Dense(512 => 100)                 \u001b[90m => \u001b[39m\u001b[33mZeroRule()\u001b[39m,\n)"
     },
     "metadata": {},
     "execution_count": 6
    }
   ],
   "cell_type": "code",
   "source": [
    "LRP(model)"
   ],
   "metadata": {},
   "execution_count": 6
  },
  {
   "cell_type": "markdown",
   "source": [
    "This analyzer will return heatmaps that look identical to `InputTimesGradient`."
   ],
   "metadata": {}
  },
  {
   "cell_type": "markdown",
   "source": [
    "LRP's strength lies in assigning different rules to different layers,\n",
    "based on their functionality in the neural network[^1].\n",
    "ExplainableAI.jl implements many LRP rules out of the box,\n",
    "but it is also possible to *implement custom rules*.\n",
    "\n",
    "To assign different rules to different layers,\n",
    "use one of the composites presets,\n",
    "or create your own composite, as described in\n",
    "*Assigning rules to layers*."
   ],
   "metadata": {}
  },
  {
   "outputs": [
    {
     "output_type": "execute_result",
     "data": {
      "text/plain": "Composite(\n  GlobalTypeMap(  \u001b[90m# all layers\u001b[39m\n\u001b[94m    Flux.Conv              \u001b[39m => \u001b[33mZPlusRule()\u001b[39m,\n\u001b[94m    Flux.ConvTranspose     \u001b[39m => \u001b[33mZPlusRule()\u001b[39m,\n\u001b[94m    Flux.CrossCor          \u001b[39m => \u001b[33mZPlusRule()\u001b[39m,\n\u001b[94m    Flux.Dense             \u001b[39m => \u001b[33mEpsilonRule{Float32}(1.0f-6)\u001b[39m,\n\u001b[94m    typeof(NNlib.dropout)  \u001b[39m => \u001b[33mPassRule()\u001b[39m,\n\u001b[94m    Flux.AlphaDropout      \u001b[39m => \u001b[33mPassRule()\u001b[39m,\n\u001b[94m    Flux.Dropout           \u001b[39m => \u001b[33mPassRule()\u001b[39m,\n\u001b[94m    Flux.BatchNorm         \u001b[39m => \u001b[33mPassRule()\u001b[39m,\n\u001b[94m    typeof(Flux.flatten)   \u001b[39m => \u001b[33mPassRule()\u001b[39m,\n\u001b[94m    typeof(MLUtils.flatten)\u001b[39m => \u001b[33mPassRule()\u001b[39m,\n\u001b[94m    typeof(identity)       \u001b[39m => \u001b[33mPassRule()\u001b[39m,\n ),\n  FirstLayerTypeMap(  \u001b[90m# first layer\u001b[39m\n\u001b[94m    Flux.Conv         \u001b[39m => \u001b[33mFlatRule()\u001b[39m,\n\u001b[94m    Flux.ConvTranspose\u001b[39m => \u001b[33mFlatRule()\u001b[39m,\n\u001b[94m    Flux.CrossCor     \u001b[39m => \u001b[33mFlatRule()\u001b[39m,\n\u001b[94m    Flux.Dense        \u001b[39m => \u001b[33mFlatRule()\u001b[39m,\n ),\n)"
     },
     "metadata": {},
     "execution_count": 7
    }
   ],
   "cell_type": "code",
   "source": [
    "composite = EpsilonPlusFlat() # using composite preset EpsilonPlusFlat"
   ],
   "metadata": {},
   "execution_count": 7
  },
  {
   "outputs": [
    {
     "output_type": "execute_result",
     "data": {
      "text/plain": "LRP(\n  Conv((3, 3), 3 => 8, relu, pad=1) \u001b[90m => \u001b[39m\u001b[33mFlatRule()\u001b[39m,\n  Conv((3, 3), 8 => 8, relu, pad=1) \u001b[90m => \u001b[39m\u001b[33mZPlusRule()\u001b[39m,\n  MaxPool((2, 2))                   \u001b[90m => \u001b[39m\u001b[33mZeroRule()\u001b[39m,\n  Conv((3, 3), 8 => 16, pad=1)      \u001b[90m => \u001b[39m\u001b[33mZPlusRule()\u001b[39m,\n  BatchNorm(16, relu)               \u001b[90m => \u001b[39m\u001b[33mPassRule()\u001b[39m,\n  Conv((3, 3), 16 => 8, relu, pad=1)\u001b[90m => \u001b[39m\u001b[33mZPlusRule()\u001b[39m,\n  BatchNorm(8, relu)                \u001b[90m => \u001b[39m\u001b[33mPassRule()\u001b[39m,\n  Flux.flatten                      \u001b[90m => \u001b[39m\u001b[33mPassRule()\u001b[39m,\n  Dense(2048 => 512, relu)          \u001b[90m => \u001b[39m\u001b[33mEpsilonRule{Float32}(1.0f-6)\u001b[39m,\n  Dropout(0.5)                      \u001b[90m => \u001b[39m\u001b[33mPassRule()\u001b[39m,\n  Dense(512 => 100)                 \u001b[90m => \u001b[39m\u001b[33mEpsilonRule{Float32}(1.0f-6)\u001b[39m,\n)"
     },
     "metadata": {},
     "execution_count": 8
    }
   ],
   "cell_type": "code",
   "source": [
    "LRP(model, composite)"
   ],
   "metadata": {},
   "execution_count": 8
  },
  {
   "cell_type": "markdown",
   "source": [
    "## Computing layerwise relevances\n",
    "If you are interested in computing layerwise relevances,\n",
    "call `analyze` with an LRP analyzer and the keyword argument\n",
    "`layerwise_relevances=true`.\n",
    "\n",
    "The layerwise relevances can be accessed in the `extras` field\n",
    "of the returned `Explanation`:"
   ],
   "metadata": {}
  },
  {
   "outputs": [
    {
     "output_type": "execute_result",
     "data": {
      "text/plain": "12-element Vector{Array{Float32}}:\n [-0.07580648 -0.0025950721 … 0.97768915 -0.2860697; -0.09138524 -0.043458026 … 0.321484 0.69353867; … ; -0.7507186 -1.091334 … -0.3270273 0.009739506; -0.04051595 -0.21606395 … 0.083900295 0.1819309;;; 0.07556589 0.0069672223 … -0.0015038247 -0.5452235; -0.009782139 0.019828854 … 0.7607348 -0.8543455; … ; -0.10683122 -0.033683266 … -0.13058482 -0.521727; 0.115392596 0.0826543 … -0.014022934 0.025658706;;; -0.26691276 0.10041063 … 0.8359216 0.4924462; 0.026187466 0.097162195 … -0.04315075 0.80675596; … ; -0.2479432 0.27331322 … 0.55016387 -0.00015570153; -0.018626925 0.03584828 … -0.13687198 0.12594768;;;;]\n [-0.04570253 -0.02841987 … 0.04485167 0.4404947; -0.0 0.14312291 … -0.11894592 0.40282387; … ; 0.0 0.2164924 … 0.040280335 -0.1175853; -0.0 0.02479314 … -0.27632552 -0.13530312;;; -0.06534273 -0.024968136 … 0.023927515 0.107557096; -0.17578638 -0.082794234 … 0.11516758 0.57107013; … ; 0.016135523 -0.17565645 … 0.21137218 0.15428472; -0.0 -0.0024261693 … 0.0 -0.030639412;;; 0.07082613 0.0 … 0.019412218 0.23317628; 0.06046652 0.021267315 … 0.0 0.17346026; … ; 0.0 -0.024681617 … 0.055958837 -0.038740974; 0.0018289125 0.048810206 … 0.00256073 -0.08838439;;; -0.0 0.0 … 0.0 0.11363714; -0.19990365 0.003920567 … 0.41907665 -0.11370061; … ; -0.0 0.006994065 … -0.0 0.1196314; 0.0 -0.0058054924 … 0.0 0.003651526;;; 0.0 0.020822654 … 0.10954852 0.05195318; 0.0 0.0 … -0.0 0.08670804; … ; 0.0 -0.0 … 0.0680772 -0.026973626; -0.0 0.0 … 0.0 0.0;;; -0.09763163 0.010897595 … -0.21829283 -0.35998854; -0.24417323 -0.12703387 … 0.48737404 0.4069475; … ; 0.017283943 0.05372219 … 0.03961139 -0.020179786; 0.10298132 0.055022817 … 0.049583107 0.0;;; -0.06710512 -0.02351626 … -0.24169827 0.4427758; -0.0 -0.038481403 … -0.30548647 0.5611328; … ; -0.06063237 0.025845014 … -0.05025141 -0.0; -0.052233376 0.14543575 … -0.37525493 0.057768952;;; -0.041596685 0.04553895 … -0.06561753 -0.006786941; 0.04189976 -0.08110155 … 0.6706836 -0.21422958; … ; -0.22017927 -0.32432237 … 0.026306665 0.009859021; 0.0011630325 0.0 … 0.0 0.0;;;;]\n [0.0 0.0 … 0.0 0.0; -0.16133824 0.0 … 0.8164872 0.0; … ; 0.0 0.0 … -0.6526475 0.0; 0.21586505 0.0 … 0.0 0.0;;; 0.0 0.0 … 1.7106292 0.0; 0.073409654 0.0 … 0.0 0.0; … ; 0.0 0.030621504 … 0.077346705 0.0; 0.0 0.0 … 0.0 0.0;;; 0.0 0.0 … 0.0 0.0; 0.0 0.13256705 … 0.0 0.32314613; … ; 0.0 0.0 … 0.38432702 0.0; 0.0 0.07383417 … 0.0 0.0;;; 0.0 0.0 … 0.0 0.0; 0.0 -0.04131192 … 0.0 -0.016896894; … ; 0.0 0.0 … 0.0 -0.07220058; 0.0 -0.04387578 … 0.0 0.0;;; 0.0 -0.19966975 … 0.0 0.0; 0.0 0.0 … -1.4395572 0.0; … ; 0.0 0.0 … 0.0 -0.12546197; 0.0 0.0 … 0.0 0.0;;; 0.0 0.0 … -1.3199602 0.0; -0.003937933 0.0 … 0.0 0.0; … ; 0.60117245 0.0 … 0.19756635 0.0; 0.0 0.0 … 0.0 0.0;;; 0.0 0.0018603418 … 1.6224787 0.0; 0.0 0.0 … 0.0 0.0; … ; 0.0 -0.054858174 … 0.0 -0.01769068; 0.0 0.0 … 0.0 0.0;;; 0.0 -0.22890231 … 0.0 0.32018828; 0.0 0.0 … 0.0 0.0; … ; 0.0 0.01682906 … 0.0 0.0; 0.0 0.0 … 0.0 -0.11747245;;;;]\n [-0.16133824 -0.07556001 … 0.042474605 0.8164872; -0.3577378 -1.1051116 … -1.4854841 0.7176444; … ; 1.1565862 0.9521885 … -0.14325012 -0.5919205; 0.21586505 -0.44389835 … -0.57344574 -0.6526475;;; 0.073409654 0.5450093 … 0.84134 1.7106292; -0.023780445 0.58669883 … -2.2818801 -1.7380749; … ; -0.41715106 0.94702804 … 0.36959803 0.37763909; 0.030621504 -0.041101635 … 0.12772067 0.077346705;;; 0.13256705 0.37478608 … 1.2993457 0.32314613; 0.2047738 0.57744735 … 1.5824564 1.1002146; … ; -0.6051309 -0.5780278 … -0.67897457 -0.19252303; 0.07383417 -0.10807664 … 0.6343452 0.38432702;;; -0.04131192 -0.13760515 … -0.616194 -0.016896894; 0.023623522 -0.2672539 … 0.21805397 1.4142367; … ; 0.6369627 -0.6989577 … -0.26002833 0.24090725; -0.04387578 0.003954948 … -0.04082092 -0.07220058;;; -0.19966975 -0.04833399 … 0.38686803 -1.4395572; -0.35839167 -0.2682133 … 0.15627313 0.31628278; … ; -0.0072176894 0.017689414 … -0.06025905 -0.24622072; -0.0 -0.0 … -0.07337778 -0.12546197;;; -0.003937933 -0.28292122 … -2.9053319 -1.3199602; -0.07274147 -0.82457465 … 3.9662714 -0.12133238; … ; -0.42095098 -0.12595214 … 1.1072954 -0.25758368; 0.60117245 -0.29586807 … -0.17285918 0.19756635;;; 0.0018603418 -0.17592773 … -1.459084 1.6224787; 0.043324433 0.48140547 … -0.47785342 -1.8162972; … ; -0.7167609 -0.34566826 … 1.0374364 -0.14264424; -0.054858174 -0.022752345 … -0.018175704 -0.01769068;;; -0.22890231 0.12322015 … -0.9623564 0.32018828; -0.04665767 -0.55204827 … -0.24074596 -0.10137255; … ; -0.5550891 0.6171277 … 0.45381692 -0.32232583; 0.01682906 0.004786755 … -0.026600767 -0.11747245;;;;]\n [0.0050335517 0.006729951 … 0.029206403 0.012379253; -0.0011459042 -0.00090461964 … -0.0008196931 0.00034058545; … ; -0.0010503299 0.007672651 … -0.01887457 0.061072275; -0.003006192 -0.00094977574 … -0.00018608959 -0.010507927;;; 4.3763062f-5 -0.043641243 … -0.06190287 -0.012210681; -0.103402264 -0.2114364 … -0.82406276 -0.0064603924; … ; -0.0145957405 -0.015404953 … -0.010474133 -0.0045519965; -0.074550346 0.03998546 … -0.09862366 -0.0073919217;;; 0.0080700675 0.00040412703 … 0.0009896379 0.002573946; -0.07896166 0.22018382 … 4.5277395 0.0027545008; … ; 0.24016719 0.7751952 … -0.14822711 0.0015392409; 0.39321038 0.14927593 … 0.32420868 0.008296702;;; … ;;; 0.0015114262 0.0068393843 … -0.0011201391 -0.007656758; -0.0032874704 0.0038166496 … 6.4415264 0.0035984993; … ; -0.004184689 -0.0026935192 … 0.0013817278 -0.32272854; -0.0031179376 0.0007786785 … 0.0019075575 0.106586814;;; 0.00075681775 0.00078659726 … 0.0015068087 -0.0003737684; -1.0840334f-5 -0.000113015034 … -0.00019848798 -0.00025851838; … ; -0.00028283012 -0.00031363033 … 0.0005685458 -0.0013823248; -0.0001416857 -0.00028184627 … -0.00023014769 -7.7264565f-5;;; -0.0051899427 -0.002723054 … -0.005050852 0.00012691646; -0.0006260497 -0.0131085245 … -0.05962521 0.0013366033; … ; 9.107818f-5 -0.00018040855 … 0.000121547986 0.04869578; -0.0003479598 -0.003390567 … 0.031242747 -0.012782633;;;;]\n [8.199553f-5 0.0022524332 … 0.011196109 0.006263063; 0.0 -0.00071133126 … -0.0 -0.001396655; … ; 0.0 0.0019204771 … -0.009621902 0.04580321; -0.00072804 -0.0 … -0.0 -0.013844596;;; -0.0 -0.0044890437 … -0.0131423315 0.004942638; -0.011888241 -0.08704942 … -0.28253397 0.05474377; … ; -0.018263016 -0.16785876 … 0.09510998 0.03973789; -0.006836597 0.008056083 … -0.02981685 0.007163142;;; -0.004121319 0.00039130697 … 0.00074382406 0.0027550922; -0.0072950996 0.0423967 … 0.16339844 -0.028376518; … ; 0.03836824 0.23310308 … -0.022180138 0.0; 0.02868964 0.031480193 … 0.037995093 0.0023616096;;; … ;;; -0.00040441964 -0.0067092613 … -0.01832178 -0.011231736; -0.0 0.022722663 … 0.16387364 -0.011764185; … ; 0.0 0.0 … 0.010418899 -0.18272795; 0.0 -0.0003257229 … 0.0059890402 0.034620028;;; -0.0 0.0 … 0.0 0.0; -0.0 -0.0 … -0.0 -0.0; … ; -0.0 0.0 … -0.0 -0.008286326; 0.0 -0.0 … 0.0 -0.0;;; -0.0 0.0 … 0.0 -0.0; -0.0 -0.018801948 … -0.087972306 0.0042396374; … ; 0.0 0.0 … -0.0 0.07112269; -0.0010876383 -0.0048119775 … 0.043987513 -0.016917417;;;;]\n [-0.0 -0.0 … -0.0 -0.0010697857; -0.0 -0.0 … -0.0 -0.0; … ; -0.0 -0.0 … -0.0 -0.0; -0.0 -0.0 … -0.0 -0.0;;; -0.0 -0.0 … -0.0 -0.0; -0.015579923 -0.0 … -0.0017327563 -0.0006206933; … ; -0.00029288093 -0.009638185 … -0.0053801173 -0.0; 0.045331053 -0.0023569588 … -0.0066349753 0.018110959;;; 0.0 0.0 … 0.0 0.0; 0.0 0.0 … 0.0 0.0; … ; 0.0 0.0 … 0.0 0.0; 0.0 0.0 … 0.0 0.0;;; 0.0 0.0014751996 … 0.0 0.0028250164; 0.0 -0.0027333447 … 0.0 0.0; … ; 0.0 0.0 … 0.0 0.0; 0.0 0.0004957845 … 0.0 1.1267668f-5;;; -0.00037687563 -0.001041829 … -0.0017585786 -0.0003855681; -0.0008967252 -0.0011781431 … -0.0011624959 -0.0010839598; … ; -0.00011439233 -0.00238718 … -0.0017402364 -0.053621825; -0.0 -0.0006542037 … 0.0023483562 -0.0045545213;;; 0.0 0.0 … 0.0076371026 0.031985946; 0.0 0.0 … 0.0 0.00989435; … ; 0.0014993675 0.008221677 … 0.0007155874 0.001851239; 0.00073754985 0.0073840325 … 0.0 0.0;;; -0.0 -0.0022123014 … -0.012068932 -0.024664782; -0.0 -0.0090219285 … -0.03818469 -0.115185164; … ; -0.011785187 -0.03456938 … -0.13265066 0.3199289; -0.0010055584 -0.011086614 … -0.036213666 -0.025169272;;; 0.0002362848 -0.0 … -0.0 -0.0012420417; -0.0 -0.0 … -0.0 -0.0; … ; -0.00018504741 -0.0015860383 … -0.0 -0.0; 0.003354669 0.0001830112 … -0.0 -0.0;;;;]\n [0.0 0.0 … 0.0 0.0007920211; 0.0 0.0 … 0.0 0.0; … ; 0.0 0.0 … 0.0 0.0; 0.0 0.0 … 0.0 0.0;;; 0.0 0.0 … 0.0 0.0; -0.0024756156 0.0 … 0.0034828195 -0.00023720862; … ; 5.984382f-5 -0.0012320179 … 0.009279432 0.0; 0.0022035602 -0.0014979399 … 0.0010586003 0.012294006;;; 0.0 0.0 … 0.0 0.0; 0.0 0.0 … 0.0 0.0; … ; 0.0 0.0 … 0.0 0.0; 0.0 0.0 … 0.0 0.0;;; 0.0 0.0009539901 … 0.0 2.5254674f-5; 0.0 -0.0026987616 … 0.0 0.0; … ; 0.0 0.0 … 0.0 0.0; 0.0 0.00027770307 … 0.0 7.781642f-5;;; -0.000101573525 0.0014866404 … 0.0055510844 -0.0008535642; -0.0031517316 0.00055832136 … -0.0027301635 0.0043104566; … ; -0.00018308539 -0.005581493 … 0.0029729507 -0.0150313405; 0.0 0.00044476555 … 0.0037355595 -0.00013855105;;; 0.0 0.0 … 0.0015996168 0.0034235101; 0.0 0.0 … 0.0 0.00019070972; … ; 0.00027716486 -0.0014603145 … -0.00018092654 -0.0012053363; -0.0029115716 0.0019463921 … 0.0 0.0;;; 0.0 -0.0004185333 … -0.004015597 0.008789909; 0.0 0.0017844934 … 0.0012015374 -0.015298334; … ; 0.003592948 0.0010710112 … -0.008955901 0.030281603; 5.054833f-6 0.0052610217 … 0.0002444156 -0.017117701;;; 0.000115685965 0.0 … 0.0 -0.0015707008; 0.0 0.0 … 0.0 0.0; … ; -0.00011299943 -0.0011840638 … 0.0 0.0; 0.0027573563 0.00010144128 … 0.0 0.0;;;;]\n [0.0; 0.0; … ; 0.0; 0.0;;]\n [0.02690366; 0.0; … ; -0.008918334; -0.0;;]\n [0.026903657; 0.0; … ; -0.008918334; -0.007843562;;]\n [0.0; 0.0; … ; 0.0; 0.0;;]"
     },
     "metadata": {},
     "execution_count": 9
    }
   ],
   "cell_type": "code",
   "source": [
    "input = rand(Float32, 32, 32, 3, 1) # dummy input for our convolutional neural network\n",
    "\n",
    "expl = analyze(input, analyzer; layerwise_relevances=true)\n",
    "expl.extras.layerwise_relevances"
   ],
   "metadata": {},
   "execution_count": 9
  },
  {
   "cell_type": "markdown",
   "source": [
    "Note that the layerwise relevances are only kept for layers in the outermost `Chain` of the model.\n",
    "When using our unflattened model, we only obtain three layerwise relevances,\n",
    "one for each chain in the model and the output relevance:"
   ],
   "metadata": {}
  },
  {
   "outputs": [
    {
     "output_type": "execute_result",
     "data": {
      "text/plain": "3-element Vector{Array{Float32}}:\n [0.2750725 0.00064664165 … -0.28899392 0.03692248; -0.040362455 -0.00037220112 … -0.5054151 -0.5339077; … ; -0.37226355 -0.32259902 … 0.373658 -0.04368532; -0.010391147 -0.21833049 … -0.015856722 -0.19409744;;; -0.021079237 -0.019027624 … -0.05500172 -0.07021334; -0.008057456 -0.02212938 … 0.57944876 0.04072019; … ; 0.024396492 -0.014354983 … 0.031924866 0.24452856; 0.098963335 -0.49938625 … 0.06593048 -0.041693144;;; 0.15466395 0.15488096 … 0.106925406 -0.06634142; -0.0031339556 -0.08094452 … -0.18928334 0.029980607; … ; 0.07512347 0.023309221 … -0.45515084 -0.00071278494; -0.026204761 -0.12524994 … 0.07562646 -0.11528954;;;;]\n [0.0 0.0 … 0.0 0.0063316487; 0.0 0.0 … 0.0 0.0; … ; 0.0 0.0 … 0.0 0.0; 0.0 0.0 … 0.0 0.0;;; 0.0 0.0 … 0.0 0.0; 0.0038527502 0.0 … 0.0010413068 -0.00023109045; … ; -0.0008897862 0.003034069 … 0.026898839 0.0; -0.00020266941 0.0024530864 … -0.0067600855 0.00014757732;;; 0.0 0.0 … 0.0 0.0; 0.0 0.0 … 0.0 0.0; … ; 0.0 0.0 … 0.0 0.0; 0.0 0.0 … 0.0 0.0;;; 0.0 -0.0025547133 … 0.0 0.002008039; 0.0 -1.4146441f-5 … 0.0 -0.00013231789; … ; 0.0 0.0 … 0.0 0.0; 0.0 -0.0011077531 … 0.0 0.00035884208;;; -0.0013294588 -0.00208814 … 0.0016148817 0.00014542139; -0.0010417472 -0.0007125465 … 0.0021098715 0.002061692; … ; 2.2931443f-5 0.0030377025 … 0.0050456934 0.008666635; 0.0 1.03742095f-5 … 0.010965243 -0.0067030666;;; 0.0 0.0 … 0.0014043004 -0.006801689; 0.0 0.0 … 0.0 -0.004383851; … ; 0.0002511352 0.0055764643 … 0.0 0.0; 0.0009297 0.000508968 … 0.0 0.0;;; 0.0 0.0 … -0.0028419984 -0.009297511; 0.0 -0.0030446448 … -0.009575371 -0.0050633107; … ; -0.0061946954 0.0066495743 … 0.027301017 -0.03128284; 0.0 0.0063673216 … 0.0013893181 0.008764653;;; 0.000106378466 0.0 … 0.0 0.0024000306; 0.0 0.0 … 0.0 0.0; … ; 0.0005964319 -0.004977989 … -0.0006832538 0.0; -0.00033598978 0.0026624482 … 0.0 0.0;;;;]\n [0.0; 0.0; … ; 0.0; 0.0;;]"
     },
     "metadata": {},
     "execution_count": 10
    }
   ],
   "cell_type": "code",
   "source": [
    "analyzer = LRP(model; flatten=false) # use unflattened model\n",
    "\n",
    "expl = analyze(input, analyzer; layerwise_relevances=true)\n",
    "expl.extras.layerwise_relevances"
   ],
   "metadata": {},
   "execution_count": 10
  },
  {
   "cell_type": "markdown",
   "source": [
    "## Performance tips\n",
    "### Using LRP without a GPU\n",
    "Since ExplainableAI.jl's LRP implementation makes use of\n",
    "[Tullio.jl](https://github.com/mcabbott/Tullio.jl),\n",
    "analysis can be accelerated by loading either\n",
    "- a package from the [JuliaGPU](https://juliagpu.org) ecosystem,\n",
    "  e.g. [CUDA.jl](https://github.com/JuliaGPU/CUDA.jl), if a GPU is available\n",
    "- [LoopVectorization.jl](https://github.com/JuliaSIMD/LoopVectorization.jl)\n",
    "  if only a CPU is available.\n",
    "\n",
    "This only requires loading the LoopVectorization.jl package before ExplainableAI.jl:\n",
    "```julia\n",
    "using LoopVectorization\n",
    "using ExplainableAI\n",
    "```\n",
    "\n",
    "[^1]: G. Montavon et al., [Layer-Wise Relevance Propagation: An Overview](https://link.springer.com/chapter/10.1007/978-3-030-28954-6_10)"
   ],
   "metadata": {}
  },
  {
   "cell_type": "markdown",
   "source": [
    "---\n",
    "\n",
    "*This notebook was generated using [Literate.jl](https://github.com/fredrikekre/Literate.jl).*"
   ],
   "metadata": {}
  }
 ],
 "nbformat_minor": 3,
 "metadata": {
  "language_info": {
   "file_extension": ".jl",
   "mimetype": "application/julia",
   "name": "julia",
   "version": "1.9.3"
  },
  "kernelspec": {
   "name": "julia-1.9",
   "display_name": "Julia 1.9.3",
   "language": "julia"
  }
 },
 "nbformat": 4
}
