{
 "cells": [
  {
   "cell_type": "markdown",
   "source": [
    "# Basic usage of LRP\n",
    "This example will show you best practices for using LRP,\n",
    "building on the basics shown in the *Getting started* section."
   ],
   "metadata": {}
  },
  {
   "cell_type": "markdown",
   "source": [
    "We start out by loading a small convolutional neural network:"
   ],
   "metadata": {}
  },
  {
   "outputs": [],
   "cell_type": "code",
   "source": [
    "using ExplainableAI\n",
    "using Flux\n",
    "\n",
    "model = Chain(\n",
    "    Chain(\n",
    "        Conv((3, 3), 3 => 8, relu; pad=1),\n",
    "        Conv((3, 3), 8 => 8, relu; pad=1),\n",
    "        MaxPool((2, 2)),\n",
    "        Conv((3, 3), 8 => 16; pad=1),\n",
    "        BatchNorm(16, relu),\n",
    "        Conv((3, 3), 16 => 8, relu; pad=1),\n",
    "        BatchNorm(8, relu),\n",
    "    ),\n",
    "    Chain(\n",
    "        Flux.flatten,\n",
    "        Dense(2048 => 512, relu),\n",
    "        Dropout(0.5),\n",
    "        Dense(512 => 100, softmax)\n",
    "    ),\n",
    ");"
   ],
   "metadata": {},
   "execution_count": 1
  },
  {
   "cell_type": "markdown",
   "source": [
    "This model contains two chains: the convolutional layers and the fully connected layers."
   ],
   "metadata": {}
  },
  {
   "cell_type": "markdown",
   "source": [
    "## Model preparation\n",
    "### Stripping the output softmax\n",
    "When using LRP, it is recommended to explain output logits instead of probabilities.\n",
    "This can be done by stripping the output softmax activation from the model\n",
    "using the `strip_softmax` function:"
   ],
   "metadata": {}
  },
  {
   "outputs": [
    {
     "output_type": "execute_result",
     "data": {
      "text/plain": "Chain(\n  Chain(\n    Conv((3, 3), 3 => 8, relu, pad=1),  \u001b[90m# 224 parameters\u001b[39m\n    Conv((3, 3), 8 => 8, relu, pad=1),  \u001b[90m# 584 parameters\u001b[39m\n    MaxPool((2, 2)),\n    Conv((3, 3), 8 => 16, pad=1),       \u001b[90m# 1_168 parameters\u001b[39m\n    BatchNorm(16, relu),                \u001b[90m# 32 parameters\u001b[39m\u001b[90m, plus 32\u001b[39m\n    Conv((3, 3), 16 => 8, relu, pad=1),  \u001b[90m# 1_160 parameters\u001b[39m\n    BatchNorm(8, relu),                 \u001b[90m# 16 parameters\u001b[39m\u001b[90m, plus 16\u001b[39m\n  ),\n  Chain(\n    Flux.flatten,\n    Dense(2048 => 512, relu),           \u001b[90m# 1_049_088 parameters\u001b[39m\n    Dropout(0.5),\n    Dense(512 => 100),                  \u001b[90m# 51_300 parameters\u001b[39m\n  ),\n) \u001b[90m        # Total: 16 trainable arrays, \u001b[39m1_103_572 parameters,\n\u001b[90m          # plus 4 non-trainable, 48 parameters, summarysize \u001b[39m4.213 MiB."
     },
     "metadata": {},
     "execution_count": 2
    }
   ],
   "cell_type": "code",
   "source": [
    "model = strip_softmax(model)"
   ],
   "metadata": {},
   "execution_count": 2
  },
  {
   "cell_type": "markdown",
   "source": [
    "If you don't remove the output softmax,\n",
    "model checks will fail."
   ],
   "metadata": {}
  },
  {
   "cell_type": "markdown",
   "source": [
    "### Canonizing the model\n",
    "LRP is not invariant to a model's implementation.\n",
    "Applying the `GammaRule` to two linear layers in a row will yield different results\n",
    "than first fusing the two layers into one linear layer and then applying the rule.\n",
    "This fusing is called \"canonization\" and can be done using the `canonize` function:"
   ],
   "metadata": {}
  },
  {
   "outputs": [
    {
     "output_type": "execute_result",
     "data": {
      "text/plain": "Chain(\n  Conv((3, 3), 3 => 8, relu, pad=1),    \u001b[90m# 224 parameters\u001b[39m\n  Conv((3, 3), 8 => 8, relu, pad=1),    \u001b[90m# 584 parameters\u001b[39m\n  MaxPool((2, 2)),\n  Conv((3, 3), 8 => 16, relu, pad=1),   \u001b[90m# 1_168 parameters\u001b[39m\n  Conv((3, 3), 16 => 8, relu, pad=1),   \u001b[90m# 1_160 parameters\u001b[39m\n  BatchNorm(8, relu),                   \u001b[90m# 16 parameters\u001b[39m\u001b[90m, plus 16\u001b[39m\n  Flux.flatten,\n  Dense(2048 => 512, relu),             \u001b[90m# 1_049_088 parameters\u001b[39m\n  Dropout(0.5),\n  Dense(512 => 100),                    \u001b[90m# 51_300 parameters\u001b[39m\n) \u001b[90m        # Total: 14 trainable arrays, \u001b[39m1_103_540 parameters,\n\u001b[90m          # plus 2 non-trainable, 16 parameters, summarysize \u001b[39m4.212 MiB."
     },
     "metadata": {},
     "execution_count": 3
    }
   ],
   "cell_type": "code",
   "source": [
    "model_canonized = canonize(model)"
   ],
   "metadata": {},
   "execution_count": 3
  },
  {
   "cell_type": "markdown",
   "source": [
    "After canonization, the first `BatchNorm` layer has been fused into the preceding `Conv` layer.\n",
    "The second `BatchNorm` layer wasn't fused\n",
    "since its preceding `Conv` layer has a ReLU activation function."
   ],
   "metadata": {}
  },
  {
   "cell_type": "markdown",
   "source": [
    "### Flattening the model\n",
    "ExplainableAI.jl's LRP implementation supports nested Flux Chains and Parallel layers.\n",
    "However, it is recommended to flatten the model before analyzing it.\n",
    "\n",
    "LRP is implemented by first running a forward pass through the model,\n",
    "keeping track of the intermediate activations, followed by a backward pass\n",
    "that computes the relevances.\n",
    "\n",
    "To keep the LRP implementation simple and maintainable,\n",
    "ExplainableAI.jl does not pre-compute \"nested\" activations.\n",
    "Instead, for every internal chain, a new forward pass is run to compute activations.\n",
    "\n",
    "By \"flattening\" a model, this overhead can be avoided.\n",
    "For this purpose, ExplainableAI.jl provides the function `flatten_model`:"
   ],
   "metadata": {}
  },
  {
   "outputs": [
    {
     "output_type": "execute_result",
     "data": {
      "text/plain": "Chain(\n  Conv((3, 3), 3 => 8, relu, pad=1),    \u001b[90m# 224 parameters\u001b[39m\n  Conv((3, 3), 8 => 8, relu, pad=1),    \u001b[90m# 584 parameters\u001b[39m\n  MaxPool((2, 2)),\n  Conv((3, 3), 8 => 16, pad=1),         \u001b[90m# 1_168 parameters\u001b[39m\n  BatchNorm(16, relu),                  \u001b[90m# 32 parameters\u001b[39m\u001b[90m, plus 32\u001b[39m\n  Conv((3, 3), 16 => 8, relu, pad=1),   \u001b[90m# 1_160 parameters\u001b[39m\n  BatchNorm(8, relu),                   \u001b[90m# 16 parameters\u001b[39m\u001b[90m, plus 16\u001b[39m\n  Flux.flatten,\n  Dense(2048 => 512, relu),             \u001b[90m# 1_049_088 parameters\u001b[39m\n  Dropout(0.5),\n  Dense(512 => 100),                    \u001b[90m# 51_300 parameters\u001b[39m\n) \u001b[90m        # Total: 16 trainable arrays, \u001b[39m1_103_572 parameters,\n\u001b[90m          # plus 4 non-trainable, 48 parameters, summarysize \u001b[39m4.212 MiB."
     },
     "metadata": {},
     "execution_count": 4
    }
   ],
   "cell_type": "code",
   "source": [
    "model_flat = flatten_model(model)"
   ],
   "metadata": {},
   "execution_count": 4
  },
  {
   "cell_type": "markdown",
   "source": [
    "This function is called by default when creating an LRP analyzer.\n",
    "Note that we pass the unflattened model to the analyzer, but `analyzer.model` is flattened:"
   ],
   "metadata": {}
  },
  {
   "outputs": [
    {
     "output_type": "execute_result",
     "data": {
      "text/plain": "Chain(\n  Conv((3, 3), 3 => 8, relu, pad=1),    \u001b[90m# 224 parameters\u001b[39m\n  Conv((3, 3), 8 => 8, relu, pad=1),    \u001b[90m# 584 parameters\u001b[39m\n  MaxPool((2, 2)),\n  Conv((3, 3), 8 => 16, pad=1),         \u001b[90m# 1_168 parameters\u001b[39m\n  BatchNorm(16, relu),                  \u001b[90m# 32 parameters\u001b[39m\u001b[90m, plus 32\u001b[39m\n  Conv((3, 3), 16 => 8, relu, pad=1),   \u001b[90m# 1_160 parameters\u001b[39m\n  BatchNorm(8, relu),                   \u001b[90m# 16 parameters\u001b[39m\u001b[90m, plus 16\u001b[39m\n  Flux.flatten,\n  Dense(2048 => 512, relu),             \u001b[90m# 1_049_088 parameters\u001b[39m\n  Dropout(0.5),\n  Dense(512 => 100),                    \u001b[90m# 51_300 parameters\u001b[39m\n) \u001b[90m        # Total: 16 trainable arrays, \u001b[39m1_103_572 parameters,\n\u001b[90m          # plus 4 non-trainable, 48 parameters, summarysize \u001b[39m4.212 MiB."
     },
     "metadata": {},
     "execution_count": 5
    }
   ],
   "cell_type": "code",
   "source": [
    "analyzer = LRP(model)\n",
    "analyzer.model"
   ],
   "metadata": {},
   "execution_count": 5
  },
  {
   "cell_type": "markdown",
   "source": [
    "If this flattening is not desired, it can be disabled\n",
    "by passing the keyword argument `flatten=false` to the `LRP` constructor."
   ],
   "metadata": {}
  },
  {
   "cell_type": "markdown",
   "source": [
    "## LRP rules\n",
    "By default, the `LRP` constructor will assign the `ZeroRule` to all layers."
   ],
   "metadata": {}
  },
  {
   "outputs": [
    {
     "output_type": "execute_result",
     "data": {
      "text/plain": "LRP(\n  Conv((3, 3), 3 => 8, relu, pad=1) \u001b[90m => \u001b[39m\u001b[33mZeroRule()\u001b[39m,\n  Conv((3, 3), 8 => 8, relu, pad=1) \u001b[90m => \u001b[39m\u001b[33mZeroRule()\u001b[39m,\n  MaxPool((2, 2))                   \u001b[90m => \u001b[39m\u001b[33mZeroRule()\u001b[39m,\n  Conv((3, 3), 8 => 16, pad=1)      \u001b[90m => \u001b[39m\u001b[33mZeroRule()\u001b[39m,\n  BatchNorm(16, relu)               \u001b[90m => \u001b[39m\u001b[33mZeroRule()\u001b[39m,\n  Conv((3, 3), 16 => 8, relu, pad=1)\u001b[90m => \u001b[39m\u001b[33mZeroRule()\u001b[39m,\n  BatchNorm(8, relu)                \u001b[90m => \u001b[39m\u001b[33mZeroRule()\u001b[39m,\n  Flux.flatten                      \u001b[90m => \u001b[39m\u001b[33mZeroRule()\u001b[39m,\n  Dense(2048 => 512, relu)          \u001b[90m => \u001b[39m\u001b[33mZeroRule()\u001b[39m,\n  Dropout(0.5)                      \u001b[90m => \u001b[39m\u001b[33mZeroRule()\u001b[39m,\n  Dense(512 => 100)                 \u001b[90m => \u001b[39m\u001b[33mZeroRule()\u001b[39m,\n)"
     },
     "metadata": {},
     "execution_count": 6
    }
   ],
   "cell_type": "code",
   "source": [
    "LRP(model)"
   ],
   "metadata": {},
   "execution_count": 6
  },
  {
   "cell_type": "markdown",
   "source": [
    "This analyzer will return heatmaps that look identical to `InputTimesGradient`."
   ],
   "metadata": {}
  },
  {
   "cell_type": "markdown",
   "source": [
    "LRP's strength lies in assigning different rules to different layers,\n",
    "based on their functionality in the neural network[^1].\n",
    "ExplainableAI.jl implements many LRP rules out of the box,\n",
    "but it is also possible to *implement custom rules*.\n",
    "\n",
    "To assign different rules to different layers,\n",
    "use one of the composites presets,\n",
    "or create your own composite, as described in\n",
    "*Assigning rules to layers*."
   ],
   "metadata": {}
  },
  {
   "outputs": [
    {
     "output_type": "execute_result",
     "data": {
      "text/plain": "Composite(\n  GlobalTypeMap(  \u001b[90m# all layers\u001b[39m\n\u001b[94m    Flux.Conv              \u001b[39m => \u001b[33mZPlusRule()\u001b[39m,\n\u001b[94m    Flux.ConvTranspose     \u001b[39m => \u001b[33mZPlusRule()\u001b[39m,\n\u001b[94m    Flux.CrossCor          \u001b[39m => \u001b[33mZPlusRule()\u001b[39m,\n\u001b[94m    Flux.Dense             \u001b[39m => \u001b[33mEpsilonRule{Float32}(1.0f-6)\u001b[39m,\n\u001b[94m    typeof(NNlib.dropout)  \u001b[39m => \u001b[33mPassRule()\u001b[39m,\n\u001b[94m    Flux.AlphaDropout      \u001b[39m => \u001b[33mPassRule()\u001b[39m,\n\u001b[94m    Flux.Dropout           \u001b[39m => \u001b[33mPassRule()\u001b[39m,\n\u001b[94m    Flux.BatchNorm         \u001b[39m => \u001b[33mPassRule()\u001b[39m,\n\u001b[94m    typeof(Flux.flatten)   \u001b[39m => \u001b[33mPassRule()\u001b[39m,\n\u001b[94m    typeof(MLUtils.flatten)\u001b[39m => \u001b[33mPassRule()\u001b[39m,\n\u001b[94m    typeof(identity)       \u001b[39m => \u001b[33mPassRule()\u001b[39m,\n ),\n  FirstLayerTypeMap(  \u001b[90m# first layer\u001b[39m\n\u001b[94m    Flux.Conv         \u001b[39m => \u001b[33mFlatRule()\u001b[39m,\n\u001b[94m    Flux.ConvTranspose\u001b[39m => \u001b[33mFlatRule()\u001b[39m,\n\u001b[94m    Flux.CrossCor     \u001b[39m => \u001b[33mFlatRule()\u001b[39m,\n ),\n)"
     },
     "metadata": {},
     "execution_count": 7
    }
   ],
   "cell_type": "code",
   "source": [
    "composite = EpsilonPlusFlat() # using composite preset EpsilonPlusFlat"
   ],
   "metadata": {},
   "execution_count": 7
  },
  {
   "outputs": [
    {
     "output_type": "execute_result",
     "data": {
      "text/plain": "LRP(\n  Conv((3, 3), 3 => 8, relu, pad=1) \u001b[90m => \u001b[39m\u001b[33mFlatRule()\u001b[39m,\n  Conv((3, 3), 8 => 8, relu, pad=1) \u001b[90m => \u001b[39m\u001b[33mZPlusRule()\u001b[39m,\n  MaxPool((2, 2))                   \u001b[90m => \u001b[39m\u001b[33mZeroRule()\u001b[39m,\n  Conv((3, 3), 8 => 16, pad=1)      \u001b[90m => \u001b[39m\u001b[33mZPlusRule()\u001b[39m,\n  BatchNorm(16, relu)               \u001b[90m => \u001b[39m\u001b[33mPassRule()\u001b[39m,\n  Conv((3, 3), 16 => 8, relu, pad=1)\u001b[90m => \u001b[39m\u001b[33mZPlusRule()\u001b[39m,\n  BatchNorm(8, relu)                \u001b[90m => \u001b[39m\u001b[33mPassRule()\u001b[39m,\n  Flux.flatten                      \u001b[90m => \u001b[39m\u001b[33mPassRule()\u001b[39m,\n  Dense(2048 => 512, relu)          \u001b[90m => \u001b[39m\u001b[33mEpsilonRule{Float32}(1.0f-6)\u001b[39m,\n  Dropout(0.5)                      \u001b[90m => \u001b[39m\u001b[33mPassRule()\u001b[39m,\n  Dense(512 => 100)                 \u001b[90m => \u001b[39m\u001b[33mEpsilonRule{Float32}(1.0f-6)\u001b[39m,\n)"
     },
     "metadata": {},
     "execution_count": 8
    }
   ],
   "cell_type": "code",
   "source": [
    "LRP(model, composite)"
   ],
   "metadata": {},
   "execution_count": 8
  },
  {
   "cell_type": "markdown",
   "source": [
    "## Computing layerwise relevances\n",
    "If you are interested in computing layerwise relevances,\n",
    "call `analyze` with an LRP analyzer and the keyword argument\n",
    "`layerwise_relevances=true`.\n",
    "\n",
    "The layerwise relevances can be accessed in the `extras` field\n",
    "of the returned `Explanation`:"
   ],
   "metadata": {}
  },
  {
   "outputs": [
    {
     "output_type": "execute_result",
     "data": {
      "text/plain": "(Float32[-0.06904446 0.062324222 … 0.23974918 0.040480576; 0.097829826 -0.23227182 … -0.008107178 0.016739061; … ; 0.098320805 -0.00033133622 … 0.18307203 -0.18361571; 0.013572376 0.055787787 … 0.036175642 -0.082585;;; -0.057460327 -0.0045927553 … -0.013302095 0.08163348; 0.021808436 -0.1705633 … -0.05874117 -0.06297068; … ; -0.116631754 0.04828656 … 0.00079231325 -0.3121015; 0.01822711 -0.20598193 … -0.40223026 0.028509952;;; 0.120650485 -0.03797101 … -0.008172952 0.0043896907; -0.06394442 0.032220513 … -0.007442518 0.08220312; … ; 0.07806999 -0.2522321 … 0.04136843 -0.07183615; -0.044345547 -0.116149366 … 0.24778624 0.01323942;;;;], Float32[0.0 -0.0 … -0.0 -0.0; -0.0 0.0 … -0.0 -0.0; … ; 0.0 -0.0 … -0.0 0.0; 0.0 0.0 … 0.0 -0.0;;; 0.0 0.0 … 0.0 -0.0; -0.0 -0.0 … 0.0 0.0; … ; 0.0 -0.0 … -0.0 0.0; 0.0076046553 -0.048222404 … 0.03850237 -0.03310763;;; 0.09797668 -0.058086105 … 0.003752966 0.0; -0.177207 -0.060394015 … 0.17423709 0.09553167; … ; 0.03715952 -0.31833154 … -0.09100768 -0.0; 0.012735575 0.1348035 … -0.09314354 -0.09667561;;; -0.0008397515 0.0 … 0.019505912 0.0; 0.09840099 -0.0 … 0.0 -0.0; … ; 0.0 0.0 … 0.0 -0.0; -0.0 0.0 … 0.0 -0.0;;; -0.031210171 0.04113041 … -0.059749637 -0.0; 0.01195192 -0.282804 … -0.027471593 0.070921764; … ; -0.059743326 -0.0036261536 … -0.2732191 0.053654246; 0.0056967493 -0.13156937 … -0.010979213 0.10927115;;; 0.00019673233 -0.105390124 … -0.004116873 0.004686308; -0.0 -0.053574312 … -0.21400425 -0.018666435; … ; -0.039605122 -0.046559006 … 0.058743734 -0.1012314; 0.0 -0.05744173 … 0.01131257 0.047655728;;; -0.07124508 0.03778843 … 0.034328107 -0.0; 0.018230688 0.006400088 … -0.02369826 -0.0; … ; 0.011378768 0.023134448 … 0.01821462 0.0; -0.08910754 0.016352478 … -0.0005337536 0.0;;; 0.1531064 0.34347802 … 0.25920147 0.019332066; -0.017646635 -0.006153014 … -0.056314904 -0.0; … ; 0.004077612 -0.06299622 … -0.7327107 0.011704405; -0.005448302 0.029475976 … -0.0016475812 -0.0;;;;], Float32[0.0 0.0 … 0.01783047 0.0; 0.0 0.0 … 0.0 0.0; … ; 0.0 0.0 … 0.0 0.0; 0.0 0.0 … 0.0 0.0;;; 0.0 0.0 … 0.0 0.0; 0.2125253 0.0 … 0.0368135 0.0; … ; 0.0 -0.25263724 … 0.0 0.0; 0.0 0.0 … -0.3513763 0.0;;; -0.118152715 0.0 … -0.12854858 0.0; 0.0 0.0 … 0.0 0.0; … ; -0.105093755 0.0 … 0.0 0.0; 0.0 0.0 … -0.04909423 0.0;;; 0.0 0.0 … 0.0 0.0; 0.0 0.015484844 … 0.0 0.021351233; … ; -0.0039054966 0.0 … 0.0 0.0; 0.0 0.0 … 0.0 -0.07402186;;; 0.0 0.0 … 0.0 0.0; 0.0 0.0 … 0.0 0.081957154; … ; 0.0 0.0 … 0.0 0.0; 0.0 0.0 … -0.11378655 0.0;;; 0.0 0.0 … 0.0 -0.072012335; 0.0 0.0 … 0.0 0.0; … ; 0.0 0.0 … 0.027931472 0.0; -0.000564988 0.0 … 0.0 0.0;;; 0.0 0.0 … 0.0 0.0; 0.001472458 0.0 … 0.0 0.0; … ; 0.0 0.0 … 0.0 0.0; 0.0 0.0 … 0.0 0.0;;; 0.0 0.0 … 0.005326002 0.0; 0.12421364 0.0 … 0.0 0.0; … ; 0.15990406 0.0 … -0.21439719 0.0; 0.0 0.0 … 0.0 0.0;;;;], Float32[0.0 0.0 … 0.0 0.01783047; -0.042913068 -0.0 … 0.020589957 0.16876644; … ; -0.06103301 0.0 … 0.0 0.09421764; -0.0 -0.0 … -0.0 -0.0;;; 0.2125253 0.25671262 … -0.21485427 0.0368135; -0.066377 0.49952644 … 0.0040288568 0.04032032; … ; -0.040374044 0.16574422 … -0.5259363 0.009610634; -0.25263724 -0.17297056 … -0.3536793 -0.3513763;;; -0.118152715 -0.30957094 … -0.052214753 -0.12854858; -0.07106349 -0.7153921 … -0.13757682 0.15519562; … ; 0.46606314 0.06911885 … 0.0092180045 0.23118743; -0.105093755 -0.21860518 … -0.060233716 -0.04909423;;; 0.015484844 0.0 … 0.11928279 0.021351233; -0.073801816 0.0 … -0.0 0.0; … ; -0.0801436 0.0 … 0.051619202 -0.053116173; -0.0039054966 -0.05574755 … 0.15630056 -0.07402186;;; 0.0 -0.0 … -0.0 0.081957154; 0.07154802 -0.0 … -0.016786072 -0.10767778; … ; 0.12429953 0.04089495 … 0.1306905 -0.24851522; 0.0 -0.07598416 … 0.10302566 -0.11378655;;; -0.0 -0.049734913 … -0.0006529927 -0.072012335; 0.024360599 0.0 … -0.0 0.077791885; … ; 0.0 -0.029354054 … 0.07197493 0.09194046; -0.00056498806 0.0 … 0.0 0.027931472;;; 0.0014724581 0.0 … 0.0 0.0; 0.03403401 0.0 … -0.0 0.0; … ; 0.0 0.0 … 0.0 -0.0; -0.0 0.0 … 0.0 -0.0;;; 0.12421364 -0.18371785 … -0.07074333 0.005326002; -0.82888484 -0.6067634 … -0.14563896 0.011786787; … ; -0.19345956 0.0794581 … -0.2675233 0.13378051; 0.15990406 -0.035544496 … -0.17664738 -0.21439719;;;;], Float32[-2.406542f-5 -1.0771679f-5 … 2.4441097f-5 -6.2683075f-6; -1.4051919f-5 0.00030927383 … -9.147728f-6 -1.070985f-5; … ; -1.8957342f-5 2.8046306f-5 … -1.8532948f-5 2.2209701f-6; -2.6405784f-5 5.139109f-5 … 2.411322f-5 -2.5694659f-5;;; -0.0047233207 -0.0024813658 … -0.0073307646 -0.0009418681; -0.0030916438 0.1658873 … 0.039620295 -0.049376376; … ; 0.0008559434 -0.07217277 … -0.11857941 -0.015674824; -0.009926712 -0.037995238 … -0.11826851 -0.01614248;;; -0.19715816 -0.44744805 … -0.40707824 -0.30359283; -0.30996722 -0.4295469 … 0.7290477 -0.108081885; … ; -0.2783846 -0.26561654 … -0.20464899 -0.110855184; -0.13487908 -0.17792211 … -0.13343488 -0.16515663;;; … ;;; -0.0005099899 0.0016871232 … -0.00718997 -0.015938895; -0.00059437775 -0.00020479463 … 0.004681044 -0.0083077; … ; -0.01356055 0.0033434636 … -0.00059459294 0.03149336; 0.009204541 0.020297699 … -0.0046443804 0.029368998;;; -0.0023618445 -6.739389f-5 … -7.42436f-5 -6.9846465f-5; -7.320635f-5 3.328899f-6 … -7.492067f-5 4.356503f-5; … ; -1.2912697f-5 2.243819f-5 … 2.3875655f-5 -2.5821748f-6; -6.4621534f-5 0.00010474546 … -4.798318f-5 -7.1539f-5;;; -0.02438512 0.0084147 … 0.037643388 -0.015934948; 0.6530632 -0.069900826 … -0.07013182 -0.04640613; … ; 0.90728277 -0.08647438 … 2.6109152 -0.07447344; -0.034301385 -0.034680244 … -0.061577015 -0.0032637343;;;;], Float32[0.0 0.0 … 0.0 0.0; -0.0 -0.0 … 0.0 -0.0; … ; -0.0 0.0 … 0.0 0.00012215835; -0.0 0.0 … 0.0 0.0;;; 0.0 0.00043005214 … 0.00818804 0.0007252971; -0.0 0.048110798 … 0.013806732 -0.00048951444; … ; -0.0 0.007972813 … -0.018504877 0.0127005745; -0.006132812 0.0008877258 … -0.012369978 -0.0052124728;;; -0.015766667 0.0020156906 … 0.012735826 -0.01981934; -0.011146499 0.08859893 … 0.0688905 -0.013882047; … ; 0.0005712695 0.031740174 … 0.02449526 0.011809602; -0.008034449 0.008651791 … -0.03643312 0.021973116;;; … ;;; -0.0022698988 0.00014516339 … -0.0041076113 -0.015841575; -0.0025796322 0.0018889662 … 0.002328342 -0.006158528; … ; -0.019258121 0.0 … -0.005327782 0.01292391; 0.0048007 0.011384351 … -0.0042308667 0.018260982;;; -0.01079859 -0.0 … 0.0 -0.0; -0.0 -0.0 … -0.0 -0.0; … ; -0.0 -0.0 … -0.0 -0.0; -0.0 -0.0 … -0.0 -0.0;;; -0.004033397 0.0 … 0.0 -0.0014582223; 0.04808876 0.0025104817 … 0.012609028 0.004672092; … ; 0.009718291 0.017641142 … 0.04923627 -0.027700406; 0.013578575 0.0042071333 … 0.031863008 0.0011386164;;;;], Float32[-0.0005679329 -0.00038530826 … 0.0 0.0; 0.0 0.0 … 0.0 0.0; … ; 0.0 0.0 … 0.0 0.0; 0.0 0.0 … 0.0 0.0;;; -0.0 -0.0003944527 … -0.002046033 -0.00021185746; -0.00016017097 -0.011443517 … -0.006158863 -0.0020861712; … ; -0.008837306 0.18772897 … -0.011134103 -0.0023919547; -0.0017224286 -0.017237013 … -0.0066998797 -0.0019031006;;; 0.0 0.001344546 … 0.00743717 0.0; 0.037040584 0.0 … 0.004770633 0.0032898823; … ; 0.008653991 0.017232444 … 0.018817274 0.0038117473; 0.036551323 0.0029795298 … 0.08181168 0.0;;; 0.0 0.0 … 0.0 0.0; 0.0 0.0 … 1.2262467f-5 0.0025893697; … ; 1.2334628f-5 0.0069493204 … 0.0040601166 0.0; 0.0037458728 0.012747298 … 0.0010361782 1.1632162f-5;;; 0.0032744505 2.2940483f-7 … 0.0 0.0; 0.0 0.0 … 0.0 0.0; … ; 0.0 0.0 … 0.0 0.0; 0.0 0.0 … 0.0 0.0;;; 0.0 -0.0032131267 … -0.003109136 0.0018237027; 0.0 0.0 … -0.001738564 -0.007043725; … ; 0.0 0.0 … 0.0 -0.0014306116; 0.0 0.0 … 0.0 0.0;;; 0.059236508 -0.08553562 … -0.08900557 -0.0; -0.0022230113 0.002537477 … 0.020186123 -0.0; … ; 0.039067913 -0.035088968 … -0.0026696825 -0.00061455206; -0.00020819594 -0.0 … -8.394728f-5 -0.0006508957;;; 0.0 -0.00301864 … 0.0017530541 0.0019820202; 0.0 0.0 … 0.0 0.0; … ; 0.0 0.0 … 0.0 0.0; 0.0 0.0 … 0.0 0.0;;;;], Float32[-0.0026669505 -0.0003601716 … -0.0 -0.0; 0.0 -0.0 … -0.0 0.0; … ; 0.0 0.0 … -0.0 0.0; -0.0 0.0 … -0.0 0.0;;; -0.0 0.0007694367 … 0.0025957809 -0.0012761311; -0.0004573391 0.013125507 … -0.0039751437 -0.0018176334; … ; -0.0027086735 0.030421939 … -0.0015343429 -0.0012403833; -0.003544645 -0.0033838677 … 0.007812787 -0.0024754545;;; -0.0 0.00017268748 … 0.00030522107 0.0; 0.008006316 0.0 … -0.0014376856 -3.141689f-5; … ; -0.00028593154 0.00056094484 … 0.00076193863 -0.0015509663; 0.0063139787 -0.0004968155 … 0.0067380755 0.0;;; 0.0 -0.0 … 0.0 0.0; 0.0 -0.0 … -0.0002523284 0.0028801293; … ; -0.0015195457 0.005910587 … 0.0037058422 0.0; 0.00228835 0.01007403 … 0.0006642281 0.00035900233;;; 0.0011586199 -6.4790847f-6 … -0.0 -0.0; 0.0 -0.0 … -0.0 -0.0; … ; -0.0 0.0 … 0.0 -0.0; -0.0 -0.0 … 0.0 0.0;;; 0.0 -0.0010051563 … -0.003811571 8.62814f-5; -0.0 0.0 … -0.0015028042 -0.0088055525; … ; -0.0 0.0 … 0.0 -0.0016576815; 0.0 -0.0 … 0.0 -0.0;;; 0.019057244 -0.012480923 … -0.0067114374 -0.0; 0.009415031 0.0033542837 … 0.003525412 -0.0; … ; 0.0035331845 -0.0132096885 … 0.0059951544 -0.0024791358; 0.0006501948 0.0 … 0.00029309423 -0.0013669918;;; -0.0 -0.0031690302 … 0.001519843 0.0009304823; -0.0 0.0 … 0.0 -0.0; … ; -0.0 -0.0 … 0.0 -0.0; 0.0 -0.0 … 0.0 -0.0;;;;], Float32[-0.0026669505; 0.0; … ; -0.0; -0.0;;], Float32[-0.0022059272; -0.0; … ; 0.0; 0.0;;], Float32[-0.0022059272; -0.0; … ; 0.0; 0.0;;], Float32[0.0; 0.0; … ; 0.0; 0.0;;])"
     },
     "metadata": {},
     "execution_count": 9
    }
   ],
   "cell_type": "code",
   "source": [
    "input = rand(Float32, 32, 32, 3, 1) # dummy input for our convolutional neural network\n",
    "\n",
    "expl = analyze(input, analyzer; layerwise_relevances=true)\n",
    "expl.extras.layerwise_relevances"
   ],
   "metadata": {},
   "execution_count": 9
  },
  {
   "cell_type": "markdown",
   "source": [
    "Note that the layerwise relevances are only kept for layers in the outermost `Chain` of the model.\n",
    "When using our unflattened model, we only obtain three layerwise relevances,\n",
    "one for each chain in the model and the output relevance:"
   ],
   "metadata": {}
  },
  {
   "outputs": [
    {
     "output_type": "execute_result",
     "data": {
      "text/plain": "(Float32[-0.06781849 -0.020336764 … 3.390784 0.35990816; 0.17752758 0.6392769 … 1.0053054 -0.0065124976; … ; -0.06991738 0.011910913 … 0.033386946 -0.10272595; -0.01669785 -0.030703511 … 0.007425216 -0.053181853;;; -0.025143396 -0.14052463 … 0.83962125 0.4550528; -0.09470041 0.29502356 … 0.3704248 -0.6550543; … ; 0.20523131 -0.1549962 … -0.011432474 -0.067486286; 0.024933942 -0.118179694 … -0.037540536 0.024286274;;; 0.027796995 0.15182896 … -0.10041769 -0.58178645; 0.4910404 -0.051797643 … -1.9078524 0.8480595; … ; 0.059257913 0.20091236 … -0.006671081 -0.08536317; -0.107850775 0.09834443 … 0.07064858 -0.032823432;;;;], Float32[-0.0014409005 -0.0028777774 … -0.0 -0.0; 0.0 -0.0 … -0.0 0.0; … ; 0.0 0.0 … -0.0 0.0; -0.0 0.0 … 0.0 0.0;;; -0.0 0.0 … 0.002921722 -0.0; -0.0 0.009110186 … -0.003172157 -0.00015584017; … ; -0.0007676654 0.027981011 … -0.00560544 -0.0012203247; -0.0013019715 -0.0059262807 … 0.0043611084 -0.0018245523;;; -0.0 0.0 … 0.00036502403 0.0; 0.0054713236 -0.0 … -0.0010097749 8.8500514f-5; … ; -0.0010030068 0.0005018692 … 0.0021562786 -0.00096080627; 0.005410325 -0.00023141311 … 0.0068441206 0.0;;; -0.0 -0.0 … -0.0 0.0; 0.0 -0.0 … -4.045091f-5 0.0032385467; … ; -0.0017829669 0.006251712 … 0.0048884363 0.0; 0.0020090062 0.009402583 … 0.0005509851 0.0;;; 0.0017020578 -4.529019f-5 … -0.0 -0.0; 0.0 -0.0 … 0.0 -0.0; … ; -0.0 -0.0 … 0.0 -0.0; -0.0 -0.0 … 0.0 0.0;;; 0.0 -0.00032260115 … -0.0059753675 0.0027049442; -0.0 0.0 … -0.002313322 -0.010523128; … ; -0.0 0.0 … 0.0 -0.0008124592; 0.0 -0.0 … 0.0 -0.0;;; 0.018205667 -0.013036308 … -0.0065107183 -0.0; 0.009239362 0.006395515 … 0.0010223092 -0.0; … ; 0.0056109475 -0.014278197 … 0.0012169392 -0.002069566; 0.0001448422 0.0 … 0.0 -0.00085046754;;; -0.0 -0.003489132 … 0.003092979 0.0023443282; -0.0 0.0 … -0.0 -0.0; … ; -0.0 -0.0 … 0.0 -0.0; 0.0 -0.0 … 0.0 -2.4796127f-5;;;;], Float32[0.0; 0.0; … ; 0.0; 0.0;;])"
     },
     "metadata": {},
     "execution_count": 10
    }
   ],
   "cell_type": "code",
   "source": [
    "analyzer = LRP(model; flatten=false) # use unflattened model\n",
    "\n",
    "expl = analyze(input, analyzer; layerwise_relevances=true)\n",
    "expl.extras.layerwise_relevances"
   ],
   "metadata": {},
   "execution_count": 10
  },
  {
   "cell_type": "markdown",
   "source": [
    "## Performance tips\n",
    "### Using LRP with a GPU\n",
    "Like all other analyzers, LRP can be used on GPUs.\n",
    "Follow the instructions on *GPU support*.\n",
    "\n",
    "### Using LRP without a GPU\n",
    "Using Julia's package extension mechanism,\n",
    "ExplainableAI.jl's LRP implementation can optionally make use of\n",
    "[Tullio.jl](https://github.com/mcabbott/Tullio.jl) and\n",
    "[LoopVectorization.jl](https://github.com/JuliaSIMD/LoopVectorization.jl)\n",
    "for faster LRP rules on dense layers.\n",
    "\n",
    "This only requires loading the packages before loading ExplainableAI.jl:\n",
    "```julia\n",
    "using LoopVectorization, Tullio\n",
    "using ExplainableAI\n",
    "```\n",
    "\n",
    "[^1]: G. Montavon et al., [Layer-Wise Relevance Propagation: An Overview](https://link.springer.com/chapter/10.1007/978-3-030-28954-6_10)"
   ],
   "metadata": {}
  },
  {
   "cell_type": "markdown",
   "source": [
    "---\n",
    "\n",
    "*This notebook was generated using [Literate.jl](https://github.com/fredrikekre/Literate.jl).*"
   ],
   "metadata": {}
  }
 ],
 "nbformat_minor": 3,
 "metadata": {
  "language_info": {
   "file_extension": ".jl",
   "mimetype": "application/julia",
   "name": "julia",
   "version": "1.10.0"
  },
  "kernelspec": {
   "name": "julia-1.10",
   "display_name": "Julia 1.10.0",
   "language": "julia"
  }
 },
 "nbformat": 4
}
