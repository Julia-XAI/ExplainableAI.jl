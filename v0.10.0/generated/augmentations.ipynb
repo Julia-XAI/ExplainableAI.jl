{
 "cells": [
  {
   "cell_type": "markdown",
   "source": [
    "# Analyzer augmentations\n",
    "All analyzers implemented in ExplainableAI.jl can be augmented by two types of augmentations:\n",
    "`NoiseAugmentation`s and `InterpolationAugmentation`s.\n",
    "These augmentations are wrappers around analyzers\n",
    "that modify the input before passing it to the analyzer.\n",
    "\n",
    "We build on the basics shown in the *Getting started* section\n",
    "and start out by loading the same pre-trained LeNet5 model and MNIST input data:"
   ],
   "metadata": {}
  },
  {
   "outputs": [
    {
     "output_type": "execute_result",
     "data": {
      "text/plain": "Chain(\n  Conv((5, 5), 1 => 6, relu),           \u001b[90m# 156 parameters\u001b[39m\n  MaxPool((2, 2)),\n  Conv((5, 5), 6 => 16, relu),          \u001b[90m# 2_416 parameters\u001b[39m\n  MaxPool((2, 2)),\n  Flux.flatten,\n  Dense(256 => 120, relu),              \u001b[90m# 30_840 parameters\u001b[39m\n  Dense(120 => 84, relu),               \u001b[90m# 10_164 parameters\u001b[39m\n  Dense(84 => 10),                      \u001b[90m# 850 parameters\u001b[39m\n) \u001b[90m                  # Total: 10 arrays, \u001b[39m44_426 parameters, 174.344 KiB."
     },
     "metadata": {},
     "execution_count": 1
    }
   ],
   "cell_type": "code",
   "source": [
    "using ExplainableAI\n",
    "using VisionHeatmaps\n",
    "using Zygote\n",
    "using Flux\n",
    "\n",
    "using BSON # hide\n",
    "model = BSON.load(\"../model.bson\", @__MODULE__)[:model] # hide\n",
    "model"
   ],
   "metadata": {},
   "execution_count": 1
  },
  {
   "outputs": [
    {
     "output_type": "execute_result",
     "data": {
      "text/plain": "28×28 reinterpret(reshape, ColorTypes.Gray{Float32}, ::Matrix{Float32}) with eltype ColorTypes.Gray{Float32}:\n 0.0  0.0  0.0  0.0  0.0  0.0  0.0  …  0.0        0.0  0.0  0.0  0.0  0.0\n 0.0  0.0  0.0  0.0  0.0  0.0  0.0     0.0        0.0  0.0  0.0  0.0  0.0\n 0.0  0.0  0.0  0.0  0.0  0.0  0.0     0.0        0.0  0.0  0.0  0.0  0.0\n 0.0  0.0  0.0  0.0  0.0  0.0  0.0     0.0        0.0  0.0  0.0  0.0  0.0\n 0.0  0.0  0.0  0.0  0.0  0.0  0.0     0.0        0.0  0.0  0.0  0.0  0.0\n 0.0  0.0  0.0  0.0  0.0  0.0  0.0  …  0.0        0.0  0.0  0.0  0.0  0.0\n 0.0  0.0  0.0  0.0  0.0  0.0  0.0     0.0        0.0  0.0  0.0  0.0  0.0\n 0.0  0.0  0.0  0.0  0.0  0.0  0.0     0.0        0.0  0.0  0.0  0.0  0.0\n 0.0  0.0  0.0  0.0  0.0  0.0  0.0     0.0235294  0.0  0.0  0.0  0.0  0.0\n 0.0  0.0  0.0  0.0  0.0  0.0  0.0     0.407843   0.0  0.0  0.0  0.0  0.0\n ⋮                        ⋮         ⋱                       ⋮         \n 0.0  0.0  0.0  0.0  0.0  0.0  0.0     0.0        0.0  0.0  0.0  0.0  0.0\n 0.0  0.0  0.0  0.0  0.0  0.0  0.0  …  0.0        0.0  0.0  0.0  0.0  0.0\n 0.0  0.0  0.0  0.0  0.0  0.0  0.0     0.0        0.0  0.0  0.0  0.0  0.0\n 0.0  0.0  0.0  0.0  0.0  0.0  0.0     0.0        0.0  0.0  0.0  0.0  0.0\n 0.0  0.0  0.0  0.0  0.0  0.0  0.0     0.0        0.0  0.0  0.0  0.0  0.0\n 0.0  0.0  0.0  0.0  0.0  0.0  0.0     0.0        0.0  0.0  0.0  0.0  0.0\n 0.0  0.0  0.0  0.0  0.0  0.0  0.0  …  0.0        0.0  0.0  0.0  0.0  0.0\n 0.0  0.0  0.0  0.0  0.0  0.0  0.0     0.0        0.0  0.0  0.0  0.0  0.0\n 0.0  0.0  0.0  0.0  0.0  0.0  0.0     0.0        0.0  0.0  0.0  0.0  0.0",
      "image/png": "[encoded data removed]",
      "text/html": [
       "<img src=\"data:image/png;base64,iVBORw0KGgoAAAANSUhEUgAAAHAAAABwCAAAAADji6uXAAAAAXNSR0IArs4c6QAAAARnQU1BAACxjwv8YQUAAAAgY0hSTQAAeiYAAICEAAD6AAAAgOgAAHUwAADqYAAAOpgAABdwnLpRPAAAAjhJREFUaAW9wb2L1gUAB/DPcd+oQaPswCGqpSGHXqYTapGgJSg4CeoPcEiECqFDpCGwTdIQImuIsGiTtmjJgl6GoKEiIhqCoMQsOOhFy85r+A3H8fTo73mM7+cTZVEWZVEWZVEWZVEWZVEWZVEWZVEWZVEWZVEWZVEWZVEWZVEWZVEWZVEWc7gTS1jBHlzGSXyK71xZlEVZlMUM7sYB7MWSrXbjH3yLj/E0/jYpyqIsymKEe3AAj+NGgx/xEb7HKj7HMnbgYXyBkyZFWZRFWVzFq1jBksH7+AqHcdHgfuzH67gP5/AyTuO8raIsyqIsprgBq9iHBZzHKziKP2x1CxbxPN7DHaaLsiiLsphiD57FAn7CXnxmq0XchlN4FzcbLOBNrJkUZVEWZTHFItYNLmE3HsNdBhewC7vwC3badA4v4JJJURZlURZTnMEHeAi34wQ2DNaxaNNOg8t4B0/hrP8WZVEWZTHFBazgJhzCA/gVP+B63ItlW72Gw1gzXZRFWZTFVazhkEmnsGzwGw7iDay7siiLsiiLOaziCZv2423jRFmURVnMaB+eQwy+xmnjRVmURVnMYBkvYpvB73gSfxkvyqIsymIGj2C7wZ94FJ+YTZRFWZTFSNuxatNb+NDsoizKoixG2IZvcJ3Bl3jGfKIsyqIsRngQt2LD4CAumk+URVmUxQhHsGFwFGfML8qiLMpihB1YwM94ybWJsiiLshjhGI7hCM66NlEWZVEWIxzHcf+PKIuyKPsXNwdYfgiRxs8AAAAASUVORK5C\">"
      ]
     },
     "metadata": {},
     "execution_count": 2
    }
   ],
   "cell_type": "code",
   "source": [
    "using MLDatasets\n",
    "using ImageCore, ImageIO, ImageShow\n",
    "\n",
    "index = 10\n",
    "x, y = MNIST(Float32, :test)[10]\n",
    "input = reshape(x, 28, 28, 1, :)\n",
    "\n",
    "convert2image(MNIST, x)"
   ],
   "metadata": {},
   "execution_count": 2
  },
  {
   "cell_type": "markdown",
   "source": [
    "## Noise augmentation\n",
    "The `NoiseAugmentation` wrapper computes explanations averaged over noisy inputs.\n",
    "Let's demonstrate this on the `Gradient` analyzer.\n",
    "First, we compute the heatmap of an explanation without augmentation:"
   ],
   "metadata": {}
  },
  {
   "outputs": [
    {
     "output_type": "execute_result",
     "data": {
      "text/plain": "1-element Vector{Matrix{ColorTypes.RGB{Float64}}}:\n [RGB(0.542044692993164, 0.5190736373901367, 0.18255157775878905) RGB(0.5405419067382813, 0.5186877868652343, 0.18299835205078127) … RGB(0.5501000518798829, 0.5211419052124023, 0.18022431030273436) RGB(0.5480906158447265, 0.5206259689331054, 0.18076740112304687); RGB(0.5577551651000977, 0.5230979751586914, 0.1782020248413086) RGB(0.5673554992675781, 0.5255300598144531, 0.17589942016601562) … RGB(0.550458218383789, 0.5212338668823242, 0.18012750854492188) RGB(0.5480906158447265, 0.5206259689331054, 0.18076740112304687); … ; RGB(0.5540689025878907, 0.5221609344482422, 0.17915164794921876) RGB(0.5669629669189453, 0.5254306182861328, 0.17598839416503906) … RGB(0.5511143676757813, 0.5214023376464844, 0.1799501708984375) RGB(0.5480906158447265, 0.5206259689331054, 0.18076740112304687); RGB(0.5480906158447265, 0.5206259689331054, 0.18076740112304687) RGB(0.5480906158447265, 0.5206259689331054, 0.18076740112304687) … RGB(0.5480906158447265, 0.5206259689331054, 0.18076740112304687) RGB(0.5480906158447265, 0.5206259689331054, 0.18076740112304687)]",
      "text/html": [
       "<table><tbody><tr><td style='text-align:center;vertical-align:middle; margin: 0.5em;border:1px #90999f solid;border-collapse:collapse'><img style='max-width: 100px; max-height:100px;display:inline' src=\"data:image/png;base64,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\"></td></tr></tbody></table><div><small>(a vector displayed as a row to save space)</small></div>"
      ]
     },
     "metadata": {},
     "execution_count": 3
    }
   ],
   "cell_type": "code",
   "source": [
    "analyzer = Gradient(model)\n",
    "heatmap(input, analyzer)"
   ],
   "metadata": {},
   "execution_count": 3
  },
  {
   "cell_type": "markdown",
   "source": [
    "Now we wrap the analyzer in a `NoiseAugmentation` with 10 samples of noise.\n",
    "By default, the noise is sampled from a Gaussian distribution\n",
    "with mean 0 and standard deviation 1."
   ],
   "metadata": {}
  },
  {
   "outputs": [
    {
     "output_type": "execute_result",
     "data": {
      "text/plain": "1-element Vector{Matrix{ColorTypes.RGB{Float64}}}:\n [RGB(0.36585652008056635, 0.4695789505004883, 0.26482187805175783) RGB(0.3662031181335449, 0.46968348007202154, 0.2646348251342774) … RGB(0.3659091514587402, 0.46959482345581055, 0.264793473815918) RGB(0.36730063858032225, 0.47001447830200194, 0.26404251251220706); RGB(0.36065697250366213, 0.4680108329772949, 0.2676905708312988) RGB(0.3588708221435547, 0.46747215270996095, 0.2686828765869141) … RGB(0.37285161132812505, 0.4716793846130371, 0.26103271255493166) RGB(0.3632510025024414, 0.46879315948486333, 0.26624944305419923); … ; RGB(0.36664695205688475, 0.46981733474731446, 0.26439529571533205) RGB(0.36969173736572264, 0.47073560333251957, 0.2627520782470703) … RGB(0.361382852935791, 0.4682297492980957, 0.26728730392456057) RGB(0.3632366790771484, 0.4687888397216797, 0.2662574005126953); RGB(0.3688383880615234, 0.47047824401855465, 0.2632126159667969) RGB(0.37100000000000005, 0.4711296875, 0.2620453125) … RGB(0.3645097335815429, 0.4691727767944336, 0.26555014801025395) RGB(0.3652943016052246, 0.46940939254760744, 0.26512529754638675)]",
      "text/html": [
       "<table><tbody><tr><td style='text-align:center;vertical-align:middle; margin: 0.5em;border:1px #90999f solid;border-collapse:collapse'><img style='max-width: 100px; max-height:100px;display:inline' src=\"data:image/png;base64,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\"></td></tr></tbody></table><div><small>(a vector displayed as a row to save space)</small></div>"
      ]
     },
     "metadata": {},
     "execution_count": 4
    }
   ],
   "cell_type": "code",
   "source": [
    "analyzer = NoiseAugmentation(Gradient(model), 50)\n",
    "heatmap(input, analyzer)"
   ],
   "metadata": {},
   "execution_count": 4
  },
  {
   "cell_type": "markdown",
   "source": [
    "Note that a higher sample size is desired, as it will lead to a smoother heatmap.\n",
    "However, this comes at the cost of a longer computation time.\n",
    "\n",
    "We can also set the standard deviation of the Gaussian distribution:"
   ],
   "metadata": {}
  },
  {
   "outputs": [
    {
     "output_type": "execute_result",
     "data": {
      "text/plain": "1-element Vector{Matrix{ColorTypes.RGB{Float64}}}:\n [RGB(0.5142342102050781, 0.5116852111816407, 0.19218417358398437) RGB(0.5132359893798828, 0.5114180816650391, 0.1925637786865234) … RGB(0.5200411376953125, 0.5132330780029297, 0.19000736694335935) RGB(0.5178929809570312, 0.5126643188476563, 0.19079281005859375); RGB(0.5177195327758789, 0.5126179031372071, 0.1908587692260742) RGB(0.5190637939453124, 0.5129751678466797, 0.19036029663085938) … RGB(0.5194021728515625, 0.5130644622802735, 0.19023810424804685) RGB(0.5163269638061523, 0.5122452438354492, 0.19138833770751953); … ; RGB(0.5145378799438476, 0.5117664749145509, 0.19206869354248046) RGB(0.5178751052856445, 0.5126595352172852, 0.1907996078491211) … RGB(0.514352081298828, 0.5117167541503906, 0.19213934936523436) RGB(0.5158943725585937, 0.5121294799804688, 0.19155284423828123); RGB(0.5176933151245117, 0.5126108871459961, 0.19086873931884765) RGB(0.51870322265625, 0.5128800170898438, 0.19049050292968747) … RGB(0.515197654724121, 0.511943034362793, 0.19181779327392579) RGB(0.5167910812377929, 0.5123694442749024, 0.1912118423461914)]",
      "text/html": [
       "<table><tbody><tr><td style='text-align:center;vertical-align:middle; margin: 0.5em;border:1px #90999f solid;border-collapse:collapse'><img style='max-width: 100px; max-height:100px;display:inline' src=\"data:image/png;base64,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\"></td></tr></tbody></table><div><small>(a vector displayed as a row to save space)</small></div>"
      ]
     },
     "metadata": {},
     "execution_count": 5
    }
   ],
   "cell_type": "code",
   "source": [
    "analyzer = NoiseAugmentation(Gradient(model), 50, 0.1)\n",
    "heatmap(input, analyzer)"
   ],
   "metadata": {},
   "execution_count": 5
  },
  {
   "cell_type": "markdown",
   "source": [
    "When used with a `Gradient` analyzer, this is equivalent to `SmoothGrad`:"
   ],
   "metadata": {}
  },
  {
   "outputs": [
    {
     "output_type": "execute_result",
     "data": {
      "text/plain": "1-element Vector{Matrix{ColorTypes.RGB{Float64}}}:\n [RGB(0.34694926223754885, 0.4639569320678711, 0.275305965423584) RGB(0.346068083190918, 0.46370516662597655, 0.27579550933837893) … RGB(0.3500137062072754, 0.46483248748779293, 0.2736034965515137) RGB(0.3509266563415527, 0.4650933303833008, 0.2730963020324707); RGB(0.3444287521362305, 0.46321042404174806, 0.2767176399230957) RGB(0.3460877899169922, 0.4637107971191406, 0.27578456115722655) … RGB(0.35676484603881836, 0.4668370170593261, 0.2698528633117676) RGB(0.3499298805236816, 0.4648085372924805, 0.2736500663757324); … ; RGB(0.3492439422607422, 0.4646125549316406, 0.2740311431884766) RGB(0.34511477661132817, 0.4634206573486328, 0.27633036804199224) … RGB(0.3390233375549317, 0.46155624465942385, 0.2797572463989258) RGB(0.3419478439331055, 0.46245014572143556, 0.2781181526184082); RGB(0.34984571838378903, 0.46478449096679686, 0.2736968231201172) RGB(0.3467198471069336, 0.4638913848876953, 0.2754334182739258) … RGB(0.34242781982421877, 0.4625972351074219, 0.27784719848632816) RGB(0.3403790176391602, 0.46196937637329105, 0.27900378036499024)]",
      "text/html": [
       "<table><tbody><tr><td style='text-align:center;vertical-align:middle; margin: 0.5em;border:1px #90999f solid;border-collapse:collapse'><img style='max-width: 100px; max-height:100px;display:inline' src=\"data:image/png;base64,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\"></td></tr></tbody></table><div><small>(a vector displayed as a row to save space)</small></div>"
      ]
     },
     "metadata": {},
     "execution_count": 6
    }
   ],
   "cell_type": "code",
   "source": [
    "analyzer = SmoothGrad(model, 50)\n",
    "heatmap(input, analyzer)"
   ],
   "metadata": {},
   "execution_count": 6
  },
  {
   "cell_type": "markdown",
   "source": [
    "We can also use any distribution from\n",
    "[Distributions.jl](https://github.com/JuliaStats/Distributions.jl),\n",
    "for example Poisson noise with rate $\\lambda=0.5$:"
   ],
   "metadata": {}
  },
  {
   "outputs": [
    {
     "output_type": "execute_result",
     "data": {
      "text/plain": "1-element Vector{Matrix{ColorTypes.RGB{Float64}}}:\n [RGB(0.31761282196044915, 0.4550232841491699, 0.29159921340942385) RGB(0.3206142440795898, 0.455943074798584, 0.2899048622131348) … RGB(0.32230766448974607, 0.4564620262145996, 0.2889732162475586) RGB(0.32207304534912107, 0.45639012680053714, 0.2891018783569336); RGB(0.31652316741943354, 0.45468935775756836, 0.2922143409729004) RGB(0.3153153518676758, 0.4543192207336426, 0.29289617233276366) … RGB(0.3275368804931641, 0.4580645278930664, 0.2860969223022461) RGB(0.324522592163086, 0.4571407943725586, 0.28775857849121095); … ; RGB(0.3180538681030273, 0.4551584434509277, 0.291350235748291) RGB(0.3153565994262695, 0.45433186111450197, 0.2928728874206543) … RGB(0.31809303436279296, 0.45517044601440426, 0.2913281257629394) RGB(0.314961767578125, 0.4542108642578125, 0.29309577636718753); RGB(0.3191058700561523, 0.4554808311462403, 0.2907563636779785) RGB(0.3171754653930664, 0.45488925552368165, 0.2918461082458496) … RGB(0.3135855827331543, 0.4537840339660645, 0.2938654129028321) RGB(0.31533706359863284, 0.45432587432861327, 0.29288391571044925)]",
      "text/html": [
       "<table><tbody><tr><td style='text-align:center;vertical-align:middle; margin: 0.5em;border:1px #90999f solid;border-collapse:collapse'><img style='max-width: 100px; max-height:100px;display:inline' src=\"data:image/png;base64,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\"></td></tr></tbody></table><div><small>(a vector displayed as a row to save space)</small></div>"
      ]
     },
     "metadata": {},
     "execution_count": 7
    }
   ],
   "cell_type": "code",
   "source": [
    "using Distributions\n",
    "\n",
    "analyzer = NoiseAugmentation(Gradient(model), 50, Poisson(0.5))\n",
    "heatmap(input, analyzer)"
   ],
   "metadata": {},
   "execution_count": 7
  },
  {
   "cell_type": "markdown",
   "source": [
    "Is is also possible to define your own distributions or mixture distributions.\n",
    "\n",
    "`NoiseAugmentation` can be combined with any analyzer type from the Julia-XAI ecosystem,\n",
    "for example `LRP` from [RelevancePropagation.jl](https://github.com/Julia-XAI/RelevancePropagation.jl)."
   ],
   "metadata": {}
  },
  {
   "cell_type": "markdown",
   "source": [
    "## Integration augmentation\n",
    "The `InterpolationAugmentation` wrapper computes explanations\n",
    "averaged over `n` steps of linear interpolation between the input and a reference input,\n",
    "which is set to `zero(input)` by default:"
   ],
   "metadata": {}
  },
  {
   "outputs": [
    {
     "output_type": "execute_result",
     "data": {
      "text/plain": "1-element Vector{Matrix{ColorTypes.RGB{Float64}}}:\n [RGB(0.26731090087890624, 0.43895178527832035, 0.31948900451660156) RGB(0.26731090087890624, 0.43895178527832035, 0.31948900451660156) … RGB(0.26731090087890624, 0.43895178527832035, 0.31948900451660156) RGB(0.26731090087890624, 0.43895178527832035, 0.31948900451660156); RGB(0.26731090087890624, 0.43895178527832035, 0.31948900451660156) RGB(0.26731090087890624, 0.43895178527832035, 0.31948900451660156) … RGB(0.26731090087890624, 0.43895178527832035, 0.31948900451660156) RGB(0.26731090087890624, 0.43895178527832035, 0.31948900451660156); … ; RGB(0.26731090087890624, 0.43895178527832035, 0.31948900451660156) RGB(0.26731090087890624, 0.43895178527832035, 0.31948900451660156) … RGB(0.26731090087890624, 0.43895178527832035, 0.31948900451660156) RGB(0.26731090087890624, 0.43895178527832035, 0.31948900451660156); RGB(0.26731090087890624, 0.43895178527832035, 0.31948900451660156) RGB(0.26731090087890624, 0.43895178527832035, 0.31948900451660156) … RGB(0.26731090087890624, 0.43895178527832035, 0.31948900451660156) RGB(0.26731090087890624, 0.43895178527832035, 0.31948900451660156)]",
      "text/html": [
       "<table><tbody><tr><td style='text-align:center;vertical-align:middle; margin: 0.5em;border:1px #90999f solid;border-collapse:collapse'><img style='max-width: 100px; max-height:100px;display:inline' src=\"data:image/png;base64,iVBORw0KGgoAAAANSUhEUgAAAHAAAABwCAIAAABJgmMcAAAAAXNSR0IArs4c6QAAAARnQU1BAACxjwv8YQUAAAAgY0hSTQAAeiYAAICEAAD6AAAAgOgAAHUwAADqYAAAOpgAABdwnLpRPAAABENJREFUeAHtwUtvVXUUxuHff+91Lu1p62kLLVGUBhAlBgRJYODIaHTgyKFDYxwa/QQmfgKHxujQjyAzA8GJJppojBAjl2ohlEspvZ5ybns7elsHTYzNopya9Tz2xsfvEPwYwZURXBnBlRFcGcGVEVwZwZURXBnBlRFcGcGVEVwZwZURXBnBlRFcGcGVEVwZwZURXBnBlRFcGcGVEVwZwZURXBnBlTHQEts5NnIPOTGyhMy3a8ivqweQ1V4NSZQ8TkZwZQRXRnBlDIDElpIto/YIGbU2klMirX6G1LI+8nRtBbmXRpCf7h5A8rxEDo2tIFkq2SkjuDKCKyO4MnbRcN5FVns1ZGFjGBmrtZGJagtZ7g4h9ayHXF6bRKaq68ip0UXkr0ePkGvDk0gt7yEr3TrSrG6wU0ZwZQRXRnBlPGbVrEBm18aRjU6OrK9nSGN/F7nfHkEsFciN1gTbaReG/Lh0EClIyFvTfyCtfgWpZAXy2+o0UpSJ/8IIrozgygiuDDcJqaQ+cnVpHLn3e4mkCptmjreRYesiWSqQkn936eazyMGJFlLLesj9TgN5pr6KzLaaeDCCKyO4MoIrw0mnyJHry08hY/UuMn08R+rWR/bVW/wXJQnpFDlyfOohcrSxgNSyPnLx/mHkivWQiWoLKcrEThnBlRFcGcGV4WTU2sh7R64hp0cK5FzjZeTTm7PIa81l5GzjBeSTuUXkpZEF5OKDGeT1yRvISq+KLHaHkNnWGFLJCuT28jBSafaRWt5jp4zgygiujODKcNIpcrYk5GzjJNI88xXy2SsFknprSLZ8GTmx+CHy0dEPkHr6ApmssOlet49kqUTm22PIVH0NGa20kTwVeDCCKyO4MoIrw0nJlu8WDyE/LC0j76+dQebabDrXGEXmu6tIu8iRb259ibzdPIJ8vTDHloQUJCRRIp2iguSpwJsRXBnBlRFcGY9Zp8iRz28eZTvn+adptrPav4W8OXkMOdX4E7neLpBfFg8grX6FLSWPkxFcGcGVEVwZA6woE9ItcuTS4rfIcr+HXHhwGNnoG0+CEVwZwZURXBkD5sqdcWT+0gZSf3cKOT/fRPYPbSCVrI8kSp4EI7gygisjuDIGwO31UWR9ro9MnK4j3/9cQ4pOiQyfrCDjtR5PmhFcGcGVEVwZA6DVzpFsqGRTyabavgyZnugg47UNBokRXBnBlRFcGU9Ir8yRtYcJ6dzpItbMkedmeshkrcWgMoIrI7gygitjVyXkYbuOTB3oIfezKlIdZtNkbYW9wAiujODKCK6MXdSstJBDQw+RC7dnkFefv4sstBvsNUZwZQRXRnBl7KIXRxaQq+uTyExzBekVGVLPu+w1RnBlBFdGcGXsoqVuHSnKhOSpRNqFsZcZwZURXBnBlbGLbrQmkEoqkH6ZkDyV7GVGcGUEV0ZwZeyiTpEjHXIkTwX/F0ZwZQRXRnD1NwWjHIODIT05AAAAAElFTkSuQmCC\"></td></tr></tbody></table><div><small>(a vector displayed as a row to save space)</small></div>"
      ]
     },
     "metadata": {},
     "execution_count": 8
    }
   ],
   "cell_type": "code",
   "source": [
    "analyzer = InterpolationAugmentation(Gradient(model), 50)\n",
    "heatmap(input, analyzer)"
   ],
   "metadata": {},
   "execution_count": 8
  },
  {
   "cell_type": "markdown",
   "source": [
    "When used with a `Gradient` analyzer, this is equivalent to `IntegratedGradients`:"
   ],
   "metadata": {}
  },
  {
   "outputs": [
    {
     "output_type": "execute_result",
     "data": {
      "text/plain": "1-element Vector{Matrix{ColorTypes.RGB{Float64}}}:\n [RGB(0.26731090087890624, 0.43895178527832035, 0.31948900451660156) RGB(0.26731090087890624, 0.43895178527832035, 0.31948900451660156) … RGB(0.26731090087890624, 0.43895178527832035, 0.31948900451660156) RGB(0.26731090087890624, 0.43895178527832035, 0.31948900451660156); RGB(0.26731090087890624, 0.43895178527832035, 0.31948900451660156) RGB(0.26731090087890624, 0.43895178527832035, 0.31948900451660156) … RGB(0.26731090087890624, 0.43895178527832035, 0.31948900451660156) RGB(0.26731090087890624, 0.43895178527832035, 0.31948900451660156); … ; RGB(0.26731090087890624, 0.43895178527832035, 0.31948900451660156) RGB(0.26731090087890624, 0.43895178527832035, 0.31948900451660156) … RGB(0.26731090087890624, 0.43895178527832035, 0.31948900451660156) RGB(0.26731090087890624, 0.43895178527832035, 0.31948900451660156); RGB(0.26731090087890624, 0.43895178527832035, 0.31948900451660156) RGB(0.26731090087890624, 0.43895178527832035, 0.31948900451660156) … RGB(0.26731090087890624, 0.43895178527832035, 0.31948900451660156) RGB(0.26731090087890624, 0.43895178527832035, 0.31948900451660156)]",
      "text/html": [
       "<table><tbody><tr><td style='text-align:center;vertical-align:middle; margin: 0.5em;border:1px #90999f solid;border-collapse:collapse'><img style='max-width: 100px; max-height:100px;display:inline' src=\"data:image/png;base64,iVBORw0KGgoAAAANSUhEUgAAAHAAAABwCAIAAABJgmMcAAAAAXNSR0IArs4c6QAAAARnQU1BAACxjwv8YQUAAAAgY0hSTQAAeiYAAICEAAD6AAAAgOgAAHUwAADqYAAAOpgAABdwnLpRPAAABENJREFUeAHtwUtvVXUUxuHff+91Lu1p62kLLVGUBhAlBgRJYODIaHTgyKFDYxwa/QQmfgKHxujQjyAzA8GJJppojBAjl2ohlEspvZ5ybns7elsHTYzNopya9Tz2xsfvEPwYwZURXBnBlRFcGcGVEVwZwZURXBnBlRFcGcGVEVwZwZURXBnBlRFcGcGVEVwZwZURXBnBlRFcGcGVEVwZwZURXBnBlTHQEts5NnIPOTGyhMy3a8ivqweQ1V4NSZQ8TkZwZQRXRnBlDIDElpIto/YIGbU2klMirX6G1LI+8nRtBbmXRpCf7h5A8rxEDo2tIFkq2SkjuDKCKyO4MnbRcN5FVns1ZGFjGBmrtZGJagtZ7g4h9ayHXF6bRKaq68ip0UXkr0ePkGvDk0gt7yEr3TrSrG6wU0ZwZQRXRnBlPGbVrEBm18aRjU6OrK9nSGN/F7nfHkEsFciN1gTbaReG/Lh0EClIyFvTfyCtfgWpZAXy2+o0UpSJ/8IIrozgygiuDDcJqaQ+cnVpHLn3e4mkCptmjreRYesiWSqQkn936eazyMGJFlLLesj9TgN5pr6KzLaaeDCCKyO4MoIrw0mnyJHry08hY/UuMn08R+rWR/bVW/wXJQnpFDlyfOohcrSxgNSyPnLx/mHkivWQiWoLKcrEThnBlRFcGcGV4WTU2sh7R64hp0cK5FzjZeTTm7PIa81l5GzjBeSTuUXkpZEF5OKDGeT1yRvISq+KLHaHkNnWGFLJCuT28jBSafaRWt5jp4zgygiujODKcNIpcrYk5GzjJNI88xXy2SsFknprSLZ8GTmx+CHy0dEPkHr6ApmssOlet49kqUTm22PIVH0NGa20kTwVeDCCKyO4MoIrw0nJlu8WDyE/LC0j76+dQebabDrXGEXmu6tIu8iRb259ibzdPIJ8vTDHloQUJCRRIp2iguSpwJsRXBnBlRFcGY9Zp8iRz28eZTvn+adptrPav4W8OXkMOdX4E7neLpBfFg8grX6FLSWPkxFcGcGVEVwZA6woE9ItcuTS4rfIcr+HXHhwGNnoG0+CEVwZwZURXBkD5sqdcWT+0gZSf3cKOT/fRPYPbSCVrI8kSp4EI7gygisjuDIGwO31UWR9ro9MnK4j3/9cQ4pOiQyfrCDjtR5PmhFcGcGVEVwZA6DVzpFsqGRTyabavgyZnugg47UNBokRXBnBlRFcGU9Ir8yRtYcJ6dzpItbMkedmeshkrcWgMoIrI7gygitjVyXkYbuOTB3oIfezKlIdZtNkbYW9wAiujODKCK6MXdSstJBDQw+RC7dnkFefv4sstBvsNUZwZQRXRnBl7KIXRxaQq+uTyExzBekVGVLPu+w1RnBlBFdGcGXsoqVuHSnKhOSpRNqFsZcZwZURXBnBlbGLbrQmkEoqkH6ZkDyV7GVGcGUEV0ZwZeyiTpEjHXIkTwX/F0ZwZQRXRnD1NwWjHIODIT05AAAAAElFTkSuQmCC\"></td></tr></tbody></table><div><small>(a vector displayed as a row to save space)</small></div>"
      ]
     },
     "metadata": {},
     "execution_count": 9
    }
   ],
   "cell_type": "code",
   "source": [
    "analyzer = IntegratedGradients(model, 50)\n",
    "heatmap(input, analyzer)"
   ],
   "metadata": {},
   "execution_count": 9
  },
  {
   "cell_type": "markdown",
   "source": [
    "To select a different reference input, pass it to the `analyze` function\n",
    "using the keyword argument `input_ref`.\n",
    "Note that this is an arbitrary example for the sake of demonstration."
   ],
   "metadata": {}
  },
  {
   "outputs": [
    {
     "output_type": "execute_result",
     "data": {
      "text/plain": "1-element Vector{Matrix{ColorTypes.RGB{Float64}}}:\n [RGB(0.4490871696472168, 0.49369636154174806, 0.22110631942749023) RGB(0.44208317718505863, 0.49171015472412116, 0.22455604705810545) … RGB(0.41876847076416013, 0.485009245300293, 0.23645187683105467) RGB(0.44284696655273437, 0.49192675170898437, 0.22417985229492185); RGB(0.44949763870239257, 0.4938127632141114, 0.22090414810180664) RGB(0.4431518791198731, 0.4920132194519043, 0.22402967147827146) … RGB(0.4489227264404297, 0.49364972839355475, 0.22118731384277343) RGB(0.44284696655273437, 0.49192675170898437, 0.22417985229492185); … ; RGB(0.4539996612548828, 0.4950894561767578, 0.21868673400878905) RGB(0.47183586425781254, 0.5000806091308594, 0.21015371093750002) … RGB(0.4439007423400879, 0.49222558364868163, 0.2236608283996582) RGB(0.44284696655273437, 0.49192675170898437, 0.22417985229492185); RGB(0.44284696655273437, 0.49192675170898437, 0.22417985229492185) RGB(0.44284696655273437, 0.49192675170898437, 0.22417985229492185) … RGB(0.44284696655273437, 0.49192675170898437, 0.22417985229492185) RGB(0.44284696655273437, 0.49192675170898437, 0.22417985229492185)]",
      "text/html": [
       "<table><tbody><tr><td style='text-align:center;vertical-align:middle; margin: 0.5em;border:1px #90999f solid;border-collapse:collapse'><img style='max-width: 100px; max-height:100px;display:inline' src=\"data:image/png;base64,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\"></td></tr></tbody></table><div><small>(a vector displayed as a row to save space)</small></div>"
      ]
     },
     "metadata": {},
     "execution_count": 10
    }
   ],
   "cell_type": "code",
   "source": [
    "matrix_of_ones = ones(Float32, size(input))\n",
    "\n",
    "analyzer = InterpolationAugmentation(Gradient(model), 50)\n",
    "expl = analyzer(input; input_ref=matrix_of_ones)\n",
    "heatmap(expl)"
   ],
   "metadata": {},
   "execution_count": 10
  },
  {
   "cell_type": "markdown",
   "source": [
    "Once again, `InterpolationAugmentation` can be combined with any analyzer type from the Julia-XAI ecosystem,\n",
    "for example `LRP` from [RelevancePropagation.jl](https://github.com/Julia-XAI/RelevancePropagation.jl)."
   ],
   "metadata": {}
  },
  {
   "cell_type": "markdown",
   "source": [
    "---\n",
    "\n",
    "*This notebook was generated using [Literate.jl](https://github.com/fredrikekre/Literate.jl).*"
   ],
   "metadata": {}
  }
 ],
 "nbformat_minor": 3,
 "metadata": {
  "language_info": {
   "file_extension": ".jl",
   "mimetype": "application/julia",
   "name": "julia",
   "version": "1.11.4"
  },
  "kernelspec": {
   "name": "julia-1.11",
   "display_name": "Julia 1.11.4",
   "language": "julia"
  }
 },
 "nbformat": 4
}
