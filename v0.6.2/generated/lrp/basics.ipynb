{
 "cells": [
  {
   "cell_type": "markdown",
   "source": [
    "# Basic usage of LRP\n",
    "This example will show you best practices for using LRP,\n",
    "building on the basics shown in the *Getting started* section."
   ],
   "metadata": {}
  },
  {
   "cell_type": "markdown",
   "source": [
    "We start out by loading a small convolutional neural network:"
   ],
   "metadata": {}
  },
  {
   "outputs": [],
   "cell_type": "code",
   "source": [
    "using ExplainableAI\n",
    "using Flux\n",
    "\n",
    "model = Chain(\n",
    "    Chain(\n",
    "        Conv((3, 3), 3 => 8, relu; pad=1),\n",
    "        Conv((3, 3), 8 => 8, relu; pad=1),\n",
    "        MaxPool((2, 2)),\n",
    "        Conv((3, 3), 8 => 16; pad=1),\n",
    "        BatchNorm(16, relu),\n",
    "        Conv((3, 3), 16 => 8, relu; pad=1),\n",
    "        BatchNorm(8, relu),\n",
    "    ),\n",
    "    Chain(\n",
    "        Flux.flatten,\n",
    "        Dense(2048 => 512, relu),\n",
    "        Dropout(0.5),\n",
    "        Dense(512 => 100, softmax)\n",
    "    ),\n",
    ");"
   ],
   "metadata": {},
   "execution_count": 1
  },
  {
   "cell_type": "markdown",
   "source": [
    "This model contains two chains: the convolutional layers and the fully connected layers."
   ],
   "metadata": {}
  },
  {
   "cell_type": "markdown",
   "source": [
    "## Model preparation\n",
    "### Stripping the output softmax\n",
    "When using LRP, it is recommended to explain output logits instead of probabilities.\n",
    "This can be done by stripping the output softmax activation from the model\n",
    "using the `strip_softmax` function:"
   ],
   "metadata": {}
  },
  {
   "outputs": [
    {
     "output_type": "execute_result",
     "data": {
      "text/plain": "Chain(\n  Chain(\n    Conv((3, 3), 3 => 8, relu, pad=1),  \u001b[90m# 224 parameters\u001b[39m\n    Conv((3, 3), 8 => 8, relu, pad=1),  \u001b[90m# 584 parameters\u001b[39m\n    MaxPool((2, 2)),\n    Conv((3, 3), 8 => 16, pad=1),       \u001b[90m# 1_168 parameters\u001b[39m\n    BatchNorm(16, relu),                \u001b[90m# 32 parameters\u001b[39m\u001b[90m, plus 32\u001b[39m\n    Conv((3, 3), 16 => 8, relu, pad=1),  \u001b[90m# 1_160 parameters\u001b[39m\n    BatchNorm(8, relu),                 \u001b[90m# 16 parameters\u001b[39m\u001b[90m, plus 16\u001b[39m\n  ),\n  Chain(\n    Flux.flatten,\n    Dense(2048 => 512, relu),           \u001b[90m# 1_049_088 parameters\u001b[39m\n    Dropout(0.5),\n    Dense(512 => 100),                  \u001b[90m# 51_300 parameters\u001b[39m\n  ),\n) \u001b[90m        # Total: 16 trainable arrays, \u001b[39m1_103_572 parameters,\n\u001b[90m          # plus 4 non-trainable, 48 parameters, summarysize \u001b[39m4.213 MiB."
     },
     "metadata": {},
     "execution_count": 2
    }
   ],
   "cell_type": "code",
   "source": [
    "model = strip_softmax(model)"
   ],
   "metadata": {},
   "execution_count": 2
  },
  {
   "cell_type": "markdown",
   "source": [
    "If you don't remove the output softmax,\n",
    "model checks will fail."
   ],
   "metadata": {}
  },
  {
   "cell_type": "markdown",
   "source": [
    "### Canonizing the model\n",
    "LRP is not invariant to a model's implementation.\n",
    "Applying the `GammaRule` to two linear layers in a row will yield different results\n",
    "than first fusing the two layers into one linear layer and then applying the rule.\n",
    "This fusing is called \"canonization\" and can be done using the `canonize` function:"
   ],
   "metadata": {}
  },
  {
   "outputs": [
    {
     "output_type": "execute_result",
     "data": {
      "text/plain": "Chain(\n  Conv((3, 3), 3 => 8, relu, pad=1),    \u001b[90m# 224 parameters\u001b[39m\n  Conv((3, 3), 8 => 8, relu, pad=1),    \u001b[90m# 584 parameters\u001b[39m\n  MaxPool((2, 2)),\n  Conv((3, 3), 8 => 16, relu, pad=1),   \u001b[90m# 1_168 parameters\u001b[39m\n  Conv((3, 3), 16 => 8, relu, pad=1),   \u001b[90m# 1_160 parameters\u001b[39m\n  BatchNorm(8, relu),                   \u001b[90m# 16 parameters\u001b[39m\u001b[90m, plus 16\u001b[39m\n  Flux.flatten,\n  Dense(2048 => 512, relu),             \u001b[90m# 1_049_088 parameters\u001b[39m\n  Dropout(0.5),\n  Dense(512 => 100),                    \u001b[90m# 51_300 parameters\u001b[39m\n) \u001b[90m        # Total: 14 trainable arrays, \u001b[39m1_103_540 parameters,\n\u001b[90m          # plus 2 non-trainable, 16 parameters, summarysize \u001b[39m4.212 MiB."
     },
     "metadata": {},
     "execution_count": 3
    }
   ],
   "cell_type": "code",
   "source": [
    "model_canonized = canonize(model)"
   ],
   "metadata": {},
   "execution_count": 3
  },
  {
   "cell_type": "markdown",
   "source": [
    "After canonization, the first `BatchNorm` layer has been fused into the preceding `Conv` layer.\n",
    "The second `BatchNorm` layer wasn't fused\n",
    "since its preceding `Conv` layer has a ReLU activation function."
   ],
   "metadata": {}
  },
  {
   "cell_type": "markdown",
   "source": [
    "### Flattening the model\n",
    "ExplainableAI.jl's LRP implementation supports nested Flux Chains and Parallel layers.\n",
    "However, it is recommended to flatten the model before analyzing it.\n",
    "\n",
    "LRP is implemented by first running a forward pass through the model,\n",
    "keeping track of the intermediate activations, followed by a backward pass\n",
    "that computes the relevances.\n",
    "\n",
    "To keep the LRP implementation simple and maintainable,\n",
    "ExplainableAI.jl does not pre-compute \"nested\" activations.\n",
    "Instead, for every internal chain, a new forward pass is run to compute activations.\n",
    "\n",
    "By \"flattening\" a model, this overhead can be avoided.\n",
    "For this purpose, ExplainableAI.jl provides the function `flatten_model`:"
   ],
   "metadata": {}
  },
  {
   "outputs": [
    {
     "output_type": "execute_result",
     "data": {
      "text/plain": "Chain(\n  Conv((3, 3), 3 => 8, relu, pad=1),    \u001b[90m# 224 parameters\u001b[39m\n  Conv((3, 3), 8 => 8, relu, pad=1),    \u001b[90m# 584 parameters\u001b[39m\n  MaxPool((2, 2)),\n  Conv((3, 3), 8 => 16, pad=1),         \u001b[90m# 1_168 parameters\u001b[39m\n  BatchNorm(16, relu),                  \u001b[90m# 32 parameters\u001b[39m\u001b[90m, plus 32\u001b[39m\n  Conv((3, 3), 16 => 8, relu, pad=1),   \u001b[90m# 1_160 parameters\u001b[39m\n  BatchNorm(8, relu),                   \u001b[90m# 16 parameters\u001b[39m\u001b[90m, plus 16\u001b[39m\n  Flux.flatten,\n  Dense(2048 => 512, relu),             \u001b[90m# 1_049_088 parameters\u001b[39m\n  Dropout(0.5),\n  Dense(512 => 100),                    \u001b[90m# 51_300 parameters\u001b[39m\n) \u001b[90m        # Total: 16 trainable arrays, \u001b[39m1_103_572 parameters,\n\u001b[90m          # plus 4 non-trainable, 48 parameters, summarysize \u001b[39m4.212 MiB."
     },
     "metadata": {},
     "execution_count": 4
    }
   ],
   "cell_type": "code",
   "source": [
    "model_flat = flatten_model(model)"
   ],
   "metadata": {},
   "execution_count": 4
  },
  {
   "cell_type": "markdown",
   "source": [
    "This function is called by default when creating an LRP analyzer.\n",
    "Note that we pass the unflattened model to the analyzer, but `analyzer.model` is flattened:"
   ],
   "metadata": {}
  },
  {
   "outputs": [
    {
     "output_type": "execute_result",
     "data": {
      "text/plain": "Chain(\n  Conv((3, 3), 3 => 8, relu, pad=1),    \u001b[90m# 224 parameters\u001b[39m\n  Conv((3, 3), 8 => 8, relu, pad=1),    \u001b[90m# 584 parameters\u001b[39m\n  MaxPool((2, 2)),\n  Conv((3, 3), 8 => 16, pad=1),         \u001b[90m# 1_168 parameters\u001b[39m\n  BatchNorm(16, relu),                  \u001b[90m# 32 parameters\u001b[39m\u001b[90m, plus 32\u001b[39m\n  Conv((3, 3), 16 => 8, relu, pad=1),   \u001b[90m# 1_160 parameters\u001b[39m\n  BatchNorm(8, relu),                   \u001b[90m# 16 parameters\u001b[39m\u001b[90m, plus 16\u001b[39m\n  Flux.flatten,\n  Dense(2048 => 512, relu),             \u001b[90m# 1_049_088 parameters\u001b[39m\n  Dropout(0.5),\n  Dense(512 => 100),                    \u001b[90m# 51_300 parameters\u001b[39m\n) \u001b[90m        # Total: 16 trainable arrays, \u001b[39m1_103_572 parameters,\n\u001b[90m          # plus 4 non-trainable, 48 parameters, summarysize \u001b[39m4.212 MiB."
     },
     "metadata": {},
     "execution_count": 5
    }
   ],
   "cell_type": "code",
   "source": [
    "analyzer = LRP(model)\n",
    "analyzer.model"
   ],
   "metadata": {},
   "execution_count": 5
  },
  {
   "cell_type": "markdown",
   "source": [
    "If this flattening is not desired, it can be disabled\n",
    "by passing the keyword argument `flatten=false` to the `LRP` constructor."
   ],
   "metadata": {}
  },
  {
   "cell_type": "markdown",
   "source": [
    "## LRP rules\n",
    "By default, the `LRP` constructor will assign the `ZeroRule` to all layers."
   ],
   "metadata": {}
  },
  {
   "outputs": [
    {
     "output_type": "execute_result",
     "data": {
      "text/plain": "LRP(\n  Conv((3, 3), 3 => 8, relu, pad=1) \u001b[90m => \u001b[39m\u001b[33mZeroRule()\u001b[39m,\n  Conv((3, 3), 8 => 8, relu, pad=1) \u001b[90m => \u001b[39m\u001b[33mZeroRule()\u001b[39m,\n  MaxPool((2, 2))                   \u001b[90m => \u001b[39m\u001b[33mZeroRule()\u001b[39m,\n  Conv((3, 3), 8 => 16, pad=1)      \u001b[90m => \u001b[39m\u001b[33mZeroRule()\u001b[39m,\n  BatchNorm(16, relu)               \u001b[90m => \u001b[39m\u001b[33mZeroRule()\u001b[39m,\n  Conv((3, 3), 16 => 8, relu, pad=1)\u001b[90m => \u001b[39m\u001b[33mZeroRule()\u001b[39m,\n  BatchNorm(8, relu)                \u001b[90m => \u001b[39m\u001b[33mZeroRule()\u001b[39m,\n  Flux.flatten                      \u001b[90m => \u001b[39m\u001b[33mZeroRule()\u001b[39m,\n  Dense(2048 => 512, relu)          \u001b[90m => \u001b[39m\u001b[33mZeroRule()\u001b[39m,\n  Dropout(0.5)                      \u001b[90m => \u001b[39m\u001b[33mZeroRule()\u001b[39m,\n  Dense(512 => 100)                 \u001b[90m => \u001b[39m\u001b[33mZeroRule()\u001b[39m,\n)"
     },
     "metadata": {},
     "execution_count": 6
    }
   ],
   "cell_type": "code",
   "source": [
    "LRP(model)"
   ],
   "metadata": {},
   "execution_count": 6
  },
  {
   "cell_type": "markdown",
   "source": [
    "This analyzer will return heatmaps that look identical to `InputTimesGradient`."
   ],
   "metadata": {}
  },
  {
   "cell_type": "markdown",
   "source": [
    "LRP's strength lies in assigning different rules to different layers,\n",
    "based on their functionality in the neural network[^1].\n",
    "ExplainableAI.jl implements many LRP rules out of the box,\n",
    "but it is also possible to *implement custom rules*.\n",
    "\n",
    "To assign different rules to different layers,\n",
    "use one of the composites presets,\n",
    "or create your own composite, as described in\n",
    "*Assigning rules to layers*."
   ],
   "metadata": {}
  },
  {
   "outputs": [
    {
     "output_type": "execute_result",
     "data": {
      "text/plain": "Composite(\n  GlobalTypeMap(  \u001b[90m# all layers\u001b[39m\n\u001b[94m    Flux.Conv              \u001b[39m => \u001b[33mZPlusRule()\u001b[39m,\n\u001b[94m    Flux.ConvTranspose     \u001b[39m => \u001b[33mZPlusRule()\u001b[39m,\n\u001b[94m    Flux.CrossCor          \u001b[39m => \u001b[33mZPlusRule()\u001b[39m,\n\u001b[94m    Flux.Dense             \u001b[39m => \u001b[33mEpsilonRule{Float32}(1.0f-6)\u001b[39m,\n\u001b[94m    typeof(NNlib.dropout)  \u001b[39m => \u001b[33mPassRule()\u001b[39m,\n\u001b[94m    Flux.AlphaDropout      \u001b[39m => \u001b[33mPassRule()\u001b[39m,\n\u001b[94m    Flux.Dropout           \u001b[39m => \u001b[33mPassRule()\u001b[39m,\n\u001b[94m    Flux.BatchNorm         \u001b[39m => \u001b[33mPassRule()\u001b[39m,\n\u001b[94m    typeof(Flux.flatten)   \u001b[39m => \u001b[33mPassRule()\u001b[39m,\n\u001b[94m    typeof(MLUtils.flatten)\u001b[39m => \u001b[33mPassRule()\u001b[39m,\n\u001b[94m    typeof(identity)       \u001b[39m => \u001b[33mPassRule()\u001b[39m,\n ),\n  FirstLayerTypeMap(  \u001b[90m# first layer\u001b[39m\n\u001b[94m    Flux.Conv         \u001b[39m => \u001b[33mFlatRule()\u001b[39m,\n\u001b[94m    Flux.ConvTranspose\u001b[39m => \u001b[33mFlatRule()\u001b[39m,\n\u001b[94m    Flux.CrossCor     \u001b[39m => \u001b[33mFlatRule()\u001b[39m,\n ),\n)"
     },
     "metadata": {},
     "execution_count": 7
    }
   ],
   "cell_type": "code",
   "source": [
    "composite = EpsilonPlusFlat() # using composite preset EpsilonPlusFlat"
   ],
   "metadata": {},
   "execution_count": 7
  },
  {
   "outputs": [
    {
     "output_type": "execute_result",
     "data": {
      "text/plain": "LRP(\n  Conv((3, 3), 3 => 8, relu, pad=1) \u001b[90m => \u001b[39m\u001b[33mFlatRule()\u001b[39m,\n  Conv((3, 3), 8 => 8, relu, pad=1) \u001b[90m => \u001b[39m\u001b[33mZPlusRule()\u001b[39m,\n  MaxPool((2, 2))                   \u001b[90m => \u001b[39m\u001b[33mZeroRule()\u001b[39m,\n  Conv((3, 3), 8 => 16, pad=1)      \u001b[90m => \u001b[39m\u001b[33mZPlusRule()\u001b[39m,\n  BatchNorm(16, relu)               \u001b[90m => \u001b[39m\u001b[33mPassRule()\u001b[39m,\n  Conv((3, 3), 16 => 8, relu, pad=1)\u001b[90m => \u001b[39m\u001b[33mZPlusRule()\u001b[39m,\n  BatchNorm(8, relu)                \u001b[90m => \u001b[39m\u001b[33mPassRule()\u001b[39m,\n  Flux.flatten                      \u001b[90m => \u001b[39m\u001b[33mPassRule()\u001b[39m,\n  Dense(2048 => 512, relu)          \u001b[90m => \u001b[39m\u001b[33mEpsilonRule{Float32}(1.0f-6)\u001b[39m,\n  Dropout(0.5)                      \u001b[90m => \u001b[39m\u001b[33mPassRule()\u001b[39m,\n  Dense(512 => 100)                 \u001b[90m => \u001b[39m\u001b[33mEpsilonRule{Float32}(1.0f-6)\u001b[39m,\n)"
     },
     "metadata": {},
     "execution_count": 8
    }
   ],
   "cell_type": "code",
   "source": [
    "LRP(model, composite)"
   ],
   "metadata": {},
   "execution_count": 8
  },
  {
   "cell_type": "markdown",
   "source": [
    "## Computing layerwise relevances\n",
    "If you are interested in computing layerwise relevances,\n",
    "call `analyze` with an LRP analyzer and the keyword argument\n",
    "`layerwise_relevances=true`.\n",
    "\n",
    "The layerwise relevances can be accessed in the `extras` field\n",
    "of the returned `Explanation`:"
   ],
   "metadata": {}
  },
  {
   "outputs": [
    {
     "output_type": "execute_result",
     "data": {
      "text/plain": "([-0.04820883 0.41436315 … 0.16056009 0.4086259; -0.8706384 0.409666 … 0.0023390374 -0.45076647; … ; -0.309083 3.4352388 … 0.0046711783 -0.10681092; -0.14851555 1.1520306 … -0.3715848 -0.23147742;;; 1.7568504 0.29217154 … 0.35904557 0.4436579; 1.4162449 3.5161898 … 0.38611794 0.17504176; … ; 0.07316136 0.70771545 … 0.040263508 0.032923397; 0.19997673 1.1379155 … -0.12682106 0.5263289;;; 0.014254234 0.57954806 … 0.42234525 -0.024318617; 0.18690808 0.29848522 … 1.0638058 -0.47465417; … ; -1.0321769 -0.99707836 … 0.023784315 0.0122222705; -0.9972606 1.8144374 … 0.80642086 0.16908738;;;;], [0.0 0.0 … 0.0 0.0; 0.0 -0.0 … 0.0 -0.21591213; … ; 0.0 -0.0 … -0.0 0.0; 0.0 0.031067453 … -0.0 0.0;;; 0.18760854 0.17374834 … -0.4005244 0.0; 0.21533778 0.6896454 … 0.21548873 0.084359236; … ; 0.62874734 -0.008148038 … 0.0 0.08510691; 0.2701535 0.034018066 … 0.22188902 0.0;;; -0.0 -0.0 … 0.0 -0.030985152; 0.14525148 -0.0 … -0.0 0.0; … ; 0.0 -0.0 … -0.0 0.0; -0.049889203 -0.0 … 0.24017958 0.03357319;;; -0.1893847 0.034450725 … -0.105355605 -0.002943218; 0.18523675 -0.2615217 … 0.049105883 0.0; … ; -0.49249923 1.1834655 … -0.1774157 -0.0; 0.6004224 -0.12215256 … 0.012389718 0.0;;; 0.06687532 0.30476478 … 0.15570804 -0.0; 0.0056431843 0.5760382 … -0.0 0.059611987; … ; -0.0818298 -0.0 … -0.0 -0.20121826; -0.18854263 -0.25258854 … -0.10953855 -0.014518913;;; 0.06800059 -0.23123403 … 0.31448418 0.0; 0.89035356 2.1148205 … -0.29510054 0.18991664; … ; 0.8787758 0.008202148 … 0.33666912 -0.39341632; -0.21044587 0.110704646 … -0.22814764 0.003929048;;; -0.0 0.0 … 0.0 -0.3004909; -0.0 -0.0 … 0.0 0.0; … ; 0.0 -0.0 … 0.0 0.0; -0.0 0.08330077 … 0.20091502 0.34257802;;; 0.0035467262 0.11364082 … 0.3384631 -0.010412108; 0.97695893 1.8716848 … 0.24183689 0.5585636; … ; 0.08968041 -0.1038276 … 0.6406806 -0.0; 0.12234836 0.07613451 … 0.074672274 0.16651121;;;;], [0.0 0.050635196 … 0.0 0.0; 0.0 0.0 … -0.09329817 0.0; … ; 0.0 0.0 … 0.0 0.0; 0.0 0.88873893 … 0.423879 0.0;;; 0.0 0.2656863 … 0.0 -1.4055322; 0.0 0.0 … 0.0 0.0; … ; 0.0 0.0 … 0.0 -0.04735196; 0.0 0.05145822 … 0.0 0.0;;; 0.0 0.0 … 0.02628432 0.0; 0.0 0.0 … 0.0 0.0; … ; 0.0 0.0 … 0.0 0.0; 0.0 0.0 … 0.0 0.0;;; 0.0 0.0 … 0.0 0.0; 0.0 2.1579118 … 0.0 2.1483698; … ; 0.0 0.0 … 1.6075883 0.0; 0.0 1.543947 … 0.0 0.0;;; 0.0 0.12891278 … -0.13483256 0.0; 0.0 0.0 … 0.0 0.0; … ; 0.0 -0.095143415 … 0.12996997 0.0; 0.0 0.0 … 0.0 0.0;;; 0.0 0.0 … -0.15217398 0.0; 0.0 0.0 … 0.0 0.0; … ; 0.0 0.0 … 0.0 0.22237074; 0.0 0.0 … 0.0 0.0;;; 0.0 0.0 … 0.0 0.17709278; 0.0 1.3013474 … 0.0 0.0; … ; 0.0 0.0 … 0.0 0.0; -0.35811174 0.0 … -0.047433894 0.0;;; 0.0 0.0 … 0.0 0.0; 0.0 0.0 … 0.0 0.0; … ; 0.0 0.0 … 0.0 0.0; 0.0 0.0 … 0.0 0.0;;;;], [0.050635196 0.09718663 … -0.18014525 -0.09329817; 2.4040983 2.642343 … 3.1921122 1.3787056; … ; 1.3825754 3.5368688 … 1.521805 1.610468; 0.88873893 6.2439814 … 2.7859442 0.423879;;; 0.2656863 -0.113525555 … -0.29572043 -1.4055322; 0.0 0.0 … 0.0 -0.36851278; … ; 0.0 0.0 … 0.011208489 -0.53391254; 0.051458225 0.06565056 … 0.46497095 -0.04735196;;; -0.0 -0.0 … 0.0 0.026284322; -0.0 -0.0 … -0.0 -0.13759229; … ; -0.0 -0.0 … -0.0 -0.0; -0.0 -0.0 … -0.18527049 -0.0;;; 2.1579118 1.8482745 … 3.7219331 2.1483698; 1.9690555 5.405776 … 3.1607828 2.7959223; … ; 1.9264082 4.170294 … 2.7357452 2.8245533; 1.543947 5.990618 … 0.9468519 1.6075883;;; 0.12891278 1.5588663 … 1.0285908 -0.13483256; -0.0 0.0 … -0.17611909 -0.9194396; … ; -0.8026817 1.1944277 … -0.2134526 -0.96515065; -0.09514342 0.32568315 … -0.15671986 0.12996997;;; 0.0 0.41848534 … 0.0 -0.15217398; 0.0 0.0 … 0.0 0.13138318; … ; 0.0 1.4183495 … 0.0 0.5137079; -0.0 -0.0 … 0.0 0.22237074;;; 1.3013474 1.1204417 … 0.42541787 0.17709278; 0.071199745 -0.7025441 … -1.1509466 -0.36966428; … ; -0.0049308063 3.1791663 … -0.9951357 -0.38256115; -0.35811174 0.22420695 … -0.5031435 -0.047433894;;; -0.0 -0.0 … -0.0 -0.0; -0.0 -0.0 … -0.0 -0.0; … ; -0.0 -0.0 … -0.0 -0.008299855; -0.0 -0.0 … -0.0 0.0;;;;], [-1.1447367f-5 0.004260311 … -0.004865338 -0.007786709; -3.7904014f-5 -1.7993405f-5 … -9.135324f-5 -9.50955f-5; … ; -9.3309136f-5 -0.00012444504 … -0.00013278436 -0.00016515094; 2.2003014f-5 6.029177f-5 … 0.0016564808 -0.00012573034;;; -0.015486771 0.002309263 … 0.019131307 -0.018038904; 0.0004336141 0.0002625587 … 0.00021856627 4.783016f-5; … ; 0.0005272531 0.00042425224 … -0.00024778646 0.00052365067; 0.0005058773 -0.0024659166 … 0.00022311085 0.00047595132;;; 0.004685451 0.00016645789 … 0.00016558531 1.449721f-5; 9.1187765f-5 4.5713696f-5 … -6.0448638f-5 0.00016580953; … ; 0.00016347268 3.4480887f-5 … 1.8755638f-5 -5.336021f-5; 0.00013644419 -3.1634976f-5 … -2.687755f-5 0.00016202497;;; … ;;; 0.087201424 0.09616415 … 1.564046 3.503798; -0.80500317 -0.8550655 … -0.17217107 3.0110157; … ; -0.4794855 0.029916214 … 0.56254685 3.4599893; -0.33162794 -1.0372034 … 0.49635884 1.7363833;;; -0.046294823 -0.027485123 … -0.122345105 0.0014156719; -0.014418752 -0.021205906 … -0.04310047 0.04675725; … ; 0.04055655 0.010190748 … -0.011577835 0.033177037; 0.013610919 0.06815408 … 0.05368966 0.030171571;;; 0.35470027 0.32200673 … 0.40352258 -0.07309795; 0.31271935 0.3178669 … 0.46885368 0.18977374; … ; 0.39576322 0.58954024 … 0.5456763 0.56855685; 0.30503547 0.59079313 … 0.92336917 0.4623038;;;;], [0.0 0.010140689 … -0.013068522 -0.016017884; 0.0 0.0 … -0.0 0.0; … ; -0.0 0.0 … -0.0 -0.0; -0.00016799752 -0.0 … 0.0 -0.0;;; -0.024262019 0.010356689 … 0.042027634 -0.022192353; 0.0 0.0 … 0.0 0.0; … ; -0.0 -0.0 … 0.0 -0.0; 0.0 0.0 … -0.0 0.004836625;;; 0.017473385 0.0 … -0.0 0.0; -0.0 0.0 … 0.0 0.0; … ; 0.0 -0.0 … 0.0 -0.0; 0.0 -0.0 … -0.0 -0.0;;; … ;;; -0.0010040496 0.0025778275 … 0.01810105 0.0436443; -0.0 0.0 … 0.0 0.07777012; … ; 0.0 0.0004202017 … -0.0026048368 0.049348682; 0.0 -0.0 … 0.01559647 -0.0050405706;;; 0.0 -0.0 … 0.0 0.00065546547; -0.0 -0.0 … -0.0 0.00986024; … ; 0.0083561065 0.00311034 … -0.0 -0.004586595; -0.007412098 0.035186227 … 0.019377893 0.00026969772;;; -0.0074368673 -0.021886839 … 0.04386328 -0.0; 0.017620906 -0.24484338 … -0.13018717 0.03802558; … ; -0.009845956 -0.23071727 … 0.10168321 -0.038449347; 0.014395291 -0.008120178 … 0.003937939 0.00298737;;;;], [0.0037424108 2.3194043f-6 … 0.0 0.0; 0.013042208 -0.004911743 … 0.0 0.0; … ; -0.0011492587 0.009357402 … 0.0 0.0; -0.004342672 -0.0038301332 … 0.0 0.0;;; 0.0085678585 0.013442831 … 0.0 0.0; 0.0032564786 0.0 … 0.0 0.0; … ; 0.06242083 0.0 … 0.0 0.0; 0.014254185 0.047734957 … -0.00087810896 0.05877534;;; -0.00029184416 0.0 … 0.0 -0.0004982639; 0.0043998766 0.0 … 0.0 0.0; … ; -0.0017751426 0.0 … 0.0 0.0; 0.0 0.0 … 0.0 0.0;;; 0.0021248474 0.0016781684 … 0.0 0.0; -0.002751475 0.00793172 … 0.0 0.0; … ; 0.011884279 0.0 … 0.0 0.0; 0.009106388 -0.004698475 … -0.009096114 0.0;;; -0.0 -0.0 … -0.0 -0.047498755; -0.0 -0.0 … 0.018631805 -0.00023333164; … ; -0.0 -2.9155167f-6 … -0.0 -0.003884333; 0.005408685 -0.021681244 … -0.0 -0.0034444074;;; -0.0 -0.0 … -0.0 -0.0; -0.0 -0.0 … -0.0 -0.0; … ; -0.0 -0.0 … -0.0 -0.003444231; -0.0 -0.0 … -0.0 -0.0;;; 0.013637599 0.36144647 … 0.028225804 0.016490586; 0.012630398 0.008074434 … -0.05486082 0.0056461757; … ; 0.0 0.015688067 … 0.040057074 0.016699541; 0.008900399 0.01110823 … 0.015575553 0.016717233;;; 0.0 0.0 … 0.0 -0.002692255; 0.0 0.0 … 0.0 0.0031220103; … ; 0.0 0.0 … 0.0 0.0; 0.0 0.0 … 0.0 0.0;;;;], [0.0028695941 0.0004246572 … -0.0 -0.0; 0.01089553 -0.004238521 … 0.0 0.0; … ; -0.0016157499 0.00786333 … 0.0 0.0; -0.0032189977 -0.0032793933 … -0.0 -0.0;;; 0.003530772 -0.0015770141 … 0.0 -0.0; 0.0011506956 -0.0 … 0.0 -0.0; … ; 0.018566499 0.0 … 0.0 -0.0; -0.016399764 -0.0036317576 … -0.022677679 0.017273962;;; -0.00025433445 0.0 … -0.0 -0.0004328117; 0.0049333773 -0.0 … -0.0 -0.0; … ; -0.0012995674 0.0 … 0.0 -0.0; -0.0 -0.0 … -0.0 0.0;;; 0.0020795804 0.0012042552 … -0.0 -0.0; -0.0017369881 0.008931878 … -0.0 0.0; … ; 0.0031898054 -0.0 … -0.0 0.0; 0.007127885 -0.0024614464 … -0.00049114454 -0.0;;; -0.0 -0.0 … -0.0 -0.0017852817; -0.0 -0.0 … 0.01321275 -0.001737282; … ; 0.0 2.4414965f-5 … -0.0 -0.0034635374; 0.0034384616 -0.0131477835 … 0.0 -0.0012616729;;; 0.0 -0.0 … 0.0 0.0; -0.0 -0.0 … 0.0 -0.0; … ; 0.0 -0.0 … 0.0 -0.00090024975; -0.0 -0.0 … -0.0 0.0;;; -0.0064022327 0.026184361 … 0.004538972 0.023045572; -0.007687424 -0.0010030409 … -0.022490442 -0.0014342006; … ; 0.0 -0.010221108 … 0.014394231 -0.00090500776; -0.0016306259 0.002668533 … 0.0025555573 -0.009140016;;; -0.0 -0.0 … 0.0 -0.0031103196; 0.0 -0.0 … -0.0 0.002539304; … ; -0.0 -0.0 … 0.0 -0.0; 0.0 0.0 … -0.0 0.0;;;;], Float32[0.0028695941; 0.01089553; … ; -0.0; 0.0;;], Float32[0.0; 0.0006493265; … ; -0.015433615; -0.0;;], Float32[0.0; 0.0006493265; … ; -0.015433615; -0.0;;], Float32[0.0; 0.0; … ; 0.0; 0.0;;])"
     },
     "metadata": {},
     "execution_count": 9
    }
   ],
   "cell_type": "code",
   "source": [
    "input = rand(Float32, 32, 32, 3, 1) # dummy input for our convolutional neural network\n",
    "\n",
    "expl = analyze(input, analyzer; layerwise_relevances=true)\n",
    "expl.extras.layerwise_relevances"
   ],
   "metadata": {},
   "execution_count": 9
  },
  {
   "cell_type": "markdown",
   "source": [
    "Note that the layerwise relevances are only kept for layers in the outermost `Chain` of the model.\n",
    "When using our unflattened model, we only obtain three layerwise relevances,\n",
    "one for each chain in the model and the output relevance:"
   ],
   "metadata": {}
  },
  {
   "outputs": [
    {
     "output_type": "execute_result",
     "data": {
      "text/plain": "([-0.15496127 0.16561124 … 0.3057557 0.5145758; 0.3527769 0.20418352 … -0.011079229 -0.56807935; … ; -0.6902267 1.941185 … 0.013443892 0.038140554; -0.13593823 2.909822 … -0.101066954 0.21796057;;; -0.71029216 -0.0479734 … 0.465621 0.7020508; -0.5537845 -0.6141715 … 0.094067745 0.1454382; … ; -0.05580026 0.3022251 … 0.56971675 -0.009138547; -0.9920212 1.0746977 … 0.07685463 0.19307554;;; -0.011916084 -1.0055707 … -0.11145586 -0.0507246; -0.06247476 0.5412466 … 0.3095552 0.20586267; … ; -0.47788942 -3.217945 … 0.13151374 -0.01309711; -1.391705 0.09718733 … 0.14599739 0.029374503;;;;], [0.0045250678 0.0014202127 … -0.0 -0.0; 0.011199282 -0.0054846676 … 0.0 0.0; … ; 0.009354248 0.005614057 … 0.0 0.0; -0.0031015938 -0.0037049158 … -0.0 -0.0;;; 0.00370465 -0.00053625274 … 0.0 -0.0; 0.00038088058 -0.0 … 0.0 -0.0; … ; 0.018944832 0.0 … 0.0 -0.0; -0.02059307 0.00046778488 … -0.022720303 0.01501779;;; -0.0003489581 0.0 … -0.0 -0.00039547752; 0.004347133 -0.0 … -0.0 -0.0; … ; -0.00078764785 0.0 … 0.0 -0.0; -0.0 -0.0 … -0.0 0.0;;; -0.00063879526 0.0014458788 … -0.0 -0.0; -0.0004047395 0.002241227 … -0.0 0.0; … ; 0.0011547913 -0.0 … -0.0 0.0; 0.004098552 -0.0047694813 … -0.0013039195 -0.0;;; -0.0 -0.0 … -0.0 -0.002654926; -0.0 -0.0 … 0.0071537374 -0.0020782682; … ; 0.0 0.0 … -0.0 -0.0018699213; 0.0024898967 -0.01440268 … 0.0 -0.003763511;;; -0.0 -0.0 … -0.0 0.0; -0.0 -0.0 … 0.0 -0.0; … ; 0.0 -0.0 … 0.0 -0.0035583156; -0.0 -0.0 … -0.0 0.0;;; -0.009891366 0.019188322 … -0.0004327835 0.019373184; -0.0065150536 -0.0010079615 … -0.00898869 0.001524129; … ; 0.0 -0.012391408 … 0.0013334828 -0.004884495; 0.0012645615 0.0030095803 … 0.0021000595 -0.004783176;;; -0.0 -0.0 … 0.0 -0.0056749443; 0.0 -0.0 … -0.0 0.0033919709; … ; -0.0 -0.0 … 0.0 0.0; 0.0 0.0 … -0.0 0.0;;;;], Float32[0.0; 0.0; … ; 0.0; 0.0;;])"
     },
     "metadata": {},
     "execution_count": 10
    }
   ],
   "cell_type": "code",
   "source": [
    "analyzer = LRP(model; flatten=false) # use unflattened model\n",
    "\n",
    "expl = analyze(input, analyzer; layerwise_relevances=true)\n",
    "expl.extras.layerwise_relevances"
   ],
   "metadata": {},
   "execution_count": 10
  },
  {
   "cell_type": "markdown",
   "source": [
    "## Performance tips\n",
    "### Using LRP with a GPU\n",
    "Like all other analyzers, LRP can be used on GPUs.\n",
    "Follow the instructions on *GPU support*.\n",
    "\n",
    "### Using LRP without a GPU\n",
    "Using Julia's package extension mechanism,\n",
    "ExplainableAI.jl's LRP implementation can optionally make use of\n",
    "[Tullio.jl](https://github.com/mcabbott/Tullio.jl) and\n",
    "[LoopVectorization.jl](https://github.com/JuliaSIMD/LoopVectorization.jl)\n",
    "for faster LRP rules on dense layers.\n",
    "\n",
    "This only requires loading the packages before loading ExplainableAI.jl:\n",
    "```julia\n",
    "using LoopVectorization, Tullio\n",
    "using ExplainableAI\n",
    "```\n",
    "\n",
    "[^1]: G. Montavon et al., [Layer-Wise Relevance Propagation: An Overview](https://link.springer.com/chapter/10.1007/978-3-030-28954-6_10)"
   ],
   "metadata": {}
  },
  {
   "cell_type": "markdown",
   "source": [
    "---\n",
    "\n",
    "*This notebook was generated using [Literate.jl](https://github.com/fredrikekre/Literate.jl).*"
   ],
   "metadata": {}
  }
 ],
 "nbformat_minor": 3,
 "metadata": {
  "language_info": {
   "file_extension": ".jl",
   "mimetype": "application/julia",
   "name": "julia",
   "version": "1.9.3"
  },
  "kernelspec": {
   "name": "julia-1.9",
   "display_name": "Julia 1.9.3",
   "language": "julia"
  }
 },
 "nbformat": 4
}
