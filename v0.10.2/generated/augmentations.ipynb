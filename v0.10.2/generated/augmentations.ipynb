{
 "cells": [
  {
   "cell_type": "markdown",
   "source": [
    "# Analyzer augmentations\n",
    "All analyzers implemented in ExplainableAI.jl can be augmented by two types of augmentations:\n",
    "`NoiseAugmentation`s and `InterpolationAugmentation`s.\n",
    "These augmentations are wrappers around analyzers\n",
    "that modify the input before passing it to the analyzer.\n",
    "\n",
    "We build on the basics shown in the *Getting started* section\n",
    "and start out by loading the same pre-trained LeNet5 model and MNIST input data:"
   ],
   "metadata": {}
  },
  {
   "outputs": [
    {
     "output_type": "execute_result",
     "data": {
      "text/plain": "Chain(\n  Conv((5, 5), 1 => 6, relu),           \u001b[90m# 156 parameters\u001b[39m\n  MaxPool((2, 2)),\n  Conv((5, 5), 6 => 16, relu),          \u001b[90m# 2_416 parameters\u001b[39m\n  MaxPool((2, 2)),\n  Flux.flatten,\n  Dense(256 => 120, relu),              \u001b[90m# 30_840 parameters\u001b[39m\n  Dense(120 => 84, relu),               \u001b[90m# 10_164 parameters\u001b[39m\n  Dense(84 => 10),                      \u001b[90m# 850 parameters\u001b[39m\n) \u001b[90m                  # Total: 10 arrays, \u001b[39m44_426 parameters, 174.344 KiB."
     },
     "metadata": {},
     "execution_count": 1
    }
   ],
   "cell_type": "code",
   "source": [
    "using ExplainableAI\n",
    "using VisionHeatmaps\n",
    "using Zygote\n",
    "using Flux\n",
    "\n",
    "using BSON # hide\n",
    "model = BSON.load(\"../model.bson\", @__MODULE__)[:model] # hide\n",
    "model"
   ],
   "metadata": {},
   "execution_count": 1
  },
  {
   "outputs": [
    {
     "output_type": "execute_result",
     "data": {
      "text/plain": "28×28 reinterpret(reshape, ColorTypes.Gray{Float32}, ::Matrix{Float32}) with eltype ColorTypes.Gray{Float32}:\n 0.0  0.0  0.0  0.0  0.0  0.0  0.0  …  0.0        0.0  0.0  0.0  0.0  0.0\n 0.0  0.0  0.0  0.0  0.0  0.0  0.0     0.0        0.0  0.0  0.0  0.0  0.0\n 0.0  0.0  0.0  0.0  0.0  0.0  0.0     0.0        0.0  0.0  0.0  0.0  0.0\n 0.0  0.0  0.0  0.0  0.0  0.0  0.0     0.0        0.0  0.0  0.0  0.0  0.0\n 0.0  0.0  0.0  0.0  0.0  0.0  0.0     0.0        0.0  0.0  0.0  0.0  0.0\n 0.0  0.0  0.0  0.0  0.0  0.0  0.0  …  0.0        0.0  0.0  0.0  0.0  0.0\n 0.0  0.0  0.0  0.0  0.0  0.0  0.0     0.0        0.0  0.0  0.0  0.0  0.0\n 0.0  0.0  0.0  0.0  0.0  0.0  0.0     0.0        0.0  0.0  0.0  0.0  0.0\n 0.0  0.0  0.0  0.0  0.0  0.0  0.0     0.0235294  0.0  0.0  0.0  0.0  0.0\n 0.0  0.0  0.0  0.0  0.0  0.0  0.0     0.407843   0.0  0.0  0.0  0.0  0.0\n ⋮                        ⋮         ⋱                       ⋮         \n 0.0  0.0  0.0  0.0  0.0  0.0  0.0     0.0        0.0  0.0  0.0  0.0  0.0\n 0.0  0.0  0.0  0.0  0.0  0.0  0.0  …  0.0        0.0  0.0  0.0  0.0  0.0\n 0.0  0.0  0.0  0.0  0.0  0.0  0.0     0.0        0.0  0.0  0.0  0.0  0.0\n 0.0  0.0  0.0  0.0  0.0  0.0  0.0     0.0        0.0  0.0  0.0  0.0  0.0\n 0.0  0.0  0.0  0.0  0.0  0.0  0.0     0.0        0.0  0.0  0.0  0.0  0.0\n 0.0  0.0  0.0  0.0  0.0  0.0  0.0     0.0        0.0  0.0  0.0  0.0  0.0\n 0.0  0.0  0.0  0.0  0.0  0.0  0.0  …  0.0        0.0  0.0  0.0  0.0  0.0\n 0.0  0.0  0.0  0.0  0.0  0.0  0.0     0.0        0.0  0.0  0.0  0.0  0.0\n 0.0  0.0  0.0  0.0  0.0  0.0  0.0     0.0        0.0  0.0  0.0  0.0  0.0",
      "image/png": "[encoded data removed]",
      "text/html": [
       "<img src=\"data:image/png;base64,iVBORw0KGgoAAAANSUhEUgAAAHAAAABwCAAAAADji6uXAAAAAXNSR0IArs4c6QAAAARnQU1BAACxjwv8YQUAAAAgY0hSTQAAeiYAAICEAAD6AAAAgOgAAHUwAADqYAAAOpgAABdwnLpRPAAAAjhJREFUaAW9wb2L1gUAB/DPcd+oQaPswCGqpSGHXqYTapGgJSg4CeoPcEiECqFDpCGwTdIQImuIsGiTtmjJgl6GoKEiIhqCoMQsOOhFy85r+A3H8fTo73mM7+cTZVEWZVEWZVEWZVEWZVEWZVEWZVEWZVEWZVEWZVEWZVEWZVEWZVEWZVEWc7gTS1jBHlzGSXyK71xZlEVZlMUM7sYB7MWSrXbjH3yLj/E0/jYpyqIsymKEe3AAj+NGgx/xEb7HKj7HMnbgYXyBkyZFWZRFWVzFq1jBksH7+AqHcdHgfuzH67gP5/AyTuO8raIsyqIsprgBq9iHBZzHKziKP2x1CxbxPN7DHaaLsiiLsphiD57FAn7CXnxmq0XchlN4FzcbLOBNrJkUZVEWZTHFItYNLmE3HsNdBhewC7vwC3badA4v4JJJURZlURZTnMEHeAi34wQ2DNaxaNNOg8t4B0/hrP8WZVEWZTHFBazgJhzCA/gVP+B63ItlW72Gw1gzXZRFWZTFVazhkEmnsGzwGw7iDay7siiLsiiLOaziCZv2423jRFmURVnMaB+eQwy+xmnjRVmURVnMYBkvYpvB73gSfxkvyqIsymIGj2C7wZ94FJ+YTZRFWZTFSNuxatNb+NDsoizKoixG2IZvcJ3Bl3jGfKIsyqIsRngQt2LD4CAumk+URVmUxQhHsGFwFGfML8qiLMpihB1YwM94ybWJsiiLshjhGI7hCM66NlEWZVEWIxzHcf+PKIuyKPsXNwdYfgiRxs8AAAAASUVORK5C\">"
      ]
     },
     "metadata": {},
     "execution_count": 2
    }
   ],
   "cell_type": "code",
   "source": [
    "using MLDatasets\n",
    "using ImageCore, ImageIO, ImageShow\n",
    "\n",
    "index = 10\n",
    "x, y = MNIST(Float32, :test)[10]\n",
    "input = reshape(x, 28, 28, 1, :)\n",
    "\n",
    "convert2image(MNIST, x)"
   ],
   "metadata": {},
   "execution_count": 2
  },
  {
   "cell_type": "markdown",
   "source": [
    "## Noise augmentation\n",
    "The `NoiseAugmentation` wrapper computes explanations averaged over noisy inputs.\n",
    "Let's demonstrate this on the `Gradient` analyzer.\n",
    "First, we compute the heatmap of an explanation without augmentation:"
   ],
   "metadata": {}
  },
  {
   "outputs": [
    {
     "output_type": "execute_result",
     "data": {
      "text/plain": "1-element Vector{Matrix{ColorTypes.RGB{Float64}}}:\n [RGB(0.542044692993164, 0.5190736373901367, 0.18255157775878905) RGB(0.5405419067382813, 0.5186877868652343, 0.18299835205078127) … RGB(0.5501000518798829, 0.5211419052124023, 0.18022431030273436) RGB(0.5480906158447265, 0.5206259689331054, 0.18076740112304687); RGB(0.5577551651000977, 0.5230979751586914, 0.1782020248413086) RGB(0.5673554992675781, 0.5255300598144531, 0.17589942016601562) … RGB(0.550458218383789, 0.5212338668823242, 0.18012750854492188) RGB(0.5480906158447265, 0.5206259689331054, 0.18076740112304687); … ; RGB(0.5540689025878907, 0.5221609344482422, 0.17915164794921876) RGB(0.5669629669189453, 0.5254306182861328, 0.17598839416503906) … RGB(0.5511143676757813, 0.5214023376464844, 0.1799501708984375) RGB(0.5480906158447265, 0.5206259689331054, 0.18076740112304687); RGB(0.5480906158447265, 0.5206259689331054, 0.18076740112304687) RGB(0.5480906158447265, 0.5206259689331054, 0.18076740112304687) … RGB(0.5480906158447265, 0.5206259689331054, 0.18076740112304687) RGB(0.5480906158447265, 0.5206259689331054, 0.18076740112304687)]",
      "text/html": [
       "<table><tbody><tr><td style='text-align:center;vertical-align:middle; margin: 0.5em;border:1px #90999f solid;border-collapse:collapse'><img style='max-width: 100px; max-height:100px;display:inline' src=\"data:image/png;base64,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\"></td></tr></tbody></table><div><small>(a vector displayed as a row to save space)</small></div>"
      ]
     },
     "metadata": {},
     "execution_count": 3
    }
   ],
   "cell_type": "code",
   "source": [
    "analyzer = Gradient(model)\n",
    "heatmap(input, analyzer)"
   ],
   "metadata": {},
   "execution_count": 3
  },
  {
   "cell_type": "markdown",
   "source": [
    "Now we wrap the analyzer in a `NoiseAugmentation` with 10 samples of noise.\n",
    "By default, the noise is sampled from a Gaussian distribution\n",
    "with mean 0 and standard deviation 1."
   ],
   "metadata": {}
  },
  {
   "outputs": [
    {
     "name": "stdout",
     "output_type": "stream",
     "text": [
      "\rSampling NoiseAugmentation...   4%|▉                     |  ETA: 0:00:23\u001b[K\rSampling NoiseAugmentation... 100%|██████████████████████| Time: 0:00:01\u001b[K\n"
     ]
    },
    {
     "output_type": "execute_result",
     "data": {
      "text/plain": "1-element Vector{Matrix{ColorTypes.RGB{Float64}}}:\n [RGB(0.38064511718750005, 0.4739408142089844, 0.25677063903808595) RGB(0.38194902343750003, 0.47430753784179686, 0.2560575653076172) … RGB(0.384001953125, 0.47488964233398434, 0.25493958740234374) RGB(0.38176567382812504, 0.47425597076416015, 0.25615783462524416); RGB(0.377340478515625, 0.4730113845825195, 0.2585778633117676) RGB(0.37671181640625, 0.47282538299560545, 0.25892166290283203) … RGB(0.386677587890625, 0.47568397140502927, 0.2535181564331055) RGB(0.382402587890625, 0.4744351028442383, 0.25580952224731446); … ; RGB(0.38434101562499995, 0.47499030151367183, 0.25475946044921877) RGB(0.376109716796875, 0.4726466346740723, 0.259250936126709) … RGB(0.376627978515625, 0.4728004936218262, 0.2589675117492676) RGB(0.37799848632812505, 0.47319644927978516, 0.25821801528930666); RGB(0.382057275390625, 0.47433798370361324, 0.2559983650207519) RGB(0.379274462890625, 0.47355531768798825, 0.2575202156066895) … RGB(0.3803234375, 0.473850341796875, 0.2569465576171875) RGB(0.380932080078125, 0.4740215225219726, 0.2566137062072754)]",
      "text/html": [
       "<table><tbody><tr><td style='text-align:center;vertical-align:middle; margin: 0.5em;border:1px #90999f solid;border-collapse:collapse'><img style='max-width: 100px; max-height:100px;display:inline' src=\"data:image/png;base64,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\"></td></tr></tbody></table><div><small>(a vector displayed as a row to save space)</small></div>"
      ]
     },
     "metadata": {},
     "execution_count": 4
    }
   ],
   "cell_type": "code",
   "source": [
    "analyzer = NoiseAugmentation(Gradient(model), 50)\n",
    "heatmap(input, analyzer)"
   ],
   "metadata": {},
   "execution_count": 4
  },
  {
   "cell_type": "markdown",
   "source": [
    "Note that a higher sample size is desired, as it will lead to a smoother heatmap.\n",
    "However, this comes at the cost of a longer computation time.\n",
    "\n",
    "We can also set the standard deviation of the Gaussian distribution:"
   ],
   "metadata": {}
  },
  {
   "outputs": [
    {
     "output_type": "execute_result",
     "data": {
      "text/plain": "1-element Vector{Matrix{ColorTypes.RGB{Float64}}}:\n [RGB(0.5157418334960937, 0.5120886596679688, 0.19161085205078124) RGB(0.5138847137451172, 0.5115916839599609, 0.19231708068847655) … RGB(0.5204534545898437, 0.5133418838500977, 0.1898584747314453) RGB(0.5185229370117187, 0.5128324417114258, 0.19055560607910155); RGB(0.5172018966674804, 0.5124793807983399, 0.1910556167602539) RGB(0.5178226699829102, 0.5126455032348632, 0.19081954803466797) … RGB(0.520779638671875, 0.5134279602050782, 0.18974068603515623) RGB(0.5185478759765625, 0.5128390228271485, 0.19054660034179688); … ; RGB(0.514618049621582, 0.5117879287719727, 0.1920382064819336) RGB(0.5195142333984375, 0.5130940338134766, 0.19019763793945313) … RGB(0.5163111465454101, 0.5122410110473633, 0.19139435272216795) RGB(0.5172129470825195, 0.5124823379516602, 0.1910514144897461); RGB(0.5194127197265624, 0.5130672454833984, 0.19023429565429686) RGB(0.5193778930664062, 0.5130580551147461, 0.1902468719482422) … RGB(0.5162744201660157, 0.5122311828613282, 0.19140831909179687) RGB(0.5177578842163086, 0.5126281661987305, 0.19084418487548827)]",
      "text/html": [
       "<table><tbody><tr><td style='text-align:center;vertical-align:middle; margin: 0.5em;border:1px #90999f solid;border-collapse:collapse'><img style='max-width: 100px; max-height:100px;display:inline' src=\"data:image/png;base64,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\"></td></tr></tbody></table><div><small>(a vector displayed as a row to save space)</small></div>"
      ]
     },
     "metadata": {},
     "execution_count": 5
    }
   ],
   "cell_type": "code",
   "source": [
    "analyzer = NoiseAugmentation(Gradient(model), 50, 0.1)\n",
    "heatmap(input, analyzer)"
   ],
   "metadata": {},
   "execution_count": 5
  },
  {
   "cell_type": "markdown",
   "source": [
    "When used with a `Gradient` analyzer, this is equivalent to `SmoothGrad`:"
   ],
   "metadata": {}
  },
  {
   "outputs": [
    {
     "output_type": "execute_result",
     "data": {
      "text/plain": "1-element Vector{Matrix{ColorTypes.RGB{Float64}}}:\n [RGB(0.40841638565063476, 0.4820832511901855, 0.24186681365966795) RGB(0.40552046585083007, 0.48123675155639645, 0.24338160247802737) … RGB(0.4120198707580566, 0.48309781036376953, 0.23998191375732422) RGB(0.411821704864502, 0.4830429336547852, 0.24008556976318357); RGB(0.40914725875854485, 0.4822968910217285, 0.24148451080322264) RGB(0.4108817062377929, 0.48278262634277347, 0.24057726135253907) … RGB(0.4262603866577148, 0.4871825355529785, 0.23256283111572268) RGB(0.41946983718872066, 0.48521426010131835, 0.2360850082397461); … ; RGB(0.4081937713623047, 0.4820181793212891, 0.24198325805664062) RGB(0.41139031219482425, 0.4829234710693359, 0.24031122131347654) … RGB(0.4074217872619629, 0.4817925224304199, 0.2423870651245117) RGB(0.41301803970336914, 0.48337422637939453, 0.2394597946166992); RGB(0.4117395324707031, 0.48302017822265625, 0.24012855224609375) RGB(0.4132497787475586, 0.4834384002685547, 0.23933857727050778) … RGB(0.4058124084472656, 0.4813220886230468, 0.24322889404296874) RGB(0.41288746643066404, 0.4833380676269531, 0.23952809448242188)]",
      "text/html": [
       "<table><tbody><tr><td style='text-align:center;vertical-align:middle; margin: 0.5em;border:1px #90999f solid;border-collapse:collapse'><img style='max-width: 100px; max-height:100px;display:inline' src=\"data:image/png;base64,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\"></td></tr></tbody></table><div><small>(a vector displayed as a row to save space)</small></div>"
      ]
     },
     "metadata": {},
     "execution_count": 6
    }
   ],
   "cell_type": "code",
   "source": [
    "analyzer = SmoothGrad(model, 50)\n",
    "heatmap(input, analyzer)"
   ],
   "metadata": {},
   "execution_count": 6
  },
  {
   "cell_type": "markdown",
   "source": [
    "We can also use any distribution from\n",
    "[Distributions.jl](https://github.com/JuliaStats/Distributions.jl),\n",
    "for example Poisson noise with rate $\\lambda=0.5$:"
   ],
   "metadata": {}
  },
  {
   "outputs": [
    {
     "output_type": "execute_result",
     "data": {
      "text/plain": "1-element Vector{Matrix{ColorTypes.RGB{Float64}}}:\n [RGB(0.3986030578613282, 0.47921473999023434, 0.24706758422851563) RGB(0.3975138397216797, 0.47889635314941403, 0.24765408630371094) … RGB(0.40372006225585944, 0.4807104797363281, 0.24432335205078123) RGB(0.40090933990478517, 0.47988888397216795, 0.24582574005126953); RGB(0.4000200233459473, 0.47962892990112305, 0.24630460281372069) RGB(0.4025968742370606, 0.4803821632385254, 0.24491706771850585) … RGB(0.4111577796936035, 0.48285907745361334, 0.24043285369873046) RGB(0.40631382369995117, 0.48146865615844725, 0.24296661529541014); … ; RGB(0.3991720161437988, 0.4793810508728027, 0.24676122207641601) RGB(0.393825341796875, 0.4778059608459473, 0.24966270370483398) … RGB(0.389299560546875, 0.4764623695373535, 0.25212523345947263) RGB(0.39694726181030277, 0.478730738067627, 0.2479591667175293); RGB(0.40032084274291996, 0.4797168617248535, 0.24614262313842775) RGB(0.39982582473754885, 0.47957216415405274, 0.246409171295166) … RGB(0.39681658935546876, 0.4786925415039063, 0.24802952880859375) RGB(0.3975843086242676, 0.478916951751709, 0.24761614151000977)]",
      "text/html": [
       "<table><tbody><tr><td style='text-align:center;vertical-align:middle; margin: 0.5em;border:1px #90999f solid;border-collapse:collapse'><img style='max-width: 100px; max-height:100px;display:inline' src=\"data:image/png;base64,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\"></td></tr></tbody></table><div><small>(a vector displayed as a row to save space)</small></div>"
      ]
     },
     "metadata": {},
     "execution_count": 7
    }
   ],
   "cell_type": "code",
   "source": [
    "using Distributions\n",
    "\n",
    "analyzer = NoiseAugmentation(Gradient(model), 50, Poisson(0.5))\n",
    "heatmap(input, analyzer)"
   ],
   "metadata": {},
   "execution_count": 7
  },
  {
   "cell_type": "markdown",
   "source": [
    "Is is also possible to define your own distributions or mixture distributions.\n",
    "\n",
    "`NoiseAugmentation` can be combined with any analyzer type from the Julia-XAI ecosystem,\n",
    "for example `LRP` from [RelevancePropagation.jl](https://github.com/Julia-XAI/RelevancePropagation.jl)."
   ],
   "metadata": {}
  },
  {
   "cell_type": "markdown",
   "source": [
    "## Integration augmentation\n",
    "The `InterpolationAugmentation` wrapper computes explanations\n",
    "averaged over `n` steps of linear interpolation between the input and a reference input,\n",
    "which is set to `zero(input)` by default:"
   ],
   "metadata": {}
  },
  {
   "outputs": [
    {
     "output_type": "execute_result",
     "data": {
      "text/plain": "1-element Vector{Matrix{ColorTypes.RGB{Float64}}}:\n [RGB(0.7892717529296875, 0.5711786254882814, 0.23524071044921874) RGB(0.7892717529296875, 0.5711786254882814, 0.23524071044921874) … RGB(0.7892717529296875, 0.5711786254882814, 0.23524071044921874) RGB(0.7892717529296875, 0.5711786254882814, 0.23524071044921874); RGB(0.7892717529296875, 0.5711786254882814, 0.23524071044921874) RGB(0.7892717529296875, 0.5711786254882814, 0.23524071044921874) … RGB(0.7892717529296875, 0.5711786254882814, 0.23524071044921874) RGB(0.7892717529296875, 0.5711786254882814, 0.23524071044921874); … ; RGB(0.7892717529296875, 0.5711786254882814, 0.23524071044921874) RGB(0.7892717529296875, 0.5711786254882814, 0.23524071044921874) … RGB(0.7892717529296875, 0.5711786254882814, 0.23524071044921874) RGB(0.7892717529296875, 0.5711786254882814, 0.23524071044921874); RGB(0.7892717529296875, 0.5711786254882814, 0.23524071044921874) RGB(0.7892717529296875, 0.5711786254882814, 0.23524071044921874) … RGB(0.7892717529296875, 0.5711786254882814, 0.23524071044921874) RGB(0.7892717529296875, 0.5711786254882814, 0.23524071044921874)]",
      "text/html": [
       "<table><tbody><tr><td style='text-align:center;vertical-align:middle; margin: 0.5em;border:1px #90999f solid;border-collapse:collapse'><img style='max-width: 100px; max-height:100px;display:inline' src=\"data:image/png;base64,iVBORw0KGgoAAAANSUhEUgAAAHAAAABwCAIAAABJgmMcAAAAAXNSR0IArs4c6QAAAARnQU1BAACxjwv8YQUAAAAgY0hSTQAAeiYAAICEAAD6AAAAgOgAAHUwAADqYAAAOpgAABdwnLpRPAAABE9JREFUeAHtwTtsVQUcx/HvOfd/em/vpdDSNm2RiERRGmvQAU2ML6ImPiJOLo5uLiZuOjo7mDiYaBxcZTWOmiAyGGOwJYIEjYLl2dIH7e3t7T33HKdfWUgM5E8f5v/52E+fPkPwYwRXRnBlBFdGcGUEV0ZwZQRXRnBlBFdGcGUEV0ZwZQRXRnBlBFdGcGUEV0ZwZQRXRnBlBFdGcGUEV0ZwZQRXRnBlBFfGFpaQcEuJTK7MI6eX+5GRahM5vKOCDFTqSEHJvWQEV0ZwZQRXxhZQUiIJCbLQbSIL3Q7SJUFqlRxpFxXk4toqkmcF8lz/80hetJHzK78hBQV3ywiujODKCK6MDdQs2siutI6M9owi8/kccj1fQgYrVWSlaCGHdjSRy2spcmppALlRW0Imev9BWkULGajsQm5057lbRnBlBFdGcGXcY2tljjxS3Y/UswGk0bsPWZo/geyxfiQnR8YrNW6nN72JvNCXICn9yLG580ijUiCdIkEON/qQNEm5E0ZwZQRXRnBl3AOdMkcerU8gu/a9w7ruCjL912fIctFEuhTckvBfXh16A7mw9AvSKtvIWE+BXFg15OHeLh6M4MoIrozgynBSS3qQ8cYTyOLaFaT8+0uk1V1CrubXuRMJCVJNMmRq8ThyujWPrBYJ8mb/QWS5dxmZzeeRNEm5W0ZwZQRXRnBlOFnoNpFPLp1EziwPI5NzDeT9h84gJ+bHkNOLo8gHD/6KTDbryGv9CfLNYgvZaWvIcMa6g7Uqsla0kfsbE0hn+RTSKtvcLSO4MoIrI7gynFQT45YOMjU/gpz7dg15Nz2EZNUE6d1TQU6N1JGvpiaQ9mNnkYVOAxnMVpCibCH7elLkUuc6srB0E8np4sEIrozgygiuDCdJkiCv9NeRIzvPIZ/v3omMVW8ip5fGkKGeJlJNu8iLB6aRH2b2I0fHfud20qREirJE6pUMyenizQiujODKCK6Me6yaZsh797W4JUPeGprl9nqR45VryMnLe5GzfcPI3toC8lQf63ZUamwUI7gygisjuDK2sJQUydICeXLsCrLD2sjruwukntbZDEZwZQRXRnBlbDGPD7yMJOMfIqs/Pou8PTiIXF27jLTLGlJSshmM4MoIrozgytgCHqg+gNjIS6y7+DXy9IGPWGcNpPnnx8hqPsdmM4IrI7gygitjC6hng6xrz7EuMaRYnESuLv6MzORzbCVGcGUEV0ZwZWySDEPqOw8hZf8EkqxMI5euHEOu5TNsVUZwZQRXRnBlbJKhbBCZmf0OGS47SKc1jVzLZ9gOjODKCK6M4MrYQLP5MnK+vYAc3X0E+X76C2TUBthujODKCK6M4MrYQFMrrJuoV5A/mlNIllSQlXKV7cYIrozgygiujA2023IkxZCcAqklGduZEVwZwZURXBkbaLzWQDplF6mQImVSsp0ZwZURXBnBlbGBqmmGVMmQnC7/F0ZwZQRXRnD1LxDMHwivzatpAAAAAElFTkSuQmCC\"></td></tr></tbody></table><div><small>(a vector displayed as a row to save space)</small></div>"
      ]
     },
     "metadata": {},
     "execution_count": 8
    }
   ],
   "cell_type": "code",
   "source": [
    "analyzer = InterpolationAugmentation(Gradient(model), 50)\n",
    "heatmap(input, analyzer)"
   ],
   "metadata": {},
   "execution_count": 8
  },
  {
   "cell_type": "markdown",
   "source": [
    "When used with a `Gradient` analyzer, this is equivalent to `IntegratedGradients`:"
   ],
   "metadata": {}
  },
  {
   "outputs": [
    {
     "output_type": "execute_result",
     "data": {
      "text/plain": "1-element Vector{Matrix{ColorTypes.RGB{Float64}}}:\n [RGB(0.7892717529296875, 0.5711786254882814, 0.23524071044921874) RGB(0.7892717529296875, 0.5711786254882814, 0.23524071044921874) … RGB(0.7892717529296875, 0.5711786254882814, 0.23524071044921874) RGB(0.7892717529296875, 0.5711786254882814, 0.23524071044921874); RGB(0.7892717529296875, 0.5711786254882814, 0.23524071044921874) RGB(0.7892717529296875, 0.5711786254882814, 0.23524071044921874) … RGB(0.7892717529296875, 0.5711786254882814, 0.23524071044921874) RGB(0.7892717529296875, 0.5711786254882814, 0.23524071044921874); … ; RGB(0.7892717529296875, 0.5711786254882814, 0.23524071044921874) RGB(0.7892717529296875, 0.5711786254882814, 0.23524071044921874) … RGB(0.7892717529296875, 0.5711786254882814, 0.23524071044921874) RGB(0.7892717529296875, 0.5711786254882814, 0.23524071044921874); RGB(0.7892717529296875, 0.5711786254882814, 0.23524071044921874) RGB(0.7892717529296875, 0.5711786254882814, 0.23524071044921874) … RGB(0.7892717529296875, 0.5711786254882814, 0.23524071044921874) RGB(0.7892717529296875, 0.5711786254882814, 0.23524071044921874)]",
      "text/html": [
       "<table><tbody><tr><td style='text-align:center;vertical-align:middle; margin: 0.5em;border:1px #90999f solid;border-collapse:collapse'><img style='max-width: 100px; max-height:100px;display:inline' src=\"data:image/png;base64,iVBORw0KGgoAAAANSUhEUgAAAHAAAABwCAIAAABJgmMcAAAAAXNSR0IArs4c6QAAAARnQU1BAACxjwv8YQUAAAAgY0hSTQAAeiYAAICEAAD6AAAAgOgAAHUwAADqYAAAOpgAABdwnLpRPAAABE9JREFUeAHtwTtsVQUcx/HvOfd/em/vpdDSNm2RiERRGmvQAU2ML6ImPiJOLo5uLiZuOjo7mDiYaBxcZTWOmiAyGGOwJYIEjYLl2dIH7e3t7T33HKdfWUgM5E8f5v/52E+fPkPwYwRXRnBlBFdGcGUEV0ZwZQRXRnBlBFdGcGUEV0ZwZQRXRnBlBFdGcGUEV0ZwZQRXRnBlBFdGcGUEV0ZwZQRXRnBlBFfGFpaQcEuJTK7MI6eX+5GRahM5vKOCDFTqSEHJvWQEV0ZwZQRXxhZQUiIJCbLQbSIL3Q7SJUFqlRxpFxXk4toqkmcF8lz/80hetJHzK78hBQV3ywiujODKCK6MDdQs2siutI6M9owi8/kccj1fQgYrVWSlaCGHdjSRy2spcmppALlRW0Imev9BWkULGajsQm5057lbRnBlBFdGcGXcY2tljjxS3Y/UswGk0bsPWZo/geyxfiQnR8YrNW6nN72JvNCXICn9yLG580ijUiCdIkEON/qQNEm5E0ZwZQRXRnBl3AOdMkcerU8gu/a9w7ruCjL912fIctFEuhTckvBfXh16A7mw9AvSKtvIWE+BXFg15OHeLh6M4MoIrozgynBSS3qQ8cYTyOLaFaT8+0uk1V1CrubXuRMJCVJNMmRq8ThyujWPrBYJ8mb/QWS5dxmZzeeRNEm5W0ZwZQRXRnBlOFnoNpFPLp1EziwPI5NzDeT9h84gJ+bHkNOLo8gHD/6KTDbryGv9CfLNYgvZaWvIcMa6g7Uqsla0kfsbE0hn+RTSKtvcLSO4MoIrI7gynFQT45YOMjU/gpz7dg15Nz2EZNUE6d1TQU6N1JGvpiaQ9mNnkYVOAxnMVpCibCH7elLkUuc6srB0E8np4sEIrozgygiuDCdJkiCv9NeRIzvPIZ/v3omMVW8ip5fGkKGeJlJNu8iLB6aRH2b2I0fHfud20qREirJE6pUMyenizQiujODKCK6Me6yaZsh797W4JUPeGprl9nqR45VryMnLe5GzfcPI3toC8lQf63ZUamwUI7gygisjuDK2sJQUydICeXLsCrLD2sjruwukntbZDEZwZQRXRnBlbDGPD7yMJOMfIqs/Pou8PTiIXF27jLTLGlJSshmM4MoIrozgytgCHqg+gNjIS6y7+DXy9IGPWGcNpPnnx8hqPsdmM4IrI7gygitjC6hng6xrz7EuMaRYnESuLv6MzORzbCVGcGUEV0ZwZWySDEPqOw8hZf8EkqxMI5euHEOu5TNsVUZwZQRXRnBlbJKhbBCZmf0OGS47SKc1jVzLZ9gOjODKCK6M4MrYQLP5MnK+vYAc3X0E+X76C2TUBthujODKCK6M4MrYQFMrrJuoV5A/mlNIllSQlXKV7cYIrozgygiujA2023IkxZCcAqklGduZEVwZwZURXBkbaLzWQDplF6mQImVSsp0ZwZURXBnBlbGBqmmGVMmQnC7/F0ZwZQRXRnD1LxDMHwivzatpAAAAAElFTkSuQmCC\"></td></tr></tbody></table><div><small>(a vector displayed as a row to save space)</small></div>"
      ]
     },
     "metadata": {},
     "execution_count": 9
    }
   ],
   "cell_type": "code",
   "source": [
    "analyzer = IntegratedGradients(model, 50)\n",
    "heatmap(input, analyzer)"
   ],
   "metadata": {},
   "execution_count": 9
  },
  {
   "cell_type": "markdown",
   "source": [
    "To select a different reference input, pass it to the `analyze` function\n",
    "using the keyword argument `input_ref`.\n",
    "Note that this is an arbitrary example for the sake of demonstration."
   ],
   "metadata": {}
  },
  {
   "outputs": [
    {
     "output_type": "execute_result",
     "data": {
      "text/plain": "1-element Vector{Matrix{ColorTypes.RGB{Float64}}}:\n [RGB(0.5700147277832031, 0.5262036819458008, 0.1752970932006836) RGB(0.5779593811035156, 0.5281851165771485, 0.1737385269165039) … RGB(0.6049205444335938, 0.5346333740234375, 0.17031295166015625) RGB(0.5770931091308594, 0.5279732772827148, 0.1739000442504883); RGB(0.5695549392700194, 0.5260872512817383, 0.1754008804321289) RGB(0.5767471801757812, 0.5278867950439453, 0.17396831970214843) … RGB(0.5702010864257813, 0.5262502716064453, 0.17526031188964844) RGB(0.5770931091308594, 0.5279732772827148, 0.1739000442504883); … ; RGB(0.5645154190063476, 0.5248105728149414, 0.17654317169189454) RGB(0.5449493194580077, 0.5198194198608398, 0.18168804016113282) … RGB(0.5758977233886718, 0.527674430847168, 0.17413597564697267) RGB(0.5770931091308594, 0.5279732772827148, 0.1739000442504883); RGB(0.5770931091308594, 0.5279732772827148, 0.1739000442504883) RGB(0.5770931091308594, 0.5279732772827148, 0.1739000442504883) … RGB(0.5770931091308594, 0.5279732772827148, 0.1739000442504883) RGB(0.5770931091308594, 0.5279732772827148, 0.1739000442504883)]",
      "text/html": [
       "<table><tbody><tr><td style='text-align:center;vertical-align:middle; margin: 0.5em;border:1px #90999f solid;border-collapse:collapse'><img style='max-width: 100px; max-height:100px;display:inline' src=\"data:image/png;base64,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\"></td></tr></tbody></table><div><small>(a vector displayed as a row to save space)</small></div>"
      ]
     },
     "metadata": {},
     "execution_count": 10
    }
   ],
   "cell_type": "code",
   "source": [
    "matrix_of_ones = ones(Float32, size(input))\n",
    "\n",
    "analyzer = InterpolationAugmentation(Gradient(model), 50)\n",
    "expl = analyzer(input; input_ref=matrix_of_ones)\n",
    "heatmap(expl)"
   ],
   "metadata": {},
   "execution_count": 10
  },
  {
   "cell_type": "markdown",
   "source": [
    "Once again, `InterpolationAugmentation` can be combined with any analyzer type from the Julia-XAI ecosystem,\n",
    "for example `LRP` from [RelevancePropagation.jl](https://github.com/Julia-XAI/RelevancePropagation.jl)."
   ],
   "metadata": {}
  },
  {
   "cell_type": "markdown",
   "source": [
    "---\n",
    "\n",
    "*This notebook was generated using [Literate.jl](https://github.com/fredrikekre/Literate.jl).*"
   ],
   "metadata": {}
  }
 ],
 "nbformat_minor": 3,
 "metadata": {
  "language_info": {
   "file_extension": ".jl",
   "mimetype": "application/julia",
   "name": "julia",
   "version": "1.11.4"
  },
  "kernelspec": {
   "name": "julia-1.11",
   "display_name": "Julia 1.11.4",
   "language": "julia"
  }
 },
 "nbformat": 4
}
