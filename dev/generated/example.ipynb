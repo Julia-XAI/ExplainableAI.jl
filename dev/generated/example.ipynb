{
 "cells": [
  {
   "cell_type": "markdown",
   "source": [
    "# Getting started"
   ],
   "metadata": {}
  },
  {
   "cell_type": "markdown",
   "source": [
    "For this first example, we already have loaded a pre-trained LeNet5 model\n",
    "to look at explanations on the MNIST dataset."
   ],
   "metadata": {}
  },
  {
   "outputs": [
    {
     "output_type": "execute_result",
     "data": {
      "text/plain": "Chain(\n  Conv((5, 5), 1 => 6, relu),           \u001b[90m# 156 parameters\u001b[39m\n  MaxPool((2, 2)),\n  Conv((5, 5), 6 => 16, relu),          \u001b[90m# 2_416 parameters\u001b[39m\n  MaxPool((2, 2)),\n  Flux.flatten,\n  Dense(256 => 120, relu),              \u001b[90m# 30_840 parameters\u001b[39m\n  Dense(120 => 84, relu),               \u001b[90m# 10_164 parameters\u001b[39m\n  Dense(84 => 10),                      \u001b[90m# 850 parameters\u001b[39m\n) \u001b[90m                  # Total: 10 arrays, \u001b[39m44_426 parameters, 174.344 KiB."
     },
     "metadata": {},
     "execution_count": 1
    }
   ],
   "cell_type": "code",
   "source": [
    "using Flux\n",
    "\n",
    "using BSON # hide\n",
    "model = BSON.load(\"../model.bson\", @__MODULE__)[:model] # hide\n",
    "model"
   ],
   "metadata": {},
   "execution_count": 1
  },
  {
   "cell_type": "markdown",
   "source": [
    "## Preparing the input data\n",
    "We use MLDatasets to load a single image from the MNIST dataset:"
   ],
   "metadata": {}
  },
  {
   "outputs": [
    {
     "output_type": "execute_result",
     "data": {
      "text/plain": "28×28 reinterpret(reshape, ColorTypes.Gray{Float32}, ::Matrix{Float32}) with eltype ColorTypes.Gray{Float32}:\n 0.0  0.0  0.0  0.0  0.0  0.0  0.0  …  0.0        0.0  0.0  0.0  0.0  0.0\n 0.0  0.0  0.0  0.0  0.0  0.0  0.0     0.0        0.0  0.0  0.0  0.0  0.0\n 0.0  0.0  0.0  0.0  0.0  0.0  0.0     0.0        0.0  0.0  0.0  0.0  0.0\n 0.0  0.0  0.0  0.0  0.0  0.0  0.0     0.0        0.0  0.0  0.0  0.0  0.0\n 0.0  0.0  0.0  0.0  0.0  0.0  0.0     0.0        0.0  0.0  0.0  0.0  0.0\n 0.0  0.0  0.0  0.0  0.0  0.0  0.0  …  0.0        0.0  0.0  0.0  0.0  0.0\n 0.0  0.0  0.0  0.0  0.0  0.0  0.0     0.0        0.0  0.0  0.0  0.0  0.0\n 0.0  0.0  0.0  0.0  0.0  0.0  0.0     0.0        0.0  0.0  0.0  0.0  0.0\n 0.0  0.0  0.0  0.0  0.0  0.0  0.0     0.0235294  0.0  0.0  0.0  0.0  0.0\n 0.0  0.0  0.0  0.0  0.0  0.0  0.0     0.407843   0.0  0.0  0.0  0.0  0.0\n ⋮                        ⋮         ⋱                       ⋮         \n 0.0  0.0  0.0  0.0  0.0  0.0  0.0     0.0        0.0  0.0  0.0  0.0  0.0\n 0.0  0.0  0.0  0.0  0.0  0.0  0.0  …  0.0        0.0  0.0  0.0  0.0  0.0\n 0.0  0.0  0.0  0.0  0.0  0.0  0.0     0.0        0.0  0.0  0.0  0.0  0.0\n 0.0  0.0  0.0  0.0  0.0  0.0  0.0     0.0        0.0  0.0  0.0  0.0  0.0\n 0.0  0.0  0.0  0.0  0.0  0.0  0.0     0.0        0.0  0.0  0.0  0.0  0.0\n 0.0  0.0  0.0  0.0  0.0  0.0  0.0     0.0        0.0  0.0  0.0  0.0  0.0\n 0.0  0.0  0.0  0.0  0.0  0.0  0.0  …  0.0        0.0  0.0  0.0  0.0  0.0\n 0.0  0.0  0.0  0.0  0.0  0.0  0.0     0.0        0.0  0.0  0.0  0.0  0.0\n 0.0  0.0  0.0  0.0  0.0  0.0  0.0     0.0        0.0  0.0  0.0  0.0  0.0",
      "image/png": "[encoded data removed]",
      "text/html": [
       "<img src=\"data:image/png;base64,iVBORw0KGgoAAAANSUhEUgAAAHAAAABwCAAAAADji6uXAAAAAXNSR0IArs4c6QAAAARnQU1BAACxjwv8YQUAAAAgY0hSTQAAeiYAAICEAAD6AAAAgOgAAHUwAADqYAAAOpgAABdwnLpRPAAAAjhJREFUaAW9wb2L1gUAB/DPcd+oQaPswCGqpSGHXqYTapGgJSg4CeoPcEiECqFDpCGwTdIQImuIsGiTtmjJgl6GoKEiIhqCoMQsOOhFy85r+A3H8fTo73mM7+cTZVEWZVEWZVEWZVEWZVEWZVEWZVEWZVEWZVEWZVEWZVEWZVEWZVEWZVEWc7gTS1jBHlzGSXyK71xZlEVZlMUM7sYB7MWSrXbjH3yLj/E0/jYpyqIsymKEe3AAj+NGgx/xEb7HKj7HMnbgYXyBkyZFWZRFWVzFq1jBksH7+AqHcdHgfuzH67gP5/AyTuO8raIsyqIsprgBq9iHBZzHKziKP2x1CxbxPN7DHaaLsiiLsphiD57FAn7CXnxmq0XchlN4FzcbLOBNrJkUZVEWZTHFItYNLmE3HsNdBhewC7vwC3badA4v4JJJURZlURZTnMEHeAi34wQ2DNaxaNNOg8t4B0/hrP8WZVEWZTHFBazgJhzCA/gVP+B63ItlW72Gw1gzXZRFWZTFVazhkEmnsGzwGw7iDay7siiLsiiLOaziCZv2423jRFmURVnMaB+eQwy+xmnjRVmURVnMYBkvYpvB73gSfxkvyqIsymIGj2C7wZ94FJ+YTZRFWZTFSNuxatNb+NDsoizKoixG2IZvcJ3Bl3jGfKIsyqIsRngQt2LD4CAumk+URVmUxQhHsGFwFGfML8qiLMpihB1YwM94ybWJsiiLshjhGI7hCM66NlEWZVEWIxzHcf+PKIuyKPsXNwdYfgiRxs8AAAAASUVORK5C\">"
      ]
     },
     "metadata": {},
     "execution_count": 2
    }
   ],
   "cell_type": "code",
   "source": [
    "using MLDatasets\n",
    "using ImageCore, ImageIO, ImageShow\n",
    "\n",
    "index = 10\n",
    "x, y = MNIST(Float32, :test)[10]\n",
    "\n",
    "convert2image(MNIST, x)"
   ],
   "metadata": {},
   "execution_count": 2
  },
  {
   "cell_type": "markdown",
   "source": [
    "By convention in Flux.jl, this input needs to be resized to WHCN format\n",
    "by adding a color channel and batch dimensions."
   ],
   "metadata": {}
  },
  {
   "outputs": [],
   "cell_type": "code",
   "source": [
    "input = reshape(x, 28, 28, 1, :);"
   ],
   "metadata": {},
   "execution_count": 3
  },
  {
   "cell_type": "markdown",
   "source": [
    "## Explanations\n",
    "We can now select an analyzer of our choice and call `analyze` to get an `Explanation`.\n",
    "Note that for gradient-based optimizers, a backend for automatic differentiation must be loaded, by default [Zygote.jl](https://github.com/FluxML/Zygote.jl):"
   ],
   "metadata": {}
  },
  {
   "outputs": [],
   "cell_type": "code",
   "source": [
    "using ExplainableAI\n",
    "using Zygote\n",
    "\n",
    "analyzer = InputTimesGradient(model)\n",
    "expl = analyze(input, analyzer);"
   ],
   "metadata": {},
   "execution_count": 4
  },
  {
   "cell_type": "markdown",
   "source": [
    "The return value `expl` is of type `Explanation` and bundles the following data:\n",
    "* `expl.val`: numerical output of the analyzer, e.g. an attribution or gradient\n",
    "* `expl.output`: model output for the given analyzer input\n",
    "* `expl.output_selection`: index of the output used for the explanation\n",
    "* `expl.analyzer`: symbol corresponding the used analyzer, e.g. `:Gradient` or `:LRP`\n",
    "* `expl.heatmap`: symbol indicating a preset heatmapping style,\n",
    "    e.g. `:attibution`, `:sensitivity` or `:cam`\n",
    "* `expl.extras`: optional named tuple that can be used by analyzers\n",
    "    to return additional information.\n",
    "\n",
    "We used `InputTimesGradient`, so `expl.analyzer` is `:InputTimesGradient`."
   ],
   "metadata": {}
  },
  {
   "outputs": [
    {
     "output_type": "execute_result",
     "data": {
      "text/plain": ":InputTimesGradient"
     },
     "metadata": {},
     "execution_count": 5
    }
   ],
   "cell_type": "code",
   "source": [
    "expl.analyzer"
   ],
   "metadata": {},
   "execution_count": 5
  },
  {
   "cell_type": "markdown",
   "source": [
    "By default, the explanation is computed for the maximally activated output neuron.\n",
    "Since our digit is a 9 and Julia's indexing is 1-based,\n",
    "the output neuron at index `10` of our trained model is maximally activated."
   ],
   "metadata": {}
  },
  {
   "cell_type": "markdown",
   "source": [
    "Finally, we obtain the result of the analyzer in form of an array."
   ],
   "metadata": {}
  },
  {
   "outputs": [
    {
     "output_type": "execute_result",
     "data": {
      "text/plain": "28×28×1×1 Array{Float32, 4}:\n[:, :, 1, 1] =\n -0.0   0.0   0.0  -0.0  -0.0  -0.0  -0.0  …  -0.0       0.0         0.0\n -0.0   0.0   0.0  -0.0  -0.0  -0.0  -0.0     -0.0       0.0         0.0\n -0.0   0.0   0.0  -0.0  -0.0  -0.0  -0.0     -0.0       0.0         0.0\n  0.0   0.0   0.0  -0.0  -0.0  -0.0  -0.0      0.0       0.0         0.0\n  0.0   0.0  -0.0  -0.0  -0.0   0.0   0.0      0.0       0.0         0.0\n -0.0   0.0   0.0  -0.0   0.0  -0.0  -0.0  …   0.0       0.0         0.0\n -0.0   0.0   0.0   0.0   0.0   0.0   0.0      0.0       0.0         0.0\n -0.0   0.0   0.0   0.0  -0.0   0.0  -0.0      0.0       0.0        -0.0\n -0.0   0.0   0.0   0.0  -0.0  -0.0  -0.0      0.0       0.0        -0.0\n -0.0   0.0   0.0   0.0  -0.0   0.0  -0.0      0.385115  0.0714216   0.0\n  ⋮                             ⋮          ⋱   ⋮                    \n  0.0  -0.0  -0.0   0.0   0.0   0.0  -0.0     -0.0       0.0         0.0\n -0.0  -0.0   0.0   0.0   0.0   0.0  -0.0  …  -0.0       0.0         0.0\n -0.0   0.0   0.0   0.0   0.0   0.0  -0.0      0.0       0.0         0.0\n -0.0   0.0   0.0   0.0  -0.0   0.0  -0.0      0.0       0.0         0.0\n -0.0   0.0   0.0  -0.0  -0.0   0.0  -0.0      0.0       0.0         0.0\n  0.0   0.0  -0.0  -0.0  -0.0   0.0  -0.0      0.0       0.0         0.0\n  0.0   0.0   0.0  -0.0  -0.0   0.0   0.0  …   0.0       0.0         0.0\n  0.0   0.0  -0.0  -0.0   0.0   0.0   0.0      0.0       0.0         0.0\n  0.0   0.0   0.0   0.0   0.0   0.0  -0.0      0.0       0.0         0.0"
     },
     "metadata": {},
     "execution_count": 6
    }
   ],
   "cell_type": "code",
   "source": [
    "expl.val"
   ],
   "metadata": {},
   "execution_count": 6
  },
  {
   "cell_type": "markdown",
   "source": [
    "## Heatmapping basics\n",
    "Since the array `expl.val` is not very informative at first sight,\n",
    "we can visualize `Explanation`s by computing a `heatmap` using either\n",
    "[VisionHeatmaps.jl](https://julia-xai.github.io/XAIDocs/VisionHeatmaps/stable/) or\n",
    "[TextHeatmaps.jl](https://julia-xai.github.io/XAIDocs/TextHeatmaps/stable/)."
   ],
   "metadata": {}
  },
  {
   "outputs": [
    {
     "output_type": "execute_result",
     "data": {
      "text/plain": "1-element Vector{Matrix{ColorTypes.RGB{Float64}}}:\n [RGB(0.0963, 0.0479, 0.037250000000000005) RGB(0.0963, 0.0479, 0.037250000000000005) … RGB(0.0963, 0.0479, 0.037250000000000005) RGB(0.0963, 0.0479, 0.037250000000000005); RGB(0.0963, 0.0479, 0.037250000000000005) RGB(0.0963, 0.0479, 0.037250000000000005) … RGB(0.0963, 0.0479, 0.037250000000000005) RGB(0.0963, 0.0479, 0.037250000000000005); … ; RGB(0.0963, 0.0479, 0.037250000000000005) RGB(0.0963, 0.0479, 0.037250000000000005) … RGB(0.0963, 0.0479, 0.037250000000000005) RGB(0.0963, 0.0479, 0.037250000000000005); RGB(0.0963, 0.0479, 0.037250000000000005) RGB(0.0963, 0.0479, 0.037250000000000005) … RGB(0.0963, 0.0479, 0.037250000000000005) RGB(0.0963, 0.0479, 0.037250000000000005)]",
      "text/html": [
       "<table><tbody><tr><td style='text-align:center;vertical-align:middle; margin: 0.5em;border:1px #90999f solid;border-collapse:collapse'><img style='max-width: 100px; max-height:100px;display:inline' src=\"data:image/png;base64,iVBORw0KGgoAAAANSUhEUgAAAHAAAABwCAIAAABJgmMcAAAAAXNSR0IArs4c6QAAAARnQU1BAACxjwv8YQUAAAAgY0hSTQAAeiYAAICEAAD6AAAAgOgAAHUwAADqYAAAOpgAABdwnLpRPAAABDBJREFUeAHtwT2IXGUUx+Hfe+/ZnZnNpzEkRIlJNgminaTQoEUKC3tBsBBrRW0CFoJFCgsbwULLgGBjIQiaMoJFkOAnkkBiSDBB3c3XbJLZ3dmZO++9Vv+JxTYbzm52w3ke27O5Q/BjBFdGcGUEV0ZwZQRXRnBlBFdGcGUEV0ZwZQRXRnBlBFdGcGUEV0ZwZQRXRnBlBFdGcGUEV0ZwZQRXRnBlBFdGcGUEV8Y61qSC5ewuFpBDU4bcqzJyoW/IsGghRZNZTUZwZQRXRnBlrANlk5GCGplKGWkXDdJKjNUNY03D2FQxQqyukbnHp5FUDZHW/E0kNQ0PygiujODKCK6MNVQ2GRmUbWSpswPZNH8TmUwjpJcLJJU1cmlxhGwtGTvcKZBulZE7i/eQicEiUpVtZHLU50EZwZURXBnBlbHKGhIyv+MpJHW2IBM7diNLF84is3kSKcnIYmZZg2YJuVK1kVwYsjdfRyZLxuqGsRna3JdYCSO4MoIrI7gyVkGHATK3aQ+y+5U3kVSWyOypk0grD5GiqVmJ7vSLSPP3RSTljMxVE8hjVEg3TyIpMdawMkZwZQRXRnBlOKlTgXS3HUDSaIjc/PEU0tyeQTq9G6xEQ0JyYUjr8s/ItmKA5Iaxm7ueQebn55BOfw5pSDwoI7gygisjuDKcTNQVsm/+MrK3Y8jRnduQL65dRQ5uKpEj0/uRL89dQabbCbnUZ+zZTkJ6VY3M5Qbp5gmk7M4gedc+pBosIFZXPCgjuDKCKyO4MpzkVCKjhrEj09PI8XdPIMe5L9c10uvdQX794C3kxNvvIx9+9jGyvdVCyjREqkFG5lNG8mgRybOXkNTUeDCCKyO4MoIrYxXM5A7y+e9/IX+89zpye1AhLx3cj8zc7iJVXSOfnPwUeeHwIeS78xeRiZSQIjHWcF+dCiQ1Nd6M4MoIrozgylhlOZXID3f5nxI5d36W5bWQA9UC8vLz+5AnrlxB7g1HyJ/9AllKk6wVI7gygisjuDI2iEHN2OmzZ5CqrpFz/UmkTgUPgxFcGcGVEVwZ68zo6aPIgVffQWY/eg35pr8daS90kSYlJNHwMBjBlRFcGcGVsQ70d+xFdj93DJk58y1jx95Atk9tRu5+/xXSGvR42IzgygiujODKWAdSq4MM795C8tIiMuzOIvnfy0h70GM9MYIrI7gygivjIcmpRFp7ppGpJ6eRejhAln47jbSHC6xXRnBlBFdGcGWsqYRUW3YydukXpFsaMrhxDWkNF9gIjODKCK6M4MpYQx2WkK29q8j17YeQqZ++RqpyKxuNEVwZwZURXBlraH+rQa4OElL2biFVUyITecBGYwRXRnBlBFfGGurnBhk2xnKqZGxkRnBlBFdGcGWsoX+qCSTRIGU94lFhBFdGcGUEV8YaqpKxnLIe8agwgisjuDKCq/8A0VYyXgpI2WUAAAAASUVORK5C\"></td></tr></tbody></table><div><small>(a vector displayed as a row to save space)</small></div>"
      ]
     },
     "metadata": {},
     "execution_count": 7
    }
   ],
   "cell_type": "code",
   "source": [
    "using VisionHeatmaps\n",
    "\n",
    "heatmap(expl)"
   ],
   "metadata": {},
   "execution_count": 7
  },
  {
   "cell_type": "markdown",
   "source": [
    "If we are only interested in the heatmap, we can combine analysis and heatmapping\n",
    "into a single function call:"
   ],
   "metadata": {}
  },
  {
   "outputs": [
    {
     "output_type": "execute_result",
     "data": {
      "text/plain": "1-element Vector{Matrix{ColorTypes.RGB{Float64}}}:\n [RGB(0.0963, 0.0479, 0.037250000000000005) RGB(0.0963, 0.0479, 0.037250000000000005) … RGB(0.0963, 0.0479, 0.037250000000000005) RGB(0.0963, 0.0479, 0.037250000000000005); RGB(0.0963, 0.0479, 0.037250000000000005) RGB(0.0963, 0.0479, 0.037250000000000005) … RGB(0.0963, 0.0479, 0.037250000000000005) RGB(0.0963, 0.0479, 0.037250000000000005); … ; RGB(0.0963, 0.0479, 0.037250000000000005) RGB(0.0963, 0.0479, 0.037250000000000005) … RGB(0.0963, 0.0479, 0.037250000000000005) RGB(0.0963, 0.0479, 0.037250000000000005); RGB(0.0963, 0.0479, 0.037250000000000005) RGB(0.0963, 0.0479, 0.037250000000000005) … RGB(0.0963, 0.0479, 0.037250000000000005) RGB(0.0963, 0.0479, 0.037250000000000005)]",
      "text/html": [
       "<table><tbody><tr><td style='text-align:center;vertical-align:middle; margin: 0.5em;border:1px #90999f solid;border-collapse:collapse'><img style='max-width: 100px; max-height:100px;display:inline' src=\"data:image/png;base64,iVBORw0KGgoAAAANSUhEUgAAAHAAAABwCAIAAABJgmMcAAAAAXNSR0IArs4c6QAAAARnQU1BAACxjwv8YQUAAAAgY0hSTQAAeiYAAICEAAD6AAAAgOgAAHUwAADqYAAAOpgAABdwnLpRPAAABDBJREFUeAHtwT2IXGUUx+Hfe+/ZnZnNpzEkRIlJNgminaTQoEUKC3tBsBBrRW0CFoJFCgsbwULLgGBjIQiaMoJFkOAnkkBiSDBB3c3XbJLZ3dmZO++9Vv+JxTYbzm52w3ke27O5Q/BjBFdGcGUEV0ZwZQRXRnBlBFdGcGUEV0ZwZQRXRnBlBFdGcGUEV0ZwZQRXRnBlBFdGcGUEV0ZwZQRXRnBlBFdGcGUEV8Y61qSC5ewuFpBDU4bcqzJyoW/IsGghRZNZTUZwZQRXRnBlrANlk5GCGplKGWkXDdJKjNUNY03D2FQxQqyukbnHp5FUDZHW/E0kNQ0PygiujODKCK6MNVQ2GRmUbWSpswPZNH8TmUwjpJcLJJU1cmlxhGwtGTvcKZBulZE7i/eQicEiUpVtZHLU50EZwZURXBnBlbHKGhIyv+MpJHW2IBM7diNLF84is3kSKcnIYmZZg2YJuVK1kVwYsjdfRyZLxuqGsRna3JdYCSO4MoIrI7gyVkGHATK3aQ+y+5U3kVSWyOypk0grD5GiqVmJ7vSLSPP3RSTljMxVE8hjVEg3TyIpMdawMkZwZQRXRnBlOKlTgXS3HUDSaIjc/PEU0tyeQTq9G6xEQ0JyYUjr8s/ItmKA5Iaxm7ueQebn55BOfw5pSDwoI7gygisjuDKcTNQVsm/+MrK3Y8jRnduQL65dRQ5uKpEj0/uRL89dQabbCbnUZ+zZTkJ6VY3M5Qbp5gmk7M4gedc+pBosIFZXPCgjuDKCKyO4MpzkVCKjhrEj09PI8XdPIMe5L9c10uvdQX794C3kxNvvIx9+9jGyvdVCyjREqkFG5lNG8mgRybOXkNTUeDCCKyO4MoIrYxXM5A7y+e9/IX+89zpye1AhLx3cj8zc7iJVXSOfnPwUeeHwIeS78xeRiZSQIjHWcF+dCiQ1Nd6M4MoIrozgylhlOZXID3f5nxI5d36W5bWQA9UC8vLz+5AnrlxB7g1HyJ/9AllKk6wVI7gygisjuDI2iEHN2OmzZ5CqrpFz/UmkTgUPgxFcGcGVEVwZ68zo6aPIgVffQWY/eg35pr8daS90kSYlJNHwMBjBlRFcGcGVsQ70d+xFdj93DJk58y1jx95Atk9tRu5+/xXSGvR42IzgygiujODKWAdSq4MM795C8tIiMuzOIvnfy0h70GM9MYIrI7gygivjIcmpRFp7ppGpJ6eRejhAln47jbSHC6xXRnBlBFdGcGWsqYRUW3YydukXpFsaMrhxDWkNF9gIjODKCK6M4MpYQx2WkK29q8j17YeQqZ++RqpyKxuNEVwZwZURXBlraH+rQa4OElL2biFVUyITecBGYwRXRnBlBFfGGurnBhk2xnKqZGxkRnBlBFdGcGWsoX+qCSTRIGU94lFhBFdGcGUEV8YaqpKxnLIe8agwgisjuDKCq/8A0VYyXgpI2WUAAAAASUVORK5C\"></td></tr></tbody></table><div><small>(a vector displayed as a row to save space)</small></div>"
      ]
     },
     "metadata": {},
     "execution_count": 8
    }
   ],
   "cell_type": "code",
   "source": [
    "heatmap(input, analyzer)"
   ],
   "metadata": {},
   "execution_count": 8
  },
  {
   "cell_type": "markdown",
   "source": [
    "## Neuron selection\n",
    "By passing an additional index to our call to `analyze`,\n",
    "we can compute an explanation with respect to a specific output neuron.\n",
    "Let's see why the output wasn't interpreted as a 4 (output neuron at index 5)"
   ],
   "metadata": {}
  },
  {
   "outputs": [
    {
     "output_type": "execute_result",
     "data": {
      "text/plain": "1-element Vector{Matrix{ColorTypes.RGB{Float64}}}:\n [RGB(0.0963, 0.0479, 0.037250000000000005) RGB(0.0963, 0.0479, 0.037250000000000005) … RGB(0.0963, 0.0479, 0.037250000000000005) RGB(0.0963, 0.0479, 0.037250000000000005); RGB(0.0963, 0.0479, 0.037250000000000005) RGB(0.0963, 0.0479, 0.037250000000000005) … RGB(0.0963, 0.0479, 0.037250000000000005) RGB(0.0963, 0.0479, 0.037250000000000005); … ; RGB(0.0963, 0.0479, 0.037250000000000005) RGB(0.0963, 0.0479, 0.037250000000000005) … RGB(0.0963, 0.0479, 0.037250000000000005) RGB(0.0963, 0.0479, 0.037250000000000005); RGB(0.0963, 0.0479, 0.037250000000000005) RGB(0.0963, 0.0479, 0.037250000000000005) … RGB(0.0963, 0.0479, 0.037250000000000005) RGB(0.0963, 0.0479, 0.037250000000000005)]",
      "text/html": [
       "<table><tbody><tr><td style='text-align:center;vertical-align:middle; margin: 0.5em;border:1px #90999f solid;border-collapse:collapse'><img style='max-width: 100px; max-height:100px;display:inline' src=\"data:image/png;base64,iVBORw0KGgoAAAANSUhEUgAAAHAAAABwCAIAAABJgmMcAAAAAXNSR0IArs4c6QAAAARnQU1BAACxjwv8YQUAAAAgY0hSTQAAeiYAAICEAAD6AAAAgOgAAHUwAADqYAAAOpgAABdwnLpRPAAABCtJREFUeAHtwc2LlXUYx+HP7zn3nDNnjjOWU+Y0IaVlmG4yK5KgIGoVbWofQUR/QatatgraRP9AmyDI2kStWoSiZRalUTCMFpo2OurkmZfz9jy/Vt/jRgjlnje5r8umtjQJfozgygiujODKCK6M4MoIrozgygiujODKCK6M4MoIrozgygiujODKCK6M4MoIrozgygiujODKCK6M4MoIrozgygiujODK2MAauYdkEtJ+8Alkz+vvIhMT9yAnPngLac7NIJnEajKCKyO4MoIrYwNIZGQ8dZFLzR1I6+CLyP17n0Jee/gFZFvRRLa89yly+rvPkPbsKWTLyS+RRRrckLhdRnBlBFdGcGWsoZ41kcrqSP2RA8ili2eR5q79SP/feeT85x8h7x/+GBnffwjZ98rbyMjEJNJvLyBXph9Hmn//hlQkbpcRXBnBlRFcGausc99upGhtRVqzJ5CV348h4/1FpD//J5JSQpo5czMrF6eQH955CakmH0AmD72MtGd/RbqtCaQ28yNS5JJbYQRXRnBlBFeGkyoVSFmrI2NzM0g9D5BOqiMpM9Qt6kiRKyTlzP9p/HEEySSknJtFrhz7Chl/7Glk8cgXiOWK22UEV0ZwZQRXhpOJvIy8sW8amV+4huycmkY+PHaaoZJbkklIIiNjRR8ZLzLSywxVl04h83OzSCNXeDCCKyO4MoIrw0kmIe2lRWR6+w6k1+8h22yA7GoyVCsScn65jwy44dxgDGnRRXbWGbo6YGi6USD9KiN3VUvIX706UqYat8sIrozgygiuDCdLNJDDsxeR3aP/IM/tfRR585mDyJMHnkWOHv8WOTd3Een0esjkQhtZKTMyNTaKNDpdpGEF8vP1jHTSCEMp4cEIrozgygiujFVwPY8iP3UK5JeTZ5CttR4yOHoSqaeMNBJDrVpCdrYaiBUFUhQF0qkycnapRDpplNVkBFdGcGUEV8YqS7lCqlQg16pRbipzU7VBiYxbD1keZOTyICMLZR0pU421YgRXRnBlBFfGBta59yEkVyVSLs0gF/oMzdskUq+WWQ9GcGUEV0ZwZWwwnak9yPbnX0XmvvkE+X7rPobaV5HGygLrzQiujODKCK6MDaAsDEkjDWT++NdIao4zVJVIrbuEpFyx3ozgygiujODK2ABqVYn0V9pI8/IZpJZLZKU2hljVZyMxgisjuDKCK2Od5JSQbmsSSWMTyPLYJDKxdAmxqs9GZQRXRnBlBFfGOunWxxFbvo4McsWQjSC9NMJmYARXRnBlBFfGGqrlEml020giI3cvX0Cu02SzMYIrI7gygitjDSUy0sg9ZEANWaKOJDKbjRFcGcGVEVwZa6hKBbJsLSTlChkpu2xmRnBlBFdGcGWsoSJXSMolUuSKO4URXBnBlRFcGWtokAwZKXvciYzgygiujODqPzmlIgOdW8ojAAAAAElFTkSuQmCC\"></td></tr></tbody></table><div><small>(a vector displayed as a row to save space)</small></div>"
      ]
     },
     "metadata": {},
     "execution_count": 9
    }
   ],
   "cell_type": "code",
   "source": [
    "expl = analyze(input, analyzer, 5)\n",
    "heatmap(expl)"
   ],
   "metadata": {},
   "execution_count": 9
  },
  {
   "cell_type": "markdown",
   "source": [
    "This heatmap shows us that the \"upper loop\" of the hand-drawn 9 has negative relevance\n",
    "with respect to the output neuron corresponding to digit 4!"
   ],
   "metadata": {}
  },
  {
   "cell_type": "markdown",
   "source": [
    "## Analyzing batches\n",
    "ExplainableAI also supports explanations of input batches:"
   ],
   "metadata": {}
  },
  {
   "outputs": [],
   "cell_type": "code",
   "source": [
    "batchsize = 20\n",
    "xs, _ = MNIST(Float32, :test)[1:batchsize]\n",
    "batch = reshape(xs, 28, 28, 1, :) # reshape to WHCN format\n",
    "expl = analyze(batch, analyzer);"
   ],
   "metadata": {},
   "execution_count": 10
  },
  {
   "cell_type": "markdown",
   "source": [
    "This will return a single `Explanation` `expl` for the entire batch.\n",
    "Calling `heatmap` on `expl` will detect the batch dimension and return a vector of heatmaps."
   ],
   "metadata": {}
  },
  {
   "outputs": [
    {
     "output_type": "execute_result",
     "data": {
      "text/plain": "20-element Vector{Matrix{ColorTypes.RGB{Float64}}}:\n [RGB(0.0963, 0.0479, 0.037250000000000005) RGB(0.0963, 0.0479, 0.037250000000000005) … RGB(0.0963, 0.0479, 0.037250000000000005) RGB(0.0963, 0.0479, 0.037250000000000005); RGB(0.0963, 0.0479, 0.037250000000000005) RGB(0.0963, 0.0479, 0.037250000000000005) … RGB(0.0963, 0.0479, 0.037250000000000005) RGB(0.0963, 0.0479, 0.037250000000000005); … ; RGB(0.0963, 0.0479, 0.037250000000000005) RGB(0.0963, 0.0479, 0.037250000000000005) … RGB(0.0963, 0.0479, 0.037250000000000005) RGB(0.0963, 0.0479, 0.037250000000000005); RGB(0.0963, 0.0479, 0.037250000000000005) RGB(0.0963, 0.0479, 0.037250000000000005) … RGB(0.0963, 0.0479, 0.037250000000000005) RGB(0.0963, 0.0479, 0.037250000000000005)]\n [RGB(0.0963, 0.0479, 0.037250000000000005) RGB(0.0963, 0.0479, 0.037250000000000005) … RGB(0.0963, 0.0479, 0.037250000000000005) RGB(0.0963, 0.0479, 0.037250000000000005); RGB(0.0963, 0.0479, 0.037250000000000005) RGB(0.0963, 0.0479, 0.037250000000000005) … RGB(0.0963, 0.0479, 0.037250000000000005) RGB(0.0963, 0.0479, 0.037250000000000005); … ; RGB(0.0963, 0.0479, 0.037250000000000005) RGB(0.0963, 0.0479, 0.037250000000000005) … RGB(0.0963, 0.0479, 0.037250000000000005) RGB(0.0963, 0.0479, 0.037250000000000005); RGB(0.0963, 0.0479, 0.037250000000000005) RGB(0.0963, 0.0479, 0.037250000000000005) … RGB(0.0963, 0.0479, 0.037250000000000005) RGB(0.0963, 0.0479, 0.037250000000000005)]\n [RGB(0.0963, 0.0479, 0.037250000000000005) RGB(0.0963, 0.0479, 0.037250000000000005) … RGB(0.0963, 0.0479, 0.037250000000000005) RGB(0.0963, 0.0479, 0.037250000000000005); RGB(0.0963, 0.0479, 0.037250000000000005) RGB(0.0963, 0.0479, 0.037250000000000005) … RGB(0.0963, 0.0479, 0.037250000000000005) RGB(0.0963, 0.0479, 0.037250000000000005); … ; RGB(0.0963, 0.0479, 0.037250000000000005) RGB(0.0963, 0.0479, 0.037250000000000005) … RGB(0.0963, 0.0479, 0.037250000000000005) RGB(0.0963, 0.0479, 0.037250000000000005); RGB(0.0963, 0.0479, 0.037250000000000005) RGB(0.0963, 0.0479, 0.037250000000000005) … RGB(0.0963, 0.0479, 0.037250000000000005) RGB(0.0963, 0.0479, 0.037250000000000005)]\n [RGB(0.0963, 0.0479, 0.037250000000000005) RGB(0.0963, 0.0479, 0.037250000000000005) … RGB(0.0963, 0.0479, 0.037250000000000005) RGB(0.0963, 0.0479, 0.037250000000000005); RGB(0.0963, 0.0479, 0.037250000000000005) RGB(0.0963, 0.0479, 0.037250000000000005) … RGB(0.0963, 0.0479, 0.037250000000000005) RGB(0.0963, 0.0479, 0.037250000000000005); … ; RGB(0.0963, 0.0479, 0.037250000000000005) RGB(0.0963, 0.0479, 0.037250000000000005) … RGB(0.0963, 0.0479, 0.037250000000000005) RGB(0.0963, 0.0479, 0.037250000000000005); RGB(0.0963, 0.0479, 0.037250000000000005) RGB(0.0963, 0.0479, 0.037250000000000005) … RGB(0.0963, 0.0479, 0.037250000000000005) RGB(0.0963, 0.0479, 0.037250000000000005)]\n [RGB(0.0963, 0.0479, 0.037250000000000005) RGB(0.0963, 0.0479, 0.037250000000000005) … RGB(0.0963, 0.0479, 0.037250000000000005) RGB(0.0963, 0.0479, 0.037250000000000005); RGB(0.0963, 0.0479, 0.037250000000000005) RGB(0.0963, 0.0479, 0.037250000000000005) … RGB(0.0963, 0.0479, 0.037250000000000005) RGB(0.0963, 0.0479, 0.037250000000000005); … ; RGB(0.0963, 0.0479, 0.037250000000000005) RGB(0.0963, 0.0479, 0.037250000000000005) … RGB(0.0963, 0.0479, 0.037250000000000005) RGB(0.0963, 0.0479, 0.037250000000000005); RGB(0.0963, 0.0479, 0.037250000000000005) RGB(0.0963, 0.0479, 0.037250000000000005) … RGB(0.0963, 0.0479, 0.037250000000000005) RGB(0.0963, 0.0479, 0.037250000000000005)]\n [RGB(0.0963, 0.0479, 0.037250000000000005) RGB(0.0963, 0.0479, 0.037250000000000005) … RGB(0.0963, 0.0479, 0.037250000000000005) RGB(0.0963, 0.0479, 0.037250000000000005); RGB(0.0963, 0.0479, 0.037250000000000005) RGB(0.0963, 0.0479, 0.037250000000000005) … RGB(0.0963, 0.0479, 0.037250000000000005) RGB(0.0963, 0.0479, 0.037250000000000005); … ; RGB(0.0963, 0.0479, 0.037250000000000005) RGB(0.0963, 0.0479, 0.037250000000000005) … RGB(0.0963, 0.0479, 0.037250000000000005) RGB(0.0963, 0.0479, 0.037250000000000005); RGB(0.0963, 0.0479, 0.037250000000000005) RGB(0.0963, 0.0479, 0.037250000000000005) … RGB(0.0963, 0.0479, 0.037250000000000005) RGB(0.0963, 0.0479, 0.037250000000000005)]\n [RGB(0.0963, 0.0479, 0.037250000000000005) RGB(0.0963, 0.0479, 0.037250000000000005) … RGB(0.0963, 0.0479, 0.037250000000000005) RGB(0.0963, 0.0479, 0.037250000000000005); RGB(0.0963, 0.0479, 0.037250000000000005) RGB(0.0963, 0.0479, 0.037250000000000005) … RGB(0.0963, 0.0479, 0.037250000000000005) RGB(0.0963, 0.0479, 0.037250000000000005); … ; RGB(0.0963, 0.0479, 0.037250000000000005) RGB(0.0963, 0.0479, 0.037250000000000005) … RGB(0.0963, 0.0479, 0.037250000000000005) RGB(0.0963, 0.0479, 0.037250000000000005); RGB(0.0963, 0.0479, 0.037250000000000005) RGB(0.0963, 0.0479, 0.037250000000000005) … RGB(0.0963, 0.0479, 0.037250000000000005) RGB(0.0963, 0.0479, 0.037250000000000005)]\n [RGB(0.0963, 0.0479, 0.037250000000000005) RGB(0.0963, 0.0479, 0.037250000000000005) … RGB(0.0963, 0.0479, 0.037250000000000005) RGB(0.0963, 0.0479, 0.037250000000000005); RGB(0.0963, 0.0479, 0.037250000000000005) RGB(0.0963, 0.0479, 0.037250000000000005) … RGB(0.0963, 0.0479, 0.037250000000000005) RGB(0.0963, 0.0479, 0.037250000000000005); … ; RGB(0.0963, 0.0479, 0.037250000000000005) RGB(0.0963, 0.0479, 0.037250000000000005) … RGB(0.0963, 0.0479, 0.037250000000000005) RGB(0.0963, 0.0479, 0.037250000000000005); RGB(0.0963, 0.0479, 0.037250000000000005) RGB(0.0963, 0.0479, 0.037250000000000005) … RGB(0.0963, 0.0479, 0.037250000000000005) RGB(0.0963, 0.0479, 0.037250000000000005)]\n [RGB(0.0963, 0.0479, 0.037250000000000005) RGB(0.0963, 0.0479, 0.037250000000000005) … RGB(0.0963, 0.0479, 0.037250000000000005) RGB(0.0963, 0.0479, 0.037250000000000005); RGB(0.0963, 0.0479, 0.037250000000000005) RGB(0.0963, 0.0479, 0.037250000000000005) … RGB(0.0963, 0.0479, 0.037250000000000005) RGB(0.0963, 0.0479, 0.037250000000000005); … ; RGB(0.0963, 0.0479, 0.037250000000000005) RGB(0.0963, 0.0479, 0.037250000000000005) … RGB(0.0963, 0.0479, 0.037250000000000005) RGB(0.0963, 0.0479, 0.037250000000000005); RGB(0.0963, 0.0479, 0.037250000000000005) RGB(0.0963, 0.0479, 0.037250000000000005) … RGB(0.0963, 0.0479, 0.037250000000000005) RGB(0.0963, 0.0479, 0.037250000000000005)]\n [RGB(0.0963, 0.0479, 0.037250000000000005) RGB(0.0963, 0.0479, 0.037250000000000005) … RGB(0.0963, 0.0479, 0.037250000000000005) RGB(0.0963, 0.0479, 0.037250000000000005); RGB(0.0963, 0.0479, 0.037250000000000005) RGB(0.0963, 0.0479, 0.037250000000000005) … RGB(0.0963, 0.0479, 0.037250000000000005) RGB(0.0963, 0.0479, 0.037250000000000005); … ; RGB(0.0963, 0.0479, 0.037250000000000005) RGB(0.0963, 0.0479, 0.037250000000000005) … RGB(0.0963, 0.0479, 0.037250000000000005) RGB(0.0963, 0.0479, 0.037250000000000005); RGB(0.0963, 0.0479, 0.037250000000000005) RGB(0.0963, 0.0479, 0.037250000000000005) … RGB(0.0963, 0.0479, 0.037250000000000005) RGB(0.0963, 0.0479, 0.037250000000000005)]\n [RGB(0.0963, 0.0479, 0.037250000000000005) RGB(0.0963, 0.0479, 0.037250000000000005) … RGB(0.0963, 0.0479, 0.037250000000000005) RGB(0.0963, 0.0479, 0.037250000000000005); RGB(0.0963, 0.0479, 0.037250000000000005) RGB(0.0963, 0.0479, 0.037250000000000005) … RGB(0.0963, 0.0479, 0.037250000000000005) RGB(0.0963, 0.0479, 0.037250000000000005); … ; RGB(0.0963, 0.0479, 0.037250000000000005) RGB(0.0963, 0.0479, 0.037250000000000005) … RGB(0.0963, 0.0479, 0.037250000000000005) RGB(0.0963, 0.0479, 0.037250000000000005); RGB(0.0963, 0.0479, 0.037250000000000005) RGB(0.0963, 0.0479, 0.037250000000000005) … RGB(0.0963, 0.0479, 0.037250000000000005) RGB(0.0963, 0.0479, 0.037250000000000005)]\n [RGB(0.0963, 0.0479, 0.037250000000000005) RGB(0.0963, 0.0479, 0.037250000000000005) … RGB(0.0963, 0.0479, 0.037250000000000005) RGB(0.0963, 0.0479, 0.037250000000000005); RGB(0.0963, 0.0479, 0.037250000000000005) RGB(0.0963, 0.0479, 0.037250000000000005) … RGB(0.0963, 0.0479, 0.037250000000000005) RGB(0.0963, 0.0479, 0.037250000000000005); … ; RGB(0.0963, 0.0479, 0.037250000000000005) RGB(0.0963, 0.0479, 0.037250000000000005) … RGB(0.0963, 0.0479, 0.037250000000000005) RGB(0.0963, 0.0479, 0.037250000000000005); RGB(0.0963, 0.0479, 0.037250000000000005) RGB(0.0963, 0.0479, 0.037250000000000005) … RGB(0.0963, 0.0479, 0.037250000000000005) RGB(0.0963, 0.0479, 0.037250000000000005)]\n [RGB(0.0963, 0.0479, 0.037250000000000005) RGB(0.0963, 0.0479, 0.037250000000000005) … RGB(0.0963, 0.0479, 0.037250000000000005) RGB(0.0963, 0.0479, 0.037250000000000005); RGB(0.0963, 0.0479, 0.037250000000000005) RGB(0.0963, 0.0479, 0.037250000000000005) … RGB(0.0963, 0.0479, 0.037250000000000005) RGB(0.0963, 0.0479, 0.037250000000000005); … ; RGB(0.0963, 0.0479, 0.037250000000000005) RGB(0.0963, 0.0479, 0.037250000000000005) … RGB(0.0963, 0.0479, 0.037250000000000005) RGB(0.0963, 0.0479, 0.037250000000000005); RGB(0.0963, 0.0479, 0.037250000000000005) RGB(0.0963, 0.0479, 0.037250000000000005) … RGB(0.0963, 0.0479, 0.037250000000000005) RGB(0.0963, 0.0479, 0.037250000000000005)]\n [RGB(0.0963, 0.0479, 0.037250000000000005) RGB(0.0963, 0.0479, 0.037250000000000005) … RGB(0.0963, 0.0479, 0.037250000000000005) RGB(0.0963, 0.0479, 0.037250000000000005); RGB(0.0963, 0.0479, 0.037250000000000005) RGB(0.0963, 0.0479, 0.037250000000000005) … RGB(0.0963, 0.0479, 0.037250000000000005) RGB(0.0963, 0.0479, 0.037250000000000005); … ; RGB(0.0963, 0.0479, 0.037250000000000005) RGB(0.0963, 0.0479, 0.037250000000000005) … RGB(0.0963, 0.0479, 0.037250000000000005) RGB(0.0963, 0.0479, 0.037250000000000005); RGB(0.0963, 0.0479, 0.037250000000000005) RGB(0.0963, 0.0479, 0.037250000000000005) … RGB(0.0963, 0.0479, 0.037250000000000005) RGB(0.0963, 0.0479, 0.037250000000000005)]\n [RGB(0.0963, 0.0479, 0.037250000000000005) RGB(0.0963, 0.0479, 0.037250000000000005) … RGB(0.0963, 0.0479, 0.037250000000000005) RGB(0.0963, 0.0479, 0.037250000000000005); RGB(0.0963, 0.0479, 0.037250000000000005) RGB(0.0963, 0.0479, 0.037250000000000005) … RGB(0.0963, 0.0479, 0.037250000000000005) RGB(0.0963, 0.0479, 0.037250000000000005); … ; RGB(0.0963, 0.0479, 0.037250000000000005) RGB(0.0963, 0.0479, 0.037250000000000005) … RGB(0.0963, 0.0479, 0.037250000000000005) RGB(0.0963, 0.0479, 0.037250000000000005); RGB(0.0963, 0.0479, 0.037250000000000005) RGB(0.0963, 0.0479, 0.037250000000000005) … RGB(0.0963, 0.0479, 0.037250000000000005) RGB(0.0963, 0.0479, 0.037250000000000005)]\n [RGB(0.0963, 0.0479, 0.037250000000000005) RGB(0.0963, 0.0479, 0.037250000000000005) … RGB(0.0963, 0.0479, 0.037250000000000005) RGB(0.0963, 0.0479, 0.037250000000000005); RGB(0.0963, 0.0479, 0.037250000000000005) RGB(0.0963, 0.0479, 0.037250000000000005) … RGB(0.0963, 0.0479, 0.037250000000000005) RGB(0.0963, 0.0479, 0.037250000000000005); … ; RGB(0.0963, 0.0479, 0.037250000000000005) RGB(0.0963, 0.0479, 0.037250000000000005) … RGB(0.0963, 0.0479, 0.037250000000000005) RGB(0.0963, 0.0479, 0.037250000000000005); RGB(0.0963, 0.0479, 0.037250000000000005) RGB(0.0963, 0.0479, 0.037250000000000005) … RGB(0.0963, 0.0479, 0.037250000000000005) RGB(0.0963, 0.0479, 0.037250000000000005)]\n [RGB(0.0963, 0.0479, 0.037250000000000005) RGB(0.0963, 0.0479, 0.037250000000000005) … RGB(0.0963, 0.0479, 0.037250000000000005) RGB(0.0963, 0.0479, 0.037250000000000005); RGB(0.0963, 0.0479, 0.037250000000000005) RGB(0.0963, 0.0479, 0.037250000000000005) … RGB(0.0963, 0.0479, 0.037250000000000005) RGB(0.0963, 0.0479, 0.037250000000000005); … ; RGB(0.0963, 0.0479, 0.037250000000000005) RGB(0.0963, 0.0479, 0.037250000000000005) … RGB(0.0963, 0.0479, 0.037250000000000005) RGB(0.0963, 0.0479, 0.037250000000000005); RGB(0.0963, 0.0479, 0.037250000000000005) RGB(0.0963, 0.0479, 0.037250000000000005) … RGB(0.0963, 0.0479, 0.037250000000000005) RGB(0.0963, 0.0479, 0.037250000000000005)]\n [RGB(0.0963, 0.0479, 0.037250000000000005) RGB(0.0963, 0.0479, 0.037250000000000005) … RGB(0.0963, 0.0479, 0.037250000000000005) RGB(0.0963, 0.0479, 0.037250000000000005); RGB(0.0963, 0.0479, 0.037250000000000005) RGB(0.0963, 0.0479, 0.037250000000000005) … RGB(0.0963, 0.0479, 0.037250000000000005) RGB(0.0963, 0.0479, 0.037250000000000005); … ; RGB(0.0963, 0.0479, 0.037250000000000005) RGB(0.0963, 0.0479, 0.037250000000000005) … RGB(0.0963, 0.0479, 0.037250000000000005) RGB(0.0963, 0.0479, 0.037250000000000005); RGB(0.0963, 0.0479, 0.037250000000000005) RGB(0.0963, 0.0479, 0.037250000000000005) … RGB(0.0963, 0.0479, 0.037250000000000005) RGB(0.0963, 0.0479, 0.037250000000000005)]\n [RGB(0.0963, 0.0479, 0.037250000000000005) RGB(0.0963, 0.0479, 0.037250000000000005) … RGB(0.0963, 0.0479, 0.037250000000000005) RGB(0.0963, 0.0479, 0.037250000000000005); RGB(0.0963, 0.0479, 0.037250000000000005) RGB(0.0963, 0.0479, 0.037250000000000005) … RGB(0.0963, 0.0479, 0.037250000000000005) RGB(0.0963, 0.0479, 0.037250000000000005); … ; RGB(0.0963, 0.0479, 0.037250000000000005) RGB(0.0963, 0.0479, 0.037250000000000005) … RGB(0.0963, 0.0479, 0.037250000000000005) RGB(0.0963, 0.0479, 0.037250000000000005); RGB(0.0963, 0.0479, 0.037250000000000005) RGB(0.0963, 0.0479, 0.037250000000000005) … RGB(0.0963, 0.0479, 0.037250000000000005) RGB(0.0963, 0.0479, 0.037250000000000005)]\n [RGB(0.0963, 0.0479, 0.037250000000000005) RGB(0.0963, 0.0479, 0.037250000000000005) … RGB(0.0963, 0.0479, 0.037250000000000005) RGB(0.0963, 0.0479, 0.037250000000000005); RGB(0.0963, 0.0479, 0.037250000000000005) RGB(0.0963, 0.0479, 0.037250000000000005) … RGB(0.0963, 0.0479, 0.037250000000000005) RGB(0.0963, 0.0479, 0.037250000000000005); … ; RGB(0.0963, 0.0479, 0.037250000000000005) RGB(0.0963, 0.0479, 0.037250000000000005) … RGB(0.0963, 0.0479, 0.037250000000000005) RGB(0.0963, 0.0479, 0.037250000000000005); RGB(0.0963, 0.0479, 0.037250000000000005) RGB(0.0963, 0.0479, 0.037250000000000005) … RGB(0.0963, 0.0479, 0.037250000000000005) RGB(0.0963, 0.0479, 0.037250000000000005)]",
      "text/html": [
       "<table><tbody><tr><td style='text-align:center;vertical-align:middle; margin: 0.5em;border:1px #90999f solid;border-collapse:collapse'><img style='max-width: 100px; max-height:100px;display:inline' src=\"data:image/png;base64,iVBORw0KGgoAAAANSUhEUgAAAHAAAABwCAIAAABJgmMcAAAAAXNSR0IArs4c6QAAAARnQU1BAACxjwv8YQUAAAAgY0hSTQAAeiYAAICEAAD6AAAAgOgAAHUwAADqYAAAOpgAABdwnLpRPAAAAztJREFUeAHtwT1vWwUYhuH7+Dx2jpuENrQg0ao0YgCEWJBgZWFhQ8ysrAxdYEFig50/wAALIDEgVUxssJGlEkKIfkGqKAlGInFd27F9DtPrLF2QntZ29F6XntvoknxEshLJSiQrkaxEshLJSiQrkaxEshLJSiQrkaxEshLJSiQrkaxEshLJSiQrkaxEshLJSiQrkaxEshLJSiQrYXKxNSRcUkHYmzA3qVuEcdEmNBScFSJZiWQlkpUw6TXrhPZsQHhlvSRsVRXhn+GIMJrVhHarIBScujkoOdUQ+heuEp49vkc4btYIW60xYVwXhElTEiaFcBDJSiQrkayEyawoCaOmIOz0S0LZHxEaCsK71y4SDo76hJ3jE8K51pQwqEVYOz4gDGsRrrZHhPfeeI1wf3+P8NPuAeHeVDiIZCWSlUhWwkT1hPAvFXMFc1NKHuWbvx4QRu1NQqd5SBh3n2JOa8wVBaHp9wj3pyXh1zu3CS9vbxMO7/6Nm0hWIlmJZCWWQENBWJsMeJRqeMT/8XRrROh21glf79wkDKlwE8lKJCuRrMQZMm21CeN6RPiqfJFQ6w6hmh7jJpKVSFYiWYkzZPrMNUKvqQmXXn+L0Ltxl8dJJCuRrESyEituVJ0nbO7/RnioDULvhy8I1fCIx0kkK5GsRLISK257sk84KQvC860jwq3BCU+KSFYiWYlkJVZQi5rw9gtXCB+8/yHhzY+uEwoanhSRrESyEslKrKB3LncJn378OeG7778kDFhjEUSyEslKJCuxIqrmhHDYnxI++ew64dvfdzlVsQgiWYlkJZKVWBETSsIvxzPCj91NQtVULJpIViJZiWQlltjwwmVCa/08oZlNCTr8k2UikpVIViJZiSUzLTuEYviAUBcFoXN0QCjrKctEJCuRrESyEkugoSDMrrxEKDsVYfOPnwmjosOyEslKJCuRrMQSGK9vEZrBEaHYu0UYFR1WgUhWIlmJZCUWZNzZILS3XyWc7N0m1NU5Qj0YE1pNzbISyUokK5GsxILU3U3C5HCXUEzGzDXMtZqaVSCSlUhWIlmJBen0e8w1DaFspqwykaxEshLJSixIWU84i0SyEslKJKv/ANPhx/4qWHuVAAAAAElFTkSuQmCC\"></td><td style='text-align:center;vertical-align:middle; margin: 0.5em;border:1px #90999f solid;border-collapse:collapse'><img style='max-width: 100px; max-height:100px;display:inline' src=\"data:image/png;base64,iVBORw0KGgoAAAANSUhEUgAAAHAAAABwCAIAAABJgmMcAAAAAXNSR0IArs4c6QAAAARnQU1BAACxjwv8YQUAAAAgY0hSTQAAeiYAAICEAAD6AAAAgOgAAHUwAADqYAAAOpgAABdwnLpRPAAAA+5JREFUeAHtwU9rXGUYxuHfe+aZf01aG4SaWNqCoILWgls3IlTBnQvdiwu/ln6GQqHgRsGNG6nSImgsDbSmaWIbm3SSM2fO+7q6j5tAqTyTSeC5LltbHhP8GMGVEVwZwZURXBnBlRFcGcGVEVwZwZURXBnBlbEgFRlZSlMkl4QMq4L0KMijsozkypB+W7NoRnBlBFdGcGUco/PpELnQp7NsCWkLnUlLZ6XfQ5rJc2SbV5BZ1UcsNyyCEVwZwZURXBlzlijI3ywjNttDHjV0mpKQaekjK7MpcmmYkGGzi2y3QySnikUwgisjuDKCK2MO2tRDmrU36cwa5MHeDnLm4CmSqegkOjt5hKzkGlkbVMg/sxlyyIBFMIIrI7gygitjDmb9MTJcvYLUjzaQweE+kql4kVFpkN1ZQTandAqJRTOCKyO4MoIrYw6G032k+eV7pF9apCotL2P34nvIZHMdmY7PIucm2yyaEVwZwZURXBlz1m9r/q/60lVksHIBmZKQsw/vIE0yFs0IrozgygiujBPmcHSOzqxBpvd+pbO8gtTVAKlKZtGM4MoIrozgyjhhhvU+8vrj28huWyFPc4tUJXOSGMGVEVwZwZVxAvRLg+ydvYhcKTVST1pkMtnlpDKCKyO4MoIrY0Ga3hDJV6/TWf8Z+aE5j/SYIkbDSWUEV0ZwZQRXxoLYtQ+Rs7dvIJM8QF6zGtnMY04DI7gygisjuDKOkZUZ8sbdG8hfhc6q1cij2YBO4lQwgisjuDKCK2POEhn5dHWMTNsWGe1PkJ2GTk49ThsjuDKCKyO4MubsneEUuf7BJ8gXn32JfPz158hmO+I0M4IrI7gygitjzraagnx76ybyza2byG/1ACkkTjMjuDKCKyO4MubsaTtAHvRW6YyWkPHBPSRRkEJCqpKRkugUKo5SUoUUElJSQlLJSCoFGZcaGVYZaQudfUYcxQiujODKCK6MOUsUOkvnkGq8jByeuUZn6z7yar2DfPX+W8hPf6wjD+sW2WiXkfM8R95d6iHrkxny9nIfuTdpkMJ/nswMKSSkVBWSSkaM4MoIrozgypizlV6DTB/fR+pzF5Dhsy061z5CJre/Q+5ubCDPZhlZG/aQS+kQ+fOgIKNeD7k8zEiV6Fwe9ZDfDzJSUZCGCkklcxQjuDKCKyO4MuZsO48RKw1S9raRXBlS7vyInGGG/PiEznkryEZdkGfVEpJ7fWRndx/JaUjngBdLvBQjuDKCKyO4Mo5RThXSyzNe5DANOMpWy5EsN3Ryg+RUcVyM4MoIrozgygiujODKCK6M4MoIrozgygiujODKCK6M4MoIrozgygiujODKCK6M4Opfv4AiLYWg3UcAAAAASUVORK5C\"></td><td style='text-align:center;vertical-align:middle; margin: 0.5em;border:1px #90999f solid;border-collapse:collapse'><img style='max-width: 100px; max-height:100px;display:inline' src=\"data:image/png;base64,iVBORw0KGgoAAAANSUhEUgAAAHAAAABwCAIAAABJgmMcAAAAAXNSR0IArs4c6QAAAARnQU1BAACxjwv8YQUAAAAgY0hSTQAAeiYAAICEAAD6AAAAgOgAAHUwAADqYAAAOpgAABdwnLpRPAAAAoFJREFUeAHtwb9r3HUcx/Hn3feVa65NhQoRnUIxiwUFtRSrQwVFBxex7roILiIuLv4DBXFwF0GXQocKilDbaMEfqARcBCEObk1bawd/UK+55M7pnfwDL7zPF16Phx5YGRM+IqxEWImwEmElwkqElQgrEVYirERYibASYSXCSoSVCCvRc3tDUaara5SVG1uU3YH4v4iwEmElwkr03HR8D2X1zEuUvy+8yyKIsBJhJcJK9Nz63WuU45fOUb6hYxFEWImwEmEleujYcEJ58/nnKB9uXOFAxyKIsBJhJcJK9NCJI6I89cQzlPe/uMyiibASYSXCSvTQl3v3UTaufka5ORX7BiyECCsRViKsRE/sLB2mrJx8lvLe1Y8p08EyiybCSoSVCCvRE7NOlBdfOUf5dDRm38ZHLJoIKxFWIqxET7y1foTy29sPUu6snqaIxRNhJcJKhJVo2P3dv5RHTjxK+erXi5Tu9ve0RISVCCsRVqJhAw58t/kt5en1NcrWLzdpiQgrEVYirETDXj31GOWN19+hnHntZQ4s0xIRViKsRFiJxhya71DOb/5E+eDHs5RbszGtEmElwkqElWjMX2uPU0ZPvkC59fUnlOXtLVolwkqElQgr0Zj57WuUu39cp3RH76UPRFiJsBJhJRrz8HSb8vMPn7Nvd4eyRLtEWImwEmElGjCczyjjIfvmGlE0+Yc+EGElwkqElWhAxx5lc75KOfTnDcpwPqMPRFiJsBJhJRpwR0cpD81+p2zPOspkMKIPRFiJsBJhJRqwtDehbO92lMlgRN+IsBJhJcJKNGYyGNFnIqxEWImwEmElwkqElQgrEVYirERYibASYSXCSoSVCKv/AEGaZ9mYUbIBAAAAAElFTkSuQmCC\"></td><td style='text-align:center;vertical-align:middle; margin: 0.5em;border:1px #90999f solid;border-collapse:collapse'><img style='max-width: 100px; max-height:100px;display:inline' src=\"data:image/png;base64,iVBORw0KGgoAAAANSUhEUgAAAHAAAABwCAIAAABJgmMcAAAAAXNSR0IArs4c6QAAAARnQU1BAACxjwv8YQUAAAAgY0hSTQAAeiYAAICEAAD6AAAAgOgAAHUwAADqYAAAOpgAABdwnLpRPAAABJVJREFUeAHtwctvXPUZx+HPb847Mx7biY0TKAlxAiaQpEggEAgJhESlSpXKjkXVLRI7kNjxF9B9pS5A/AVcNoiui0K5KkgolGtICMHYudozvo1nPD5nTlffycYSEnqP7cX7PHZkskXwYwRXRnBlBFdGcGUEV0ZwZQRXRnBlBFdGcGUEV0ZwZQRXRnBlBFfGPjNMGbI1cw/S6FxFJopNpJeaSKJkrxnBlRFcGcGVsc+U3DbbuYCsFxlyhxXIdp4jRcrYa0ZwZQRXRnBl7ANFypDxYQ+pGSPrjSmkGKwjiZL9xAiujODKCK6MPdKfmGFkWCCr5SSyng+Qu4s2skoDmc4GyGrBjvJk7BYjuDKCKyO4MvbKgRlG1pYZmb4LGT/1GHJj4RJSXvkGmR62kXubOTJlCTnfTUiRMqpkBFdGcGUEV8YuOmE9ZPvW18jl1ixy9LkXkM7/PkamH34aafe7yGKnhfS615ADGSNH6wPk17xFlYzgygiujODKqFhRM2R9mJDOsMnI+EHk+n/eRg49/mfk1ifvI2n5KmL5FtJpzCDdYhl58ZmnkDf/+ymyWLTwZgRXRnBlBFdGBYYpQ/JjZ5D64jmk3zyI1A/fg5RFjvTb15H6tZ+QrMzZSRoWyJGDdaSz2kH+ONVCVtpbSJcmHozgygiujODKqICV28jg5i/IqYkGcmjrFjI1/wFybr2GbF/4DMn4bVlZIJt5gbz6ymvIv974B3Lr/HnkfA8XRnBlBFdGcGVUICsL5LHyJvLQ7H3IV/PzyLm1hBQpw8NXGwn528t/R7p5gQyGJd6M4MoIrozgyqhASUImrYYcP3YCef3ba4wk3NUokalWC1la2UAKbmuWA2QrNfi9jODKCK6M4MqowJ22jTwxdxIpioLdMsCQsze7SD0x8pdjh5Bf5lfwYARXRnBlBFdGBX4eP468990l5PDFy9zWxEOiRPr1CSQ7+Siy2bmJzFz/Brm41EZyDA9GcGUEV0ZwZVShHCJXmEZ+oomMsYaH7dNPIyeffwm5/M4/GdlYQRqpRL7ezJBhyvBgBFdGcGUEV0YFSmsyMnc/I+0bjPTX+L36B/+AWFki7R++QIqFC8jxwQ1kbZgh26mONyO4MoIrI7gyKlDrrSFPLn6EDEtGvkwtpKgZMssqslbUkPbYnYzkA+TAyUeQ+uQ0ks2eQdpH/4rkH75FlYzgygiujODKqECrv4bUJhIyd2gK+dNddyNnv/8BOTI5ibQaDeTfC8vI6VaBnDv7LpIdvR9JVkd6Vy8jdaplBFdGcGUEV0YFypSQ9XyIrGz2kM1f55EHD88gSxsbyEP3zSHP9i8hn7d7yAPZAnJxoUDGeitISWK3GMGVEVwZwZVRgZKE/DhoIssrPWSulSEfL3WRB1s15MrVBeSzdg85M15DPt8cQ8byFXaSKNktRnBlBFdGcGVUrCQhS8MW0u1uIX2ayLVBH7mw2EE2h3Xky42SkVpiPzGCKyO4MoIrY4/0aLKTxbzFjhI7qpUF+4kRXBnBlRFcGcGVEVwZwZURXBnBlRFcGcGVEVwZwZURXBnBlRFc/R/6Y1Ck301MKAAAAABJRU5ErkJg\"></td><td style='text-align:center;vertical-align:middle; margin: 0.5em;border:1px #90999f solid;border-collapse:collapse'><img style='max-width: 100px; max-height:100px;display:inline' src=\"data:image/png;base64,iVBORw0KGgoAAAANSUhEUgAAAHAAAABwCAIAAABJgmMcAAAAAXNSR0IArs4c6QAAAARnQU1BAACxjwv8YQUAAAAgY0hSTQAAeiYAAICEAAD6AAAAgOgAAHUwAADqYAAAOpgAABdwnLpRPAAAA5hJREFUeAHtwUGIlAUYxvH/980zszPuZpm7q6YJRYc8CEF5EsJTlw7du3WMDh0LpEME0cGbJJUE5SGCvORFAoUsotCoDCwKIkRzd21dNd2dnd2Z7+v0zt7jmdkW3t9Pe6Y6JB+RrESyEslKJCuRrESyEslKJCuRrESyEslKJCuRrESyEslKJCuRrESyEslKbJLZRpfw9I5JwtnFCrc1dQjt9WVCVZS4iWQlkpVIVmKTiA0XDr/C0OfHcZt98TXCysdHCWuUuIlkJZKVSFZikyz0W4Tl858Q2vjd/vkbhooWQXWfMCgaOIhkJZKVSFZijPqNFqG37wDh2cVLhIu0cKsvnyfsKlcIC/UUoawHOIhkJZKVSFZixFa37yJ0njxEePjSacIPlRgqsFtvdgg3Dz5HGFz+klD2BziIZCWSlUhWYsSmnjpCaH11itCtG4R+IdyadZ+g3l3CAwcPExYuX8BNJCuRrESyEiOwuvcAQxfPEl7Y2SZ8catmlFY0SWj3Vwh/n3qL0KzXcRPJSiQrkazECEz/9SNhslETvlsq2NDGrawrQl2WhBmtEW5UTUJR17iJZCWSlUhWwqSgIhyZnSLsm5kmvHdlnlHqqUN4ol4i9NhQ1hWjJJKVSFYiWQmTombo6j/3CZ+t7yJ0GLGiIKhgaPdEg7CwzEiJZCWSlUhWwqQqSsJv3QbhkbU/CHfrFqEqShwGpQg7B3cIhx6dJpy7vsi4iGQlkpVIVmIE9rcGhGMvv0ro9VYJb370PmFKJWF1UBHm1mqCCoZ2t0pCWfQId9YZ2jszy9D1RcZFJCuRrESyEiNwba0kvP3hccK7bxwjnPvgNOHEyXcIK90VwuS2ScL3v14hzC93CY/teIjQaJSET3/6hbBYbSMU1IySSFYiWYlkJUagV7QIF5cZeub1o4SSitCd2E4o6oqhoiBM9Co2TBDm5pcIBx/sEP4spwkTg2XGRSQrkaxEshJjVFATagpCu3eP/+pWX4R+VRHa6/cJa402oTnoMUoiWYlkJZKV2OJWNEX49vY9wv7mgHC1XzAuIlmJZCWSldjiWoNVwnYNCHPrYqhgbESyEslKJCuxxXVnHifc2LmH0L+7SGjP/c64iGQlkpVIVmKL2/P8S4SbX59h6PY8m0EkK5GsRLISW9yNMycJrTtzhGbVZzOIZCWSlUhWYovrLF3j/0QkK5GsRLISyUokK5GsRLISyUokK5GsRLL6F3dR3VlNTOaSAAAAAElFTkSuQmCC\"></td><td style='text-align:center;vertical-align:middle; margin: 0.5em;border:1px #90999f solid;border-collapse:collapse'><img style='max-width: 100px; max-height:100px;display:inline' src=\"data:image/png;base64,iVBORw0KGgoAAAANSUhEUgAAAHAAAABwCAIAAABJgmMcAAAAAXNSR0IArs4c6QAAAARnQU1BAACxjwv8YQUAAAAgY0hSTQAAeiYAAICEAAD6AAAAgOgAAHUwAADqYAAAOpgAABdwnLpRPAAAApxJREFUeAHtwbtuHAUcxeHfeM7sxbLlXEiIqUITAQ2ioucx4B2g4gnoqChp6KlpEQUtCBCXmgRFcgKW8CXR7jpr71D99wkO9ox0vk+He3PCR4SVCCsRViKsRFiJsBJhJcJKhJUIKxFWIqxEWImwEmElwkqElQgrEVZi5PabFWW1EeWu1pTnV3OuiwgrEVYirMQIbZqWctix1TWXlHcP71O+fnJG2bDD/0mElQgrEVZilHpK17C13PSU757+Q9kw57qIsBJhJcJKjETfNJQDFpSDSUs5W15S/pocUmbLU66LCCsRViKsxEhc7N6hHPcbyt+rZ5Sj9ZQyuzzlJoiwEmElwkqMxcFrlDtHv1H2Zg1l2qwpS6bcBBFWIqxEWImR+ODFH5R+b4fy6MF9yo9PlpTJ5YqbIMJKhJUIKzFg93aWlPcfvUPpJMo3v/xOmVzOuGkirERYibASA3Y4aSiffvwZ5aNPPqSsewZFhJUIKxFWYsDm7Q7ly68+p3x/wtardp8i1tw0EVYirERYiYHZb1aU9x4+pHz780+Ug/aKcrLZYUhEWImwEmElBmax6ShfPL6gtBd7lDc4ZahEWImwEmElBmY52Wfr1uuUg6NfKUftLUrHBUMiwkqElQgrMQBXTUvZf3VKOW/fpPx77y3K7PgxQyXCSoSVCCsxBE1DeXu3p/zw7E9K300YAxFWIqxEWIkBuNW/pMzblrLZdJTp6gVjIMJKhJUIKzEADzq2djtRbr88piyaOWMgwkqElQgrMQDP12ydna8op91dynS9YAxEWImwEmElBuCqbyjrnq3b6xPKgiljIMJKhJUIKzEAC6YU9StKw/iIsBJhJcJKDMx5P2PMRFiJsBJhJcJKhJUIKxFWIqxEWImwEmH1H5ixff+uboAUAAAAAElFTkSuQmCC\"></td><td style='text-align:center;vertical-align:middle; margin: 0.5em;border:1px #90999f solid;border-collapse:collapse'><img style='max-width: 100px; max-height:100px;display:inline' src=\"data:image/png;base64,iVBORw0KGgoAAAANSUhEUgAAAHAAAABwCAIAAABJgmMcAAAAAXNSR0IArs4c6QAAAARnQU1BAACxjwv8YQUAAAAgY0hSTQAAeiYAAICEAAD6AAAAgOgAAHUwAADqYAAAOpgAABdwnLpRPAAAA99JREFUeAHtwU2I1AUcxvHvf+aZ3Z1h112TTfItezMzLFChS3WJLoFEL2AYQkUQFFSHpA4dPHXrkh2CCquLl7CDEHjoUgR1SREMSS2VxG3R1XV39nVm/p2etYOX5Df7Ar/PR3f110lxRAolUiiRQokUSqRQIoUSKZRIoUQKJVIokUKJFEqkUCKFEimUSKFECiVSKJFCiUXUKSrYXGM1prsfwtrnTmC9s5N0U0GJ1coWNlfUuF0ihRIplEihRJe1K8I2vfc59uYje7BmOY99tG+QbiopsJlVa7H6jYtYu2xj7aLK/yFSKJFCiRRKdFmjPYVNj41gHx7cg5W/HmWxtNTLgp46NlcKaxdVbpdIoUQKJVIo0QWVsoO1qGKNr97Fxlp93FTQTa1KD9au9WHFxBVsvhBWUHK7RAolUiiRQokg1bKNra/NYcM9FWxklv8o6KZWpcaCB3Zig6d/xCZqA1hBSQSRQokUSqRQIshAZR57eHU/NtDXi528eIMFBV3Vrtaw+umfsblCWE9rhmgihRIplEihRJDLg/diu7auwf4euYR1mKCbKnSwgblxbKjawkY7dbpJpFAihRIplAhSmbqBzc71Yzu278Je3L0FO/zdN9gXo8KGJkewqUod6+vMYNWig23sKbF7BurYqfFZbH1vFRtt0lUihRIplEihRJD+2evYT6euYUPnzmIHdj6Bbb3vQeyF5nFs70uvYK9/eQhrVhrY7Op12MbJM1hZsmD/7t3Y+0e+Z0FBV4kUSqRQIoUSQeYLYb9MdrByso2dObAf++Tt/dir+97B3vrgNWxbgwUTrSb259W/sO0bhrC9z76MvfHZp9hMUWexiBRKpFAihRJdUFLhVs7O92HPfHyQmw5ya73cSqOYxZ5+/Cns0LdfY/+UA1iVFotFpFAihRIplFiBnts8jDWbk9iRsRrWU06zFEQKJVIokUKJFaJSdrCjF0axE5ePYWo3WGoihRIplEihxAoxtfZ+bObaZWxidgqr0GGpiRRKpFAihRIrRDE+ig3OX8dm6GE5ESmUSKFECiWWsemhdZju3IRN9Q9ixW/HWE5ECiVSKJFCiWVszZPPY5Pnf8fKThsruKldCOtUhNXaMywWkUKJFEqkUGIZG/vhMAsaq7D+bY9hU5sfxQa27MAm/jjOgvMnWCwihRIplEihxDJWb17BpgeHMTX6sZ7hDVjz4mlMF06yFEQKJVIokUKJZaxWtrA7Ro5jl66NYH3T41iVmwpKloJIoUQKJVIosYzNFTXsaqeG9U1f51YKlp5IoUQKJVIokUKJFEqkUCKFEimUSKFECiVSqH8BWIjpOFtRWqEAAAAASUVORK5C\"></td><td style='text-align:center;vertical-align:middle; margin: 0.5em;border:1px #90999f solid;border-collapse:collapse'><img style='max-width: 100px; max-height:100px;display:inline' src=\"data:image/png;base64,iVBORw0KGgoAAAANSUhEUgAAAHAAAABwCAIAAABJgmMcAAAAAXNSR0IArs4c6QAAAARnQU1BAACxjwv8YQUAAAAgY0hSTQAAeiYAAICEAAD6AAAAgOgAAHUwAADqYAAAOpgAABdwnLpRPAAAA7tJREFUeAHtwU2IlXUYxuHf/z33nDlj2oiZMSVJEpYbCyKiXVCEUCttX1S4K5CWQlDQIsiC1kLSpqByUdDCDBL8KhMVqRRUykJl/Jqm+T5zzhsE97gU5Tkz5jzXpaGlA6Q4IoUSKZRIoUQKJVIokUKJFEqkUCKFEimUSKFECiVSKJFCiRRKpFAihRIplEihRAolUiiRQokUStwGZqsmNrvkbuwZLmCHxsR1hduVSKFECiVSKLFApu59CFvy8ONYsyrYof27+L8RKZRIoUQKJebRjFpY69JZbKLbwVa/9CY20hA2duoIpkvnMHXb3E5ECiVSKJFCiXm0lmvYQLNgJ6bGsIt7d2Gz589gGruKbV5VsCOXJ7G/ZgdYaCKFEimUSKFEj6nuYE/dtwI7PnwNWzo2jHVOXsGGqilsxxtbsT71YcdPHMa27T6AdalYCCKFEimUSKFEjw02ZrDPhgvWfGwTc37+FuuWBjZdF+z4icPY6y9vxR5dtwHrdDvY23t+xLpUzBeRQokUSqRQoseWVsw59u42bMM772MtrqvqDjZKC/vq4AGsVAXb+Nwm7LfTp5hTc11h3ogUSqRQIoUSPbbmria2+v412LN9V7H9U+JGzk3X2M69+7APvt+H1VzXLS0WgkihRAolUijRY/tHmHP0+CFs/QND2L6Tl7Gp5UPY4JPPY9e+24l16insSjWIra/+xjrtaWycfuaLSKFECiVSKNFjnSJs8/YPsanSxF5bdw/29ekz2PCeT7F2/zJsZKbCBl/cgp2bGMVGD3yDtcavMl9ECiVSKJFCiZ6rsenSh63tm8RWrViJffzqRuytT3ZgF6c7WE3BrvzwBbb86RewlRtfwf7Z9RFW6ppeEimUSKFECiXmUU3BLrQrbPvBX7DxI39izc4AN9I/OoyVhrCqfwCbHnoEa50/SS+JFEqkUCKFEgtkkn7mFOY02xPcjKruYiM/7cbWbXkPq2dnsJEvT2ON7izRRAolUiiRQok7SP+l37HTn2/HuqNXMVHoJZFCiRRKpFDiDlKoMZ09is207sa6lbBmZwKbKX1EECmUSKFECiXuUFXdxZZNXMaWN9rYZCnYDH1EECmUSKFECiUWgdnSwAYbs9iDrYIdG+9gndLgVokUSqRQIoUSi0BNwf6YEfZEfxcbKG1sjAa3SqRQIoUSKZRYZNpF2K/jU1gpzCl1F6upuBkihRIplEihxCI2WrewRt1hTincKpFCiRRKpFAi/adTGkQQKZRIoUQKJVIokUKJFEqkUP8ChY7pxgsO3NYAAAAASUVORK5C\"></td><td style='text-align:center;vertical-align:middle; margin: 0.5em;border:1px #90999f solid;border-collapse:collapse'><img style='max-width: 100px; max-height:100px;display:inline' src=\"data:image/png;base64,iVBORw0KGgoAAAANSUhEUgAAAHAAAABwCAIAAABJgmMcAAAAAXNSR0IArs4c6QAAAARnQU1BAACxjwv8YQUAAAAgY0hSTQAAeiYAAICEAAD6AAAAgOgAAHUwAADqYAAAOpgAABdwnLpRPAAABHBJREFUeAHtwUuInfUZx/Hv/32fk3POZJKYOAjjZTogIlSpF6oiSEEEoQp2YS/iQtcu3LgpiKB00V03UndeCiqCC0EXithCFdFFQWMUazAmVpIJ0WQy13N93/fv6ndmExjoPDMZ4/P52Ox0l+DHCK6M4MoIrozgygiujODKCK6M4MoIrozgygiujODKCK6M4MoIroxLSCYhZa6ROpVIZW2kaCpk3J5GivEA6Y7XkTqVbMYIrozgygiujJ+gMtdIN42RqTIjOTNhiYkTncuR1tpZJA/Xkb31OnK51chC3WUzRnBlBFdGcGXsMt08Qq7c0yD7LSFzB/Yho6qFfLfaQ9plQs4MG+Tm0UlktczI3nKAnGoSctASslCzKSO4MoIrI7gydpmahCQ2zE5PIVfNzCBVXSOro1PIzfPzyD+PHkOazMSZqoWUVYMsT12BLI0HSIsBmzGCKyO4MoIrY5tZrpC9RYWcK/YjVo+QtdZ+5ORoGflqsURuWjmOHBsUyHy7QV448g2yVkxzIWWqkIoNnf4S/y8juDKCKyO4MrZBIiPr7QNI7+rrkeb0N4j1R8ieqo/0UxuxeoR80UwxkTJydJS5kLKp2ClGcGUEV0ZwZThpUoFc8+eXkNnZ65CPnn0cafdX2EwicyEpN+xWRnBlBFdGcGVsQZNKxO58AHn0ht8hz//nFaQ4cQRJZC5FRnBlBFdGcGVswfDgLHLXw08iz737N2Tx1b8ilmsudUZwZQRXRnBlbMG+c98i/3r6QSQNe0gn1/ycGMGVEVwZwZWxBevtA8jc+aNIu2Ci3UrIDxUTK7nDpcgIrozgygiujC04OFpEFsrLkF/kJeTGmf3IH+//PfL18f8if3//I+T7PI3URQtp1z3kUDFEugUTx9IM0h6vczEYwZURXBnBlbEFi9NXMdHUSBotId+vrSN3/+Y+5Ne33oUc/upL5O2FNeT2fUPksT88giyvnEeeeP1N5KEXPkMOn/wMOfHMg+wUI7gygisjuDK2oL12DhlOXYac4BDyv16F/Onxh5C5QweRz88uI3NtJg6vMvGXl19EVuuM7CkS8tpTv0X2/fIOZGRdZE/VZzsZwZURXBnBlbEFiYx0eufZzL/XOkjdr5F6ah4p+qtMzF3LxO33ImfffRm5lwVkaelz5I6FJeQf4xVknFpsJyO4MoIrI7gydlDZVEjZVMiwXyCdW+5B2jOzyNkP30I6K2eQTxgj13UTcuuvbkM+/vYN5ItBi+1kBFdGcGUEV8Yu0Br3kN7XnyL9Ix8g86PTyN5WQhbGCTk1bJB33n8POTPK7BQjuDKCKyO4MnaBlDOSBmtIORogy3WBDHNGru1kpFMUyOFzK8gPTZedYgRXRnBlBFfGLpDISKe3iCQ2JDaUZOT4oEAG2ZAmlVwMRnBlBFdGcGXsOgnJbBjQQlp5hPRoM5G46IzgygiujODK+IloKJDl3GG3MoIrI7gygisjuDKCKyO4MoIrI7gygisjuDKCKyO4MoIrI7gygqsfAU+uPoUAj1V9AAAAAElFTkSuQmCC\"></td><td style='text-align:center;vertical-align:middle; margin: 0.5em;border:1px #90999f solid;border-collapse:collapse'><img style='max-width: 100px; max-height:100px;display:inline' src=\"data:image/png;base64,iVBORw0KGgoAAAANSUhEUgAAAHAAAABwCAIAAABJgmMcAAAAAXNSR0IArs4c6QAAAARnQU1BAACxjwv8YQUAAAAgY0hSTQAAeiYAAICEAAD6AAAAgOgAAHUwAADqYAAAOpgAABdwnLpRPAAABDBJREFUeAHtwT2IXGUUx+Hfe+/ZnZnNpzEkRIlJNgminaTQoEUKC3tBsBBrRW0CFoJFCgsbwULLgGBjIQiaMoJFkOAnkkBiSDBB3c3XbJLZ3dmZO++9Vv+JxTYbzm52w3ke27O5Q/BjBFdGcGUEV0ZwZQRXRnBlBFdGcGUEV0ZwZQRXRnBlBFdGcGUEV0ZwZQRXRnBlBFdGcGUEV0ZwZQRXRnBlBFdGcGUEV8Y61qSC5ewuFpBDU4bcqzJyoW/IsGghRZNZTUZwZQRXRnBlrANlk5GCGplKGWkXDdJKjNUNY03D2FQxQqyukbnHp5FUDZHW/E0kNQ0PygiujODKCK6MNVQ2GRmUbWSpswPZNH8TmUwjpJcLJJU1cmlxhGwtGTvcKZBulZE7i/eQicEiUpVtZHLU50EZwZURXBnBlbHKGhIyv+MpJHW2IBM7diNLF84is3kSKcnIYmZZg2YJuVK1kVwYsjdfRyZLxuqGsRna3JdYCSO4MoIrI7gyVkGHATK3aQ+y+5U3kVSWyOypk0grD5GiqVmJ7vSLSPP3RSTljMxVE8hjVEg3TyIpMdawMkZwZQRXRnBlOKlTgXS3HUDSaIjc/PEU0tyeQTq9G6xEQ0JyYUjr8s/ItmKA5Iaxm7ueQebn55BOfw5pSDwoI7gygisjuDKcTNQVsm/+MrK3Y8jRnduQL65dRQ5uKpEj0/uRL89dQabbCbnUZ+zZTkJ6VY3M5Qbp5gmk7M4gedc+pBosIFZXPCgjuDKCKyO4MpzkVCKjhrEj09PI8XdPIMe5L9c10uvdQX794C3kxNvvIx9+9jGyvdVCyjREqkFG5lNG8mgRybOXkNTUeDCCKyO4MoIrYxXM5A7y+e9/IX+89zpye1AhLx3cj8zc7iJVXSOfnPwUeeHwIeS78xeRiZSQIjHWcF+dCiQ1Nd6M4MoIrozgylhlOZXID3f5nxI5d36W5bWQA9UC8vLz+5AnrlxB7g1HyJ/9AllKk6wVI7gygisjuDI2iEHN2OmzZ5CqrpFz/UmkTgUPgxFcGcGVEVwZ68zo6aPIgVffQWY/eg35pr8daS90kSYlJNHwMBjBlRFcGcGVsQ70d+xFdj93DJk58y1jx95Atk9tRu5+/xXSGvR42IzgygiujODKWAdSq4MM795C8tIiMuzOIvnfy0h70GM9MYIrI7gygivjIcmpRFp7ppGpJ6eRejhAln47jbSHC6xXRnBlBFdGcGWsqYRUW3YydukXpFsaMrhxDWkNF9gIjODKCK6M4MpYQx2WkK29q8j17YeQqZ++RqpyKxuNEVwZwZURXBlraH+rQa4OElL2biFVUyITecBGYwRXRnBlBFfGGurnBhk2xnKqZGxkRnBlBFdGcGWsoX+qCSTRIGU94lFhBFdGcGUEV8YaqpKxnLIe8agwgisjuDKCq/8A0VYyXgpI2WUAAAAASUVORK5C\"></td><td style='text-align:center;vertical-align:middle; margin: 0.5em;border:1px #90999f solid;border-collapse:collapse'><img style='max-width: 100px; max-height:100px;display:inline' src=\"data:image/png;base64,iVBORw0KGgoAAAANSUhEUgAAAHAAAABwCAIAAABJgmMcAAAAAXNSR0IArs4c6QAAAARnQU1BAACxjwv8YQUAAAAgY0hSTQAAeiYAAICEAAD6AAAAgOgAAHUwAADqYAAAOpgAABdwnLpRPAAABEpJREFUeAHtwcGLnHcdx/H3b57P7MxmsymbuOraRA8tBMUWRLyJFy+eBEFBQVA8FATxqh561rMn/wPP2oMnaQutPZVWbCKhCG1iQ7PduNtmdmZ253men6fPxENFHL6z08P39dLB5W1SHJFCiRRKpFAihRIplEihRAolUiiRQokUSqRQIoUSKZRIoUQKJT4BBrXH+jLAVDtsVFrsmnrscNHwcWaDEVZq5aKIFEqkUCKFEheoK8LO9w6woiH2hYe3sIbHtgcFO68sXW46TIWlk+EVrF7axbZO3seaviWaSKFECiVSKHGB+qe+gl29+VXs+PU/Y/frLvYZHmGTlqWj5ipLTcG2FqfYte4Bdjr/EJuPdrG6mGPqF0QQKZRIoUQKJdasULHtt1/Djg/vYmU+wUqt2MM6xnoG2FY74+MVbMoI+9Jojh23M+y4a7B5GfJYYVUihRIplEihxJpVCva54QK7uriLvb7YwQa1wyoFK1T+H5WC3T1j6UfPPI0dnZxgL9z7FzZlxKpECiVSKJFCiTXbH8ywJ1SwSVuxpras04QxNjubYz/5wXPYrd/+GntrzspECiVSKJFCiTX7xsEe9sd/TrBFEZtw+/772IPD97Cff+d72HO/f4FViRRKpFAihRJrMKrn2O2jOTYZ72O1ETaeHnNR3p212LPPfA371W9+SQSRQokUSqRQYg0mwytYrSfYpbMTrCsNm3DYbmHf/sXPsKbwH7ZZlUihRAolUiixBle7E+x2t4PVpmBN37IJp9t72Nu1xwZdiw2ZsyqRQokUSqRQYg2e/9Y3sT+88jL26iOxac3iDGu+/HWsn09ZuvMaqxIplEihRAolgozrOfbD7/8Um86n2KsvvsGmqV9g4zf/hJ02O0QQKZRIoUQKJYLsNh1288ffxab9kKXSsGn75RTrG5bUT7BTRqxKpFAihRIplAhyb/tJTDe+iHWnJ9jo3i02YbueY09tN9i067G/zxqWCisTKZRIoUQKJYLU0SXs0vWnsY/e+gubMKgddm3YYaUIe+N8F2tKixUqqxIplEihRAolguw+fAc7eOl32E5fsGPGrFMtBZuNnsD+UVmaTT/ARt0c60pDBJFCiRRKpFAiSFuELeoCm3YNVkrFKoVVLTTG+us3sTJosDqbYFv717Gjv72IlVKJJlIokUKJFEqswaO+8FjF9gZzrK0Fm/Rb2IHOsMNW2KPLn8UG+zewrXf+ii00ZunTn8f69hwrNFhDSzSRQokUSqRQYg0mdYQNabHdAUtXxFJXz7G2FuzJ0mLDxXvYnXePsbPdT2GD+YSlDz/AdP8OF0WkUCKFEimUWINKwRZF2N6wx7YGBTtte+zGzggrpWBHszNs6+wc00cPsL4MWFrM2ASRQokUSqRQYs0qBXtzNuJ/uXXGfzFiqfCJJVIokUKJFEqkUCKFEimUSKFECiVSKJFCiRRKpFAihRIplEih/g3A1TGm9zAPdQAAAABJRU5ErkJg\"></td><td style='text-align:center;vertical-align:middle; margin: 0.5em;border:1px #90999f solid;border-collapse:collapse'><img style='max-width: 100px; max-height:100px;display:inline' src=\"data:image/png;base64,iVBORw0KGgoAAAANSUhEUgAAAHAAAABwCAIAAABJgmMcAAAAAXNSR0IArs4c6QAAAARnQU1BAACxjwv8YQUAAAAgY0hSTQAAeiYAAICEAAD6AAAAgOgAAHUwAADqYAAAOpgAABdwnLpRPAAABFZJREFUeAHtwUtrXWUUx+Hfu8/KOSeXpjGtaB1IhVZUBAV1Ig4EdeBQEIWOHIs4cazgoH4CP4DgREUQdCAKgiheQKx3xCL1VmlqbNMkzck+2ZfX0X/HQaA0rBMbWc9jR+amCX6M4MoIrozgygiujODKCK6M4MoIrozgygiujODKuAZUNqSTWySnAunXJfuBEVwZwZURXBl7KKcCaVIPaaaGyOzoArIxe5hOXbIfGMGVEVwZwZWxh8r5G5DU1nRyRkb9eWQ4WmG/MYIrI7gygitjDy2u/oocmWqRc1WBbDJgPzOCKyO4MoIrYw89fd8dyHPPvIjc/tTjyGZmXzOCKyO4MoIrY8IGuULOnl9CTjx7AlnNQ/4vjODKCK6M4MqYsINWI6/abXQOZaS/egpvmws3If3V88h0WyJV6iGZAg9GcGUEV0ZwZUxaprN45hPkol2Hh/LGY8gty98h98+uIGm2j/x2aRP5eO44nXIDGa4usVtGcGUEV0ZwZUxALzfIm8+fRE6+/BLy3oVNriSnAhkP55GiHiOPlqeRPDdAyqpCzl/eQMZtRo5f+B651CRknWm2Za6GEVwZwZURXBkTcMi2kFNff4oMrMe2lp2M+7NInj5AJ7fIXe0S8u1aRmYKOucutUidBuzkkUU6f2+Oka82M7tlBFdGcGUEV8YEjJqEvP3RB8ifG2O2DdlJcfROpP31B+SJxS3k3dUeUhZDpKgbOokr+u1yiazUGckkJJG5GkZwZQRXRnBlTMBqMYcsjS4jF+vMTizXyKGfP0RmCjqfL9Op0hApcsNufcdh5GBzEUkps1tGcGUEV0ZwZUzAw/NbyHJJZ7UxOonOqD+P1NUIqXKJrOUh7m44iqzZcaT/y1fslhFcGcGVEVwZE/D7xhY7OdirkeV2CslsKw9cj0yvn8VbTgWS1/5GWnwYwZURXBnBlTEB621GyjYhZWt0Eh2rt5Bqy5DHjh5G3v/9L+RiM0DaVHA12tRDitEaUjQVHozgygiujODKcJJJyHrdQ45Nt8iZskG2mEJ6uUZ64zXkm3MlMlvQuXOezscrDdKkHtLPFTJdNMhibxM53S4g1lZ4MIIrI7gygivDSSIjC9Ygg6KHPHnrEeSVn5aRNhXs5IfxEJlhjPyxwr8kpJ8r5OZ+g/zUHEDOT80hw9EK3ozgygiujODKmIClZoAsNFvI/fc+gJz64w3ky3IGaayPWD1G+mRkrjdGBonOSp2QpYpOaz1kOFphkozgygiujODKmIBMgfw4HiIvvP4aUmY61fz1dDKdwT0PIUufvUMnJaRfXkYGeYyMiz4yVZfsFSO4MoIrI7gy9tDZdg5pCqNTjZGZux9E1r94n20JSU2D9HKNVMmQIrf8F4zgygiujODK2ENFbpCiaZCp0RhpP30LGXJlmcS1xAiujODKCK6M4MoIrozgygiujODKCK6M4MoIrozgygiujODKCK6M4MoIrozgygiu/gGVvUe7a+bbuQAAAABJRU5ErkJg\"></td><td style='text-align:center;vertical-align:middle; margin: 0.5em;border:1px #90999f solid;border-collapse:collapse'><img style='max-width: 100px; max-height:100px;display:inline' src=\"data:image/png;base64,iVBORw0KGgoAAAANSUhEUgAAAHAAAABwCAIAAABJgmMcAAAAAXNSR0IArs4c6QAAAARnQU1BAACxjwv8YQUAAAAgY0hSTQAAeiYAAICEAAD6AAAAgOgAAHUwAADqYAAAOpgAABdwnLpRPAAAA8BJREFUeAHtwb+rlQUcx/H3c87nHJ/7w0CvqRfi0pCDSURFEC1RDUJLk00NTf0Bza2NDdkQNFjUEjk0RFAgBGm0lCYmGZGg5q97veq1++P8ep6n6XNaXIzvvfcI39dL87NTpDgihRIplEihRAolUiiRQokUSqRQIoUSKZRIoUQKJVIokUKJFEqkUCKFEimUSKFECiVSKJFCiRRKpFAihRIplEihxIQZaAqbr29jy/UU9uquBlvYswc7/udVrN+0sUHRxQbdGawzXMdaTU0EkUKJFEqkUGKb1EWL/xTY3uoOtksFtlYNsG67xC4uLmI7Wg3Wqwpsqulj/e4c1p/dhU3dvkIEkUKJFEqkUGKbTNc9bKpdY4O6wK4NGesXHey7pRE2aJfYdFVzPws7akxrf2P31qaJJlIokUKJFEpsobIZYM8+UmDDuoVd3KiwxWYn1m5GWFMUmOohNig6WP+xJ7EbV09jvVpYq6iJJlIokUKJFEpsoYPTDXa7X2PXhoytMIO1mxEPYmNuASv3LWAbV85iw1YXK5qaaCKFEimUSKHEJut3Z7Bfn34dqzZWsfbZE1hBzf/1zvwQO37mK+y1J+axz/66y2YSKZRIoUQKJTbbowvY6J87WNVbw1oUPIiCBnvrwBz25htvY69cv4wd+egTtopIoUQKJVIoscma/jpjTYNVd27yIFpNjR3e28Hee/co9vEn72Nr66tYq6mwumizmUQKJVIokUKJTbZv+Q9sbuUCtloxtrcssN83Otja1G7sZd3Cvl0qsGOff4C98PxL2NFPP8Tqos1WESmUSKFECiU22UpTYt1qA3tu9wy2syyxm9eWsVH/Hva99mOdYgX74tRJ7OuffsR+Xm0zVrTZKiKFEimUSKHEFlqqp7BvbrewHdU9rGwVjDWMlavL2Cw97PBTh7Bjv5zHeprFOtWArSJSKJFCiRRKbJN2PcJGhbDVRlhBw/0sd/dgX575Dbt18DDWOf8D20GkUCKFEimUeEh0myH2eLOEXejMM3bjEtZme4gUSqRQIoUSD4myVWGXnjnC2LlTWLl8ie0mUiiRQokUSkywdlNhi9Pz2Gw5gxXViEkiUiiRQokUSkywtendWHnoRWz19AmsO1xnkogUSqRQIoUSE6zcWMF6505iTTmLtZqaSSJSKJFCiRRKTLDe/gOM3b2JlXevM6lECiVSKJFCiQnWXrqMTY9WsVEhrKFgkogUSqRQIoUSE6xT9bCaFlbQYA0Fk0SkUCKFEimUmGgFVhVtHgYihRIplEih/gWKI/mcaD4SpAAAAABJRU5ErkJg\"></td><td style='text-align:center;vertical-align:middle; margin: 0.5em;border:1px #90999f solid;border-collapse:collapse'><img style='max-width: 100px; max-height:100px;display:inline' src=\"data:image/png;base64,iVBORw0KGgoAAAANSUhEUgAAAHAAAABwCAIAAABJgmMcAAAAAXNSR0IArs4c6QAAAARnQU1BAACxjwv8YQUAAAAgY0hSTQAAeiYAAICEAAD6AAAAgOgAAHUwAADqYAAAOpgAABdwnLpRPAAABHZJREFUeAHtwUuIlXUYx/Hv/5znzJnRIUezCXUE0yQqgy5QQkkUkqJIENQiikhoGbSpRUQbqRZtaxNBEdWiFhJlKWJI2AXKzJhGRqWaUWec0TGc+7m85231O20EYXjemRbP52NrursIfozgygiujODKCK6M4MoIrozgygiujODKCK6M4MoIrozgygiujODKCK6M4MoIrozgyvifaZY6kEQL6WUK2X3LGmRwbBwZmGkhrTwhk2k5Us6bFMkIrozgygiujCWSp4RkyZCObB7pKdeQleWEDF2eQEok5CrLkfqaTUhH73raTh6hSEZwZQRXRnBlLJEsGdLLFHK5tAxZX20gk80W8ttkA7GUIzfkM0jX2ElkYuMWpEWxjODKCK6M4MpYRFnJkDVMIi3+c2fHLDLZzJGhehXJUpm2nLZyniHNrInMDQ8iVYplBFdGcGUEV0bBmqUKsjybQVZWEzKd5cg/zRwZb1aRLJWRRM61ZKmM3NbZQC6O/ILkZdrGsy68GcGVEVwZwZVRMGs1kBXlDDld70Lmezciq8ZPIa1UQhI515PIkfFGC3lp+yPI6NgIcmjgNDJY78SDEVwZwZURXBkFm+tZi1xYvQ7pWrcJSX/9gcxSxcNo1oV8fPQo8sLOXcjdVyaQweEZPBjBlRFcGcGVUYBEjtjUBGIb7kTmx4ZpG/2TIjVy2p56Yi9yYfQcbcNn8GAEV0ZwZQRXRgEqeRNp3nY/Ujt3mrbaDFLJahSpkmh75703kR9OnUIsp62ZjIUygisjuDKCK6MAjVRGGn/3IxtqI8g5epByq0mRjnMTcnKiB9k010BaVPFgBFdGcGUEV0YBmqUOZHN9BHnxse3IK998z6JZ3Ycs69uMTJ8+gmSlMpLynIUygisjuDKCK6MA6a6HkXr/V8iJgd9ZatNHP0N23dyDfD0yjdRThYUygisjuDKCK6MArUYdGbr5HuTD0fNIlcWz/Hw/0l1qINvu24EcuXgIqecVFsoIrozgygiujAI0/xmj7eolpPuhx5HGt5+wWOZuuRdZOfwT8v7hQ8hU3okHI7gygisjuDIKsGKkH3n29nXI5Jn9yKd3PITYwDGKdOMDO5Hpv35GLrWqSCLHgxFcGcGVEVwZBailDuTg2WHk5T17kB+//BI5U+1FOmtTeJjvXo00jh9B8k1bkY4/f8WbEVwZwZURXBkFu5olZGCwH9nS0430zV9BfqxVWKhS3kL6Zs8hE6u2IvXjhymSEVwZwZURXBkFm8o7kY8GhpADr72O3LrxduTpl55Bjk0a15KTkLXlWeTt5/Yi+z7+ABm9ehmpZDWKZARXRnBlBFfGIpqjimzf9xby4IoW8uSjO5CTXxxAsjwhu/tWIm+8+i5y4ODnSCnxn7MnWCxGcGUEV0ZwZSyRVioh302WkZ/2H0RWWY70VRNydGQC2fbi88jlZgeSpU6kQo3FYgRXRnBlBFfG/0AiRxqpgoxlFWRslutLLDkjuDKCKyO4MoIrI7gygisjuDKCKyO4MoIrI7j6FzwTPoBvXezKAAAAAElFTkSuQmCC\"></td><td style='text-align:center;vertical-align:middle; margin: 0.5em;border:1px #90999f solid;border-collapse:collapse'><img style='max-width: 100px; max-height:100px;display:inline' src=\"data:image/png;base64,iVBORw0KGgoAAAANSUhEUgAAAHAAAABwCAIAAABJgmMcAAAAAXNSR0IArs4c6QAAAARnQU1BAACxjwv8YQUAAAAgY0hSTQAAeiYAAICEAAD6AAAAgOgAAHUwAADqYAAAOpgAABdwnLpRPAAAAqhJREFUeAHtwb2KnHUYxuHf+849k9mPsDEqxGArmspSRCwEwUOwEWw8BQvBI8gBpLH2CNJYCoKVKUJENIRoEKMmTthkP2Z3Z2deq2dyAjfMf+G+Lr2xu0X4iLASYSXCSoSVCCsRViKsRFiJsBJhJcJKhJUIKxFWIqzEBdExUFZdT+mGgZaIsBJhJcJKNOxka4/SLZeUndN9yrIbUQY6Nk2ElQgrEVaiYd1qRRkvjinT7pyyYkk55hKbJsJKhJUIK9GwK6czyvXxirK/HCiz1ZSWiLASYSXCSjTso9e3KE+OjikdL81WNEWElQgrEVaiYT/8d0R5c8KaOtYmw4Jy1o3ZNBFWIqxEWImGPWeH8srykLLVd5RJt6ScMWbTRFiJsBJhJRq2eud9yv39J5TR5auU4eFdyuR8zqaJsBJhJcJKNGzx7yNKv3uF0o8nlMV0l7XDOZsmwkqElQgr0bC3X9ynzJ51lNXQU84YUZbdiE0TYSXCSoSVaNi07yhfffwh5fE/f1Fu/fyYloiwEmElwko07JMbb1G2t3YoX395k3Lr889oiQgrEVYirETDbv7J2nu/fUe5c+8OrRJhJcJKhJVomK5eo/wy+52y+PspL01piQgrEVYirETD9OAnynZ/TnnwwReUkx9vU6Ynz9k0EVYirERYiYZdHx1TPn33BuXb77+hHEyu0RIRViKsRFiJxoyHBWUxsHb73q+USz1ru/NnlPNuxKaJsBJhJcJKNOZg+iplvjihHC0OKHujgbLdLygvhhGbJsJKhJUIK9GAZS/W9l6jLE7nlP35hDI/O6RVIqxEWImwEg0Yup7SbV+mTJ4+ovTDkotAhJUIKxFWogFanlH0x10uMhFWIqxEWImwEmElwkqElQgrEVYirERYibASYSXCSoTV/zemi0J4CIwjAAAAAElFTkSuQmCC\"></td><td style='text-align:center;vertical-align:middle; margin: 0.5em;border:1px #90999f solid;border-collapse:collapse'><img style='max-width: 100px; max-height:100px;display:inline' src=\"data:image/png;base64,iVBORw0KGgoAAAANSUhEUgAAAHAAAABwCAIAAABJgmMcAAAAAXNSR0IArs4c6QAAAARnQU1BAACxjwv8YQUAAAAgY0hSTQAAeiYAAICEAAD6AAAAgOgAAHUwAADqYAAAOpgAABdwnLpRPAAAA7hJREFUeAHtwbtuXGUUhuH3n732nvHgQwAJYyEEKSIgEpeAREdHg2joKLkTboCSm0CihRKhVEQhKSIUKSGQI3bsOWzv04+E9E0oTOFojeOQ9Ty2t7lB8GMEV0ZwZQRXRnBlBFdGcGUEV0ZwZQRXRnBlBFdGcGUEV0ZwZQRXxjljuUMuFC1SDwm5OGHll+Mpsp0XyGuWkTeqArm+yMiCMd6M4MoIrozgylizSW6QjhGyKLeQlAek3n0PSXevIe9v9MiiZ6XIPTJnjMy6hNzuODNGcGUEV0ZwZaxZ+9EXyMbeu0h97Scktw0rD24j82obuZLGyKQ94LwygisjuDKCK2PNhrZBFnduIv38CBnfvoqU/Id2yYvACK6M4MoIrow1yz9/h1wY1cjFgpU7uUCaVPIiM4IrI7gygivjDH28u4N88/W3yIdffoY8HkpeZEZwZQRXRnBlnKGHszny6VefI0/6EqmnO0hZz5Gu2kCsWSJF7jhPjODKCK6M4MpYszJ3SDMMyK16QC5vZGTTHiG/jTqk6o+QeWJlx1i51W7wvBnBlRFcGcGVsWYDCflgbxeZPnqMXD1skKbukXKUkMtbFXJpbw85WsyR7u5D5F5bIm0yzooRXBnBlRFcGWvQlFNkp91Hrv95H7kyr3hqwokGVn48YOWHJw+Q19MCOR5GyDtVh9zvOmSWx0gm4c0IrozgygiujDWo2gWyZIxcmeMi5Yz8lTc4yY2hQraGGfJ2WSP3WkOaVOLBCK6M4MoIroz/qbJvkHnxCvJHu0QuTTrkZp2QLhnPygiujODKCK6Ml0AxtMhAQm7VI2Re7SC5MGRSP+E0jODKCK6M4Mp4yQypQNrMynazjxynkqcSp2EEV0ZwZQRXxkusTwWymVpkzDFymCechhFcGcGVEVwZ4R9lykiVWDnsORUjuDKCKyO4MtZsk5qTzJjwPGQS0hUVst/1SJ8KnpURXBnBlRFcGWuwlWrkk7deRW483Ed+PcbdODfIwAiZl1vITneA7JfbSJN7pBg6npURXBnBlRFcGWtwPBTI978fILuWkTeLJTIfEjLLFbKVGmQ2lMiFokHanJByxL/0iHUHyJIKGdeHSCLjwQiujODKCK6MNWhSiTTlFFm2C6TMLdJTIJujBjlgilQ0yONhihS556mM5DRCMomTJDLejODKCK6M4MpYs6pdcJI2lZzkKE+QEQPSJUMSGRnSiPPECK6M4MoIrozgygiujODKCK6M4MoIrozgygiujODKCK6M4MoIrv4G91cNR9oyf8oAAAAASUVORK5C\"></td><td style='text-align:center;vertical-align:middle; margin: 0.5em;border:1px #90999f solid;border-collapse:collapse'><img style='max-width: 100px; max-height:100px;display:inline' src=\"data:image/png;base64,iVBORw0KGgoAAAANSUhEUgAAAHAAAABwCAIAAABJgmMcAAAAAXNSR0IArs4c6QAAAARnQU1BAACxjwv8YQUAAAAgY0hSTQAAeiYAAICEAAD6AAAAgOgAAHUwAADqYAAAOpgAABdwnLpRPAAAA+xJREFUeAHtwUuIlXUcx+HP/5zvmTnHy0waKVYYUgRBuZAulLRwU4taWLtIWrVq0aZdLVoV7YMEQRCLVi4MQqiMoDArsoLKSspS84amzehczu19W33PSgjhdxwHfs+jDas6pDgihRIplEihRAolUiiRQokUSqRQIoUSKZRIoUQKJVIokUKJFEqkUCKFEimUSKFECiVSKJFCiRRK3ATWNxewqWbB1rQa2MqWsIMzLWyqnsfmmGSpiRRKpFAihRI30LAIU93H7mo3sV5VY+e6Q2xuYYitK11MDUYGgx7WLRMsBZFCiRRKpFBizIYNYYM778P6l89jV3snsRPdgs3TxmoKVpUG1h52scfXCvv0MiNTZRGbqTtcS6EmgkihRAolUigxZr3p9dia+x/DZj95Fzvab3M9GnWFXZ2Yxg7MFaxuC2tvexFrXL6ADb7+EGvWQyKIFEqkUCKFEmPQrIfYo4vHse8P7MJaxJjoz2ODRgtbse1ZRg68gy1OrsEm6yHRRAolUiiRQokxeHh1hc32a6zX6mCT/XmiNeshtnjxDDZVKmzD4B/sEm2iiRRKpFAihRJj8PPcELtwxxZMp39jnDrVIjb44SPsvZdfxra/vYtxEimUSKFECiWCFGrsX1Zi9cJVrD+xAmt2rxBt8ypGHrlnE/bLsR+xibqP9UqLaCKFEimUSKFEkIoG1lt7J9a6fRM2OPYt0e5uLWI7nngae3DLVuylN1/FemWScRIplEihRAolghRqbHs5hU3PXMQ+H1zEztLhetSlgbWrRWzPa29gU1O3YOfPn8Z+mS+MFMZKpFAihRIplBiDgxd62Mm9e7HBoI+9/tYr2OETZ7CJBiO/LxasRY3Nlkns/X27sS2bH8J+P/4rttBoY426YpxECiVSKJFCiTEYFGEbX3gOe2pDB9vxzPPYl7t3Yn91GZkrHay74V5s9emfsMuzM9hXRw5h35z4G2vUbW4UkUKJFEqkUGLMBqWJ7T/Xx/bv3IMNG1NY1WxiE4MFrH3mV2xIwTqTbezjP05hf1bTmOhxo4gUSqRQIoUSN1Ch5lpU9Rip+F9VaWJHz5zFzveFlWbFUhAplEihRAollqGFWzdiX8xexNpbn8TK4Q9YCiKFEimUSKHEMtFXG1v9wFbs6nefYeXQPqwUsRRECiVSKJFCiWViMH0bVvW6WK0Wtk497OywyVIQKZRIoUQKJZaJMn8Fmz92BCvzM9jZYYelJlIokUKJFEosE3VnFVaaLaxUQ24mIoUSKZRIocQy0b50mpFSsGY1wKrSYKmJFEqkUCKFEstEoWakrrGqNLiZiBRKpFAihRIplEihRAolUqj/AHOWBF7iiN0AAAAAAElFTkSuQmCC\"></td><td style='text-align:center;vertical-align:middle; margin: 0.5em;border:1px #90999f solid;border-collapse:collapse'><img style='max-width: 100px; max-height:100px;display:inline' src=\"data:image/png;base64,iVBORw0KGgoAAAANSUhEUgAAAHAAAABwCAIAAABJgmMcAAAAAXNSR0IArs4c6QAAAARnQU1BAACxjwv8YQUAAAAgY0hSTQAAeiYAAICEAAD6AAAAgOgAAHUwAADqYAAAOpgAABdwnLpRPAAAA9FJREFUeAHtwc2L1AUcx/H3b+YzO7PruqtmPkAdhFLwIJWZQQRC3bpHR6H+gSRIgqDoFhYEYSYERXsxukSQqGR5kJIEH5JKyzLNp5R117bdmZ2d+XX6bJe9LHx1Z+X7emntYD8pjkihRAolUiiRQokUSqRQIoUSKZRIoUQKJVIokUKJFEqkUCKFEimUSKFECiVSKJFCiRRKpFAihRIplEihRAolUigxT/20sC3DwrY98hj264Xz2IlrNzEVzBptl1ijwqzVdWHH/qlizb5BrLNkGOsfu0ovESmUSKFECiXmaby2HPt+bBy7/t0x7Ox0A2vW78eWN29iE5VBbNezW7GhpcPY880pbGhoGfbRF59hx556Afv3jzNY7ep5bKA7ibWKPu4kkUKJFEqkUGKeau0prEuBndJarDF9CxtojmPTCGvXBrA39h/GVqqL1YsC273jNWzr+vXYAxf3Y09ufgL76uhZ7OXtO7Cdu3dhPzYbRBMplEihRAol5qmgxGYKYY3JW8ylW1SYS6N1G5uijl2aYVa7Wseeefs9ZhUFtqKcwL68dADbNFhgR44exO5r9GHdVgWrlF0iiBRKpFAihRI9rNZpMaeSWaOVQaxTFXak08AmTp7GBlTBirJKNJFCiRRKpFBikat2Z7BqdwZrtG9j77y6E9vz6QdYd6qDVbszRBAplEihRAol7lHj9RXYtvc/wWrNDjZTrWPV7gwRRAolUiiRQol7SEGJlcvXYA+/+CZ2/YdD2NTXI0QTKZRIoUQKJe4hG+st7MqNM9iNE99ixcG9WLXoI5pIoUQKJVIoscgNFU3s0N7PsZF9e7DHH12OPbe/5E4SKZRIoUQKJRahflrYS5s3Ypev/ImtWrkGe+Xdt7Ap6txJIoUSKZRIocQi9FCjxFatXI2N7PsQ++aXc9jpZoO7RaRQIoUSKZRYJFTOYD9PCTt64jjW7nSw450VWB+T3C0ihRIplEihRA+brg1gnQ1bsPboNezE3yex3xoPYo32TRaCSKFECiVSKNFjptXAOkMrsc6V37ENt89h19rC6p1RFppIoUQKJVIo0QNKCqw7vBorKhVs3ehP2MVOP1YWBVaUXRaaSKFECiVSKNEDWo0hbN3217G/DoxgF8auM6tawerTE/QSkUKJFEqkUGKBdCrC+jc9jV3a/zGzyhLrLlmGNcau0qtECiVSKJFCiQXS7h/Ciukm1r58Hls6dgmrFRWspEKvEimUSKFECiUWSN/kGFacOowt6zaxVlHjfwWLgUihRAolUiixQCpll7m0ij4WM5FCiRRKpFD/AQtd77RCTGfeAAAAAElFTkSuQmCC\"></td><td style='text-align:center;vertical-align:middle; margin: 0.5em;border:1px #90999f solid;border-collapse:collapse'><img style='max-width: 100px; max-height:100px;display:inline' src=\"data:image/png;base64,iVBORw0KGgoAAAANSUhEUgAAAHAAAABwCAIAAABJgmMcAAAAAXNSR0IArs4c6QAAAARnQU1BAACxjwv8YQUAAAAgY0hSTQAAeiYAAICEAAD6AAAAgOgAAHUwAADqYAAAOpgAABdwnLpRPAAABTFJREFUeAHtwU9o33cdx/Hn5/t9//41WdoGqY0rddWu2sWVVtHbRPTgBKH0oDjEs4KngR70okeV4WXoxaKgU9fhTgNhIG64OS2T2mWr7dpuSZPYrKxJ80v6y++X35/v19MruQRKmneaVd6Ph40NNwh+jODKCK6M4MoIrozgygiujODKCK6M4MoIrozgygiujODKCK6M4MpwUqSMdQnpPfgJ1mQ5kubeQaq9Ff5fGMGVEVwZwZWxBVb2kdG8h3zIEnLhv5eQw7aCnNi3F/nrXBu5VdSQkoz7jRFcGcGVEVwZW/BwvY9UU4Y8fvwYMj47g5x6/AkkpQyZ+v1pZLnfRWa7CWlR435gBFdGcGUEV8YWvNl7AEmse/TGHLLQaiGn//Q7ZKq1ivRK1lweOoQcZwq53C2RksQHlRFcGcGVEVwZW5Af/yIyfOgR5PRf/ojUm0usS6xrIO09Y0hlaR55o7IPqTz6GaT/9utItdtCEiU7zQiujODKCK6MLRj/xveQyb89z5pum81oLM4hVg6QWrGM1C/8Gbl+4HNI/do5ZDVV2GlGcGUEV0ZwZWzB+V9+Hxk5+lnWWI271U85UpQJGUmrSG36TeThxgC50i6R1VRlJxjBlRFcGcGVsQXDHz+GHHzsFLL42gtspL33AGtSQo4uX0bm+wlplRVkryXk2J6EvLFYIs2xcaT+3hV2ghFcGcGVEVwZW7D0+ovIF771U+TSRx9B2tMZ8pGT30bmnn0K+eTuIeTiYgs5+dAo8rMf/wI5P3EWOfnUz1nTWkR6eRWxQQ9JlGwnI7gygisjuDK2oLp8E3n6R19GbOYiUisHyNJvfoik2gjyXquNHBlpINMLC8i/J84i586/hpw6uBt5dnYeqRVdpHviK8hg4mUkK/pIosSDEVwZwZURXBlbkJUDpHZtgs2od28jF8uEnC0eQHZ35pHfPvdr5FNHjiLXm0tId/848uFT30FuvPoCMsgMyYsekpcDZJBy7pYRXBnBlRFcGffQIOVspJ3Vkby/iqxkDeT56SZyZuZfSEkFqdx+B5l55idIvu8gUvv0l5D2W39Hhls3kSLlSFYO2AwjuDKCKyO4Mu6hTn0EycY+hlQnzyPZoMtG+snYSKJE8qKP5Es3kE6vg7RvTCGNlQXk9sh+ZHhpDuknYzOM4MoIrozgythmRcqQRqeJDE3+E3l/9DDSWJjFW73dRBIlUi17yEOdaaRSS8i7q6zpJ+NOjODKCK6M4MrYZkdsBfnB159AXjn7MvLqtavIdRKyQg1vJQlZTVWkljpII0/IWKWHzPSNOzGCKyO4MoIrY5td7dWR7z5zBnn6m19DfjX1IjJo1JB6u8l2GqaDjFQy5Gq7QObLISRRcCdGcGUEV0ZwZdxDnVRFnvzDGWTkq08it156DmnvfRDZdWsWKUlsRi+vI9VBG7m5awz5R3sZSeOPId0r55B6p8mdGMGVEVwZwZWxQ5bSLqR89y0k238IySYnkAPWQfZYQi61Dfn8aI68tFAilUEHObGri5zttpHe8CiSluaR6uoym2EEV0ZwZQRXxg7JyoI1/3mFNZkhlUEXmUy7kUP9JutK5Ha3hxyuFchQnpCpToEkCqS2/D5SLt9EsrJgM4zgygiujODK+IDJiz5SpAyp9jvIHBUkp0AutApkQEKqqUSaZR3J6SGJEkmU3C0juDKCKyO4Mu4TRcqQggzps26VjbVLNpQo8WYEV0ZwZQRXRnBlBFdGcGUEV0ZwZQRXRnBlBFdGcGUEV0ZwZQRX/wNQ838YEjBuGAAAAABJRU5ErkJg\"></td><td style='text-align:center;vertical-align:middle; margin: 0.5em;border:1px #90999f solid;border-collapse:collapse'><img style='max-width: 100px; max-height:100px;display:inline' src=\"data:image/png;base64,iVBORw0KGgoAAAANSUhEUgAAAHAAAABwCAIAAABJgmMcAAAAAXNSR0IArs4c6QAAAARnQU1BAACxjwv8YQUAAAAgY0hSTQAAeiYAAICEAAD6AAAAgOgAAHUwAADqYAAAOpgAABdwnLpRPAAAA1RJREFUeAHtwU2IVQUYxvH/ufeZex3NmRh1RvsgLQj6MmyRgdSy3aySKNwJohBCBhESCK0isCQoLFoESkSLKAraRESoiz42YkEh40CDNZbYzKTONGfm3Fbv1MJN8px7u/L+ftp00yDJRyQrkaxEshLJSiQrkaxEshLJSiQrkaxEshLJSiQrkaxEshLJSiQrkaxEshI3qIW1GwjFwhVCu7xKnUSyEslKJCtxA+kUDcLo+B7Cb5+/z4rfJ6mTSFYiWYlkJW4gC8MbCaPDGwjF6rV0i0hWIlmJZCW6aLloEqrmAKFqiNBevMz1Wj1zntB5ex+hyRDdIpKVSFYiWYkuKke3EA6/eprw/MGHWTH1A9drfKxFKJdF+HiuTdBiSZ1EshLJSiQr0UXtTZsJR756g9A8fxaHl188TNjx7F5Cu1qmW0SyEslKJCtRs4IO4fGpLwinz3xKUDWIw+zsJcJru3YRdh//kG4RyUokK5GsRM3anZIwMVcR5pYbODSoCAcPHyJ0+Lcm3SKSlUhWIlmJmo0NLBM+euUo4ZHnnsFhYWANYevm9YTjZ87yjybdIpKVSFYiWYkaFFSE3Y/uIKxfN0oYUUV44bGHCPfcvZVw4J2jhNsHRfhyYAth3R8TBGkjoUWHXhDJSiQrkaxELQrCuydOEbY9uJ1waOeThJPfniBse2A74aWnnibsf+8DwnomCFWnIFRVRdh5712EY9+fI1xmFXUSyUokK5GsRA06FIS5qiAcePMIYaJcRSjoEI69fpRra3Mte+8bI1yanSGcmJomXGEV3SKSlUhWIlmJmk03Rwi/NhqENpcJHQr+i0anIiyWJeHk1DThp8YooVBJaC0tUCeRrESyEslK1KxVXsXtys23Er6bmiScK1cT2vxJL4hkJZKVSFaiDw3N/EzY88Q4Yd8nJwmtpXl6QSQrkaxEshJ96LbWEuHixQuERrVEr4lkJZKVSFaiD51dHiK8deprQtUYYUVV0gsiWYlkJZKV6EPVHfcTphYXCI0Lk/SaSFYiWYlkJfrQ4C13EpqDawh//fIjvSaSlUhWIlmJPjT/zWeE4XKGUNCm10SyEslKJCvRh1rlPGGeNv8nIlmJZCWSlUhWIlmJZCWSlUhWIlmJZCWS1d/p5bO/gpwN3wAAAABJRU5ErkJg\"></td></tr></tbody></table><div><small>(a vector displayed as a row to save space)</small></div>"
      ]
     },
     "metadata": {},
     "execution_count": 11
    }
   ],
   "cell_type": "code",
   "source": [
    "heatmap(expl)\n",
    "\n",
    "# Custom heatmaps"
   ],
   "metadata": {},
   "execution_count": 11
  },
  {
   "cell_type": "markdown",
   "source": [
    "The function `heatmap` automatically applies common presets for each method.\n",
    "\n",
    "Since `InputTimesGradient` computes attributions,\n",
    "heatmaps are shown in a blue-white-red color scheme.\n",
    "Gradient methods however are typically shown in grayscale:"
   ],
   "metadata": {}
  },
  {
   "outputs": [
    {
     "output_type": "execute_result",
     "data": {
      "text/plain": "1-element Vector{Matrix{ColorTypes.RGB{Float64}}}:\n [RGB(0.542044692993164, 0.5190736373901367, 0.18255157775878905) RGB(0.5405419067382813, 0.5186877868652343, 0.18299835205078127) … RGB(0.5501000518798829, 0.5211419052124023, 0.18022431030273436) RGB(0.5480906158447265, 0.5206259689331054, 0.18076740112304687); RGB(0.5577551651000977, 0.5230979751586914, 0.1782020248413086) RGB(0.5673554992675781, 0.5255300598144531, 0.17589942016601562) … RGB(0.550458218383789, 0.5212338668823242, 0.18012750854492188) RGB(0.5480906158447265, 0.5206259689331054, 0.18076740112304687); … ; RGB(0.5540689025878907, 0.5221609344482422, 0.17915164794921876) RGB(0.5669629669189453, 0.5254306182861328, 0.17598839416503906) … RGB(0.5511143676757813, 0.5214023376464844, 0.1799501708984375) RGB(0.5480906158447265, 0.5206259689331054, 0.18076740112304687); RGB(0.5480906158447265, 0.5206259689331054, 0.18076740112304687) RGB(0.5480906158447265, 0.5206259689331054, 0.18076740112304687) … RGB(0.5480906158447265, 0.5206259689331054, 0.18076740112304687) RGB(0.5480906158447265, 0.5206259689331054, 0.18076740112304687)]",
      "text/html": [
       "<table><tbody><tr><td style='text-align:center;vertical-align:middle; margin: 0.5em;border:1px #90999f solid;border-collapse:collapse'><img style='max-width: 100px; max-height:100px;display:inline' src=\"data:image/png;base64,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\"></td></tr></tbody></table><div><small>(a vector displayed as a row to save space)</small></div>"
      ]
     },
     "metadata": {},
     "execution_count": 12
    }
   ],
   "cell_type": "code",
   "source": [
    "analyzer = Gradient(model)\n",
    "heatmap(input, analyzer)"
   ],
   "metadata": {},
   "execution_count": 12
  },
  {
   "outputs": [
    {
     "output_type": "execute_result",
     "data": {
      "text/plain": "1-element Vector{Matrix{ColorTypes.RGB{Float64}}}:\n [RGB(0.0963, 0.0479, 0.037250000000000005) RGB(0.0963, 0.0479, 0.037250000000000005) … RGB(0.0963, 0.0479, 0.037250000000000005) RGB(0.0963, 0.0479, 0.037250000000000005); RGB(0.0963, 0.0479, 0.037250000000000005) RGB(0.0963, 0.0479, 0.037250000000000005) … RGB(0.0963, 0.0479, 0.037250000000000005) RGB(0.0963, 0.0479, 0.037250000000000005); … ; RGB(0.0963, 0.0479, 0.037250000000000005) RGB(0.0963, 0.0479, 0.037250000000000005) … RGB(0.0963, 0.0479, 0.037250000000000005) RGB(0.0963, 0.0479, 0.037250000000000005); RGB(0.0963, 0.0479, 0.037250000000000005) RGB(0.0963, 0.0479, 0.037250000000000005) … RGB(0.0963, 0.0479, 0.037250000000000005) RGB(0.0963, 0.0479, 0.037250000000000005)]",
      "text/html": [
       "<table><tbody><tr><td style='text-align:center;vertical-align:middle; margin: 0.5em;border:1px #90999f solid;border-collapse:collapse'><img style='max-width: 100px; max-height:100px;display:inline' src=\"data:image/png;base64,iVBORw0KGgoAAAANSUhEUgAAAHAAAABwCAIAAABJgmMcAAAAAXNSR0IArs4c6QAAAARnQU1BAACxjwv8YQUAAAAgY0hSTQAAeiYAAICEAAD6AAAAgOgAAHUwAADqYAAAOpgAABdwnLpRPAAABDBJREFUeAHtwT2IXGUUx+Hfe+/ZnZnNpzEkRIlJNgminaTQoEUKC3tBsBBrRW0CFoJFCgsbwULLgGBjIQiaMoJFkOAnkkBiSDBB3c3XbJLZ3dmZO++9Vv+JxTYbzm52w3ke27O5Q/BjBFdGcGUEV0ZwZQRXRnBlBFdGcGUEV0ZwZQRXRnBlBFdGcGUEV0ZwZQRXRnBlBFdGcGUEV0ZwZQRXRnBlBFdGcGUEV8Y61qSC5ewuFpBDU4bcqzJyoW/IsGghRZNZTUZwZQRXRnBlrANlk5GCGplKGWkXDdJKjNUNY03D2FQxQqyukbnHp5FUDZHW/E0kNQ0PygiujODKCK6MNVQ2GRmUbWSpswPZNH8TmUwjpJcLJJU1cmlxhGwtGTvcKZBulZE7i/eQicEiUpVtZHLU50EZwZURXBnBlbHKGhIyv+MpJHW2IBM7diNLF84is3kSKcnIYmZZg2YJuVK1kVwYsjdfRyZLxuqGsRna3JdYCSO4MoIrI7gyVkGHATK3aQ+y+5U3kVSWyOypk0grD5GiqVmJ7vSLSPP3RSTljMxVE8hjVEg3TyIpMdawMkZwZQRXRnBlOKlTgXS3HUDSaIjc/PEU0tyeQTq9G6xEQ0JyYUjr8s/ItmKA5Iaxm7ueQebn55BOfw5pSDwoI7gygisjuDKcTNQVsm/+MrK3Y8jRnduQL65dRQ5uKpEj0/uRL89dQabbCbnUZ+zZTkJ6VY3M5Qbp5gmk7M4gedc+pBosIFZXPCgjuDKCKyO4MpzkVCKjhrEj09PI8XdPIMe5L9c10uvdQX794C3kxNvvIx9+9jGyvdVCyjREqkFG5lNG8mgRybOXkNTUeDCCKyO4MoIrYxXM5A7y+e9/IX+89zpye1AhLx3cj8zc7iJVXSOfnPwUeeHwIeS78xeRiZSQIjHWcF+dCiQ1Nd6M4MoIrozgylhlOZXID3f5nxI5d36W5bWQA9UC8vLz+5AnrlxB7g1HyJ/9AllKk6wVI7gygisjuDI2iEHN2OmzZ5CqrpFz/UmkTgUPgxFcGcGVEVwZ68zo6aPIgVffQWY/eg35pr8daS90kSYlJNHwMBjBlRFcGcGVsQ70d+xFdj93DJk58y1jx95Atk9tRu5+/xXSGvR42IzgygiujODKWAdSq4MM795C8tIiMuzOIvnfy0h70GM9MYIrI7gygivjIcmpRFp7ppGpJ6eRejhAln47jbSHC6xXRnBlBFdGcGWsqYRUW3YydukXpFsaMrhxDWkNF9gIjODKCK6M4MpYQx2WkK29q8j17YeQqZ++RqpyKxuNEVwZwZURXBlraH+rQa4OElL2biFVUyITecBGYwRXRnBlBFfGGurnBhk2xnKqZGxkRnBlBFdGcGWsoX+qCSTRIGU94lFhBFdGcGUEV8YaqpKxnLIe8agwgisjuDKCq/8A0VYyXgpI2WUAAAAASUVORK5C\"></td></tr></tbody></table><div><small>(a vector displayed as a row to save space)</small></div>"
      ]
     },
     "metadata": {},
     "execution_count": 13
    }
   ],
   "cell_type": "code",
   "source": [
    "analyzer = InputTimesGradient(model)\n",
    "heatmap(input, analyzer)"
   ],
   "metadata": {},
   "execution_count": 13
  },
  {
   "cell_type": "markdown",
   "source": [
    "Using [VisionHeatmaps.jl](https://julia-xai.github.io/XAIDocs/VisionHeatmaps/stable/),\n",
    "heatmaps can be heavily customized.\n",
    "Check out the [heatmapping documentation](https://julia-xai.github.io/XAIDocs/VisionHeatmaps/stable/) for more information."
   ],
   "metadata": {}
  },
  {
   "cell_type": "markdown",
   "source": [
    "---\n",
    "\n",
    "*This notebook was generated using [Literate.jl](https://github.com/fredrikekre/Literate.jl).*"
   ],
   "metadata": {}
  }
 ],
 "nbformat_minor": 3,
 "metadata": {
  "language_info": {
   "file_extension": ".jl",
   "mimetype": "application/julia",
   "name": "julia",
   "version": "1.11.6"
  },
  "kernelspec": {
   "name": "julia-1.11",
   "display_name": "Julia 1.11.6",
   "language": "julia"
  }
 },
 "nbformat": 4
}
