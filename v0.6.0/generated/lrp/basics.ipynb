{
 "cells": [
  {
   "cell_type": "markdown",
   "source": [
    "# Basic usage of LRP\n",
    "This example will show you best practices for using LRP,\n",
    "building on the basics shown in the *Getting started* section."
   ],
   "metadata": {}
  },
  {
   "cell_type": "markdown",
   "source": [
    "We start out by loading a small convolutional neural network:"
   ],
   "metadata": {}
  },
  {
   "outputs": [],
   "cell_type": "code",
   "source": [
    "using ExplainableAI\n",
    "using Flux\n",
    "\n",
    "model = Chain(\n",
    "    Chain(\n",
    "        Conv((3, 3), 3 => 8, relu; pad=1),\n",
    "        Conv((3, 3), 8 => 8, relu; pad=1),\n",
    "        MaxPool((2, 2)),\n",
    "        Conv((3, 3), 8 => 16; pad=1),\n",
    "        BatchNorm(16, relu),\n",
    "        Conv((3, 3), 16 => 8, relu; pad=1),\n",
    "        BatchNorm(8, relu),\n",
    "    ),\n",
    "    Chain(\n",
    "        Flux.flatten,\n",
    "        Dense(2048 => 512, relu),\n",
    "        Dropout(0.5),\n",
    "        Dense(512 => 100, softmax)\n",
    "    ),\n",
    ");"
   ],
   "metadata": {},
   "execution_count": 1
  },
  {
   "cell_type": "markdown",
   "source": [
    "This model contains two chains: the convolutional layers and the fully connected layers."
   ],
   "metadata": {}
  },
  {
   "cell_type": "markdown",
   "source": [
    "## Model preparation\n",
    "### Stripping the output softmax\n",
    "When using LRP, it is recommended to explain output logits instead of probabilities.\n",
    "This can be done by stripping the output softmax activation from the model\n",
    "using the `strip_softmax` function:"
   ],
   "metadata": {}
  },
  {
   "outputs": [
    {
     "output_type": "execute_result",
     "data": {
      "text/plain": "Chain(\n  Chain(\n    Conv((3, 3), 3 => 8, relu, pad=1),  \u001b[90m# 224 parameters\u001b[39m\n    Conv((3, 3), 8 => 8, relu, pad=1),  \u001b[90m# 584 parameters\u001b[39m\n    MaxPool((2, 2)),\n    Conv((3, 3), 8 => 16, pad=1),       \u001b[90m# 1_168 parameters\u001b[39m\n    BatchNorm(16, relu),                \u001b[90m# 32 parameters\u001b[39m\u001b[90m, plus 32\u001b[39m\n    Conv((3, 3), 16 => 8, relu, pad=1),  \u001b[90m# 1_160 parameters\u001b[39m\n    BatchNorm(8, relu),                 \u001b[90m# 16 parameters\u001b[39m\u001b[90m, plus 16\u001b[39m\n  ),\n  Chain(\n    Flux.flatten,\n    Dense(2048 => 512, relu),           \u001b[90m# 1_049_088 parameters\u001b[39m\n    Dropout(0.5),\n    Dense(512 => 100),                  \u001b[90m# 51_300 parameters\u001b[39m\n  ),\n) \u001b[90m        # Total: 16 trainable arrays, \u001b[39m1_103_572 parameters,\n\u001b[90m          # plus 4 non-trainable, 48 parameters, summarysize \u001b[39m4.213 MiB."
     },
     "metadata": {},
     "execution_count": 2
    }
   ],
   "cell_type": "code",
   "source": [
    "model = strip_softmax(model)"
   ],
   "metadata": {},
   "execution_count": 2
  },
  {
   "cell_type": "markdown",
   "source": [
    "If you don't remove the output softmax,\n",
    "model checks will fail."
   ],
   "metadata": {}
  },
  {
   "cell_type": "markdown",
   "source": [
    "### Canonizing the model\n",
    "LRP is not invariant to a model's implementation.\n",
    "Applying the `GammaRule` to two linear layers in a row will yield different results\n",
    "than first fusing the two layers into one linear layer and then applying the rule.\n",
    "This fusing is called \"canonization\" and can be done using the `canonize` function:"
   ],
   "metadata": {}
  },
  {
   "outputs": [
    {
     "output_type": "execute_result",
     "data": {
      "text/plain": "Chain(\n  Conv((3, 3), 3 => 8, relu, pad=1),    \u001b[90m# 224 parameters\u001b[39m\n  Conv((3, 3), 8 => 8, relu, pad=1),    \u001b[90m# 584 parameters\u001b[39m\n  MaxPool((2, 2)),\n  Conv((3, 3), 8 => 16, relu, pad=1),   \u001b[90m# 1_168 parameters\u001b[39m\n  Conv((3, 3), 16 => 8, relu, pad=1),   \u001b[90m# 1_160 parameters\u001b[39m\n  BatchNorm(8, relu),                   \u001b[90m# 16 parameters\u001b[39m\u001b[90m, plus 16\u001b[39m\n  Flux.flatten,\n  Dense(2048 => 512, relu),             \u001b[90m# 1_049_088 parameters\u001b[39m\n  Dropout(0.5),\n  Dense(512 => 100),                    \u001b[90m# 51_300 parameters\u001b[39m\n) \u001b[90m        # Total: 14 trainable arrays, \u001b[39m1_103_540 parameters,\n\u001b[90m          # plus 2 non-trainable, 16 parameters, summarysize \u001b[39m4.212 MiB."
     },
     "metadata": {},
     "execution_count": 3
    }
   ],
   "cell_type": "code",
   "source": [
    "model = canonize(model)"
   ],
   "metadata": {},
   "execution_count": 3
  },
  {
   "cell_type": "markdown",
   "source": [
    "### Flattening the model\n",
    "ExplainableAI.jl's LRP implementation supports nested Flux Chains and Parallel layers.\n",
    "However, it is recommended to flatten the model before analyzing it.\n",
    "\n",
    "LRP is implemented by first running a forward pass through the model,\n",
    "keeping track of the intermediate activations, followed by a backward pass\n",
    "that computes the relevances.\n",
    "\n",
    "To keep the LRP implementation simple and maintainable,\n",
    "ExplainableAI.jl does not pre-compute \"nested\" activations.\n",
    "Instead, for every internal chain, a new forward pass is run to compute activations.\n",
    "\n",
    "By \"flattening\" a model, this overhead can be avoided.\n",
    "For this purpose, ExplainableAI.jl provides the function `flatten_model`:"
   ],
   "metadata": {}
  },
  {
   "outputs": [
    {
     "output_type": "execute_result",
     "data": {
      "text/plain": "Chain(\n  Conv((3, 3), 3 => 8, relu, pad=1),    \u001b[90m# 224 parameters\u001b[39m\n  Conv((3, 3), 8 => 8, relu, pad=1),    \u001b[90m# 584 parameters\u001b[39m\n  MaxPool((2, 2)),\n  Conv((3, 3), 8 => 16, relu, pad=1),   \u001b[90m# 1_168 parameters\u001b[39m\n  Conv((3, 3), 16 => 8, relu, pad=1),   \u001b[90m# 1_160 parameters\u001b[39m\n  BatchNorm(8, relu),                   \u001b[90m# 16 parameters\u001b[39m\u001b[90m, plus 16\u001b[39m\n  Flux.flatten,\n  Dense(2048 => 512, relu),             \u001b[90m# 1_049_088 parameters\u001b[39m\n  Dropout(0.5),\n  Dense(512 => 100),                    \u001b[90m# 51_300 parameters\u001b[39m\n) \u001b[90m        # Total: 14 trainable arrays, \u001b[39m1_103_540 parameters,\n\u001b[90m          # plus 2 non-trainable, 16 parameters, summarysize \u001b[39m4.212 MiB."
     },
     "metadata": {},
     "execution_count": 4
    }
   ],
   "cell_type": "code",
   "source": [
    "model_flat = flatten_model(model)"
   ],
   "metadata": {},
   "execution_count": 4
  },
  {
   "cell_type": "markdown",
   "source": [
    "This function is called by default when creating an LRP analyzer.\n",
    "Note that we pass the unflattened model to the analyzer, but `analyzer.model` is flattened:"
   ],
   "metadata": {}
  },
  {
   "outputs": [
    {
     "output_type": "execute_result",
     "data": {
      "text/plain": "Chain(\n  Conv((3, 3), 3 => 8, relu, pad=1),    \u001b[90m# 224 parameters\u001b[39m\n  Conv((3, 3), 8 => 8, relu, pad=1),    \u001b[90m# 584 parameters\u001b[39m\n  MaxPool((2, 2)),\n  Conv((3, 3), 8 => 16, relu, pad=1),   \u001b[90m# 1_168 parameters\u001b[39m\n  Conv((3, 3), 16 => 8, relu, pad=1),   \u001b[90m# 1_160 parameters\u001b[39m\n  BatchNorm(8, relu),                   \u001b[90m# 16 parameters\u001b[39m\u001b[90m, plus 16\u001b[39m\n  Flux.flatten,\n  Dense(2048 => 512, relu),             \u001b[90m# 1_049_088 parameters\u001b[39m\n  Dropout(0.5),\n  Dense(512 => 100),                    \u001b[90m# 51_300 parameters\u001b[39m\n) \u001b[90m        # Total: 14 trainable arrays, \u001b[39m1_103_540 parameters,\n\u001b[90m          # plus 2 non-trainable, 16 parameters, summarysize \u001b[39m4.212 MiB."
     },
     "metadata": {},
     "execution_count": 5
    }
   ],
   "cell_type": "code",
   "source": [
    "analyzer = LRP(model)\n",
    "analyzer.model"
   ],
   "metadata": {},
   "execution_count": 5
  },
  {
   "cell_type": "markdown",
   "source": [
    "If this flattening is not desired, it can be disabled\n",
    "by passing the keyword argument `flatten=false` to the `LRP` constructor."
   ],
   "metadata": {}
  },
  {
   "cell_type": "markdown",
   "source": [
    "## LRP rules\n",
    "By default, the `LRP` constructor will assign the `ZeroRule` to all layers."
   ],
   "metadata": {}
  },
  {
   "outputs": [
    {
     "output_type": "execute_result",
     "data": {
      "text/plain": "LRP(\n  Conv((3, 3), 3 => 8, relu, pad=1) \u001b[90m => \u001b[39m\u001b[33mZeroRule()\u001b[39m,\n  Conv((3, 3), 8 => 8, relu, pad=1) \u001b[90m => \u001b[39m\u001b[33mZeroRule()\u001b[39m,\n  MaxPool((2, 2))                   \u001b[90m => \u001b[39m\u001b[33mZeroRule()\u001b[39m,\n  Conv((3, 3), 8 => 16, relu, pad=1)\u001b[90m => \u001b[39m\u001b[33mZeroRule()\u001b[39m,\n  Conv((3, 3), 16 => 8, relu, pad=1)\u001b[90m => \u001b[39m\u001b[33mZeroRule()\u001b[39m,\n  BatchNorm(8, relu)                \u001b[90m => \u001b[39m\u001b[33mZeroRule()\u001b[39m,\n  Flux.flatten                      \u001b[90m => \u001b[39m\u001b[33mZeroRule()\u001b[39m,\n  Dense(2048 => 512, relu)          \u001b[90m => \u001b[39m\u001b[33mZeroRule()\u001b[39m,\n  Dropout(0.5)                      \u001b[90m => \u001b[39m\u001b[33mZeroRule()\u001b[39m,\n  Dense(512 => 100)                 \u001b[90m => \u001b[39m\u001b[33mZeroRule()\u001b[39m,\n)"
     },
     "metadata": {},
     "execution_count": 6
    }
   ],
   "cell_type": "code",
   "source": [
    "LRP(model)"
   ],
   "metadata": {},
   "execution_count": 6
  },
  {
   "cell_type": "markdown",
   "source": [
    "This analyzer will return heatmaps that look identical to `InputTimesGradient`."
   ],
   "metadata": {}
  },
  {
   "cell_type": "markdown",
   "source": [
    "LRP's strength lies in assigning different rules to different layers,\n",
    "based on their functionality in the neural network[^1].\n",
    "ExplainableAI.jl implements many LRP rules out of the box,\n",
    "but it is also possible to *implement custom rules*.\n",
    "\n",
    "To assign different rules to different layers,\n",
    "use one of the composites presets,\n",
    "or create your own composite, as described in\n",
    "*Assigning rules to layers*."
   ],
   "metadata": {}
  },
  {
   "outputs": [
    {
     "output_type": "execute_result",
     "data": {
      "text/plain": "Composite(\n  GlobalTypeMap(  \u001b[90m# all layers\u001b[39m\n\u001b[94m    Flux.Conv              \u001b[39m => \u001b[33mZPlusRule()\u001b[39m,\n\u001b[94m    Flux.ConvTranspose     \u001b[39m => \u001b[33mZPlusRule()\u001b[39m,\n\u001b[94m    Flux.CrossCor          \u001b[39m => \u001b[33mZPlusRule()\u001b[39m,\n\u001b[94m    Flux.Dense             \u001b[39m => \u001b[33mEpsilonRule{Float32}(1.0f-6)\u001b[39m,\n\u001b[94m    typeof(NNlib.dropout)  \u001b[39m => \u001b[33mPassRule()\u001b[39m,\n\u001b[94m    Flux.AlphaDropout      \u001b[39m => \u001b[33mPassRule()\u001b[39m,\n\u001b[94m    Flux.Dropout           \u001b[39m => \u001b[33mPassRule()\u001b[39m,\n\u001b[94m    Flux.BatchNorm         \u001b[39m => \u001b[33mPassRule()\u001b[39m,\n\u001b[94m    typeof(Flux.flatten)   \u001b[39m => \u001b[33mPassRule()\u001b[39m,\n\u001b[94m    typeof(MLUtils.flatten)\u001b[39m => \u001b[33mPassRule()\u001b[39m,\n\u001b[94m    typeof(identity)       \u001b[39m => \u001b[33mPassRule()\u001b[39m,\n ),\n  FirstLayerTypeMap(  \u001b[90m# first layer\u001b[39m\n\u001b[94m    Flux.Conv         \u001b[39m => \u001b[33mFlatRule()\u001b[39m,\n\u001b[94m    Flux.ConvTranspose\u001b[39m => \u001b[33mFlatRule()\u001b[39m,\n\u001b[94m    Flux.CrossCor     \u001b[39m => \u001b[33mFlatRule()\u001b[39m,\n\u001b[94m    Flux.Dense        \u001b[39m => \u001b[33mFlatRule()\u001b[39m,\n ),\n)"
     },
     "metadata": {},
     "execution_count": 7
    }
   ],
   "cell_type": "code",
   "source": [
    "composite = EpsilonPlusFlat() # using composite preset EpsilonPlusFlat"
   ],
   "metadata": {},
   "execution_count": 7
  },
  {
   "outputs": [
    {
     "output_type": "execute_result",
     "data": {
      "text/plain": "LRP(\n  Conv((3, 3), 3 => 8, relu, pad=1) \u001b[90m => \u001b[39m\u001b[33mFlatRule()\u001b[39m,\n  Conv((3, 3), 8 => 8, relu, pad=1) \u001b[90m => \u001b[39m\u001b[33mZPlusRule()\u001b[39m,\n  MaxPool((2, 2))                   \u001b[90m => \u001b[39m\u001b[33mZeroRule()\u001b[39m,\n  Conv((3, 3), 8 => 16, relu, pad=1)\u001b[90m => \u001b[39m\u001b[33mZPlusRule()\u001b[39m,\n  Conv((3, 3), 16 => 8, relu, pad=1)\u001b[90m => \u001b[39m\u001b[33mZPlusRule()\u001b[39m,\n  BatchNorm(8, relu)                \u001b[90m => \u001b[39m\u001b[33mPassRule()\u001b[39m,\n  Flux.flatten                      \u001b[90m => \u001b[39m\u001b[33mPassRule()\u001b[39m,\n  Dense(2048 => 512, relu)          \u001b[90m => \u001b[39m\u001b[33mEpsilonRule{Float32}(1.0f-6)\u001b[39m,\n  Dropout(0.5)                      \u001b[90m => \u001b[39m\u001b[33mPassRule()\u001b[39m,\n  Dense(512 => 100)                 \u001b[90m => \u001b[39m\u001b[33mEpsilonRule{Float32}(1.0f-6)\u001b[39m,\n)"
     },
     "metadata": {},
     "execution_count": 8
    }
   ],
   "cell_type": "code",
   "source": [
    "LRP(model, composite)"
   ],
   "metadata": {},
   "execution_count": 8
  },
  {
   "cell_type": "markdown",
   "source": [
    "## Computing layerwise relevances\n",
    "If you are interested in computing layerwise relevances,\n",
    "call `analyze` with an LRP analyzer and the keyword argument\n",
    "`layerwise_relevances=true`.\n",
    "\n",
    "The layerwise relevances can be accessed in the `extras` field\n",
    "of the returned `Explanation`:"
   ],
   "metadata": {}
  },
  {
   "outputs": [
    {
     "output_type": "execute_result",
     "data": {
      "text/plain": "11-element Vector{Array{Float32}}:\n [0.01623607 -0.022401692 … -0.0011143687 0.0078052846; -0.0087601775 -0.06839497 … -6.992497f-5 -0.0049536983; … ; -0.0009649908 -0.005498431 … -0.025997413 -0.0024732905; -0.01681513 -0.039672345 … 0.040584303 0.005134277;;; -0.0100918785 0.023159517 … 0.00024805852 -0.017660756; -0.009091603 -0.003476663 … 0.001363376 -0.00028877606; … ; 0.016205087 0.0014947524 … -0.040490575 -0.0385789; -0.008369685 -0.032484155 … 0.009036634 -0.036928095;;; 0.012209619 -0.01597329 … -0.0073929676 -0.00576611; 0.0057263686 -0.009327731 … -0.008785898 0.0018127405; … ; 0.00016160129 -0.0018745058 … 0.03274459 0.002168912; -0.00022657143 0.0061422926 … 0.019683557 0.010943173;;;;]\n [-0.0041172854 -0.05904205 … -0.011972819 0.0019246967; -0.002015374 0.0046183383 … -0.034956012 -0.030688927; … ; -0.009606844 -0.06586257 … -0.0045822174 0.01335276; -0.0 -0.0 … -0.0 -0.0;;; -0.0 0.0 … 0.0 -0.0; -0.0 -0.0 … 0.002348852 0.0; … ; -0.0017396403 0.0 … 0.0 -0.0; 0.0 0.0 … 0.0 -0.0;;; 0.0 0.0 … -0.0 -0.0; -0.0 -0.0 … -0.0 -0.0; … ; 0.0 -0.0 … -0.0 -0.0; -0.0 0.0 … -0.0 0.0;;; -0.0005127869 0.0074617593 … -0.0 -0.004099626; -0.0010012332 -0.0 … 0.0 -0.0; … ; 0.008512328 0.0 … 0.0 -0.0; 0.0 0.0 … 0.0 0.0;;; -0.0 -0.0 … -0.004395825 0.0; -0.0 -0.005162938 … -0.0 0.0; … ; 0.0 -0.0 … 0.0 -0.0; -0.0 -0.0 … -0.0 0.0;;; -0.008483757 -0.0 … -0.0 0.005538866; -0.013115507 0.0 … 0.0 -0.0; … ; 0.0 -0.0 … -0.0 0.0; -0.002701247 0.0 … 0.0056376597 -0.0;;; -0.0 0.004826928 … -0.0 0.0; -0.0 0.03741142 … -0.00481485 0.0; … ; 0.0 -0.0 … 0.0 0.0; -0.0005845316 0.01443756 … -0.033039846 0.030847225;;; -0.0019943514 -0.025208779 … 0.0 -0.007974655; -0.002318219 -0.0 … -0.023702847 0.012260857; … ; -0.01854821 0.0 … 0.007927172 -0.0024641103; 0.0 0.0028666186 … 0.01659573 -0.014562033;;;;]\n [0.0 0.0036531617 … 0.0 -0.0014039704; 0.0 0.0 … 0.0 0.0; … ; -0.028186489 0.0 … 0.0 0.0; 0.0 0.0 … 0.0009407643 0.0;;; 0.0 0.0 … 0.0 0.0; 0.0 -0.018086381 … 0.0043072654 0.0; … ; 0.0 0.0 … 0.0 0.0; 0.020060744 0.0 … 0.009253539 0.0;;; 0.0 0.0 … 0.0 -0.0004998542; 0.0 0.0 … 0.0 0.0; … ; 0.0 0.0 … 0.0 -0.00010528378; 0.0 0.005553536 … 0.0 0.0;;; 0.0 0.0 … 0.0 -0.056976043; 0.0 -0.011473539 … 0.0 0.0; … ; 0.0 0.0 … 0.0 -0.05564949; 0.0 -0.026510198 … 0.0 0.0;;; 0.0 0.0 … 0.0 0.0; 0.0 0.0 … 0.0 0.0; … ; 0.0 0.0 … 0.0 0.0; 0.0 0.0 … 0.0 0.00056850037;;; 0.0 0.0 … 0.0 0.0; 0.0 0.0 … 0.0 0.0; … ; 0.0 0.0 … 0.0 0.0; 0.0 0.0 … 0.0 0.0;;; 0.0 0.0 … -0.0037528297 0.0; -0.0046192007 0.0 … 0.0 0.0; … ; 0.0 0.0 … 0.0 0.0; 0.0014531307 0.0 … -0.0014337761 0.0;;; 0.0 -0.0065594018 … 0.0 0.0; 0.0 0.0 … 0.0248759 0.0; … ; 0.0 -0.01876732 … -0.007393548 0.0; 0.0 0.0 … 0.0 0.0;;;;]\n [0.0036531617 0.03282024 … -0.015790032 -0.0014039704; -0.00029567254 0.033541083 … -0.029670678 0.007127072; … ; -0.0029006992 0.0070592575 … -0.0034622105 -0.06768779; -0.028186489 0.019706452 … 0.0026078767 0.00094076444;;; -0.018086381 -0.04222065 … 0.018152623 0.0043072654; -0.028431648 -0.015427712 … 0.018411925 0.03515535; … ; -0.0025010854 -0.068818726 … 0.009757014 -0.031892136; 0.020060744 -0.009083203 … -0.009860771 0.009253539;;; -0.0 -0.0 … 0.0 -0.0004998542; -0.013210171 -0.0026322387 … -0.022529375 -2.034773f-6; … ; 0.0007633522 0.0067642527 … 0.0050748466 -0.005547384; 0.005553536 -0.010803386 … 0.0059379325 -0.00010528378;;; -0.011473539 0.035601474 … 0.021784322 -0.056976043; -0.025455806 0.00060953083 … 0.048514307 -0.066808164; … ; -0.04596632 -0.026835024 … -0.21232153 0.0043153116; -0.026510198 -0.0029027644 … -0.025952041 -0.05564949;;; 0.0 0.0 … -0.0 0.0; 0.0029249238 -0.0 … -0.040004916 -0.0; … ; -0.0075983084 -0.012866689 … 0.0 0.0; -0.0 -0.0 … -0.0 0.00056850037;;; -0.0 -0.0 … -0.0 0.0; -0.0 -0.0 … 0.00010901923 0.0; … ; -0.0 -0.0 … -0.0 -0.0; -0.0 -0.0 … -0.0 0.0;;; -0.0046192007 -0.0075480635 … -0.0017622485 -0.0037528297; -0.004259048 -0.0044680987 … 0.044243146 0.007754726; … ; -0.0 -0.015914785 … -0.0 0.042737354; 0.0014531309 0.00043013616 … 0.0013361904 -0.0014337762;;; -0.0065594018 -0.09019853 … -0.04204529 0.0248759; -0.038568135 -0.05229619 … -0.003391073 -0.012332359; … ; -0.012671184 0.0056557404 … -0.10524157 0.027795872; -0.01876732 -0.045614664 … 0.04007075 -0.007393548;;;;]\n [0.018750766 0.022184215 … -0.010683287 0.0; -0.012336371 0.034654047 … 0.059053622 -0.0027822098; … ; 0.0071413484 0.0071084835 … -0.07091131 0.003778099; 0.021499082 -0.033881284 … -0.028858943 -0.0057980134;;; -0.007926325 -0.016888523 … -0.018235005 -0.014988548; -0.003672829 -0.028518582 … -0.013270767 -0.037526794; … ; -0.0 -0.095754206 … -0.013261501 -0.037597533; -0.0 -0.005367633 … -0.035918493 -0.027381254;;; -0.0054893857 -0.013242595 … -0.014396326 -0.002888709; -0.0023378527 -0.015558293 … -0.037281737 -0.018152207; … ; -0.007810974 -0.093588404 … -0.027120516 -0.011123867; -0.006295931 -0.0 … -0.011900227 -0.00503225;;; … ;;; 0.001752182 0.0 … 0.0 -0.0; -0.00083554664 0.0 … 0.047201104 0.020868238; … ; -0.0 -0.0017483373 … -0.0 -0.0; 0.0067412467 0.0 … 0.0 -0.0;;; 0.0012356322 -0.006277731 … -0.00028965637 0.0017655442; 0.0 0.008639997 … 0.024989083 0.01413188; … ; -0.0 -0.011938085 … -0.0 0.0010572068; -0.0 -0.0056884475 … 0.0 0.0039449097;;; -0.0 -0.0 … -0.0 -0.0; -0.0 -0.0 … 0.0017066132 -0.0023222365; … ; -0.0 -0.0 … 0.006664112 -0.0; 0.009710975 0.011519911 … 0.002074467 0.007941005;;;;]\n [0.0 0.0 … 0.0 0.0; 0.0 0.0 … 0.0 0.0; … ; 0.0 0.0 … 0.0 0.0; 0.0 0.0 … 0.0 0.0;;; 0.0 0.00210431 … 0.0 0.001568061; 0.0 -0.008687667 … 0.0 0.0; … ; 0.0 0.010058695 … 0.0 0.0; 0.0 0.0 … -0.0029920335 0.0;;; -0.062874034 -0.06823245 … -0.060512617 -0.016741708; -0.025448594 -0.14769346 … -0.058638494 -0.019521503; … ; -0.026478704 -0.011984361 … -0.058689676 -0.04567679; -0.0033393453 -0.0 … -0.04079624 -0.019810364;;; -0.0 -0.0 … 0.00739241 -0.0037292547; -0.0 -0.0 … -0.0 0.0065481723; … ; -0.0 -0.0 … -0.0 -8.4920444f-5; -0.0 -0.0 … -0.0 -0.0;;; 0.007496045 -0.0 … -0.0 -0.0; -0.0026655493 0.00134492 … -0.0 -0.0; … ; -0.0 0.0015947134 … -0.0 -0.0; -4.087342f-7 -0.0 … -2.1154653f-6 -0.0;;; -0.0 -0.0 … -0.0 -0.0; -0.0 -0.0 … -0.0 -0.0; … ; -0.0 -0.0 … -0.0 -2.7304109f-6; 0.0036556886 0.009440913 … -3.4953105f-6 0.009251601;;; -0.00022323779 -0.0 … -6.8077375f-6 -0.00020717822; -0.00021958665 -0.00014525527 … 0.043561883 -0.0006180188; … ; 0.00025145776 -0.14695758 … -0.00019792485 -0.00018833522; 0.00088162126 0.017815595 … 0.059519805 7.635109f-5;;; 0.0 0.0 … 0.0 0.0; 0.00013652464 9.497584f-5 … 0.0 4.3404438f-5; … ; 0.00013260942 0.000163609 … -0.0003748301 0.001293786; 0.0 -0.004679842 … 0.00404945 -0.025796898;;;;]\n [0.0 0.0 … 0.0 0.0; 0.0 0.0 … 0.0 0.0; … ; 0.0 0.0 … 0.0 0.0; 0.0 0.0 … 0.0 0.0;;; 0.0 0.0011724393 … 0.0 0.00068690657; 0.0 -0.0075024515 … 0.0 0.0; … ; 0.0 0.008039082 … 0.0 0.0; 0.0 0.0 … -0.0015756259 0.0;;; 0.0144035965 0.00077637006 … -0.019462867 -0.0010898357; 0.004392628 -0.0067218337 … 0.0071435426 -0.0075307665; … ; 0.009874915 1.6479113f-5 … -0.009910536 -0.0073974603; 0.0009767666 0.0 … 0.0009780257 -0.00045221671;;; 0.0 0.0 … 0.007834992 -0.00236676; 0.0 0.0 … 0.0 0.0072057107; … ; 0.0 0.0 … 0.0 4.352388f-5; 0.0 0.0 … 0.0 0.0;;; 0.010418656 0.0 … 0.0 0.0; -0.0005357868 0.0018154569 … 0.0 0.0; … ; 0.0 0.0012505888 … 0.0 0.0; -7.68117f-6 0.0 … 0.0002101291 0.0;;; 0.0 0.0 … 0.0 0.0; 0.0 0.0 … 0.0 0.0; … ; 0.0 0.0 … 0.0 -0.00024552317; 0.0025273177 0.0089241695 … -0.00027127503 0.008764737;;; -0.0015248884 0.0 … 8.3155166f-5 0.0036368784; 0.00019793697 -0.000773182 … 0.017114103 -0.00047635823; … ; 0.004014644 -0.024468604 … 0.0036688824 -0.000860714; 0.0040325774 0.005011354 … 0.015065141 0.01736567;;; 0.0 0.0 … 0.0 0.0; -0.00069748465 -0.0003083806 … 0.0 -0.000548367; … ; -0.002581864 -0.0005817657 … -3.986887f-5 0.00058687804; 0.0 -0.0022934324 … 0.00467123 -0.01781318;;;;]\n [0.0; 0.0; … ; 0.00058687804; -0.01781318;;]\n [-0.016732777; 0.0; … ; -0.0045783743; -0.015746657;;]\n [-0.016732777; 0.027861502; … ; -0.0045783743; -0.015746657;;]\n [0.0; 0.0; … ; 0.0; 1.0;;]"
     },
     "metadata": {},
     "execution_count": 9
    }
   ],
   "cell_type": "code",
   "source": [
    "input = rand(Float32, 32, 32, 3, 1) # dummy input for our convolutional neural network\n",
    "\n",
    "expl = analyze(input, analyzer; layerwise_relevances=true)\n",
    "expl.extras.layerwise_relevances"
   ],
   "metadata": {},
   "execution_count": 9
  },
  {
   "cell_type": "markdown",
   "source": [
    "Note that the layerwise relevances are only kept for layers in the outermost `Chain` of the model.\n",
    "When using our unflattened model, we only obtain three layerwise relevances,\n",
    "one for each chain in the model and the output relevance:"
   ],
   "metadata": {}
  },
  {
   "outputs": [
    {
     "output_type": "execute_result",
     "data": {
      "text/plain": "11-element Vector{Array{Float32}}:\n [0.038037103 -0.017422099 … -0.0005801757 0.0058065807; -0.042523168 -0.06861617 … -0.0062550525 -0.019748105; … ; -0.0010319671 -0.07979044 … -0.046713468 -0.00047858703; -0.04628781 -0.045053046 … 0.023291562 0.007922342;;; -0.012264723 0.040798035 … 0.0010423133 -0.0026176686; -0.009393965 -0.008904795 … -0.009128408 -0.002270666; … ; -0.018238096 -0.0007907318 … -0.077509224 -0.021790624; -0.005817534 -0.046876792 … 0.0079721315 0.019748319;;; -0.006195297 -0.020386105 … -0.0014149729 -0.0055596805; -0.016081735 -0.013184195 … -0.004883178 0.010982631; … ; 0.008069928 -0.007821675 … 0.011266257 0.0022249033; 0.0025983455 0.005364603 … -0.012237497 0.014419822;;;;]\n [-0.019351939 -0.14062281 … -0.035306893 -0.00498096; -0.0572054 -0.014272717 … -0.011391277 -0.03617837; … ; -0.008530102 -0.16761945 … -0.02231674 0.025222778; -0.0 -0.0 … -0.0 0.0;;; -0.0 0.0 … 0.0 0.0; -0.0 0.0 … 0.003750818 0.0; … ; 0.004116681 0.0 … 0.0 -0.0; 0.0 0.0 … -0.0 -0.0;;; 0.0 0.0 … -0.0 0.0; 0.0 -0.0 … 0.0 0.0; … ; 0.0 0.0 … -0.0 -0.0; -0.0 0.0 … -0.0 -0.0;;; 0.0019223858 0.013731751 … 0.0 -0.01452593; 0.00048587166 -0.0 … 0.0 0.0; … ; 0.014451998 0.0 … 0.0 0.0; 0.0 0.0 … 0.0 -0.0;;; -0.0 -0.0 … 0.0054523335 0.0; -0.0 -0.007216753 … -0.0 0.0; … ; -0.0 -0.0 … -0.0 0.0; -0.0 -0.0 … -0.0 0.0;;; -0.014388208 -0.0 … -0.0 0.004725739; -0.031023769 0.0 … 0.0 0.0; … ; 0.0 -0.0 … -0.0 0.0; -0.0025458848 0.0 … 0.0073885173 -0.0;;; -0.0 0.0037381197 … -0.0 -0.0; -0.0 0.031652257 … -0.009320021 0.0; … ; 0.0 0.0 … 0.0 0.0; 0.0013810121 0.0040360517 … 0.0074241534 0.0008508452;;; -0.0038989426 -0.023539789 … 0.0 0.0020626409; -0.013241901 0.0 … -0.022946304 0.03586271; … ; -0.017191462 0.0 … -0.009289007 -0.007919125; 0.0 0.0025466646 … -0.006611798 0.0037043944;;;;]\n [0.0 -0.0099495435 … 0.0 -0.0031072306; 0.0 0.0 … 0.0 0.0; … ; -0.022536509 0.0 … 0.0 0.0; 0.0 0.0 … 5.832184f-5 0.0;;; 0.0 0.0 … 0.0 0.0; 0.0 -0.0041172514 … 0.016415803 0.0; … ; 0.0 0.0 … 0.0 0.0; -0.0106515605 0.0 … 0.018585742 0.0;;; 0.0 0.0 … 0.0 0.012359217; 0.0 0.0 … 0.0 0.0; … ; 0.0 0.0 … 0.0 -0.007499114; 0.0 0.008763839 … 0.0 0.0;;; 0.0 0.0 … 0.0 -0.0871674; 0.0 -0.054628033 … 0.0 0.0; … ; 0.0 0.0 … 0.0 -0.062337562; 0.0 -0.04975743 … 0.0 0.0;;; 0.0 0.0 … 0.0 0.0; 0.0 0.0 … 0.0 0.0; … ; 0.0 0.0 … 0.0 0.0; 0.0 0.0 … 0.0 -0.0068255365;;; 0.0 0.0 … 0.0 0.0; 0.0 0.0 … 0.0 0.0; … ; 0.0 0.0 … 0.0 0.0; 0.0 0.0 … 0.0 0.0;;; 0.0 0.0 … 0.02710637 0.0; 0.012006496 0.0 … 0.0 0.0; … ; 0.0 0.0 … 0.0 0.0; 0.00036525374 0.0 … -0.0009847053 0.0;;; 0.0 -0.030894374 … 0.0 0.0; 0.0 0.0 … 0.042356234 0.0; … ; 0.0 -0.036830034 … -0.0011108228 0.0; 0.0 0.0 … 0.0 0.0;;;;]\n [-0.0099495435 0.053481296 … -0.013200363 -0.0031072306; -0.009836795 0.08501673 … -0.013357992 -0.003268988; … ; -0.01183846 -0.0338023 … -0.025929818 -0.0661934; -0.022536509 0.0044220984 … 0.00077468733 5.832185f-5;;; -0.0041172514 -0.065524794 … -0.008869178 0.016415803; -0.06569671 -0.021550896 … -0.016950393 -0.0068423683; … ; -0.014910658 -0.06520576 … -0.023054883 -0.013501311; -0.0106515605 -0.034978293 … -0.0033804064 0.018585742;;; 0.0 -0.0 … 0.0 0.012359217; -0.005096612 0.017934805 … 0.00019591805 -0.00056228664; … ; 0.0038287127 0.010573978 … 0.0044591133 0.008510951; 0.008763839 0.0012454541 … 0.001113976 -0.007499114;;; -0.054628033 -0.031750552 … -0.034554776 -0.0871674; -0.17448963 -0.024354598 … -0.08935491 -0.09045232; … ; -0.09156181 -0.08421679 … -0.29535443 -0.10476663; -0.04975743 -0.012219358 … -0.038898103 -0.062337562;;; 0.0 0.0 … 0.0 0.0; -0.008347312 -0.0 … -0.007168683 -0.0; … ; -0.006535491 -0.024251398 … 0.0 -0.0; -0.0 -0.0 … -0.0 -0.0068255365;;; -0.0 0.0 … 0.0 0.0; -0.0 -0.0 … -0.0016392616 -0.0; … ; -0.0 -0.0 … -0.0 -0.0; -0.0 -0.0 … -0.0 -0.0;;; 0.012006496 -0.013472029 … 0.0071493876 0.02710637; -0.006887982 -0.029621284 … 0.03635711 0.049302425; … ; -0.0 -0.0063021407 … -0.0 0.036859952; 0.00036525377 -0.0019309563 … 0.00028829736 -0.0009847054;;; -0.030894374 -0.08839369 … 0.10371763 0.042356234; -0.10740987 -0.10797449 … 0.010725259 0.084046885; … ; -0.07155017 -0.043294683 … -0.037374035 0.025063971; -0.036830034 -0.101890795 … -0.020346414 -0.0011108228;;;;]\n [-0.008744102 0.10986712 … 0.051341414 0.0; -0.00080349494 0.0660002 … 0.016286165 -0.0014368205; … ; -0.01726334 0.03840473 … -0.01775168 0.00293911; -0.002705092 -0.06483095 … -0.038870882 -0.010496138;;; -0.021606088 -0.02918345 … -0.050428685 -0.044474024; -0.010663648 -0.057749633 … -0.04096078 -0.09477957; … ; -0.0 -0.14735106 … -0.10835676 -0.107360736; -0.0 -0.010233822 … -0.05311164 -0.067141436;;; 0.011803208 -0.05894492 … -0.013108908 -0.011199557; -0.033567023 -0.036280937 … -0.15275973 -0.04885118; … ; -0.008255244 -0.1431093 … -0.059746027 -0.035140693; -0.009925747 -0.0 … -0.0154407 -0.014215991;;; … ;;; -0.0027288706 0.0 … -0.0 0.0; 0.007262602 0.0 … 0.02722904 0.0054133795; … ; -0.0 0.003198538 … 0.0 -0.0; 0.0063684364 0.0 … 0.0 0.0;;; 0.00242683 -0.025525782 … 0.0017181819 -0.0080938805; 0.0 -0.0043444205 … -0.01782014 0.025136558; … ; 0.0 0.0050855773 … -0.0 0.015937459; -0.0 0.0008030978 … 0.0 0.008770296;;; -0.0 0.0 … -0.0 -0.0; -0.0 0.0 … 0.0012517186 0.0034577958; … ; -0.0 -0.0 … 0.009937506 0.0; 0.0018448405 0.045665443 … 0.032726016 0.016994257;;;;]\n [0.0 0.0 … 0.0 0.0; 0.0 0.0 … 0.0 0.0; … ; 0.0 0.0 … 0.0 0.0; 0.0 0.0 … 0.0 0.0;;; -0.0 -0.0023812207 … -0.0 -0.00052903156; -0.0 -0.006619303 … -0.0 -0.0; … ; -0.0 0.007457056 … -0.0 -0.0; -0.0 -0.0 … -0.004561447 -0.0;;; -0.17012088 -0.18292727 … -0.16442265 -0.05045533; -0.51993513 0.0083995275 … -0.15987533 -0.058327015; … ; -0.07754811 -0.036692716 … -0.15999983 -0.12776051; -0.010563962 -0.0 … -0.11533009 -0.05913833;;; 0.0 0.0 … -0.00052753714 -0.0005504547; 0.0 0.0 … 0.0 0.0066344254; … ; 0.0 0.0 … 0.0 0.00046329483; 0.0 0.0 … 0.0 0.0;;; 0.0028372067 -0.0 … -0.0 -0.0; 0.004711104 0.0044597946 … -0.0 -0.0; … ; -0.0 0.0006952889 … -0.0 -0.0; -2.820801f-7 -0.0 … -1.4997224f-6 -0.0;;; -0.0 -0.0 … -0.0 -0.0; -0.0 -0.0 … -0.0 -0.0; … ; -0.0 -0.0 … -0.0 -2.7343972f-6; 0.0019531446 0.0012836385 … -3.984607f-6 0.008174191;;; 0.0004635788 0.0 … 1.1614764f-5 0.00053126813; 0.00052118796 0.00026456412 … 0.035145633 -0.007952445; … ; 0.0002164964 -0.09260474 … 0.00053346925 0.00053356297; -0.00039532906 -0.031654283 … 0.024191106 0.00036820397;;; -0.0 -0.0 … -0.0 -0.0; -0.00020649444 -0.00012702546 … -0.0 -5.3024378f-5; … ; -0.00019743807 -0.0003150658 … -0.014886218 0.024995636; -0.0 -0.0002650809 … -0.011101254 -0.0043770806;;;;]\n [0.0 0.0 … 0.0 0.0; 0.0 0.0 … 0.0 0.0; … ; 0.0 0.0 … 0.0 0.0; 0.0 0.0 … 0.0 0.0;;; 0.0 -0.00042359857 … 0.0 0.0013455246; 0.0 -0.004270098 … 0.0 0.0; … ; 0.0 0.008034122 … 0.0 0.0; 0.0 0.0 … -0.0019658383 0.0;;; 0.010491863 -0.00897057 … 0.022630323 -0.0008989855; -0.025430929 0.022565903 … -0.007990601 -0.0023202742; … ; 0.0016002457 0.0022895818 … -0.013264831 0.0069597187; 0.0 0.0 … 0.011894545 0.0004002771;;; 0.0 0.0 … -0.00022640382 -0.00027424708; 0.0 0.0 … 0.0 0.0063312086; … ; 0.0 0.0 … 0.0 0.00034772925; 0.0 0.0 … 0.0 0.0;;; 0.0051724976 0.0 … 0.0 0.0; 0.0061040707 0.004584081 … 0.0 0.0; … ; 0.0 0.0005590285 … 0.0 0.0; -1.3954119f-7 0.0 … 0.00013284753 0.0;;; 0.0 0.0 … 0.0 0.0; 0.0 0.0 … 0.0 0.0; … ; 0.0 0.0 … 0.0 -9.7606455f-5; 0.0014474499 0.002976759 … -0.00016384695 0.009284784;;; -0.0006053338 0.0 … 0.0 0.0009667277; -0.0016946981 -0.00016607888 … 0.017951831 -0.0012532568; … ; 0.004514962 -0.015040825 … -0.0011936952 0.0021631846; -0.002758103 -0.0099231815 … 0.006926233 0.0024927582;;; 0.0 0.0 … 0.0 0.0; -0.0004053857 -0.00033849047 … 0.0 -9.29309f-5; … ; -0.00069672585 0.00020638284 … -0.008156123 0.011384377; 0.0 0.00031991588 … -0.007899858 -0.0027353363;;;;]\n [0.0; 0.0; … ; 0.011384377; -0.0027353363;;]\n [-0.015057602; 0.0; … ; -0.0; -0.0;;]\n [-0.015057602; 0.028667733; … ; -0.004034576; -0.015801275;;]\n [0.0; 0.0; … ; 0.0; 1.0;;]"
     },
     "metadata": {},
     "execution_count": 10
    }
   ],
   "cell_type": "code",
   "source": [
    "analyzer = LRP(model; flatten=false) # use unflattened model\n",
    "\n",
    "expl = analyze(input, analyzer; layerwise_relevances=true)\n",
    "expl.extras.layerwise_relevances"
   ],
   "metadata": {},
   "execution_count": 10
  },
  {
   "cell_type": "markdown",
   "source": [
    "## Performance tips\n",
    "### Using LRP without a GPU\n",
    "Since ExplainableAI.jl's LRP implementation makes use of\n",
    "[Tullio.jl](https://github.com/mcabbott/Tullio.jl),\n",
    "analysis can be accelerated by loading either\n",
    "- a package from the [JuliaGPU](https://juliagpu.org) ecosystem,\n",
    "  e.g. [CUDA.jl](https://github.com/JuliaGPU/CUDA.jl), if a GPU is available\n",
    "- [LoopVectorization.jl](https://github.com/JuliaSIMD/LoopVectorization.jl)\n",
    "  if only a CPU is available.\n",
    "\n",
    "This only requires loading the LoopVectorization.jl package before ExplainableAI.jl:\n",
    "```julia\n",
    "using LoopVectorization\n",
    "using ExplainableAI\n",
    "```\n",
    "\n",
    "[^1]: G. Montavon et al., [Layer-Wise Relevance Propagation: An Overview](https://link.springer.com/chapter/10.1007/978-3-030-28954-6_10)"
   ],
   "metadata": {}
  },
  {
   "cell_type": "markdown",
   "source": [
    "---\n",
    "\n",
    "*This notebook was generated using [Literate.jl](https://github.com/fredrikekre/Literate.jl).*"
   ],
   "metadata": {}
  }
 ],
 "nbformat_minor": 3,
 "metadata": {
  "language_info": {
   "file_extension": ".jl",
   "mimetype": "application/julia",
   "name": "julia",
   "version": "1.9.3"
  },
  "kernelspec": {
   "name": "julia-1.9",
   "display_name": "Julia 1.9.3",
   "language": "julia"
  }
 },
 "nbformat": 4
}
