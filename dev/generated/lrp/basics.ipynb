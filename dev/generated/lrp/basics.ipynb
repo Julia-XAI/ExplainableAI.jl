{
 "cells": [
  {
   "cell_type": "markdown",
   "source": [
    "# Basic usage of LRP\n",
    "This example will show you best practices for using LRP,\n",
    "building on the basics shown in the *Getting started* section."
   ],
   "metadata": {}
  },
  {
   "cell_type": "markdown",
   "source": [
    "We start out by loading a small convolutional neural network:"
   ],
   "metadata": {}
  },
  {
   "outputs": [],
   "cell_type": "code",
   "source": [
    "using ExplainableAI\n",
    "using Flux\n",
    "\n",
    "model = Chain(\n",
    "    Chain(\n",
    "        Conv((3, 3), 3 => 8, relu; pad=1),\n",
    "        Conv((3, 3), 8 => 8, relu; pad=1),\n",
    "        MaxPool((2, 2)),\n",
    "        Conv((3, 3), 8 => 16; pad=1),\n",
    "        BatchNorm(16, relu),\n",
    "        Conv((3, 3), 16 => 8, relu; pad=1),\n",
    "        BatchNorm(8, relu),\n",
    "    ),\n",
    "    Chain(\n",
    "        Flux.flatten,\n",
    "        Dense(2048 => 512, relu),\n",
    "        Dropout(0.5),\n",
    "        Dense(512 => 100, softmax)\n",
    "    ),\n",
    ");"
   ],
   "metadata": {},
   "execution_count": 1
  },
  {
   "cell_type": "markdown",
   "source": [
    "This model contains two chains: the convolutional layers and the fully connected layers."
   ],
   "metadata": {}
  },
  {
   "cell_type": "markdown",
   "source": [
    "## Model preparation\n",
    "### Stripping the output softmax\n",
    "When using LRP, it is recommended to explain output logits instead of probabilities.\n",
    "This can be done by stripping the output softmax activation from the model\n",
    "using the `strip_softmax` function:"
   ],
   "metadata": {}
  },
  {
   "outputs": [
    {
     "output_type": "execute_result",
     "data": {
      "text/plain": "Chain(\n  Chain(\n    Conv((3, 3), 3 => 8, relu, pad=1),  \u001b[90m# 224 parameters\u001b[39m\n    Conv((3, 3), 8 => 8, relu, pad=1),  \u001b[90m# 584 parameters\u001b[39m\n    MaxPool((2, 2)),\n    Conv((3, 3), 8 => 16, pad=1),       \u001b[90m# 1_168 parameters\u001b[39m\n    BatchNorm(16, relu),                \u001b[90m# 32 parameters\u001b[39m\u001b[90m, plus 32\u001b[39m\n    Conv((3, 3), 16 => 8, relu, pad=1),  \u001b[90m# 1_160 parameters\u001b[39m\n    BatchNorm(8, relu),                 \u001b[90m# 16 parameters\u001b[39m\u001b[90m, plus 16\u001b[39m\n  ),\n  Chain(\n    Flux.flatten,\n    Dense(2048 => 512, relu),           \u001b[90m# 1_049_088 parameters\u001b[39m\n    Dropout(0.5),\n    Dense(512 => 100),                  \u001b[90m# 51_300 parameters\u001b[39m\n  ),\n) \u001b[90m        # Total: 16 trainable arrays, \u001b[39m1_103_572 parameters,\n\u001b[90m          # plus 4 non-trainable, 48 parameters, summarysize \u001b[39m4.213 MiB."
     },
     "metadata": {},
     "execution_count": 2
    }
   ],
   "cell_type": "code",
   "source": [
    "model = strip_softmax(model)"
   ],
   "metadata": {},
   "execution_count": 2
  },
  {
   "cell_type": "markdown",
   "source": [
    "If you don't remove the output softmax,\n",
    "model checks will fail."
   ],
   "metadata": {}
  },
  {
   "cell_type": "markdown",
   "source": [
    "### Canonizing the model\n",
    "LRP is not invariant to a model's implementation.\n",
    "Applying the `GammaRule` to two linear layers in a row will yield different results\n",
    "than first fusing the two layers into one linear layer and then applying the rule.\n",
    "This fusing is called \"canonization\" and can be done using the `canonize` function:"
   ],
   "metadata": {}
  },
  {
   "outputs": [
    {
     "output_type": "execute_result",
     "data": {
      "text/plain": "Chain(\n  Conv((3, 3), 3 => 8, relu, pad=1),    \u001b[90m# 224 parameters\u001b[39m\n  Conv((3, 3), 8 => 8, relu, pad=1),    \u001b[90m# 584 parameters\u001b[39m\n  MaxPool((2, 2)),\n  Conv((3, 3), 8 => 16, relu, pad=1),   \u001b[90m# 1_168 parameters\u001b[39m\n  Conv((3, 3), 16 => 8, relu, pad=1),   \u001b[90m# 1_160 parameters\u001b[39m\n  BatchNorm(8, relu),                   \u001b[90m# 16 parameters\u001b[39m\u001b[90m, plus 16\u001b[39m\n  Flux.flatten,\n  Dense(2048 => 512, relu),             \u001b[90m# 1_049_088 parameters\u001b[39m\n  Dropout(0.5),\n  Dense(512 => 100),                    \u001b[90m# 51_300 parameters\u001b[39m\n) \u001b[90m        # Total: 14 trainable arrays, \u001b[39m1_103_540 parameters,\n\u001b[90m          # plus 2 non-trainable, 16 parameters, summarysize \u001b[39m4.212 MiB."
     },
     "metadata": {},
     "execution_count": 3
    }
   ],
   "cell_type": "code",
   "source": [
    "model = canonize(model)"
   ],
   "metadata": {},
   "execution_count": 3
  },
  {
   "cell_type": "markdown",
   "source": [
    "### Flattening the model\n",
    "ExplainableAI.jl's LRP implementation supports nested Flux Chains and Parallel layers.\n",
    "However, it is recommended to flatten the model before analyzing it.\n",
    "\n",
    "LRP is implemented by first running a forward pass through the model,\n",
    "keeping track of the intermediate activations, followed by a backward pass\n",
    "that computes the relevances.\n",
    "\n",
    "To keep the LRP implementation simple and maintainable,\n",
    "ExplainableAI.jl does not pre-compute \"nested\" activations.\n",
    "Instead, for every internal chain, a new forward pass is run to compute activations.\n",
    "\n",
    "By \"flattening\" a model, this overhead can be avoided.\n",
    "For this purpose, ExplainableAI.jl provides the function `flatten_model`:"
   ],
   "metadata": {}
  },
  {
   "outputs": [
    {
     "output_type": "execute_result",
     "data": {
      "text/plain": "Chain(\n  Conv((3, 3), 3 => 8, relu, pad=1),    \u001b[90m# 224 parameters\u001b[39m\n  Conv((3, 3), 8 => 8, relu, pad=1),    \u001b[90m# 584 parameters\u001b[39m\n  MaxPool((2, 2)),\n  Conv((3, 3), 8 => 16, relu, pad=1),   \u001b[90m# 1_168 parameters\u001b[39m\n  Conv((3, 3), 16 => 8, relu, pad=1),   \u001b[90m# 1_160 parameters\u001b[39m\n  BatchNorm(8, relu),                   \u001b[90m# 16 parameters\u001b[39m\u001b[90m, plus 16\u001b[39m\n  Flux.flatten,\n  Dense(2048 => 512, relu),             \u001b[90m# 1_049_088 parameters\u001b[39m\n  Dropout(0.5),\n  Dense(512 => 100),                    \u001b[90m# 51_300 parameters\u001b[39m\n) \u001b[90m        # Total: 14 trainable arrays, \u001b[39m1_103_540 parameters,\n\u001b[90m          # plus 2 non-trainable, 16 parameters, summarysize \u001b[39m4.212 MiB."
     },
     "metadata": {},
     "execution_count": 4
    }
   ],
   "cell_type": "code",
   "source": [
    "model_flat = flatten_model(model)"
   ],
   "metadata": {},
   "execution_count": 4
  },
  {
   "cell_type": "markdown",
   "source": [
    "This function is called by default when creating an LRP analyzer.\n",
    "Note that we pass the unflattened model to the analyzer, but `analyzer.model` is flattened:"
   ],
   "metadata": {}
  },
  {
   "outputs": [
    {
     "output_type": "execute_result",
     "data": {
      "text/plain": "Chain(\n  Conv((3, 3), 3 => 8, relu, pad=1),    \u001b[90m# 224 parameters\u001b[39m\n  Conv((3, 3), 8 => 8, relu, pad=1),    \u001b[90m# 584 parameters\u001b[39m\n  MaxPool((2, 2)),\n  Conv((3, 3), 8 => 16, relu, pad=1),   \u001b[90m# 1_168 parameters\u001b[39m\n  Conv((3, 3), 16 => 8, relu, pad=1),   \u001b[90m# 1_160 parameters\u001b[39m\n  BatchNorm(8, relu),                   \u001b[90m# 16 parameters\u001b[39m\u001b[90m, plus 16\u001b[39m\n  Flux.flatten,\n  Dense(2048 => 512, relu),             \u001b[90m# 1_049_088 parameters\u001b[39m\n  Dropout(0.5),\n  Dense(512 => 100),                    \u001b[90m# 51_300 parameters\u001b[39m\n) \u001b[90m        # Total: 14 trainable arrays, \u001b[39m1_103_540 parameters,\n\u001b[90m          # plus 2 non-trainable, 16 parameters, summarysize \u001b[39m4.212 MiB."
     },
     "metadata": {},
     "execution_count": 5
    }
   ],
   "cell_type": "code",
   "source": [
    "analyzer = LRP(model)\n",
    "analyzer.model"
   ],
   "metadata": {},
   "execution_count": 5
  },
  {
   "cell_type": "markdown",
   "source": [
    "If this flattening is not desired, it can be disabled\n",
    "by passing the keyword argument `flatten=false` to the `LRP` constructor."
   ],
   "metadata": {}
  },
  {
   "cell_type": "markdown",
   "source": [
    "## LRP rules\n",
    "By default, the `LRP` constructor will assign the `ZeroRule` to all layers."
   ],
   "metadata": {}
  },
  {
   "outputs": [
    {
     "output_type": "execute_result",
     "data": {
      "text/plain": "LRP(\n  Conv((3, 3), 3 => 8, relu, pad=1) \u001b[90m => \u001b[39m\u001b[33mZeroRule()\u001b[39m,\n  Conv((3, 3), 8 => 8, relu, pad=1) \u001b[90m => \u001b[39m\u001b[33mZeroRule()\u001b[39m,\n  MaxPool((2, 2))                   \u001b[90m => \u001b[39m\u001b[33mZeroRule()\u001b[39m,\n  Conv((3, 3), 8 => 16, relu, pad=1)\u001b[90m => \u001b[39m\u001b[33mZeroRule()\u001b[39m,\n  Conv((3, 3), 16 => 8, relu, pad=1)\u001b[90m => \u001b[39m\u001b[33mZeroRule()\u001b[39m,\n  BatchNorm(8, relu)                \u001b[90m => \u001b[39m\u001b[33mZeroRule()\u001b[39m,\n  Flux.flatten                      \u001b[90m => \u001b[39m\u001b[33mZeroRule()\u001b[39m,\n  Dense(2048 => 512, relu)          \u001b[90m => \u001b[39m\u001b[33mZeroRule()\u001b[39m,\n  Dropout(0.5)                      \u001b[90m => \u001b[39m\u001b[33mZeroRule()\u001b[39m,\n  Dense(512 => 100)                 \u001b[90m => \u001b[39m\u001b[33mZeroRule()\u001b[39m,\n)"
     },
     "metadata": {},
     "execution_count": 6
    }
   ],
   "cell_type": "code",
   "source": [
    "LRP(model)"
   ],
   "metadata": {},
   "execution_count": 6
  },
  {
   "cell_type": "markdown",
   "source": [
    "This analyzer will return heatmaps that look identical to `InputTimesGradient`."
   ],
   "metadata": {}
  },
  {
   "cell_type": "markdown",
   "source": [
    "LRP's strength lies in assigning different rules to different layers,\n",
    "based on their functionality in the neural network[^1].\n",
    "ExplainableAI.jl implements many LRP rules out of the box,\n",
    "but it is also possible to *implement custom rules*.\n",
    "\n",
    "To assign different rules to different layers,\n",
    "use one of the composites presets,\n",
    "or create your own composite, as described in\n",
    "*Assigning rules to layers*."
   ],
   "metadata": {}
  },
  {
   "outputs": [
    {
     "output_type": "execute_result",
     "data": {
      "text/plain": "Composite(\n  GlobalTypeMap(  \u001b[90m# all layers\u001b[39m\n\u001b[94m    Flux.Conv              \u001b[39m => \u001b[33mZPlusRule()\u001b[39m,\n\u001b[94m    Flux.ConvTranspose     \u001b[39m => \u001b[33mZPlusRule()\u001b[39m,\n\u001b[94m    Flux.CrossCor          \u001b[39m => \u001b[33mZPlusRule()\u001b[39m,\n\u001b[94m    Flux.Dense             \u001b[39m => \u001b[33mEpsilonRule{Float32}(1.0f-6)\u001b[39m,\n\u001b[94m    typeof(NNlib.dropout)  \u001b[39m => \u001b[33mPassRule()\u001b[39m,\n\u001b[94m    Flux.AlphaDropout      \u001b[39m => \u001b[33mPassRule()\u001b[39m,\n\u001b[94m    Flux.Dropout           \u001b[39m => \u001b[33mPassRule()\u001b[39m,\n\u001b[94m    Flux.BatchNorm         \u001b[39m => \u001b[33mPassRule()\u001b[39m,\n\u001b[94m    typeof(Flux.flatten)   \u001b[39m => \u001b[33mPassRule()\u001b[39m,\n\u001b[94m    typeof(MLUtils.flatten)\u001b[39m => \u001b[33mPassRule()\u001b[39m,\n\u001b[94m    typeof(identity)       \u001b[39m => \u001b[33mPassRule()\u001b[39m,\n ),\n  FirstLayerTypeMap(  \u001b[90m# first layer\u001b[39m\n\u001b[94m    Flux.Conv         \u001b[39m => \u001b[33mFlatRule()\u001b[39m,\n\u001b[94m    Flux.ConvTranspose\u001b[39m => \u001b[33mFlatRule()\u001b[39m,\n\u001b[94m    Flux.CrossCor     \u001b[39m => \u001b[33mFlatRule()\u001b[39m,\n\u001b[94m    Flux.Dense        \u001b[39m => \u001b[33mFlatRule()\u001b[39m,\n ),\n)"
     },
     "metadata": {},
     "execution_count": 7
    }
   ],
   "cell_type": "code",
   "source": [
    "composite = EpsilonPlusFlat() # using composite preset EpsilonPlusFlat"
   ],
   "metadata": {},
   "execution_count": 7
  },
  {
   "outputs": [
    {
     "output_type": "execute_result",
     "data": {
      "text/plain": "LRP(\n  Conv((3, 3), 3 => 8, relu, pad=1) \u001b[90m => \u001b[39m\u001b[33mFlatRule()\u001b[39m,\n  Conv((3, 3), 8 => 8, relu, pad=1) \u001b[90m => \u001b[39m\u001b[33mZPlusRule()\u001b[39m,\n  MaxPool((2, 2))                   \u001b[90m => \u001b[39m\u001b[33mZeroRule()\u001b[39m,\n  Conv((3, 3), 8 => 16, relu, pad=1)\u001b[90m => \u001b[39m\u001b[33mZPlusRule()\u001b[39m,\n  Conv((3, 3), 16 => 8, relu, pad=1)\u001b[90m => \u001b[39m\u001b[33mZPlusRule()\u001b[39m,\n  BatchNorm(8, relu)                \u001b[90m => \u001b[39m\u001b[33mPassRule()\u001b[39m,\n  Flux.flatten                      \u001b[90m => \u001b[39m\u001b[33mPassRule()\u001b[39m,\n  Dense(2048 => 512, relu)          \u001b[90m => \u001b[39m\u001b[33mEpsilonRule{Float32}(1.0f-6)\u001b[39m,\n  Dropout(0.5)                      \u001b[90m => \u001b[39m\u001b[33mPassRule()\u001b[39m,\n  Dense(512 => 100)                 \u001b[90m => \u001b[39m\u001b[33mEpsilonRule{Float32}(1.0f-6)\u001b[39m,\n)"
     },
     "metadata": {},
     "execution_count": 8
    }
   ],
   "cell_type": "code",
   "source": [
    "LRP(model, composite)"
   ],
   "metadata": {},
   "execution_count": 8
  },
  {
   "cell_type": "markdown",
   "source": [
    "## Computing layerwise relevances\n",
    "If you are interested in computing layerwise relevances,\n",
    "call `analyze` with an LRP analyzer and the keyword argument\n",
    "`layerwise_relevances=true`.\n",
    "\n",
    "The layerwise relevances can be accessed in the `extras` field\n",
    "of the returned `Explanation`:"
   ],
   "metadata": {}
  },
  {
   "outputs": [
    {
     "output_type": "execute_result",
     "data": {
      "text/plain": "11-element Vector{Array{Float32}}:\n [-0.0024968137 -0.055840928 … -0.010970013 -0.051806778; 0.101090774 0.0055046664 … 0.014295092 0.024524031; … ; 0.0054844334 -0.008389178 … -0.03999041 0.020682469; 0.008499674 0.012064601 … 0.0015348095 0.031408694;;; -0.0012576793 0.13863434 … 0.014498031 -0.05517072; 0.027205082 0.028609594 … 0.081613906 0.0026742236; … ; -0.005417062 0.009009372 … -0.58729106 0.012987126; 0.0063613295 -0.0015498998 … -0.49834675 0.04961961;;; -0.003672801 -0.03463463 … 0.03544674 -0.018172307; -0.05312748 -0.032817937 … 0.046838656 -0.056202818; … ; -0.0024885188 -0.009801679 … 0.23848803 0.09025222; -0.0021763118 -0.008907203 … -0.034703568 0.24611695;;;;]\n [0.0036208474 -0.0 … 0.0 -0.0; 0.004230116 0.027345715 … -0.0 -0.0; … ; 0.010615767 -0.0 … -0.012246575 0.0; 0.0 0.0012169173 … 0.0 -0.0;;; -0.0 -0.0 … 0.0 0.009575215; -0.0 -0.0 … -0.0 0.019098707; … ; 0.0 -0.0 … 0.0 0.0; 0.0 0.0 … 0.0 0.04772213;;; 0.0022342436 0.0007676343 … 0.0 0.0; -0.00049857097 0.17761391 … -0.015023138 0.0; … ; -0.006915201 0.010661323 … -0.11028241 -0.5111054; -0.00089450856 0.0014026264 … 0.06293651 -0.0;;; 0.0 -0.0 … -0.0 0.0; 0.0 0.0 … -0.0 0.0; … ; 0.0 -0.0 … -0.0 -0.0148804225; 0.0 0.0 … 0.0 -0.007203164;;; -0.0 0.0 … 0.0028164415 -0.0026709805; -0.0 0.0018588224 … -0.0 0.0; … ; 0.0 -0.0 … -0.0 0.0; 0.0 -0.0 … -0.0 0.0;;; -0.02928407 0.025267426 … -0.017480215 -0.0063881087; 0.0043748543 -0.020179735 … 0.03825394 -0.004737285; … ; 0.0031915812 -0.008979647 … 0.0 0.17915532; -0.0 -0.0017902269 … 0.0 0.029514011;;; 0.0 0.0091907 … 0.0 -0.0; -0.0 -0.0 … 0.0 -0.017108886; … ; -0.0 0.0 … 0.0 -0.6795608; -0.0 -0.0 … -0.037528127 -0.0;;; -0.009171405 0.17890523 … 0.008839596 -0.008776905; 0.0031227425 -0.0 … 0.004421207 -0.0; … ; -0.0067799976 -0.0 … 0.0 -0.0; 0.0 -0.0 … -0.0 0.0;;;;]\n [0.0 0.0 … 0.0 0.0; 0.0 0.0 … 0.0 0.0; … ; 0.0 0.0 … 0.0 0.0; 0.0 0.0 … 0.0 0.0;;; 0.0 0.0 … -0.023527741 0.0; 0.0 0.0 … 0.0 0.0; … ; 0.0 0.0 … 0.0 0.0; 0.0 0.0 … 0.0 0.0;;; 0.0 0.0 … 0.0 0.0; 0.0 0.0 … 0.0 0.0; … ; -0.0028602292 0.0 … 0.0 -0.35566497; 0.0 0.0 … 0.0 0.0;;; 0.0 0.0 … 0.0 0.0095829405; 0.0 0.045609057 … 0.0 0.0; … ; 0.0 0.0 … 0.0 0.0; 0.0 0.0 … 0.0 0.0;;; 0.0 0.0 … 0.0 0.0; 0.0 0.0 … 0.0 0.0; … ; 0.0 0.0 … 0.0 0.0; 0.0029860716 0.0 … 0.0 -0.1144158;;; 0.0 0.0 … 0.0 0.0; 0.0 0.08294276 … 0.004740696 0.0; … ; 0.0 0.0064234072 … 0.0 0.0; 0.0 0.0 … 0.0 0.0022496453;;; 0.0 -0.062233347 … -0.013303635 0.0; 0.0 0.0 … 0.0 0.0; … ; 0.0 0.021210581 … 0.0 0.0; 0.0 0.0 … 0.0 0.0;;; 0.0 0.07061813 … 0.0 0.0; 0.0 0.0 … 0.030059531 0.0; … ; 0.0 0.07367665 … 0.0 -0.5562801; 0.0 0.0 … 0.0 0.0;;;;]\n [-0.0 -0.00061884255 … 0.0 -0.0; -0.0 0.0 … -0.0 0.0; … ; 0.0 -0.0 … -0.0 0.0; 0.0 -0.0 … -0.0 -0.0;;; -0.0 -0.0 … -0.0043431534 -0.023527741; 0.07101745 -0.0 … -0.011347666 0.00077530445; … ; 0.008316456 -0.0 … -0.0 0.0; -0.0 0.0 … 0.0 0.0;;; -0.0 0.0 … -0.0 0.0; -0.03440665 -0.104107775 … -0.0 -0.020716922; … ; -0.0209533 0.0 … -0.4107516 -0.03600036; -0.0028602292 -0.0 … -0.14374657 -0.35566497;;; 0.045609057 -0.21444196 … -0.015457199 0.0095829405; 0.00074384705 0.004737147 … -0.0 0.027612766; … ; -0.0 -0.0002601508 … 0.69915986 -0.005499088; -0.0 -0.0 … 0.0 0.0;;; -0.0 -0.05012872 … 0.0029248013 -0.0; 0.0009774028 0.0 … -0.0 0.0; … ; 0.0 -0.0 … -0.718014 0.0; 0.0029860716 0.0 … 0.0 -0.1144158;;; 0.08294276 -0.016308261 … -0.04361129 0.004740696; -0.019105332 -0.03963878 … 0.042116497 -0.028616766; … ; 0.03988052 -0.013988317 … -0.1509362 0.0; 0.0064234072 0.002495264 … 0.0 0.0022496455;;; -0.062233347 -0.056893144 … -0.03544647 -0.013303635; 0.07806559 -0.77730596 … -0.0 0.032469597; … ; 0.009161028 -0.0032479612 … -0.8374422 0.0036605762; 0.021210581 -0.0134247 … 0.03273865 0.0;;; 0.07061813 0.93539333 … 0.011548804 0.030059531; -0.23135892 -0.023953965 … 0.029691966 0.11448969; … ; -0.014493124 -0.010265619 … -1.9697585 -1.4777038; 0.07367665 0.010600817 … -0.98782635 -0.5562801;;;;]\n [0.0069651552 0.11964338 … -0.021490319 -4.1961375f-5; -0.0 -0.11113474 … 0.012167553 -0.015234929; … ; 0.00041826398 0.027196275 … -0.17840725 -0.17622806; 0.00034852358 0.0 … -0.0 -0.0;;; -0.19437101 0.049981494 … 0.044615753 0.006870503; 0.10386234 -0.029633792 … 0.0063640107 -0.0; … ; 0.047541488 -0.0032622274 … -0.0144373495 -0.0; 0.0 0.0026371565 … 0.0 0.0;;; -0.0 0.0 … 0.0 -0.0; -0.0 -0.0 … -0.0 -0.0; … ; -0.0 0.0 … 0.0 -0.0; -0.0 -0.0 … 0.0 0.0;;; … ;;; 0.0 0.0 … 0.0 0.0027855185; -0.0 0.10309218 … -0.010297787 -0.009758466; … ; -0.0 0.014198458 … 0.07406674 0.17444555; -0.003424273 -0.0032461868 … -0.8684207 0.02838712;;; -0.0 0.0 … 0.0 -0.0; 0.0 -0.0 … 0.0 -0.0; … ; 0.0 0.0 … 0.0 -0.0; -0.0 0.0 … 0.0 0.0;;; -0.0 -0.0 … 0.0 0.0; -0.0 -0.0010583147 … 0.0 0.0; … ; 0.0 0.0 … 0.0 -0.0; -0.0 0.0 … 0.0 -0.3697891;;;;]\n [-0.008273775 0.009943049 … 0.004043656 0.008237834; 0.0 0.0 … 0.0 0.0; … ; 0.0 0.0 … 0.0 3.4422221f-6; 0.0 0.0 … 0.0 0.0;;; -0.0 -0.0 … -0.0077004447 -0.0; -0.0 -0.0 … -0.0 -0.0; … ; -0.0 -0.0 … -0.0 -0.0015093943; -0.0 -0.0 … -0.0 -0.0;;; 0.0011021438 -0.002534662 … 0.004222549 0.018952042; -0.003913628 -0.0 … -9.7978285f-5 -0.0; … ; -0.0 -0.0 … -0.0 -0.0; -4.30697f-5 -0.0 … -0.0 -0.0;;; 0.0 0.0 … 0.0 -0.011490585; 0.0 0.0 … 0.0 0.0; … ; 0.0 0.0 … 0.0 0.0; 0.0 0.0 … 0.0 0.0004149567;;; -0.024096372 -0.010437764 … 0.010422165 -0.0078043872; -0.0 -0.00038012912 … -0.0 0.01856402; … ; -0.0 -0.0 … -0.0 -0.0; -0.0 -0.0 … -0.0 -0.0;;; -0.0009850072 0.00075956073 … 0.06744577 -0.0015546228; -0.0009036369 -0.00095874455 … -0.0012487352 -0.0007087563; … ; -0.0015703811 -0.0008677898 … -3.75261 -0.00013095683; 0.067083016 -0.0014833432 … -0.0012779257 -0.00021456493;;; 0.007089648 0.022470713 … 0.032184154 0.01587591; 0.0 -0.74921894 … -0.017483674 -0.06460182; … ; 0.0005428609 0.023605233 … 0.0025604921 0.01223787; 0.0 0.0 … 0.002093861 0.004661791;;; -0.0 -0.0 … -0.0 -0.0; -0.00038070118 -0.0 … -0.0 -0.0; … ; -0.0 -0.0 … -0.0 -0.0; -0.0030774635 -0.0 … -0.0 -0.0;;;;]\n [-0.008484569 0.00813272 … 0.003052244 0.006499231; 0.0 0.0 … 0.0 0.0; … ; 0.0 0.0 … 0.0 0.00056278124; 0.0 0.0 … 0.0 0.0;;; 0.0 0.0 … -0.0069988314 0.0; 0.0 0.0 … 0.0 0.0; … ; 0.0 0.0 … 0.0 -0.0012112944; 0.0 0.0 … 0.0 0.0;;; 0.001548795 -0.0010660666 … 0.0038200687 0.0012504052; -0.001005579 0.0 … 0.0016721485 0.0; … ; 0.0 0.0 … 0.0 0.0; 0.00024544526 0.0 … 0.0 0.0;;; 0.0 0.0 … 0.0 -0.013370286; 0.0 0.0 … 0.0 0.0; … ; 0.0 0.0 … 0.0 0.0; 0.0 0.0 … 0.0 0.0003145413;;; -0.015341457 -0.005431216 … 0.011839374 -0.0010434033; 0.0 -0.0015836986 … 0.0 0.008827926; … ; 0.0 0.0 … 0.0 0.0; 0.0 0.0 … 0.0 0.0;;; -0.0010661009 0.00083130517 … 0.019019198 -0.012686109; 0.00068143755 0.0017261772 … 0.0058160424 -0.0017869888; … ; 0.0017578815 -0.0021567452 … -0.020296644 0.0012754215; 0.017933533 -0.005413104 … 0.001129256 -0.00057925185;;; -0.005121927 -0.0078107277 … -0.0027028783 -0.006910931; 0.0 -0.005560141 … -0.0032192857 -0.014132219; … ; 0.0001220669 0.014568345 … 0.00046568303 -0.0053966464; 0.0 0.0 … -0.00089411763 -0.0026479405;;; 0.0 0.0 … 0.0 0.0; 0.0009841821 0.0 … 0.0 0.0; … ; 0.0 0.0 … 0.0 0.0; -0.0026951204 0.0 … 0.0 0.0;;;;]\n [-0.008484569; 0.0; … ; 0.0; 0.0;;]\n [0.0; 0.0; … ; -0.0; -0.0004370806;;]\n [0.01861589; 0.0; … ; -0.0114822695; -0.00043708063;;]\n [0.0; 0.0; … ; 0.0; 0.0;;]"
     },
     "metadata": {},
     "execution_count": 9
    }
   ],
   "cell_type": "code",
   "source": [
    "input = rand(Float32, 32, 32, 3, 1) # dummy input for our convolutional neural network\n",
    "\n",
    "expl = analyze(input, analyzer; layerwise_relevances=true)\n",
    "expl.extras.layerwise_relevances"
   ],
   "metadata": {},
   "execution_count": 9
  },
  {
   "cell_type": "markdown",
   "source": [
    "Note that the layerwise relevances are only kept for layers in the outermost `Chain` of the model.\n",
    "When using our unflattened model, we only obtain three layerwise relevances,\n",
    "one for each chain in the model and the output relevance:"
   ],
   "metadata": {}
  },
  {
   "outputs": [
    {
     "output_type": "execute_result",
     "data": {
      "text/plain": "11-element Vector{Array{Float32}}:\n [0.009009588 0.028829407 … -0.015742833 -2.7246468f-5; 0.11609725 0.041455053 … 0.0024501586 0.0066218534; … ; 0.0052409666 0.0026850286 … -0.0021614165 0.0010676588; -0.0068448693 0.008417918 … 0.00261396 0.0019372567;;; -0.0011806434 0.098643176 … -0.0124242855 0.019192; -0.030039413 0.01829258 … 0.017894253 0.0053619295; … ; -0.005128311 0.025995614 … -0.056094363 0.00036170275; 0.002784055 -0.0028642823 … -0.032410342 0.0045575486;;; 0.005979489 -0.03939306 … -0.010361783 0.0005078091; -0.04605905 0.004977692 … -0.041342344 -0.015389048; … ; -0.001839931 -0.004949878 … 0.0173043 0.00643354; 0.012245629 -0.0059882035 … -0.0020696644 0.018587101;;;;]\n [0.0049071866 -0.0 … -0.0 0.0; 0.01164657 0.028827064 … 0.0 -0.0; … ; 0.0056310007 0.0 … -0.0017803184 0.0; 0.0 0.002683443 … 0.0 -0.0;;; -0.0 -0.0 … -0.0 -0.0010281245; -0.0 0.0 … 0.0 0.0012068211; … ; 0.0 -0.0 … 0.0 0.0; 0.0 0.0 … 0.0 0.008293597;;; -0.0021051292 -0.0005510462 … -0.0 -0.0; -0.0015114055 0.08922541 … 0.004440894 0.0; … ; 0.007940176 0.0080918465 … -0.012078973 -0.040117905; -0.0007374769 0.001238878 … 0.003176725 -0.0;;; 0.0 0.0 … -0.0 0.0; -0.0 0.0 … -0.0 0.0; … ; -0.0 0.0 … 0.0 -0.000825521; 0.0 0.0 … 0.0 -0.00051202555;;; -0.0 0.0 … -0.0064286245 -0.0054189772; -0.0 0.002615428 … -0.0 0.0; … ; -0.0 -0.0 … -0.0 0.0; 0.0 -0.0 … -0.0 -0.0;;; -0.081958 0.019795092 … -0.04614054 0.00025257297; 0.043931045 -0.023720356 … -0.01093825 0.0033378282; … ; 0.00457499 -0.009800608 … 0.0 0.017044252; -0.0 9.338035f-5 … 0.0 0.0019014537;;; 0.0 0.009222658 … 0.0 -0.0; -0.0 0.0 … -0.0 -0.010979774; … ; -0.0 -0.0 … 0.0 -0.045084264; -0.0 -0.0 … -0.0040691807 -0.0;;; -0.012290999 0.28628394 … -0.00077074784 0.015651423; -0.0110666 -0.0 … -0.0011959352 0.0; … ; -0.0068887533 0.0 … 0.0 0.0; 0.0 -0.0 … -0.0 0.0;;;;]\n [0.0 0.0 … 0.0 0.0; 0.0 0.0 … 0.0 0.0; … ; 0.0 0.0 … 0.0 0.0; 0.0 0.0 … 0.0 0.0;;; 0.0 0.0 … -0.014602682 0.0; 0.0 0.0 … 0.0 0.0; … ; 0.0 0.0 … 0.0 0.0; 0.0 0.0 … 0.0 0.0;;; 0.0 0.0 … 0.0 0.0; 0.0 0.0 … 0.0 0.0; … ; -0.001649746 0.0 … 0.0 -0.028616173; 0.0 0.0 … 0.0 0.0;;; 0.0 0.0 … 0.0 0.03024328; 0.0 0.22278582 … 0.0 0.0; … ; 0.0 0.0 … 0.0 0.0; 0.0 0.0 … 0.0 0.0;;; 0.0 0.0 … 0.0 0.0; 0.0 0.0 … 0.0 0.0; … ; 0.0 0.0 … 0.0 0.0; 0.0025466604 0.0 … 0.0 -0.0120226955;;; 0.0 0.0 … 0.0 0.0; 0.0 0.17061637 … 0.009659672 0.0; … ; 0.0 0.004504165 … 0.0 0.0; 0.0 0.0 … 0.0 0.0020758768;;; 0.0 -0.2019725 … 0.023793258 0.0; 0.0 0.0 … 0.0 0.0; … ; 0.0 0.006748277 … 0.0 0.0; 0.0 0.0 … 0.0 0.0;;; 0.0 0.096781515 … 0.0 0.0; 0.0 0.0 … 0.0019619977 0.0; … ; 0.0 0.05374108 … 0.0 -0.029101541; 0.0 0.0 … 0.0 0.0;;;;]\n [-0.0 0.004839109 … -0.0 -0.0; -0.0 0.0 … -0.0 -0.0; … ; 0.0 -0.0 … -0.0 0.0; 0.0 -0.0 … -0.0 -0.0;;; -0.0 -0.0 … -0.018822324 -0.014602682; 0.06970403 -0.0 … -0.016428255 -0.0012055843; … ; -0.00916141 -0.0 … -0.0 -0.0; -0.0 0.0 … 0.0 0.0;;; -0.0 0.0 … -0.0 0.0; -0.11189061 -0.0805751 … -0.0 7.205134f-5; … ; -0.0119597465 -0.0 … -0.022516945 -0.0017561476; -0.001649746 -0.0 … -0.017420648 -0.028616173;;; 0.22278582 -0.16712737 … 0.06953017 0.03024328; 0.0016611082 0.03858065 … 0.0 -0.005974966; … ; -0.0 -0.0010719334 … 0.04186881 -0.00018511078; -0.0 -0.0 … 0.0 0.0;;; 0.0 -0.05204153 … 0.0012388346 -0.0; -0.0018331948 0.0 … 0.0 0.0; … ; 0.0 0.0 … -0.05631379 0.0; 0.0025466604 -0.0 … 0.0 -0.0120226955;;; 0.17061637 0.042094454 … -0.03129822 0.009659672; -0.015506133 -0.20417134 … 0.07812327 -0.0054504145; … ; 0.021417059 0.0049976096 … -0.011934348 0.0; 0.004504165 0.002900727 … 0.0 0.002075877;;; -0.2019725 -0.05808721 … -0.083392866 0.023793258; 0.16139892 -0.8036576 … 0.0 -0.03041845; … ; 0.032526977 -0.0055544763 … -0.08827157 0.0003202763; 0.006748277 0.0029139838 … 0.0021773574 0.0;;; 0.096781515 0.85182613 … 0.021592118 0.0019619977; -0.53513455 0.15686531 … -0.12648147 0.0122457575; … ; 0.04888853 -0.036826327 … -0.16815549 -0.1074829; 0.05374108 0.07203236 … -0.011135795 -0.029101541;;;;]\n [0.013143929 0.28841978 … -0.072397836 -0.019582987; -0.0 -0.15784642 … 0.0023683405 -0.024934478; … ; 0.014446604 0.022875817 … -0.0069729066 -0.0123492135; 0.00024110844 0.0 … -0.0 -0.0;;; -0.49349618 0.123604886 … 0.01498857 -0.0037868854; 0.16119659 -0.07784066 … -0.0035889645 -0.0; … ; 0.013725985 0.025844866 … -0.00068789686 -0.0; 0.0 0.0032220518 … 0.0 0.0;;; -0.0 0.0 … -0.0 -0.0; -0.0 -0.0 … -0.0 -0.0; … ; -0.0 0.0 … 0.0 -0.0; -0.0 0.0 … 0.0 0.0;;; … ;;; 0.0 0.0 … -0.0 0.009236436; -0.0 0.2804054 … -0.022391554 -0.01544167; … ; -0.0 -0.006234563 … 0.003570331 0.009595884; -0.005127226 -0.003938198 … -0.07589005 0.0019056014;;; -0.0 0.0 … 0.0 -0.0; 0.0 -0.0 … 0.0 0.0; … ; 0.0 0.0 … 0.0 -0.0; -0.0 0.0 … 0.0 0.0;;; -0.0 -0.0 … -0.0 0.0; -0.0 -0.0024558539 … 0.0 0.0; … ; 0.0 0.0 … 0.0 -0.0; -0.0 0.0 … 0.0 -0.028554155;;;;]\n [0.0058008824 0.0022980375 … -0.0020602955 -0.0008084301; 0.0 0.0 … 0.0 0.0; … ; 0.0 0.0 … 0.0 0.00010562489; 0.0 0.0 … 0.0 0.0;;; 0.0 0.0 … -0.0018728632 0.0; 0.0 0.0 … 0.0 0.0; … ; 0.0 0.0 … 0.0 -0.0007366382; 0.0 0.0 … 0.0 0.0;;; 0.006531161 -0.01167877 … 0.004704065 0.034745988; -0.006108015 -0.0 … -9.072927f-5 -0.0; … ; -0.0 -0.0 … -0.0 -0.0; -3.8472564f-5 -0.0 … -0.0 -0.0;;; 0.0 0.0 … 0.0 -0.012517714; 0.0 0.0 … 0.0 0.0; … ; 0.0 0.0 … 0.0 0.0; 0.0 0.0 … 0.0 0.00039988026;;; -0.013938611 -0.0061277733 … 0.007344161 -0.0055737384; 0.0 0.00077481597 … 0.0 0.018454706; … ; 0.0 0.0 … 0.0 0.0; 0.0 0.0 … 0.0 0.0;;; 0.006065162 -0.038773894 … 0.015334824 0.0115263015; 0.0054731634 0.0058712987 … 0.00820329 0.0041451654; … ; 0.01175286 0.005220026 … -0.2807628 0.00070713443; 0.11875492 0.010602635 … 0.008467922 0.0011701924;;; 0.004709439 0.0148382755 … 0.02115889 0.010511634; 0.0 -1.7472719 … 0.17584132 -0.13484158; … ; 0.000361408 0.015579884 … 0.0017035021 0.0081140995; 0.0 0.0 … 0.0013932682 0.0030992967;;; -0.0 -0.0 … -0.0 -0.0; 0.007795797 -0.0 … -0.0 -0.0; … ; -0.0 -0.0 … -0.0 -0.0; 0.0013025102 -0.0 … -0.0 -0.0;;;;]\n [-0.0019739638 -0.0030817464 … -0.0045769014 -0.003356719; 0.0 0.0 … 0.0 0.0; … ; 0.0 0.0 … 0.0 0.00024044326; 0.0 0.0 … 0.0 0.0;;; 0.0 0.0 … 0.00034909742 0.0; 0.0 0.0 … 0.0 0.0; … ; 0.0 0.0 … 0.0 -0.00024948918; 0.0 0.0 … 0.0 0.0;;; 0.005314355 -0.0059291255 … 0.0041581597 0.002282801; -0.0016108239 0.0 … 0.0010821297 0.0; … ; 0.0 0.0 … 0.0 0.0; 0.00013802551 0.0 … 0.0 0.0;;; 0.0 0.0 … 0.0 -0.017473362; 0.0 0.0 … 0.0 0.0; … ; 0.0 0.0 … 0.0 0.0; 0.0 0.0 … 0.0 0.00018034033;;; -0.011862305 -0.005092531 … 0.0045837685 -0.0054145576; 0.0 -0.0017838932 … 0.0 0.0077120047; … ; 0.0 0.0 … 0.0 0.0; 0.0 0.0 … 0.0 0.0;;; 0.0010085993 -0.021025086 … -0.0007885196 -0.005228881; 0.0017076166 0.00067543006 … 0.014242088 -0.00016395618; … ; 0.0049839807 -0.0017307067 … -0.0015942245 0.0; 0.026296258 -0.002334719 … -0.003259955 0.0;;; 0.0009793511 -0.007538703 … 0.0081058 -0.0015513632; 0.0 -0.01254599 … 0.008921551 -0.02175369; … ; 0.0 0.010174863 … 0.0 -0.0019848845; 0.0 0.0 … 0.0 -0.0008432868;;; 0.0 0.0 … 0.0 0.0; 0.011830393 0.0 … 0.0 0.0; … ; 0.0 0.0 … 0.0 0.0; 0.0017558536 0.0 … 0.0 0.0;;;;]\n [-0.0019739638; 0.0; … ; 0.0; 0.0;;]\n [0.014396644; 0.0; … ; -0.011052406; -0.0;;]\n [0.014396644; 0.0; … ; -0.011052406; -0.00043664538;;]\n [0.0; 0.0; … ; 0.0; 0.0;;]"
     },
     "metadata": {},
     "execution_count": 10
    }
   ],
   "cell_type": "code",
   "source": [
    "analyzer = LRP(model; flatten=false) # use unflattened model\n",
    "\n",
    "expl = analyze(input, analyzer; layerwise_relevances=true)\n",
    "expl.extras.layerwise_relevances"
   ],
   "metadata": {},
   "execution_count": 10
  },
  {
   "cell_type": "markdown",
   "source": [
    "## Performance tips\n",
    "### Using LRP without a GPU\n",
    "Since ExplainableAI.jl's LRP implementation makes use of\n",
    "[Tullio.jl](https://github.com/mcabbott/Tullio.jl),\n",
    "analysis can be accelerated by loading either\n",
    "- a package from the [JuliaGPU](https://juliagpu.org) ecosystem,\n",
    "  e.g. [CUDA.jl](https://github.com/JuliaGPU/CUDA.jl), if a GPU is available\n",
    "- [LoopVectorization.jl](https://github.com/JuliaSIMD/LoopVectorization.jl)\n",
    "  if only a CPU is available.\n",
    "\n",
    "This only requires loading the LoopVectorization.jl package before ExplainableAI.jl:\n",
    "```julia\n",
    "using LoopVectorization\n",
    "using ExplainableAI\n",
    "```\n",
    "\n",
    "[^1]: G. Montavon et al., [Layer-Wise Relevance Propagation: An Overview](https://link.springer.com/chapter/10.1007/978-3-030-28954-6_10)"
   ],
   "metadata": {}
  },
  {
   "cell_type": "markdown",
   "source": [
    "---\n",
    "\n",
    "*This notebook was generated using [Literate.jl](https://github.com/fredrikekre/Literate.jl).*"
   ],
   "metadata": {}
  }
 ],
 "nbformat_minor": 3,
 "metadata": {
  "language_info": {
   "file_extension": ".jl",
   "mimetype": "application/julia",
   "name": "julia",
   "version": "1.9.3"
  },
  "kernelspec": {
   "name": "julia-1.9",
   "display_name": "Julia 1.9.3",
   "language": "julia"
  }
 },
 "nbformat": 4
}
