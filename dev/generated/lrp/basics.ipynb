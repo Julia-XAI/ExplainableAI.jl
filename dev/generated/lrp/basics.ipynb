{
 "cells": [
  {
   "cell_type": "markdown",
   "source": [
    "# Basic usage of LRP\n",
    "This example will show you best practices for using LRP,\n",
    "building on the basics shown in the *Getting started* section."
   ],
   "metadata": {}
  },
  {
   "cell_type": "markdown",
   "source": [
    "We start out by loading a small convolutional neural network:"
   ],
   "metadata": {}
  },
  {
   "outputs": [],
   "cell_type": "code",
   "source": [
    "using ExplainableAI\n",
    "using Flux\n",
    "\n",
    "model = Chain(\n",
    "    Chain(\n",
    "        Conv((3, 3), 3 => 8, relu; pad=1),\n",
    "        Conv((3, 3), 8 => 8, relu; pad=1),\n",
    "        MaxPool((2, 2)),\n",
    "        Conv((3, 3), 8 => 16; pad=1),\n",
    "        BatchNorm(16, relu),\n",
    "        Conv((3, 3), 16 => 8, relu; pad=1),\n",
    "        BatchNorm(8, relu),\n",
    "    ),\n",
    "    Chain(\n",
    "        Flux.flatten,\n",
    "        Dense(2048 => 512, relu),\n",
    "        Dropout(0.5),\n",
    "        Dense(512 => 100, softmax)\n",
    "    ),\n",
    ");"
   ],
   "metadata": {},
   "execution_count": 1
  },
  {
   "cell_type": "markdown",
   "source": [
    "This model contains two chains: the convolutional layers and the fully connected layers."
   ],
   "metadata": {}
  },
  {
   "cell_type": "markdown",
   "source": [
    "## Model preparation\n",
    "### Stripping the output softmax\n",
    "When using LRP, it is recommended to explain output logits instead of probabilities.\n",
    "This can be done by stripping the output softmax activation from the model\n",
    "using the `strip_softmax` function:"
   ],
   "metadata": {}
  },
  {
   "outputs": [
    {
     "output_type": "execute_result",
     "data": {
      "text/plain": "Chain(\n  Chain(\n    Conv((3, 3), 3 => 8, relu, pad=1),  \u001b[90m# 224 parameters\u001b[39m\n    Conv((3, 3), 8 => 8, relu, pad=1),  \u001b[90m# 584 parameters\u001b[39m\n    MaxPool((2, 2)),\n    Conv((3, 3), 8 => 16, pad=1),       \u001b[90m# 1_168 parameters\u001b[39m\n    BatchNorm(16, relu),                \u001b[90m# 32 parameters\u001b[39m\u001b[90m, plus 32\u001b[39m\n    Conv((3, 3), 16 => 8, relu, pad=1),  \u001b[90m# 1_160 parameters\u001b[39m\n    BatchNorm(8, relu),                 \u001b[90m# 16 parameters\u001b[39m\u001b[90m, plus 16\u001b[39m\n  ),\n  Chain(\n    Flux.flatten,\n    Dense(2048 => 512, relu),           \u001b[90m# 1_049_088 parameters\u001b[39m\n    Dropout(0.5),\n    Dense(512 => 100),                  \u001b[90m# 51_300 parameters\u001b[39m\n  ),\n) \u001b[90m        # Total: 16 trainable arrays, \u001b[39m1_103_572 parameters,\n\u001b[90m          # plus 4 non-trainable, 48 parameters, summarysize \u001b[39m4.213 MiB."
     },
     "metadata": {},
     "execution_count": 2
    }
   ],
   "cell_type": "code",
   "source": [
    "model = strip_softmax(model)"
   ],
   "metadata": {},
   "execution_count": 2
  },
  {
   "cell_type": "markdown",
   "source": [
    "If you don't remove the output softmax,\n",
    "model checks will fail."
   ],
   "metadata": {}
  },
  {
   "cell_type": "markdown",
   "source": [
    "### Canonizing the model\n",
    "LRP is not invariant to a model's implementation.\n",
    "Applying the `GammaRule` to two linear layers in a row will yield different results\n",
    "than first fusing the two layers into one linear layer and then applying the rule.\n",
    "This fusing is called \"canonization\" and can be done using the `canonize` function:"
   ],
   "metadata": {}
  },
  {
   "outputs": [
    {
     "output_type": "execute_result",
     "data": {
      "text/plain": "Chain(\n  Conv((3, 3), 3 => 8, relu, pad=1),    \u001b[90m# 224 parameters\u001b[39m\n  Conv((3, 3), 8 => 8, relu, pad=1),    \u001b[90m# 584 parameters\u001b[39m\n  MaxPool((2, 2)),\n  Conv((3, 3), 8 => 16, relu, pad=1),   \u001b[90m# 1_168 parameters\u001b[39m\n  Conv((3, 3), 16 => 8, relu, pad=1),   \u001b[90m# 1_160 parameters\u001b[39m\n  BatchNorm(8, relu),                   \u001b[90m# 16 parameters\u001b[39m\u001b[90m, plus 16\u001b[39m\n  Flux.flatten,\n  Dense(2048 => 512, relu),             \u001b[90m# 1_049_088 parameters\u001b[39m\n  Dropout(0.5),\n  Dense(512 => 100),                    \u001b[90m# 51_300 parameters\u001b[39m\n) \u001b[90m        # Total: 14 trainable arrays, \u001b[39m1_103_540 parameters,\n\u001b[90m          # plus 2 non-trainable, 16 parameters, summarysize \u001b[39m4.212 MiB."
     },
     "metadata": {},
     "execution_count": 3
    }
   ],
   "cell_type": "code",
   "source": [
    "model = canonize(model)"
   ],
   "metadata": {},
   "execution_count": 3
  },
  {
   "cell_type": "markdown",
   "source": [
    "### Flattening the model\n",
    "ExplainableAI.jl's LRP implementation supports nested Flux Chains and Parallel layers.\n",
    "However, it is recommended to flatten the model before analyzing it.\n",
    "\n",
    "LRP is implemented by first running a forward pass through the model,\n",
    "keeping track of the intermediate activations, followed by a backward pass\n",
    "that computes the relevances.\n",
    "\n",
    "To keep the LRP implementation simple and maintainable,\n",
    "ExplainableAI.jl does not pre-compute \"nested\" activations.\n",
    "Instead, for every internal chain, a new forward pass is run to compute activations.\n",
    "\n",
    "By \"flattening\" a model, this overhead can be avoided.\n",
    "For this purpose, ExplainableAI.jl provides the function `flatten_model`:"
   ],
   "metadata": {}
  },
  {
   "outputs": [
    {
     "output_type": "execute_result",
     "data": {
      "text/plain": "Chain(\n  Conv((3, 3), 3 => 8, relu, pad=1),    \u001b[90m# 224 parameters\u001b[39m\n  Conv((3, 3), 8 => 8, relu, pad=1),    \u001b[90m# 584 parameters\u001b[39m\n  MaxPool((2, 2)),\n  Conv((3, 3), 8 => 16, relu, pad=1),   \u001b[90m# 1_168 parameters\u001b[39m\n  Conv((3, 3), 16 => 8, relu, pad=1),   \u001b[90m# 1_160 parameters\u001b[39m\n  BatchNorm(8, relu),                   \u001b[90m# 16 parameters\u001b[39m\u001b[90m, plus 16\u001b[39m\n  Flux.flatten,\n  Dense(2048 => 512, relu),             \u001b[90m# 1_049_088 parameters\u001b[39m\n  Dropout(0.5),\n  Dense(512 => 100),                    \u001b[90m# 51_300 parameters\u001b[39m\n) \u001b[90m        # Total: 14 trainable arrays, \u001b[39m1_103_540 parameters,\n\u001b[90m          # plus 2 non-trainable, 16 parameters, summarysize \u001b[39m4.212 MiB."
     },
     "metadata": {},
     "execution_count": 4
    }
   ],
   "cell_type": "code",
   "source": [
    "model_flat = flatten_model(model)"
   ],
   "metadata": {},
   "execution_count": 4
  },
  {
   "cell_type": "markdown",
   "source": [
    "This function is called by default when creating an LRP analyzer.\n",
    "Note that we pass the unflattened model to the analyzer, but `analyzer.model` is flattened:"
   ],
   "metadata": {}
  },
  {
   "outputs": [
    {
     "output_type": "execute_result",
     "data": {
      "text/plain": "Chain(\n  Conv((3, 3), 3 => 8, relu, pad=1),    \u001b[90m# 224 parameters\u001b[39m\n  Conv((3, 3), 8 => 8, relu, pad=1),    \u001b[90m# 584 parameters\u001b[39m\n  MaxPool((2, 2)),\n  Conv((3, 3), 8 => 16, relu, pad=1),   \u001b[90m# 1_168 parameters\u001b[39m\n  Conv((3, 3), 16 => 8, relu, pad=1),   \u001b[90m# 1_160 parameters\u001b[39m\n  BatchNorm(8, relu),                   \u001b[90m# 16 parameters\u001b[39m\u001b[90m, plus 16\u001b[39m\n  Flux.flatten,\n  Dense(2048 => 512, relu),             \u001b[90m# 1_049_088 parameters\u001b[39m\n  Dropout(0.5),\n  Dense(512 => 100),                    \u001b[90m# 51_300 parameters\u001b[39m\n) \u001b[90m        # Total: 14 trainable arrays, \u001b[39m1_103_540 parameters,\n\u001b[90m          # plus 2 non-trainable, 16 parameters, summarysize \u001b[39m4.212 MiB."
     },
     "metadata": {},
     "execution_count": 5
    }
   ],
   "cell_type": "code",
   "source": [
    "analyzer = LRP(model)\n",
    "analyzer.model"
   ],
   "metadata": {},
   "execution_count": 5
  },
  {
   "cell_type": "markdown",
   "source": [
    "If this flattening is not desired, it can be disabled\n",
    "by passing the keyword argument `flatten=false` to the `LRP` constructor."
   ],
   "metadata": {}
  },
  {
   "cell_type": "markdown",
   "source": [
    "## LRP rules\n",
    "By default, the `LRP` constructor will assign the `ZeroRule` to all layers."
   ],
   "metadata": {}
  },
  {
   "outputs": [
    {
     "output_type": "execute_result",
     "data": {
      "text/plain": "LRP(\n  Conv((3, 3), 3 => 8, relu, pad=1) \u001b[90m => \u001b[39m\u001b[33mZeroRule()\u001b[39m,\n  Conv((3, 3), 8 => 8, relu, pad=1) \u001b[90m => \u001b[39m\u001b[33mZeroRule()\u001b[39m,\n  MaxPool((2, 2))                   \u001b[90m => \u001b[39m\u001b[33mZeroRule()\u001b[39m,\n  Conv((3, 3), 8 => 16, relu, pad=1)\u001b[90m => \u001b[39m\u001b[33mZeroRule()\u001b[39m,\n  Conv((3, 3), 16 => 8, relu, pad=1)\u001b[90m => \u001b[39m\u001b[33mZeroRule()\u001b[39m,\n  BatchNorm(8, relu)                \u001b[90m => \u001b[39m\u001b[33mZeroRule()\u001b[39m,\n  Flux.flatten                      \u001b[90m => \u001b[39m\u001b[33mZeroRule()\u001b[39m,\n  Dense(2048 => 512, relu)          \u001b[90m => \u001b[39m\u001b[33mZeroRule()\u001b[39m,\n  Dropout(0.5)                      \u001b[90m => \u001b[39m\u001b[33mZeroRule()\u001b[39m,\n  Dense(512 => 100)                 \u001b[90m => \u001b[39m\u001b[33mZeroRule()\u001b[39m,\n)"
     },
     "metadata": {},
     "execution_count": 6
    }
   ],
   "cell_type": "code",
   "source": [
    "LRP(model)"
   ],
   "metadata": {},
   "execution_count": 6
  },
  {
   "cell_type": "markdown",
   "source": [
    "This analyzer will return heatmaps that look identical to `InputTimesGradient`."
   ],
   "metadata": {}
  },
  {
   "cell_type": "markdown",
   "source": [
    "LRP's strength lies in assigning different rules to different layers,\n",
    "based on their functionality in the neural network[^1].\n",
    "ExplainableAI.jl implements many LRP rules out of the box,\n",
    "but it is also possible to *implement custom rules*.\n",
    "\n",
    "To assign different rules to different layers,\n",
    "use one of the composites presets,\n",
    "or create your own composite, as described in\n",
    "*Assigning rules to layers*."
   ],
   "metadata": {}
  },
  {
   "outputs": [
    {
     "output_type": "execute_result",
     "data": {
      "text/plain": "Composite(\n  GlobalTypeMap(  \u001b[90m# all layers\u001b[39m\n\u001b[94m    Flux.Conv              \u001b[39m => \u001b[33mZPlusRule()\u001b[39m,\n\u001b[94m    Flux.ConvTranspose     \u001b[39m => \u001b[33mZPlusRule()\u001b[39m,\n\u001b[94m    Flux.CrossCor          \u001b[39m => \u001b[33mZPlusRule()\u001b[39m,\n\u001b[94m    Flux.Dense             \u001b[39m => \u001b[33mEpsilonRule{Float32}(1.0f-6)\u001b[39m,\n\u001b[94m    typeof(NNlib.dropout)  \u001b[39m => \u001b[33mPassRule()\u001b[39m,\n\u001b[94m    Flux.AlphaDropout      \u001b[39m => \u001b[33mPassRule()\u001b[39m,\n\u001b[94m    Flux.Dropout           \u001b[39m => \u001b[33mPassRule()\u001b[39m,\n\u001b[94m    Flux.BatchNorm         \u001b[39m => \u001b[33mPassRule()\u001b[39m,\n\u001b[94m    typeof(Flux.flatten)   \u001b[39m => \u001b[33mPassRule()\u001b[39m,\n\u001b[94m    typeof(MLUtils.flatten)\u001b[39m => \u001b[33mPassRule()\u001b[39m,\n\u001b[94m    typeof(identity)       \u001b[39m => \u001b[33mPassRule()\u001b[39m,\n ),\n  FirstLayerTypeMap(  \u001b[90m# first layer\u001b[39m\n\u001b[94m    Flux.Conv         \u001b[39m => \u001b[33mFlatRule()\u001b[39m,\n\u001b[94m    Flux.ConvTranspose\u001b[39m => \u001b[33mFlatRule()\u001b[39m,\n\u001b[94m    Flux.CrossCor     \u001b[39m => \u001b[33mFlatRule()\u001b[39m,\n\u001b[94m    Flux.Dense        \u001b[39m => \u001b[33mFlatRule()\u001b[39m,\n ),\n)"
     },
     "metadata": {},
     "execution_count": 7
    }
   ],
   "cell_type": "code",
   "source": [
    "composite = EpsilonPlusFlat() # using composite preset EpsilonPlusFlat"
   ],
   "metadata": {},
   "execution_count": 7
  },
  {
   "outputs": [
    {
     "output_type": "execute_result",
     "data": {
      "text/plain": "LRP(\n  Conv((3, 3), 3 => 8, relu, pad=1) \u001b[90m => \u001b[39m\u001b[33mFlatRule()\u001b[39m,\n  Conv((3, 3), 8 => 8, relu, pad=1) \u001b[90m => \u001b[39m\u001b[33mZPlusRule()\u001b[39m,\n  MaxPool((2, 2))                   \u001b[90m => \u001b[39m\u001b[33mZeroRule()\u001b[39m,\n  Conv((3, 3), 8 => 16, relu, pad=1)\u001b[90m => \u001b[39m\u001b[33mZPlusRule()\u001b[39m,\n  Conv((3, 3), 16 => 8, relu, pad=1)\u001b[90m => \u001b[39m\u001b[33mZPlusRule()\u001b[39m,\n  BatchNorm(8, relu)                \u001b[90m => \u001b[39m\u001b[33mPassRule()\u001b[39m,\n  Flux.flatten                      \u001b[90m => \u001b[39m\u001b[33mPassRule()\u001b[39m,\n  Dense(2048 => 512, relu)          \u001b[90m => \u001b[39m\u001b[33mEpsilonRule{Float32}(1.0f-6)\u001b[39m,\n  Dropout(0.5)                      \u001b[90m => \u001b[39m\u001b[33mPassRule()\u001b[39m,\n  Dense(512 => 100)                 \u001b[90m => \u001b[39m\u001b[33mEpsilonRule{Float32}(1.0f-6)\u001b[39m,\n)"
     },
     "metadata": {},
     "execution_count": 8
    }
   ],
   "cell_type": "code",
   "source": [
    "LRP(model, composite)"
   ],
   "metadata": {},
   "execution_count": 8
  },
  {
   "cell_type": "markdown",
   "source": [
    "## Computing layerwise relevances\n",
    "If you are interested in computing layerwise relevances,\n",
    "call `analyze` with an LRP analyzer and the keyword argument\n",
    "`layerwise_relevances=true`.\n",
    "\n",
    "The layerwise relevances can be accessed in the `extras` field\n",
    "of the returned `Explanation`:"
   ],
   "metadata": {}
  },
  {
   "outputs": [
    {
     "output_type": "execute_result",
     "data": {
      "text/plain": "11-element Vector{Array{Float32}}:\n [0.006043212 0.0066786986 … 0.008904876 0.00060426624; 0.0017615801 0.010971662 … 0.009488763 -0.0058877408; … ; -0.048445586 0.017650932 … -0.00860164 0.0001509917; -0.05323321 -0.063456856 … 0.005115529 0.008618826;;; -0.011974949 0.004015885 … -0.002988963 -0.00015950545; 0.0126312785 -0.008105288 … 0.01044735 0.0032163232; … ; -0.07340901 -0.017870115 … -0.0022665148 -0.011408316; -0.0014210079 -0.01784113 … -0.0014439516 5.9477654f-5;;; -0.0007174437 0.006912653 … -0.0008486262 0.0038422763; 0.007050686 -0.0063280794 … 0.0051072035 0.0011892179; … ; -0.005491156 0.025332095 … -0.0029025495 -0.0028174073; -0.028502006 -0.043011356 … -0.005137534 0.00033960608;;;;]\n [-0.0 -0.0048087304 … -0.00064400793 -0.0014622794; -0.0 0.01375086 … 0.003270082 0.0088651255; … ; 0.002824492 -0.00579066 … -0.009221186 -0.00024642335; -0.020834219 0.010284399 … 0.0066425195 -0.0011724081;;; -0.0 0.0 … 0.0 -0.0; 0.0 0.001332658 … 0.0 -0.0011003235; … ; -0.0 0.0 … -3.9757142f-5 0.0; 0.0 -0.0 … 0.0 0.0;;; -0.0006244481 -0.0 … -0.0 0.00034268503; -0.0 -0.01851712 … 0.015440328 -0.0007079206; … ; 0.05817771 -0.006233879 … -0.0028286309 0.00043585378; 0.0 0.008399762 … -6.393094f-5 -0.00026996812;;; 0.0024023876 -0.0030050916 … -0.000561895 -0.0; -0.016706372 -0.002188557 … -0.0025204434 0.0047684098; … ; -0.0019973428 -0.0 … 0.002375795 0.0008123022; 0.0030950177 0.006299498 … -0.0012706532 -0.0018246567;;; 0.0021324675 0.00093933014 … -0.00040213802 -9.408626f-5; -0.005595554 -0.0 … -0.0025775963 -0.0; … ; -0.0 -0.010493742 … 0.0 0.0025349872; 0.0 -0.0044860677 … -0.0 -0.0012055504;;; 0.0022686117 0.026995912 … -0.000108471824 0.0013287049; 0.007840594 -0.0084831705 … -0.009148945 0.0011964964; … ; 0.0 0.0785584 … 0.0 0.00030802717; -0.028735831 -0.054201987 … 0.004369585 -0.0030183736;;; -0.00013689512 0.008311023 … 0.0007719984 0.0007249247; 0.04280216 0.005605911 … -0.009777969 -0.0032042202; … ; -0.042500112 -0.02456119 … 0.00077798904 -0.0059605883; 8.972905f-6 0.017482534 … -0.0029062869 -0.0;;; -0.0031445918 0.0007383082 … 0.0010332636 -0.0023147094; -0.006515859 -0.017614748 … 0.0057615344 -0.0014871492; … ; 0.0053670607 0.02443498 … 0.0003425283 -0.00020106602; -0.063152015 -0.015728736 … 0.002087362 -0.0004160579;;;;]\n [0.022685265 0.0 … 0.0 0.0; 0.0 0.0 … 0.0 0.0; … ; 0.0 -0.014398648 … 0.0 0.0; 0.0 0.0 … -0.0022194635 0.0;;; -0.0013602448 0.0 … 0.0 0.0; 0.0 0.0 … 0.0030181722 0.0; … ; 0.0 0.0 … -0.009343552 0.0; 0.0 -0.01605902 … 0.0 0.0;;; 0.0 0.0 … -0.00029926578 0.0; 0.0 0.0 … 0.0 0.0; … ; 0.0 0.0 … 0.0 0.0; 0.0025549524 0.0 … 0.0037387647 0.0;;; 0.0 0.0 … 0.0 0.0; -0.002364097 0.0 … 0.0 0.0; … ; 0.0 0.0 … 0.0050999206 0.0; 0.0 -0.036634278 … 0.0 0.0;;; 0.0 -0.0113547295 … 0.005189717 0.0; 0.0 0.0 … 0.0 0.0; … ; -0.03341734 0.0 … 0.0 0.0; 0.0 0.0 … 0.0 0.0;;; 0.0 0.0 … 0.0 0.0; 0.0 -0.010634593 … 0.011189533 0.0; … ; 0.0 -0.023773113 … 0.0 0.0019016676; 0.0 0.0 … 0.0 0.0;;; 0.0 0.0 … 0.0 0.0; 0.0 0.016897589 … 0.032143023 0.0; … ; 0.0 -0.11083516 … 0.0 0.017713184; 0.0 0.0 … 0.0 0.0;;; 0.03286441 0.0 … -0.011468271 0.0; 0.0 0.0 … 0.0 0.0; … ; -0.015333584 0.0 … 0.0 -0.0053799343; 0.0 0.0 … 0.0 0.0;;;;]\n [0.022685265 0.02406076 … 0.0044886293 -0.0; 8.824966f-5 -0.0 … -0.0025905725 0.0007956048; … ; 0.013701238 0.0 … -0.018345274 0.010410813; -0.014398648 0.020492261 … 0.0 -0.0022194635;;; -0.0013602448 -0.013346113 … 0.02470764 0.0030181722; 0.053163227 -0.019945001 … 0.026273498 0.0008765985; … ; 0.23699538 -0.23570181 … -0.006323381 0.01119866; -0.01605902 -0.017467445 … 0.0132108 -0.009343552;;; 0.0 0.0023501408 … -0.002150956 -0.00029926578; 0.0 -0.0061587663 … 6.489259f-5 -0.014815241; … ; -0.0 -0.0 … 0.00050958403 0.0; 0.0025549524 0.02625036 … 0.0 0.0037387647;;; -0.0023640972 -0.0 … -0.0 0.0; -0.016567646 -0.0 … 0.022432448 -0.010776889; … ; 0.2254268 -0.10643955 … -0.0070552668 -0.0022599413; -0.036634278 -0.009978281 … 0.00058197184 0.0050999206;;; -0.0113547295 -0.05589104 … 0.009836808 0.005189717; 0.0030113705 -0.03791121 … 0.0 0.0025738173; … ; 0.13072424 0.0 … -0.0097698895 -0.005628402; -0.03341734 -0.25784877 … 0.0 -0.0;;; -0.010634593 -0.02605123 … -0.017470142 0.011189533; 0.020689584 0.022380954 … -0.026675602 0.0042312453; … ; 0.0 0.012352284 … -0.0008331485 0.022038613; -0.023773113 -0.059316482 … 0.013438359 0.0019016676;;; 0.016897589 -0.052940976 … 0.030594356 0.032143023; 0.01671497 0.020046411 … -0.04007728 0.009453915; … ; 0.18525614 -0.0854295 … -0.008232308 0.023555156; -0.11083516 0.076591164 … -0.016266968 0.017713184;;; 0.03286441 0.01019016 … -0.0047091646 -0.011468271; 0.05243184 0.0229382 … -0.025443645 0.018530447; … ; -0.07880061 -0.08728158 … -0.03331028 0.013984911; -0.015333584 0.052742783 … 0.0036144725 -0.0053799343;;;;]\n [-0.0 -0.0 … -0.0 -0.0026084885; -0.025313484 -0.0849179 … 0.0039618807 0.009330659; … ; -0.12182551 0.16877265 … -0.00049531565 -0.0130922515; 0.08920338 0.05114826 … 0.022418445 0.01114499;;; 0.0 0.0 … 0.0 -0.0; 0.0 0.0 … 0.0 0.0; … ; -0.0 0.0 … 0.0 0.0; -0.0138365375 0.0 … -0.0 -1.8215711f-6;;; -0.0 -0.0 … -0.0 -0.0; -0.0 -0.0 … 0.0 -0.0; … ; 0.0 0.0 … -0.0 -0.0; 0.0 0.0 … 0.0 -0.0013042843;;; … ;;; 0.0 0.0 … 0.0 0.0; 0.0 0.00070990215 … -0.0 0.0; … ; 0.0 -0.0 … 0.0 -0.02879619; 0.0 -0.0 … -0.0046131876 0.0038532403;;; -0.0 -0.0 … -0.0 -0.0; -0.0 -0.0 … 0.0 0.0; … ; -0.0 -0.0 … -0.0 -0.0; -0.0 -0.0 … -0.0 0.0;;; 0.0 0.0 … -0.0 0.0; 0.026497865 0.058384124 … 0.00063320034 0.0; … ; -0.040232543 -0.061776407 … 0.0047405106 -0.0; -0.06203007 -0.17313038 … 0.02950729 0.0;;;;]\n [0.0 0.0 … 0.0 0.0; 0.0 0.0 … 0.0 0.0; … ; 0.0031920434 0.0 … 0.0026198234 0.0; -0.03936756 -0.0688196 … -0.06675426 0.0025728832;;; -0.0 -0.0 … -0.0 -0.0; -0.0 -0.0 … -0.0 -0.0; … ; -0.0 -0.0 … -0.0 -0.0; -0.0 0.0013596407 … -0.0 -0.002028468;;; 0.0 -0.004371963 … 0.003140299 0.014931659; 0.051594425 0.056470137 … 0.0 0.003573285; … ; 0.06548403 0.07457027 … 0.0 0.0; 0.10095503 0.0007957445 … 0.0 0.0;;; -0.0 -0.0 … -0.0 -0.0; -0.0 -0.0 … -0.0 0.0040762885; … ; -0.0 -0.0 … -0.0 -0.007231239; -0.0 0.008674591 … -0.02568789 0.0044212323;;; 0.0 -0.0 … -0.0 0.0; -0.0 -0.0 … -0.0 0.0; … ; -0.0 0.0 … -0.0 -0.0; -0.0 0.0 … -0.0 -0.0;;; 0.015163331 0.03301841 … 0.002214196 0.0026939053; 0.0014352023 0.00093609345 … 0.0 0.0; … ; -0.21891186 -0.05156161 … 0.0030613039 0.0022321108; 0.0 0.0 … 0.0 0.0;;; -0.018405767 -0.0047090994 … -0.0055003185 -0.004018497; -0.012208816 0.009566587 … 0.0036296924 -0.004912426; … ; 0.021009002 -0.0 … -0.0 -0.0; -0.0 -0.0 … -0.0 -0.0;;; 0.0 -0.0 … -0.0 -0.0; 0.0 -0.0 … 0.0 -0.0; … ; 0.0 0.0 … 0.0 0.0; -0.0 -0.0 … -0.0 -0.0;;;;]\n [0.0 0.0 … -0.0 0.0; -0.0 -0.0 … 0.0 0.0; … ; 0.023279002 0.0 … -0.0071914583 0.0; -0.01438118 -0.040568955 … -0.0494201 0.004119382;;; -0.0 0.0 … 0.0 0.0; 0.0 0.0 … -0.0 0.0; … ; -0.0 0.0 … 0.0 -0.0; -0.0 0.0016422147 … 0.0 -0.0016056458;;; -0.0 -0.0059402483 … -0.006933438 -0.00016557521; 0.010954252 0.007229718 … 0.0 -0.0004883255; … ; 0.0030807806 0.0048716385 … 0.0 0.0; 0.017006466 -0.0014036909 … 0.0 0.0;;; -0.0 -0.0 … 0.0 0.0; 0.0 0.0 … -0.0 0.0059725423; … ; 0.0 0.0 … 0.0 -0.0043480094; -0.0 0.0097883865 … -0.020935565 0.006610946;;; 0.0 -0.0 … -0.0 0.0; -0.0 -0.0 … -0.0 0.0; … ; -0.0 0.0 … -0.0 -0.0; -0.0 0.0 … -0.0 -0.0;;; 0.0034539506 0.0072957575 … 0.0040653516 0.0090338765; 0.0022454695 0.000907059 … 0.0 -0.0; … ; -0.012854286 -0.036268268 … -0.010798224 -0.00791635; 0.0 0.0 … -0.0 -0.0;;; -0.01388066 -0.0024278248 … -0.002802476 -0.0024126489; -0.007762435 0.0053612133 … 0.005441487 -0.0028609342; … ; 0.018515425 -0.0 … 0.0 0.0; 0.0 0.0 … -0.0 0.0;;; 0.0 -0.0 … -0.0 -0.0; 0.0 -0.0 … 0.0 -0.0; … ; 0.0 0.0 … 0.0 0.0; -0.0 -0.0 … -0.0 -0.0;;;;]\n [0.0; -0.0; … ; 0.0; -0.0;;]\n [0.0; -0.021380588; … ; -0.0; -0.0;;]\n [0.0; -0.021380588; … ; -2.170535f-5; -0.0;;]\n [0.0; 0.0; … ; 0.0; 0.0;;]"
     },
     "metadata": {},
     "execution_count": 9
    }
   ],
   "cell_type": "code",
   "source": [
    "input = rand(Float32, 32, 32, 3, 1) # dummy input for our convolutional neural network\n",
    "\n",
    "expl = analyze(input, analyzer; layerwise_relevances=true)\n",
    "expl.extras.layerwise_relevances"
   ],
   "metadata": {},
   "execution_count": 9
  },
  {
   "cell_type": "markdown",
   "source": [
    "Note that the layerwise relevances are only kept for layers in the outermost `Chain` of the model.\n",
    "When using our unflattened model, we only obtain three layerwise relevances,\n",
    "one for each chain in the model and the output relevance:"
   ],
   "metadata": {}
  },
  {
   "outputs": [
    {
     "output_type": "execute_result",
     "data": {
      "text/plain": "11-element Vector{Array{Float32}}:\n [-1.7707294f-5 0.007025882 … 0.0070779864 0.00030808453; 0.0017003585 -0.021291513 … 0.000187628 -0.008914753; … ; -0.019663384 0.013414878 … -0.0068603894 -0.0004869336; -0.04960091 -0.06865828 … -0.011706453 -0.002640587;;; -0.01730596 -0.01869555 … -0.002867833 -0.0010717375; 0.011759536 0.0009975367 … 0.012839309 0.00016412073; … ; -0.06153658 0.008800103 … 0.00084563554 0.025412763; -0.00052466034 -0.016463645 … 0.0058153174 -0.00052558776;;; -0.0025442922 0.014029129 … -0.0015391738 0.0026854558; 0.0009136914 -0.04741096 … 0.007984934 -0.00040405424; … ; 0.008839571 0.018539572 … 0.003629937 0.0006882005; -0.0071480325 -0.018471012 … -0.0056977123 0.0003250995;;;;]\n [0.0 -0.008076934 … -0.0007627126 -0.00029055754; 0.0 0.007848128 … 0.0016436559 0.0056827837; … ; 0.003499025 0.0004156935 … 0.0040776585 -0.0002548854; -0.014737083 0.015108364 … -0.01721048 0.0011025469;;; -0.0 0.0 … 0.0 0.0; 0.0 0.0016062674 … 0.0 -0.0011566371; … ; -0.0 -0.0 … 7.322974f-5 -0.0; 0.0 -0.0 … -0.0 -0.0;;; -0.0003967196 -0.0 … -0.0 0.00072812894; -0.0 -0.028130285 … 0.018263757 -0.00049979106; … ; 0.06780044 -0.008278225 … 0.0067753764 -0.002809364; 0.0 0.008336183 … -0.00015017849 0.002235435;;; -0.00043491728 0.008186826 … -0.00031336868 -0.0; -0.012225395 -0.012657669 … 0.0010080555 0.0035583791; … ; -0.0021450429 -0.0 … -0.0057179877 -0.0013876853; 0.0015908831 0.0106395865 … 0.0014703679 0.0075647305;;; 0.0014007654 0.002448971 … -0.0006215391 0.0003793262; -0.002370854 -0.0 … -0.0020968514 -0.0; … ; -0.0 -0.015577234 … -0.0 -0.006462446; 0.0 0.0003660816 … -0.0 0.0024836496;;; 0.002079413 0.012599264 … -4.4294942f-5 0.00040405957; 0.0060079056 -0.045197092 … -0.0077914665 -0.00010251292; … ; 0.0 0.09493283 … -0.0 0.0028928388; -0.01822607 -0.033030406 … -0.00045711818 0.002809036;;; 0.00027895186 0.00299279 … 3.5217927f-5 -0.00023914315; 0.017546026 0.009791913 … -0.009699416 -0.0004962161; … ; -0.044222135 -0.012787524 … 0.0021368433 -0.009151911; 0.012732011 0.016980063 … 0.00013875488 0.0;;; -0.0029906516 0.00055585365 … 0.0021526238 -0.0010583488; -0.0011792928 -0.035703287 … -0.002991953 -0.0025369201; … ; -0.0043115905 0.03359273 … 0.003089983 -0.0014133458; -0.06496194 -0.03485584 … -0.007036615 0.004610938;;;;]\n [-0.0008653785 0.0 … 0.0 0.0; 0.0 0.0 … 0.0 0.0; … ; 0.0 -0.015819587 … 0.0 0.0; 0.0 0.0 … 0.00815725 0.0;;; -0.03146319 0.0 … 0.0 0.0; 0.0 0.0 … -0.002937864 0.0; … ; 0.0 0.0 … 0.024084125 0.0; 0.0 -0.035450373 … 0.0 0.0;;; 0.0 0.0 … 0.0024673522 0.0; 0.0 0.0 … 0.0 0.0; … ; 0.0 0.0 … 0.0 0.0; 0.0030540419 0.0 … 0.00046139574 0.0;;; 0.0 0.0 … 0.0 0.0; -0.0024160636 0.0 … 0.0 0.0; … ; 0.0 0.0 … -0.011705603 0.0; 0.0 -0.035655666 … 0.0 0.0;;; 0.0 -0.0093659 … 0.003079095 0.0; 0.0 0.0 … 0.0 0.0; … ; -0.019784803 0.0 … 0.0 0.0; 0.0 0.0 … 0.0 0.0;;; 0.0 0.0 … 0.0 0.0; 0.0 -0.013206222 … 0.012858379 0.0; … ; 0.0 0.0004884772 … 0.0 -0.007613894; 0.0 0.0 … 0.0 0.0;;; 0.0 0.0 … 0.0 0.0; 0.0 -0.010410967 … 0.028504686 0.0; … ; 0.0 -0.16459547 … 0.0 0.00014661755; 0.0 0.0 … 0.0 0.0;;; 0.025160914 0.0 … -0.021654878 0.0; 0.0 0.0 … 0.0 0.0; … ; -7.64396f-5 0.0 … 0.0 -0.006623681; 0.0 0.0 … 0.0 0.0;;;;]\n [-0.0008653785 -0.016607465 … 0.008529487 -0.0; 0.0054516876 0.0 … 0.00091823126 0.0009317268; … ; 0.012940162 0.0 … 0.028129043 -0.014437032; -0.015819587 0.019615926 … -0.0 0.00815725;;; -0.03146319 -0.049925104 … 0.009824963 -0.002937864; 0.02275277 0.011276049 … 0.0026278354 -0.0138668725; … ; 0.19967565 -0.17491029 … 0.11977984 -0.015604411; -0.035450373 0.030131696 … -0.0028888104 0.024084125;;; 0.0 0.0020743676 … -0.0026827662 0.0024673522; -0.0 -0.0035622672 … 0.00020097638 -5.4115946f-5; … ; -0.0 -0.0 … -0.056738317 -0.0; 0.0030540419 0.01877743 … -0.0 0.00046139574;;; -0.0024160638 0.0 … -0.0 0.0; -0.015764711 0.0 … 0.0464585 -0.003444911; … ; 0.20239656 -0.08712699 … -0.0025021185 0.008450582; -0.035655666 -0.008320601 … -0.0019149915 -0.011705603;;; -0.0093659 -0.05413431 … 0.0065930323 0.003079095; 0.0011993643 0.005576014 … 0.0 0.0022127437; … ; 0.15671743 0.0 … 0.032279298 0.016333068; -0.019784803 -0.22070277 … 0.0 0.0;;; -0.013206222 -0.03630844 … -0.0062399064 0.012858379; 0.0063613392 0.05527866 … -0.027038462 0.0030555737; … ; 0.0 0.029144973 … 0.018179178 0.021753538; 0.0004884772 -0.07182066 … -0.030036183 -0.007613894;;; -0.010410967 -0.05500515 … 0.085058466 0.028504686; 0.013909357 -0.04138173 … -0.035096943 0.008101144; … ; 0.10474758 -0.103960656 … -0.034854222 -0.05656145; -0.16459547 0.116749175 … -0.0038433284 0.00014661755;;; 0.025160914 0.02351358 … 0.0051466576 -0.021654878; 0.031424887 0.022570966 … -0.00692077 0.0048120194; … ; -0.058011644 0.05427551 … 0.05390327 0.05740622; -7.64396f-5 0.05839596 … -0.042648822 -0.006623681;;;;]\n [0.0 -0.0 … -0.0 -0.0006505566; -0.014421087 -0.046787772 … 0.00086066854 0.049997844; … ; -0.11935186 0.11555533 … -0.03746394 -0.011883451; 0.062247727 0.005152601 … -0.013611479 0.005724113;;; 0.0 0.0 … 0.0 -0.0; 0.0 -0.0 … 0.0 0.0; … ; -0.0 0.0 … 0.0 -0.0; -0.010535044 0.0 … 0.0 -4.9695823f-6;;; -0.0 -0.0 … -0.0 -0.0; -0.0 0.0 … -0.0 -0.0; … ; 0.0 0.0 … 0.0 -0.0; 0.0 0.0 … -0.0 -0.0008383382;;; … ;;; -0.0 0.0 … 0.0 0.0; -0.0 0.0003996219 … -0.0 0.0; … ; 0.0 0.0 … -0.0 0.020833; 0.0 -0.0 … 0.0007125098 0.00015753185;;; -0.0 0.0 … -0.0 -0.0; 0.0 0.0 … 0.0 0.0; … ; -0.0 -0.0 … 0.0 0.0; -0.0 -0.0 … -0.0 0.0;;; 0.0 0.0 … 0.0 0.0; 0.022211967 0.0446748 … -0.0065891407 0.0; … ; -0.044319227 -0.12021649 … -0.008240531 0.0; -0.06390616 -0.2110511 … -0.025247686 0.0;;;;]\n [-0.0 -0.0 … -0.0 -0.0; -0.0 -0.0 … -0.0 -0.0; … ; -0.009607177 -0.0 … -0.007856568 -0.0; -0.046596058 -0.09866154 … 0.079284504 -0.0077136764;;; -0.0 -0.0 … -0.0 -0.0; -0.0 -0.0 … -0.0 -0.0; … ; -0.0 -0.0 … -0.0 -0.0; -0.0 0.0038693734 … -0.0 -0.00087126944;;; 0.0 -0.0040548816 … 0.011094372 0.010197473; 0.008604131 0.049167816 … 0.0 0.0018844279; … ; 0.053792603 0.046352696 … 0.0 0.0; 0.042204257 -0.0031651685 … 0.0 0.0;;; -0.0 -0.0 … -0.0 -0.0; -0.0 -0.0 … -0.0 0.0057179984; … ; -0.0 -0.0 … -0.0 0.00094399153; -0.0 0.005621831 … -0.027557772 -0.007276785;;; -0.0 -0.0 … 0.0 0.0; -0.0 0.0 … -0.0 -0.0; … ; 0.0 -0.0 … -0.0 -0.0; -0.0 0.0 … 0.0 -0.0;;; 0.046424106 0.0401179 … 0.0056333896 0.0070139146; 0.0035361752 0.0022654824 … 0.0 0.0; … ; -0.21614783 -0.05414988 … 0.008131474 0.0056835706; 0.0 0.0 … 0.0 0.0;;; -0.017261146 -0.010447158 … -0.015496699 0.0012017114; -0.0113153495 -0.0038821395 … 0.0012658265 -0.0071666245; … ; 0.0073091956 0.0 … 0.0 0.0; 0.0 0.0 … 0.0 0.0;;; 0.0 -0.0 … -0.0 -0.0; 0.0 -0.0 … 0.0 -0.0; … ; -0.0 0.0 … -0.0 0.0; -0.0 -0.0 … 0.0 -0.0;;;;]\n [-0.0 0.0 … 0.0 0.0; -0.0 -0.0 … -0.0 0.0; … ; 0.010794857 0.0 … -0.004819268 0.0; -0.010652307 -0.043655675 … 0.06776221 0.015506481;;; -0.0 -0.0 … 0.0 -0.0; 0.0 0.0 … 0.0 -0.0; … ; -0.0 0.0 … -0.0 -0.0; -0.0 0.004395624 … 0.0 -0.000102866485;;; -0.0 -0.0036583992 … 0.0011620437 0.0010197874; -0.0070636906 0.022640081 … 0.0 -0.0014686398; … ; 0.02372318 0.015794909 … 0.0 -0.0; 0.00977338 -0.0012519418 … -0.0 0.0;;; 0.0 -0.0 … 0.0 0.0; -0.0 -0.0 … -0.0 0.0034136774; … ; -0.0 0.0 … 0.0 -0.00033922837; -0.0 0.0039460217 … -0.026552457 -0.009778587;;; -0.0 -0.0 … 0.0 0.0; -0.0 0.0 … -0.0 -0.0; … ; 0.0 -0.0 … -0.0 -0.0; -0.0 0.0 … 0.0 -0.0;;; 0.010747456 0.0071468456 … 0.0016366449 0.004824203; -0.00015514801 -0.0011230755 … 0.0 0.0; … ; -0.013045601 -0.048263926 … -8.560686f-5 0.0009005603; 0.0 -0.0 … -0.0 0.0;;; -0.0145041235 -0.0057317233 … -0.013116503 0.00083052804; -0.00974688 -0.0021312959 … 0.0012634962 -0.005790916; … ; 0.0060623293 -0.0 … 0.0 0.0; -0.0 -0.0 … 0.0 0.0;;; 0.0 -0.0 … -0.0 -0.0; 0.0 -0.0 … 0.0 -0.0; … ; -0.0 0.0 … -0.0 0.0; -0.0 -0.0 … 0.0 -0.0;;;;]\n [-0.0; -0.0; … ; 0.0; -0.0;;]\n [0.0; -0.01704046; … ; -2.0591418f-5; -0.0;;]\n [0.0; -0.01704046; … ; -2.059142f-5; -0.0;;]\n [0.0; 0.0; … ; 0.0; 0.0;;]"
     },
     "metadata": {},
     "execution_count": 10
    }
   ],
   "cell_type": "code",
   "source": [
    "analyzer = LRP(model; flatten=false) # use unflattened model\n",
    "\n",
    "expl = analyze(input, analyzer; layerwise_relevances=true)\n",
    "expl.extras.layerwise_relevances"
   ],
   "metadata": {},
   "execution_count": 10
  },
  {
   "cell_type": "markdown",
   "source": [
    "## Performance tips\n",
    "### Using LRP without a GPU\n",
    "Since ExplainableAI.jl's LRP implementation makes use of\n",
    "[Tullio.jl](https://github.com/mcabbott/Tullio.jl),\n",
    "analysis can be accelerated by loading either\n",
    "- a package from the [JuliaGPU](https://juliagpu.org) ecosystem,\n",
    "  e.g. [CUDA.jl](https://github.com/JuliaGPU/CUDA.jl), if a GPU is available\n",
    "- [LoopVectorization.jl](https://github.com/JuliaSIMD/LoopVectorization.jl)\n",
    "  if only a CPU is available.\n",
    "\n",
    "This only requires loading the LoopVectorization.jl package before ExplainableAI.jl:\n",
    "```julia\n",
    "using LoopVectorization\n",
    "using ExplainableAI\n",
    "```\n",
    "\n",
    "[^1]: G. Montavon et al., [Layer-Wise Relevance Propagation: An Overview](https://link.springer.com/chapter/10.1007/978-3-030-28954-6_10)"
   ],
   "metadata": {}
  },
  {
   "cell_type": "markdown",
   "source": [
    "---\n",
    "\n",
    "*This notebook was generated using [Literate.jl](https://github.com/fredrikekre/Literate.jl).*"
   ],
   "metadata": {}
  }
 ],
 "nbformat_minor": 3,
 "metadata": {
  "language_info": {
   "file_extension": ".jl",
   "mimetype": "application/julia",
   "name": "julia",
   "version": "1.9.3"
  },
  "kernelspec": {
   "name": "julia-1.9",
   "display_name": "Julia 1.9.3",
   "language": "julia"
  }
 },
 "nbformat": 4
}
