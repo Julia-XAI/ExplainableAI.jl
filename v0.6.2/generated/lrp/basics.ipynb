{
 "cells": [
  {
   "cell_type": "markdown",
   "source": [
    "# Basic usage of LRP\n",
    "This example will show you best practices for using LRP,\n",
    "building on the basics shown in the *Getting started* section."
   ],
   "metadata": {}
  },
  {
   "cell_type": "markdown",
   "source": [
    "We start out by loading a small convolutional neural network:"
   ],
   "metadata": {}
  },
  {
   "outputs": [],
   "cell_type": "code",
   "source": [
    "using ExplainableAI\n",
    "using Flux\n",
    "\n",
    "model = Chain(\n",
    "    Chain(\n",
    "        Conv((3, 3), 3 => 8, relu; pad=1),\n",
    "        Conv((3, 3), 8 => 8, relu; pad=1),\n",
    "        MaxPool((2, 2)),\n",
    "        Conv((3, 3), 8 => 16; pad=1),\n",
    "        BatchNorm(16, relu),\n",
    "        Conv((3, 3), 16 => 8, relu; pad=1),\n",
    "        BatchNorm(8, relu),\n",
    "    ),\n",
    "    Chain(\n",
    "        Flux.flatten,\n",
    "        Dense(2048 => 512, relu),\n",
    "        Dropout(0.5),\n",
    "        Dense(512 => 100, softmax)\n",
    "    ),\n",
    ");"
   ],
   "metadata": {},
   "execution_count": 1
  },
  {
   "cell_type": "markdown",
   "source": [
    "This model contains two chains: the convolutional layers and the fully connected layers."
   ],
   "metadata": {}
  },
  {
   "cell_type": "markdown",
   "source": [
    "## Model preparation\n",
    "### Stripping the output softmax\n",
    "When using LRP, it is recommended to explain output logits instead of probabilities.\n",
    "This can be done by stripping the output softmax activation from the model\n",
    "using the `strip_softmax` function:"
   ],
   "metadata": {}
  },
  {
   "outputs": [
    {
     "output_type": "execute_result",
     "data": {
      "text/plain": "Chain(\n  Chain(\n    Conv((3, 3), 3 => 8, relu, pad=1),  \u001b[90m# 224 parameters\u001b[39m\n    Conv((3, 3), 8 => 8, relu, pad=1),  \u001b[90m# 584 parameters\u001b[39m\n    MaxPool((2, 2)),\n    Conv((3, 3), 8 => 16, pad=1),       \u001b[90m# 1_168 parameters\u001b[39m\n    BatchNorm(16, relu),                \u001b[90m# 32 parameters\u001b[39m\u001b[90m, plus 32\u001b[39m\n    Conv((3, 3), 16 => 8, relu, pad=1),  \u001b[90m# 1_160 parameters\u001b[39m\n    BatchNorm(8, relu),                 \u001b[90m# 16 parameters\u001b[39m\u001b[90m, plus 16\u001b[39m\n  ),\n  Chain(\n    Flux.flatten,\n    Dense(2048 => 512, relu),           \u001b[90m# 1_049_088 parameters\u001b[39m\n    Dropout(0.5),\n    Dense(512 => 100),                  \u001b[90m# 51_300 parameters\u001b[39m\n  ),\n) \u001b[90m        # Total: 16 trainable arrays, \u001b[39m1_103_572 parameters,\n\u001b[90m          # plus 4 non-trainable, 48 parameters, summarysize \u001b[39m4.213 MiB."
     },
     "metadata": {},
     "execution_count": 2
    }
   ],
   "cell_type": "code",
   "source": [
    "model = strip_softmax(model)"
   ],
   "metadata": {},
   "execution_count": 2
  },
  {
   "cell_type": "markdown",
   "source": [
    "If you don't remove the output softmax,\n",
    "model checks will fail."
   ],
   "metadata": {}
  },
  {
   "cell_type": "markdown",
   "source": [
    "### Canonizing the model\n",
    "LRP is not invariant to a model's implementation.\n",
    "Applying the `GammaRule` to two linear layers in a row will yield different results\n",
    "than first fusing the two layers into one linear layer and then applying the rule.\n",
    "This fusing is called \"canonization\" and can be done using the `canonize` function:"
   ],
   "metadata": {}
  },
  {
   "outputs": [
    {
     "output_type": "execute_result",
     "data": {
      "text/plain": "Chain(\n  Conv((3, 3), 3 => 8, relu, pad=1),    \u001b[90m# 224 parameters\u001b[39m\n  Conv((3, 3), 8 => 8, relu, pad=1),    \u001b[90m# 584 parameters\u001b[39m\n  MaxPool((2, 2)),\n  Conv((3, 3), 8 => 16, relu, pad=1),   \u001b[90m# 1_168 parameters\u001b[39m\n  Conv((3, 3), 16 => 8, relu, pad=1),   \u001b[90m# 1_160 parameters\u001b[39m\n  BatchNorm(8, relu),                   \u001b[90m# 16 parameters\u001b[39m\u001b[90m, plus 16\u001b[39m\n  Flux.flatten,\n  Dense(2048 => 512, relu),             \u001b[90m# 1_049_088 parameters\u001b[39m\n  Dropout(0.5),\n  Dense(512 => 100),                    \u001b[90m# 51_300 parameters\u001b[39m\n) \u001b[90m        # Total: 14 trainable arrays, \u001b[39m1_103_540 parameters,\n\u001b[90m          # plus 2 non-trainable, 16 parameters, summarysize \u001b[39m4.212 MiB."
     },
     "metadata": {},
     "execution_count": 3
    }
   ],
   "cell_type": "code",
   "source": [
    "model_canonized = canonize(model)"
   ],
   "metadata": {},
   "execution_count": 3
  },
  {
   "cell_type": "markdown",
   "source": [
    "After canonization, the first `BatchNorm` layer has been fused into the preceding `Conv` layer.\n",
    "The second `BatchNorm` layer wasn't fused\n",
    "since its preceding `Conv` layer has a ReLU activation function."
   ],
   "metadata": {}
  },
  {
   "cell_type": "markdown",
   "source": [
    "### Flattening the model\n",
    "ExplainableAI.jl's LRP implementation supports nested Flux Chains and Parallel layers.\n",
    "However, it is recommended to flatten the model before analyzing it.\n",
    "\n",
    "LRP is implemented by first running a forward pass through the model,\n",
    "keeping track of the intermediate activations, followed by a backward pass\n",
    "that computes the relevances.\n",
    "\n",
    "To keep the LRP implementation simple and maintainable,\n",
    "ExplainableAI.jl does not pre-compute \"nested\" activations.\n",
    "Instead, for every internal chain, a new forward pass is run to compute activations.\n",
    "\n",
    "By \"flattening\" a model, this overhead can be avoided.\n",
    "For this purpose, ExplainableAI.jl provides the function `flatten_model`:"
   ],
   "metadata": {}
  },
  {
   "outputs": [
    {
     "output_type": "execute_result",
     "data": {
      "text/plain": "Chain(\n  Conv((3, 3), 3 => 8, relu, pad=1),    \u001b[90m# 224 parameters\u001b[39m\n  Conv((3, 3), 8 => 8, relu, pad=1),    \u001b[90m# 584 parameters\u001b[39m\n  MaxPool((2, 2)),\n  Conv((3, 3), 8 => 16, pad=1),         \u001b[90m# 1_168 parameters\u001b[39m\n  BatchNorm(16, relu),                  \u001b[90m# 32 parameters\u001b[39m\u001b[90m, plus 32\u001b[39m\n  Conv((3, 3), 16 => 8, relu, pad=1),   \u001b[90m# 1_160 parameters\u001b[39m\n  BatchNorm(8, relu),                   \u001b[90m# 16 parameters\u001b[39m\u001b[90m, plus 16\u001b[39m\n  Flux.flatten,\n  Dense(2048 => 512, relu),             \u001b[90m# 1_049_088 parameters\u001b[39m\n  Dropout(0.5),\n  Dense(512 => 100),                    \u001b[90m# 51_300 parameters\u001b[39m\n) \u001b[90m        # Total: 16 trainable arrays, \u001b[39m1_103_572 parameters,\n\u001b[90m          # plus 4 non-trainable, 48 parameters, summarysize \u001b[39m4.212 MiB."
     },
     "metadata": {},
     "execution_count": 4
    }
   ],
   "cell_type": "code",
   "source": [
    "model_flat = flatten_model(model)"
   ],
   "metadata": {},
   "execution_count": 4
  },
  {
   "cell_type": "markdown",
   "source": [
    "This function is called by default when creating an LRP analyzer.\n",
    "Note that we pass the unflattened model to the analyzer, but `analyzer.model` is flattened:"
   ],
   "metadata": {}
  },
  {
   "outputs": [
    {
     "output_type": "execute_result",
     "data": {
      "text/plain": "Chain(\n  Conv((3, 3), 3 => 8, relu, pad=1),    \u001b[90m# 224 parameters\u001b[39m\n  Conv((3, 3), 8 => 8, relu, pad=1),    \u001b[90m# 584 parameters\u001b[39m\n  MaxPool((2, 2)),\n  Conv((3, 3), 8 => 16, pad=1),         \u001b[90m# 1_168 parameters\u001b[39m\n  BatchNorm(16, relu),                  \u001b[90m# 32 parameters\u001b[39m\u001b[90m, plus 32\u001b[39m\n  Conv((3, 3), 16 => 8, relu, pad=1),   \u001b[90m# 1_160 parameters\u001b[39m\n  BatchNorm(8, relu),                   \u001b[90m# 16 parameters\u001b[39m\u001b[90m, plus 16\u001b[39m\n  Flux.flatten,\n  Dense(2048 => 512, relu),             \u001b[90m# 1_049_088 parameters\u001b[39m\n  Dropout(0.5),\n  Dense(512 => 100),                    \u001b[90m# 51_300 parameters\u001b[39m\n) \u001b[90m        # Total: 16 trainable arrays, \u001b[39m1_103_572 parameters,\n\u001b[90m          # plus 4 non-trainable, 48 parameters, summarysize \u001b[39m4.212 MiB."
     },
     "metadata": {},
     "execution_count": 5
    }
   ],
   "cell_type": "code",
   "source": [
    "analyzer = LRP(model)\n",
    "analyzer.model"
   ],
   "metadata": {},
   "execution_count": 5
  },
  {
   "cell_type": "markdown",
   "source": [
    "If this flattening is not desired, it can be disabled\n",
    "by passing the keyword argument `flatten=false` to the `LRP` constructor."
   ],
   "metadata": {}
  },
  {
   "cell_type": "markdown",
   "source": [
    "## LRP rules\n",
    "By default, the `LRP` constructor will assign the `ZeroRule` to all layers."
   ],
   "metadata": {}
  },
  {
   "outputs": [
    {
     "output_type": "execute_result",
     "data": {
      "text/plain": "LRP(\n  Conv((3, 3), 3 => 8, relu, pad=1) \u001b[90m => \u001b[39m\u001b[33mZeroRule()\u001b[39m,\n  Conv((3, 3), 8 => 8, relu, pad=1) \u001b[90m => \u001b[39m\u001b[33mZeroRule()\u001b[39m,\n  MaxPool((2, 2))                   \u001b[90m => \u001b[39m\u001b[33mZeroRule()\u001b[39m,\n  Conv((3, 3), 8 => 16, pad=1)      \u001b[90m => \u001b[39m\u001b[33mZeroRule()\u001b[39m,\n  BatchNorm(16, relu)               \u001b[90m => \u001b[39m\u001b[33mZeroRule()\u001b[39m,\n  Conv((3, 3), 16 => 8, relu, pad=1)\u001b[90m => \u001b[39m\u001b[33mZeroRule()\u001b[39m,\n  BatchNorm(8, relu)                \u001b[90m => \u001b[39m\u001b[33mZeroRule()\u001b[39m,\n  Flux.flatten                      \u001b[90m => \u001b[39m\u001b[33mZeroRule()\u001b[39m,\n  Dense(2048 => 512, relu)          \u001b[90m => \u001b[39m\u001b[33mZeroRule()\u001b[39m,\n  Dropout(0.5)                      \u001b[90m => \u001b[39m\u001b[33mZeroRule()\u001b[39m,\n  Dense(512 => 100)                 \u001b[90m => \u001b[39m\u001b[33mZeroRule()\u001b[39m,\n)"
     },
     "metadata": {},
     "execution_count": 6
    }
   ],
   "cell_type": "code",
   "source": [
    "LRP(model)"
   ],
   "metadata": {},
   "execution_count": 6
  },
  {
   "cell_type": "markdown",
   "source": [
    "This analyzer will return heatmaps that look identical to `InputTimesGradient`."
   ],
   "metadata": {}
  },
  {
   "cell_type": "markdown",
   "source": [
    "LRP's strength lies in assigning different rules to different layers,\n",
    "based on their functionality in the neural network[^1].\n",
    "ExplainableAI.jl implements many LRP rules out of the box,\n",
    "but it is also possible to *implement custom rules*.\n",
    "\n",
    "To assign different rules to different layers,\n",
    "use one of the composites presets,\n",
    "or create your own composite, as described in\n",
    "*Assigning rules to layers*."
   ],
   "metadata": {}
  },
  {
   "outputs": [
    {
     "output_type": "execute_result",
     "data": {
      "text/plain": "Composite(\n  GlobalTypeMap(  \u001b[90m# all layers\u001b[39m\n\u001b[94m    Flux.Conv              \u001b[39m => \u001b[33mZPlusRule()\u001b[39m,\n\u001b[94m    Flux.ConvTranspose     \u001b[39m => \u001b[33mZPlusRule()\u001b[39m,\n\u001b[94m    Flux.CrossCor          \u001b[39m => \u001b[33mZPlusRule()\u001b[39m,\n\u001b[94m    Flux.Dense             \u001b[39m => \u001b[33mEpsilonRule{Float32}(1.0f-6)\u001b[39m,\n\u001b[94m    typeof(NNlib.dropout)  \u001b[39m => \u001b[33mPassRule()\u001b[39m,\n\u001b[94m    Flux.AlphaDropout      \u001b[39m => \u001b[33mPassRule()\u001b[39m,\n\u001b[94m    Flux.Dropout           \u001b[39m => \u001b[33mPassRule()\u001b[39m,\n\u001b[94m    Flux.BatchNorm         \u001b[39m => \u001b[33mPassRule()\u001b[39m,\n\u001b[94m    typeof(Flux.flatten)   \u001b[39m => \u001b[33mPassRule()\u001b[39m,\n\u001b[94m    typeof(MLUtils.flatten)\u001b[39m => \u001b[33mPassRule()\u001b[39m,\n\u001b[94m    typeof(identity)       \u001b[39m => \u001b[33mPassRule()\u001b[39m,\n ),\n  FirstLayerTypeMap(  \u001b[90m# first layer\u001b[39m\n\u001b[94m    Flux.Conv         \u001b[39m => \u001b[33mFlatRule()\u001b[39m,\n\u001b[94m    Flux.ConvTranspose\u001b[39m => \u001b[33mFlatRule()\u001b[39m,\n\u001b[94m    Flux.CrossCor     \u001b[39m => \u001b[33mFlatRule()\u001b[39m,\n ),\n)"
     },
     "metadata": {},
     "execution_count": 7
    }
   ],
   "cell_type": "code",
   "source": [
    "composite = EpsilonPlusFlat() # using composite preset EpsilonPlusFlat"
   ],
   "metadata": {},
   "execution_count": 7
  },
  {
   "outputs": [
    {
     "output_type": "execute_result",
     "data": {
      "text/plain": "LRP(\n  Conv((3, 3), 3 => 8, relu, pad=1) \u001b[90m => \u001b[39m\u001b[33mFlatRule()\u001b[39m,\n  Conv((3, 3), 8 => 8, relu, pad=1) \u001b[90m => \u001b[39m\u001b[33mZPlusRule()\u001b[39m,\n  MaxPool((2, 2))                   \u001b[90m => \u001b[39m\u001b[33mZeroRule()\u001b[39m,\n  Conv((3, 3), 8 => 16, pad=1)      \u001b[90m => \u001b[39m\u001b[33mZPlusRule()\u001b[39m,\n  BatchNorm(16, relu)               \u001b[90m => \u001b[39m\u001b[33mPassRule()\u001b[39m,\n  Conv((3, 3), 16 => 8, relu, pad=1)\u001b[90m => \u001b[39m\u001b[33mZPlusRule()\u001b[39m,\n  BatchNorm(8, relu)                \u001b[90m => \u001b[39m\u001b[33mPassRule()\u001b[39m,\n  Flux.flatten                      \u001b[90m => \u001b[39m\u001b[33mPassRule()\u001b[39m,\n  Dense(2048 => 512, relu)          \u001b[90m => \u001b[39m\u001b[33mEpsilonRule{Float32}(1.0f-6)\u001b[39m,\n  Dropout(0.5)                      \u001b[90m => \u001b[39m\u001b[33mPassRule()\u001b[39m,\n  Dense(512 => 100)                 \u001b[90m => \u001b[39m\u001b[33mEpsilonRule{Float32}(1.0f-6)\u001b[39m,\n)"
     },
     "metadata": {},
     "execution_count": 8
    }
   ],
   "cell_type": "code",
   "source": [
    "LRP(model, composite)"
   ],
   "metadata": {},
   "execution_count": 8
  },
  {
   "cell_type": "markdown",
   "source": [
    "## Computing layerwise relevances\n",
    "If you are interested in computing layerwise relevances,\n",
    "call `analyze` with an LRP analyzer and the keyword argument\n",
    "`layerwise_relevances=true`.\n",
    "\n",
    "The layerwise relevances can be accessed in the `extras` field\n",
    "of the returned `Explanation`:"
   ],
   "metadata": {}
  },
  {
   "outputs": [
    {
     "output_type": "execute_result",
     "data": {
      "text/plain": "([-1.5108055 -0.0011360497 … -0.13678823 -0.28877887; -0.070540175 0.1307053 … -0.76978105 0.020285012; … ; -0.28939825 0.5142641 … 4.0578775 -0.05839123; 0.20465228 0.056702502 … -0.49647585 0.15755801;;; 0.24838164 -0.9338883 … -0.026547944 0.009396941; -0.049878612 0.088871315 … -0.06329437 0.00555995; … ; 0.6432404 -0.043499786 … 1.508984 0.4772896; -0.2543408 -0.0027311384 … -0.06149668 0.17006895;;; -0.21601804 -0.1614434 … -0.121411785 -0.028280752; -0.21512468 0.2225587 … -0.18992071 0.107955195; … ; 0.26614335 -0.15129308 … -1.1937742 1.1171997; -0.09322592 0.029815592 … -0.22521889 4.2928276;;;;], [0.117547564 -0.0 … 0.0 0.0; -0.0 -0.0 … -0.0 -0.0; … ; 0.0 0.0 … 0.0 0.0; 0.0 -0.0 … -0.0 2.5220616;;; -1.4617101 0.4092903 … -0.03752051 0.10423169; 0.07905223 -1.1449046 … -0.3740113 -0.0; … ; 0.09847691 1.0924529 … 5.130733 0.21640329; 0.036415547 -0.43568113 … -0.0 0.0;;; -0.13902906 0.1621914 … -0.059286326 0.0; -0.0053487876 -0.0 … 0.0 -0.0; … ; -0.044301037 0.008564947 … -0.0 -0.0; 0.0 0.0 … -0.0 0.0;;; -0.0 -0.0 … -0.0 0.0; -0.0 0.0 … -0.0 0.0; … ; -0.00023764977 -0.0 … 0.0 0.0; -0.008509825 0.0 … -0.0 -0.0;;; -0.6460116 -0.5411705 … -0.0768019 -0.2915378; 0.0 -0.0 … -0.0 -0.0; … ; 0.0099400645 -0.0 … 0.5134548 0.0; -0.0014018916 -0.0 … -0.0 0.037421983;;; -0.0 -0.0 … -0.018889625 0.03389614; 0.0 -0.0 … 0.0 -0.0; … ; 0.0 -0.0 … -0.0 1.7424285; -0.0 -0.0 … -0.0 -0.0;;; -0.045276545 0.0 … 0.0 -0.0; 0.41892213 -0.26192638 … -0.0 -0.0; … ; 0.057121325 0.029102108 … -0.0 0.0; -0.05420061 -0.05802642 … 0.0 0.0;;; 0.1257027 -0.13982107 … 0.024163917 -0.0067236535; -0.8101877 0.019946229 … 0.06154861 0.025930172; … ; -0.0 0.18055847 … 0.311177 -1.1451088; 0.00015564448 0.2143205 … 3.7375553 0.02756037;;;;], [0.0 0.0 … 0.0 0.0; -0.7955409 0.0 … 0.081508905 0.0; … ; 0.4364349 0.0 … 5.405604 0.0; 0.0 0.0 … 0.0 0.0;;; 0.0 0.0 … 0.0 0.0; 0.93441576 0.0 … 0.0 0.0; … ; 0.021253297 0.0 … 0.0 0.0; 0.0 0.0 … 0.0 0.0;;; 0.0 0.0 … 0.0 0.0; 0.0 -0.47166342 … 0.0 -0.14117052; … ; 0.0 0.0 … 0.0 0.0; 0.0 0.0 … 1.0504448 0.0;;; -0.77365065 0.0 … -0.1720173 0.0; 0.0 0.0 … 0.0 0.0; … ; -0.023635903 0.0 … 4.6056733 0.0; 0.0 0.0 … 0.0 0.0;;; 0.0 0.0 … 0.0 0.0; 0.0 0.0 … 0.0 0.0; … ; 0.0 0.0 … 0.0 0.0; 0.0 0.0 … 0.0 0.0;;; 0.0 0.0 … 0.0 0.0; -0.009435742 0.0 … 0.0 0.093907766; … ; 0.0 0.0 … 0.0 0.0; 0.0 0.0 … 0.0 -0.3490382;;; 0.0 0.0 … 0.0 0.0; -1.7867982 0.0 … 0.0 0.0; … ; -0.5473477 0.0 … 0.0 0.0; 0.0 0.0 … 0.0 0.0;;; 0.0 0.0 … 0.0 0.0; 0.0 -0.31250045 … 0.0 0.09151484; … ; 0.0 0.0 … 0.0 0.0; 0.0 0.0 … 0.0 4.4127975;;;;], [-0.7955409 2.5515192 … -0.07251747 0.081508905; 1.7709343 1.1660147 … -0.3835804 0.22333951; … ; -0.67749465 3.4219258 … -1.8756325 -9.376389; 0.4364349 -1.0460067 … 3.880942 5.405604;;; 0.93441576 -0.0 … -0.0 -0.0; -0.25172374 0.18053639 … -0.0 -0.014375847; … ; 0.14638136 0.0 … 0.7408046 -0.0; 0.021253297 -1.4441047 … 0.23497088 -0.0;;; -0.47166342 -1.7089852 … -0.21259095 -0.14117052; 0.16096927 0.12025725 … -0.080857836 -0.4845953; … ; 0.023442527 -1.3569397 … -2.713787 -0.11773872; 0.0 0.060780358 … -1.7804804 1.0504448;;; -0.77365065 0.3634382 … -0.8816655 -0.1720173; -0.20875943 -0.061480306 … -0.3658071 -0.35696158; … ; -0.01014124 -0.29659706 … 2.4902916 9.642491; -0.023635903 0.0062302346 … -0.28278562 4.6056733;;; 0.0 -0.0 … -0.0 -0.0; -0.0 0.0 … -0.0 -0.0; … ; 0.0 0.0 … 0.0 -0.0; 0.0 0.0 … 0.0 0.0;;; -0.009435742 0.09261829 … 0.008766664 0.093907766; -0.0 0.8913231 … 0.13231318 0.0; … ; 0.09727138 0.7243642 … 2.6608572 -3.681486; -0.0 0.4942985 … 0.20728424 -0.3490382;;; -1.7867982 -0.0 … -0.0 -0.0; -0.8500715 0.0 … -0.0 -0.0; … ; -1.139098 0.0 … -0.21920338 -0.0; -0.5473477 -0.0 … -0.0 -0.0;;; -0.31250045 0.63274336 … 0.07031771 0.09151484; 0.8807652 -1.050668 … -0.10921734 0.12257783; … ; -0.043072782 -2.9334133 … 6.288985 0.032645244; 0.0 0.3129013 … 0.6326928 4.4127975;;;;], [0.0018398424 0.0020471672 … 0.0016504324 0.0017610516; 0.0022416967 -0.0016127031 … -0.0030112735 0.002273278; … ; 0.0018380517 0.0013656729 … 0.0021133698 0.0020671596; 0.0012132915 0.0020871137 … 0.0022439482 0.0034613106;;; -0.028535848 -0.09025907 … -0.0763291 -0.1880367; -0.08989468 5.7459664 … -0.18246736 -0.07237125; … ; -0.20553027 -0.5191622 … -0.13920562 -0.103759244; -0.226581 0.34831002 … -0.19754407 -0.14368983;;; 0.51802194 0.25840297 … 0.08228077 0.09855504; 0.25790095 -0.10483837 … -0.33052853 -0.16669191; … ; 0.38043597 -0.027194414 … -0.686653 0.7342488; 0.2986552 -0.1237634 … -0.12901226 -0.006180481;;; … ;;; -0.5625742 -0.48653424 … -0.5930969 0.006479943; -0.89541346 -0.412556 … -0.23091626 0.1726808; … ; -0.53867537 -0.36814475 … 0.21632537 1.065986; -0.6928124 -0.18507479 … 0.32656863 0.095370725;;; -0.026739974 -0.021886017 … 0.0034420886 0.0061893114; 0.006077791 0.008544976 … 0.008530218 -0.44944188; … ; 0.007338663 0.008184868 … -14.149173 -0.29336232; -0.008188936 0.008151732 … 0.008541795 0.0070795817;;; 0.034054935 0.17393565 … 0.06924311 0.051342838; -0.001805726 0.2758563 … -0.15610439 0.07498714; … ; -0.009698854 0.12320277 … 0.48117286 10.401752; -0.02110641 -0.040720843 … -0.027879434 0.020172263;;;;], [0.0 0.0 … 0.0 0.0; 0.0 0.0 … 0.0 -0.0; … ; 0.0 -0.0 … 0.0 0.0; -0.0 -0.0 … -0.0 0.027724396;;; 0.0019041154 0.012225416 … 0.018497163 -0.028876219; 0.022792868 0.051920705 … 0.059197348 0.02507455; … ; 0.056624547 -0.029915756 … -0.111140855 0.21404819; 0.0349455 0.065864444 … 0.07795023 -0.016615538;;; 0.0 -0.0 … -0.0 -0.0; -0.0 -0.00574794 … 0.024845995 -0.022787647; … ; -0.0 0.00032561042 … -0.17173651 0.6924665; -0.0 -0.012304937 … -0.008286729 -0.000117757925;;; … ;;; 0.012662587 0.026620857 … 0.029935533 0.0; -0.00037286815 0.012584649 … 0.030925963 0.0; … ; 0.033853415 0.035071813 … -0.0 0.0; 0.012014856 0.0070380396 … 0.0 0.0;;; -0.0 -0.0 … -0.004581582 -0.023338696; 7.4712543f-6 -0.018504402 … -0.034956153 -0.1074929; … ; -0.02007114 -0.03660225 … -0.6718976 -0.10643546; -0.0013742598 0.013178338 … 0.051946614 0.022147153;;; 0.0073414305 0.011322439 … 0.020359274 -0.008456866; -0.0 0.022313546 … -0.08963395 0.048164662; … ; -0.0 0.0009220805 … 0.13082543 0.48598295; -0.0 -0.0 … -0.0 -0.0046163113;;;;], [-0.0030770602 0.0015891689 … -0.0 -0.0; -0.0 -0.0 … -0.0 -0.0; … ; -0.0 -0.0 … -0.0 -0.0; -0.0 -0.0 … -0.0 -0.0011407892;;; 0.016013775 0.017300775 … 0.012940193 0.009486905; 0.017076561 0.034688756 … 0.23005724 0.009384392; … ; 0.16158424 -0.029112305 … 0.30071256 0.012333918; 0.0023645132 0.014984171 … 0.00764908 0.0039510797;;; -0.0 -0.0 … -0.0 -0.0; -0.0 -0.0 … -0.0 -0.0; … ; -0.0 -0.0 … -0.0 -0.0; -0.004382169 -0.0 … -0.0 -0.0;;; -0.0 -0.0017874199 … 7.4841504f-5 7.070521f-5; 4.603345f-6 -0.0 … 6.286314f-5 9.1444745f-6; … ; 0.025443096 6.1516976f-6 … -0.0 1.8199418f-5; 4.352607f-5 -0.0 … -0.07008066 -0.01291501;;; -0.0 -0.0038921805 … -0.0 0.001205608; -0.0 -3.2530186f-6 … -0.0 -0.0012240699; … ; -0.0 0.001943548 … 0.009115019 -0.0039626663; -0.0 -0.0 … -0.005777709 -0.0;;; -0.020543225 -0.007958969 … -0.0 -0.0; -0.037606545 0.049503878 … -0.17480189 -0.038389344; … ; -0.05394744 -0.053363603 … -0.16429897 -0.041306786; -0.04066381 -0.045299266 … 0.07313679 -0.06888955;;; -0.0008665979 -0.016018486 … -0.0 -0.001757031; -0.0035002513 -0.0015320559 … -0.0 -0.0017726959; … ; -0.0017185083 -0.0037996396 … -0.0 -0.0018887693; -0.00020527755 -0.0 … -0.0 -0.018523408;;; -0.0 -8.482826f-6 … -0.0 -0.0; -0.0 0.01095462 … -0.0 -0.0; … ; -0.0 -0.0014707166 … -0.0641478 -0.012224031; -0.00020135693 -0.017678741 … -1.684223f-5 -0.018814238;;;;], [-0.00224901 0.0020230003 … 0.0 0.0; -0.0 -0.0 … 0.0 -0.0; … ; -0.0 -0.0 … 0.0 0.0; 0.0 -0.0 … -0.0 -0.0006298815;;; 0.0004524267 -0.007834187 … 0.0013374406 0.005871449; -0.014640238 0.0077393814 … 0.011593135 -0.0030930717; … ; 0.018867532 -0.014631757 … 0.03497667 -0.012189664; 0.0010584296 0.002987857 … -0.00037118068 -0.0033602354;;; -0.0 -0.0 … 0.0 0.0; 0.0 0.0 … -0.0 0.0; … ; 0.0 -0.0 … 0.0 0.0; -0.0013159656 0.0 … 0.0 0.0;;; -0.0 -0.00070160674 … 0.0062570823 0.002307657; 0.0010998336 -0.0 … 0.0027051086 0.0009822472; … ; 0.008738383 -0.001546127 … -0.0 -0.0009587421; 1.8291645f-5 -0.0 … -0.007106204 -0.004251538;;; 0.0 -0.0021503344 … -0.0 0.001196201; 0.0 -5.158198f-5 … -0.0 -0.0006118948; … ; 0.0 0.00095207925 … 0.008313474 -0.00070290174; -0.0 -0.0 … -0.0041363165 0.0;;; -0.0074834325 -0.0028755602 … -0.0 -0.0; 0.0069995266 0.018967282 … -0.02231786 -0.0015413181; … ; -0.010726634 -0.011427337 … -0.022614673 0.014053366; -0.0059221163 -0.009013693 … 0.011277023 0.0024635338;;; 0.0012564223 -0.0011786913 … 0.0 0.0035046912; -0.0021426226 0.0009145284 … -0.0 0.009497848; … ; -0.0030694664 -0.0030523215 … 0.0 -0.0031955878; -1.7786952f-5 0.0 … -0.0 -0.0028333464;;; 0.0 5.2105515f-5 … -0.0 0.0; 0.0 0.006425055 … -0.0 -0.0; … ; -0.0 -9.15018f-5 … -0.002667404 -0.0059887925; -0.0006583429 -0.010370906 … 0.00025126076 -0.009081384;;;;], Float32[-0.00224901; -0.0; … ; -0.0059887925; -0.009081384;;], Float32[-0.0; -0.00016758192; … ; 0.0; 0.00019365028;;], Float32[-0.0; -0.00016758192; … ; 0.0; 0.00019365028;;], Float32[0.0; 0.0; … ; 0.0; 0.0;;])"
     },
     "metadata": {},
     "execution_count": 9
    }
   ],
   "cell_type": "code",
   "source": [
    "input = rand(Float32, 32, 32, 3, 1) # dummy input for our convolutional neural network\n",
    "\n",
    "expl = analyze(input, analyzer; layerwise_relevances=true)\n",
    "expl.extras.layerwise_relevances"
   ],
   "metadata": {},
   "execution_count": 9
  },
  {
   "cell_type": "markdown",
   "source": [
    "Note that the layerwise relevances are only kept for layers in the outermost `Chain` of the model.\n",
    "When using our unflattened model, we only obtain three layerwise relevances,\n",
    "one for each chain in the model and the output relevance:"
   ],
   "metadata": {}
  },
  {
   "outputs": [
    {
     "output_type": "execute_result",
     "data": {
      "text/plain": "([-1.4821105 -0.515178 … -0.27871013 -0.7451554; -0.043139804 -0.1408201 … -1.0953351 0.0993301; … ; -0.1843337 -0.05677742 … 0.41107738 -0.0030385489; 0.13515876 -0.04370863 … -0.64377004 0.0035158957;;; -0.024716977 -1.0118488 … -0.007824894 -0.058495034; -0.07841508 0.5365638 … -0.07207304 0.019502722; … ; 0.8670413 0.20455702 … 0.07451344 -0.018678747; -0.5909329 0.0041862903 … 0.013474094 0.15120855;;; 0.17177331 -0.3085718 … -0.29973164 -0.16229667; -0.094054066 -0.7303023 … -0.5570602 0.64310896; … ; 0.12664676 -0.08244454 … -1.621214 -0.17657945; -0.3637763 -0.08586185 … 0.36734316 0.72586197;;;;], [-0.0020532277 0.0029148017 … 0.0 0.0; -0.0 0.0 … 0.0 -0.0; … ; -0.0 -0.0 … -0.0 0.0; -0.0 -0.0 … -0.0 -0.0008804767;;; 0.00029406694 -0.00510063 … 0.00048736556 0.0027192286; -0.0110887205 0.004920612 … 0.008594413 -0.0015533178; … ; 0.015659893 -0.017037759 … 0.03570926 -0.0067264233; 0.0 0.0020954544 … -0.0007466344 -0.00022757982;;; -0.0 0.0 … 0.0 0.0; 0.0 -0.0 … -0.0 0.0; … ; 0.0 -0.0 … 0.0 0.0; -0.0007484968 0.0 … 0.0 0.0;;; -0.0 0.0013762817 … 0.0046396595 0.003353122; 0.0010082289 -0.0 … 0.0022353015 0.0008037334; … ; 0.007355415 -0.0002610423 … -0.0 -0.00037111822; -7.4182484f-5 -0.0 … -0.007232746 -0.0055934177;;; 0.0 -0.0024471087 … -0.0 0.00053567416; 0.0 -2.4849613f-5 … -0.0 -0.0001982069; … ; 0.0 0.0 … 0.0075253793 -0.0012785961; -0.0 -0.0 … -0.0031393843 0.0;;; -0.006320429 -0.0011535587 … -0.0 -0.0; 0.007037386 0.013851182 … -0.016006038 -0.0032318172; … ; -0.009194538 -0.012204717 … -0.02123155 0.012131883; -0.0049391007 -0.0066024405 … 0.010576149 -0.000255596;;; 0.00022903849 -0.00069174665 … -0.0 0.0020861158; -0.0014709539 0.00013260116 … -0.0 0.005321221; … ; -0.00165573 -0.0015214816 … 0.0 -0.0020421755; -0.0 0.0 … -0.0 0.0020268077;;; 0.0 0.0003955308 … -0.0 0.0; 0.0 0.0068042823 … -0.0 -0.0; … ; -0.0 0.00011474665 … -0.0016027433 -0.005762135; -0.0006421748 -0.010534732 … 0.0 -0.008765416;;;;], Float32[0.0; 0.0; … ; 0.0; 0.0;;])"
     },
     "metadata": {},
     "execution_count": 10
    }
   ],
   "cell_type": "code",
   "source": [
    "analyzer = LRP(model; flatten=false) # use unflattened model\n",
    "\n",
    "expl = analyze(input, analyzer; layerwise_relevances=true)\n",
    "expl.extras.layerwise_relevances"
   ],
   "metadata": {},
   "execution_count": 10
  },
  {
   "cell_type": "markdown",
   "source": [
    "## Performance tips\n",
    "### Using LRP with a GPU\n",
    "Like all other analyzers, LRP can be used on GPUs.\n",
    "Follow the instructions on *GPU support*.\n",
    "\n",
    "### Using LRP without a GPU\n",
    "Using Julia's package extension mechanism,\n",
    "ExplainableAI.jl's LRP implementation can optionally make use of\n",
    "[Tullio.jl](https://github.com/mcabbott/Tullio.jl) and\n",
    "[LoopVectorization.jl](https://github.com/JuliaSIMD/LoopVectorization.jl)\n",
    "for faster LRP rules on dense layers.\n",
    "\n",
    "This only requires loading the packages before loading ExplainableAI.jl:\n",
    "```julia\n",
    "using LoopVectorization, Tullio\n",
    "using ExplainableAI\n",
    "```\n",
    "\n",
    "[^1]: G. Montavon et al., [Layer-Wise Relevance Propagation: An Overview](https://link.springer.com/chapter/10.1007/978-3-030-28954-6_10)"
   ],
   "metadata": {}
  },
  {
   "cell_type": "markdown",
   "source": [
    "---\n",
    "\n",
    "*This notebook was generated using [Literate.jl](https://github.com/fredrikekre/Literate.jl).*"
   ],
   "metadata": {}
  }
 ],
 "nbformat_minor": 3,
 "metadata": {
  "language_info": {
   "file_extension": ".jl",
   "mimetype": "application/julia",
   "name": "julia",
   "version": "1.9.3"
  },
  "kernelspec": {
   "name": "julia-1.9",
   "display_name": "Julia 1.9.3",
   "language": "julia"
  }
 },
 "nbformat": 4
}
