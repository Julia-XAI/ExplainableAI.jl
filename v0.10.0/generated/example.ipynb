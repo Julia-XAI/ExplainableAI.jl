{
 "cells": [
  {
   "cell_type": "markdown",
   "source": [
    "# Getting started"
   ],
   "metadata": {}
  },
  {
   "cell_type": "markdown",
   "source": [
    "For this first example, we already have loaded a pre-trained LeNet5 model\n",
    "to look at explanations on the MNIST dataset."
   ],
   "metadata": {}
  },
  {
   "outputs": [
    {
     "output_type": "execute_result",
     "data": {
      "text/plain": "Chain(\n  Conv((5, 5), 1 => 6, relu),           \u001b[90m# 156 parameters\u001b[39m\n  MaxPool((2, 2)),\n  Conv((5, 5), 6 => 16, relu),          \u001b[90m# 2_416 parameters\u001b[39m\n  MaxPool((2, 2)),\n  Flux.flatten,\n  Dense(256 => 120, relu),              \u001b[90m# 30_840 parameters\u001b[39m\n  Dense(120 => 84, relu),               \u001b[90m# 10_164 parameters\u001b[39m\n  Dense(84 => 10),                      \u001b[90m# 850 parameters\u001b[39m\n) \u001b[90m                  # Total: 10 arrays, \u001b[39m44_426 parameters, 174.344 KiB."
     },
     "metadata": {},
     "execution_count": 1
    }
   ],
   "cell_type": "code",
   "source": [
    "using Flux\n",
    "\n",
    "using BSON # hide\n",
    "model = BSON.load(\"../model.bson\", @__MODULE__)[:model] # hide\n",
    "model"
   ],
   "metadata": {},
   "execution_count": 1
  },
  {
   "cell_type": "markdown",
   "source": [
    "## Preparing the input data\n",
    "We use MLDatasets to load a single image from the MNIST dataset:"
   ],
   "metadata": {}
  },
  {
   "outputs": [
    {
     "output_type": "execute_result",
     "data": {
      "text/plain": "28×28 reinterpret(reshape, ColorTypes.Gray{Float32}, ::Matrix{Float32}) with eltype ColorTypes.Gray{Float32}:\n 0.0  0.0  0.0  0.0  0.0  0.0  0.0  …  0.0        0.0  0.0  0.0  0.0  0.0\n 0.0  0.0  0.0  0.0  0.0  0.0  0.0     0.0        0.0  0.0  0.0  0.0  0.0\n 0.0  0.0  0.0  0.0  0.0  0.0  0.0     0.0        0.0  0.0  0.0  0.0  0.0\n 0.0  0.0  0.0  0.0  0.0  0.0  0.0     0.0        0.0  0.0  0.0  0.0  0.0\n 0.0  0.0  0.0  0.0  0.0  0.0  0.0     0.0        0.0  0.0  0.0  0.0  0.0\n 0.0  0.0  0.0  0.0  0.0  0.0  0.0  …  0.0        0.0  0.0  0.0  0.0  0.0\n 0.0  0.0  0.0  0.0  0.0  0.0  0.0     0.0        0.0  0.0  0.0  0.0  0.0\n 0.0  0.0  0.0  0.0  0.0  0.0  0.0     0.0        0.0  0.0  0.0  0.0  0.0\n 0.0  0.0  0.0  0.0  0.0  0.0  0.0     0.0235294  0.0  0.0  0.0  0.0  0.0\n 0.0  0.0  0.0  0.0  0.0  0.0  0.0     0.407843   0.0  0.0  0.0  0.0  0.0\n ⋮                        ⋮         ⋱                       ⋮         \n 0.0  0.0  0.0  0.0  0.0  0.0  0.0     0.0        0.0  0.0  0.0  0.0  0.0\n 0.0  0.0  0.0  0.0  0.0  0.0  0.0  …  0.0        0.0  0.0  0.0  0.0  0.0\n 0.0  0.0  0.0  0.0  0.0  0.0  0.0     0.0        0.0  0.0  0.0  0.0  0.0\n 0.0  0.0  0.0  0.0  0.0  0.0  0.0     0.0        0.0  0.0  0.0  0.0  0.0\n 0.0  0.0  0.0  0.0  0.0  0.0  0.0     0.0        0.0  0.0  0.0  0.0  0.0\n 0.0  0.0  0.0  0.0  0.0  0.0  0.0     0.0        0.0  0.0  0.0  0.0  0.0\n 0.0  0.0  0.0  0.0  0.0  0.0  0.0  …  0.0        0.0  0.0  0.0  0.0  0.0\n 0.0  0.0  0.0  0.0  0.0  0.0  0.0     0.0        0.0  0.0  0.0  0.0  0.0\n 0.0  0.0  0.0  0.0  0.0  0.0  0.0     0.0        0.0  0.0  0.0  0.0  0.0",
      "image/png": "[encoded data removed]",
      "text/html": [
       "<img src=\"data:image/png;base64,iVBORw0KGgoAAAANSUhEUgAAAHAAAABwCAAAAADji6uXAAAAAXNSR0IArs4c6QAAAARnQU1BAACxjwv8YQUAAAAgY0hSTQAAeiYAAICEAAD6AAAAgOgAAHUwAADqYAAAOpgAABdwnLpRPAAAAjhJREFUaAW9wb2L1gUAB/DPcd+oQaPswCGqpSGHXqYTapGgJSg4CeoPcEiECqFDpCGwTdIQImuIsGiTtmjJgl6GoKEiIhqCoMQsOOhFy85r+A3H8fTo73mM7+cTZVEWZVEWZVEWZVEWZVEWZVEWZVEWZVEWZVEWZVEWZVEWZVEWZVEWZVEWc7gTS1jBHlzGSXyK71xZlEVZlMUM7sYB7MWSrXbjH3yLj/E0/jYpyqIsymKEe3AAj+NGgx/xEb7HKj7HMnbgYXyBkyZFWZRFWVzFq1jBksH7+AqHcdHgfuzH67gP5/AyTuO8raIsyqIsprgBq9iHBZzHKziKP2x1CxbxPN7DHaaLsiiLsphiD57FAn7CXnxmq0XchlN4FzcbLOBNrJkUZVEWZTHFItYNLmE3HsNdBhewC7vwC3badA4v4JJJURZlURZTnMEHeAi34wQ2DNaxaNNOg8t4B0/hrP8WZVEWZTHFBazgJhzCA/gVP+B63ItlW72Gw1gzXZRFWZTFVazhkEmnsGzwGw7iDay7siiLsiiLOaziCZv2423jRFmURVnMaB+eQwy+xmnjRVmURVnMYBkvYpvB73gSfxkvyqIsymIGj2C7wZ94FJ+YTZRFWZTFSNuxatNb+NDsoizKoixG2IZvcJ3Bl3jGfKIsyqIsRngQt2LD4CAumk+URVmUxQhHsGFwFGfML8qiLMpihB1YwM94ybWJsiiLshjhGI7hCM66NlEWZVEWIxzHcf+PKIuyKPsXNwdYfgiRxs8AAAAASUVORK5C\">"
      ]
     },
     "metadata": {},
     "execution_count": 2
    }
   ],
   "cell_type": "code",
   "source": [
    "using MLDatasets\n",
    "using ImageCore, ImageIO, ImageShow\n",
    "\n",
    "index = 10\n",
    "x, y = MNIST(Float32, :test)[10]\n",
    "\n",
    "convert2image(MNIST, x)"
   ],
   "metadata": {},
   "execution_count": 2
  },
  {
   "cell_type": "markdown",
   "source": [
    "By convention in Flux.jl, this input needs to be resized to WHCN format\n",
    "by adding a color channel and batch dimensions."
   ],
   "metadata": {}
  },
  {
   "outputs": [],
   "cell_type": "code",
   "source": [
    "input = reshape(x, 28, 28, 1, :);"
   ],
   "metadata": {},
   "execution_count": 3
  },
  {
   "cell_type": "markdown",
   "source": [
    "## Explanations\n",
    "We can now select an analyzer of our choice and call `analyze` to get an `Explanation`.\n",
    "Note that for gradient-based optimizers, a backend for automatic differentiation must be loaded, by default [Zygote.jl](https://github.com/FluxML/Zygote.jl):"
   ],
   "metadata": {}
  },
  {
   "outputs": [],
   "cell_type": "code",
   "source": [
    "using ExplainableAI\n",
    "using Zygote\n",
    "\n",
    "analyzer = InputTimesGradient(model)\n",
    "expl = analyze(input, analyzer);"
   ],
   "metadata": {},
   "execution_count": 4
  },
  {
   "cell_type": "markdown",
   "source": [
    "The return value `expl` is of type `Explanation` and bundles the following data:\n",
    "* `expl.val`: numerical output of the analyzer, e.g. an attribution or gradient\n",
    "* `expl.output`: model output for the given analyzer input\n",
    "* `expl.output_selection`: index of the output used for the explanation\n",
    "* `expl.analyzer`: symbol corresponding the used analyzer, e.g. `:Gradient` or `:LRP`\n",
    "* `expl.heatmap`: symbol indicating a preset heatmapping style,\n",
    "    e.g. `:attibution`, `:sensitivity` or `:cam`\n",
    "* `expl.extras`: optional named tuple that can be used by analyzers\n",
    "    to return additional information.\n",
    "\n",
    "We used `InputTimesGradient`, so `expl.analyzer` is `:InputTimesGradient`."
   ],
   "metadata": {}
  },
  {
   "outputs": [
    {
     "output_type": "execute_result",
     "data": {
      "text/plain": ":InputTimesGradient"
     },
     "metadata": {},
     "execution_count": 5
    }
   ],
   "cell_type": "code",
   "source": [
    "expl.analyzer"
   ],
   "metadata": {},
   "execution_count": 5
  },
  {
   "cell_type": "markdown",
   "source": [
    "By default, the explanation is computed for the maximally activated output neuron.\n",
    "Since our digit is a 9 and Julia's indexing is 1-based,\n",
    "the output neuron at index `10` of our trained model is maximally activated."
   ],
   "metadata": {}
  },
  {
   "cell_type": "markdown",
   "source": [
    "Finally, we obtain the result of the analyzer in form of an array."
   ],
   "metadata": {}
  },
  {
   "outputs": [
    {
     "output_type": "execute_result",
     "data": {
      "text/plain": "28×28×1×1 Array{Float32, 4}:\n[:, :, 1, 1] =\n -0.0   0.0   0.0  -0.0  -0.0  -0.0  -0.0  …  -0.0       0.0         0.0\n -0.0   0.0   0.0  -0.0  -0.0  -0.0  -0.0     -0.0       0.0         0.0\n -0.0   0.0   0.0  -0.0  -0.0  -0.0  -0.0     -0.0       0.0         0.0\n  0.0   0.0   0.0  -0.0  -0.0  -0.0  -0.0      0.0       0.0         0.0\n  0.0   0.0  -0.0  -0.0  -0.0   0.0   0.0      0.0       0.0         0.0\n -0.0   0.0   0.0  -0.0   0.0  -0.0  -0.0  …   0.0       0.0         0.0\n -0.0   0.0   0.0   0.0   0.0   0.0   0.0      0.0       0.0         0.0\n -0.0   0.0   0.0   0.0  -0.0   0.0  -0.0      0.0       0.0        -0.0\n -0.0   0.0   0.0   0.0  -0.0  -0.0  -0.0      0.0       0.0        -0.0\n -0.0   0.0   0.0   0.0  -0.0   0.0  -0.0      0.385115  0.0714216   0.0\n  ⋮                             ⋮          ⋱   ⋮                    \n  0.0  -0.0  -0.0   0.0   0.0   0.0  -0.0     -0.0       0.0         0.0\n -0.0  -0.0   0.0   0.0   0.0   0.0  -0.0  …  -0.0       0.0         0.0\n -0.0   0.0   0.0   0.0   0.0   0.0  -0.0      0.0       0.0         0.0\n -0.0   0.0   0.0   0.0  -0.0   0.0  -0.0      0.0       0.0         0.0\n -0.0   0.0   0.0  -0.0  -0.0   0.0  -0.0      0.0       0.0         0.0\n  0.0   0.0  -0.0  -0.0  -0.0   0.0  -0.0      0.0       0.0         0.0\n  0.0   0.0   0.0  -0.0  -0.0   0.0   0.0  …   0.0       0.0         0.0\n  0.0   0.0  -0.0  -0.0   0.0   0.0   0.0      0.0       0.0         0.0\n  0.0   0.0   0.0   0.0   0.0   0.0  -0.0      0.0       0.0         0.0"
     },
     "metadata": {},
     "execution_count": 6
    }
   ],
   "cell_type": "code",
   "source": [
    "expl.val"
   ],
   "metadata": {},
   "execution_count": 6
  },
  {
   "cell_type": "markdown",
   "source": [
    "## Heatmapping basics\n",
    "Since the array `expl.val` is not very informative at first sight,\n",
    "we can visualize `Explanation`s by computing a `heatmap` using either\n",
    "[VisionHeatmaps.jl](https://julia-xai.github.io/XAIDocs/VisionHeatmaps/stable/) or\n",
    "[TextHeatmaps.jl](https://julia-xai.github.io/XAIDocs/TextHeatmaps/stable/)."
   ],
   "metadata": {}
  },
  {
   "outputs": [
    {
     "output_type": "execute_result",
     "data": {
      "text/plain": "1-element Vector{Array{ColorTypes.RGB{Float64}, 3}}:\n [RGB(0.0963, 0.0479, 0.037250000000000005) RGB(0.0963, 0.0479, 0.037250000000000005) … RGB(0.0963, 0.0479, 0.037250000000000005) RGB(0.0963, 0.0479, 0.037250000000000005); RGB(0.0963, 0.0479, 0.037250000000000005) RGB(0.0963, 0.0479, 0.037250000000000005) … RGB(0.0963, 0.0479, 0.037250000000000005) RGB(0.0963, 0.0479, 0.037250000000000005); … ; RGB(0.0963, 0.0479, 0.037250000000000005) RGB(0.0963, 0.0479, 0.037250000000000005) … RGB(0.0963, 0.0479, 0.037250000000000005) RGB(0.0963, 0.0479, 0.037250000000000005); RGB(0.0963, 0.0479, 0.037250000000000005) RGB(0.0963, 0.0479, 0.037250000000000005) … RGB(0.0963, 0.0479, 0.037250000000000005) RGB(0.0963, 0.0479, 0.037250000000000005);;;]"
     },
     "metadata": {},
     "execution_count": 7
    }
   ],
   "cell_type": "code",
   "source": [
    "using VisionHeatmaps\n",
    "\n",
    "heatmap(expl)"
   ],
   "metadata": {},
   "execution_count": 7
  },
  {
   "cell_type": "markdown",
   "source": [
    "If we are only interested in the heatmap, we can combine analysis and heatmapping\n",
    "into a single function call:"
   ],
   "metadata": {}
  },
  {
   "outputs": [
    {
     "output_type": "execute_result",
     "data": {
      "text/plain": "1-element Vector{Array{ColorTypes.RGB{Float64}, 3}}:\n [RGB(0.0963, 0.0479, 0.037250000000000005) RGB(0.0963, 0.0479, 0.037250000000000005) … RGB(0.0963, 0.0479, 0.037250000000000005) RGB(0.0963, 0.0479, 0.037250000000000005); RGB(0.0963, 0.0479, 0.037250000000000005) RGB(0.0963, 0.0479, 0.037250000000000005) … RGB(0.0963, 0.0479, 0.037250000000000005) RGB(0.0963, 0.0479, 0.037250000000000005); … ; RGB(0.0963, 0.0479, 0.037250000000000005) RGB(0.0963, 0.0479, 0.037250000000000005) … RGB(0.0963, 0.0479, 0.037250000000000005) RGB(0.0963, 0.0479, 0.037250000000000005); RGB(0.0963, 0.0479, 0.037250000000000005) RGB(0.0963, 0.0479, 0.037250000000000005) … RGB(0.0963, 0.0479, 0.037250000000000005) RGB(0.0963, 0.0479, 0.037250000000000005);;;]"
     },
     "metadata": {},
     "execution_count": 8
    }
   ],
   "cell_type": "code",
   "source": [
    "heatmap(input, analyzer)"
   ],
   "metadata": {},
   "execution_count": 8
  },
  {
   "cell_type": "markdown",
   "source": [
    "## Neuron selection\n",
    "By passing an additional index to our call to `analyze`,\n",
    "we can compute an explanation with respect to a specific output neuron.\n",
    "Let's see why the output wasn't interpreted as a 4 (output neuron at index 5)"
   ],
   "metadata": {}
  },
  {
   "outputs": [
    {
     "output_type": "execute_result",
     "data": {
      "text/plain": "1-element Vector{Array{ColorTypes.RGB{Float64}, 3}}:\n [RGB(0.0963, 0.0479, 0.037250000000000005) RGB(0.0963, 0.0479, 0.037250000000000005) … RGB(0.0963, 0.0479, 0.037250000000000005) RGB(0.0963, 0.0479, 0.037250000000000005); RGB(0.0963, 0.0479, 0.037250000000000005) RGB(0.0963, 0.0479, 0.037250000000000005) … RGB(0.0963, 0.0479, 0.037250000000000005) RGB(0.0963, 0.0479, 0.037250000000000005); … ; RGB(0.0963, 0.0479, 0.037250000000000005) RGB(0.0963, 0.0479, 0.037250000000000005) … RGB(0.0963, 0.0479, 0.037250000000000005) RGB(0.0963, 0.0479, 0.037250000000000005); RGB(0.0963, 0.0479, 0.037250000000000005) RGB(0.0963, 0.0479, 0.037250000000000005) … RGB(0.0963, 0.0479, 0.037250000000000005) RGB(0.0963, 0.0479, 0.037250000000000005);;;]"
     },
     "metadata": {},
     "execution_count": 9
    }
   ],
   "cell_type": "code",
   "source": [
    "expl = analyze(input, analyzer, 5)\n",
    "heatmap(expl)"
   ],
   "metadata": {},
   "execution_count": 9
  },
  {
   "cell_type": "markdown",
   "source": [
    "This heatmap shows us that the \"upper loop\" of the hand-drawn 9 has negative relevance\n",
    "with respect to the output neuron corresponding to digit 4!"
   ],
   "metadata": {}
  },
  {
   "cell_type": "markdown",
   "source": [
    "## Analyzing batches\n",
    "ExplainableAI also supports explanations of input batches:"
   ],
   "metadata": {}
  },
  {
   "outputs": [],
   "cell_type": "code",
   "source": [
    "batchsize = 20\n",
    "xs, _ = MNIST(Float32, :test)[1:batchsize]\n",
    "batch = reshape(xs, 28, 28, 1, :) # reshape to WHCN format\n",
    "expl = analyze(batch, analyzer);"
   ],
   "metadata": {},
   "execution_count": 10
  },
  {
   "cell_type": "markdown",
   "source": [
    "This will return a single `Explanation` `expl` for the entire batch.\n",
    "Calling `heatmap` on `expl` will detect the batch dimension and return a vector of heatmaps."
   ],
   "metadata": {}
  },
  {
   "outputs": [
    {
     "output_type": "execute_result",
     "data": {
      "text/plain": "20-element Vector{Array{ColorTypes.RGB{Float64}, 3}}:\n [RGB(0.0963, 0.0479, 0.037250000000000005) RGB(0.0963, 0.0479, 0.037250000000000005) … RGB(0.0963, 0.0479, 0.037250000000000005) RGB(0.0963, 0.0479, 0.037250000000000005); RGB(0.0963, 0.0479, 0.037250000000000005) RGB(0.0963, 0.0479, 0.037250000000000005) … RGB(0.0963, 0.0479, 0.037250000000000005) RGB(0.0963, 0.0479, 0.037250000000000005); … ; RGB(0.0963, 0.0479, 0.037250000000000005) RGB(0.0963, 0.0479, 0.037250000000000005) … RGB(0.0963, 0.0479, 0.037250000000000005) RGB(0.0963, 0.0479, 0.037250000000000005); RGB(0.0963, 0.0479, 0.037250000000000005) RGB(0.0963, 0.0479, 0.037250000000000005) … RGB(0.0963, 0.0479, 0.037250000000000005) RGB(0.0963, 0.0479, 0.037250000000000005);;;]\n [RGB(0.0963, 0.0479, 0.037250000000000005) RGB(0.0963, 0.0479, 0.037250000000000005) … RGB(0.0963, 0.0479, 0.037250000000000005) RGB(0.0963, 0.0479, 0.037250000000000005); RGB(0.0963, 0.0479, 0.037250000000000005) RGB(0.0963, 0.0479, 0.037250000000000005) … RGB(0.0963, 0.0479, 0.037250000000000005) RGB(0.0963, 0.0479, 0.037250000000000005); … ; RGB(0.0963, 0.0479, 0.037250000000000005) RGB(0.0963, 0.0479, 0.037250000000000005) … RGB(0.0963, 0.0479, 0.037250000000000005) RGB(0.0963, 0.0479, 0.037250000000000005); RGB(0.0963, 0.0479, 0.037250000000000005) RGB(0.0963, 0.0479, 0.037250000000000005) … RGB(0.0963, 0.0479, 0.037250000000000005) RGB(0.0963, 0.0479, 0.037250000000000005);;;]\n [RGB(0.0963, 0.0479, 0.037250000000000005) RGB(0.0963, 0.0479, 0.037250000000000005) … RGB(0.0963, 0.0479, 0.037250000000000005) RGB(0.0963, 0.0479, 0.037250000000000005); RGB(0.0963, 0.0479, 0.037250000000000005) RGB(0.0963, 0.0479, 0.037250000000000005) … RGB(0.0963, 0.0479, 0.037250000000000005) RGB(0.0963, 0.0479, 0.037250000000000005); … ; RGB(0.0963, 0.0479, 0.037250000000000005) RGB(0.0963, 0.0479, 0.037250000000000005) … RGB(0.0963, 0.0479, 0.037250000000000005) RGB(0.0963, 0.0479, 0.037250000000000005); RGB(0.0963, 0.0479, 0.037250000000000005) RGB(0.0963, 0.0479, 0.037250000000000005) … RGB(0.0963, 0.0479, 0.037250000000000005) RGB(0.0963, 0.0479, 0.037250000000000005);;;]\n [RGB(0.0963, 0.0479, 0.037250000000000005) RGB(0.0963, 0.0479, 0.037250000000000005) … RGB(0.0963, 0.0479, 0.037250000000000005) RGB(0.0963, 0.0479, 0.037250000000000005); RGB(0.0963, 0.0479, 0.037250000000000005) RGB(0.0963, 0.0479, 0.037250000000000005) … RGB(0.0963, 0.0479, 0.037250000000000005) RGB(0.0963, 0.0479, 0.037250000000000005); … ; RGB(0.0963, 0.0479, 0.037250000000000005) RGB(0.0963, 0.0479, 0.037250000000000005) … RGB(0.0963, 0.0479, 0.037250000000000005) RGB(0.0963, 0.0479, 0.037250000000000005); RGB(0.0963, 0.0479, 0.037250000000000005) RGB(0.0963, 0.0479, 0.037250000000000005) … RGB(0.0963, 0.0479, 0.037250000000000005) RGB(0.0963, 0.0479, 0.037250000000000005);;;]\n [RGB(0.0963, 0.0479, 0.037250000000000005) RGB(0.0963, 0.0479, 0.037250000000000005) … RGB(0.0963, 0.0479, 0.037250000000000005) RGB(0.0963, 0.0479, 0.037250000000000005); RGB(0.0963, 0.0479, 0.037250000000000005) RGB(0.0963, 0.0479, 0.037250000000000005) … RGB(0.0963, 0.0479, 0.037250000000000005) RGB(0.0963, 0.0479, 0.037250000000000005); … ; RGB(0.0963, 0.0479, 0.037250000000000005) RGB(0.0963, 0.0479, 0.037250000000000005) … RGB(0.0963, 0.0479, 0.037250000000000005) RGB(0.0963, 0.0479, 0.037250000000000005); RGB(0.0963, 0.0479, 0.037250000000000005) RGB(0.0963, 0.0479, 0.037250000000000005) … RGB(0.0963, 0.0479, 0.037250000000000005) RGB(0.0963, 0.0479, 0.037250000000000005);;;]\n [RGB(0.0963, 0.0479, 0.037250000000000005) RGB(0.0963, 0.0479, 0.037250000000000005) … RGB(0.0963, 0.0479, 0.037250000000000005) RGB(0.0963, 0.0479, 0.037250000000000005); RGB(0.0963, 0.0479, 0.037250000000000005) RGB(0.0963, 0.0479, 0.037250000000000005) … RGB(0.0963, 0.0479, 0.037250000000000005) RGB(0.0963, 0.0479, 0.037250000000000005); … ; RGB(0.0963, 0.0479, 0.037250000000000005) RGB(0.0963, 0.0479, 0.037250000000000005) … RGB(0.0963, 0.0479, 0.037250000000000005) RGB(0.0963, 0.0479, 0.037250000000000005); RGB(0.0963, 0.0479, 0.037250000000000005) RGB(0.0963, 0.0479, 0.037250000000000005) … RGB(0.0963, 0.0479, 0.037250000000000005) RGB(0.0963, 0.0479, 0.037250000000000005);;;]\n [RGB(0.0963, 0.0479, 0.037250000000000005) RGB(0.0963, 0.0479, 0.037250000000000005) … RGB(0.0963, 0.0479, 0.037250000000000005) RGB(0.0963, 0.0479, 0.037250000000000005); RGB(0.0963, 0.0479, 0.037250000000000005) RGB(0.0963, 0.0479, 0.037250000000000005) … RGB(0.0963, 0.0479, 0.037250000000000005) RGB(0.0963, 0.0479, 0.037250000000000005); … ; RGB(0.0963, 0.0479, 0.037250000000000005) RGB(0.0963, 0.0479, 0.037250000000000005) … RGB(0.0963, 0.0479, 0.037250000000000005) RGB(0.0963, 0.0479, 0.037250000000000005); RGB(0.0963, 0.0479, 0.037250000000000005) RGB(0.0963, 0.0479, 0.037250000000000005) … RGB(0.0963, 0.0479, 0.037250000000000005) RGB(0.0963, 0.0479, 0.037250000000000005);;;]\n [RGB(0.0963, 0.0479, 0.037250000000000005) RGB(0.0963, 0.0479, 0.037250000000000005) … RGB(0.0963, 0.0479, 0.037250000000000005) RGB(0.0963, 0.0479, 0.037250000000000005); RGB(0.0963, 0.0479, 0.037250000000000005) RGB(0.0963, 0.0479, 0.037250000000000005) … RGB(0.0963, 0.0479, 0.037250000000000005) RGB(0.0963, 0.0479, 0.037250000000000005); … ; RGB(0.0963, 0.0479, 0.037250000000000005) RGB(0.0963, 0.0479, 0.037250000000000005) … RGB(0.0963, 0.0479, 0.037250000000000005) RGB(0.0963, 0.0479, 0.037250000000000005); RGB(0.0963, 0.0479, 0.037250000000000005) RGB(0.0963, 0.0479, 0.037250000000000005) … RGB(0.0963, 0.0479, 0.037250000000000005) RGB(0.0963, 0.0479, 0.037250000000000005);;;]\n [RGB(0.0963, 0.0479, 0.037250000000000005) RGB(0.0963, 0.0479, 0.037250000000000005) … RGB(0.0963, 0.0479, 0.037250000000000005) RGB(0.0963, 0.0479, 0.037250000000000005); RGB(0.0963, 0.0479, 0.037250000000000005) RGB(0.0963, 0.0479, 0.037250000000000005) … RGB(0.0963, 0.0479, 0.037250000000000005) RGB(0.0963, 0.0479, 0.037250000000000005); … ; RGB(0.0963, 0.0479, 0.037250000000000005) RGB(0.0963, 0.0479, 0.037250000000000005) … RGB(0.0963, 0.0479, 0.037250000000000005) RGB(0.0963, 0.0479, 0.037250000000000005); RGB(0.0963, 0.0479, 0.037250000000000005) RGB(0.0963, 0.0479, 0.037250000000000005) … RGB(0.0963, 0.0479, 0.037250000000000005) RGB(0.0963, 0.0479, 0.037250000000000005);;;]\n [RGB(0.0963, 0.0479, 0.037250000000000005) RGB(0.0963, 0.0479, 0.037250000000000005) … RGB(0.0963, 0.0479, 0.037250000000000005) RGB(0.0963, 0.0479, 0.037250000000000005); RGB(0.0963, 0.0479, 0.037250000000000005) RGB(0.0963, 0.0479, 0.037250000000000005) … RGB(0.0963, 0.0479, 0.037250000000000005) RGB(0.0963, 0.0479, 0.037250000000000005); … ; RGB(0.0963, 0.0479, 0.037250000000000005) RGB(0.0963, 0.0479, 0.037250000000000005) … RGB(0.0963, 0.0479, 0.037250000000000005) RGB(0.0963, 0.0479, 0.037250000000000005); RGB(0.0963, 0.0479, 0.037250000000000005) RGB(0.0963, 0.0479, 0.037250000000000005) … RGB(0.0963, 0.0479, 0.037250000000000005) RGB(0.0963, 0.0479, 0.037250000000000005);;;]\n [RGB(0.0963, 0.0479, 0.037250000000000005) RGB(0.0963, 0.0479, 0.037250000000000005) … RGB(0.0963, 0.0479, 0.037250000000000005) RGB(0.0963, 0.0479, 0.037250000000000005); RGB(0.0963, 0.0479, 0.037250000000000005) RGB(0.0963, 0.0479, 0.037250000000000005) … RGB(0.0963, 0.0479, 0.037250000000000005) RGB(0.0963, 0.0479, 0.037250000000000005); … ; RGB(0.0963, 0.0479, 0.037250000000000005) RGB(0.0963, 0.0479, 0.037250000000000005) … RGB(0.0963, 0.0479, 0.037250000000000005) RGB(0.0963, 0.0479, 0.037250000000000005); RGB(0.0963, 0.0479, 0.037250000000000005) RGB(0.0963, 0.0479, 0.037250000000000005) … RGB(0.0963, 0.0479, 0.037250000000000005) RGB(0.0963, 0.0479, 0.037250000000000005);;;]\n [RGB(0.0963, 0.0479, 0.037250000000000005) RGB(0.0963, 0.0479, 0.037250000000000005) … RGB(0.0963, 0.0479, 0.037250000000000005) RGB(0.0963, 0.0479, 0.037250000000000005); RGB(0.0963, 0.0479, 0.037250000000000005) RGB(0.0963, 0.0479, 0.037250000000000005) … RGB(0.0963, 0.0479, 0.037250000000000005) RGB(0.0963, 0.0479, 0.037250000000000005); … ; RGB(0.0963, 0.0479, 0.037250000000000005) RGB(0.0963, 0.0479, 0.037250000000000005) … RGB(0.0963, 0.0479, 0.037250000000000005) RGB(0.0963, 0.0479, 0.037250000000000005); RGB(0.0963, 0.0479, 0.037250000000000005) RGB(0.0963, 0.0479, 0.037250000000000005) … RGB(0.0963, 0.0479, 0.037250000000000005) RGB(0.0963, 0.0479, 0.037250000000000005);;;]\n [RGB(0.0963, 0.0479, 0.037250000000000005) RGB(0.0963, 0.0479, 0.037250000000000005) … RGB(0.0963, 0.0479, 0.037250000000000005) RGB(0.0963, 0.0479, 0.037250000000000005); RGB(0.0963, 0.0479, 0.037250000000000005) RGB(0.0963, 0.0479, 0.037250000000000005) … RGB(0.0963, 0.0479, 0.037250000000000005) RGB(0.0963, 0.0479, 0.037250000000000005); … ; RGB(0.0963, 0.0479, 0.037250000000000005) RGB(0.0963, 0.0479, 0.037250000000000005) … RGB(0.0963, 0.0479, 0.037250000000000005) RGB(0.0963, 0.0479, 0.037250000000000005); RGB(0.0963, 0.0479, 0.037250000000000005) RGB(0.0963, 0.0479, 0.037250000000000005) … RGB(0.0963, 0.0479, 0.037250000000000005) RGB(0.0963, 0.0479, 0.037250000000000005);;;]\n [RGB(0.0963, 0.0479, 0.037250000000000005) RGB(0.0963, 0.0479, 0.037250000000000005) … RGB(0.0963, 0.0479, 0.037250000000000005) RGB(0.0963, 0.0479, 0.037250000000000005); RGB(0.0963, 0.0479, 0.037250000000000005) RGB(0.0963, 0.0479, 0.037250000000000005) … RGB(0.0963, 0.0479, 0.037250000000000005) RGB(0.0963, 0.0479, 0.037250000000000005); … ; RGB(0.0963, 0.0479, 0.037250000000000005) RGB(0.0963, 0.0479, 0.037250000000000005) … RGB(0.0963, 0.0479, 0.037250000000000005) RGB(0.0963, 0.0479, 0.037250000000000005); RGB(0.0963, 0.0479, 0.037250000000000005) RGB(0.0963, 0.0479, 0.037250000000000005) … RGB(0.0963, 0.0479, 0.037250000000000005) RGB(0.0963, 0.0479, 0.037250000000000005);;;]\n [RGB(0.0963, 0.0479, 0.037250000000000005) RGB(0.0963, 0.0479, 0.037250000000000005) … RGB(0.0963, 0.0479, 0.037250000000000005) RGB(0.0963, 0.0479, 0.037250000000000005); RGB(0.0963, 0.0479, 0.037250000000000005) RGB(0.0963, 0.0479, 0.037250000000000005) … RGB(0.0963, 0.0479, 0.037250000000000005) RGB(0.0963, 0.0479, 0.037250000000000005); … ; RGB(0.0963, 0.0479, 0.037250000000000005) RGB(0.0963, 0.0479, 0.037250000000000005) … RGB(0.0963, 0.0479, 0.037250000000000005) RGB(0.0963, 0.0479, 0.037250000000000005); RGB(0.0963, 0.0479, 0.037250000000000005) RGB(0.0963, 0.0479, 0.037250000000000005) … RGB(0.0963, 0.0479, 0.037250000000000005) RGB(0.0963, 0.0479, 0.037250000000000005);;;]\n [RGB(0.0963, 0.0479, 0.037250000000000005) RGB(0.0963, 0.0479, 0.037250000000000005) … RGB(0.0963, 0.0479, 0.037250000000000005) RGB(0.0963, 0.0479, 0.037250000000000005); RGB(0.0963, 0.0479, 0.037250000000000005) RGB(0.0963, 0.0479, 0.037250000000000005) … RGB(0.0963, 0.0479, 0.037250000000000005) RGB(0.0963, 0.0479, 0.037250000000000005); … ; RGB(0.0963, 0.0479, 0.037250000000000005) RGB(0.0963, 0.0479, 0.037250000000000005) … RGB(0.0963, 0.0479, 0.037250000000000005) RGB(0.0963, 0.0479, 0.037250000000000005); RGB(0.0963, 0.0479, 0.037250000000000005) RGB(0.0963, 0.0479, 0.037250000000000005) … RGB(0.0963, 0.0479, 0.037250000000000005) RGB(0.0963, 0.0479, 0.037250000000000005);;;]\n [RGB(0.0963, 0.0479, 0.037250000000000005) RGB(0.0963, 0.0479, 0.037250000000000005) … RGB(0.0963, 0.0479, 0.037250000000000005) RGB(0.0963, 0.0479, 0.037250000000000005); RGB(0.0963, 0.0479, 0.037250000000000005) RGB(0.0963, 0.0479, 0.037250000000000005) … RGB(0.0963, 0.0479, 0.037250000000000005) RGB(0.0963, 0.0479, 0.037250000000000005); … ; RGB(0.0963, 0.0479, 0.037250000000000005) RGB(0.0963, 0.0479, 0.037250000000000005) … RGB(0.0963, 0.0479, 0.037250000000000005) RGB(0.0963, 0.0479, 0.037250000000000005); RGB(0.0963, 0.0479, 0.037250000000000005) RGB(0.0963, 0.0479, 0.037250000000000005) … RGB(0.0963, 0.0479, 0.037250000000000005) RGB(0.0963, 0.0479, 0.037250000000000005);;;]\n [RGB(0.0963, 0.0479, 0.037250000000000005) RGB(0.0963, 0.0479, 0.037250000000000005) … RGB(0.0963, 0.0479, 0.037250000000000005) RGB(0.0963, 0.0479, 0.037250000000000005); RGB(0.0963, 0.0479, 0.037250000000000005) RGB(0.0963, 0.0479, 0.037250000000000005) … RGB(0.0963, 0.0479, 0.037250000000000005) RGB(0.0963, 0.0479, 0.037250000000000005); … ; RGB(0.0963, 0.0479, 0.037250000000000005) RGB(0.0963, 0.0479, 0.037250000000000005) … RGB(0.0963, 0.0479, 0.037250000000000005) RGB(0.0963, 0.0479, 0.037250000000000005); RGB(0.0963, 0.0479, 0.037250000000000005) RGB(0.0963, 0.0479, 0.037250000000000005) … RGB(0.0963, 0.0479, 0.037250000000000005) RGB(0.0963, 0.0479, 0.037250000000000005);;;]\n [RGB(0.0963, 0.0479, 0.037250000000000005) RGB(0.0963, 0.0479, 0.037250000000000005) … RGB(0.0963, 0.0479, 0.037250000000000005) RGB(0.0963, 0.0479, 0.037250000000000005); RGB(0.0963, 0.0479, 0.037250000000000005) RGB(0.0963, 0.0479, 0.037250000000000005) … RGB(0.0963, 0.0479, 0.037250000000000005) RGB(0.0963, 0.0479, 0.037250000000000005); … ; RGB(0.0963, 0.0479, 0.037250000000000005) RGB(0.0963, 0.0479, 0.037250000000000005) … RGB(0.0963, 0.0479, 0.037250000000000005) RGB(0.0963, 0.0479, 0.037250000000000005); RGB(0.0963, 0.0479, 0.037250000000000005) RGB(0.0963, 0.0479, 0.037250000000000005) … RGB(0.0963, 0.0479, 0.037250000000000005) RGB(0.0963, 0.0479, 0.037250000000000005);;;]\n [RGB(0.0963, 0.0479, 0.037250000000000005) RGB(0.0963, 0.0479, 0.037250000000000005) … RGB(0.0963, 0.0479, 0.037250000000000005) RGB(0.0963, 0.0479, 0.037250000000000005); RGB(0.0963, 0.0479, 0.037250000000000005) RGB(0.0963, 0.0479, 0.037250000000000005) … RGB(0.0963, 0.0479, 0.037250000000000005) RGB(0.0963, 0.0479, 0.037250000000000005); … ; RGB(0.0963, 0.0479, 0.037250000000000005) RGB(0.0963, 0.0479, 0.037250000000000005) … RGB(0.0963, 0.0479, 0.037250000000000005) RGB(0.0963, 0.0479, 0.037250000000000005); RGB(0.0963, 0.0479, 0.037250000000000005) RGB(0.0963, 0.0479, 0.037250000000000005) … RGB(0.0963, 0.0479, 0.037250000000000005) RGB(0.0963, 0.0479, 0.037250000000000005);;;]"
     },
     "metadata": {},
     "execution_count": 11
    }
   ],
   "cell_type": "code",
   "source": [
    "heatmap(expl)\n",
    "\n",
    "# Custom heatmaps"
   ],
   "metadata": {},
   "execution_count": 11
  },
  {
   "cell_type": "markdown",
   "source": [
    "The function `heatmap` automatically applies common presets for each method.\n",
    "\n",
    "Since `InputTimesGradient` computes attributions,\n",
    "heatmaps are shown in a blue-white-red color scheme.\n",
    "Gradient methods however are typically shown in grayscale:"
   ],
   "metadata": {}
  },
  {
   "outputs": [
    {
     "output_type": "execute_result",
     "data": {
      "text/plain": "1-element Vector{Array{ColorTypes.RGB{Float64}, 3}}:\n [RGB(0.542044692993164, 0.5190736373901367, 0.18255157775878905) RGB(0.5405419067382813, 0.5186877868652343, 0.18299835205078127) … RGB(0.5501000518798829, 0.5211419052124023, 0.18022431030273436) RGB(0.5480906158447265, 0.5206259689331054, 0.18076740112304687); RGB(0.5577551651000977, 0.5230979751586914, 0.1782020248413086) RGB(0.5673554992675781, 0.5255300598144531, 0.17589942016601562) … RGB(0.550458218383789, 0.5212338668823242, 0.18012750854492188) RGB(0.5480906158447265, 0.5206259689331054, 0.18076740112304687); … ; RGB(0.5540689025878907, 0.5221609344482422, 0.17915164794921876) RGB(0.5669629669189453, 0.5254306182861328, 0.17598839416503906) … RGB(0.5511143676757813, 0.5214023376464844, 0.1799501708984375) RGB(0.5480906158447265, 0.5206259689331054, 0.18076740112304687); RGB(0.5480906158447265, 0.5206259689331054, 0.18076740112304687) RGB(0.5480906158447265, 0.5206259689331054, 0.18076740112304687) … RGB(0.5480906158447265, 0.5206259689331054, 0.18076740112304687) RGB(0.5480906158447265, 0.5206259689331054, 0.18076740112304687);;;]"
     },
     "metadata": {},
     "execution_count": 12
    }
   ],
   "cell_type": "code",
   "source": [
    "analyzer = Gradient(model)\n",
    "heatmap(input, analyzer)"
   ],
   "metadata": {},
   "execution_count": 12
  },
  {
   "outputs": [
    {
     "output_type": "execute_result",
     "data": {
      "text/plain": "1-element Vector{Array{ColorTypes.RGB{Float64}, 3}}:\n [RGB(0.0963, 0.0479, 0.037250000000000005) RGB(0.0963, 0.0479, 0.037250000000000005) … RGB(0.0963, 0.0479, 0.037250000000000005) RGB(0.0963, 0.0479, 0.037250000000000005); RGB(0.0963, 0.0479, 0.037250000000000005) RGB(0.0963, 0.0479, 0.037250000000000005) … RGB(0.0963, 0.0479, 0.037250000000000005) RGB(0.0963, 0.0479, 0.037250000000000005); … ; RGB(0.0963, 0.0479, 0.037250000000000005) RGB(0.0963, 0.0479, 0.037250000000000005) … RGB(0.0963, 0.0479, 0.037250000000000005) RGB(0.0963, 0.0479, 0.037250000000000005); RGB(0.0963, 0.0479, 0.037250000000000005) RGB(0.0963, 0.0479, 0.037250000000000005) … RGB(0.0963, 0.0479, 0.037250000000000005) RGB(0.0963, 0.0479, 0.037250000000000005);;;]"
     },
     "metadata": {},
     "execution_count": 13
    }
   ],
   "cell_type": "code",
   "source": [
    "analyzer = InputTimesGradient(model)\n",
    "heatmap(input, analyzer)"
   ],
   "metadata": {},
   "execution_count": 13
  },
  {
   "cell_type": "markdown",
   "source": [
    "Using [VisionHeatmaps.jl](https://julia-xai.github.io/XAIDocs/VisionHeatmaps/stable/),\n",
    "heatmaps can be heavily customized.\n",
    "Check out the [heatmapping documentation](https://julia-xai.github.io/XAIDocs/VisionHeatmaps/stable/) for more information."
   ],
   "metadata": {}
  },
  {
   "cell_type": "markdown",
   "source": [
    "---\n",
    "\n",
    "*This notebook was generated using [Literate.jl](https://github.com/fredrikekre/Literate.jl).*"
   ],
   "metadata": {}
  }
 ],
 "nbformat_minor": 3,
 "metadata": {
  "language_info": {
   "file_extension": ".jl",
   "mimetype": "application/julia",
   "name": "julia",
   "version": "1.11.4"
  },
  "kernelspec": {
   "name": "julia-1.11",
   "display_name": "Julia 1.11.4",
   "language": "julia"
  }
 },
 "nbformat": 4
}
