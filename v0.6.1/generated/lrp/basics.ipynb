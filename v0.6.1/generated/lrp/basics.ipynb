{
 "cells": [
  {
   "cell_type": "markdown",
   "source": [
    "# Basic usage of LRP\n",
    "This example will show you best practices for using LRP,\n",
    "building on the basics shown in the *Getting started* section."
   ],
   "metadata": {}
  },
  {
   "cell_type": "markdown",
   "source": [
    "We start out by loading a small convolutional neural network:"
   ],
   "metadata": {}
  },
  {
   "outputs": [],
   "cell_type": "code",
   "source": [
    "using ExplainableAI\n",
    "using Flux\n",
    "\n",
    "model = Chain(\n",
    "    Chain(\n",
    "        Conv((3, 3), 3 => 8, relu; pad=1),\n",
    "        Conv((3, 3), 8 => 8, relu; pad=1),\n",
    "        MaxPool((2, 2)),\n",
    "        Conv((3, 3), 8 => 16; pad=1),\n",
    "        BatchNorm(16, relu),\n",
    "        Conv((3, 3), 16 => 8, relu; pad=1),\n",
    "        BatchNorm(8, relu),\n",
    "    ),\n",
    "    Chain(\n",
    "        Flux.flatten,\n",
    "        Dense(2048 => 512, relu),\n",
    "        Dropout(0.5),\n",
    "        Dense(512 => 100, softmax)\n",
    "    ),\n",
    ");"
   ],
   "metadata": {},
   "execution_count": 1
  },
  {
   "cell_type": "markdown",
   "source": [
    "This model contains two chains: the convolutional layers and the fully connected layers."
   ],
   "metadata": {}
  },
  {
   "cell_type": "markdown",
   "source": [
    "## Model preparation\n",
    "### Stripping the output softmax\n",
    "When using LRP, it is recommended to explain output logits instead of probabilities.\n",
    "This can be done by stripping the output softmax activation from the model\n",
    "using the `strip_softmax` function:"
   ],
   "metadata": {}
  },
  {
   "outputs": [
    {
     "output_type": "execute_result",
     "data": {
      "text/plain": "Chain(\n  Chain(\n    Conv((3, 3), 3 => 8, relu, pad=1),  \u001b[90m# 224 parameters\u001b[39m\n    Conv((3, 3), 8 => 8, relu, pad=1),  \u001b[90m# 584 parameters\u001b[39m\n    MaxPool((2, 2)),\n    Conv((3, 3), 8 => 16, pad=1),       \u001b[90m# 1_168 parameters\u001b[39m\n    BatchNorm(16, relu),                \u001b[90m# 32 parameters\u001b[39m\u001b[90m, plus 32\u001b[39m\n    Conv((3, 3), 16 => 8, relu, pad=1),  \u001b[90m# 1_160 parameters\u001b[39m\n    BatchNorm(8, relu),                 \u001b[90m# 16 parameters\u001b[39m\u001b[90m, plus 16\u001b[39m\n  ),\n  Chain(\n    Flux.flatten,\n    Dense(2048 => 512, relu),           \u001b[90m# 1_049_088 parameters\u001b[39m\n    Dropout(0.5),\n    Dense(512 => 100),                  \u001b[90m# 51_300 parameters\u001b[39m\n  ),\n) \u001b[90m        # Total: 16 trainable arrays, \u001b[39m1_103_572 parameters,\n\u001b[90m          # plus 4 non-trainable, 48 parameters, summarysize \u001b[39m4.213 MiB."
     },
     "metadata": {},
     "execution_count": 2
    }
   ],
   "cell_type": "code",
   "source": [
    "model = strip_softmax(model)"
   ],
   "metadata": {},
   "execution_count": 2
  },
  {
   "cell_type": "markdown",
   "source": [
    "If you don't remove the output softmax,\n",
    "model checks will fail."
   ],
   "metadata": {}
  },
  {
   "cell_type": "markdown",
   "source": [
    "### Canonizing the model\n",
    "LRP is not invariant to a model's implementation.\n",
    "Applying the `GammaRule` to two linear layers in a row will yield different results\n",
    "than first fusing the two layers into one linear layer and then applying the rule.\n",
    "This fusing is called \"canonization\" and can be done using the `canonize` function:"
   ],
   "metadata": {}
  },
  {
   "outputs": [
    {
     "output_type": "execute_result",
     "data": {
      "text/plain": "Chain(\n  Conv((3, 3), 3 => 8, relu, pad=1),    \u001b[90m# 224 parameters\u001b[39m\n  Conv((3, 3), 8 => 8, relu, pad=1),    \u001b[90m# 584 parameters\u001b[39m\n  MaxPool((2, 2)),\n  Conv((3, 3), 8 => 16, relu, pad=1),   \u001b[90m# 1_168 parameters\u001b[39m\n  Conv((3, 3), 16 => 8, relu, pad=1),   \u001b[90m# 1_160 parameters\u001b[39m\n  BatchNorm(8, relu),                   \u001b[90m# 16 parameters\u001b[39m\u001b[90m, plus 16\u001b[39m\n  Flux.flatten,\n  Dense(2048 => 512, relu),             \u001b[90m# 1_049_088 parameters\u001b[39m\n  Dropout(0.5),\n  Dense(512 => 100),                    \u001b[90m# 51_300 parameters\u001b[39m\n) \u001b[90m        # Total: 14 trainable arrays, \u001b[39m1_103_540 parameters,\n\u001b[90m          # plus 2 non-trainable, 16 parameters, summarysize \u001b[39m4.212 MiB."
     },
     "metadata": {},
     "execution_count": 3
    }
   ],
   "cell_type": "code",
   "source": [
    "model_canonized = canonize(model)"
   ],
   "metadata": {},
   "execution_count": 3
  },
  {
   "cell_type": "markdown",
   "source": [
    "After canonization, the first `BatchNorm` layer has been fused into the preceding `Conv` layer.\n",
    "The second `BatchNorm` layer wasn't fused\n",
    "since its preceding `Conv` layer has a ReLU activation function."
   ],
   "metadata": {}
  },
  {
   "cell_type": "markdown",
   "source": [
    "### Flattening the model\n",
    "ExplainableAI.jl's LRP implementation supports nested Flux Chains and Parallel layers.\n",
    "However, it is recommended to flatten the model before analyzing it.\n",
    "\n",
    "LRP is implemented by first running a forward pass through the model,\n",
    "keeping track of the intermediate activations, followed by a backward pass\n",
    "that computes the relevances.\n",
    "\n",
    "To keep the LRP implementation simple and maintainable,\n",
    "ExplainableAI.jl does not pre-compute \"nested\" activations.\n",
    "Instead, for every internal chain, a new forward pass is run to compute activations.\n",
    "\n",
    "By \"flattening\" a model, this overhead can be avoided.\n",
    "For this purpose, ExplainableAI.jl provides the function `flatten_model`:"
   ],
   "metadata": {}
  },
  {
   "outputs": [
    {
     "output_type": "execute_result",
     "data": {
      "text/plain": "Chain(\n  Conv((3, 3), 3 => 8, relu, pad=1),    \u001b[90m# 224 parameters\u001b[39m\n  Conv((3, 3), 8 => 8, relu, pad=1),    \u001b[90m# 584 parameters\u001b[39m\n  MaxPool((2, 2)),\n  Conv((3, 3), 8 => 16, pad=1),         \u001b[90m# 1_168 parameters\u001b[39m\n  BatchNorm(16, relu),                  \u001b[90m# 32 parameters\u001b[39m\u001b[90m, plus 32\u001b[39m\n  Conv((3, 3), 16 => 8, relu, pad=1),   \u001b[90m# 1_160 parameters\u001b[39m\n  BatchNorm(8, relu),                   \u001b[90m# 16 parameters\u001b[39m\u001b[90m, plus 16\u001b[39m\n  Flux.flatten,\n  Dense(2048 => 512, relu),             \u001b[90m# 1_049_088 parameters\u001b[39m\n  Dropout(0.5),\n  Dense(512 => 100),                    \u001b[90m# 51_300 parameters\u001b[39m\n) \u001b[90m        # Total: 16 trainable arrays, \u001b[39m1_103_572 parameters,\n\u001b[90m          # plus 4 non-trainable, 48 parameters, summarysize \u001b[39m4.212 MiB."
     },
     "metadata": {},
     "execution_count": 4
    }
   ],
   "cell_type": "code",
   "source": [
    "model_flat = flatten_model(model)"
   ],
   "metadata": {},
   "execution_count": 4
  },
  {
   "cell_type": "markdown",
   "source": [
    "This function is called by default when creating an LRP analyzer.\n",
    "Note that we pass the unflattened model to the analyzer, but `analyzer.model` is flattened:"
   ],
   "metadata": {}
  },
  {
   "outputs": [
    {
     "output_type": "execute_result",
     "data": {
      "text/plain": "Chain(\n  Conv((3, 3), 3 => 8, relu, pad=1),    \u001b[90m# 224 parameters\u001b[39m\n  Conv((3, 3), 8 => 8, relu, pad=1),    \u001b[90m# 584 parameters\u001b[39m\n  MaxPool((2, 2)),\n  Conv((3, 3), 8 => 16, pad=1),         \u001b[90m# 1_168 parameters\u001b[39m\n  BatchNorm(16, relu),                  \u001b[90m# 32 parameters\u001b[39m\u001b[90m, plus 32\u001b[39m\n  Conv((3, 3), 16 => 8, relu, pad=1),   \u001b[90m# 1_160 parameters\u001b[39m\n  BatchNorm(8, relu),                   \u001b[90m# 16 parameters\u001b[39m\u001b[90m, plus 16\u001b[39m\n  Flux.flatten,\n  Dense(2048 => 512, relu),             \u001b[90m# 1_049_088 parameters\u001b[39m\n  Dropout(0.5),\n  Dense(512 => 100),                    \u001b[90m# 51_300 parameters\u001b[39m\n) \u001b[90m        # Total: 16 trainable arrays, \u001b[39m1_103_572 parameters,\n\u001b[90m          # plus 4 non-trainable, 48 parameters, summarysize \u001b[39m4.212 MiB."
     },
     "metadata": {},
     "execution_count": 5
    }
   ],
   "cell_type": "code",
   "source": [
    "analyzer = LRP(model)\n",
    "analyzer.model"
   ],
   "metadata": {},
   "execution_count": 5
  },
  {
   "cell_type": "markdown",
   "source": [
    "If this flattening is not desired, it can be disabled\n",
    "by passing the keyword argument `flatten=false` to the `LRP` constructor."
   ],
   "metadata": {}
  },
  {
   "cell_type": "markdown",
   "source": [
    "## LRP rules\n",
    "By default, the `LRP` constructor will assign the `ZeroRule` to all layers."
   ],
   "metadata": {}
  },
  {
   "outputs": [
    {
     "output_type": "execute_result",
     "data": {
      "text/plain": "LRP(\n  Conv((3, 3), 3 => 8, relu, pad=1) \u001b[90m => \u001b[39m\u001b[33mZeroRule()\u001b[39m,\n  Conv((3, 3), 8 => 8, relu, pad=1) \u001b[90m => \u001b[39m\u001b[33mZeroRule()\u001b[39m,\n  MaxPool((2, 2))                   \u001b[90m => \u001b[39m\u001b[33mZeroRule()\u001b[39m,\n  Conv((3, 3), 8 => 16, pad=1)      \u001b[90m => \u001b[39m\u001b[33mZeroRule()\u001b[39m,\n  BatchNorm(16, relu)               \u001b[90m => \u001b[39m\u001b[33mZeroRule()\u001b[39m,\n  Conv((3, 3), 16 => 8, relu, pad=1)\u001b[90m => \u001b[39m\u001b[33mZeroRule()\u001b[39m,\n  BatchNorm(8, relu)                \u001b[90m => \u001b[39m\u001b[33mZeroRule()\u001b[39m,\n  Flux.flatten                      \u001b[90m => \u001b[39m\u001b[33mZeroRule()\u001b[39m,\n  Dense(2048 => 512, relu)          \u001b[90m => \u001b[39m\u001b[33mZeroRule()\u001b[39m,\n  Dropout(0.5)                      \u001b[90m => \u001b[39m\u001b[33mZeroRule()\u001b[39m,\n  Dense(512 => 100)                 \u001b[90m => \u001b[39m\u001b[33mZeroRule()\u001b[39m,\n)"
     },
     "metadata": {},
     "execution_count": 6
    }
   ],
   "cell_type": "code",
   "source": [
    "LRP(model)"
   ],
   "metadata": {},
   "execution_count": 6
  },
  {
   "cell_type": "markdown",
   "source": [
    "This analyzer will return heatmaps that look identical to `InputTimesGradient`."
   ],
   "metadata": {}
  },
  {
   "cell_type": "markdown",
   "source": [
    "LRP's strength lies in assigning different rules to different layers,\n",
    "based on their functionality in the neural network[^1].\n",
    "ExplainableAI.jl implements many LRP rules out of the box,\n",
    "but it is also possible to *implement custom rules*.\n",
    "\n",
    "To assign different rules to different layers,\n",
    "use one of the composites presets,\n",
    "or create your own composite, as described in\n",
    "*Assigning rules to layers*."
   ],
   "metadata": {}
  },
  {
   "outputs": [
    {
     "output_type": "execute_result",
     "data": {
      "text/plain": "Composite(\n  GlobalTypeMap(  \u001b[90m# all layers\u001b[39m\n\u001b[94m    Flux.Conv              \u001b[39m => \u001b[33mZPlusRule()\u001b[39m,\n\u001b[94m    Flux.ConvTranspose     \u001b[39m => \u001b[33mZPlusRule()\u001b[39m,\n\u001b[94m    Flux.CrossCor          \u001b[39m => \u001b[33mZPlusRule()\u001b[39m,\n\u001b[94m    Flux.Dense             \u001b[39m => \u001b[33mEpsilonRule{Float32}(1.0f-6)\u001b[39m,\n\u001b[94m    typeof(NNlib.dropout)  \u001b[39m => \u001b[33mPassRule()\u001b[39m,\n\u001b[94m    Flux.AlphaDropout      \u001b[39m => \u001b[33mPassRule()\u001b[39m,\n\u001b[94m    Flux.Dropout           \u001b[39m => \u001b[33mPassRule()\u001b[39m,\n\u001b[94m    Flux.BatchNorm         \u001b[39m => \u001b[33mPassRule()\u001b[39m,\n\u001b[94m    typeof(Flux.flatten)   \u001b[39m => \u001b[33mPassRule()\u001b[39m,\n\u001b[94m    typeof(MLUtils.flatten)\u001b[39m => \u001b[33mPassRule()\u001b[39m,\n\u001b[94m    typeof(identity)       \u001b[39m => \u001b[33mPassRule()\u001b[39m,\n ),\n  FirstLayerTypeMap(  \u001b[90m# first layer\u001b[39m\n\u001b[94m    Flux.Conv         \u001b[39m => \u001b[33mFlatRule()\u001b[39m,\n\u001b[94m    Flux.ConvTranspose\u001b[39m => \u001b[33mFlatRule()\u001b[39m,\n\u001b[94m    Flux.CrossCor     \u001b[39m => \u001b[33mFlatRule()\u001b[39m,\n\u001b[94m    Flux.Dense        \u001b[39m => \u001b[33mFlatRule()\u001b[39m,\n ),\n)"
     },
     "metadata": {},
     "execution_count": 7
    }
   ],
   "cell_type": "code",
   "source": [
    "composite = EpsilonPlusFlat() # using composite preset EpsilonPlusFlat"
   ],
   "metadata": {},
   "execution_count": 7
  },
  {
   "outputs": [
    {
     "output_type": "execute_result",
     "data": {
      "text/plain": "LRP(\n  Conv((3, 3), 3 => 8, relu, pad=1) \u001b[90m => \u001b[39m\u001b[33mFlatRule()\u001b[39m,\n  Conv((3, 3), 8 => 8, relu, pad=1) \u001b[90m => \u001b[39m\u001b[33mZPlusRule()\u001b[39m,\n  MaxPool((2, 2))                   \u001b[90m => \u001b[39m\u001b[33mZeroRule()\u001b[39m,\n  Conv((3, 3), 8 => 16, pad=1)      \u001b[90m => \u001b[39m\u001b[33mZPlusRule()\u001b[39m,\n  BatchNorm(16, relu)               \u001b[90m => \u001b[39m\u001b[33mPassRule()\u001b[39m,\n  Conv((3, 3), 16 => 8, relu, pad=1)\u001b[90m => \u001b[39m\u001b[33mZPlusRule()\u001b[39m,\n  BatchNorm(8, relu)                \u001b[90m => \u001b[39m\u001b[33mPassRule()\u001b[39m,\n  Flux.flatten                      \u001b[90m => \u001b[39m\u001b[33mPassRule()\u001b[39m,\n  Dense(2048 => 512, relu)          \u001b[90m => \u001b[39m\u001b[33mEpsilonRule{Float32}(1.0f-6)\u001b[39m,\n  Dropout(0.5)                      \u001b[90m => \u001b[39m\u001b[33mPassRule()\u001b[39m,\n  Dense(512 => 100)                 \u001b[90m => \u001b[39m\u001b[33mEpsilonRule{Float32}(1.0f-6)\u001b[39m,\n)"
     },
     "metadata": {},
     "execution_count": 8
    }
   ],
   "cell_type": "code",
   "source": [
    "LRP(model, composite)"
   ],
   "metadata": {},
   "execution_count": 8
  },
  {
   "cell_type": "markdown",
   "source": [
    "## Computing layerwise relevances\n",
    "If you are interested in computing layerwise relevances,\n",
    "call `analyze` with an LRP analyzer and the keyword argument\n",
    "`layerwise_relevances=true`.\n",
    "\n",
    "The layerwise relevances can be accessed in the `extras` field\n",
    "of the returned `Explanation`:"
   ],
   "metadata": {}
  },
  {
   "outputs": [
    {
     "output_type": "execute_result",
     "data": {
      "text/plain": "([-0.08579223 0.0045448462 … 0.62230337 -0.71677786; 0.1254458 -4.7228503f-5 … -1.8080205 -0.72817713; … ; -0.27531987 0.039722804 … 0.03134522 -0.027469477; 0.7488783 -2.2433698 … 0.0008958032 -0.04333245;;; -2.859565f-5 0.06719604 … 0.025023049 0.06575442; 0.09225613 -0.06682461 … -0.14607422 0.16347605; … ; 1.2011949 0.81699485 … -0.10171053 0.12228143; 0.2807778 0.0743729 … -0.058086514 -0.0045206216;;; -0.0636165 -0.0031739115 … -0.48279044 -0.3271204; -0.02501643 -0.13289064 … 0.7270235 -0.023403257; … ; 0.5948036 1.7121668 … -0.15359527 0.018007893; -0.04128254 0.362422 … 0.0028942584 0.03421395;;;;], [-0.048462104 -0.024682712 … 0.17232317 -0.0; -0.10089247 0.037867952 … -0.87239003 -0.066115305; … ; 0.03216832 4.510958 … 0.056588784 -0.0054626986; -0.00026285043 -1.4989072 … 0.00934462 0.0089266505;;; 0.0065874173 0.0 … -0.28734055 -0.020090263; 0.01380856 -0.013823366 … 0.9078152 0.0; … ; 0.006936597 -0.025045633 … -0.023268254 -0.0; 0.0 0.15837449 … -0.0 0.0;;; -0.0027738207 -0.023539966 … 0.13300556 0.0; 0.027502663 -0.0 … -0.17140962 -0.6058804; … ; -0.014666738 -0.45650974 … 0.011609625 -0.016352637; -0.018257454 0.05827138 … 0.0075936737 0.014163344;;; -0.038795136 -0.0 … -0.0 -0.0; -0.0 -0.0 … -0.33616704 0.0; … ; 0.0 0.0 … 0.0 0.0; -0.0 0.00017975635 … -0.0 -0.0;;; -0.012514406 -0.012029678 … -0.110254034 0.047374543; -0.10278545 -0.060460947 … -0.8224619 0.0016086347; … ; -0.009339676 3.6469772 … 0.0 0.038486365; -0.0 0.0 … -0.013361146 -0.0;;; 0.068100296 -0.0 … 0.017707568 0.0; 0.0 -0.0 … 0.0 -0.0; … ; 0.01671984 0.015593155 … 0.0 0.0; 0.003552215 -0.0 … 0.0 0.0;;; -0.0028321284 -0.03876189 … -0.07224032 -0.10823809; -0.028256897 -0.038338665 … -1.6470596 -0.65054345; … ; -0.00051017536 0.55370826 … 0.07125782 -0.025740737; -0.004747398 0.22733736 … -0.017115489 -0.0015567355;;; 0.0 0.0 … -0.0 -0.04179234; -0.0 0.0 … 0.0 0.0; … ; 0.0 0.0 … -0.0 -0.0; 0.0 0.0 … -0.0 0.0;;;;], [0.0 0.0 … 0.05908001 0.0; 0.0 0.10338283 … 0.0 0.0; … ; 0.0 -0.072084546 … 0.0 -0.07181489; 0.0 0.0 … 0.0 0.0;;; 0.0 0.0 … 0.0 0.0; 0.0 0.025305279 … -0.7909531 0.0; … ; 0.0 0.0 … -0.0055074 0.0; 0.0 0.0 … 0.0 0.0;;; 0.0 0.010254299 … 0.0 0.0; 0.0 0.0 … 0.0 0.0; … ; 0.0047143055 0.0 … 0.0 0.0; 0.0 0.0 … 0.0 0.0;;; 0.0 0.0 … 0.0 0.0; 0.0 -0.13579524 … 2.5775857 0.0; … ; 0.0 0.0 … 0.0 0.0; 0.0 -0.033440847 … 0.08615124 0.0;;; 0.0 0.0 … 0.0 0.0; 0.0 0.13516377 … 0.0 0.8587512; … ; 0.0 -0.03572043 … -0.10284167 0.0; 0.0 0.0 … 0.0 0.0;;; 0.0 0.0 … -0.87894857 0.0; -0.0031217602 0.0 … 0.0 0.0; … ; 0.0 0.0 … 0.0 0.0; 0.0 0.0 … 0.0 0.0;;; 0.0 0.0 … 0.0 0.0; 0.0 -0.03977783 … 0.0 0.38572147; … ; 0.0 0.0 … 0.0 0.0; 0.0054923566 0.0 … 0.11947777 0.0;;; 0.0 0.0 … 0.0 0.0; 0.0 0.0 … 0.0 0.0; … ; 0.0 0.0 … 0.0048073074 0.0; 0.0 0.0 … 0.0 0.0;;;;], [0.10338283 0.07029233 … -0.34948212 0.05908001; -0.007054938 0.25652167 … 2.8237457 -1.5495733; … ; 0.01607986 -8.814031 … -0.19608407 0.023196265; -0.072084546 -11.569186 … -0.13857295 -0.07181489;;; 0.025305279 -0.013828569 … -0.013709432 -0.7909531; -0.028964568 0.0009752019 … 0.31889886 -0.47762012; … ; -0.009331093 0.36775485 … -0.09308458 0.09791298; 0.0 -3.588628 … 0.04111387 -0.0055074;;; 0.010254299 0.073057994 … -0.018211791 -0.0; 0.019719427 0.0 … 1.4999272 -0.0; … ; 0.016098378 -0.082508035 … 0.12452074 0.0; 0.0047143055 0.29256654 … -0.027143009 0.0;;; -0.13579524 -0.012737995 … 0.25002328 2.5775857; -0.23728707 -0.021095483 … 1.1591717 -6.0366626; … ; -0.24308403 -17.089167 … 0.23582152 -0.21582767; -0.033440847 16.068748 … 0.25068733 0.08615124;;; 0.13516377 -0.20824382 … -0.9300901 0.8587512; 0.008391183 -0.16568832 … -3.3460019 5.347614; … ; -0.11822798 20.543808 … -0.22376636 0.21463808; -0.03572043 -2.6425653 … 0.018775603 -0.10284167;;; -0.0031217602 0.047251243 … -0.4557877 -0.87894857; 0.08060789 0.01001423 … -0.0460164 -0.3911046; … ; 0.022787746 2.989599 … -0.005487876 0.025508897; 0.0 0.0 … 0.0 -0.0;;; -0.03977783 -0.155409 … 1.5351675 0.38572147; -0.08398291 -0.29082415 … -7.148072 -3.1772516; … ; -0.069256514 17.373598 … 0.017401552 -0.24809471; 0.0054923566 7.3451066 … -0.23610412 0.11947777;;; -0.0 -0.0 … 0.0 0.0; -0.0 -0.0 … 0.0 0.0; … ; -0.0032727402 -0.0 … -0.0 0.0; -0.0 2.9261498 … 0.015739694 0.0048073074;;;;], [0.17337017 0.08582183 … 0.26290807 0.09300842; 0.13409801 0.2559668 … -0.38180244 -6.1926327; … ; 0.18529804 0.24047342 … 0.09820687 0.09916579; 0.046719693 0.0673729 … 0.033766214 0.028079806;;; 0.0015903673 0.029084602 … 0.05553689 0.009593127; 0.009736253 0.042945687 … 0.33482212 -0.08010678; … ; 0.003724519 -0.017952846 … 0.0014594552 0.048351683; 0.0010681609 4.210796f-5 … -0.006172779 0.006440695;;; -5.197516f-5 -1.1290675f-5 … 4.5927838f-5 3.4661545f-5; 4.572165f-5 2.0798585f-5 … 4.8020607f-5 4.6083373f-5; … ; -1.0414034f-5 -0.00012991847 … 4.5120334f-5 1.7471295f-5; -0.0009262596 2.0793977f-5 … -0.0020345293 2.5244904f-5;;; … ;;; 0.0025897676 0.0024066935 … 0.0032253773 -0.002385594; -3.550686f-5 -0.00019452747 … 0.0010660074 9.457595f-5; … ; 0.00012224044 0.00031390524 … 0.00019360945 0.00015058044; 0.00047074704 0.003193672 … 0.0024692344 0.00031030326;;; 0.0005805481 1.3432021f-5 … -0.00014566405 8.804117f-5; -0.00014851987 -0.0002174815 … -0.00021299612 -0.0001271285; … ; -0.00017651856 0.00023992796 … -0.00015153992 -0.00011053731; -0.00011760604 -0.00013973523 … -0.00011528126 -0.00011457386;;; -6.8755f-6 -6.999265f-6 … -8.44069f-6 -9.256632f-6; -7.180358f-6 8.27487f-6 … 4.5787837f-7 -8.518841f-6; … ; -9.167686f-6 1.831128f-5 … 5.0556223f-6 -8.481499f-6; -9.189103f-6 -8.032303f-6 … -8.963969f-6 -7.0060465f-5;;;;], [0.0069766827 -0.012184298 … 0.029475966 -0.022793084; 0.0006815123 0.027675098 … -0.2719543 -0.19283855; … ; 0.0050995084 0.016145313 … -0.016705828 0.0038998672; -0.00022414266 0.005877237 … 0.0031093287 1.8629004f-5;;; 0.0020885568 0.010003114 … 0.029793516 0.0022577022; 0.00224525 0.021911157 … 0.0664533 -0.0237532; … ; 0.0001708017 -0.0015060722 … -0.0 0.025462054; 0.0 -3.9217008f-5 … -0.006223022 -0.00030801236;;; 0.0 -0.0 … 0.0 -0.0; 0.0 0.0 … 0.0 -0.0; … ; 0.0 0.0 … 0.0 -0.0; -0.0017894591 0.0 … -0.003992881 0.0;;; … ;;; -0.00137681 -0.0043016975 … 0.0053354525 -0.007060811; -0.0 0.0 … 0.010914686 0.0020263235; … ; -0.00023887199 0.0 … -0.0 -0.00045600004; -0.0 -0.0 … -0.0 -0.0;;; -0.0 -0.0 … -0.0 -0.0; -0.0 -0.0 … -0.0 0.0; … ; -0.0 0.0 … -0.0 0.0; 0.0 -0.0 … -0.0 0.0;;; -0.0 0.0 … -0.0 0.0; -0.0 -0.0 … 0.0 -0.0; … ; 0.0 -0.0 … 0.0 -0.0; -0.0 0.0 … -0.0 -0.0008024498;;;;], [0.0006767194 0.00081151695 … 0.05341219 0.00084792904; 0.0 0.00089547643 … 0.00850654 0.00083025644; … ; 0.0 0.00061465753 … -0.007569748 -0.04103824; 0.0 0.00078627426 … 0.00089317403 0.0008387111;;; 0.0014206282 0.008265902 … 0.01343267 0.010394048; 0.0009104376 0.010988432 … -0.034354925 0.38698593; … ; 0.0032547375 0.011955156 … 0.011507138 0.013981328; 0.00250043 0.0074296766 … 0.00862365 0.0091396505;;; -0.0 -0.0 … -0.0 0.0; 0.0 -0.0 … 0.0 0.0; … ; 0.0 0.0 … -0.0 0.0; -0.0 0.0 … 0.0 -0.0;;; 0.0014917558 -0.006575023 … -0.00601537 -0.0; -1.42347935f-5 -0.0 … -0.0 -0.008660166; … ; 0.00014655554 -0.0 … -0.0 -0.0; -0.0 -2.3666855f-5 … -0.0 -0.0;;; 0.0 0.0 … 0.0 0.0; 0.0 0.0 … 0.0 0.0; … ; 0.0 0.0 … 0.0 0.0; 0.00017562935 0.0014729006 … 0.00079107913 -0.006601721;;; 0.0 0.0 … 0.0 0.0; 0.0 0.0 … 0.0 0.0; … ; 0.0 0.0 … 0.0 0.0; 0.0 0.0 … 0.0 0.0;;; 0.0006773365 -0.0014417219 … -0.0021951138 -0.002324584; -0.00161465 0.019462619 … 0.0028996207 -0.0070414087; … ; -0.00420176 -0.01056831 … -0.0102887405 -0.0037010612; -2.4191204f-5 -0.0039992444 … -0.0054849363 -0.0007700511;;; -0.00053506397 -0.0 … -0.0 -0.0; -0.0007549463 -0.0003931567 … -0.0 -0.0; … ; 0.00048531187 -0.0 … -0.0 -0.0; -0.0 -0.00046125994 … -0.0 4.4074568f-5;;;;], [0.0019932033 0.0113652935 … 0.01898244 -0.00046145573; 0.0 4.4998644f-5 … 0.0034062832 0.0092325425; … ; 0.0 -0.0075821355 … -0.0021213065 -0.010526162; -0.0 -0.002689841 … -0.0018110941 -0.0031535595;;; -0.001564131 0.0016948589 … -0.01706387 -0.008029091; -1.653503f-5 0.00018549891 … -0.014829996 0.019973276; … ; 0.001338951 -0.004346127 … -0.0011882929 -0.0022347907; -0.0007595383 0.011037636 … 0.0036617056 -0.012514449;;; -0.0 -0.0 … -0.0 0.0; 0.0 -0.0 … 0.0 0.0; … ; 0.0 0.0 … -0.0 0.0; -0.0 0.0 … 0.0 -0.0;;; 0.0023052671 -0.0045506656 … -0.0010902924 0.0; -5.786983f-5 0.0 … 0.0 -0.0008194193; … ; 0.00025914868 0.0 … 0.0 0.0; -0.0 4.61983f-5 … 0.0 -0.0;;; -0.0 0.0 … -0.0 0.0; -0.0 0.0 … -0.0 0.0; … ; -0.0 0.0 … 0.0 0.0; -0.0002876153 -0.0012715142 … 0.00023391945 -0.006497148;;; 0.0 0.0 … -0.0 -0.0; -0.0 0.0 … -0.0 0.0; … ; 0.0 0.0 … -0.0 -0.0; 0.0 0.0 … 0.0 -0.0;;; 0.0004291544 -0.0069788485 … 0.0006007504 -0.0015617978; -0.0038654995 0.007363099 … 0.013185586 -0.0035845204; … ; 0.006193295 -0.0016484575 … -0.011720517 -0.0075543756; 0.002508532 -0.013827633 … -0.00816527 -0.0017872389;;; -0.0004483997 -0.0 … 0.0 -0.0; -0.0005354943 -0.00027989253 … -0.0 -0.0; … ; 0.00031905124 0.0 … -0.0 0.0; -0.0 -0.00040353555 … -0.0 9.6035925f-5;;;;], Float32[0.0019932033; 0.0; … ; 0.0; 9.603593f-5;;], Float32[0.0; 0.063412234; … ; -0.0; 0.0;;], Float32[0.0; 0.063412234; … ; -0.0; 0.0;;], Float32[0.0; 0.0; … ; 0.0; 0.0;;])"
     },
     "metadata": {},
     "execution_count": 9
    }
   ],
   "cell_type": "code",
   "source": [
    "input = rand(Float32, 32, 32, 3, 1) # dummy input for our convolutional neural network\n",
    "\n",
    "expl = analyze(input, analyzer; layerwise_relevances=true)\n",
    "expl.extras.layerwise_relevances"
   ],
   "metadata": {},
   "execution_count": 9
  },
  {
   "cell_type": "markdown",
   "source": [
    "Note that the layerwise relevances are only kept for layers in the outermost `Chain` of the model.\n",
    "When using our unflattened model, we only obtain three layerwise relevances,\n",
    "one for each chain in the model and the output relevance:"
   ],
   "metadata": {}
  },
  {
   "outputs": [
    {
     "output_type": "execute_result",
     "data": {
      "text/plain": "([-0.2760132 -0.09383562 … -0.5294145 -0.03255413; 0.15573338 0.021253925 … -0.2502353 0.14546138; … ; -0.20082083 0.035773057 … -0.022845788 0.09782026; 0.6474493 -1.801856 … -2.3906876f-5 0.023002295;;; -6.037825f-6 -0.019661037 … -0.0044266875 -0.019483957; 0.21520317 -0.022228569 … -0.27711263 -0.14758635; … ; 0.96884733 0.6557502 … 0.08015876 0.21609062; 0.22602089 0.05970514 … 0.03895569 -0.009172151;;; -0.087701075 -0.00013070313 … 0.14512976 0.07131902; -0.09985256 -0.36481106 … -0.5079736 -0.10595963; … ; 0.47684804 1.361331 … 0.08271411 -0.020539586; -0.02192593 0.3403313 … -0.0008490784 0.015218826;;;;], [0.0012747657 0.00077107106 … 0.025159463 0.00086946937; -0.0 0.0025790033 … 0.0067373184 0.007223421; … ; 0.0 -0.0099532055 … 0.0020086716 -0.00596028; 0.0 -0.0014980184 … -0.0067920885 -0.008605593;;; 0.0 -0.0041105617 … -0.008326099 -0.005913689; -0.0 -0.016563175 … -0.013219631 0.0424727; … ; 0.00028950756 0.009911218 … -0.010109743 -0.001083968; 5.061294f-5 -0.0042483318 … 0.004935971 -0.00606687;;; -0.0 -0.0 … -0.0 0.0; -0.0 -0.0 … -0.0 0.0; … ; 0.0 0.0 … 0.0 0.0; -0.0 0.0 … -0.0 0.0;;; -0.0006778388 -0.0038116649 … -0.0002491685 0.0; -0.0 0.0 … 0.0 -6.081112f-6; … ; -0.0015848492 0.0 … -0.0 0.0; -0.0 0.00019778534 … 0.0 -0.0;;; 0.0 0.0 … 0.0 0.0; -0.0017478945 -0.0 … 0.0 0.0; … ; -0.0003440145 0.0 … 0.0 0.0; -0.0009325688 0.014147081 … 0.00045222737 -0.007427819;;; 0.0 0.0 … -0.0 -0.00014590766; 0.0 0.0 … 0.0 -0.0; … ; -0.0 -0.0 … -0.0 -0.0; -0.0 0.0 … -0.0 -0.0;;; -0.0 -0.011913748 … -0.0029922388 -0.0008560075; -0.0058345655 0.0062737195 … 0.0048208646 0.0059564193; … ; -0.003074974 0.00887072 … 0.008282371 0.00040651107; -0.0011726386 -0.019103834 … 0.015937187 -0.0024497865;;; -0.0003893305 -0.0 … 0.0 0.0; -0.0025052335 -0.00039285442 … -0.0 -0.0; … ; 0.0004981672 -0.0 … -0.0 0.0; -0.0 -0.0015937944 … -0.0 0.0016324337;;;;], Float32[0.0; 0.0; … ; 0.0; 0.0;;])"
     },
     "metadata": {},
     "execution_count": 10
    }
   ],
   "cell_type": "code",
   "source": [
    "analyzer = LRP(model; flatten=false) # use unflattened model\n",
    "\n",
    "expl = analyze(input, analyzer; layerwise_relevances=true)\n",
    "expl.extras.layerwise_relevances"
   ],
   "metadata": {},
   "execution_count": 10
  },
  {
   "cell_type": "markdown",
   "source": [
    "## Performance tips\n",
    "### Using LRP with a GPU\n",
    "Like all other analyzers, LRP can be used on GPUs.\n",
    "Follow the instructions on *GPU support*.\n",
    "\n",
    "### Using LRP without a GPU\n",
    "Using Julia's package extension mechanism,\n",
    "ExplainableAI.jl's LRP implementation can optionally make use of\n",
    "[Tullio.jl](https://github.com/mcabbott/Tullio.jl) and\n",
    "[LoopVectorization.jl](https://github.com/JuliaSIMD/LoopVectorization.jl)\n",
    "for faster LRP rules on dense layers.\n",
    "\n",
    "This only requires loading the packages before loading ExplainableAI.jl:\n",
    "```julia\n",
    "using LoopVectorization, Tullio\n",
    "using ExplainableAI\n",
    "```\n",
    "\n",
    "[^1]: G. Montavon et al., [Layer-Wise Relevance Propagation: An Overview](https://link.springer.com/chapter/10.1007/978-3-030-28954-6_10)"
   ],
   "metadata": {}
  },
  {
   "cell_type": "markdown",
   "source": [
    "---\n",
    "\n",
    "*This notebook was generated using [Literate.jl](https://github.com/fredrikekre/Literate.jl).*"
   ],
   "metadata": {}
  }
 ],
 "nbformat_minor": 3,
 "metadata": {
  "language_info": {
   "file_extension": ".jl",
   "mimetype": "application/julia",
   "name": "julia",
   "version": "1.9.3"
  },
  "kernelspec": {
   "name": "julia-1.9",
   "display_name": "Julia 1.9.3",
   "language": "julia"
  }
 },
 "nbformat": 4
}
