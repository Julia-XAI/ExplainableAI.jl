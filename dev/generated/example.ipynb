{
 "cells": [
  {
   "cell_type": "markdown",
   "source": [
    "# Getting started"
   ],
   "metadata": {}
  },
  {
   "cell_type": "markdown",
   "source": [
    "For this first example, we already have loaded a pre-trained LeNet5 model\n",
    "to look at explanations on the MNIST dataset."
   ],
   "metadata": {}
  },
  {
   "outputs": [
    {
     "output_type": "execute_result",
     "data": {
      "text/plain": "Chain(\n  Conv((5, 5), 1 => 6, relu),           \u001b[90m# 156 parameters\u001b[39m\n  MaxPool((2, 2)),\n  Conv((5, 5), 6 => 16, relu),          \u001b[90m# 2_416 parameters\u001b[39m\n  MaxPool((2, 2)),\n  Flux.flatten,\n  Dense(256 => 120, relu),              \u001b[90m# 30_840 parameters\u001b[39m\n  Dense(120 => 84, relu),               \u001b[90m# 10_164 parameters\u001b[39m\n  Dense(84 => 10),                      \u001b[90m# 850 parameters\u001b[39m\n) \u001b[90m                  # Total: 10 arrays, \u001b[39m44_426 parameters, 174.867 KiB."
     },
     "metadata": {},
     "execution_count": 1
    }
   ],
   "cell_type": "code",
   "source": [
    "using ExplainableAI\n",
    "using Flux\n",
    "\n",
    "using BSON # hide\n",
    "model = BSON.load(\"../model.bson\", @__MODULE__)[:model] # hide\n",
    "model"
   ],
   "metadata": {},
   "execution_count": 1
  },
  {
   "cell_type": "markdown",
   "source": [
    "## Preparing the input data\n",
    "We use MLDatasets to load a single image from the MNIST dataset:"
   ],
   "metadata": {}
  },
  {
   "outputs": [
    {
     "output_type": "execute_result",
     "data": {
      "text/plain": "28×28 reinterpret(reshape, ColorTypes.Gray{Float32}, ::Matrix{Float32}) with eltype ColorTypes.Gray{Float32}:\n Gray{Float32}(0.0)  Gray{Float32}(0.0)  …  Gray{Float32}(0.0)\n Gray{Float32}(0.0)  Gray{Float32}(0.0)     Gray{Float32}(0.0)\n Gray{Float32}(0.0)  Gray{Float32}(0.0)     Gray{Float32}(0.0)\n Gray{Float32}(0.0)  Gray{Float32}(0.0)     Gray{Float32}(0.0)\n Gray{Float32}(0.0)  Gray{Float32}(0.0)     Gray{Float32}(0.0)\n Gray{Float32}(0.0)  Gray{Float32}(0.0)  …  Gray{Float32}(0.0)\n Gray{Float32}(0.0)  Gray{Float32}(0.0)     Gray{Float32}(0.0)\n Gray{Float32}(0.0)  Gray{Float32}(0.0)     Gray{Float32}(0.0)\n Gray{Float32}(0.0)  Gray{Float32}(0.0)     Gray{Float32}(0.0)\n Gray{Float32}(0.0)  Gray{Float32}(0.0)     Gray{Float32}(0.0)\n ⋮                                       ⋱  \n Gray{Float32}(0.0)  Gray{Float32}(0.0)     Gray{Float32}(0.0)\n Gray{Float32}(0.0)  Gray{Float32}(0.0)  …  Gray{Float32}(0.0)\n Gray{Float32}(0.0)  Gray{Float32}(0.0)     Gray{Float32}(0.0)\n Gray{Float32}(0.0)  Gray{Float32}(0.0)     Gray{Float32}(0.0)\n Gray{Float32}(0.0)  Gray{Float32}(0.0)     Gray{Float32}(0.0)\n Gray{Float32}(0.0)  Gray{Float32}(0.0)     Gray{Float32}(0.0)\n Gray{Float32}(0.0)  Gray{Float32}(0.0)  …  Gray{Float32}(0.0)\n Gray{Float32}(0.0)  Gray{Float32}(0.0)     Gray{Float32}(0.0)\n Gray{Float32}(0.0)  Gray{Float32}(0.0)     Gray{Float32}(0.0)",
      "image/png": "[encoded data removed]",
      "text/html": [
       "<img src=\"data:image/png;base64,iVBORw0KGgoAAAANSUhEUgAAAHAAAABwCAAAAADji6uXAAAABGdBTUEAALGPC/xhBQAAAAFzUkdCAK7OHOkAAAAgY0hSTQAAeiYAAICEAAD6AAAAgOgAAHUwAADqYAAAOpgAABdwnLpRPAAAAjhJREFUaAW9wb2L1gUAB/DPcd+oQaPswCGqpSGHXqYTapGgJSg4CeoPcEiECqFDpCGwTdIQImuIsGiTtmjJgl6GoKEiIhqCoMQsOOhFy85r+A3H8fTo73mM7+cTZVEWZVEWZVEWZVEWZVEWZVEWZVEWZVEWZVEWZVEWZVEWZVEWZVEWZVEWc7gTS1jBHlzGSXyK71xZlEVZlMUM7sYB7MWSrXbjH3yLj/E0/jYpyqIsymKEe3AAj+NGgx/xEb7HKj7HMnbgYXyBkyZFWZRFWVzFq1jBksH7+AqHcdHgfuzH67gP5/AyTuO8raIsyqIsprgBq9iHBZzHKziKP2x1CxbxPN7DHaaLsiiLsphiD57FAn7CXnxmq0XchlN4FzcbLOBNrJkUZVEWZTHFItYNLmE3HsNdBhewC7vwC3badA4v4JJJURZlURZTnMEHeAi34wQ2DNaxaNNOg8t4B0/hrP8WZVEWZTHFBazgJhzCA/gVP+B63ItlW72Gw1gzXZRFWZTFVazhkEmnsGzwGw7iDay7siiLsiiLOaziCZv2423jRFmURVnMaB+eQwy+xmnjRVmURVnMYBkvYpvB73gSfxkvyqIsymIGj2C7wZ94FJ+YTZRFWZTFSNuxatNb+NDsoizKoixG2IZvcJ3Bl3jGfKIsyqIsRngQt2LD4CAumk+URVmUxQhHsGFwFGfML8qiLMpihB1YwM94ybWJsiiLshjhGI7hCM66NlEWZVEWIxzHcf+PKIuyKPsXNwdYfgiRxs8AAAAASUVORK5C\">"
      ]
     },
     "metadata": {},
     "execution_count": 2
    }
   ],
   "cell_type": "code",
   "source": [
    "using MLDatasets\n",
    "using ImageCore, ImageIO, ImageShow\n",
    "\n",
    "index = 10\n",
    "x, y = MNIST(Float32, :test)[10]\n",
    "\n",
    "convert2image(MNIST, x)"
   ],
   "metadata": {},
   "execution_count": 2
  },
  {
   "cell_type": "markdown",
   "source": [
    "By convention in Flux.jl, this input needs to be resized to WHCN format\n",
    "by adding a color channel and batch dimensions."
   ],
   "metadata": {}
  },
  {
   "outputs": [],
   "cell_type": "code",
   "source": [
    "input = reshape(x, 28, 28, 1, :);"
   ],
   "metadata": {},
   "execution_count": 3
  },
  {
   "cell_type": "markdown",
   "source": [
    "## Explanations\n",
    "We can now select an analyzer of our choice and call `analyze`\n",
    "to get an `Explanation`:"
   ],
   "metadata": {}
  },
  {
   "outputs": [],
   "cell_type": "code",
   "source": [
    "analyzer = InputTimesGradient(model)\n",
    "expl = analyze(input, analyzer);"
   ],
   "metadata": {},
   "execution_count": 4
  },
  {
   "cell_type": "markdown",
   "source": [
    "The return value `expl` is of type `Explanation` and bundles the following data:\n",
    "* `expl.val`: numerical output of the analyzer, e.g. an attribution or gradient\n",
    "* `expl.output`: model output for the given analyzer input\n",
    "* `expl.output_selection`: index of the output used for the explanation\n",
    "* `expl.analyzer`: symbol corresponding the used analyzer, e.g. `:Gradient` or `:LRP`\n",
    "* `expl.heatmap`: symbol indicating a preset heatmapping style,\n",
    "    e.g. `:attibution`, `:sensitivity` or `:cam`\n",
    "* `expl.extras`: optional named tuple that can be used by analyzers\n",
    "    to return additional information.\n",
    "\n",
    "We used `InputTimesGradient`, so `expl.analyzer` is `:InputTimesGradient`."
   ],
   "metadata": {}
  },
  {
   "outputs": [
    {
     "output_type": "execute_result",
     "data": {
      "text/plain": ":InputTimesGradient"
     },
     "metadata": {},
     "execution_count": 5
    }
   ],
   "cell_type": "code",
   "source": [
    "expl.analyzer"
   ],
   "metadata": {},
   "execution_count": 5
  },
  {
   "cell_type": "markdown",
   "source": [
    "By default, the explanation is computed for the maximally activated output neuron.\n",
    "Since our digit is a 9 and Julia's indexing is 1-based,\n",
    "the output neuron at index `10` of our trained model is maximally activated."
   ],
   "metadata": {}
  },
  {
   "cell_type": "markdown",
   "source": [
    "Finally, we obtain the result of the analyzer in form of an array."
   ],
   "metadata": {}
  },
  {
   "outputs": [
    {
     "output_type": "execute_result",
     "data": {
      "text/plain": "28×28×1×1 Array{Float32, 4}:\n[:, :, 1, 1] =\n -0.0   0.0   0.0  -0.0  -0.0  -0.0  -0.0  …  -0.0       0.0         0.0\n -0.0   0.0   0.0  -0.0  -0.0  -0.0  -0.0     -0.0       0.0         0.0\n -0.0   0.0   0.0  -0.0  -0.0  -0.0  -0.0     -0.0       0.0         0.0\n  0.0   0.0   0.0  -0.0  -0.0  -0.0  -0.0      0.0       0.0         0.0\n  0.0   0.0  -0.0  -0.0  -0.0   0.0   0.0      0.0       0.0         0.0\n -0.0   0.0   0.0  -0.0   0.0  -0.0  -0.0  …   0.0       0.0         0.0\n -0.0   0.0   0.0   0.0   0.0   0.0   0.0      0.0       0.0         0.0\n -0.0   0.0   0.0   0.0  -0.0   0.0  -0.0      0.0       0.0        -0.0\n -0.0   0.0   0.0   0.0  -0.0  -0.0  -0.0      0.0       0.0        -0.0\n -0.0   0.0   0.0   0.0  -0.0   0.0  -0.0      0.385115  0.0714216   0.0\n  ⋮                             ⋮          ⋱   ⋮                    \n  0.0  -0.0  -0.0   0.0   0.0   0.0  -0.0     -0.0       0.0         0.0\n -0.0  -0.0   0.0   0.0   0.0   0.0  -0.0  …  -0.0       0.0         0.0\n -0.0   0.0   0.0   0.0   0.0   0.0  -0.0      0.0       0.0         0.0\n -0.0   0.0   0.0   0.0  -0.0   0.0  -0.0      0.0       0.0         0.0\n -0.0   0.0   0.0  -0.0  -0.0   0.0  -0.0      0.0       0.0         0.0\n  0.0   0.0  -0.0  -0.0  -0.0   0.0  -0.0      0.0       0.0         0.0\n  0.0   0.0   0.0  -0.0  -0.0   0.0   0.0  …   0.0       0.0         0.0\n  0.0   0.0  -0.0  -0.0   0.0   0.0   0.0      0.0       0.0         0.0\n  0.0   0.0   0.0   0.0   0.0   0.0  -0.0      0.0       0.0         0.0"
     },
     "metadata": {},
     "execution_count": 6
    }
   ],
   "cell_type": "code",
   "source": [
    "expl.val"
   ],
   "metadata": {},
   "execution_count": 6
  },
  {
   "cell_type": "markdown",
   "source": [
    "## Heatmapping basics\n",
    "Since the array `expl.val` is not very informative at first sight,\n",
    "we can visualize `Explanation`s by computing a `heatmap` using either\n",
    "[VisionHeatmaps.jl](https://julia-xai.github.io/XAIDocs/VisionHeatmaps/stable/) or\n",
    "[TextHeatmaps.jl](https://julia-xai.github.io/XAIDocs/TextHeatmaps/stable/)."
   ],
   "metadata": {}
  },
  {
   "outputs": [
    {
     "output_type": "execute_result",
     "data": {
      "text/plain": "28×28 Array{RGB{Float64},2} with eltype ColorTypes.RGB{Float64}:\n RGB{Float64}(1.0,1.0,1.0)  …  RGB{Float64}(1.0,1.0,1.0)\n RGB{Float64}(1.0,1.0,1.0)     RGB{Float64}(1.0,1.0,1.0)\n RGB{Float64}(1.0,1.0,1.0)     RGB{Float64}(1.0,1.0,1.0)\n RGB{Float64}(1.0,1.0,1.0)     RGB{Float64}(1.0,1.0,1.0)\n RGB{Float64}(1.0,1.0,1.0)     RGB{Float64}(1.0,1.0,1.0)\n RGB{Float64}(1.0,1.0,1.0)  …  RGB{Float64}(1.0,1.0,1.0)\n RGB{Float64}(1.0,1.0,1.0)     RGB{Float64}(1.0,1.0,1.0)\n RGB{Float64}(1.0,1.0,1.0)     RGB{Float64}(1.0,1.0,1.0)\n RGB{Float64}(1.0,1.0,1.0)     RGB{Float64}(1.0,1.0,1.0)\n RGB{Float64}(1.0,1.0,1.0)     RGB{Float64}(1.0,1.0,1.0)\n ⋮                          ⋱  \n RGB{Float64}(1.0,1.0,1.0)     RGB{Float64}(1.0,1.0,1.0)\n RGB{Float64}(1.0,1.0,1.0)  …  RGB{Float64}(1.0,1.0,1.0)\n RGB{Float64}(1.0,1.0,1.0)     RGB{Float64}(1.0,1.0,1.0)\n RGB{Float64}(1.0,1.0,1.0)     RGB{Float64}(1.0,1.0,1.0)\n RGB{Float64}(1.0,1.0,1.0)     RGB{Float64}(1.0,1.0,1.0)\n RGB{Float64}(1.0,1.0,1.0)     RGB{Float64}(1.0,1.0,1.0)\n RGB{Float64}(1.0,1.0,1.0)  …  RGB{Float64}(1.0,1.0,1.0)\n RGB{Float64}(1.0,1.0,1.0)     RGB{Float64}(1.0,1.0,1.0)\n RGB{Float64}(1.0,1.0,1.0)     RGB{Float64}(1.0,1.0,1.0)",
      "image/png": "[encoded data removed]",
      "text/html": [
       "<img src=\"data:image/png;base64,iVBORw0KGgoAAAANSUhEUgAAAHAAAABwCAIAAABJgmMcAAAABGdBTUEAALGPC/xhBQAAAAFzUkdCAK7OHOkAAAAgY0hSTQAAeiYAAICEAAD6AAAAgOgAAHUwAADqYAAAOpgAABdwnLpRPAAABBtJREFUeAHtwU9I1gcYwPGvvk9qv/fVF9KyDpmZoisZlTUK+kMdtkUdIiiD4bGOa4PYYQ62S4Ug/bl06RCd2lrQcK5asGgs6OCCRRtGWYeNDmVbLNNme/Xd6XnsIETy+Po6ns9H8vk8wY8QXAnBlRBcCcGVEFwJwZUQXAnBlRBcCcGVEFwJwZUQXAnBlRBcCcGVEFwJwZUQXAnBlRBcCcGVEFwJwZUQXAnBlRBcCUUsl2NS0vsN5swZTEMDprMT9U8yD1VRwbQSgishuBKCK6EYDA9jRkZQcu8e5tEjzOAgJpXClJZiBgZQFbW1qO9+XYLKZjHr12NSKaZMCK6E4EoIroRCev4cNZTPoO7eTaPaWpjw9CmmtRVz6xZm3z5Mfz/m5EnMqlWoxvcPoOrqMIODmIULmTIhuBKCKyG4EqbZ+Djm+58yqIcPMbdvY+o+S6MyW7ej5paPY5qamFRtLWr8w49Qw8OY5h97MTeeoOaWl2P27MGkUrwJIbgSgishuBK85POYBw9Qv/y9DLVzJ+blS8zly5hsFlNWxitKeZ3DF1ei9lZhkgRTuWED5vp1zKZNmHyeqRKCKyG4EoIrwUlurAT1w8AyVDaLOXIEs3YtZuNG3sj4OGZoCPPpJznMjRuYJEGdu9+GWr58B6q14iUmlWKqhOBKCK6E4EpwIi+GUO/98RXm5Leot3p6UNlLlzDtp1Gj586hyvv6MKdOoUoPHEBlDx3CNDRgVq7EbN6M2lKH6e3FLF5chsqWMWVCcCUEV0JwJXiprMRUVqJGenpQx3nFtm2oUiZkmPBxVxfq6/PnUbuHhjD372NGRzFVVZjmZtT8pXNRHR1plAguhOBKCK6E4EqYDu3tqGT7dtTnu3ZhVqxA/Xv8OGpOYyMmnUbtbmtDjZw9i0q6uzHPnmFyOUxZGSZJUFKCOyG4EoIrIbgSplsmg7lyhcnMOXaM1zpxAvX7zZuolqtXMQ0NmIMHMUuWUChCcCUEV0JwJRSzsTFMTQ2qZfVqTDqN6erCJAkzQQiuhOBKCK6EItPZiTl8+DdU/vG7qJ+bP0CtWYPJ5zElzAwhuBKCKyG4EopAby/m6FHMli1vo7a2Yx4/xly4gGlqYsYJwZUQXAnBlVAEBgcxS5di5s3DtLZiduzANDVRVITgSgiuhOBKmCEvXmCuXcP09w+jqqrSqO5uTH09RUsIroTgSgiuhBnS14fZvx8zOppGrVuHqa9nVhCCKyG4EoIroZAGBlCbKv5CXXzyDurLL+6g/pzfwmwjBFdCcCUEV0IhnT6N6ehAralnQmkNqrqaWUcIroTgSgiuhEJatAizYAEmx4TqamYzIbgSgishuBIKae9ezNgYKkmYUFLCbCYEV0JwJQRXQiHV1DCZDP8fQnAlBFdCcPUfZaDIbeMVzvAAAAAASUVORK5C\">"
      ]
     },
     "metadata": {},
     "execution_count": 7
    }
   ],
   "cell_type": "code",
   "source": [
    "using VisionHeatmaps\n",
    "\n",
    "heatmap(expl)"
   ],
   "metadata": {},
   "execution_count": 7
  },
  {
   "cell_type": "markdown",
   "source": [
    "If we are only interested in the heatmap, we can combine analysis and heatmapping\n",
    "into a single function call:"
   ],
   "metadata": {}
  },
  {
   "outputs": [
    {
     "output_type": "execute_result",
     "data": {
      "text/plain": "28×28 Array{RGB{Float64},2} with eltype ColorTypes.RGB{Float64}:\n RGB{Float64}(1.0,1.0,1.0)  …  RGB{Float64}(1.0,1.0,1.0)\n RGB{Float64}(1.0,1.0,1.0)     RGB{Float64}(1.0,1.0,1.0)\n RGB{Float64}(1.0,1.0,1.0)     RGB{Float64}(1.0,1.0,1.0)\n RGB{Float64}(1.0,1.0,1.0)     RGB{Float64}(1.0,1.0,1.0)\n RGB{Float64}(1.0,1.0,1.0)     RGB{Float64}(1.0,1.0,1.0)\n RGB{Float64}(1.0,1.0,1.0)  …  RGB{Float64}(1.0,1.0,1.0)\n RGB{Float64}(1.0,1.0,1.0)     RGB{Float64}(1.0,1.0,1.0)\n RGB{Float64}(1.0,1.0,1.0)     RGB{Float64}(1.0,1.0,1.0)\n RGB{Float64}(1.0,1.0,1.0)     RGB{Float64}(1.0,1.0,1.0)\n RGB{Float64}(1.0,1.0,1.0)     RGB{Float64}(1.0,1.0,1.0)\n ⋮                          ⋱  \n RGB{Float64}(1.0,1.0,1.0)     RGB{Float64}(1.0,1.0,1.0)\n RGB{Float64}(1.0,1.0,1.0)  …  RGB{Float64}(1.0,1.0,1.0)\n RGB{Float64}(1.0,1.0,1.0)     RGB{Float64}(1.0,1.0,1.0)\n RGB{Float64}(1.0,1.0,1.0)     RGB{Float64}(1.0,1.0,1.0)\n RGB{Float64}(1.0,1.0,1.0)     RGB{Float64}(1.0,1.0,1.0)\n RGB{Float64}(1.0,1.0,1.0)     RGB{Float64}(1.0,1.0,1.0)\n RGB{Float64}(1.0,1.0,1.0)  …  RGB{Float64}(1.0,1.0,1.0)\n RGB{Float64}(1.0,1.0,1.0)     RGB{Float64}(1.0,1.0,1.0)\n RGB{Float64}(1.0,1.0,1.0)     RGB{Float64}(1.0,1.0,1.0)",
      "image/png": "[encoded data removed]",
      "text/html": [
       "<img src=\"data:image/png;base64,iVBORw0KGgoAAAANSUhEUgAAAHAAAABwCAIAAABJgmMcAAAABGdBTUEAALGPC/xhBQAAAAFzUkdCAK7OHOkAAAAgY0hSTQAAeiYAAICEAAD6AAAAgOgAAHUwAADqYAAAOpgAABdwnLpRPAAABBtJREFUeAHtwU9I1gcYwPGvvk9qv/fVF9KyDpmZoisZlTUK+kMdtkUdIiiD4bGOa4PYYQ62S4Ug/bl06RCd2lrQcK5asGgs6OCCRRtGWYeNDmVbLNNme/Xd6XnsIETy+Po6ns9H8vk8wY8QXAnBlRBcCcGVEFwJwZUQXAnBlRBcCcGVEFwJwZUQXAnBlRBcCcGVEFwJwZUQXAnBlRBcCcGVEFwJwZUQXAnBlRBcCUUsl2NS0vsN5swZTEMDprMT9U8yD1VRwbQSgishuBKCK6EYDA9jRkZQcu8e5tEjzOAgJpXClJZiBgZQFbW1qO9+XYLKZjHr12NSKaZMCK6E4EoIroRCev4cNZTPoO7eTaPaWpjw9CmmtRVz6xZm3z5Mfz/m5EnMqlWoxvcPoOrqMIODmIULmTIhuBKCKyG4EqbZ+Djm+58yqIcPMbdvY+o+S6MyW7ej5paPY5qamFRtLWr8w49Qw8OY5h97MTeeoOaWl2P27MGkUrwJIbgSgishuBK85POYBw9Qv/y9DLVzJ+blS8zly5hsFlNWxitKeZ3DF1ei9lZhkgRTuWED5vp1zKZNmHyeqRKCKyG4EoIrwUlurAT1w8AyVDaLOXIEs3YtZuNG3sj4OGZoCPPpJznMjRuYJEGdu9+GWr58B6q14iUmlWKqhOBKCK6E4EpwIi+GUO/98RXm5Leot3p6UNlLlzDtp1Gj586hyvv6MKdOoUoPHEBlDx3CNDRgVq7EbN6M2lKH6e3FLF5chsqWMWVCcCUEV0JwJXiprMRUVqJGenpQx3nFtm2oUiZkmPBxVxfq6/PnUbuHhjD372NGRzFVVZjmZtT8pXNRHR1plAguhOBKCK6E4EqYDu3tqGT7dtTnu3ZhVqxA/Xv8OGpOYyMmnUbtbmtDjZw9i0q6uzHPnmFyOUxZGSZJUFKCOyG4EoIrIbgSplsmg7lyhcnMOXaM1zpxAvX7zZuolqtXMQ0NmIMHMUuWUChCcCUEV0JwJRSzsTFMTQ2qZfVqTDqN6erCJAkzQQiuhOBKCK6EItPZiTl8+DdU/vG7qJ+bP0CtWYPJ5zElzAwhuBKCKyG4EopAby/m6FHMli1vo7a2Yx4/xly4gGlqYsYJwZUQXAnBlVAEBgcxS5di5s3DtLZiduzANDVRVITgSgiuhOBKmCEvXmCuXcP09w+jqqrSqO5uTH09RUsIroTgSgiuhBnS14fZvx8zOppGrVuHqa9nVhCCKyG4EoIroZAGBlCbKv5CXXzyDurLL+6g/pzfwmwjBFdCcCUEV0IhnT6N6ehAralnQmkNqrqaWUcIroTgSgiuhEJatAizYAEmx4TqamYzIbgSgishuBIKae9ezNgYKkmYUFLCbCYEV0JwJQRXQiHV1DCZDP8fQnAlBFdCcPUfZaDIbeMVzvAAAAAASUVORK5C\">"
      ]
     },
     "metadata": {},
     "execution_count": 8
    }
   ],
   "cell_type": "code",
   "source": [
    "heatmap(input, analyzer)"
   ],
   "metadata": {},
   "execution_count": 8
  },
  {
   "cell_type": "markdown",
   "source": [
    "For a more detailed explanation of the `heatmap` function,\n",
    "refer to the heatmapping section."
   ],
   "metadata": {}
  },
  {
   "cell_type": "markdown",
   "source": [
    "## List of analyzers"
   ],
   "metadata": {}
  },
  {
   "cell_type": "markdown",
   "source": [
    "## Neuron selection\n",
    "By passing an additional index to our call to `analyze`,\n",
    "we can compute an explanation with respect to a specific output neuron.\n",
    "Let's see why the output wasn't interpreted as a 4 (output neuron at index 5)"
   ],
   "metadata": {}
  },
  {
   "outputs": [
    {
     "output_type": "execute_result",
     "data": {
      "text/plain": "28×28 Array{RGB{Float64},2} with eltype ColorTypes.RGB{Float64}:\n RGB{Float64}(1.0,1.0,1.0)  …  RGB{Float64}(1.0,1.0,1.0)\n RGB{Float64}(1.0,1.0,1.0)     RGB{Float64}(1.0,1.0,1.0)\n RGB{Float64}(1.0,1.0,1.0)     RGB{Float64}(1.0,1.0,1.0)\n RGB{Float64}(1.0,1.0,1.0)     RGB{Float64}(1.0,1.0,1.0)\n RGB{Float64}(1.0,1.0,1.0)     RGB{Float64}(1.0,1.0,1.0)\n RGB{Float64}(1.0,1.0,1.0)  …  RGB{Float64}(1.0,1.0,1.0)\n RGB{Float64}(1.0,1.0,1.0)     RGB{Float64}(1.0,1.0,1.0)\n RGB{Float64}(1.0,1.0,1.0)     RGB{Float64}(1.0,1.0,1.0)\n RGB{Float64}(1.0,1.0,1.0)     RGB{Float64}(1.0,1.0,1.0)\n RGB{Float64}(1.0,1.0,1.0)     RGB{Float64}(1.0,1.0,1.0)\n ⋮                          ⋱  \n RGB{Float64}(1.0,1.0,1.0)     RGB{Float64}(1.0,1.0,1.0)\n RGB{Float64}(1.0,1.0,1.0)  …  RGB{Float64}(1.0,1.0,1.0)\n RGB{Float64}(1.0,1.0,1.0)     RGB{Float64}(1.0,1.0,1.0)\n RGB{Float64}(1.0,1.0,1.0)     RGB{Float64}(1.0,1.0,1.0)\n RGB{Float64}(1.0,1.0,1.0)     RGB{Float64}(1.0,1.0,1.0)\n RGB{Float64}(1.0,1.0,1.0)     RGB{Float64}(1.0,1.0,1.0)\n RGB{Float64}(1.0,1.0,1.0)  …  RGB{Float64}(1.0,1.0,1.0)\n RGB{Float64}(1.0,1.0,1.0)     RGB{Float64}(1.0,1.0,1.0)\n RGB{Float64}(1.0,1.0,1.0)     RGB{Float64}(1.0,1.0,1.0)",
      "image/png": "[encoded data removed]",
      "text/html": [
       "<img src=\"data:image/png;base64,iVBORw0KGgoAAAANSUhEUgAAAHAAAABwCAIAAABJgmMcAAAABGdBTUEAALGPC/xhBQAAAAFzUkdCAK7OHOkAAAAgY0hSTQAAeiYAAICEAAD6AAAAgOgAAHUwAADqYAAAOpgAABdwnLpRPAAABBtJREFUeAHtwU9oFgQYx/Hv+76/d76be3VzNf8w9DRQIaVMtAJBj1INM4gsJfKQsJsShRcP0jkRI2QdJJuEHiQQPHgJ0cQwRUVKUDuo5ZTx6qY5ne/W6XnWIQjH49zi+Xw0OjpKiiNSKJFCiRRKpFAihRIplEihRAolUiiRQokUSqRQIoUSKZRIoUQKJVIokUKJFEqkUCKFEimUSKFECiVSKJFCiRRKTGY3b+KKRcyX38/FbN36C2P6MPv3r8V8+N4wrlzmWRIplEihRAolJoPHj3HnzmEuNq3AbNuGO3bsLmO+ZkwfZuPGu5ju7g2Yri7ct59exC1ahJMYL5FCiRRKpFBiAt26havVcHv2NGDWrFmBOXQI19mJ6+5uwTx58g1m927c8eM/YAYG7mMWLGjG7P3pJcwnnUM4ifESKZRIoUQKJZ6x3l7cjRu4z7rvY3bsaMa0l/ox69+ZhamPFDClEv/q7FncoUNdmGPHcNu24datw+34o4LZvh03bRpPRaRQIoUSKZQIMjyMq9VwH6wfwt2+jWvqwBQe4oZntGHKBVypxH/64vNBnITZsKERU6/j9u7FHTiAK5cZN5FCiRRKpFAiSPnXC5jmpUtxra2Y/loN09bXh3mxvZ2nMTqKKzCKu3IFd+kSptDWhtnUMQ3z/o9rMGWN4goFxkukUCKFEimUiFIsYprKZUytVsOU+YcTJ3C9vbihIdzatbjGRszoRx9jCpd/w/X24pYtwx05gqtWMeXz53GbN+NmzGC8RAolUiiRQokoixfjTp7EtPb0YAZ7ejB969djfmbMG4yZdfo0rqUFUzxzBjd7Nu7UKdzdu7j+ftyuXbiODlypRASRQokUSqRQIkqxiFu+HFN/ZTmmumsXpnr6NOatmTNxd+7g+vtxv/+OO3oU9+gRbngY19aG27QJN38+rlAgmkihRAolUijxjJVKjGlqwq1ezVO5dw937Rpu3jzcqlW4lStx1SoTRaRQIoUSKZSYxA4exFUqMzFvVyq4ri7MjTmvYjqqPBcihRIplEihxCSzbx9uyxbc4cO47177CrO4iFsyh+dOpFAihRIplJgEHjzADQ7idu7E3byJa2jALViAk3juRAolUiiRQolJYPp03Ny5uHffHMINDGAGG9sx1SqTikihRAolUijxnNTruDNncNev485frmCWttcw1SqTlkihRAolUigxkUZGMFevFjELF+Ik3MAAY5bMYSoQKZRIoUQKJSbSgweYzs4qpjBSxywrXsDUX38ZVygwFYgUSqRQIoUSE6lexxTu3MY1N+MWLcKUSkw5IoUSKZRIocREqlQwfz5swZT/wr0wa4SpTKRQIoUSKZSYSENDmEqlgmloYEyxyFQmUiiRQokUSkyklhZMK/9PIoUSKZRIof4G+FXTyaR4K3oAAAAASUVORK5C\">"
      ]
     },
     "metadata": {},
     "execution_count": 9
    }
   ],
   "cell_type": "code",
   "source": [
    "expl = analyze(input, analyzer, 5)\n",
    "heatmap(expl)"
   ],
   "metadata": {},
   "execution_count": 9
  },
  {
   "cell_type": "markdown",
   "source": [
    "This heatmap shows us that the \"upper loop\" of the hand-drawn 9 has negative relevance\n",
    "with respect to the output neuron corresponding to digit 4!"
   ],
   "metadata": {}
  },
  {
   "cell_type": "markdown",
   "source": [
    "## Analyzing batches\n",
    "ExplainableAI also supports explanations of input batches:"
   ],
   "metadata": {}
  },
  {
   "outputs": [],
   "cell_type": "code",
   "source": [
    "batchsize = 20\n",
    "xs, _ = MNIST(Float32, :test)[1:batchsize]\n",
    "batch = reshape(xs, 28, 28, 1, :) # reshape to WHCN format\n",
    "expl = analyze(batch, analyzer);"
   ],
   "metadata": {},
   "execution_count": 10
  },
  {
   "cell_type": "markdown",
   "source": [
    "This will return a single `Explanation` `expl` for the entire batch.\n",
    "Calling `heatmap` on `expl` will detect the batch dimension and return a vector of heatmaps."
   ],
   "metadata": {}
  },
  {
   "outputs": [
    {
     "output_type": "execute_result",
     "data": {
      "text/plain": "20-element Vector{Matrix{ColorTypes.RGB{Float64}}}:\n [RGB{Float64}(1.0,1.0,1.0) RGB{Float64}(1.0,1.0,1.0) … RGB{Float64}(1.0,1.0,1.0) RGB{Float64}(1.0,1.0,1.0); RGB{Float64}(1.0,1.0,1.0) RGB{Float64}(1.0,1.0,1.0) … RGB{Float64}(1.0,1.0,1.0) RGB{Float64}(1.0,1.0,1.0); … ; RGB{Float64}(1.0,1.0,1.0) RGB{Float64}(1.0,1.0,1.0) … RGB{Float64}(1.0,1.0,1.0) RGB{Float64}(1.0,1.0,1.0); RGB{Float64}(1.0,1.0,1.0) RGB{Float64}(1.0,1.0,1.0) … RGB{Float64}(1.0,1.0,1.0) RGB{Float64}(1.0,1.0,1.0)]\n [RGB{Float64}(1.0,1.0,1.0) RGB{Float64}(1.0,1.0,1.0) … RGB{Float64}(1.0,1.0,1.0) RGB{Float64}(1.0,1.0,1.0); RGB{Float64}(1.0,1.0,1.0) RGB{Float64}(1.0,1.0,1.0) … RGB{Float64}(1.0,1.0,1.0) RGB{Float64}(1.0,1.0,1.0); … ; RGB{Float64}(1.0,1.0,1.0) RGB{Float64}(1.0,1.0,1.0) … RGB{Float64}(1.0,1.0,1.0) RGB{Float64}(1.0,1.0,1.0); RGB{Float64}(1.0,1.0,1.0) RGB{Float64}(1.0,1.0,1.0) … RGB{Float64}(1.0,1.0,1.0) RGB{Float64}(1.0,1.0,1.0)]\n [RGB{Float64}(1.0,1.0,1.0) RGB{Float64}(1.0,1.0,1.0) … RGB{Float64}(1.0,1.0,1.0) RGB{Float64}(1.0,1.0,1.0); RGB{Float64}(1.0,1.0,1.0) RGB{Float64}(1.0,1.0,1.0) … RGB{Float64}(1.0,1.0,1.0) RGB{Float64}(1.0,1.0,1.0); … ; RGB{Float64}(1.0,1.0,1.0) RGB{Float64}(1.0,1.0,1.0) … RGB{Float64}(1.0,1.0,1.0) RGB{Float64}(1.0,1.0,1.0); RGB{Float64}(1.0,1.0,1.0) RGB{Float64}(1.0,1.0,1.0) … RGB{Float64}(1.0,1.0,1.0) RGB{Float64}(1.0,1.0,1.0)]\n [RGB{Float64}(1.0,1.0,1.0) RGB{Float64}(1.0,1.0,1.0) … RGB{Float64}(1.0,1.0,1.0) RGB{Float64}(1.0,1.0,1.0); RGB{Float64}(1.0,1.0,1.0) RGB{Float64}(1.0,1.0,1.0) … RGB{Float64}(1.0,1.0,1.0) RGB{Float64}(1.0,1.0,1.0); … ; RGB{Float64}(1.0,1.0,1.0) RGB{Float64}(1.0,1.0,1.0) … RGB{Float64}(1.0,1.0,1.0) RGB{Float64}(1.0,1.0,1.0); RGB{Float64}(1.0,1.0,1.0) RGB{Float64}(1.0,1.0,1.0) … RGB{Float64}(1.0,1.0,1.0) RGB{Float64}(1.0,1.0,1.0)]\n [RGB{Float64}(1.0,1.0,1.0) RGB{Float64}(1.0,1.0,1.0) … RGB{Float64}(1.0,1.0,1.0) RGB{Float64}(1.0,1.0,1.0); RGB{Float64}(1.0,1.0,1.0) RGB{Float64}(1.0,1.0,1.0) … RGB{Float64}(1.0,1.0,1.0) RGB{Float64}(1.0,1.0,1.0); … ; RGB{Float64}(1.0,1.0,1.0) RGB{Float64}(1.0,1.0,1.0) … RGB{Float64}(1.0,1.0,1.0) RGB{Float64}(1.0,1.0,1.0); RGB{Float64}(1.0,1.0,1.0) RGB{Float64}(1.0,1.0,1.0) … RGB{Float64}(1.0,1.0,1.0) RGB{Float64}(1.0,1.0,1.0)]\n [RGB{Float64}(1.0,1.0,1.0) RGB{Float64}(1.0,1.0,1.0) … RGB{Float64}(1.0,1.0,1.0) RGB{Float64}(1.0,1.0,1.0); RGB{Float64}(1.0,1.0,1.0) RGB{Float64}(1.0,1.0,1.0) … RGB{Float64}(1.0,1.0,1.0) RGB{Float64}(1.0,1.0,1.0); … ; RGB{Float64}(1.0,1.0,1.0) RGB{Float64}(1.0,1.0,1.0) … RGB{Float64}(1.0,1.0,1.0) RGB{Float64}(1.0,1.0,1.0); RGB{Float64}(1.0,1.0,1.0) RGB{Float64}(1.0,1.0,1.0) … RGB{Float64}(1.0,1.0,1.0) RGB{Float64}(1.0,1.0,1.0)]\n [RGB{Float64}(1.0,1.0,1.0) RGB{Float64}(1.0,1.0,1.0) … RGB{Float64}(1.0,1.0,1.0) RGB{Float64}(1.0,1.0,1.0); RGB{Float64}(1.0,1.0,1.0) RGB{Float64}(1.0,1.0,1.0) … RGB{Float64}(1.0,1.0,1.0) RGB{Float64}(1.0,1.0,1.0); … ; RGB{Float64}(1.0,1.0,1.0) RGB{Float64}(1.0,1.0,1.0) … RGB{Float64}(1.0,1.0,1.0) RGB{Float64}(1.0,1.0,1.0); RGB{Float64}(1.0,1.0,1.0) RGB{Float64}(1.0,1.0,1.0) … RGB{Float64}(1.0,1.0,1.0) RGB{Float64}(1.0,1.0,1.0)]\n [RGB{Float64}(1.0,1.0,1.0) RGB{Float64}(1.0,1.0,1.0) … RGB{Float64}(1.0,1.0,1.0) RGB{Float64}(1.0,1.0,1.0); RGB{Float64}(1.0,1.0,1.0) RGB{Float64}(1.0,1.0,1.0) … RGB{Float64}(1.0,1.0,1.0) RGB{Float64}(1.0,1.0,1.0); … ; RGB{Float64}(1.0,1.0,1.0) RGB{Float64}(1.0,1.0,1.0) … RGB{Float64}(1.0,1.0,1.0) RGB{Float64}(1.0,1.0,1.0); RGB{Float64}(1.0,1.0,1.0) RGB{Float64}(1.0,1.0,1.0) … RGB{Float64}(1.0,1.0,1.0) RGB{Float64}(1.0,1.0,1.0)]\n [RGB{Float64}(0.9999998474121093,0.9999998474121093,1.0) RGB{Float64}(0.9999998474121093,0.9999998474121093,1.0) … RGB{Float64}(0.9999998474121093,0.9999998474121093,1.0) RGB{Float64}(0.9999998474121093,0.9999998474121093,1.0); RGB{Float64}(0.9999998474121093,0.9999998474121093,1.0) RGB{Float64}(0.9999998474121093,0.9999998474121093,1.0) … RGB{Float64}(0.9999998474121093,0.9999998474121093,1.0) RGB{Float64}(0.9999998474121093,0.9999998474121093,1.0); … ; RGB{Float64}(0.9999998474121093,0.9999998474121093,1.0) RGB{Float64}(0.9999998474121093,0.9999998474121093,1.0) … RGB{Float64}(0.9999998474121093,0.9999998474121093,1.0) RGB{Float64}(0.9999998474121093,0.9999998474121093,1.0); RGB{Float64}(0.9999998474121093,0.9999998474121093,1.0) RGB{Float64}(0.9999998474121093,0.9999998474121093,1.0) … RGB{Float64}(0.9999998474121093,0.9999998474121093,1.0) RGB{Float64}(0.9999998474121093,0.9999998474121093,1.0)]\n [RGB{Float64}(1.0,1.0,1.0) RGB{Float64}(1.0,1.0,1.0) … RGB{Float64}(1.0,1.0,1.0) RGB{Float64}(1.0,1.0,1.0); RGB{Float64}(1.0,1.0,1.0) RGB{Float64}(1.0,1.0,1.0) … RGB{Float64}(1.0,1.0,1.0) RGB{Float64}(1.0,1.0,1.0); … ; RGB{Float64}(1.0,1.0,1.0) RGB{Float64}(1.0,1.0,1.0) … RGB{Float64}(1.0,1.0,1.0) RGB{Float64}(1.0,1.0,1.0); RGB{Float64}(1.0,1.0,1.0) RGB{Float64}(1.0,1.0,1.0) … RGB{Float64}(1.0,1.0,1.0) RGB{Float64}(1.0,1.0,1.0)]\n [RGB{Float64}(0.9999998474121093,0.9999998474121093,1.0) RGB{Float64}(0.9999998474121093,0.9999998474121093,1.0) … RGB{Float64}(0.9999998474121093,0.9999998474121093,1.0) RGB{Float64}(0.9999998474121093,0.9999998474121093,1.0); RGB{Float64}(0.9999998474121093,0.9999998474121093,1.0) RGB{Float64}(0.9999998474121093,0.9999998474121093,1.0) … RGB{Float64}(0.9999998474121093,0.9999998474121093,1.0) RGB{Float64}(0.9999998474121093,0.9999998474121093,1.0); … ; RGB{Float64}(0.9999998474121093,0.9999998474121093,1.0) RGB{Float64}(0.9999998474121093,0.9999998474121093,1.0) … RGB{Float64}(0.9999998474121093,0.9999998474121093,1.0) RGB{Float64}(0.9999998474121093,0.9999998474121093,1.0); RGB{Float64}(0.9999998474121093,0.9999998474121093,1.0) RGB{Float64}(0.9999998474121093,0.9999998474121093,1.0) … RGB{Float64}(0.9999998474121093,0.9999998474121093,1.0) RGB{Float64}(0.9999998474121093,0.9999998474121093,1.0)]\n [RGB{Float64}(1.0,1.0,1.0) RGB{Float64}(1.0,1.0,1.0) … RGB{Float64}(1.0,1.0,1.0) RGB{Float64}(1.0,1.0,1.0); RGB{Float64}(1.0,1.0,1.0) RGB{Float64}(1.0,1.0,1.0) … RGB{Float64}(1.0,1.0,1.0) RGB{Float64}(1.0,1.0,1.0); … ; RGB{Float64}(1.0,1.0,1.0) RGB{Float64}(1.0,1.0,1.0) … RGB{Float64}(1.0,1.0,1.0) RGB{Float64}(1.0,1.0,1.0); RGB{Float64}(1.0,1.0,1.0) RGB{Float64}(1.0,1.0,1.0) … RGB{Float64}(1.0,1.0,1.0) RGB{Float64}(1.0,1.0,1.0)]\n [RGB{Float64}(1.0,1.0,1.0) RGB{Float64}(1.0,1.0,1.0) … RGB{Float64}(1.0,1.0,1.0) RGB{Float64}(1.0,1.0,1.0); RGB{Float64}(1.0,1.0,1.0) RGB{Float64}(1.0,1.0,1.0) … RGB{Float64}(1.0,1.0,1.0) RGB{Float64}(1.0,1.0,1.0); … ; RGB{Float64}(1.0,1.0,1.0) RGB{Float64}(1.0,1.0,1.0) … RGB{Float64}(1.0,1.0,1.0) RGB{Float64}(1.0,1.0,1.0); RGB{Float64}(1.0,1.0,1.0) RGB{Float64}(1.0,1.0,1.0) … RGB{Float64}(1.0,1.0,1.0) RGB{Float64}(1.0,1.0,1.0)]\n [RGB{Float64}(1.0,1.0,1.0) RGB{Float64}(1.0,1.0,1.0) … RGB{Float64}(1.0,1.0,1.0) RGB{Float64}(1.0,1.0,1.0); RGB{Float64}(1.0,1.0,1.0) RGB{Float64}(1.0,1.0,1.0) … RGB{Float64}(1.0,1.0,1.0) RGB{Float64}(1.0,1.0,1.0); … ; RGB{Float64}(1.0,1.0,1.0) RGB{Float64}(1.0,1.0,1.0) … RGB{Float64}(1.0,1.0,1.0) RGB{Float64}(1.0,1.0,1.0); RGB{Float64}(1.0,1.0,1.0) RGB{Float64}(1.0,1.0,1.0) … RGB{Float64}(1.0,1.0,1.0) RGB{Float64}(1.0,1.0,1.0)]\n [RGB{Float64}(0.9999998474121093,0.9999998474121093,1.0) RGB{Float64}(0.9999998474121093,0.9999998474121093,1.0) … RGB{Float64}(0.9999998474121093,0.9999998474121093,1.0) RGB{Float64}(0.9999998474121093,0.9999998474121093,1.0); RGB{Float64}(0.9999998474121093,0.9999998474121093,1.0) RGB{Float64}(0.9999998474121093,0.9999998474121093,1.0) … RGB{Float64}(0.9999998474121093,0.9999998474121093,1.0) RGB{Float64}(0.9999998474121093,0.9999998474121093,1.0); … ; RGB{Float64}(0.9999998474121093,0.9999998474121093,1.0) RGB{Float64}(0.9999998474121093,0.9999998474121093,1.0) … RGB{Float64}(0.9999998474121093,0.9999998474121093,1.0) RGB{Float64}(0.9999998474121093,0.9999998474121093,1.0); RGB{Float64}(0.9999998474121093,0.9999998474121093,1.0) RGB{Float64}(0.9999998474121093,0.9999998474121093,1.0) … RGB{Float64}(0.9999998474121093,0.9999998474121093,1.0) RGB{Float64}(0.9999998474121093,0.9999998474121093,1.0)]\n [RGB{Float64}(1.0,1.0,1.0) RGB{Float64}(1.0,1.0,1.0) … RGB{Float64}(1.0,1.0,1.0) RGB{Float64}(1.0,1.0,1.0); RGB{Float64}(1.0,1.0,1.0) RGB{Float64}(1.0,1.0,1.0) … RGB{Float64}(1.0,1.0,1.0) RGB{Float64}(1.0,1.0,1.0); … ; RGB{Float64}(1.0,1.0,1.0) RGB{Float64}(1.0,1.0,1.0) … RGB{Float64}(1.0,1.0,1.0) RGB{Float64}(1.0,1.0,1.0); RGB{Float64}(1.0,1.0,1.0) RGB{Float64}(1.0,1.0,1.0) … RGB{Float64}(1.0,1.0,1.0) RGB{Float64}(1.0,1.0,1.0)]\n [RGB{Float64}(1.0,1.0,1.0) RGB{Float64}(1.0,1.0,1.0) … RGB{Float64}(1.0,1.0,1.0) RGB{Float64}(1.0,1.0,1.0); RGB{Float64}(1.0,1.0,1.0) RGB{Float64}(1.0,1.0,1.0) … RGB{Float64}(1.0,1.0,1.0) RGB{Float64}(1.0,1.0,1.0); … ; RGB{Float64}(1.0,1.0,1.0) RGB{Float64}(1.0,1.0,1.0) … RGB{Float64}(1.0,1.0,1.0) RGB{Float64}(1.0,1.0,1.0); RGB{Float64}(1.0,1.0,1.0) RGB{Float64}(1.0,1.0,1.0) … RGB{Float64}(1.0,1.0,1.0) RGB{Float64}(1.0,1.0,1.0)]\n [RGB{Float64}(1.0,1.0,1.0) RGB{Float64}(1.0,1.0,1.0) … RGB{Float64}(1.0,1.0,1.0) RGB{Float64}(1.0,1.0,1.0); RGB{Float64}(1.0,1.0,1.0) RGB{Float64}(1.0,1.0,1.0) … RGB{Float64}(1.0,1.0,1.0) RGB{Float64}(1.0,1.0,1.0); … ; RGB{Float64}(1.0,1.0,1.0) RGB{Float64}(1.0,1.0,1.0) … RGB{Float64}(1.0,1.0,1.0) RGB{Float64}(1.0,1.0,1.0); RGB{Float64}(1.0,1.0,1.0) RGB{Float64}(1.0,1.0,1.0) … RGB{Float64}(1.0,1.0,1.0) RGB{Float64}(1.0,1.0,1.0)]\n [RGB{Float64}(1.0,1.0,1.0) RGB{Float64}(1.0,1.0,1.0) … RGB{Float64}(1.0,1.0,1.0) RGB{Float64}(1.0,1.0,1.0); RGB{Float64}(1.0,1.0,1.0) RGB{Float64}(1.0,1.0,1.0) … RGB{Float64}(1.0,1.0,1.0) RGB{Float64}(1.0,1.0,1.0); … ; RGB{Float64}(1.0,1.0,1.0) RGB{Float64}(1.0,1.0,1.0) … RGB{Float64}(1.0,1.0,1.0) RGB{Float64}(1.0,1.0,1.0); RGB{Float64}(1.0,1.0,1.0) RGB{Float64}(1.0,1.0,1.0) … RGB{Float64}(1.0,1.0,1.0) RGB{Float64}(1.0,1.0,1.0)]\n [RGB{Float64}(1.0,0.9999998474121093,0.9999998474121093) RGB{Float64}(1.0,0.9999998474121093,0.9999998474121093) … RGB{Float64}(1.0,0.9999998474121093,0.9999998474121093) RGB{Float64}(1.0,0.9999998474121093,0.9999998474121093); RGB{Float64}(1.0,0.9999998474121093,0.9999998474121093) RGB{Float64}(1.0,0.9999998474121093,0.9999998474121093) … RGB{Float64}(1.0,0.9999998474121093,0.9999998474121093) RGB{Float64}(1.0,0.9999998474121093,0.9999998474121093); … ; RGB{Float64}(1.0,0.9999998474121093,0.9999998474121093) RGB{Float64}(1.0,0.9999998474121093,0.9999998474121093) … RGB{Float64}(1.0,0.9999998474121093,0.9999998474121093) RGB{Float64}(1.0,0.9999998474121093,0.9999998474121093); RGB{Float64}(1.0,0.9999998474121093,0.9999998474121093) RGB{Float64}(1.0,0.9999998474121093,0.9999998474121093) … RGB{Float64}(1.0,0.9999998474121093,0.9999998474121093) RGB{Float64}(1.0,0.9999998474121093,0.9999998474121093)]",
      "text/html": [
       "<table><tbody><tr><td style='text-align:center;vertical-align:middle; margin: 0.5em;border:1px #90999f solid;border-collapse:collapse'><img style='max-width: 100px; max-height:100px;display:inline' src=\"data:image/png;base64,iVBORw0KGgoAAAANSUhEUgAAAHAAAABwCAIAAABJgmMcAAAABGdBTUEAALGPC/xhBQAAAAFzUkdCAK7OHOkAAAAgY0hSTQAAeiYAAICEAAD6AAAAgOgAAHUwAADqYAAAOpgAABdwnLpRPAAAAy5JREFUeAHtwUFoFnQcxvHv+77PXMQ7Z3u3ucM0ZofcZHkQGRJDinIeYl6jJE9CF0/V0UOXgbjOCzxIeqpjeJlFdBgeIhAqHKKom4hQpG2ieNjeefr/1mEdgkff95Xf56ONjQ2Sj0hWIlmJZCWSlUhWIlmJZCWSlUhWIlmJZCWSlUhWIlmJZCWSlUhWIlmJZCWSlUhWIlmJZCWSlUhWIlmJZCVc5ucJV64QpqcJjQZheJhQqxEqFTqZSFYiWYlkJUzW35uiqK2uEs6cIdy8SRgbI/T3Ex49IjSbhNlZQrNJ8dPvAxTv1n8hHDhAWFggDA0R+vsJjQYOIlmJZCWSlTB58oTQMzREOHeO8PgxoVIh7N9PGB8nnD1LuHGDsHcvxeHDbPrnDcL58xR/nTxJMVCvE2ZmCKdO4SCSlUhWIlkJk54eNk1OsqXeXrZ07x7F8v0uil27CIuLhAd/ENbXCRMTDYpXTpygGJidpXhw/TpF39QUbiJZiWQlkpVoB11dFLt3s6WxMf6fH34mrKxQ9M3NEfbswU0kK5GsRLISL5GVFULvzp0UX31+n+KDdwhvCjuRrESyEslKvEQuXSLUam9RzMwQjh7luRLJSiQrkaxEh1tcJHz8/p8Uf9cGKS5fJuzbx3MlkpVIViJZiQ43+tu3hMFBisav31C89tkXvCgiWYlkJZKV6ERPnxKOH6f4em2N4tNr1yiqVV4YkaxEshLJSnSi0VGKL9fWKKb5l9FRWkEkK5GsRLISnWJ5mTA+TnH6zh2K6sICrSaSlUhWIlmJdra+TtixgzA3R/HdR99TfPg2LSeSlUhWIlmJNjb/Y41iaWk7RXf3dopjx2grIlmJZCWSlWgzDx8SRkYIzSZhcpJQr9NWRLISyUokK9EGNjYIFy4QVlcJpz9ZItRfp12JZCWSlUhWog1cvUoYGSEcPMimwWE6gUhWIlmJZCVa5NYtwsWLhCNHCHfvEhqNGsW2Gm1LJCuRrESyEi1y+zbh0CFCXx+hWiVsU5NNVdqVSFYiWYlkJVpkYoJQrRJe7V4nVCqEapVOIJKVSFYiWYkWqdf5DzU6mUhWIlmJZPUMPjaFoUVYcacAAAAASUVORK5C\"></td><td style='text-align:center;vertical-align:middle; margin: 0.5em;border:1px #90999f solid;border-collapse:collapse'><img style='max-width: 100px; max-height:100px;display:inline' src=\"data:image/png;base64,iVBORw0KGgoAAAANSUhEUgAAAHAAAABwCAIAAABJgmMcAAAABGdBTUEAALGPC/xhBQAAAAFzUkdCAK7OHOkAAAAgY0hSTQAAeiYAAICEAAD6AAAAgOgAAHUwAADqYAAAOpgAABdwnLpRPAAAA+xJREFUeAHtwU9IFnYcx/G3Pp/HR5+nKfRYDDoU6Qo2powYJHui0SL7B6OiIASDEUHQzkEddig6xXaoYAzaLVjIjFjHVhdtnbaIyPLiBpEmjlzpHvNfO/2+7hDsD9/HR+H7eun169cEPyK4EsGVCK5EcCWCKxFcieBKBFciuBLBlQiuRLVMTWEGBjC5HGZkBFMuk0x9sodkchJTLFJ1IrgSwZUIrsRi6u/H3L6NGRrC5HKYNWswDx6Q1Dc2kky+u4XkxQtMYyNVIYIrEVyJ4EpU2uwsyZ8ffESSf/kSs2MHpljErFqF6evD9PaSFEdHMbt2sSBPNYjgSgRXIrgSFVAuY65cEUmhgGlr20nyXssUJpvFZDKYzk7MvXuYmzcxmzZh1q2jGkRwJYIrEVyJChgexvT3Y0olTEsLC+rr+UdPnmDa2zF79mAkqk0EVyK4EsGVqID16zHnz2NyOUx9Pf/Jtz+uJenqWksyOIh5v26UahPBlQiuRHAlKqxY5H+7eBHz8CFmfh5zdN/vmKaVVJsIrkRwJYIrscQ8fozJ5zFHjmAGBzEzjUWSrKg6EVyJ4EoEV2KJaW3FbPzlO0zzhyR1dS0k2SxLigiuRHAlgiuxFIyNkdwZaCbZ0tODWb2apP3jFpYqEVyJ4EoEV6JKxsYwp041kxw7hvnty+9JVq7EvFXLkiWCKxFcieBKVMnJk5jLn9/DbNiAuX4dc/gwy4EIrkRwJYIrsZjGx0kur7uAqf0U09uL2beP5UYEVyK4EsGVqLRXrzAdHZhCAfPsGaajA1MosNyI4EoEVyK4EpV2+jTJ/UePSK6x4Itt2zAHD7KcieBKBFciuBKVtn07Sdv4OEmbhDlzBlNXx3ImgisRXIngSlRaqUTyU9NOkqdPMQd4hZmdxdTUYKanMbW1mFyON5mbw8zMYObnMRImm8XU/DqEGRnB5POYtjZMTQ2JCK5EcCWCK1Fp09MkQ0OY4WHMhW9yJLt3Y1om75NMtreTFA4dwnR2kpQPf0bSMPAzSebcOczRo5hLlzBdXZhMBlMqYbJZkrn5GpJMBiOCKxFcieBKVNqdOyQHDuwl6evDbN2KOXEC8/VX75AUSiVMayvm1i2Shhs3MN3dmOfPMT09mLk5zLVrmOPHMTMzmBUrSDLMsSBDIoIrEVyJ4EpU2t69JLlymWTz5gaSiQnM2bMsGB3FXL2KuXsX091N8sfbG0kmJjBrftiBqa/H1NbiTQRXIrgSwZVYTA0NJAX+hea1vNH+/bxJEwuamvibPItFBFciuBLBlQiuRHAlgisRXIngSgRXIrgSwZUIrkRwJYIrEVyJ4EoEVyK4EsHVX6rNvpCSYTteAAAAAElFTkSuQmCC\"></td><td style='text-align:center;vertical-align:middle; margin: 0.5em;border:1px #90999f solid;border-collapse:collapse'><img style='max-width: 100px; max-height:100px;display:inline' src=\"data:image/png;base64,iVBORw0KGgoAAAANSUhEUgAAAHAAAABwCAIAAABJgmMcAAAABGdBTUEAALGPC/xhBQAAAAFzUkdCAK7OHOkAAAAgY0hSTQAAeiYAAICEAAD6AAAAgOgAAHUwAADqYAAAOpgAABdwnLpRPAAAAlBJREFUeAHtwaFrlWEAxeHfxWMzTOEmwW0gUzBuCBrVJLOsydqiGExyUXCKCKaVK1azCw7UYFBMGhYMK0NwcRgMThmuyK7pffcPHPzeD87zaDKZED4irERYibASYSXCSoSVCCsRViKsRFiJsBJhJcJKhJUIK9Fzf/5QbWxQLV//SXXyJP+LCCsRViKsRM9tb1PdukW1vDdFF0RYibASYSV6bn7rBcWvSy+pBu/ogggrEVYirEQfffxI8XVlheLcaETXRFiJsBJhJfpobY3iE0fOzc3RNRFWIqxEWIke+vLoDcXVtwOqxUW6JsJKhJUIK9ETu7tUd+9Svf/8mWo4pGsirERYibASPbG/T/Xhw1OKi79HFJubdE6ElQgrEVaiJ2bPDygmCwsU966NaIkIKxFWIqxEy9bXKbY4srC4SPHkAU0RYSXCSoSVaNnhIcXCiRMUfx8+pNDqKi0RYSXCSoSVaNiPmzcpnnNk9fFjWiXCSoSVCCvRmt1diuF4TLE6PU114watEmElwkqElWjM+NVpitHoNsV4TLVCu0RYibASYSUac/ky1YULVDs79IIIKxFWIqxEY+bfPaEYj+9TTE3RCyKsRFiJsBItODig+v6dYm+PanaWXhBhJcJKhJVowf4+xbc7zyiuTFMd14QjA1olwkqElQgr0YAfDCnOvl6jWlqimpmhD0RYibASYSW6MplQDE8dUi0tUZ05Q9+IsBJhJcJKdGUwoDp2jGpmhj4TYSXCSoSVCCsRViKsRFiJsBJhJcJKhJUIKxFWIqxEWP0DXqNY9+hXQ08AAAAASUVORK5C\"></td><td style='text-align:center;vertical-align:middle; margin: 0.5em;border:1px #90999f solid;border-collapse:collapse'><img style='max-width: 100px; max-height:100px;display:inline' src=\"data:image/png;base64,iVBORw0KGgoAAAANSUhEUgAAAHAAAABwCAIAAABJgmMcAAAABGdBTUEAALGPC/xhBQAAAAFzUkdCAK7OHOkAAAAgY0hSTQAAeiYAAICEAAD6AAAAgOgAAHUwAADqYAAAOpgAABdwnLpRPAAABGpJREFUeAHtwV9o1QUUwPHvteN1yw3d5IpZc8SmTuefSeYeEhGVFEGDEk1wCG699FC+5osIC8VpIvtjBZrbg7aUQMFgFoiK6FKUMkQk2VJYZMpS1Lbd2O3pnPngi3J+2x7O5yO5XI7gRwiuhOBKCK6E4EoIroTgSgiuhOBKCK6E4EoIroTgSgiuhOBKCK6EUaa/H9PRgVmxAvPq/TuYadMYTYTgSgiuhOBKGGVyOcxa+QHzYC7mwgVMURGmsJCRJgRXQnAlBFfCKPDvv5j83h5MNovqeaUENXXVKkw2y2giBFdCcCUEV8IIuXoVk5fHM6aiiqvfQ0397SfMokWYixcx1dWYwUFMcTHDRQiuhOBKCK6EEXLjBqayEnPtGqatDbNs2QrUR5WY11IpzIEDmJs3Mc3NmIICkiQEV0JwJQRXwnBqbkZtmjAB1TmwCVVb+xi1YUMBqrkZk8lgFi16F/XW+6WYhgZMezumtpYkCcGVEFwJwZWQsMePMQWzZmEWL0Z1fY/ZvbsAVV+P2bcPs2QJZtIkzB+PZqJKS0tRd+vqUCXpNKamBm9CcCUEV0JwJSSgrw9z6BDmkzf+Qf1+J426fBmTl4eZPRuzcSMmP5/nystjyPnzqIk8o7kZs3AhpqICk0rxsoTgSgiuhOBKSEBeqh+1cuU4zKdfo8qrfkbt7bqFaW3FfF7Ii8jPZ0gmg/qCIR93dqIy+/djWlowqRQvSwiuhOBKCK6EJDx6hJr5zV7UQEcHKj1uHKa1FVNYiIs9e1DbHz7ETJmCmTABk8vhQQiuhOBKCK6EJIhgurtRdxlSduIEicpmMd3dmAULMPn5mJ4eTEkJL0sIroTgSgiuhCR0dKD62ttRYxhGmQzm2DHM/fuYdeswW7bgQQiuhOBKCK6EBFwo+RD1TlsW9ealS7gbGEDd/SuNamzMR82dOwtVU30Ls2YNprAQD0JwJQRXQnAlJGDsWMyD1TWov9+uQVXg47PtadSuXb+iduyYhyovZ8i9e5idOzHjx+NBCK6E4EoIroQE9PZimpow8+djKip4aWfPYlIpzOTJ81Dr12Mqbp3EVFVhMhm8CcGVEFwJwZWQgPJyzMr2LZg/06iB1V+injzBFP34HaaqCnVzcAZq4kTM8eOYe/f+Qx09Kqhz59aizpwhUUJwJQRXQnAlJKDs9T5MNos5fRrV/1UKVVRXh+nsxPT2oiquXMHU16OOHGlEnTolqKdPMUuXMmyE4EoIroTgSkjCmDGY8nLM7duowuJizMmTmOnTUb3Xr6OK1q7FNDWhFv5yEJX3QS1qTmUONZhLMVyE4EoIroTgSkhCOo3Ztg1TXY05fBhz8CCmsRFV1NWFaWnBNDSgBtq+Rc1J84wUakyKYSMEV0JwJQRXQtLGjsWsWoWZPh1TWopZvhyzdStmxgxMSwujlRBcCcGVEFwJI6WsjOfavJkXkWZ0EYIrIbgSgishuBKCKyG4EoIrIbgSgishuBKCKyG4EoIrIbgSgqv/Acmy48GEztrPAAAAAElFTkSuQmCC\"></td><td style='text-align:center;vertical-align:middle; margin: 0.5em;border:1px #90999f solid;border-collapse:collapse'><img style='max-width: 100px; max-height:100px;display:inline' src=\"data:image/png;base64,iVBORw0KGgoAAAANSUhEUgAAAHAAAABwCAIAAABJgmMcAAAABGdBTUEAALGPC/xhBQAAAAFzUkdCAK7OHOkAAAAgY0hSTQAAeiYAAICEAAD6AAAAgOgAAHUwAADqYAAAOpgAABdwnLpRPAAAA3dJREFUeAHtwUFo1nUcx/G3zz572ObDsOFMQ4MIg/AkiHjpMLBEGIYYQkMQwujgLfCgEBi7DAxB0Fl6GA5Mp3QQtUMYGh2XzA5KYIfSgyLDrOlMp3s6fX/PpVN8/s8afF8vNZtNko9IViJZiWQlkpVIViJZiWQlkpVIViJZiWQlkpVIViJZiWQlkpVIViJZiWQlFsqFCxQHD1JMTeF2/z7Fyt5Zip4e3ESyEslKJCuxUGZmCGumpwh38Vu16iWheX+GoqcHN5GsRLISyUq00/w8xbZthG/eolJ79nQQ5vtfJdQeP6ZoNHAQyUokK5GsRBv98WeNMDbWS/h08kOKM2dwGx2lqH17ifD35kFCFx4iWYlkJZKVqNi1axSjoxTn9k1SfHScKt27R/HZ+UHCoY0UXV1YiGQlkpVIVqJiw8MU3395m+KVNyiWLcNueprweqNGGB9vEEZG6riJZCWSlUhWogInT1IcO0bL0BDF5CRVmmY5Ybn+Ijx6VCc0GtiJZCWSlUhWogIfb/yZ4uavFEeOUKmnTwnPn3dTXPuO0L3tA0JHB3YiWYlkJZKVcHn2jGJoiDB36xahs9mkStNPugmvXfyKYsUKQr1OpUSyEslKJCvhMj9PsXkz4coXNwlbqVazScvsLMXEBMX27VRJJCuRrESyEi5dXRQHDhC2/vIDxdONFN3dOMzOUvT//hPFyAjF+DjtIpKVSFYiWQmXJUsoxsYIl/bvJ9RpeW/fPoo7dyj6+ym2bKGYmaG4epXQMzdHsW4d4a8HDwi9tI9IViJZiWQlqrBrF2Hwxg3CiYkJwueHDhE+oaWHlidHjxJWrV9PsWEDxZUrFJcvE3pPnybMv7uFUKNaIlmJZCWSlajC6tUUZ88S9nx9llB7OUe4/Vsn4Vmd4sULWt7k3507R3H4MOHuO0OENTXaRiQrkaxEshJtVKvRUuskrF3LfzcwQHH8OGHNyjnCw4edhL4+KiWSlUhWIlmJRe5hRz+h79QpihMnCH1799IuIlmJZCWSlVjk+hrPKX6cotixg4UgkpVIViJZiUXu/IU64fr19wlvP6LYvZu2EclKJCuRrMQit3PnHGF4uJOwaRMLQiQrkaxEshKL3MWLnYSBAYqlS1kQIlmJZCWSlVjkBgf5XxHJSiQrkaxEshLJSiQrkaxEshLJSiQrkaz+ATf/rvSM6yV3AAAAAElFTkSuQmCC\"></td><td style='text-align:center;vertical-align:middle; margin: 0.5em;border:1px #90999f solid;border-collapse:collapse'><img style='max-width: 100px; max-height:100px;display:inline' src=\"data:image/png;base64,iVBORw0KGgoAAAANSUhEUgAAAHAAAABwCAIAAABJgmMcAAAABGdBTUEAALGPC/xhBQAAAAFzUkdCAK7OHOkAAAAgY0hSTQAAeiYAAICEAAD6AAAAgOgAAHUwAADqYAAAOpgAABdwnLpRPAAAAp1JREFUeAHtwTFrlXcYxuFfT26Jsc1gKwElIii1B1FoEYdSB50NFDOIu/RbSJ1cu5UO4hfIGE4yODmKmKa2FNoMRWgJpFKhHKkEPT2d/k/6AW497wv3dWk6nRI+IqxEWImwEmElwkqElQgrEVYirERYibASYSXCSoSVCCsRViKsRFiJsBJ9t7VFOXWK8vAhZXWVMhjwNomwEmElwkr00P4+ZX5jg/LyJeXePcrKCuXwYd4mEVYirERYiR4aDDgwHlOOH6fcv0+Zn+ddEWElwkqEleiJyYRy6Mctys4O5dw5mp8+XqW58B7vjAgrEVYirERPbG9T5uYu0nx2+TLl5k2aCwvMhAgrEVYirERPPH1KufXFL5Rnzyi7u5QzZ5gFEVYirERYiZ64tf4lZWOOsrlJ8+edb2mWmA0RViKsRFiJLhuNaMbr6zSvOfDh7ds0S0vMnAgrEVYirESXPXhA8w0H7ly9SllcpEtEWImwEmElumxvj+Yr/mc0ohlPjtAsMnsirERYibASXbO1RfN6bY3mxPXrlMePaRavXKFLRFiJsBJhJbpmOKT5eXtKs7xMOfZoRFeJsBJhJcJKdMzu3+/TPHlC+fTIDs1fn6/QfES3iLASYSXCSnTAq1eUE//+QbO/v0yz9sNZmhs36CwRViKsRFiJDphMOHD3Ls3q19/RvHhBL4iwEmElwkp0wAc731P29mjGY8pwSC+IsBJhJcJKdMHmJuX5c5qz+o1mwmn6QISVCCsRVmJWplPKtWuU8+dpfj90mubkHL0gwkqElQgrMSvTKWVhgXL0KM3Jf37lwCf0gQgrEVYirMSsDAaU4ZAyHlPevKFvRFiJsBJhJbrm0iX6TISVCCsRViKsRFiJsBJhJcJKhJUIKxFW/wGTr3FDWdqz4AAAAABJRU5ErkJg\"></td><td style='text-align:center;vertical-align:middle; margin: 0.5em;border:1px #90999f solid;border-collapse:collapse'><img style='max-width: 100px; max-height:100px;display:inline' src=\"data:image/png;base64,iVBORw0KGgoAAAANSUhEUgAAAHAAAABwCAIAAABJgmMcAAAABGdBTUEAALGPC/xhBQAAAAFzUkdCAK7OHOkAAAAgY0hSTQAAeiYAAICEAAD6AAAAgOgAAHUwAADqYAAAOpgAABdwnLpRPAAAA6hJREFUeAHtwUFoFQQcx/Hv8/2mQ31K2bRZSU4QEi2TVqdEDx6WMmh48yBYCBp6EiZ0CAQv6q7iocBgyXDYoZRYChWIhxqxyTrk4Zk4FMe0NucS53id/v/XwYvyf29v8P98VKlUSHFECiVSKJFCiRRKpFAihRIplEihRAolUiiRQokUSqRQIoUSKZRIoUQKJVIokUKJOpqZwQ0N4c6fxx04gGtro7aePsWNj+NaWnDFIs9DpFAihRIplKixqSlcqfQnVUeoWoY5efIbaqlSwf1yVZhtrRO4JUtwpRLPQ6RQIoUSKZSohdlZzNK/71D1Gmb37u8x/f3Uzfg47v59qt59FVcq8aJECiVSKJFCiVp48gS3fDmm8tV53N69VBWppYkJ3N27uM2bcZVlyzEFXpxIoUQKJVIoEWVyEtfXh7t2Dbd9O65YpJYmJ3EnTuCOf3YHM6bVmEKBECKFEimUSKFElOFh3OnTuHv3cD091MvEBO7459O4hSsxK0U4kUKJFEqkUCLIj/9+iNk0PIxpLRZxzc2Em53Fzcxg3mj6B3flV1xnJ7UkUiiRQokUSgRZvx63iKqh2VnMzaVLMR+XSpjff57EbHnpJuZx61pM88Q93NQUrrcXd/Ei7uBB3MAArrOTWhIplEihRAolgrxZuo/r6sK8XC5jBoeGMH89fIjZsncT5qeREcz2chnzuHUt5spvqzC7+J8FCzDX9+3DvH3rFvUiUiiRQokUSkRZsQJ37hxOwnx66hTm26NHMV+PjGC+WLcOd+wYprmtDbPr0CHcgS8xP4yOYjouXcKtWUO9iBRKpFAihRK1sGgRz9Tdjenq7sZ08Zxu3MAMjo5iOjZswExv+wizmPoRKZRIoUQKJeaj9nbMEqruXvkD07qYOSFSKJFCiRRKzBfT07jLlzFv9fdjZl5hzokUSqRQIoUS80Tfd4sxW7e+j1l9fDOmqYk5J1IokUKJFErME+3tuNWPy1S9TiMRKZRIoUQKJRrYwADu6lXc7dttmLNnaSgihRIplEihRAPbvx+3cydu4UKeaXoa9+gRrqWFuhEplEihRAolGtiFC7hyGXfmDK6nB9fbi9uzB3fkCHUjUiiRQokUSjSw996ZwQwPN2HGxnCDg7iODtzhw8wJkUKJFEqkUKKRPXiA+WTNdcwHfTswGzfiKhVcocCcECmUSKFECiUa2apVuB07MBt5tkKBOSdSKJFCiRRKpFAihRIplEihRAolUiiRQokU6j/n4L850TYmIwAAAABJRU5ErkJg\"></td><td style='text-align:center;vertical-align:middle; margin: 0.5em;border:1px #90999f solid;border-collapse:collapse'><img style='max-width: 100px; max-height:100px;display:inline' src=\"data:image/png;base64,iVBORw0KGgoAAAANSUhEUgAAAHAAAABwCAIAAABJgmMcAAAABGdBTUEAALGPC/xhBQAAAAFzUkdCAK7OHOkAAAAgY0hSTQAAeiYAAICEAAD6AAAAgOgAAHUwAADqYAAAOpgAABdwnLpRPAAAA51JREFUeAHtwUFoFnQYx/Hv++63vc7tnas1FpZsulYHY4s2sEN6kMqRTNhQhh6M4SDRi2BsmNhlXjoEgiBBB3cwlEQ9bBTDu0p0qcsyyB0ScyDVDkNf4t3b6f+8HQbSeN53a3s+H5VKJYIfEVyJ4EoEVyK4EsGVCK5EcCWCKxFcieBKBFciuBLBlQiuRHAlgisRXIngSgRXIrgSwZUIrkRwJdaAhQXM7CzmnS8OYa5dw9TUsFaJ4EoEVyK4Eqvk+nXMlSuYYhEzPfUNplTi/0AEVyK4EsGVqKL5ecyhoSJJbW0NyeDgXyTvf9BMMjKSIRkYwOTzrCkiuBLBlQiuRBW1fTeJefSIZNu+T0nGx5tJ+vsxvb2Y/NtdmDNnMCMjmEyG1SCCKxFcieBKVNrCAubcOczJkyS9O/4k6Z1oxMzMkEw1DZD8TVnPsWMknUeOYDZtYjWI4EoEVyK4EpV27x7Jw7u/kYyPY75+AVMoYHKtrSTdlE1S9gtlw/X1JNufPcPkclSLCK5EcCWCK1FpDx6QfNufIfns5xLLyeUo27WLpP3ECZKPLl0imaFs+5YtmKUlVoMIrkRwJYIrUWm3bpH8TtkbnwxgpqZ4ruFhko72dpKP9+zBZLOY+npWgwiuRHAlgitRaTdukHQ3NZGUpqdJSkuY27cxZ89ifvj+XczmzSR/7OgjefGrzzENDZidO6kWEVyJ4EoEV6LS8nmSwbk5THs7SaYmS7Jveppk790PSX6dy5Js6+4jees1TFvbOMmX72F6qR4RXIngSgRXopq2bsVcuEDypFQi+Wn/fpK9V6+SdA4NYerqSCYnMadOYfr7MY8fY2pqqCgRXIngSgRXoprq6jAHDpC8dPQoyetPWzCvlDCZDMvZvRtTKGAWFjCXL2NGR6koEVyJ4EoEV2K1dHaynFf5twzPU1uLmZjADA//SHL6dA/J4cOYhgbcieBKBFciuBLryMGDmPPne0i6ujDFIhUlgisRXIngSqwj2SxmbAxz/z5mcRHT9HQe09aGBxFcieBKBFdinaqtxbz58hPMnTuYjg5Maysmm2WlRHAlgisRXImNoLkZMzuLuXkTc/EiJp9npURwJYIrEVyJjUDCjI5ijh/HzM1hurtZKRFcieBKBFdio2lpwYyNYYpFTKGAyeX4L0RwJYIrEVyJjayvD7O4iMlkWCkRXIngSgRXYiPLZDCNjXgQwZUIrkRwJYIrEVyJ4EoEV/8AJqmbc+C91zsAAAAASUVORK5C\"></td><td style='text-align:center;vertical-align:middle; margin: 0.5em;border:1px #90999f solid;border-collapse:collapse'><img style='max-width: 100px; max-height:100px;display:inline' src=\"data:image/png;base64,iVBORw0KGgoAAAANSUhEUgAAAHAAAABwCAIAAABJgmMcAAAABGdBTUEAALGPC/xhBQAAAAFzUkdCAK7OHOkAAAAgY0hSTQAAeiYAAICEAAD6AAAAgOgAAHUwAADqYAAAOpgAABdwnLpRPAAABENJREFUeAHtwV1oFQQUwPH/7j3q3S65KTi96j4QJxKjLFzhCJaCGGlIpGCLEBHzQVDBZE8ViI1o0TD0ZfiwhwrCwIGxBYb5hdjLHkRjNGUziElz2vxY0+luT+fcHoRB92xe1/n9JJvNEvwIwZUQXAnBlRBcCcGVEFwJwZUQXAnBlRBcCcGVEFwJwZUQXAnBlTCNZLOYotG/UdlUMermTUxJCaavD1NejimfNYwpLWUiQnAlBFdCcCU8i+7dw1y7hirq78eIoIru3EFdrX4XterVcVRlZQI1++4fmJ/OYBobmYgQXAnBlRBcCYWmrw9z7Bjm6lXM6dOYdBqzdi1maAjT0IBa1fkR5relqNnXr2M2b8Z0d2MaG5mIEFwJwZUQXAmFpqQEk81iLl5EPeztRSXJSS5ciBrt7ESlMhlMKoXZuBFz/z7q0tAiVKbpC9Q8JiYEV0JwJQRXwmQbHsZcuYL66/l6VFkZZmB8PiqzZQvq9gdNqDnN+zF79mDa2lCpQ4dQIwuXorJZTDpNTlkZ6oVF/GdCcCUEV0JwJUyGR49Q/bdLUd+dq0e9VYYpK8NkMphstgo1pwjz+LMWVCKBKTpwgCcpYeoIwZUQXAnBleBkbAwzc2YvOVdQBw9uQi1fzoSKiniiZJKCJQRXQnAlBFdCHh4+xGzaxL98Ss7nqN27MYkE05IQXAnBlRBcCXk4eRJz4sQ35HyNGhnBFBcz7QnBlRBcCcGVkIf19bdRHR3voRYswBQX878iBFdCcCUEV0Ie+ofnoDYmf8D8Oog5M4hZvRpTV8d0JARXQnAlBFdCHqpHe1C36jeg5v74LeboUdSppiZUDTkVXV2o0dffQN29i5n33Cjm1CnMwADq97XbUZWVPBVCcCUEV0JwJeThl+HlqFmjmLljY5jaWtS53l5UNzkf7tqFSp0/j0pt3476uasLVUrOy/39qKqqFnIaUNnsK0wVIbgSgishuBLyUFeHuXQJc2PdVlTJ21tRn4y+iblwAbNzJ6a9HdPcjFpdV4epqcHcuIFqb9+PamvDDAxgMhkmlRBcCcGVEFwJeUgkMCtWMKH7xzpRw8OYnh7MkiWY48cxB75agerowDR8vA61taYG9f6FI6iE/EnOPCaTEFwJwZUQXAlTKJ3GpNOYBw8w+/ZhLl/GtLZiGl57jGlpwRw+jOomZ2VzM6a1lckkBFdCcCUEV0IBWLwYs20bproaU9vzPebLPsw772A2bECtPHsWs2YNU0UIroTgSgiuhAIwYwamogIzfz45xS9hyssxR45gBgcxe/di1q9nqgjBlRBcCcGVUGBerH2MGR/H3HqEGRnB7NiBqajApNM8DUJwJQRXQnAlFJpkEpNMYqqqMENDmGXLMIkET5sQXAnBlRBcCc+KVApTX0+hEoIrIbgSgishuBKCKyG4EoIrIbgSgishuBKCKyG4EoIrIbgSgqt/ALvo4TgLluWtAAAAAElFTkSuQmCC\"></td><td style='text-align:center;vertical-align:middle; margin: 0.5em;border:1px #90999f solid;border-collapse:collapse'><img style='max-width: 100px; max-height:100px;display:inline' src=\"data:image/png;base64,iVBORw0KGgoAAAANSUhEUgAAAHAAAABwCAIAAABJgmMcAAAABGdBTUEAALGPC/xhBQAAAAFzUkdCAK7OHOkAAAAgY0hSTQAAeiYAAICEAAD6AAAAgOgAAHUwAADqYAAAOpgAABdwnLpRPAAABBtJREFUeAHtwU9I1gcYwPGvvk9qv/fVF9KyDpmZoisZlTUK+kMdtkUdIiiD4bGOa4PYYQ62S4Ug/bl06RCd2lrQcK5asGgs6OCCRRtGWYeNDmVbLNNme/Xd6XnsIETy+Po6ns9H8vk8wY8QXAnBlRBcCcGVEFwJwZUQXAnBlRBcCcGVEFwJwZUQXAnBlRBcCcGVEFwJwZUQXAnBlRBcCcGVEFwJwZUQXAnBlRBcCUUsl2NS0vsN5swZTEMDprMT9U8yD1VRwbQSgishuBKCK6EYDA9jRkZQcu8e5tEjzOAgJpXClJZiBgZQFbW1qO9+XYLKZjHr12NSKaZMCK6E4EoIroRCev4cNZTPoO7eTaPaWpjw9CmmtRVz6xZm3z5Mfz/m5EnMqlWoxvcPoOrqMIODmIULmTIhuBKCKyG4EqbZ+Djm+58yqIcPMbdvY+o+S6MyW7ej5paPY5qamFRtLWr8w49Qw8OY5h97MTeeoOaWl2P27MGkUrwJIbgSgishuBK85POYBw9Qv/y9DLVzJ+blS8zly5hsFlNWxitKeZ3DF1ei9lZhkgRTuWED5vp1zKZNmHyeqRKCKyG4EoIrwUlurAT1w8AyVDaLOXIEs3YtZuNG3sj4OGZoCPPpJznMjRuYJEGdu9+GWr58B6q14iUmlWKqhOBKCK6E4EpwIi+GUO/98RXm5Leot3p6UNlLlzDtp1Gj586hyvv6MKdOoUoPHEBlDx3CNDRgVq7EbN6M2lKH6e3FLF5chsqWMWVCcCUEV0JwJXiprMRUVqJGenpQx3nFtm2oUiZkmPBxVxfq6/PnUbuHhjD372NGRzFVVZjmZtT8pXNRHR1plAguhOBKCK6E4EqYDu3tqGT7dtTnu3ZhVqxA/Xv8OGpOYyMmnUbtbmtDjZw9i0q6uzHPnmFyOUxZGSZJUFKCOyG4EoIrIbgSplsmg7lyhcnMOXaM1zpxAvX7zZuolqtXMQ0NmIMHMUuWUChCcCUEV0JwJRSzsTFMTQ2qZfVqTDqN6erCJAkzQQiuhOBKCK6EItPZiTl8+DdU/vG7qJ+bP0CtWYPJ5zElzAwhuBKCKyG4EopAby/m6FHMli1vo7a2Yx4/xly4gGlqYsYJwZUQXAnBlVAEBgcxS5di5s3DtLZiduzANDVRVITgSgiuhOBKmCEvXmCuXcP09w+jqqrSqO5uTH09RUsIroTgSgiuhBnS14fZvx8zOppGrVuHqa9nVhCCKyG4EoIroZAGBlCbKv5CXXzyDurLL+6g/pzfwmwjBFdCcCUEV0IhnT6N6ehAralnQmkNqrqaWUcIroTgSgiuhEJatAizYAEmx4TqamYzIbgSgishuBIKae9ezNgYKkmYUFLCbCYEV0JwJQRXQiHV1DCZDP8fQnAlBFdCcPUfZaDIbeMVzvAAAAAASUVORK5C\"></td><td style='text-align:center;vertical-align:middle; margin: 0.5em;border:1px #90999f solid;border-collapse:collapse'><img style='max-width: 100px; max-height:100px;display:inline' src=\"data:image/png;base64,iVBORw0KGgoAAAANSUhEUgAAAHAAAABwCAIAAABJgmMcAAAABGdBTUEAALGPC/xhBQAAAAFzUkdCAK7OHOkAAAAgY0hSTQAAeiYAAICEAAD6AAAAgOgAAHUwAADqYAAAOpgAABdwnLpRPAAABC1JREFUeAHtwUloFAYUgOF/zJuZJhnHRkNMohGjmBBKMlhskRaqFD0El4MivYhQPRQJHjwUBDdK8SaNB1F7DApWQnpQUSxCwAWli4oLrSkimipNQNRoMjVm6ek9e+mhw5uMlPd9Mjk5SfAjBFdCcCUEV0JwJQRXQnAlBFdCcCUEV0JwJQRXQnAlBFdCcCUEV8LbYGQEU16OGRrC9PdjLl/GtLdjxsdR4/MaUWVlTBkhuBKCKyG4EqZQPo85fx4zMlKB+iz5PSafxzx+jJk5E3PnDubFC1TfX42oe/cwy5djMhncCcGVEFwJwZUwhfbvxxw9itm1CzO8eh2q8sJZTHMz6s+5S1BjY5i5deOoll9vo1pWvYfq+z2Bqq3FZLO4EIIrIbgSgiuh2F69Qu3elkctW/Yuav58jAhvrFiBmpQkqjbBvyjDNDVhduxANS1ejFm6FFMxFyNCoYTgSgiuhOBKKLZ0GtPVhfrk2jXUyDdHUOk0/5BEJfiPUinMxo2oV21tqHRNDebSJcyiRRRKCK6E4EoIroRiO30ac/s2prERVVFBcbW2otKJBKp7cBC14dAhTGcnhRKCKyG4EoIrodi2bsXcuIGpqqIk1q1Dze7pQf144ADqw85OCiUEV0JwJQRXQjE8eoTZtAl179ks1Ms/MLkcU2f9etStnh5URy6HByG4EoIrIbgSimAwOQdVM20aauHsl5iFGUpi7VpUx5EjmHweD0JwJQRXQnAlFEFN/y+o0d1fo16/xlRSGr/1V6JSK79AZTKYGgonBFdCcCUEV0IR9C1ZgmpaswaVOnmSUquuxuzciamuxuzbR8GE4EoIroTgSvDy8CHqOG9sPnUK1UDpVVVhvt37GDWUqceDEFwJwZUQXAlebt5E7b1+HbNgAW+Tsh/OYpJJVHbOc0y2hUIJwZUQXAnBleDk59rVqO7jmHnzMB0dlMb9+5iuLkxdHWbPHjwIwZUQXAnBleBkYADT24vZto3SGB7G9PZixsZQQ191oqZPxyQonBBcCcGVEFwJTlZ99BS16vPvMA0tvLGcYhofxzwYqERN+3Qzan5DAyqbeIFJTMeDEFwJwZUQXAleqqowM2Zgmpowo6OYVIpCDQ5ijh3DjI5i6uowV69iDh5ciSorw50QXAnBlRBcCcXQ3IyZmMBcvIjJZjGtrZgTJzDt7aifHtSgLlzAbN+OGRjAnDmDqazEjI5iystxJwRXQnAlBFdCMbS1YZ48wdy9i+nrw6TTmEwG092N+uDZM1Tuy52oK1cwjY2YXA6zZQtTRgiuhOBKCK6EYkgmMbNmYW7dwjx/jqmvx5w7h5mYwLS2olLDT1Efv/8OprwcVV9PSQjBlRBcCcGVUGzJJObwYf7vhOBKCK6E4EoIroTgSgiuhOBKCK6E4EoIroTgSgiuhOBKCK6E4OpvxiTRp/1Sb28AAAAASUVORK5C\"></td><td style='text-align:center;vertical-align:middle; margin: 0.5em;border:1px #90999f solid;border-collapse:collapse'><img style='max-width: 100px; max-height:100px;display:inline' src=\"data:image/png;base64,iVBORw0KGgoAAAANSUhEUgAAAHAAAABwCAIAAABJgmMcAAAABGdBTUEAALGPC/xhBQAAAAFzUkdCAK7OHOkAAAAgY0hSTQAAeiYAAICEAAD6AAAAgOgAAHUwAADqYAAAOpgAABdwnLpRPAAABDNJREFUeAHtwUFI1ncYwPHv3/eR19fGm/qar8WosOkl07QQs1UWsS0XlOwQhIyijoMNAimCYl2CikGnQQ2EEe4aRYcOEV1WqMTWJWFtNhuFVhipvdWs/06/xx2EUJ6/y/F8PhLHMc6O4EwJzpTgTAnOlOBMCc6U4EwJzpTgTAnOlOBMCe+B0VFUcTHq9WtUPs+CIDhTgjMlOFPCPHrzBvXiBWp0FFW//DnBL4+yBPk8C4LgTAnOlOBMCfPo+nVUJoMSQQ0/yxKsXcuCIzhTgjMlOFPCPNq+4jfUpUuozk7U8hoWMsGZEpwpwZkS5tGzujqCs0w7vnEjqqaGhUxwpgRnSnCmhKQ9fEhQVlVFcLy+HtXayv+F4EwJzpTgTAlJ6+8nOPnNCEEUoQ5j7+pV1ObNqMzzEVRZGSqdxoLgTAnOlOBMCUmLIoIjHb8SPKpqxMKFC6iu1E8En3Z3o+IY1d5O0NtxgaC6GrVtG3MmOFOCMyU4U0ISxscJfty1i+DLdesIlg4M8C5TU6i7d1G5HKrrh3ZUKoUqK0M1NaEqKgj2Tp5HLW5m2jrmSnCmBGdKcKaEJFy7RtDMv0xM8C7376OGhlCpFGpN7xHU0aOo4WFUZyeqooIZbdiA6utDnTuHiiJmQ3CmBGdKcKaEJKxaRVC/aRNq61bepacHtX8/auUndagbNwheli8lKClhdnbsQDU1EcREBBGzIzhTgjMlOFNCAiZr1hAsamtDtbQwo7Exgm839qOuPUCdPImqqCAoSTNnf3QdI6hJ/UkQRcyZ4EwJzpTgTAkJWPR5O6q5GdXUxEz+miwn+HD7dtTAAKqlBWtXrqAKhRUE3d3MmeBMCc6U4EwJSdi5ExXHqNu3UcuWEcQx6udbRQRt+RzWpqZQ9fWoOMaE4EwJzpTgTAlJqK1FVVejVq5kJpWVqEKBaevXo3p7UVu2oEpLmY2XL1G1tahsFhOCMyU4U4IzJRiJY1TU0IA6exZ18CAqnyfIZFB1H71FHTiAGhpCnT6NungRlc2iRkdR9+4RfNDfT/Cq62uCbBYTgjMlOFOCMyUYiSKm9fWhnj5FNTSgJiZQpaWooiLUmTOowUHUvn2ooiLUyAiqp4dg4qvDBL8vaiNozGFOcKYEZ0pwpoQk7N6NunOH4FYcE7QeOkRQ+O57grEx1JIlqOInT1CDg6jHj1GtraiODoJCAdXYSKIEZ0pwpgRnSkhCOo06cYKgdfVqVFUVwc2bqChC7dmDOn/+Y4I35ahVn6FKJp8STC3OESwR5o3gTAnOlOBMCUlLpQhefbGXYHwcVf4AdewY6tQp1Nu3qEwGVZL6G5XLEQj/DcGZEpwpwZkS5lE6jUqnUZWVqMuXmaVi3ieCMyU4U4IzJThTgjMlOFOCMyU4U4IzJThTgjMlOFOCMyU4U4IzJThTgjMlOFOCM/UP4WPLgnBflpsAAAAASUVORK5C\"></td><td style='text-align:center;vertical-align:middle; margin: 0.5em;border:1px #90999f solid;border-collapse:collapse'><img style='max-width: 100px; max-height:100px;display:inline' src=\"data:image/png;base64,iVBORw0KGgoAAAANSUhEUgAAAHAAAABwCAIAAABJgmMcAAAABGdBTUEAALGPC/xhBQAAAAFzUkdCAK7OHOkAAAAgY0hSTQAAeiYAAICEAAD6AAAAgOgAAHUwAADqYAAAOpgAABdwnLpRPAAAA5tJREFUeAHtwU9o1gUcx/H3s30eSZ/5Z7BNi8meS0kk06AUhaRtoKabE5Fu4aGLJ1EvXYoZgniSjpqdki5BhyTBLnaJLRLEZBAI0R6XbYosMZ3gfLZO3+88dBl8nz0/4ft6aWFhgRRHpFAihRIplEihRAolUiiRQokUSqRQIoUSKZRIoUQKJVIokUKJFEqkUCKFEimUSKFECiVSKJFCiRRKpFAihRIplCiYe/dw62/+iNu9G7drF25sDHfjBm7DBsx8RxemVsN1d+PKZUKIFEqkUCKFEk0yN4dbWMCt/2MUd/MmbtMm3OPHuP5+3NQUbuNGTMudCcz9+1XM+DhuaIgQIoUSKZRIoUSTlP/6E1er4To7cQcO4Lq7caOjmH+fr8SsfjKNK5Vwly5htg8NYeb2biWaSKFECiVSKLGcajXc8eO4tjbckSOYp+/txqwUiyTMal5Q6cKc/7IFc3TPHlxPD6ZcJpxIoUQKJVIosZxOn8b19uKGhzH1t9/BrGxlSS7/0IIZG8MdPVTFPF/djhHxRAolUiiRQokGq9VwJ2a+wnQJd37LHKa1laWp1zF7h4U5cOUKrnoYo9lZGkmkUCKFEimUaLCrV3E9PbiODhaVyyzJs2e4Vasw37Do1f37MXvn51kuIoUSKZRIoUSDdXbibt/GbdnC0szO4nbuxHxer2M+ZlGFF8zO4ioVGkmkUCKFEimUaLBDG0Yxh14bw82/jjvxE+7UKczvf6/FvPnpR7jr1zFHVqzA/MKiw729uEqF5SJSKJFCiRRKNNqOHbiZGdzICG5qCjcwgHnjg0HMr598h9k8h6uePImp3r2Lu3CBZhAplEihRAolGq1Uwg0OYp70DWIqcw9xExOYlhbctm0sunUL8/DcOcy6a9cw/8yvxbSzfEQKJVIokUKJJqlUeME63NatmBL/b2JNL6Z68SLm+Pd9mC/6aAqRQokUSqRQ4mUxPY2pXv4WM95/DPN+B00nUiiRQokUSrwsJicxH/58DPNZH+7gQZpOpFAihRIplCiyR48wv614FzMzg2tro1BECiVSKJFCiQIbv7MGc/Ys7swZXHc3hSJSKJFCiRRKFNjmtxYwIyMlzOQkrlymUEQKJVIokUKJAvv6UgmzfTtuYIDCEimUSKFECiUKbN8+XAcPcPW1uJYyRSJSKJFCiRRKFFhHex339BVcvY4rlykSkUKJFEqkUKLIWltxbW28DEQKJVIokUL9B6oSqROgojqwAAAAAElFTkSuQmCC\"></td><td style='text-align:center;vertical-align:middle; margin: 0.5em;border:1px #90999f solid;border-collapse:collapse'><img style='max-width: 100px; max-height:100px;display:inline' src=\"data:image/png;base64,iVBORw0KGgoAAAANSUhEUgAAAHAAAABwCAIAAABJgmMcAAAABGdBTUEAALGPC/xhBQAAAAFzUkdCAK7OHOkAAAAgY0hSTQAAeiYAAICEAAD6AAAAgOgAAHUwAADqYAAAOpgAABdwnLpRPAAABEpJREFUeAHtwV9o1QUUwPHv3U7715ZOJo5QC7peU9ThfDAsRCth6kivIEbzQSRm9aiDoYgOIcVYFKSSNKSnIaUZ6ggTUsShwazhhHCKD0kiiP+Y23K23Z7OmQ/2Ms7vzuB8PpLL5Qh+hOBKCK6E4EoIroTgSgiuhOBKCK6E4EoIroTgSgiuhOBKCK6E4EoIroTgSgiuhOBKeM48fIgpLMSUd57CZLOY+npMczOmuBg1+NocVGkpiRKCKyG4EoIrYZwMD2P6+zETXhjAXLiA6e7GLFqEGR5GDc1dgGpvx1z4CnPwIIkSgishuBKCK2GcDAxgXur6BTX01tuooqNHMZkMZtcuzKNHqKKrPagNk/9EHflrJfkiBFdCcCUEV0Ie9fdjKs51YERQRTu3YjIZzKZNqFxJKc+S+nsQM2ECasUK8kYIroTgSgiuhIT19WEqHtzEXLqESacxtbWYlStRuZJSVCrFqFwONVJciirYuxf1ydKlmB8Fs3o13oTgSgiuhOBKSFhFeQ5z5nfM9u2ow98VoN6fdxVTVoZK8R9SKVRBilGLF6Our12LeplRZTt3Ylpa8CAEV0JwJQRXQsJO/ZxC/dr9HurMF5g1axg1cyYu1q1Dpbu6UD2trai5Bw5gWlrwIARXQnAlBFdCEoaGUAsWFKGOHMEsXIhZtYpklZejfmDU1Dt3UJX4EIIrIbgSgishCffvo/Z8NgW1YgWmuhpTVUWy+vpQHzGqsr4ec+8eZtIkxkoIroTgSgiuhCRMnIhavx4z//r3qLuZtaiyMhLV29iK+raoFbV76gFMSQkehOBKCK6E4EpIQP8/xaj5Xd+gehsbUZlcjnw5exZz+jRm96dp1HBxGaqQsROCKyG4EoIrIQGbN2MO1lWhMpWVjLcTJxj15seows5OTHU1YyUEV0JwJQRXQgIqKjBtd7Ood3/Lol4lfxob+jE9Pag/btxAzbp1C1NdzVgJwZUQXAnBlZCAOXMwNTWYhgZMZyd58/nXL6K2zL6PmrVtG6a2Fg9CcCUEV0JwJSRgwzs3Ubnp01GdU6agmppuo1pbSVRLC2bLldmoXN1yVAofQnAlBFdCcCUkYdo0VOrQIdTljRtRra+3oXp7P0RlMri4eBHT3IzZ0/4KautW3AnBlRBcCcGVkLSaGtRsnrJ/PyrT0YE5dowxGxhAvfHgHOrLK3WofftIlBBcCcGVEFwJSautRcm1a6j2GTNQN7q7Udvr6zEnT/IsIyOYgsPtqDMNDailO3ag0uk6VFUViRKCKyG4EoIrIZ/SadQHg4OYbBZ1uaMDNa+7G1NaiipYsgTVevs2ajlPefIEtbmJvBGCKyG4EoIrYbyUlKBGOn5Czbt7B3P+POb4cUxbG6rp8WPMsmWY8nLUpBR5IwRXQnAlBFfCc6CggFGTJ2OyWUw2y/+BEFwJwZUQXAnBlRBcCcGVEFwJwZUQXAnBlRBc/QskeeDCaUxB9gAAAABJRU5ErkJg\"></td><td style='text-align:center;vertical-align:middle; margin: 0.5em;border:1px #90999f solid;border-collapse:collapse'><img style='max-width: 100px; max-height:100px;display:inline' src=\"data:image/png;base64,iVBORw0KGgoAAAANSUhEUgAAAHAAAABwCAIAAABJgmMcAAAABGdBTUEAALGPC/xhBQAAAAFzUkdCAK7OHOkAAAAgY0hSTQAAeiYAAICEAAD6AAAAgOgAAHUwAADqYAAAOpgAABdwnLpRPAAAApRJREFUeAHtwTFr3WUYxuFfPDembYgpHMVE6FAjAQMHCnbSdnEJKLUFt34CEaeuJXTooB3dHKRToS5ZSpcODi4uxWZpVSzaIFRCU5AiiWAbjtP7HD/ADf9XuK9L0+mU8BFhJcJKhJUIKxFWIqxEWImwEmElwkqElQgrEVYirERYiZ5Np5TDQ5rDOdGMRnRFhJUIKxFWomP3H8zRHDsmmjfHzygLCxSJoYmwEmElwkp07OhRyokTzPz8O2V+nrK2xtBEWImwEmElOrb60iPKl1uUyYSysUFPRFiJsBJhJXp24QLl1CnKixeUjQ16IsJKhJUIK9Gz69cpW1uUgwPK7i5leZmhibASYSXCSnTsn8k7NC/fvUvZ3aXs7VGWlxmaCCsRViKsRMcuX6asr39C89sh5dNXKSsMT4SVCCsRVqJjZ89SdnYo+/uUnR3KygqDE2ElwkqElejYR398RXn/DGVhgTIeM/MKQxNhJcJKhJXo2dOnNI8mE5o3mJmfTumJCCsRViKsRMcONjdp/mbmC2au0BcRViKsRFiJjn17a0pz7s5nNFdu3KBXIqxEWImwEh3b3qacu3qVsrhIr0RYibASYSU6trnJzA+/0rz73ec0X/9IWV9ncCKsRFiJsBIdm/vmJs1fFy/SfH/7Ns1Pcx/SExFWIqxEWIne7O1RlpZoFq9dozx5QvP2mWfMLDE0EVYirERYic788udrNK+/9wHN0toa5d49ysOHlNOnGZoIKxFWIqxEB/b3KdvblPGYsrr6Fs3Jj09SRiN6IsJKhJUIK9GB588pjx9Tzp+nHDnCf4zolQgrEVYirEQHjh+nXLrE/5oIKxFWIqxEWImwEmElwkqElQgrEVYirERYibASYSXC6l8vfWT3FTtc8gAAAABJRU5ErkJg\"></td><td style='text-align:center;vertical-align:middle; margin: 0.5em;border:1px #90999f solid;border-collapse:collapse'><img style='max-width: 100px; max-height:100px;display:inline' src=\"data:image/png;base64,iVBORw0KGgoAAAANSUhEUgAAAHAAAABwCAIAAABJgmMcAAAABGdBTUEAALGPC/xhBQAAAAFzUkdCAK7OHOkAAAAgY0hSTQAAeiYAAICEAAD6AAAAgOgAAHUwAADqYAAAOpgAABdwnLpRPAAAA7xJREFUeAHtwT9o1HcYx/H35T4JJHfB3qE2l4PGpBKS1EilcRMMFaRLFUQQtIMiwUXQwU1EuwgVoXVXcMlkEQTXgv8Qg+ByKHSppJAjaPOntdpqk1yn75MMQkl4fhqb5/VSo9Eg+BHBlQiuRHAlgisRXIngSgRXIrgSwZUIrkRwJYIrEVyJ4EoEV2K1mZ7GjI1hOjsxV6+SvPnue5KWn2uY+/cx9+5hzpzB9PbiTQRXIrgSwZXI2vg4Zt06ksm/PyKRMDdulEmOfv0F5vx5TLVK0pL7B9PXhxkcxBw7xrsigisRXIngSmTsq2NdJGNjmJERTLGIGR7G1Oc2kkwd/YFkcJBVSwRXIrgSwZXIWLGIGR7GVKuYEyf4T52dfBBEcCWCKxFciYz9eK2BuXMH8/AhZvIbTEcHHzIRXIngSgRXImu5HObIEZJvnz4lOTs4iOno4EMmgisRXIngSrxLAwMkZ3fswGzfTvL4MaanB1OvYzo7Ma2trCoiuBLBlQiuRNampjDt7ZhDhzDnzpF8Nj6OOXyY5NOpKUx3N6ZWw5w8yfsmgisRXIngSmSh0cA0N2OuX8c8e4Y5fRqzYQNmZgZz6RLJ/O3bJPlyGVMoYPbtw5TLmFyOLIngSgRXIrgSGZio50iqr3/D7N+PGR1lWW7dwsyz6NZPmEoFc/kyZvduzJYtmOZmvIngSgRXIrgSGahWWaIHMzqKh3yeRbt28TYzlQGS0h/jmCtXMHv3YioVPIjgSgRXIrgS/1OlEubP5i6S4oEDmIsXMadOYUolVkoEVyK4EsGVWAOKRRa9bMGMjJD8+qJE8nIS09/PsojgSgRXIrgSa02hwNt88nsd0/sxi/IshwiuRHAlgiuxlhUKmFoNU69jhoZYDhFcieBKBFdiLZufx0xPY2ZnMUNDLIcIrkRwJYIrkbVaDdNoYLZu5X1YWMBMz+RJ1u/ciWltZaVEcCWCKxFciSw8eoTZswdz8CDmwgVcLCxgJiYwra0kk3PrSTpe/ULy/HUPSVtXgaStiRUTwZUIrkRwJbJQqWDu3sXcvIm5dg2zeTNmYABTq2H6+zEPHmDKZczsLGZ+nqSjuxuzaRNJXxMml8OFCK5EcCWCK5GFSoVkYgJTPX4c8/w5pr0d8+QJydznQyR6MUPS+HIXSe6vV5hGA9PSgsnnMU1NJDn8ieBKBFciuBIZq1ZZIofZuJG32raNRCxRKpHkWKKtjdVEBFciuBLBlQiuRHAlgisRXIngSgRXIrgSwZUIrkRwJYIrEVz9C60RrBOZQVCsAAAAAElFTkSuQmCC\"></td><td style='text-align:center;vertical-align:middle; margin: 0.5em;border:1px #90999f solid;border-collapse:collapse'><img style='max-width: 100px; max-height:100px;display:inline' src=\"data:image/png;base64,iVBORw0KGgoAAAANSUhEUgAAAHAAAABwCAIAAABJgmMcAAAABGdBTUEAALGPC/xhBQAAAAFzUkdCAK7OHOkAAAAgY0hSTQAAeiYAAICEAAD6AAAAgOgAAHUwAADqYAAAOpgAABdwnLpRPAAAA8JJREFUeAHtwUFo1gUYx/Hv3/0m22C8s0SWDJHFqyJoiA4iAqFDInhREZyCYxphnrwYDg8ZdPCkXQRDEDuMEaiRWVSoxAi8ZIcQYRmRMpak6fTFWbr5dnqe14MgxfPu9YXn81G1WiXFESmUSKFECiVSKJFCiRRKpFAihRIplEihRAolUiiRQokUSqRQIoUSKZRIoUQKJVIokUKJFEqkUOJFcPo0bmwMd+UKbmIC8/c332PafruKW76cRhMplEihRAolZtHDh7j21mncqVO4ri7c2rW43l5M2+h3uEoF19WFW7iQRhAplEihRAol6uzBA9yJE7hVq4R5c9Ei3MAArlzGtbZiHj/Gtd79E7dpE250FHf5MubJ6j5MUeCKghAihRIplEihRJ2NjuKOHsWdP0/NoUO4ouB5Wltx448WYGaGf8BMjeG2DPZhlizBDQ/j2tsJIVIokUKJFErUw/37mPVfvI9Zd/UYpiioKQr+r54eXKWC27oVd+XrG5jfnyzCtLcTTqRQIoUSKZSoh8FBXG8vZmIC19NDuPZ23MqV1ExOYhbf/hW3+C2iiRRKpFAihRL1MDSEOfbjGszAy9SVJm5gPjnUiTn30muYDdUq9SRSKJFCiRRKRJmexjxauQbTPY4bH8eVy8SYmcHt34+ZGhnBLOMpN2/iuruJJlIokUKJFEpEkTBffY67eBG3YgUxZmZwR45gfh4ZwVymZnD3blx3N/UkUiiRQokUSkSpVjEbP1qD2Tg+jnvjY9yr/fwX09M4/TGB+XTfPkyFmgU85cABZotIoUQKJVIoEaUocBcuYD6cNw+jbdswB3bswA0N4SYncXv2YHTnDq6vD9NPzU/UlKl5tKAHM5f6EimUSKFECiXqoasL88HkJK6vD/PttWuYdS0tuO3bMTPlZZiTJ3G7lv6FmTt/Pub127dxe/fi5jJrRAolUiiRQol6K5Uw1bFfMG9Tc+8+bmoK90oLbtcuah604e7exR0/jrm35R1MidkjUiiRQokUSsyiouCZSiVcqcTzdXTgNm/GbdiAkWgIkUKJFEqkUKIJnf2ywKw+/BnmvXdxZ87QECKFEimUSKFEk7h1C3f4MO7gQdzZ4QpOnTSCSKFECiVSKNEkLl3CdXbiKhVqzp3D9ffTCCKFEimUSKFEk+jtxe3ciSuXqVm6lUYTKZRIoUQKJZrE9eu4qSlcWxs1RUGjiRRKpFAihRJNYv16XLWKa/lnipoOGk2kUCKFEimUaBJz5vBsHR28SEQKJVIokUKJFEqkUCKFEinUv6mYvFGeMCrVAAAAAElFTkSuQmCC\"></td><td style='text-align:center;vertical-align:middle; margin: 0.5em;border:1px #90999f solid;border-collapse:collapse'><img style='max-width: 100px; max-height:100px;display:inline' src=\"data:image/png;base64,iVBORw0KGgoAAAANSUhEUgAAAHAAAABwCAIAAABJgmMcAAAABGdBTUEAALGPC/xhBQAAAAFzUkdCAK7OHOkAAAAgY0hSTQAAeiYAAICEAAD6AAAAgOgAAHUwAADqYAAAOpgAABdwnLpRPAAAA6RJREFUeAHtwU9oFgQYx/Hv9v5Wa6/JWIjOVxQ350FoHpaEHeriECLUNCIrD7WTithBxT/B9NRlI0EPGoQnISQoLyUexMuUQCQNnJAzincyS01Nh7n07fQ87w5CDB5738nz+ahSqZDiiBRKpFAihRIplEihRAolUiiRQokUSqRQIoUSKZRIoUQKJVIokUKJFEqkUCKFEimUSKFECiVSKJFCiRRKpFAihRJTNTKC27QJM3ryJKbU1obbuBE3Po7r6cGNjeGGhnBHj2LKN1/ADA/jenupKyKFEimUSKHEFI02d2JKR45gSocP4/r7MT+PNGK6Gq5gxucuwpSLDZi/qGpuacHcoap39WrMm59/i1m3Drd+Pa7lz1FcqcTTJFIokUKJFEpMUXs7VXdbMBfW7sMsbahguubexz2ejSmXcYuvXMGdOoW7eRNzbNcuzN3jxzHfzWnHXPp+DNPy5XLMN2fPYt7euhW3fz/RRAolUiiRQokpamykqrUVs7SVSRpwxSJPsvhFJunEdXZibt3CrfpkJ+bRI6ounMEsmTULt2cP5g0muXgRMzGBa2oihEihRAolUihRx9ra+E/3l76GuXcPd/3TY5juBdtx165hCgXCiRRKpFAihRLTXLGIKxZxsx/8ivl6YADzTkcH5sEDXEsLIUQKJVIokUKJZ9Qvjxdgun6sYMa7cDdu4ObPJ4RIoUQKJVIo8Sx5+BAzNPQcZsOGnzA9PS9jTp8mnEihRAolUijxLNm9G/PhqlWYz5a8jjl3fBQ3o0Q0kUKJFEqkUGK6O3cOs29wELN+cBCzh0n+HuFpEimUSKFECiWmo6tXMXeWLcO0U/U7Ve/39eE6OniaRAolUiiRQonp6MABzB9UfUBVcfNm3MGD/F9ECiVSKJFCieni9m1cfz9m0YkTuGIRU955EDOP/49IoUQKJVIoUcfKZdzAQCumuxv38Y4dmB+WfIR5dR41IVIokUKJFErUmevXcefP41aswL117QvcmjWYV16i5kQKJVIokUKJOlCp4M6cwU1M4N59/BWurw9XKGAK1J5IoUQKJVIoUQcuX8atXTuC2bKlE7N8+3uYf37DLVxIXREplEihRAolamR8HLd3L27btk5MQwPu0iVcby91S6RQIoUSKZSokeFh3MyZuJUrcSuW3cE1N+Man6deiRRKpFAihRI10t2NO3QIVxgbxc2YgysUmA5ECiVSKJFCiRppauLJSiWmM5FCiRRKpFD/AsU2shXRZSRPAAAAAElFTkSuQmCC\"></td><td style='text-align:center;vertical-align:middle; margin: 0.5em;border:1px #90999f solid;border-collapse:collapse'><img style='max-width: 100px; max-height:100px;display:inline' src=\"data:image/png;base64,iVBORw0KGgoAAAANSUhEUgAAAHAAAABwCAIAAABJgmMcAAAABGdBTUEAALGPC/xhBQAAAAFzUkdCAK7OHOkAAAAgY0hSTQAAeiYAAICEAAD6AAAAgOgAAHUwAADqYAAAOpgAABdwnLpRPAAABPlJREFUeAHtwVtoFQQYwPH/2fnOmZsbHlJTxyEtj+aFGhgzbwxZaQ+JouSDvQTmgSxlmMhE0dCHRHNmF3rp4hUMMggLwUWaQUVEMLIEQwgN0ty8z5Lj3Onp++bDYMzzzWV8v58Ui0WCHyG4EoIrIbgSgishuBKCKyG4EoIrIbgSgishuBKCKyG4EoIrIbgSnHR2Yrq6MB99hCkUMIsWYbJZ/jeE4EoIroTgSijF5cso+eYbzHffofKvb0Ulm7dhpr+D2b0bM2sWpryc+40QXAnBlRBcCaXYtg1z7Rqq/b33UMP27kUdPX8e1UW3p/fuxRw/jlmyBDNxIvcDIbgSgishuBJKcH3dFlQigRm2bx8ml0M1jB+PmT8fk8mgjj78Iqrh49cw69djUilMIsF/iRBcCcGVEFwJJVi5EnP4MObjz66hGhro1ZdfYqY+gfktuwn19quY1asxY8ZgEgkGnBBcCcGVEFwJJdizpwWVy81FjRxJn8yZQ7erV1FDCn+g3p3/J+qtQ3NRjYv/xIwYgUkmGQhCcCUEV0JwJZTgjTfmonbtwly6xN0bMgSTSmF++QXV2Ei31c2YVasw2SwDQQiuhOBKCK6EEhw8iDl58mtUoTCbnhw+jOnqwsz7/R3MrFmY8eMxra2Y7dsxa9ei9nyVRb3wAgNCCK6E4EoIroQSbN2KmT37c9TBg7NRt29jnn22gPr11zRm4y5MMompr0dt6uhAPUa3RfX1qHGnMZcvYzIZTCJBvxKCKyG4EoIroQTTpmF27GhG5fOYdBpT7LiFOtOextTVYfbtw8yYgXq8pQU1hTvU1qLqzp5Dpa62o5blh6F27sRUVmLKynAhBFdCcCUEV0IJyssxq1bRu0IRNbrmFmbDBtTpm1lULnUGtXDqVNSZCxcwU6ag9u/HLF1aRC1fjunowFQNLmKud2Cqq7lbQnAlBFdCcCXcS1VV9KTwYBY17G9MoXI0Kn3qFGp0dTWqWJZELb6BGTt2OOrYMUxjI2bdugSqdkwX6uZNzKBB9IkQXAnBlRBcCffQqVOYQ4cwa9Zg0ml6ls7QkwTdqqow9fWYoUMxV65gaicWUN/+OAQ1c/IVzKAMfSEEV0JwJQRXQj8rFDCPju1ErXnmJOqLLx5HzZuHu8mT6dbZifmrDTXzx08wR69jXnkF88AD9EYIroTgSgiuhH6WfnMr6vu1a1HT02nUvM2bMbkFmAkTcCeCGTUKc/Ei5tw5zKefYvJ5eiMEV0JwJQRXQn9rakJNf/551A8PPYR6ZGkTqq0NM4l+duIE5vRpTD6P6qxvQAm9E4IrIbgSgivhXqqpQT3Z2orKTcccOIA5cgTzzFOdGBH6oq0NMzxzC9VarEWN++AAqqkJ8/JIzKRJ9EoIroTgSgiuhHspmUTdmlSLWrAA09KCWbGCbrt3Y37+GbNxI2bhQsyRI6jhQwdh8i+harZ8iPrpJ0wuhxk3jj4RgishuBKCK2GApFKY5mbMjRuYwWX/oK48twyVKb6PKRYxNTWY5mbM2bOYJUtQ5eWYmTMx06ZhUin6RAiuhOBKCK6E/5jBg7lDBSrDP5jFizEdHZj16zGVlZj2dkxdHao6gSkrwyST3DUhuBKCKyG4Eu4XFRWYigpMJoPJZulRLkdPyvAnBFdCcCUEV0JwJQRXQnAlBFdCcCUEV0JwJQRXQnAlBFdCcCUEV/8Cx0gKjlz5wlgAAAAASUVORK5C\"></td><td style='text-align:center;vertical-align:middle; margin: 0.5em;border:1px #90999f solid;border-collapse:collapse'><img style='max-width: 100px; max-height:100px;display:inline' src=\"data:image/png;base64,iVBORw0KGgoAAAANSUhEUgAAAHAAAABwCAIAAABJgmMcAAAABGdBTUEAALGPC/xhBQAAAAFzUkdCAK7OHOkAAAAgY0hSTQAAeiYAAICEAAD6AAAAgOgAAHUwAADqYAAAOpgAABdwnLpRPAAAAytJREFUeAHtwT1o1WcYxuHfSe4g0ZhmaIlEThurFFEwdCn0A1EMLaRgpDiq0GYMKRmEdBcXJ0sEB52sboHiYKcUNKCCUxwKtaSLoF00ggZNakI6Pe/Jarj/5/SE57q0vr5O8hHJSiQrkaxEshLJSiQrkaxEshLJSiQrkaxEshLJSiQrkaxEshLJSiQrkazEFnXvHkW9TlGvUymRrESyEslKbCFraxRHjlDcuEFRr1MpkaxEshLJSmwhs7MUb98+Izx9+j7NIpKVSFYiWYkmWl6mePWKYmmJYs8eNu2bo/8S1m89ILz8aoRmEclKJCuRrEQTzcxQnD49Srh06SZhfJzNO3SIorubsPjrCKG3l0qJZCWSlUhWoonu3GGDXwinTmFx8dEjwuTcHGGwvkZDJ1USyUokK5GsRNVWVwlXHn5BuDIzRdH7HQ01Nus9Gu4ePkz4cn2dZhHJSiQrkaxE1Z48oTh5kmJoiKJWY9NWVgjfDw9TdHTQCiJZiWQlkpWo2q1bhOmpKcLE6CgOT59vI/TNzhK2z83RCiJZiWQlkpWowsoK4fH4OGGRDe7eJTzev5/wJw1fX7tGcfMm4bcfZggj+/4ivGSDFy9oBZGsRLISyUpUoVYjfDg9Tfh0YoLwYGyM8Fl3N2H+zRvC/TNnCJ8vLBBGlv+g6NpO6KBhZXSUsG1+nmJoiCqJZCWSlUhWogqdnRQHDxKOX7hAcfYsxeoq4XhXF+9itVYj9PT0UJw/T3HgAM0ikpVIViJZiSp0dhKefHKUsPLRUcLHNRq6ungnr18TJFGcO0f4+9sfCT2LFP39VEokK5GsRLISFdu9G7vf728nHBsfp5icJOylNUSyEslKJCvRho4NPSM8HP6Z0P/TRcKuXbSESFYiWYlkJdrR9euED2jYsYOWE8lKJCuRrEQbejU2SRgYHCT8s0SxcyctIZKVSFYiWYk2dPkyRV/fCcKJTlpOJCuRrESyEm3o9m2K588pxsZoOZGsRLISyUq0oatXKQZeL1B07KWhRiuIZCWSlUhWog0NDLDBPv5PRLISyUokK5GsRLISyUokK5GsRLISyUokq/8AXQ6Mp7VouL0AAAAASUVORK5C\"></td></tr></tbody></table><div><small>(a vector displayed as a row to save space)</small></div>"
      ]
     },
     "metadata": {},
     "execution_count": 11
    }
   ],
   "cell_type": "code",
   "source": [
    "heatmap(expl)"
   ],
   "metadata": {},
   "execution_count": 11
  },
  {
   "cell_type": "markdown",
   "source": [
    "For more information on heatmapping batches,\n",
    "refer to the heatmapping documentation."
   ],
   "metadata": {}
  },
  {
   "cell_type": "markdown",
   "source": [
    "---\n",
    "\n",
    "*This notebook was generated using [Literate.jl](https://github.com/fredrikekre/Literate.jl).*"
   ],
   "metadata": {}
  }
 ],
 "nbformat_minor": 3,
 "metadata": {
  "language_info": {
   "file_extension": ".jl",
   "mimetype": "application/julia",
   "name": "julia",
   "version": "1.10.2"
  },
  "kernelspec": {
   "name": "julia-1.10",
   "display_name": "Julia 1.10.2",
   "language": "julia"
  }
 },
 "nbformat": 4
}
