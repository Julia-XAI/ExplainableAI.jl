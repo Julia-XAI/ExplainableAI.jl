{
 "cells": [
  {
   "cell_type": "markdown",
   "source": [
    "# Basic usage of LRP\n",
    "This example will show you best practices for using LRP,\n",
    "building on the basics shown in the *Getting started* section."
   ],
   "metadata": {}
  },
  {
   "cell_type": "markdown",
   "source": [
    "We start out by loading a small convolutional neural network:"
   ],
   "metadata": {}
  },
  {
   "outputs": [],
   "cell_type": "code",
   "source": [
    "using ExplainableAI\n",
    "using Flux\n",
    "\n",
    "model = Chain(\n",
    "    Chain(\n",
    "        Conv((3, 3), 3 => 8, relu; pad=1),\n",
    "        Conv((3, 3), 8 => 8, relu; pad=1),\n",
    "        MaxPool((2, 2)),\n",
    "        Conv((3, 3), 8 => 16; pad=1),\n",
    "        BatchNorm(16, relu),\n",
    "        Conv((3, 3), 16 => 8, relu; pad=1),\n",
    "        BatchNorm(8, relu),\n",
    "    ),\n",
    "    Chain(\n",
    "        Flux.flatten,\n",
    "        Dense(2048 => 512, relu),\n",
    "        Dropout(0.5),\n",
    "        Dense(512 => 100, softmax)\n",
    "    ),\n",
    ");"
   ],
   "metadata": {},
   "execution_count": 1
  },
  {
   "cell_type": "markdown",
   "source": [
    "This model contains two chains: the convolutional layers and the fully connected layers."
   ],
   "metadata": {}
  },
  {
   "cell_type": "markdown",
   "source": [
    "## Model preparation\n",
    "### Stripping the output softmax\n",
    "When using LRP, it is recommended to explain output logits instead of probabilities.\n",
    "This can be done by stripping the output softmax activation from the model\n",
    "using the `strip_softmax` function:"
   ],
   "metadata": {}
  },
  {
   "outputs": [
    {
     "output_type": "execute_result",
     "data": {
      "text/plain": "Chain(\n  Chain(\n    Conv((3, 3), 3 => 8, relu, pad=1),  \u001b[90m# 224 parameters\u001b[39m\n    Conv((3, 3), 8 => 8, relu, pad=1),  \u001b[90m# 584 parameters\u001b[39m\n    MaxPool((2, 2)),\n    Conv((3, 3), 8 => 16, pad=1),       \u001b[90m# 1_168 parameters\u001b[39m\n    BatchNorm(16, relu),                \u001b[90m# 32 parameters\u001b[39m\u001b[90m, plus 32\u001b[39m\n    Conv((3, 3), 16 => 8, relu, pad=1),  \u001b[90m# 1_160 parameters\u001b[39m\n    BatchNorm(8, relu),                 \u001b[90m# 16 parameters\u001b[39m\u001b[90m, plus 16\u001b[39m\n  ),\n  Chain(\n    Flux.flatten,\n    Dense(2048 => 512, relu),           \u001b[90m# 1_049_088 parameters\u001b[39m\n    Dropout(0.5),\n    Dense(512 => 100),                  \u001b[90m# 51_300 parameters\u001b[39m\n  ),\n) \u001b[90m        # Total: 16 trainable arrays, \u001b[39m1_103_572 parameters,\n\u001b[90m          # plus 4 non-trainable, 48 parameters, summarysize \u001b[39m4.213 MiB."
     },
     "metadata": {},
     "execution_count": 2
    }
   ],
   "cell_type": "code",
   "source": [
    "model = strip_softmax(model)"
   ],
   "metadata": {},
   "execution_count": 2
  },
  {
   "cell_type": "markdown",
   "source": [
    "If you don't remove the output softmax,\n",
    "model checks will fail."
   ],
   "metadata": {}
  },
  {
   "cell_type": "markdown",
   "source": [
    "### Canonizing the model\n",
    "LRP is not invariant to a model's implementation.\n",
    "Applying the `GammaRule` to two linear layers in a row will yield different results\n",
    "than first fusing the two layers into one linear layer and then applying the rule.\n",
    "This fusing is called \"canonization\" and can be done using the `canonize` function:"
   ],
   "metadata": {}
  },
  {
   "outputs": [
    {
     "output_type": "execute_result",
     "data": {
      "text/plain": "Chain(\n  Conv((3, 3), 3 => 8, relu, pad=1),    \u001b[90m# 224 parameters\u001b[39m\n  Conv((3, 3), 8 => 8, relu, pad=1),    \u001b[90m# 584 parameters\u001b[39m\n  MaxPool((2, 2)),\n  Conv((3, 3), 8 => 16, relu, pad=1),   \u001b[90m# 1_168 parameters\u001b[39m\n  Conv((3, 3), 16 => 8, relu, pad=1),   \u001b[90m# 1_160 parameters\u001b[39m\n  BatchNorm(8, relu),                   \u001b[90m# 16 parameters\u001b[39m\u001b[90m, plus 16\u001b[39m\n  Flux.flatten,\n  Dense(2048 => 512, relu),             \u001b[90m# 1_049_088 parameters\u001b[39m\n  Dropout(0.5),\n  Dense(512 => 100),                    \u001b[90m# 51_300 parameters\u001b[39m\n) \u001b[90m        # Total: 14 trainable arrays, \u001b[39m1_103_540 parameters,\n\u001b[90m          # plus 2 non-trainable, 16 parameters, summarysize \u001b[39m4.212 MiB."
     },
     "metadata": {},
     "execution_count": 3
    }
   ],
   "cell_type": "code",
   "source": [
    "model_canonized = canonize(model)"
   ],
   "metadata": {},
   "execution_count": 3
  },
  {
   "cell_type": "markdown",
   "source": [
    "After canonization, the first `BatchNorm` layer has been fused into the preceding `Conv` layer.\n",
    "The second `BatchNorm` layer wasn't fused\n",
    "since its preceding `Conv` layer has a ReLU activation function."
   ],
   "metadata": {}
  },
  {
   "cell_type": "markdown",
   "source": [
    "### Flattening the model\n",
    "ExplainableAI.jl's LRP implementation supports nested Flux Chains and Parallel layers.\n",
    "However, it is recommended to flatten the model before analyzing it.\n",
    "\n",
    "LRP is implemented by first running a forward pass through the model,\n",
    "keeping track of the intermediate activations, followed by a backward pass\n",
    "that computes the relevances.\n",
    "\n",
    "To keep the LRP implementation simple and maintainable,\n",
    "ExplainableAI.jl does not pre-compute \"nested\" activations.\n",
    "Instead, for every internal chain, a new forward pass is run to compute activations.\n",
    "\n",
    "By \"flattening\" a model, this overhead can be avoided.\n",
    "For this purpose, ExplainableAI.jl provides the function `flatten_model`:"
   ],
   "metadata": {}
  },
  {
   "outputs": [
    {
     "output_type": "execute_result",
     "data": {
      "text/plain": "Chain(\n  Conv((3, 3), 3 => 8, relu, pad=1),    \u001b[90m# 224 parameters\u001b[39m\n  Conv((3, 3), 8 => 8, relu, pad=1),    \u001b[90m# 584 parameters\u001b[39m\n  MaxPool((2, 2)),\n  Conv((3, 3), 8 => 16, pad=1),         \u001b[90m# 1_168 parameters\u001b[39m\n  BatchNorm(16, relu),                  \u001b[90m# 32 parameters\u001b[39m\u001b[90m, plus 32\u001b[39m\n  Conv((3, 3), 16 => 8, relu, pad=1),   \u001b[90m# 1_160 parameters\u001b[39m\n  BatchNorm(8, relu),                   \u001b[90m# 16 parameters\u001b[39m\u001b[90m, plus 16\u001b[39m\n  Flux.flatten,\n  Dense(2048 => 512, relu),             \u001b[90m# 1_049_088 parameters\u001b[39m\n  Dropout(0.5),\n  Dense(512 => 100),                    \u001b[90m# 51_300 parameters\u001b[39m\n) \u001b[90m        # Total: 16 trainable arrays, \u001b[39m1_103_572 parameters,\n\u001b[90m          # plus 4 non-trainable, 48 parameters, summarysize \u001b[39m4.212 MiB."
     },
     "metadata": {},
     "execution_count": 4
    }
   ],
   "cell_type": "code",
   "source": [
    "model_flat = flatten_model(model)"
   ],
   "metadata": {},
   "execution_count": 4
  },
  {
   "cell_type": "markdown",
   "source": [
    "This function is called by default when creating an LRP analyzer.\n",
    "Note that we pass the unflattened model to the analyzer, but `analyzer.model` is flattened:"
   ],
   "metadata": {}
  },
  {
   "outputs": [
    {
     "output_type": "execute_result",
     "data": {
      "text/plain": "Chain(\n  Conv((3, 3), 3 => 8, relu, pad=1),    \u001b[90m# 224 parameters\u001b[39m\n  Conv((3, 3), 8 => 8, relu, pad=1),    \u001b[90m# 584 parameters\u001b[39m\n  MaxPool((2, 2)),\n  Conv((3, 3), 8 => 16, pad=1),         \u001b[90m# 1_168 parameters\u001b[39m\n  BatchNorm(16, relu),                  \u001b[90m# 32 parameters\u001b[39m\u001b[90m, plus 32\u001b[39m\n  Conv((3, 3), 16 => 8, relu, pad=1),   \u001b[90m# 1_160 parameters\u001b[39m\n  BatchNorm(8, relu),                   \u001b[90m# 16 parameters\u001b[39m\u001b[90m, plus 16\u001b[39m\n  Flux.flatten,\n  Dense(2048 => 512, relu),             \u001b[90m# 1_049_088 parameters\u001b[39m\n  Dropout(0.5),\n  Dense(512 => 100),                    \u001b[90m# 51_300 parameters\u001b[39m\n) \u001b[90m        # Total: 16 trainable arrays, \u001b[39m1_103_572 parameters,\n\u001b[90m          # plus 4 non-trainable, 48 parameters, summarysize \u001b[39m4.212 MiB."
     },
     "metadata": {},
     "execution_count": 5
    }
   ],
   "cell_type": "code",
   "source": [
    "analyzer = LRP(model)\n",
    "analyzer.model"
   ],
   "metadata": {},
   "execution_count": 5
  },
  {
   "cell_type": "markdown",
   "source": [
    "If this flattening is not desired, it can be disabled\n",
    "by passing the keyword argument `flatten=false` to the `LRP` constructor."
   ],
   "metadata": {}
  },
  {
   "cell_type": "markdown",
   "source": [
    "## LRP rules\n",
    "By default, the `LRP` constructor will assign the `ZeroRule` to all layers."
   ],
   "metadata": {}
  },
  {
   "outputs": [
    {
     "output_type": "execute_result",
     "data": {
      "text/plain": "LRP(\n  Conv((3, 3), 3 => 8, relu, pad=1) \u001b[90m => \u001b[39m\u001b[33mZeroRule()\u001b[39m,\n  Conv((3, 3), 8 => 8, relu, pad=1) \u001b[90m => \u001b[39m\u001b[33mZeroRule()\u001b[39m,\n  MaxPool((2, 2))                   \u001b[90m => \u001b[39m\u001b[33mZeroRule()\u001b[39m,\n  Conv((3, 3), 8 => 16, pad=1)      \u001b[90m => \u001b[39m\u001b[33mZeroRule()\u001b[39m,\n  BatchNorm(16, relu)               \u001b[90m => \u001b[39m\u001b[33mZeroRule()\u001b[39m,\n  Conv((3, 3), 16 => 8, relu, pad=1)\u001b[90m => \u001b[39m\u001b[33mZeroRule()\u001b[39m,\n  BatchNorm(8, relu)                \u001b[90m => \u001b[39m\u001b[33mZeroRule()\u001b[39m,\n  Flux.flatten                      \u001b[90m => \u001b[39m\u001b[33mZeroRule()\u001b[39m,\n  Dense(2048 => 512, relu)          \u001b[90m => \u001b[39m\u001b[33mZeroRule()\u001b[39m,\n  Dropout(0.5)                      \u001b[90m => \u001b[39m\u001b[33mZeroRule()\u001b[39m,\n  Dense(512 => 100)                 \u001b[90m => \u001b[39m\u001b[33mZeroRule()\u001b[39m,\n)"
     },
     "metadata": {},
     "execution_count": 6
    }
   ],
   "cell_type": "code",
   "source": [
    "LRP(model)"
   ],
   "metadata": {},
   "execution_count": 6
  },
  {
   "cell_type": "markdown",
   "source": [
    "This analyzer will return heatmaps that look identical to `InputTimesGradient`."
   ],
   "metadata": {}
  },
  {
   "cell_type": "markdown",
   "source": [
    "LRP's strength lies in assigning different rules to different layers,\n",
    "based on their functionality in the neural network[^1].\n",
    "ExplainableAI.jl implements many LRP rules out of the box,\n",
    "but it is also possible to *implement custom rules*.\n",
    "\n",
    "To assign different rules to different layers,\n",
    "use one of the composites presets,\n",
    "or create your own composite, as described in\n",
    "*Assigning rules to layers*."
   ],
   "metadata": {}
  },
  {
   "outputs": [
    {
     "output_type": "execute_result",
     "data": {
      "text/plain": "Composite(\n  GlobalTypeMap(  \u001b[90m# all layers\u001b[39m\n\u001b[94m    Flux.Conv              \u001b[39m => \u001b[33mZPlusRule()\u001b[39m,\n\u001b[94m    Flux.ConvTranspose     \u001b[39m => \u001b[33mZPlusRule()\u001b[39m,\n\u001b[94m    Flux.CrossCor          \u001b[39m => \u001b[33mZPlusRule()\u001b[39m,\n\u001b[94m    Flux.Dense             \u001b[39m => \u001b[33mEpsilonRule{Float32}(1.0f-6)\u001b[39m,\n\u001b[94m    typeof(NNlib.dropout)  \u001b[39m => \u001b[33mPassRule()\u001b[39m,\n\u001b[94m    Flux.AlphaDropout      \u001b[39m => \u001b[33mPassRule()\u001b[39m,\n\u001b[94m    Flux.Dropout           \u001b[39m => \u001b[33mPassRule()\u001b[39m,\n\u001b[94m    Flux.BatchNorm         \u001b[39m => \u001b[33mPassRule()\u001b[39m,\n\u001b[94m    typeof(Flux.flatten)   \u001b[39m => \u001b[33mPassRule()\u001b[39m,\n\u001b[94m    typeof(MLUtils.flatten)\u001b[39m => \u001b[33mPassRule()\u001b[39m,\n\u001b[94m    typeof(identity)       \u001b[39m => \u001b[33mPassRule()\u001b[39m,\n ),\n  FirstLayerTypeMap(  \u001b[90m# first layer\u001b[39m\n\u001b[94m    Flux.Conv         \u001b[39m => \u001b[33mFlatRule()\u001b[39m,\n\u001b[94m    Flux.ConvTranspose\u001b[39m => \u001b[33mFlatRule()\u001b[39m,\n\u001b[94m    Flux.CrossCor     \u001b[39m => \u001b[33mFlatRule()\u001b[39m,\n ),\n)"
     },
     "metadata": {},
     "execution_count": 7
    }
   ],
   "cell_type": "code",
   "source": [
    "composite = EpsilonPlusFlat() # using composite preset EpsilonPlusFlat"
   ],
   "metadata": {},
   "execution_count": 7
  },
  {
   "outputs": [
    {
     "output_type": "execute_result",
     "data": {
      "text/plain": "LRP(\n  Conv((3, 3), 3 => 8, relu, pad=1) \u001b[90m => \u001b[39m\u001b[33mFlatRule()\u001b[39m,\n  Conv((3, 3), 8 => 8, relu, pad=1) \u001b[90m => \u001b[39m\u001b[33mZPlusRule()\u001b[39m,\n  MaxPool((2, 2))                   \u001b[90m => \u001b[39m\u001b[33mZeroRule()\u001b[39m,\n  Conv((3, 3), 8 => 16, pad=1)      \u001b[90m => \u001b[39m\u001b[33mZPlusRule()\u001b[39m,\n  BatchNorm(16, relu)               \u001b[90m => \u001b[39m\u001b[33mPassRule()\u001b[39m,\n  Conv((3, 3), 16 => 8, relu, pad=1)\u001b[90m => \u001b[39m\u001b[33mZPlusRule()\u001b[39m,\n  BatchNorm(8, relu)                \u001b[90m => \u001b[39m\u001b[33mPassRule()\u001b[39m,\n  Flux.flatten                      \u001b[90m => \u001b[39m\u001b[33mPassRule()\u001b[39m,\n  Dense(2048 => 512, relu)          \u001b[90m => \u001b[39m\u001b[33mEpsilonRule{Float32}(1.0f-6)\u001b[39m,\n  Dropout(0.5)                      \u001b[90m => \u001b[39m\u001b[33mPassRule()\u001b[39m,\n  Dense(512 => 100)                 \u001b[90m => \u001b[39m\u001b[33mEpsilonRule{Float32}(1.0f-6)\u001b[39m,\n)"
     },
     "metadata": {},
     "execution_count": 8
    }
   ],
   "cell_type": "code",
   "source": [
    "LRP(model, composite)"
   ],
   "metadata": {},
   "execution_count": 8
  },
  {
   "cell_type": "markdown",
   "source": [
    "## Computing layerwise relevances\n",
    "If you are interested in computing layerwise relevances,\n",
    "call `analyze` with an LRP analyzer and the keyword argument\n",
    "`layerwise_relevances=true`.\n",
    "\n",
    "The layerwise relevances can be accessed in the `extras` field\n",
    "of the returned `Explanation`:"
   ],
   "metadata": {}
  },
  {
   "outputs": [
    {
     "output_type": "execute_result",
     "data": {
      "text/plain": "([-0.044987455 -0.024074046 … -0.24350718 -0.07813468; 0.108255625 -0.05900497 … 0.20863667 -0.14246087; … ; 0.321049 -0.0024514575 … -0.20535201 -0.23413858; 0.22991209 -0.048167787 … 0.012903264 0.14761473;;; -0.07274617 0.20468028 … 0.0637369 -0.15326098; -0.38896865 -0.59181917 … 0.03229431 0.043171152; … ; 0.13924642 -0.067779765 … 0.018447919 -0.026257623; 0.13081661 -0.005508043 … -0.02888787 0.17598137;;; -0.103149675 -0.17702681 … 0.0030044615 -0.03671542; -0.02307868 4.829706f-5 … 0.25278485 0.021305144; … ; -0.14939356 0.04698727 … -0.03259553 0.01826707; -0.08365131 0.0024314611 … -0.07210839 -0.00990562;;;;], [0.0 0.0026009344 … -0.0 0.0017638006; -0.20578632 -0.1771188 … -0.098333605 -0.0023985712; … ; -0.097656995 0.27638417 … -0.27270845 -0.00025258097; -0.22538245 0.11220327 … 0.15936987 0.14702407;;; -0.050301015 -0.075175166 … -0.03433699 -0.0059995707; 0.08786934 -0.013781832 … 0.028463963 -0.46595335; … ; 0.13368237 0.05432598 … -0.40929595 0.2029867; -0.12594889 -0.3254732 … -0.0084271375 -0.054629143;;; -0.0 -0.0 … -0.05013286 0.0; -0.1074721 0.0 … 0.0063211825 0.003028256; … ; 0.0 0.036819965 … -0.0053693014 -0.0; 0.0685285 -0.05837376 … 0.0 0.01160299;;; 0.08318375 0.23755786 … 0.057063878 -0.01270933; -0.1712131 -0.41988826 … 0.111421145 0.023716697; … ; 0.095147535 0.17565906 … 0.060635276 -0.10525748; 0.0 -0.14014594 … 0.04468915 0.0;;; -0.19585994 0.0032189495 … 0.02095318 -0.058368064; 0.0 -0.0 … 0.0 0.031701066; … ; 0.1416506 0.0 … 0.0 0.10164943; 0.030644573 -0.0 … 0.0 0.098372534;;; -0.0 0.0 … 0.0 0.0; -0.0 -0.0 … -0.014763479 -0.061638948; … ; -0.0 -0.0 … -0.0 -0.0; -0.00017385607 -0.0 … 0.0 0.00036042047;;; 0.039710727 -0.0 … 0.0 0.0; -0.026805507 0.0 … -0.0 -0.0; … ; -0.0 0.0 … 0.0 -0.0; -0.0 0.0 … -0.0 -0.0;;; 0.0 -0.0 … -0.0 0.0; -0.0 -0.0 … 0.0 0.02004625; … ; 0.0 0.0 … -0.0 0.033491433; 0.0 0.0 … 0.0 -0.0032322246;;;;], [0.0 0.0 … 0.0 0.0; -0.30598292 0.0 … 0.0 0.0; … ; 0.0 0.0 … 0.0 0.0; -0.07940089 0.0 … 0.11499996 0.0;;; 0.0 0.0 … 0.0 0.0; 0.0 0.712274 … 0.04497364 0.0; … ; 0.0 -0.07221315 … -0.057022974 0.0; 0.0 0.0 … 0.0 0.0;;; 0.0 0.0 … 0.0 0.0; 0.0 0.17408016 … 0.1311736 0.0; … ; 0.0 0.0 … 0.0 0.0; 0.0 -0.7015266 … 0.33994737 0.0;;; 0.0 -0.29044074 … 0.0 0.0; 0.0 0.0 … 0.0 -0.016052878; … ; 0.0 0.0 … 0.0 0.0; 0.0 0.0 … 0.0 0.0;;; 0.0 0.0 … 0.0 0.0; 0.0 0.0 … 0.0 -0.08470973; … ; 0.0 0.0 … 0.0 0.34833723; 0.0 0.0 … 0.0 0.0;;; 0.0 0.0 … 0.0 0.0; 0.124551736 0.0 … 0.0 0.0; … ; 0.38359952 0.0 … 0.0 0.0; 0.0 0.0 … 0.0 0.0;;; 0.0 0.0 … 0.0 -0.060921337; 0.0 0.0 … 0.0 0.0; … ; 0.0 0.0 … 0.0 0.0; -0.21784554 0.0 … -0.018773107 0.0;;; 0.0 0.0 … 0.0 0.0; 0.0 0.0 … 0.1394768 0.0; … ; 0.0 0.0 … 0.0 0.2938212; 0.0 0.0 … 0.0 0.0;;;;], [-0.30598292 -0.0 … -0.0 -0.0; -0.41142923 0.0 … 0.0 -0.0; … ; -0.39355558 -0.0 … -0.0 0.0; -0.07940089 0.0 … -0.0 0.11499996;;; 0.712274 0.8414681 … 0.9314068 0.04497364; 0.16434872 0.33393103 … 0.49660003 -0.68314546; … ; -0.079143405 -0.060853314 … -0.026825756 -0.3665255; -0.07221315 -0.31711462 … 0.14398842 -0.057022974;;; 0.17408016 0.24001136 … 0.20269139 0.1311736; -0.76361936 -0.4310455 … -0.5883778 0.27301034; … ; -0.49432573 -0.5266771 … -0.4939321 0.40429392; -0.7015266 -0.5088915 … -0.7317309 0.33994737;;; -0.29044074 -0.23356295 … -0.1448095 -0.016052878; -0.0 -0.0 … 0.0684519 -0.00068636326; … ; -0.0 0.0909714 … 0.0031260625 0.02362841; 0.0 0.0 … 0.0 0.0;;; 0.0 0.0 … 0.0 -0.08470973; 0.0 0.0 … 0.0 0.0; … ; 0.0 0.0 … 0.0 0.021529308; 0.0 0.0 … 0.0 0.34833723;;; 0.124551736 0.14083563 … 0.029302282 0.0; 0.5293923 0.0 … 0.0 0.0; … ; 0.5908263 0.0 … 0.0 0.0; 0.38359952 0.0 … 0.0 0.0;;; -0.0 -0.0 … -0.0 -0.060921337; -0.0 -0.0 … -0.0 -0.31985193; … ; -0.3448281 -0.0 … -0.0 -0.0; -0.21784554 -0.07952619 … -0.12252085 -0.018773107;;; -0.0 -0.036591347 … 0.011843922 0.1394768; 0.0 0.0 … -0.0 0.3354403; … ; 0.0 0.0 … 9.6764095f-5 0.3408534; 0.0 0.0 … 0.0 0.2938212;;;;], [0.0 -0.0 … 0.0 0.0; 0.0 0.0 … 0.0 0.0; … ; 0.0 0.0 … 0.0 -0.0; 0.0 -0.0 … -0.0 -0.0;;; 0.0009852925 -0.002584558 … 0.0011878251 -0.0048370715; -0.033150084 0.0012048143 … 0.0020027983 -0.0058421944; … ; -0.00225638 0.0017579845 … 0.0016641443 -0.009057882; -0.0008876504 0.0015517387 … 0.0018108576 0.0010884063;;; 0.34467947 -1.0899565 … -1.0082262 -0.800398; 0.4041193 -0.49623245 … -0.20543052 -0.9941674; … ; -0.1735798 -0.34118626 … 0.23892139 0.10803858; 0.057586383 1.1315765 … 0.64966846 0.36841708;;; … ;;; 0.00013720342 -0.0009462051 … 0.00033749692 -0.004541891; -0.0029838653 -7.903042f-6 … 0.00019972381 -0.00013258669; … ; 0.00031209964 0.0003357591 … 0.00041990163 -0.00012578066; 0.00034985945 -0.013250189 … 0.03869344 -3.1913616f-5;;; 0.009109529 -4.151435f-5 … 0.000493358 -0.00058094616; -0.014950082 -0.00028339567 … -0.00045344944 -0.0005770146; … ; 0.008387186 -2.9459212f-5 … -0.03090713 -0.00060268154; -0.00017344087 -0.0012345511 … -0.000136607 -0.0003773966;;; 0.0 -0.0 … 0.0 0.0; -0.0 -0.0 … -0.0 -0.0; … ; -0.0 -0.0 … -0.0 -0.0; -0.0 0.0 … -0.0 -0.0;;;;], [-0.0 0.0 … -0.0 -0.0; -0.0 -0.0 … -0.0 -0.0; … ; -0.0 -0.0 … -0.0 -0.0; -0.0 0.0 … 0.0 0.0;;; 0.0 -0.0 … 0.0 -0.0; -0.052788075 -0.0 … -0.0 -0.0; … ; 0.014071563 -0.0 … 0.0 -0.0; 0.010664873 -0.0 … -0.0 -0.0;;; -0.0 -0.13826591 … 0.0032465844 0.02523951; -0.0 -0.02949586 … -0.012656346 0.0019523134; … ; -0.011820687 -0.0027698553 … -0.0 0.0; -0.0 0.0 … -0.0 0.0;;; … ;;; -0.0 0.0 … 0.0 0.0; -0.0052557397 -0.0001046802 … 0.0 -0.0; … ; -0.0 0.0 … -0.0 -0.0; -0.0 -0.019639647 … 0.061760522 0.00039390117;;; 0.011755415 -0.0 … 0.0015451534 0.0; -0.024833214 0.0 … -0.0023223783 -0.0; … ; 0.007462114 -0.0009250877 … -0.048822276 -0.0; -0.0015115977 -0.0039905384 … 0.0 -0.0;;; -0.0 0.0 … -0.0 -0.0; 0.0 0.0 … 0.0 0.0; … ; 0.0 0.0 … 0.0 0.0; 0.0 -0.0 … 0.0 0.0;;;;], [-0.0067755124 0.006394379 … -0.0073382626 -0.0; -0.0068242378 -0.0 … -0.0 -0.0; … ; -0.024923967 0.026876908 … -0.016370406 -0.0032035331; 0.010652015 -5.575376f-6 … -8.402211f-6 -0.0130669875;;; -0.0024694197 -0.012581341 … -0.0004338231 0.0; -0.0016557163 -0.0033761128 … 0.0 0.0; … ; 0.0 0.0 … 0.0 0.0; 0.0 0.0 … 0.0 0.0;;; -0.0 -0.0 … 0.0018896506 0.037835296; -0.0 -4.1368517f-6 … -0.0 0.0023891905; … ; -0.014584705 0.026131764 … -0.0013081012 -0.0; -0.024084251 -0.011816818 … -0.0 -0.0;;; -0.0039789574 -0.04762727 … 0.033726346 -0.0039587626; -0.029358173 -0.038931813 … -0.062238723 0.023715178; … ; -0.015366659 -0.00802513 … -0.0 -0.0; -0.0018279924 -0.0 … -0.0 -0.0;;; 0.005783005 0.0072858357 … -2.468193f-5 0.0; 0.0010293568 0.001712652 … -0.00740731 -0.017667918; … ; 0.0 0.0 … 0.0 0.0; 0.0 -0.0049163243 … -2.6838127f-6 -0.006667205;;; -0.0009996601 -0.0 … -0.0 0.0023248005; -0.009857098 -0.0 … -0.0 -0.018830838; … ; -0.0100957705 -0.0 … -7.428807f-6 -0.0; -0.017355593 -2.707166f-5 … 0.008691075 -0.0;;; -0.0342972 -0.059058327 … -0.0193248 -0.036595885; -0.08805629 -0.0 … -0.0 0.005081607; … ; -0.0 -0.0069481125 … 0.00023881647 -0.0; -0.0 -0.0 … -0.004512272 -0.0002930414;;; 0.019190991 -0.0 … -0.0 -0.0; -0.0063065155 0.020518703 … -0.0 -2.1133741f-5; … ; -0.00018170863 -0.0 … -0.0 -0.0; -0.01616751 0.011469445 … -0.000103820654 -0.00018875148;;;;], [-0.0043242145 0.008087155 … -0.004499301 -0.0; -0.0037099095 0.0 … -0.0 -0.0; … ; -0.014532213 0.02567751 … -0.008382048 -0.0017161728; 0.0012730964 0.00027614943 … -0.0007974226 -0.0027087708;;; -0.0037786516 -0.015373799 … -0.0021104503 -0.0; -0.0015476706 -0.004699335 … 0.0 -0.0; … ; 0.0 -0.0 … -0.0 -0.0; 0.0 0.0 … 0.0 -0.0;;; 0.0 0.0 … 0.0013632488 0.024693385; -0.0 -7.4031064f-5 … -0.0 0.00011721401; … ; -0.0035294108 0.0072079115 … -0.0020239847 -0.0; -0.00831431 -0.0034861206 … 0.0 0.0;;; -0.0053999475 -0.0075738234 … 0.0016991718 -0.0063470895; -0.008417761 -0.013874793 … -0.013088334 0.004850255; … ; -0.0009248584 0.0011880393 … -0.0 0.0; 0.0012309714 0.0 … 0.0 -0.0;;; 0.0059656855 0.007566123 … 0.0022523915 -0.0; 0.0006000596 0.0064844796 … -0.0042630457 -0.01359188; … ; 0.0 -0.0 … -0.0 -0.0; -0.0 -0.0031871495 … 0.00012818608 -0.0044459;;; -0.00018332746 0.0 … -0.0 0.0030958694; -0.0051600994 0.0 … -0.0 -0.011710093; … ; -0.0022062915 0.0 … -9.9141456f-5 0.0; -0.009684453 -0.00064524426 … 0.007730026 -0.0;;; 0.043577418 -0.014401867 … 0.0060299262 0.00031589955; -0.010426254 -0.0 … 0.0 0.001742538; … ; -0.0 -0.0021709972 … 0.0061409813 0.0; -0.0 -0.0 … -0.0007933719 -0.00014089663;;; 0.01134489 -0.0 … -0.0 0.0; -0.003196566 0.016865764 … 0.0 -0.00043467365; … ; -0.004471846 0.0 … 0.0 -0.0; -0.007542287 0.006535979 … -1.3787266f-5 -0.0031513774;;;;], Float32[-0.0043242145; -0.0037099095; … ; -0.0; -0.0031513774;;], Float32[-0.003569893; -0.0; … ; -0.0; 0.024354564;;], Float32[-0.003569893; -0.0; … ; -0.0; 0.024354564;;], Float32[0.0; 0.0; … ; 0.0; 0.0;;])"
     },
     "metadata": {},
     "execution_count": 9
    }
   ],
   "cell_type": "code",
   "source": [
    "input = rand(Float32, 32, 32, 3, 1) # dummy input for our convolutional neural network\n",
    "\n",
    "expl = analyze(input, analyzer; layerwise_relevances=true)\n",
    "expl.extras.layerwise_relevances"
   ],
   "metadata": {},
   "execution_count": 9
  },
  {
   "cell_type": "markdown",
   "source": [
    "Note that the layerwise relevances are only kept for layers in the outermost `Chain` of the model.\n",
    "When using our unflattened model, we only obtain three layerwise relevances,\n",
    "one for each chain in the model and the output relevance:"
   ],
   "metadata": {}
  },
  {
   "outputs": [
    {
     "output_type": "execute_result",
     "data": {
      "text/plain": "([-0.03442155 -0.040133763 … -0.16047685 -0.051090267; 0.04538521 -0.1095524 … 0.18610673 -0.11184468; … ; 0.27241376 0.0072307563 … 0.33408245 0.38671735; -0.059677187 -0.005189453 … 0.0041388324 0.33579817;;; -0.037819114 0.027539669 … 0.0068441466 0.018220106; -0.2750361 -0.1417793 … 0.00839735 -0.009557631; … ; -0.030504853 0.032113682 … 0.41033223 0.24543028; 0.024667911 -0.0058180094 … -0.36036378 -0.6861198;;; -0.07241409 -0.032232177 … 0.006939218 0.023943998; -0.01628089 -0.0034843632 … -0.16942583 0.00482223; … ; 0.30663845 0.10762187 … 0.32757416 -0.32133633; -0.097118855 -0.13971493 … -0.5546002 -0.33945054;;;;], [-0.0036532995 0.009500801 … -0.0035928504 -0.0; -0.0043068295 -0.0 … -0.0 -0.0; … ; -0.011289346 0.030044824 … -0.0070078257 -0.0027864592; 0.0013509676 0.0005903133 … -0.003182212 -0.0014297364;;; -0.0047780643 -0.019328624 … -0.0017976889 -0.0; -0.002768722 -0.0063133202 … 0.0 -0.0; … ; 0.0 -0.0 … -0.0 -0.0; 0.0 0.0 … 0.0 -0.0;;; 0.0 0.0 … 0.0004919618 0.01966309; -0.0 -0.0 … -0.0 -0.00063822366; … ; -0.0023523376 0.0069452487 … -0.0025080834 -0.0; -0.0051867827 -0.007441823 … 0.0 0.0;;; -0.0036206576 -0.009478276 … 0.0002425618 -0.006143956; -0.0084534725 -0.018199746 … -0.013091909 0.0034036627; … ; -0.0026843708 -0.0067405323 … -0.0 0.0; 4.095016f-5 0.0 … 0.0 -0.0;;; 0.00506549 0.010878711 … 0.001406138 -0.0; 0.00053434924 0.002266345 … -0.007916512 -0.014152925; … ; 0.0 -0.0012314531 … -0.0 -0.0; -0.0 -0.005242374 … 0.00013557055 -0.004577372;;; -0.00054293347 0.0 … -0.0 0.0033411558; -0.0060283253 0.0 … -0.0 -0.011023701; … ; -0.007097149 0.0 … -0.0 0.0; -0.006596376 -0.0 … 0.0058221617 -0.0;;; 0.050556358 -0.0138652185 … 0.0010199855 -0.0055319145; -0.010584193 -0.0 … 0.0 0.0011723574; … ; -0.0 -0.00014945111 … 0.0077484497 1.8935269f-6; -0.0 0.0 … -0.00019659936 -0.0;;; 0.014777083 -0.0 … -0.0 0.0; -0.0064478605 0.019154765 … 0.0 -0.0; … ; -0.007958391 0.0 … 0.0 -0.0; -0.008999306 0.0075607337 … 0.000107259286 -0.001226161;;;;], Float32[0.0; 0.0; … ; 0.0; 0.0;;])"
     },
     "metadata": {},
     "execution_count": 10
    }
   ],
   "cell_type": "code",
   "source": [
    "analyzer = LRP(model; flatten=false) # use unflattened model\n",
    "\n",
    "expl = analyze(input, analyzer; layerwise_relevances=true)\n",
    "expl.extras.layerwise_relevances"
   ],
   "metadata": {},
   "execution_count": 10
  },
  {
   "cell_type": "markdown",
   "source": [
    "## Performance tips\n",
    "### Using LRP with a GPU\n",
    "Like all other analyzers, LRP can be used on GPUs.\n",
    "Follow the instructions on *GPU support*.\n",
    "\n",
    "### Using LRP without a GPU\n",
    "Using Julia's package extension mechanism,\n",
    "ExplainableAI.jl's LRP implementation can optionally make use of\n",
    "[Tullio.jl](https://github.com/mcabbott/Tullio.jl) and\n",
    "[LoopVectorization.jl](https://github.com/JuliaSIMD/LoopVectorization.jl)\n",
    "for faster LRP rules on dense layers.\n",
    "\n",
    "This only requires loading the packages before loading ExplainableAI.jl:\n",
    "```julia\n",
    "using LoopVectorization, Tullio\n",
    "using ExplainableAI\n",
    "```\n",
    "\n",
    "[^1]: G. Montavon et al., [Layer-Wise Relevance Propagation: An Overview](https://link.springer.com/chapter/10.1007/978-3-030-28954-6_10)"
   ],
   "metadata": {}
  },
  {
   "cell_type": "markdown",
   "source": [
    "---\n",
    "\n",
    "*This notebook was generated using [Literate.jl](https://github.com/fredrikekre/Literate.jl).*"
   ],
   "metadata": {}
  }
 ],
 "nbformat_minor": 3,
 "metadata": {
  "language_info": {
   "file_extension": ".jl",
   "mimetype": "application/julia",
   "name": "julia",
   "version": "1.9.4"
  },
  "kernelspec": {
   "name": "julia-1.9",
   "display_name": "Julia 1.9.4",
   "language": "julia"
  }
 },
 "nbformat": 4
}
