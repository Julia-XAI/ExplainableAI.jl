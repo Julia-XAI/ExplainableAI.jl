{
 "cells": [
  {
   "cell_type": "markdown",
   "source": [
    "# Analyzer augmentations\n",
    "All analyzers implemented in ExplainableAI.jl can be augmented by two types of augmentations:\n",
    "`NoiseAugmentation`s and `InterpolationAugmentation`s.\n",
    "These augmentations are wrappers around analyzers\n",
    "that modify the input before passing it to the analyzer.\n",
    "\n",
    "We build on the basics shown in the *Getting started* section\n",
    "and start out by loading the same pre-trained LeNet5 model and MNIST input data:"
   ],
   "metadata": {}
  },
  {
   "outputs": [
    {
     "output_type": "execute_result",
     "data": {
      "text/plain": "Chain(\n  Conv((5, 5), 1 => 6, relu),           \u001b[90m# 156 parameters\u001b[39m\n  MaxPool((2, 2)),\n  Conv((5, 5), 6 => 16, relu),          \u001b[90m# 2_416 parameters\u001b[39m\n  MaxPool((2, 2)),\n  Flux.flatten,\n  Dense(256 => 120, relu),              \u001b[90m# 30_840 parameters\u001b[39m\n  Dense(120 => 84, relu),               \u001b[90m# 10_164 parameters\u001b[39m\n  Dense(84 => 10),                      \u001b[90m# 850 parameters\u001b[39m\n) \u001b[90m                  # Total: 10 arrays, \u001b[39m44_426 parameters, 174.344 KiB."
     },
     "metadata": {},
     "execution_count": 1
    }
   ],
   "cell_type": "code",
   "source": [
    "using ExplainableAI\n",
    "using VisionHeatmaps\n",
    "using Zygote\n",
    "using Flux\n",
    "\n",
    "using BSON # hide\n",
    "model = BSON.load(\"../model.bson\", @__MODULE__)[:model] # hide\n",
    "model"
   ],
   "metadata": {},
   "execution_count": 1
  },
  {
   "outputs": [
    {
     "output_type": "execute_result",
     "data": {
      "text/plain": "28×28 reinterpret(reshape, ColorTypes.Gray{Float32}, ::Matrix{Float32}) with eltype ColorTypes.Gray{Float32}:\n 0.0  0.0  0.0  0.0  0.0  0.0  0.0  …  0.0        0.0  0.0  0.0  0.0  0.0\n 0.0  0.0  0.0  0.0  0.0  0.0  0.0     0.0        0.0  0.0  0.0  0.0  0.0\n 0.0  0.0  0.0  0.0  0.0  0.0  0.0     0.0        0.0  0.0  0.0  0.0  0.0\n 0.0  0.0  0.0  0.0  0.0  0.0  0.0     0.0        0.0  0.0  0.0  0.0  0.0\n 0.0  0.0  0.0  0.0  0.0  0.0  0.0     0.0        0.0  0.0  0.0  0.0  0.0\n 0.0  0.0  0.0  0.0  0.0  0.0  0.0  …  0.0        0.0  0.0  0.0  0.0  0.0\n 0.0  0.0  0.0  0.0  0.0  0.0  0.0     0.0        0.0  0.0  0.0  0.0  0.0\n 0.0  0.0  0.0  0.0  0.0  0.0  0.0     0.0        0.0  0.0  0.0  0.0  0.0\n 0.0  0.0  0.0  0.0  0.0  0.0  0.0     0.0235294  0.0  0.0  0.0  0.0  0.0\n 0.0  0.0  0.0  0.0  0.0  0.0  0.0     0.407843   0.0  0.0  0.0  0.0  0.0\n ⋮                        ⋮         ⋱                       ⋮         \n 0.0  0.0  0.0  0.0  0.0  0.0  0.0     0.0        0.0  0.0  0.0  0.0  0.0\n 0.0  0.0  0.0  0.0  0.0  0.0  0.0  …  0.0        0.0  0.0  0.0  0.0  0.0\n 0.0  0.0  0.0  0.0  0.0  0.0  0.0     0.0        0.0  0.0  0.0  0.0  0.0\n 0.0  0.0  0.0  0.0  0.0  0.0  0.0     0.0        0.0  0.0  0.0  0.0  0.0\n 0.0  0.0  0.0  0.0  0.0  0.0  0.0     0.0        0.0  0.0  0.0  0.0  0.0\n 0.0  0.0  0.0  0.0  0.0  0.0  0.0     0.0        0.0  0.0  0.0  0.0  0.0\n 0.0  0.0  0.0  0.0  0.0  0.0  0.0  …  0.0        0.0  0.0  0.0  0.0  0.0\n 0.0  0.0  0.0  0.0  0.0  0.0  0.0     0.0        0.0  0.0  0.0  0.0  0.0\n 0.0  0.0  0.0  0.0  0.0  0.0  0.0     0.0        0.0  0.0  0.0  0.0  0.0",
      "image/png": "[encoded data removed]",
      "text/html": [
       "<img src=\"data:image/png;base64,iVBORw0KGgoAAAANSUhEUgAAAHAAAABwCAAAAADji6uXAAAAAXNSR0IArs4c6QAAAARnQU1BAACxjwv8YQUAAAAgY0hSTQAAeiYAAICEAAD6AAAAgOgAAHUwAADqYAAAOpgAABdwnLpRPAAAAjhJREFUaAW9wb2L1gUAB/DPcd+oQaPswCGqpSGHXqYTapGgJSg4CeoPcEiECqFDpCGwTdIQImuIsGiTtmjJgl6GoKEiIhqCoMQsOOhFy85r+A3H8fTo73mM7+cTZVEWZVEWZVEWZVEWZVEWZVEWZVEWZVEWZVEWZVEWZVEWZVEWZVEWZVEWc7gTS1jBHlzGSXyK71xZlEVZlMUM7sYB7MWSrXbjH3yLj/E0/jYpyqIsymKEe3AAj+NGgx/xEb7HKj7HMnbgYXyBkyZFWZRFWVzFq1jBksH7+AqHcdHgfuzH67gP5/AyTuO8raIsyqIsprgBq9iHBZzHKziKP2x1CxbxPN7DHaaLsiiLsphiD57FAn7CXnxmq0XchlN4FzcbLOBNrJkUZVEWZTHFItYNLmE3HsNdBhewC7vwC3badA4v4JJJURZlURZTnMEHeAi34wQ2DNaxaNNOg8t4B0/hrP8WZVEWZTHFBazgJhzCA/gVP+B63ItlW72Gw1gzXZRFWZTFVazhkEmnsGzwGw7iDay7siiLsiiLOaziCZv2423jRFmURVnMaB+eQwy+xmnjRVmURVnMYBkvYpvB73gSfxkvyqIsymIGj2C7wZ94FJ+YTZRFWZTFSNuxatNb+NDsoizKoixG2IZvcJ3Bl3jGfKIsyqIsRngQt2LD4CAumk+URVmUxQhHsGFwFGfML8qiLMpihB1YwM94ybWJsiiLshjhGI7hCM66NlEWZVEWIxzHcf+PKIuyKPsXNwdYfgiRxs8AAAAASUVORK5C\">"
      ]
     },
     "metadata": {},
     "execution_count": 2
    }
   ],
   "cell_type": "code",
   "source": [
    "using MLDatasets\n",
    "using ImageCore, ImageIO, ImageShow\n",
    "\n",
    "index = 10\n",
    "x, y = MNIST(Float32, :test)[10]\n",
    "input = reshape(x, 28, 28, 1, :)\n",
    "\n",
    "convert2image(MNIST, x)"
   ],
   "metadata": {},
   "execution_count": 2
  },
  {
   "cell_type": "markdown",
   "source": [
    "## Noise augmentation\n",
    "The `NoiseAugmentation` wrapper computes explanations averaged over noisy inputs.\n",
    "Let's demonstrate this on the `Gradient` analyzer.\n",
    "First, we compute the heatmap of an explanation without augmentation:"
   ],
   "metadata": {}
  },
  {
   "outputs": [
    {
     "output_type": "execute_result",
     "data": {
      "text/plain": "1-element Vector{Matrix{ColorTypes.RGB{Float64}}}:\n [RGB(0.542044692993164, 0.5190736373901367, 0.18255157775878905) RGB(0.5405419067382813, 0.5186877868652343, 0.18299835205078127) … RGB(0.5501000518798829, 0.5211419052124023, 0.18022431030273436) RGB(0.5480906158447265, 0.5206259689331054, 0.18076740112304687); RGB(0.5577551651000977, 0.5230979751586914, 0.1782020248413086) RGB(0.5673554992675781, 0.5255300598144531, 0.17589942016601562) … RGB(0.550458218383789, 0.5212338668823242, 0.18012750854492188) RGB(0.5480906158447265, 0.5206259689331054, 0.18076740112304687); … ; RGB(0.5540689025878907, 0.5221609344482422, 0.17915164794921876) RGB(0.5669629669189453, 0.5254306182861328, 0.17598839416503906) … RGB(0.5511143676757813, 0.5214023376464844, 0.1799501708984375) RGB(0.5480906158447265, 0.5206259689331054, 0.18076740112304687); RGB(0.5480906158447265, 0.5206259689331054, 0.18076740112304687) RGB(0.5480906158447265, 0.5206259689331054, 0.18076740112304687) … RGB(0.5480906158447265, 0.5206259689331054, 0.18076740112304687) RGB(0.5480906158447265, 0.5206259689331054, 0.18076740112304687)]",
      "text/html": [
       "<table><tbody><tr><td style='text-align:center;vertical-align:middle; margin: 0.5em;border:1px #90999f solid;border-collapse:collapse'><img style='max-width: 100px; max-height:100px;display:inline' src=\"data:image/png;base64,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\"></td></tr></tbody></table><div><small>(a vector displayed as a row to save space)</small></div>"
      ]
     },
     "metadata": {},
     "execution_count": 3
    }
   ],
   "cell_type": "code",
   "source": [
    "analyzer = Gradient(model)\n",
    "heatmap(input, analyzer)"
   ],
   "metadata": {},
   "execution_count": 3
  },
  {
   "cell_type": "markdown",
   "source": [
    "Now we wrap the analyzer in a `NoiseAugmentation` with 10 samples of noise.\n",
    "By default, the noise is sampled from a Gaussian distribution\n",
    "with mean 0 and standard deviation 1."
   ],
   "metadata": {}
  },
  {
   "outputs": [
    {
     "name": "stdout",
     "output_type": "stream",
     "text": [
      "\rSampling NoiseAugmentation...   4%|▉                     |  ETA: 0:00:21\u001b[K\rSampling NoiseAugmentation... 100%|██████████████████████| Time: 0:00:01\u001b[K\n"
     ]
    },
    {
     "output_type": "execute_result",
     "data": {
      "text/plain": "1-element Vector{Matrix{ColorTypes.RGB{Float64}}}:\n [RGB(0.4503715850830078, 0.49406059875488284, 0.22047369689941407) RGB(0.4519318786621094, 0.49450307006835936, 0.21970519409179687) … RGB(0.459544571685791, 0.4966618934631348, 0.21595565872192382) RGB(0.4549961349487305, 0.49537203826904297, 0.21819593353271483); RGB(0.4469767044067383, 0.4930978713989258, 0.22214580230712888) RGB(0.4487170829772949, 0.4935914115905762, 0.22128860092163086) … RGB(0.4670623954772949, 0.49875631179809565, 0.21238410644531247) RGB(0.4576481842041016, 0.49612411193847655, 0.2168897003173828); … ; RGB(0.44899720382690433, 0.4936708488464356, 0.22115063095092774) RGB(0.4488118537902832, 0.49361828689575193, 0.22124192276000976) … RGB(0.44274120559692387, 0.4918967597961426, 0.22423194351196288) RGB(0.4486525733947754, 0.4935731178283692, 0.2213203742980957); RGB(0.4525910316467285, 0.4946899940490723, 0.21938053665161134) RGB(0.45201218338012694, 0.49452584304809577, 0.2196656410217285) … RGB(0.446153670501709, 0.49286447372436526, 0.22255117721557616) RGB(0.4486962783813476, 0.4935855117797852, 0.22129884796142577)]",
      "text/html": [
       "<table><tbody><tr><td style='text-align:center;vertical-align:middle; margin: 0.5em;border:1px #90999f solid;border-collapse:collapse'><img style='max-width: 100px; max-height:100px;display:inline' src=\"data:image/png;base64,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\"></td></tr></tbody></table><div><small>(a vector displayed as a row to save space)</small></div>"
      ]
     },
     "metadata": {},
     "execution_count": 4
    }
   ],
   "cell_type": "code",
   "source": [
    "analyzer = NoiseAugmentation(Gradient(model), 50)\n",
    "heatmap(input, analyzer)"
   ],
   "metadata": {},
   "execution_count": 4
  },
  {
   "cell_type": "markdown",
   "source": [
    "Note that a higher sample size is desired, as it will lead to a smoother heatmap.\n",
    "However, this comes at the cost of a longer computation time.\n",
    "\n",
    "We can also set the standard deviation of the Gaussian distribution:"
   ],
   "metadata": {}
  },
  {
   "outputs": [
    {
     "output_type": "execute_result",
     "data": {
      "text/plain": "1-element Vector{Matrix{ColorTypes.RGB{Float64}}}:\n [RGB(0.51938349609375, 0.5130595336914063, 0.1902448486328125) RGB(0.5179613418579101, 0.5126826126098634, 0.19076681365966797) … RGB(0.5256494567871094, 0.5147135498046875, 0.18798306274414062) RGB(0.5231711425781249, 0.5140590515136719, 0.18887708740234374); RGB(0.5227628906249999, 0.513951318359375, 0.18902451171875) RGB(0.5241903442382811, 0.5143280075073242, 0.18850904235839844) … RGB(0.5243939208984375, 0.5143817291259766, 0.18843552856445311) RGB(0.5206158325195313, 0.513384733581543, 0.18979983825683594); … ; RGB(0.5195367553710937, 0.5130999771118164, 0.19018950500488283) RGB(0.5243614013671875, 0.5143731475830079, 0.1884472717285156) … RGB(0.5201255126953125, 0.5132553436279297, 0.1899768981933594) RGB(0.5214456298828125, 0.5136037078857423, 0.18950018920898437); RGB(0.5230776489257811, 0.5140343795776368, 0.18891084899902344) RGB(0.5242248413085937, 0.514337110900879, 0.18849658508300782) … RGB(0.5202778930664063, 0.5132955551147461, 0.1899218719482422) RGB(0.5216485473632813, 0.5136572555541993, 0.18942691345214843)]",
      "text/html": [
       "<table><tbody><tr><td style='text-align:center;vertical-align:middle; margin: 0.5em;border:1px #90999f solid;border-collapse:collapse'><img style='max-width: 100px; max-height:100px;display:inline' src=\"data:image/png;base64,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\"></td></tr></tbody></table><div><small>(a vector displayed as a row to save space)</small></div>"
      ]
     },
     "metadata": {},
     "execution_count": 5
    }
   ],
   "cell_type": "code",
   "source": [
    "analyzer = NoiseAugmentation(Gradient(model), 50, 0.1)\n",
    "heatmap(input, analyzer)"
   ],
   "metadata": {},
   "execution_count": 5
  },
  {
   "cell_type": "markdown",
   "source": [
    "When used with a `Gradient` analyzer, this is equivalent to `SmoothGrad`:"
   ],
   "metadata": {}
  },
  {
   "outputs": [
    {
     "output_type": "execute_result",
     "data": {
      "text/plain": "1-element Vector{Matrix{ColorTypes.RGB{Float64}}}:\n [RGB(0.39566474609375, 0.47835203399658205, 0.24865677947998047) RGB(0.39530380859375003, 0.4782448806762696, 0.24885416717529296) … RGB(0.40014692687988285, 0.4796660247802734, 0.24623627014160157) RGB(0.3992407989501953, 0.4794011566162109, 0.24672418518066408); RGB(0.395341259765625, 0.47825599899291993, 0.2488336860656738) RGB(0.395616748046875, 0.478337784576416, 0.24868302841186524) … RGB(0.3999748458862305, 0.47961572418212894, 0.2463289291381836) RGB(0.3995743980407715, 0.47949867019653325, 0.24654455490112304); … ; RGB(0.3984256706237793, 0.47916288833618165, 0.2471631004333496) RGB(0.3936728515625, 0.4777606903076172, 0.2497460968017578) … RGB(0.38965966796875, 0.47656927642822267, 0.2519339263916015) RGB(0.39303896484375, 0.47757250518798827, 0.2500927536010742); RGB(0.3978929634094238, 0.47900717391967773, 0.24744994277954102) RGB(0.399264949798584, 0.47940821609497075, 0.24671118087768557) … RGB(0.39316591796875, 0.47761019439697266, 0.2500233261108398) RGB(0.39590854492187505, 0.47842441177368167, 0.24852345199584963)]",
      "text/html": [
       "<table><tbody><tr><td style='text-align:center;vertical-align:middle; margin: 0.5em;border:1px #90999f solid;border-collapse:collapse'><img style='max-width: 100px; max-height:100px;display:inline' src=\"data:image/png;base64,iVBORw0KGgoAAAANSUhEUgAAAHAAAABwCAIAAABJgmMcAAAAAXNSR0IArs4c6QAAAARnQU1BAACxjwv8YQUAAAAgY0hSTQAAeiYAAICEAAD6AAAAgOgAAHUwAADqYAAAOpgAABdwnLpRPAAACmZJREFUeAHtwUuPZddZx+Hfu9a79zmnum5d3e3utt0xdkAGHAkJSDASF8OEQZjkQ/ARmPBlECOExBSkCKFIoCgSliXHBpPY2HHi9rXb3dVVp85l773Wy+h/jgeFmOzhfh7/q7/5U65jXK9iSA1DttWRYC9bINkq0lpBgr0mVSRTkSESUjGkREISgbSpIMkCyVaRoSakYkgNQ4y9IRL/H2cyKmcyKmcyKuf/kK0igSFDTUgfGdlWR4K9TCCeCpJTIJ4K4lYRI5C+ZiTC2Askp4okC8StIovUI5EMKWHIEAnZVkcyFSmRuI4zGZUzGZUzGZXzDRVDKoYYe31kZKgJ2VZHgr1MRYK9m80acatIawW5KDNkVRqkhiHG3qqwc3d2iZw1G+R+2yHrasiqZOSiNEhXM2LGTqYiNRLiTEblTEblTEblxl4NQ5ZlhnQ1IyUS0kVGGivI5TBDroYWmecB+bq7gRx4h3Q1I9viyBAJ6UpGTtotctKskcCQIQzpw5DzoUEedQukqxnpqiNmgWQqUjHEmYzKmYzKmYzKSxiyrY5c9HNkXRvktFkjZ75Cjn2LXA4zZFMdWZcG+WJzhCyHFolgp0RCFt4jZuxc9DOkBjtfbo6QbBXxVJFNceTQO2SWBuQgd8ihd4inipRgx5mMypmMypmMygNDZqkgN7xDFtEjR75FkgVyb3aFZKvI5TBDEoGctSukqxlZ5AH54NlN5GLTIJttQlJiJ+c5UqshOQdyc7FFcgrkpFkjB6lHzNg5yB1i7CUCcSajciajciajcr4hW0WOfYMs8oDUMGSIhCyHBjnIPbKtjnzVHXKdJlVkUx25e7BCPrs8RB6cXSHPtjPkbL5Bln2L9DUhcx+Qu7MlMk8DUjHEIpASCWmsIhVDnMmonMmonMmoPFtFsgVys1kjB2lADn1AGgvkXmPI3eYG8mn3BHn3aoU86RfIz5bPIXdnl8ixb5HXjr9E3jh9grw8O0VeaJ5H3lq9i/zkcob81+Vd5HKYIUMkxAhkXRvkrK6RQ98iiUCcyaicyaicyajc2HOryLo0yMUwQ45Kh8xSQT7ZZOT14xXy8uwUue0b5Cxn5G/tC+TF+RL57mGDtObI7578JeJ+hKTmGPljP0aSvYncbz9G3nx2F7kc5sgsFWRTG2RVGqRNA9dxJqNyJqNyJqPyJhWkhiGfdUfIUDPyOBXkwfwZ8oNbhrz+4K+ReO5P2OnOkeHhPyLfL/+EvNjcQSICWdY18uXqv5Hz8gwpUZEnZYm0lpH/XJ4iN5s1cjnMkf9Z3kKyBXLDO2See6S1gjiTUTmTUTmTUfkQCVmVFnnWL5BVaZA2FeT+7BI5yTeQ88c/Qp5+/g/IZb1CGnPk6dAhP7l4gpix87g7QG41D5EfP/0W0lVH2nQL+b2TT5EH80vkcb9AbrdXyKY6Mk89UjFklgrSWEGcyaicyaicyajcrSKNFeRbi6eIW0XaVJA/OL5AEofIT1fvID/fbJBbbsi2VuTxkJCP1mfIZ5tj5J2PT5HhoiLDeUG2TwpiuUXe+/3vIN95/gnym4ePkGwVuTe7QLa1QYZIyDz1SLZAnMmonMmonMmoPFtFbrUr5Dh3yDwXpKsJeevyEHnz8gKp0bDXIs/PrpD3V7eQm80aeWXxFLnTXiH+ckUWuUdevfEIedTdQB7MnyEvzbfIB+sDpK8ZmTUD8vHqJpItkHnqkRoJyVYQZzIqZzIqZzIqr5GQxICcNj1yvzGkjwH5Ml8hry1a5EFzB7kzewE5vfVnyOr8P5DZ7B7y9tf/jPzLsyXy2tEXyPeOlsgbx7+DdHWL3MivIG+vforcaTrknStD3lveQfrISFDZC8SpiLPnTEblTEblTEblRiAHeUBOcyBHuUV+rb2LDFGQk3yC3Lv154gdvYqUO3+EHKQWuXj0r8iTskK+6g6QD65uIzUScst/hnz36HtIREEMQ07zAnFbIwe5Qy6GOVIiIUftluvUMMSZjMqZjMqZjMrdKtJHQrIZkknIRVkiH3VPkcTnyIvdp8iDr19AZp/8HfLW8h1kWQfk358dIT/8/DeQrx9l5INbZ8jj7iHyzurHSCKQJgVy5ux8sLqNPFyfIDUSMss9YgRiBJIsEGcyKmcyKmcyKg/2+pqQpwM7n3Ud8sv1DPlw9QqyKQ1y1q6Qbx/8EnnjpEeWdUB+vnbkF6szZCiGJGdnuUzIB4s7yLvn95AmV2SoCTmbrZHPVzeQbIHcXqwRj4qsS4N4KkiKQJzJqJzJqJzJqLyPjKQI5KP1IfJwc4I8XJ8g7//qEOm+Kkhz6wT5t/Y+8vcH7AwDO8sPB6R2gXSXPeKtIWlmyK9YIN6w4x7IZm3I1aEjp/MOOWk3yIvzc6RgiFtFahiSLRBnMipnMipnMioPDOmqIyUMcavIoXfIyVlFnpERM3a6RwXZbAPpzguSGkOisNOvKzI7cXaSId1FIENryLAKpD0xpPWKLLxH5qlH+sjILA3IIvfIqrRIVzPiTEblTEblTEblQ03IujZIawPXWeQeOZ73yMG9hDx62iCz5zJStoFYY8jsucyOsXN7wU7bBHK1NOTs5oCczrbIcbNBXjp4ivzhyddIxpAPNy1ymAekhiFfdQukrxkZIiHOZFTOZFTOZFReMaSxgpixYwRSwpCF90ibCpLOFkiphhy1HfLF7QPk/tESqWHIbx99hdxur5AfPf420pWEnLQb5PXTT5Dvnx4ix/klJJORF9svkK+HHvloY8gsDYhbgwR7zmRUzmRUzmRUHmFIiYQsS4OUMKSvjmQLZD00SLJAUg5kPThyuuiQ02aDPFicI3faFXLWbJG/eO595CgPyEEuyG8t5sj99j5y1NxGZu1d5KsnP0SCDdJFQgJDushICUOcyaicyaicyag82CthSF8TUsOQi36GdDUjbSrIUA1Jxs6d+RXXWeQeSRbIujjy8mGHvNB2yHO+QF6d/zqyqStkU9fIxfpD5NnybeT97TnycNsgq+JIVzPSpgEZakacyaicyaicyaicb0gWSJMKEmHIzXaNVAzJVpF784Isco+cNmvkqrRcZ6gJKcmQda3IQcrI42GNXK3eQ1a1IJ917HzZzZGn/RwZ4jbSpoLM04B0NSMRxnWcyaicyaicyag8WSANBbEUyBAZqfSIsXfsG+Qg98gi9chBHpBEIOfDAunYOyKQ99ctcpQHpIQhN5se+cX6APl0e4RcDjPErSKL3CP9kJFwQ0o1xIxrOZNROZNROZNRubFnFkhjFWkpSJMKkgnktFlznYGEXJYWWZUWyVaRbXHkCQukqxn5MhKyqg2yKQ1y3s+RbXUkWSCJQA68QxapR1IJJFsgmYoEe85kVM5kVM5kVG4EUjEkgj0zxK0imYqsSoMEhgR7xp6ngtTqyDwPXGdbHRkiIcthhvQ1I00qyJFvETN2EhWZpYKYBZIskMpejYQYe85kVM5kVM5kVB7sJQIJY8fYC77B2KlhyBAJyRZIkwYkMCSsIMFeYEgfGdkUR9wKMvceqRjXKZGQZMF1IgwJ9pKxE+wZgTiTUTmTUTmTUf0v2OYbc1UvefwAAAAASUVORK5C\"></td></tr></tbody></table><div><small>(a vector displayed as a row to save space)</small></div>"
      ]
     },
     "metadata": {},
     "execution_count": 6
    }
   ],
   "cell_type": "code",
   "source": [
    "analyzer = SmoothGrad(model, 50)\n",
    "heatmap(input, analyzer)"
   ],
   "metadata": {},
   "execution_count": 6
  },
  {
   "cell_type": "markdown",
   "source": [
    "We can also use any distribution from\n",
    "[Distributions.jl](https://github.com/JuliaStats/Distributions.jl),\n",
    "for example Poisson noise with rate $\\lambda=0.5$:"
   ],
   "metadata": {}
  },
  {
   "outputs": [
    {
     "output_type": "execute_result",
     "data": {
      "text/plain": "1-element Vector{Matrix{ColorTypes.RGB{Float64}}}:\n [RGB(0.3226383544921875, 0.4565633666992187, 0.2887918701171875) RGB(0.3235427261352539, 0.4568405128479004, 0.28829592437744145) … RGB(0.3289216537475586, 0.45848889389038083, 0.2853151954650879) RGB(0.32337532348632814, 0.4567892120361328, 0.2883877258300781); RGB(0.3206974960327148, 0.45596858749389646, 0.2898578651428223) RGB(0.3229774169921875, 0.4566672729492187, 0.2886059326171875) … RGB(0.33390117492675786, 0.46001146545410154, 0.2825215881347656) RGB(0.32921450195312496, 0.4585786376953125, 0.2851498779296875); … ; RGB(0.3237448013305664, 0.4569024391174316, 0.2881851089477539) RGB(0.31503087615966796, 0.4542320426940918, 0.293056763458252) … RGB(0.31092586135864253, 0.45295559616088865, 0.29534788055419925) RGB(0.32015214843749995, 0.45580146484375, 0.29016572265625); RGB(0.32251399688720706, 0.45652525711059566, 0.28886006622314453) RGB(0.31676147613525385, 0.45476238784790046, 0.2920798118591309) … RGB(0.3191070999145508, 0.4554812080383301, 0.2907556694030762) RGB(0.3208530731201172, 0.45601626434326176, 0.2897708953857422)]",
      "text/html": [
       "<table><tbody><tr><td style='text-align:center;vertical-align:middle; margin: 0.5em;border:1px #90999f solid;border-collapse:collapse'><img style='max-width: 100px; max-height:100px;display:inline' src=\"data:image/png;base64,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\"></td></tr></tbody></table><div><small>(a vector displayed as a row to save space)</small></div>"
      ]
     },
     "metadata": {},
     "execution_count": 7
    }
   ],
   "cell_type": "code",
   "source": [
    "using Distributions\n",
    "\n",
    "analyzer = NoiseAugmentation(Gradient(model), 50, Poisson(0.5))\n",
    "heatmap(input, analyzer)"
   ],
   "metadata": {},
   "execution_count": 7
  },
  {
   "cell_type": "markdown",
   "source": [
    "Is is also possible to define your own distributions or mixture distributions.\n",
    "\n",
    "`NoiseAugmentation` can be combined with any analyzer type from the Julia-XAI ecosystem,\n",
    "for example `LRP` from [RelevancePropagation.jl](https://github.com/Julia-XAI/RelevancePropagation.jl)."
   ],
   "metadata": {}
  },
  {
   "cell_type": "markdown",
   "source": [
    "## Integration augmentation\n",
    "The `InterpolationAugmentation` wrapper computes explanations\n",
    "averaged over `n` steps of linear interpolation between the input and a reference input,\n",
    "which is set to `zero(input)` by default:"
   ],
   "metadata": {}
  },
  {
   "outputs": [
    {
     "output_type": "execute_result",
     "data": {
      "text/plain": "1-element Vector{Matrix{ColorTypes.RGB{Float64}}}:\n [RGB(0.7892717529296875, 0.5711786254882814, 0.23524071044921874) RGB(0.7892717529296875, 0.5711786254882814, 0.23524071044921874) … RGB(0.7892717529296875, 0.5711786254882814, 0.23524071044921874) RGB(0.7892717529296875, 0.5711786254882814, 0.23524071044921874); RGB(0.7892717529296875, 0.5711786254882814, 0.23524071044921874) RGB(0.7892717529296875, 0.5711786254882814, 0.23524071044921874) … RGB(0.7892717529296875, 0.5711786254882814, 0.23524071044921874) RGB(0.7892717529296875, 0.5711786254882814, 0.23524071044921874); … ; RGB(0.7892717529296875, 0.5711786254882814, 0.23524071044921874) RGB(0.7892717529296875, 0.5711786254882814, 0.23524071044921874) … RGB(0.7892717529296875, 0.5711786254882814, 0.23524071044921874) RGB(0.7892717529296875, 0.5711786254882814, 0.23524071044921874); RGB(0.7892717529296875, 0.5711786254882814, 0.23524071044921874) RGB(0.7892717529296875, 0.5711786254882814, 0.23524071044921874) … RGB(0.7892717529296875, 0.5711786254882814, 0.23524071044921874) RGB(0.7892717529296875, 0.5711786254882814, 0.23524071044921874)]",
      "text/html": [
       "<table><tbody><tr><td style='text-align:center;vertical-align:middle; margin: 0.5em;border:1px #90999f solid;border-collapse:collapse'><img style='max-width: 100px; max-height:100px;display:inline' src=\"data:image/png;base64,iVBORw0KGgoAAAANSUhEUgAAAHAAAABwCAIAAABJgmMcAAAAAXNSR0IArs4c6QAAAARnQU1BAACxjwv8YQUAAAAgY0hSTQAAeiYAAICEAAD6AAAAgOgAAHUwAADqYAAAOpgAABdwnLpRPAAABE9JREFUeAHtwTtsVQUcx/HvOfd/em/vpdDSNm2RiERRGmvQAU2ML6ImPiJOLo5uLiZuOjo7mDiYaBxcZTWOmiAyGGOwJYIEjYLl2dIH7e3t7T33HKdfWUgM5E8f5v/52E+fPkPwYwRXRnBlBFdGcGUEV0ZwZQRXRnBlBFdGcGUEV0ZwZQRXRnBlBFdGcGUEV0ZwZQRXRnBlBFdGcGUEV0ZwZQRXRnBlBFfGFpaQcEuJTK7MI6eX+5GRahM5vKOCDFTqSEHJvWQEV0ZwZQRXxhZQUiIJCbLQbSIL3Q7SJUFqlRxpFxXk4toqkmcF8lz/80hetJHzK78hBQV3ywiujODKCK6MDdQs2siutI6M9owi8/kccj1fQgYrVWSlaCGHdjSRy2spcmppALlRW0Imev9BWkULGajsQm5057lbRnBlBFdGcGXcY2tljjxS3Y/UswGk0bsPWZo/geyxfiQnR8YrNW6nN72JvNCXICn9yLG580ijUiCdIkEON/qQNEm5E0ZwZQRXRnBl3AOdMkcerU8gu/a9w7ruCjL912fIctFEuhTckvBfXh16A7mw9AvSKtvIWE+BXFg15OHeLh6M4MoIrozgynBSS3qQ8cYTyOLaFaT8+0uk1V1CrubXuRMJCVJNMmRq8ThyujWPrBYJ8mb/QWS5dxmZzeeRNEm5W0ZwZQRXRnBlOFnoNpFPLp1EziwPI5NzDeT9h84gJ+bHkNOLo8gHD/6KTDbryGv9CfLNYgvZaWvIcMa6g7Uqsla0kfsbE0hn+RTSKtvcLSO4MoIrI7gynFQT45YOMjU/gpz7dg15Nz2EZNUE6d1TQU6N1JGvpiaQ9mNnkYVOAxnMVpCibCH7elLkUuc6srB0E8np4sEIrozgygiuDCdJkiCv9NeRIzvPIZ/v3omMVW8ip5fGkKGeJlJNu8iLB6aRH2b2I0fHfud20qREirJE6pUMyenizQiujODKCK6Me6yaZsh797W4JUPeGprl9nqR45VryMnLe5GzfcPI3toC8lQf63ZUamwUI7gygisjuDK2sJQUydICeXLsCrLD2sjruwukntbZDEZwZQRXRnBlbDGPD7yMJOMfIqs/Pou8PTiIXF27jLTLGlJSshmM4MoIrozgytgCHqg+gNjIS6y7+DXy9IGPWGcNpPnnx8hqPsdmM4IrI7gygitjC6hng6xrz7EuMaRYnESuLv6MzORzbCVGcGUEV0ZwZWySDEPqOw8hZf8EkqxMI5euHEOu5TNsVUZwZQRXRnBlbJKhbBCZmf0OGS47SKc1jVzLZ9gOjODKCK6M4MrYQLP5MnK+vYAc3X0E+X76C2TUBthujODKCK6M4MrYQFMrrJuoV5A/mlNIllSQlXKV7cYIrozgygiujA2023IkxZCcAqklGduZEVwZwZURXBkbaLzWQDplF6mQImVSsp0ZwZURXBnBlbGBqmmGVMmQnC7/F0ZwZQRXRnD1LxDMHwivzatpAAAAAElFTkSuQmCC\"></td></tr></tbody></table><div><small>(a vector displayed as a row to save space)</small></div>"
      ]
     },
     "metadata": {},
     "execution_count": 8
    }
   ],
   "cell_type": "code",
   "source": [
    "analyzer = InterpolationAugmentation(Gradient(model), 50)\n",
    "heatmap(input, analyzer)"
   ],
   "metadata": {},
   "execution_count": 8
  },
  {
   "cell_type": "markdown",
   "source": [
    "When used with a `Gradient` analyzer, this is equivalent to `IntegratedGradients`:"
   ],
   "metadata": {}
  },
  {
   "outputs": [
    {
     "output_type": "execute_result",
     "data": {
      "text/plain": "1-element Vector{Matrix{ColorTypes.RGB{Float64}}}:\n [RGB(0.7892717529296875, 0.5711786254882814, 0.23524071044921874) RGB(0.7892717529296875, 0.5711786254882814, 0.23524071044921874) … RGB(0.7892717529296875, 0.5711786254882814, 0.23524071044921874) RGB(0.7892717529296875, 0.5711786254882814, 0.23524071044921874); RGB(0.7892717529296875, 0.5711786254882814, 0.23524071044921874) RGB(0.7892717529296875, 0.5711786254882814, 0.23524071044921874) … RGB(0.7892717529296875, 0.5711786254882814, 0.23524071044921874) RGB(0.7892717529296875, 0.5711786254882814, 0.23524071044921874); … ; RGB(0.7892717529296875, 0.5711786254882814, 0.23524071044921874) RGB(0.7892717529296875, 0.5711786254882814, 0.23524071044921874) … RGB(0.7892717529296875, 0.5711786254882814, 0.23524071044921874) RGB(0.7892717529296875, 0.5711786254882814, 0.23524071044921874); RGB(0.7892717529296875, 0.5711786254882814, 0.23524071044921874) RGB(0.7892717529296875, 0.5711786254882814, 0.23524071044921874) … RGB(0.7892717529296875, 0.5711786254882814, 0.23524071044921874) RGB(0.7892717529296875, 0.5711786254882814, 0.23524071044921874)]",
      "text/html": [
       "<table><tbody><tr><td style='text-align:center;vertical-align:middle; margin: 0.5em;border:1px #90999f solid;border-collapse:collapse'><img style='max-width: 100px; max-height:100px;display:inline' src=\"data:image/png;base64,iVBORw0KGgoAAAANSUhEUgAAAHAAAABwCAIAAABJgmMcAAAAAXNSR0IArs4c6QAAAARnQU1BAACxjwv8YQUAAAAgY0hSTQAAeiYAAICEAAD6AAAAgOgAAHUwAADqYAAAOpgAABdwnLpRPAAABE9JREFUeAHtwTtsVQUcx/HvOfd/em/vpdDSNm2RiERRGmvQAU2ML6ImPiJOLo5uLiZuOjo7mDiYaBxcZTWOmiAyGGOwJYIEjYLl2dIH7e3t7T33HKdfWUgM5E8f5v/52E+fPkPwYwRXRnBlBFdGcGUEV0ZwZQRXRnBlBFdGcGUEV0ZwZQRXRnBlBFdGcGUEV0ZwZQRXRnBlBFdGcGUEV0ZwZQRXRnBlBFfGFpaQcEuJTK7MI6eX+5GRahM5vKOCDFTqSEHJvWQEV0ZwZQRXxhZQUiIJCbLQbSIL3Q7SJUFqlRxpFxXk4toqkmcF8lz/80hetJHzK78hBQV3ywiujODKCK6MDdQs2siutI6M9owi8/kccj1fQgYrVWSlaCGHdjSRy2spcmppALlRW0Imev9BWkULGajsQm5057lbRnBlBFdGcGXcY2tljjxS3Y/UswGk0bsPWZo/geyxfiQnR8YrNW6nN72JvNCXICn9yLG580ijUiCdIkEON/qQNEm5E0ZwZQRXRnBl3AOdMkcerU8gu/a9w7ruCjL912fIctFEuhTckvBfXh16A7mw9AvSKtvIWE+BXFg15OHeLh6M4MoIrozgynBSS3qQ8cYTyOLaFaT8+0uk1V1CrubXuRMJCVJNMmRq8ThyujWPrBYJ8mb/QWS5dxmZzeeRNEm5W0ZwZQRXRnBlOFnoNpFPLp1EziwPI5NzDeT9h84gJ+bHkNOLo8gHD/6KTDbryGv9CfLNYgvZaWvIcMa6g7Uqsla0kfsbE0hn+RTSKtvcLSO4MoIrI7gynFQT45YOMjU/gpz7dg15Nz2EZNUE6d1TQU6N1JGvpiaQ9mNnkYVOAxnMVpCibCH7elLkUuc6srB0E8np4sEIrozgygiuDCdJkiCv9NeRIzvPIZ/v3omMVW8ip5fGkKGeJlJNu8iLB6aRH2b2I0fHfud20qREirJE6pUMyenizQiujODKCK6Me6yaZsh797W4JUPeGprl9nqR45VryMnLe5GzfcPI3toC8lQf63ZUamwUI7gygisjuDK2sJQUydICeXLsCrLD2sjruwukntbZDEZwZQRXRnBlbDGPD7yMJOMfIqs/Pou8PTiIXF27jLTLGlJSshmM4MoIrozgytgCHqg+gNjIS6y7+DXy9IGPWGcNpPnnx8hqPsdmM4IrI7gygitjC6hng6xrz7EuMaRYnESuLv6MzORzbCVGcGUEV0ZwZWySDEPqOw8hZf8EkqxMI5euHEOu5TNsVUZwZQRXRnBlbJKhbBCZmf0OGS47SKc1jVzLZ9gOjODKCK6M4MrYQLP5MnK+vYAc3X0E+X76C2TUBthujODKCK6M4MrYQFMrrJuoV5A/mlNIllSQlXKV7cYIrozgygiujA2023IkxZCcAqklGduZEVwZwZURXBkbaLzWQDplF6mQImVSsp0ZwZURXBnBlbGBqmmGVMmQnC7/F0ZwZQRXRnD1LxDMHwivzatpAAAAAElFTkSuQmCC\"></td></tr></tbody></table><div><small>(a vector displayed as a row to save space)</small></div>"
      ]
     },
     "metadata": {},
     "execution_count": 9
    }
   ],
   "cell_type": "code",
   "source": [
    "analyzer = IntegratedGradients(model, 50)\n",
    "heatmap(input, analyzer)"
   ],
   "metadata": {},
   "execution_count": 9
  },
  {
   "cell_type": "markdown",
   "source": [
    "To select a different reference input, pass it to the `analyze` function\n",
    "using the keyword argument `input_ref`.\n",
    "Note that this is an arbitrary example for the sake of demonstration."
   ],
   "metadata": {}
  },
  {
   "outputs": [
    {
     "output_type": "execute_result",
     "data": {
      "text/plain": "1-element Vector{Matrix{ColorTypes.RGB{Float64}}}:\n [RGB(0.5700147277832031, 0.5262036819458008, 0.1752970932006836) RGB(0.5779593811035156, 0.5281851165771485, 0.1737385269165039) … RGB(0.6049205444335938, 0.5346333740234375, 0.17031295166015625) RGB(0.5770931091308594, 0.5279732772827148, 0.1739000442504883); RGB(0.5695549392700194, 0.5260872512817383, 0.1754008804321289) RGB(0.5767471801757812, 0.5278867950439453, 0.17396831970214843) … RGB(0.5702010864257813, 0.5262502716064453, 0.17526031188964844) RGB(0.5770931091308594, 0.5279732772827148, 0.1739000442504883); … ; RGB(0.5645154190063476, 0.5248105728149414, 0.17654317169189454) RGB(0.5449493194580077, 0.5198194198608398, 0.18168804016113282) … RGB(0.5758977233886718, 0.527674430847168, 0.17413597564697267) RGB(0.5770931091308594, 0.5279732772827148, 0.1739000442504883); RGB(0.5770931091308594, 0.5279732772827148, 0.1739000442504883) RGB(0.5770931091308594, 0.5279732772827148, 0.1739000442504883) … RGB(0.5770931091308594, 0.5279732772827148, 0.1739000442504883) RGB(0.5770931091308594, 0.5279732772827148, 0.1739000442504883)]",
      "text/html": [
       "<table><tbody><tr><td style='text-align:center;vertical-align:middle; margin: 0.5em;border:1px #90999f solid;border-collapse:collapse'><img style='max-width: 100px; max-height:100px;display:inline' src=\"data:image/png;base64,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\"></td></tr></tbody></table><div><small>(a vector displayed as a row to save space)</small></div>"
      ]
     },
     "metadata": {},
     "execution_count": 10
    }
   ],
   "cell_type": "code",
   "source": [
    "matrix_of_ones = ones(Float32, size(input))\n",
    "\n",
    "analyzer = InterpolationAugmentation(Gradient(model), 50)\n",
    "expl = analyzer(input; input_ref=matrix_of_ones)\n",
    "heatmap(expl)"
   ],
   "metadata": {},
   "execution_count": 10
  },
  {
   "cell_type": "markdown",
   "source": [
    "Once again, `InterpolationAugmentation` can be combined with any analyzer type from the Julia-XAI ecosystem,\n",
    "for example `LRP` from [RelevancePropagation.jl](https://github.com/Julia-XAI/RelevancePropagation.jl)."
   ],
   "metadata": {}
  },
  {
   "cell_type": "markdown",
   "source": [
    "---\n",
    "\n",
    "*This notebook was generated using [Literate.jl](https://github.com/fredrikekre/Literate.jl).*"
   ],
   "metadata": {}
  }
 ],
 "nbformat_minor": 3,
 "metadata": {
  "language_info": {
   "file_extension": ".jl",
   "mimetype": "application/julia",
   "name": "julia",
   "version": "1.11.4"
  },
  "kernelspec": {
   "name": "julia-1.11",
   "display_name": "Julia 1.11.4",
   "language": "julia"
  }
 },
 "nbformat": 4
}
