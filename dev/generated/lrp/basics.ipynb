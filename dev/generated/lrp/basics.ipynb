{
 "cells": [
  {
   "cell_type": "markdown",
   "source": [
    "# Basic usage of LRP\n",
    "This example will show you best practices for using LRP,\n",
    "building on the basics shown in the *Getting started* section."
   ],
   "metadata": {}
  },
  {
   "cell_type": "markdown",
   "source": [
    "We start out by loading a small convolutional neural network:"
   ],
   "metadata": {}
  },
  {
   "outputs": [],
   "cell_type": "code",
   "source": [
    "using ExplainableAI\n",
    "using Flux\n",
    "\n",
    "model = Chain(\n",
    "    Chain(\n",
    "        Conv((3, 3), 3 => 8, relu; pad=1),\n",
    "        Conv((3, 3), 8 => 8, relu; pad=1),\n",
    "        MaxPool((2, 2)),\n",
    "        Conv((3, 3), 8 => 16; pad=1),\n",
    "        BatchNorm(16, relu),\n",
    "        Conv((3, 3), 16 => 8, relu; pad=1),\n",
    "        BatchNorm(8, relu),\n",
    "    ),\n",
    "    Chain(\n",
    "        Flux.flatten,\n",
    "        Dense(2048 => 512, relu),\n",
    "        Dropout(0.5),\n",
    "        Dense(512 => 100, softmax)\n",
    "    ),\n",
    ");"
   ],
   "metadata": {},
   "execution_count": 1
  },
  {
   "cell_type": "markdown",
   "source": [
    "This model contains two chains: the convolutional layers and the fully connected layers."
   ],
   "metadata": {}
  },
  {
   "cell_type": "markdown",
   "source": [
    "## Model preparation\n",
    "### Stripping the output softmax\n",
    "When using LRP, it is recommended to explain output logits instead of probabilities.\n",
    "This can be done by stripping the output softmax activation from the model\n",
    "using the `strip_softmax` function:"
   ],
   "metadata": {}
  },
  {
   "outputs": [
    {
     "output_type": "execute_result",
     "data": {
      "text/plain": "Chain(\n  Chain(\n    Conv((3, 3), 3 => 8, relu, pad=1),  \u001b[90m# 224 parameters\u001b[39m\n    Conv((3, 3), 8 => 8, relu, pad=1),  \u001b[90m# 584 parameters\u001b[39m\n    MaxPool((2, 2)),\n    Conv((3, 3), 8 => 16, pad=1),       \u001b[90m# 1_168 parameters\u001b[39m\n    BatchNorm(16, relu),                \u001b[90m# 32 parameters\u001b[39m\u001b[90m, plus 32\u001b[39m\n    Conv((3, 3), 16 => 8, relu, pad=1),  \u001b[90m# 1_160 parameters\u001b[39m\n    BatchNorm(8, relu),                 \u001b[90m# 16 parameters\u001b[39m\u001b[90m, plus 16\u001b[39m\n  ),\n  Chain(\n    Flux.flatten,\n    Dense(2048 => 512, relu),           \u001b[90m# 1_049_088 parameters\u001b[39m\n    Dropout(0.5),\n    Dense(512 => 100),                  \u001b[90m# 51_300 parameters\u001b[39m\n  ),\n) \u001b[90m        # Total: 16 trainable arrays, \u001b[39m1_103_572 parameters,\n\u001b[90m          # plus 4 non-trainable, 48 parameters, summarysize \u001b[39m4.213 MiB."
     },
     "metadata": {},
     "execution_count": 2
    }
   ],
   "cell_type": "code",
   "source": [
    "model = strip_softmax(model)"
   ],
   "metadata": {},
   "execution_count": 2
  },
  {
   "cell_type": "markdown",
   "source": [
    "If you don't remove the output softmax,\n",
    "model checks will fail."
   ],
   "metadata": {}
  },
  {
   "cell_type": "markdown",
   "source": [
    "### Canonizing the model\n",
    "LRP is not invariant to a model's implementation.\n",
    "Applying the `GammaRule` to two linear layers in a row will yield different results\n",
    "than first fusing the two layers into one linear layer and then applying the rule.\n",
    "This fusing is called \"canonization\" and can be done using the `canonize` function:"
   ],
   "metadata": {}
  },
  {
   "outputs": [
    {
     "output_type": "execute_result",
     "data": {
      "text/plain": "Chain(\n  Conv((3, 3), 3 => 8, relu, pad=1),    \u001b[90m# 224 parameters\u001b[39m\n  Conv((3, 3), 8 => 8, relu, pad=1),    \u001b[90m# 584 parameters\u001b[39m\n  MaxPool((2, 2)),\n  Conv((3, 3), 8 => 16, relu, pad=1),   \u001b[90m# 1_168 parameters\u001b[39m\n  Conv((3, 3), 16 => 8, relu, pad=1),   \u001b[90m# 1_160 parameters\u001b[39m\n  BatchNorm(8, relu),                   \u001b[90m# 16 parameters\u001b[39m\u001b[90m, plus 16\u001b[39m\n  Flux.flatten,\n  Dense(2048 => 512, relu),             \u001b[90m# 1_049_088 parameters\u001b[39m\n  Dropout(0.5),\n  Dense(512 => 100),                    \u001b[90m# 51_300 parameters\u001b[39m\n) \u001b[90m        # Total: 14 trainable arrays, \u001b[39m1_103_540 parameters,\n\u001b[90m          # plus 2 non-trainable, 16 parameters, summarysize \u001b[39m4.212 MiB."
     },
     "metadata": {},
     "execution_count": 3
    }
   ],
   "cell_type": "code",
   "source": [
    "model = canonize(model)"
   ],
   "metadata": {},
   "execution_count": 3
  },
  {
   "cell_type": "markdown",
   "source": [
    "### Flattening the model\n",
    "ExplainableAI.jl's LRP implementation supports nested Flux Chains and Parallel layers.\n",
    "However, it is recommended to flatten the model before analyzing it.\n",
    "\n",
    "LRP is implemented by first running a forward pass through the model,\n",
    "keeping track of the intermediate activations, followed by a backward pass\n",
    "that computes the relevances.\n",
    "\n",
    "To keep the LRP implementation simple and maintainable,\n",
    "ExplainableAI.jl does not pre-compute \"nested\" activations.\n",
    "Instead, for every internal chain, a new forward pass is run to compute activations.\n",
    "\n",
    "By \"flattening\" a model, this overhead can be avoided.\n",
    "For this purpose, ExplainableAI.jl provides the function `flatten_model`:"
   ],
   "metadata": {}
  },
  {
   "outputs": [
    {
     "output_type": "execute_result",
     "data": {
      "text/plain": "Chain(\n  Conv((3, 3), 3 => 8, relu, pad=1),    \u001b[90m# 224 parameters\u001b[39m\n  Conv((3, 3), 8 => 8, relu, pad=1),    \u001b[90m# 584 parameters\u001b[39m\n  MaxPool((2, 2)),\n  Conv((3, 3), 8 => 16, relu, pad=1),   \u001b[90m# 1_168 parameters\u001b[39m\n  Conv((3, 3), 16 => 8, relu, pad=1),   \u001b[90m# 1_160 parameters\u001b[39m\n  BatchNorm(8, relu),                   \u001b[90m# 16 parameters\u001b[39m\u001b[90m, plus 16\u001b[39m\n  Flux.flatten,\n  Dense(2048 => 512, relu),             \u001b[90m# 1_049_088 parameters\u001b[39m\n  Dropout(0.5),\n  Dense(512 => 100),                    \u001b[90m# 51_300 parameters\u001b[39m\n) \u001b[90m        # Total: 14 trainable arrays, \u001b[39m1_103_540 parameters,\n\u001b[90m          # plus 2 non-trainable, 16 parameters, summarysize \u001b[39m4.212 MiB."
     },
     "metadata": {},
     "execution_count": 4
    }
   ],
   "cell_type": "code",
   "source": [
    "model_flat = flatten_model(model)"
   ],
   "metadata": {},
   "execution_count": 4
  },
  {
   "cell_type": "markdown",
   "source": [
    "This function is called by default when creating an LRP analyzer.\n",
    "Note that we pass the unflattened model to the analyzer, but `analyzer.model` is flattened:"
   ],
   "metadata": {}
  },
  {
   "outputs": [
    {
     "output_type": "execute_result",
     "data": {
      "text/plain": "Chain(\n  Conv((3, 3), 3 => 8, relu, pad=1),    \u001b[90m# 224 parameters\u001b[39m\n  Conv((3, 3), 8 => 8, relu, pad=1),    \u001b[90m# 584 parameters\u001b[39m\n  MaxPool((2, 2)),\n  Conv((3, 3), 8 => 16, relu, pad=1),   \u001b[90m# 1_168 parameters\u001b[39m\n  Conv((3, 3), 16 => 8, relu, pad=1),   \u001b[90m# 1_160 parameters\u001b[39m\n  BatchNorm(8, relu),                   \u001b[90m# 16 parameters\u001b[39m\u001b[90m, plus 16\u001b[39m\n  Flux.flatten,\n  Dense(2048 => 512, relu),             \u001b[90m# 1_049_088 parameters\u001b[39m\n  Dropout(0.5),\n  Dense(512 => 100),                    \u001b[90m# 51_300 parameters\u001b[39m\n) \u001b[90m        # Total: 14 trainable arrays, \u001b[39m1_103_540 parameters,\n\u001b[90m          # plus 2 non-trainable, 16 parameters, summarysize \u001b[39m4.212 MiB."
     },
     "metadata": {},
     "execution_count": 5
    }
   ],
   "cell_type": "code",
   "source": [
    "analyzer = LRP(model)\n",
    "analyzer.model"
   ],
   "metadata": {},
   "execution_count": 5
  },
  {
   "cell_type": "markdown",
   "source": [
    "If this flattening is not desired, it can be disabled\n",
    "by passing the keyword argument `flatten=false` to the `LRP` constructor."
   ],
   "metadata": {}
  },
  {
   "cell_type": "markdown",
   "source": [
    "## LRP rules\n",
    "By default, the `LRP` constructor will assign the `ZeroRule` to all layers."
   ],
   "metadata": {}
  },
  {
   "outputs": [
    {
     "output_type": "execute_result",
     "data": {
      "text/plain": "LRP(\n  Conv((3, 3), 3 => 8, relu, pad=1) \u001b[90m => \u001b[39m\u001b[33mZeroRule()\u001b[39m,\n  Conv((3, 3), 8 => 8, relu, pad=1) \u001b[90m => \u001b[39m\u001b[33mZeroRule()\u001b[39m,\n  MaxPool((2, 2))                   \u001b[90m => \u001b[39m\u001b[33mZeroRule()\u001b[39m,\n  Conv((3, 3), 8 => 16, relu, pad=1)\u001b[90m => \u001b[39m\u001b[33mZeroRule()\u001b[39m,\n  Conv((3, 3), 16 => 8, relu, pad=1)\u001b[90m => \u001b[39m\u001b[33mZeroRule()\u001b[39m,\n  BatchNorm(8, relu)                \u001b[90m => \u001b[39m\u001b[33mZeroRule()\u001b[39m,\n  Flux.flatten                      \u001b[90m => \u001b[39m\u001b[33mZeroRule()\u001b[39m,\n  Dense(2048 => 512, relu)          \u001b[90m => \u001b[39m\u001b[33mZeroRule()\u001b[39m,\n  Dropout(0.5)                      \u001b[90m => \u001b[39m\u001b[33mZeroRule()\u001b[39m,\n  Dense(512 => 100)                 \u001b[90m => \u001b[39m\u001b[33mZeroRule()\u001b[39m,\n)"
     },
     "metadata": {},
     "execution_count": 6
    }
   ],
   "cell_type": "code",
   "source": [
    "LRP(model)"
   ],
   "metadata": {},
   "execution_count": 6
  },
  {
   "cell_type": "markdown",
   "source": [
    "This analyzer will return heatmaps that look identical to `InputTimesGradient`."
   ],
   "metadata": {}
  },
  {
   "cell_type": "markdown",
   "source": [
    "LRP's strength lies in assigning different rules to different layers,\n",
    "based on their functionality in the neural network[^1].\n",
    "ExplainableAI.jl implements many LRP rules out of the box,\n",
    "but it is also possible to *implement custom rules*.\n",
    "\n",
    "To assign different rules to different layers,\n",
    "use one of the composites presets,\n",
    "or create your own composite, as described in\n",
    "*Assigning rules to layers*."
   ],
   "metadata": {}
  },
  {
   "outputs": [
    {
     "output_type": "execute_result",
     "data": {
      "text/plain": "Composite(\n  GlobalTypeMap(  \u001b[90m# all layers\u001b[39m\n\u001b[94m    Flux.Conv              \u001b[39m => \u001b[33mZPlusRule()\u001b[39m,\n\u001b[94m    Flux.ConvTranspose     \u001b[39m => \u001b[33mZPlusRule()\u001b[39m,\n\u001b[94m    Flux.CrossCor          \u001b[39m => \u001b[33mZPlusRule()\u001b[39m,\n\u001b[94m    Flux.Dense             \u001b[39m => \u001b[33mEpsilonRule{Float32}(1.0f-6)\u001b[39m,\n\u001b[94m    typeof(NNlib.dropout)  \u001b[39m => \u001b[33mPassRule()\u001b[39m,\n\u001b[94m    Flux.AlphaDropout      \u001b[39m => \u001b[33mPassRule()\u001b[39m,\n\u001b[94m    Flux.Dropout           \u001b[39m => \u001b[33mPassRule()\u001b[39m,\n\u001b[94m    Flux.BatchNorm         \u001b[39m => \u001b[33mPassRule()\u001b[39m,\n\u001b[94m    typeof(Flux.flatten)   \u001b[39m => \u001b[33mPassRule()\u001b[39m,\n\u001b[94m    typeof(MLUtils.flatten)\u001b[39m => \u001b[33mPassRule()\u001b[39m,\n\u001b[94m    typeof(identity)       \u001b[39m => \u001b[33mPassRule()\u001b[39m,\n ),\n  FirstLayerTypeMap(  \u001b[90m# first layer\u001b[39m\n\u001b[94m    Flux.Conv         \u001b[39m => \u001b[33mFlatRule()\u001b[39m,\n\u001b[94m    Flux.ConvTranspose\u001b[39m => \u001b[33mFlatRule()\u001b[39m,\n\u001b[94m    Flux.CrossCor     \u001b[39m => \u001b[33mFlatRule()\u001b[39m,\n\u001b[94m    Flux.Dense        \u001b[39m => \u001b[33mFlatRule()\u001b[39m,\n ),\n)"
     },
     "metadata": {},
     "execution_count": 7
    }
   ],
   "cell_type": "code",
   "source": [
    "composite = EpsilonPlusFlat() # using composite preset EpsilonPlusFlat"
   ],
   "metadata": {},
   "execution_count": 7
  },
  {
   "outputs": [
    {
     "output_type": "execute_result",
     "data": {
      "text/plain": "LRP(\n  Conv((3, 3), 3 => 8, relu, pad=1) \u001b[90m => \u001b[39m\u001b[33mFlatRule()\u001b[39m,\n  Conv((3, 3), 8 => 8, relu, pad=1) \u001b[90m => \u001b[39m\u001b[33mZPlusRule()\u001b[39m,\n  MaxPool((2, 2))                   \u001b[90m => \u001b[39m\u001b[33mZeroRule()\u001b[39m,\n  Conv((3, 3), 8 => 16, relu, pad=1)\u001b[90m => \u001b[39m\u001b[33mZPlusRule()\u001b[39m,\n  Conv((3, 3), 16 => 8, relu, pad=1)\u001b[90m => \u001b[39m\u001b[33mZPlusRule()\u001b[39m,\n  BatchNorm(8, relu)                \u001b[90m => \u001b[39m\u001b[33mPassRule()\u001b[39m,\n  Flux.flatten                      \u001b[90m => \u001b[39m\u001b[33mPassRule()\u001b[39m,\n  Dense(2048 => 512, relu)          \u001b[90m => \u001b[39m\u001b[33mEpsilonRule{Float32}(1.0f-6)\u001b[39m,\n  Dropout(0.5)                      \u001b[90m => \u001b[39m\u001b[33mPassRule()\u001b[39m,\n  Dense(512 => 100)                 \u001b[90m => \u001b[39m\u001b[33mEpsilonRule{Float32}(1.0f-6)\u001b[39m,\n)"
     },
     "metadata": {},
     "execution_count": 8
    }
   ],
   "cell_type": "code",
   "source": [
    "LRP(model, composite)"
   ],
   "metadata": {},
   "execution_count": 8
  },
  {
   "cell_type": "markdown",
   "source": [
    "## Computing layerwise relevances\n",
    "If you are interested in computing layerwise relevances,\n",
    "call `analyze` with an LRP analyzer and the keyword argument\n",
    "`layerwise_relevances=true`.\n",
    "\n",
    "The layerwise relevances can be accessed in the `extras` field\n",
    "of the returned `Explanation`:"
   ],
   "metadata": {}
  },
  {
   "outputs": [
    {
     "output_type": "execute_result",
     "data": {
      "text/plain": "11-element Vector{Array{Float32}}:\n [0.11180774 -0.10751559 … 0.044687845 0.010339906; -0.01969253 -0.04916171 … -0.011077371 -0.029188698; … ; 0.006815296 -0.015395758 … -0.0041176123 0.017812515; -0.002715624 -0.029193036 … 0.09226095 0.038147327;;; 0.020995094 -0.011168423 … -0.023254912 -2.1274059f-6; -0.0737458 0.016064843 … 0.0014732812 0.03308781; … ; 0.026219392 -0.0035908145 … 0.09214929 -0.009944894; -0.0039597144 0.006919061 … 0.002824827 -0.013853377;;; 0.002706149 0.1004686 … -0.0063999165 0.0016938233; -0.0013907662 -0.033543367 … -0.056511525 0.005947135; … ; 0.008682061 0.015309827 … 0.037052196 0.002353238; 0.0058530667 -0.00014314326 … 0.0479086 -0.00140221;;;;]\n [-0.00039179454 0.0 … -0.00054289075 -0.0072776587; 0.0 0.000301087 … 0.0 0.0; … ; -0.0 -0.0028985185 … -0.0 0.015964715; -0.0 0.0 … -0.0 -0.0;;; 0.00021973884 -0.027244437 … -0.010833052 -0.004381416; 0.005795599 0.017714353 … -0.0042672534 0.0; … ; 0.001126785 -0.0015726796 … 0.038594414 -0.020514082; 0.01098278 0.0 … 0.030241461 0.0;;; -0.0022048017 0.004268888 … -0.005174272 -0.0; -0.001582703 0.14018933 … 0.0 0.00421135; … ; -0.004082931 -0.016600562 … -0.034762822 -0.00063168793; 0.0 0.002102327 … 0.004012487 0.00518856;;; 0.00030594668 0.0 … 0.013321457 -0.00032683238; 0.001407091 0.032496974 … 0.017262243 -0.09179514; … ; 0.003142989 0.021127274 … 0.08697895 0.1407471; -0.0002361593 0.0031599533 … 0.09523228 0.058964495;;; -0.00019752503 0.03893235 … 0.0054558846 -0.0204419; 0.0 0.0 … -0.007205909 -0.00062910723; … ; 0.0 0.0026205862 … 0.010082153 -0.04759154; 0.0 0.0 … 0.0 0.0;;; -0.0 0.0 … 0.0 0.0; 0.0 -0.0 … 0.0 0.0; … ; 0.0 0.0 … 0.003024998 0.005313058; -0.0 0.0 … 0.0 0.0;;; -1.4705405f-5 -0.013882953 … -0.0 0.009300181; 0.001789987 -0.34041035 … -0.009237946 0.0014044616; … ; -0.0023735822 0.02346091 … 0.01039455 0.008917941; -0.014750538 0.011764808 … 0.09823987 0.0071333316;;; -0.0006362363 0.0 … -0.0 -0.0; -0.0100780325 0.010350197 … 0.057707343 -0.0; … ; 0.011177281 0.0 … -0.011427351 -0.0; 0.0028559777 0.00475354 … 0.0 0.023433106;;;;]\n [0.0 0.0 … 0.0 -0.0063953074; -0.0018981801 0.0 … 0.0 0.0; … ; 0.0030487853 0.0 … 0.0 0.0; 0.0 0.0 … 0.0 0.0;;; 0.0 0.0 … -0.010239665 0.0; 0.0 -0.00043712062 … 0.0 0.0; … ; 0.0 -0.010625818 … 0.113123305 0.0; 0.0 0.0 … 0.0 0.0;;; -3.055451f-5 0.0 … 0.0 0.0; 0.0 0.0 … 0.0 0.0; … ; 0.0 0.0 … 0.0 0.0; 0.0 0.0 … 0.0 0.0;;; -0.0002352392 0.0 … 0.0 -0.07495732; 0.0 0.0 … 0.0 0.0; … ; 0.0 0.0012552004 … 0.0 0.04403263; 0.0 0.0 … 0.0 0.0;;; 0.0 0.0 … 0.0 0.0; 0.0 0.0 … 0.0 -0.0025363362; … ; 0.0 0.0 … 0.0 0.0; 0.0 0.010352767 … 0.09409 0.0;;; 0.0 -0.012880596 … 0.0 0.0; 0.0 0.0 … -0.014956076 0.0; … ; 0.0 0.028636016 … 0.2933555 0.0; 0.0 0.0 … 0.0 0.0;;; 0.0 0.0 … 0.0 0.0; -0.001607034 0.0 … 0.0 0.0; … ; 0.0 0.0 … 0.0 0.0; 0.0 0.0 … 0.0 0.0;;; 0.0 0.0 … 0.0 0.0; 0.0 -0.0016439757 … 0.038845215 0.0; … ; 0.0 0.025208892 … 0.0 0.0; 0.0 0.0 … 0.057636097 0.0;;;;]\n [-0.0018981801 0.018069744 … -0.05581126 -0.0063953074; 0.0066526635 -0.04177446 … 0.0114294635 0.0; … ; 0.01622629 -0.0035317002 … 0.08549583 0.0; 0.0030487853 0.00015131274 … 0.14146693 0.0;;; -0.00043712062 0.05386856 … 0.17585754 -0.010239665; -0.030861462 -0.13937771 … -0.034573615 -0.027076578; … ; -0.015135046 -0.0128114 … 0.052505553 -0.051282838; -0.010625818 -0.03966239 … -0.019989371 0.113123305;;; -3.055451f-5 -0.0 … 0.0002474205 0.0; -0.0016538779 0.0 … 0.0 -0.0; … ; -0.0 -0.0 … 0.0 -0.0; -0.0 0.0 … 0.0 0.0;;; -0.00023523922 -0.28594267 … -0.027462099 -0.07495732; -0.0 -0.6672651 … -0.0054374635 -0.14709835; … ; -0.0 0.0021648994 … -0.013222085 0.17488794; 0.0012552004 0.011569824 … -0.0 0.04403263;;; -0.0 -0.035333507 … 0.02360415 -0.0025363362; -0.0 0.067228556 … -0.009508563 0.087214015; … ; 9.305838f-5 0.011489 … 0.049108706 -0.087228194; 0.010352767 -0.0134961065 … 0.082692616 0.09409;;; -0.012880596 0.36015454 … 0.17647363 -0.014956076; -0.0031803614 -0.64737046 … -0.040283427 0.10112219; … ; 0.031072369 0.028539367 … -0.048986897 0.19510168; 0.028636016 0.030488573 … 0.25466454 0.2933555;;; -0.001607034 0.0 … -0.0 0.0; 0.0 0.0 … 0.0 0.0; … ; 0.0 -0.0 … 0.0 -0.0; -0.0 -0.0 … 0.0 0.0;;; -0.0016439757 -0.05041757 … 0.14631441 0.038845215; 0.0070922007 -0.30428618 … -0.15462339 -0.0046570636; … ; 0.0025055404 0.0035779371 … 0.08569621 0.2015696; 0.025208892 0.008319648 … 0.04441939 0.057636097;;;;]\n [-0.0 -0.005632974 … -0.0027542263 -0.034060314; -0.0 0.008990427 … 0.10227364 -0.053403955; … ; -0.0 0.007915244 … 0.19811527 0.0; 0.0003076913 0.011797832 … -0.0 -0.0;;; 0.0037850512 -0.010704692 … -0.041568752 0.03217767; 0.0051873014 0.005407165 … -0.1101681 0.018643565; … ; 0.0094515905 0.042248 … 0.097963415 0.12685978; 0.006024254 0.003962802 … 0.14836228 0.0;;; -0.0086444905 0.00033658228 … -0.0034300897 0.0; -8.0409314f-5 0.0034031612 … -0.010566946 -0.0; … ; -0.0 -0.017009566 … 0.0035199265 -0.0; 0.0 -0.0 … -0.0 -0.0032148128;;; … ;;; 0.0057147187 0.003933827 … 0.02046627 0.06662166; 0.0057736463 0.0176838 … -0.35033423 -0.0266824; … ; 0.0011842354 0.053886842 … 0.24457006 0.13041574; 0.0 0.0 … -0.05976512 0.08217121;;; -0.0 -0.0026206195 … -0.042390954 0.021117652; -0.0011387834 -0.009178351 … -0.070786275 0.041529536; … ; 0.0028170284 -0.0016566222 … 0.13753232 0.08047273; 0.00017380051 -0.0043459074 … -0.006003544 -0.017936261;;; 0.0 0.004594657 … 0.016093228 -0.0041461056; -0.00062957895 0.0004058489 … -0.011099798 -0.09923658; … ; -0.0 0.000108198015 … -0.10992621 0.0281839; -0.0 -0.0 … -0.0 -0.0018448933;;;;]\n [-0.001421807 0.0057233595 … 0.043160327 -0.029467847; -0.0 -0.0002096657 … -0.0013299714 -0.18857214; … ; -0.0 -0.0006491882 … -0.0 -0.0012035375; -0.0 -0.0 … -0.0 -0.0;;; -0.0035517628 -0.00528829 … -0.0 -0.0; -0.0 -0.0 … -0.0 -0.0; … ; -0.0 -0.010049849 … -0.0 -0.0; -0.0 -0.0 … -0.0 -0.00041949668;;; 0.0 0.0 … 0.0 -0.0023051247; 0.0 0.0 … 0.0 0.0025793272; … ; 0.0 0.0 … 0.0 0.0031628571; 0.0 0.0 … 0.0 -0.00010822349;;; 0.0 0.0 … 0.0 0.0040971916; 0.0 0.0 … 0.0 0.031813063; … ; 0.008240309 0.0 … 0.0 0.0142491385; 0.006390561 0.022659019 … 0.00025995064 0.011726484;;; 0.0 -0.0006767474 … 0.00021444068 -0.005737312; 0.0 0.0 … 0.0 -0.0015651989; … ; 0.0 0.0 … -0.0017098428 0.0; 0.0 0.0 … 0.0 0.0;;; 0.0 0.0 … 0.0 0.0; 0.0 0.0 … 0.0 0.0; … ; 0.0 0.0 … 0.0 0.0; 0.0 0.0 … 0.0 0.0;;; 0.008990943 -0.001407651 … 0.0 0.0; 0.0 0.0 … 0.0 0.0; … ; -0.0013935989 0.0 … 0.0 0.0050925734; -0.00018658137 0.0 … 0.0 0.0;;; -0.017813971 -0.029398698 … -0.0074338666 -0.0; -0.07570865 -0.04548398 … -0.014862989 -0.0; … ; -0.026538283 -0.08985019 … 0.17264573 -0.0; -0.011741795 -0.043443438 … 0.8609162 -0.0;;;;]\n [-0.0070422883 0.004367018 … 0.017488718 -0.012019822; 0.0 0.00012998884 … -0.00015301237 -0.004034366; … ; 0.0 0.0022765293 … 0.0 -0.00023323647; 0.0 0.0 … 0.0 0.0;;; -0.00037931118 -0.0016498801 … 0.0 0.0; 0.0 0.0 … 0.0 0.0; … ; 0.0 -0.0028631599 … 0.0 0.0; 0.0 0.0 … 0.0 -0.00016661522;;; 0.0 0.0 … 0.0 -0.0018411241; 0.0 0.0 … 0.0 0.0032595592; … ; 0.0 0.0 … 0.0 0.0035549274; 0.0 0.0 … 0.0 0.0007679553;;; 0.0 0.0 … 0.0 -0.00011308314; 0.0 0.0 … 0.0 0.003465509; … ; 0.00060196593 0.0 … 0.0 -0.0013184656; -0.0006025478 0.0026163778 … 1.964926f-5 -0.0040573766;;; 0.0 -0.0006028465 … -6.297103f-5 -0.005722315; 0.0 0.0 … 0.0 -0.00071519526; … ; 0.0 0.0 … -0.001528148 0.0; 0.0 0.0 … 0.0 0.0;;; 0.0 0.0 … 0.0 0.0; 0.0 0.0 … 0.0 0.0; … ; 0.0 0.0 … 0.0 0.0; 0.0 0.0 … 0.0 0.0;;; 0.008170131 -0.001296923 … 0.0 0.0; 0.0 0.0 … 0.0 0.0; … ; -0.0013331105 0.0 … 0.0 0.0044859983; -9.885894f-5 0.0 … 0.0 0.0;;; 0.001958121 -0.004478632 … -6.116442f-5 0.0; -0.008121552 0.0023861094 … -0.01249669 0.0; … ; 0.010996621 0.002776342 … 0.009654859 0.0; 0.0056612194 0.0023975605 … 0.008956367 0.0;;;;]\n [-0.0070422883; 0.0; … ; 0.0; 0.0;;]\n [-0.009442446; 0.01854759; … ; 0.03587618; 0.0;;]\n [-0.009442446; 0.018547589; … ; 0.03587618; 0.002527455;;]\n [0.0; 0.0; … ; 0.0; 0.0;;]"
     },
     "metadata": {},
     "execution_count": 9
    }
   ],
   "cell_type": "code",
   "source": [
    "input = rand(Float32, 32, 32, 3, 1) # dummy input for our convolutional neural network\n",
    "\n",
    "expl = analyze(input, analyzer; layerwise_relevances=true)\n",
    "expl.extras.layerwise_relevances"
   ],
   "metadata": {},
   "execution_count": 9
  },
  {
   "cell_type": "markdown",
   "source": [
    "Note that the layerwise relevances are only kept for layers in the outermost `Chain` of the model.\n",
    "When using our unflattened model, we only obtain three layerwise relevances,\n",
    "one for each chain in the model and the output relevance:"
   ],
   "metadata": {}
  },
  {
   "outputs": [
    {
     "output_type": "execute_result",
     "data": {
      "text/plain": "11-element Vector{Array{Float32}}:\n [-0.010161286 0.0068769422 … 0.015486595 0.0031064965; 0.0025499403 -0.0012010825 … -0.0063216337 -0.027823705; … ; 0.018911127 0.0047828867 … 0.0011359213 -0.01337907; -0.0044453163 -0.009979775 … -0.06001858 -0.052670043;;; -0.0017486411 -0.0013497379 … -0.016683435 7.4270106f-6; 0.0013176684 -0.04227676 … -0.0019550377 0.035292204; … ; 0.025367215 -0.007077481 … -0.056053884 -0.0003165121; -0.0024259211 0.017505303 … -0.0025509712 0.013577206;;; -0.00059668923 -0.023547996 … -0.0104843415 0.0020216936; -0.0028592588 -0.015581154 … -0.07789464 0.009562146; … ; 0.012922348 0.03149954 … -0.009060405 -0.0044223154; 0.003701053 0.025527354 … -0.021430839 -0.0042945175;;;;]\n [-0.00020892106 -0.0 … -0.0012494962 -0.008540504; 0.0 2.201577f-5 … 0.0 0.0; … ; -0.0 0.0030193403 … -0.0 -0.008046739; -0.0 -0.0 … 0.0 0.0;;; -0.00088406546 0.00079550553 … -0.0076620607 -0.0042769914; 0.0034020522 -0.0094197 … -0.0041738898 0.0; … ; 0.0025804585 0.00018932087 … -0.028291529 0.018563049; 0.0040397034 0.0 … 0.0033408552 0.0;;; 0.0007645021 0.00064661005 … -0.00034589134 -0.0; -0.0007166856 -0.006707865 … 0.0 0.0053444584; … ; -0.0018132991 0.009931284 … 0.019548977 0.00038662818; 0.0 0.0029433907 … 0.002460866 -0.009195423;;; -0.0006746686 -0.0 … 0.00023187582 -0.00068287755; 0.00024753375 -0.010999971 … 0.012205427 -0.10497624; … ; 0.00242767 0.020113587 … -0.0030511457 -0.13637924; 0.0007783682 0.02645486 … -0.050140083 -0.053731624;;; -0.00055289414 -0.00569434 … 0.011628257 -0.027154213; -0.0 0.0 … -0.010956376 -0.0025618381; … ; -0.0 0.012854332 … -0.004245004 0.018058272; 0.0 0.0 … -0.0 -0.0;;; -0.0 -0.0 … 0.0 0.0; -0.0 -0.0 … 0.0 -0.0; … ; 0.0 0.0 … 0.020047532 -0.0041354797; -0.0 -0.0 … 0.0 -0.0;;; 0.00024289692 -0.007708557 … -0.0 0.00833843; -1.8881638f-5 0.003704891 … -0.00817248 0.0022818875; … ; -0.0020352115 0.018473195 … 0.03437735 -0.0045717945; -0.008885803 -0.006058493 … -0.108138956 -0.009142162;;; 0.00059666747 0.0 … -0.0 -0.0; -0.01113298 -0.0013215753 … 0.052085984 -0.0; … ; 0.0033676573 0.0 … 0.021103505 0.0; 0.0012182673 0.002311881 … -0.0 -0.0188445;;;;]\n [0.0 0.0 … 0.0 -0.00630106; -0.0009048783 0.0 … 0.0 0.0; … ; 0.0076782103 0.0 … 0.0 0.0; 0.0 0.0 … 0.0 0.0;;; 0.0 0.0 … -0.017952064 0.0; 0.0 0.017561102 … 0.0 0.0; … ; 0.0 0.004211403 … -0.1310497 0.0; 0.0 0.0 … 0.0 0.0;;; 0.00014162334 0.0 … 0.0 0.0; 0.0 0.0 … 0.0 0.0; … ; 0.0 0.0 … 0.0 0.0; 0.0 0.0 … 0.0 0.0;;; -0.00041029137 0.0 … 0.0 -0.09316696; 0.0 0.0 … 0.0 0.0; … ; 0.0 0.0007851931 … 0.0 -0.08572254; 0.0 0.0 … 0.0 0.0;;; 0.0 0.0 … 0.0 0.0; 0.0 0.0 … 0.0 -0.008975845; … ; 0.0 0.0 … 0.0 0.0; 0.0 0.0027399135 … -0.08136038 0.0;;; 0.0 0.003419193 … 0.0 0.0; 0.0 0.0 … 0.021567702 0.0; … ; 0.0 0.004235317 … -0.14538246 0.0; 0.0 0.0 … 0.0 0.0;;; 0.0 0.0 … 0.0 0.0; 0.00027791396 0.0 … 0.0 0.0; … ; 0.0 0.0 … 0.0 0.0; 0.0 0.0 … 0.0 0.0;;; 0.0 0.0 … 0.0 0.0; 0.0 -0.011646899 … 0.03731247 0.0; … ; 0.0 0.012516376 … 0.0 0.0; 0.0 0.0 … -0.0074098688 0.0;;;;]\n [-0.0009048783 0.0007579402 … -0.019877309 -0.00630106; 0.0059297257 -0.003315428 … 0.0059949653 0.0; … ; 0.012924439 -0.0021529126 … -0.041438885 0.0; 0.0076782103 -0.00011267219 … -0.11924905 0.0;;; 0.017561102 -0.010502248 … 0.10420905 -0.017952064; -0.0012967001 0.044268742 … -0.02025106 -0.029172407; … ; 0.0017947588 0.0029017644 … -0.051957145 0.10498298; 0.004211403 -0.010627618 … 0.020780776 -0.1310497;;; 0.00014162334 0.0 … 0.00025068483 -0.0; -0.0007530181 0.0 … 0.0 -0.0; … ; -0.0 -0.0 … 0.0 -0.0; -0.0 0.0 … 0.0 -0.0;;; -0.0004102914 0.010233762 … -0.036306556 -0.09316696; -0.0 0.01564015 … -0.047360327 -0.17814156; … ; 0.0 0.0055527245 … -0.0006074843 -0.17086993; 0.0007851931 0.02902959 … 0.0 -0.08572254;;; 0.0 -0.0057271123 … 0.040801957 -0.008975845; -0.0 -0.0052453727 … -0.0020213204 0.10124485; … ; 6.9941205f-5 0.05101382 … -0.061722893 0.08502432; 0.0027399135 0.05021248 … 0.025440864 -0.08136038;;; 0.003419193 -0.052581906 … 0.17681976 0.021567702; -0.0151441805 0.05435922 … 0.23790485 0.1947678; … ; 0.016451748 0.0012664761 … 0.42063183 0.036111277; 0.004235317 0.039155684 … -0.11549579 -0.14538246;;; 0.00027791396 -0.0 … -0.0 -0.0; 0.0 0.0 … 0.0 0.0; … ; 0.0 0.0 … -0.0 0.0; -0.0 0.0 … 0.0 -0.0;;; -0.011646899 0.010324674 … 0.05260955 0.03731247; -0.049092546 0.003989465 … -0.14468817 -0.005803546; … ; -0.017586058 0.003256095 … 0.10953694 -0.0048828255; 0.012516376 0.018421512 … 0.034252662 -0.0074098688;;;;]\n [0.0 0.0061875256 … -0.0089672115 -0.060780786; -0.0 -0.010211986 … 0.1160079 -0.07618793; … ; 0.0 0.021970086 … -0.116507 -0.0; 3.5462206f-5 0.0062725716 … 0.0 0.0;;; 0.0014323957 -0.01499349 … -0.019272994 0.084962346; -0.0029526853 -0.0121856965 … -0.10300132 0.02430018; … ; -0.0025788113 0.0067360518 … 0.048496027 0.004152154; 0.002292228 -0.0025412622 … -0.15262137 -0.0;;; 0.0060108937 0.006934984 … -0.0181707 0.0; -0.0013640213 0.009071491 … -0.01528074 -0.0; … ; 0.0 -0.009305213 … -0.021369372 0.0; 0.0 -0.0 … 0.0 -0.002194976;;; … ;;; 0.0010418125 -0.04211439 … 0.06513711 0.12857005; 0.001438728 -0.038296 … -0.35644567 0.066839285; … ; -0.0017021537 0.0060199164 … -0.6156224 -0.053847685; -0.0 -0.0 … 0.0005601319 -0.05851645;;; 0.0 0.008914165 … -0.041405547 0.03754298; 0.00080925145 -0.0019769294 … -0.048845924 0.03558198; … ; 0.0053174812 0.014941407 … -0.14953347 -0.01769195; 0.00064225914 0.00607434 … 0.009634104 0.010564926;;; 0.0 0.0015764126 … -0.03689489 0.008460917; 0.0013296781 0.0063767615 … -0.06282021 -0.12971236; … ; -0.0 -0.00010254203 … 0.08752934 0.012555328; 0.0 -0.0 … -0.0 -0.014667966;;;;]\n [0.0022969337 0.02389163 … 0.03601936 -0.009185229; 0.0 0.0003498252 … 0.0021541405 -0.34741446; … ; 0.0 0.0010710474 … 0.0 0.001956235; 0.0 0.0 … 0.0 0.0;;; 0.00082549045 0.004439357 … 0.0 0.0; 0.0 0.0 … 0.0 0.0; … ; 0.0 0.013334961 … 0.0 0.0; 0.0 0.0 … 0.0 0.0005045724;;; -0.0 -0.0 … -0.0 -0.00022160907; -0.0 -0.0 … -0.0 -7.1938695f-5; … ; -0.0 -0.0 … -0.0 -0.0019626047; -0.0 -0.0 … -0.0 0.0024382942;;; 0.0 0.0 … 0.0 0.0035410374; 0.0 0.0 … 0.0 0.024185697; … ; 0.007099485 0.0 … 0.0 0.014378639; 0.0055135894 0.01232183 … 0.00022530142 0.012081825;;; 0.0 -0.00016942954 … -0.00042022165 -0.0036539093; 0.0 0.0 … 0.0 -0.00070589024; … ; 0.0 0.0 … 0.00063881575 0.0; 0.0 0.0 … 0.0 0.0;;; 0.0 0.0 … 0.0 0.0; 0.0 0.0 … 0.0 0.0; … ; 0.0 0.0 … 0.0 0.0; 0.0 0.0 … 0.0 0.0;;; 0.0119831 0.0006685375 … 0.0 0.0; 0.0 0.0 … 0.0 0.0; … ; -0.0053292066 0.0 … 0.0 0.0028224643; 0.00095352484 0.0 … 0.0 0.0;;; 0.0022407738 0.0030370601 … 0.001122569 0.0; 0.020044824 -0.012102047 … 0.001967507 0.0; … ; -0.0013212834 -0.02660426 … 0.12538286 0.0; 0.0016417044 0.045336947 … -0.22425145 0.0;;;;]\n [0.00014707843 0.007887477 … 0.011368244 -0.007475884; 0.0 0.0 … 0.0016454386 -0.007612762; … ; 0.0 0.0002985528 … 0.0 -0.0016391535; 0.0 0.0 … 0.0 0.0;;; -9.64149f-5 7.503526f-5 … 0.0 0.0; 0.0 0.0 … 0.0 0.0; … ; 0.0 -0.0036840942 … 0.0 0.0; 0.0 0.0 … 0.0 -5.44888f-5;;; 0.0 0.0 … 0.0 -2.3931498f-5; 0.0 0.0 … 0.0 0.00041654723; … ; 0.0 0.0 … 0.0 -0.0014860873; 0.0 0.0 … 0.0 0.002834162;;; 0.0 0.0 … 0.0 -0.0015632237; 0.0 0.0 … 0.0 0.0010236271; … ; -0.00044697963 0.0 … 0.0 -5.637796f-5; 0.000718313 0.00059874455 … 0.0 -0.0023302531;;; 0.0 -0.00018610725 … -0.0007628517 -0.0038420705; 0.0 0.0 … 0.0 -0.00032515283; … ; 0.0 0.0 … 0.00049017457 0.0; 0.0 0.0 … 0.0 0.0;;; 0.0 0.0 … 0.0 0.0; 0.0 0.0 … 0.0 0.0; … ; 0.0 0.0 … 0.0 0.0; 0.0 0.0 … 0.0 0.0;;; 0.0084773 -0.00038390968 … 0.0 0.0; 0.0 0.0 … 0.0 0.0; … ; -0.00608957 0.0 … 0.0 0.0010946009; 0.00041216263 0.0 … 0.0 0.0;;; 0.003020594 -0.0012500687 … -0.0006835206 0.0; 0.005263803 -0.005394918 … -0.005151412 0.0; … ; -0.0018659354 -0.017148098 … 0.00571848 0.0; 0.0023446877 0.013568302 … -0.0022808001 0.0;;;;]\n [0.00014707843; 0.0; … ; 0.0; 0.0;;]\n [-0.0; 0.0; … ; 0.0; 0.0030426555;;]\n [-0.009269292; 0.018547539; … ; 0.036284484; 0.0030426553;;]\n [0.0; 0.0; … ; 0.0; 0.0;;]"
     },
     "metadata": {},
     "execution_count": 10
    }
   ],
   "cell_type": "code",
   "source": [
    "analyzer = LRP(model; flatten=false) # use unflattened model\n",
    "\n",
    "expl = analyze(input, analyzer; layerwise_relevances=true)\n",
    "expl.extras.layerwise_relevances"
   ],
   "metadata": {},
   "execution_count": 10
  },
  {
   "cell_type": "markdown",
   "source": [
    "## Performance tips\n",
    "### Using LRP without a GPU\n",
    "Since ExplainableAI.jl's LRP implementation makes use of\n",
    "[Tullio.jl](https://github.com/mcabbott/Tullio.jl),\n",
    "analysis can be accelerated by loading either\n",
    "- a package from the [JuliaGPU](https://juliagpu.org) ecosystem,\n",
    "  e.g. [CUDA.jl](https://github.com/JuliaGPU/CUDA.jl), if a GPU is available\n",
    "- [LoopVectorization.jl](https://github.com/JuliaSIMD/LoopVectorization.jl)\n",
    "  if only a CPU is available.\n",
    "\n",
    "This only requires loading the LoopVectorization.jl package before ExplainableAI.jl:\n",
    "```julia\n",
    "using LoopVectorization\n",
    "using ExplainableAI\n",
    "```\n",
    "\n",
    "[^1]: G. Montavon et al., [Layer-Wise Relevance Propagation: An Overview](https://link.springer.com/chapter/10.1007/978-3-030-28954-6_10)"
   ],
   "metadata": {}
  },
  {
   "cell_type": "markdown",
   "source": [
    "---\n",
    "\n",
    "*This notebook was generated using [Literate.jl](https://github.com/fredrikekre/Literate.jl).*"
   ],
   "metadata": {}
  }
 ],
 "nbformat_minor": 3,
 "metadata": {
  "language_info": {
   "file_extension": ".jl",
   "mimetype": "application/julia",
   "name": "julia",
   "version": "1.9.3"
  },
  "kernelspec": {
   "name": "julia-1.9",
   "display_name": "Julia 1.9.3",
   "language": "julia"
  }
 },
 "nbformat": 4
}
