{
 "cells": [
  {
   "cell_type": "markdown",
   "source": [
    "# Basic usage of LRP\n",
    "This example will show you best practices for using LRP,\n",
    "building on the basics shown in the *Getting started* section."
   ],
   "metadata": {}
  },
  {
   "cell_type": "markdown",
   "source": [
    "We start out by loading a small convolutional neural network:"
   ],
   "metadata": {}
  },
  {
   "outputs": [],
   "cell_type": "code",
   "source": [
    "using ExplainableAI\n",
    "using Flux\n",
    "\n",
    "model = Chain(\n",
    "    Chain(\n",
    "        Conv((3, 3), 3 => 8, relu; pad=1),\n",
    "        Conv((3, 3), 8 => 8, relu; pad=1),\n",
    "        MaxPool((2, 2)),\n",
    "        Conv((3, 3), 8 => 16; pad=1),\n",
    "        BatchNorm(16, relu),\n",
    "        Conv((3, 3), 16 => 8, relu; pad=1),\n",
    "        BatchNorm(8, relu),\n",
    "    ),\n",
    "    Chain(\n",
    "        Flux.flatten,\n",
    "        Dense(2048 => 512, relu),\n",
    "        Dropout(0.5),\n",
    "        Dense(512 => 100, softmax)\n",
    "    ),\n",
    ");"
   ],
   "metadata": {},
   "execution_count": 1
  },
  {
   "cell_type": "markdown",
   "source": [
    "This model contains two chains: the convolutional layers and the fully connected layers."
   ],
   "metadata": {}
  },
  {
   "cell_type": "markdown",
   "source": [
    "## Model preparation\n",
    "### Stripping the output softmax\n",
    "When using LRP, it is recommended to explain output logits instead of probabilities.\n",
    "This can be done by stripping the output softmax activation from the model\n",
    "using the `strip_softmax` function:"
   ],
   "metadata": {}
  },
  {
   "outputs": [
    {
     "output_type": "execute_result",
     "data": {
      "text/plain": "Chain(\n  Chain(\n    Conv((3, 3), 3 => 8, relu, pad=1),  \u001b[90m# 224 parameters\u001b[39m\n    Conv((3, 3), 8 => 8, relu, pad=1),  \u001b[90m# 584 parameters\u001b[39m\n    MaxPool((2, 2)),\n    Conv((3, 3), 8 => 16, pad=1),       \u001b[90m# 1_168 parameters\u001b[39m\n    BatchNorm(16, relu),                \u001b[90m# 32 parameters\u001b[39m\u001b[90m, plus 32\u001b[39m\n    Conv((3, 3), 16 => 8, relu, pad=1),  \u001b[90m# 1_160 parameters\u001b[39m\n    BatchNorm(8, relu),                 \u001b[90m# 16 parameters\u001b[39m\u001b[90m, plus 16\u001b[39m\n  ),\n  Chain(\n    Flux.flatten,\n    Dense(2048 => 512, relu),           \u001b[90m# 1_049_088 parameters\u001b[39m\n    Dropout(0.5),\n    Dense(512 => 100),                  \u001b[90m# 51_300 parameters\u001b[39m\n  ),\n) \u001b[90m        # Total: 16 trainable arrays, \u001b[39m1_103_572 parameters,\n\u001b[90m          # plus 4 non-trainable, 48 parameters, summarysize \u001b[39m4.213 MiB."
     },
     "metadata": {},
     "execution_count": 2
    }
   ],
   "cell_type": "code",
   "source": [
    "model = strip_softmax(model)"
   ],
   "metadata": {},
   "execution_count": 2
  },
  {
   "cell_type": "markdown",
   "source": [
    "If you don't remove the output softmax,\n",
    "model checks will fail."
   ],
   "metadata": {}
  },
  {
   "cell_type": "markdown",
   "source": [
    "### Canonizing the model\n",
    "LRP is not invariant to a model's implementation.\n",
    "Applying the `GammaRule` to two linear layers in a row will yield different results\n",
    "than first fusing the two layers into one linear layer and then applying the rule.\n",
    "This fusing is called \"canonization\" and can be done using the `canonize` function:"
   ],
   "metadata": {}
  },
  {
   "outputs": [
    {
     "output_type": "execute_result",
     "data": {
      "text/plain": "Chain(\n  Conv((3, 3), 3 => 8, relu, pad=1),    \u001b[90m# 224 parameters\u001b[39m\n  Conv((3, 3), 8 => 8, relu, pad=1),    \u001b[90m# 584 parameters\u001b[39m\n  MaxPool((2, 2)),\n  Conv((3, 3), 8 => 16, relu, pad=1),   \u001b[90m# 1_168 parameters\u001b[39m\n  Conv((3, 3), 16 => 8, relu, pad=1),   \u001b[90m# 1_160 parameters\u001b[39m\n  BatchNorm(8, relu),                   \u001b[90m# 16 parameters\u001b[39m\u001b[90m, plus 16\u001b[39m\n  Flux.flatten,\n  Dense(2048 => 512, relu),             \u001b[90m# 1_049_088 parameters\u001b[39m\n  Dropout(0.5),\n  Dense(512 => 100),                    \u001b[90m# 51_300 parameters\u001b[39m\n) \u001b[90m        # Total: 14 trainable arrays, \u001b[39m1_103_540 parameters,\n\u001b[90m          # plus 2 non-trainable, 16 parameters, summarysize \u001b[39m4.212 MiB."
     },
     "metadata": {},
     "execution_count": 3
    }
   ],
   "cell_type": "code",
   "source": [
    "model_canonized = canonize(model)"
   ],
   "metadata": {},
   "execution_count": 3
  },
  {
   "cell_type": "markdown",
   "source": [
    "After canonization, the first `BatchNorm` layer has been fused into the preceding `Conv` layer.\n",
    "The second `BatchNorm` layer wasn't fused\n",
    "since its preceding `Conv` layer has a ReLU activation function."
   ],
   "metadata": {}
  },
  {
   "cell_type": "markdown",
   "source": [
    "### Flattening the model\n",
    "ExplainableAI.jl's LRP implementation supports nested Flux Chains and Parallel layers.\n",
    "However, it is recommended to flatten the model before analyzing it.\n",
    "\n",
    "LRP is implemented by first running a forward pass through the model,\n",
    "keeping track of the intermediate activations, followed by a backward pass\n",
    "that computes the relevances.\n",
    "\n",
    "To keep the LRP implementation simple and maintainable,\n",
    "ExplainableAI.jl does not pre-compute \"nested\" activations.\n",
    "Instead, for every internal chain, a new forward pass is run to compute activations.\n",
    "\n",
    "By \"flattening\" a model, this overhead can be avoided.\n",
    "For this purpose, ExplainableAI.jl provides the function `flatten_model`:"
   ],
   "metadata": {}
  },
  {
   "outputs": [
    {
     "output_type": "execute_result",
     "data": {
      "text/plain": "Chain(\n  Conv((3, 3), 3 => 8, relu, pad=1),    \u001b[90m# 224 parameters\u001b[39m\n  Conv((3, 3), 8 => 8, relu, pad=1),    \u001b[90m# 584 parameters\u001b[39m\n  MaxPool((2, 2)),\n  Conv((3, 3), 8 => 16, pad=1),         \u001b[90m# 1_168 parameters\u001b[39m\n  BatchNorm(16, relu),                  \u001b[90m# 32 parameters\u001b[39m\u001b[90m, plus 32\u001b[39m\n  Conv((3, 3), 16 => 8, relu, pad=1),   \u001b[90m# 1_160 parameters\u001b[39m\n  BatchNorm(8, relu),                   \u001b[90m# 16 parameters\u001b[39m\u001b[90m, plus 16\u001b[39m\n  Flux.flatten,\n  Dense(2048 => 512, relu),             \u001b[90m# 1_049_088 parameters\u001b[39m\n  Dropout(0.5),\n  Dense(512 => 100),                    \u001b[90m# 51_300 parameters\u001b[39m\n) \u001b[90m        # Total: 16 trainable arrays, \u001b[39m1_103_572 parameters,\n\u001b[90m          # plus 4 non-trainable, 48 parameters, summarysize \u001b[39m4.212 MiB."
     },
     "metadata": {},
     "execution_count": 4
    }
   ],
   "cell_type": "code",
   "source": [
    "model_flat = flatten_model(model)"
   ],
   "metadata": {},
   "execution_count": 4
  },
  {
   "cell_type": "markdown",
   "source": [
    "This function is called by default when creating an LRP analyzer.\n",
    "Note that we pass the unflattened model to the analyzer, but `analyzer.model` is flattened:"
   ],
   "metadata": {}
  },
  {
   "outputs": [
    {
     "output_type": "execute_result",
     "data": {
      "text/plain": "Chain(\n  Conv((3, 3), 3 => 8, relu, pad=1),    \u001b[90m# 224 parameters\u001b[39m\n  Conv((3, 3), 8 => 8, relu, pad=1),    \u001b[90m# 584 parameters\u001b[39m\n  MaxPool((2, 2)),\n  Conv((3, 3), 8 => 16, pad=1),         \u001b[90m# 1_168 parameters\u001b[39m\n  BatchNorm(16, relu),                  \u001b[90m# 32 parameters\u001b[39m\u001b[90m, plus 32\u001b[39m\n  Conv((3, 3), 16 => 8, relu, pad=1),   \u001b[90m# 1_160 parameters\u001b[39m\n  BatchNorm(8, relu),                   \u001b[90m# 16 parameters\u001b[39m\u001b[90m, plus 16\u001b[39m\n  Flux.flatten,\n  Dense(2048 => 512, relu),             \u001b[90m# 1_049_088 parameters\u001b[39m\n  Dropout(0.5),\n  Dense(512 => 100),                    \u001b[90m# 51_300 parameters\u001b[39m\n) \u001b[90m        # Total: 16 trainable arrays, \u001b[39m1_103_572 parameters,\n\u001b[90m          # plus 4 non-trainable, 48 parameters, summarysize \u001b[39m4.212 MiB."
     },
     "metadata": {},
     "execution_count": 5
    }
   ],
   "cell_type": "code",
   "source": [
    "analyzer = LRP(model)\n",
    "analyzer.model"
   ],
   "metadata": {},
   "execution_count": 5
  },
  {
   "cell_type": "markdown",
   "source": [
    "If this flattening is not desired, it can be disabled\n",
    "by passing the keyword argument `flatten=false` to the `LRP` constructor."
   ],
   "metadata": {}
  },
  {
   "cell_type": "markdown",
   "source": [
    "## LRP rules\n",
    "By default, the `LRP` constructor will assign the `ZeroRule` to all layers."
   ],
   "metadata": {}
  },
  {
   "outputs": [
    {
     "output_type": "execute_result",
     "data": {
      "text/plain": "LRP(\n  Conv((3, 3), 3 => 8, relu, pad=1) \u001b[90m => \u001b[39m\u001b[33mZeroRule()\u001b[39m,\n  Conv((3, 3), 8 => 8, relu, pad=1) \u001b[90m => \u001b[39m\u001b[33mZeroRule()\u001b[39m,\n  MaxPool((2, 2))                   \u001b[90m => \u001b[39m\u001b[33mZeroRule()\u001b[39m,\n  Conv((3, 3), 8 => 16, pad=1)      \u001b[90m => \u001b[39m\u001b[33mZeroRule()\u001b[39m,\n  BatchNorm(16, relu)               \u001b[90m => \u001b[39m\u001b[33mZeroRule()\u001b[39m,\n  Conv((3, 3), 16 => 8, relu, pad=1)\u001b[90m => \u001b[39m\u001b[33mZeroRule()\u001b[39m,\n  BatchNorm(8, relu)                \u001b[90m => \u001b[39m\u001b[33mZeroRule()\u001b[39m,\n  Flux.flatten                      \u001b[90m => \u001b[39m\u001b[33mZeroRule()\u001b[39m,\n  Dense(2048 => 512, relu)          \u001b[90m => \u001b[39m\u001b[33mZeroRule()\u001b[39m,\n  Dropout(0.5)                      \u001b[90m => \u001b[39m\u001b[33mZeroRule()\u001b[39m,\n  Dense(512 => 100)                 \u001b[90m => \u001b[39m\u001b[33mZeroRule()\u001b[39m,\n)"
     },
     "metadata": {},
     "execution_count": 6
    }
   ],
   "cell_type": "code",
   "source": [
    "LRP(model)"
   ],
   "metadata": {},
   "execution_count": 6
  },
  {
   "cell_type": "markdown",
   "source": [
    "This analyzer will return heatmaps that look identical to `InputTimesGradient`."
   ],
   "metadata": {}
  },
  {
   "cell_type": "markdown",
   "source": [
    "LRP's strength lies in assigning different rules to different layers,\n",
    "based on their functionality in the neural network[^1].\n",
    "ExplainableAI.jl implements many LRP rules out of the box,\n",
    "but it is also possible to *implement custom rules*.\n",
    "\n",
    "To assign different rules to different layers,\n",
    "use one of the composites presets,\n",
    "or create your own composite, as described in\n",
    "*Assigning rules to layers*."
   ],
   "metadata": {}
  },
  {
   "outputs": [
    {
     "output_type": "execute_result",
     "data": {
      "text/plain": "Composite(\n  GlobalTypeMap(  \u001b[90m# all layers\u001b[39m\n\u001b[94m    Flux.Conv              \u001b[39m => \u001b[33mZPlusRule()\u001b[39m,\n\u001b[94m    Flux.ConvTranspose     \u001b[39m => \u001b[33mZPlusRule()\u001b[39m,\n\u001b[94m    Flux.CrossCor          \u001b[39m => \u001b[33mZPlusRule()\u001b[39m,\n\u001b[94m    Flux.Dense             \u001b[39m => \u001b[33mEpsilonRule{Float32}(1.0f-6)\u001b[39m,\n\u001b[94m    typeof(NNlib.dropout)  \u001b[39m => \u001b[33mPassRule()\u001b[39m,\n\u001b[94m    Flux.AlphaDropout      \u001b[39m => \u001b[33mPassRule()\u001b[39m,\n\u001b[94m    Flux.Dropout           \u001b[39m => \u001b[33mPassRule()\u001b[39m,\n\u001b[94m    Flux.BatchNorm         \u001b[39m => \u001b[33mPassRule()\u001b[39m,\n\u001b[94m    typeof(Flux.flatten)   \u001b[39m => \u001b[33mPassRule()\u001b[39m,\n\u001b[94m    typeof(MLUtils.flatten)\u001b[39m => \u001b[33mPassRule()\u001b[39m,\n\u001b[94m    typeof(identity)       \u001b[39m => \u001b[33mPassRule()\u001b[39m,\n ),\n  FirstLayerTypeMap(  \u001b[90m# first layer\u001b[39m\n\u001b[94m    Flux.Conv         \u001b[39m => \u001b[33mFlatRule()\u001b[39m,\n\u001b[94m    Flux.ConvTranspose\u001b[39m => \u001b[33mFlatRule()\u001b[39m,\n\u001b[94m    Flux.CrossCor     \u001b[39m => \u001b[33mFlatRule()\u001b[39m,\n\u001b[94m    Flux.Dense        \u001b[39m => \u001b[33mFlatRule()\u001b[39m,\n ),\n)"
     },
     "metadata": {},
     "execution_count": 7
    }
   ],
   "cell_type": "code",
   "source": [
    "composite = EpsilonPlusFlat() # using composite preset EpsilonPlusFlat"
   ],
   "metadata": {},
   "execution_count": 7
  },
  {
   "outputs": [
    {
     "output_type": "execute_result",
     "data": {
      "text/plain": "LRP(\n  Conv((3, 3), 3 => 8, relu, pad=1) \u001b[90m => \u001b[39m\u001b[33mFlatRule()\u001b[39m,\n  Conv((3, 3), 8 => 8, relu, pad=1) \u001b[90m => \u001b[39m\u001b[33mZPlusRule()\u001b[39m,\n  MaxPool((2, 2))                   \u001b[90m => \u001b[39m\u001b[33mZeroRule()\u001b[39m,\n  Conv((3, 3), 8 => 16, pad=1)      \u001b[90m => \u001b[39m\u001b[33mZPlusRule()\u001b[39m,\n  BatchNorm(16, relu)               \u001b[90m => \u001b[39m\u001b[33mPassRule()\u001b[39m,\n  Conv((3, 3), 16 => 8, relu, pad=1)\u001b[90m => \u001b[39m\u001b[33mZPlusRule()\u001b[39m,\n  BatchNorm(8, relu)                \u001b[90m => \u001b[39m\u001b[33mPassRule()\u001b[39m,\n  Flux.flatten                      \u001b[90m => \u001b[39m\u001b[33mPassRule()\u001b[39m,\n  Dense(2048 => 512, relu)          \u001b[90m => \u001b[39m\u001b[33mEpsilonRule{Float32}(1.0f-6)\u001b[39m,\n  Dropout(0.5)                      \u001b[90m => \u001b[39m\u001b[33mPassRule()\u001b[39m,\n  Dense(512 => 100)                 \u001b[90m => \u001b[39m\u001b[33mEpsilonRule{Float32}(1.0f-6)\u001b[39m,\n)"
     },
     "metadata": {},
     "execution_count": 8
    }
   ],
   "cell_type": "code",
   "source": [
    "LRP(model, composite)"
   ],
   "metadata": {},
   "execution_count": 8
  },
  {
   "cell_type": "markdown",
   "source": [
    "## Computing layerwise relevances\n",
    "If you are interested in computing layerwise relevances,\n",
    "call `analyze` with an LRP analyzer and the keyword argument\n",
    "`layerwise_relevances=true`.\n",
    "\n",
    "The layerwise relevances can be accessed in the `extras` field\n",
    "of the returned `Explanation`:"
   ],
   "metadata": {}
  },
  {
   "outputs": [
    {
     "output_type": "execute_result",
     "data": {
      "text/plain": "([0.12797485 0.0019178175 … -0.123826265 0.0007111052; 0.060024526 0.08142359 … -0.11482573 0.14372474; … ; 0.054474127 0.045701724 … 1.4742435 1.0808766; 0.013862587 0.020025287 … -1.7309142 3.2915323;;; -0.04321551 0.018265262 … 0.031753376 0.27758378; 0.16918007 -0.12750725 … 0.6532976 0.061740004; … ; -0.029853387 -0.0027985722 … -0.34538522 2.5974886; -0.00876557 7.743253f-5 … -1.2275872 -0.17219974;;; 0.1411211 0.029299594 … -0.25823256 -0.20296103; 0.060358312 0.021635354 … -0.020707611 -0.0059084496; … ; -0.027818643 0.005856391 … -1.287939 -5.6625056; -0.11278683 0.01569066 … 3.4987836 0.34087923;;;;], [-0.0 0.0 … -0.0 -0.0; 0.0 -0.060955346 … -0.053711895 0.0; … ; 0.0 0.0 … 0.590051 0.0; 0.0 -0.0 … -0.0 0.0;;; -0.0 0.0 … -0.0 0.0; -0.0 0.11278684 … 0.2524285 -0.005957304; … ; -0.0 -0.05245965 … 0.05087405 -0.09183161; 0.002197332 0.06385634 … -3.6553557 0.030035546;;; -0.06475222 0.10868008 … 0.21901704 -0.0; -0.10311888 0.1614282 … -0.0020510093 0.09870852; … ; -0.0 -0.00957171 … 0.017069178 0.0067250663; 0.0 0.0 … -0.0 -0.04582501;;; -0.067538105 -0.0 … 0.0 -0.044495124; -0.0 -0.049344964 … 0.112990856 0.04348157; … ; -0.0018339653 -0.036295243 … -0.7406428 0.158986; 0.023422282 0.005154653 … 3.8922167 -0.0;;; 0.043965727 0.0 … 0.0 0.0007159978; 0.022398155 0.21341026 … -0.23676583 -0.013361779; … ; -0.015430571 0.0077321 … 0.0 0.006802053; -0.042643476 0.052612737 … -0.6459692 -0.16197276;;; -0.0 0.0 … 0.0 -0.012402864; -0.0 0.01942503 … 0.104885265 -0.0; … ; 0.0 0.0 … -0.0 0.087572776; -0.00029185292 0.013570424 … 1.5951953 -0.020831645;;; 0.0 0.086202055 … 0.08034425 -0.023668906; 0.006448098 -0.0 … 0.0343588 -0.012855277; … ; -0.0 -0.0 … -0.0 -0.2369409; -0.0 0.0 … 0.0 -0.06996088;;; -0.0 -0.0 … 0.0 -0.0; 0.0 0.0 … 0.0 0.0; … ; 0.0 -0.0 … -0.0 0.0; -0.0 -0.0 … 0.0 -0.0;;;;], [0.0 0.0 … 0.0 0.0; -0.13759524 0.0 … 0.0 0.0; … ; 0.0 0.0 … 0.0 0.0; -0.057256404 0.0 … 0.0 -0.035246555;;; 0.0 0.0 … 0.0 0.0; 0.0 0.15833579 … 0.0 0.11901286; … ; 0.0 0.0 … 0.0 0.0; 0.0 0.034607094 … 0.0 0.014710269;;; 0.021612901 0.0 … 0.0 0.0; 0.0 0.0 … 0.0 0.026043689; … ; 0.0 -0.050790664 … 0.0 0.0; 0.0 0.0 … -0.11612447 0.0;;; 0.04649407 0.0 … 0.0 0.0; 0.0 0.0 … 0.0 -0.0392256; … ; 0.0 0.0 … 0.0 0.0; 0.0 0.013095982 … 0.15177584 0.0;;; 0.0 0.064403415 … 0.0 0.0; 0.0 0.0 … -0.008052779 0.0; … ; -0.08176857 0.0 … 0.0 -0.29643002; 0.0 0.0 … 0.0 0.0;;; 0.0 0.0 … 0.0 0.018613415; 0.0 0.0023632988 … 0.0 0.0; … ; 0.0 0.0 … 0.0 -0.1640577; 0.0 -0.05429466 … 0.0 0.0;;; 0.043756396 0.0 … 0.0 0.021631276; 0.0 0.0 … 0.0 0.0; … ; 0.018685434 0.0 … 0.0 0.0; 0.0 0.0 … 0.0 0.0;;; 0.0 0.0 … 0.01542779 0.0; 0.0 -0.106154054 … 0.0 0.0; … ; 0.0 -0.05373439 … -0.012914099 0.0; 0.0 0.0 … 0.0 0.0;;;;], [-0.13759524 -0.050095603 … 0.36476788 -0.0; -0.5470027 -0.13241966 … 0.2671834 0.009702; … ; -0.1377524 -0.097373255 … -3.8840885 0.37094176; -0.057256404 -0.09449292 … -12.343187 -0.035246555;;; 0.15833579 -0.08966521 … -0.7829525 0.11901286; 0.017954616 -0.5141658 … -0.61917526 -0.043344963; … ; -0.0002882659 -0.568448 … 24.737972 0.069253296; 0.034607094 -0.3709678 … 12.939095 0.014710269;;; 0.021612901 0.2289806 … 0.4602821 0.026043689; 0.05252724 -0.13838199 … 0.48600283 0.1368664; … ; -0.035265565 0.0854538 … -6.238489 4.6721077; -0.050790664 -0.173507 … -7.4850774 -0.11612447;;; 0.04649407 0.1742074 … 0.16286863 -0.0392256; 0.009836357 0.22976497 … -0.13342357 0.10178724; … ; -0.015104557 3.8671624f-5 … 22.390642 0.0; 0.013095982 0.0668448 … -3.5720408 0.15177584;;; 0.064403415 -0.18202628 … -0.6756267 -0.008052779; -0.15410058 0.1473415 … 0.67451614 -0.29521334; … ; -0.25866637 -0.5612605 … -29.027075 0.94730836; -0.08176857 -0.44212866 … 17.426155 -0.29643002;;; 0.0023632988 0.0 … 0.00012665184 0.018613415; -0.07314426 0.42699948 … -0.24618399 0.009378148; … ; 0.10597422 0.07860904 … -8.061182 1.4750917; -0.05429466 -3.844806f-5 … 10.500102 -0.1640577;;; 0.043756396 0.0 … -0.046163984 0.021631276; 0.0 0.0 … 0.0 -0.0; … ; 0.0 0.0 … -1.3707063 -0.0; 0.018685434 0.0 … -0.0 -0.0;;; -0.106154054 0.13477278 … -0.15506382 0.01542779; -0.10457924 -0.4558002 … -0.87390286 -0.0019897763; … ; -0.19425377 -0.62534 … -7.93351 0.66633743; -0.05373439 -0.3646322 … 17.22485 -0.012914099;;;;], [-0.00052434497 0.0012613126 … 0.000363607 0.0090821255; 0.063352615 0.0028877691 … 0.0026551418 0.0132402945; … ; 0.016995342 -0.096153 … -0.00066748937 0.021914179; -0.012758343 -0.0056583863 … 0.006431996 0.004592136;;; -0.044594616 -0.074770756 … -0.05541088 -0.08271084; -0.06453071 -1.34935 … -0.08618366 -0.07085971; … ; -0.022664785 -0.012393262 … -0.17334317 0.27114594; 0.009594896 -0.060397133 … -0.036736943 -0.041776177;;; -0.25587174 -0.2866586 … -0.2927231 0.028664315; -0.21039443 -0.31955418 … -0.083324924 -0.05607921; … ; -0.39964506 -0.1106549 … 0.059565846 -0.03029248; 0.14439909 0.20309277 … 0.080156706 0.17368652;;; … ;;; -2.6031968f-5 3.5133664f-5 … 9.7806995f-5 9.1624235f-5; 1.5902233f-5 -0.00043592838 … 4.6843793f-6 9.972568f-5; … ; 9.511723f-5 -0.00016847653 … -0.000283341 7.266026f-5; 9.958124f-5 -0.0024201234 … 9.521164f-5 0.0016496864;;; 0.00071622076 -0.07078042 … -0.10329856 -0.06028185; -0.00071708736 -0.68812853 … -1.1048131 -0.069925226; … ; -0.023992212 -0.0976452 … -0.11391325 0.94113463; 0.0048781736 -0.046030372 … -0.081939824 -0.09140057;;; 1.4420197f-5 0.00030783963 … 1.6221744f-5 -0.0011512047; -0.00011185811 1.04705005f-5 … 0.031702936 -0.001705275; … ; -9.437289f-5 2.2899696f-5 … -4.9096125f-5 1.6261045f-5; -8.279904f-6 -7.466515f-5 … 0.03175146 -0.009708326;;;;], [-2.2514112f-5 -0.0 … -0.0 -0.0; 0.03288686 0.0 … -0.0 -0.0; … ; -0.03128755 -0.091497056 … -0.0028425686 0.0; -0.024436826 -0.011390742 … 0.0 0.0;;; -0.0018965721 0.014951439 … 0.010116051 -0.009302041; -0.17424801 -0.13150907 … 0.12331165 0.011425338; … ; -0.0047791977 0.034836873 … -0.010385618 0.09812106; 0.0 0.054167252 … 0.015674498 -0.050325487;;; -0.009983528 -0.005369535 … -0.00291321 -0.0; 0.103437364 -0.035472948 … -0.016923178 0.0031199781; … ; 0.0135689275 0.0039431388 … 0.0 0.0036812718; -0.0 0.0 … 0.0 0.0;;; … ;;; -0.0 0.0 … -0.0 -0.0; 0.0 -0.0 … -0.0 0.0; … ; -0.0 -0.0 … 0.0 0.0; -0.0 -0.006475748 … -0.0 0.008336976;;; 0.0 -0.003637568 … 0.0038258068 0.0061756573; -0.0019349937 -0.080956854 … -0.140216 0.021072216; … ; 0.004799052 0.026091626 … 0.0096735805 0.053751532; 0.0 -0.038216628 … 0.09285214 -0.00081577647;;; 0.0 0.0011018859 … 0.0 -0.0020363617; -0.0 -0.0 … 0.055162266 -0.0020344313; … ; -0.0 -0.0 … 0.0 0.0; -0.0 -0.0 … 0.049602434 -0.017535217;;;;], [0.0016271297 0.0040506655 … 0.0039658705 0.0; 0.0034157487 0.0037372638 … 0.0042866045 0.0; … ; 0.0037421556 0.0026468376 … 0.003964965 0.0; 0.0038762344 0.0024118815 … 0.002296147 0.0;;; -0.0023585432 -0.0 … -0.02008044 -0.010694493; -0.012459681 -0.0075590536 … -0.019435884 -0.0037506234; … ; -0.07302711 -0.088153265 … -0.017873455 -0.027450196; -0.072754234 0.011200393 … -0.008967668 -0.012483981;;; 0.0009895825 0.016229864 … 0.008761966 0.0; -0.0014390415 -0.018588973 … 0.0 0.0; … ; 0.0 0.0 … 0.0 0.0; 0.0 0.0 … 0.0 0.0;;; -0.00028476163 0.0012358848 … -0.0 -0.0; -0.00068915513 0.0014219468 … -0.0 -0.0; … ; 0.006162378 0.0053508366 … -1.157576f-5 -0.0; -0.008685276 -0.0032329657 … 0.0078025567 -0.0;;; 0.0 0.0 … 0.0 0.0; 0.0 0.0 … 0.0 0.0; … ; -0.0068385783 -0.0026298554 … 0.0 0.0; 0.0 0.0018772661 … 0.0017558943 -0.0024360374;;; -0.007666298 -0.0257121 … 0.0031897598 0.026864653; -0.011697801 -0.01840157 … -0.001064619 -0.0009099186; … ; -0.0 0.065613694 … -0.0 -0.0; -0.0 -0.0 … -0.0 -0.0;;; 0.0 0.0 … 0.0 0.005779899; 0.0026460153 0.007203526 … -0.08264696 0.006961089; … ; 0.003178489 0.006754686 … 0.005625847 0.39711803; 0.004747817 -0.083316244 … 0.0061428193 0.005080454;;; -0.00035439813 0.0 … 0.0 0.0; 0.0 0.0 … -0.0005625213 0.0; … ; 0.0 0.0 … 0.0 0.0; 0.00066580746 0.0 … 0.0 0.0;;;;], [0.0036942654 -0.008312616 … -0.0002571415 0.0; -0.0014796994 0.0043159756 … 0.0070065493 -0.0; … ; -0.0035030106 0.0002659158 … 0.0067214323 0.0; 0.007409718 0.00583964 … -0.00081551966 -0.0;;; 0.00080138515 -0.0 … 0.0033956692 0.003429014; -0.0105799725 0.0012687721 … -0.011127263 0.0046701506; … ; -0.0057741427 -0.011996672 … 0.0077860113 -0.009531345; -0.0073460685 0.012970385 … 0.0021052223 -0.011038267;;; 0.00078511215 0.01306009 … 0.0046579624 -0.0; -0.00078680174 -0.013065954 … -0.0 -0.0; … ; -0.0 -0.0 … 0.0 0.0; -0.0 -0.0 … -0.0 -0.0;;; 3.5097906f-5 0.001105001 … -0.0 0.0; -1.9799665f-5 0.0011845854 … -0.0 0.0; … ; 0.0060612615 0.004332922 … 0.0001740709 -0.0; -0.0058897226 -0.0016706437 … 0.0056613395 0.0;;; 0.0 -0.0 … 0.0 0.0; 0.0 -0.0 … 0.0 -0.0; … ; -0.0061662723 -0.0021337476 … -0.0 0.0; -0.0 0.001680593 … 0.0010860445 -0.0020823593;;; -0.0009120388 -0.012481934 … 0.009726292 0.015934942; -0.0013539237 -0.007482987 … 0.004643376 -0.00069539994; … ; 0.0 0.005675161 … -0.0 -0.0; -0.0 -0.0 … 0.0 0.0;;; -0.0 -0.0 … -0.0 -0.0013470742; -0.0038957752 0.007828833 … -0.022496877 -0.0053353654; … ; 0.0009124668 0.008797507 … -0.0052181156 0.0013546005; 0.008069498 -0.019354992 … 0.019840803 -0.0004112203;;; -0.000121265206 0.0 … -0.0 -0.0; -0.0 -0.0 … 7.2582894f-5 0.0; … ; 0.0 0.0 … 0.0 0.0; 0.001226495 -0.0 … -0.0 -0.0;;;;], Float32[0.0036942654; -0.0014796994; … ; 0.0; -0.0;;], Float32[0.008122883; -0.0; … ; -0.0; -0.017231286;;], Float32[0.008122883; -0.0; … ; -0.0; -0.017231286;;], Float32[0.0; 0.0; … ; 0.0; 0.0;;])"
     },
     "metadata": {},
     "execution_count": 9
    }
   ],
   "cell_type": "code",
   "source": [
    "input = rand(Float32, 32, 32, 3, 1) # dummy input for our convolutional neural network\n",
    "\n",
    "expl = analyze(input, analyzer; layerwise_relevances=true)\n",
    "expl.extras.layerwise_relevances"
   ],
   "metadata": {},
   "execution_count": 9
  },
  {
   "cell_type": "markdown",
   "source": [
    "Note that the layerwise relevances are only kept for layers in the outermost `Chain` of the model.\n",
    "When using our unflattened model, we only obtain three layerwise relevances,\n",
    "one for each chain in the model and the output relevance:"
   ],
   "metadata": {}
  },
  {
   "outputs": [
    {
     "output_type": "execute_result",
     "data": {
      "text/plain": "([0.097639404 -0.0014569253 … -0.07414398 0.008229603; 0.030151391 0.0074559506 … -0.28912354 0.3259449; … ; 0.16630374 0.037015002 … 2.3364117 4.3574157; 0.023128076 0.058174927 … -2.7804604 6.6781;;; 0.023665706 -0.018247038 … -0.0112145925 0.35305592; -0.054420594 -0.026577894 … 0.398489 0.015120807; … ; 0.019673098 -0.054714803 … -0.66758674 4.2537084; -0.0017990012 -0.028127456 … -3.6034381 -0.49491036;;; 0.16223812 -0.00018484594 … -0.15179963 -0.09063445; 0.015007027 0.017104613 … 0.0021319662 0.097852394; … ; 0.15719566 0.007875076 … -3.5589905 -11.172389; 0.09311873 -0.08321486 … 8.432312 0.45731038;;;;], [0.0012656158 -0.008803844 … -0.0022306845 0.0; 0.00082058524 0.0026404732 … 0.004196059 -0.0; … ; -0.001373078 -0.0010143048 … 0.004327253 0.0; 0.0077380016 0.00405913 … -0.0007987372 -0.0;;; 3.254925f-5 -0.0 … 0.0051995907 0.002076705; -0.010626719 0.0018775413 … -0.0073729176 0.0006167715; … ; -0.0071689626 -0.010931687 … 0.004493442 -0.007974543; -0.010280816 0.013540715 … 0.0002518842 -0.011332677;;; 0.0001096467 0.013439623 … 0.00407553 -0.0; -0.00070844725 -0.015708314 … -0.0 -0.0; … ; -0.0 -0.0 … 0.0 0.0; -0.0 -0.0 … -0.0 -0.0;;; 0.00094769645 0.0022205247 … 0.0 0.0; 0.0007813316 0.00028490293 … -0.0 0.0; … ; 0.0029737693 0.0039191307 … 0.0008821689 -0.0; -0.007638793 -0.00022070027 … 0.007653148 0.0;;; 0.0 -0.0 … 0.0 0.0; 0.0 -0.0 … 0.0 -0.0; … ; -0.004898045 -0.0017951456 … -0.0 0.0; 0.0 0.001195488 … 0.0012177031 -0.0014259573;;; 0.0027049778 -0.010771875 … 0.007638668 0.016117; -0.0018629887 -0.0055872058 … 0.0037764988 -0.00071900326; … ; 0.0 0.0042768004 … -0.0 -0.0; -0.0 -0.0 … 0.0 0.0;;; -0.0 -0.0 … -0.0 -0.0021420384; -0.0029512437 0.0098292325 … -0.025388265 -0.0061146617; … ; 0.001320449 0.008336783 … -0.0046667065 0.0010716731; 0.0053272047 -0.015288385 … 0.016821073 0.00010354541;;; -0.0 0.0 … -0.0 -0.0; -0.0 -0.0 … -0.0003271508 0.0; … ; 0.0 0.0 … 0.0 0.0; 0.0007382297 -0.0 … -0.0 -0.0;;;;], Float32[0.0; 0.0; … ; 0.0; 0.0;;])"
     },
     "metadata": {},
     "execution_count": 10
    }
   ],
   "cell_type": "code",
   "source": [
    "analyzer = LRP(model; flatten=false) # use unflattened model\n",
    "\n",
    "expl = analyze(input, analyzer; layerwise_relevances=true)\n",
    "expl.extras.layerwise_relevances"
   ],
   "metadata": {},
   "execution_count": 10
  },
  {
   "cell_type": "markdown",
   "source": [
    "## Performance tips\n",
    "### Using LRP with a GPU\n",
    "Like all other analyzers, LRP can be used on GPUs.\n",
    "Follow the instructions on *GPU support*.\n",
    "\n",
    "### Using LRP without a GPU\n",
    "Using Julia's package extension mechanism,\n",
    "ExplainableAI.jl's LRP implementation can optionally make use of\n",
    "[Tullio.jl](https://github.com/mcabbott/Tullio.jl) and\n",
    "[LoopVectorization.jl](https://github.com/JuliaSIMD/LoopVectorization.jl)\n",
    "for faster LRP rules on dense layers.\n",
    "\n",
    "This only requires loading the packages before loading ExplainableAI.jl:\n",
    "```julia\n",
    "using LoopVectorization, Tullio\n",
    "using ExplainableAI\n",
    "```\n",
    "\n",
    "[^1]: G. Montavon et al., [Layer-Wise Relevance Propagation: An Overview](https://link.springer.com/chapter/10.1007/978-3-030-28954-6_10)"
   ],
   "metadata": {}
  },
  {
   "cell_type": "markdown",
   "source": [
    "---\n",
    "\n",
    "*This notebook was generated using [Literate.jl](https://github.com/fredrikekre/Literate.jl).*"
   ],
   "metadata": {}
  }
 ],
 "nbformat_minor": 3,
 "metadata": {
  "language_info": {
   "file_extension": ".jl",
   "mimetype": "application/julia",
   "name": "julia",
   "version": "1.9.3"
  },
  "kernelspec": {
   "name": "julia-1.9",
   "display_name": "Julia 1.9.3",
   "language": "julia"
  }
 },
 "nbformat": 4
}
