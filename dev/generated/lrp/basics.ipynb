{
 "cells": [
  {
   "cell_type": "markdown",
   "source": [
    "# Basic usage of LRP\n",
    "This example will show you best practices for using LRP,\n",
    "building on the basics shown in the *Getting started* section."
   ],
   "metadata": {}
  },
  {
   "cell_type": "markdown",
   "source": [
    "We start out by loading a small convolutional neural network:"
   ],
   "metadata": {}
  },
  {
   "outputs": [],
   "cell_type": "code",
   "source": [
    "using ExplainableAI\n",
    "using Flux\n",
    "\n",
    "model = Chain(\n",
    "    Chain(\n",
    "        Conv((3, 3), 3 => 8, relu; pad=1),\n",
    "        Conv((3, 3), 8 => 8, relu; pad=1),\n",
    "        MaxPool((2, 2)),\n",
    "        Conv((3, 3), 8 => 16; pad=1),\n",
    "        BatchNorm(16, relu),\n",
    "        Conv((3, 3), 16 => 8, relu; pad=1),\n",
    "        BatchNorm(8, relu),\n",
    "    ),\n",
    "    Chain(\n",
    "        Flux.flatten,\n",
    "        Dense(2048 => 512, relu),\n",
    "        Dropout(0.5),\n",
    "        Dense(512 => 100, softmax)\n",
    "    ),\n",
    ");"
   ],
   "metadata": {},
   "execution_count": 1
  },
  {
   "cell_type": "markdown",
   "source": [
    "This model contains two chains: the convolutional layers and the fully connected layers."
   ],
   "metadata": {}
  },
  {
   "cell_type": "markdown",
   "source": [
    "## Model preparation\n",
    "### Stripping the output softmax\n",
    "When using LRP, it is recommended to explain output logits instead of probabilities.\n",
    "This can be done by stripping the output softmax activation from the model\n",
    "using the `strip_softmax` function:"
   ],
   "metadata": {}
  },
  {
   "outputs": [
    {
     "output_type": "execute_result",
     "data": {
      "text/plain": "Chain(\n  Chain(\n    Conv((3, 3), 3 => 8, relu, pad=1),  \u001b[90m# 224 parameters\u001b[39m\n    Conv((3, 3), 8 => 8, relu, pad=1),  \u001b[90m# 584 parameters\u001b[39m\n    MaxPool((2, 2)),\n    Conv((3, 3), 8 => 16, pad=1),       \u001b[90m# 1_168 parameters\u001b[39m\n    BatchNorm(16, relu),                \u001b[90m# 32 parameters\u001b[39m\u001b[90m, plus 32\u001b[39m\n    Conv((3, 3), 16 => 8, relu, pad=1),  \u001b[90m# 1_160 parameters\u001b[39m\n    BatchNorm(8, relu),                 \u001b[90m# 16 parameters\u001b[39m\u001b[90m, plus 16\u001b[39m\n  ),\n  Chain(\n    Flux.flatten,\n    Dense(2048 => 512, relu),           \u001b[90m# 1_049_088 parameters\u001b[39m\n    Dropout(0.5),\n    Dense(512 => 100),                  \u001b[90m# 51_300 parameters\u001b[39m\n  ),\n) \u001b[90m        # Total: 16 trainable arrays, \u001b[39m1_103_572 parameters,\n\u001b[90m          # plus 4 non-trainable, 48 parameters, summarysize \u001b[39m4.213 MiB."
     },
     "metadata": {},
     "execution_count": 2
    }
   ],
   "cell_type": "code",
   "source": [
    "model = strip_softmax(model)"
   ],
   "metadata": {},
   "execution_count": 2
  },
  {
   "cell_type": "markdown",
   "source": [
    "If you don't remove the output softmax,\n",
    "model checks will fail."
   ],
   "metadata": {}
  },
  {
   "cell_type": "markdown",
   "source": [
    "### Canonizing the model\n",
    "LRP is not invariant to a model's implementation.\n",
    "Applying the `GammaRule` to two linear layers in a row will yield different results\n",
    "than first fusing the two layers into one linear layer and then applying the rule.\n",
    "This fusing is called \"canonization\" and can be done using the `canonize` function:"
   ],
   "metadata": {}
  },
  {
   "outputs": [
    {
     "output_type": "execute_result",
     "data": {
      "text/plain": "Chain(\n  Conv((3, 3), 3 => 8, relu, pad=1),    \u001b[90m# 224 parameters\u001b[39m\n  Conv((3, 3), 8 => 8, relu, pad=1),    \u001b[90m# 584 parameters\u001b[39m\n  MaxPool((2, 2)),\n  Conv((3, 3), 8 => 16, relu, pad=1),   \u001b[90m# 1_168 parameters\u001b[39m\n  Conv((3, 3), 16 => 8, relu, pad=1),   \u001b[90m# 1_160 parameters\u001b[39m\n  BatchNorm(8, relu),                   \u001b[90m# 16 parameters\u001b[39m\u001b[90m, plus 16\u001b[39m\n  Flux.flatten,\n  Dense(2048 => 512, relu),             \u001b[90m# 1_049_088 parameters\u001b[39m\n  Dropout(0.5),\n  Dense(512 => 100),                    \u001b[90m# 51_300 parameters\u001b[39m\n) \u001b[90m        # Total: 14 trainable arrays, \u001b[39m1_103_540 parameters,\n\u001b[90m          # plus 2 non-trainable, 16 parameters, summarysize \u001b[39m4.212 MiB."
     },
     "metadata": {},
     "execution_count": 3
    }
   ],
   "cell_type": "code",
   "source": [
    "model_canonized = canonize(model)"
   ],
   "metadata": {},
   "execution_count": 3
  },
  {
   "cell_type": "markdown",
   "source": [
    "After canonization, the first `BatchNorm` layer has been fused into the preceding `Conv` layer.\n",
    "The second `BatchNorm` layer wasn't fused\n",
    "since its preceding `Conv` layer has a ReLU activation function."
   ],
   "metadata": {}
  },
  {
   "cell_type": "markdown",
   "source": [
    "### Flattening the model\n",
    "ExplainableAI.jl's LRP implementation supports nested Flux Chains and Parallel layers.\n",
    "However, it is recommended to flatten the model before analyzing it.\n",
    "\n",
    "LRP is implemented by first running a forward pass through the model,\n",
    "keeping track of the intermediate activations, followed by a backward pass\n",
    "that computes the relevances.\n",
    "\n",
    "To keep the LRP implementation simple and maintainable,\n",
    "ExplainableAI.jl does not pre-compute \"nested\" activations.\n",
    "Instead, for every internal chain, a new forward pass is run to compute activations.\n",
    "\n",
    "By \"flattening\" a model, this overhead can be avoided.\n",
    "For this purpose, ExplainableAI.jl provides the function `flatten_model`:"
   ],
   "metadata": {}
  },
  {
   "outputs": [
    {
     "output_type": "execute_result",
     "data": {
      "text/plain": "Chain(\n  Conv((3, 3), 3 => 8, relu, pad=1),    \u001b[90m# 224 parameters\u001b[39m\n  Conv((3, 3), 8 => 8, relu, pad=1),    \u001b[90m# 584 parameters\u001b[39m\n  MaxPool((2, 2)),\n  Conv((3, 3), 8 => 16, pad=1),         \u001b[90m# 1_168 parameters\u001b[39m\n  BatchNorm(16, relu),                  \u001b[90m# 32 parameters\u001b[39m\u001b[90m, plus 32\u001b[39m\n  Conv((3, 3), 16 => 8, relu, pad=1),   \u001b[90m# 1_160 parameters\u001b[39m\n  BatchNorm(8, relu),                   \u001b[90m# 16 parameters\u001b[39m\u001b[90m, plus 16\u001b[39m\n  Flux.flatten,\n  Dense(2048 => 512, relu),             \u001b[90m# 1_049_088 parameters\u001b[39m\n  Dropout(0.5),\n  Dense(512 => 100),                    \u001b[90m# 51_300 parameters\u001b[39m\n) \u001b[90m        # Total: 16 trainable arrays, \u001b[39m1_103_572 parameters,\n\u001b[90m          # plus 4 non-trainable, 48 parameters, summarysize \u001b[39m4.212 MiB."
     },
     "metadata": {},
     "execution_count": 4
    }
   ],
   "cell_type": "code",
   "source": [
    "model_flat = flatten_model(model)"
   ],
   "metadata": {},
   "execution_count": 4
  },
  {
   "cell_type": "markdown",
   "source": [
    "This function is called by default when creating an LRP analyzer.\n",
    "Note that we pass the unflattened model to the analyzer, but `analyzer.model` is flattened:"
   ],
   "metadata": {}
  },
  {
   "outputs": [
    {
     "output_type": "execute_result",
     "data": {
      "text/plain": "Chain(\n  Conv((3, 3), 3 => 8, relu, pad=1),    \u001b[90m# 224 parameters\u001b[39m\n  Conv((3, 3), 8 => 8, relu, pad=1),    \u001b[90m# 584 parameters\u001b[39m\n  MaxPool((2, 2)),\n  Conv((3, 3), 8 => 16, pad=1),         \u001b[90m# 1_168 parameters\u001b[39m\n  BatchNorm(16, relu),                  \u001b[90m# 32 parameters\u001b[39m\u001b[90m, plus 32\u001b[39m\n  Conv((3, 3), 16 => 8, relu, pad=1),   \u001b[90m# 1_160 parameters\u001b[39m\n  BatchNorm(8, relu),                   \u001b[90m# 16 parameters\u001b[39m\u001b[90m, plus 16\u001b[39m\n  Flux.flatten,\n  Dense(2048 => 512, relu),             \u001b[90m# 1_049_088 parameters\u001b[39m\n  Dropout(0.5),\n  Dense(512 => 100),                    \u001b[90m# 51_300 parameters\u001b[39m\n) \u001b[90m        # Total: 16 trainable arrays, \u001b[39m1_103_572 parameters,\n\u001b[90m          # plus 4 non-trainable, 48 parameters, summarysize \u001b[39m4.212 MiB."
     },
     "metadata": {},
     "execution_count": 5
    }
   ],
   "cell_type": "code",
   "source": [
    "analyzer = LRP(model)\n",
    "analyzer.model"
   ],
   "metadata": {},
   "execution_count": 5
  },
  {
   "cell_type": "markdown",
   "source": [
    "If this flattening is not desired, it can be disabled\n",
    "by passing the keyword argument `flatten=false` to the `LRP` constructor."
   ],
   "metadata": {}
  },
  {
   "cell_type": "markdown",
   "source": [
    "## LRP rules\n",
    "By default, the `LRP` constructor will assign the `ZeroRule` to all layers."
   ],
   "metadata": {}
  },
  {
   "outputs": [
    {
     "output_type": "execute_result",
     "data": {
      "text/plain": "LRP(\n  Conv((3, 3), 3 => 8, relu, pad=1) \u001b[90m => \u001b[39m\u001b[33mZeroRule()\u001b[39m,\n  Conv((3, 3), 8 => 8, relu, pad=1) \u001b[90m => \u001b[39m\u001b[33mZeroRule()\u001b[39m,\n  MaxPool((2, 2))                   \u001b[90m => \u001b[39m\u001b[33mZeroRule()\u001b[39m,\n  Conv((3, 3), 8 => 16, pad=1)      \u001b[90m => \u001b[39m\u001b[33mZeroRule()\u001b[39m,\n  BatchNorm(16, relu)               \u001b[90m => \u001b[39m\u001b[33mZeroRule()\u001b[39m,\n  Conv((3, 3), 16 => 8, relu, pad=1)\u001b[90m => \u001b[39m\u001b[33mZeroRule()\u001b[39m,\n  BatchNorm(8, relu)                \u001b[90m => \u001b[39m\u001b[33mZeroRule()\u001b[39m,\n  Flux.flatten                      \u001b[90m => \u001b[39m\u001b[33mZeroRule()\u001b[39m,\n  Dense(2048 => 512, relu)          \u001b[90m => \u001b[39m\u001b[33mZeroRule()\u001b[39m,\n  Dropout(0.5)                      \u001b[90m => \u001b[39m\u001b[33mZeroRule()\u001b[39m,\n  Dense(512 => 100)                 \u001b[90m => \u001b[39m\u001b[33mZeroRule()\u001b[39m,\n)"
     },
     "metadata": {},
     "execution_count": 6
    }
   ],
   "cell_type": "code",
   "source": [
    "LRP(model)"
   ],
   "metadata": {},
   "execution_count": 6
  },
  {
   "cell_type": "markdown",
   "source": [
    "This analyzer will return heatmaps that look identical to `InputTimesGradient`."
   ],
   "metadata": {}
  },
  {
   "cell_type": "markdown",
   "source": [
    "LRP's strength lies in assigning different rules to different layers,\n",
    "based on their functionality in the neural network[^1].\n",
    "ExplainableAI.jl implements many LRP rules out of the box,\n",
    "but it is also possible to *implement custom rules*.\n",
    "\n",
    "To assign different rules to different layers,\n",
    "use one of the composites presets,\n",
    "or create your own composite, as described in\n",
    "*Assigning rules to layers*."
   ],
   "metadata": {}
  },
  {
   "outputs": [
    {
     "output_type": "execute_result",
     "data": {
      "text/plain": "Composite(\n  GlobalTypeMap(  \u001b[90m# all layers\u001b[39m\n\u001b[94m    Flux.Conv              \u001b[39m => \u001b[33mZPlusRule()\u001b[39m,\n\u001b[94m    Flux.ConvTranspose     \u001b[39m => \u001b[33mZPlusRule()\u001b[39m,\n\u001b[94m    Flux.CrossCor          \u001b[39m => \u001b[33mZPlusRule()\u001b[39m,\n\u001b[94m    Flux.Dense             \u001b[39m => \u001b[33mEpsilonRule{Float32}(1.0f-6)\u001b[39m,\n\u001b[94m    typeof(NNlib.dropout)  \u001b[39m => \u001b[33mPassRule()\u001b[39m,\n\u001b[94m    Flux.AlphaDropout      \u001b[39m => \u001b[33mPassRule()\u001b[39m,\n\u001b[94m    Flux.Dropout           \u001b[39m => \u001b[33mPassRule()\u001b[39m,\n\u001b[94m    Flux.BatchNorm         \u001b[39m => \u001b[33mPassRule()\u001b[39m,\n\u001b[94m    typeof(Flux.flatten)   \u001b[39m => \u001b[33mPassRule()\u001b[39m,\n\u001b[94m    typeof(MLUtils.flatten)\u001b[39m => \u001b[33mPassRule()\u001b[39m,\n\u001b[94m    typeof(identity)       \u001b[39m => \u001b[33mPassRule()\u001b[39m,\n ),\n  FirstLayerTypeMap(  \u001b[90m# first layer\u001b[39m\n\u001b[94m    Flux.Conv         \u001b[39m => \u001b[33mFlatRule()\u001b[39m,\n\u001b[94m    Flux.ConvTranspose\u001b[39m => \u001b[33mFlatRule()\u001b[39m,\n\u001b[94m    Flux.CrossCor     \u001b[39m => \u001b[33mFlatRule()\u001b[39m,\n ),\n)"
     },
     "metadata": {},
     "execution_count": 7
    }
   ],
   "cell_type": "code",
   "source": [
    "composite = EpsilonPlusFlat() # using composite preset EpsilonPlusFlat"
   ],
   "metadata": {},
   "execution_count": 7
  },
  {
   "outputs": [
    {
     "output_type": "execute_result",
     "data": {
      "text/plain": "LRP(\n  Conv((3, 3), 3 => 8, relu, pad=1) \u001b[90m => \u001b[39m\u001b[33mFlatRule()\u001b[39m,\n  Conv((3, 3), 8 => 8, relu, pad=1) \u001b[90m => \u001b[39m\u001b[33mZPlusRule()\u001b[39m,\n  MaxPool((2, 2))                   \u001b[90m => \u001b[39m\u001b[33mZeroRule()\u001b[39m,\n  Conv((3, 3), 8 => 16, pad=1)      \u001b[90m => \u001b[39m\u001b[33mZPlusRule()\u001b[39m,\n  BatchNorm(16, relu)               \u001b[90m => \u001b[39m\u001b[33mPassRule()\u001b[39m,\n  Conv((3, 3), 16 => 8, relu, pad=1)\u001b[90m => \u001b[39m\u001b[33mZPlusRule()\u001b[39m,\n  BatchNorm(8, relu)                \u001b[90m => \u001b[39m\u001b[33mPassRule()\u001b[39m,\n  Flux.flatten                      \u001b[90m => \u001b[39m\u001b[33mPassRule()\u001b[39m,\n  Dense(2048 => 512, relu)          \u001b[90m => \u001b[39m\u001b[33mEpsilonRule{Float32}(1.0f-6)\u001b[39m,\n  Dropout(0.5)                      \u001b[90m => \u001b[39m\u001b[33mPassRule()\u001b[39m,\n  Dense(512 => 100)                 \u001b[90m => \u001b[39m\u001b[33mEpsilonRule{Float32}(1.0f-6)\u001b[39m,\n)"
     },
     "metadata": {},
     "execution_count": 8
    }
   ],
   "cell_type": "code",
   "source": [
    "LRP(model, composite)"
   ],
   "metadata": {},
   "execution_count": 8
  },
  {
   "cell_type": "markdown",
   "source": [
    "## Computing layerwise relevances\n",
    "If you are interested in computing layerwise relevances,\n",
    "call `analyze` with an LRP analyzer and the keyword argument\n",
    "`layerwise_relevances=true`.\n",
    "\n",
    "The layerwise relevances can be accessed in the `extras` field\n",
    "of the returned `Explanation`:"
   ],
   "metadata": {}
  },
  {
   "outputs": [
    {
     "output_type": "execute_result",
     "data": {
      "text/plain": "([0.101352006 0.08404721 … 0.084439 -0.020312322; 0.038415063 -0.24405833 … -0.35390913 -0.010342795; … ; -0.12996945 -0.17323662 … 0.0025304973 0.19852929; 0.06900384 -0.0003769165 … -0.051127315 -0.122904524;;; 0.00081305084 -0.12185612 … 1.0021753 0.10200856; 0.002799964 0.025402097 … -0.0006192047 -0.13397454; … ; -0.15428928 0.18392345 … 0.16235808 0.10605463; -0.061921176 0.07462082 … -0.11452333 0.19477728;;; 0.0069911308 -0.056026474 … 0.17835775 -0.3183969; -0.0041201254 0.15084831 … 0.115696214 -0.18103322; … ; -0.04912099 -0.06471595 … 0.17150666 0.57199484; 0.03867066 0.04102584 … -0.23463766 0.0042005293;;;;], [0.01976723 0.030158946 … 0.072298236 0.018171135; 0.06491529 -0.0 … 0.0 0.0; … ; -0.013932913 0.073201224 … -0.0 0.034781713; 0.03800843 0.09550168 … 0.0043126843 -0.024426913;;; 0.0 -0.0 … 0.032781668 -0.0; -3.7907215f-5 -0.05927772 … -0.1411195 0.013731962; … ; -0.13217829 0.06686603 … -0.07185836 0.01370127; -0.0027160281 -0.0 … -0.0 0.0;;; 0.0054206084 0.009601256 … 0.012087362 0.061213236; 0.0 0.0 … 0.16744581 -0.3071067; … ; -0.0 -0.0029782155 … 0.034752768 0.011929441; -0.034707483 -0.00072316633 … -0.096359566 0.046147026;;; -0.0 0.05630476 … 0.018167812 0.012730851; -0.03967861 -0.020366995 … 0.074228995 -0.0; … ; 0.0033302298 -0.0 … 0.0 0.0; 0.0 -0.0 … -0.0 -0.0;;; 0.09056405 0.0523524 … 0.5121891 -0.30028817; -0.080907315 0.035164654 … -0.029554633 0.06819374; … ; -0.2639238 0.14873749 … -0.085635066 0.045184735; -0.013483977 -0.039479297 … 0.013128033 0.0;;; 0.0 0.0 … 0.0 -0.09675917; -0.057173647 0.0 … 0.0 -0.10447613; … ; -0.0 0.04150556 … -0.040489122 0.331504; -0.00020203386 0.0003902407 … 0.1811726 0.087195404;;; -0.0 -0.0 … -0.0 0.0; 0.025089659 -0.1266443 … -0.294284 0.15795216; … ; 0.0 0.0 … -0.15793397 -0.13389874; -0.01993043 0.022069516 … 0.012693569 0.059017554;;; -0.0 0.0 … 0.0 -0.0; -0.0019519794 0.0 … 0.0 -0.0; … ; -0.058450922 -0.0 … -0.0015810422 -0.0; 0.0013423363 0.0 … -0.0 0.0;;;;], [0.0 0.0 … 0.0 0.0; 0.035683203 0.0 … -0.0126467785 0.0; … ; 0.0 0.0 … 0.0 0.0; -0.025394553 0.0 … 0.11157661 0.0;;; -0.019745527 0.0 … 0.36357623 0.0; 0.0 0.0 … 0.0 0.0; … ; 0.0 -0.033613384 … -0.11528901 0.0; 0.0 0.0 … 0.0 0.0;;; 0.0 0.046391547 … 0.0024464764 0.0; 0.0 0.0 … 0.0 0.0; … ; 0.0 0.0 … 0.0 0.0; 0.0 0.0 … 0.0 0.0;;; -0.05431864 0.0 … 0.014531708 0.0; 0.0 0.0 … 0.0 0.0; … ; 0.0 0.0 … 0.09495348 0.0; 0.0 -0.06753957 … 0.0 0.0;;; 0.0 0.0 … 0.0 0.0; 0.0 0.0 … 0.0 0.0; … ; 0.0 0.0 … 0.0 0.0; 0.0 0.0 … 0.0 -0.0008215793;;; 0.0 0.0 … 0.0 -0.25156736; -0.44366392 0.0 … 0.0 0.0; … ; -0.30267796 0.0 … 0.0 0.0; 0.0 0.0 … 0.0 0.0;;; 0.0 0.07363601 … -0.11353984 0.0; 0.0 0.0 … 0.0 0.0; … ; 0.0 0.01814105 … 0.0 -0.19431053; 0.0 0.0 … 0.0 0.0;;; 0.0 0.0 … 1.0091729 0.0; 0.019289095 0.0 … 0.0 0.0; … ; 0.0 0.0 … 0.0 0.4007815; 0.10386843 0.0 … 0.0 0.0;;;;], [0.035683203 -0.0 … 0.0 -0.012646779; 0.14419037 0.050566655 … -0.0 -0.08059526; … ; -0.09285901 -0.0 … -0.0 0.003924971; -0.025394553 0.14398423 … 0.29127648 0.11157661;;; -0.019745527 -0.0811319 … -0.20289733 0.36357623; 0.1355754 0.18112113 … 0.2677195 -0.76269233; … ; 0.008411487 -0.36002263 … -0.35967508 0.00051360094; -0.033613384 -0.050501097 … 0.061476626 -0.11528901;;; 0.046391547 0.04197269 … 0.0 0.0024464764; 0.0 0.014166105 … 0.0 -0.12270079; … ; -0.0 -0.13352107 … -0.06255666 0.0; -0.0 0.0 … 0.0 -0.0;;; -0.05431864 -0.10099656 … -0.06511459 0.014531708; -0.0 -0.16415568 … -0.43498522 0.0; … ; 0.0 -0.0 … -0.022731949 -0.0022485477; -0.06753957 -0.1768347 … 0.02554609 0.09495348;;; 0.0 0.0 … 0.0 0.0; -0.033054143 0.0 … -0.0 0.0; … ; -0.10211182 0.0 … 0.0 0.0; 0.0 0.0 … -0.0 -0.0008215794;;; -0.44366392 -0.2967553 … -0.040390737 -0.25156736; -0.025984952 -0.0 … -0.727049 0.023195866; … ; -0.0 -0.0 … -0.48054045 -0.030161133; -0.30267796 -0.008061889 … -0.0 -0.0;;; 0.07363601 -0.025017431 … 0.5533185 -0.11353984; 0.13602804 -0.29486609 … -0.11860473 -0.75765127; … ; 0.063409895 0.1727023 … -0.08479155 -0.06630341; 0.01814105 0.0023336369 … 0.1006558 -0.19431053;;; 0.019289095 0.1576555 … -0.85241985 1.0091729; -0.29694048 -0.1468128 … -2.0906446 1.4774737; … ; -0.6323609 -0.25085586 … -1.2724493 0.08034562; 0.10386843 -0.0326648 … 0.30346003 0.4007815;;;;], [0.009709208 0.008595735 … -0.090849176 0.25869137; -0.044485085 -0.036267444 … -0.02781163 -0.018655274; … ; 0.0009228632 -0.043083187 … 0.003833862 0.07901368; -0.0025887527 0.015748445 … 0.006600663 -0.03561797;;; -0.0013805751 0.004761082 … 0.004074112 0.0039578252; -0.034066454 0.00039959635 … -0.007128847 -0.0007933082; … ; -0.059499543 -0.0015826644 … 0.0050643627 -0.0016135752; 0.0039280253 0.000527045 … -0.06305692 0.0056232493;;; -0.041548107 0.030887455 … 0.37859404 0.01122762; -0.05049591 -0.28054884 … -0.01764235 0.0008998624; … ; 0.008437497 -0.0073457463 … 0.022991363 0.01974061; -0.058671754 0.012093822 … -0.010488465 0.034257863;;; … ;;; 0.0004511047 -0.0016007916 … 0.00012120801 -0.0020048951; 0.00051370024 0.00025719832 … 0.00020466096 0.00040203574; … ; -4.2704352f-5 -0.00013366522 … -0.0008056697 0.00017605297; 0.0005042577 0.00033534257 … 0.0004493998 0.00043170206;;; -0.00016521479 0.001900047 … -0.00016227513 -0.00014616072; 0.00032568557 -0.00032581956 … -0.00022623372 -0.00034040687; … ; 0.0018950464 -0.00015747103 … -0.00023745473 -0.00031352497; -0.00033867877 -0.00029663226 … -3.8046288f-5 -0.00028591815;;; 6.618483f-5 0.00011547804 … 0.00010899425 9.643488f-5; 0.00010814228 0.0001166322 … 8.974549f-5 0.00011509621; … ; 2.8026509f-5 0.00034010335 … 0.0001154845 8.954057f-5; 0.0014085935 0.0007327312 … 3.4101075f-5 -0.0022355635;;;;], [0.004431015 -0.0 … -0.026601778 0.033339698; -0.018482301 -0.007828473 … -0.004427599 -0.0016692546; … ; 0.0070042587 -0.021406937 … 0.0 0.015071583; -0.0032110196 0.019674646 … 0.019154686 -0.016183477;;; 0.0018831699 -0.0 … -0.0 -0.0; -0.012788297 -0.0 … 0.002647566 -0.0047057914; … ; -0.019259874 0.00070191757 … -0.0 0.0014183779; -0.0 7.612136f-5 … -0.035473004 0.017986936;;; -0.0041037668 0.008663113 … 0.0989791 0.0; -0.0008563348 -0.016083496 … -0.016256278 -0.0; … ; 0.0 -0.0011430997 … 0.0 -0.0; -0.007265034 -0.0 … 3.4374443f-5 0.0;;; … ;;; -0.0 -0.0048907874 … 0.0 -0.014629119; 0.0 0.0 … -0.0 0.0; … ; 0.0014203553 0.0 … 0.0 -0.0; 0.0 -0.0 … -0.0 0.0;;; 0.0 0.0 … 0.0 -0.0; -0.0 -0.0 … 0.0 -0.0; … ; 0.0 0.0 … -0.0 0.0; -0.0 0.0 … 0.0 -0.0;;; 0.0 -0.0 … -0.0 -0.0; 0.0 0.0 … -0.0 -0.0; … ; -0.0 0.0019304309 … -0.0 0.0; 0.004661036 0.004100054 … -0.0 -0.007921527;;;;], [-2.3795762f-6 -0.0 … -1.6146367f-5 -0.0; -9.585373f-6 0.04452134 … -0.0 -0.036823187; … ; -2.4774965f-5 -0.010723271 … -0.0 -2.0844249f-5; -0.0 -2.4620147f-5 … -1.860524f-5 -0.0;;; 0.00025812167 -0.0 … -0.0 -9.663669f-5; -0.0 0.00010906647 … -0.0024781998 -0.0; … ; -0.0 -0.0 … -0.004861651 -0.01121102; -0.0 -0.0 … -0.0 -0.0;;; 0.004268692 -0.0 … -0.0 -0.0; 0.0039944584 -0.0 … -0.0 -0.0; … ; -0.0 -0.0 … -0.0 -0.0; -0.0 -0.0 … -0.0 -0.005694991;;; -0.0 -0.0 … -0.0 -0.00038616126; -0.0 -0.0 … -0.0 -0.011807847; … ; -0.0 -0.0 … -0.0 0.0013325341; -0.0033361483 -0.0030958576 … -0.0 -0.0;;; -0.00064141484 -0.0015356884 … -0.00089260616 -0.69699824; -0.0 -0.0 … -0.11714052 -0.30392644; … ; -0.0 -0.0048852274 … -0.006348455 0.0032387949; -0.004617124 -0.0 … -0.0 -4.0068655f-5;;; -0.0 -0.0 … -0.0 -0.0; -0.0 -0.0 … -0.0 -0.0; … ; 0.025455074 -0.0065539316 … -0.0 -0.0; -0.012456045 -0.008509448 … -0.0 -0.0;;; -0.005987614 -0.021417364 … -0.0039063785 -0.0008576012; 0.008170575 -0.004427222 … -0.0 -0.00022472779; … ; 0.123671725 -0.0028937433 … -0.0 -0.0; 0.079443075 -0.070797324 … -0.0037397584 -0.0002535585;;; -0.0002643307 -0.0038386788 … -0.0067348015 -0.02031573; -0.0 0.006880458 … -0.0 -0.00018072348; … ; -0.0 -0.012914452 … -0.0 -0.0; -0.0 -0.0 … 0.010338817 -0.035375763;;;;], [-4.9183902f-5 -0.0 … -0.00012430681 0.0; 0.00030312492 0.003624569 … -0.0 -0.012280533; … ; -0.0019579253 -0.0039326004 … -0.0 0.005104334; -0.0 -0.002498735 … -0.004780985 -0.0;;; 0.00044128424 -0.0 … -0.0 0.0014494021; -0.0 0.002591395 … -0.0010855093 -0.0; … ; 0.0 -0.0 … -0.0030698555 -0.008252974; 0.0 0.0 … 0.0 0.0;;; 0.004432685 0.0 … -0.0 0.0; 0.004343508 -0.0 … -0.0 -0.0; … ; 0.0 0.0 … -0.0 -0.0; 0.0 0.0 … -0.0 -0.0054230215;;; 0.0 -0.0 … 0.0 -0.00060735445; -0.0 0.0 … 0.0 -0.010935728; … ; 0.0 -0.0 … -0.0 0.0010000007; -0.0037317656 -0.003087543 … -0.0 -0.0;;; 0.0018436728 0.001593606 … -0.00038388805 -0.013677334; -0.0 -0.0 … -0.020758323 -0.014676932; … ; 0.0 0.010281717 … 0.0007659983 0.0049494137; 0.013164408 0.0 … -0.0 0.00039892882;;; -0.0 -0.0 … 0.0 -0.0; -0.0 0.0 … -0.0 0.0; … ; 0.014130532 -0.0029616838 … 0.0 0.0; -0.0050878734 -0.0067815236 … 0.0 0.0;;; -0.00850921 -0.0014499129 … -0.00835736 0.0012897516; 0.01019426 -0.002413879 … 0.0 -0.00049706077; … ; 0.04411026 0.0005631378 … -0.0 -0.0; 0.021040605 -0.017386252 … -0.00078052114 0.00015403311;;; 0.0010217591 -0.0013754844 … -0.0030478872 -0.009606805; -0.0 0.0049817087 … -0.0 0.00030909266; … ; 0.0 -0.004330678 … 0.0 -0.0; -0.0 0.0 … 0.007734986 -0.005868071;;;;], Float32[-4.9183902f-5; 0.00030312492; … ; -0.0; -0.005868071;;], Float32[-0.0007490344; 0.0026428616; … ; -0.003920772; -0.0;;], Float32[-0.0007490344; 0.0026428616; … ; -0.003920772; -0.0;;], Float32[0.0; 0.0; … ; 0.0; 0.0;;])"
     },
     "metadata": {},
     "execution_count": 9
    }
   ],
   "cell_type": "code",
   "source": [
    "input = rand(Float32, 32, 32, 3, 1) # dummy input for our convolutional neural network\n",
    "\n",
    "expl = analyze(input, analyzer; layerwise_relevances=true)\n",
    "expl.extras.layerwise_relevances"
   ],
   "metadata": {},
   "execution_count": 9
  },
  {
   "cell_type": "markdown",
   "source": [
    "Note that the layerwise relevances are only kept for layers in the outermost `Chain` of the model.\n",
    "When using our unflattened model, we only obtain three layerwise relevances,\n",
    "one for each chain in the model and the output relevance:"
   ],
   "metadata": {}
  },
  {
   "outputs": [
    {
     "output_type": "execute_result",
     "data": {
      "text/plain": "([-0.22546226 -0.23811571 … -1.2311776 0.44166943; 0.03752229 0.31591773 … 4.0541215 0.0013686328; … ; -0.014399196 0.019072302 … -0.3425465 -0.18091646; -0.005907565 0.001080762 … -0.027462311 0.018168207;;; -0.5687167 -0.09255184 … -2.812683 -1.1101629; -0.017899934 0.032068267 … -0.16995594 0.8107155; … ; -0.11212895 0.11370023 … 0.42980224 0.17990892; 0.20993893 -0.2714621 … -0.018410696 -0.05340331;;; -0.014842189 0.6191282 … -0.28292468 1.2413243; 0.08075072 0.14858653 … -1.5270015 -0.67061514; … ; -0.08456087 0.080396086 … 0.16144621 0.22507186; 0.14303587 -0.09085678 … 0.02504367 -0.080850124;;;;], [0.0 0.0 … -0.00016621286 -0.0; 0.0 0.001712325 … 0.0 -0.031799354; … ; 0.0006735676 -0.0027933142 … -0.0 -0.0011707321; -0.0 -0.00047021278 … -0.0038955275 -0.0;;; 0.0042906636 0.0 … -0.0 -0.0003721081; -0.0 0.009696158 … -0.020169362 -0.0; … ; -0.0 0.0 … -0.009169434 -0.0029041125; 0.0 -0.0 … -0.0 -0.0;;; 0.006066621 0.0 … -0.0 0.0; 0.010284748 -0.0 … 0.0 -0.0; … ; -0.0 0.0 … -0.0 -0.0; 0.0 -0.0 … -0.0 -0.0018773978;;; -0.0 0.0002717001 … -0.0 0.006792905; 0.0 -0.0 … 0.0 -0.0011823328; … ; -0.0 0.0 … -0.0 0.01809481; 0.016344663 0.015882306 … -0.0 0.0;;; -0.00014934479 0.0010957435 … -0.0003069507 -0.013908871; 0.0 -0.0 … -0.012983947 0.029729912; … ; -0.0 0.018626079 … 0.0075545884 0.021051578; -0.002223431 0.0 … 0.0 -0.0;;; 0.0 -0.0 … -0.0 -0.0; 0.0 0.0 … -0.0 0.0; … ; 0.002659416 -0.004288269 … -0.0 -0.0; -0.0005880576 0.0017651487 … 0.0 -0.0;;; -0.0106635345 0.012420662 … 0.0010799607 -4.3512337f-5; 0.009992845 0.0021842362 … -0.0 -0.0; … ; 0.022541769 0.0027720064 … -0.0 0.0; -0.013396692 -0.04651974 … -0.007902407 -0.0;;; -6.328199f-5 0.0024778557 … 0.007396255 0.00040996063; -0.0 -0.0032526804 … -0.0 -0.0; … ; 0.0 0.0070756627 … -0.0 -0.0; -0.0 -0.0 … 0.026036534 0.0009684796;;;;], Float32[0.0; 0.0; … ; 0.0; 0.0;;])"
     },
     "metadata": {},
     "execution_count": 10
    }
   ],
   "cell_type": "code",
   "source": [
    "analyzer = LRP(model; flatten=false) # use unflattened model\n",
    "\n",
    "expl = analyze(input, analyzer; layerwise_relevances=true)\n",
    "expl.extras.layerwise_relevances"
   ],
   "metadata": {},
   "execution_count": 10
  },
  {
   "cell_type": "markdown",
   "source": [
    "## Performance tips\n",
    "### Using LRP with a GPU\n",
    "Like all other analyzers, LRP can be used on GPUs.\n",
    "Follow the instructions on *GPU support*.\n",
    "\n",
    "### Using LRP without a GPU\n",
    "Using Julia's package extension mechanism,\n",
    "ExplainableAI.jl's LRP implementation can optionally make use of\n",
    "[Tullio.jl](https://github.com/mcabbott/Tullio.jl) and\n",
    "[LoopVectorization.jl](https://github.com/JuliaSIMD/LoopVectorization.jl)\n",
    "for faster LRP rules on dense layers.\n",
    "\n",
    "This only requires loading the packages before loading ExplainableAI.jl:\n",
    "```julia\n",
    "using LoopVectorization, Tullio\n",
    "using ExplainableAI\n",
    "```\n",
    "\n",
    "[^1]: G. Montavon et al., [Layer-Wise Relevance Propagation: An Overview](https://link.springer.com/chapter/10.1007/978-3-030-28954-6_10)"
   ],
   "metadata": {}
  },
  {
   "cell_type": "markdown",
   "source": [
    "---\n",
    "\n",
    "*This notebook was generated using [Literate.jl](https://github.com/fredrikekre/Literate.jl).*"
   ],
   "metadata": {}
  }
 ],
 "nbformat_minor": 3,
 "metadata": {
  "language_info": {
   "file_extension": ".jl",
   "mimetype": "application/julia",
   "name": "julia",
   "version": "1.9.3"
  },
  "kernelspec": {
   "name": "julia-1.9",
   "display_name": "Julia 1.9.3",
   "language": "julia"
  }
 },
 "nbformat": 4
}
