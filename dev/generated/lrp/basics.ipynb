{
 "cells": [
  {
   "cell_type": "markdown",
   "source": [
    "# Basic usage of LRP\n",
    "This example will show you best practices for using LRP,\n",
    "building on the basics shown in the *Getting started* section."
   ],
   "metadata": {}
  },
  {
   "cell_type": "markdown",
   "source": [
    "We start out by loading a small convolutional neural network:"
   ],
   "metadata": {}
  },
  {
   "outputs": [],
   "cell_type": "code",
   "source": [
    "using ExplainableAI\n",
    "using Flux\n",
    "\n",
    "model = Chain(\n",
    "    Chain(\n",
    "        Conv((3, 3), 3 => 8, relu; pad=1),\n",
    "        Conv((3, 3), 8 => 8, relu; pad=1),\n",
    "        MaxPool((2, 2)),\n",
    "        Conv((3, 3), 8 => 16; pad=1),\n",
    "        BatchNorm(16, relu),\n",
    "        Conv((3, 3), 16 => 8, relu; pad=1),\n",
    "        BatchNorm(8, relu),\n",
    "    ),\n",
    "    Chain(\n",
    "        Flux.flatten,\n",
    "        Dense(2048 => 512, relu),\n",
    "        Dropout(0.5),\n",
    "        Dense(512 => 100, softmax)\n",
    "    ),\n",
    ");"
   ],
   "metadata": {},
   "execution_count": 1
  },
  {
   "cell_type": "markdown",
   "source": [
    "This model contains two chains: the convolutional layers and the fully connected layers."
   ],
   "metadata": {}
  },
  {
   "cell_type": "markdown",
   "source": [
    "## Model preparation\n",
    "### Stripping the output softmax\n",
    "When using LRP, it is recommended to explain output logits instead of probabilities.\n",
    "This can be done by stripping the output softmax activation from the model\n",
    "using the `strip_softmax` function:"
   ],
   "metadata": {}
  },
  {
   "outputs": [
    {
     "output_type": "execute_result",
     "data": {
      "text/plain": "Chain(\n  Chain(\n    Conv((3, 3), 3 => 8, relu, pad=1),  \u001b[90m# 224 parameters\u001b[39m\n    Conv((3, 3), 8 => 8, relu, pad=1),  \u001b[90m# 584 parameters\u001b[39m\n    MaxPool((2, 2)),\n    Conv((3, 3), 8 => 16, pad=1),       \u001b[90m# 1_168 parameters\u001b[39m\n    BatchNorm(16, relu),                \u001b[90m# 32 parameters\u001b[39m\u001b[90m, plus 32\u001b[39m\n    Conv((3, 3), 16 => 8, relu, pad=1),  \u001b[90m# 1_160 parameters\u001b[39m\n    BatchNorm(8, relu),                 \u001b[90m# 16 parameters\u001b[39m\u001b[90m, plus 16\u001b[39m\n  ),\n  Chain(\n    Flux.flatten,\n    Dense(2048 => 512, relu),           \u001b[90m# 1_049_088 parameters\u001b[39m\n    Dropout(0.5),\n    Dense(512 => 100),                  \u001b[90m# 51_300 parameters\u001b[39m\n  ),\n) \u001b[90m        # Total: 16 trainable arrays, \u001b[39m1_103_572 parameters,\n\u001b[90m          # plus 4 non-trainable, 48 parameters, summarysize \u001b[39m4.213 MiB."
     },
     "metadata": {},
     "execution_count": 2
    }
   ],
   "cell_type": "code",
   "source": [
    "model = strip_softmax(model)"
   ],
   "metadata": {},
   "execution_count": 2
  },
  {
   "cell_type": "markdown",
   "source": [
    "If you don't remove the output softmax,\n",
    "model checks will fail."
   ],
   "metadata": {}
  },
  {
   "cell_type": "markdown",
   "source": [
    "### Canonizing the model\n",
    "LRP is not invariant to a model's implementation.\n",
    "Applying the `GammaRule` to two linear layers in a row will yield different results\n",
    "than first fusing the two layers into one linear layer and then applying the rule.\n",
    "This fusing is called \"canonization\" and can be done using the `canonize` function:"
   ],
   "metadata": {}
  },
  {
   "outputs": [
    {
     "output_type": "execute_result",
     "data": {
      "text/plain": "Chain(\n  Conv((3, 3), 3 => 8, relu, pad=1),    \u001b[90m# 224 parameters\u001b[39m\n  Conv((3, 3), 8 => 8, relu, pad=1),    \u001b[90m# 584 parameters\u001b[39m\n  MaxPool((2, 2)),\n  Conv((3, 3), 8 => 16, relu, pad=1),   \u001b[90m# 1_168 parameters\u001b[39m\n  Conv((3, 3), 16 => 8, relu, pad=1),   \u001b[90m# 1_160 parameters\u001b[39m\n  BatchNorm(8, relu),                   \u001b[90m# 16 parameters\u001b[39m\u001b[90m, plus 16\u001b[39m\n  Flux.flatten,\n  Dense(2048 => 512, relu),             \u001b[90m# 1_049_088 parameters\u001b[39m\n  Dropout(0.5),\n  Dense(512 => 100),                    \u001b[90m# 51_300 parameters\u001b[39m\n) \u001b[90m        # Total: 14 trainable arrays, \u001b[39m1_103_540 parameters,\n\u001b[90m          # plus 2 non-trainable, 16 parameters, summarysize \u001b[39m4.212 MiB."
     },
     "metadata": {},
     "execution_count": 3
    }
   ],
   "cell_type": "code",
   "source": [
    "model_canonized = canonize(model)"
   ],
   "metadata": {},
   "execution_count": 3
  },
  {
   "cell_type": "markdown",
   "source": [
    "After canonization, the first `BatchNorm` layer has been fused into the preceding `Conv` layer.\n",
    "The second `BatchNorm` layer wasn't fused\n",
    "since its preceding `Conv` layer has a ReLU activation function."
   ],
   "metadata": {}
  },
  {
   "cell_type": "markdown",
   "source": [
    "### Flattening the model\n",
    "ExplainableAI.jl's LRP implementation supports nested Flux Chains and Parallel layers.\n",
    "However, it is recommended to flatten the model before analyzing it.\n",
    "\n",
    "LRP is implemented by first running a forward pass through the model,\n",
    "keeping track of the intermediate activations, followed by a backward pass\n",
    "that computes the relevances.\n",
    "\n",
    "To keep the LRP implementation simple and maintainable,\n",
    "ExplainableAI.jl does not pre-compute \"nested\" activations.\n",
    "Instead, for every internal chain, a new forward pass is run to compute activations.\n",
    "\n",
    "By \"flattening\" a model, this overhead can be avoided.\n",
    "For this purpose, ExplainableAI.jl provides the function `flatten_model`:"
   ],
   "metadata": {}
  },
  {
   "outputs": [
    {
     "output_type": "execute_result",
     "data": {
      "text/plain": "Chain(\n  Conv((3, 3), 3 => 8, relu, pad=1),    \u001b[90m# 224 parameters\u001b[39m\n  Conv((3, 3), 8 => 8, relu, pad=1),    \u001b[90m# 584 parameters\u001b[39m\n  MaxPool((2, 2)),\n  Conv((3, 3), 8 => 16, pad=1),         \u001b[90m# 1_168 parameters\u001b[39m\n  BatchNorm(16, relu),                  \u001b[90m# 32 parameters\u001b[39m\u001b[90m, plus 32\u001b[39m\n  Conv((3, 3), 16 => 8, relu, pad=1),   \u001b[90m# 1_160 parameters\u001b[39m\n  BatchNorm(8, relu),                   \u001b[90m# 16 parameters\u001b[39m\u001b[90m, plus 16\u001b[39m\n  Flux.flatten,\n  Dense(2048 => 512, relu),             \u001b[90m# 1_049_088 parameters\u001b[39m\n  Dropout(0.5),\n  Dense(512 => 100),                    \u001b[90m# 51_300 parameters\u001b[39m\n) \u001b[90m        # Total: 16 trainable arrays, \u001b[39m1_103_572 parameters,\n\u001b[90m          # plus 4 non-trainable, 48 parameters, summarysize \u001b[39m4.212 MiB."
     },
     "metadata": {},
     "execution_count": 4
    }
   ],
   "cell_type": "code",
   "source": [
    "model_flat = flatten_model(model)"
   ],
   "metadata": {},
   "execution_count": 4
  },
  {
   "cell_type": "markdown",
   "source": [
    "This function is called by default when creating an LRP analyzer.\n",
    "Note that we pass the unflattened model to the analyzer, but `analyzer.model` is flattened:"
   ],
   "metadata": {}
  },
  {
   "outputs": [
    {
     "output_type": "execute_result",
     "data": {
      "text/plain": "Chain(\n  Conv((3, 3), 3 => 8, relu, pad=1),    \u001b[90m# 224 parameters\u001b[39m\n  Conv((3, 3), 8 => 8, relu, pad=1),    \u001b[90m# 584 parameters\u001b[39m\n  MaxPool((2, 2)),\n  Conv((3, 3), 8 => 16, pad=1),         \u001b[90m# 1_168 parameters\u001b[39m\n  BatchNorm(16, relu),                  \u001b[90m# 32 parameters\u001b[39m\u001b[90m, plus 32\u001b[39m\n  Conv((3, 3), 16 => 8, relu, pad=1),   \u001b[90m# 1_160 parameters\u001b[39m\n  BatchNorm(8, relu),                   \u001b[90m# 16 parameters\u001b[39m\u001b[90m, plus 16\u001b[39m\n  Flux.flatten,\n  Dense(2048 => 512, relu),             \u001b[90m# 1_049_088 parameters\u001b[39m\n  Dropout(0.5),\n  Dense(512 => 100),                    \u001b[90m# 51_300 parameters\u001b[39m\n) \u001b[90m        # Total: 16 trainable arrays, \u001b[39m1_103_572 parameters,\n\u001b[90m          # plus 4 non-trainable, 48 parameters, summarysize \u001b[39m4.212 MiB."
     },
     "metadata": {},
     "execution_count": 5
    }
   ],
   "cell_type": "code",
   "source": [
    "analyzer = LRP(model)\n",
    "analyzer.model"
   ],
   "metadata": {},
   "execution_count": 5
  },
  {
   "cell_type": "markdown",
   "source": [
    "If this flattening is not desired, it can be disabled\n",
    "by passing the keyword argument `flatten=false` to the `LRP` constructor."
   ],
   "metadata": {}
  },
  {
   "cell_type": "markdown",
   "source": [
    "## LRP rules\n",
    "By default, the `LRP` constructor will assign the `ZeroRule` to all layers."
   ],
   "metadata": {}
  },
  {
   "outputs": [
    {
     "output_type": "execute_result",
     "data": {
      "text/plain": "LRP(\n  Conv((3, 3), 3 => 8, relu, pad=1) \u001b[90m => \u001b[39m\u001b[33mZeroRule()\u001b[39m,\n  Conv((3, 3), 8 => 8, relu, pad=1) \u001b[90m => \u001b[39m\u001b[33mZeroRule()\u001b[39m,\n  MaxPool((2, 2))                   \u001b[90m => \u001b[39m\u001b[33mZeroRule()\u001b[39m,\n  Conv((3, 3), 8 => 16, pad=1)      \u001b[90m => \u001b[39m\u001b[33mZeroRule()\u001b[39m,\n  BatchNorm(16, relu)               \u001b[90m => \u001b[39m\u001b[33mZeroRule()\u001b[39m,\n  Conv((3, 3), 16 => 8, relu, pad=1)\u001b[90m => \u001b[39m\u001b[33mZeroRule()\u001b[39m,\n  BatchNorm(8, relu)                \u001b[90m => \u001b[39m\u001b[33mZeroRule()\u001b[39m,\n  Flux.flatten                      \u001b[90m => \u001b[39m\u001b[33mZeroRule()\u001b[39m,\n  Dense(2048 => 512, relu)          \u001b[90m => \u001b[39m\u001b[33mZeroRule()\u001b[39m,\n  Dropout(0.5)                      \u001b[90m => \u001b[39m\u001b[33mZeroRule()\u001b[39m,\n  Dense(512 => 100)                 \u001b[90m => \u001b[39m\u001b[33mZeroRule()\u001b[39m,\n)"
     },
     "metadata": {},
     "execution_count": 6
    }
   ],
   "cell_type": "code",
   "source": [
    "LRP(model)"
   ],
   "metadata": {},
   "execution_count": 6
  },
  {
   "cell_type": "markdown",
   "source": [
    "This analyzer will return heatmaps that look identical to `InputTimesGradient`."
   ],
   "metadata": {}
  },
  {
   "cell_type": "markdown",
   "source": [
    "LRP's strength lies in assigning different rules to different layers,\n",
    "based on their functionality in the neural network[^1].\n",
    "ExplainableAI.jl implements many LRP rules out of the box,\n",
    "but it is also possible to *implement custom rules*.\n",
    "\n",
    "To assign different rules to different layers,\n",
    "use one of the composites presets,\n",
    "or create your own composite, as described in\n",
    "*Assigning rules to layers*."
   ],
   "metadata": {}
  },
  {
   "outputs": [
    {
     "output_type": "execute_result",
     "data": {
      "text/plain": "Composite(\n  GlobalTypeMap(  \u001b[90m# all layers\u001b[39m\n\u001b[94m    Flux.Conv              \u001b[39m => \u001b[33mZPlusRule()\u001b[39m,\n\u001b[94m    Flux.ConvTranspose     \u001b[39m => \u001b[33mZPlusRule()\u001b[39m,\n\u001b[94m    Flux.CrossCor          \u001b[39m => \u001b[33mZPlusRule()\u001b[39m,\n\u001b[94m    Flux.Dense             \u001b[39m => \u001b[33mEpsilonRule{Float32}(1.0f-6)\u001b[39m,\n\u001b[94m    typeof(NNlib.dropout)  \u001b[39m => \u001b[33mPassRule()\u001b[39m,\n\u001b[94m    Flux.AlphaDropout      \u001b[39m => \u001b[33mPassRule()\u001b[39m,\n\u001b[94m    Flux.Dropout           \u001b[39m => \u001b[33mPassRule()\u001b[39m,\n\u001b[94m    Flux.BatchNorm         \u001b[39m => \u001b[33mPassRule()\u001b[39m,\n\u001b[94m    typeof(Flux.flatten)   \u001b[39m => \u001b[33mPassRule()\u001b[39m,\n\u001b[94m    typeof(MLUtils.flatten)\u001b[39m => \u001b[33mPassRule()\u001b[39m,\n\u001b[94m    typeof(identity)       \u001b[39m => \u001b[33mPassRule()\u001b[39m,\n ),\n  FirstLayerTypeMap(  \u001b[90m# first layer\u001b[39m\n\u001b[94m    Flux.Conv         \u001b[39m => \u001b[33mFlatRule()\u001b[39m,\n\u001b[94m    Flux.ConvTranspose\u001b[39m => \u001b[33mFlatRule()\u001b[39m,\n\u001b[94m    Flux.CrossCor     \u001b[39m => \u001b[33mFlatRule()\u001b[39m,\n ),\n)"
     },
     "metadata": {},
     "execution_count": 7
    }
   ],
   "cell_type": "code",
   "source": [
    "composite = EpsilonPlusFlat() # using composite preset EpsilonPlusFlat"
   ],
   "metadata": {},
   "execution_count": 7
  },
  {
   "outputs": [
    {
     "output_type": "execute_result",
     "data": {
      "text/plain": "LRP(\n  Conv((3, 3), 3 => 8, relu, pad=1) \u001b[90m => \u001b[39m\u001b[33mFlatRule()\u001b[39m,\n  Conv((3, 3), 8 => 8, relu, pad=1) \u001b[90m => \u001b[39m\u001b[33mZPlusRule()\u001b[39m,\n  MaxPool((2, 2))                   \u001b[90m => \u001b[39m\u001b[33mZeroRule()\u001b[39m,\n  Conv((3, 3), 8 => 16, pad=1)      \u001b[90m => \u001b[39m\u001b[33mZPlusRule()\u001b[39m,\n  BatchNorm(16, relu)               \u001b[90m => \u001b[39m\u001b[33mPassRule()\u001b[39m,\n  Conv((3, 3), 16 => 8, relu, pad=1)\u001b[90m => \u001b[39m\u001b[33mZPlusRule()\u001b[39m,\n  BatchNorm(8, relu)                \u001b[90m => \u001b[39m\u001b[33mPassRule()\u001b[39m,\n  Flux.flatten                      \u001b[90m => \u001b[39m\u001b[33mPassRule()\u001b[39m,\n  Dense(2048 => 512, relu)          \u001b[90m => \u001b[39m\u001b[33mEpsilonRule{Float32}(1.0f-6)\u001b[39m,\n  Dropout(0.5)                      \u001b[90m => \u001b[39m\u001b[33mPassRule()\u001b[39m,\n  Dense(512 => 100)                 \u001b[90m => \u001b[39m\u001b[33mEpsilonRule{Float32}(1.0f-6)\u001b[39m,\n)"
     },
     "metadata": {},
     "execution_count": 8
    }
   ],
   "cell_type": "code",
   "source": [
    "LRP(model, composite)"
   ],
   "metadata": {},
   "execution_count": 8
  },
  {
   "cell_type": "markdown",
   "source": [
    "## Computing layerwise relevances\n",
    "If you are interested in computing layerwise relevances,\n",
    "call `analyze` with an LRP analyzer and the keyword argument\n",
    "`layerwise_relevances=true`.\n",
    "\n",
    "The layerwise relevances can be accessed in the `extras` field\n",
    "of the returned `Explanation`:"
   ],
   "metadata": {}
  },
  {
   "outputs": [
    {
     "output_type": "execute_result",
     "data": {
      "text/plain": "([-1.2279272 -0.01593763 … 6.8065243 3.0838943; -0.39655244 6.4490275 … 3.444908 6.960044; … ; 1.5130652 0.9507945 … 1.4804529 6.1802626; -0.47987688 -0.0063529736 … -0.09383337 2.7808938;;; 2.944853 -0.49206963 … -1.755011 0.39944094; -0.20538491 12.566735 … -1.7316264 -0.044861976; … ; -9.9127 7.588578 … -0.65394247 2.3920128; -1.6008736 -17.012983 … 2.2011616 -2.187281;;; 3.1979015 2.0429182 … 0.7837402 8.703724; -0.68962806 3.6405432 … 6.4189014 -2.8222125; … ; 0.21594363 13.973372 … 1.2308542 -2.033958; 5.9130583 1.6259618 … 0.4734284 0.66135037;;;;], [-1.0228313 -0.0 … 22.505596 0.5082328; 6.341535 16.312164 … 7.739009 3.589345; … ; 2.1665885 -1.400544 … -3.5716176 -0.72320575; 1.0731244 2.385835 … 2.2292416 -0.0;;; 0.0 1.5187362 … 0.0 -0.0; 2.7527661 0.0 … 0.5333076 1.076727; … ; 0.0 0.0 … 3.4143658 -0.21035367; -0.7971986 2.6240277 … 0.0 0.0;;; -0.0 0.0 … -0.0 0.0; -0.5633116 -0.0 … 0.0 0.0; … ; 0.0 0.0 … 0.0 0.0; -0.0 0.0 … 0.0 0.0;;; -0.5333073 -0.0 … -0.0 0.09741504; 1.9869602 2.9853208 … -5.2798066 -0.0; … ; -0.0 13.538646 … -1.6242111 -0.0; -0.0 0.0 … -0.0 0.0;;; 0.0 0.0 … 0.0 0.0; -0.0 -0.0 … 0.0 0.0; … ; -0.9209353 -0.0 … -0.0 0.0; -0.0 0.0 … -0.0 0.0;;; -1.5925032 -0.0 … 0.092717126 1.0790402; -0.16389503 -3.684391 … -0.43136832 2.6429293; … ; -0.84007794 0.9527502 … 2.4548929 2.7282953; -1.3574866 5.668025 … 0.6992288 1.8972636;;; 1.2347311 -0.0 … -0.0 -0.16961479; -0.5912821 -0.0 … -0.0 0.0; … ; -5.906127 0.0 … -0.0 -0.0; 0.6307418 -0.0 … -0.0 0.0;;; -0.0 -0.0 … -0.0 -1.345296; -0.0 -0.0 … -0.0 -0.3724435; … ; 0.0 -0.0 … -0.0 -2.7917457; -0.0 0.0 … 0.0 -0.15161756;;;;], [2.079346 0.0 … 0.0 0.0; 0.0 0.0 … 0.0 -2.6397755; … ; 0.0 0.39683965 … -1.9747149 0.0; 0.0 0.0 … 0.0 0.0;;; 0.0 -0.50035924 … 0.0 0.0; 0.0 0.0 … 0.0 1.1828375; … ; 3.5307815 0.0 … 0.0 0.0; 0.0 0.0 … 3.0287225 0.0;;; 0.0 -0.8135534 … 0.0 0.0; 0.0 0.0 … 0.41726282 0.0; … ; 0.0 1.4184134 … -0.2058008 0.0; 0.0 0.0 … 0.0 0.0;;; 0.0 0.0 … 9.220492 0.0; 0.0 24.07777 … 0.0 0.0; … ; 3.7295616 0.0 … 3.0198274 0.0; 0.0 0.0 … 0.0 0.0;;; 0.0 0.0 … 0.0 0.0; 0.0 -1.0045073 … -3.3505173 0.0; … ; -1.3731441 0.0 … -2.541542 0.0; 0.0 0.0 … 0.0 0.0;;; 0.0 0.0 … 0.0 1.5062877; 3.130678 0.0 … 0.0 0.0; … ; -0.1536723 0.0 … -0.6579286 0.0; 0.0 0.0 … 0.0 0.0;;; 0.0 0.0 … 0.0 0.0; 0.0 2.213429 … 1.7584264 0.0; … ; 0.0 0.0 … 0.0 0.0; 0.0 3.1338754 … 2.8367867 0.0;;; 0.0 0.0 … 2.6746545 0.0; 6.092906 0.0 … 0.0 0.0; … ; 2.4451852 0.0 … 0.0 1.8772287; 0.0 0.0 … 0.0 0.0;;;;], [2.079346 1.643621 … 6.6101813 -2.6397755; 2.8535554 3.2696238 … 2.8560467 -3.5886288; … ; 1.3138741 1.4836168 … 4.4263453 -4.555587; 0.39683968 3.551619 … 2.7686183 -1.9747149;;; -0.50035924 8.700675 … 7.8182683 1.1828375; 0.36535448 7.809994 … 7.0190096 4.5445952; … ; -1.9376286 2.1879466 … 8.263831 5.301798; 3.5307815 8.704802 … 7.6259604 3.0287225;;; -0.8135534 -0.40166456 … 0.050112482 0.41726282; 0.34527105 -0.023329904 … 1.9585388 3.3987653; … ; 1.3194076 9.981594 … 1.2566247 0.20955427; 1.4184134 0.16561078 … -0.3748393 -0.2058008;;; 24.07777 15.388052 … 26.559519 9.220492; 29.783615 21.27881 … 27.482414 2.6819012; … ; 30.901543 32.613335 … 45.706055 15.940668; 3.7295616 5.21811 … 16.90532 3.0198274;;; -1.0045073 -1.5497009 … -4.658808 -3.3505173; -0.8705037 -5.3184104 … -4.389041 -12.675155; … ; -1.5605475 -1.0550971 … -8.9418955 -13.523813; -1.3731441 -11.188412 … 0.5596021 -2.541542;;; 3.130678 0.7042206 … 1.7877659 1.5062877; 0.3789705 1.6757935 … 2.8046324 0.34141392; … ; 0.5747096 0.06977364 … 2.7359054 1.4984651; -0.1536723 -0.049272954 … -0.44542465 -0.6579286;;; 2.213429 2.426044 … 0.027875623 1.7584264; 10.142992 9.894781 … 15.828147 3.6622903; … ; 15.144154 18.059387 … 13.939449 1.5045547; 3.1338754 7.6380157 … 7.166827 2.8367867;;; 6.092906 3.7955403 … 5.811168 2.6746545; 2.3770447 3.661852 … 1.7329249 1.7364895; … ; 4.124374 4.6921186 … 1.3645667 4.555543; 2.4451852 1.0833892 … 3.684521 1.8772287;;;;], [0.013951556 -0.05326299 … 0.008960199 -0.0644494; 0.008828097 0.010107685 … -0.13774323 -0.9205599; … ; -0.0028303647 0.021197964 … 0.009209705 -0.06664063; 0.008313529 8.590358f-5 … 0.06318884 0.04236662;;; -0.0009930476 -0.026172789 … -0.023419125 0.10304882; -0.025718031 -0.015391347 … -0.021243032 0.075451024; … ; 0.026323922 -0.0076394943 … -0.028569499 0.14589563; -0.019548532 -0.023753583 … 0.012387926 0.3206409;;; -2.6444845 1.7489365 … -3.4967663 -0.38370967; 4.7674346 -0.32008815 … -1.7739445 -1.7292246; … ; -2.3135722 -5.009817 … -2.9365666 -2.0448127; -1.8284135 -2.165494 … -3.318784 -0.9092398;;; … ;;; -0.61307114 -0.59750944 … -0.8130845 -0.060835816; -0.019412076 -0.36860177 … -0.039586026 -0.20580381; … ; -0.3676773 0.016276265 … -0.0052321455 -0.09139697; 0.019143319 -0.43134028 … -0.3203683 -0.00535257;;; -0.031303305 -0.014872029 … -0.02963196 -0.017544398; -0.017694196 0.048427515 … 0.02760344 -0.019108415; … ; -0.019115824 -0.00712401 … 0.051410373 0.008680552; -0.019172072 -0.011513763 … 0.02327823 -0.017884541;;; 0.12294444 -0.040718116 … -0.003841798 -0.015806736; 0.0050752535 0.01675853 … 0.29844084 0.30509362; … ; 0.10575389 -0.060756676 … 0.008416567 0.07337424; -0.029887663 -0.051130064 … 0.36853895 0.29479495;;;;], [-0.0 -0.049099132 … -0.0 0.0019925856; 0.0 0.0 … -0.129996 -0.67072; … ; 0.0 0.0 … 0.0 0.06614762; 0.0 0.044941664 … 0.18936333 0.34601977;;; -0.0 -0.16271646 … -0.0 0.018593643; -0.0 -0.0 … -0.14188303 -0.019963987; … ; 0.0 -0.0 … -0.0 0.014060289; 0.0 0.0 … 0.019220157 0.15428224;;; 0.16551338 0.6461809 … 0.51032513 0.020077212; 0.59881717 1.038549 … 0.15755199 0.22148012; … ; 0.43717653 -0.23925407 … 0.2781482 0.261835; 0.07205216 0.13746485 … 0.15576392 -0.007912321;;; … ;;; 0.059122354 -0.010320016 … -0.14875484 -0.0; 0.033026524 0.17037375 … 0.0 -0.121207386; … ; 0.0 0.0 … 0.09000292 0.0; 0.0 0.0 … 0.0 0.0;;; -0.23671012 -0.19626518 … -0.2310171 -0.0; -0.0 -0.0 … -0.0 -0.0; … ; -0.0 -0.0 … -0.0 -0.0; -0.0 -0.0 … -0.0 0.0;;; 0.0 0.0 … 0.0 0.0; 0.0 0.014359614 … 0.055858362 -0.098559104; … ; 0.0 0.0 … 0.0 -0.029457213; 0.0 0.0 … 0.0 -0.08899276;;;;], [0.00068320835 0.0 … -0.0028739567 -0.0037855052; 0.0 0.0 … 0.0 0.0003511139; … ; 0.0 0.0 … 0.0 0.0; 0.0 0.0 … 0.0 0.0;;; -0.0 -0.0 … -0.0 -0.008420377; -0.0 -0.0 … -0.0005976075 0.01751045; … ; -0.0 -0.0 … -0.0 0.012853583; -0.012825109 -0.023711918 … -0.013779679 0.008271911;;; -0.005908244 -0.010835388 … -0.014959419 -0.0055425875; -0.018631788 0.11226148 … -0.2164776 -0.0; … ; 0.017555697 -0.069845825 … -0.091540925 -0.0; -0.015926838 -0.01572377 … -0.012009864 -0.0;;; 0.008455957 0.0 … 0.009848936 0.0; 0.005158469 0.017505595 … 0.030023651 0.0; … ; 0.005651979 0.0106747905 … 0.013981173 0.0; 0.0042415503 0.0008328601 … 0.00013815385 0.0;;; -0.0 -0.0 … -0.0 -0.0; -0.0 -0.0 … -4.6664987f-5 0.007870946; … ; -0.0 -0.0 … -0.0 -0.005150344; 0.0031348881 -0.0026061197 … -0.005157138 0.00023377378;;; -0.027909474 -0.050921895 … -0.0 -0.0; -0.021380762 -0.07603942 … -0.0 -0.0; … ; -0.050793037 -0.072555065 … -0.013067908 -0.012273673; -0.05764782 -0.06078527 … -0.053189017 -0.017989874;;; 0.0048963996 0.0004976344 … -0.21884921 0.00842925; 0.0 0.0 … 0.0 0.005447144; … ; 0.0 0.0 … 0.0049309726 0.006304999; 0.0 0.0029360962 … 0.0 0.0;;; -0.0 -0.06895583 … -0.0 -0.0; -0.19014513 -0.61547834 … -1.1014068 -0.0; … ; -0.0 -0.018637838 … -0.7135327 -0.9446058; -0.0 -0.0 … -0.4799089 -0.53244025;;;;], [0.00049215736 -0.0 … -0.0022654291 -0.0034372539; 0.0 -0.0 … 0.0 0.0002367268; … ; 0.0 0.0 … -0.0 -0.0; -0.0 0.0 … -0.0 -0.0;;; -0.0 -0.0 … 0.0 -0.002997862; -0.0 -0.0 … -0.0043219933 0.018841973; … ; 0.0 -0.0 … -0.0 0.013850158; -0.0043977606 -0.0125303315 … -0.0043363417 0.009664736;;; -0.0058031906 0.000121614656 … -0.021729246 0.005292015; 0.00020311146 0.05677764 … -0.05133282 0.0; … ; 0.0045026178 -0.013565063 … -0.016971992 -0.0; 0.01245659 0.007916078 … -0.00909921 0.0;;; 0.0022049162 -0.0 … -0.0036786979 0.0; -0.013967084 -0.0034821832 … 0.007682689 0.0; … ; -0.0065917466 -0.00034297613 … 0.003544417 0.0; -0.00064505485 0.00033528925 … 2.1594495f-5 -0.0;;; -0.0 0.0 … 0.0 0.0; 0.0 0.0 … -0.0008803277 0.00764369; … ; 0.0 0.0 … -0.0 -0.0031511066; 0.0014098772 -0.0009653918 … 0.0019886799 0.0031923943;;; -0.004706713 0.005556638 … -0.0 0.0; -0.00063992536 0.014408945 … 0.0 0.0; … ; -0.0057250354 0.023985026 … -0.00066121825 -0.003755963; 0.034872342 0.0068916366 … 0.0071799383 -0.0044997293;;; 0.00010783416 0.00045163438 … -0.010422736 -0.001785778; -0.0 -0.0 … -0.0 -0.000960097; … ; 0.0 0.0 … -0.0003046875 -0.008185455; 0.0 -0.0023905835 … -0.0 -0.0;;; 0.0 -0.0008364813 … -0.0 -0.0; -0.00070345233 0.00071206904 … 0.008997503 -0.0; … ; 0.0 -0.00016952424 … 0.0055385875 0.0004671513; -0.0 0.0 … 0.007980474 0.0133787105;;;;], Float32[0.00049215736; 0.0; … ; 0.0004671513; 0.0133787105;;], Float32[-0.0; 0.046085916; … ; 0.04078171; -0.0;;], Float32[-0.0; 0.046085916; … ; 0.04078171; -0.0;;], Float32[0.0; 0.0; … ; 0.0; 0.0;;])"
     },
     "metadata": {},
     "execution_count": 9
    }
   ],
   "cell_type": "code",
   "source": [
    "input = rand(Float32, 32, 32, 3, 1) # dummy input for our convolutional neural network\n",
    "\n",
    "expl = analyze(input, analyzer; layerwise_relevances=true)\n",
    "expl.extras.layerwise_relevances"
   ],
   "metadata": {},
   "execution_count": 9
  },
  {
   "cell_type": "markdown",
   "source": [
    "Note that the layerwise relevances are only kept for layers in the outermost `Chain` of the model.\n",
    "When using our unflattened model, we only obtain three layerwise relevances,\n",
    "one for each chain in the model and the output relevance:"
   ],
   "metadata": {}
  },
  {
   "outputs": [
    {
     "output_type": "execute_result",
     "data": {
      "text/plain": "([-0.023380978 -0.00014524646 … 0.0970377 0.08554448; -0.005895092 -0.13209467 … -0.06526109 0.12684228; … ; -0.13751327 0.15591674 … -0.16108336 -0.005246897; 0.014850876 0.07349156 … -0.11066855 -0.013610151;;; 0.015528654 -0.019519715 … -0.022492396 0.0020913377; -0.002205514 0.20541734 … -0.017349262 -0.0006208631; … ; -0.7761561 0.10119534 … -0.0032247144 0.037815284; -0.19197173 -0.16042285 … 0.03188689 -0.03141802;;; 0.016046263 -0.011901531 … 0.0055191517 0.06860678; 0.0020984153 0.24400565 … 0.10013685 -0.04967335; … ; 0.25174674 -0.119225375 … -0.08679357 -0.013401349; 0.344837 -0.1646717 … 0.01573001 -0.03801362;;;;], [-0.00089663954 -0.0010154181 … 0.011346402 -0.0070462273; -0.0 -0.0 … -0.0 -0.0011224563; … ; 0.0 -0.0 … -0.0 0.0; -0.0 0.0 … -0.0 -0.0;;; -0.0 0.0 … 0.0 -0.011991232; 0.0 -0.0 … -0.0033710278 -0.020367475; … ; 0.0 -0.0 … 0.0 0.0017983654; 0.00661868 0.01154318 … 0.003522056 0.010583031;;; 0.0054494543 -0.00024253069 … -0.013802317 0.00072953646; 0.012104017 0.04636635 … -0.0122264195 -0.0; … ; 0.012015784 -0.013407118 … -0.0045116586 -0.0; 0.008547655 -0.00082948525 … 0.006298958 -0.0;;; 0.0020764656 -0.0 … 0.009858311 -0.0; 0.008788842 0.0022639993 … -0.012137698 0.0; … ; -0.0026180039 0.0057722568 … -0.011848156 0.0; -0.0010665061 0.0006264276 … 0.0021154094 0.0;;; -0.0 0.0 … -0.0 0.0; -0.0 -0.0 … 3.3540346f-5 0.00017725176; … ; 0.0 0.0 … -0.0 -0.0034744174; -0.0004995043 -0.00059414754 … 0.02423006 0.008554301;;; -0.005926032 0.00052612816 … -0.0 0.0; 2.911573f-5 -0.00036975672 … 0.0 -0.0; … ; 0.009720022 -0.003987 … -0.0 0.00019706985; -0.004227556 -0.009649413 … 0.0070999945 -0.0009684147;;; -0.00064005685 0.0 … 0.0026964198 -0.008011687; -0.0 -0.0 … -0.0 -0.00028144737; … ; 0.0 0.0 … -0.0005212056 -0.00053542; -0.0 0.00014372924 … -0.0 -0.0;;; 0.0 0.0 … -0.0 0.0; 0.00062616874 1.9455187f-5 … -0.015623871 0.0; … ; -0.0 0.0 … 0.0023386555 -0.0021243775; -0.0 0.0 … 0.00021395691 -0.002583523;;;;], Float32[0.0; 0.0; … ; 0.0; 0.0;;])"
     },
     "metadata": {},
     "execution_count": 10
    }
   ],
   "cell_type": "code",
   "source": [
    "analyzer = LRP(model; flatten=false) # use unflattened model\n",
    "\n",
    "expl = analyze(input, analyzer; layerwise_relevances=true)\n",
    "expl.extras.layerwise_relevances"
   ],
   "metadata": {},
   "execution_count": 10
  },
  {
   "cell_type": "markdown",
   "source": [
    "## Performance tips\n",
    "### Using LRP with a GPU\n",
    "Like all other analyzers, LRP can be used on GPUs.\n",
    "Follow the instructions on *GPU support*.\n",
    "\n",
    "### Using LRP without a GPU\n",
    "Using Julia's package extension mechanism,\n",
    "ExplainableAI.jl's LRP implementation can optionally make use of\n",
    "[Tullio.jl](https://github.com/mcabbott/Tullio.jl) and\n",
    "[LoopVectorization.jl](https://github.com/JuliaSIMD/LoopVectorization.jl)\n",
    "for faster LRP rules on dense layers.\n",
    "\n",
    "This only requires loading the packages before loading ExplainableAI.jl:\n",
    "```julia\n",
    "using LoopVectorization, Tullio\n",
    "using ExplainableAI\n",
    "```\n",
    "\n",
    "[^1]: G. Montavon et al., [Layer-Wise Relevance Propagation: An Overview](https://link.springer.com/chapter/10.1007/978-3-030-28954-6_10)"
   ],
   "metadata": {}
  },
  {
   "cell_type": "markdown",
   "source": [
    "---\n",
    "\n",
    "*This notebook was generated using [Literate.jl](https://github.com/fredrikekre/Literate.jl).*"
   ],
   "metadata": {}
  }
 ],
 "nbformat_minor": 3,
 "metadata": {
  "language_info": {
   "file_extension": ".jl",
   "mimetype": "application/julia",
   "name": "julia",
   "version": "1.9.3"
  },
  "kernelspec": {
   "name": "julia-1.9",
   "display_name": "Julia 1.9.3",
   "language": "julia"
  }
 },
 "nbformat": 4
}
