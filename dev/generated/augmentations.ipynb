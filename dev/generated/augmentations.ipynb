{
 "cells": [
  {
   "cell_type": "markdown",
   "source": [
    "# Analyzer augmentations\n",
    "All analyzers implemented in ExplainableAI.jl can be augmented by two types of augmentations:\n",
    "`NoiseAugmentation`s and `InterpolationAugmentation`s.\n",
    "These augmentations are wrappers around analyzers\n",
    "that modify the input before passing it to the analyzer.\n",
    "\n",
    "We build on the basics shown in the *Getting started* section\n",
    "and start out by loading the same pre-trained LeNet5 model and MNIST input data:"
   ],
   "metadata": {}
  },
  {
   "outputs": [
    {
     "output_type": "execute_result",
     "data": {
      "text/plain": "Chain(\n  Conv((5, 5), 1 => 6, relu),           \u001b[90m# 156 parameters\u001b[39m\n  MaxPool((2, 2)),\n  Conv((5, 5), 6 => 16, relu),          \u001b[90m# 2_416 parameters\u001b[39m\n  MaxPool((2, 2)),\n  Flux.flatten,\n  Dense(256 => 120, relu),              \u001b[90m# 30_840 parameters\u001b[39m\n  Dense(120 => 84, relu),               \u001b[90m# 10_164 parameters\u001b[39m\n  Dense(84 => 10),                      \u001b[90m# 850 parameters\u001b[39m\n) \u001b[90m                  # Total: 10 arrays, \u001b[39m44_426 parameters, 174.344 KiB."
     },
     "metadata": {},
     "execution_count": 1
    }
   ],
   "cell_type": "code",
   "source": [
    "using ExplainableAI\n",
    "using VisionHeatmaps\n",
    "using Zygote\n",
    "using Flux\n",
    "\n",
    "using BSON # hide\n",
    "model = BSON.load(\"../model.bson\", @__MODULE__)[:model] # hide\n",
    "model"
   ],
   "metadata": {},
   "execution_count": 1
  },
  {
   "outputs": [
    {
     "output_type": "execute_result",
     "data": {
      "text/plain": "28×28 reinterpret(reshape, ColorTypes.Gray{Float32}, ::Matrix{Float32}) with eltype ColorTypes.Gray{Float32}:\n 0.0  0.0  0.0  0.0  0.0  0.0  0.0  …  0.0        0.0  0.0  0.0  0.0  0.0\n 0.0  0.0  0.0  0.0  0.0  0.0  0.0     0.0        0.0  0.0  0.0  0.0  0.0\n 0.0  0.0  0.0  0.0  0.0  0.0  0.0     0.0        0.0  0.0  0.0  0.0  0.0\n 0.0  0.0  0.0  0.0  0.0  0.0  0.0     0.0        0.0  0.0  0.0  0.0  0.0\n 0.0  0.0  0.0  0.0  0.0  0.0  0.0     0.0        0.0  0.0  0.0  0.0  0.0\n 0.0  0.0  0.0  0.0  0.0  0.0  0.0  …  0.0        0.0  0.0  0.0  0.0  0.0\n 0.0  0.0  0.0  0.0  0.0  0.0  0.0     0.0        0.0  0.0  0.0  0.0  0.0\n 0.0  0.0  0.0  0.0  0.0  0.0  0.0     0.0        0.0  0.0  0.0  0.0  0.0\n 0.0  0.0  0.0  0.0  0.0  0.0  0.0     0.0235294  0.0  0.0  0.0  0.0  0.0\n 0.0  0.0  0.0  0.0  0.0  0.0  0.0     0.407843   0.0  0.0  0.0  0.0  0.0\n ⋮                        ⋮         ⋱                       ⋮         \n 0.0  0.0  0.0  0.0  0.0  0.0  0.0     0.0        0.0  0.0  0.0  0.0  0.0\n 0.0  0.0  0.0  0.0  0.0  0.0  0.0  …  0.0        0.0  0.0  0.0  0.0  0.0\n 0.0  0.0  0.0  0.0  0.0  0.0  0.0     0.0        0.0  0.0  0.0  0.0  0.0\n 0.0  0.0  0.0  0.0  0.0  0.0  0.0     0.0        0.0  0.0  0.0  0.0  0.0\n 0.0  0.0  0.0  0.0  0.0  0.0  0.0     0.0        0.0  0.0  0.0  0.0  0.0\n 0.0  0.0  0.0  0.0  0.0  0.0  0.0     0.0        0.0  0.0  0.0  0.0  0.0\n 0.0  0.0  0.0  0.0  0.0  0.0  0.0  …  0.0        0.0  0.0  0.0  0.0  0.0\n 0.0  0.0  0.0  0.0  0.0  0.0  0.0     0.0        0.0  0.0  0.0  0.0  0.0\n 0.0  0.0  0.0  0.0  0.0  0.0  0.0     0.0        0.0  0.0  0.0  0.0  0.0",
      "image/png": "[encoded data removed]",
      "text/html": [
       "<img src=\"data:image/png;base64,iVBORw0KGgoAAAANSUhEUgAAAHAAAABwCAAAAADji6uXAAAAAXNSR0IArs4c6QAAAARnQU1BAACxjwv8YQUAAAAgY0hSTQAAeiYAAICEAAD6AAAAgOgAAHUwAADqYAAAOpgAABdwnLpRPAAAAjhJREFUaAW9wb2L1gUAB/DPcd+oQaPswCGqpSGHXqYTapGgJSg4CeoPcEiECqFDpCGwTdIQImuIsGiTtmjJgl6GoKEiIhqCoMQsOOhFy85r+A3H8fTo73mM7+cTZVEWZVEWZVEWZVEWZVEWZVEWZVEWZVEWZVEWZVEWZVEWZVEWZVEWZVEWc7gTS1jBHlzGSXyK71xZlEVZlMUM7sYB7MWSrXbjH3yLj/E0/jYpyqIsymKEe3AAj+NGgx/xEb7HKj7HMnbgYXyBkyZFWZRFWVzFq1jBksH7+AqHcdHgfuzH67gP5/AyTuO8raIsyqIsprgBq9iHBZzHKziKP2x1CxbxPN7DHaaLsiiLsphiD57FAn7CXnxmq0XchlN4FzcbLOBNrJkUZVEWZTHFItYNLmE3HsNdBhewC7vwC3badA4v4JJJURZlURZTnMEHeAi34wQ2DNaxaNNOg8t4B0/hrP8WZVEWZTHFBazgJhzCA/gVP+B63ItlW72Gw1gzXZRFWZTFVazhkEmnsGzwGw7iDay7siiLsiiLOaziCZv2423jRFmURVnMaB+eQwy+xmnjRVmURVnMYBkvYpvB73gSfxkvyqIsymIGj2C7wZ94FJ+YTZRFWZTFSNuxatNb+NDsoizKoixG2IZvcJ3Bl3jGfKIsyqIsRngQt2LD4CAumk+URVmUxQhHsGFwFGfML8qiLMpihB1YwM94ybWJsiiLshjhGI7hCM66NlEWZVEWIxzHcf+PKIuyKPsXNwdYfgiRxs8AAAAASUVORK5C\">"
      ]
     },
     "metadata": {},
     "execution_count": 2
    }
   ],
   "cell_type": "code",
   "source": [
    "using MLDatasets\n",
    "using ImageCore, ImageIO, ImageShow\n",
    "\n",
    "index = 10\n",
    "x, y = MNIST(Float32, :test)[10]\n",
    "input = reshape(x, 28, 28, 1, :)\n",
    "\n",
    "convert2image(MNIST, x)"
   ],
   "metadata": {},
   "execution_count": 2
  },
  {
   "cell_type": "markdown",
   "source": [
    "## Noise augmentation\n",
    "The `NoiseAugmentation` wrapper computes explanations averaged over noisy inputs.\n",
    "Let's demonstrate this on the `Gradient` analyzer.\n",
    "First, we compute the heatmap of an explanation without augmentation:"
   ],
   "metadata": {}
  },
  {
   "outputs": [
    {
     "output_type": "execute_result",
     "data": {
      "text/plain": "1-element Vector{Matrix{ColorTypes.RGB{Float64}}}:\n [RGB(0.542044692993164, 0.5190736373901367, 0.18255157775878905) RGB(0.5405419067382813, 0.5186877868652343, 0.18299835205078127) … RGB(0.5501000518798829, 0.5211419052124023, 0.18022431030273436) RGB(0.5480906158447265, 0.5206259689331054, 0.18076740112304687); RGB(0.5577551651000977, 0.5230979751586914, 0.1782020248413086) RGB(0.5673554992675781, 0.5255300598144531, 0.17589942016601562) … RGB(0.550458218383789, 0.5212338668823242, 0.18012750854492188) RGB(0.5480906158447265, 0.5206259689331054, 0.18076740112304687); … ; RGB(0.5540689025878907, 0.5221609344482422, 0.17915164794921876) RGB(0.5669629669189453, 0.5254306182861328, 0.17598839416503906) … RGB(0.5511143676757813, 0.5214023376464844, 0.1799501708984375) RGB(0.5480906158447265, 0.5206259689331054, 0.18076740112304687); RGB(0.5480906158447265, 0.5206259689331054, 0.18076740112304687) RGB(0.5480906158447265, 0.5206259689331054, 0.18076740112304687) … RGB(0.5480906158447265, 0.5206259689331054, 0.18076740112304687) RGB(0.5480906158447265, 0.5206259689331054, 0.18076740112304687)]",
      "text/html": [
       "<table><tbody><tr><td style='text-align:center;vertical-align:middle; margin: 0.5em;border:1px #90999f solid;border-collapse:collapse'><img style='max-width: 100px; max-height:100px;display:inline' src=\"data:image/png;base64,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\"></td></tr></tbody></table><div><small>(a vector displayed as a row to save space)</small></div>"
      ]
     },
     "metadata": {},
     "execution_count": 3
    }
   ],
   "cell_type": "code",
   "source": [
    "analyzer = Gradient(model)\n",
    "heatmap(input, analyzer)"
   ],
   "metadata": {},
   "execution_count": 3
  },
  {
   "cell_type": "markdown",
   "source": [
    "Now we wrap the analyzer in a `NoiseAugmentation` with 10 samples of noise.\n",
    "By default, the noise is sampled from a Gaussian distribution\n",
    "with mean 0 and standard deviation 1."
   ],
   "metadata": {}
  },
  {
   "outputs": [
    {
     "name": "stdout",
     "output_type": "stream",
     "text": [
      "\rSampling NoiseAugmentation...   4%|▉                     |  ETA: 0:00:24\u001b[K\rSampling NoiseAugmentation... 100%|██████████████████████| Time: 0:00:01\u001b[K\n"
     ]
    },
    {
     "output_type": "execute_result",
     "data": {
      "text/plain": "1-element Vector{Matrix{ColorTypes.RGB{Float64}}}:\n [RGB(0.4443312492370606, 0.4923476676940918, 0.22344878768920895) RGB(0.44699045486450195, 0.4931017707824707, 0.2221390296936035) … RGB(0.4508782562255859, 0.494204281616211, 0.2202241424560547) RGB(0.4455819274902344, 0.4927023376464844, 0.22283278198242185); RGB(0.4416671875, 0.49159218750000006, 0.22476093749999998) RGB(0.4476949485778809, 0.49330155258178715, 0.22179204025268554) … RGB(0.46015219879150393, 0.4968342056274414, 0.21565637969970702) RGB(0.4492812606811523, 0.49375140228271486, 0.22101072235107422); … ; RGB(0.4465996147155762, 0.4929909355163574, 0.2223315330505371) RGB(0.4442358139038086, 0.49232060394287114, 0.22349579315185547) … RGB(0.44128253250122074, 0.49148310623168945, 0.22495039443969725) RGB(0.44477085494995117, 0.4924723320007325, 0.2232322654724121); RGB(0.44961597442626955, 0.49384632110595705, 0.22084586334228515) RGB(0.4463120819091797, 0.4929093963623047, 0.22247315368652343) … RGB(0.4416350860595703, 0.4915830841064453, 0.22477674865722655) RGB(0.44743859710693357, 0.49322885589599613, 0.22191830291748044)]",
      "text/html": [
       "<table><tbody><tr><td style='text-align:center;vertical-align:middle; margin: 0.5em;border:1px #90999f solid;border-collapse:collapse'><img style='max-width: 100px; max-height:100px;display:inline' src=\"data:image/png;base64,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\"></td></tr></tbody></table><div><small>(a vector displayed as a row to save space)</small></div>"
      ]
     },
     "metadata": {},
     "execution_count": 4
    }
   ],
   "cell_type": "code",
   "source": [
    "analyzer = NoiseAugmentation(Gradient(model), 50)\n",
    "heatmap(input, analyzer)"
   ],
   "metadata": {},
   "execution_count": 4
  },
  {
   "cell_type": "markdown",
   "source": [
    "Note that a higher sample size is desired, as it will lead to a smoother heatmap.\n",
    "However, this comes at the cost of a longer computation time.\n",
    "\n",
    "We can also set the standard deviation of the Gaussian distribution:"
   ],
   "metadata": {}
  },
  {
   "outputs": [
    {
     "output_type": "execute_result",
     "data": {
      "text/plain": "1-element Vector{Matrix{ColorTypes.RGB{Float64}}}:\n [RGB(0.5131628616333008, 0.5113985122680664, 0.19259158782958985) RGB(0.5114417053222655, 0.5109379211425782, 0.19324611206054687) … RGB(0.5180278610229492, 0.5127004135131836, 0.19074151763916017) RGB(0.5165988906860352, 0.5123180130004883, 0.19128492889404297); RGB(0.5158268783569335, 0.5121114181518556, 0.1915785110473633) RGB(0.5182953460693359, 0.5127719940185547, 0.1906397979736328) … RGB(0.5185724853515625, 0.5128455169677735, 0.19053771362304686) RGB(0.5163487396240234, 0.5122510711669922, 0.1913800567626953); … ; RGB(0.5125997238159179, 0.5112478134155274, 0.1928057388305664) RGB(0.5205095947265624, 0.5133566986083985, 0.18983820190429687) … RGB(0.5141582656860351, 0.5116648880004883, 0.19221305389404297) RGB(0.51438544921875, 0.51172568359375, 0.19212666015625); RGB(0.5169860885620117, 0.5124216293334961, 0.19113768463134764) RGB(0.5183944747924805, 0.5127985214233398, 0.1906021011352539) … RGB(0.5133767196655273, 0.5114557418823242, 0.19251026153564452) RGB(0.5152345977783203, 0.5119529205322266, 0.19180374450683593)]",
      "text/html": [
       "<table><tbody><tr><td style='text-align:center;vertical-align:middle; margin: 0.5em;border:1px #90999f solid;border-collapse:collapse'><img style='max-width: 100px; max-height:100px;display:inline' src=\"data:image/png;base64,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\"></td></tr></tbody></table><div><small>(a vector displayed as a row to save space)</small></div>"
      ]
     },
     "metadata": {},
     "execution_count": 5
    }
   ],
   "cell_type": "code",
   "source": [
    "analyzer = NoiseAugmentation(Gradient(model), 50, 0.1)\n",
    "heatmap(input, analyzer)"
   ],
   "metadata": {},
   "execution_count": 5
  },
  {
   "cell_type": "markdown",
   "source": [
    "When used with a `Gradient` analyzer, this is equivalent to `SmoothGrad`:"
   ],
   "metadata": {}
  },
  {
   "outputs": [
    {
     "output_type": "execute_result",
     "data": {
      "text/plain": "1-element Vector{Matrix{ColorTypes.RGB{Float64}}}:\n [RGB(0.49807389907836913, 0.5073606208801269, 0.1986022102355957) RGB(0.49905446090698236, 0.5076230247497558, 0.19820169906616214) … RGB(0.5016859222412109, 0.5083272186279297, 0.1971268768310547) RGB(0.4990947082519531, 0.5076337951660156, 0.19818526000976563); RGB(0.49515474853515623, 0.5065442138671875, 0.19983367919921877) RGB(0.49524030456542967, 0.5065686584472656, 0.19979701232910158) … RGB(0.4935118804931641, 0.5060748229980468, 0.20053776550292968) RGB(0.5003454093933105, 0.5079684898376465, 0.19767441024780275); … ; RGB(0.5010609779357911, 0.5081599800109864, 0.19738213577270508) RGB(0.4985200325012207, 0.5074800086975098, 0.19841998672485353) … RGB(0.48983243713378904, 0.505027375793457, 0.2021146697998047) RGB(0.5004025032043458, 0.5079837684631348, 0.1976510902404785); RGB(0.5014858772277832, 0.5082736854553223, 0.197208585357666) RGB(0.49787840423583984, 0.5073083053588867, 0.1986820602416992) … RGB(0.4982026580810547, 0.5073950775146484, 0.19854961853027345) RGB(0.5010006340026856, 0.5081438316345215, 0.19740678329467773)]",
      "text/html": [
       "<table><tbody><tr><td style='text-align:center;vertical-align:middle; margin: 0.5em;border:1px #90999f solid;border-collapse:collapse'><img style='max-width: 100px; max-height:100px;display:inline' src=\"data:image/png;base64,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\"></td></tr></tbody></table><div><small>(a vector displayed as a row to save space)</small></div>"
      ]
     },
     "metadata": {},
     "execution_count": 6
    }
   ],
   "cell_type": "code",
   "source": [
    "analyzer = SmoothGrad(model, 50)\n",
    "heatmap(input, analyzer)"
   ],
   "metadata": {},
   "execution_count": 6
  },
  {
   "cell_type": "markdown",
   "source": [
    "We can also use any distribution from\n",
    "[Distributions.jl](https://github.com/JuliaStats/Distributions.jl),\n",
    "for example Poisson noise with rate $\\lambda=0.5$:"
   ],
   "metadata": {}
  },
  {
   "outputs": [
    {
     "output_type": "execute_result",
     "data": {
      "text/plain": "1-element Vector{Matrix{ColorTypes.RGB{Float64}}}:\n [RGB(0.2985747947692871, 0.44910854263305666, 0.3022320816040039) RGB(0.29856199645996095, 0.44910455627441404, 0.30223921508789064) … RGB(0.30894445037841795, 0.4523384353637695, 0.2964522735595703) RGB(0.30446885833740234, 0.4509443984985351, 0.2989468658447266); RGB(0.29885789337158203, 0.44919672088623047, 0.30207428894042965) RGB(0.3005730995178223, 0.44973096542358393, 0.30111827239990235) … RGB(0.30638381118774416, 0.4515408592224121, 0.2978795150756836) RGB(0.3028565040588379, 0.45044218978881834, 0.2998455551147461); … ; RGB(0.29565626831054687, 0.44818894042968754, 0.30385880126953124) RGB(0.29502063446044924, 0.44798053588867187, 0.3042130889892578) … RGB(0.2988380676269531, 0.4491905456542969, 0.3020853393554687) RGB(0.29626714324951176, 0.4483892272949219, 0.3035183135986328); RGB(0.29933673629760743, 0.4493458686828613, 0.3018073928833008) RGB(0.29754553146362306, 0.44878795242309577, 0.3028057693481445) … RGB(0.30208078689575196, 0.45020057296752924, 0.30027792205810544) RGB(0.2990636436462403, 0.4492608070373535, 0.3019596084594727)]",
      "text/html": [
       "<table><tbody><tr><td style='text-align:center;vertical-align:middle; margin: 0.5em;border:1px #90999f solid;border-collapse:collapse'><img style='max-width: 100px; max-height:100px;display:inline' src=\"data:image/png;base64,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\"></td></tr></tbody></table><div><small>(a vector displayed as a row to save space)</small></div>"
      ]
     },
     "metadata": {},
     "execution_count": 7
    }
   ],
   "cell_type": "code",
   "source": [
    "using Distributions\n",
    "\n",
    "analyzer = NoiseAugmentation(Gradient(model), 50, Poisson(0.5))\n",
    "heatmap(input, analyzer)"
   ],
   "metadata": {},
   "execution_count": 7
  },
  {
   "cell_type": "markdown",
   "source": [
    "Is is also possible to define your own distributions or mixture distributions.\n",
    "\n",
    "`NoiseAugmentation` can be combined with any analyzer type from the Julia-XAI ecosystem,\n",
    "for example `LRP` from [RelevancePropagation.jl](https://github.com/Julia-XAI/RelevancePropagation.jl)."
   ],
   "metadata": {}
  },
  {
   "cell_type": "markdown",
   "source": [
    "## Integration augmentation\n",
    "The `InterpolationAugmentation` wrapper computes explanations\n",
    "averaged over `n` steps of linear interpolation between the input and a reference input,\n",
    "which is set to `zero(input)` by default:"
   ],
   "metadata": {}
  },
  {
   "outputs": [
    {
     "output_type": "execute_result",
     "data": {
      "text/plain": "1-element Vector{Matrix{ColorTypes.RGB{Float64}}}:\n [RGB(0.7892717529296875, 0.5711786254882814, 0.23524071044921874) RGB(0.7892717529296875, 0.5711786254882814, 0.23524071044921874) … RGB(0.7892717529296875, 0.5711786254882814, 0.23524071044921874) RGB(0.7892717529296875, 0.5711786254882814, 0.23524071044921874); RGB(0.7892717529296875, 0.5711786254882814, 0.23524071044921874) RGB(0.7892717529296875, 0.5711786254882814, 0.23524071044921874) … RGB(0.7892717529296875, 0.5711786254882814, 0.23524071044921874) RGB(0.7892717529296875, 0.5711786254882814, 0.23524071044921874); … ; RGB(0.7892717529296875, 0.5711786254882814, 0.23524071044921874) RGB(0.7892717529296875, 0.5711786254882814, 0.23524071044921874) … RGB(0.7892717529296875, 0.5711786254882814, 0.23524071044921874) RGB(0.7892717529296875, 0.5711786254882814, 0.23524071044921874); RGB(0.7892717529296875, 0.5711786254882814, 0.23524071044921874) RGB(0.7892717529296875, 0.5711786254882814, 0.23524071044921874) … RGB(0.7892717529296875, 0.5711786254882814, 0.23524071044921874) RGB(0.7892717529296875, 0.5711786254882814, 0.23524071044921874)]",
      "text/html": [
       "<table><tbody><tr><td style='text-align:center;vertical-align:middle; margin: 0.5em;border:1px #90999f solid;border-collapse:collapse'><img style='max-width: 100px; max-height:100px;display:inline' src=\"data:image/png;base64,iVBORw0KGgoAAAANSUhEUgAAAHAAAABwCAIAAABJgmMcAAAAAXNSR0IArs4c6QAAAARnQU1BAACxjwv8YQUAAAAgY0hSTQAAeiYAAICEAAD6AAAAgOgAAHUwAADqYAAAOpgAABdwnLpRPAAABE9JREFUeAHtwTtsVQUcx/HvOfd/em/vpdDSNm2RiERRGmvQAU2ML6ImPiJOLo5uLiZuOjo7mDiYaBxcZTWOmiAyGGOwJYIEjYLl2dIH7e3t7T33HKdfWUgM5E8f5v/52E+fPkPwYwRXRnBlBFdGcGUEV0ZwZQRXRnBlBFdGcGUEV0ZwZQRXRnBlBFdGcGUEV0ZwZQRXRnBlBFdGcGUEV0ZwZQRXRnBlBFfGFpaQcEuJTK7MI6eX+5GRahM5vKOCDFTqSEHJvWQEV0ZwZQRXxhZQUiIJCbLQbSIL3Q7SJUFqlRxpFxXk4toqkmcF8lz/80hetJHzK78hBQV3ywiujODKCK6MDdQs2siutI6M9owi8/kccj1fQgYrVWSlaCGHdjSRy2spcmppALlRW0Imev9BWkULGajsQm5057lbRnBlBFdGcGXcY2tljjxS3Y/UswGk0bsPWZo/geyxfiQnR8YrNW6nN72JvNCXICn9yLG580ijUiCdIkEON/qQNEm5E0ZwZQRXRnBl3AOdMkcerU8gu/a9w7ruCjL912fIctFEuhTckvBfXh16A7mw9AvSKtvIWE+BXFg15OHeLh6M4MoIrozgynBSS3qQ8cYTyOLaFaT8+0uk1V1CrubXuRMJCVJNMmRq8ThyujWPrBYJ8mb/QWS5dxmZzeeRNEm5W0ZwZQRXRnBlOFnoNpFPLp1EziwPI5NzDeT9h84gJ+bHkNOLo8gHD/6KTDbryGv9CfLNYgvZaWvIcMa6g7Uqsla0kfsbE0hn+RTSKtvcLSO4MoIrI7gynFQT45YOMjU/gpz7dg15Nz2EZNUE6d1TQU6N1JGvpiaQ9mNnkYVOAxnMVpCibCH7elLkUuc6srB0E8np4sEIrozgygiuDCdJkiCv9NeRIzvPIZ/v3omMVW8ip5fGkKGeJlJNu8iLB6aRH2b2I0fHfud20qREirJE6pUMyenizQiujODKCK6Me6yaZsh797W4JUPeGprl9nqR45VryMnLe5GzfcPI3toC8lQf63ZUamwUI7gygisjuDK2sJQUydICeXLsCrLD2sjruwukntbZDEZwZQRXRnBlbDGPD7yMJOMfIqs/Pou8PTiIXF27jLTLGlJSshmM4MoIrozgytgCHqg+gNjIS6y7+DXy9IGPWGcNpPnnx8hqPsdmM4IrI7gygitjC6hng6xrz7EuMaRYnESuLv6MzORzbCVGcGUEV0ZwZWySDEPqOw8hZf8EkqxMI5euHEOu5TNsVUZwZQRXRnBlbJKhbBCZmf0OGS47SKc1jVzLZ9gOjODKCK6M4MrYQLP5MnK+vYAc3X0E+X76C2TUBthujODKCK6M4MrYQFMrrJuoV5A/mlNIllSQlXKV7cYIrozgygiujA2023IkxZCcAqklGduZEVwZwZURXBkbaLzWQDplF6mQImVSsp0ZwZURXBnBlbGBqmmGVMmQnC7/F0ZwZQRXRnD1LxDMHwivzatpAAAAAElFTkSuQmCC\"></td></tr></tbody></table><div><small>(a vector displayed as a row to save space)</small></div>"
      ]
     },
     "metadata": {},
     "execution_count": 8
    }
   ],
   "cell_type": "code",
   "source": [
    "analyzer = InterpolationAugmentation(Gradient(model), 50)\n",
    "heatmap(input, analyzer)"
   ],
   "metadata": {},
   "execution_count": 8
  },
  {
   "cell_type": "markdown",
   "source": [
    "When used with a `Gradient` analyzer, this is equivalent to `IntegratedGradients`:"
   ],
   "metadata": {}
  },
  {
   "outputs": [
    {
     "output_type": "execute_result",
     "data": {
      "text/plain": "1-element Vector{Matrix{ColorTypes.RGB{Float64}}}:\n [RGB(0.7892717529296875, 0.5711786254882814, 0.23524071044921874) RGB(0.7892717529296875, 0.5711786254882814, 0.23524071044921874) … RGB(0.7892717529296875, 0.5711786254882814, 0.23524071044921874) RGB(0.7892717529296875, 0.5711786254882814, 0.23524071044921874); RGB(0.7892717529296875, 0.5711786254882814, 0.23524071044921874) RGB(0.7892717529296875, 0.5711786254882814, 0.23524071044921874) … RGB(0.7892717529296875, 0.5711786254882814, 0.23524071044921874) RGB(0.7892717529296875, 0.5711786254882814, 0.23524071044921874); … ; RGB(0.7892717529296875, 0.5711786254882814, 0.23524071044921874) RGB(0.7892717529296875, 0.5711786254882814, 0.23524071044921874) … RGB(0.7892717529296875, 0.5711786254882814, 0.23524071044921874) RGB(0.7892717529296875, 0.5711786254882814, 0.23524071044921874); RGB(0.7892717529296875, 0.5711786254882814, 0.23524071044921874) RGB(0.7892717529296875, 0.5711786254882814, 0.23524071044921874) … RGB(0.7892717529296875, 0.5711786254882814, 0.23524071044921874) RGB(0.7892717529296875, 0.5711786254882814, 0.23524071044921874)]",
      "text/html": [
       "<table><tbody><tr><td style='text-align:center;vertical-align:middle; margin: 0.5em;border:1px #90999f solid;border-collapse:collapse'><img style='max-width: 100px; max-height:100px;display:inline' src=\"data:image/png;base64,iVBORw0KGgoAAAANSUhEUgAAAHAAAABwCAIAAABJgmMcAAAAAXNSR0IArs4c6QAAAARnQU1BAACxjwv8YQUAAAAgY0hSTQAAeiYAAICEAAD6AAAAgOgAAHUwAADqYAAAOpgAABdwnLpRPAAABE9JREFUeAHtwTtsVQUcx/HvOfd/em/vpdDSNm2RiERRGmvQAU2ML6ImPiJOLo5uLiZuOjo7mDiYaBxcZTWOmiAyGGOwJYIEjYLl2dIH7e3t7T33HKdfWUgM5E8f5v/52E+fPkPwYwRXRnBlBFdGcGUEV0ZwZQRXRnBlBFdGcGUEV0ZwZQRXRnBlBFdGcGUEV0ZwZQRXRnBlBFdGcGUEV0ZwZQRXRnBlBFfGFpaQcEuJTK7MI6eX+5GRahM5vKOCDFTqSEHJvWQEV0ZwZQRXxhZQUiIJCbLQbSIL3Q7SJUFqlRxpFxXk4toqkmcF8lz/80hetJHzK78hBQV3ywiujODKCK6MDdQs2siutI6M9owi8/kccj1fQgYrVWSlaCGHdjSRy2spcmppALlRW0Imev9BWkULGajsQm5057lbRnBlBFdGcGXcY2tljjxS3Y/UswGk0bsPWZo/geyxfiQnR8YrNW6nN72JvNCXICn9yLG580ijUiCdIkEON/qQNEm5E0ZwZQRXRnBl3AOdMkcerU8gu/a9w7ruCjL912fIctFEuhTckvBfXh16A7mw9AvSKtvIWE+BXFg15OHeLh6M4MoIrozgynBSS3qQ8cYTyOLaFaT8+0uk1V1CrubXuRMJCVJNMmRq8ThyujWPrBYJ8mb/QWS5dxmZzeeRNEm5W0ZwZQRXRnBlOFnoNpFPLp1EziwPI5NzDeT9h84gJ+bHkNOLo8gHD/6KTDbryGv9CfLNYgvZaWvIcMa6g7Uqsla0kfsbE0hn+RTSKtvcLSO4MoIrI7gynFQT45YOMjU/gpz7dg15Nz2EZNUE6d1TQU6N1JGvpiaQ9mNnkYVOAxnMVpCibCH7elLkUuc6srB0E8np4sEIrozgygiuDCdJkiCv9NeRIzvPIZ/v3omMVW8ip5fGkKGeJlJNu8iLB6aRH2b2I0fHfud20qREirJE6pUMyenizQiujODKCK6Me6yaZsh797W4JUPeGprl9nqR45VryMnLe5GzfcPI3toC8lQf63ZUamwUI7gygisjuDK2sJQUydICeXLsCrLD2sjruwukntbZDEZwZQRXRnBlbDGPD7yMJOMfIqs/Pou8PTiIXF27jLTLGlJSshmM4MoIrozgytgCHqg+gNjIS6y7+DXy9IGPWGcNpPnnx8hqPsdmM4IrI7gygitjC6hng6xrz7EuMaRYnESuLv6MzORzbCVGcGUEV0ZwZWySDEPqOw8hZf8EkqxMI5euHEOu5TNsVUZwZQRXRnBlbJKhbBCZmf0OGS47SKc1jVzLZ9gOjODKCK6M4MrYQLP5MnK+vYAc3X0E+X76C2TUBthujODKCK6M4MrYQFMrrJuoV5A/mlNIllSQlXKV7cYIrozgygiujA2023IkxZCcAqklGduZEVwZwZURXBkbaLzWQDplF6mQImVSsp0ZwZURXBnBlbGBqmmGVMmQnC7/F0ZwZQRXRnD1LxDMHwivzatpAAAAAElFTkSuQmCC\"></td></tr></tbody></table><div><small>(a vector displayed as a row to save space)</small></div>"
      ]
     },
     "metadata": {},
     "execution_count": 9
    }
   ],
   "cell_type": "code",
   "source": [
    "analyzer = IntegratedGradients(model, 50)\n",
    "heatmap(input, analyzer)"
   ],
   "metadata": {},
   "execution_count": 9
  },
  {
   "cell_type": "markdown",
   "source": [
    "To select a different reference input, pass it to the `analyze` function\n",
    "using the keyword argument `input_ref`.\n",
    "Note that this is an arbitrary example for the sake of demonstration."
   ],
   "metadata": {}
  },
  {
   "outputs": [
    {
     "output_type": "execute_result",
     "data": {
      "text/plain": "1-element Vector{Matrix{ColorTypes.RGB{Float64}}}:\n [RGB(0.5700147277832031, 0.5262036819458008, 0.1752970932006836) RGB(0.5779593811035156, 0.5281851165771485, 0.1737385269165039) … RGB(0.6049205444335938, 0.5346333740234375, 0.17031295166015625) RGB(0.5770931091308594, 0.5279732772827148, 0.1739000442504883); RGB(0.5695549392700194, 0.5260872512817383, 0.1754008804321289) RGB(0.5767471801757812, 0.5278867950439453, 0.17396831970214843) … RGB(0.5702010864257813, 0.5262502716064453, 0.17526031188964844) RGB(0.5770931091308594, 0.5279732772827148, 0.1739000442504883); … ; RGB(0.5645154190063476, 0.5248105728149414, 0.17654317169189454) RGB(0.5449493194580077, 0.5198194198608398, 0.18168804016113282) … RGB(0.5758977233886718, 0.527674430847168, 0.17413597564697267) RGB(0.5770931091308594, 0.5279732772827148, 0.1739000442504883); RGB(0.5770931091308594, 0.5279732772827148, 0.1739000442504883) RGB(0.5770931091308594, 0.5279732772827148, 0.1739000442504883) … RGB(0.5770931091308594, 0.5279732772827148, 0.1739000442504883) RGB(0.5770931091308594, 0.5279732772827148, 0.1739000442504883)]",
      "text/html": [
       "<table><tbody><tr><td style='text-align:center;vertical-align:middle; margin: 0.5em;border:1px #90999f solid;border-collapse:collapse'><img style='max-width: 100px; max-height:100px;display:inline' src=\"data:image/png;base64,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\"></td></tr></tbody></table><div><small>(a vector displayed as a row to save space)</small></div>"
      ]
     },
     "metadata": {},
     "execution_count": 10
    }
   ],
   "cell_type": "code",
   "source": [
    "matrix_of_ones = ones(Float32, size(input))\n",
    "\n",
    "analyzer = InterpolationAugmentation(Gradient(model), 50)\n",
    "expl = analyzer(input; input_ref=matrix_of_ones)\n",
    "heatmap(expl)"
   ],
   "metadata": {},
   "execution_count": 10
  },
  {
   "cell_type": "markdown",
   "source": [
    "Once again, `InterpolationAugmentation` can be combined with any analyzer type from the Julia-XAI ecosystem,\n",
    "for example `LRP` from [RelevancePropagation.jl](https://github.com/Julia-XAI/RelevancePropagation.jl)."
   ],
   "metadata": {}
  },
  {
   "cell_type": "markdown",
   "source": [
    "---\n",
    "\n",
    "*This notebook was generated using [Literate.jl](https://github.com/fredrikekre/Literate.jl).*"
   ],
   "metadata": {}
  }
 ],
 "nbformat_minor": 3,
 "metadata": {
  "language_info": {
   "file_extension": ".jl",
   "mimetype": "application/julia",
   "name": "julia",
   "version": "1.11.6"
  },
  "kernelspec": {
   "name": "julia-1.11",
   "display_name": "Julia 1.11.6",
   "language": "julia"
  }
 },
 "nbformat": 4
}
