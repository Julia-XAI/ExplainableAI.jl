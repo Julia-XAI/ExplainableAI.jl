{
 "cells": [
  {
   "cell_type": "markdown",
   "source": [
    "# Analyzer augmentations\n",
    "All analyzers implemented in ExplainableAI.jl can be augmented by two types of augmentations:\n",
    "`NoiseAugmentation`s and `InterpolationAugmentation`s.\n",
    "These augmentations are wrappers around analyzers\n",
    "that modify the input before passing it to the analyzer.\n",
    "\n",
    "We build on the basics shown in the *Getting started* section\n",
    "and start out by loading the same pre-trained LeNet5 model and MNIST input data:"
   ],
   "metadata": {}
  },
  {
   "outputs": [
    {
     "output_type": "execute_result",
     "data": {
      "text/plain": "Chain(\n  Conv((5, 5), 1 => 6, relu),           \u001b[90m# 156 parameters\u001b[39m\n  MaxPool((2, 2)),\n  Conv((5, 5), 6 => 16, relu),          \u001b[90m# 2_416 parameters\u001b[39m\n  MaxPool((2, 2)),\n  Flux.flatten,\n  Dense(256 => 120, relu),              \u001b[90m# 30_840 parameters\u001b[39m\n  Dense(120 => 84, relu),               \u001b[90m# 10_164 parameters\u001b[39m\n  Dense(84 => 10),                      \u001b[90m# 850 parameters\u001b[39m\n) \u001b[90m                  # Total: 10 arrays, \u001b[39m44_426 parameters, 174.344 KiB."
     },
     "metadata": {},
     "execution_count": 1
    }
   ],
   "cell_type": "code",
   "source": [
    "using ExplainableAI\n",
    "using VisionHeatmaps\n",
    "using Zygote\n",
    "using Flux\n",
    "\n",
    "using BSON # hide\n",
    "model = BSON.load(\"../model.bson\", @__MODULE__)[:model] # hide\n",
    "model"
   ],
   "metadata": {},
   "execution_count": 1
  },
  {
   "outputs": [
    {
     "output_type": "execute_result",
     "data": {
      "text/plain": "28×28 reinterpret(reshape, ColorTypes.Gray{Float32}, ::Matrix{Float32}) with eltype ColorTypes.Gray{Float32}:\n 0.0  0.0  0.0  0.0  0.0  0.0  0.0  …  0.0        0.0  0.0  0.0  0.0  0.0\n 0.0  0.0  0.0  0.0  0.0  0.0  0.0     0.0        0.0  0.0  0.0  0.0  0.0\n 0.0  0.0  0.0  0.0  0.0  0.0  0.0     0.0        0.0  0.0  0.0  0.0  0.0\n 0.0  0.0  0.0  0.0  0.0  0.0  0.0     0.0        0.0  0.0  0.0  0.0  0.0\n 0.0  0.0  0.0  0.0  0.0  0.0  0.0     0.0        0.0  0.0  0.0  0.0  0.0\n 0.0  0.0  0.0  0.0  0.0  0.0  0.0  …  0.0        0.0  0.0  0.0  0.0  0.0\n 0.0  0.0  0.0  0.0  0.0  0.0  0.0     0.0        0.0  0.0  0.0  0.0  0.0\n 0.0  0.0  0.0  0.0  0.0  0.0  0.0     0.0        0.0  0.0  0.0  0.0  0.0\n 0.0  0.0  0.0  0.0  0.0  0.0  0.0     0.0235294  0.0  0.0  0.0  0.0  0.0\n 0.0  0.0  0.0  0.0  0.0  0.0  0.0     0.407843   0.0  0.0  0.0  0.0  0.0\n ⋮                        ⋮         ⋱                       ⋮         \n 0.0  0.0  0.0  0.0  0.0  0.0  0.0     0.0        0.0  0.0  0.0  0.0  0.0\n 0.0  0.0  0.0  0.0  0.0  0.0  0.0  …  0.0        0.0  0.0  0.0  0.0  0.0\n 0.0  0.0  0.0  0.0  0.0  0.0  0.0     0.0        0.0  0.0  0.0  0.0  0.0\n 0.0  0.0  0.0  0.0  0.0  0.0  0.0     0.0        0.0  0.0  0.0  0.0  0.0\n 0.0  0.0  0.0  0.0  0.0  0.0  0.0     0.0        0.0  0.0  0.0  0.0  0.0\n 0.0  0.0  0.0  0.0  0.0  0.0  0.0     0.0        0.0  0.0  0.0  0.0  0.0\n 0.0  0.0  0.0  0.0  0.0  0.0  0.0  …  0.0        0.0  0.0  0.0  0.0  0.0\n 0.0  0.0  0.0  0.0  0.0  0.0  0.0     0.0        0.0  0.0  0.0  0.0  0.0\n 0.0  0.0  0.0  0.0  0.0  0.0  0.0     0.0        0.0  0.0  0.0  0.0  0.0",
      "image/png": "[encoded data removed]",
      "text/html": [
       "<img src=\"data:image/png;base64,iVBORw0KGgoAAAANSUhEUgAAAHAAAABwCAAAAADji6uXAAAAAXNSR0IArs4c6QAAAARnQU1BAACxjwv8YQUAAAAgY0hSTQAAeiYAAICEAAD6AAAAgOgAAHUwAADqYAAAOpgAABdwnLpRPAAAAjhJREFUaAW9wb2L1gUAB/DPcd+oQaPswCGqpSGHXqYTapGgJSg4CeoPcEiECqFDpCGwTdIQImuIsGiTtmjJgl6GoKEiIhqCoMQsOOhFy85r+A3H8fTo73mM7+cTZVEWZVEWZVEWZVEWZVEWZVEWZVEWZVEWZVEWZVEWZVEWZVEWZVEWZVEWc7gTS1jBHlzGSXyK71xZlEVZlMUM7sYB7MWSrXbjH3yLj/E0/jYpyqIsymKEe3AAj+NGgx/xEb7HKj7HMnbgYXyBkyZFWZRFWVzFq1jBksH7+AqHcdHgfuzH67gP5/AyTuO8raIsyqIsprgBq9iHBZzHKziKP2x1CxbxPN7DHaaLsiiLsphiD57FAn7CXnxmq0XchlN4FzcbLOBNrJkUZVEWZTHFItYNLmE3HsNdBhewC7vwC3badA4v4JJJURZlURZTnMEHeAi34wQ2DNaxaNNOg8t4B0/hrP8WZVEWZTHFBazgJhzCA/gVP+B63ItlW72Gw1gzXZRFWZTFVazhkEmnsGzwGw7iDay7siiLsiiLOaziCZv2423jRFmURVnMaB+eQwy+xmnjRVmURVnMYBkvYpvB73gSfxkvyqIsymIGj2C7wZ94FJ+YTZRFWZTFSNuxatNb+NDsoizKoixG2IZvcJ3Bl3jGfKIsyqIsRngQt2LD4CAumk+URVmUxQhHsGFwFGfML8qiLMpihB1YwM94ybWJsiiLshjhGI7hCM66NlEWZVEWIxzHcf+PKIuyKPsXNwdYfgiRxs8AAAAASUVORK5C\">"
      ]
     },
     "metadata": {},
     "execution_count": 2
    }
   ],
   "cell_type": "code",
   "source": [
    "using MLDatasets\n",
    "using ImageCore, ImageIO, ImageShow\n",
    "\n",
    "index = 10\n",
    "x, y = MNIST(Float32, :test)[10]\n",
    "input = reshape(x, 28, 28, 1, :)\n",
    "\n",
    "convert2image(MNIST, x)"
   ],
   "metadata": {},
   "execution_count": 2
  },
  {
   "cell_type": "markdown",
   "source": [
    "## Noise augmentation\n",
    "The `NoiseAugmentation` wrapper computes explanations averaged over noisy inputs.\n",
    "Let's demonstrate this on the `Gradient` analyzer.\n",
    "First, we compute the heatmap of an explanation without augmentation:"
   ],
   "metadata": {}
  },
  {
   "outputs": [
    {
     "output_type": "execute_result",
     "data": {
      "text/plain": "1-element Vector{Matrix{ColorTypes.RGB{Float64}}}:\n [RGB(0.542044692993164, 0.5190736373901367, 0.18255157775878905) RGB(0.5405419067382813, 0.5186877868652343, 0.18299835205078127) … RGB(0.5501000518798829, 0.5211419052124023, 0.18022431030273436) RGB(0.5480906158447265, 0.5206259689331054, 0.18076740112304687); RGB(0.5577551651000977, 0.5230979751586914, 0.1782020248413086) RGB(0.5673554992675781, 0.5255300598144531, 0.17589942016601562) … RGB(0.550458218383789, 0.5212338668823242, 0.18012750854492188) RGB(0.5480906158447265, 0.5206259689331054, 0.18076740112304687); … ; RGB(0.5540689025878907, 0.5221609344482422, 0.17915164794921876) RGB(0.5669629669189453, 0.5254306182861328, 0.17598839416503906) … RGB(0.5511143676757813, 0.5214023376464844, 0.1799501708984375) RGB(0.5480906158447265, 0.5206259689331054, 0.18076740112304687); RGB(0.5480906158447265, 0.5206259689331054, 0.18076740112304687) RGB(0.5480906158447265, 0.5206259689331054, 0.18076740112304687) … RGB(0.5480906158447265, 0.5206259689331054, 0.18076740112304687) RGB(0.5480906158447265, 0.5206259689331054, 0.18076740112304687)]",
      "text/html": [
       "<table><tbody><tr><td style='text-align:center;vertical-align:middle; margin: 0.5em;border:1px #90999f solid;border-collapse:collapse'><img style='max-width: 100px; max-height:100px;display:inline' src=\"data:image/png;base64,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\"></td></tr></tbody></table><div><small>(a vector displayed as a row to save space)</small></div>"
      ]
     },
     "metadata": {},
     "execution_count": 3
    }
   ],
   "cell_type": "code",
   "source": [
    "analyzer = Gradient(model)\n",
    "heatmap(input, analyzer)"
   ],
   "metadata": {},
   "execution_count": 3
  },
  {
   "cell_type": "markdown",
   "source": [
    "Now we wrap the analyzer in a `NoiseAugmentation` with 10 samples of noise.\n",
    "By default, the noise is sampled from a Gaussian distribution\n",
    "with mean 0 and standard deviation 1."
   ],
   "metadata": {}
  },
  {
   "outputs": [
    {
     "name": "stdout",
     "output_type": "stream",
     "text": [
      "\rSampling NoiseAugmentation...   4%|▉                     |  ETA: 0:00:23\u001b[K\rSampling NoiseAugmentation... 100%|██████████████████████| Time: 0:00:01\u001b[K\n"
     ]
    },
    {
     "output_type": "execute_result",
     "data": {
      "text/plain": "1-element Vector{Matrix{ColorTypes.RGB{Float64}}}:\n [RGB(0.4603275299072266, 0.49688392639160156, 0.2155700225830078) RGB(0.4631148681640625, 0.49766931152343746, 0.21421484375) … RGB(0.4597404006958008, 0.49671742706298827, 0.2158592056274414) RGB(0.46232615127563476, 0.49745069961547855, 0.21458562698364256); RGB(0.4627092025756836, 0.4975576065063476, 0.214402978515625) RGB(0.467733065032959, 0.49894098892211913, 0.2120730712890625) … RGB(0.4643180198669434, 0.49800061416625974, 0.2136568603515625) RGB(0.46615114822387693, 0.49850538864135746, 0.2128067138671875); … ; RGB(0.464503849029541, 0.49805178451538085, 0.2135706787109375) RGB(0.46724369735717775, 0.4988062355041504, 0.21230002441406248) … RGB(0.467699373626709, 0.49893171157836913, 0.2120886962890625) RGB(0.46001111602783207, 0.4967941970825195, 0.21572586822509765); RGB(0.46531381149291995, 0.4982748176574707, 0.2131950439453125) RGB(0.4633474441528321, 0.49773335418701176, 0.21410698242187498) … RGB(0.46083317871093754, 0.49702731933593747, 0.2153209716796875) RGB(0.4632642684936524, 0.4977104507446289, 0.21414555664062498)]",
      "text/html": [
       "<table><tbody><tr><td style='text-align:center;vertical-align:middle; margin: 0.5em;border:1px #90999f solid;border-collapse:collapse'><img style='max-width: 100px; max-height:100px;display:inline' src=\"data:image/png;base64,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\"></td></tr></tbody></table><div><small>(a vector displayed as a row to save space)</small></div>"
      ]
     },
     "metadata": {},
     "execution_count": 4
    }
   ],
   "cell_type": "code",
   "source": [
    "analyzer = NoiseAugmentation(Gradient(model), 50)\n",
    "heatmap(input, analyzer)"
   ],
   "metadata": {},
   "execution_count": 4
  },
  {
   "cell_type": "markdown",
   "source": [
    "Note that a higher sample size is desired, as it will lead to a smoother heatmap.\n",
    "However, this comes at the cost of a longer computation time.\n",
    "\n",
    "We can also set the standard deviation of the Gaussian distribution:"
   ],
   "metadata": {}
  },
  {
   "outputs": [
    {
     "output_type": "execute_result",
     "data": {
      "text/plain": "1-element Vector{Matrix{ColorTypes.RGB{Float64}}}:\n [RGB(0.5180011016845703, 0.5126932525634766, 0.19075169372558595) RGB(0.5167013778686523, 0.5123454391479493, 0.19124595489501953) … RGB(0.5225055908203124, 0.5138834197998047, 0.18911742553710936) RGB(0.5213619140625, 0.5135816162109376, 0.18953041992187497); RGB(0.521087255859375, 0.5135091369628907, 0.18962960205078122) RGB(0.5226122680664063, 0.5139115707397461, 0.1890789031982422) … RGB(0.5254080688476562, 0.5146493515014648, 0.18806930847167969) RGB(0.5216909545898437, 0.5136684463500977, 0.1894115997314453); … ; RGB(0.5200648681640625, 0.513239340209961, 0.1899987976074219) RGB(0.5233304443359375, 0.5141010894775391, 0.18881956176757814) … RGB(0.5184409790039062, 0.5128108139038086, 0.19058520202636717) RGB(0.5199603881835937, 0.5132117691040039, 0.1900365264892578); RGB(0.5218998046875, 0.5137235595703125, 0.189336181640625) RGB(0.5207562377929688, 0.5134217849731446, 0.18974913635253907) … RGB(0.518272378540039, 0.5127658477783203, 0.19064853210449217) RGB(0.5203177734375, 0.5133060791015626, 0.18990747070312497)]",
      "text/html": [
       "<table><tbody><tr><td style='text-align:center;vertical-align:middle; margin: 0.5em;border:1px #90999f solid;border-collapse:collapse'><img style='max-width: 100px; max-height:100px;display:inline' src=\"data:image/png;base64,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\"></td></tr></tbody></table><div><small>(a vector displayed as a row to save space)</small></div>"
      ]
     },
     "metadata": {},
     "execution_count": 5
    }
   ],
   "cell_type": "code",
   "source": [
    "analyzer = NoiseAugmentation(Gradient(model), 50, 0.1)\n",
    "heatmap(input, analyzer)"
   ],
   "metadata": {},
   "execution_count": 5
  },
  {
   "cell_type": "markdown",
   "source": [
    "When used with a `Gradient` analyzer, this is equivalent to `SmoothGrad`:"
   ],
   "metadata": {}
  },
  {
   "outputs": [
    {
     "output_type": "execute_result",
     "data": {
      "text/plain": "1-element Vector{Matrix{ColorTypes.RGB{Float64}}}:\n [RGB(0.392999755859375, 0.477560865020752, 0.2501141960144043) RGB(0.39536894531250005, 0.4782642181396485, 0.24881854553222654) … RGB(0.39273437499999997, 0.477482080078125, 0.25025932617187496) RGB(0.393453125, 0.47769545898437504, 0.249866259765625); RGB(0.38848828125, 0.4762215209960938, 0.2525562255859375) RGB(0.389650244140625, 0.47656647872924807, 0.25193893280029295) … RGB(0.39613940429687505, 0.47849294815063476, 0.2483972007751465) RGB(0.39148251953125, 0.47711043548583987, 0.2509439346313476); … ; RGB(0.396233935546875, 0.47852101211547854, 0.24834550399780272) RGB(0.39453486328125, 0.47801660003662116, 0.24927468414306642) … RGB(0.394678076171875, 0.47805911636352544, 0.24919636459350586) RGB(0.39458427734375, 0.47803126983642574, 0.24924766082763672); RGB(0.3953388671875, 0.4782552886962891, 0.24883499450683594) RGB(0.392660791015625, 0.4774602348327637, 0.2502995674133301) … RGB(0.39540502929687504, 0.47827493057250975, 0.24879881210327148) RGB(0.394711767578125, 0.47806911849975586, 0.24917793960571288)]",
      "text/html": [
       "<table><tbody><tr><td style='text-align:center;vertical-align:middle; margin: 0.5em;border:1px #90999f solid;border-collapse:collapse'><img style='max-width: 100px; max-height:100px;display:inline' src=\"data:image/png;base64,iVBORw0KGgoAAAANSUhEUgAAAHAAAABwCAIAAABJgmMcAAAAAXNSR0IArs4c6QAAAARnQU1BAACxjwv8YQUAAAAgY0hSTQAAeiYAAICEAAD6AAAAgOgAAHUwAADqYAAAOpgAABdwnLpRPAAACoJJREFUeAHtwU2PZOdZx+Hf85z7nFNVXd0z3T2TebNnIjtETkBEVghWsoEFYsGSbcQGIfEd+EQsIYqQkBIJNiiRwMJEBNkz9thOxpmeGXdXV3e9nJfnuVn9q0Dq5Vme67K/+bs/RQLOTZyAuLPTeYF0XiApRyQTkEnskGnRITE4UoWEJI9IDI70HpHeI2IhI2VISGDP2es9chMnIM6ee0AygZsYo0EZo0EZo0GZOzseAhLYyx4QZy97QNpcIH2OSCYiFjKS6ZGII85eDI50HpE2G1LFHqliQsqQkCompAiOJA9Ilwuk94j0HpGOiARnxwmIMRqUMRqUMRqUEdjzgFhMSAiOJI9IChEJOJIJiIWENLlAum6K3LYtcp1rpAgZSR6RMiZk2U+QOvTItOiQedEhD+st4gTkOkXkoquQRT9B3APiBMTZM0aDMkaDMkaDsuQRaZIhXT9BOo/sODtlzMi06BAnIBftDHm1mSHZAzKxhGQPyGHZIIdlg3S5QIrgyLRo2QnstB6R1gNynQy57g1Z9jWy6iukjAkJ3MwYDcoYDcoYDcoCjoTgyKqvEHd2Tqo18miyRB7Va6T3gHyyOkbuTWrk+fUJsmhqZFr2SBEc+Wp9hFjMyLozpCoSewH5tGyQO/UKuewmyLTokUnskUnRIbPQIRYy0nqBGKNBGaNBGaNBmROQ5JGbFMGRI2uQKiTkxDKyzgF5e7JEXjSHyJ16hTh7FjPy2fkRsr5kJ20y4j07NjckluxU0wo5n0+Rw7JFTqs1Mi06pIoJqWPPTYyAGKNBGaNBGaNBmXtAypCQk3KNVDEhEUcW/QT5um+Qq75EPtvcRlZ9hVz1NRICO9ddheTMTojsHL8VkBgcmVYdEnHkclMiAUcSAVl0UyQTkDpukM4LZBJ7ZJsDYowGZYwGZYwGZTE4Mi06pI49Mi9a5Lhskau+RLapQA6KHrllW+Td2QXydNUhX26OkTIm5PcevUEeTZbIj+9G5HH1mL2APGs+Rf59tUI+urqLXHYTZJNKZJ0qZJ0qZBo75Fa5QQJ7xmhQxmhQxmhQ5uwFHIk4ctlPkN4jUoaMrLMhjWfk9w8ukURA3j55iXy8XiJv1xvkvekUeVI9QJ6c/BkS5u+yU9TI6cWHyKPy35Bb9hT5bDNFnq5OkOtUI5tUIk0ypIwJsZARYzQoYzQoYzQoizjSZEPabEjnEVn2NfIH8zfIjw5nyA/f+lt2PLETAvLF2T8iPzrokPuTd5AXm2fIm/4cuXr9D0j/qkdO7Bh50Z0hnzVXyIfL20gmIE025NV2jtSxR+oicRNnzxgNyhgNyhgNysqYkIgji26KbHKJFCEj61wgB7FG3rz5OfJF8xz55WqBfHBwjBRE5L8u/hX5xfIAab1Anq9nyKPJEnmxTchHZ99F3rt7jhyXG+R+fYW8OztHjqxBWi+QbSqRaewQZ88YDcoYDcoYDcoijljIyJ1qhTyaXCO3LSH3yogkz8hPFh8iv9lOkG/P2Pm8XSCPyjnyi+UB8mx9iny8uIO8ehERT3eR66ctUpQNkr5/grx1skamRYf0OSJv2gMkBkeSR+R2uUHKkBFjNChjNChjNChzAlLFhJyWW+Re1SOHMSIfbwLys4uMJD9F3j88Rx6WE+Rni4D8MjviBOTd2dfIcblB4t2MPJxcI+0PI3JoHXJY9Miz9RGy6KdIIiJX/QQ5tC0ytwaxkBALGTFGgzJGgzJGg7LsAYnBkYd1hxzGiHzZsnPVl8gHRxfIX9z+Y+T4+MfszL+F/PDVz5Hr5gXym+YL5J8Wl8iRtcjDukH+6sFfIiltkKa/RJ5u/ge5Vy6Qfz6vkVfNHClDQsqYkNNyjVjISCYgxmhQxmhQxmhQNil65KhoEXd2ehz5o4M5sp62yPuz7yPHT/4a8dljJE8fINXmK2SSVsinyw+RX109RCaxR75qOuSe/QR5f/Zt9hx53V8jt61C5kWDFCEjM2uRPhdIkwtk7SVSxYQYo0EZo0EZo0FZETLSeIG0HpBlG5DOr5EXTYF80fwH8u7m18jj8h7y+OgHyL+8+SlykRrk78/eQj5Z3kHOzkrkwf0WadJXyH/OniHbbEj2Cnm+OUY+Xx0jB9YhXY7ISbVBZkWHNNmQwJ4xGpQxGpQxGpRFHNkmQ950hlQxI7+6niL/fXUPKYIjb08vkMeT3yJ/ki6R1hPyqnPkTXOAXK5KpLvOiIWM3C63yG+3R8h5N0M+WZ4iV9sSuV4EZH7bkaNph8ytRc6aQ+TAWsRCQozRoIzRoIzRoKzJhhQhI4uuRs7aOfLx1V3k85czpHmVEDv+BlIfsPPTu1fI+XaCvPxdibQveyR3HVLeKZDnn9bI66v3uEldZeTqKiK3jhLy3Scr5DuHr5CAI07gJptUImXIiDEalDEalDEalHUeEWevjj1iISPTokfKmp22DognR9Znjnz05QxZftYih48DEiwg5VFEYh2Q3Dhy/ZqddJkRO41IfciOs/dwskQCjhwUHbLNhgQc6UJEeo+IMRqUMRqUMRqUZQ/IOpdImw35up0hm2RIVTkS7kdku2QnzNjxzM7stEDK0wLxxM7JQ0esyMj51wUymbPTHBTIN+50yJ/ff4rE4MiTyQppckQmMSMXfYmcdxMkZHayB8QYDcoYDcoYDcqyRyR7RDY5IJOiRx5Nl0gVEzIvW2R1UiHn2wmy7QrEv1kipwdbZLGtkA/uvkDemV4gn5yeIq+bObK5bcj3jn6H3LIG+cGcnTt2gpyna2SRWqTJPbIMGSlCRpJHxBgNyhgNyhgNyjIB6T0iTTYk4EjnBRKDI00qkKuuQlKOSF1mZN0UyKotkXeOFsj3Dl8hD6qMzO0l8qR25E3nyHemU+RR+QApQ4lUcYIc9BfIrbhCAkuk8S2ySiWSQ0KM0aCM0aCM0aAs4EjAkd4j0ueIbFKJbFKJFMGRwN68apH70ytkNa2RmbXIw3qJnLVT5K1qhXxrws4fTr6JHBweIc+3z5HP2zPEcaT3jCxSj6ySI9cpIouuRixkJIWAGKNBGaNBGaNBmbMXgyN17JEyBKSIGamLHgnsTYsOmRcNclJtkKu+QrIHpIwJmcUeqWLkJo4jz7afIr/eXCGfrA+R826KPKivkcv+ACljRiKObFKJ9B4RJyDGaFDGaFDGaFAW2LOQkaJokcDeJpfIFkcOiha5VW6RedEi86JDZkWHvGzmyGU3QXqPiK2uEIsZedF+jix7Qy76OfJ1N0VWqUauU4MsuikyKXpu0uWIWHDE2TNGgzJGgzJGg7IiZG6SPSLOXhV6ZFJ2iIXMTVapQnqPyKKbIq/bA8RCRnovkE0qkXWqkDr2iIWEvG7nSB0TEkNGXjaHiLOXU0AOihYpY0bc2YmBHWM0KGM0KGM0KOP/CYhzMwsZKYIjzl6XCyQERzwbktmbFB1Sx4QEHOk9IkXIyCpVSMSRImRkkwyZFD3iHpBJ0SERR7IHJAR2YuBGxmhQxmhQxmhQxv/h7MXgSBEy4h64iROQ7AGxkBBnr44JKcOWmySPSGAvsGdFi/QeEc8BKYoeKULmJk5AnL3OC6QkISE4ewExRoMyRoMyRoP6X1avMz5XWkJzAAAAAElFTkSuQmCC\"></td></tr></tbody></table><div><small>(a vector displayed as a row to save space)</small></div>"
      ]
     },
     "metadata": {},
     "execution_count": 6
    }
   ],
   "cell_type": "code",
   "source": [
    "analyzer = SmoothGrad(model, 50)\n",
    "heatmap(input, analyzer)"
   ],
   "metadata": {},
   "execution_count": 6
  },
  {
   "cell_type": "markdown",
   "source": [
    "We can also use any distribution from\n",
    "[Distributions.jl](https://github.com/JuliaStats/Distributions.jl),\n",
    "for example Poisson noise with rate $\\lambda=0.5$:"
   ],
   "metadata": {}
  },
  {
   "outputs": [
    {
     "output_type": "execute_result",
     "data": {
      "text/plain": "1-element Vector{Matrix{ColorTypes.RGB{Float64}}}:\n [RGB(0.37623701171875, 0.4726844253540039, 0.2591813217163086) RGB(0.374630419921875, 0.4722074684143066, 0.2600599266052246) … RGB(0.3817240234375, 0.4742442565917968, 0.2561806121826172) RGB(0.38107607421875, 0.47406202087402344, 0.2565349594116211); RGB(0.37615732421875003, 0.4726607681274414, 0.2592249008178711) RGB(0.3775716796875, 0.47307640991210936, 0.2584514251708984) … RGB(0.389036572265625, 0.4763842948913575, 0.2522649459838867) RGB(0.382685302734375, 0.47451461639404297, 0.2556549125671387); … ; RGB(0.3727138671875, 0.4716384918212891, 0.26110804138183596) RGB(0.37553896484375, 0.47247719268798827, 0.2595630661010742) … RGB(0.3742064453125, 0.47208160095214846, 0.26029178771972655) RGB(0.37317895507812504, 0.47177656478881835, 0.2608536964416504); RGB(0.37834062500000004, 0.47329267578124995, 0.25803090820312496) RGB(0.37786318359375004, 0.47315839538574217, 0.258292008972168) … RGB(0.37780053710937506, 0.4731407760620117, 0.25832626876831055) RGB(0.376223974609375, 0.4726805549621582, 0.25918845138549806)]",
      "text/html": [
       "<table><tbody><tr><td style='text-align:center;vertical-align:middle; margin: 0.5em;border:1px #90999f solid;border-collapse:collapse'><img style='max-width: 100px; max-height:100px;display:inline' src=\"data:image/png;base64,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\"></td></tr></tbody></table><div><small>(a vector displayed as a row to save space)</small></div>"
      ]
     },
     "metadata": {},
     "execution_count": 7
    }
   ],
   "cell_type": "code",
   "source": [
    "using Distributions\n",
    "\n",
    "analyzer = NoiseAugmentation(Gradient(model), 50, Poisson(0.5))\n",
    "heatmap(input, analyzer)"
   ],
   "metadata": {},
   "execution_count": 7
  },
  {
   "cell_type": "markdown",
   "source": [
    "Is is also possible to define your own distributions or mixture distributions.\n",
    "\n",
    "`NoiseAugmentation` can be combined with any analyzer type from the Julia-XAI ecosystem,\n",
    "for example `LRP` from [RelevancePropagation.jl](https://github.com/Julia-XAI/RelevancePropagation.jl)."
   ],
   "metadata": {}
  },
  {
   "cell_type": "markdown",
   "source": [
    "## Integration augmentation\n",
    "The `InterpolationAugmentation` wrapper computes explanations\n",
    "averaged over `n` steps of linear interpolation between the input and a reference input,\n",
    "which is set to `zero(input)` by default:"
   ],
   "metadata": {}
  },
  {
   "outputs": [
    {
     "output_type": "execute_result",
     "data": {
      "text/plain": "1-element Vector{Matrix{ColorTypes.RGB{Float64}}}:\n [RGB(0.7892717529296875, 0.5711786254882814, 0.23524071044921874) RGB(0.7892717529296875, 0.5711786254882814, 0.23524071044921874) … RGB(0.7892717529296875, 0.5711786254882814, 0.23524071044921874) RGB(0.7892717529296875, 0.5711786254882814, 0.23524071044921874); RGB(0.7892717529296875, 0.5711786254882814, 0.23524071044921874) RGB(0.7892717529296875, 0.5711786254882814, 0.23524071044921874) … RGB(0.7892717529296875, 0.5711786254882814, 0.23524071044921874) RGB(0.7892717529296875, 0.5711786254882814, 0.23524071044921874); … ; RGB(0.7892717529296875, 0.5711786254882814, 0.23524071044921874) RGB(0.7892717529296875, 0.5711786254882814, 0.23524071044921874) … RGB(0.7892717529296875, 0.5711786254882814, 0.23524071044921874) RGB(0.7892717529296875, 0.5711786254882814, 0.23524071044921874); RGB(0.7892717529296875, 0.5711786254882814, 0.23524071044921874) RGB(0.7892717529296875, 0.5711786254882814, 0.23524071044921874) … RGB(0.7892717529296875, 0.5711786254882814, 0.23524071044921874) RGB(0.7892717529296875, 0.5711786254882814, 0.23524071044921874)]",
      "text/html": [
       "<table><tbody><tr><td style='text-align:center;vertical-align:middle; margin: 0.5em;border:1px #90999f solid;border-collapse:collapse'><img style='max-width: 100px; max-height:100px;display:inline' src=\"data:image/png;base64,iVBORw0KGgoAAAANSUhEUgAAAHAAAABwCAIAAABJgmMcAAAAAXNSR0IArs4c6QAAAARnQU1BAACxjwv8YQUAAAAgY0hSTQAAeiYAAICEAAD6AAAAgOgAAHUwAADqYAAAOpgAABdwnLpRPAAABE9JREFUeAHtwTtsVQUcx/HvOfd/em/vpdDSNm2RiERRGmvQAU2ML6ImPiJOLo5uLiZuOjo7mDiYaBxcZTWOmiAyGGOwJYIEjYLl2dIH7e3t7T33HKdfWUgM5E8f5v/52E+fPkPwYwRXRnBlBFdGcGUEV0ZwZQRXRnBlBFdGcGUEV0ZwZQRXRnBlBFdGcGUEV0ZwZQRXRnBlBFdGcGUEV0ZwZQRXRnBlBFfGFpaQcEuJTK7MI6eX+5GRahM5vKOCDFTqSEHJvWQEV0ZwZQRXxhZQUiIJCbLQbSIL3Q7SJUFqlRxpFxXk4toqkmcF8lz/80hetJHzK78hBQV3ywiujODKCK6MDdQs2siutI6M9owi8/kccj1fQgYrVWSlaCGHdjSRy2spcmppALlRW0Imev9BWkULGajsQm5057lbRnBlBFdGcGXcY2tljjxS3Y/UswGk0bsPWZo/geyxfiQnR8YrNW6nN72JvNCXICn9yLG580ijUiCdIkEON/qQNEm5E0ZwZQRXRnBl3AOdMkcerU8gu/a9w7ruCjL912fIctFEuhTckvBfXh16A7mw9AvSKtvIWE+BXFg15OHeLh6M4MoIrozgynBSS3qQ8cYTyOLaFaT8+0uk1V1CrubXuRMJCVJNMmRq8ThyujWPrBYJ8mb/QWS5dxmZzeeRNEm5W0ZwZQRXRnBlOFnoNpFPLp1EziwPI5NzDeT9h84gJ+bHkNOLo8gHD/6KTDbryGv9CfLNYgvZaWvIcMa6g7Uqsla0kfsbE0hn+RTSKtvcLSO4MoIrI7gynFQT45YOMjU/gpz7dg15Nz2EZNUE6d1TQU6N1JGvpiaQ9mNnkYVOAxnMVpCibCH7elLkUuc6srB0E8np4sEIrozgygiuDCdJkiCv9NeRIzvPIZ/v3omMVW8ip5fGkKGeJlJNu8iLB6aRH2b2I0fHfud20qREirJE6pUMyenizQiujODKCK6Me6yaZsh797W4JUPeGprl9nqR45VryMnLe5GzfcPI3toC8lQf63ZUamwUI7gygisjuDK2sJQUydICeXLsCrLD2sjruwukntbZDEZwZQRXRnBlbDGPD7yMJOMfIqs/Pou8PTiIXF27jLTLGlJSshmM4MoIrozgytgCHqg+gNjIS6y7+DXy9IGPWGcNpPnnx8hqPsdmM4IrI7gygitjC6hng6xrz7EuMaRYnESuLv6MzORzbCVGcGUEV0ZwZWySDEPqOw8hZf8EkqxMI5euHEOu5TNsVUZwZQRXRnBlbJKhbBCZmf0OGS47SKc1jVzLZ9gOjODKCK6M4MrYQLP5MnK+vYAc3X0E+X76C2TUBthujODKCK6M4MrYQFMrrJuoV5A/mlNIllSQlXKV7cYIrozgygiujA2023IkxZCcAqklGduZEVwZwZURXBkbaLzWQDplF6mQImVSsp0ZwZURXBnBlbGBqmmGVMmQnC7/F0ZwZQRXRnD1LxDMHwivzatpAAAAAElFTkSuQmCC\"></td></tr></tbody></table><div><small>(a vector displayed as a row to save space)</small></div>"
      ]
     },
     "metadata": {},
     "execution_count": 8
    }
   ],
   "cell_type": "code",
   "source": [
    "analyzer = InterpolationAugmentation(Gradient(model), 50)\n",
    "heatmap(input, analyzer)"
   ],
   "metadata": {},
   "execution_count": 8
  },
  {
   "cell_type": "markdown",
   "source": [
    "When used with a `Gradient` analyzer, this is equivalent to `IntegratedGradients`:"
   ],
   "metadata": {}
  },
  {
   "outputs": [
    {
     "output_type": "execute_result",
     "data": {
      "text/plain": "1-element Vector{Matrix{ColorTypes.RGB{Float64}}}:\n [RGB(0.7892717529296875, 0.5711786254882814, 0.23524071044921874) RGB(0.7892717529296875, 0.5711786254882814, 0.23524071044921874) … RGB(0.7892717529296875, 0.5711786254882814, 0.23524071044921874) RGB(0.7892717529296875, 0.5711786254882814, 0.23524071044921874); RGB(0.7892717529296875, 0.5711786254882814, 0.23524071044921874) RGB(0.7892717529296875, 0.5711786254882814, 0.23524071044921874) … RGB(0.7892717529296875, 0.5711786254882814, 0.23524071044921874) RGB(0.7892717529296875, 0.5711786254882814, 0.23524071044921874); … ; RGB(0.7892717529296875, 0.5711786254882814, 0.23524071044921874) RGB(0.7892717529296875, 0.5711786254882814, 0.23524071044921874) … RGB(0.7892717529296875, 0.5711786254882814, 0.23524071044921874) RGB(0.7892717529296875, 0.5711786254882814, 0.23524071044921874); RGB(0.7892717529296875, 0.5711786254882814, 0.23524071044921874) RGB(0.7892717529296875, 0.5711786254882814, 0.23524071044921874) … RGB(0.7892717529296875, 0.5711786254882814, 0.23524071044921874) RGB(0.7892717529296875, 0.5711786254882814, 0.23524071044921874)]",
      "text/html": [
       "<table><tbody><tr><td style='text-align:center;vertical-align:middle; margin: 0.5em;border:1px #90999f solid;border-collapse:collapse'><img style='max-width: 100px; max-height:100px;display:inline' src=\"data:image/png;base64,iVBORw0KGgoAAAANSUhEUgAAAHAAAABwCAIAAABJgmMcAAAAAXNSR0IArs4c6QAAAARnQU1BAACxjwv8YQUAAAAgY0hSTQAAeiYAAICEAAD6AAAAgOgAAHUwAADqYAAAOpgAABdwnLpRPAAABE9JREFUeAHtwTtsVQUcx/HvOfd/em/vpdDSNm2RiERRGmvQAU2ML6ImPiJOLo5uLiZuOjo7mDiYaBxcZTWOmiAyGGOwJYIEjYLl2dIH7e3t7T33HKdfWUgM5E8f5v/52E+fPkPwYwRXRnBlBFdGcGUEV0ZwZQRXRnBlBFdGcGUEV0ZwZQRXRnBlBFdGcGUEV0ZwZQRXRnBlBFdGcGUEV0ZwZQRXRnBlBFfGFpaQcEuJTK7MI6eX+5GRahM5vKOCDFTqSEHJvWQEV0ZwZQRXxhZQUiIJCbLQbSIL3Q7SJUFqlRxpFxXk4toqkmcF8lz/80hetJHzK78hBQV3ywiujODKCK6MDdQs2siutI6M9owi8/kccj1fQgYrVWSlaCGHdjSRy2spcmppALlRW0Imev9BWkULGajsQm5057lbRnBlBFdGcGXcY2tljjxS3Y/UswGk0bsPWZo/geyxfiQnR8YrNW6nN72JvNCXICn9yLG580ijUiCdIkEON/qQNEm5E0ZwZQRXRnBl3AOdMkcerU8gu/a9w7ruCjL912fIctFEuhTckvBfXh16A7mw9AvSKtvIWE+BXFg15OHeLh6M4MoIrozgynBSS3qQ8cYTyOLaFaT8+0uk1V1CrubXuRMJCVJNMmRq8ThyujWPrBYJ8mb/QWS5dxmZzeeRNEm5W0ZwZQRXRnBlOFnoNpFPLp1EziwPI5NzDeT9h84gJ+bHkNOLo8gHD/6KTDbryGv9CfLNYgvZaWvIcMa6g7Uqsla0kfsbE0hn+RTSKtvcLSO4MoIrI7gynFQT45YOMjU/gpz7dg15Nz2EZNUE6d1TQU6N1JGvpiaQ9mNnkYVOAxnMVpCibCH7elLkUuc6srB0E8np4sEIrozgygiuDCdJkiCv9NeRIzvPIZ/v3omMVW8ip5fGkKGeJlJNu8iLB6aRH2b2I0fHfud20qREirJE6pUMyenizQiujODKCK6Me6yaZsh797W4JUPeGprl9nqR45VryMnLe5GzfcPI3toC8lQf63ZUamwUI7gygisjuDK2sJQUydICeXLsCrLD2sjruwukntbZDEZwZQRXRnBlbDGPD7yMJOMfIqs/Pou8PTiIXF27jLTLGlJSshmM4MoIrozgytgCHqg+gNjIS6y7+DXy9IGPWGcNpPnnx8hqPsdmM4IrI7gygitjC6hng6xrz7EuMaRYnESuLv6MzORzbCVGcGUEV0ZwZWySDEPqOw8hZf8EkqxMI5euHEOu5TNsVUZwZQRXRnBlbJKhbBCZmf0OGS47SKc1jVzLZ9gOjODKCK6M4MrYQLP5MnK+vYAc3X0E+X76C2TUBthujODKCK6M4MrYQFMrrJuoV5A/mlNIllSQlXKV7cYIrozgygiujA2023IkxZCcAqklGduZEVwZwZURXBkbaLzWQDplF6mQImVSsp0ZwZURXBnBlbGBqmmGVMmQnC7/F0ZwZQRXRnD1LxDMHwivzatpAAAAAElFTkSuQmCC\"></td></tr></tbody></table><div><small>(a vector displayed as a row to save space)</small></div>"
      ]
     },
     "metadata": {},
     "execution_count": 9
    }
   ],
   "cell_type": "code",
   "source": [
    "analyzer = IntegratedGradients(model, 50)\n",
    "heatmap(input, analyzer)"
   ],
   "metadata": {},
   "execution_count": 9
  },
  {
   "cell_type": "markdown",
   "source": [
    "To select a different reference input, pass it to the `analyze` function\n",
    "using the keyword argument `input_ref`.\n",
    "Note that this is an arbitrary example for the sake of demonstration."
   ],
   "metadata": {}
  },
  {
   "outputs": [
    {
     "output_type": "execute_result",
     "data": {
      "text/plain": "1-element Vector{Matrix{ColorTypes.RGB{Float64}}}:\n [RGB(0.5700147277832031, 0.5262036819458008, 0.1752970932006836) RGB(0.5779593811035156, 0.5281851165771485, 0.1737385269165039) … RGB(0.6049205444335938, 0.5346333740234375, 0.17031295166015625) RGB(0.5770931091308594, 0.5279732772827148, 0.1739000442504883); RGB(0.5695549392700194, 0.5260872512817383, 0.1754008804321289) RGB(0.5767471801757812, 0.5278867950439453, 0.17396831970214843) … RGB(0.5702010864257813, 0.5262502716064453, 0.17526031188964844) RGB(0.5770931091308594, 0.5279732772827148, 0.1739000442504883); … ; RGB(0.5645154190063476, 0.5248105728149414, 0.17654317169189454) RGB(0.5449493194580077, 0.5198194198608398, 0.18168804016113282) … RGB(0.5758977233886718, 0.527674430847168, 0.17413597564697267) RGB(0.5770931091308594, 0.5279732772827148, 0.1739000442504883); RGB(0.5770931091308594, 0.5279732772827148, 0.1739000442504883) RGB(0.5770931091308594, 0.5279732772827148, 0.1739000442504883) … RGB(0.5770931091308594, 0.5279732772827148, 0.1739000442504883) RGB(0.5770931091308594, 0.5279732772827148, 0.1739000442504883)]",
      "text/html": [
       "<table><tbody><tr><td style='text-align:center;vertical-align:middle; margin: 0.5em;border:1px #90999f solid;border-collapse:collapse'><img style='max-width: 100px; max-height:100px;display:inline' src=\"data:image/png;base64,iVBORw0KGgoAAAANSUhEUgAAAHAAAABwCAIAAABJgmMcAAAAAXNSR0IArs4c6QAAAARnQU1BAACxjwv8YQUAAAAgY0hSTQAAeiYAAICEAAD6AAAAgOgAAHUwAADqYAAAOpgAABdwnLpRPAAACrdJREFUeAHtwTusZddBx+HfWnvtfd73NS/PneuZ2JOJLWN7rEh2UBBICEIKHqIgKYLoUkAJJTWQmoYGhESNhACBC0AJRCiWHUycOPHYjj0Zezz2PO7r3PPej7Wo/mdTHGkEWuX6Pvfnf/YCYk1AMlp1MEgdDHJUFUjAIGd1B1l6h1zuTJBJ3UF28yVyXHWRbbdCFo1DCtsgs6ZA9vIl0rEN8kRRI01go0Br5Q3iTEACLUNrFQziSKJyJFE5kqgc/0fbrkHqUCGeVqCVNZ6WQTLjkb6tEVfMkW1XIwtfIXWwyJarkMwEZOEzxNPybJYb1ibBIA0tHwybWBMQRxKVI4nKkUTlPK3SW2SYeSQE1iyt+2UfeX5whtye7yAvDI+Qhc+QXVciT3VZ86FBjuuA7OQeeVQHxNI6lwfk3VmBPCwdkhuPlMEiB50G2co8UgWD1AQk0Aq0HElUjiQqRxKV88EgPhhk3lhkmDVIFVh7bnCGzL1BtvMlklvW3puPkN84N0P23R5ijUVKXyIzv0QWYYoMrUE+XObIU70F0gTWHlU5cqVTIae1QUpvkdO6QHbzEsloGRMQRxKVI4nKkUTlOtYjwVukYz1SBYMcFBZpQkDOd/pIE+bIS71t5FoxQ67mF5CLxRVkWp8gje0hJ+UMeWe6heS2QS4WS6RrDdIxBtl1DfLtkz0kMwHp2ho5XywQQ8vTcrQcSVSOJCpHEpUztJpgkEntkMJ65O1ZhgyyBvnJvERGjrVlqJCudcjTo1eQh/NbiMEi7y8/Qv7i3gHy9Uu3kUdVhvz6zgFyt3yAvDbxyGndQY6qAfJU7xi51p0juQnISe2QC3mNnDYWcSRROZKoHElUrgoGearrkQuui7y7XCB1MMisyZBpUyDP9CvkjekKcSYgf3P/e0gVMmSQlci8OYcUtkZ+afgMMnQ7yL3VR8gXup9D/u7oIXJS9pBhtkL28hXyyaqHHFc95KA7QcaNRTomII4kKkcSlSOJyvlgkGnTIIfVAnl/voX85l6JfFotkC/2zyOfVBWyNzDIrUWJ3JnvIV/cuYdcyBfIV3d2EB9K5GE9Q/5z9j5yLsuRKtTIL2yfID+clshPZ+eRv7p9DbkymiAXihnSsxWy1Zsiq2AQRxKVI4nKkUTl5j5jrWYt0Jo3OTLIDHK0WCGvjh8g//roOlIFi/zovS3kxWfOkEvFHLlc1Mgbs0OkCjzWSV0hP10dIYbW070ZcrkzR768cxfJbUDem+0glztzpA6sGcOaI4nKkUTlSKJyw6xGchOQB2UHaYJFvj8dI/9xfBXZyRfIVy98iLw86CHNUx45qpfIvZK1cWPYpPYG6Wce+clsB7nRHyMXc9YeVawFWl0bEGsDcrXIkYPiFHlz2kUuFUskNwFxJFE5kqgcSVRuYD2SW9audFbI0s+Rj1cDZCdfIJ8ut5GerZGTeoGcz1dIZgJiac2bDLmz2EI8BhlXPWSvmLHJd072kOcGJ4gzAdl1rB1WrP3a9T9Gju7/I5KbHyEzH5CTmjVHEpUjicqRROWWwSA5AbnR7SFdO0VWnrWf31ogb06myLXuHCm9QQKtw7KDvH56gLz22g6yOq6RwecLpBgapC5Z++ZLbyOvHV1FRm6FXO3OkIcVGz26/w/Im7MfI/erGulY1jwGcSRROZKoHElU7qx2yHZWIXdWc6RnDTIJrDUhIPudBbLwFslMQI6rAvmTv3wGufjlLnL20QLZvtFBvvTsEXKlO0a+dmGKVKFBnu3/AJl7g9SBjT6cj5BvzW8j53KL9GyGNBikZz3iSKJyJFE5kqicoTX3BjmuHLLfqZDzziCX8wFys7eLfHfyMbIKBnmmVyL/9Ee3kBd6N5BHv/gQ+c7ZMfLKsI+8u5wgHywN0ssCMm0Mj3Na5cjrJ1eRnWKJ9LMSudE/QvY7CyS3AXEkUTmSqBxJVO5yp0LuLgvE0OpZgxTGInvZCPmX8V3khf4A+dlqhpzUBjmsK+T26h0k0OpY1t6aT2kZNpk1BjFstpUF5IN5DzlddpFZlSPPbh8iHdsguQ3I0hvEkUTlSKJyJFE5Q+tCXiH9LCDHtUH6tkH+9C5rN0cZMrI95Pde+WvErI6Qf7v1h8hL/eeQWTNBPlh9gjyoVsi44bECrWe7HTZ5WA6Rrz/5NvLpagt5uneKjFyNTBuLdExAHElUjiQqRxKV+6x0yJeGBeKDR95ZlMhZYO0HR/vIMCuR/xr3kKuH30S+9VvfRX714PdZ230JOd+skFf/+w+Qy7lBxk1gE0OrCQaZ+xp5fVIgo2yF3C+HyM3RIXJYFYhpMmSYNYil5UiiciRROZKo3PWuR/qmQOaUyHO9AhllPeTNC3eRk6qHTJsOUgeL/PB7v4L88+kMubvYQm5NLiHPb51DwuiIx+nagLzYHSI5GZKbJTJvcmSvWCAfLweIMx7p2waZNhkyzBrEkUTlSKJyJFG5wyogV3KPbNs+sp2NkDrUyINVB9nvnCEBg3z74XXk7+/kyP3XVki1CMjLv+2Rz/dP2CiwNvUOeetsF3krq5AXhyfIpcIgs2aCLL1jkypYJDOBtWCQQMuRROVIonIkUTlnAnLaLJCj+gyZNkfISe2QSfUF5Mr2GTKoS+Sj2S5y/dIx8u9PXkBu3GiQ39n/MdK1nk3KYJG/vfdzyNG0QG5efIScL+bIzUGNzP0CMbRO6wIZZhUSeDxHEpUjicqRROXKYJBPywoJtF4fX0IudabItMqRbVchz/ZXyMp/glgCMrpyCXn53MdI13o28cEg3x8/gWTGI72ORz5dbCFfOX8HuehGyDg/Q+6uCsQQkKXPkCeKFXJc52ziSKJyJFE5kqhcHQxyVjvksOoh/axEjqsectA/Q96d7SJvjLvIfucMOVcska88+TPk5uiQtUDLsDbKPPK7TzxAbs0fIHeXQ+Tts8vIqw+vI+bih0gIBtkvSuS0zpDcBKQOBhllNRJoOZKoHElUjiQqN8o8kpuAGDNH3p/tIXv5AvnI7yKfLbeQg94Y8Rjk+X6DDLJDxJrAWmBt0WTIQRGQs6ZBnuywtu1OkYflEOnaGlk0FunYgIxrg+y6BlkFg3RtQOaNQQItRxKVI4nKkUTlpo1FPC0fDHKtN0b2ixVyVPWR+8sRclL1kG9cuo88qhvEGcNGhrV7qwFyrXuGfFZaZOUtMq4L5Fw+R3LbIMd1B3EmIBeLJbLyBgm0Zo1BAps5kqgcSVSOJCqXmYBYWl3rkW1bI+MmQz7XO0V+efcBspVliKdVesPjTGqHPD8cI2/PesiuK5H9okKud2vk9rJEHpR9JCMgw6xCVt4iA9cgq2CQnIDUwSCeliOJypFE5Uiick0wyCDzSIZHVsEgpbdI1zbIaW2Rvg3IE/kAuVdO2aQOBulnDfLebIgEDJIbj3StRyaNQTrWIxeLOTLIGiQzAamDQWbesBZoGYOEwJoxrDmSqBxJVI4kKhdondQZUnqLdKxHCutZC6yNMo88qAwyaSaIwSCBVu0N0s088mR3jjTBIDuuQXJjkNwE5JPSIKOsQTITEGdohYA0wSCW/yWwZkxgE0cSlSOJypFE5TITkMwEpGs9j+ODQRpaS29peaRvA1JYg8yMRwKtKgRk5jNk0gTEmsAmHevZxNMqAy3DWkbg/8uRROVIonIkUf0Plo4i3nznLC4AAAAASUVORK5C\"></td></tr></tbody></table><div><small>(a vector displayed as a row to save space)</small></div>"
      ]
     },
     "metadata": {},
     "execution_count": 10
    }
   ],
   "cell_type": "code",
   "source": [
    "matrix_of_ones = ones(Float32, size(input))\n",
    "\n",
    "analyzer = InterpolationAugmentation(Gradient(model), 50)\n",
    "expl = analyzer(input; input_ref=matrix_of_ones)\n",
    "heatmap(expl)"
   ],
   "metadata": {},
   "execution_count": 10
  },
  {
   "cell_type": "markdown",
   "source": [
    "Once again, `InterpolationAugmentation` can be combined with any analyzer type from the Julia-XAI ecosystem,\n",
    "for example `LRP` from [RelevancePropagation.jl](https://github.com/Julia-XAI/RelevancePropagation.jl)."
   ],
   "metadata": {}
  },
  {
   "cell_type": "markdown",
   "source": [
    "---\n",
    "\n",
    "*This notebook was generated using [Literate.jl](https://github.com/fredrikekre/Literate.jl).*"
   ],
   "metadata": {}
  }
 ],
 "nbformat_minor": 3,
 "metadata": {
  "language_info": {
   "file_extension": ".jl",
   "mimetype": "application/julia",
   "name": "julia",
   "version": "1.11.5"
  },
  "kernelspec": {
   "name": "julia-1.11",
   "display_name": "Julia 1.11.5",
   "language": "julia"
  }
 },
 "nbformat": 4
}
