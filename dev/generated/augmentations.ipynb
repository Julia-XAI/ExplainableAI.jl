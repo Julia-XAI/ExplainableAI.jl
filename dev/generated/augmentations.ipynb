{
 "cells": [
  {
   "cell_type": "markdown",
   "source": [
    "# Analyzer augmentations\n",
    "All analyzers implemented in ExplainableAI.jl can be augmented by two types of augmentations:\n",
    "`NoiseAugmentation`s and `InterpolationAugmentation`s.\n",
    "These augmentations are wrappers around analyzers\n",
    "that modify the input before passing it to the analyzer.\n",
    "\n",
    "We build on the basics shown in the *Getting started* section\n",
    "and start out by loading the same pre-trained LeNet5 model and MNIST input data:"
   ],
   "metadata": {}
  },
  {
   "outputs": [
    {
     "output_type": "execute_result",
     "data": {
      "text/plain": "Chain(\n  Conv((5, 5), 1 => 6, relu),           \u001b[90m# 156 parameters\u001b[39m\n  MaxPool((2, 2)),\n  Conv((5, 5), 6 => 16, relu),          \u001b[90m# 2_416 parameters\u001b[39m\n  MaxPool((2, 2)),\n  Flux.flatten,\n  Dense(256 => 120, relu),              \u001b[90m# 30_840 parameters\u001b[39m\n  Dense(120 => 84, relu),               \u001b[90m# 10_164 parameters\u001b[39m\n  Dense(84 => 10),                      \u001b[90m# 850 parameters\u001b[39m\n) \u001b[90m                  # Total: 10 arrays, \u001b[39m44_426 parameters, 174.344 KiB."
     },
     "metadata": {},
     "execution_count": 1
    }
   ],
   "cell_type": "code",
   "source": [
    "using ExplainableAI\n",
    "using VisionHeatmaps\n",
    "using Zygote\n",
    "using Flux\n",
    "\n",
    "using BSON # hide\n",
    "model = BSON.load(\"../model.bson\", @__MODULE__)[:model] # hide\n",
    "model"
   ],
   "metadata": {},
   "execution_count": 1
  },
  {
   "outputs": [
    {
     "output_type": "execute_result",
     "data": {
      "text/plain": "28×28 reinterpret(reshape, ColorTypes.Gray{Float32}, ::Matrix{Float32}) with eltype ColorTypes.Gray{Float32}:\n 0.0  0.0  0.0  0.0  0.0  0.0  0.0  …  0.0        0.0  0.0  0.0  0.0  0.0\n 0.0  0.0  0.0  0.0  0.0  0.0  0.0     0.0        0.0  0.0  0.0  0.0  0.0\n 0.0  0.0  0.0  0.0  0.0  0.0  0.0     0.0        0.0  0.0  0.0  0.0  0.0\n 0.0  0.0  0.0  0.0  0.0  0.0  0.0     0.0        0.0  0.0  0.0  0.0  0.0\n 0.0  0.0  0.0  0.0  0.0  0.0  0.0     0.0        0.0  0.0  0.0  0.0  0.0\n 0.0  0.0  0.0  0.0  0.0  0.0  0.0  …  0.0        0.0  0.0  0.0  0.0  0.0\n 0.0  0.0  0.0  0.0  0.0  0.0  0.0     0.0        0.0  0.0  0.0  0.0  0.0\n 0.0  0.0  0.0  0.0  0.0  0.0  0.0     0.0        0.0  0.0  0.0  0.0  0.0\n 0.0  0.0  0.0  0.0  0.0  0.0  0.0     0.0235294  0.0  0.0  0.0  0.0  0.0\n 0.0  0.0  0.0  0.0  0.0  0.0  0.0     0.407843   0.0  0.0  0.0  0.0  0.0\n ⋮                        ⋮         ⋱                       ⋮         \n 0.0  0.0  0.0  0.0  0.0  0.0  0.0     0.0        0.0  0.0  0.0  0.0  0.0\n 0.0  0.0  0.0  0.0  0.0  0.0  0.0  …  0.0        0.0  0.0  0.0  0.0  0.0\n 0.0  0.0  0.0  0.0  0.0  0.0  0.0     0.0        0.0  0.0  0.0  0.0  0.0\n 0.0  0.0  0.0  0.0  0.0  0.0  0.0     0.0        0.0  0.0  0.0  0.0  0.0\n 0.0  0.0  0.0  0.0  0.0  0.0  0.0     0.0        0.0  0.0  0.0  0.0  0.0\n 0.0  0.0  0.0  0.0  0.0  0.0  0.0     0.0        0.0  0.0  0.0  0.0  0.0\n 0.0  0.0  0.0  0.0  0.0  0.0  0.0  …  0.0        0.0  0.0  0.0  0.0  0.0\n 0.0  0.0  0.0  0.0  0.0  0.0  0.0     0.0        0.0  0.0  0.0  0.0  0.0\n 0.0  0.0  0.0  0.0  0.0  0.0  0.0     0.0        0.0  0.0  0.0  0.0  0.0",
      "image/png": "[encoded data removed]",
      "text/html": [
       "<img src=\"data:image/png;base64,iVBORw0KGgoAAAANSUhEUgAAAHAAAABwCAAAAADji6uXAAAAAXNSR0IArs4c6QAAAARnQU1BAACxjwv8YQUAAAAgY0hSTQAAeiYAAICEAAD6AAAAgOgAAHUwAADqYAAAOpgAABdwnLpRPAAAAjhJREFUaAW9wb2L1gUAB/DPcd+oQaPswCGqpSGHXqYTapGgJSg4CeoPcEiECqFDpCGwTdIQImuIsGiTtmjJgl6GoKEiIhqCoMQsOOhFy85r+A3H8fTo73mM7+cTZVEWZVEWZVEWZVEWZVEWZVEWZVEWZVEWZVEWZVEWZVEWZVEWZVEWZVEWc7gTS1jBHlzGSXyK71xZlEVZlMUM7sYB7MWSrXbjH3yLj/E0/jYpyqIsymKEe3AAj+NGgx/xEb7HKj7HMnbgYXyBkyZFWZRFWVzFq1jBksH7+AqHcdHgfuzH67gP5/AyTuO8raIsyqIsprgBq9iHBZzHKziKP2x1CxbxPN7DHaaLsiiLsphiD57FAn7CXnxmq0XchlN4FzcbLOBNrJkUZVEWZTHFItYNLmE3HsNdBhewC7vwC3badA4v4JJJURZlURZTnMEHeAi34wQ2DNaxaNNOg8t4B0/hrP8WZVEWZTHFBazgJhzCA/gVP+B63ItlW72Gw1gzXZRFWZTFVazhkEmnsGzwGw7iDay7siiLsiiLOaziCZv2423jRFmURVnMaB+eQwy+xmnjRVmURVnMYBkvYpvB73gSfxkvyqIsymIGj2C7wZ94FJ+YTZRFWZTFSNuxatNb+NDsoizKoixG2IZvcJ3Bl3jGfKIsyqIsRngQt2LD4CAumk+URVmUxQhHsGFwFGfML8qiLMpihB1YwM94ybWJsiiLshjhGI7hCM66NlEWZVEWIxzHcf+PKIuyKPsXNwdYfgiRxs8AAAAASUVORK5C\">"
      ]
     },
     "metadata": {},
     "execution_count": 2
    }
   ],
   "cell_type": "code",
   "source": [
    "using MLDatasets\n",
    "using ImageCore, ImageIO, ImageShow\n",
    "\n",
    "index = 10\n",
    "x, y = MNIST(Float32, :test)[10]\n",
    "input = reshape(x, 28, 28, 1, :)\n",
    "\n",
    "convert2image(MNIST, x)"
   ],
   "metadata": {},
   "execution_count": 2
  },
  {
   "cell_type": "markdown",
   "source": [
    "## Noise augmentation\n",
    "The `NoiseAugmentation` wrapper computes explanations averaged over noisy inputs.\n",
    "Let's demonstrate this on the `Gradient` analyzer.\n",
    "First, we compute the heatmap of an explanation without augmentation:"
   ],
   "metadata": {}
  },
  {
   "outputs": [
    {
     "output_type": "execute_result",
     "data": {
      "text/plain": "1-element Vector{Matrix{ColorTypes.RGB{Float64}}}:\n [RGB(0.542044692993164, 0.5190736373901367, 0.18255157775878905) RGB(0.5405419067382813, 0.5186877868652343, 0.18299835205078127) … RGB(0.5501000518798829, 0.5211419052124023, 0.18022431030273436) RGB(0.5480906158447265, 0.5206259689331054, 0.18076740112304687); RGB(0.5577551651000977, 0.5230979751586914, 0.1782020248413086) RGB(0.5673554992675781, 0.5255300598144531, 0.17589942016601562) … RGB(0.550458218383789, 0.5212338668823242, 0.18012750854492188) RGB(0.5480906158447265, 0.5206259689331054, 0.18076740112304687); … ; RGB(0.5540689025878907, 0.5221609344482422, 0.17915164794921876) RGB(0.5669629669189453, 0.5254306182861328, 0.17598839416503906) … RGB(0.5511143676757813, 0.5214023376464844, 0.1799501708984375) RGB(0.5480906158447265, 0.5206259689331054, 0.18076740112304687); RGB(0.5480906158447265, 0.5206259689331054, 0.18076740112304687) RGB(0.5480906158447265, 0.5206259689331054, 0.18076740112304687) … RGB(0.5480906158447265, 0.5206259689331054, 0.18076740112304687) RGB(0.5480906158447265, 0.5206259689331054, 0.18076740112304687)]",
      "text/html": [
       "<table><tbody><tr><td style='text-align:center;vertical-align:middle; margin: 0.5em;border:1px #90999f solid;border-collapse:collapse'><img style='max-width: 100px; max-height:100px;display:inline' src=\"data:image/png;base64,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\"></td></tr></tbody></table><div><small>(a vector displayed as a row to save space)</small></div>"
      ]
     },
     "metadata": {},
     "execution_count": 3
    }
   ],
   "cell_type": "code",
   "source": [
    "analyzer = Gradient(model)\n",
    "heatmap(input, analyzer)"
   ],
   "metadata": {},
   "execution_count": 3
  },
  {
   "cell_type": "markdown",
   "source": [
    "Now we wrap the analyzer in a `NoiseAugmentation` with 10 samples of noise.\n",
    "By default, the noise is sampled from a Gaussian distribution\n",
    "with mean 0 and standard deviation 1."
   ],
   "metadata": {}
  },
  {
   "outputs": [
    {
     "output_type": "execute_result",
     "data": {
      "text/plain": "1-element Vector{Matrix{ColorTypes.RGB{Float64}}}:\n [RGB(0.4174036750793457, 0.48461030502319336, 0.2371657699584961) RGB(0.4203138771057129, 0.4854609794616699, 0.2356435104370117) … RGB(0.42575810546875, 0.487037939453125, 0.23282158203124997) RGB(0.4219925346374512, 0.48595166397094725, 0.23476544342041014); RGB(0.4171246757507324, 0.484528751373291, 0.23731170806884766) RGB(0.4235525497436523, 0.48640300674438475, 0.23395777740478516) … RGB(0.4299302871704101, 0.488239022064209, 0.23067227630615236) RGB(0.4241477340698242, 0.48657434768676755, 0.23365116729736327); … ; RGB(0.4222711372375488, 0.4860331016540527, 0.23461971282958985) RGB(0.41979932022094724, 0.48531057052612303, 0.23591266326904295) … RGB(0.4182311515808105, 0.4848521827697754, 0.2367329360961914) RGB(0.4182595176696777, 0.484860474395752, 0.23671809844970704); RGB(0.4229456832885742, 0.48622830276489254, 0.23427040557861328) RGB(0.41632819366455076, 0.4842959335327149, 0.23772832946777342) … RGB(0.4182733535766602, 0.484864518737793, 0.23671086120605467) RGB(0.42051313400268553, 0.48551922378540036, 0.23553928375244138)]",
      "text/html": [
       "<table><tbody><tr><td style='text-align:center;vertical-align:middle; margin: 0.5em;border:1px #90999f solid;border-collapse:collapse'><img style='max-width: 100px; max-height:100px;display:inline' src=\"data:image/png;base64,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\"></td></tr></tbody></table><div><small>(a vector displayed as a row to save space)</small></div>"
      ]
     },
     "metadata": {},
     "execution_count": 4
    }
   ],
   "cell_type": "code",
   "source": [
    "analyzer = NoiseAugmentation(Gradient(model), 50)\n",
    "heatmap(input, analyzer)"
   ],
   "metadata": {},
   "execution_count": 4
  },
  {
   "cell_type": "markdown",
   "source": [
    "Note that a higher sample size is desired, as it will lead to a smoother heatmap.\n",
    "However, this comes at the cost of a longer computation time.\n",
    "\n",
    "We can also set the standard deviation of the Gaussian distribution:"
   ],
   "metadata": {}
  },
  {
   "outputs": [
    {
     "output_type": "execute_result",
     "data": {
      "text/plain": "1-element Vector{Matrix{ColorTypes.RGB{Float64}}}:\n [RGB(0.5170749252319335, 0.5124454025268554, 0.19110390167236327) RGB(0.5156652389526367, 0.5120681625366211, 0.19163997955322265) … RGB(0.5229772338867187, 0.5140078811645508, 0.18894710998535158) RGB(0.5206367065429687, 0.5133902420043945, 0.18979230041503906); RGB(0.5201244140624999, 0.5132550537109375, 0.18997729492187498) RGB(0.522268505859375, 0.5138208557128907, 0.18920303955078124) … RGB(0.5217608276367187, 0.5136868850708008, 0.18938636779785156) RGB(0.5189108642578124, 0.5129348114013672, 0.1904155212402344); … ; RGB(0.5187618896484375, 0.5128954986572266, 0.19046931762695313) RGB(0.5179482330322266, 0.5126791046142578, 0.19077179870605468) … RGB(0.5189384399414062, 0.5129420883178711, 0.19040556335449219) RGB(0.5188107788085937, 0.512908399963379, 0.19045166320800783); RGB(0.5202983276367187, 0.5133009475708008, 0.18991449279785155) RGB(0.5210478149414062, 0.5134987289428712, 0.18964384460449218) … RGB(0.5181625244140625, 0.5127364501953126, 0.19069030761718747) RGB(0.5195257690429688, 0.5130970779418946, 0.19019347229003905)]",
      "text/html": [
       "<table><tbody><tr><td style='text-align:center;vertical-align:middle; margin: 0.5em;border:1px #90999f solid;border-collapse:collapse'><img style='max-width: 100px; max-height:100px;display:inline' src=\"data:image/png;base64,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\"></td></tr></tbody></table><div><small>(a vector displayed as a row to save space)</small></div>"
      ]
     },
     "metadata": {},
     "execution_count": 5
    }
   ],
   "cell_type": "code",
   "source": [
    "analyzer = NoiseAugmentation(Gradient(model), 50, 0.1)\n",
    "heatmap(input, analyzer)"
   ],
   "metadata": {},
   "execution_count": 5
  },
  {
   "cell_type": "markdown",
   "source": [
    "When used with a `Gradient` analyzer, this is equivalent to `SmoothGrad`:"
   ],
   "metadata": {}
  },
  {
   "outputs": [
    {
     "output_type": "execute_result",
     "data": {
      "text/plain": "1-element Vector{Matrix{ColorTypes.RGB{Float64}}}:\n [RGB(0.5190052368164062, 0.5129597152709962, 0.19038144226074216) RGB(0.5180994720458985, 0.5127195770263672, 0.19071428527832032) … RGB(0.5187896850585937, 0.512902833557129, 0.1904592803955078) RGB(0.5191290527343749, 0.5129923889160156, 0.19033673095703124); RGB(0.5163575149536133, 0.5122534194946289, 0.19137671966552736) RGB(0.5155674102783203, 0.5120419830322266, 0.19167718200683592) … RGB(0.5242791137695312, 0.5143514328002929, 0.18847698669433594) RGB(0.5187522216796875, 0.5128929473876953, 0.1904728088378906); … ; RGB(0.5174464141845703, 0.5125448150634766, 0.19096263122558593) RGB(0.5128519332885741, 0.5113153060913086, 0.19270982818603516) … RGB(0.5101024383544922, 0.510579525756836, 0.19377227783203124) RGB(0.5205661743164063, 0.5133716293334961, 0.18981777038574218); RGB(0.5240136840820312, 0.5142813888549805, 0.18857283630371094) RGB(0.5238622924804687, 0.514241438293457, 0.18862750549316407) … RGB(0.5177681762695312, 0.5126309204101562, 0.19084027099609374) RGB(0.5192553955078125, 0.5130257293701173, 0.19029110717773437)]",
      "text/html": [
       "<table><tbody><tr><td style='text-align:center;vertical-align:middle; margin: 0.5em;border:1px #90999f solid;border-collapse:collapse'><img style='max-width: 100px; max-height:100px;display:inline' src=\"data:image/png;base64,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\"></td></tr></tbody></table><div><small>(a vector displayed as a row to save space)</small></div>"
      ]
     },
     "metadata": {},
     "execution_count": 6
    }
   ],
   "cell_type": "code",
   "source": [
    "analyzer = SmoothGrad(model, 50)\n",
    "heatmap(input, analyzer)"
   ],
   "metadata": {},
   "execution_count": 6
  },
  {
   "cell_type": "markdown",
   "source": [
    "We can also use any distribution from\n",
    "[Distributions.jl](https://github.com/JuliaStats/Distributions.jl),\n",
    "for example Poisson noise with rate $\\lambda=0.5$:"
   ],
   "metadata": {}
  },
  {
   "outputs": [
    {
     "output_type": "execute_result",
     "data": {
      "text/plain": "1-element Vector{Matrix{ColorTypes.RGB{Float64}}}:\n [RGB(0.39425419921875005, 0.47793327789306644, 0.24942817230224607) RGB(0.39534580078125003, 0.4782573471069336, 0.2488312026977539) … RGB(0.3966615676879883, 0.47864722747802735, 0.24811300201416014) RGB(0.39664257431030275, 0.478641675567627, 0.2481232292175293); RGB(0.39786261367797854, 0.4789983024597168, 0.24746628494262696) RGB(0.40215486907958986, 0.48025296173095705, 0.24515507049560548) … RGB(0.4009453926086426, 0.47989942245483397, 0.24580632705688477) RGB(0.39734691619873047, 0.4788475601196289, 0.2477439682006836); … ; RGB(0.391412548828125, 0.4770896629333496, 0.2509821998596191) RGB(0.385331689453125, 0.47528440780639647, 0.25423316497802734) … RGB(0.38696494140625, 0.4757692794799805, 0.25336549987792967) RGB(0.39067153320312503, 0.4768696739196777, 0.251387442779541); RGB(0.394612744140625, 0.47803972091674807, 0.2492320930480957) RGB(0.39253198242187504, 0.47742199478149416, 0.2503700096130371) … RGB(0.39595029296875, 0.47843680572509767, 0.24850062103271484) RGB(0.39317983398437506, 0.47761432571411133, 0.2500157157897949)]",
      "text/html": [
       "<table><tbody><tr><td style='text-align:center;vertical-align:middle; margin: 0.5em;border:1px #90999f solid;border-collapse:collapse'><img style='max-width: 100px; max-height:100px;display:inline' src=\"data:image/png;base64,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\"></td></tr></tbody></table><div><small>(a vector displayed as a row to save space)</small></div>"
      ]
     },
     "metadata": {},
     "execution_count": 7
    }
   ],
   "cell_type": "code",
   "source": [
    "using Distributions\n",
    "\n",
    "analyzer = NoiseAugmentation(Gradient(model), 50, Poisson(0.5))\n",
    "heatmap(input, analyzer)"
   ],
   "metadata": {},
   "execution_count": 7
  },
  {
   "cell_type": "markdown",
   "source": [
    "Is is also possible to define your own distributions or mixture distributions.\n",
    "\n",
    "`NoiseAugmentation` can be combined with any analyzer type from the Julia-XAI ecosystem,\n",
    "for example `LRP` from [RelevancePropagation.jl](https://github.com/Julia-XAI/RelevancePropagation.jl)."
   ],
   "metadata": {}
  },
  {
   "cell_type": "markdown",
   "source": [
    "## Integration augmentation\n",
    "The `InterpolationAugmentation` wrapper computes explanations\n",
    "averaged over `n` steps of linear interpolation between the input and a reference input,\n",
    "which is set to `zero(input)` by default:"
   ],
   "metadata": {}
  },
  {
   "outputs": [
    {
     "output_type": "execute_result",
     "data": {
      "text/plain": "1-element Vector{Matrix{ColorTypes.RGB{Float64}}}:\n [RGB(0.26731090087890624, 0.43895178527832035, 0.31948900451660156) RGB(0.26731090087890624, 0.43895178527832035, 0.31948900451660156) … RGB(0.26731090087890624, 0.43895178527832035, 0.31948900451660156) RGB(0.26731090087890624, 0.43895178527832035, 0.31948900451660156); RGB(0.26731090087890624, 0.43895178527832035, 0.31948900451660156) RGB(0.26731090087890624, 0.43895178527832035, 0.31948900451660156) … RGB(0.26731090087890624, 0.43895178527832035, 0.31948900451660156) RGB(0.26731090087890624, 0.43895178527832035, 0.31948900451660156); … ; RGB(0.26731090087890624, 0.43895178527832035, 0.31948900451660156) RGB(0.26731090087890624, 0.43895178527832035, 0.31948900451660156) … RGB(0.26731090087890624, 0.43895178527832035, 0.31948900451660156) RGB(0.26731090087890624, 0.43895178527832035, 0.31948900451660156); RGB(0.26731090087890624, 0.43895178527832035, 0.31948900451660156) RGB(0.26731090087890624, 0.43895178527832035, 0.31948900451660156) … RGB(0.26731090087890624, 0.43895178527832035, 0.31948900451660156) RGB(0.26731090087890624, 0.43895178527832035, 0.31948900451660156)]",
      "text/html": [
       "<table><tbody><tr><td style='text-align:center;vertical-align:middle; margin: 0.5em;border:1px #90999f solid;border-collapse:collapse'><img style='max-width: 100px; max-height:100px;display:inline' src=\"data:image/png;base64,iVBORw0KGgoAAAANSUhEUgAAAHAAAABwCAIAAABJgmMcAAAAAXNSR0IArs4c6QAAAARnQU1BAACxjwv8YQUAAAAgY0hSTQAAeiYAAICEAAD6AAAAgOgAAHUwAADqYAAAOpgAABdwnLpRPAAABENJREFUeAHtwUtvVXUUxuHff+91Lu1p62kLLVGUBhAlBgRJYODIaHTgyKFDYxwa/QQmfgKHxujQjyAzA8GJJppojBAjl2ohlEspvZ5ybns7elsHTYzNopya9Tz2xsfvEPwYwZURXBnBlRFcGcGVEVwZwZURXBnBlRFcGcGVEVwZwZURXBnBlRFcGcGVEVwZwZURXBnBlRFcGcGVEVwZwZURXBnBlTHQEts5NnIPOTGyhMy3a8ivqweQ1V4NSZQ8TkZwZQRXRnBlDIDElpIto/YIGbU2klMirX6G1LI+8nRtBbmXRpCf7h5A8rxEDo2tIFkq2SkjuDKCKyO4MnbRcN5FVns1ZGFjGBmrtZGJagtZ7g4h9ayHXF6bRKaq68ip0UXkr0ePkGvDk0gt7yEr3TrSrG6wU0ZwZQRXRnBlPGbVrEBm18aRjU6OrK9nSGN/F7nfHkEsFciN1gTbaReG/Lh0EClIyFvTfyCtfgWpZAXy2+o0UpSJ/8IIrozgygiuDDcJqaQ+cnVpHLn3e4mkCptmjreRYesiWSqQkn936eazyMGJFlLLesj9TgN5pr6KzLaaeDCCKyO4MoIrw0mnyJHry08hY/UuMn08R+rWR/bVW/wXJQnpFDlyfOohcrSxgNSyPnLx/mHkivWQiWoLKcrEThnBlRFcGcGV4WTU2sh7R64hp0cK5FzjZeTTm7PIa81l5GzjBeSTuUXkpZEF5OKDGeT1yRvISq+KLHaHkNnWGFLJCuT28jBSafaRWt5jp4zgygiujODKcNIpcrYk5GzjJNI88xXy2SsFknprSLZ8GTmx+CHy0dEPkHr6ApmssOlet49kqUTm22PIVH0NGa20kTwVeDCCKyO4MoIrw0nJlu8WDyE/LC0j76+dQebabDrXGEXmu6tIu8iRb259ibzdPIJ8vTDHloQUJCRRIp2iguSpwJsRXBnBlRFcGY9Zp8iRz28eZTvn+adptrPav4W8OXkMOdX4E7neLpBfFg8grX6FLSWPkxFcGcGVEVwZA6woE9ItcuTS4rfIcr+HXHhwGNnoG0+CEVwZwZURXBkD5sqdcWT+0gZSf3cKOT/fRPYPbSCVrI8kSp4EI7gygisjuDIGwO31UWR9ro9MnK4j3/9cQ4pOiQyfrCDjtR5PmhFcGcGVEVwZA6DVzpFsqGRTyabavgyZnugg47UNBokRXBnBlRFcGU9Ir8yRtYcJ6dzpItbMkedmeshkrcWgMoIrI7gygitjVyXkYbuOTB3oIfezKlIdZtNkbYW9wAiujODKCK6MXdSstJBDQw+RC7dnkFefv4sstBvsNUZwZQRXRnBl7KIXRxaQq+uTyExzBekVGVLPu+w1RnBlBFdGcGXsoqVuHSnKhOSpRNqFsZcZwZURXBnBlbGLbrQmkEoqkH6ZkDyV7GVGcGUEV0ZwZeyiTpEjHXIkTwX/F0ZwZQRXRnD1NwWjHIODIT05AAAAAElFTkSuQmCC\"></td></tr></tbody></table><div><small>(a vector displayed as a row to save space)</small></div>"
      ]
     },
     "metadata": {},
     "execution_count": 8
    }
   ],
   "cell_type": "code",
   "source": [
    "analyzer = InterpolationAugmentation(Gradient(model), 50)\n",
    "heatmap(input, analyzer)"
   ],
   "metadata": {},
   "execution_count": 8
  },
  {
   "cell_type": "markdown",
   "source": [
    "When used with a `Gradient` analyzer, this is equivalent to `IntegratedGradients`:"
   ],
   "metadata": {}
  },
  {
   "outputs": [
    {
     "output_type": "execute_result",
     "data": {
      "text/plain": "1-element Vector{Matrix{ColorTypes.RGB{Float64}}}:\n [RGB(0.26731090087890624, 0.43895178527832035, 0.31948900451660156) RGB(0.26731090087890624, 0.43895178527832035, 0.31948900451660156) … RGB(0.26731090087890624, 0.43895178527832035, 0.31948900451660156) RGB(0.26731090087890624, 0.43895178527832035, 0.31948900451660156); RGB(0.26731090087890624, 0.43895178527832035, 0.31948900451660156) RGB(0.26731090087890624, 0.43895178527832035, 0.31948900451660156) … RGB(0.26731090087890624, 0.43895178527832035, 0.31948900451660156) RGB(0.26731090087890624, 0.43895178527832035, 0.31948900451660156); … ; RGB(0.26731090087890624, 0.43895178527832035, 0.31948900451660156) RGB(0.26731090087890624, 0.43895178527832035, 0.31948900451660156) … RGB(0.26731090087890624, 0.43895178527832035, 0.31948900451660156) RGB(0.26731090087890624, 0.43895178527832035, 0.31948900451660156); RGB(0.26731090087890624, 0.43895178527832035, 0.31948900451660156) RGB(0.26731090087890624, 0.43895178527832035, 0.31948900451660156) … RGB(0.26731090087890624, 0.43895178527832035, 0.31948900451660156) RGB(0.26731090087890624, 0.43895178527832035, 0.31948900451660156)]",
      "text/html": [
       "<table><tbody><tr><td style='text-align:center;vertical-align:middle; margin: 0.5em;border:1px #90999f solid;border-collapse:collapse'><img style='max-width: 100px; max-height:100px;display:inline' src=\"data:image/png;base64,iVBORw0KGgoAAAANSUhEUgAAAHAAAABwCAIAAABJgmMcAAAAAXNSR0IArs4c6QAAAARnQU1BAACxjwv8YQUAAAAgY0hSTQAAeiYAAICEAAD6AAAAgOgAAHUwAADqYAAAOpgAABdwnLpRPAAABENJREFUeAHtwUtvVXUUxuHff+91Lu1p62kLLVGUBhAlBgRJYODIaHTgyKFDYxwa/QQmfgKHxujQjyAzA8GJJppojBAjl2ohlEspvZ5ybns7elsHTYzNopya9Tz2xsfvEPwYwZURXBnBlRFcGcGVEVwZwZURXBnBlRFcGcGVEVwZwZURXBnBlRFcGcGVEVwZwZURXBnBlRFcGcGVEVwZwZURXBnBlTHQEts5NnIPOTGyhMy3a8ivqweQ1V4NSZQ8TkZwZQRXRnBlDIDElpIto/YIGbU2klMirX6G1LI+8nRtBbmXRpCf7h5A8rxEDo2tIFkq2SkjuDKCKyO4MnbRcN5FVns1ZGFjGBmrtZGJagtZ7g4h9ayHXF6bRKaq68ip0UXkr0ePkGvDk0gt7yEr3TrSrG6wU0ZwZQRXRnBlPGbVrEBm18aRjU6OrK9nSGN/F7nfHkEsFciN1gTbaReG/Lh0EClIyFvTfyCtfgWpZAXy2+o0UpSJ/8IIrozgygiuDDcJqaQ+cnVpHLn3e4mkCptmjreRYesiWSqQkn936eazyMGJFlLLesj9TgN5pr6KzLaaeDCCKyO4MoIrw0mnyJHry08hY/UuMn08R+rWR/bVW/wXJQnpFDlyfOohcrSxgNSyPnLx/mHkivWQiWoLKcrEThnBlRFcGcGV4WTU2sh7R64hp0cK5FzjZeTTm7PIa81l5GzjBeSTuUXkpZEF5OKDGeT1yRvISq+KLHaHkNnWGFLJCuT28jBSafaRWt5jp4zgygiujODKcNIpcrYk5GzjJNI88xXy2SsFknprSLZ8GTmx+CHy0dEPkHr6ApmssOlet49kqUTm22PIVH0NGa20kTwVeDCCKyO4MoIrw0nJlu8WDyE/LC0j76+dQebabDrXGEXmu6tIu8iRb259ibzdPIJ8vTDHloQUJCRRIp2iguSpwJsRXBnBlRFcGY9Zp8iRz28eZTvn+adptrPav4W8OXkMOdX4E7neLpBfFg8grX6FLSWPkxFcGcGVEVwZA6woE9ItcuTS4rfIcr+HXHhwGNnoG0+CEVwZwZURXBkD5sqdcWT+0gZSf3cKOT/fRPYPbSCVrI8kSp4EI7gygisjuDIGwO31UWR9ro9MnK4j3/9cQ4pOiQyfrCDjtR5PmhFcGcGVEVwZA6DVzpFsqGRTyabavgyZnugg47UNBokRXBnBlRFcGU9Ir8yRtYcJ6dzpItbMkedmeshkrcWgMoIrI7gygitjVyXkYbuOTB3oIfezKlIdZtNkbYW9wAiujODKCK6MXdSstJBDQw+RC7dnkFefv4sstBvsNUZwZQRXRnBl7KIXRxaQq+uTyExzBekVGVLPu+w1RnBlBFdGcGXsoqVuHSnKhOSpRNqFsZcZwZURXBnBlbGLbrQmkEoqkH6ZkDyV7GVGcGUEV0ZwZeyiTpEjHXIkTwX/F0ZwZQRXRnD1NwWjHIODIT05AAAAAElFTkSuQmCC\"></td></tr></tbody></table><div><small>(a vector displayed as a row to save space)</small></div>"
      ]
     },
     "metadata": {},
     "execution_count": 9
    }
   ],
   "cell_type": "code",
   "source": [
    "analyzer = IntegratedGradients(model, 50)\n",
    "heatmap(input, analyzer)"
   ],
   "metadata": {},
   "execution_count": 9
  },
  {
   "cell_type": "markdown",
   "source": [
    "To select a different reference input, pass it to the `analyze` function\n",
    "using the keyword argument `input_ref`.\n",
    "Note that this is an arbitrary example for the sake of demonstration."
   ],
   "metadata": {}
  },
  {
   "outputs": [
    {
     "output_type": "execute_result",
     "data": {
      "text/plain": "1-element Vector{Matrix{ColorTypes.RGB{Float64}}}:\n [RGB(0.4490871696472168, 0.49369636154174806, 0.22110631942749023) RGB(0.44208317718505863, 0.49171015472412116, 0.22455604705810545) … RGB(0.41876847076416013, 0.485009245300293, 0.23645187683105467) RGB(0.44284696655273437, 0.49192675170898437, 0.22417985229492185); RGB(0.44949763870239257, 0.4938127632141114, 0.22090414810180664) RGB(0.4431518791198731, 0.4920132194519043, 0.22402967147827146) … RGB(0.4489227264404297, 0.49364972839355475, 0.22118731384277343) RGB(0.44284696655273437, 0.49192675170898437, 0.22417985229492185); … ; RGB(0.4539996612548828, 0.4950894561767578, 0.21868673400878905) RGB(0.47183586425781254, 0.5000806091308594, 0.21015371093750002) … RGB(0.4439007423400879, 0.49222558364868163, 0.2236608283996582) RGB(0.44284696655273437, 0.49192675170898437, 0.22417985229492185); RGB(0.44284696655273437, 0.49192675170898437, 0.22417985229492185) RGB(0.44284696655273437, 0.49192675170898437, 0.22417985229492185) … RGB(0.44284696655273437, 0.49192675170898437, 0.22417985229492185) RGB(0.44284696655273437, 0.49192675170898437, 0.22417985229492185)]",
      "text/html": [
       "<table><tbody><tr><td style='text-align:center;vertical-align:middle; margin: 0.5em;border:1px #90999f solid;border-collapse:collapse'><img style='max-width: 100px; max-height:100px;display:inline' src=\"data:image/png;base64,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\"></td></tr></tbody></table><div><small>(a vector displayed as a row to save space)</small></div>"
      ]
     },
     "metadata": {},
     "execution_count": 10
    }
   ],
   "cell_type": "code",
   "source": [
    "matrix_of_ones = ones(Float32, size(input))\n",
    "\n",
    "analyzer = InterpolationAugmentation(Gradient(model), 50)\n",
    "expl = analyzer(input; input_ref=matrix_of_ones)\n",
    "heatmap(expl)"
   ],
   "metadata": {},
   "execution_count": 10
  },
  {
   "cell_type": "markdown",
   "source": [
    "Once again, `InterpolationAugmentation` can be combined with any analyzer type from the Julia-XAI ecosystem,\n",
    "for example `LRP` from [RelevancePropagation.jl](https://github.com/Julia-XAI/RelevancePropagation.jl)."
   ],
   "metadata": {}
  },
  {
   "cell_type": "markdown",
   "source": [
    "---\n",
    "\n",
    "*This notebook was generated using [Literate.jl](https://github.com/fredrikekre/Literate.jl).*"
   ],
   "metadata": {}
  }
 ],
 "nbformat_minor": 3,
 "metadata": {
  "language_info": {
   "file_extension": ".jl",
   "mimetype": "application/julia",
   "name": "julia",
   "version": "1.11.4"
  },
  "kernelspec": {
   "name": "julia-1.11",
   "display_name": "Julia 1.11.4",
   "language": "julia"
  }
 },
 "nbformat": 4
}
