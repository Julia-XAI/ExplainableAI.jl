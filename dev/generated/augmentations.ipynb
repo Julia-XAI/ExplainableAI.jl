{
 "cells": [
  {
   "cell_type": "markdown",
   "source": [
    "# Analyzer augmentations\n",
    "All analyzers implemented in ExplainableAI.jl can be augmented by two types of augmentations:\n",
    "`NoiseAugmentation`s and `InterpolationAugmentation`s.\n",
    "These augmentations are wrappers around analyzers\n",
    "that modify the input before passing it to the analyzer.\n",
    "\n",
    "We build on the basics shown in the *Getting started* section\n",
    "and start out by loading the same pre-trained LeNet5 model and MNIST input data:"
   ],
   "metadata": {}
  },
  {
   "outputs": [
    {
     "output_type": "execute_result",
     "data": {
      "text/plain": "Chain(\n  Conv((5, 5), 1 => 6, relu),           \u001b[90m# 156 parameters\u001b[39m\n  MaxPool((2, 2)),\n  Conv((5, 5), 6 => 16, relu),          \u001b[90m# 2_416 parameters\u001b[39m\n  MaxPool((2, 2)),\n  Flux.flatten,\n  Dense(256 => 120, relu),              \u001b[90m# 30_840 parameters\u001b[39m\n  Dense(120 => 84, relu),               \u001b[90m# 10_164 parameters\u001b[39m\n  Dense(84 => 10),                      \u001b[90m# 850 parameters\u001b[39m\n) \u001b[90m                  # Total: 10 arrays, \u001b[39m44_426 parameters, 174.344 KiB."
     },
     "metadata": {},
     "execution_count": 1
    }
   ],
   "cell_type": "code",
   "source": [
    "using ExplainableAI\n",
    "using VisionHeatmaps\n",
    "using Zygote\n",
    "using Flux\n",
    "\n",
    "using BSON # hide\n",
    "model = BSON.load(\"../model.bson\", @__MODULE__)[:model] # hide\n",
    "model"
   ],
   "metadata": {},
   "execution_count": 1
  },
  {
   "outputs": [
    {
     "output_type": "execute_result",
     "data": {
      "text/plain": "28×28 reinterpret(reshape, ColorTypes.Gray{Float32}, ::Matrix{Float32}) with eltype ColorTypes.Gray{Float32}:\n 0.0  0.0  0.0  0.0  0.0  0.0  0.0  …  0.0        0.0  0.0  0.0  0.0  0.0\n 0.0  0.0  0.0  0.0  0.0  0.0  0.0     0.0        0.0  0.0  0.0  0.0  0.0\n 0.0  0.0  0.0  0.0  0.0  0.0  0.0     0.0        0.0  0.0  0.0  0.0  0.0\n 0.0  0.0  0.0  0.0  0.0  0.0  0.0     0.0        0.0  0.0  0.0  0.0  0.0\n 0.0  0.0  0.0  0.0  0.0  0.0  0.0     0.0        0.0  0.0  0.0  0.0  0.0\n 0.0  0.0  0.0  0.0  0.0  0.0  0.0  …  0.0        0.0  0.0  0.0  0.0  0.0\n 0.0  0.0  0.0  0.0  0.0  0.0  0.0     0.0        0.0  0.0  0.0  0.0  0.0\n 0.0  0.0  0.0  0.0  0.0  0.0  0.0     0.0        0.0  0.0  0.0  0.0  0.0\n 0.0  0.0  0.0  0.0  0.0  0.0  0.0     0.0235294  0.0  0.0  0.0  0.0  0.0\n 0.0  0.0  0.0  0.0  0.0  0.0  0.0     0.407843   0.0  0.0  0.0  0.0  0.0\n ⋮                        ⋮         ⋱                       ⋮         \n 0.0  0.0  0.0  0.0  0.0  0.0  0.0     0.0        0.0  0.0  0.0  0.0  0.0\n 0.0  0.0  0.0  0.0  0.0  0.0  0.0  …  0.0        0.0  0.0  0.0  0.0  0.0\n 0.0  0.0  0.0  0.0  0.0  0.0  0.0     0.0        0.0  0.0  0.0  0.0  0.0\n 0.0  0.0  0.0  0.0  0.0  0.0  0.0     0.0        0.0  0.0  0.0  0.0  0.0\n 0.0  0.0  0.0  0.0  0.0  0.0  0.0     0.0        0.0  0.0  0.0  0.0  0.0\n 0.0  0.0  0.0  0.0  0.0  0.0  0.0     0.0        0.0  0.0  0.0  0.0  0.0\n 0.0  0.0  0.0  0.0  0.0  0.0  0.0  …  0.0        0.0  0.0  0.0  0.0  0.0\n 0.0  0.0  0.0  0.0  0.0  0.0  0.0     0.0        0.0  0.0  0.0  0.0  0.0\n 0.0  0.0  0.0  0.0  0.0  0.0  0.0     0.0        0.0  0.0  0.0  0.0  0.0",
      "image/png": "[encoded data removed]",
      "text/html": [
       "<img src=\"data:image/png;base64,iVBORw0KGgoAAAANSUhEUgAAAHAAAABwCAAAAADji6uXAAAAAXNSR0IArs4c6QAAAARnQU1BAACxjwv8YQUAAAAgY0hSTQAAeiYAAICEAAD6AAAAgOgAAHUwAADqYAAAOpgAABdwnLpRPAAAAjhJREFUaAW9wb2L1gUAB/DPcd+oQaPswCGqpSGHXqYTapGgJSg4CeoPcEiECqFDpCGwTdIQImuIsGiTtmjJgl6GoKEiIhqCoMQsOOhFy85r+A3H8fTo73mM7+cTZVEWZVEWZVEWZVEWZVEWZVEWZVEWZVEWZVEWZVEWZVEWZVEWZVEWZVEWc7gTS1jBHlzGSXyK71xZlEVZlMUM7sYB7MWSrXbjH3yLj/E0/jYpyqIsymKEe3AAj+NGgx/xEb7HKj7HMnbgYXyBkyZFWZRFWVzFq1jBksH7+AqHcdHgfuzH67gP5/AyTuO8raIsyqIsprgBq9iHBZzHKziKP2x1CxbxPN7DHaaLsiiLsphiD57FAn7CXnxmq0XchlN4FzcbLOBNrJkUZVEWZTHFItYNLmE3HsNdBhewC7vwC3badA4v4JJJURZlURZTnMEHeAi34wQ2DNaxaNNOg8t4B0/hrP8WZVEWZTHFBazgJhzCA/gVP+B63ItlW72Gw1gzXZRFWZTFVazhkEmnsGzwGw7iDay7siiLsiiLOaziCZv2423jRFmURVnMaB+eQwy+xmnjRVmURVnMYBkvYpvB73gSfxkvyqIsymIGj2C7wZ94FJ+YTZRFWZTFSNuxatNb+NDsoizKoixG2IZvcJ3Bl3jGfKIsyqIsRngQt2LD4CAumk+URVmUxQhHsGFwFGfML8qiLMpihB1YwM94ybWJsiiLshjhGI7hCM66NlEWZVEWIxzHcf+PKIuyKPsXNwdYfgiRxs8AAAAASUVORK5C\">"
      ]
     },
     "metadata": {},
     "execution_count": 2
    }
   ],
   "cell_type": "code",
   "source": [
    "using MLDatasets\n",
    "using ImageCore, ImageIO, ImageShow\n",
    "\n",
    "index = 10\n",
    "x, y = MNIST(Float32, :test)[10]\n",
    "input = reshape(x, 28, 28, 1, :)\n",
    "\n",
    "convert2image(MNIST, x)"
   ],
   "metadata": {},
   "execution_count": 2
  },
  {
   "cell_type": "markdown",
   "source": [
    "## Noise augmentation\n",
    "The `NoiseAugmentation` wrapper computes explanations averaged over noisy inputs.\n",
    "Let's demonstrate this on the `Gradient` analyzer.\n",
    "First, we compute the heatmap of an explanation without augmentation:"
   ],
   "metadata": {}
  },
  {
   "outputs": [
    {
     "output_type": "execute_result",
     "data": {
      "text/plain": "1-element Vector{Matrix{ColorTypes.RGB{Float64}}}:\n [RGB(0.542044692993164, 0.5190736373901367, 0.18255157775878905) RGB(0.5405419067382813, 0.5186877868652343, 0.18299835205078127) … RGB(0.5501000518798829, 0.5211419052124023, 0.18022431030273436) RGB(0.5480906158447265, 0.5206259689331054, 0.18076740112304687); RGB(0.5577551651000977, 0.5230979751586914, 0.1782020248413086) RGB(0.5673554992675781, 0.5255300598144531, 0.17589942016601562) … RGB(0.550458218383789, 0.5212338668823242, 0.18012750854492188) RGB(0.5480906158447265, 0.5206259689331054, 0.18076740112304687); … ; RGB(0.5540689025878907, 0.5221609344482422, 0.17915164794921876) RGB(0.5669629669189453, 0.5254306182861328, 0.17598839416503906) … RGB(0.5511143676757813, 0.5214023376464844, 0.1799501708984375) RGB(0.5480906158447265, 0.5206259689331054, 0.18076740112304687); RGB(0.5480906158447265, 0.5206259689331054, 0.18076740112304687) RGB(0.5480906158447265, 0.5206259689331054, 0.18076740112304687) … RGB(0.5480906158447265, 0.5206259689331054, 0.18076740112304687) RGB(0.5480906158447265, 0.5206259689331054, 0.18076740112304687)]",
      "text/html": [
       "<table><tbody><tr><td style='text-align:center;vertical-align:middle; margin: 0.5em;border:1px #90999f solid;border-collapse:collapse'><img style='max-width: 100px; max-height:100px;display:inline' src=\"data:image/png;base64,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\"></td></tr></tbody></table><div><small>(a vector displayed as a row to save space)</small></div>"
      ]
     },
     "metadata": {},
     "execution_count": 3
    }
   ],
   "cell_type": "code",
   "source": [
    "analyzer = Gradient(model)\n",
    "heatmap(input, analyzer)"
   ],
   "metadata": {},
   "execution_count": 3
  },
  {
   "cell_type": "markdown",
   "source": [
    "Now we wrap the analyzer in a `NoiseAugmentation` with 10 samples of noise.\n",
    "By default, the noise is sampled from a Gaussian distribution\n",
    "with mean 0 and standard deviation 1."
   ],
   "metadata": {}
  },
  {
   "outputs": [
    {
     "name": "stdout",
     "output_type": "stream",
     "text": [
      "\rSampling NoiseAugmentation...   4%|▉                     |  ETA: 0:00:22\u001b[K\rSampling NoiseAugmentation... 100%|██████████████████████| Time: 0:00:01\u001b[K\n"
     ]
    },
    {
     "output_type": "execute_result",
     "data": {
      "text/plain": "1-element Vector{Matrix{ColorTypes.RGB{Float64}}}:\n [RGB(0.39588837890625, 0.478418424987793, 0.24853448028564454) RGB(0.39250454101562504, 0.47741384811401366, 0.25038501663208007) … RGB(0.39928181076049807, 0.4794131446838379, 0.24670210189819336) RGB(0.39830546188354493, 0.4791277503967285, 0.24722782821655273); RGB(0.3980358848571778, 0.47904895095825195, 0.2473729850769043) RGB(0.4020723495483398, 0.480228840637207, 0.24519950408935548) … RGB(0.4101903572082519, 0.4825911758422851, 0.2409388900756836) RGB(0.400195426940918, 0.4796802017211914, 0.2462101547241211); … ; RGB(0.39781089019775395, 0.47898318328857425, 0.24749413604736328) RGB(0.4008614349365235, 0.47987488098144526, 0.24585153503417967) … RGB(0.395302099609375, 0.4782443733215332, 0.24885510177612305) RGB(0.39521704101562505, 0.4782191215515137, 0.24890161819458007); RGB(0.3993560485839844, 0.4794348449707031, 0.24666212768554688) RGB(0.3982597885131836, 0.4791143997192383, 0.24725242156982424) … RGB(0.394153173828125, 0.4779032859802246, 0.24948342056274414) RGB(0.395302001953125, 0.478244344329834, 0.24885515518188478)]",
      "text/html": [
       "<table><tbody><tr><td style='text-align:center;vertical-align:middle; margin: 0.5em;border:1px #90999f solid;border-collapse:collapse'><img style='max-width: 100px; max-height:100px;display:inline' src=\"data:image/png;base64,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\"></td></tr></tbody></table><div><small>(a vector displayed as a row to save space)</small></div>"
      ]
     },
     "metadata": {},
     "execution_count": 4
    }
   ],
   "cell_type": "code",
   "source": [
    "analyzer = NoiseAugmentation(Gradient(model), 50)\n",
    "heatmap(input, analyzer)"
   ],
   "metadata": {},
   "execution_count": 4
  },
  {
   "cell_type": "markdown",
   "source": [
    "Note that a higher sample size is desired, as it will lead to a smoother heatmap.\n",
    "However, this comes at the cost of a longer computation time.\n",
    "\n",
    "We can also set the standard deviation of the Gaussian distribution:"
   ],
   "metadata": {}
  },
  {
   "outputs": [
    {
     "output_type": "execute_result",
     "data": {
      "text/plain": "1-element Vector{Matrix{ColorTypes.RGB{Float64}}}:\n [RGB(0.5148268157958984, 0.5118437957763673, 0.1919588165283203) RGB(0.5140259857177734, 0.5116294891357422, 0.1922633575439453) … RGB(0.5194444702148437, 0.5130756240844727, 0.19022283020019531) RGB(0.5175148834228516, 0.5125631378173828, 0.1909365936279297); RGB(0.5173417602539062, 0.5125168090820313, 0.19100242919921873) RGB(0.5175788024902344, 0.5125802429199219, 0.19091228637695312) … RGB(0.5198265747070312, 0.5131764572143556, 0.19008484802246092) RGB(0.5179449829101562, 0.5126782348632813, 0.19077303466796874); … ; RGB(0.5127483627319336, 0.5112875900268555, 0.1927492141723633) RGB(0.5155221252441406, 0.5120298645019531, 0.19169440307617186) … RGB(0.5161239395141601, 0.5121909133911133, 0.19146554412841796) RGB(0.5164621688842773, 0.5122814254760742, 0.19133692169189453); RGB(0.517980842590332, 0.5126878311157227, 0.19075939788818358) RGB(0.5228663818359375, 0.5139786285400392, 0.18898713989257812) … RGB(0.5160520034790039, 0.5121716629028321, 0.19149290008544922) RGB(0.5170079727172852, 0.5124274856567383, 0.19112936248779297)]",
      "text/html": [
       "<table><tbody><tr><td style='text-align:center;vertical-align:middle; margin: 0.5em;border:1px #90999f solid;border-collapse:collapse'><img style='max-width: 100px; max-height:100px;display:inline' src=\"data:image/png;base64,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\"></td></tr></tbody></table><div><small>(a vector displayed as a row to save space)</small></div>"
      ]
     },
     "metadata": {},
     "execution_count": 5
    }
   ],
   "cell_type": "code",
   "source": [
    "analyzer = NoiseAugmentation(Gradient(model), 50, 0.1)\n",
    "heatmap(input, analyzer)"
   ],
   "metadata": {},
   "execution_count": 5
  },
  {
   "cell_type": "markdown",
   "source": [
    "When used with a `Gradient` analyzer, this is equivalent to `SmoothGrad`:"
   ],
   "metadata": {}
  },
  {
   "outputs": [
    {
     "output_type": "execute_result",
     "data": {
      "text/plain": "1-element Vector{Matrix{ColorTypes.RGB{Float64}}}:\n [RGB(0.381376953125, 0.4741466430664063, 0.25637041625976564) RGB(0.3824546875, 0.474449755859375, 0.25578103027343746) … RGB(0.382221826171875, 0.47438426361083985, 0.2559083763122558) RGB(0.38478505859374995, 0.4751221267700195, 0.2545235626220703); RGB(0.37688310546875003, 0.4728762344360351, 0.25882798919677735) RGB(0.3794330078125, 0.4735999084472656, 0.25743351135253906) … RGB(0.38731860351562497, 0.4758742729187012, 0.2531776168823242) RGB(0.38340263671874997, 0.47471636657714844, 0.2552626205444336); … ; RGB(0.3858453125, 0.4754368896484375, 0.253960302734375) RGB(0.38155126953124996, 0.47419566955566406, 0.25627508697509765) … RGB(0.38284956054687497, 0.4745608139038086, 0.2555650840759277) RGB(0.382176025390625, 0.4743713821411133, 0.25593342361450194); RGB(0.38491235351562497, 0.4751599174499511, 0.25445593719482423) RGB(0.379055908203125, 0.4734938491821289, 0.257639737701416) … RGB(0.381093408203125, 0.47406689605712893, 0.256525479888916) RGB(0.382425146484375, 0.47444144744873046, 0.2557971855163574)]",
      "text/html": [
       "<table><tbody><tr><td style='text-align:center;vertical-align:middle; margin: 0.5em;border:1px #90999f solid;border-collapse:collapse'><img style='max-width: 100px; max-height:100px;display:inline' src=\"data:image/png;base64,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\"></td></tr></tbody></table><div><small>(a vector displayed as a row to save space)</small></div>"
      ]
     },
     "metadata": {},
     "execution_count": 6
    }
   ],
   "cell_type": "code",
   "source": [
    "analyzer = SmoothGrad(model, 50)\n",
    "heatmap(input, analyzer)"
   ],
   "metadata": {},
   "execution_count": 6
  },
  {
   "cell_type": "markdown",
   "source": [
    "We can also use any distribution from\n",
    "[Distributions.jl](https://github.com/JuliaStats/Distributions.jl),\n",
    "for example Poisson noise with rate $\\lambda=0.5$:"
   ],
   "metadata": {}
  },
  {
   "outputs": [
    {
     "output_type": "execute_result",
     "data": {
      "text/plain": "1-element Vector{Matrix{ColorTypes.RGB{Float64}}}:\n [RGB(0.30472882690429687, 0.45102537231445305, 0.29880196533203124) RGB(0.3066062225341797, 0.4516101348876953, 0.29775554809570315) … RGB(0.31705858154296873, 0.45485343627929686, 0.29191209106445315) RGB(0.30848743438720705, 0.45219608612060547, 0.29670700378417975); RGB(0.3054512565612793, 0.45125039138793943, 0.29839929962158207) RGB(0.3062801216125488, 0.45150856246948234, 0.29793730926513673) … RGB(0.3184611404418945, 0.4552832527160645, 0.2911203239440918) RGB(0.3104829933166504, 0.4528176536560059, 0.2955947250366211); … ; RGB(0.30200534667968754, 0.45017707519531247, 0.300319970703125) RGB(0.30163182220458984, 0.4500607315063476, 0.3005281646728516) … RGB(0.3013613822937012, 0.4499764961242676, 0.3006789016723633) RGB(0.301740584564209, 0.45009460830688475, 0.3004675430297851); RGB(0.3062354904174805, 0.451494660949707, 0.29796218566894533) RGB(0.30315956802368166, 0.4505365867614746, 0.2996766342163086) … RGB(0.30579606628417966, 0.4513577911376953, 0.29820711059570315) RGB(0.30464496307373046, 0.45099925079345704, 0.2988487091064453)]",
      "text/html": [
       "<table><tbody><tr><td style='text-align:center;vertical-align:middle; margin: 0.5em;border:1px #90999f solid;border-collapse:collapse'><img style='max-width: 100px; max-height:100px;display:inline' src=\"data:image/png;base64,iVBORw0KGgoAAAANSUhEUgAAAHAAAABwCAIAAABJgmMcAAAAAXNSR0IArs4c6QAAAARnQU1BAACxjwv8YQUAAAAgY0hSTQAAeiYAAICEAAD6AAAAgOgAAHUwAADqYAAAOpgAABdwnLpRPAAACi9JREFUeAHtwTuvZudZx+Hf/Tz3Wu9xz95z0IzH4wgSEjtQRFEkFAtERYGEImoKBB+Cnu9BnYIK5JICiQKlQGCkGBRjY3yIxzPxzOzZ5/ew1nOg+q93ik23ynVd/md//TNuYxyYVaRUQ1INSKoBSSUilYPGClI5MA7MKhKtINEKB4YYldtEK0i0ghi3SzUgFeM2RuU2pQbEmYzKmYzKmYzK+X9VpFRDcg1IqYZ0xZFcDelyRJpQkDYkxENB5iEhlYNtbpCCIaUa0lhBVr5HgjFYxT2SakRKNaRUQ1INSMWQXI2DijiTUTmTUTmTUXnldtEqEqwgLQnpiyOpBqTWiJgxmMeEtCEhq9hxm7N+iVz2M6QvATEOlt4jTcjIMm6Ru80OSTUggYJcpjlyk1ukVAaGIWYMnMmonMmonMmovFRDSg3IHmdQDfGQkV1ukGAFKRiSiyFdiYhRkZ01SK0MtrlBdiki296RWhmkNiClGlIwxKhIrgFpQkZ2pUHO+znSWkbMGBgVcSajciajciajcjCkctCXiLgVZO175PHsCjlptshlmiEX/QIxq0jloLGC7Iojy9IhoS0cGHKxcWQXAnK9WyK/sSXyYLVEzrYzZOYZiVaRuSdk7R2yiD3ioSDOZFTOZFTOZFRuVpHIQRsy4laQaBUxq8hNbpGuOFIwZBEScpNa5DLPkW1ukG83K6RWBrsuIDEyaGJFPGQkF0Ou9g1SKoNUAjJremQeExKsIovYIwVDnMmonMmonMmonDcEK8jcMrKICQlU5DLNODBkkxrkOs+Ql5slcnruiAUGZgzWq4zUasj3718gT+YXSK4BOe2WSMWQzy9OEOOgVAYFQ3INiFuPmDGoxRBnMipnMipnMioPVGQRe2QRe6S1jBQM2XQrpHIwjwn58voEefHSkXxTkfbYkO882iLv3/s18rDdID9dB6SxiDzwY+ST3efIL29aJJWAPN+skX0KyNlNi9w0juSFIRlDGiuIMxmVMxmVMxmV5xqQXANy3i+Qm9QiK++QfXbkJrfIZTdDzi4bpBYG7763Rd5bv0DeP3mB/HC+QL7uOmQdjpF5mCHH8QT57bZDrsorpH3wBfLR5SPkk6sHyLrpkOu+RfoSkVQCg8DAmYzKmYzKmYzKzSrS14CcdUvk9W6OLJuEvLO4QP7o3ldIsIqkJwF50nbIKgbkWcfgu7MW+fBmjzzd3UGe7jfIL6+OkJ8e/zcyDxV53EbkNGTkJ8fPkWAVeb47Qh4vrpDLfo4EYxCoiDMZlTMZlTMZlQcqkkpErvoWSSUgqQRkkxvkZbdAFjEhpRryaXbkOrXIrjTIh5eO/NfFI+R63yCX5wHJPYNfPX6IvDxrkL/43V8hP1pfcZsfPHqG/NvlArnMM+R1t0T6GpC+RMSZjMqZjMqZjMrdCtKEjDxZXCLbtkFe7ZdIqgHZV0dKNuTp7hj57Oo+sk8RmcWMPH/ZIumqItefdUi/K0gzD8jZf1SkParIB0c/RK4ff478aP0a+XgzR65zi7zcr5CKIYGKRCuIMxmVMxmVMxmV84bGMrJse+S47hgYg1wD8vnNfeSbzRGy7SJyeRaQ6087ZPk7LVL2FTl+m8HdJy3yaL1B/vKd/0Re9g3yxeYE+d7yHPno6hHy4WVEtsWR/72+j0SryEm7RWYhIdEq4kxG5UxG5UxG5WYViVaRaAW52+yQVeyQm9wiJ80WeXf9ErnfbJE/+fEC+fgPzpFVCMiLviL/evEWsood8ofHp8ifv/NXSOrPkBc3nyB/f3aKfHfxGvmnF99HNsmR7T4iZgzqEYN77YYDQ5zJqJzJqJzJqDxaQSqGuBWkVuM2a98jpRryp/eukT9+8DMk/N7fIL//6hfIzTf/gPzdy39G+hIZRAZtMGSz+RK5SWfIV903yK93a+QqtUgwBtcbR7o9gxAZbOYNUuoaudPsEGcyKmcyKmcyKg8ctJYQt4L0NSJ9jUgqAXkyv0Sedj1S8h5pvvw58tHznyOv0hVy2jty0c+RZ7s7SLSCOP+C/GD2EPmf/TXysG2QrkTkbNsibVsQs4C0TUFmnpF57BGzijiTUTmTUTmTUXmqATGr3KZycNHPkZfdCnm1XyF9+Rb52+f/iLx/+QskWkRSLUjGkKs0Q873M+R5ewf54NUc+a35OfKyv498vT1BrtMM2WwDslgU5GTVIcEqsog9Eq0ii5AQZzIqZzIqZzIqrxwEKpKrIZvcImf9AvnsN0dIKQw+Xd9D3rt3ijzff4t0hcEHX/0YubkwpD8vSJgb8uroLeTh/Q75anYXud/eIKf7JTKLGXn30SVyx3dIxZBF7JDAwb44kqshzmRUzmRUzmRUzhtSjcgqdkjNxm3aWUWuXzE43zD49/MHyMfH95GLZwxuvuiQ+VvOoDCwlSGbpwn56llEvl6skOboCHn8VoccNR3yveUpMgsJcStIwZCrNEP2JSKFgDiTUTmTUTmTUXlfIrI3R3JvyCY3SF8ist8aA6tIcEMsMrh6bUjZZ2T9Xous7hq3CaEi51eG1MwgnRckzA1Zeo+8Pb9A3l2dIX01pCsRuc4Nsi+ObHLLbZzJqJzJqJzJqDxYRXI1JNUGuUktss8RWawqcnJSkJln5PVVi4QlB3cD0sSKLNqErJsO2aQG2T9ukbRn0L3KyOquIafbOdKGu8iR75Gj2HGbTW6QysE8JCTVgDiTUTmTUTmTUXmphuxqg3QlItepRfoSkXmTkSZWZJ8ikhMDn1ekFAZ9MuRoXpCjZo+8vbhEvrNyZBYS8sXb95BZ3CGbvkHmMSF9iYg3hdtYZrAICdlay6AycCajciajciajct5Qud0sZGRnjgRjcLN3pE+GeMPgzqJH9ikiTSjIyntkmxvkJ3eeIZWDbW6Qh+01cpNbJNeA7IojTcjI626B3G+3yCL2SF8D0oaElGqIMxmVMxmVMxmV84ZARdqQkVINWTcdsrUG6XNA7qw7ZOEJWTd7pCuOnO3myCY1yJ12j1QOztMccStIEwqyokOuc4v0JSKn3QqJVhCzikSrSCoBKdWQwoEzGZUzGZUzGZVXDoyDVAKSqyHGQRsy8vb6Gjlut8gy9IgZg2/3aySGiiy9R5axQ77c3kX2xZE2JGQdO+QyzZGrNEM2uUF2xZF5SEgTMmJUZJNbZFcapHLgTEblTEblTEblYEjhIFhB2sDAKUjrGfFQkEXokSZkpGIMKoNgFVl5x21uUov0NSKBirxIa2RbGuQmtUiXI4PKQTTktFshbhnpS0SCVaTUgDiTUTmTUTmTUTlvMA4KATEOWstItIrUymBXHNkVRyqGLGKPRKtIGzKSakAyhjQhI/viSLCKRCvIKnbIIhrShIwYB30JSA3cqmJIsIo4k1E5k1E5k1G5UZHKQaAwCBxUBrkaYsagVkOakJFAQUKoiIfCbUo1DipSqyEFQwIVmYXEIBi3STUgpRpiHOQakEhBjMptnMmonMmonMmo/g+hnAuNOlxYmgAAAABJRU5ErkJg\"></td></tr></tbody></table><div><small>(a vector displayed as a row to save space)</small></div>"
      ]
     },
     "metadata": {},
     "execution_count": 7
    }
   ],
   "cell_type": "code",
   "source": [
    "using Distributions\n",
    "\n",
    "analyzer = NoiseAugmentation(Gradient(model), 50, Poisson(0.5))\n",
    "heatmap(input, analyzer)"
   ],
   "metadata": {},
   "execution_count": 7
  },
  {
   "cell_type": "markdown",
   "source": [
    "Is is also possible to define your own distributions or mixture distributions.\n",
    "\n",
    "`NoiseAugmentation` can be combined with any analyzer type from the Julia-XAI ecosystem,\n",
    "for example `LRP` from [RelevancePropagation.jl](https://github.com/Julia-XAI/RelevancePropagation.jl)."
   ],
   "metadata": {}
  },
  {
   "cell_type": "markdown",
   "source": [
    "## Integration augmentation\n",
    "The `InterpolationAugmentation` wrapper computes explanations\n",
    "averaged over `n` steps of linear interpolation between the input and a reference input,\n",
    "which is set to `zero(input)` by default:"
   ],
   "metadata": {}
  },
  {
   "outputs": [
    {
     "output_type": "execute_result",
     "data": {
      "text/plain": "1-element Vector{Matrix{ColorTypes.RGB{Float64}}}:\n [RGB(0.7892717529296875, 0.5711786254882814, 0.23524071044921874) RGB(0.7892717529296875, 0.5711786254882814, 0.23524071044921874) … RGB(0.7892717529296875, 0.5711786254882814, 0.23524071044921874) RGB(0.7892717529296875, 0.5711786254882814, 0.23524071044921874); RGB(0.7892717529296875, 0.5711786254882814, 0.23524071044921874) RGB(0.7892717529296875, 0.5711786254882814, 0.23524071044921874) … RGB(0.7892717529296875, 0.5711786254882814, 0.23524071044921874) RGB(0.7892717529296875, 0.5711786254882814, 0.23524071044921874); … ; RGB(0.7892717529296875, 0.5711786254882814, 0.23524071044921874) RGB(0.7892717529296875, 0.5711786254882814, 0.23524071044921874) … RGB(0.7892717529296875, 0.5711786254882814, 0.23524071044921874) RGB(0.7892717529296875, 0.5711786254882814, 0.23524071044921874); RGB(0.7892717529296875, 0.5711786254882814, 0.23524071044921874) RGB(0.7892717529296875, 0.5711786254882814, 0.23524071044921874) … RGB(0.7892717529296875, 0.5711786254882814, 0.23524071044921874) RGB(0.7892717529296875, 0.5711786254882814, 0.23524071044921874)]",
      "text/html": [
       "<table><tbody><tr><td style='text-align:center;vertical-align:middle; margin: 0.5em;border:1px #90999f solid;border-collapse:collapse'><img style='max-width: 100px; max-height:100px;display:inline' src=\"data:image/png;base64,iVBORw0KGgoAAAANSUhEUgAAAHAAAABwCAIAAABJgmMcAAAAAXNSR0IArs4c6QAAAARnQU1BAACxjwv8YQUAAAAgY0hSTQAAeiYAAICEAAD6AAAAgOgAAHUwAADqYAAAOpgAABdwnLpRPAAABE9JREFUeAHtwTtsVQUcx/HvOfd/em/vpdDSNm2RiERRGmvQAU2ML6ImPiJOLo5uLiZuOjo7mDiYaBxcZTWOmiAyGGOwJYIEjYLl2dIH7e3t7T33HKdfWUgM5E8f5v/52E+fPkPwYwRXRnBlBFdGcGUEV0ZwZQRXRnBlBFdGcGUEV0ZwZQRXRnBlBFdGcGUEV0ZwZQRXRnBlBFdGcGUEV0ZwZQRXRnBlBFfGFpaQcEuJTK7MI6eX+5GRahM5vKOCDFTqSEHJvWQEV0ZwZQRXxhZQUiIJCbLQbSIL3Q7SJUFqlRxpFxXk4toqkmcF8lz/80hetJHzK78hBQV3ywiujODKCK6MDdQs2siutI6M9owi8/kccj1fQgYrVWSlaCGHdjSRy2spcmppALlRW0Imev9BWkULGajsQm5057lbRnBlBFdGcGXcY2tljjxS3Y/UswGk0bsPWZo/geyxfiQnR8YrNW6nN72JvNCXICn9yLG580ijUiCdIkEON/qQNEm5E0ZwZQRXRnBl3AOdMkcerU8gu/a9w7ruCjL912fIctFEuhTckvBfXh16A7mw9AvSKtvIWE+BXFg15OHeLh6M4MoIrozgynBSS3qQ8cYTyOLaFaT8+0uk1V1CrubXuRMJCVJNMmRq8ThyujWPrBYJ8mb/QWS5dxmZzeeRNEm5W0ZwZQRXRnBlOFnoNpFPLp1EziwPI5NzDeT9h84gJ+bHkNOLo8gHD/6KTDbryGv9CfLNYgvZaWvIcMa6g7Uqsla0kfsbE0hn+RTSKtvcLSO4MoIrI7gynFQT45YOMjU/gpz7dg15Nz2EZNUE6d1TQU6N1JGvpiaQ9mNnkYVOAxnMVpCibCH7elLkUuc6srB0E8np4sEIrozgygiuDCdJkiCv9NeRIzvPIZ/v3omMVW8ip5fGkKGeJlJNu8iLB6aRH2b2I0fHfud20qREirJE6pUMyenizQiujODKCK6Me6yaZsh797W4JUPeGprl9nqR45VryMnLe5GzfcPI3toC8lQf63ZUamwUI7gygisjuDK2sJQUydICeXLsCrLD2sjruwukntbZDEZwZQRXRnBlbDGPD7yMJOMfIqs/Pou8PTiIXF27jLTLGlJSshmM4MoIrozgytgCHqg+gNjIS6y7+DXy9IGPWGcNpPnnx8hqPsdmM4IrI7gygitjC6hng6xrz7EuMaRYnESuLv6MzORzbCVGcGUEV0ZwZWySDEPqOw8hZf8EkqxMI5euHEOu5TNsVUZwZQRXRnBlbJKhbBCZmf0OGS47SKc1jVzLZ9gOjODKCK6M4MrYQLP5MnK+vYAc3X0E+X76C2TUBthujODKCK6M4MrYQFMrrJuoV5A/mlNIllSQlXKV7cYIrozgygiujA2023IkxZCcAqklGduZEVwZwZURXBkbaLzWQDplF6mQImVSsp0ZwZURXBnBlbGBqmmGVMmQnC7/F0ZwZQRXRnD1LxDMHwivzatpAAAAAElFTkSuQmCC\"></td></tr></tbody></table><div><small>(a vector displayed as a row to save space)</small></div>"
      ]
     },
     "metadata": {},
     "execution_count": 8
    }
   ],
   "cell_type": "code",
   "source": [
    "analyzer = InterpolationAugmentation(Gradient(model), 50)\n",
    "heatmap(input, analyzer)"
   ],
   "metadata": {},
   "execution_count": 8
  },
  {
   "cell_type": "markdown",
   "source": [
    "When used with a `Gradient` analyzer, this is equivalent to `IntegratedGradients`:"
   ],
   "metadata": {}
  },
  {
   "outputs": [
    {
     "output_type": "execute_result",
     "data": {
      "text/plain": "1-element Vector{Matrix{ColorTypes.RGB{Float64}}}:\n [RGB(0.7892717529296875, 0.5711786254882814, 0.23524071044921874) RGB(0.7892717529296875, 0.5711786254882814, 0.23524071044921874) … RGB(0.7892717529296875, 0.5711786254882814, 0.23524071044921874) RGB(0.7892717529296875, 0.5711786254882814, 0.23524071044921874); RGB(0.7892717529296875, 0.5711786254882814, 0.23524071044921874) RGB(0.7892717529296875, 0.5711786254882814, 0.23524071044921874) … RGB(0.7892717529296875, 0.5711786254882814, 0.23524071044921874) RGB(0.7892717529296875, 0.5711786254882814, 0.23524071044921874); … ; RGB(0.7892717529296875, 0.5711786254882814, 0.23524071044921874) RGB(0.7892717529296875, 0.5711786254882814, 0.23524071044921874) … RGB(0.7892717529296875, 0.5711786254882814, 0.23524071044921874) RGB(0.7892717529296875, 0.5711786254882814, 0.23524071044921874); RGB(0.7892717529296875, 0.5711786254882814, 0.23524071044921874) RGB(0.7892717529296875, 0.5711786254882814, 0.23524071044921874) … RGB(0.7892717529296875, 0.5711786254882814, 0.23524071044921874) RGB(0.7892717529296875, 0.5711786254882814, 0.23524071044921874)]",
      "text/html": [
       "<table><tbody><tr><td style='text-align:center;vertical-align:middle; margin: 0.5em;border:1px #90999f solid;border-collapse:collapse'><img style='max-width: 100px; max-height:100px;display:inline' src=\"data:image/png;base64,iVBORw0KGgoAAAANSUhEUgAAAHAAAABwCAIAAABJgmMcAAAAAXNSR0IArs4c6QAAAARnQU1BAACxjwv8YQUAAAAgY0hSTQAAeiYAAICEAAD6AAAAgOgAAHUwAADqYAAAOpgAABdwnLpRPAAABE9JREFUeAHtwTtsVQUcx/HvOfd/em/vpdDSNm2RiERRGmvQAU2ML6ImPiJOLo5uLiZuOjo7mDiYaBxcZTWOmiAyGGOwJYIEjYLl2dIH7e3t7T33HKdfWUgM5E8f5v/52E+fPkPwYwRXRnBlBFdGcGUEV0ZwZQRXRnBlBFdGcGUEV0ZwZQRXRnBlBFdGcGUEV0ZwZQRXRnBlBFdGcGUEV0ZwZQRXRnBlBFfGFpaQcEuJTK7MI6eX+5GRahM5vKOCDFTqSEHJvWQEV0ZwZQRXxhZQUiIJCbLQbSIL3Q7SJUFqlRxpFxXk4toqkmcF8lz/80hetJHzK78hBQV3ywiujODKCK6MDdQs2siutI6M9owi8/kccj1fQgYrVWSlaCGHdjSRy2spcmppALlRW0Imev9BWkULGajsQm5057lbRnBlBFdGcGXcY2tljjxS3Y/UswGk0bsPWZo/geyxfiQnR8YrNW6nN72JvNCXICn9yLG580ijUiCdIkEON/qQNEm5E0ZwZQRXRnBl3AOdMkcerU8gu/a9w7ruCjL912fIctFEuhTckvBfXh16A7mw9AvSKtvIWE+BXFg15OHeLh6M4MoIrozgynBSS3qQ8cYTyOLaFaT8+0uk1V1CrubXuRMJCVJNMmRq8ThyujWPrBYJ8mb/QWS5dxmZzeeRNEm5W0ZwZQRXRnBlOFnoNpFPLp1EziwPI5NzDeT9h84gJ+bHkNOLo8gHD/6KTDbryGv9CfLNYgvZaWvIcMa6g7Uqsla0kfsbE0hn+RTSKtvcLSO4MoIrI7gynFQT45YOMjU/gpz7dg15Nz2EZNUE6d1TQU6N1JGvpiaQ9mNnkYVOAxnMVpCibCH7elLkUuc6srB0E8np4sEIrozgygiuDCdJkiCv9NeRIzvPIZ/v3omMVW8ip5fGkKGeJlJNu8iLB6aRH2b2I0fHfud20qREirJE6pUMyenizQiujODKCK6Me6yaZsh797W4JUPeGprl9nqR45VryMnLe5GzfcPI3toC8lQf63ZUamwUI7gygisjuDK2sJQUydICeXLsCrLD2sjruwukntbZDEZwZQRXRnBlbDGPD7yMJOMfIqs/Pou8PTiIXF27jLTLGlJSshmM4MoIrozgytgCHqg+gNjIS6y7+DXy9IGPWGcNpPnnx8hqPsdmM4IrI7gygitjC6hng6xrz7EuMaRYnESuLv6MzORzbCVGcGUEV0ZwZWySDEPqOw8hZf8EkqxMI5euHEOu5TNsVUZwZQRXRnBlbJKhbBCZmf0OGS47SKc1jVzLZ9gOjODKCK6M4MrYQLP5MnK+vYAc3X0E+X76C2TUBthujODKCK6M4MrYQFMrrJuoV5A/mlNIllSQlXKV7cYIrozgygiujA2023IkxZCcAqklGduZEVwZwZURXBkbaLzWQDplF6mQImVSsp0ZwZURXBnBlbGBqmmGVMmQnC7/F0ZwZQRXRnD1LxDMHwivzatpAAAAAElFTkSuQmCC\"></td></tr></tbody></table><div><small>(a vector displayed as a row to save space)</small></div>"
      ]
     },
     "metadata": {},
     "execution_count": 9
    }
   ],
   "cell_type": "code",
   "source": [
    "analyzer = IntegratedGradients(model, 50)\n",
    "heatmap(input, analyzer)"
   ],
   "metadata": {},
   "execution_count": 9
  },
  {
   "cell_type": "markdown",
   "source": [
    "To select a different reference input, pass it to the `analyze` function\n",
    "using the keyword argument `input_ref`.\n",
    "Note that this is an arbitrary example for the sake of demonstration."
   ],
   "metadata": {}
  },
  {
   "outputs": [
    {
     "output_type": "execute_result",
     "data": {
      "text/plain": "1-element Vector{Matrix{ColorTypes.RGB{Float64}}}:\n [RGB(0.5700147277832031, 0.5262036819458008, 0.1752970932006836) RGB(0.5779593811035156, 0.5281851165771485, 0.1737385269165039) … RGB(0.6049205444335938, 0.5346333740234375, 0.17031295166015625) RGB(0.5770931091308594, 0.5279732772827148, 0.1739000442504883); RGB(0.5695549392700194, 0.5260872512817383, 0.1754008804321289) RGB(0.5767471801757812, 0.5278867950439453, 0.17396831970214843) … RGB(0.5702010864257813, 0.5262502716064453, 0.17526031188964844) RGB(0.5770931091308594, 0.5279732772827148, 0.1739000442504883); … ; RGB(0.5645154190063476, 0.5248105728149414, 0.17654317169189454) RGB(0.5449493194580077, 0.5198194198608398, 0.18168804016113282) … RGB(0.5758977233886718, 0.527674430847168, 0.17413597564697267) RGB(0.5770931091308594, 0.5279732772827148, 0.1739000442504883); RGB(0.5770931091308594, 0.5279732772827148, 0.1739000442504883) RGB(0.5770931091308594, 0.5279732772827148, 0.1739000442504883) … RGB(0.5770931091308594, 0.5279732772827148, 0.1739000442504883) RGB(0.5770931091308594, 0.5279732772827148, 0.1739000442504883)]",
      "text/html": [
       "<table><tbody><tr><td style='text-align:center;vertical-align:middle; margin: 0.5em;border:1px #90999f solid;border-collapse:collapse'><img style='max-width: 100px; max-height:100px;display:inline' src=\"data:image/png;base64,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\"></td></tr></tbody></table><div><small>(a vector displayed as a row to save space)</small></div>"
      ]
     },
     "metadata": {},
     "execution_count": 10
    }
   ],
   "cell_type": "code",
   "source": [
    "matrix_of_ones = ones(Float32, size(input))\n",
    "\n",
    "analyzer = InterpolationAugmentation(Gradient(model), 50)\n",
    "expl = analyzer(input; input_ref=matrix_of_ones)\n",
    "heatmap(expl)"
   ],
   "metadata": {},
   "execution_count": 10
  },
  {
   "cell_type": "markdown",
   "source": [
    "Once again, `InterpolationAugmentation` can be combined with any analyzer type from the Julia-XAI ecosystem,\n",
    "for example `LRP` from [RelevancePropagation.jl](https://github.com/Julia-XAI/RelevancePropagation.jl)."
   ],
   "metadata": {}
  },
  {
   "cell_type": "markdown",
   "source": [
    "---\n",
    "\n",
    "*This notebook was generated using [Literate.jl](https://github.com/fredrikekre/Literate.jl).*"
   ],
   "metadata": {}
  }
 ],
 "nbformat_minor": 3,
 "metadata": {
  "language_info": {
   "file_extension": ".jl",
   "mimetype": "application/julia",
   "name": "julia",
   "version": "1.11.4"
  },
  "kernelspec": {
   "name": "julia-1.11",
   "display_name": "Julia 1.11.4",
   "language": "julia"
  }
 },
 "nbformat": 4
}
