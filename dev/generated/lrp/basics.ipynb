{
 "cells": [
  {
   "cell_type": "markdown",
   "source": [
    "# Basic usage of LRP\n",
    "This example will show you best practices for using LRP,\n",
    "building on the basics shown in the *Getting started* section."
   ],
   "metadata": {}
  },
  {
   "cell_type": "markdown",
   "source": [
    "We start out by loading a small convolutional neural network:"
   ],
   "metadata": {}
  },
  {
   "outputs": [],
   "cell_type": "code",
   "source": [
    "using ExplainableAI\n",
    "using Flux\n",
    "\n",
    "model = Chain(\n",
    "    Chain(\n",
    "        Conv((3, 3), 3 => 8, relu; pad=1),\n",
    "        Conv((3, 3), 8 => 8, relu; pad=1),\n",
    "        MaxPool((2, 2)),\n",
    "        Conv((3, 3), 8 => 16; pad=1),\n",
    "        BatchNorm(16, relu),\n",
    "        Conv((3, 3), 16 => 8, relu; pad=1),\n",
    "        BatchNorm(8, relu),\n",
    "    ),\n",
    "    Chain(\n",
    "        Flux.flatten,\n",
    "        Dense(2048 => 512, relu),\n",
    "        Dropout(0.5),\n",
    "        Dense(512 => 100, softmax)\n",
    "    ),\n",
    ");"
   ],
   "metadata": {},
   "execution_count": 1
  },
  {
   "cell_type": "markdown",
   "source": [
    "This model contains two chains: the convolutional layers and the fully connected layers."
   ],
   "metadata": {}
  },
  {
   "cell_type": "markdown",
   "source": [
    "## Model preparation\n",
    "### Stripping the output softmax\n",
    "When using LRP, it is recommended to explain output logits instead of probabilities.\n",
    "This can be done by stripping the output softmax activation from the model\n",
    "using the `strip_softmax` function:"
   ],
   "metadata": {}
  },
  {
   "outputs": [
    {
     "output_type": "execute_result",
     "data": {
      "text/plain": "Chain(\n  Chain(\n    Conv((3, 3), 3 => 8, relu, pad=1),  \u001b[90m# 224 parameters\u001b[39m\n    Conv((3, 3), 8 => 8, relu, pad=1),  \u001b[90m# 584 parameters\u001b[39m\n    MaxPool((2, 2)),\n    Conv((3, 3), 8 => 16, pad=1),       \u001b[90m# 1_168 parameters\u001b[39m\n    BatchNorm(16, relu),                \u001b[90m# 32 parameters\u001b[39m\u001b[90m, plus 32\u001b[39m\n    Conv((3, 3), 16 => 8, relu, pad=1),  \u001b[90m# 1_160 parameters\u001b[39m\n    BatchNorm(8, relu),                 \u001b[90m# 16 parameters\u001b[39m\u001b[90m, plus 16\u001b[39m\n  ),\n  Chain(\n    Flux.flatten,\n    Dense(2048 => 512, relu),           \u001b[90m# 1_049_088 parameters\u001b[39m\n    Dropout(0.5),\n    Dense(512 => 100),                  \u001b[90m# 51_300 parameters\u001b[39m\n  ),\n) \u001b[90m        # Total: 16 trainable arrays, \u001b[39m1_103_572 parameters,\n\u001b[90m          # plus 4 non-trainable, 48 parameters, summarysize \u001b[39m4.213 MiB."
     },
     "metadata": {},
     "execution_count": 2
    }
   ],
   "cell_type": "code",
   "source": [
    "model = strip_softmax(model)"
   ],
   "metadata": {},
   "execution_count": 2
  },
  {
   "cell_type": "markdown",
   "source": [
    "If you don't remove the output softmax,\n",
    "model checks will fail."
   ],
   "metadata": {}
  },
  {
   "cell_type": "markdown",
   "source": [
    "### Canonizing the model\n",
    "LRP is not invariant to a model's implementation.\n",
    "Applying the `GammaRule` to two linear layers in a row will yield different results\n",
    "than first fusing the two layers into one linear layer and then applying the rule.\n",
    "This fusing is called \"canonization\" and can be done using the `canonize` function:"
   ],
   "metadata": {}
  },
  {
   "outputs": [
    {
     "output_type": "execute_result",
     "data": {
      "text/plain": "Chain(\n  Chain(\n    Conv((3, 3), 3 => 8, relu, pad=1),  \u001b[90m# 224 parameters\u001b[39m\n    Conv((3, 3), 8 => 8, relu, pad=1),  \u001b[90m# 584 parameters\u001b[39m\n    MaxPool((2, 2)),\n    Conv((3, 3), 8 => 16, pad=1),       \u001b[90m# 1_168 parameters\u001b[39m\n    BatchNorm(16, relu),                \u001b[90m# 32 parameters\u001b[39m\u001b[90m, plus 32\u001b[39m\n    Conv((3, 3), 16 => 8, relu, pad=1),  \u001b[90m# 1_160 parameters\u001b[39m\n    BatchNorm(8, relu),                 \u001b[90m# 16 parameters\u001b[39m\u001b[90m, plus 16\u001b[39m\n  ),\n  Chain(\n    Flux.flatten,\n    Dense(2048 => 512, relu),           \u001b[90m# 1_049_088 parameters\u001b[39m\n    Dropout(0.5),\n    Dense(512 => 100),                  \u001b[90m# 51_300 parameters\u001b[39m\n  ),\n) \u001b[90m        # Total: 16 trainable arrays, \u001b[39m1_103_572 parameters,\n\u001b[90m          # plus 4 non-trainable, 48 parameters, summarysize \u001b[39m4.213 MiB."
     },
     "metadata": {},
     "execution_count": 3
    }
   ],
   "cell_type": "code",
   "source": [
    "model = canonize(model)"
   ],
   "metadata": {},
   "execution_count": 3
  },
  {
   "cell_type": "markdown",
   "source": [
    "### Flattening the model\n",
    "ExplainableAI.jl's LRP implementation supports nested Flux Chains and Parallel layers.\n",
    "However, it is recommended to flatten the model before analyzing it.\n",
    "\n",
    "LRP is implemented by first running a forward pass through the model,\n",
    "keeping track of the intermediate activations, followed by a backward pass\n",
    "that computes the relevances.\n",
    "\n",
    "To keep the LRP implementation simple and maintainable,\n",
    "ExplainableAI.jl does not pre-compute \"nested\" activations.\n",
    "Instead, for every internal chain, a new forward pass is run to compute activations.\n",
    "\n",
    "By \"flattening\" a model, this overhead can be avoided.\n",
    "For this purpose, ExplainableAI.jl provides the function `flatten_model`:"
   ],
   "metadata": {}
  },
  {
   "outputs": [
    {
     "output_type": "execute_result",
     "data": {
      "text/plain": "Chain(\n  Conv((3, 3), 3 => 8, relu, pad=1),    \u001b[90m# 224 parameters\u001b[39m\n  Conv((3, 3), 8 => 8, relu, pad=1),    \u001b[90m# 584 parameters\u001b[39m\n  MaxPool((2, 2)),\n  Conv((3, 3), 8 => 16, pad=1),         \u001b[90m# 1_168 parameters\u001b[39m\n  BatchNorm(16, relu),                  \u001b[90m# 32 parameters\u001b[39m\u001b[90m, plus 32\u001b[39m\n  Conv((3, 3), 16 => 8, relu, pad=1),   \u001b[90m# 1_160 parameters\u001b[39m\n  BatchNorm(8, relu),                   \u001b[90m# 16 parameters\u001b[39m\u001b[90m, plus 16\u001b[39m\n  Flux.flatten,\n  Dense(2048 => 512, relu),             \u001b[90m# 1_049_088 parameters\u001b[39m\n  Dropout(0.5),\n  Dense(512 => 100),                    \u001b[90m# 51_300 parameters\u001b[39m\n) \u001b[90m        # Total: 16 trainable arrays, \u001b[39m1_103_572 parameters,\n\u001b[90m          # plus 4 non-trainable, 48 parameters, summarysize \u001b[39m4.212 MiB."
     },
     "metadata": {},
     "execution_count": 4
    }
   ],
   "cell_type": "code",
   "source": [
    "model_flat = flatten_model(model)"
   ],
   "metadata": {},
   "execution_count": 4
  },
  {
   "cell_type": "markdown",
   "source": [
    "This function is called by default when creating an LRP analyzer.\n",
    "Note that we pass the unflattened model to the analyzer, but `analyzer.model` is flattened:"
   ],
   "metadata": {}
  },
  {
   "outputs": [
    {
     "output_type": "execute_result",
     "data": {
      "text/plain": "Chain(\n  Conv((3, 3), 3 => 8, relu, pad=1),    \u001b[90m# 224 parameters\u001b[39m\n  Conv((3, 3), 8 => 8, relu, pad=1),    \u001b[90m# 584 parameters\u001b[39m\n  MaxPool((2, 2)),\n  Conv((3, 3), 8 => 16, pad=1),         \u001b[90m# 1_168 parameters\u001b[39m\n  BatchNorm(16, relu),                  \u001b[90m# 32 parameters\u001b[39m\u001b[90m, plus 32\u001b[39m\n  Conv((3, 3), 16 => 8, relu, pad=1),   \u001b[90m# 1_160 parameters\u001b[39m\n  BatchNorm(8, relu),                   \u001b[90m# 16 parameters\u001b[39m\u001b[90m, plus 16\u001b[39m\n  Flux.flatten,\n  Dense(2048 => 512, relu),             \u001b[90m# 1_049_088 parameters\u001b[39m\n  Dropout(0.5),\n  Dense(512 => 100),                    \u001b[90m# 51_300 parameters\u001b[39m\n) \u001b[90m        # Total: 16 trainable arrays, \u001b[39m1_103_572 parameters,\n\u001b[90m          # plus 4 non-trainable, 48 parameters, summarysize \u001b[39m4.212 MiB."
     },
     "metadata": {},
     "execution_count": 5
    }
   ],
   "cell_type": "code",
   "source": [
    "analyzer = LRP(model)\n",
    "analyzer.model"
   ],
   "metadata": {},
   "execution_count": 5
  },
  {
   "cell_type": "markdown",
   "source": [
    "If this flattening is not desired, it can be disabled\n",
    "by passing the keyword argument `flatten=false` to the `LRP` constructor."
   ],
   "metadata": {}
  },
  {
   "cell_type": "markdown",
   "source": [
    "## LRP rules\n",
    "By default, the `LRP` constructor will assign the `ZeroRule` to all layers."
   ],
   "metadata": {}
  },
  {
   "outputs": [
    {
     "output_type": "execute_result",
     "data": {
      "text/plain": "LRP(\n  Conv((3, 3), 3 => 8, relu, pad=1) \u001b[90m => \u001b[39m\u001b[33mZeroRule()\u001b[39m,\n  Conv((3, 3), 8 => 8, relu, pad=1) \u001b[90m => \u001b[39m\u001b[33mZeroRule()\u001b[39m,\n  MaxPool((2, 2))                   \u001b[90m => \u001b[39m\u001b[33mZeroRule()\u001b[39m,\n  Conv((3, 3), 8 => 16, pad=1)      \u001b[90m => \u001b[39m\u001b[33mZeroRule()\u001b[39m,\n  BatchNorm(16, relu)               \u001b[90m => \u001b[39m\u001b[33mZeroRule()\u001b[39m,\n  Conv((3, 3), 16 => 8, relu, pad=1)\u001b[90m => \u001b[39m\u001b[33mZeroRule()\u001b[39m,\n  BatchNorm(8, relu)                \u001b[90m => \u001b[39m\u001b[33mZeroRule()\u001b[39m,\n  Flux.flatten                      \u001b[90m => \u001b[39m\u001b[33mZeroRule()\u001b[39m,\n  Dense(2048 => 512, relu)          \u001b[90m => \u001b[39m\u001b[33mZeroRule()\u001b[39m,\n  Dropout(0.5)                      \u001b[90m => \u001b[39m\u001b[33mZeroRule()\u001b[39m,\n  Dense(512 => 100)                 \u001b[90m => \u001b[39m\u001b[33mZeroRule()\u001b[39m,\n)"
     },
     "metadata": {},
     "execution_count": 6
    }
   ],
   "cell_type": "code",
   "source": [
    "LRP(model)"
   ],
   "metadata": {},
   "execution_count": 6
  },
  {
   "cell_type": "markdown",
   "source": [
    "This analyzer will return heatmaps that look identical to `InputTimesGradient`."
   ],
   "metadata": {}
  },
  {
   "cell_type": "markdown",
   "source": [
    "LRP's strength lies in assigning different rules to different layers,\n",
    "based on their functionality in the neural network[^1].\n",
    "ExplainableAI.jl implements many LRP rules out of the box,\n",
    "but it is also possible to *implement custom rules*.\n",
    "\n",
    "To assign different rules to different layers,\n",
    "use one of the composites presets,\n",
    "or create your own composite, as described in\n",
    "*Assigning rules to layers*."
   ],
   "metadata": {}
  },
  {
   "outputs": [
    {
     "output_type": "execute_result",
     "data": {
      "text/plain": "Composite(\n  GlobalTypeMap(  \u001b[90m# all layers\u001b[39m\n\u001b[94m    Flux.Conv              \u001b[39m => \u001b[33mZPlusRule()\u001b[39m,\n\u001b[94m    Flux.ConvTranspose     \u001b[39m => \u001b[33mZPlusRule()\u001b[39m,\n\u001b[94m    Flux.CrossCor          \u001b[39m => \u001b[33mZPlusRule()\u001b[39m,\n\u001b[94m    Flux.Dense             \u001b[39m => \u001b[33mEpsilonRule{Float32}(1.0f-6)\u001b[39m,\n\u001b[94m    typeof(NNlib.dropout)  \u001b[39m => \u001b[33mPassRule()\u001b[39m,\n\u001b[94m    Flux.AlphaDropout      \u001b[39m => \u001b[33mPassRule()\u001b[39m,\n\u001b[94m    Flux.Dropout           \u001b[39m => \u001b[33mPassRule()\u001b[39m,\n\u001b[94m    Flux.BatchNorm         \u001b[39m => \u001b[33mPassRule()\u001b[39m,\n\u001b[94m    typeof(Flux.flatten)   \u001b[39m => \u001b[33mPassRule()\u001b[39m,\n\u001b[94m    typeof(MLUtils.flatten)\u001b[39m => \u001b[33mPassRule()\u001b[39m,\n\u001b[94m    typeof(identity)       \u001b[39m => \u001b[33mPassRule()\u001b[39m,\n ),\n  FirstLayerTypeMap(  \u001b[90m# first layer\u001b[39m\n\u001b[94m    Flux.Conv         \u001b[39m => \u001b[33mFlatRule()\u001b[39m,\n\u001b[94m    Flux.ConvTranspose\u001b[39m => \u001b[33mFlatRule()\u001b[39m,\n\u001b[94m    Flux.CrossCor     \u001b[39m => \u001b[33mFlatRule()\u001b[39m,\n\u001b[94m    Flux.Dense        \u001b[39m => \u001b[33mFlatRule()\u001b[39m,\n ),\n)"
     },
     "metadata": {},
     "execution_count": 7
    }
   ],
   "cell_type": "code",
   "source": [
    "composite = EpsilonPlusFlat() # using composite preset EpsilonPlusFlat"
   ],
   "metadata": {},
   "execution_count": 7
  },
  {
   "outputs": [
    {
     "output_type": "execute_result",
     "data": {
      "text/plain": "LRP(\n  Conv((3, 3), 3 => 8, relu, pad=1) \u001b[90m => \u001b[39m\u001b[33mFlatRule()\u001b[39m,\n  Conv((3, 3), 8 => 8, relu, pad=1) \u001b[90m => \u001b[39m\u001b[33mZPlusRule()\u001b[39m,\n  MaxPool((2, 2))                   \u001b[90m => \u001b[39m\u001b[33mZeroRule()\u001b[39m,\n  Conv((3, 3), 8 => 16, pad=1)      \u001b[90m => \u001b[39m\u001b[33mZPlusRule()\u001b[39m,\n  BatchNorm(16, relu)               \u001b[90m => \u001b[39m\u001b[33mPassRule()\u001b[39m,\n  Conv((3, 3), 16 => 8, relu, pad=1)\u001b[90m => \u001b[39m\u001b[33mZPlusRule()\u001b[39m,\n  BatchNorm(8, relu)                \u001b[90m => \u001b[39m\u001b[33mPassRule()\u001b[39m,\n  Flux.flatten                      \u001b[90m => \u001b[39m\u001b[33mPassRule()\u001b[39m,\n  Dense(2048 => 512, relu)          \u001b[90m => \u001b[39m\u001b[33mEpsilonRule{Float32}(1.0f-6)\u001b[39m,\n  Dropout(0.5)                      \u001b[90m => \u001b[39m\u001b[33mPassRule()\u001b[39m,\n  Dense(512 => 100)                 \u001b[90m => \u001b[39m\u001b[33mEpsilonRule{Float32}(1.0f-6)\u001b[39m,\n)"
     },
     "metadata": {},
     "execution_count": 8
    }
   ],
   "cell_type": "code",
   "source": [
    "LRP(model, composite)"
   ],
   "metadata": {},
   "execution_count": 8
  },
  {
   "cell_type": "markdown",
   "source": [
    "## Computing layerwise relevances\n",
    "If you are interested in computing layerwise relevances,\n",
    "call `analyze` with an LRP analyzer and the keyword argument\n",
    "`layerwise_relevances=true`.\n",
    "\n",
    "The layerwise relevances can be accessed in the `extras` field\n",
    "of the returned `Explanation`:"
   ],
   "metadata": {}
  },
  {
   "outputs": [
    {
     "output_type": "execute_result",
     "data": {
      "text/plain": "12-element Vector{Array{Float32}}:\n [0.023972327 -0.02358814 … -0.0011703597 -1.5014613f-5; -0.1215815 0.58227444 … 0.008747854 -0.0054667816; … ; 0.078377955 -0.0063119177 … 0.29916316 -0.0037573816; -0.13069074 0.03300363 … -0.017594734 -0.14072035;;; -0.15179393 0.14468515 … -0.17121944 0.008987525; 0.22006907 -0.021620404 … -0.03655978 -0.16098164; … ; 0.14053813 -0.15974918 … -0.007363015 -0.0811165; -0.008114331 0.006917161 … -0.049976934 0.072768606;;; 0.30096287 0.16085379 … -0.006799129 0.0014191316; 0.0032188229 0.12634307 … -0.12618414 0.013464545; … ; 0.19184633 0.03452833 … -0.18707588 8.139832f-5; 0.005536826 0.09686243 … -0.17165674 0.21169946;;;;]\n [0.0 0.0 … 0.0619112 0.0; 0.0 0.31802884 … -0.0 0.0; … ; 0.002773554 0.10261587 … 0.08192773 -0.0009866634; 0.04149278 0.042360637 … -0.062173314 0.0008106472;;; -0.0055034603 -0.028817706 … -0.009154639 -0.0016421733; -0.011245882 0.72862405 … 0.0 0.0; … ; 0.2628848 0.10053868 … 0.1587015 -0.0; 0.1720933 -0.012672281 … -0.008422093 -0.03137762;;; -0.0 0.0 … -0.0 -0.0; -0.0 0.0 … -0.0 -0.0; … ; -0.0 0.0 … -0.0 -0.0; 0.0 0.0 … 0.0 -0.0;;; 0.0 0.0 … -0.0 0.0; -0.0 0.0 … -0.0 0.0; … ; -0.0 0.0013305657 … 0.06456806 -0.0; 0.0 0.0 … 0.0 0.0041763494;;; -0.0 0.0 … 0.0 -0.0; -0.0 -0.0 … -0.0 0.0; … ; 0.0 -0.0129596125 … 0.0 0.006836919; 0.013435887 0.13284273 … 0.0 -0.0;;; 0.0 -0.0 … -0.0006719845 -0.12673855; 0.0 0.0 … 0.0 0.12660426; … ; -0.0 0.0 … -0.0 0.0; 0.0 -0.0 … 0.0 0.0;;; -0.0 -0.0 … -0.0 0.0; 0.0 -0.0 … 0.0 0.0; … ; 0.0 -0.0 … -0.0 0.0; 0.0 -0.0014599053 … -0.027235435 0.0;;; -0.0947249 0.05964761 … 0.0 -0.0; 0.0 0.0 … -0.2800285 0.022725185; … ; -0.012769618 -0.0 … 0.0 0.023521068; -0.0 0.037399374 … -0.0027511828 0.030141288;;;;]\n [0.0 0.0 … 0.0 0.0; 0.0 0.0 … 0.0 0.0; … ; 0.0 0.0 … 0.0 0.0; 0.0 0.0 … 0.0 -0.0027751513;;; 0.0 0.0 … 0.0 0.28377184; 0.14415112 0.0 … 0.0 0.0; … ; 0.0 0.0 … 0.0 0.0; 0.062436953 0.0 … 0.0 0.095887065;;; 0.0 0.0 … -0.10198572 0.0; 0.0 0.0 … 0.0 0.0; … ; 0.0 0.0 … -0.05333546 0.0; 0.11597777 0.0 … 0.0 0.0;;; 0.0 0.0 … 0.0 0.0; 0.0 0.0 … 0.0 -0.05881093; … ; -0.003391308 0.0 … 0.0 0.0; 0.0 0.0 … 0.0 0.0;;; 0.0 0.0 … 0.0 0.033668038; 0.0 0.00294787 … 0.0 0.0; … ; 0.0 0.0 … 0.0 0.0; 0.26542845 0.0 … -0.24095905 0.0;;; 0.0 0.0 … 0.07301391 0.0; -0.049574073 0.0 … 0.0 0.0; … ; 0.06656435 0.0 … 0.0 0.0; 0.0 0.0 … 0.0 0.0;;; 0.0 -0.09306866 … 0.0 0.0; 0.0 0.0 … 0.0 -0.08999931; … ; 0.031562593 0.0 … 0.0 0.0; 0.0 0.0 … 0.0 -0.03753316;;; 0.0 0.0 … 0.0 -0.09915636; 0.08707236 0.0 … 0.0 0.0; … ; -0.026502434 0.0 … 0.0 0.0; 0.0 0.0 … 0.0 0.0;;;;]\n [0.0 0.0 … -0.0 -0.0; -0.0 -0.0 … -0.0 -0.0; … ; -0.0 0.0 … 0.0 -0.020470489; 0.0 -0.0 … 0.0 -0.0027751517;;; 0.14415112 0.4679298 … -0.027956435 0.28377184; 0.14477198 1.8943267 … -0.3726017 0.16635358; … ; 0.013598611 0.29193527 … -0.14764844 -0.05174159; 0.062436953 0.28945875 … 0.39114442 0.095887065;;; 0.0 0.11180833 … 0.18277085 -0.10198572; -0.0348773 -0.66971874 … 0.0 -0.032076273; … ; 0.30906367 -0.038348906 … 0.013174172 0.20823838; 0.11597777 -0.02292312 … 0.005316381 -0.05333546;;; 0.0 0.0 … 0.089212395 -0.05881093; 0.059284925 0.026654817 … -0.055763543 0.0; … ; -0.00029201366 -0.066911004 … 0.07296166 -0.065984644; -0.003391308 0.0 … -0.026655115 0.0;;; 0.00294787 -0.0 … -0.08301851 0.03366804; 0.129167 1.7647322 … 0.39833638 -0.009937703; … ; 0.23732877 0.39073238 … 0.19390467 0.5674418; 0.26542845 -0.017143317 … -0.3120434 -0.24095905;;; -0.049574073 -0.06888638 … -0.0 0.07301391; -0.28361243 -0.05280617 … -0.23145512 0.00029133857; … ; 0.042255677 0.0 … 0.0011040743 -0.0; 0.06656435 -0.0 … -0.0041060774 -0.0;;; -0.09306866 -0.19424318 … -0.18375592 -0.08999931; -0.033025205 -0.0 … 0.0 -0.0; … ; 0.0679765 0.0 … 0.0 0.0; 0.031562593 -0.0 … 0.0427686 -0.037533164;;; 0.08707236 0.0 … 0.044674717 -0.09915636; -0.06684379 -0.0 … -0.01994808 -0.012762798; … ; -0.15595202 -0.0 … 0.0 -0.13791253; -0.026502434 0.0 … -0.0 -0.0;;;;]\n [-0.008760735 -0.004631245 … -0.003587099 -0.0025826395; 0.00098903 0.06375897 … -0.005154122 0.0008235165; … ; 0.00090829836 -0.0027077354 … 0.0014099005 0.0007045348; -0.007083802 -0.010411042 … 0.002750523 -0.013013727;;; -8.110434f-5 9.267018f-6 … 9.192161f-6 9.792564f-6; -9.269538f-8 8.632261f-6 … -8.442918f-6 -3.2800929f-6; … ; 9.527705f-6 9.691363f-6 … 7.2732423f-6 8.997803f-6; 9.446955f-5 3.2977382f-6 … 6.216507f-6 9.591073f-6;;; -5.8192298f-5 -5.895198f-5 … 2.1670854f-5 -6.6722682f-6; -9.029506f-7 4.2959688f-5 … 0.000119033044 -1.9594172f-5; … ; -2.1253356f-5 -5.8883907f-6 … 1.3958785f-5 -5.873541f-5; -0.00049784075 -5.962091f-5 … -6.0664643f-5 -1.77455f-5;;; … ;;; 0.011734514 0.039739292 … 0.038636774 0.042397816; -0.034790736 2.3460362 … -0.09016983 0.054750737; … ; 0.040322393 0.030744035 … -2.018468 0.0490348; -0.018413601 0.04609372 … 0.03160536 0.026478747;;; -0.008183604 0.0003548337 … 0.00013807976 0.00026663186; 0.00036432027 0.0011333134 … -1.6792357f-5 0.005419478; … ; 8.370137f-5 -0.0016353149 … 0.0016476354 -0.002717961; -0.0006217797 -0.0042878026 … -0.009328457 0.0003313315;;; -0.014009114 0.16804968 … 0.15168771 0.077606484; 0.13645406 1.3693348 … -0.15491515 0.3254717; … ; 0.00785499 0.40797338 … 0.28733015 0.2740444; 0.16399442 0.21146055 … 0.24618664 0.25954887;;;;]\n [-0.0028746205 0.0 … -0.0035763902 0.0; -0.00085105834 0.04484913 … -0.004815733 -0.003047378; … ; -0.0012884352 0.0 … -0.0009969565 0.00048217093; -0.0041641593 -0.0037823806 … 0.0004789016 -0.0;;; -0.00046583425 0.0 … 0.0 -0.0; 3.2870663f-5 -0.0 … 0.0 -0.0; … ; 0.0 -0.0 … 0.0 0.0; 0.0005640088 -0.0 … -0.0 0.0;;; 0.0 0.0 … 0.0 -0.0; -0.0002452677 -0.0 … -0.0 -0.0; … ; -0.00049319235 -0.0 … -0.0 -0.0; -0.0025911643 0.0 … -0.0 -0.0;;; … ;;; -0.0018251318 0.28615254 … -0.04179569 -0.018361902; 0.0 0.6071495 … -0.051220626 -2.327669f-5; … ; 0.001425498 -0.003074982 … -0.05905715 -0.045789346; -0.0 0.010496946 … -0.009752161 -0.013561238;;; -0.0055209356 0.0 … -0.0 0.0; -0.0 0.006211725 … 0.00017230326 0.009960365; … ; 0.0015473556 -0.0030856929 … 0.0041086236 -0.0045705717; 0.0 -0.004302087 … -0.013033793 0.0;;; 0.0 0.15639284 … -0.002146711 0.010648105; -0.000765763 0.13100833 … -0.06231892 -0.050908647; … ; -0.001028751 0.0029376033 … -0.020945625 -0.030257428; -0.009303781 -0.0030061046 … -0.012795706 -0.027496366;;;;]\n [0.004037693 0.004214085 … -0.0 -0.0; -0.0008294124 0.0003134232 … -0.0 -0.0; … ; -0.0 -2.8447215f-7 … -0.0 -0.0; -3.2484481f-6 -0.0 … -0.0 -0.0;;; 0.005638827 -0.0 … -0.0 -0.0; 0.0041116457 -0.0 … -0.0 -0.0; … ; -0.006284389 -0.0018792077 … -0.0 -0.0; -0.006767525 0.004321918 … -0.00015488265 -0.0;;; -0.0 -0.01638448 … -0.038697224 -0.02733658; -0.023803627 -0.008626487 … -0.6599186 -0.03159812; … ; -0.0017259184 -0.019836865 … 0.04026596 -0.034963932; -0.004262962 -0.018541168 … -0.030363685 -0.01455523;;; 0.00029766504 0.00021078282 … 0.00020069446 0.00062879466; 0.00071725406 0.0015745223 … -0.05515839 0.0016537126; … ; 0.0 -0.046204116 … -0.17784545 0.0018150486; 0.00024139651 0.20502429 … 0.026181351 -0.08243095;;; -0.0 -0.0046256864 … 0.002506988 0.0012891256; -0.0 -0.0 … -0.0 -0.0046678754; … ; -0.0 -0.0 … -0.0 0.0013542761; -0.000118110795 -0.0 … 0.0024665822 -0.0;;; -0.0012782827 -0.06722947 … 0.022897435 -0.006412471; -0.0026356757 -0.024853224 … 0.077650905 -0.003404775; … ; -0.0015604987 0.0021036807 … -0.2162511 -0.002311474; -0.0 -0.0011832075 … -0.0003618657 -0.00010464265;;; -1.2696534f-5 0.0011982567 … -2.3892005f-6 -0.0; -0.0 -0.0 … -0.0 -0.0; … ; -0.0 -0.0 … -0.0 -0.00013680568; -0.0 -0.0015459183 … 0.00046246493 0.0024088211;;; -0.0 -0.0022762828 … -0.0 -0.0; -0.0 -0.0 … -0.0 -0.011008194; … ; -0.0 -0.0 … -0.0 -0.0032088605; -0.0 -0.001066163 … -0.0 -0.009916432;;;;]\n [0.0036044654 0.0031986868 … 0.0 0.0; -0.0005353313 0.0005172909 … 0.0 0.0; … ; 0.0 -1.8721765f-5 … 0.0 0.0; 0.00044681036 0.0 … 0.0 0.0;;; 0.004458951 0.0 … 0.0 0.0; 0.0044221794 0.0 … 0.0 0.0; … ; -0.004702331 -0.00094093336 … 0.0 0.0; -0.0051159994 0.004257631 … -0.00012534104 0.0;;; 0.0 -0.00031095813 … 0.01530161 -0.005509649; 0.008688275 0.00391507 … -0.018805996 -0.002621577; … ; -0.00021446522 -0.0023433145 … 0.020700097 0.0058254423; -0.0023675675 0.0012732642 … 0.0023141487 0.004963742;;; -0.00091812754 -0.0007098036 … 0.00017369373 0.00046950358; -0.0021070673 -0.013292212 … -0.016694503 -0.0009729238; … ; 0.0 -0.014591549 … -0.009956921 0.0007967845; 0.00055795594 0.008435974 … 0.0041347966 -0.0115157105;;; 0.0 -0.0040819547 … 0.0014568315 0.00056195754; 0.0 0.0 … 0.0 -0.004916722; … ; 0.0 0.0 … 0.0 0.0005423699; -7.170971f-5 0.0 … 0.00012409894 0.0;;; 0.0017008533 -0.0069973385 … 0.004080909 0.013402294; -0.0023228042 -0.003761995 … 0.003005914 0.0059321835; … ; 0.004030602 0.0018095088 … -0.013015214 0.0009938481; 0.0 -0.0025365395 … -0.000554571 -6.0904295f-5;;; 8.4975865f-5 0.0044383896 … -4.719058f-5 0.0; 0.0 0.0 … 0.0 0.0; … ; 0.0 0.0 … 0.0 -2.8443505f-5; 0.0 -0.00096001185 … 0.00044477743 0.002488814;;; 0.0 -0.0003790525 … 0.0 0.0; 0.0 0.0 … 0.0 -0.0040000337; … ; 0.0 0.0 … 0.0 -0.0008469822; 0.0 0.00058637914 … 0.0 -0.0014412613;;;;]\n [0.0036044654; -0.0005353313; … ; -0.00084698224; -0.0014412613;;]\n [0.0; 0.0; … ; 0.0; -0.007580461;;]\n [0.0; 0.052725744; … ; 0.0; -0.007580461;;]\n [0.0; 0.0; … ; 0.0; 0.0;;]"
     },
     "metadata": {},
     "execution_count": 9
    }
   ],
   "cell_type": "code",
   "source": [
    "input = rand(Float32, 32, 32, 3, 1) # dummy input for our convolutional neural network\n",
    "\n",
    "expl = analyze(input, analyzer; layerwise_relevances=true)\n",
    "expl.extras.layerwise_relevances"
   ],
   "metadata": {},
   "execution_count": 9
  },
  {
   "cell_type": "markdown",
   "source": [
    "Note that the layerwise relevances are only kept for layers in the outermost `Chain` of the model.\n",
    "When using our unflattened model, we only obtain three layerwise relevances,\n",
    "one for each chain in the model and the output relevance:"
   ],
   "metadata": {}
  },
  {
   "outputs": [
    {
     "output_type": "execute_result",
     "data": {
      "text/plain": "3-element Vector{Array{Float32}}:\n [-0.07218976 0.08403008 … 0.00020328925 0.00012669977; -0.08339688 0.2634962 … -0.01722643 -0.012737767; … ; 0.37418485 -0.03896142 … 0.28288078 -0.004942556; 0.022854874 -0.050112613 … -0.060604617 -0.18520491;;; -0.024675706 0.02239144 … 0.112312295 0.017890165; 0.029772026 0.029974425 … 0.021572443 0.13867408; … ; 0.07537866 -0.27185047 … 0.00031091092 -0.066440456; -0.033052314 -0.08553221 … -0.19521922 0.17913724;;; 0.043052018 0.070832096 … -0.018425453 0.001648684; 0.020712601 0.21079946 … 0.08016446 0.055932738; … ; 0.07090859 0.14951049 … -0.50743157 0.00049612316; 0.01855937 0.15280555 … -0.47737014 0.3664788;;;;]\n [-0.0011592656 0.002126108 … 0.0 0.0; -0.0031442563 0.0022262856 … 0.0 0.0; … ; 0.0 3.822327f-6 … 0.0 0.0; 4.10315f-5 0.0 … 0.0 0.0;;; 0.00087232917 0.0 … 0.0 0.0; 0.002701705 0.0 … 0.0 0.0; … ; -0.003284869 0.0010935802 … 0.0 0.0; -0.008299235 0.0012580515 … 9.084662f-5 0.0;;; 0.0 -7.012719f-5 … 0.009989604 0.00078025565; 0.0028881542 0.00083874067 … 0.009780644 0.0011632829; … ; 0.0 0.00052620564 … 0.01368228 0.007294778; 0.0 0.005332588 … -0.0022339285 0.0012434906;;; 4.9620325f-5 0.0 … 0.0 0.00011704307; -0.0020723667 -0.006069266 … -0.02739052 -0.0025418662; … ; 0.0 -0.011119496 … -0.004719928 -0.0069175847; 0.0 0.006708334 … -0.008121022 -0.0029497542;;; 0.0 -0.0025165025 … 0.00077386113 0.0010180663; 0.0 0.0 … 0.0 0.00061939395; … ; 0.0 0.0 … 0.0 -0.000714438; 0.00022663 0.00016139593 … -0.00020162093 0.0;;; -0.00073783385 -0.012526217 … -0.0039139446 0.0031311929; -0.0042983624 -0.01389911 … 0.008413324 0.00068231375; … ; 0.00084963226 0.012250769 … -0.010885439 0.001510835; 0.0 -0.0012171501 … 0.0 0.0;;; 0.00025065194 0.0041467915 … 0.00023215548 0.0; 0.0 0.0 … 0.0 0.0; … ; 0.0 0.0 … 0.0 -0.00017103931; 0.0 -0.0008461538 … 0.00053443306 0.0038198344;;; 0.0 0.00066562946 … 0.0 0.0; 0.0 0.0 … 0.0 -0.0020150766; … ; 0.0 0.0 … 0.0 -0.00088408455; 0.0 -0.00094222114 … 0.0 -0.0014691702;;;;]\n [0.0; 0.0; … ; 0.0; 0.0;;]"
     },
     "metadata": {},
     "execution_count": 10
    }
   ],
   "cell_type": "code",
   "source": [
    "analyzer = LRP(model; flatten=false) # use unflattened model\n",
    "\n",
    "expl = analyze(input, analyzer; layerwise_relevances=true)\n",
    "expl.extras.layerwise_relevances"
   ],
   "metadata": {},
   "execution_count": 10
  },
  {
   "cell_type": "markdown",
   "source": [
    "## Performance tips\n",
    "### Using LRP without a GPU\n",
    "Since ExplainableAI.jl's LRP implementation makes use of\n",
    "[Tullio.jl](https://github.com/mcabbott/Tullio.jl),\n",
    "analysis can be accelerated by loading either\n",
    "- a package from the [JuliaGPU](https://juliagpu.org) ecosystem,\n",
    "  e.g. [CUDA.jl](https://github.com/JuliaGPU/CUDA.jl), if a GPU is available\n",
    "- [LoopVectorization.jl](https://github.com/JuliaSIMD/LoopVectorization.jl)\n",
    "  if only a CPU is available.\n",
    "\n",
    "This only requires loading the LoopVectorization.jl package before ExplainableAI.jl:\n",
    "```julia\n",
    "using LoopVectorization\n",
    "using ExplainableAI\n",
    "```\n",
    "\n",
    "[^1]: G. Montavon et al., [Layer-Wise Relevance Propagation: An Overview](https://link.springer.com/chapter/10.1007/978-3-030-28954-6_10)"
   ],
   "metadata": {}
  },
  {
   "cell_type": "markdown",
   "source": [
    "---\n",
    "\n",
    "*This notebook was generated using [Literate.jl](https://github.com/fredrikekre/Literate.jl).*"
   ],
   "metadata": {}
  }
 ],
 "nbformat_minor": 3,
 "metadata": {
  "language_info": {
   "file_extension": ".jl",
   "mimetype": "application/julia",
   "name": "julia",
   "version": "1.9.3"
  },
  "kernelspec": {
   "name": "julia-1.9",
   "display_name": "Julia 1.9.3",
   "language": "julia"
  }
 },
 "nbformat": 4
}
