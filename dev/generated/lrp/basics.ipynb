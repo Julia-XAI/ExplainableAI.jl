{
 "cells": [
  {
   "cell_type": "markdown",
   "source": [
    "# Basic usage of LRP\n",
    "This example will show you best practices for using LRP,\n",
    "building on the basics shown in the *Getting started* section."
   ],
   "metadata": {}
  },
  {
   "cell_type": "markdown",
   "source": [
    "We start out by loading a small convolutional neural network:"
   ],
   "metadata": {}
  },
  {
   "outputs": [],
   "cell_type": "code",
   "source": [
    "using ExplainableAI\n",
    "using Flux\n",
    "\n",
    "model = Chain(\n",
    "    Chain(\n",
    "        Conv((3, 3), 3 => 8, relu; pad=1),\n",
    "        Conv((3, 3), 8 => 8, relu; pad=1),\n",
    "        MaxPool((2, 2)),\n",
    "        Conv((3, 3), 8 => 16; pad=1),\n",
    "        BatchNorm(16, relu),\n",
    "        Conv((3, 3), 16 => 8, relu; pad=1),\n",
    "        BatchNorm(8, relu),\n",
    "    ),\n",
    "    Chain(\n",
    "        Flux.flatten,\n",
    "        Dense(2048 => 512, relu),\n",
    "        Dropout(0.5),\n",
    "        Dense(512 => 100, softmax)\n",
    "    ),\n",
    ");"
   ],
   "metadata": {},
   "execution_count": 1
  },
  {
   "cell_type": "markdown",
   "source": [
    "This model contains two chains: the convolutional layers and the fully connected layers."
   ],
   "metadata": {}
  },
  {
   "cell_type": "markdown",
   "source": [
    "## Model preparation\n",
    "### Stripping the output softmax\n",
    "When using LRP, it is recommended to explain output logits instead of probabilities.\n",
    "This can be done by stripping the output softmax activation from the model\n",
    "using the `strip_softmax` function:"
   ],
   "metadata": {}
  },
  {
   "outputs": [
    {
     "output_type": "execute_result",
     "data": {
      "text/plain": "Chain(\n  Chain(\n    Conv((3, 3), 3 => 8, relu, pad=1),  \u001b[90m# 224 parameters\u001b[39m\n    Conv((3, 3), 8 => 8, relu, pad=1),  \u001b[90m# 584 parameters\u001b[39m\n    MaxPool((2, 2)),\n    Conv((3, 3), 8 => 16, pad=1),       \u001b[90m# 1_168 parameters\u001b[39m\n    BatchNorm(16, relu),                \u001b[90m# 32 parameters\u001b[39m\u001b[90m, plus 32\u001b[39m\n    Conv((3, 3), 16 => 8, relu, pad=1),  \u001b[90m# 1_160 parameters\u001b[39m\n    BatchNorm(8, relu),                 \u001b[90m# 16 parameters\u001b[39m\u001b[90m, plus 16\u001b[39m\n  ),\n  Chain(\n    Flux.flatten,\n    Dense(2048 => 512, relu),           \u001b[90m# 1_049_088 parameters\u001b[39m\n    Dropout(0.5),\n    Dense(512 => 100),                  \u001b[90m# 51_300 parameters\u001b[39m\n  ),\n) \u001b[90m        # Total: 16 trainable arrays, \u001b[39m1_103_572 parameters,\n\u001b[90m          # plus 4 non-trainable, 48 parameters, summarysize \u001b[39m4.213 MiB."
     },
     "metadata": {},
     "execution_count": 2
    }
   ],
   "cell_type": "code",
   "source": [
    "model = strip_softmax(model)"
   ],
   "metadata": {},
   "execution_count": 2
  },
  {
   "cell_type": "markdown",
   "source": [
    "If you don't remove the output softmax,\n",
    "model checks will fail."
   ],
   "metadata": {}
  },
  {
   "cell_type": "markdown",
   "source": [
    "### Canonizing the model\n",
    "LRP is not invariant to a model's implementation.\n",
    "Applying the `GammaRule` to two linear layers in a row will yield different results\n",
    "than first fusing the two layers into one linear layer and then applying the rule.\n",
    "This fusing is called \"canonization\" and can be done using the `canonize` function:"
   ],
   "metadata": {}
  },
  {
   "outputs": [
    {
     "output_type": "execute_result",
     "data": {
      "text/plain": "Chain(\n  Conv((3, 3), 3 => 8, relu, pad=1),    \u001b[90m# 224 parameters\u001b[39m\n  Conv((3, 3), 8 => 8, relu, pad=1),    \u001b[90m# 584 parameters\u001b[39m\n  MaxPool((2, 2)),\n  Conv((3, 3), 8 => 16, relu, pad=1),   \u001b[90m# 1_168 parameters\u001b[39m\n  Conv((3, 3), 16 => 8, relu, pad=1),   \u001b[90m# 1_160 parameters\u001b[39m\n  BatchNorm(8, relu),                   \u001b[90m# 16 parameters\u001b[39m\u001b[90m, plus 16\u001b[39m\n  Flux.flatten,\n  Dense(2048 => 512, relu),             \u001b[90m# 1_049_088 parameters\u001b[39m\n  Dropout(0.5),\n  Dense(512 => 100),                    \u001b[90m# 51_300 parameters\u001b[39m\n) \u001b[90m        # Total: 14 trainable arrays, \u001b[39m1_103_540 parameters,\n\u001b[90m          # plus 2 non-trainable, 16 parameters, summarysize \u001b[39m4.212 MiB."
     },
     "metadata": {},
     "execution_count": 3
    }
   ],
   "cell_type": "code",
   "source": [
    "model_canonized = canonize(model)"
   ],
   "metadata": {},
   "execution_count": 3
  },
  {
   "cell_type": "markdown",
   "source": [
    "After canonization, the first `BatchNorm` layer has been fused into the preceding `Conv` layer.\n",
    "The second `BatchNorm` layer wasn't fused\n",
    "since its preceding `Conv` layer has a ReLU activation function."
   ],
   "metadata": {}
  },
  {
   "cell_type": "markdown",
   "source": [
    "### Flattening the model\n",
    "ExplainableAI.jl's LRP implementation supports nested Flux Chains and Parallel layers.\n",
    "However, it is recommended to flatten the model before analyzing it.\n",
    "\n",
    "LRP is implemented by first running a forward pass through the model,\n",
    "keeping track of the intermediate activations, followed by a backward pass\n",
    "that computes the relevances.\n",
    "\n",
    "To keep the LRP implementation simple and maintainable,\n",
    "ExplainableAI.jl does not pre-compute \"nested\" activations.\n",
    "Instead, for every internal chain, a new forward pass is run to compute activations.\n",
    "\n",
    "By \"flattening\" a model, this overhead can be avoided.\n",
    "For this purpose, ExplainableAI.jl provides the function `flatten_model`:"
   ],
   "metadata": {}
  },
  {
   "outputs": [
    {
     "output_type": "execute_result",
     "data": {
      "text/plain": "Chain(\n  Conv((3, 3), 3 => 8, relu, pad=1),    \u001b[90m# 224 parameters\u001b[39m\n  Conv((3, 3), 8 => 8, relu, pad=1),    \u001b[90m# 584 parameters\u001b[39m\n  MaxPool((2, 2)),\n  Conv((3, 3), 8 => 16, pad=1),         \u001b[90m# 1_168 parameters\u001b[39m\n  BatchNorm(16, relu),                  \u001b[90m# 32 parameters\u001b[39m\u001b[90m, plus 32\u001b[39m\n  Conv((3, 3), 16 => 8, relu, pad=1),   \u001b[90m# 1_160 parameters\u001b[39m\n  BatchNorm(8, relu),                   \u001b[90m# 16 parameters\u001b[39m\u001b[90m, plus 16\u001b[39m\n  Flux.flatten,\n  Dense(2048 => 512, relu),             \u001b[90m# 1_049_088 parameters\u001b[39m\n  Dropout(0.5),\n  Dense(512 => 100),                    \u001b[90m# 51_300 parameters\u001b[39m\n) \u001b[90m        # Total: 16 trainable arrays, \u001b[39m1_103_572 parameters,\n\u001b[90m          # plus 4 non-trainable, 48 parameters, summarysize \u001b[39m4.212 MiB."
     },
     "metadata": {},
     "execution_count": 4
    }
   ],
   "cell_type": "code",
   "source": [
    "model_flat = flatten_model(model)"
   ],
   "metadata": {},
   "execution_count": 4
  },
  {
   "cell_type": "markdown",
   "source": [
    "This function is called by default when creating an LRP analyzer.\n",
    "Note that we pass the unflattened model to the analyzer, but `analyzer.model` is flattened:"
   ],
   "metadata": {}
  },
  {
   "outputs": [
    {
     "output_type": "execute_result",
     "data": {
      "text/plain": "Chain(\n  Conv((3, 3), 3 => 8, relu, pad=1),    \u001b[90m# 224 parameters\u001b[39m\n  Conv((3, 3), 8 => 8, relu, pad=1),    \u001b[90m# 584 parameters\u001b[39m\n  MaxPool((2, 2)),\n  Conv((3, 3), 8 => 16, pad=1),         \u001b[90m# 1_168 parameters\u001b[39m\n  BatchNorm(16, relu),                  \u001b[90m# 32 parameters\u001b[39m\u001b[90m, plus 32\u001b[39m\n  Conv((3, 3), 16 => 8, relu, pad=1),   \u001b[90m# 1_160 parameters\u001b[39m\n  BatchNorm(8, relu),                   \u001b[90m# 16 parameters\u001b[39m\u001b[90m, plus 16\u001b[39m\n  Flux.flatten,\n  Dense(2048 => 512, relu),             \u001b[90m# 1_049_088 parameters\u001b[39m\n  Dropout(0.5),\n  Dense(512 => 100),                    \u001b[90m# 51_300 parameters\u001b[39m\n) \u001b[90m        # Total: 16 trainable arrays, \u001b[39m1_103_572 parameters,\n\u001b[90m          # plus 4 non-trainable, 48 parameters, summarysize \u001b[39m4.212 MiB."
     },
     "metadata": {},
     "execution_count": 5
    }
   ],
   "cell_type": "code",
   "source": [
    "analyzer = LRP(model)\n",
    "analyzer.model"
   ],
   "metadata": {},
   "execution_count": 5
  },
  {
   "cell_type": "markdown",
   "source": [
    "If this flattening is not desired, it can be disabled\n",
    "by passing the keyword argument `flatten=false` to the `LRP` constructor."
   ],
   "metadata": {}
  },
  {
   "cell_type": "markdown",
   "source": [
    "## LRP rules\n",
    "By default, the `LRP` constructor will assign the `ZeroRule` to all layers."
   ],
   "metadata": {}
  },
  {
   "outputs": [
    {
     "output_type": "execute_result",
     "data": {
      "text/plain": "LRP(\n  Conv((3, 3), 3 => 8, relu, pad=1) \u001b[90m => \u001b[39m\u001b[33mZeroRule()\u001b[39m,\n  Conv((3, 3), 8 => 8, relu, pad=1) \u001b[90m => \u001b[39m\u001b[33mZeroRule()\u001b[39m,\n  MaxPool((2, 2))                   \u001b[90m => \u001b[39m\u001b[33mZeroRule()\u001b[39m,\n  Conv((3, 3), 8 => 16, pad=1)      \u001b[90m => \u001b[39m\u001b[33mZeroRule()\u001b[39m,\n  BatchNorm(16, relu)               \u001b[90m => \u001b[39m\u001b[33mZeroRule()\u001b[39m,\n  Conv((3, 3), 16 => 8, relu, pad=1)\u001b[90m => \u001b[39m\u001b[33mZeroRule()\u001b[39m,\n  BatchNorm(8, relu)                \u001b[90m => \u001b[39m\u001b[33mZeroRule()\u001b[39m,\n  Flux.flatten                      \u001b[90m => \u001b[39m\u001b[33mZeroRule()\u001b[39m,\n  Dense(2048 => 512, relu)          \u001b[90m => \u001b[39m\u001b[33mZeroRule()\u001b[39m,\n  Dropout(0.5)                      \u001b[90m => \u001b[39m\u001b[33mZeroRule()\u001b[39m,\n  Dense(512 => 100)                 \u001b[90m => \u001b[39m\u001b[33mZeroRule()\u001b[39m,\n)"
     },
     "metadata": {},
     "execution_count": 6
    }
   ],
   "cell_type": "code",
   "source": [
    "LRP(model)"
   ],
   "metadata": {},
   "execution_count": 6
  },
  {
   "cell_type": "markdown",
   "source": [
    "This analyzer will return heatmaps that look identical to `InputTimesGradient`."
   ],
   "metadata": {}
  },
  {
   "cell_type": "markdown",
   "source": [
    "LRP's strength lies in assigning different rules to different layers,\n",
    "based on their functionality in the neural network[^1].\n",
    "ExplainableAI.jl implements many LRP rules out of the box,\n",
    "but it is also possible to *implement custom rules*.\n",
    "\n",
    "To assign different rules to different layers,\n",
    "use one of the composites presets,\n",
    "or create your own composite, as described in\n",
    "*Assigning rules to layers*."
   ],
   "metadata": {}
  },
  {
   "outputs": [
    {
     "output_type": "execute_result",
     "data": {
      "text/plain": "Composite(\n  GlobalTypeMap(  \u001b[90m# all layers\u001b[39m\n\u001b[94m    Flux.Conv              \u001b[39m => \u001b[33mZPlusRule()\u001b[39m,\n\u001b[94m    Flux.ConvTranspose     \u001b[39m => \u001b[33mZPlusRule()\u001b[39m,\n\u001b[94m    Flux.CrossCor          \u001b[39m => \u001b[33mZPlusRule()\u001b[39m,\n\u001b[94m    Flux.Dense             \u001b[39m => \u001b[33mEpsilonRule{Float32}(1.0f-6)\u001b[39m,\n\u001b[94m    typeof(NNlib.dropout)  \u001b[39m => \u001b[33mPassRule()\u001b[39m,\n\u001b[94m    Flux.AlphaDropout      \u001b[39m => \u001b[33mPassRule()\u001b[39m,\n\u001b[94m    Flux.Dropout           \u001b[39m => \u001b[33mPassRule()\u001b[39m,\n\u001b[94m    Flux.BatchNorm         \u001b[39m => \u001b[33mPassRule()\u001b[39m,\n\u001b[94m    typeof(Flux.flatten)   \u001b[39m => \u001b[33mPassRule()\u001b[39m,\n\u001b[94m    typeof(MLUtils.flatten)\u001b[39m => \u001b[33mPassRule()\u001b[39m,\n\u001b[94m    typeof(identity)       \u001b[39m => \u001b[33mPassRule()\u001b[39m,\n ),\n  FirstLayerTypeMap(  \u001b[90m# first layer\u001b[39m\n\u001b[94m    Flux.Conv         \u001b[39m => \u001b[33mFlatRule()\u001b[39m,\n\u001b[94m    Flux.ConvTranspose\u001b[39m => \u001b[33mFlatRule()\u001b[39m,\n\u001b[94m    Flux.CrossCor     \u001b[39m => \u001b[33mFlatRule()\u001b[39m,\n ),\n)"
     },
     "metadata": {},
     "execution_count": 7
    }
   ],
   "cell_type": "code",
   "source": [
    "composite = EpsilonPlusFlat() # using composite preset EpsilonPlusFlat"
   ],
   "metadata": {},
   "execution_count": 7
  },
  {
   "outputs": [
    {
     "output_type": "execute_result",
     "data": {
      "text/plain": "LRP(\n  Conv((3, 3), 3 => 8, relu, pad=1) \u001b[90m => \u001b[39m\u001b[33mFlatRule()\u001b[39m,\n  Conv((3, 3), 8 => 8, relu, pad=1) \u001b[90m => \u001b[39m\u001b[33mZPlusRule()\u001b[39m,\n  MaxPool((2, 2))                   \u001b[90m => \u001b[39m\u001b[33mZeroRule()\u001b[39m,\n  Conv((3, 3), 8 => 16, pad=1)      \u001b[90m => \u001b[39m\u001b[33mZPlusRule()\u001b[39m,\n  BatchNorm(16, relu)               \u001b[90m => \u001b[39m\u001b[33mPassRule()\u001b[39m,\n  Conv((3, 3), 16 => 8, relu, pad=1)\u001b[90m => \u001b[39m\u001b[33mZPlusRule()\u001b[39m,\n  BatchNorm(8, relu)                \u001b[90m => \u001b[39m\u001b[33mPassRule()\u001b[39m,\n  Flux.flatten                      \u001b[90m => \u001b[39m\u001b[33mPassRule()\u001b[39m,\n  Dense(2048 => 512, relu)          \u001b[90m => \u001b[39m\u001b[33mEpsilonRule{Float32}(1.0f-6)\u001b[39m,\n  Dropout(0.5)                      \u001b[90m => \u001b[39m\u001b[33mPassRule()\u001b[39m,\n  Dense(512 => 100)                 \u001b[90m => \u001b[39m\u001b[33mEpsilonRule{Float32}(1.0f-6)\u001b[39m,\n)"
     },
     "metadata": {},
     "execution_count": 8
    }
   ],
   "cell_type": "code",
   "source": [
    "LRP(model, composite)"
   ],
   "metadata": {},
   "execution_count": 8
  },
  {
   "cell_type": "markdown",
   "source": [
    "## Computing layerwise relevances\n",
    "If you are interested in computing layerwise relevances,\n",
    "call `analyze` with an LRP analyzer and the keyword argument\n",
    "`layerwise_relevances=true`.\n",
    "\n",
    "The layerwise relevances can be accessed in the `extras` field\n",
    "of the returned `Explanation`:"
   ],
   "metadata": {}
  },
  {
   "outputs": [
    {
     "output_type": "execute_result",
     "data": {
      "text/plain": "([-6.186866 0.13927089 … 0.21902385 -4.1919928; 0.2089352 -3.6822412 … 21.524458 0.112474434; … ; -1.6981951 -0.32313746 … 7.23922 -2.4018502; -4.5555673 4.3152866 … 2.1715188 -0.95319235;;; 1.8259412 1.6724958 … -1.6384733 -2.8491237; 13.3870325 -2.0595298 … -0.06534412 -5.5749254; … ; -0.20498644 5.8345547 … 2.880249 -3.8290823; 1.260904 -2.459041 … 1.3053964 -1.150144;;; -2.3548925 2.039045 … -2.0076041 -5.8080525; 6.9608846 9.952976 … 14.896405 -3.1767855; … ; 0.19238053 9.278216 … 0.30768996 -0.4516734; -1.0047902 2.606806 … 5.439492 0.30238798;;;;], [-1.421106 10.7880125 … -0.0 -0.0; 1.1387973 -0.0 … -0.055267774 -0.0; … ; -0.5559021 -0.18083037 … -0.5264222 0.0; -0.0 0.0 … 0.0 0.0;;; 0.0 0.010384667 … 6.0941358 0.9529239; -0.0 9.544379 … 4.2414603 22.538452; … ; 0.0 -2.248032 … -1.1327746 11.947457; -0.0 -0.22577693 … -0.46530056 1.8915199;;; 0.8260882 5.6645093 … -0.21035577 0.00073682686; -1.673259 7.27547 … -3.3803518 -1.1566795; … ; 1.2372242 9.231191 … -5.499959 2.4014592; 0.42592606 0.19172075 … -1.4361374 1.0730563;;; 1.9239129 -0.0 … 0.0 0.0; -3.3229928 -0.0 … 0.0 -0.0; … ; -1.3245862 0.0 … 0.0 -0.0; 0.28946808 0.0 … 0.0 -0.0;;; 0.7876114 0.6881122 … -1.5006845 -0.0; 1.651384 -0.0 … -0.26359004 -0.0; … ; -0.29209 -0.44728917 … 0.0 -0.0; -0.16323039 -0.0 … 0.0 -0.0;;; 0.0 -0.0 … 0.0 -0.0; -0.0 0.0 … 0.0 0.0; … ; 0.0 0.0 … 0.0 0.0; 0.0 0.0 … 0.0 -0.0;;; 0.0 -0.0 … 0.0 -0.0; -0.7260956 0.0 … 0.0 0.0; … ; 0.0 -0.0 … -0.0 0.0; -0.0 -0.0 … -0.18688439 -0.0;;; -0.0 -0.0 … -0.0 0.0; -3.8661835 0.051504396 … -2.7927926 -0.0; … ; 4.0695047 -0.0 … -0.0 -0.0; 0.41662192 -2.281455 … -1.9258862 -0.0;;;;], [0.004567074 0.0 … 0.0 0.0; 0.0 0.0 … 0.0 -1.9125035; … ; 0.0 0.0 … 0.0 0.0; 0.0 0.0 … 0.5153293 0.0;;; 0.0 0.0 … 2.313824 0.0; 2.1763783 0.0 … 0.0 0.0; … ; 0.72282517 0.0 … 0.009053863 0.0; 0.0 0.0 … 0.0 0.0;;; 0.0 0.0 … 0.0 0.0; 0.0 0.0 … 0.0 0.0; … ; 0.0 0.0 … 0.0 0.0; -0.20843449 0.0 … 0.0 0.0;;; 0.0 -0.0069410135 … 2.0001662 0.0; 0.0 0.0 … 0.0 0.0; … ; 0.0 0.0 … 0.0 0.0; 0.0 0.0 … 0.0 1.0061085;;; 6.9598246 0.0 … 0.0 0.0; 0.0 0.0 … 23.69485 0.0; … ; 0.0 10.94518 … 14.912539 0.0; 0.0 0.0 … 0.0 0.0;;; 0.0 -0.94396216 … -1.0283107 0.0; 0.0 0.0 … 0.0 0.0; … ; 0.0 0.27845708 … -0.019248169 0.0; 0.0 0.0 … 0.0 0.0;;; 0.0 0.0 … 0.0 1.7730858; 0.0 0.0 … 0.0 0.0; … ; 0.0 0.0 … 0.0 0.0; 0.03697927 0.0 … 0.0 0.0;;; 0.0 0.0 … 1.6546854 0.0; 0.0 2.4718204 … 0.0 0.0; … ; 5.413066 0.0 … 0.0 0.0; 0.0 0.0 … -0.072779275 0.0;;;;], [0.004567079 -4.9256144 … -3.3476248 -1.9125035; 0.0 0.82857704 … -0.007079738 -0.0; … ; 1.0166556 -0.0 … -0.14347163 -0.17164779; 0.0 0.0 … 0.12075772 0.5153293;;; 2.1763783 2.5558653 … 3.4952652 2.313824; 4.17307 -2.017739 … -0.7275988 0.0; … ; 4.768605 -3.1474807 … 2.1707044 0.12926948; 0.72282517 0.0 … -0.02373577 0.009053864;;; -0.0 -0.0 … 0.0 0.0; -0.0 -0.0 … 0.0 0.0; … ; -0.0666052 0.0 … 0.0 0.0; -0.20843449 -0.0 … -0.0 0.0;;; -0.0069410135 0.0 … 7.6221933 2.0001662; 0.0 0.0 … 0.0 0.0; … ; 0.0 0.0 … 0.0 0.0; 0.0 0.0 … 0.0 1.0061086;;; 6.9598246 47.618935 … 35.39181 23.69485; 14.269066 4.356502 … 55.808914 25.07159; … ; 14.3559675 53.9484 … 29.146414 25.571394; 10.94518 20.854769 … 14.607359 14.912539;;; -0.94396216 4.1695433 … -9.659097 -1.0283107; 0.8510411 -0.019476753 … -6.884455 0.011871757; … ; 1.6391445 -8.376841 … -4.5755606 -1.7946985; 0.27845708 2.411661 … -0.0 -0.019248169;;; -0.0 0.0 … 0.0 1.7730858; -0.0 -0.0 … -0.0 -0.0; … ; -0.0 0.0 … -0.0 0.0; 0.03697927 0.0 … -0.0 0.0;;; 2.4718204 7.034602 … 10.32431 1.6546854; 8.127541 5.059561 … 2.0236044 0.46125957; … ; 11.247784 8.232218 … 7.233934 2.2624388; 5.413066 11.793646 … 1.0108132 -0.072779275;;;;], [0.00049512816 0.0017711095 … 0.0005175621 0.008449338; -0.003244885 0.0007452704 … 0.0014509433 0.0004773433; … ; -0.011417291 -0.005284008 … 0.0002298454 0.0013078195; -0.0074643497 -0.00800715 … 0.002065939 0.0015506748;;; -0.07700901 -0.15623228 … 0.004619979 -0.76698726; -0.10753325 -0.018786697 … -0.9824154 1.4730048; … ; -0.1430875 0.037606176 … 0.49412587 -0.28238598; 0.013860816 0.20605896 … 0.13316163 -0.018397793;;; -0.010350464 0.0037376508 … 0.032339294 0.022775829; -0.08018145 -0.045667436 … 1.1297706 0.9644746; … ; -0.15099312 -0.016290829 … -0.20026687 -0.08115465; 0.012425769 0.075287 … -0.0019772716 0.046782862;;; … ;;; 19.763449 20.862673 … 39.311275 23.54212; 22.161163 39.008377 … 34.269173 24.970617; … ; 26.289036 41.452248 … 26.138517 21.007788; 24.109186 26.02051 … 22.821201 14.016865;;; 0.20705502 0.44853324 … 0.16960151 0.004376742; 0.059347976 0.07216082 … -0.096141435 -0.13005422; … ; 0.39028266 -0.011224492 … 0.40210053 -0.20022753; -0.05817228 -0.053622723 … -0.055098966 -0.15415686;;; 3.6465946f-5 0.00020382536 … 0.00018539936 -0.00028826357; 0.00023754791 -7.306612f-5 … -0.0003183611 0.00013212426; … ; 0.00022976102 -0.00049546786 … 6.109133f-5 0.00020594224; 0.00024242446 0.0002441846 … 0.0002400371 0.00011534036;;;;], [-0.0 -0.0 … 0.0 0.028778994; -0.0 -0.0 … -0.0 -0.0; … ; -0.0 0.0 … 0.0 -0.0; -0.0 -0.0 … 0.0 0.0;;; -0.0 -0.0 … 0.0019104149 -0.48689434; -0.0 -0.0 … -0.6320672 0.9990158; … ; -0.0 -0.022154804 … 0.19733967 -0.25499624; -0.0027822591 0.047733825 … 0.0121068265 -0.07790974;;; 0.0 -0.00032781708 … -0.0070309653 -0.06438154; -0.0 0.0 … 0.6523592 0.5633472; … ; 0.0 -0.007954469 … 0.0 -0.13538608; -0.002333831 -0.011467124 … -0.0 -0.024537124;;; … ;;; -0.0226229 0.040317234 … 0.14054483 -0.58936906; 0.026992718 -0.019759547 … 0.1775257 0.3334357; … ; 0.059093557 0.18668517 … -0.46884194 -0.1628072; 0.021739349 0.05482534 … -0.090210125 0.022852637;;; -0.004730495 0.017946841 … 0.004111535 -0.00020445029; -0.0035540264 -0.019440673 … 0.0 0.0; … ; 0.012880659 -0.0 … 0.10050101 0.0; -0.0 -0.0 … -0.0 -0.0;;; 0.0 0.0 … 0.0 0.0; 0.0 0.0 … -0.0 0.0; … ; 0.0 -0.0 … -0.0 -0.0; 0.0 -0.0 … -0.0 -0.0;;;;], [0.0077571957 0.061853267 … 0.062674455 0.0067360825; 0.0 0.012499596 … 0.0 0.02643266; … ; 0.0 0.00825803 … 0.0 0.01463206; 0.0 0.00072608324 … 0.0 0.0;;; -0.0 -0.0011406344 … -0.00011181204 -0.015551932; -0.0 -0.007438221 … -0.016784092 -0.014829848; … ; -0.0007801087 -0.0013545741 … -0.021870099 0.010390775; -0.00022656117 -0.0009805275 … -0.017872134 -0.00056872633;;; -0.0 -0.0 … -0.008926461 -0.021813665; -0.0023337821 0.018218031 … 1.9233894 0.03836037; … ; -0.0022759368 0.21364044 … 0.4052606 -0.05842763; -0.020849725 -0.054921836 … -0.23850232 -0.042159136;;; -0.0 -0.00019691672 … -0.012885459 0.01766051; -0.0 0.0025286037 … -0.00043041815 -0.0067780535; … ; -0.0 -0.00025875025 … 0.0012651737 0.03193436; -0.00014412767 -0.00018135064 … -0.00019311531 -0.0001379751;;; 0.00076876674 -0.003106628 … -0.14917098 0.0013331596; 0.002338212 -0.004791606 … 4.201195 -0.004964248; … ; 0.0011564107 0.00015581837 … 0.0018472609 -0.0019343401; 0.001035778 0.0019148608 … 0.0009039288 0.0022878214;;; 0.00036241565 -0.0020492524 … -0.0 -0.0; -0.0 -0.0 … -0.0 -0.0; … ; -0.0 -0.0 … -0.0 -0.0; -0.0 -0.0 … -0.0 -0.0;;; 0.0 0.0 … 0.0 0.0; 0.00034593596 -0.049977433 … 0.05716332 0.0; … ; -0.023250625 0.017605456 … 0.021281382 0.0; 0.00022370766 -0.00025345111 … -0.012996804 0.0;;; -0.00031681682 -0.0058695893 … -0.012065064 0.0012939306; -0.0 -0.0 … -0.0 -0.0057603815; … ; -0.0 -0.0 … -0.0 -0.0053645414; -0.0 -0.0 … -0.0 0.0021429474;;;;], [-0.00052977976 0.005359442 … 0.009195871 -0.015935093; -0.0 -0.00048002752 … 0.0 -0.010923293; … ; 0.0 -0.0021671448 … 0.0 -0.0036361872; -0.0 1.2480723f-5 … 0.0 0.0;;; 0.0 0.0035308574 … -9.70424f-5 -0.0041581877; -0.0 -0.0014969923 … -0.008362978 -0.0034734304; … ; 0.0019763813 -0.0018404552 … -0.012608365 0.0063201; -4.8377384f-5 0.0016536294 … -0.004580379 0.00076987344;;; 0.0 0.0 … -0.0009673801 -0.00081694644; -0.0003692193 0.014672848 … 0.022880293 0.0077831484; … ; -0.0005646277 0.027076142 … 0.027642883 0.018731166; 0.0016948496 0.012960668 … -0.022372123 -0.01628;;; 0.0 -0.0016342821 … -0.006779462 0.012407541; 0.0 0.0016383334 … -5.180216f-6 -0.0034179161; … ; -0.0 -3.478129f-5 … 0.00015566895 0.010631591; -0.0015481361 0.0022715097 … 0.0005170119 -0.0010540476;;; -0.009584494 -0.01835056 … -0.009845779 0.019240573; -0.0022284992 0.013083238 … 0.017621225 -0.026300324; … ; -0.0019178117 -0.009344998 … 0.0026958012 0.013811143; 3.3520668f-5 -0.003927727 … 0.0008898943 0.000400412;;; 0.0001778104 -0.0021219084 … 0.0 0.0; 0.0 -0.0 … -0.0 -0.0; … ; 0.0 -0.0 … 0.0 -0.0; -0.0 0.0 … 0.0 0.0;;; -0.0 -0.0 … 0.0 -0.0; 0.0026403365 -0.018280271 … 0.0075397803 0.0; … ; -0.0054807886 0.004880069 … 0.009709949 -0.0; -0.003656749 0.0058502355 … -0.003998512 0.0;;; -0.0008437605 -0.002339617 … -0.004966476 0.002698477; 0.0 0.0 … 0.0 -0.0026120134; … ; 0.0 0.0 … -0.0 -0.00016901988; -0.0 -0.0 … -0.0 0.0035209726;;;;], Float32[-0.00052977976; -0.0; … ; -0.00016901988; 0.0035209726;;], Float32[0.00068379455; 0.0013879674; … ; -0.0; -0.0;;], Float32[0.00068379455; 0.0013879674; … ; -0.0; -0.0;;], Float32[0.0; 0.0; … ; 0.0; 0.0;;])"
     },
     "metadata": {},
     "execution_count": 9
    }
   ],
   "cell_type": "code",
   "source": [
    "input = rand(Float32, 32, 32, 3, 1) # dummy input for our convolutional neural network\n",
    "\n",
    "expl = analyze(input, analyzer; layerwise_relevances=true)\n",
    "expl.extras.layerwise_relevances"
   ],
   "metadata": {},
   "execution_count": 9
  },
  {
   "cell_type": "markdown",
   "source": [
    "Note that the layerwise relevances are only kept for layers in the outermost `Chain` of the model.\n",
    "When using our unflattened model, we only obtain three layerwise relevances,\n",
    "one for each chain in the model and the output relevance:"
   ],
   "metadata": {}
  },
  {
   "outputs": [
    {
     "output_type": "execute_result",
     "data": {
      "text/plain": "([1.5360225 -0.025504244 … -0.5069549 0.16323948; -1.3499297 7.236005 … -1.5457203 0.019549172; … ; -0.3658877 -0.08696673 … -3.8091505 -1.933056; -3.4234688 -1.2877731 … 0.61220294 0.30626568;;; -0.76808196 -1.3589213 … -0.41921565 0.30308163; -0.089706995 7.535221 … -1.5038174 0.28261274; … ; 0.39390564 -0.2622564 … 0.7568223 0.12954268; 1.1842526 1.099022 … 0.49424562 0.1126754;;; 1.275417 -0.023266578 … 0.40052876 0.35591733; -2.6093628 -0.8565462 … -0.7922556 -0.1814182; … ; -0.09016295 -3.1540296 … 2.9415653 -0.4358403; -0.30861974 -0.4893354 … 0.8077132 -0.5154748;;;;], [-0.00013999273 0.005355182 … 0.0070931963 -0.012414855; -0.0 -0.0003230527 … 0.0 -0.014425206; … ; 0.0 -0.0005850915 … 0.0 -0.0031752286; -0.0 0.0 … 0.0 0.0;;; 0.0 0.003122403 … -0.0 -0.004870654; -0.0 -0.0019768453 … -0.009498707 -0.002831374; … ; 0.0016649951 -0.001604005 … -0.012924797 0.0059397025; -4.265772f-5 0.0016018397 … -0.006185884 0.0008805082;;; 0.0 0.0 … -0.0 -0.0020848087; -0.0 0.020724382 … 0.019221362 0.005510342; … ; -0.0 0.026631128 … 0.023332203 0.017045883; 0.0004696418 0.012422951 … -0.017895874 -0.013373882;;; 0.0 -0.0005525726 … -0.004038905 0.010633498; -0.0 0.0024955743 … -0.0014122622 -0.0021945157; … ; -0.0 -8.0842074f-5 … 0.00045257836 0.010155999; -0.0012491884 0.0012665215 … 0.00010660677 -0.000615107;;; -0.009234235 -0.014423826 … -0.0074643744 0.018417617; -0.00063344644 0.008192978 … 0.011293309 -0.023792576; … ; -0.0 -0.007470272 … 0.0011154677 0.015147212; 0.0 -0.0007555163 … 0.0 -9.382785f-5;;; 3.89324f-5 -0.0015365168 … 0.0 -0.0; 0.0 -0.0 … -0.0 -0.0; … ; 0.0 -0.0 … 0.0 -0.0; -0.0 0.0 … 0.0 0.0;;; -0.0 -0.0 … 0.0 -0.0; 0.0039693587 -0.019476103 … 0.011371773 0.0; … ; -0.003720337 0.0068469765 … 0.011485131 -0.0; -0.0032622619 0.006472503 … -0.0061968616 0.0;;; -0.00062397245 -0.0029485272 … -0.0063949777 0.0031102833; 0.0 0.0 … 0.0 -0.0018767022; … ; 0.0 0.0 … -0.0 0.0027821804; -0.0 -0.0 … -0.0 0.0033989686;;;;], Float32[0.0; 0.0; … ; 0.0; 0.0;;])"
     },
     "metadata": {},
     "execution_count": 10
    }
   ],
   "cell_type": "code",
   "source": [
    "analyzer = LRP(model; flatten=false) # use unflattened model\n",
    "\n",
    "expl = analyze(input, analyzer; layerwise_relevances=true)\n",
    "expl.extras.layerwise_relevances"
   ],
   "metadata": {},
   "execution_count": 10
  },
  {
   "cell_type": "markdown",
   "source": [
    "## Performance tips\n",
    "### Using LRP with a GPU\n",
    "Like all other analyzers, LRP can be used on GPUs.\n",
    "Follow the instructions on *GPU support*.\n",
    "\n",
    "### Using LRP without a GPU\n",
    "Using Julia's package extension mechanism,\n",
    "ExplainableAI.jl's LRP implementation can optionally make use of\n",
    "[Tullio.jl](https://github.com/mcabbott/Tullio.jl) and\n",
    "[LoopVectorization.jl](https://github.com/JuliaSIMD/LoopVectorization.jl)\n",
    "for faster LRP rules on dense layers.\n",
    "\n",
    "This only requires loading the packages before loading ExplainableAI.jl:\n",
    "```julia\n",
    "using LoopVectorization, Tullio\n",
    "using ExplainableAI\n",
    "```\n",
    "\n",
    "[^1]: G. Montavon et al., [Layer-Wise Relevance Propagation: An Overview](https://link.springer.com/chapter/10.1007/978-3-030-28954-6_10)"
   ],
   "metadata": {}
  },
  {
   "cell_type": "markdown",
   "source": [
    "---\n",
    "\n",
    "*This notebook was generated using [Literate.jl](https://github.com/fredrikekre/Literate.jl).*"
   ],
   "metadata": {}
  }
 ],
 "nbformat_minor": 3,
 "metadata": {
  "language_info": {
   "file_extension": ".jl",
   "mimetype": "application/julia",
   "name": "julia",
   "version": "1.9.3"
  },
  "kernelspec": {
   "name": "julia-1.9",
   "display_name": "Julia 1.9.3",
   "language": "julia"
  }
 },
 "nbformat": 4
}
