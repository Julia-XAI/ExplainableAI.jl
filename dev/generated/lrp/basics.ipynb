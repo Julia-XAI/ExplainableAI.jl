{
 "cells": [
  {
   "cell_type": "markdown",
   "source": [
    "# Basic usage of LRP\n",
    "This example will show you best practices for using LRP,\n",
    "building on the basics shown in the *Getting started* section."
   ],
   "metadata": {}
  },
  {
   "cell_type": "markdown",
   "source": [
    "We start out by loading a small convolutional neural network:"
   ],
   "metadata": {}
  },
  {
   "outputs": [],
   "cell_type": "code",
   "source": [
    "using ExplainableAI\n",
    "using Flux\n",
    "\n",
    "model = Chain(\n",
    "    Chain(\n",
    "        Conv((3, 3), 3 => 8, relu; pad=1),\n",
    "        Conv((3, 3), 8 => 8, relu; pad=1),\n",
    "        MaxPool((2, 2)),\n",
    "        Conv((3, 3), 8 => 16; pad=1),\n",
    "        BatchNorm(16, relu),\n",
    "        Conv((3, 3), 16 => 8, relu; pad=1),\n",
    "        BatchNorm(8, relu),\n",
    "    ),\n",
    "    Chain(\n",
    "        Flux.flatten,\n",
    "        Dense(2048 => 512, relu),\n",
    "        Dropout(0.5),\n",
    "        Dense(512 => 100, softmax)\n",
    "    ),\n",
    ");"
   ],
   "metadata": {},
   "execution_count": 1
  },
  {
   "cell_type": "markdown",
   "source": [
    "This model contains two chains: the convolutional layers and the fully connected layers."
   ],
   "metadata": {}
  },
  {
   "cell_type": "markdown",
   "source": [
    "## Model preparation\n",
    "### Stripping the output softmax\n",
    "When using LRP, it is recommended to explain output logits instead of probabilities.\n",
    "This can be done by stripping the output softmax activation from the model\n",
    "using the `strip_softmax` function:"
   ],
   "metadata": {}
  },
  {
   "outputs": [
    {
     "output_type": "execute_result",
     "data": {
      "text/plain": "Chain(\n  Chain(\n    Conv((3, 3), 3 => 8, relu, pad=1),  \u001b[90m# 224 parameters\u001b[39m\n    Conv((3, 3), 8 => 8, relu, pad=1),  \u001b[90m# 584 parameters\u001b[39m\n    MaxPool((2, 2)),\n    Conv((3, 3), 8 => 16, pad=1),       \u001b[90m# 1_168 parameters\u001b[39m\n    BatchNorm(16, relu),                \u001b[90m# 32 parameters\u001b[39m\u001b[90m, plus 32\u001b[39m\n    Conv((3, 3), 16 => 8, relu, pad=1),  \u001b[90m# 1_160 parameters\u001b[39m\n    BatchNorm(8, relu),                 \u001b[90m# 16 parameters\u001b[39m\u001b[90m, plus 16\u001b[39m\n  ),\n  Chain(\n    Flux.flatten,\n    Dense(2048 => 512, relu),           \u001b[90m# 1_049_088 parameters\u001b[39m\n    Dropout(0.5),\n    Dense(512 => 100),                  \u001b[90m# 51_300 parameters\u001b[39m\n  ),\n) \u001b[90m        # Total: 16 trainable arrays, \u001b[39m1_103_572 parameters,\n\u001b[90m          # plus 4 non-trainable, 48 parameters, summarysize \u001b[39m4.213 MiB."
     },
     "metadata": {},
     "execution_count": 2
    }
   ],
   "cell_type": "code",
   "source": [
    "model = strip_softmax(model)"
   ],
   "metadata": {},
   "execution_count": 2
  },
  {
   "cell_type": "markdown",
   "source": [
    "If you don't remove the output softmax,\n",
    "model checks will fail."
   ],
   "metadata": {}
  },
  {
   "cell_type": "markdown",
   "source": [
    "### Canonizing the model\n",
    "LRP is not invariant to a model's implementation.\n",
    "Applying the `GammaRule` to two linear layers in a row will yield different results\n",
    "than first fusing the two layers into one linear layer and then applying the rule.\n",
    "This fusing is called \"canonization\" and can be done using the `canonize` function:"
   ],
   "metadata": {}
  },
  {
   "outputs": [
    {
     "output_type": "execute_result",
     "data": {
      "text/plain": "Chain(\n  Conv((3, 3), 3 => 8, relu, pad=1),    \u001b[90m# 224 parameters\u001b[39m\n  Conv((3, 3), 8 => 8, relu, pad=1),    \u001b[90m# 584 parameters\u001b[39m\n  MaxPool((2, 2)),\n  Conv((3, 3), 8 => 16, relu, pad=1),   \u001b[90m# 1_168 parameters\u001b[39m\n  Conv((3, 3), 16 => 8, relu, pad=1),   \u001b[90m# 1_160 parameters\u001b[39m\n  BatchNorm(8, relu),                   \u001b[90m# 16 parameters\u001b[39m\u001b[90m, plus 16\u001b[39m\n  Flux.flatten,\n  Dense(2048 => 512, relu),             \u001b[90m# 1_049_088 parameters\u001b[39m\n  Dropout(0.5),\n  Dense(512 => 100),                    \u001b[90m# 51_300 parameters\u001b[39m\n) \u001b[90m        # Total: 14 trainable arrays, \u001b[39m1_103_540 parameters,\n\u001b[90m          # plus 2 non-trainable, 16 parameters, summarysize \u001b[39m4.212 MiB."
     },
     "metadata": {},
     "execution_count": 3
    }
   ],
   "cell_type": "code",
   "source": [
    "model_canonized = canonize(model)"
   ],
   "metadata": {},
   "execution_count": 3
  },
  {
   "cell_type": "markdown",
   "source": [
    "After canonization, the first `BatchNorm` layer has been fused into the preceding `Conv` layer.\n",
    "The second `BatchNorm` layer wasn't fused\n",
    "since its preceding `Conv` layer has a ReLU activation function."
   ],
   "metadata": {}
  },
  {
   "cell_type": "markdown",
   "source": [
    "### Flattening the model\n",
    "ExplainableAI.jl's LRP implementation supports nested Flux Chains and Parallel layers.\n",
    "However, it is recommended to flatten the model before analyzing it.\n",
    "\n",
    "LRP is implemented by first running a forward pass through the model,\n",
    "keeping track of the intermediate activations, followed by a backward pass\n",
    "that computes the relevances.\n",
    "\n",
    "To keep the LRP implementation simple and maintainable,\n",
    "ExplainableAI.jl does not pre-compute \"nested\" activations.\n",
    "Instead, for every internal chain, a new forward pass is run to compute activations.\n",
    "\n",
    "By \"flattening\" a model, this overhead can be avoided.\n",
    "For this purpose, ExplainableAI.jl provides the function `flatten_model`:"
   ],
   "metadata": {}
  },
  {
   "outputs": [
    {
     "output_type": "execute_result",
     "data": {
      "text/plain": "Chain(\n  Conv((3, 3), 3 => 8, relu, pad=1),    \u001b[90m# 224 parameters\u001b[39m\n  Conv((3, 3), 8 => 8, relu, pad=1),    \u001b[90m# 584 parameters\u001b[39m\n  MaxPool((2, 2)),\n  Conv((3, 3), 8 => 16, pad=1),         \u001b[90m# 1_168 parameters\u001b[39m\n  BatchNorm(16, relu),                  \u001b[90m# 32 parameters\u001b[39m\u001b[90m, plus 32\u001b[39m\n  Conv((3, 3), 16 => 8, relu, pad=1),   \u001b[90m# 1_160 parameters\u001b[39m\n  BatchNorm(8, relu),                   \u001b[90m# 16 parameters\u001b[39m\u001b[90m, plus 16\u001b[39m\n  Flux.flatten,\n  Dense(2048 => 512, relu),             \u001b[90m# 1_049_088 parameters\u001b[39m\n  Dropout(0.5),\n  Dense(512 => 100),                    \u001b[90m# 51_300 parameters\u001b[39m\n) \u001b[90m        # Total: 16 trainable arrays, \u001b[39m1_103_572 parameters,\n\u001b[90m          # plus 4 non-trainable, 48 parameters, summarysize \u001b[39m4.212 MiB."
     },
     "metadata": {},
     "execution_count": 4
    }
   ],
   "cell_type": "code",
   "source": [
    "model_flat = flatten_model(model)"
   ],
   "metadata": {},
   "execution_count": 4
  },
  {
   "cell_type": "markdown",
   "source": [
    "This function is called by default when creating an LRP analyzer.\n",
    "Note that we pass the unflattened model to the analyzer, but `analyzer.model` is flattened:"
   ],
   "metadata": {}
  },
  {
   "outputs": [
    {
     "output_type": "execute_result",
     "data": {
      "text/plain": "Chain(\n  Conv((3, 3), 3 => 8, relu, pad=1),    \u001b[90m# 224 parameters\u001b[39m\n  Conv((3, 3), 8 => 8, relu, pad=1),    \u001b[90m# 584 parameters\u001b[39m\n  MaxPool((2, 2)),\n  Conv((3, 3), 8 => 16, pad=1),         \u001b[90m# 1_168 parameters\u001b[39m\n  BatchNorm(16, relu),                  \u001b[90m# 32 parameters\u001b[39m\u001b[90m, plus 32\u001b[39m\n  Conv((3, 3), 16 => 8, relu, pad=1),   \u001b[90m# 1_160 parameters\u001b[39m\n  BatchNorm(8, relu),                   \u001b[90m# 16 parameters\u001b[39m\u001b[90m, plus 16\u001b[39m\n  Flux.flatten,\n  Dense(2048 => 512, relu),             \u001b[90m# 1_049_088 parameters\u001b[39m\n  Dropout(0.5),\n  Dense(512 => 100),                    \u001b[90m# 51_300 parameters\u001b[39m\n) \u001b[90m        # Total: 16 trainable arrays, \u001b[39m1_103_572 parameters,\n\u001b[90m          # plus 4 non-trainable, 48 parameters, summarysize \u001b[39m4.212 MiB."
     },
     "metadata": {},
     "execution_count": 5
    }
   ],
   "cell_type": "code",
   "source": [
    "analyzer = LRP(model)\n",
    "analyzer.model"
   ],
   "metadata": {},
   "execution_count": 5
  },
  {
   "cell_type": "markdown",
   "source": [
    "If this flattening is not desired, it can be disabled\n",
    "by passing the keyword argument `flatten=false` to the `LRP` constructor."
   ],
   "metadata": {}
  },
  {
   "cell_type": "markdown",
   "source": [
    "## LRP rules\n",
    "By default, the `LRP` constructor will assign the `ZeroRule` to all layers."
   ],
   "metadata": {}
  },
  {
   "outputs": [
    {
     "output_type": "execute_result",
     "data": {
      "text/plain": "LRP(\n  Conv((3, 3), 3 => 8, relu, pad=1) \u001b[90m => \u001b[39m\u001b[33mZeroRule()\u001b[39m,\n  Conv((3, 3), 8 => 8, relu, pad=1) \u001b[90m => \u001b[39m\u001b[33mZeroRule()\u001b[39m,\n  MaxPool((2, 2))                   \u001b[90m => \u001b[39m\u001b[33mZeroRule()\u001b[39m,\n  Conv((3, 3), 8 => 16, pad=1)      \u001b[90m => \u001b[39m\u001b[33mZeroRule()\u001b[39m,\n  BatchNorm(16, relu)               \u001b[90m => \u001b[39m\u001b[33mZeroRule()\u001b[39m,\n  Conv((3, 3), 16 => 8, relu, pad=1)\u001b[90m => \u001b[39m\u001b[33mZeroRule()\u001b[39m,\n  BatchNorm(8, relu)                \u001b[90m => \u001b[39m\u001b[33mZeroRule()\u001b[39m,\n  Flux.flatten                      \u001b[90m => \u001b[39m\u001b[33mZeroRule()\u001b[39m,\n  Dense(2048 => 512, relu)          \u001b[90m => \u001b[39m\u001b[33mZeroRule()\u001b[39m,\n  Dropout(0.5)                      \u001b[90m => \u001b[39m\u001b[33mZeroRule()\u001b[39m,\n  Dense(512 => 100)                 \u001b[90m => \u001b[39m\u001b[33mZeroRule()\u001b[39m,\n)"
     },
     "metadata": {},
     "execution_count": 6
    }
   ],
   "cell_type": "code",
   "source": [
    "LRP(model)"
   ],
   "metadata": {},
   "execution_count": 6
  },
  {
   "cell_type": "markdown",
   "source": [
    "This analyzer will return heatmaps that look identical to `InputTimesGradient`."
   ],
   "metadata": {}
  },
  {
   "cell_type": "markdown",
   "source": [
    "LRP's strength lies in assigning different rules to different layers,\n",
    "based on their functionality in the neural network[^1].\n",
    "ExplainableAI.jl implements many LRP rules out of the box,\n",
    "but it is also possible to *implement custom rules*.\n",
    "\n",
    "To assign different rules to different layers,\n",
    "use one of the composites presets,\n",
    "or create your own composite, as described in\n",
    "*Assigning rules to layers*."
   ],
   "metadata": {}
  },
  {
   "outputs": [
    {
     "output_type": "execute_result",
     "data": {
      "text/plain": "Composite(\n  GlobalTypeMap(  \u001b[90m# all layers\u001b[39m\n\u001b[94m    Flux.Conv              \u001b[39m => \u001b[33mZPlusRule()\u001b[39m,\n\u001b[94m    Flux.ConvTranspose     \u001b[39m => \u001b[33mZPlusRule()\u001b[39m,\n\u001b[94m    Flux.CrossCor          \u001b[39m => \u001b[33mZPlusRule()\u001b[39m,\n\u001b[94m    Flux.Dense             \u001b[39m => \u001b[33mEpsilonRule{Float32}(1.0f-6)\u001b[39m,\n\u001b[94m    typeof(NNlib.dropout)  \u001b[39m => \u001b[33mPassRule()\u001b[39m,\n\u001b[94m    Flux.AlphaDropout      \u001b[39m => \u001b[33mPassRule()\u001b[39m,\n\u001b[94m    Flux.Dropout           \u001b[39m => \u001b[33mPassRule()\u001b[39m,\n\u001b[94m    Flux.BatchNorm         \u001b[39m => \u001b[33mPassRule()\u001b[39m,\n\u001b[94m    typeof(Flux.flatten)   \u001b[39m => \u001b[33mPassRule()\u001b[39m,\n\u001b[94m    typeof(MLUtils.flatten)\u001b[39m => \u001b[33mPassRule()\u001b[39m,\n\u001b[94m    typeof(identity)       \u001b[39m => \u001b[33mPassRule()\u001b[39m,\n ),\n  FirstLayerTypeMap(  \u001b[90m# first layer\u001b[39m\n\u001b[94m    Flux.Conv         \u001b[39m => \u001b[33mFlatRule()\u001b[39m,\n\u001b[94m    Flux.ConvTranspose\u001b[39m => \u001b[33mFlatRule()\u001b[39m,\n\u001b[94m    Flux.CrossCor     \u001b[39m => \u001b[33mFlatRule()\u001b[39m,\n ),\n)"
     },
     "metadata": {},
     "execution_count": 7
    }
   ],
   "cell_type": "code",
   "source": [
    "composite = EpsilonPlusFlat() # using composite preset EpsilonPlusFlat"
   ],
   "metadata": {},
   "execution_count": 7
  },
  {
   "outputs": [
    {
     "output_type": "execute_result",
     "data": {
      "text/plain": "LRP(\n  Conv((3, 3), 3 => 8, relu, pad=1) \u001b[90m => \u001b[39m\u001b[33mFlatRule()\u001b[39m,\n  Conv((3, 3), 8 => 8, relu, pad=1) \u001b[90m => \u001b[39m\u001b[33mZPlusRule()\u001b[39m,\n  MaxPool((2, 2))                   \u001b[90m => \u001b[39m\u001b[33mZeroRule()\u001b[39m,\n  Conv((3, 3), 8 => 16, pad=1)      \u001b[90m => \u001b[39m\u001b[33mZPlusRule()\u001b[39m,\n  BatchNorm(16, relu)               \u001b[90m => \u001b[39m\u001b[33mPassRule()\u001b[39m,\n  Conv((3, 3), 16 => 8, relu, pad=1)\u001b[90m => \u001b[39m\u001b[33mZPlusRule()\u001b[39m,\n  BatchNorm(8, relu)                \u001b[90m => \u001b[39m\u001b[33mPassRule()\u001b[39m,\n  Flux.flatten                      \u001b[90m => \u001b[39m\u001b[33mPassRule()\u001b[39m,\n  Dense(2048 => 512, relu)          \u001b[90m => \u001b[39m\u001b[33mEpsilonRule{Float32}(1.0f-6)\u001b[39m,\n  Dropout(0.5)                      \u001b[90m => \u001b[39m\u001b[33mPassRule()\u001b[39m,\n  Dense(512 => 100)                 \u001b[90m => \u001b[39m\u001b[33mEpsilonRule{Float32}(1.0f-6)\u001b[39m,\n)"
     },
     "metadata": {},
     "execution_count": 8
    }
   ],
   "cell_type": "code",
   "source": [
    "LRP(model, composite)"
   ],
   "metadata": {},
   "execution_count": 8
  },
  {
   "cell_type": "markdown",
   "source": [
    "## Computing layerwise relevances\n",
    "If you are interested in computing layerwise relevances,\n",
    "call `analyze` with an LRP analyzer and the keyword argument\n",
    "`layerwise_relevances=true`.\n",
    "\n",
    "The layerwise relevances can be accessed in the `extras` field\n",
    "of the returned `Explanation`:"
   ],
   "metadata": {}
  },
  {
   "outputs": [
    {
     "output_type": "execute_result",
     "data": {
      "text/plain": "([0.83187777 0.65594906 … 2.979956 -0.92734104; -5.7055326 0.112434216 … 5.3016615 1.3621753; … ; 0.5703779 0.4483491 … 1.0093665 0.018151773; -0.116950564 -0.17220408 … 0.16301692 0.08865525;;; 1.439703 0.20189513 … 0.2065107 -0.8409256; -2.0273778 -7.15473 … -0.56661737 0.5752468; … ; 0.25774273 0.2877066 … 0.34813347 0.0959174; 0.18016998 -0.06444567 … -0.03425829 0.4888164;;; -0.56477803 1.1977731 … 1.469011 -1.2243239; 0.95538414 8.937444 … 2.6929495 3.3021686; … ; -0.10686788 -0.30162314 … 0.3192569 -0.107496455; -0.024619272 -0.11889863 … -0.32426313 0.022538014;;;;], [0.109113164 0.03805301 … 0.23141333 0.057282224; 0.0 -1.0341344 … -1.6371214 -0.07682175; … ; 0.0025522674 0.08229762 … 0.0 -0.04431812; 0.009933781 -0.035563786 … -0.6920386 -0.01069399;;; 1.2355143 -0.0 … 0.2226838 0.001982224; 0.0 0.089158215 … 2.722493 0.17807198; … ; -0.10127031 0.8112933 … 0.49184927 -0.015436468; 0.0022121214 -0.34717008 … 0.08901196 0.41134918;;; 0.0 -0.3646866 … -0.0 -0.0; 0.0 -0.0 … 0.0 -0.0; … ; -0.0 0.0 … -0.0 0.0; 0.0 -0.0 … -0.0 -0.0;;; -0.0 -1.1358335 … 0.0 -0.10591906; 0.0 -3.9308677 … -1.9964471 -0.42319235; … ; -0.0 0.078469135 … -0.26143363 -0.1129284; 0.0403839 0.045162134 … -0.20630045 -0.0007000668;;; -0.0 0.58028036 … 0.0 0.088604145; -0.0 -0.0 … -0.0 0.0; … ; 0.0 -0.0 … 0.0 0.04043589; -0.0 0.0 … -0.0 0.0;;; 0.0 -0.7728227 … -0.0 -0.1172354; 0.0 0.0 … 0.82036024 0.031499557; … ; -0.0 0.0 … -0.045131706 -0.034897424; -0.0 0.0 … -0.009837049 0.039296743;;; -0.35920346 -0.04227105 … 0.0 -0.0; -0.29755026 0.0 … 0.0 -0.068838365; … ; 0.0 -0.08288721 … 0.0 -0.0; -0.0 -0.0 … 0.0 0.0;;; -0.42676747 0.71401477 … 0.9860542 0.0; -1.6963922 -0.24811754 … 2.0902722 0.0411264; … ; 0.5079731 0.02643947 … -0.049908746 -0.0; 0.25394872 0.06668355 … 1.34717 0.0028509137;;;;], [0.0 0.0 … 0.051804744 0.0; 0.0 0.0 … 0.0 0.0; … ; 0.0 0.0 … 0.0 0.50655764; 0.0 0.0 … 0.0 0.0;;; 0.040718466 0.0 … 0.0 0.0; 0.0 0.0 … 0.0 0.0; … ; 0.22854616 0.0 … 0.0 0.0; 0.0 0.0 … 0.21588664 0.0;;; 0.0 0.0 … 0.0 0.0; 0.0 0.0 … 0.0 0.0; … ; 0.0 0.0 … 0.0 -0.10372649; 0.0 0.0 … 0.0 0.0;;; 0.0 -0.25751042 … -0.042403113 0.0; 0.0 0.0 … 0.0 0.0; … ; 0.0 0.0 … 0.0 0.0; 0.0 0.0 … 0.0 -0.0029719707;;; 0.0 0.0 … 0.0 0.0; 0.0 -18.75651 … 0.19579013 0.0; … ; 0.0 1.4548801 … 0.0 -0.60878307; 0.0 0.0 … 0.0 0.0;;; 0.0 0.0 … 0.0 0.0; 0.0 0.0 … 0.0 0.0; … ; 0.0 0.0 … 0.0 0.0; 0.0 0.0 … 0.0 -0.17079175;;; 0.0 0.0 … 0.0 0.0; 0.0 -1.6511797 … -0.70916224 0.0; … ; 0.0 0.42042005 … 0.16959551 0.0; 0.0 0.0 … 0.0 0.0;;; 0.0 0.0 … 0.0 0.0; 0.0 -0.35932797 … 0.0 1.0600148; … ; 0.0 0.0 … 0.0 0.0; 0.36476916 0.0 … 0.0 0.6061495;;;;], [-0.0 -1.7533884 … 7.2557054 0.051804744; 0.0 5.1694474 … -2.7798479 -0.035834085; … ; 0.0 0.0601176 … 0.06189663 -0.0047867084; 0.0 -0.08010589 … -0.20813441 0.50655764;;; 0.04071847 0.0 … -0.0 -0.0; 0.0 -0.0 … -0.0 0.0; … ; 0.027418302 0.0 … -0.0 0.0; 0.22854616 0.0 … -0.003582678 0.21588664;;; 0.0 0.0 … -0.0 0.0; 0.0 0.0 … 0.0 0.096997656; … ; -0.0 -0.0 … 0.0 0.46378577; 0.0 -0.027945347 … -0.12135846 -0.10372649;;; -0.25751042 -2.3409183 … 0.42520803 -0.042403117; -0.012139355 -0.0 … -0.0 -0.0; … ; -0.0 -0.11380656 … 0.0 -0.0; -0.0 -0.0021911673 … -0.0 -0.0029719712;;; -18.75651 -6.036361 … -1.7259976 0.19579013; -11.345803 -3.5599942 … 21.117645 -0.6954098; … ; 0.71424985 1.4867545 … 1.9828323 -0.2680315; 1.4548801 0.33094063 … -0.2681433 -0.60878307;;; 0.0 0.0 … -0.0 0.0; -0.0 -0.0 … 0.0 -0.21108106; … ; -0.0 -0.0 … -0.0 -0.13163033; 0.0 -0.0 … -0.0 -0.17079175;;; -1.6511797 10.010142 … 3.0874517 -0.70916224; -0.87139314 5.43691 … 4.7635345 -1.3451047; … ; -0.20635252 0.61718476 … -1.4164028 -1.0072958; 0.42042005 -1.4542508 … -1.6666944 0.16959551;;; -0.35932797 3.026105 … 0.39992395 1.0600148; 0.7330678 -1.002453 … 9.003776 0.4967894; … ; 0.00782994 0.54665715 … 1.3403343 0.48898497; 0.36476916 0.92430264 … 0.8432759 0.6061495;;;;], [0.00073481345 -0.0035970293 … -0.0013050645 0.00063686667; -0.00043301051 -0.0013375238 … -0.0019942857 -0.00222919; … ; -0.0010063873 0.0006167129 … 0.00010857301 -0.001247145; 0.0009571494 0.000108804285 … 5.777385f-6 0.020702215;;; 2.3268306 0.055595696 … 0.0031124058 0.06437707; -0.13541459 -0.71922183 … 0.6260105 0.01640249; … ; 0.5823082 0.025946721 … 1.6409773 0.034698255; 0.047455147 1.0021218 … 0.64180833 0.01298257;;; 0.0010841948 -0.0005831062 … -0.0004670403 -0.004867624; 0.005023516 -0.0005174022 … 0.0006978445 0.018818516; … ; 0.0064522084 -0.00056689215 … -0.0002172309 0.02321127; 0.0017998198 -0.0005582624 … -8.7540495f-5 -0.005817149;;; … ;;; -0.001636677 0.00059457315 … -0.00068539096 0.0006933979; -0.0011539526 -0.0010887347 … -0.0016198101 0.005756304; … ; 0.001099093 -0.00012278857 … -0.000701821 0.0013169075; 0.009813938 -0.0016027092 … -0.0013008196 -0.0015460768;;; -0.8391808 -0.6067787 … 0.011719182 0.1284452; -0.6487298 -0.0010841652 … 0.428757 1.0044792; … ; -0.55999243 0.20869103 … 1.2796109 0.30041033; 0.46446264 0.67739874 … 0.8711522 0.87664;;; -0.026779247 -0.000505435 … -0.00052857026 -0.00037236392; 0.0237585 0.0004197801 … -0.00053251133 0.0009410209; … ; -0.00021874621 0.00014962262 … -0.0005122172 4.1108597f-5; -0.0033752725 -0.00029546124 … -0.00022134214 -0.00027343456;;;;], [0.0 0.0 … 0.0 0.0; -0.0 -0.0 … -0.0 -0.009006435; … ; 0.0 0.0 … 0.0 0.0013456097; 0.0 -0.0 … -0.0 0.05185845;;; 0.27573925 0.09625651 … 0.0028502294 -0.0; -0.25842938 -0.23338933 … 0.088816725 0.0; … ; 0.11328653 0.086635344 … 0.1326737 0.0; 0.046137802 0.16098547 … 0.15164074 0.029786881;;; -0.0 0.0 … -0.0 -0.019172097; 0.0 0.0 … -0.0 0.024869641; … ; -0.0 -0.0 … -0.0 0.036060676; -0.0 -0.0 … 0.0 -0.016979378;;; … ;;; -0.0 -0.0 … -0.0 -0.0; 0.0 0.0 … -0.0 0.0; … ; -0.0017523806 0.0 … -0.0 0.0; 0.00036342256 -0.0 … 0.0 -0.0;;; -0.0 -0.0 … 0.0009789611 0.00552839; 0.0 -0.0 … 0.04395366 0.09191688; … ; 0.0 0.045740686 … 0.17889771 0.03288327; -0.01126329 0.016378183 … 0.06427911 0.037677806;;; -0.13606372 -0.0 … -0.0 -0.0; 0.10377241 0.0 … -0.0 -0.0; … ; -0.0 -0.0 … -0.0 -0.0; -0.019867921 -0.0 … -0.0 -0.0;;;;], [0.0 0.0 … 0.0 0.0; 0.0 0.0 … 0.0 0.0; … ; -0.0031161082 0.0 … 0.0 0.0; -0.0049694395 0.005580117 … 0.0 0.0;;; 0.0 -0.008410944 … 0.0 0.008851441; 0.0 0.0068981634 … 0.0 -0.007528207; … ; 0.0 0.007060045 … 0.0 0.0014656787; 0.0 0.0 … 0.0 0.009976034;;; 0.0 0.0 … 0.0 0.031091573; 0.0 0.0 … 0.0 0.015365876; … ; 0.0 0.0 … 0.0 0.0103596; 0.0 -0.00597846 … 0.0 0.00049594895;;; 0.014162944 -0.01336768 … -0.0 -0.0; 0.0007179187 -0.0039645177 … -0.0 -0.0; … ; -0.0 -0.0 … -0.0 -0.0; -0.0 -0.0 … -0.05535987 -0.0;;; -0.00013438397 0.0 … 0.0 0.0; 0.0 0.0 … 0.0 0.0; … ; 0.0 0.0 … 0.0 8.178071f-5; 0.0 0.0 … 0.0 0.0;;; 0.0 0.00048110695 … 0.0 0.00023488616; 0.0 0.0059401826 … 9.729836f-5 0.00025568763; … ; 2.1705726f-5 0.020408485 … -0.0133812865 0.010306945; 0.00031316886 -0.002296665 … 0.00030523227 0.0;;; 0.19509834 -0.20054045 … 0.2312255 0.11411144; -4.239087 0.29065895 … 0.15199222 0.0; … ; 0.20617539 0.2718676 … 0.1242971 0.13001284; 0.14399399 0.20153303 … 0.11053526 0.06023912;;; -0.0 -0.0 … -0.0 -0.00013131842; -0.0 -3.0846946f-5 … -0.03555054 -0.018194752; … ; -0.0 -0.0038922837 … -4.3058888f-5 0.005480855; -0.0 -0.00022660731 … -0.014416714 0.002789101;;;;], [0.0 0.0 … 0.0 -0.0; 0.0 0.0 … -0.0 -0.0; … ; -0.0023391799 -0.0 … -0.0 0.0; -0.003798096 0.004975816 … -0.0 -0.0;;; -0.0 -0.008102306 … -0.0 0.0046520303; 0.0 0.0022180001 … 0.0 -0.008029448; … ; -0.0 0.0027021694 … 0.0 -0.0005218167; -0.0 0.0 … -0.0 0.0032636574;;; -0.0 -0.0 … 0.0 0.019540524; -0.0 -0.0 … -0.0 0.00914436; … ; 0.0 0.0 … 0.0 0.0056313444; 0.0 -0.0061500063 … -0.0 -0.0019136444;;; 0.008544842 -0.00095795543 … 0.0 -0.0; 0.001959562 -0.00094112754 … 0.0 -0.0; … ; -0.0 -0.0 … 0.0 0.0; -0.0 0.0 … -0.0059976154 0.0;;; 0.0019207634 0.0 … 0.0 -0.0; -0.0 -0.0 … 0.0 0.0; … ; -0.0 0.0 … -0.0 0.0002478638; 0.0 -0.0 … 0.0 -0.0;;; 0.0 8.7365566f-5 … -0.0 -0.0036352177; -0.0 0.0016343619 … 0.0013867273 0.012654828; … ; 4.154924f-5 0.0059684017 … -0.0031962225 0.0024362837; 0.0053464337 -0.00076036336 … 0.0070003276 0.0;;; 0.013748661 -0.009567272 … -0.00075419724 0.006847103; -0.010701141 -0.03507395 … 0.016360864 -0.0; … ; 0.009187548 -0.013961626 … 0.012625411 0.01781975; 0.000454738 0.013902735 … -0.0024338313 -0.008889915;;; -0.0 -0.0 … -0.0 -0.001387049; -0.0 0.00062733894 … -0.02263006 -0.009231264; … ; 0.0 -0.0007837897 … 0.00012371546 0.002933838; -0.0 -0.00060724694 … -0.009589149 0.0024314572;;;;], Float32[0.0; 0.0; … ; 0.002933838; 0.0024314572;;], Float32[0.011036053; 0.010122496; … ; 0.0; -0.00993375;;], Float32[0.011036053; 0.010122496; … ; 0.0; -0.00993375;;], Float32[0.0; 0.0; … ; 0.0; 0.0;;])"
     },
     "metadata": {},
     "execution_count": 9
    }
   ],
   "cell_type": "code",
   "source": [
    "input = rand(Float32, 32, 32, 3, 1) # dummy input for our convolutional neural network\n",
    "\n",
    "expl = analyze(input, analyzer; layerwise_relevances=true)\n",
    "expl.extras.layerwise_relevances"
   ],
   "metadata": {},
   "execution_count": 9
  },
  {
   "cell_type": "markdown",
   "source": [
    "Note that the layerwise relevances are only kept for layers in the outermost `Chain` of the model.\n",
    "When using our unflattened model, we only obtain three layerwise relevances,\n",
    "one for each chain in the model and the output relevance:"
   ],
   "metadata": {}
  },
  {
   "outputs": [
    {
     "output_type": "execute_result",
     "data": {
      "text/plain": "([0.020451192 -0.3603953 … 1.2541238 -0.14060292; -0.6062226 -0.0109550785 … 1.8289024 0.052411605; … ; -0.7765874 -0.38725162 … 0.46730986 0.0056948727; 0.09493332 -0.3781092 … -0.08640277 -0.02158479;;; 0.20258248 0.18309124 … 0.0541263 -0.10514764; -0.020877048 -0.64197314 … 0.6543482 0.6119593; … ; 0.36127076 0.10063801 … 0.59678113 0.758977; -0.21629514 -0.06470358 … 0.100471936 0.045882832;;; -0.03135977 -0.4496594 … 1.0191505 -0.32780254; 0.026440889 0.3611242 … 2.154427 1.5397544; … ; -0.1340702 0.872705 … -0.11144362 0.9673616; 0.07712933 0.46200424 … 0.3909883 0.010504454;;;;], [0.0 0.0 … 0.0 -0.0; 0.0 0.0 … -0.0 -0.0; … ; -0.0035267803 -0.0 … -0.0 0.0; -0.002488644 0.005693636 … -0.0 -0.0;;; -0.0 -0.007861934 … -0.0 0.00416472; 0.0 0.0039566183 … 0.0 -0.009933454; … ; -0.0 -0.0026631574 … 0.0 -0.00021547935; -0.0 0.0 … -0.0 0.003028693;;; -0.0 -0.0 … 0.0 0.012524641; -0.0 -0.0 … -0.0 0.010656221; … ; 0.0 0.0 … 0.0 0.007441286; 0.0 -0.0054416307 … -0.0 -0.0031629568;;; 0.0109988 -0.0014986448 … 0.0 -0.0; -0.00063555886 -0.00064842956 … 0.0 -0.0; … ; -0.0 -0.0 … 0.0 -0.0; 0.0 0.0 … -0.008480398 0.0;;; 0.0027333454 -0.0 … 0.0 -0.0; -0.0 -0.0 … -0.0 0.0; … ; 0.0 0.0 … -0.0 6.662573f-5; 0.0 -0.0 … 0.0 -0.0;;; 0.0 -0.006247315 … -0.0 -0.0030593188; -0.0 0.0065750917 … 0.0012397196 0.008802655; … ; 0.0 0.011204261 … -0.0057101883 -0.0022559415; 0.006304153 0.0021741358 … 0.011362688 0.0;;; 0.0072688796 0.0021614612 … 0.0017474132 0.0030610543; -0.0048634885 -0.02821093 … 0.015438737 -0.0; … ; 0.010271785 0.0076061534 … 0.006073109 0.014250454; 0.0012829379 0.01115719 … 0.0022049325 -0.0048378287;;; -0.0 -0.0 … -0.0 -0.0012290681; -0.0 1.6130824f-6 … -0.02464838 -0.0066632684; … ; 0.0 -0.00024257491 … -0.0 0.00042077547; -0.0 -0.00051394926 … -0.010467755 -0.0026605248;;;;], Float32[0.0; 0.0; … ; 0.0; 0.0;;])"
     },
     "metadata": {},
     "execution_count": 10
    }
   ],
   "cell_type": "code",
   "source": [
    "analyzer = LRP(model; flatten=false) # use unflattened model\n",
    "\n",
    "expl = analyze(input, analyzer; layerwise_relevances=true)\n",
    "expl.extras.layerwise_relevances"
   ],
   "metadata": {},
   "execution_count": 10
  },
  {
   "cell_type": "markdown",
   "source": [
    "## Performance tips\n",
    "### Using LRP with a GPU\n",
    "Like all other analyzers, LRP can be used on GPUs.\n",
    "Follow the instructions on *GPU support*.\n",
    "\n",
    "### Using LRP without a GPU\n",
    "Using Julia's package extension mechanism,\n",
    "ExplainableAI.jl's LRP implementation can optionally make use of\n",
    "[Tullio.jl](https://github.com/mcabbott/Tullio.jl) and\n",
    "[LoopVectorization.jl](https://github.com/JuliaSIMD/LoopVectorization.jl)\n",
    "for faster LRP rules on dense layers.\n",
    "\n",
    "This only requires loading the packages before loading ExplainableAI.jl:\n",
    "```julia\n",
    "using LoopVectorization, Tullio\n",
    "using ExplainableAI\n",
    "```\n",
    "\n",
    "[^1]: G. Montavon et al., [Layer-Wise Relevance Propagation: An Overview](https://link.springer.com/chapter/10.1007/978-3-030-28954-6_10)"
   ],
   "metadata": {}
  },
  {
   "cell_type": "markdown",
   "source": [
    "---\n",
    "\n",
    "*This notebook was generated using [Literate.jl](https://github.com/fredrikekre/Literate.jl).*"
   ],
   "metadata": {}
  }
 ],
 "nbformat_minor": 3,
 "metadata": {
  "language_info": {
   "file_extension": ".jl",
   "mimetype": "application/julia",
   "name": "julia",
   "version": "1.9.3"
  },
  "kernelspec": {
   "name": "julia-1.9",
   "display_name": "Julia 1.9.3",
   "language": "julia"
  }
 },
 "nbformat": 4
}
