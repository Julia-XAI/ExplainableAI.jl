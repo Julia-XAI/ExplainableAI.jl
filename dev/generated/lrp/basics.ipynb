{
 "cells": [
  {
   "cell_type": "markdown",
   "source": [
    "# Basic usage of LRP\n",
    "This example will show you best practices for using LRP,\n",
    "building on the basics shown in the *Getting started* section."
   ],
   "metadata": {}
  },
  {
   "cell_type": "markdown",
   "source": [
    "We start out by loading a small convolutional neural network:"
   ],
   "metadata": {}
  },
  {
   "outputs": [],
   "cell_type": "code",
   "source": [
    "using ExplainableAI\n",
    "using Flux\n",
    "\n",
    "model = Chain(\n",
    "    Chain(\n",
    "        Conv((3, 3), 3 => 8, relu; pad=1),\n",
    "        Conv((3, 3), 8 => 8, relu; pad=1),\n",
    "        MaxPool((2, 2)),\n",
    "        Conv((3, 3), 8 => 16; pad=1),\n",
    "        BatchNorm(16, relu),\n",
    "        Conv((3, 3), 16 => 8, relu; pad=1),\n",
    "        BatchNorm(8, relu),\n",
    "    ),\n",
    "    Chain(\n",
    "        Flux.flatten,\n",
    "        Dense(2048 => 512, relu),\n",
    "        Dropout(0.5),\n",
    "        Dense(512 => 100, softmax)\n",
    "    ),\n",
    ");"
   ],
   "metadata": {},
   "execution_count": 1
  },
  {
   "cell_type": "markdown",
   "source": [
    "This model contains two chains: the convolutional layers and the fully connected layers."
   ],
   "metadata": {}
  },
  {
   "cell_type": "markdown",
   "source": [
    "## Model preparation\n",
    "### Stripping the output softmax\n",
    "When using LRP, it is recommended to explain output logits instead of probabilities.\n",
    "This can be done by stripping the output softmax activation from the model\n",
    "using the `strip_softmax` function:"
   ],
   "metadata": {}
  },
  {
   "outputs": [
    {
     "output_type": "execute_result",
     "data": {
      "text/plain": "Chain(\n  Chain(\n    Conv((3, 3), 3 => 8, relu, pad=1),  \u001b[90m# 224 parameters\u001b[39m\n    Conv((3, 3), 8 => 8, relu, pad=1),  \u001b[90m# 584 parameters\u001b[39m\n    MaxPool((2, 2)),\n    Conv((3, 3), 8 => 16, pad=1),       \u001b[90m# 1_168 parameters\u001b[39m\n    BatchNorm(16, relu),                \u001b[90m# 32 parameters\u001b[39m\u001b[90m, plus 32\u001b[39m\n    Conv((3, 3), 16 => 8, relu, pad=1),  \u001b[90m# 1_160 parameters\u001b[39m\n    BatchNorm(8, relu),                 \u001b[90m# 16 parameters\u001b[39m\u001b[90m, plus 16\u001b[39m\n  ),\n  Chain(\n    Flux.flatten,\n    Dense(2048 => 512, relu),           \u001b[90m# 1_049_088 parameters\u001b[39m\n    Dropout(0.5),\n    Dense(512 => 100),                  \u001b[90m# 51_300 parameters\u001b[39m\n  ),\n) \u001b[90m        # Total: 16 trainable arrays, \u001b[39m1_103_572 parameters,\n\u001b[90m          # plus 4 non-trainable, 48 parameters, summarysize \u001b[39m4.213 MiB."
     },
     "metadata": {},
     "execution_count": 2
    }
   ],
   "cell_type": "code",
   "source": [
    "model = strip_softmax(model)"
   ],
   "metadata": {},
   "execution_count": 2
  },
  {
   "cell_type": "markdown",
   "source": [
    "If you don't remove the output softmax,\n",
    "model checks will fail."
   ],
   "metadata": {}
  },
  {
   "cell_type": "markdown",
   "source": [
    "### Canonizing the model\n",
    "LRP is not invariant to a model's implementation.\n",
    "Applying the `GammaRule` to two linear layers in a row will yield different results\n",
    "than first fusing the two layers into one linear layer and then applying the rule.\n",
    "This fusing is called \"canonization\" and can be done using the `canonize` function:"
   ],
   "metadata": {}
  },
  {
   "outputs": [
    {
     "output_type": "execute_result",
     "data": {
      "text/plain": "Chain(\n  Conv((3, 3), 3 => 8, relu, pad=1),    \u001b[90m# 224 parameters\u001b[39m\n  Conv((3, 3), 8 => 8, relu, pad=1),    \u001b[90m# 584 parameters\u001b[39m\n  MaxPool((2, 2)),\n  Conv((3, 3), 8 => 16, relu, pad=1),   \u001b[90m# 1_168 parameters\u001b[39m\n  Conv((3, 3), 16 => 8, relu, pad=1),   \u001b[90m# 1_160 parameters\u001b[39m\n  BatchNorm(8, relu),                   \u001b[90m# 16 parameters\u001b[39m\u001b[90m, plus 16\u001b[39m\n  Flux.flatten,\n  Dense(2048 => 512, relu),             \u001b[90m# 1_049_088 parameters\u001b[39m\n  Dropout(0.5),\n  Dense(512 => 100),                    \u001b[90m# 51_300 parameters\u001b[39m\n) \u001b[90m        # Total: 14 trainable arrays, \u001b[39m1_103_540 parameters,\n\u001b[90m          # plus 2 non-trainable, 16 parameters, summarysize \u001b[39m4.212 MiB."
     },
     "metadata": {},
     "execution_count": 3
    }
   ],
   "cell_type": "code",
   "source": [
    "model = canonize(model)"
   ],
   "metadata": {},
   "execution_count": 3
  },
  {
   "cell_type": "markdown",
   "source": [
    "### Flattening the model\n",
    "ExplainableAI.jl's LRP implementation supports nested Flux Chains and Parallel layers.\n",
    "However, it is recommended to flatten the model before analyzing it.\n",
    "\n",
    "LRP is implemented by first running a forward pass through the model,\n",
    "keeping track of the intermediate activations, followed by a backward pass\n",
    "that computes the relevances.\n",
    "\n",
    "To keep the LRP implementation simple and maintainable,\n",
    "ExplainableAI.jl does not pre-compute \"nested\" activations.\n",
    "Instead, for every internal chain, a new forward pass is run to compute activations.\n",
    "\n",
    "By \"flattening\" a model, this overhead can be avoided.\n",
    "For this purpose, ExplainableAI.jl provides the function `flatten_model`:"
   ],
   "metadata": {}
  },
  {
   "outputs": [
    {
     "output_type": "execute_result",
     "data": {
      "text/plain": "Chain(\n  Conv((3, 3), 3 => 8, relu, pad=1),    \u001b[90m# 224 parameters\u001b[39m\n  Conv((3, 3), 8 => 8, relu, pad=1),    \u001b[90m# 584 parameters\u001b[39m\n  MaxPool((2, 2)),\n  Conv((3, 3), 8 => 16, relu, pad=1),   \u001b[90m# 1_168 parameters\u001b[39m\n  Conv((3, 3), 16 => 8, relu, pad=1),   \u001b[90m# 1_160 parameters\u001b[39m\n  BatchNorm(8, relu),                   \u001b[90m# 16 parameters\u001b[39m\u001b[90m, plus 16\u001b[39m\n  Flux.flatten,\n  Dense(2048 => 512, relu),             \u001b[90m# 1_049_088 parameters\u001b[39m\n  Dropout(0.5),\n  Dense(512 => 100),                    \u001b[90m# 51_300 parameters\u001b[39m\n) \u001b[90m        # Total: 14 trainable arrays, \u001b[39m1_103_540 parameters,\n\u001b[90m          # plus 2 non-trainable, 16 parameters, summarysize \u001b[39m4.212 MiB."
     },
     "metadata": {},
     "execution_count": 4
    }
   ],
   "cell_type": "code",
   "source": [
    "model_flat = flatten_model(model)"
   ],
   "metadata": {},
   "execution_count": 4
  },
  {
   "cell_type": "markdown",
   "source": [
    "This function is called by default when creating an LRP analyzer.\n",
    "Note that we pass the unflattened model to the analyzer, but `analyzer.model` is flattened:"
   ],
   "metadata": {}
  },
  {
   "outputs": [
    {
     "output_type": "execute_result",
     "data": {
      "text/plain": "Chain(\n  Conv((3, 3), 3 => 8, relu, pad=1),    \u001b[90m# 224 parameters\u001b[39m\n  Conv((3, 3), 8 => 8, relu, pad=1),    \u001b[90m# 584 parameters\u001b[39m\n  MaxPool((2, 2)),\n  Conv((3, 3), 8 => 16, relu, pad=1),   \u001b[90m# 1_168 parameters\u001b[39m\n  Conv((3, 3), 16 => 8, relu, pad=1),   \u001b[90m# 1_160 parameters\u001b[39m\n  BatchNorm(8, relu),                   \u001b[90m# 16 parameters\u001b[39m\u001b[90m, plus 16\u001b[39m\n  Flux.flatten,\n  Dense(2048 => 512, relu),             \u001b[90m# 1_049_088 parameters\u001b[39m\n  Dropout(0.5),\n  Dense(512 => 100),                    \u001b[90m# 51_300 parameters\u001b[39m\n) \u001b[90m        # Total: 14 trainable arrays, \u001b[39m1_103_540 parameters,\n\u001b[90m          # plus 2 non-trainable, 16 parameters, summarysize \u001b[39m4.212 MiB."
     },
     "metadata": {},
     "execution_count": 5
    }
   ],
   "cell_type": "code",
   "source": [
    "analyzer = LRP(model)\n",
    "analyzer.model"
   ],
   "metadata": {},
   "execution_count": 5
  },
  {
   "cell_type": "markdown",
   "source": [
    "If this flattening is not desired, it can be disabled\n",
    "by passing the keyword argument `flatten=false` to the `LRP` constructor."
   ],
   "metadata": {}
  },
  {
   "cell_type": "markdown",
   "source": [
    "## LRP rules\n",
    "By default, the `LRP` constructor will assign the `ZeroRule` to all layers."
   ],
   "metadata": {}
  },
  {
   "outputs": [
    {
     "output_type": "execute_result",
     "data": {
      "text/plain": "LRP(\n  Conv((3, 3), 3 => 8, relu, pad=1) \u001b[90m => \u001b[39m\u001b[33mZeroRule()\u001b[39m,\n  Conv((3, 3), 8 => 8, relu, pad=1) \u001b[90m => \u001b[39m\u001b[33mZeroRule()\u001b[39m,\n  MaxPool((2, 2))                   \u001b[90m => \u001b[39m\u001b[33mZeroRule()\u001b[39m,\n  Conv((3, 3), 8 => 16, relu, pad=1)\u001b[90m => \u001b[39m\u001b[33mZeroRule()\u001b[39m,\n  Conv((3, 3), 16 => 8, relu, pad=1)\u001b[90m => \u001b[39m\u001b[33mZeroRule()\u001b[39m,\n  BatchNorm(8, relu)                \u001b[90m => \u001b[39m\u001b[33mZeroRule()\u001b[39m,\n  Flux.flatten                      \u001b[90m => \u001b[39m\u001b[33mZeroRule()\u001b[39m,\n  Dense(2048 => 512, relu)          \u001b[90m => \u001b[39m\u001b[33mZeroRule()\u001b[39m,\n  Dropout(0.5)                      \u001b[90m => \u001b[39m\u001b[33mZeroRule()\u001b[39m,\n  Dense(512 => 100)                 \u001b[90m => \u001b[39m\u001b[33mZeroRule()\u001b[39m,\n)"
     },
     "metadata": {},
     "execution_count": 6
    }
   ],
   "cell_type": "code",
   "source": [
    "LRP(model)"
   ],
   "metadata": {},
   "execution_count": 6
  },
  {
   "cell_type": "markdown",
   "source": [
    "This analyzer will return heatmaps that look identical to `InputTimesGradient`."
   ],
   "metadata": {}
  },
  {
   "cell_type": "markdown",
   "source": [
    "LRP's strength lies in assigning different rules to different layers,\n",
    "based on their functionality in the neural network[^1].\n",
    "ExplainableAI.jl implements many LRP rules out of the box,\n",
    "but it is also possible to *implement custom rules*.\n",
    "\n",
    "To assign different rules to different layers,\n",
    "use one of the composites presets,\n",
    "or create your own composite, as described in\n",
    "*Assigning rules to layers*."
   ],
   "metadata": {}
  },
  {
   "outputs": [
    {
     "output_type": "execute_result",
     "data": {
      "text/plain": "Composite(\n  GlobalTypeMap(  \u001b[90m# all layers\u001b[39m\n\u001b[94m    Flux.Conv              \u001b[39m => \u001b[33mZPlusRule()\u001b[39m,\n\u001b[94m    Flux.ConvTranspose     \u001b[39m => \u001b[33mZPlusRule()\u001b[39m,\n\u001b[94m    Flux.CrossCor          \u001b[39m => \u001b[33mZPlusRule()\u001b[39m,\n\u001b[94m    Flux.Dense             \u001b[39m => \u001b[33mEpsilonRule{Float32}(1.0f-6)\u001b[39m,\n\u001b[94m    typeof(NNlib.dropout)  \u001b[39m => \u001b[33mPassRule()\u001b[39m,\n\u001b[94m    Flux.AlphaDropout      \u001b[39m => \u001b[33mPassRule()\u001b[39m,\n\u001b[94m    Flux.Dropout           \u001b[39m => \u001b[33mPassRule()\u001b[39m,\n\u001b[94m    Flux.BatchNorm         \u001b[39m => \u001b[33mPassRule()\u001b[39m,\n\u001b[94m    typeof(Flux.flatten)   \u001b[39m => \u001b[33mPassRule()\u001b[39m,\n\u001b[94m    typeof(MLUtils.flatten)\u001b[39m => \u001b[33mPassRule()\u001b[39m,\n\u001b[94m    typeof(identity)       \u001b[39m => \u001b[33mPassRule()\u001b[39m,\n ),\n  FirstLayerTypeMap(  \u001b[90m# first layer\u001b[39m\n\u001b[94m    Flux.Conv         \u001b[39m => \u001b[33mFlatRule()\u001b[39m,\n\u001b[94m    Flux.ConvTranspose\u001b[39m => \u001b[33mFlatRule()\u001b[39m,\n\u001b[94m    Flux.CrossCor     \u001b[39m => \u001b[33mFlatRule()\u001b[39m,\n\u001b[94m    Flux.Dense        \u001b[39m => \u001b[33mFlatRule()\u001b[39m,\n ),\n)"
     },
     "metadata": {},
     "execution_count": 7
    }
   ],
   "cell_type": "code",
   "source": [
    "composite = EpsilonPlusFlat() # using composite preset EpsilonPlusFlat"
   ],
   "metadata": {},
   "execution_count": 7
  },
  {
   "outputs": [
    {
     "output_type": "execute_result",
     "data": {
      "text/plain": "LRP(\n  Conv((3, 3), 3 => 8, relu, pad=1) \u001b[90m => \u001b[39m\u001b[33mFlatRule()\u001b[39m,\n  Conv((3, 3), 8 => 8, relu, pad=1) \u001b[90m => \u001b[39m\u001b[33mZPlusRule()\u001b[39m,\n  MaxPool((2, 2))                   \u001b[90m => \u001b[39m\u001b[33mZeroRule()\u001b[39m,\n  Conv((3, 3), 8 => 16, relu, pad=1)\u001b[90m => \u001b[39m\u001b[33mZPlusRule()\u001b[39m,\n  Conv((3, 3), 16 => 8, relu, pad=1)\u001b[90m => \u001b[39m\u001b[33mZPlusRule()\u001b[39m,\n  BatchNorm(8, relu)                \u001b[90m => \u001b[39m\u001b[33mPassRule()\u001b[39m,\n  Flux.flatten                      \u001b[90m => \u001b[39m\u001b[33mPassRule()\u001b[39m,\n  Dense(2048 => 512, relu)          \u001b[90m => \u001b[39m\u001b[33mEpsilonRule{Float32}(1.0f-6)\u001b[39m,\n  Dropout(0.5)                      \u001b[90m => \u001b[39m\u001b[33mPassRule()\u001b[39m,\n  Dense(512 => 100)                 \u001b[90m => \u001b[39m\u001b[33mEpsilonRule{Float32}(1.0f-6)\u001b[39m,\n)"
     },
     "metadata": {},
     "execution_count": 8
    }
   ],
   "cell_type": "code",
   "source": [
    "LRP(model, composite)"
   ],
   "metadata": {},
   "execution_count": 8
  },
  {
   "cell_type": "markdown",
   "source": [
    "## Computing layerwise relevances\n",
    "If you are interested in computing layerwise relevances,\n",
    "call `analyze` with an LRP analyzer and the keyword argument\n",
    "`layerwise_relevances=true`.\n",
    "\n",
    "The layerwise relevances can be accessed in the `extras` field\n",
    "of the returned `Explanation`:"
   ],
   "metadata": {}
  },
  {
   "outputs": [
    {
     "output_type": "execute_result",
     "data": {
      "text/plain": "([0.07570888 0.03623409 … -0.007973393 0.060740363; 0.0013208578 -0.072606705 … -0.028696688 -0.0014131228; … ; -0.014514725 -0.0044131777 … -0.16507237 0.19356115; 0.0039133886 -0.00027451394 … -0.11387861 0.008290892;;; -0.022888891 -0.02377673 … -0.0050827446 0.0017914115; 0.001714035 -0.0090245055 … -0.055874582 -0.00410932; … ; -0.011251106 -6.284934f-5 … 0.314636 -0.10971713; -0.017166412 0.011869741 … 0.0017073766 -0.04174394;;; 0.008427614 -0.0031928944 … -0.0052206283 0.093354546; 0.118351236 0.011821775 … 0.43291128 -0.06774665; … ; -0.0038550047 0.020548835 … -0.2545898 -0.0013596229; 0.0011983927 0.007220381 … -0.010742031 -0.017034978;;;;], [-0.0 -0.013006819 … 0.0 0.0101524135; 0.0049159178 0.02144179 … -0.0 0.024186635; … ; -0.0 -0.003613558 … -0.013216993 -0.034648124; 0.0 -0.000680442 … -0.00038650318 -0.00403835;;; 0.04084218 0.0 … 0.00079108763 -0.03192297; 0.025995059 0.0 … 0.12086816 -8.284987f-5; … ; -0.0070266905 0.0 … 0.0 0.0; 0.00017222692 -0.0 … -0.0 0.0;;; -0.0 -0.044150624 … -0.007592538 0.0057660122; 7.280055f-5 -0.016978659 … -0.039815843 0.015960813; … ; -0.0026276242 -0.020498198 … 0.103967674 0.0935722; 0.00035775895 0.0027712765 … -0.01119589 -0.0033551315;;; 0.0054430584 0.011932863 … 0.038725317 0.009906635; -0.016858468 0.014370615 … -0.0 0.07115111; … ; 0.01669735 -0.0066074734 … -0.2875915 -0.0047185495; 0.0005967475 0.0011802258 … -0.0 0.00045258342;;; 0.0 -0.0 … -0.003362239 -0.0; 0.039740235 0.0 … 0.0 -0.0; … ; 0.0 0.0 … -0.0 -0.0; -0.0 0.0 … 0.0 0.004850726;;; 0.0 -0.0 … -0.0 -0.0; 0.0010505205 0.00039946596 … 0.026978001 -0.00823344; … ; -0.0 -0.011272033 … -0.031337917 0.0010666321; 0.0 -0.0 … 0.0022447517 -0.0004733674;;; 0.0 0.0015403465 … -0.03600863 -0.011167862; -0.0 -0.0 … 0.0 -0.010649118; … ; 0.0 0.0 … 0.0 -0.0; 0.0 0.0 … 0.0 0.0;;; 0.0 0.0 … 0.058434736 -0.0; -0.0005548663 0.09366813 … -0.000117351265 0.019133227; … ; 0.001553776 0.0 … -0.030677427 0.056858677; -0.0002434061 -0.017778687 … -0.012356177 -0.0023209818;;;;], [0.0 -0.012993114 … 0.0 -0.0018878733; 0.0 0.0 … 0.0 0.0; … ; 0.0 0.0 … 0.0 0.0; 0.0 0.0 … 0.0 0.0;;; 0.0 0.0 … 0.0 0.0; 0.0 -0.010545778 … 0.0 0.042098332; … ; 0.0 -0.02852538 … 0.0 0.0; 0.0 0.0 … -0.011544587 0.0;;; -0.024762508 0.0 … 0.015514121 0.0; 0.0 0.0 … 0.0 0.0; … ; 0.0 0.0 … 0.0 0.020479145; 0.0 -0.005882583 … 0.0 0.0;;; 0.0 0.0 … 0.0 0.0035489392; 0.0 0.0 … 0.0 0.0; … ; 0.0 0.0 … 0.0 0.0; 0.0 0.0 … 0.0 0.0;;; 0.0 0.0 … 0.0 0.035728674; 0.048430502 0.0 … 0.0 0.0; … ; 0.0 0.0 … 0.0 0.0; 0.0043153395 0.0 … -0.004525273 0.0;;; -0.008235806 0.0 … 0.0 0.0; 0.0 0.0 … 0.0 0.0; … ; 0.0 0.0 … 0.0004425682 0.0; 0.0 -0.0030413065 … 0.0 0.0;;; 0.0 0.0 … 0.0 0.0012942719; 0.0 0.11022776 … 0.0 0.0; … ; 0.0 0.0 … 0.0 0.016965149; 0.0 0.0028103369 … 0.0 0.0;;; 0.0 0.0 … 0.0 0.0; 0.0 0.0 … 0.0 0.0; … ; 0.0 0.0 … 0.0 0.0; 0.0042005293 0.0 … 0.0 0.0;;;;], [-0.012993114 -0.013317877 … 0.0053499285 -0.0018878735; -0.0 -0.015685543 … -0.012410416 -0.0; … ; -0.0050859135 -0.0 … 0.071850866 -0.0064730146; -0.0 -0.0 … 0.0058556376 0.0;;; -0.010545778 -0.005377496 … 0.0009923095 0.042098332; -0.08332079 -0.13457398 … -0.028529234 0.09309553; … ; -0.024698306 -0.03767184 … -0.035042312 -0.009714312; -0.02852538 -0.044982355 … -0.030342584 -0.011544587;;; -0.024762508 -0.030274605 … 0.067656524 0.015514121; -0.021414155 -0.0 … -0.15223722 0.016432734; … ; -0.0008572395 -0.010756647 … -0.11151892 0.1628514; -0.005882583 -0.0 … -0.010121857 0.020479145;;; -0.0 0.0 … -0.041380487 0.0035489392; 0.0 -0.0 … -0.0080446275 -0.0; … ; 0.0 -0.0 … -0.0 -0.029450025; 0.0 -0.0 … -0.0 -0.0;;; 0.048430502 0.0 … 0.08751877 0.035728674; 0.07151655 0.0 … 0.28927693 0.0; … ; -0.0020810997 0.0 … 0.018032344 -0.0015387869; 0.0043153395 0.012606333 … 0.0 -0.004525273;;; -0.008235806 0.00039487795 … 0.0 -0.0; -0.0 -0.0 … -0.07253502 -0.001361002; … ; -0.0 -0.0046752547 … 0.0 0.0; -0.0030413067 -0.013910735 … -0.0 0.00044256827;;; 0.11022776 -0.023118915 … -0.014952411 0.0012942719; 0.13214593 0.031124288 … 0.4344373 0.25755554; … ; 0.0074559217 0.0032329722 … -0.01077303 -0.04603302; 0.0028103369 0.004066522 … 0.013382257 0.016965149;;; 0.0 -0.0 … 0.0 0.0; 0.049800944 -0.0 … 0.0 -0.0; … ; 0.0033907534 -0.0 … -0.0 0.0; 0.0042005293 -0.0 … -0.0069314158 0.0;;;;], [-0.0 0.0 … -0.0 -0.0; 0.036078315 0.0 … 0.0 0.0; … ; -0.0010836495 0.0 … 0.013570411 -0.0; 0.0018366359 0.0 … 0.0 0.0;;; 0.0011127382 -0.0 … 0.013566987 0.0065779206; -0.010324491 0.009786058 … -0.00090941053 -0.0015115085; … ; -0.012901153 0.0009550558 … -0.0082763415 -0.0008650848; -0.0062403064 -0.0087438505 … -0.0 -0.0053368923;;; 0.0026581858 0.0 … 0.0 0.0; -0.0017365161 0.0 … 0.016586713 0.0; … ; -0.0 -0.0 … -0.01683592 0.0; -0.0 0.0 … 0.014786353 -3.6067675f-5;;; … ;;; 0.00034159052 0.0005606668 … -0.008913053 -0.0; -0.0 -0.0 … 0.01402332 -0.016084984; … ; -0.0 -0.0 … 0.0011688218 -0.0013876844; -0.0 -0.0 … 0.0019943712 -0.0011222685;;; 0.01098564 0.0017121998 … 0.011360048 -0.0038933929; 0.008235505 0.034239188 … 0.2093837 0.044565614; … ; -0.009064088 0.0144769335 … -0.0160525 0.004788325; -0.0055277515 -0.00025488925 … 0.003983386 0.012982865;;; -0.0 0.0 … 0.0 0.0; 0.0 -0.0 … -0.0 0.0; … ; 0.0 0.0 … 0.0 0.0065882932; 0.0 0.0 … 0.0 -0.0;;;;], [0.0 3.3762994f-5 … 0.0 3.753226f-5; 0.0 0.0 … 0.0 0.0; … ; 0.0 0.0 … 0.0 0.0; 0.0 0.0 … 0.0 0.0;;; 0.0 0.0 … -0.0007433112 0.0; 0.0 0.0 … 0.007478429 2.491188f-5; … ; 0.0 0.0 … 0.0 0.0; 0.0 0.0 … 0.0 0.0;;; 0.0 0.0 … 0.0 0.0; 0.0 0.0 … 0.009998655 0.024692846; … ; 0.0 -0.001688859 … -0.035752267 -0.0016742665; 1.9302624f-5 0.0 … -0.020585503 -0.06322026;;; 0.0077429353 0.007467273 … 0.007256537 0.0045640697; 0.0062652524 0.28415692 … -0.09497401 0.007635389; … ; 0.0077593727 0.14665408 … 0.03850054 0.0071997624; 0.0 0.0077209957 … 0.0074801296 0.0074996054;;; -0.0 -0.0 … -0.0 -6.3241765f-5; -0.00022349296 -0.0013085833 … -0.00024260007 -0.0017526698; … ; -0.027295295 -0.0011171076 … -0.026658151 -0.0025716624; -0.020486498 0.015980465 … -0.038472336 -0.0011298908;;; 0.0 0.0 … 0.0 0.0; 0.0 0.0 … 0.0 0.0; … ; 0.0 0.0 … 0.0 0.0; 0.0 0.0 … -0.0009420084 0.0;;; -0.01622782 -0.02009582 … -0.012060572 -0.012612495; -0.012867361 -0.02378837 … -0.08278996 -0.058431175; … ; -0.008237734 -0.022718342 … -0.05730975 -0.07699882; -0.0064338506 -0.024252016 … -0.011344465 -0.051363677;;; -0.0021018183 0.00088214787 … 0.0 0.0; 0.0 0.0 … 0.0 0.0; … ; 0.0 0.0 … 0.0 0.0; 0.0 0.0 … 0.0 0.0;;;;], [0.0 7.925232f-6 … -0.0 9.830591f-6; 0.0 0.0 … 0.0 -0.0; … ; 0.0 0.0 … 0.0 0.0; 0.0 -0.0 … 0.0 0.0;;; -0.0 -0.0 … -0.0008450294 0.0; -0.0 -0.0 … 0.0058618584 0.00024379046; … ; -0.0 0.0 … 0.0 -0.0; -0.0 -0.0 … -0.0 0.0;;; -0.0 -0.0 … -0.0 0.0; 0.0 0.0 … 0.0020962358 0.0031121816; … ; 0.0 -0.00051151274 … -0.0057952134 -0.00037318823; -7.5990174f-5 -0.0 … -0.008675852 -0.004585634;;; 0.0005503019 0.0032952877 … -0.005542337 -0.00027387484; -0.015120238 0.019979246 … -0.017011987 0.014319013; … ; -0.0024336078 0.025067333 … 0.007072196 -0.0009814268; -0.0 -0.005688595 … -0.014945393 0.0023852354;;; 0.0 -0.0 … -0.0 0.00011485074; 0.00012907086 0.0016668761 … 0.0010258098 0.0026338757; … ; -0.007475559 0.0006121173 … -0.007277703 0.0019687472; -0.005129095 0.011562527 … -0.013956475 0.0021526078;;; -0.0 -0.0 … -0.0 0.0; 0.0 0.0 … 0.0 0.0; … ; -0.0 0.0 … 0.0 0.0; -0.0 -0.0 … -0.00013015671 0.0;;; -0.0017864058 0.0003169649 … 0.0016835764 -0.00097057637; -0.0011111647 -0.0056582983 … -0.008639718 -0.0025922505; … ; 0.00041224808 0.0065315072 … 0.0015926686 -0.006543302; 0.0019047569 9.395479f-5 … -0.0026203936 -0.0016568343;;; -0.0018648014 0.000709703 … 0.0 -0.0; -0.0 -0.0 … -0.0 0.0; … ; 0.0 0.0 … 0.0 -0.0; -0.0 -0.0 … 0.0 -0.0;;;;], Float32[0.0; 0.0; … ; -0.0; -0.0;;], Float32[-0.0; -0.0; … ; -0.0; -0.0;;], Float32[-0.006643441; -0.0; … ; -0.0; -0.0;;], Float32[0.0; 0.0; … ; 0.0; 0.0;;])"
     },
     "metadata": {},
     "execution_count": 9
    }
   ],
   "cell_type": "code",
   "source": [
    "input = rand(Float32, 32, 32, 3, 1) # dummy input for our convolutional neural network\n",
    "\n",
    "expl = analyze(input, analyzer; layerwise_relevances=true)\n",
    "expl.extras.layerwise_relevances"
   ],
   "metadata": {},
   "execution_count": 9
  },
  {
   "cell_type": "markdown",
   "source": [
    "Note that the layerwise relevances are only kept for layers in the outermost `Chain` of the model.\n",
    "When using our unflattened model, we only obtain three layerwise relevances,\n",
    "one for each chain in the model and the output relevance:"
   ],
   "metadata": {}
  },
  {
   "outputs": [
    {
     "output_type": "execute_result",
     "data": {
      "text/plain": "([0.057608467 -0.0024444934 … -0.0010260327 0.006953012; 0.0036564309 -0.07555498 … -0.015308188 0.002160954; … ; -0.01555925 0.033076774 … -0.2860619 0.34664458; -0.0021841982 0.00010188588 … -0.22649664 0.011092164;;; -0.0091954265 0.0441921 … 0.0051487414 0.0055994936; 0.043796137 -0.025837513 … 0.0048440564 0.009386129; … ; -0.0046189306 -0.0024240098 … 0.52894545 -0.19376037; 0.0097771995 0.0029976396 … 0.003034788 -0.058760937;;; -0.0031903873 -0.04203365 … 0.014060785 0.007244993; -0.012507892 0.017725391 … 0.19687082 -0.02733131; … ; 0.013058978 0.014659953 … -0.4322909 0.016067455; 0.010932021 -0.021651132 … -0.014534426 -0.0017721176;;;;], [0.0 0.029166887 … -0.0 -0.010965752; -0.0024792394 0.024046626 … -0.0 -0.003407388; … ; -0.0 -0.008402548 … -0.024944961 -0.07151566; 0.0 0.00052551227 … 0.0005276279 0.004442091;;; -0.027638396 0.0 … 0.003170335 -0.015168544; 0.003043744 0.0 … 0.016289879 -0.0006377289; … ; 0.01609979 0.0 … 0.0 0.0; -0.00010653389 0.0 … 0.0 -0.0;;; -0.0 -0.034220297 … -0.0036333336 0.002414738; 0.0073648137 0.007620822 … -0.014004369 0.0074045286; … ; -0.0030196463 -0.00011509738 … 0.12079244 0.12925225; -2.976531f-5 0.00070598937 … -0.0033668973 0.0001855978;;; 0.002360563 -0.0414792 … 0.02936413 0.005221228; -0.06140844 0.025380103 … -0.0 0.024559079; … ; 0.008281799 0.020656476 … -0.43060884 -0.0034427023; -0.00057133974 0.0006649748 … -0.0 -0.00017848717;;; -0.0 0.0 … 0.011293111 -0.0; 0.049898427 0.0 … 0.0 0.0; … ; 0.0 -0.0 … -0.0 -0.0; -0.0 -0.0 … -0.0 0.0010013349;;; -0.0 0.0 … -0.0 -0.0; -0.0026621849 0.0011622901 … 0.016200747 0.002600608; … ; -0.0 -0.002499459 … -0.018971775 0.0022010575; -0.0 -0.0 … -0.0054321457 -0.0018229831;;; 0.0 -0.0010350939 … -0.02016616 -0.0008667175; 0.0 -0.0 … 0.0 -0.010866559; … ; 0.0 0.0 … 0.0 -0.0; -0.0 -0.0 … -0.0 -0.0;;; 0.0 0.0 … 0.00830563 -0.0; -0.007474415 0.10360296 … 0.0020578573 0.0111460565; … ; 0.00012923744 0.0 … -0.010392796 0.078909166; -1.8527804f-6 0.012934793 … -0.00092581625 0.002483499;;;;], [0.0 0.042087525 … 0.0 -0.0017714384; 0.0 0.0 … 0.0 0.0; … ; 0.0 0.0 … 0.0 0.0; 0.0 0.0 … 0.0 0.0;;; 0.0 0.0 … 0.0 0.0; 0.0 -0.0057428526 … 0.0 0.03555291; … ; 0.0 -0.012052667 … 0.0 0.0; 0.0 0.0 … -0.012610952 0.0;;; -0.0062865186 0.0 … -0.0016618164 0.0; 0.0 0.0 … 0.0 0.0; … ; 0.0 0.0 … 0.0 -0.019130088; 0.0 0.004941963 … 0.0 0.0;;; 0.0 0.0 … 0.0 0.005378322; 0.0 0.0 … 0.0 0.0; … ; 0.0 0.0 … 0.0 0.0; 0.0 0.0 … 0.0 0.0;;; 0.0 0.0 … 0.0 -0.0036587869; 0.00381569 0.0 … 0.0 0.0; … ; 0.0 0.0 … 0.0 0.0; 0.007655247 0.0 … 0.011901232 0.0;;; 0.015845459 0.0 … 0.0 0.0; 0.0 0.0 … 0.0 0.0; … ; 0.0 0.0 … 1.12322095f-5 0.0; 0.0 -0.0007464927 … 0.0 0.0;;; 0.0 0.0 … 0.0 0.009138355; 0.0 -0.099536605 … 0.0 0.0; … ; 0.0 0.0 … 0.0 -0.010257765; 0.0 0.012283884 … 0.0 0.0;;; 0.0 0.0 … 0.0 0.0; 0.0 0.0 … 0.0 0.0; … ; 0.0 0.0 … 0.0 0.0; 0.020586973 0.0 … 0.0 0.0;;;;], [0.042087525 0.005559519 … 0.005341264 -0.0017714385; -0.0 -0.020113118 … 0.033833154 -0.0; … ; -0.0075130076 -0.0 … 0.12922929 -0.008479418; -0.0 0.0 … -0.013329281 0.0;;; -0.0057428526 -0.02512395 … -0.0013594053 0.03555291; 0.037889257 -0.1545875 … 0.01746218 0.00964297; … ; 0.034989655 -0.018865693 … 0.02373459 -0.03081534; -0.012052667 0.004488134 … 0.006312249 -0.012610952;;; -0.0062865186 -0.013385252 … 0.028416598 -0.0016618164; -0.012966929 -0.0 … -0.120905556 0.0038246282; … ; -0.0042789024 -0.0060271733 … -0.21907642 0.29794833; 0.004941963 0.0 … -0.0016199272 -0.019130088;;; 0.0 0.0 … -0.054025568 0.005378322; 0.0 -0.0 … -0.00244056 -0.0; … ; 0.0 -0.0 … -0.0 -0.05387306; -0.0 0.0 … -0.0 -0.0;;; 0.00381569 -0.0 … 0.031253215 -0.0036587869; -0.027576862 0.0 … 0.08685299 0.0; … ; 0.0028579866 0.0 … 0.07266777 -0.002469401; 0.007655247 0.010846249 … 0.0 0.011901232;;; 0.015845459 0.00076133176 … 0.0 0.0; -0.0 -0.0 … -0.047505524 -0.001797406; … ; -0.0 -0.011331061 … 0.0 0.0; -0.00074649276 -0.0075221346 … 0.0 1.1232211f-5;;; -0.099536605 -0.07318943 … 0.005644946 0.009138355; 0.13719536 0.0030925944 … 0.065701045 0.080886975; … ; 0.03394099 0.093749575 … 0.0006493629 -0.090359285; 0.012283884 0.0018519155 … 0.005269466 -0.010257765;;; 0.0 -0.0 … 0.0 0.0; 0.0472456 -0.0 … 0.0 -0.0; … ; -0.005984474 -0.0 … -0.0 0.0; 0.020586973 -0.0 … -0.0038447701 0.0;;;;], [-0.0 -0.0 … -0.0 -0.0; 0.061308216 0.0 … -0.0 -0.0; … ; 0.0023244836 0.0 … 0.012800818 0.0; 0.00110945 0.0 … 0.0 0.0;;; 0.001213996 -0.0 … 0.018953912 0.006744818; -0.012255505 -0.0055570854 … -0.030979056 0.010448624; … ; 0.0019992283 -0.0006222411 … -0.01682741 -0.0012151373; -0.0005600673 0.003781109 … -0.0 0.008192586;;; -0.0007438716 -0.0 … -0.0 0.0; 0.008934846 0.0 … -0.004292091 -0.0; … ; -0.0 0.0 … -0.021267176 0.0; -0.0 -0.0 … 0.025520954 -0.00021633487;;; … ;;; -0.00057530677 -0.03298339 … 0.0005452855 -0.0; 0.0 0.0 … 0.0059322505 -0.029393148; … ; -0.0 -0.0 … 0.0017142135 0.0047894735; -0.0 -0.0 … 0.000600756 0.004196533;;; -0.00436639 -0.06318254 … 0.03238701 0.0016160617; -0.015979223 -0.11361527 … 0.0071662697 0.025758816; … ; 0.023206467 0.023668533 … -0.014889372 0.021266097; 0.0056462837 0.021843508 … 0.006919294 0.011754494;;; 0.0 0.0 … -0.0 -0.0; 0.0 -0.0 … -0.0 -0.0; … ; 0.0 0.0 … -0.0 0.0070147086; 0.0 -0.0 … -0.0 -0.0;;;;], [-0.0 0.00030366873 … -0.0 -0.00012935042; -0.0 -0.0 … -0.0 -0.0; … ; -0.0 -0.0 … -0.0 -0.0; -0.0 -0.0 … -0.0 -0.0;;; -0.0 -0.0 … 0.008435834 -0.0; -0.0 -0.0 … 0.0026515336 -3.5798177f-5; … ; -0.0 -0.0 … -0.0 -0.0; -0.0 -0.0 … -0.0 -0.0;;; -0.0 -0.0 … -0.0 -0.0; -0.0 -0.0 … 0.017713152 0.028260162; … ; -0.0 0.012856877 … -0.026655938 0.008349034; -2.2639551f-5 -0.0 … -0.008213903 -0.10577623;;; 0.03526979 0.027701883 … 0.025748342 0.012765536; 0.0469061 -0.14473212 … -0.0066302796 0.0377139; … ; 0.034051344 0.059582666 … 0.029903123 0.041963033; 0.0 0.036009967 … 0.03961945 0.039417703;;; -0.0 -0.0 … -0.0 -0.00010588976; -0.00036178078 -0.0018893605 … -0.0003913591 -0.002467244; … ; -0.021624168 -0.0016343831 … -0.025855668 -0.003498107; -0.0090631815 -0.0023302005 … -0.027007833 -0.023143154;;; 0.0 0.0 … 0.0 0.0; 0.0 0.0 … 0.0 0.0; … ; 0.0 0.0 … 0.0 0.0; 0.0 0.0 … -0.0002653849 0.0;;; 0.002602132 0.0031510468 … 0.044076193 0.0020650637; 0.0021036994 0.0036509777 … -0.015953917 -0.027464597; … ; 0.0013831983 -0.0179887 … 0.0074465354 0.0024657324; 0.0010915766 0.0037121202 … 0.0018710745 0.04707753;;; -0.0016666935 0.00039976143 … -0.0 -0.0; -0.0 -0.0 … -0.0 -0.0; … ; -0.0 -0.0 … -0.0 -0.0; -0.0 -0.0 … -0.0 -0.0;;;;], [0.0 8.799298f-5 … -0.0 -8.6464956f-5; 0.0 0.0 … -0.0 -0.0; … ; 0.0 0.0 … 0.0 -0.0; 0.0 -0.0 … -0.0 0.0;;; -0.0 -0.0 … 0.0076673683 -0.0; 0.0 0.0 … 0.004277601 0.00012009001; … ; -0.0 0.0 … -0.0 -0.0; -0.0 0.0 … -0.0 0.0;;; 0.0 -0.0 … 0.0 0.0; -0.0 -0.0 … 0.0037889848 0.003612116; … ; -0.0 0.0044930372 … -0.0042545446 0.0020475003; 0.0 0.0 … -0.00324362 -0.007643011;;; -0.0047435723 0.0083815865 … 0.004966231 -0.0014031425; 0.007732593 -0.014313296 … -0.012560118 0.010719847; … ; -0.017372956 -0.00048697344 … -0.005992366 0.0012714742; 0.0 0.008326679 … -0.004440918 -0.004691831;;; 0.0 -0.0 … -0.0 0.0; 7.0994196f-5 0.0032758834 … -2.4982854f-5 0.0016684257; … ; -0.004712256 0.0042029554 … -0.0063158246 0.004550358; 0.00033886023 0.0040842057 … -0.007164669 -0.005219571;;; -0.0 -0.0 … -0.0 0.0; 0.0 0.0 … 0.0 0.0; … ; -0.0 -0.0 … 0.0 0.0; -0.0 0.0 … -3.692055f-5 0.0;;; -0.0012903998 -0.0022623087 … 0.00283412 -0.0013805589; 0.00096756715 0.00018514771 … -0.0045663593 -0.0040300554; … ; 0.0017466723 -0.006783713 … -2.2274504f-5 -0.0024018548; 0.0006460348 0.0011913748 … -0.0003478617 0.010983741;;; -0.0016764147 0.00030782606 … 0.0 -0.0; 0.0 -0.0 … -0.0 0.0; … ; -0.0 0.0 … -0.0 -0.0; 0.0 -0.0 … 0.0 -0.0;;;;], Float32[0.0; 0.0; … ; -0.0; -0.0;;], Float32[-0.0; -0.0; … ; -0.0; -0.0;;], Float32[-0.0063104387; -0.0005387505; … ; -0.0; -0.0;;], Float32[0.0; 0.0; … ; 0.0; 0.0;;])"
     },
     "metadata": {},
     "execution_count": 10
    }
   ],
   "cell_type": "code",
   "source": [
    "analyzer = LRP(model; flatten=false) # use unflattened model\n",
    "\n",
    "expl = analyze(input, analyzer; layerwise_relevances=true)\n",
    "expl.extras.layerwise_relevances"
   ],
   "metadata": {},
   "execution_count": 10
  },
  {
   "cell_type": "markdown",
   "source": [
    "## Performance tips\n",
    "### Using LRP without a GPU\n",
    "Since ExplainableAI.jl's LRP implementation makes use of\n",
    "[Tullio.jl](https://github.com/mcabbott/Tullio.jl),\n",
    "analysis can be accelerated by loading either\n",
    "- a package from the [JuliaGPU](https://juliagpu.org) ecosystem,\n",
    "  e.g. [CUDA.jl](https://github.com/JuliaGPU/CUDA.jl), if a GPU is available\n",
    "- [LoopVectorization.jl](https://github.com/JuliaSIMD/LoopVectorization.jl)\n",
    "  if only a CPU is available.\n",
    "\n",
    "This only requires loading the LoopVectorization.jl package before ExplainableAI.jl:\n",
    "```julia\n",
    "using LoopVectorization\n",
    "using ExplainableAI\n",
    "```\n",
    "\n",
    "[^1]: G. Montavon et al., [Layer-Wise Relevance Propagation: An Overview](https://link.springer.com/chapter/10.1007/978-3-030-28954-6_10)"
   ],
   "metadata": {}
  },
  {
   "cell_type": "markdown",
   "source": [
    "---\n",
    "\n",
    "*This notebook was generated using [Literate.jl](https://github.com/fredrikekre/Literate.jl).*"
   ],
   "metadata": {}
  }
 ],
 "nbformat_minor": 3,
 "metadata": {
  "language_info": {
   "file_extension": ".jl",
   "mimetype": "application/julia",
   "name": "julia",
   "version": "1.9.3"
  },
  "kernelspec": {
   "name": "julia-1.9",
   "display_name": "Julia 1.9.3",
   "language": "julia"
  }
 },
 "nbformat": 4
}
