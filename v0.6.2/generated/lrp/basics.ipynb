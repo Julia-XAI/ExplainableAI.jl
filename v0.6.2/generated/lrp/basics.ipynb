{
 "cells": [
  {
   "cell_type": "markdown",
   "source": [
    "# Basic usage of LRP\n",
    "This example will show you best practices for using LRP,\n",
    "building on the basics shown in the *Getting started* section."
   ],
   "metadata": {}
  },
  {
   "cell_type": "markdown",
   "source": [
    "We start out by loading a small convolutional neural network:"
   ],
   "metadata": {}
  },
  {
   "outputs": [],
   "cell_type": "code",
   "source": [
    "using ExplainableAI\n",
    "using Flux\n",
    "\n",
    "model = Chain(\n",
    "    Chain(\n",
    "        Conv((3, 3), 3 => 8, relu; pad=1),\n",
    "        Conv((3, 3), 8 => 8, relu; pad=1),\n",
    "        MaxPool((2, 2)),\n",
    "        Conv((3, 3), 8 => 16; pad=1),\n",
    "        BatchNorm(16, relu),\n",
    "        Conv((3, 3), 16 => 8, relu; pad=1),\n",
    "        BatchNorm(8, relu),\n",
    "    ),\n",
    "    Chain(\n",
    "        Flux.flatten,\n",
    "        Dense(2048 => 512, relu),\n",
    "        Dropout(0.5),\n",
    "        Dense(512 => 100, softmax)\n",
    "    ),\n",
    ");"
   ],
   "metadata": {},
   "execution_count": 1
  },
  {
   "cell_type": "markdown",
   "source": [
    "This model contains two chains: the convolutional layers and the fully connected layers."
   ],
   "metadata": {}
  },
  {
   "cell_type": "markdown",
   "source": [
    "## Model preparation\n",
    "### Stripping the output softmax\n",
    "When using LRP, it is recommended to explain output logits instead of probabilities.\n",
    "This can be done by stripping the output softmax activation from the model\n",
    "using the `strip_softmax` function:"
   ],
   "metadata": {}
  },
  {
   "outputs": [
    {
     "output_type": "execute_result",
     "data": {
      "text/plain": "Chain(\n  Chain(\n    Conv((3, 3), 3 => 8, relu, pad=1),  \u001b[90m# 224 parameters\u001b[39m\n    Conv((3, 3), 8 => 8, relu, pad=1),  \u001b[90m# 584 parameters\u001b[39m\n    MaxPool((2, 2)),\n    Conv((3, 3), 8 => 16, pad=1),       \u001b[90m# 1_168 parameters\u001b[39m\n    BatchNorm(16, relu),                \u001b[90m# 32 parameters\u001b[39m\u001b[90m, plus 32\u001b[39m\n    Conv((3, 3), 16 => 8, relu, pad=1),  \u001b[90m# 1_160 parameters\u001b[39m\n    BatchNorm(8, relu),                 \u001b[90m# 16 parameters\u001b[39m\u001b[90m, plus 16\u001b[39m\n  ),\n  Chain(\n    Flux.flatten,\n    Dense(2048 => 512, relu),           \u001b[90m# 1_049_088 parameters\u001b[39m\n    Dropout(0.5),\n    Dense(512 => 100),                  \u001b[90m# 51_300 parameters\u001b[39m\n  ),\n) \u001b[90m        # Total: 16 trainable arrays, \u001b[39m1_103_572 parameters,\n\u001b[90m          # plus 4 non-trainable, 48 parameters, summarysize \u001b[39m4.213 MiB."
     },
     "metadata": {},
     "execution_count": 2
    }
   ],
   "cell_type": "code",
   "source": [
    "model = strip_softmax(model)"
   ],
   "metadata": {},
   "execution_count": 2
  },
  {
   "cell_type": "markdown",
   "source": [
    "If you don't remove the output softmax,\n",
    "model checks will fail."
   ],
   "metadata": {}
  },
  {
   "cell_type": "markdown",
   "source": [
    "### Canonizing the model\n",
    "LRP is not invariant to a model's implementation.\n",
    "Applying the `GammaRule` to two linear layers in a row will yield different results\n",
    "than first fusing the two layers into one linear layer and then applying the rule.\n",
    "This fusing is called \"canonization\" and can be done using the `canonize` function:"
   ],
   "metadata": {}
  },
  {
   "outputs": [
    {
     "output_type": "execute_result",
     "data": {
      "text/plain": "Chain(\n  Conv((3, 3), 3 => 8, relu, pad=1),    \u001b[90m# 224 parameters\u001b[39m\n  Conv((3, 3), 8 => 8, relu, pad=1),    \u001b[90m# 584 parameters\u001b[39m\n  MaxPool((2, 2)),\n  Conv((3, 3), 8 => 16, relu, pad=1),   \u001b[90m# 1_168 parameters\u001b[39m\n  Conv((3, 3), 16 => 8, relu, pad=1),   \u001b[90m# 1_160 parameters\u001b[39m\n  BatchNorm(8, relu),                   \u001b[90m# 16 parameters\u001b[39m\u001b[90m, plus 16\u001b[39m\n  Flux.flatten,\n  Dense(2048 => 512, relu),             \u001b[90m# 1_049_088 parameters\u001b[39m\n  Dropout(0.5),\n  Dense(512 => 100),                    \u001b[90m# 51_300 parameters\u001b[39m\n) \u001b[90m        # Total: 14 trainable arrays, \u001b[39m1_103_540 parameters,\n\u001b[90m          # plus 2 non-trainable, 16 parameters, summarysize \u001b[39m4.212 MiB."
     },
     "metadata": {},
     "execution_count": 3
    }
   ],
   "cell_type": "code",
   "source": [
    "model_canonized = canonize(model)"
   ],
   "metadata": {},
   "execution_count": 3
  },
  {
   "cell_type": "markdown",
   "source": [
    "After canonization, the first `BatchNorm` layer has been fused into the preceding `Conv` layer.\n",
    "The second `BatchNorm` layer wasn't fused\n",
    "since its preceding `Conv` layer has a ReLU activation function."
   ],
   "metadata": {}
  },
  {
   "cell_type": "markdown",
   "source": [
    "### Flattening the model\n",
    "ExplainableAI.jl's LRP implementation supports nested Flux Chains and Parallel layers.\n",
    "However, it is recommended to flatten the model before analyzing it.\n",
    "\n",
    "LRP is implemented by first running a forward pass through the model,\n",
    "keeping track of the intermediate activations, followed by a backward pass\n",
    "that computes the relevances.\n",
    "\n",
    "To keep the LRP implementation simple and maintainable,\n",
    "ExplainableAI.jl does not pre-compute \"nested\" activations.\n",
    "Instead, for every internal chain, a new forward pass is run to compute activations.\n",
    "\n",
    "By \"flattening\" a model, this overhead can be avoided.\n",
    "For this purpose, ExplainableAI.jl provides the function `flatten_model`:"
   ],
   "metadata": {}
  },
  {
   "outputs": [
    {
     "output_type": "execute_result",
     "data": {
      "text/plain": "Chain(\n  Conv((3, 3), 3 => 8, relu, pad=1),    \u001b[90m# 224 parameters\u001b[39m\n  Conv((3, 3), 8 => 8, relu, pad=1),    \u001b[90m# 584 parameters\u001b[39m\n  MaxPool((2, 2)),\n  Conv((3, 3), 8 => 16, pad=1),         \u001b[90m# 1_168 parameters\u001b[39m\n  BatchNorm(16, relu),                  \u001b[90m# 32 parameters\u001b[39m\u001b[90m, plus 32\u001b[39m\n  Conv((3, 3), 16 => 8, relu, pad=1),   \u001b[90m# 1_160 parameters\u001b[39m\n  BatchNorm(8, relu),                   \u001b[90m# 16 parameters\u001b[39m\u001b[90m, plus 16\u001b[39m\n  Flux.flatten,\n  Dense(2048 => 512, relu),             \u001b[90m# 1_049_088 parameters\u001b[39m\n  Dropout(0.5),\n  Dense(512 => 100),                    \u001b[90m# 51_300 parameters\u001b[39m\n) \u001b[90m        # Total: 16 trainable arrays, \u001b[39m1_103_572 parameters,\n\u001b[90m          # plus 4 non-trainable, 48 parameters, summarysize \u001b[39m4.212 MiB."
     },
     "metadata": {},
     "execution_count": 4
    }
   ],
   "cell_type": "code",
   "source": [
    "model_flat = flatten_model(model)"
   ],
   "metadata": {},
   "execution_count": 4
  },
  {
   "cell_type": "markdown",
   "source": [
    "This function is called by default when creating an LRP analyzer.\n",
    "Note that we pass the unflattened model to the analyzer, but `analyzer.model` is flattened:"
   ],
   "metadata": {}
  },
  {
   "outputs": [
    {
     "output_type": "execute_result",
     "data": {
      "text/plain": "Chain(\n  Conv((3, 3), 3 => 8, relu, pad=1),    \u001b[90m# 224 parameters\u001b[39m\n  Conv((3, 3), 8 => 8, relu, pad=1),    \u001b[90m# 584 parameters\u001b[39m\n  MaxPool((2, 2)),\n  Conv((3, 3), 8 => 16, pad=1),         \u001b[90m# 1_168 parameters\u001b[39m\n  BatchNorm(16, relu),                  \u001b[90m# 32 parameters\u001b[39m\u001b[90m, plus 32\u001b[39m\n  Conv((3, 3), 16 => 8, relu, pad=1),   \u001b[90m# 1_160 parameters\u001b[39m\n  BatchNorm(8, relu),                   \u001b[90m# 16 parameters\u001b[39m\u001b[90m, plus 16\u001b[39m\n  Flux.flatten,\n  Dense(2048 => 512, relu),             \u001b[90m# 1_049_088 parameters\u001b[39m\n  Dropout(0.5),\n  Dense(512 => 100),                    \u001b[90m# 51_300 parameters\u001b[39m\n) \u001b[90m        # Total: 16 trainable arrays, \u001b[39m1_103_572 parameters,\n\u001b[90m          # plus 4 non-trainable, 48 parameters, summarysize \u001b[39m4.212 MiB."
     },
     "metadata": {},
     "execution_count": 5
    }
   ],
   "cell_type": "code",
   "source": [
    "analyzer = LRP(model)\n",
    "analyzer.model"
   ],
   "metadata": {},
   "execution_count": 5
  },
  {
   "cell_type": "markdown",
   "source": [
    "If this flattening is not desired, it can be disabled\n",
    "by passing the keyword argument `flatten=false` to the `LRP` constructor."
   ],
   "metadata": {}
  },
  {
   "cell_type": "markdown",
   "source": [
    "## LRP rules\n",
    "By default, the `LRP` constructor will assign the `ZeroRule` to all layers."
   ],
   "metadata": {}
  },
  {
   "outputs": [
    {
     "output_type": "execute_result",
     "data": {
      "text/plain": "LRP(\n  Conv((3, 3), 3 => 8, relu, pad=1) \u001b[90m => \u001b[39m\u001b[33mZeroRule()\u001b[39m,\n  Conv((3, 3), 8 => 8, relu, pad=1) \u001b[90m => \u001b[39m\u001b[33mZeroRule()\u001b[39m,\n  MaxPool((2, 2))                   \u001b[90m => \u001b[39m\u001b[33mZeroRule()\u001b[39m,\n  Conv((3, 3), 8 => 16, pad=1)      \u001b[90m => \u001b[39m\u001b[33mZeroRule()\u001b[39m,\n  BatchNorm(16, relu)               \u001b[90m => \u001b[39m\u001b[33mZeroRule()\u001b[39m,\n  Conv((3, 3), 16 => 8, relu, pad=1)\u001b[90m => \u001b[39m\u001b[33mZeroRule()\u001b[39m,\n  BatchNorm(8, relu)                \u001b[90m => \u001b[39m\u001b[33mZeroRule()\u001b[39m,\n  Flux.flatten                      \u001b[90m => \u001b[39m\u001b[33mZeroRule()\u001b[39m,\n  Dense(2048 => 512, relu)          \u001b[90m => \u001b[39m\u001b[33mZeroRule()\u001b[39m,\n  Dropout(0.5)                      \u001b[90m => \u001b[39m\u001b[33mZeroRule()\u001b[39m,\n  Dense(512 => 100)                 \u001b[90m => \u001b[39m\u001b[33mZeroRule()\u001b[39m,\n)"
     },
     "metadata": {},
     "execution_count": 6
    }
   ],
   "cell_type": "code",
   "source": [
    "LRP(model)"
   ],
   "metadata": {},
   "execution_count": 6
  },
  {
   "cell_type": "markdown",
   "source": [
    "This analyzer will return heatmaps that look identical to `InputTimesGradient`."
   ],
   "metadata": {}
  },
  {
   "cell_type": "markdown",
   "source": [
    "LRP's strength lies in assigning different rules to different layers,\n",
    "based on their functionality in the neural network[^1].\n",
    "ExplainableAI.jl implements many LRP rules out of the box,\n",
    "but it is also possible to *implement custom rules*.\n",
    "\n",
    "To assign different rules to different layers,\n",
    "use one of the composites presets,\n",
    "or create your own composite, as described in\n",
    "*Assigning rules to layers*."
   ],
   "metadata": {}
  },
  {
   "outputs": [
    {
     "output_type": "execute_result",
     "data": {
      "text/plain": "Composite(\n  GlobalTypeMap(  \u001b[90m# all layers\u001b[39m\n\u001b[94m    Flux.Conv              \u001b[39m => \u001b[33mZPlusRule()\u001b[39m,\n\u001b[94m    Flux.ConvTranspose     \u001b[39m => \u001b[33mZPlusRule()\u001b[39m,\n\u001b[94m    Flux.CrossCor          \u001b[39m => \u001b[33mZPlusRule()\u001b[39m,\n\u001b[94m    Flux.Dense             \u001b[39m => \u001b[33mEpsilonRule{Float32}(1.0f-6)\u001b[39m,\n\u001b[94m    typeof(NNlib.dropout)  \u001b[39m => \u001b[33mPassRule()\u001b[39m,\n\u001b[94m    Flux.AlphaDropout      \u001b[39m => \u001b[33mPassRule()\u001b[39m,\n\u001b[94m    Flux.Dropout           \u001b[39m => \u001b[33mPassRule()\u001b[39m,\n\u001b[94m    Flux.BatchNorm         \u001b[39m => \u001b[33mPassRule()\u001b[39m,\n\u001b[94m    typeof(Flux.flatten)   \u001b[39m => \u001b[33mPassRule()\u001b[39m,\n\u001b[94m    typeof(MLUtils.flatten)\u001b[39m => \u001b[33mPassRule()\u001b[39m,\n\u001b[94m    typeof(identity)       \u001b[39m => \u001b[33mPassRule()\u001b[39m,\n ),\n  FirstLayerTypeMap(  \u001b[90m# first layer\u001b[39m\n\u001b[94m    Flux.Conv         \u001b[39m => \u001b[33mFlatRule()\u001b[39m,\n\u001b[94m    Flux.ConvTranspose\u001b[39m => \u001b[33mFlatRule()\u001b[39m,\n\u001b[94m    Flux.CrossCor     \u001b[39m => \u001b[33mFlatRule()\u001b[39m,\n ),\n)"
     },
     "metadata": {},
     "execution_count": 7
    }
   ],
   "cell_type": "code",
   "source": [
    "composite = EpsilonPlusFlat() # using composite preset EpsilonPlusFlat"
   ],
   "metadata": {},
   "execution_count": 7
  },
  {
   "outputs": [
    {
     "output_type": "execute_result",
     "data": {
      "text/plain": "LRP(\n  Conv((3, 3), 3 => 8, relu, pad=1) \u001b[90m => \u001b[39m\u001b[33mFlatRule()\u001b[39m,\n  Conv((3, 3), 8 => 8, relu, pad=1) \u001b[90m => \u001b[39m\u001b[33mZPlusRule()\u001b[39m,\n  MaxPool((2, 2))                   \u001b[90m => \u001b[39m\u001b[33mZeroRule()\u001b[39m,\n  Conv((3, 3), 8 => 16, pad=1)      \u001b[90m => \u001b[39m\u001b[33mZPlusRule()\u001b[39m,\n  BatchNorm(16, relu)               \u001b[90m => \u001b[39m\u001b[33mPassRule()\u001b[39m,\n  Conv((3, 3), 16 => 8, relu, pad=1)\u001b[90m => \u001b[39m\u001b[33mZPlusRule()\u001b[39m,\n  BatchNorm(8, relu)                \u001b[90m => \u001b[39m\u001b[33mPassRule()\u001b[39m,\n  Flux.flatten                      \u001b[90m => \u001b[39m\u001b[33mPassRule()\u001b[39m,\n  Dense(2048 => 512, relu)          \u001b[90m => \u001b[39m\u001b[33mEpsilonRule{Float32}(1.0f-6)\u001b[39m,\n  Dropout(0.5)                      \u001b[90m => \u001b[39m\u001b[33mPassRule()\u001b[39m,\n  Dense(512 => 100)                 \u001b[90m => \u001b[39m\u001b[33mEpsilonRule{Float32}(1.0f-6)\u001b[39m,\n)"
     },
     "metadata": {},
     "execution_count": 8
    }
   ],
   "cell_type": "code",
   "source": [
    "LRP(model, composite)"
   ],
   "metadata": {},
   "execution_count": 8
  },
  {
   "cell_type": "markdown",
   "source": [
    "## Computing layerwise relevances\n",
    "If you are interested in computing layerwise relevances,\n",
    "call `analyze` with an LRP analyzer and the keyword argument\n",
    "`layerwise_relevances=true`.\n",
    "\n",
    "The layerwise relevances can be accessed in the `extras` field\n",
    "of the returned `Explanation`:"
   ],
   "metadata": {}
  },
  {
   "outputs": [
    {
     "output_type": "execute_result",
     "data": {
      "text/plain": "([0.39761844 -1.2546166 … -1.097269 -0.063439675; -0.23898165 -0.08174586 … 0.54011506 -0.4738928; … ; 1.2162471 1.644857 … 0.025789004 -0.6100267; -1.186326 -0.10977336 … 0.3446736 0.2619759;;; -2.0205297 -1.1887667 … -0.873953 -0.5925752; -0.28782412 -1.6583617 … -1.4177228 -0.4612715; … ; 0.12604173 -0.57455647 … 0.17882277 1.3473971; -0.20961574 -0.15512387 … 0.7492422 0.03001404;;; 0.750266 -0.48867095 … -0.6932402 0.13480611; -0.19146849 -1.209107 … 1.5623688 -0.64530843; … ; -0.23831034 -6.0386057 … 1.1654398 -0.46376505; -0.6676929 1.3087633 … -2.1540337 0.31742075;;;;], [0.0 0.0 … -0.0 0.0; -0.0 -0.0 … -0.0 0.0; … ; 0.0 0.0 … -0.0 0.0; -0.0 -0.0 … 0.0 0.12396615;;; 0.0 0.0 … 0.0 -0.0; 0.5221635 -0.0 … 0.0 -0.3420289; … ; -0.93681794 0.0 … -0.0 0.2337508; 0.201953 -0.26929724 … 0.0 -0.10123197;;; 0.008115336 -2.871752 … 0.23360303 -0.387117; -0.30093527 0.0 … 0.17949401 0.36261094; … ; -0.21721429 0.029019373 … 1.6490941 0.34249035; -0.117293246 -0.2994694 … -0.75812197 0.055232823;;; -0.037222862 0.4207879 … -0.43939024 -0.0; -0.25279328 0.0 … -0.8025613 -0.0; … ; -0.19522491 -0.0 … -0.78078175 0.0; 0.0 0.0 … 0.0 0.0;;; -0.0 0.0 … -0.0 0.0; 0.03530696 0.0 … -0.0 -0.0; … ; 0.0 -0.0 … 0.0 -0.0; -0.0 -0.0 … -0.0 -0.0;;; 0.15858844 -2.4975197 … -0.06694695 0.0; -0.72136325 -0.0 … 0.11072591 -0.0; … ; 0.09247736 0.0016533249 … 0.08200574 0.0; -1.8455653 0.0 … -0.058449797 0.0;;; -0.0 -0.0 … 0.0 -0.0; -0.0 0.0 … 0.0 0.0; … ; 0.0 0.0 … -0.0 0.0; 0.0 -0.0 … 0.0 -0.0;;; 0.208182 0.76577556 … 0.13922532 0.0; -1.7289244 -2.814435 … -0.66265535 -0.4875208; … ; -0.5711103 0.0 … -1.0334692 -0.45852894; 0.0 -0.1391227 … -0.91892344 -0.1357793;;;;], [0.0 0.0404343 … -0.13985322 0.0; 0.0 0.0 … 0.0 0.0; … ; 0.0 -0.7643352 … 0.0 -1.34656; 0.0 0.0 … 0.0 0.0;;; 0.0 0.0 … 0.0 0.0; 0.0 -7.636025 … -1.5053341 0.0; … ; 0.0 0.0 … 0.0 0.8669789; 0.0 -0.32973272 … 0.0 0.0;;; 0.0 0.0 … 0.0 0.0; 0.0 0.0 … 0.0 0.0; … ; 0.0 0.0 … 0.0 0.0; 0.0 0.0 … 0.0 0.0;;; 0.0 0.0 … 0.0 0.0; -0.45900756 0.0 … -0.5945612 0.0; … ; 0.0 0.0 … 0.0 0.0; 0.0 -0.6922725 … 0.0 -0.62326425;;; 0.0 0.0 … 0.0 0.0; 1.8974435 0.0 … 0.0 0.34184697; … ; -1.3759658 0.0 … 0.0 0.0; 0.0 0.0 … -2.1273088 0.0;;; 0.0 0.0 … 0.0 0.0; 0.0040340084 0.0 … 0.0 -0.29566938; … ; 0.0 0.0 … 0.0 0.0035498897; 0.0 -1.4624367 … 0.0 0.0;;; 0.0 0.0 … 0.0 0.0; 0.0 0.0 … 0.0 0.0; … ; 0.0 -0.03923588 … 0.0 0.0; 0.0 0.0 … 0.0 -0.082754694;;; 0.0 0.0 … 0.0 0.0; 0.0 0.0 … 0.0 0.0; … ; 0.0 -0.038555183 … 0.0 0.0; 0.0 0.0 … 0.0 -0.04873492;;;;], [0.0404343 -0.9833816 … -1.5209776 -0.13985322; -1.1910193 -0.09972452 … 0.50559676 2.518435; … ; -0.4537341 -3.1022358 … -0.3895558 -1.1598694; -0.7643352 -0.9848752 … -1.8999146 -1.34656;;; -7.636025 -1.085078 … -6.486867 -1.5053341; 1.3008317 -3.7859826 … 2.7906394 -1.3046548; … ; -0.54283684 -1.3215908 … -0.14254339 -3.8631024; -0.32973272 -2.801768 … -0.37607658 0.8669789;;; 0.0 -0.0 … 0.0 -0.0; -0.01813926 0.0 … 0.0 -0.0; … ; -0.0 0.0 … -0.0 0.0; -0.0 -0.0 … -0.0 0.0;;; -0.45900756 -0.0 … -2.4434834 -0.5945612; -0.0 -0.0 … 0.0 0.0; … ; -0.0 -0.0 … -0.0 -0.0; -0.6922725 -3.0861068 … -0.8674914 -0.62326425;;; 1.8974435 -3.01615 … 1.9313049 0.34184697; -4.140206 0.75662327 … 19.327106 -7.019438; … ; 0.26643696 0.020212552 … -2.394117 0.07661414; -1.3759658 0.7884354 … -2.4278219 -2.1273088;;; 0.0040340084 -1.0636629 … 0.60518765 -0.29566938; 0.769747 -1.5581061 … 5.520058 -3.774055; … ; -0.7429308 0.33801335 … 1.4014262 0.8538127; -1.4624367 -0.0 … 0.0 0.0035498897;;; -0.0 -0.0 … -0.0 -0.0; 0.17778558 0.2669713 … -0.0 2.1300497; … ; -0.10127375 0.10450175 … -0.14552897 -0.3253392; -0.039235882 0.0 … -0.11658914 -0.082754694;;; -0.0 0.0 … 0.0 0.0; -0.0 -0.0 … 0.0 -0.0; … ; -0.0 0.0 … -0.0 -0.0; -0.038555186 -0.0 … -0.0 -0.048734922;;;;], [-0.0017475082 0.010255865 … 0.027853634 -0.0017631083; 0.010274489 0.02901051 … 0.005614961 0.005428681; … ; 0.005149277 -0.006042652 … 0.0040332545 0.011427957; -0.022565108 -0.115540095 … -0.05842708 0.011125974;;; -6.007146f-5 -9.720698f-5 … 0.0030803888 -0.00011868905; -3.1100397f-5 -5.2228475f-5 … 0.00018802282 -0.00012216518; … ; -4.0336683f-5 -0.000105128034 … 0.00014716752 -9.042422f-5; -0.00011344412 -0.00012291603 … -0.000120812845 -0.008714622;;; -0.0021176294 0.00010399715 … -0.0005440529 -0.0004473778; -0.004738822 0.00042000442 … -0.00012197682 -0.0006701617; … ; -0.00041667864 -0.00018571221 … 0.0013206108 -0.0006433093; -0.0011308506 -3.389589f-5 … -0.00059312634 -0.00056654937;;; … ;;; -3.4899242 -0.5522203 … -10.694173 -5.2741785; -1.4034837 -9.142044 … -7.8863816 -2.7588766; … ; -3.8439443 -4.2130837 … -3.7072306 -6.3371177; -1.1267395 -3.7074888 … -2.759391 -1.7292885;;; 0.0037351972 0.4028231 … 0.111582704 0.61948425; 0.0074822856 0.081892565 … 0.61795366 0.13582835; … ; 0.09245741 0.29673854 … 0.08839416 -0.03187812; 0.17544784 0.3277378 … 0.10717425 -0.053795695;;; -0.56958795 -0.6027399 … 0.20946442 -0.58605134; -0.55237085 -0.45911255 … -0.6112322 -0.31646743; … ; -0.17841154 1.058777 … -0.5518432 -0.23701338; -0.16558106 -0.5117793 … -0.6101831 -0.37800074;;;;], [0.0023534696 0.0 … 0.14791265 0.0347662; 0.0 0.11885918 … 0.0 0.0; … ; 0.0 0.0 … 0.0429545 0.0; 0.0 0.0 … 0.0 0.0;;; 0.0 -0.0 … 0.02012349 -0.0; 0.0 0.0 … 0.0 -0.0; … ; -0.0 0.0 … 0.0 0.0; -0.0 -0.0 … -0.0 -0.040870726;;; -0.02126348 -0.0 … -0.0 0.0; -0.031131038 -0.0 … -0.0 0.0; … ; -0.0 -0.0 … -0.0 0.0; -0.01466111 -0.0 … -0.0 0.0;;; … ;;; -0.23104794 -0.025095152 … -0.24886341 -0.030299494; -0.12949593 -0.5708696 … -0.39813262 -0.119632386; … ; -0.34938067 -0.16849594 … -0.22880402 -0.16073354; -0.048967555 -0.24676682 … -0.12485885 -0.009681395;;; -0.0 0.0 … 0.0 0.0; 0.005145258 -0.0062134974 … -0.05315045 -0.051194977; … ; -0.039605983 -0.029675428 … -0.023329617 -0.010261791; 0.0045327162 -0.14858085 … -0.12549852 -0.03193916;;; -0.02489883 0.027927574 … 0.1476507 0.07901573; 0.09254217 0.057754494 … 0.12720582 0.044115853; … ; 0.014590395 0.15032166 … -0.0068328814 0.06755953; -0.011668887 -0.005243056 … -0.11938432 0.03205268;;;;], [0.0 0.0 … 0.0012956071 0.0; 0.0 0.0 … 0.0 -0.009269593; … ; 0.0 0.0 … 0.0 0.0016025428; 0.0051051658 0.00919704 … 0.017709658 0.0;;; -0.0 -0.0 … -0.0 -0.0; -0.0074735694 -0.0 … -0.0 -0.0; … ; -0.0 -0.0 … -0.0070587383 -0.0; -0.0 -0.0 … -0.0 -0.023305709;;; 0.00018652766 0.0 … 0.00010435051 0.0; 0.0 0.0002139984 … -0.030258903 0.00021782855; … ; 0.0 0.0 … -0.02645724 -0.0060274294; 0.0 0.0 … 0.00019544194 -0.01749088;;; -0.005102703 0.0 … 0.00024022008 0.0; -0.010092953 -0.01448952 … 0.014428236 5.2177907f-6; … ; 0.00010636651 0.021006672 … 0.00024293803 5.275295f-5; 0.21165222 -0.04698123 … -0.01912192 -0.0058794403;;; 0.008236048 0.0030059095 … -0.0 -3.3327171f-6; 5.0572976f-6 -3.3170675f-6 … -0.0023711347 -0.012108174; … ; -3.4938853f-6 0.00906461 … -0.017498199 0.0036224779; -0.0 -0.0 … -0.0 -0.0;;; -0.037019238 -0.52858293 … -0.84286726 -1.2637289; -0.0 -0.23352157 … -0.8752294 -1.4044555; … ; -0.25816387 -0.54137 … -1.0210384 -0.71405447; -0.0 -0.33537045 … -0.4455623 -0.40250185;;; 0.014780965 0.020899894 … 0.075554155 0.025156602; 0.012886497 0.023783986 … 0.0839433 0.018062687; … ; 0.017595474 0.026155602 … 0.02691551 0.018821301; 0.014344744 0.011784681 … 0.010927 0.0;;; -0.004116104 0.0035148663 … 0.0016487631 0.0018520436; 0.001159515 0.0 … 0.0 0.0; … ; 0.0 0.0 … 0.0 0.0; -0.0004650437 0.0 … 0.06957496 0.0;;;;], [0.0 -0.0 … -0.00021849266 -0.0; -0.0 0.0 … -0.0 -0.0030655283; … ; 0.0 0.0 … 0.0 -0.0013799329; 0.00027304253 0.0020437653 … 0.005358493 -0.0;;; -0.0 -0.0 … -0.0 0.0; -0.0016633647 0.0 … -0.0 -0.0; … ; 0.0 -0.0 … 0.00028633824 -0.0; 0.0 -0.0 … 0.0 -0.0027993992;;; 0.0011760237 0.0 … -0.00023143702 -0.0; -0.0 -0.0019276271 … -0.016722258 0.0013048876; … ; 0.0 -0.0 … -0.015205367 -0.0022940184; 0.0 0.0 … 0.0011998212 -0.002603304;;; -0.0009998058 0.0 … 0.0003830731 -0.0; -0.004486668 -0.0066002454 … 0.011429952 1.6650172f-5; … ; -0.0004815315 0.0121455155 … 0.0012069431 0.00020051123; 0.0052441093 -0.0049926597 … -0.0071994816 -0.002042292;;; 0.00456189 0.0013163778 … 0.0 0.0001553414; -0.001395616 0.0010850098 … -0.0015157051 -0.009488976; … ; 0.00084576145 0.0054001897 … -0.008178141 0.0009903641; 0.0 -0.0 … -0.0 -0.0;;; -0.00063371606 -0.008858894 … 0.0051306444 -0.020867744; 0.0 -0.0040875613 … -0.007163252 -0.04881676; … ; -0.001037891 -0.0069842637 … -0.0036772804 0.0057558757; -0.0 0.0021439039 … -0.00406853 1.3742519f-5;;; 0.0016608479 -0.0025863145 … 0.010566646 -0.00082778867; -0.00010916198 -0.0022565587 … 0.013670067 0.0055509685; … ; -0.0028363173 0.0032612476 … -0.0031111448 0.0067804237; -0.0067836274 0.004265502 … -0.00026606358 0.0;;; -0.0042695506 -0.0010890836 … -0.00028048118 0.0015419804; -0.0012905983 -0.0 … 0.0 0.0; … ; 0.0 0.0 … 0.0 0.0; -0.00085468695 -0.0 … 0.0053777746 0.0;;;;], Float32[0.0; -0.0; … ; 0.0; 0.0;;], Float32[0.0; -0.0; … ; 0.0; 0.0;;], Float32[0.0; -0.0; … ; 0.0; 0.0;;], Float32[0.0; 0.0; … ; 0.0; 0.0;;])"
     },
     "metadata": {},
     "execution_count": 9
    }
   ],
   "cell_type": "code",
   "source": [
    "input = rand(Float32, 32, 32, 3, 1) # dummy input for our convolutional neural network\n",
    "\n",
    "expl = analyze(input, analyzer; layerwise_relevances=true)\n",
    "expl.extras.layerwise_relevances"
   ],
   "metadata": {},
   "execution_count": 9
  },
  {
   "cell_type": "markdown",
   "source": [
    "Note that the layerwise relevances are only kept for layers in the outermost `Chain` of the model.\n",
    "When using our unflattened model, we only obtain three layerwise relevances,\n",
    "one for each chain in the model and the output relevance:"
   ],
   "metadata": {}
  },
  {
   "outputs": [
    {
     "output_type": "execute_result",
     "data": {
      "text/plain": "([-0.09752094 -0.6414689 … -0.32881784 0.10092575; -0.032852683 0.037839435 … 0.26019678 -0.06303124; … ; 0.038089607 0.07088684 … 0.015834322 -0.08353203; -0.20731059 -0.049704995 … 0.16633226 0.24107572;;; 0.17563398 0.21570894 … 0.20600237 -0.31473082; -0.038520023 0.67700297 … -0.37841293 -0.053526927; … ; -0.10380057 -0.26934192 … 0.019382993 -1.5089028; -0.115605004 -0.2079844 … -0.53745997 -0.009661596;;; 0.22392981 -0.46985412 … -0.008591019 0.049304392; 0.106928214 -0.17575079 … 0.15780532 -0.13490723; … ; 0.1292133 -2.9264338 … -0.25577003 -0.08258217; -0.071599066 0.10962987 … -1.1312292 -0.12198729;;;;], [0.0 -0.0 … -0.0002921229 -0.0; -0.0 0.0 … -0.0 -0.0024640334; … ; 0.0 -0.0 … 0.0 -0.0015425162; 0.00025984593 0.0022701786 … 0.00489244 -0.0;;; -0.0 0.0 … -0.0 0.0; -0.0017769475 0.0 … -0.0 -0.0; … ; 0.0 -0.0 … 0.0002587302 -0.0; 0.0 -0.0 … 0.0 -0.0035236902;;; 0.0006167667 0.0 … -1.0321145f-5 -0.0; 0.0 -0.0015774962 … -0.019507019 0.00046653883; … ; 0.0 -0.0 … -0.015052512 -0.00071477296; 0.0 0.0 … 0.0011207431 -0.0018103202;;; -0.00061873696 0.0 … 0.00022056833 -0.0; -0.003937039 -0.006809988 … 0.009796329 0.0; … ; 0.00034800914 0.011285955 … 0.00082132046 0.0; 0.0042884676 -0.004565332 … -0.007860918 -0.0007149621;;; 0.0043290164 0.0010492624 … 0.0 0.0; -0.00096351426 0.0006455456 … -0.0023744898 -0.008379589; … ; 0.0 0.0054477425 … -0.008952917 0.002306144; 0.0 -0.0 … -0.0 -0.0;;; -0.0 -0.008853598 … 0.005138808 -0.016426949; 0.0 -0.0013114152 … -0.0057463744 -0.04590282; … ; -0.0005378578 -0.0052742204 … -0.0028270478 0.0042406544; -0.0 0.0012028336 … -0.0030778456 -0.0010871924;;; 0.0006528246 -0.0021479 … 0.0127863735 -0.0003756048; -0.00029346943 -0.0035202932 … 0.015984688 0.0040640086; … ; -0.0028001808 0.0026885674 … -0.0024372626 0.0043843617; -0.0054951473 0.0035019275 … -0.00049379293 0.0;;; -0.0045406013 -0.0020477735 … -0.00023919978 0.0012048467; -0.0008259265 -0.0 … 0.0 0.0; … ; 0.0 0.0 … 0.0 0.0; -0.0016238843 -0.0 … 0.005565613 0.0;;;;], Float32[0.0; 0.0; … ; 0.0; 0.0;;])"
     },
     "metadata": {},
     "execution_count": 10
    }
   ],
   "cell_type": "code",
   "source": [
    "analyzer = LRP(model; flatten=false) # use unflattened model\n",
    "\n",
    "expl = analyze(input, analyzer; layerwise_relevances=true)\n",
    "expl.extras.layerwise_relevances"
   ],
   "metadata": {},
   "execution_count": 10
  },
  {
   "cell_type": "markdown",
   "source": [
    "## Performance tips\n",
    "### Using LRP with a GPU\n",
    "Like all other analyzers, LRP can be used on GPUs.\n",
    "Follow the instructions on *GPU support*.\n",
    "\n",
    "### Using LRP without a GPU\n",
    "Using Julia's package extension mechanism,\n",
    "ExplainableAI.jl's LRP implementation can optionally make use of\n",
    "[Tullio.jl](https://github.com/mcabbott/Tullio.jl) and\n",
    "[LoopVectorization.jl](https://github.com/JuliaSIMD/LoopVectorization.jl)\n",
    "for faster LRP rules on dense layers.\n",
    "\n",
    "This only requires loading the packages before loading ExplainableAI.jl:\n",
    "```julia\n",
    "using LoopVectorization, Tullio\n",
    "using ExplainableAI\n",
    "```\n",
    "\n",
    "[^1]: G. Montavon et al., [Layer-Wise Relevance Propagation: An Overview](https://link.springer.com/chapter/10.1007/978-3-030-28954-6_10)"
   ],
   "metadata": {}
  },
  {
   "cell_type": "markdown",
   "source": [
    "---\n",
    "\n",
    "*This notebook was generated using [Literate.jl](https://github.com/fredrikekre/Literate.jl).*"
   ],
   "metadata": {}
  }
 ],
 "nbformat_minor": 3,
 "metadata": {
  "language_info": {
   "file_extension": ".jl",
   "mimetype": "application/julia",
   "name": "julia",
   "version": "1.9.3"
  },
  "kernelspec": {
   "name": "julia-1.9",
   "display_name": "Julia 1.9.3",
   "language": "julia"
  }
 },
 "nbformat": 4
}
