{
 "cells": [
  {
   "cell_type": "markdown",
   "source": [
    "# Basic usage of LRP\n",
    "This example will show you best practices for using LRP,\n",
    "building on the basics shown in the *Getting started* section."
   ],
   "metadata": {}
  },
  {
   "cell_type": "markdown",
   "source": [
    "We start out by loading a small convolutional neural network:"
   ],
   "metadata": {}
  },
  {
   "outputs": [],
   "cell_type": "code",
   "source": [
    "using ExplainableAI\n",
    "using Flux\n",
    "\n",
    "model = Chain(\n",
    "    Chain(\n",
    "        Conv((3, 3), 3 => 8, relu; pad=1),\n",
    "        Conv((3, 3), 8 => 8, relu; pad=1),\n",
    "        MaxPool((2, 2)),\n",
    "        Conv((3, 3), 8 => 16; pad=1),\n",
    "        BatchNorm(16, relu),\n",
    "        Conv((3, 3), 16 => 8, relu; pad=1),\n",
    "        BatchNorm(8, relu),\n",
    "    ),\n",
    "    Chain(\n",
    "        Flux.flatten,\n",
    "        Dense(2048 => 512, relu),\n",
    "        Dropout(0.5),\n",
    "        Dense(512 => 100, softmax)\n",
    "    ),\n",
    ");"
   ],
   "metadata": {},
   "execution_count": 1
  },
  {
   "cell_type": "markdown",
   "source": [
    "This model contains two chains: the convolutional layers and the fully connected layers."
   ],
   "metadata": {}
  },
  {
   "cell_type": "markdown",
   "source": [
    "## Model preparation\n",
    "### Stripping the output softmax\n",
    "When using LRP, it is recommended to explain output logits instead of probabilities.\n",
    "This can be done by stripping the output softmax activation from the model\n",
    "using the `strip_softmax` function:"
   ],
   "metadata": {}
  },
  {
   "outputs": [
    {
     "output_type": "execute_result",
     "data": {
      "text/plain": "Chain(\n  Chain(\n    Conv((3, 3), 3 => 8, relu, pad=1),  \u001b[90m# 224 parameters\u001b[39m\n    Conv((3, 3), 8 => 8, relu, pad=1),  \u001b[90m# 584 parameters\u001b[39m\n    MaxPool((2, 2)),\n    Conv((3, 3), 8 => 16, pad=1),       \u001b[90m# 1_168 parameters\u001b[39m\n    BatchNorm(16, relu),                \u001b[90m# 32 parameters\u001b[39m\u001b[90m, plus 32\u001b[39m\n    Conv((3, 3), 16 => 8, relu, pad=1),  \u001b[90m# 1_160 parameters\u001b[39m\n    BatchNorm(8, relu),                 \u001b[90m# 16 parameters\u001b[39m\u001b[90m, plus 16\u001b[39m\n  ),\n  Chain(\n    Flux.flatten,\n    Dense(2048 => 512, relu),           \u001b[90m# 1_049_088 parameters\u001b[39m\n    Dropout(0.5),\n    Dense(512 => 100),                  \u001b[90m# 51_300 parameters\u001b[39m\n  ),\n) \u001b[90m        # Total: 16 trainable arrays, \u001b[39m1_103_572 parameters,\n\u001b[90m          # plus 4 non-trainable, 48 parameters, summarysize \u001b[39m4.213 MiB."
     },
     "metadata": {},
     "execution_count": 2
    }
   ],
   "cell_type": "code",
   "source": [
    "model = strip_softmax(model)"
   ],
   "metadata": {},
   "execution_count": 2
  },
  {
   "cell_type": "markdown",
   "source": [
    "If you don't remove the output softmax,\n",
    "model checks will fail."
   ],
   "metadata": {}
  },
  {
   "cell_type": "markdown",
   "source": [
    "### Canonizing the model\n",
    "LRP is not invariant to a model's implementation.\n",
    "Applying the `GammaRule` to two linear layers in a row will yield different results\n",
    "than first fusing the two layers into one linear layer and then applying the rule.\n",
    "This fusing is called \"canonization\" and can be done using the `canonize` function:"
   ],
   "metadata": {}
  },
  {
   "outputs": [
    {
     "output_type": "execute_result",
     "data": {
      "text/plain": "Chain(\n  Conv((3, 3), 3 => 8, relu, pad=1),    \u001b[90m# 224 parameters\u001b[39m\n  Conv((3, 3), 8 => 8, relu, pad=1),    \u001b[90m# 584 parameters\u001b[39m\n  MaxPool((2, 2)),\n  Conv((3, 3), 8 => 16, relu, pad=1),   \u001b[90m# 1_168 parameters\u001b[39m\n  Conv((3, 3), 16 => 8, relu, pad=1),   \u001b[90m# 1_160 parameters\u001b[39m\n  BatchNorm(8, relu),                   \u001b[90m# 16 parameters\u001b[39m\u001b[90m, plus 16\u001b[39m\n  Flux.flatten,\n  Dense(2048 => 512, relu),             \u001b[90m# 1_049_088 parameters\u001b[39m\n  Dropout(0.5),\n  Dense(512 => 100),                    \u001b[90m# 51_300 parameters\u001b[39m\n) \u001b[90m        # Total: 14 trainable arrays, \u001b[39m1_103_540 parameters,\n\u001b[90m          # plus 2 non-trainable, 16 parameters, summarysize \u001b[39m4.212 MiB."
     },
     "metadata": {},
     "execution_count": 3
    }
   ],
   "cell_type": "code",
   "source": [
    "model = canonize(model)"
   ],
   "metadata": {},
   "execution_count": 3
  },
  {
   "cell_type": "markdown",
   "source": [
    "### Flattening the model\n",
    "ExplainableAI.jl's LRP implementation supports nested Flux Chains and Parallel layers.\n",
    "However, it is recommended to flatten the model before analyzing it.\n",
    "\n",
    "LRP is implemented by first running a forward pass through the model,\n",
    "keeping track of the intermediate activations, followed by a backward pass\n",
    "that computes the relevances.\n",
    "\n",
    "To keep the LRP implementation simple and maintainable,\n",
    "ExplainableAI.jl does not pre-compute \"nested\" activations.\n",
    "Instead, for every internal chain, a new forward pass is run to compute activations.\n",
    "\n",
    "By \"flattening\" a model, this overhead can be avoided.\n",
    "For this purpose, ExplainableAI.jl provides the function `flatten_model`:"
   ],
   "metadata": {}
  },
  {
   "outputs": [
    {
     "output_type": "execute_result",
     "data": {
      "text/plain": "Chain(\n  Conv((3, 3), 3 => 8, relu, pad=1),    \u001b[90m# 224 parameters\u001b[39m\n  Conv((3, 3), 8 => 8, relu, pad=1),    \u001b[90m# 584 parameters\u001b[39m\n  MaxPool((2, 2)),\n  Conv((3, 3), 8 => 16, relu, pad=1),   \u001b[90m# 1_168 parameters\u001b[39m\n  Conv((3, 3), 16 => 8, relu, pad=1),   \u001b[90m# 1_160 parameters\u001b[39m\n  BatchNorm(8, relu),                   \u001b[90m# 16 parameters\u001b[39m\u001b[90m, plus 16\u001b[39m\n  Flux.flatten,\n  Dense(2048 => 512, relu),             \u001b[90m# 1_049_088 parameters\u001b[39m\n  Dropout(0.5),\n  Dense(512 => 100),                    \u001b[90m# 51_300 parameters\u001b[39m\n) \u001b[90m        # Total: 14 trainable arrays, \u001b[39m1_103_540 parameters,\n\u001b[90m          # plus 2 non-trainable, 16 parameters, summarysize \u001b[39m4.212 MiB."
     },
     "metadata": {},
     "execution_count": 4
    }
   ],
   "cell_type": "code",
   "source": [
    "model_flat = flatten_model(model)"
   ],
   "metadata": {},
   "execution_count": 4
  },
  {
   "cell_type": "markdown",
   "source": [
    "This function is called by default when creating an LRP analyzer.\n",
    "Note that we pass the unflattened model to the analyzer, but `analyzer.model` is flattened:"
   ],
   "metadata": {}
  },
  {
   "outputs": [
    {
     "output_type": "execute_result",
     "data": {
      "text/plain": "Chain(\n  Conv((3, 3), 3 => 8, relu, pad=1),    \u001b[90m# 224 parameters\u001b[39m\n  Conv((3, 3), 8 => 8, relu, pad=1),    \u001b[90m# 584 parameters\u001b[39m\n  MaxPool((2, 2)),\n  Conv((3, 3), 8 => 16, relu, pad=1),   \u001b[90m# 1_168 parameters\u001b[39m\n  Conv((3, 3), 16 => 8, relu, pad=1),   \u001b[90m# 1_160 parameters\u001b[39m\n  BatchNorm(8, relu),                   \u001b[90m# 16 parameters\u001b[39m\u001b[90m, plus 16\u001b[39m\n  Flux.flatten,\n  Dense(2048 => 512, relu),             \u001b[90m# 1_049_088 parameters\u001b[39m\n  Dropout(0.5),\n  Dense(512 => 100),                    \u001b[90m# 51_300 parameters\u001b[39m\n) \u001b[90m        # Total: 14 trainable arrays, \u001b[39m1_103_540 parameters,\n\u001b[90m          # plus 2 non-trainable, 16 parameters, summarysize \u001b[39m4.212 MiB."
     },
     "metadata": {},
     "execution_count": 5
    }
   ],
   "cell_type": "code",
   "source": [
    "analyzer = LRP(model)\n",
    "analyzer.model"
   ],
   "metadata": {},
   "execution_count": 5
  },
  {
   "cell_type": "markdown",
   "source": [
    "If this flattening is not desired, it can be disabled\n",
    "by passing the keyword argument `flatten=false` to the `LRP` constructor."
   ],
   "metadata": {}
  },
  {
   "cell_type": "markdown",
   "source": [
    "## LRP rules\n",
    "By default, the `LRP` constructor will assign the `ZeroRule` to all layers."
   ],
   "metadata": {}
  },
  {
   "outputs": [
    {
     "output_type": "execute_result",
     "data": {
      "text/plain": "LRP(\n  Conv((3, 3), 3 => 8, relu, pad=1) \u001b[90m => \u001b[39m\u001b[33mZeroRule()\u001b[39m,\n  Conv((3, 3), 8 => 8, relu, pad=1) \u001b[90m => \u001b[39m\u001b[33mZeroRule()\u001b[39m,\n  MaxPool((2, 2))                   \u001b[90m => \u001b[39m\u001b[33mZeroRule()\u001b[39m,\n  Conv((3, 3), 8 => 16, relu, pad=1)\u001b[90m => \u001b[39m\u001b[33mZeroRule()\u001b[39m,\n  Conv((3, 3), 16 => 8, relu, pad=1)\u001b[90m => \u001b[39m\u001b[33mZeroRule()\u001b[39m,\n  BatchNorm(8, relu)                \u001b[90m => \u001b[39m\u001b[33mZeroRule()\u001b[39m,\n  Flux.flatten                      \u001b[90m => \u001b[39m\u001b[33mZeroRule()\u001b[39m,\n  Dense(2048 => 512, relu)          \u001b[90m => \u001b[39m\u001b[33mZeroRule()\u001b[39m,\n  Dropout(0.5)                      \u001b[90m => \u001b[39m\u001b[33mZeroRule()\u001b[39m,\n  Dense(512 => 100)                 \u001b[90m => \u001b[39m\u001b[33mZeroRule()\u001b[39m,\n)"
     },
     "metadata": {},
     "execution_count": 6
    }
   ],
   "cell_type": "code",
   "source": [
    "LRP(model)"
   ],
   "metadata": {},
   "execution_count": 6
  },
  {
   "cell_type": "markdown",
   "source": [
    "This analyzer will return heatmaps that look identical to `InputTimesGradient`."
   ],
   "metadata": {}
  },
  {
   "cell_type": "markdown",
   "source": [
    "LRP's strength lies in assigning different rules to different layers,\n",
    "based on their functionality in the neural network[^1].\n",
    "ExplainableAI.jl implements many LRP rules out of the box,\n",
    "but it is also possible to *implement custom rules*.\n",
    "\n",
    "To assign different rules to different layers,\n",
    "use one of the composites presets,\n",
    "or create your own composite, as described in\n",
    "*Assigning rules to layers*."
   ],
   "metadata": {}
  },
  {
   "outputs": [
    {
     "output_type": "execute_result",
     "data": {
      "text/plain": "Composite(\n  GlobalTypeMap(  \u001b[90m# all layers\u001b[39m\n\u001b[94m    Flux.Conv              \u001b[39m => \u001b[33mZPlusRule()\u001b[39m,\n\u001b[94m    Flux.ConvTranspose     \u001b[39m => \u001b[33mZPlusRule()\u001b[39m,\n\u001b[94m    Flux.CrossCor          \u001b[39m => \u001b[33mZPlusRule()\u001b[39m,\n\u001b[94m    Flux.Dense             \u001b[39m => \u001b[33mEpsilonRule{Float32}(1.0f-6)\u001b[39m,\n\u001b[94m    typeof(NNlib.dropout)  \u001b[39m => \u001b[33mPassRule()\u001b[39m,\n\u001b[94m    Flux.AlphaDropout      \u001b[39m => \u001b[33mPassRule()\u001b[39m,\n\u001b[94m    Flux.Dropout           \u001b[39m => \u001b[33mPassRule()\u001b[39m,\n\u001b[94m    Flux.BatchNorm         \u001b[39m => \u001b[33mPassRule()\u001b[39m,\n\u001b[94m    typeof(Flux.flatten)   \u001b[39m => \u001b[33mPassRule()\u001b[39m,\n\u001b[94m    typeof(MLUtils.flatten)\u001b[39m => \u001b[33mPassRule()\u001b[39m,\n\u001b[94m    typeof(identity)       \u001b[39m => \u001b[33mPassRule()\u001b[39m,\n ),\n  FirstLayerTypeMap(  \u001b[90m# first layer\u001b[39m\n\u001b[94m    Flux.Conv         \u001b[39m => \u001b[33mFlatRule()\u001b[39m,\n\u001b[94m    Flux.ConvTranspose\u001b[39m => \u001b[33mFlatRule()\u001b[39m,\n\u001b[94m    Flux.CrossCor     \u001b[39m => \u001b[33mFlatRule()\u001b[39m,\n\u001b[94m    Flux.Dense        \u001b[39m => \u001b[33mFlatRule()\u001b[39m,\n ),\n)"
     },
     "metadata": {},
     "execution_count": 7
    }
   ],
   "cell_type": "code",
   "source": [
    "composite = EpsilonPlusFlat() # using composite preset EpsilonPlusFlat"
   ],
   "metadata": {},
   "execution_count": 7
  },
  {
   "outputs": [
    {
     "output_type": "execute_result",
     "data": {
      "text/plain": "LRP(\n  Conv((3, 3), 3 => 8, relu, pad=1) \u001b[90m => \u001b[39m\u001b[33mFlatRule()\u001b[39m,\n  Conv((3, 3), 8 => 8, relu, pad=1) \u001b[90m => \u001b[39m\u001b[33mZPlusRule()\u001b[39m,\n  MaxPool((2, 2))                   \u001b[90m => \u001b[39m\u001b[33mZeroRule()\u001b[39m,\n  Conv((3, 3), 8 => 16, relu, pad=1)\u001b[90m => \u001b[39m\u001b[33mZPlusRule()\u001b[39m,\n  Conv((3, 3), 16 => 8, relu, pad=1)\u001b[90m => \u001b[39m\u001b[33mZPlusRule()\u001b[39m,\n  BatchNorm(8, relu)                \u001b[90m => \u001b[39m\u001b[33mPassRule()\u001b[39m,\n  Flux.flatten                      \u001b[90m => \u001b[39m\u001b[33mPassRule()\u001b[39m,\n  Dense(2048 => 512, relu)          \u001b[90m => \u001b[39m\u001b[33mEpsilonRule{Float32}(1.0f-6)\u001b[39m,\n  Dropout(0.5)                      \u001b[90m => \u001b[39m\u001b[33mPassRule()\u001b[39m,\n  Dense(512 => 100)                 \u001b[90m => \u001b[39m\u001b[33mEpsilonRule{Float32}(1.0f-6)\u001b[39m,\n)"
     },
     "metadata": {},
     "execution_count": 8
    }
   ],
   "cell_type": "code",
   "source": [
    "LRP(model, composite)"
   ],
   "metadata": {},
   "execution_count": 8
  },
  {
   "cell_type": "markdown",
   "source": [
    "## Computing layerwise relevances\n",
    "If you are interested in computing layerwise relevances,\n",
    "call `analyze` with an LRP analyzer and the keyword argument\n",
    "`layerwise_relevances=true`.\n",
    "\n",
    "The layerwise relevances can be accessed in the `extras` field\n",
    "of the returned `Explanation`:"
   ],
   "metadata": {}
  },
  {
   "outputs": [
    {
     "output_type": "execute_result",
     "data": {
      "text/plain": "([0.046555925 0.015812777 … 0.037646163 0.035470713; 0.0676743 0.09086508 … -0.02529752 -0.076462194; … ; 0.0068389825 0.0074025793 … 0.2722087 0.092471905; 0.003560181 0.07526849 … 0.26005608 -0.0014911456;;; 0.066787 0.04519721 … 0.17480868 0.039096236; 0.061708003 0.11000838 … 0.06844623 0.006203301; … ; 0.042662136 -0.008323134 … -1.6987162 0.3234409; -0.0299124 0.06664409 … 0.03571615 0.069834545;;; -0.0015793431 -0.0052890214 … 0.10860074 0.0409758; 0.07566422 0.0052266694 … 0.023177452 -0.03365568; … ; 0.15722254 -0.020722436 … -0.013024652 -1.2042751; 0.09059824 -0.00022398641 … -0.23104404 -0.40058154;;;;], [-0.011687536 0.064174704 … 0.009704907 -0.009977619; 0.13133197 0.05364513 … 0.12140195 0.01643618; … ; 0.027729215 -0.0044333204 … -0.2643722 0.039991543; -0.007153322 0.19584905 … 0.07861772 -0.00675545;;; 0.003408768 0.0 … -0.02110942 0.0; 0.0 0.0 … 0.0 0.0; … ; 0.03664626 0.0 … 0.0 -0.0; 0.00034948013 0.0 … 0.0 -0.0054624514;;; 0.0 0.01269634 … -0.0015486886 -0.016059637; 2.8648565f-5 -0.009998668 … 0.10858452 0.013000506; … ; 0.0004145298 -0.00744533 … 0.15139638 0.07039755; -0.000100979676 -0.00037861633 … 0.024129786 0.004724684;;; 0.009121207 0.0 … -0.0 0.0; 0.019864768 0.010746551 … -0.019098345 0.0; … ; 0.023337098 -0.0 … 0.0 0.0; 0.02185586 -0.0043884083 … -0.0 0.021358564;;; 0.028953308 -0.0014440846 … 0.012673799 -0.0; 0.0 0.018518807 … -0.025425497 0.0; … ; -0.0 0.020643672 … 0.045517024 -0.0; -0.0 0.09854748 … 0.0998152 -0.00077788834;;; -0.0 -0.0 … -0.0 0.0; 0.0 0.0 … -0.0 0.0; … ; 0.0 0.0 … -0.17635304 0.0; 0.0 0.0 … 0.0 0.0;;; -0.005252244 0.015911974 … -0.0023649016 -0.0; 0.011949566 -0.019592483 … -0.0075898115 -0.0043719127; … ; 0.0 0.019383153 … 0.55045843 -0.00031975715; 0.0029158967 0.0 … -0.00016538556 0.0;;; 0.0 0.0 … 0.0017894853 0.001882681; 0.039903857 0.0015160327 … 0.07503959 0.0; … ; 0.02316458 -0.0 … -0.0 0.0012492383; 0.004918798 -0.0 … -0.00019107274 -0.0023282666;;;;], [0.0 0.0 … 0.0 0.0; 0.0 0.0 … 0.0 -0.024996694; … ; 0.0 0.0 … 0.0 0.0; 0.0 0.009311741 … 0.0 0.07114605;;; 0.0 0.06458884 … 0.0 0.0; 0.0 0.0 … -0.019064097 0.0; … ; 0.0 -0.039405387 … 0.28082478 0.0; 0.0 0.0 … 0.0 0.0;;; 0.0 -0.0040257643 … 0.017174091 0.0; 0.0 0.0 … 0.0 0.0; … ; 0.0 0.017058631 … 0.0011281479 0.0; 0.0 0.0 … 0.0 0.0;;; 0.0 0.0 … 0.0 0.0; 0.0 0.0 … 0.0 0.0030067293; … ; 0.0 0.0 … 0.0 0.0; -0.014882517 0.0 … -0.0026105763 0.0;;; 0.0 0.0 … 0.0 0.0; 0.0 0.16321383 … -0.13952714 0.0; … ; 0.0 0.09380313 … 0.0 0.07409013; 0.0 0.0 … 0.0 0.0;;; 0.0 0.0 … 0.0 0.0; 0.03128581 0.0 … 0.019051181 0.0; … ; 0.16620228 0.0 … 0.0 0.0143346675; 0.0 0.0 … 0.0 0.0;;; 0.0 0.0 … 0.0 0.0; 0.0 0.0 … 0.0 0.0; … ; 0.0 0.0 … 0.0 0.0; 0.0 0.0 … 0.0 0.0;;; 0.0 0.0 … 0.0 0.0; 0.0 0.086346895 … 0.0 0.033711433; … ; 0.0 0.08864697 … 0.0 0.17382967; 0.0 0.0 … 0.0 0.0;;;;], [-0.0 -9.4943425f-6 … -0.0 -0.024996694; -0.012887876 -0.039492868 … -0.032781884 -0.13080224; … ; 0.0 -0.031287726 … -0.4540429 0.057087652; 0.009311741 0.014121796 … 0.007053468 0.07114605;;; 0.06458884 0.10917289 … 0.06990637 -0.019064097; 0.1914208 0.45104417 … 0.102749914 0.08712185; … ; 0.042414855 0.10826757 … -2.627834 0.1260809; -0.039405387 0.0060497946 … 0.24696572 0.28082478;;; -0.0040257643 -0.03131514 … 0.1320916 0.017174091; 0.0065575563 0.008215746 … 0.13626915 -0.006256712; … ; -0.026859779 -0.10279904 … -12.449486 0.0014008434; 0.017058631 0.011488141 … 0.009672111 0.0011281479;;; 0.0 0.0 … 0.0 0.0030067298; 0.0 0.0 … 0.0 0.0047214306; … ; -0.0061395224 -0.0 … -0.0 -0.003485378; -0.014882517 -0.0 … -0.030367516 -0.0026105763;;; 0.16321383 0.03214301 … 0.13557078 -0.13952714; 0.1677355 0.16287321 … 0.37890106 -0.059567317; … ; 0.19536293 0.3647801 … 0.48000884 0.093571134; 0.09380313 0.27302876 … 0.15506428 0.07409013;;; 0.03128581 0.05713059 … 0.01756013 0.019051181; 0.17836511 0.09274216 … 0.23075925 0.0030330755; … ; 0.4444767 0.07217275 … -2.4072468 0.0; 0.16620228 0.31716567 … 0.13680848 0.0143346675;;; 0.0 0.0 … 0.0 -0.0; 0.0 0.0 … -0.0 -0.008676425; … ; 0.0 -0.0 … -0.0 -0.0; 0.0 0.0 … -0.0 -0.0;;; 0.086346895 0.1905713 … 0.097545646 0.033711433; 0.21194097 0.40865138 … 0.25429177 0.34510618; … ; 0.22819221 0.45800975 … 6.9449997 0.3098633; 0.08864697 0.13880308 … 0.20600495 0.17382967;;;;], [-0.0 0.0 … 0.0 -0.0; -0.0 -0.0 … -0.0 -0.0; … ; -0.0 -0.008399122 … -0.0 -0.0; -0.03468149 -0.0 … -0.0 -0.0;;; -0.0 -0.0 … -0.0 -0.0; -0.0 -0.0 … -0.0 -0.0; … ; -0.0 -0.0 … -0.0 -0.0; -0.0 -0.0 … -0.0 -0.0;;; -0.0 -0.0 … -0.0 -0.0; -0.0 -0.0 … -0.0 -0.0; … ; -0.0 -0.0 … -0.0 -0.0; -0.0 -0.0 … -0.0 -0.0007868517;;; … ;;; 0.0 0.00733414 … -0.0 0.029193647; 0.0 0.0 … -0.0 0.027837714; … ; -0.0 0.0 … 0.0 0.0; 0.0 0.0 … 0.0 0.0;;; 0.0 0.029555295 … 0.028713863 0.062236123; 0.0 0.111344546 … 0.024826014 0.19750044; … ; 0.0 0.10488651 … 0.049458772 0.20816688; 0.03519479 -0.0037472812 … 0.011768286 0.07051256;;; -0.091585025 0.0073342836 … -0.012223028 0.025113748; -0.01660656 0.00030938658 … -0.0 0.009222506; … ; -0.0 0.0 … -0.0 0.022639679; -0.0 0.0 … 0.0 0.0;;;;], [-0.104548834 -0.041481018 … -0.037550535 -0.0; -0.25513735 -0.114877716 … -0.039109547 -0.010521266; … ; -0.035694003 -0.05372712 … -0.0437827 -0.010562619; -0.0 -0.0 … -0.0012258866 -0.0228278;;; 0.8103445 0.8010764 … 0.5107821 0.23956093; 0.95185864 1.6827837 … 0.72949535 0.47030315; … ; 0.76342916 0.89581615 … 0.7321923 0.46800843; 0.3179677 0.39098325 … 0.37223068 0.26391193;;; 0.0 0.0 … 0.0 -0.000945264; 0.0 0.0 … 0.0 -0.0008721851; … ; 0.0 0.0 … 0.0 0.0; 0.0 0.0 … 0.0 0.0;;; 0.009015623 0.020121919 … -0.09882918 -0.2694866; 0.010987181 0.020660773 … 0.017973637 0.013881406; … ; 0.21025665 0.007401875 … 0.009597577 0.012075776; 0.012387389 0.0 … 0.0 0.0;;; -0.003549322 -0.002018888 … 0.0 0.0; 0.0020398211 0.0 … 0.0 0.0; … ; -0.00024833443 0.0 … 0.0 0.0; 0.0 0.0015427471 … 0.0 0.0;;; 3.084163f-5 -0.0 … -0.0 -0.0; -0.0 -0.0 … -0.0 -0.0; … ; -3.8934366f-5 -0.0 … -0.0 -0.0; -0.0 -0.0 … -0.0 -0.0;;; 0.0 0.0 … 0.0 0.0; -0.0028528424 0.0 … 0.0 0.0; … ; -0.0017133985 0.0012896572 … 0.0 0.0; -0.007290805 0.0010503547 … 0.0 0.0;;; -0.0 -0.0 … -0.0 0.0020606343; -0.0 -0.0 … -0.0 -0.0; … ; -0.0 -0.0 … -0.0 -0.0; 0.00013769371 -0.003805515 … -0.0 -0.0;;;;], [-0.0029779386 0.004406165 … -0.0006859147 -0.0; -0.008395914 -0.005048611 … -0.0020030912 -0.00087775226; … ; 0.0028810774 -0.0013235137 … -0.0036929336 -0.0016585056; 0.0 0.0 … -5.5583652f-5 -0.002115107;;; -0.0045543374 -0.004063132 … 0.008978772 0.0008415643; 0.004202383 0.029007215 … -0.0013927359 0.005387725; … ; 0.0018240457 0.02202411 … 0.003775348 -0.002267428; 0.0031044772 -0.0056787757 … 0.0024291864 0.00089949096;;; 0.0 0.0 … -0.0 -0.0013277136; -0.0 0.0 … -0.0 -0.0015197796; … ; -0.0 -0.0 … 0.0 0.0; 0.0 0.0 … -0.0 0.0;;; 0.005239173 -0.0030233706 … -0.010260501 -0.0038545867; -0.0007402181 0.008103747 … 0.0030844328 0.0041367467; … ; 0.004728091 0.0012526144 … 0.00082571205 -0.0033182874; -0.0004346442 -0.0 … -0.0 -0.0;;; -0.005739589 -0.0020382146 … -0.0 -0.0; 0.0017149741 -0.0 … -0.0 0.0; … ; -0.0003140601 0.0 … -0.0 -0.0; 0.0 0.0012484834 … 0.0 -0.0;;; 5.1995055f-5 -0.0 … 0.0 0.0; 0.0 0.0 … 0.0 0.0; … ; -3.3426248f-5 0.0 … -0.0 0.0; 0.0 -0.0 … 0.0 -0.0;;; 0.0 0.0 … 0.0 -0.0; -0.0011416243 -0.0 … -0.0 -0.0; … ; 0.0048613204 0.0022222917 … -0.0 0.0; 0.0029900197 0.0015047218 … 0.0 -0.0;;; 0.0 -0.0 … 0.0 0.001319169; -0.0 0.0 … 0.0 -0.0; … ; -0.0 -0.0 … 0.0 -0.0; 9.2684044f-5 -0.004550528 … -0.0 0.0;;;;], Float32[-0.0029779386; -0.008395914; … ; -0.0; 0.0;;], Float32[-0.0; -0.0; … ; -0.0; -0.0;;], Float32[-0.002329216; -0.0; … ; -0.0; -0.0;;], Float32[0.0; 0.0; … ; 0.0; 0.0;;])"
     },
     "metadata": {},
     "execution_count": 9
    }
   ],
   "cell_type": "code",
   "source": [
    "input = rand(Float32, 32, 32, 3, 1) # dummy input for our convolutional neural network\n",
    "\n",
    "expl = analyze(input, analyzer; layerwise_relevances=true)\n",
    "expl.extras.layerwise_relevances"
   ],
   "metadata": {},
   "execution_count": 9
  },
  {
   "cell_type": "markdown",
   "source": [
    "Note that the layerwise relevances are only kept for layers in the outermost `Chain` of the model.\n",
    "When using our unflattened model, we only obtain three layerwise relevances,\n",
    "one for each chain in the model and the output relevance:"
   ],
   "metadata": {}
  },
  {
   "outputs": [
    {
     "output_type": "execute_result",
     "data": {
      "text/plain": "([0.05189797 0.026651395 … 0.07146804 0.07849374; 0.093429625 0.16603805 … -0.059174564 -0.12812659; … ; 0.0311448 0.021863017 … 0.47319368 0.16544275; 0.013603449 0.13102642 … 0.44574305 -0.0028206203;;; 0.11128897 0.0682929 … 0.39675176 0.1282336; 0.09695391 0.14441375 … 0.12113079 0.028493075; … ; 0.069331214 -0.008424815 … -3.057256 0.5691336; -0.05051924 0.115678184 … 0.04727532 0.12507227;;; -0.0040367665 -0.004138743 … 0.21572877 0.10595029; 0.12184918 0.04417307 … 0.06432697 0.016532384; … ; 0.27435538 -0.025928482 … -0.02226422 -2.1227036; 0.1393307 -0.00037484782 … -0.39606023 -0.720796;;;;], [-0.01420467 0.08741116 … -0.008503843 0.035290617; 0.20121296 0.113670304 … 0.33722425 0.10782454; … ; 0.041902408 -0.0032447185 … -0.45678455 0.06027297; -0.012384855 0.3454733 … 0.12406525 -0.010644146;;; 0.003324262 0.0 … -0.029640557 -0.0; 0.0 0.0 … 0.0 0.0; … ; 0.06442007 0.0 … 0.0 -0.0; 0.000411822 0.0 … 0.0 -0.007758587;;; 0.0 0.015741438 … -0.0038270361 -0.01630819; 3.6929243f-5 -0.027325144 … 0.2726455 0.030733284; … ; 0.00027820404 -0.005312885 … 0.26414287 0.10981229; 0.001795687 0.0010042856 … 0.027541934 0.012635695;;; 0.014869231 0.0 … -0.0 -0.0; 0.029612292 0.0118497 … -0.05767208 0.0; … ; 0.039468948 0.0 … 0.0 0.0; 0.04022509 -0.0070732483 … 0.0 0.027152026;;; 0.045342498 -0.0029323918 … 0.023738557 -0.0; 0.0 0.030299393 … -0.052245 0.0; … ; -0.0 0.043750573 … 0.08321616 -0.0; -0.0 0.16035104 … 0.15016389 -0.00036335728;;; -0.0 -0.0 … -0.0 -0.0; 0.0 0.0 … -0.0 0.0; … ; 0.0 0.0 … -0.31887698 0.0; 0.0 0.0 … 0.0 0.0;;; -0.009453993 0.015323494 … -0.010326457 -0.0; 0.01890153 -0.015984932 … -0.012483343 -0.016721338; … ; 0.0 0.075466566 … 0.97003794 -0.00028909018; 0.0048681363 0.0 … -0.011634276 0.0;;; 0.0 0.0 … 0.0023838708 0.02434849; 0.054611865 0.010486212 … 0.2103783 0.0; … ; 0.04124931 -0.0 … -0.0 0.000902942; 0.010373431 -0.0 … -0.0005305573 0.0066502434;;;;], [0.0 0.0 … 0.0 0.0; 0.0 0.0 … 0.0 -0.060097527; … ; 0.0 0.0 … 0.0 0.0; 0.0 0.016922938 … 0.0 0.07761393;;; 0.0 0.08054631 … 0.0 0.0; 0.0 0.0 … 0.182114 0.0; … ; 0.0 -0.042400766 … 0.46126485 0.0; 0.0 0.0 … 0.0 0.0;;; 0.0 0.008478264 … 0.14736032 0.0; 0.0 0.0 … 0.0 0.0; … ; 0.0 0.025746958 … -0.013644685 0.0; 0.0 0.0 … 0.0 0.0;;; 0.0 0.0 … 0.0 0.0; 0.0 0.0 … 0.0 0.0064367433; … ; 0.0 0.0 … 0.0 0.0; -0.0310639 0.0 … -0.006793888 0.0;;; 0.0 0.0 … 0.0 0.0; 0.0 0.2525161 … -0.25324094 0.0; … ; 0.0 0.13736863 … 0.0 0.13140555; 0.0 0.0 … 0.0 0.0;;; 0.0 0.0 … 0.0 0.0; 0.05551404 0.0 … 0.045710176 0.0; … ; 0.2760393 0.0 … 0.0 0.023488887; 0.0 0.0 … 0.0 0.0;;; 0.0 0.0 … 0.0 0.0; 0.0 0.0 … 0.0 0.0; … ; 0.0 0.0 … 0.0 0.0; 0.0 0.0 … 0.0 0.0;;; 0.0 0.0 … 0.0 0.0; 0.0 0.102381945 … 0.0 0.2121442; … ; 0.0 0.17728658 … 0.0 0.28876224; 0.0 0.0 … 0.0 0.0;;;;], [-0.0 -6.829632f-5 … -0.0 -0.060097527; -0.021403853 -0.058401488 … -0.051275626 0.013403639; … ; 0.0 -0.08264703 … -0.8035697 0.10168096; 0.016922938 0.011070661 … 0.00707478 0.07761393;;; 0.08054631 0.18914862 … -0.07953019 0.182114; 0.24280083 0.57920414 … 0.23099603 0.06793977; … ; 0.12866645 0.20323525 … -4.436204 0.07836523; -0.042400766 0.05443166 … 0.386055 0.46126485;;; 0.008478264 -0.032296732 … -0.0718115 0.14736032; -0.014169999 0.03068337 … 0.31088936 -0.090305924; … ; -0.061780192 -0.07432086 … -21.950861 0.0052136704; 0.025746958 0.01608903 … 0.060641296 -0.013644685;;; 0.0 0.0 … 0.0 0.0064367442; 0.0 0.0 … 0.0 0.008195133; … ; -0.008054887 -0.0 … -0.0 -0.0054736873; -0.0310639 -0.0 … -0.03681604 -0.006793888;;; 0.2525161 0.14063625 … 0.39246893 -0.25324094; 0.36733902 0.35591263 … 1.0247849 -0.080443755; … ; 0.31027114 0.61001 … 0.83910334 0.19419661; 0.13736863 0.4841716 … 0.3110239 0.13140555;;; 0.05551404 0.124097444 … 0.068261676 0.045710176; 0.26809925 0.22350602 … 0.40861762 0.04994648; … ; 0.7858024 0.16215403 … -4.4216075 0.0; 0.2760393 0.44005415 … 0.25917926 0.023488887;;; 0.0 0.0 … -0.0 -0.0; 0.0 0.0 … -0.0 -0.023694081; … ; 0.0 0.0 … -0.0 -0.0; 0.0 0.0 … -0.0 -0.0;;; 0.102381945 0.28204688 … 0.043258872 0.2121442; 0.41880852 0.829871 … 0.56557167 0.7191243; … ; 0.33256525 0.74669194 … 12.404984 0.47138402; 0.17728658 0.27757147 … 0.32007092 0.28876224;;;;], [-0.0 0.0 … -0.0 -0.0; -0.0 -0.0 … -0.0 -0.0; … ; -0.0 -0.014388419 … -0.0 -0.0; -0.068716474 -0.0 … -0.0 -0.0;;; -0.0 -0.0 … 0.0 0.0; -0.0 -0.0 … -0.0 -0.0; … ; -0.0 -0.0 … 0.0 -0.0; -0.0 -0.0 … -0.0 -0.0;;; -0.0 -0.0 … -0.0 -0.0; -0.0 -0.0 … -0.0 -0.0; … ; -0.0 -0.0 … -0.0 -0.0; -0.0 -0.0 … -0.0 -0.001384924;;; … ;;; 0.0 0.008607837 … 0.0 0.05386077; -0.0 0.0 … 0.0 0.019261291; … ; -0.0 0.0 … 0.0 0.0; 0.0 0.0 … 0.0 0.0;;; 0.0 0.02187936 … -0.04726542 0.2292681; 0.0 0.14620507 … 0.16586031 0.7719879; … ; 0.0 0.14381893 … 0.1461621 0.35511836; 0.050933924 0.010003161 … 0.02110813 0.12650916;;; -0.09752359 -0.0056120157 … 0.050429173 -0.12385766; -0.02331389 0.0008172638 … 0.0 0.08989333; … ; -0.0 0.0 … -0.0 0.038035568; -0.0 0.0 … -0.0 0.0;;;;], [-0.20331386 -0.06478383 … -0.058495138 -0.0; 0.094486624 -0.15017892 … -0.06098566 -0.016106572; … ; -0.055535927 -0.08458671 … -0.06848152 -0.016170306; -0.0 -0.0 … -0.0018655956 -0.03522298;;; 1.439016 1.4224057 … 0.90395105 0.4226687; 1.6930872 2.6408095 … 1.2942398 0.8319325; … ; 1.3549716 1.5923684 … 1.2990648 0.8278518; 0.561498 0.6910025 … 0.6577215 0.46575904;;; 0.0 0.0 … 0.0 -8.057867f-5; 0.0 0.0 … 0.0 0.00028168687; … ; 0.0 0.0 … 0.0 0.0; 0.0 0.0 … 0.0 0.0;;; 0.0038217276 0.007586082 … -0.008162326 1.2432885; 0.0045599137 0.007745898 … 0.0069291806 0.0055864914; … ; 0.027857821 0.0031929314 … 0.0040430017 0.0049538286; 0.00506484 0.0 … 0.0 0.0;;; -0.0087428745 -0.002162243 … -0.0 -0.0; 0.0033189058 -0.0 … -0.0 -0.0; … ; 0.0013756256 -0.0 … -0.0 -0.0; -0.0 0.0026290119 … -0.0 -0.0;;; -0.0002503201 0.0 … 0.0 0.0; 0.0 0.0 … 0.0 0.0; … ; -0.0002485965 0.0 … 0.0 0.0; 0.0 0.0 … 0.0 0.0;;; 0.0 0.0 … 0.0 0.0; -0.00090504694 0.0 … 0.0 0.0; … ; 0.007665537 0.0018060749 … 0.0 0.0; -0.0068781953 -0.0005762278 … 0.0 0.0;;; -0.0 -0.0 … -0.0 0.00034203104; -0.0 -0.0 … -0.0 -0.0; … ; -0.0 -0.0 … -0.0 -0.0; 0.00061003293 -0.00070344907 … -0.0 -0.0;;;;], [-0.00805151 -0.0016829917 … 0.0019255872 0.0; 0.009107502 -0.003947673 … 0.0013373451 0.00022774877; … ; -0.0023599255 0.005865619 … -0.00359422 -0.00010919116; -0.0 0.0 … -0.0 -0.00024913147;;; 8.288713f-5 -0.005736955 … 0.0045280796 -0.0009958735; -0.0077283676 0.02955528 … 5.4944834f-5 0.0035762498; … ; 0.006299458 0.0068330416 … -0.0016280509 -0.0044188597; -0.002021588 0.0011723145 … -0.00199717 -0.0020159464;;; 0.0 -0.0 … -0.0 -0.0006582172; -0.0 0.0 … -0.0 -0.00068303157; … ; -0.0 -0.0 … 0.0 0.0; 0.0 -0.0 … -0.0 0.0;;; 0.0039438764 0.013691669 … -0.0014083318 0.016323028; -0.0034824922 -0.00954503 … -0.00041479853 0.0020716223; … ; 0.00049322285 -0.00062801456 … -0.0022761128 -0.004123023; 0.00061605877 -0.0 … 0.0 -0.0;;; -0.0075797816 -0.001871816 … 0.0 -0.0; 0.0031188163 -0.0 … -0.0 0.0; … ; 0.0012958347 0.0 … -0.0 0.0; 0.0 0.002520985 … 0.0 0.0;;; -0.00022311123 -0.0 … 0.0 0.0; -0.0 0.0 … 0.0 0.0; … ; -0.00023748812 -0.0 … -0.0 0.0; 0.0 0.0 … 0.0 -0.0;;; 0.0 0.0 … -0.0 0.0; 0.0016654781 -0.0 … 0.0 -0.0; … ; 0.018153239 0.0033985686 … 0.0 -0.0; 0.009939737 0.00046089716 … -0.0 -0.0;;; 0.0 -0.0 … -0.0 0.0015890826; 0.0 0.0 … 0.0 -0.0; … ; 0.0 0.0 … 0.0 -0.0; 0.00041308423 0.0006793707 … -0.0 0.0;;;;], Float32[-0.00805151; 0.009107502; … ; -0.0; 0.0;;], Float32[-0.0; -0.0; … ; -0.0; -0.0;;], Float32[-0.0022395137; -0.0; … ; -0.0; -0.0;;], Float32[0.0; 0.0; … ; 0.0; 0.0;;])"
     },
     "metadata": {},
     "execution_count": 10
    }
   ],
   "cell_type": "code",
   "source": [
    "analyzer = LRP(model; flatten=false) # use unflattened model\n",
    "\n",
    "expl = analyze(input, analyzer; layerwise_relevances=true)\n",
    "expl.extras.layerwise_relevances"
   ],
   "metadata": {},
   "execution_count": 10
  },
  {
   "cell_type": "markdown",
   "source": [
    "## Performance tips\n",
    "### Using LRP without a GPU\n",
    "Since ExplainableAI.jl's LRP implementation makes use of\n",
    "[Tullio.jl](https://github.com/mcabbott/Tullio.jl),\n",
    "analysis can be accelerated by loading either\n",
    "- a package from the [JuliaGPU](https://juliagpu.org) ecosystem,\n",
    "  e.g. [CUDA.jl](https://github.com/JuliaGPU/CUDA.jl), if a GPU is available\n",
    "- [LoopVectorization.jl](https://github.com/JuliaSIMD/LoopVectorization.jl)\n",
    "  if only a CPU is available.\n",
    "\n",
    "This only requires loading the LoopVectorization.jl package before ExplainableAI.jl:\n",
    "```julia\n",
    "using LoopVectorization\n",
    "using ExplainableAI\n",
    "```\n",
    "\n",
    "[^1]: G. Montavon et al., [Layer-Wise Relevance Propagation: An Overview](https://link.springer.com/chapter/10.1007/978-3-030-28954-6_10)"
   ],
   "metadata": {}
  },
  {
   "cell_type": "markdown",
   "source": [
    "---\n",
    "\n",
    "*This notebook was generated using [Literate.jl](https://github.com/fredrikekre/Literate.jl).*"
   ],
   "metadata": {}
  }
 ],
 "nbformat_minor": 3,
 "metadata": {
  "language_info": {
   "file_extension": ".jl",
   "mimetype": "application/julia",
   "name": "julia",
   "version": "1.9.3"
  },
  "kernelspec": {
   "name": "julia-1.9",
   "display_name": "Julia 1.9.3",
   "language": "julia"
  }
 },
 "nbformat": 4
}
