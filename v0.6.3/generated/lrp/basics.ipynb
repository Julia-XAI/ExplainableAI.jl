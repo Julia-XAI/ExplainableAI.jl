{
 "cells": [
  {
   "cell_type": "markdown",
   "source": [
    "# Basic usage of LRP\n",
    "This example will show you best practices for using LRP,\n",
    "building on the basics shown in the *Getting started* section."
   ],
   "metadata": {}
  },
  {
   "cell_type": "markdown",
   "source": [
    "We start out by loading a small convolutional neural network:"
   ],
   "metadata": {}
  },
  {
   "outputs": [],
   "cell_type": "code",
   "source": [
    "using ExplainableAI\n",
    "using Flux\n",
    "\n",
    "model = Chain(\n",
    "    Chain(\n",
    "        Conv((3, 3), 3 => 8, relu; pad=1),\n",
    "        Conv((3, 3), 8 => 8, relu; pad=1),\n",
    "        MaxPool((2, 2)),\n",
    "        Conv((3, 3), 8 => 16; pad=1),\n",
    "        BatchNorm(16, relu),\n",
    "        Conv((3, 3), 16 => 8, relu; pad=1),\n",
    "        BatchNorm(8, relu),\n",
    "    ),\n",
    "    Chain(\n",
    "        Flux.flatten,\n",
    "        Dense(2048 => 512, relu),\n",
    "        Dropout(0.5),\n",
    "        Dense(512 => 100, softmax)\n",
    "    ),\n",
    ");"
   ],
   "metadata": {},
   "execution_count": 1
  },
  {
   "cell_type": "markdown",
   "source": [
    "This model contains two chains: the convolutional layers and the fully connected layers."
   ],
   "metadata": {}
  },
  {
   "cell_type": "markdown",
   "source": [
    "## Model preparation\n",
    "### Stripping the output softmax\n",
    "When using LRP, it is recommended to explain output logits instead of probabilities.\n",
    "This can be done by stripping the output softmax activation from the model\n",
    "using the `strip_softmax` function:"
   ],
   "metadata": {}
  },
  {
   "outputs": [
    {
     "output_type": "execute_result",
     "data": {
      "text/plain": "Chain(\n  Chain(\n    Conv((3, 3), 3 => 8, relu, pad=1),  \u001b[90m# 224 parameters\u001b[39m\n    Conv((3, 3), 8 => 8, relu, pad=1),  \u001b[90m# 584 parameters\u001b[39m\n    MaxPool((2, 2)),\n    Conv((3, 3), 8 => 16, pad=1),       \u001b[90m# 1_168 parameters\u001b[39m\n    BatchNorm(16, relu),                \u001b[90m# 32 parameters\u001b[39m\u001b[90m, plus 32\u001b[39m\n    Conv((3, 3), 16 => 8, relu, pad=1),  \u001b[90m# 1_160 parameters\u001b[39m\n    BatchNorm(8, relu),                 \u001b[90m# 16 parameters\u001b[39m\u001b[90m, plus 16\u001b[39m\n  ),\n  Chain(\n    Flux.flatten,\n    Dense(2048 => 512, relu),           \u001b[90m# 1_049_088 parameters\u001b[39m\n    Dropout(0.5),\n    Dense(512 => 100),                  \u001b[90m# 51_300 parameters\u001b[39m\n  ),\n) \u001b[90m        # Total: 16 trainable arrays, \u001b[39m1_103_572 parameters,\n\u001b[90m          # plus 4 non-trainable, 48 parameters, summarysize \u001b[39m4.213 MiB."
     },
     "metadata": {},
     "execution_count": 2
    }
   ],
   "cell_type": "code",
   "source": [
    "model = strip_softmax(model)"
   ],
   "metadata": {},
   "execution_count": 2
  },
  {
   "cell_type": "markdown",
   "source": [
    "If you don't remove the output softmax,\n",
    "model checks will fail."
   ],
   "metadata": {}
  },
  {
   "cell_type": "markdown",
   "source": [
    "### Canonizing the model\n",
    "LRP is not invariant to a model's implementation.\n",
    "Applying the `GammaRule` to two linear layers in a row will yield different results\n",
    "than first fusing the two layers into one linear layer and then applying the rule.\n",
    "This fusing is called \"canonization\" and can be done using the `canonize` function:"
   ],
   "metadata": {}
  },
  {
   "outputs": [
    {
     "output_type": "execute_result",
     "data": {
      "text/plain": "Chain(\n  Conv((3, 3), 3 => 8, relu, pad=1),    \u001b[90m# 224 parameters\u001b[39m\n  Conv((3, 3), 8 => 8, relu, pad=1),    \u001b[90m# 584 parameters\u001b[39m\n  MaxPool((2, 2)),\n  Conv((3, 3), 8 => 16, relu, pad=1),   \u001b[90m# 1_168 parameters\u001b[39m\n  Conv((3, 3), 16 => 8, relu, pad=1),   \u001b[90m# 1_160 parameters\u001b[39m\n  BatchNorm(8, relu),                   \u001b[90m# 16 parameters\u001b[39m\u001b[90m, plus 16\u001b[39m\n  Flux.flatten,\n  Dense(2048 => 512, relu),             \u001b[90m# 1_049_088 parameters\u001b[39m\n  Dropout(0.5),\n  Dense(512 => 100),                    \u001b[90m# 51_300 parameters\u001b[39m\n) \u001b[90m        # Total: 14 trainable arrays, \u001b[39m1_103_540 parameters,\n\u001b[90m          # plus 2 non-trainable, 16 parameters, summarysize \u001b[39m4.212 MiB."
     },
     "metadata": {},
     "execution_count": 3
    }
   ],
   "cell_type": "code",
   "source": [
    "model_canonized = canonize(model)"
   ],
   "metadata": {},
   "execution_count": 3
  },
  {
   "cell_type": "markdown",
   "source": [
    "After canonization, the first `BatchNorm` layer has been fused into the preceding `Conv` layer.\n",
    "The second `BatchNorm` layer wasn't fused\n",
    "since its preceding `Conv` layer has a ReLU activation function."
   ],
   "metadata": {}
  },
  {
   "cell_type": "markdown",
   "source": [
    "### Flattening the model\n",
    "ExplainableAI.jl's LRP implementation supports nested Flux Chains and Parallel layers.\n",
    "However, it is recommended to flatten the model before analyzing it.\n",
    "\n",
    "LRP is implemented by first running a forward pass through the model,\n",
    "keeping track of the intermediate activations, followed by a backward pass\n",
    "that computes the relevances.\n",
    "\n",
    "To keep the LRP implementation simple and maintainable,\n",
    "ExplainableAI.jl does not pre-compute \"nested\" activations.\n",
    "Instead, for every internal chain, a new forward pass is run to compute activations.\n",
    "\n",
    "By \"flattening\" a model, this overhead can be avoided.\n",
    "For this purpose, ExplainableAI.jl provides the function `flatten_model`:"
   ],
   "metadata": {}
  },
  {
   "outputs": [
    {
     "output_type": "execute_result",
     "data": {
      "text/plain": "Chain(\n  Conv((3, 3), 3 => 8, relu, pad=1),    \u001b[90m# 224 parameters\u001b[39m\n  Conv((3, 3), 8 => 8, relu, pad=1),    \u001b[90m# 584 parameters\u001b[39m\n  MaxPool((2, 2)),\n  Conv((3, 3), 8 => 16, pad=1),         \u001b[90m# 1_168 parameters\u001b[39m\n  BatchNorm(16, relu),                  \u001b[90m# 32 parameters\u001b[39m\u001b[90m, plus 32\u001b[39m\n  Conv((3, 3), 16 => 8, relu, pad=1),   \u001b[90m# 1_160 parameters\u001b[39m\n  BatchNorm(8, relu),                   \u001b[90m# 16 parameters\u001b[39m\u001b[90m, plus 16\u001b[39m\n  Flux.flatten,\n  Dense(2048 => 512, relu),             \u001b[90m# 1_049_088 parameters\u001b[39m\n  Dropout(0.5),\n  Dense(512 => 100),                    \u001b[90m# 51_300 parameters\u001b[39m\n) \u001b[90m        # Total: 16 trainable arrays, \u001b[39m1_103_572 parameters,\n\u001b[90m          # plus 4 non-trainable, 48 parameters, summarysize \u001b[39m4.212 MiB."
     },
     "metadata": {},
     "execution_count": 4
    }
   ],
   "cell_type": "code",
   "source": [
    "model_flat = flatten_model(model)"
   ],
   "metadata": {},
   "execution_count": 4
  },
  {
   "cell_type": "markdown",
   "source": [
    "This function is called by default when creating an LRP analyzer.\n",
    "Note that we pass the unflattened model to the analyzer, but `analyzer.model` is flattened:"
   ],
   "metadata": {}
  },
  {
   "outputs": [
    {
     "output_type": "execute_result",
     "data": {
      "text/plain": "Chain(\n  Conv((3, 3), 3 => 8, relu, pad=1),    \u001b[90m# 224 parameters\u001b[39m\n  Conv((3, 3), 8 => 8, relu, pad=1),    \u001b[90m# 584 parameters\u001b[39m\n  MaxPool((2, 2)),\n  Conv((3, 3), 8 => 16, pad=1),         \u001b[90m# 1_168 parameters\u001b[39m\n  BatchNorm(16, relu),                  \u001b[90m# 32 parameters\u001b[39m\u001b[90m, plus 32\u001b[39m\n  Conv((3, 3), 16 => 8, relu, pad=1),   \u001b[90m# 1_160 parameters\u001b[39m\n  BatchNorm(8, relu),                   \u001b[90m# 16 parameters\u001b[39m\u001b[90m, plus 16\u001b[39m\n  Flux.flatten,\n  Dense(2048 => 512, relu),             \u001b[90m# 1_049_088 parameters\u001b[39m\n  Dropout(0.5),\n  Dense(512 => 100),                    \u001b[90m# 51_300 parameters\u001b[39m\n) \u001b[90m        # Total: 16 trainable arrays, \u001b[39m1_103_572 parameters,\n\u001b[90m          # plus 4 non-trainable, 48 parameters, summarysize \u001b[39m4.212 MiB."
     },
     "metadata": {},
     "execution_count": 5
    }
   ],
   "cell_type": "code",
   "source": [
    "analyzer = LRP(model)\n",
    "analyzer.model"
   ],
   "metadata": {},
   "execution_count": 5
  },
  {
   "cell_type": "markdown",
   "source": [
    "If this flattening is not desired, it can be disabled\n",
    "by passing the keyword argument `flatten=false` to the `LRP` constructor."
   ],
   "metadata": {}
  },
  {
   "cell_type": "markdown",
   "source": [
    "## LRP rules\n",
    "By default, the `LRP` constructor will assign the `ZeroRule` to all layers."
   ],
   "metadata": {}
  },
  {
   "outputs": [
    {
     "output_type": "execute_result",
     "data": {
      "text/plain": "LRP(\n  Conv((3, 3), 3 => 8, relu, pad=1) \u001b[90m => \u001b[39m\u001b[33mZeroRule()\u001b[39m,\n  Conv((3, 3), 8 => 8, relu, pad=1) \u001b[90m => \u001b[39m\u001b[33mZeroRule()\u001b[39m,\n  MaxPool((2, 2))                   \u001b[90m => \u001b[39m\u001b[33mZeroRule()\u001b[39m,\n  Conv((3, 3), 8 => 16, pad=1)      \u001b[90m => \u001b[39m\u001b[33mZeroRule()\u001b[39m,\n  BatchNorm(16, relu)               \u001b[90m => \u001b[39m\u001b[33mZeroRule()\u001b[39m,\n  Conv((3, 3), 16 => 8, relu, pad=1)\u001b[90m => \u001b[39m\u001b[33mZeroRule()\u001b[39m,\n  BatchNorm(8, relu)                \u001b[90m => \u001b[39m\u001b[33mZeroRule()\u001b[39m,\n  Flux.flatten                      \u001b[90m => \u001b[39m\u001b[33mZeroRule()\u001b[39m,\n  Dense(2048 => 512, relu)          \u001b[90m => \u001b[39m\u001b[33mZeroRule()\u001b[39m,\n  Dropout(0.5)                      \u001b[90m => \u001b[39m\u001b[33mZeroRule()\u001b[39m,\n  Dense(512 => 100)                 \u001b[90m => \u001b[39m\u001b[33mZeroRule()\u001b[39m,\n)"
     },
     "metadata": {},
     "execution_count": 6
    }
   ],
   "cell_type": "code",
   "source": [
    "LRP(model)"
   ],
   "metadata": {},
   "execution_count": 6
  },
  {
   "cell_type": "markdown",
   "source": [
    "This analyzer will return heatmaps that look identical to `InputTimesGradient`."
   ],
   "metadata": {}
  },
  {
   "cell_type": "markdown",
   "source": [
    "LRP's strength lies in assigning different rules to different layers,\n",
    "based on their functionality in the neural network[^1].\n",
    "ExplainableAI.jl implements many LRP rules out of the box,\n",
    "but it is also possible to *implement custom rules*.\n",
    "\n",
    "To assign different rules to different layers,\n",
    "use one of the composites presets,\n",
    "or create your own composite, as described in\n",
    "*Assigning rules to layers*."
   ],
   "metadata": {}
  },
  {
   "outputs": [
    {
     "output_type": "execute_result",
     "data": {
      "text/plain": "Composite(\n  GlobalTypeMap(  \u001b[90m# all layers\u001b[39m\n\u001b[94m    Flux.Conv              \u001b[39m => \u001b[33mZPlusRule()\u001b[39m,\n\u001b[94m    Flux.ConvTranspose     \u001b[39m => \u001b[33mZPlusRule()\u001b[39m,\n\u001b[94m    Flux.CrossCor          \u001b[39m => \u001b[33mZPlusRule()\u001b[39m,\n\u001b[94m    Flux.Dense             \u001b[39m => \u001b[33mEpsilonRule{Float32}(1.0f-6)\u001b[39m,\n\u001b[94m    typeof(NNlib.dropout)  \u001b[39m => \u001b[33mPassRule()\u001b[39m,\n\u001b[94m    Flux.AlphaDropout      \u001b[39m => \u001b[33mPassRule()\u001b[39m,\n\u001b[94m    Flux.Dropout           \u001b[39m => \u001b[33mPassRule()\u001b[39m,\n\u001b[94m    Flux.BatchNorm         \u001b[39m => \u001b[33mPassRule()\u001b[39m,\n\u001b[94m    typeof(Flux.flatten)   \u001b[39m => \u001b[33mPassRule()\u001b[39m,\n\u001b[94m    typeof(MLUtils.flatten)\u001b[39m => \u001b[33mPassRule()\u001b[39m,\n\u001b[94m    typeof(identity)       \u001b[39m => \u001b[33mPassRule()\u001b[39m,\n ),\n  FirstLayerTypeMap(  \u001b[90m# first layer\u001b[39m\n\u001b[94m    Flux.Conv         \u001b[39m => \u001b[33mFlatRule()\u001b[39m,\n\u001b[94m    Flux.ConvTranspose\u001b[39m => \u001b[33mFlatRule()\u001b[39m,\n\u001b[94m    Flux.CrossCor     \u001b[39m => \u001b[33mFlatRule()\u001b[39m,\n ),\n)"
     },
     "metadata": {},
     "execution_count": 7
    }
   ],
   "cell_type": "code",
   "source": [
    "composite = EpsilonPlusFlat() # using composite preset EpsilonPlusFlat"
   ],
   "metadata": {},
   "execution_count": 7
  },
  {
   "outputs": [
    {
     "output_type": "execute_result",
     "data": {
      "text/plain": "LRP(\n  Conv((3, 3), 3 => 8, relu, pad=1) \u001b[90m => \u001b[39m\u001b[33mFlatRule()\u001b[39m,\n  Conv((3, 3), 8 => 8, relu, pad=1) \u001b[90m => \u001b[39m\u001b[33mZPlusRule()\u001b[39m,\n  MaxPool((2, 2))                   \u001b[90m => \u001b[39m\u001b[33mZeroRule()\u001b[39m,\n  Conv((3, 3), 8 => 16, pad=1)      \u001b[90m => \u001b[39m\u001b[33mZPlusRule()\u001b[39m,\n  BatchNorm(16, relu)               \u001b[90m => \u001b[39m\u001b[33mPassRule()\u001b[39m,\n  Conv((3, 3), 16 => 8, relu, pad=1)\u001b[90m => \u001b[39m\u001b[33mZPlusRule()\u001b[39m,\n  BatchNorm(8, relu)                \u001b[90m => \u001b[39m\u001b[33mPassRule()\u001b[39m,\n  Flux.flatten                      \u001b[90m => \u001b[39m\u001b[33mPassRule()\u001b[39m,\n  Dense(2048 => 512, relu)          \u001b[90m => \u001b[39m\u001b[33mEpsilonRule{Float32}(1.0f-6)\u001b[39m,\n  Dropout(0.5)                      \u001b[90m => \u001b[39m\u001b[33mPassRule()\u001b[39m,\n  Dense(512 => 100)                 \u001b[90m => \u001b[39m\u001b[33mEpsilonRule{Float32}(1.0f-6)\u001b[39m,\n)"
     },
     "metadata": {},
     "execution_count": 8
    }
   ],
   "cell_type": "code",
   "source": [
    "LRP(model, composite)"
   ],
   "metadata": {},
   "execution_count": 8
  },
  {
   "cell_type": "markdown",
   "source": [
    "## Computing layerwise relevances\n",
    "If you are interested in computing layerwise relevances,\n",
    "call `analyze` with an LRP analyzer and the keyword argument\n",
    "`layerwise_relevances=true`.\n",
    "\n",
    "The layerwise relevances can be accessed in the `extras` field\n",
    "of the returned `Explanation`:"
   ],
   "metadata": {}
  },
  {
   "outputs": [
    {
     "output_type": "execute_result",
     "data": {
      "text/plain": "([0.04805068 0.09251239 … -0.14115624 -0.05361979; 0.17437132 -0.108845465 … -0.036351033 -0.012823663; … ; -0.14604393 -0.16151136 … 0.08034074 2.7493484; 0.30163696 0.013722458 … 0.06645274 0.47234836;;; -0.040034324 -0.103481956 … 0.02098076 0.0011630876; 0.21346365 0.03365911 … 0.01827254 -0.024416978; … ; 0.33003104 0.3908206 … -3.3979473 -0.74393004; -0.022546804 -0.03596292 … 1.7083672 1.0429647;;; -0.16766493 -0.16481349 … -0.043830268 -0.078705; -0.025264358 -0.15317698 … 0.40371564 0.14462993; … ; 0.005162308 0.024960686 … 1.3111563 1.9491644; 0.002244199 0.21282181 … -0.56484777 -0.124201015;;;;], [0.0095923925 0.14741553 … -0.004063532 -0.16007785; 0.0 0.0 … -0.0 -0.17066039; … ; 0.049626227 0.012007026 … -0.0 0.15530895; -0.0 -0.0 … -0.0 -0.0;;; -0.010020926 -0.34244624 … 0.050014228 0.008237151; -0.061041128 -0.11778985 … 0.34185934 0.006943445; … ; 0.0 0.2927181 … -10.068405 -0.37408537; -0.0 -0.002589948 … -0.17609908 0.046930287;;; -0.0 0.0 … 0.024698962 0.0; 0.0 -0.00028437775 … -0.0 0.0; … ; 0.0 0.0 … -0.0 -0.0; -0.016214889 -0.0009295185 … 0.0 -0.037261724;;; -0.0047147665 -0.0 … -0.0 0.0; -0.0 -0.061057724 … 0.025274212 -0.00077366974; … ; -0.0 -0.17720048 … -0.116587356 -0.0; -0.011784736 0.0 … 0.0 -0.0;;; 0.0 -0.08124767 … 0.0 0.014490971; -0.0 -0.0 … -0.07547275 -0.24851589; … ; -0.0 -0.08122489 … 0.14227973 -0.007370436; 0.0034801238 0.023137461 … -0.10466786 -0.0;;; 0.0 0.0 … 0.0 0.0; 0.0 -0.0 … -0.12707055 0.0; … ; 0.04867129 0.0 … 0.0 -0.0; -0.0 0.0 … -0.0 0.0033833913;;; 0.0009166617 -0.0 … 0.0 0.0; -0.055875972 0.0 … -0.11987747 -0.0; … ; -0.019377558 -0.044385314 … 0.5393902 -0.0; -5.813624f-5 -0.0001771016 … 0.014406212 -0.0;;; 6.0805512f-5 -0.019581698 … 0.0069940994 0.002612498; -0.06401524 0.00046108649 … -0.027628023 0.0; … ; 0.03285102 -0.43416843 … 3.3214753 -0.0; 0.0054718326 -0.006989703 … -0.060459916 0.08748839;;;;], [-0.009055244 0.0 … 0.0 0.0; 0.0 0.0 … 0.0 0.0; … ; 0.0 0.0 … 0.0 0.0; 0.0 0.0 … 0.0 0.0;;; 0.0 0.016329927 … -0.3160431 0.0; 0.0 0.0 … 0.0 0.0; … ; 0.0 0.0 … 0.0 -0.46388707; 0.0 0.0 … 0.0 0.0;;; 0.0 0.0 … 0.0 0.0; 0.0 -0.08911765 … 0.04467066 0.0; … ; 0.0 0.0 … -0.39452162 0.0; 0.0 0.10204985 … 0.0 0.0;;; 0.0 0.0 … 0.0 0.0; 0.0 0.04293809 … 0.0 -0.053961236; … ; 0.0043865074 0.0 … 0.19095135 0.0; 0.0 0.0 … 0.0 0.0;;; 0.0 0.0 … 0.0 0.0; 0.0 -0.014573212 … 0.0 0.0; … ; 0.0 0.013042942 … 0.0 0.0; 0.0 0.0 … 0.0 0.0;;; 0.0 0.0 … 0.0 0.0; 0.0 0.0 … 0.0 -9.485945f-5; … ; 0.0 0.0 … 0.0 0.0; 0.0 0.0 … 0.0 -0.0017194331;;; 0.0 0.0 … 0.0 0.0; 0.0 -0.049096663 … -0.30981365 0.0; … ; 0.0 -0.048974637 … 0.0 0.0; 0.0 0.0 … 1.1744065 0.0;;; 0.0 0.014013331 … 0.0 -0.023390178; 0.0 0.0 … 0.0 0.0; … ; 0.0 0.0 … 0.0 0.0; -0.0842362 0.0 … 0.0 0.0;;;;], [-0.009055244 -0.0 … 0.04040351 0.0; -0.0 0.0 … -0.0 0.0; … ; 0.0 0.0 … -0.0 0.25397587; 0.0 0.0 … 0.0 -0.0;;; 0.016329927 -0.052979693 … -0.20980117 -0.3160431; 0.0 -0.23289545 … 0.03355341 -1.3018625; … ; -0.0 -0.35367864 … -1.0808513 -0.93972576; -0.0 0.0 … -0.0 -0.46388707;;; -0.08911765 -0.47663918 … -0.11527238 0.04467066; -0.14429896 -0.94474876 … 0.3871064 -0.19952647; … ; -0.7225097 -1.2226532 … -32.513412 0.70467377; 0.10204985 0.5300497 … -0.30914634 -0.39452162;;; 0.04293809 -0.08018738 … -0.014405195 -0.053961236; -0.11434692 -0.14485717 … 0.101842746 -0.033508744; … ; -0.3961054 -0.16699453 … 4.116205 -0.020192664; 0.0043865074 0.009323606 … -0.11710629 0.19095135;;; -0.014573212 0.0 … 0.0 0.0; 0.039331555 -0.076846406 … 0.0 0.0; … ; 0.0 0.0 … 0.0 0.0; 0.013042942 -0.0 … -0.0 -0.0;;; 0.0 -0.0 … -0.0 -9.485956f-5; 0.0 0.0 … 0.0 0.0066651; … ; 0.0 0.0 … -0.0 0.1098837; -0.0 -0.0 … 0.0 -0.0017194331;;; -0.049096663 -1.2205106 … -0.089151464 -0.30981365; -0.65201217 1.7980525 … 0.90601176 0.086278185; … ; -0.9648975 -1.3737922 … -39.85987 1.7641653; -0.048974637 0.02841329 … -0.4986678 1.1744065;;; 0.014013331 0.30742702 … 0.016287046 -0.023390178; 0.0 -0.0 … -0.0 -0.02009805; … ; 0.0 -0.0 … -0.0 0.0; -0.0842362 -0.0 … -0.042924378 -0.0;;;;], [-0.036641307 0.07888042 … 0.14401548 0.10557242; -0.056165494 0.42412037 … 0.1587207 0.31862113; … ; -0.039175462 0.02927316 … 0.11085326 0.42099035; 0.113423884 0.23793343 … 0.32726243 0.13234471;;; -0.0003831185 8.1037266f-5 … -0.0029950666 -0.0051035658; 0.0005587877 0.0007547402 … -0.0013383852 4.624997f-5; … ; -0.00013296475 0.007532019 … -2.7562079f-5 0.00046321258; 0.00037730072 0.0007364025 … 0.00074937515 0.00071106845;;; -0.008342945 -0.027538596 … -1.8909807 -0.022189992; -0.003482224 -0.105246834 … -0.036393527 -0.050053433; … ; -0.0009904702 -0.038301878 … -0.047634035 0.28133544; 0.0088917455 0.0091343215 … 0.0093145985 -0.0013788915;;; … ;;; 0.14536808 0.1557613 … 0.04737441 -0.24726817; 0.18251064 0.012074739 … -0.28691396 -0.31434652; … ; 0.109398626 0.03070573 … -0.09151839 -0.5134243; -0.07322218 -0.03324896 … -0.27868286 -0.3353404;;; 0.0 0.0 … 0.0 0.0; 0.0 0.0 … -0.0 -0.0; … ; 0.0 -0.0 … -0.0 0.0; -0.0 0.0 … 0.0 -0.0;;; -2.0595999f-5 -1.8600786f-5 … -1.9669174f-5 -2.9253658f-7; -0.000119741504 4.047596f-6 … 8.8503026f-7 -2.0796098f-5; … ; -1.9751511f-5 -1.7530601f-5 … 2.1011806f-6 1.2780369f-5; -6.5505074f-6 -2.1192005f-5 … -1.3053302f-5 -1.0138825f-6;;;;], [0.0 0.013890823 … 0.022287281 0.0066548362; 0.0 0.029848652 … 0.010289868 0.021655869; … ; 0.0 0.010885995 … -0.0021139712 0.055031937; -0.0043973154 0.0061939536 … 0.020973478 0.0072668227;;; 0.0051807347 0.0 … 0.0 -0.0047869566; 0.01940577 0.0 … -0.0 0.0; … ; 0.0023313689 0.023012187 … 0.00027281494 0.0; 0.00653737 0.0 … 0.0 0.0;;; 0.00059026276 -0.019882893 … -0.08040825 0.032095056; 0.004205365 -0.0036429083 … 0.024252454 0.005476295; … ; -0.008944596 0.012028956 … -0.040149733 0.029173622; -0.013623944 -0.0045393147 … 0.00061438815 -0.012689308;;; … ;;; -0.0 -0.0 … -0.0 0.00096921046; -0.0 -0.0 … -0.014404054 -0.002936958; … ; 0.0 -0.0 … 0.0012620979 -0.05311358; 0.0014760832 -0.0022898745 … -0.010619858 -0.019424397;;; -0.0 -0.0 … -0.0 -0.0; -0.0 -0.0 … 0.0 -0.0; … ; -0.0 0.0 … 0.0 -0.0; 0.0 -0.0 … -0.0 0.0;;; 0.0 0.0 … 0.0 -9.785329f-5; -0.0015987991 0.0 … 0.0 -0.0; … ; -0.0 0.0 … -0.0 0.0; -0.0 -0.0 … -0.0 -0.0;;;;], [0.0 0.0 … 0.0 0.0; 0.0 0.0 … 0.0 0.0; … ; 0.0 0.0 … 0.0 0.0; 0.0 -0.0005164698 … 0.00041013167 0.0;;; -0.03869793 -0.09043331 … -0.088804364 0.0067834514; -0.07340118 -0.12897733 … 0.2717352 -0.1109988; … ; -0.10929594 -0.09380618 … -0.03022644 -0.014825647; -0.04037542 -0.05680004 … -0.06954376 -0.0134072015;;; 0.0 0.0 … 0.0 0.0; 0.00016714733 0.0 … 0.0 0.0; … ; 0.0 0.0 … 0.0 0.0; 0.0 0.0 … 0.0 0.0;;; -0.0 -0.0 … -0.0 -0.0; -0.0 -0.0 … -0.0 -0.0; … ; -0.0 -0.0 … -0.0 -0.0; 0.0005233968 -0.0 … -0.0 -0.0;;; 0.0 -0.0 … 0.0 -0.0; -0.0 -0.0 … 0.0 -0.0; … ; 0.0 0.0 … -0.0 0.0; -0.0 -0.0 … 0.0 0.0;;; -0.0002525653 -0.0 … -0.005398739 -3.0166799f-5; -0.0 -0.0 … -0.0 -0.0; … ; -0.0 -0.0 … -0.0 -0.0; -0.0 -0.0 … -0.0 -0.0;;; 0.0 0.00070725475 … 0.0023207671 0.0063899592; 0.0 0.0 … 0.0045111757 0.0065476415; … ; 0.0 0.005275555 … 0.0 0.022455996; 0.0010130926 -0.029530305 … 0.04129345 0.053550005;;; -0.0019117056 -0.0012103394 … -0.0014628869 -0.002965213; -0.0 -0.0020849598 … -0.0 -0.0; … ; -0.00045733727 -0.0035581111 … -0.0037836898 -0.002092169; -0.0031647973 0.025046472 … 0.024770956 -0.0024476298;;;;], [0.0 -0.0 … 0.0 -0.0; 0.0 -0.0 … -0.0 -0.0; … ; 0.0 -0.0 … -0.0 -0.0; 0.0 -0.00046919778 … 0.00037399938 -0.0;;; -0.0057433737 0.006630521 … -0.0029245426 0.011865324; -0.0062193824 -0.03247723 … 0.0358069 0.011644664; … ; 0.012864539 0.0075567826 … -0.0002959816 -0.0009807574; -0.0036962638 -0.0122661255 … -0.0072056307 0.00015373834;;; 0.0 0.0 … -0.0 0.0; 2.7158962f-5 0.0 … 0.0 0.0; … ; 0.0 -0.0 … 0.0 0.0; -0.0 -0.0 … -0.0 -0.0;;; 0.0 0.0 … -0.0 -0.0; 0.0 -0.0 … -0.0 -0.0; … ; -0.0 -0.0 … -0.0 0.0; 0.0006905445 0.0 … -0.0 -0.0;;; 0.0 -0.0 … 0.0 -0.0; -0.0 -0.0 … 0.0 -0.0; … ; 0.0 0.0 … -0.0 0.0; -0.0 -0.0 … 0.0 0.0;;; -1.1273297f-5 -0.0 … -0.0007145335 0.00335274; 0.0 0.0 … -0.0 -0.0; … ; 0.0 0.0 … -0.0 0.0; -0.0 0.0 … 0.0 0.0;;; -0.0 0.0003483056 … -0.00028855275 0.001793354; 0.0 -0.0 … 0.0012667106 -2.246247f-5; … ; -0.0 -0.0037260505 … -0.0 0.0030370976; 0.0003627198 -0.0076965154 … 0.0051213196 0.0222922;;; -0.00067486585 0.0032213023 … -0.0024222645 0.000509731; 0.0 0.0039043962 … -0.0 -0.0; … ; -0.0017019741 -0.0012747184 … 0.009002832 -0.0003846927; 0.0007632288 0.008737247 … 0.013168881 -0.004915456;;;;], Float32[0.0; 0.0; … ; -0.0003846927; -0.004915456;;], Float32[0.0; -0.02286645; … ; 0.0; -0.0033331357;;], Float32[0.0; -0.02286645; … ; 0.0; -0.0033331357;;], Float32[0.0; 0.0; … ; 0.0; 0.0;;])"
     },
     "metadata": {},
     "execution_count": 9
    }
   ],
   "cell_type": "code",
   "source": [
    "input = rand(Float32, 32, 32, 3, 1) # dummy input for our convolutional neural network\n",
    "\n",
    "expl = analyze(input, analyzer; layerwise_relevances=true)\n",
    "expl.extras.layerwise_relevances"
   ],
   "metadata": {},
   "execution_count": 9
  },
  {
   "cell_type": "markdown",
   "source": [
    "Note that the layerwise relevances are only kept for layers in the outermost `Chain` of the model.\n",
    "When using our unflattened model, we only obtain three layerwise relevances,\n",
    "one for each chain in the model and the output relevance:"
   ],
   "metadata": {}
  },
  {
   "outputs": [
    {
     "output_type": "execute_result",
     "data": {
      "text/plain": "([0.062214095 0.010205419 … 0.32306448 0.14985938; 0.0005696925 0.14241926 … -0.060920082 -0.022108115; … ; 0.027682973 -0.0064450777 … -0.006957633 0.119213104; -0.026850365 0.039280426 … 0.022352722 0.07253863;;; -0.08946193 -0.0031610236 … 0.041406512 0.002168947; -0.14642803 -0.054768592 … -0.013315244 -0.027809862; … ; 0.052831963 0.02318512 … -0.4216426 0.073634505; -0.0135962665 -0.034901354 … 0.18760784 0.11016585;;; -0.017077662 -0.06158311 … -0.2251723 -0.0524018; -0.025710236 -0.0001671864 … 0.04018284 -0.085158855; … ; 0.026370786 0.016737012 … 0.012367374 0.16674489; -3.3265595f-5 0.09210692 … -0.05359494 0.18441713;;;;], [0.0 -0.0 … 0.0 -0.0; 0.0 -0.0 … -0.0 -0.0; … ; -0.0 -0.0 … -0.0 -0.0; 0.0 -0.0010684608 … 0.0011250399 -0.0;;; -0.0042185425 0.00663077 … -0.0021051061 0.010686572; -0.0048815203 -0.027743142 … 0.032773167 0.011429789; … ; 0.011423038 0.009365288 … 0.00022573529 -0.0; -0.0019393126 -0.009362064 … -0.0046384074 0.0;;; 0.0 0.0 … -0.0 0.0; 0.00025577337 0.0 … 0.0 0.0; … ; 0.0 -0.0 … 0.0 0.0; -0.0 -0.0 … -0.0 -0.0;;; 0.0 0.0 … -0.0 -0.0; 0.0 -0.0 … -0.0 -0.0; … ; -0.0 -0.0 … -0.0 0.0; 0.0014735829 0.000501181 … -0.0 -0.0;;; 0.0 -0.0 … 0.0 -0.0; 0.0 -0.0 … 0.0 0.0; … ; 0.0 0.0 … -0.0 0.0; -0.0 -0.0 … 0.0 0.0;;; 0.0 -0.0 … 9.955012f-6 0.0025273573; 0.0 0.0 … -0.0 0.0; … ; 0.0 0.0 … -0.0 0.0; -0.0 0.0 … 0.0 0.0;;; -0.0 0.0 … -0.00016284669 0.0016122882; 0.0 -0.0 … 0.0005394674 0.0011588365; … ; -0.0 -0.0035561267 … -0.0 0.0032832345; 6.3315965f-5 -0.009135241 … 0.0046948185 0.022999084;;; -0.0010827355 0.0026322743 … -0.001599962 0.0005294383; 0.0 0.0039200843 … -0.0 -0.0; … ; -0.0012683908 -0.0004448406 … 0.008085142 -0.00028392422; 0.0015770227 0.009579575 … 0.014196629 -0.005472403;;;;], Float32[0.0; 0.0; … ; 0.0; 0.0;;])"
     },
     "metadata": {},
     "execution_count": 10
    }
   ],
   "cell_type": "code",
   "source": [
    "analyzer = LRP(model; flatten=false) # use unflattened model\n",
    "\n",
    "expl = analyze(input, analyzer; layerwise_relevances=true)\n",
    "expl.extras.layerwise_relevances"
   ],
   "metadata": {},
   "execution_count": 10
  },
  {
   "cell_type": "markdown",
   "source": [
    "## Performance tips\n",
    "### Using LRP with a GPU\n",
    "Like all other analyzers, LRP can be used on GPUs.\n",
    "Follow the instructions on *GPU support*.\n",
    "\n",
    "### Using LRP without a GPU\n",
    "Using Julia's package extension mechanism,\n",
    "ExplainableAI.jl's LRP implementation can optionally make use of\n",
    "[Tullio.jl](https://github.com/mcabbott/Tullio.jl) and\n",
    "[LoopVectorization.jl](https://github.com/JuliaSIMD/LoopVectorization.jl)\n",
    "for faster LRP rules on dense layers.\n",
    "\n",
    "This only requires loading the packages before loading ExplainableAI.jl:\n",
    "```julia\n",
    "using LoopVectorization, Tullio\n",
    "using ExplainableAI\n",
    "```\n",
    "\n",
    "[^1]: G. Montavon et al., [Layer-Wise Relevance Propagation: An Overview](https://link.springer.com/chapter/10.1007/978-3-030-28954-6_10)"
   ],
   "metadata": {}
  },
  {
   "cell_type": "markdown",
   "source": [
    "---\n",
    "\n",
    "*This notebook was generated using [Literate.jl](https://github.com/fredrikekre/Literate.jl).*"
   ],
   "metadata": {}
  }
 ],
 "nbformat_minor": 3,
 "metadata": {
  "language_info": {
   "file_extension": ".jl",
   "mimetype": "application/julia",
   "name": "julia",
   "version": "1.9.3"
  },
  "kernelspec": {
   "name": "julia-1.9",
   "display_name": "Julia 1.9.3",
   "language": "julia"
  }
 },
 "nbformat": 4
}
