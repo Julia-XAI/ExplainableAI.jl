{
 "cells": [
  {
   "cell_type": "markdown",
   "source": [
    "# Basic usage of LRP\n",
    "This example will show you best practices for using LRP,\n",
    "building on the basics shown in the *Getting started* section."
   ],
   "metadata": {}
  },
  {
   "cell_type": "markdown",
   "source": [
    "We start out by loading a small convolutional neural network:"
   ],
   "metadata": {}
  },
  {
   "outputs": [],
   "cell_type": "code",
   "source": [
    "using ExplainableAI\n",
    "using Flux\n",
    "\n",
    "model = Chain(\n",
    "    Chain(\n",
    "        Conv((3, 3), 3 => 8, relu; pad=1),\n",
    "        Conv((3, 3), 8 => 8, relu; pad=1),\n",
    "        MaxPool((2, 2)),\n",
    "        Conv((3, 3), 8 => 16; pad=1),\n",
    "        BatchNorm(16, relu),\n",
    "        Conv((3, 3), 16 => 8, relu; pad=1),\n",
    "        BatchNorm(8, relu),\n",
    "    ),\n",
    "    Chain(\n",
    "        Flux.flatten,\n",
    "        Dense(2048 => 512, relu),\n",
    "        Dropout(0.5),\n",
    "        Dense(512 => 100, softmax)\n",
    "    ),\n",
    ");"
   ],
   "metadata": {},
   "execution_count": 1
  },
  {
   "cell_type": "markdown",
   "source": [
    "This model contains two chains: the convolutional layers and the fully connected layers."
   ],
   "metadata": {}
  },
  {
   "cell_type": "markdown",
   "source": [
    "## Model preparation\n",
    "### Stripping the output softmax\n",
    "When using LRP, it is recommended to explain output logits instead of probabilities.\n",
    "This can be done by stripping the output softmax activation from the model\n",
    "using the `strip_softmax` function:"
   ],
   "metadata": {}
  },
  {
   "outputs": [
    {
     "output_type": "execute_result",
     "data": {
      "text/plain": "Chain(\n  Chain(\n    Conv((3, 3), 3 => 8, relu, pad=1),  \u001b[90m# 224 parameters\u001b[39m\n    Conv((3, 3), 8 => 8, relu, pad=1),  \u001b[90m# 584 parameters\u001b[39m\n    MaxPool((2, 2)),\n    Conv((3, 3), 8 => 16, pad=1),       \u001b[90m# 1_168 parameters\u001b[39m\n    BatchNorm(16, relu),                \u001b[90m# 32 parameters\u001b[39m\u001b[90m, plus 32\u001b[39m\n    Conv((3, 3), 16 => 8, relu, pad=1),  \u001b[90m# 1_160 parameters\u001b[39m\n    BatchNorm(8, relu),                 \u001b[90m# 16 parameters\u001b[39m\u001b[90m, plus 16\u001b[39m\n  ),\n  Chain(\n    Flux.flatten,\n    Dense(2048 => 512, relu),           \u001b[90m# 1_049_088 parameters\u001b[39m\n    Dropout(0.5),\n    Dense(512 => 100),                  \u001b[90m# 51_300 parameters\u001b[39m\n  ),\n) \u001b[90m        # Total: 16 trainable arrays, \u001b[39m1_103_572 parameters,\n\u001b[90m          # plus 4 non-trainable, 48 parameters, summarysize \u001b[39m4.213 MiB."
     },
     "metadata": {},
     "execution_count": 2
    }
   ],
   "cell_type": "code",
   "source": [
    "model = strip_softmax(model)"
   ],
   "metadata": {},
   "execution_count": 2
  },
  {
   "cell_type": "markdown",
   "source": [
    "If you don't remove the output softmax,\n",
    "model checks will fail."
   ],
   "metadata": {}
  },
  {
   "cell_type": "markdown",
   "source": [
    "### Canonizing the model\n",
    "LRP is not invariant to a model's implementation.\n",
    "Applying the `GammaRule` to two linear layers in a row will yield different results\n",
    "than first fusing the two layers into one linear layer and then applying the rule.\n",
    "This fusing is called \"canonization\" and can be done using the `canonize` function:"
   ],
   "metadata": {}
  },
  {
   "outputs": [
    {
     "output_type": "execute_result",
     "data": {
      "text/plain": "Chain(\n  Conv((3, 3), 3 => 8, relu, pad=1),    \u001b[90m# 224 parameters\u001b[39m\n  Conv((3, 3), 8 => 8, relu, pad=1),    \u001b[90m# 584 parameters\u001b[39m\n  MaxPool((2, 2)),\n  Conv((3, 3), 8 => 16, relu, pad=1),   \u001b[90m# 1_168 parameters\u001b[39m\n  Conv((3, 3), 16 => 8, relu, pad=1),   \u001b[90m# 1_160 parameters\u001b[39m\n  BatchNorm(8, relu),                   \u001b[90m# 16 parameters\u001b[39m\u001b[90m, plus 16\u001b[39m\n  Flux.flatten,\n  Dense(2048 => 512, relu),             \u001b[90m# 1_049_088 parameters\u001b[39m\n  Dropout(0.5),\n  Dense(512 => 100),                    \u001b[90m# 51_300 parameters\u001b[39m\n) \u001b[90m        # Total: 14 trainable arrays, \u001b[39m1_103_540 parameters,\n\u001b[90m          # plus 2 non-trainable, 16 parameters, summarysize \u001b[39m4.212 MiB."
     },
     "metadata": {},
     "execution_count": 3
    }
   ],
   "cell_type": "code",
   "source": [
    "model_canonized = canonize(model)"
   ],
   "metadata": {},
   "execution_count": 3
  },
  {
   "cell_type": "markdown",
   "source": [
    "After canonization, the first `BatchNorm` layer has been fused into the preceding `Conv` layer.\n",
    "The second `BatchNorm` layer wasn't fused\n",
    "since its preceding `Conv` layer has a ReLU activation function."
   ],
   "metadata": {}
  },
  {
   "cell_type": "markdown",
   "source": [
    "### Flattening the model\n",
    "ExplainableAI.jl's LRP implementation supports nested Flux Chains and Parallel layers.\n",
    "However, it is recommended to flatten the model before analyzing it.\n",
    "\n",
    "LRP is implemented by first running a forward pass through the model,\n",
    "keeping track of the intermediate activations, followed by a backward pass\n",
    "that computes the relevances.\n",
    "\n",
    "To keep the LRP implementation simple and maintainable,\n",
    "ExplainableAI.jl does not pre-compute \"nested\" activations.\n",
    "Instead, for every internal chain, a new forward pass is run to compute activations.\n",
    "\n",
    "By \"flattening\" a model, this overhead can be avoided.\n",
    "For this purpose, ExplainableAI.jl provides the function `flatten_model`:"
   ],
   "metadata": {}
  },
  {
   "outputs": [
    {
     "output_type": "execute_result",
     "data": {
      "text/plain": "Chain(\n  Conv((3, 3), 3 => 8, relu, pad=1),    \u001b[90m# 224 parameters\u001b[39m\n  Conv((3, 3), 8 => 8, relu, pad=1),    \u001b[90m# 584 parameters\u001b[39m\n  MaxPool((2, 2)),\n  Conv((3, 3), 8 => 16, pad=1),         \u001b[90m# 1_168 parameters\u001b[39m\n  BatchNorm(16, relu),                  \u001b[90m# 32 parameters\u001b[39m\u001b[90m, plus 32\u001b[39m\n  Conv((3, 3), 16 => 8, relu, pad=1),   \u001b[90m# 1_160 parameters\u001b[39m\n  BatchNorm(8, relu),                   \u001b[90m# 16 parameters\u001b[39m\u001b[90m, plus 16\u001b[39m\n  Flux.flatten,\n  Dense(2048 => 512, relu),             \u001b[90m# 1_049_088 parameters\u001b[39m\n  Dropout(0.5),\n  Dense(512 => 100),                    \u001b[90m# 51_300 parameters\u001b[39m\n) \u001b[90m        # Total: 16 trainable arrays, \u001b[39m1_103_572 parameters,\n\u001b[90m          # plus 4 non-trainable, 48 parameters, summarysize \u001b[39m4.212 MiB."
     },
     "metadata": {},
     "execution_count": 4
    }
   ],
   "cell_type": "code",
   "source": [
    "model_flat = flatten_model(model)"
   ],
   "metadata": {},
   "execution_count": 4
  },
  {
   "cell_type": "markdown",
   "source": [
    "This function is called by default when creating an LRP analyzer.\n",
    "Note that we pass the unflattened model to the analyzer, but `analyzer.model` is flattened:"
   ],
   "metadata": {}
  },
  {
   "outputs": [
    {
     "output_type": "execute_result",
     "data": {
      "text/plain": "Chain(\n  Conv((3, 3), 3 => 8, relu, pad=1),    \u001b[90m# 224 parameters\u001b[39m\n  Conv((3, 3), 8 => 8, relu, pad=1),    \u001b[90m# 584 parameters\u001b[39m\n  MaxPool((2, 2)),\n  Conv((3, 3), 8 => 16, pad=1),         \u001b[90m# 1_168 parameters\u001b[39m\n  BatchNorm(16, relu),                  \u001b[90m# 32 parameters\u001b[39m\u001b[90m, plus 32\u001b[39m\n  Conv((3, 3), 16 => 8, relu, pad=1),   \u001b[90m# 1_160 parameters\u001b[39m\n  BatchNorm(8, relu),                   \u001b[90m# 16 parameters\u001b[39m\u001b[90m, plus 16\u001b[39m\n  Flux.flatten,\n  Dense(2048 => 512, relu),             \u001b[90m# 1_049_088 parameters\u001b[39m\n  Dropout(0.5),\n  Dense(512 => 100),                    \u001b[90m# 51_300 parameters\u001b[39m\n) \u001b[90m        # Total: 16 trainable arrays, \u001b[39m1_103_572 parameters,\n\u001b[90m          # plus 4 non-trainable, 48 parameters, summarysize \u001b[39m4.212 MiB."
     },
     "metadata": {},
     "execution_count": 5
    }
   ],
   "cell_type": "code",
   "source": [
    "analyzer = LRP(model)\n",
    "analyzer.model"
   ],
   "metadata": {},
   "execution_count": 5
  },
  {
   "cell_type": "markdown",
   "source": [
    "If this flattening is not desired, it can be disabled\n",
    "by passing the keyword argument `flatten=false` to the `LRP` constructor."
   ],
   "metadata": {}
  },
  {
   "cell_type": "markdown",
   "source": [
    "## LRP rules\n",
    "By default, the `LRP` constructor will assign the `ZeroRule` to all layers."
   ],
   "metadata": {}
  },
  {
   "outputs": [
    {
     "output_type": "execute_result",
     "data": {
      "text/plain": "LRP(\n  Conv((3, 3), 3 => 8, relu, pad=1) \u001b[90m => \u001b[39m\u001b[33mZeroRule()\u001b[39m,\n  Conv((3, 3), 8 => 8, relu, pad=1) \u001b[90m => \u001b[39m\u001b[33mZeroRule()\u001b[39m,\n  MaxPool((2, 2))                   \u001b[90m => \u001b[39m\u001b[33mZeroRule()\u001b[39m,\n  Conv((3, 3), 8 => 16, pad=1)      \u001b[90m => \u001b[39m\u001b[33mZeroRule()\u001b[39m,\n  BatchNorm(16, relu)               \u001b[90m => \u001b[39m\u001b[33mZeroRule()\u001b[39m,\n  Conv((3, 3), 16 => 8, relu, pad=1)\u001b[90m => \u001b[39m\u001b[33mZeroRule()\u001b[39m,\n  BatchNorm(8, relu)                \u001b[90m => \u001b[39m\u001b[33mZeroRule()\u001b[39m,\n  Flux.flatten                      \u001b[90m => \u001b[39m\u001b[33mZeroRule()\u001b[39m,\n  Dense(2048 => 512, relu)          \u001b[90m => \u001b[39m\u001b[33mZeroRule()\u001b[39m,\n  Dropout(0.5)                      \u001b[90m => \u001b[39m\u001b[33mZeroRule()\u001b[39m,\n  Dense(512 => 100)                 \u001b[90m => \u001b[39m\u001b[33mZeroRule()\u001b[39m,\n)"
     },
     "metadata": {},
     "execution_count": 6
    }
   ],
   "cell_type": "code",
   "source": [
    "LRP(model)"
   ],
   "metadata": {},
   "execution_count": 6
  },
  {
   "cell_type": "markdown",
   "source": [
    "This analyzer will return heatmaps that look identical to `InputTimesGradient`."
   ],
   "metadata": {}
  },
  {
   "cell_type": "markdown",
   "source": [
    "LRP's strength lies in assigning different rules to different layers,\n",
    "based on their functionality in the neural network[^1].\n",
    "ExplainableAI.jl implements many LRP rules out of the box,\n",
    "but it is also possible to *implement custom rules*.\n",
    "\n",
    "To assign different rules to different layers,\n",
    "use one of the composites presets,\n",
    "or create your own composite, as described in\n",
    "*Assigning rules to layers*."
   ],
   "metadata": {}
  },
  {
   "outputs": [
    {
     "output_type": "execute_result",
     "data": {
      "text/plain": "Composite(\n  GlobalTypeMap(  \u001b[90m# all layers\u001b[39m\n\u001b[94m    Flux.Conv              \u001b[39m => \u001b[33mZPlusRule()\u001b[39m,\n\u001b[94m    Flux.ConvTranspose     \u001b[39m => \u001b[33mZPlusRule()\u001b[39m,\n\u001b[94m    Flux.CrossCor          \u001b[39m => \u001b[33mZPlusRule()\u001b[39m,\n\u001b[94m    Flux.Dense             \u001b[39m => \u001b[33mEpsilonRule{Float32}(1.0f-6)\u001b[39m,\n\u001b[94m    typeof(NNlib.dropout)  \u001b[39m => \u001b[33mPassRule()\u001b[39m,\n\u001b[94m    Flux.AlphaDropout      \u001b[39m => \u001b[33mPassRule()\u001b[39m,\n\u001b[94m    Flux.Dropout           \u001b[39m => \u001b[33mPassRule()\u001b[39m,\n\u001b[94m    Flux.BatchNorm         \u001b[39m => \u001b[33mPassRule()\u001b[39m,\n\u001b[94m    typeof(Flux.flatten)   \u001b[39m => \u001b[33mPassRule()\u001b[39m,\n\u001b[94m    typeof(MLUtils.flatten)\u001b[39m => \u001b[33mPassRule()\u001b[39m,\n\u001b[94m    typeof(identity)       \u001b[39m => \u001b[33mPassRule()\u001b[39m,\n ),\n  FirstLayerTypeMap(  \u001b[90m# first layer\u001b[39m\n\u001b[94m    Flux.Conv         \u001b[39m => \u001b[33mFlatRule()\u001b[39m,\n\u001b[94m    Flux.ConvTranspose\u001b[39m => \u001b[33mFlatRule()\u001b[39m,\n\u001b[94m    Flux.CrossCor     \u001b[39m => \u001b[33mFlatRule()\u001b[39m,\n\u001b[94m    Flux.Dense        \u001b[39m => \u001b[33mFlatRule()\u001b[39m,\n ),\n)"
     },
     "metadata": {},
     "execution_count": 7
    }
   ],
   "cell_type": "code",
   "source": [
    "composite = EpsilonPlusFlat() # using composite preset EpsilonPlusFlat"
   ],
   "metadata": {},
   "execution_count": 7
  },
  {
   "outputs": [
    {
     "output_type": "execute_result",
     "data": {
      "text/plain": "LRP(\n  Conv((3, 3), 3 => 8, relu, pad=1) \u001b[90m => \u001b[39m\u001b[33mFlatRule()\u001b[39m,\n  Conv((3, 3), 8 => 8, relu, pad=1) \u001b[90m => \u001b[39m\u001b[33mZPlusRule()\u001b[39m,\n  MaxPool((2, 2))                   \u001b[90m => \u001b[39m\u001b[33mZeroRule()\u001b[39m,\n  Conv((3, 3), 8 => 16, pad=1)      \u001b[90m => \u001b[39m\u001b[33mZPlusRule()\u001b[39m,\n  BatchNorm(16, relu)               \u001b[90m => \u001b[39m\u001b[33mPassRule()\u001b[39m,\n  Conv((3, 3), 16 => 8, relu, pad=1)\u001b[90m => \u001b[39m\u001b[33mZPlusRule()\u001b[39m,\n  BatchNorm(8, relu)                \u001b[90m => \u001b[39m\u001b[33mPassRule()\u001b[39m,\n  Flux.flatten                      \u001b[90m => \u001b[39m\u001b[33mPassRule()\u001b[39m,\n  Dense(2048 => 512, relu)          \u001b[90m => \u001b[39m\u001b[33mEpsilonRule{Float32}(1.0f-6)\u001b[39m,\n  Dropout(0.5)                      \u001b[90m => \u001b[39m\u001b[33mPassRule()\u001b[39m,\n  Dense(512 => 100)                 \u001b[90m => \u001b[39m\u001b[33mEpsilonRule{Float32}(1.0f-6)\u001b[39m,\n)"
     },
     "metadata": {},
     "execution_count": 8
    }
   ],
   "cell_type": "code",
   "source": [
    "LRP(model, composite)"
   ],
   "metadata": {},
   "execution_count": 8
  },
  {
   "cell_type": "markdown",
   "source": [
    "## Computing layerwise relevances\n",
    "If you are interested in computing layerwise relevances,\n",
    "call `analyze` with an LRP analyzer and the keyword argument\n",
    "`layerwise_relevances=true`.\n",
    "\n",
    "The layerwise relevances can be accessed in the `extras` field\n",
    "of the returned `Explanation`:"
   ],
   "metadata": {}
  },
  {
   "outputs": [
    {
     "output_type": "execute_result",
     "data": {
      "text/plain": "([0.077151515 0.015893074 … 0.08874586 0.16405015; -0.098801464 0.02017297 … -1.2941322 -0.82979995; … ; -0.30017254 -0.35707462 … -0.008203558 0.16014124; -0.0045686276 -0.7051702 … 0.00657057 0.38908505;;; -0.023330465 0.41327968 … 0.67891407 0.27238947; -0.03364542 0.43007246 … 0.41408044 0.022908483; … ; -0.008526255 0.17929342 … -1.0462033 -0.0038888764; 0.20953935 -0.0016221092 … 0.0113426475 0.104839355;;; 0.027333228 0.32284644 … 0.0011191734 -0.13488327; -0.0022958014 0.009451093 … -0.12607698 -0.103826195; … ; -0.20070475 -0.114801094 … 0.22741207 -0.028051639; 0.008652911 0.14937541 … -0.070178516 0.036372244;;;;], [0.0 -0.0 … 0.0 -0.0; 0.0 -0.0 … 0.6319626 -0.0; … ; 0.022515483 -0.0 … -0.0 -0.0; 0.0 0.0 … -0.0 0.0;;; 0.0 0.047478326 … 0.0 -0.06407617; 0.0 0.031876504 … 0.43720287 -0.45312095; … ; -0.0 -0.15004764 … -0.0 1.0319198; -0.0 0.0 … -0.058346067 0.06389485;;; 0.038752824 -0.16627176 … 0.0 -0.0; 0.0 0.0 … 0.0 -0.0; … ; 0.0 0.0 … 0.0 0.0; -0.0 0.0 … 0.0 -0.0;;; -0.0 -0.0 … 0.0 -0.0; 0.19125588 -0.0 … 0.0 -0.0; … ; 0.0 0.0 … 0.0 0.0; 0.0 0.0 … 0.0 0.0;;; -0.0 -0.0 … 0.0 0.0; -0.2287074 -0.053354457 … 0.0 0.0; … ; -0.0 -0.0 … 0.0 0.0; 0.0 -0.0 … 0.0 0.0;;; 0.19074352 0.0 … 0.11367529 0.026642622; 0.0 0.0 … 0.042669736 0.0; … ; -0.0 0.015249581 … 0.0 0.0; -0.020396626 0.24632041 … 0.11098964 0.0;;; -0.2125817 0.0 … 0.0 -0.0; 0.0 -0.0 … 0.0 -0.0; … ; 0.017998405 0.0033300195 … -0.0 0.0; -0.0 -0.0 … -0.0 -0.0;;; -0.16847897 0.08884274 … -0.17937273 0.0023024462; -0.019246807 -0.0 … -0.0 -0.2846768; … ; -0.042433463 -0.017876282 … -0.0 0.3249254; -0.0 -0.0014565678 … -0.0 0.0;;;;], [0.0 0.0 … 0.0 0.3797805; 0.0 0.56036633 … 0.0 0.0; … ; 0.17672537 0.0 … 0.2709693 0.0; 0.0 0.0 … 0.0 0.0;;; -0.26245755 0.0 … 0.0 0.0; 0.0 0.0 … 0.0 -0.14794824; … ; 0.011823436 0.0 … 0.0 0.073091604; 0.0 0.0 … 0.0 0.0;;; 0.0 0.38463584 … 0.0 0.0; 0.0 0.0 … 0.6757818 0.0; … ; 0.087155975 0.0 … 0.0 0.8667972; 0.0 0.0 … 0.0 0.0;;; 0.0 0.0 … 0.0 0.0; 0.0 0.0037343362 … -0.45968264 0.0; … ; 0.0 -0.04633571 … -0.27873567 0.0; 0.0 0.0 … 0.0 0.0;;; 0.0 -0.45519108 … 0.0 0.0; 0.0 0.0 … 0.0 -0.18735892; … ; 0.0 0.0 … 0.0 0.036354236; -6.0935625f-5 0.0 … 0.0 0.0;;; 0.0 -0.6341682 … 0.0 0.0; 0.0 0.0 … 0.11341552 0.0; … ; 0.0 0.0 … 0.035216693 0.0; 0.0 -0.12009807 … 0.0 0.0;;; 0.07517724 0.0 … 0.19370039 0.0; 0.0 0.0 … 0.0 0.0; … ; 0.0 0.541717 … 0.065242164 0.0; 0.0 0.0 … 0.0 0.0;;; 0.0 0.0 … 0.0 0.0; 0.13560162 0.0 … 0.0 -0.050562732; … ; -0.14035049 0.0 … 0.0 0.0; 0.0 0.0 … -0.076849915 0.0;;;;], [0.56036633 0.07304787 … 0.07496929 0.3797805; 0.11504015 0.060626004 … 0.33819905 0.0; … ; 0.31955373 0.0 … 0.44421858 0.90611976; 0.17672537 0.3291478 … 0.08078204 0.2709693;;; -0.26245755 -0.18321651 … -0.6524104 -0.14794824; 0.036123514 0.24189717 … 1.063696 0.92469156; … ; 0.020867402 0.11025177 … 0.018244209 0.14472681; 0.011823436 0.1427751 … 0.21318065 0.073091604;;; 0.38463584 1.1556255 … 0.2713009 0.6757818; 0.17130679 1.854248 … 4.9690833 1.2441775; … ; 0.038420007 1.0663571 … 1.1623744 1.6337391; 0.087155975 0.5490842 … 0.317613 0.8667972;;; 0.0037343367 -0.194779 … -0.108109064 -0.45968264; -0.0005678895 -0.52992195 … -0.3604315 -1.6544963; … ; -0.13905585 -0.2740444 … -0.43616673 -0.988568; -0.04633571 -0.101462804 … -0.08047535 -0.27873567;;; -0.45519108 -0.018377142 … -0.5355858 -0.18735892; -0.0 0.05460292 … 0.63124114 -0.28378543; … ; -0.18399139 0.08449256 … 0.009528901 -0.0033484008; -6.0935683f-5 0.20480336 … 0.16466059 0.036354236;;; -0.6341682 -0.2797529 … -0.03503519 0.11341552; -0.012258323 0.042075332 … -0.89664584 -0.21059206; … ; -0.17180215 -0.06302047 … -0.047157183 -0.086258404; -0.12009807 -0.2655972 … -0.15076812 0.035216693;;; 0.07517724 0.22913022 … 0.0150169805 0.19370039; -0.0003312838 0.24926342 … 0.6428008 0.35108054; … ; 0.23824228 0.0 … 0.16790971 -0.14088583; 0.541717 0.13999327 … 0.23405492 0.065242164;;; 0.13560162 -0.0397726 … 0.00080546393 -0.050562732; -0.0070724166 0.034410037 … -0.22541046 -0.04614022; … ; 0.01822453 -0.051418055 … 0.10823407 -0.2963732; -0.14035049 -0.0 … -0.31409466 -0.076849915;;;;], [-0.005396175 -0.020152379 … -0.03008701 -0.00025926495; -0.0057378663 0.325791 … 0.046735775 -0.0031926206; … ; 0.0045749107 0.00023195085 … -0.03275638 0.000107508764; -0.009898996 -0.009985498 … 0.0051652244 0.02460532;;; -0.0005900317 4.2955267f-6 … 0.0004718599 -0.0013029923; 0.0004732622 -0.00030278132 … 0.00021661623 -0.00042645814; … ; -0.0002743615 -4.4960634f-5 … -0.001251148 -0.001479575; -8.2790706f-5 -0.0013235289 … 0.0006252893 0.0004328163;;; 1.1572485 0.84672964 … 0.8681647 0.5826185; 1.6085798 2.231213 … 2.020515 -0.112111725; … ; 1.2558521 2.7170005 … 1.1067913 1.828071; 0.46461117 0.6184808 … 0.4215731 0.05927199;;; … ;;; -0.0 0.0 … -0.0 -0.0; -0.0 -0.0 … 0.0 -0.0; … ; -0.0 0.0 … 0.0 0.0; 0.0 -0.0 … -0.0 -0.0;;; -0.42402193 -0.088804506 … -0.3733209 -0.27307943; -0.025065111 -0.13577574 … 0.30211237 -0.8026022; … ; -0.06271947 -0.093398355 … -0.13858241 -0.20859568; -0.19052772 -0.30233318 … -0.07246889 -0.15115812;;; -2.3937018f-5 -2.5884881f-5 … 3.3051787f-5 -1.1981761f-5; -1.4773125f-5 -2.5248266f-5 … -1.4688543f-5 -2.6494572f-5; … ; -2.4572271f-5 -2.4002567f-5 … -2.1365575f-5 -2.526274f-5; -2.5344678f-5 -1.2262045f-5 … 5.167061f-6 -1.7738277f-5;;;;], [0.0038872887 -0.0048724017 … -0.014878338 0.0022732443; -0.0005475248 0.0031460791 … 0.017562887 -0.0; … ; 0.0015218743 0.0 … -0.016852671 -0.0; -0.001225246 -0.0012479427 … 0.0016015787 0.0016574046;;; 0.0011813636 -0.0 … 0.0 0.0; 0.0 -0.000801443 … 0.0 0.0; … ; 0.0013137059 0.0 … -0.0030918468 0.0; -1.949749f-5 -0.0031262587 … 0.004503391 0.0;;; -9.1690585f-5 0.0007441161 … 0.010599783 0.0024278131; -0.0076582553 0.001561862 … -0.26258805 -0.0; … ; -0.005329366 -0.020652637 … -0.0008582611 0.023826962; 0.0022595557 -0.0012735733 … 0.0010224755 0.00049907295;;; … ;;; 0.0 -0.0 … -0.0 0.0; 0.0 0.0 … -0.0 -0.0; … ; 0.0 -0.0 … -0.0 -0.0; -0.0 0.0 … 0.0 0.0;;; -0.001666021 0.0043921825 … -0.03214299 -0.0054971064; 2.0063695f-5 0.00494474 … 0.11668824 -0.19196686; … ; 0.0008498853 0.0022307164 … 0.0028431849 0.015428886; 0.00689592 0.0058987546 … 0.0005044576 -0.0055120173;;; -0.0 0.0 … 0.00064791896 -0.00071178173; -0.0 -0.0 … 0.0 0.0; … ; 0.0 -0.0 … 0.0 -0.0; -0.0 -0.0 … 0.0 0.0;;;;], [-0.0 -0.0 … -0.0 -0.0; -0.0036056023 -0.0 … -0.0 -0.0; … ; 0.0012011458 -0.0 … -0.0 -0.0; 0.0051831463 -0.00011525845 … -0.0 -0.0;;; -0.0 -0.0 … -0.0 -0.00033711156; -0.0 -0.0 … -0.0 0.0014078171; … ; -0.0 -0.0037153992 … 0.0016187623 0.00446922; -0.0 -0.0022682978 … -6.0236143f-5 -0.005662249;;; 0.010133875 -0.0045650844 … 0.0 7.149791f-5; 0.0 0.0 … 0.0006641237 0.0; … ; 0.0 0.00012193614 … 0.0012323746 -0.00034001257; 0.0053371172 -0.0012112479 … 0.0001601854 0.00945087;;; -0.0 -0.0 … -0.0 -0.0; -0.0 -0.0 … -0.0 -0.0; … ; -0.0 -0.0 … -0.0 -0.0; -0.008028158 0.0088424925 … 0.0024902325 -0.00079021364;;; 0.0 0.0 … 0.0027097682 -0.0020153332; 5.460574f-6 0.0 … 0.0 0.0; … ; 0.0 0.0 … 0.00062634714 -0.0006389909; 0.0 0.0 … 0.0 0.0;;; -0.00056931574 -0.00417423 … 0.031723596 -0.0026019325; -0.0029200946 -0.008573336 … 0.020172046 -0.0044085653; … ; -0.0 -0.0 … -0.0015654828 -0.0030305737; -0.0 -0.0 … -0.0010000056 -0.0032625925;;; 0.0005487842 0.0018788548 … 0.0 0.0018904002; 0.0 0.0018976972 … 0.0016729133 -0.19145967; … ; 0.0032123215 -0.019106315 … 0.0010284852 0.00040787048; 0.00043055075 0.0028558471 … 0.09594649 0.0027313426;;; 0.0 0.0 … 0.00061509595 0.0006203118; 0.000614336 -0.009142387 … 0.00044485496 0.00057673163; … ; 0.0 -0.08050461 … 0.041406125 0.0005073183; 0.0 0.00046205742 … 0.0004668591 0.00019260205;;;;], [-0.0 -0.0 … 0.0 -0.0; -0.0032581056 0.0 … -0.0 -0.0; … ; 0.0009972185 0.0 … 0.0 -0.0; 0.00522676 0.00012068078 … -0.0 0.0;;; -0.0 0.0 … 0.0 -0.00014801347; -0.0 0.0 … -0.0 0.0009866976; … ; -0.0 -0.0026558023 … 0.00090553437 0.0032445001; -0.0 -0.0060002 … 0.0002452989 -0.004360084;;; 0.008235797 -0.0024706125 … -0.0 0.00028438756; -0.0 -0.0 … 0.00025548274 -0.0; … ; 0.0 0.0011414901 … 0.00046651257 -0.00026420038; 0.0032893335 -0.0007500739 … -0.00071140466 0.00554141;;; 0.0 0.0 … 0.0 0.0; 0.0 0.0 … -0.0 0.0; … ; 0.0 -0.0 … 0.0 0.0; -0.005770969 0.011061174 … 0.003095374 -0.00041589446;;; 0.0 0.0 … 0.0017033112 -0.0018102481; -0.00033274942 -0.0 … -0.0 -0.0; … ; -0.0 0.0 … 0.00030188533 -0.00033456934; 0.0 0.0 … -0.0 0.0;;; -0.00019610608 -0.0008673925 … 0.012971327 0.0051831333; 0.0034881346 -0.00024099533 … 0.011272474 -0.0061088013; … ; -0.0 0.0 … -0.0010388218 -0.00044409794; 0.0 0.0 … 0.0018036835 0.003109263;;; 0.00050509 0.0016957971 … 0.0 0.003455812; -0.0 0.0025450697 … -0.0010571323 -0.012657165; … ; -0.007019525 -0.007268305 … -0.0012471181 -0.001510133; 0.00058819633 0.0066969893 … 0.013412904 0.0012065887;;; 0.0 0.0 … 0.0014344481 -0.00039814736; 0.0024874867 -0.0024814012 … 0.0078849085 0.014422722; … ; 0.0 -0.027941374 … 0.013517723 0.0052589644; 0.0 -0.00096667797 … 0.0010449049 0.0004749473;;;;], Float32[-0.0; -0.0032581058; … ; 0.005258965; 0.00047494736;;], Float32[-0.0; 0.0; … ; 0.0; 0.0;;], Float32[-0.0; 0.0; … ; 0.0; 0.0;;], Float32[0.0; 0.0; … ; 0.0; 0.0;;])"
     },
     "metadata": {},
     "execution_count": 9
    }
   ],
   "cell_type": "code",
   "source": [
    "input = rand(Float32, 32, 32, 3, 1) # dummy input for our convolutional neural network\n",
    "\n",
    "expl = analyze(input, analyzer; layerwise_relevances=true)\n",
    "expl.extras.layerwise_relevances"
   ],
   "metadata": {},
   "execution_count": 9
  },
  {
   "cell_type": "markdown",
   "source": [
    "Note that the layerwise relevances are only kept for layers in the outermost `Chain` of the model.\n",
    "When using our unflattened model, we only obtain three layerwise relevances,\n",
    "one for each chain in the model and the output relevance:"
   ],
   "metadata": {}
  },
  {
   "outputs": [
    {
     "output_type": "execute_result",
     "data": {
      "text/plain": "([-0.058104258 0.05168663 … 0.0153100975 0.029596597; -0.08590282 0.0007736535 … -0.52790344 -0.31033704; … ; 0.040899325 -0.17871623 … -0.023520866 -0.0064330255; 0.0053112274 -0.3359867 … 0.008053024 0.10028583;;; -0.060254194 0.4939027 … 0.54724187 -0.2392867; -0.032215405 0.22210641 … 0.14944428 -0.12085018; … ; 0.0071806633 -0.04959096 … -0.6756204 0.008731435; 0.003333503 0.04097503 … -0.093487725 0.26889613;;; -0.096555464 0.22681886 … 0.090883255 -0.10755934; 0.08972696 0.12471495 … -0.059116572 -0.096833915; … ; 0.038194306 -0.037606828 … -0.13744842 -0.032522842; 0.0050949804 0.054183174 … 0.015434059 0.058919623;;;;], [-0.0 -0.0 … -0.0 -0.0; -0.0007722537 -0.0 … -0.0 0.0; … ; 0.00076137955 0.0 … -0.0 0.0; -0.0020953547 -0.0022802374 … -0.0 0.0;;; -0.0 0.0 … 0.0 -4.938758f-5; -0.0 -0.0 … 0.0 -0.00014020053; … ; -0.0 0.0004177179 … 0.0009554703 -0.0020260427; -0.0 -0.0017618357 … 5.0369632f-5 0.00174429;;; -0.002243609 -0.0026036073 … -0.0 0.0; -0.0 -0.0 … 0.0011590604 -0.0; … ; -0.0 0.0006499554 … -0.0019169938 0.0009860446; -0.0040816804 -0.0006094021 … -0.0007956276 0.002919587;;; -0.0 0.0 … 0.0 0.0; 0.0 -0.0 … -0.0 -0.0; … ; 0.0 0.0 … 0.0 -0.0; -0.0016525959 0.0032596902 … -0.00028623873 0.000112955175;;; 0.0 0.0 … 0.00082755805 -0.0016535623; -0.00039347 0.0 … 0.0 0.0; … ; -0.0 0.0 … 0.00065281836 -0.00027180545; -0.0 -0.0 … -0.0 0.0;;; -6.8302645f-5 0.001073337 … 0.016177744 0.0032744424; 0.0038300427 0.0051830793 … 0.010539864 0.0030401023; … ; -0.0 0.0 … -0.0014926108 -0.0005022844; -0.0 0.0 … 0.0005969301 0.0050212885;;; -0.00028378758 0.0002351754 … -0.0 0.0005442681; -0.0 0.00042932126 … -0.0034998523 -0.008487232; … ; 0.002123601 0.0007456774 … -0.0014776472 -0.0; -1.321327f-5 0.0006876686 … -0.0029898707 0.0036651262;;; 0.0 0.0 … -0.00051320397 -0.0071746935; -0.00013638409 -0.010537764 … 0.0024040318 -0.0050800564; … ; -0.0 -0.0040683383 … -0.00017198037 0.00010613574; 0.0 0.00090615667 … -0.0011383388 0.0;;;;], Float32[0.0; 0.0; … ; 0.0; 0.0;;])"
     },
     "metadata": {},
     "execution_count": 10
    }
   ],
   "cell_type": "code",
   "source": [
    "analyzer = LRP(model; flatten=false) # use unflattened model\n",
    "\n",
    "expl = analyze(input, analyzer; layerwise_relevances=true)\n",
    "expl.extras.layerwise_relevances"
   ],
   "metadata": {},
   "execution_count": 10
  },
  {
   "cell_type": "markdown",
   "source": [
    "## Performance tips\n",
    "### Using LRP with a GPU\n",
    "Like all other analyzers, LRP can be used on GPUs.\n",
    "Follow the instructions on *GPU support*.\n",
    "\n",
    "### Using LRP without a GPU\n",
    "Using Julia's package extension mechanism,\n",
    "ExplainableAI.jl's LRP implementation can optionally make use of\n",
    "[Tullio.jl](https://github.com/mcabbott/Tullio.jl) and\n",
    "[LoopVectorization.jl](https://github.com/JuliaSIMD/LoopVectorization.jl)\n",
    "for faster LRP rules on dense layers.\n",
    "\n",
    "This only requires loading the packages before loading ExplainableAI.jl:\n",
    "```julia\n",
    "using LoopVectorization, Tullio\n",
    "using ExplainableAI\n",
    "```\n",
    "\n",
    "[^1]: G. Montavon et al., [Layer-Wise Relevance Propagation: An Overview](https://link.springer.com/chapter/10.1007/978-3-030-28954-6_10)"
   ],
   "metadata": {}
  },
  {
   "cell_type": "markdown",
   "source": [
    "---\n",
    "\n",
    "*This notebook was generated using [Literate.jl](https://github.com/fredrikekre/Literate.jl).*"
   ],
   "metadata": {}
  }
 ],
 "nbformat_minor": 3,
 "metadata": {
  "language_info": {
   "file_extension": ".jl",
   "mimetype": "application/julia",
   "name": "julia",
   "version": "1.9.3"
  },
  "kernelspec": {
   "name": "julia-1.9",
   "display_name": "Julia 1.9.3",
   "language": "julia"
  }
 },
 "nbformat": 4
}
