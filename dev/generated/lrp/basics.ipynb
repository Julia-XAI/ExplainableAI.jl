{
 "cells": [
  {
   "cell_type": "markdown",
   "source": [
    "# Basic usage of LRP\n",
    "This example will show you best practices for using LRP,\n",
    "building on the basics shown in the *Getting started* section."
   ],
   "metadata": {}
  },
  {
   "cell_type": "markdown",
   "source": [
    "We start out by loading a small convolutional neural network:"
   ],
   "metadata": {}
  },
  {
   "outputs": [],
   "cell_type": "code",
   "source": [
    "using ExplainableAI\n",
    "using Flux\n",
    "\n",
    "model = Chain(\n",
    "    Chain(\n",
    "        Conv((3, 3), 3 => 8, relu; pad=1),\n",
    "        Conv((3, 3), 8 => 8, relu; pad=1),\n",
    "        MaxPool((2, 2)),\n",
    "        Conv((3, 3), 8 => 16; pad=1),\n",
    "        BatchNorm(16, relu),\n",
    "        Conv((3, 3), 16 => 8, relu; pad=1),\n",
    "        BatchNorm(8, relu),\n",
    "    ),\n",
    "    Chain(\n",
    "        Flux.flatten,\n",
    "        Dense(2048 => 512, relu),\n",
    "        Dropout(0.5),\n",
    "        Dense(512 => 100, softmax)\n",
    "    ),\n",
    ");"
   ],
   "metadata": {},
   "execution_count": 1
  },
  {
   "cell_type": "markdown",
   "source": [
    "This model contains two chains: the convolutional layers and the fully connected layers."
   ],
   "metadata": {}
  },
  {
   "cell_type": "markdown",
   "source": [
    "## Model preparation\n",
    "### Stripping the output softmax\n",
    "When using LRP, it is recommended to explain output logits instead of probabilities.\n",
    "This can be done by stripping the output softmax activation from the model\n",
    "using the `strip_softmax` function:"
   ],
   "metadata": {}
  },
  {
   "outputs": [
    {
     "output_type": "execute_result",
     "data": {
      "text/plain": "Chain(\n  Chain(\n    Conv((3, 3), 3 => 8, relu, pad=1),  \u001b[90m# 224 parameters\u001b[39m\n    Conv((3, 3), 8 => 8, relu, pad=1),  \u001b[90m# 584 parameters\u001b[39m\n    MaxPool((2, 2)),\n    Conv((3, 3), 8 => 16, pad=1),       \u001b[90m# 1_168 parameters\u001b[39m\n    BatchNorm(16, relu),                \u001b[90m# 32 parameters\u001b[39m\u001b[90m, plus 32\u001b[39m\n    Conv((3, 3), 16 => 8, relu, pad=1),  \u001b[90m# 1_160 parameters\u001b[39m\n    BatchNorm(8, relu),                 \u001b[90m# 16 parameters\u001b[39m\u001b[90m, plus 16\u001b[39m\n  ),\n  Chain(\n    Flux.flatten,\n    Dense(2048 => 512, relu),           \u001b[90m# 1_049_088 parameters\u001b[39m\n    Dropout(0.5),\n    Dense(512 => 100),                  \u001b[90m# 51_300 parameters\u001b[39m\n  ),\n) \u001b[90m        # Total: 16 trainable arrays, \u001b[39m1_103_572 parameters,\n\u001b[90m          # plus 4 non-trainable, 48 parameters, summarysize \u001b[39m4.213 MiB."
     },
     "metadata": {},
     "execution_count": 2
    }
   ],
   "cell_type": "code",
   "source": [
    "model = strip_softmax(model)"
   ],
   "metadata": {},
   "execution_count": 2
  },
  {
   "cell_type": "markdown",
   "source": [
    "If you don't remove the output softmax,\n",
    "model checks will fail."
   ],
   "metadata": {}
  },
  {
   "cell_type": "markdown",
   "source": [
    "### Canonizing the model\n",
    "LRP is not invariant to a model's implementation.\n",
    "Applying the `GammaRule` to two linear layers in a row will yield different results\n",
    "than first fusing the two layers into one linear layer and then applying the rule.\n",
    "This fusing is called \"canonization\" and can be done using the `canonize` function:"
   ],
   "metadata": {}
  },
  {
   "outputs": [
    {
     "output_type": "execute_result",
     "data": {
      "text/plain": "Chain(\n  Chain(\n    Conv((3, 3), 3 => 8, relu, pad=1),  \u001b[90m# 224 parameters\u001b[39m\n    Conv((3, 3), 8 => 8, relu, pad=1),  \u001b[90m# 584 parameters\u001b[39m\n    MaxPool((2, 2)),\n    Conv((3, 3), 8 => 16, pad=1),       \u001b[90m# 1_168 parameters\u001b[39m\n    BatchNorm(16, relu),                \u001b[90m# 32 parameters\u001b[39m\u001b[90m, plus 32\u001b[39m\n    Conv((3, 3), 16 => 8, relu, pad=1),  \u001b[90m# 1_160 parameters\u001b[39m\n    BatchNorm(8, relu),                 \u001b[90m# 16 parameters\u001b[39m\u001b[90m, plus 16\u001b[39m\n  ),\n  Chain(\n    Flux.flatten,\n    Dense(2048 => 512, relu),           \u001b[90m# 1_049_088 parameters\u001b[39m\n    Dropout(0.5),\n    Dense(512 => 100),                  \u001b[90m# 51_300 parameters\u001b[39m\n  ),\n) \u001b[90m        # Total: 16 trainable arrays, \u001b[39m1_103_572 parameters,\n\u001b[90m          # plus 4 non-trainable, 48 parameters, summarysize \u001b[39m4.213 MiB."
     },
     "metadata": {},
     "execution_count": 3
    }
   ],
   "cell_type": "code",
   "source": [
    "model = canonize(model)"
   ],
   "metadata": {},
   "execution_count": 3
  },
  {
   "cell_type": "markdown",
   "source": [
    "### Flattening the model\n",
    "ExplainableAI.jl's LRP implementation supports nested Flux Chains and Parallel layers.\n",
    "However, it is recommended to flatten the model before analyzing it.\n",
    "\n",
    "LRP is implemented by first running a forward pass through the model,\n",
    "keeping track of the intermediate activations, followed by a backward pass\n",
    "that computes the relevances.\n",
    "\n",
    "To keep the LRP implementation simple and maintainable,\n",
    "ExplainableAI.jl does not pre-compute \"nested\" activations.\n",
    "Instead, for every internal chain, a new forward pass is run to compute activations.\n",
    "\n",
    "By \"flattening\" a model, this overhead can be avoided.\n",
    "For this purpose, ExplainableAI.jl provides the function `flatten_model`:"
   ],
   "metadata": {}
  },
  {
   "outputs": [
    {
     "output_type": "execute_result",
     "data": {
      "text/plain": "Chain(\n  Conv((3, 3), 3 => 8, relu, pad=1),    \u001b[90m# 224 parameters\u001b[39m\n  Conv((3, 3), 8 => 8, relu, pad=1),    \u001b[90m# 584 parameters\u001b[39m\n  MaxPool((2, 2)),\n  Conv((3, 3), 8 => 16, pad=1),         \u001b[90m# 1_168 parameters\u001b[39m\n  BatchNorm(16, relu),                  \u001b[90m# 32 parameters\u001b[39m\u001b[90m, plus 32\u001b[39m\n  Conv((3, 3), 16 => 8, relu, pad=1),   \u001b[90m# 1_160 parameters\u001b[39m\n  BatchNorm(8, relu),                   \u001b[90m# 16 parameters\u001b[39m\u001b[90m, plus 16\u001b[39m\n  Flux.flatten,\n  Dense(2048 => 512, relu),             \u001b[90m# 1_049_088 parameters\u001b[39m\n  Dropout(0.5),\n  Dense(512 => 100),                    \u001b[90m# 51_300 parameters\u001b[39m\n) \u001b[90m        # Total: 16 trainable arrays, \u001b[39m1_103_572 parameters,\n\u001b[90m          # plus 4 non-trainable, 48 parameters, summarysize \u001b[39m4.212 MiB."
     },
     "metadata": {},
     "execution_count": 4
    }
   ],
   "cell_type": "code",
   "source": [
    "model_flat = flatten_model(model)"
   ],
   "metadata": {},
   "execution_count": 4
  },
  {
   "cell_type": "markdown",
   "source": [
    "This function is called by default when creating an LRP analyzer.\n",
    "Note that we pass the unflattened model to the analyzer, but `analyzer.model` is flattened:"
   ],
   "metadata": {}
  },
  {
   "outputs": [
    {
     "output_type": "execute_result",
     "data": {
      "text/plain": "Chain(\n  Conv((3, 3), 3 => 8, relu, pad=1),    \u001b[90m# 224 parameters\u001b[39m\n  Conv((3, 3), 8 => 8, relu, pad=1),    \u001b[90m# 584 parameters\u001b[39m\n  MaxPool((2, 2)),\n  Conv((3, 3), 8 => 16, pad=1),         \u001b[90m# 1_168 parameters\u001b[39m\n  BatchNorm(16, relu),                  \u001b[90m# 32 parameters\u001b[39m\u001b[90m, plus 32\u001b[39m\n  Conv((3, 3), 16 => 8, relu, pad=1),   \u001b[90m# 1_160 parameters\u001b[39m\n  BatchNorm(8, relu),                   \u001b[90m# 16 parameters\u001b[39m\u001b[90m, plus 16\u001b[39m\n  Flux.flatten,\n  Dense(2048 => 512, relu),             \u001b[90m# 1_049_088 parameters\u001b[39m\n  Dropout(0.5),\n  Dense(512 => 100),                    \u001b[90m# 51_300 parameters\u001b[39m\n) \u001b[90m        # Total: 16 trainable arrays, \u001b[39m1_103_572 parameters,\n\u001b[90m          # plus 4 non-trainable, 48 parameters, summarysize \u001b[39m4.212 MiB."
     },
     "metadata": {},
     "execution_count": 5
    }
   ],
   "cell_type": "code",
   "source": [
    "analyzer = LRP(model)\n",
    "analyzer.model"
   ],
   "metadata": {},
   "execution_count": 5
  },
  {
   "cell_type": "markdown",
   "source": [
    "If this flattening is not desired, it can be disabled\n",
    "by passing the keyword argument `flatten=false` to the `LRP` constructor."
   ],
   "metadata": {}
  },
  {
   "cell_type": "markdown",
   "source": [
    "## LRP rules\n",
    "By default, the `LRP` constructor will assign the `ZeroRule` to all layers."
   ],
   "metadata": {}
  },
  {
   "outputs": [
    {
     "output_type": "execute_result",
     "data": {
      "text/plain": "LRP(\n  Conv((3, 3), 3 => 8, relu, pad=1) \u001b[90m => \u001b[39m\u001b[33mZeroRule()\u001b[39m,\n  Conv((3, 3), 8 => 8, relu, pad=1) \u001b[90m => \u001b[39m\u001b[33mZeroRule()\u001b[39m,\n  MaxPool((2, 2))                   \u001b[90m => \u001b[39m\u001b[33mZeroRule()\u001b[39m,\n  Conv((3, 3), 8 => 16, pad=1)      \u001b[90m => \u001b[39m\u001b[33mZeroRule()\u001b[39m,\n  BatchNorm(16, relu)               \u001b[90m => \u001b[39m\u001b[33mZeroRule()\u001b[39m,\n  Conv((3, 3), 16 => 8, relu, pad=1)\u001b[90m => \u001b[39m\u001b[33mZeroRule()\u001b[39m,\n  BatchNorm(8, relu)                \u001b[90m => \u001b[39m\u001b[33mZeroRule()\u001b[39m,\n  Flux.flatten                      \u001b[90m => \u001b[39m\u001b[33mZeroRule()\u001b[39m,\n  Dense(2048 => 512, relu)          \u001b[90m => \u001b[39m\u001b[33mZeroRule()\u001b[39m,\n  Dropout(0.5)                      \u001b[90m => \u001b[39m\u001b[33mZeroRule()\u001b[39m,\n  Dense(512 => 100)                 \u001b[90m => \u001b[39m\u001b[33mZeroRule()\u001b[39m,\n)"
     },
     "metadata": {},
     "execution_count": 6
    }
   ],
   "cell_type": "code",
   "source": [
    "LRP(model)"
   ],
   "metadata": {},
   "execution_count": 6
  },
  {
   "cell_type": "markdown",
   "source": [
    "This analyzer will return heatmaps that look identical to `InputTimesGradient`."
   ],
   "metadata": {}
  },
  {
   "cell_type": "markdown",
   "source": [
    "LRP's strength lies in assigning different rules to different layers,\n",
    "based on their functionality in the neural network[^1].\n",
    "ExplainableAI.jl implements many LRP rules out of the box,\n",
    "but it is also possible to *implement custom rules*.\n",
    "\n",
    "To assign different rules to different layers,\n",
    "use one of the composites presets,\n",
    "or create your own composite, as described in\n",
    "*Assigning rules to layers*."
   ],
   "metadata": {}
  },
  {
   "outputs": [
    {
     "output_type": "execute_result",
     "data": {
      "text/plain": "Composite(\n  GlobalTypeMap(  \u001b[90m# all layers\u001b[39m\n\u001b[94m    Flux.Conv              \u001b[39m => \u001b[33mZPlusRule()\u001b[39m,\n\u001b[94m    Flux.ConvTranspose     \u001b[39m => \u001b[33mZPlusRule()\u001b[39m,\n\u001b[94m    Flux.CrossCor          \u001b[39m => \u001b[33mZPlusRule()\u001b[39m,\n\u001b[94m    Flux.Dense             \u001b[39m => \u001b[33mEpsilonRule{Float32}(1.0f-6)\u001b[39m,\n\u001b[94m    typeof(NNlib.dropout)  \u001b[39m => \u001b[33mPassRule()\u001b[39m,\n\u001b[94m    Flux.AlphaDropout      \u001b[39m => \u001b[33mPassRule()\u001b[39m,\n\u001b[94m    Flux.Dropout           \u001b[39m => \u001b[33mPassRule()\u001b[39m,\n\u001b[94m    Flux.BatchNorm         \u001b[39m => \u001b[33mPassRule()\u001b[39m,\n\u001b[94m    typeof(Flux.flatten)   \u001b[39m => \u001b[33mPassRule()\u001b[39m,\n\u001b[94m    typeof(MLUtils.flatten)\u001b[39m => \u001b[33mPassRule()\u001b[39m,\n\u001b[94m    typeof(identity)       \u001b[39m => \u001b[33mPassRule()\u001b[39m,\n ),\n  FirstLayerTypeMap(  \u001b[90m# first layer\u001b[39m\n\u001b[94m    Flux.Conv         \u001b[39m => \u001b[33mFlatRule()\u001b[39m,\n\u001b[94m    Flux.ConvTranspose\u001b[39m => \u001b[33mFlatRule()\u001b[39m,\n\u001b[94m    Flux.CrossCor     \u001b[39m => \u001b[33mFlatRule()\u001b[39m,\n\u001b[94m    Flux.Dense        \u001b[39m => \u001b[33mFlatRule()\u001b[39m,\n ),\n)"
     },
     "metadata": {},
     "execution_count": 7
    }
   ],
   "cell_type": "code",
   "source": [
    "composite = EpsilonPlusFlat() # using composite preset EpsilonPlusFlat"
   ],
   "metadata": {},
   "execution_count": 7
  },
  {
   "outputs": [
    {
     "output_type": "execute_result",
     "data": {
      "text/plain": "LRP(\n  Conv((3, 3), 3 => 8, relu, pad=1) \u001b[90m => \u001b[39m\u001b[33mFlatRule()\u001b[39m,\n  Conv((3, 3), 8 => 8, relu, pad=1) \u001b[90m => \u001b[39m\u001b[33mZPlusRule()\u001b[39m,\n  MaxPool((2, 2))                   \u001b[90m => \u001b[39m\u001b[33mZeroRule()\u001b[39m,\n  Conv((3, 3), 8 => 16, pad=1)      \u001b[90m => \u001b[39m\u001b[33mZPlusRule()\u001b[39m,\n  BatchNorm(16, relu)               \u001b[90m => \u001b[39m\u001b[33mPassRule()\u001b[39m,\n  Conv((3, 3), 16 => 8, relu, pad=1)\u001b[90m => \u001b[39m\u001b[33mZPlusRule()\u001b[39m,\n  BatchNorm(8, relu)                \u001b[90m => \u001b[39m\u001b[33mPassRule()\u001b[39m,\n  Flux.flatten                      \u001b[90m => \u001b[39m\u001b[33mPassRule()\u001b[39m,\n  Dense(2048 => 512, relu)          \u001b[90m => \u001b[39m\u001b[33mEpsilonRule{Float32}(1.0f-6)\u001b[39m,\n  Dropout(0.5)                      \u001b[90m => \u001b[39m\u001b[33mPassRule()\u001b[39m,\n  Dense(512 => 100)                 \u001b[90m => \u001b[39m\u001b[33mEpsilonRule{Float32}(1.0f-6)\u001b[39m,\n)"
     },
     "metadata": {},
     "execution_count": 8
    }
   ],
   "cell_type": "code",
   "source": [
    "LRP(model, composite)"
   ],
   "metadata": {},
   "execution_count": 8
  },
  {
   "cell_type": "markdown",
   "source": [
    "## Computing layerwise relevances\n",
    "If you are interested in computing layerwise relevances,\n",
    "call `analyze` with an LRP analyzer and the keyword argument\n",
    "`layerwise_relevances=true`.\n",
    "\n",
    "The layerwise relevances can be accessed in the `extras` field\n",
    "of the returned `Explanation`:"
   ],
   "metadata": {}
  },
  {
   "outputs": [
    {
     "output_type": "execute_result",
     "data": {
      "text/plain": "12-element Vector{Array{Float32}}:\n [-0.18994068 -0.7703042 … -0.20815872 -0.26140225; 0.054159388 1.8291205 … 1.3994691 0.22589004; … ; 0.585558 0.019281242 … -15.273606 -2.5904727; 0.030654546 -0.2204323 … 1.4648172 -0.051623683;;; -0.19448811 0.24677317 … 0.14337707 0.5258486; -0.0016046048 -0.27177888 … -0.11518451 0.72391385; … ; -0.17201695 0.1057996 … 3.5340686 1.4566963; 0.22765861 -0.6557113 … 6.32011 0.091400474;;; -0.33535245 -0.122471675 … -0.15614906 -0.012600481; 0.12553911 -0.0735439 … 0.4326802 -0.216694; … ; 0.3161148 -0.1738284 … 0.31483385 -12.721662; 0.003992655 0.009095096 … 11.068788 -3.356378;;;;]\n [0.0 0.0 … -0.010728507 -0.0; -0.0 0.0 … -0.0 0.0; … ; 0.0 -0.0 … -0.0 -0.0; 0.0 0.0 … 0.0 -0.0;;; 0.0 -0.0 … 0.0 0.0; 0.0 0.0 … 0.0 0.0; … ; -0.0 0.0 … -0.018080303 -0.019087167; 0.0 -0.5259536 … 0.0 0.0;;; 0.0030007905 0.09418396 … -0.10422068 -0.016132385; -0.060448565 -0.2184044 … -1.078677 0.16678578; … ; 0.28351486 -0.44925684 … -0.23173332 0.07477034; 0.0 0.013161505 … -0.2953681 -0.10814096;;; -0.0 0.038912974 … 0.0 -0.0; -0.08728617 -0.8077904 … -0.15818682 0.07269093; … ; -0.14081058 -0.017647581 … 3.5633173 -0.10457672; 0.051530004 -0.009517764 … 0.00474426 0.064673506;;; 0.0 0.0 … -0.0 -0.0; -0.122500055 0.1416801 … -0.0 -0.0; … ; -0.034447316 0.0 … -1.0145179 0.0; -0.09314521 0.104125425 … 0.0 0.0;;; 0.0 -0.0 … -0.0 -0.0; -0.0 -0.0 … -0.0 -0.0; … ; 0.0 0.0 … -0.0 0.0; -0.0 0.0 … 0.0 0.0;;; -0.0 -0.0 … 0.0 0.0; -0.12808934 -0.3321583 … -0.5046982 -0.0; … ; -0.0003462866 -0.09501623 … -4.9657145 0.0036343671; -0.017458832 0.07943709 … -0.08175608 -0.028957063;;; 0.006842145 0.09750284 … 0.3394537 0.27362806; -0.024032282 0.3318798 … -0.019082695 1.0859354; … ; 0.77546185 0.6216406 … 5.1998005 0.19839808; -0.17288247 -0.11343766 … -0.92131364 0.10635095;;;;]\n [0.0 0.0 … 0.0 -0.07099896; 0.0 0.0 … 0.0 0.0; … ; 0.0 0.0 … 0.0 -0.20781434; 0.0 0.0 … 0.0 0.0;;; 0.0 0.0 … 0.0 0.0; 0.0 0.48731396 … -0.15721345 0.0; … ; 0.46998215 0.0 … 0.0 0.0; 0.0 0.0 … 0.0 0.098199405;;; 0.0 -0.4022921 … -0.63982016 0.0; 0.0 0.0 … 0.0 0.0; … ; 0.0 -0.016606981 … 0.0 0.21920054; 0.0 0.0 … 0.0 0.0;;; 0.0 0.0 … 0.0 0.0; 0.0 -0.3084244 … -0.13141052 0.0; … ; -0.74714184 0.0 … -0.06984503 0.0; 0.0 0.0 … 0.0 0.0;;; 0.0 0.0 … 0.0 0.0; 0.0 0.0 … 0.0 0.0; … ; 0.0 0.0 … 0.0 0.0; 0.4135997 0.0 … 0.0 0.0;;; 0.0 0.0 … 0.0 0.0; 0.0 1.1965935 … 1.2911336 0.0; … ; 0.0 0.5700857 … 0.0 -0.3556455; 0.0 0.0 … 0.0 0.0;;; 0.0 0.0 … 0.0 0.0; 0.5043236 0.0 … 0.96154994 0.0; … ; 0.0 -0.3087398 … 0.5844176 0.0; 0.0 0.0 … 0.0 0.0;;; 0.0 0.0 … 0.0 -0.40254575; 0.0 0.0 … 0.0 0.0; … ; 0.0 0.0 … 0.0 -0.27214673; 0.0 0.0 … 0.0 0.0;;;;]\n [-0.0 0.110876486 … 0.0093660895 -0.07099896; 0.0 0.0 … 0.0 -0.16698366; … ; 0.0 0.0 … 0.0 0.0; -0.0 -0.0 … -0.0 -0.20781434;;; 0.48731396 -1.8819298 … -0.15521811 -0.15721345; 0.14287822 -0.8265812 … -0.7560183 0.21480338; … ; 0.42821473 -0.2700646 … 0.0 0.0; 0.46998215 0.0029635408 … -5.2264605 0.098199405;;; -0.4022921 -1.3467029 … -0.81348866 -0.63982016; -1.1689153 -0.81232095 … -0.6783085 -1.2259195; … ; 0.26875883 0.35784492 … -38.894024 1.8408132; -0.016606981 -0.59897137 … 0.06361548 0.21920054;;; -0.3084244 -0.73194134 … -0.532837 -0.13141052; -0.39209676 0.36156434 … -0.5422391 -1.3878577; … ; -0.32439372 1.2263271 … 140.8945 1.1903518; -0.74714184 -1.9389472 … -2.084966 -0.06984503;;; 0.0 -0.0 … -0.0 -0.0; -0.07709845 -0.0 … -0.0 -0.0; … ; -0.03882028 0.0 … 0.0 0.0; 0.4135997 -0.0 … 0.0 0.0;;; 1.1965935 -0.2623108 … 0.8242497 1.2911336; 0.17892902 3.248576 … 3.7646325 0.32990026; … ; 0.5862177 3.1138897 … -121.498665 0.53019685; 0.5700857 -0.85320824 … 3.4523 -0.3556455;;; 0.5043236 2.611102 … 1.2774074 0.96154994; -0.79149 -1.0674998 … 2.0893257 2.1458402; … ; 1.7444988 -1.318268 … 104.64188 15.173709; -0.3087398 -1.3245007 … -2.0519812 0.5844176;;; -0.0 0.00488355 … -0.047345944 -0.40254575; -0.0 -0.0 … -0.0 -0.17706211; … ; -0.0 -0.0 … 0.0 1.8544233; -0.0 -0.0 … -0.0 -0.27214673;;;;]\n [-3.3794959 -0.6801055 … -0.96057886 -0.6947563; -0.7436038 -0.78372175 … -0.7839315 -0.74505043; … ; -1.2393694 -2.9751065 … -0.8545735 -0.4693668; 0.5335554 -0.4946904 … -0.54018927 -0.19273864;;; 2.0509651f-6 1.7989684f-6 … 1.0999247f-6 1.919676f-6; 1.7156685f-6 -2.915851f-6 … 2.5754618f-6 2.2240902f-6; … ; 2.494379f-6 -2.1248159f-6 … 2.2864588f-6 2.5653494f-6; 1.5756737f-5 1.3386967f-6 … 1.9576426f-6 2.2525587f-6;;; -0.0068819295 -0.0004416413 … -0.0004573005 -0.00046229697; -0.00013263439 -0.00017837589 … 0.00010345934 -0.0003558406; … ; -0.00045768268 -0.00013576292 … -9.420447f-5 -0.00045671556; -0.00036855246 -0.00044686373 … -0.0004235552 -0.0003916864;;; … ;;; -4.2695807f-5 -3.3547665f-5 … -7.252546f-5 -5.0627586f-5; 7.178127f-5 -4.5189594f-5 … 9.68318f-6 -3.5179623f-5; … ; -1.059653f-5 0.0001815526 … -7.732149f-5 -1.4267792f-6; -6.6308545f-5 -6.498265f-5 … -4.0734296f-5 -5.9391743f-5;;; -0.011816817 -0.05509138 … -0.021984825 0.0035066423; -0.20755182 -0.03803884 … 0.0017175777 -0.01135302; … ; -0.03913451 -0.047602113 … 0.24493939 0.0028606066; -0.019315762 -0.009222274 … -0.008889317 0.0012368904;;; 5.3186384f-5 0.0003846833 … 2.6858306f-5 4.4770764f-5; 7.578049f-5 1.686826f-5 … -2.1590447f-5 7.706936f-5; … ; 2.9576053f-5 -3.1165535f-5 … -8.369583f-7 8.455041f-5; 7.356964f-5 -4.258875f-5 … 9.49004f-6 8.3108345f-5;;;;]\n [-0.12601541 -0.018036256 … -0.07198913 -0.036020756; -0.07675318 -0.09310319 … -0.035907112 -0.05077221; … ; -0.058737013 -0.14628986 … -0.4371812 2.4320428; -0.0 -0.037697747 … -0.036715828 -0.00998043;;; 0.0 0.0 … 0.0 0.00010224029; 0.0 -0.0 … 0.0 0.0; … ; 0.0 0.0 … -0.0 -0.0; 0.00016834767 0.0 … 0.0 0.0;;; -0.045617215 -0.0 … -0.0 -0.0; -0.0 -0.0 … -0.0 -0.0; … ; -0.0 -0.0 … 0.0 0.0; -0.0 -0.0 … -0.0 -0.0;;; … ;;; 0.0 -0.0 … 0.0 0.0; 0.0 0.0 … 0.0 0.0; … ; 0.0 0.0 … -0.0 0.0; 0.0 0.0 … 0.0 0.0;;; 0.012924626 -0.030003853 … -0.008260789 -0.0; -0.09682399 -0.033520702 … -0.0 -0.007882229; … ; -0.005211766 -0.0 … 0.62534094 0.0; -0.0010590352 -0.00278521 … -0.0007099904 -0.0;;; -0.0 0.0056615453 … -0.0 0.0; 0.0 0.0 … -0.0 0.0; … ; 0.0 0.0 … -0.0 -0.0; 0.0 0.0 … 0.0 0.0;;;;]\n [-0.016714461 -0.515131 … -0.015382985 -0.010738609; -0.010748595 0.6382955 … -0.032171246 -0.013846745; … ; -0.02020647 -0.02337094 … -0.013149648 -0.007404411; -0.0122207245 -0.012802474 … -0.00948304 -0.0032632374;;; -0.0 -0.0 … -0.0 -0.0; -0.0 -0.0 … -0.0 -0.0; … ; -0.0 -0.0 … -0.0 -0.0; -0.0 -0.0 … -0.0 -0.0;;; 0.0008498567 0.00036189228 … 0.0 2.9729777f-5; 0.0003418478 -0.0009725506 … -0.003772255 0.0017832326; … ; 0.005015853 0.010722425 … 0.0001342674 0.00030312696; 5.5709065f-6 8.659453f-5 … 0.0003380629 0.00012836284;;; -0.0013048502 -0.0 … -2.7550452f-5 -2.44941f-5; 0.030698942 -0.0015765056 … -0.0011079018 -0.00042044523; … ; -0.026588066 -0.0005383025 … -0.0007817864 -0.0; -0.0016717266 -0.0016868035 … -0.00011959704 -0.0;;; -0.0 -0.0 … -0.0 -0.0; -0.0 -0.0 … -0.0 -0.0; … ; -0.010300365 -0.0 … -0.0 -0.0; 0.0055464073 -0.0 … -0.0 -0.0;;; -0.054992486 -0.14564528 … -0.06376929 -0.07084148; -0.06821546 -0.09649428 … -0.066353776 -0.04241186; … ; -0.015079097 -0.26909986 … -0.098199904 -0.086468674; -0.022011181 -0.07082164 … -0.029397162 -0.044059407;;; -6.3348554f-5 -0.0 … -0.0 -0.0; -0.0053805504 -0.010540575 … -0.007973031 -0.0; … ; -0.00040799344 -0.012920209 … -0.00029738486 -0.00027660976; -0.0 -0.0004246879 … -0.00016460916 0.005070041;;; 0.00044109908 -0.0 … -0.0 -0.0; -0.0 -0.0 … -0.0 -0.0; … ; -0.0 -0.0 … -0.0 -0.0; -0.0 -0.0 … -0.0 -0.0;;;;]\n [0.0026832998 -0.03007148 … 0.018263832 -0.000770517; 0.0009184297 0.014635654 … 0.028989825 0.017483043; … ; -0.003207922 -0.003451126 … -0.0038993158 0.0013031319; -0.0023589425 -0.017211964 … 0.0007289164 -0.0029258241;;; 0.0 0.0 … 0.0 0.0; 0.0 0.0 … 0.0 0.0; … ; 0.0 0.0 … 0.0 0.0; 0.0 0.0 … 0.0 0.0;;; 6.932131f-5 -0.00021625399 … 0.0 0.00025217287; -0.0013375382 -0.0015286913 … -0.0017228149 0.00060248876; … ; 0.0011793916 0.007596575 … 0.00011150634 -1.08318045f-5; 8.744474f-6 8.70154f-5 … 0.0029886025 -0.00082851195;;; -0.0014362531 0.0 … 0.0001648202 3.650851f-5; 0.016895778 0.0021560797 … 0.0051422813 -0.0021453595; … ; -0.010669839 -0.0004828029 … 0.0023002303 0.0; -0.005592013 -0.0054046977 … -0.0014392586 0.0;;; 0.0 0.0 … 0.0 0.0; 0.0 0.0 … 0.0 0.0; … ; -0.0029196911 0.0 … 0.0 0.0; 0.0074044666 0.0 … 0.0 0.0;;; -0.00027678616 -0.0019088129 … 0.001693476 0.0014111028; -0.0030514111 -0.0043446147 … -0.004210233 0.0006267136; … ; 0.0010705267 -0.010137428 … -0.0047067613 0.004528042; 0.00013304758 0.0037089868 … 0.0018737001 -0.00037251806;;; 0.00013448196 0.0 … 0.0 0.0; -0.0014833697 -0.004859347 … -0.0017486218 0.0; … ; -0.002027187 -0.0053915246 … 0.00027144112 -0.00016718263; 0.0 0.0006812149 … 0.00013044722 0.00048248775;;; 0.0004046458 0.0 … 0.0 0.0; 0.0 0.0 … 0.0 0.0; … ; 0.0 0.0 … 0.0 0.0; 0.0 0.0 … 0.0 0.0;;;;]\n [0.0026832998; 0.0009184297; … ; 0.0; 0.0;;]\n [0.010192695; 0.0; … ; -0.0; 0.0058752014;;]\n [0.010192695; 0.0; … ; -0.038248975; 0.0058752014;;]\n [0.0; 0.0; … ; 0.0; 0.0;;]"
     },
     "metadata": {},
     "execution_count": 9
    }
   ],
   "cell_type": "code",
   "source": [
    "input = rand(Float32, 32, 32, 3, 1) # dummy input for our convolutional neural network\n",
    "\n",
    "expl = analyze(input, analyzer; layerwise_relevances=true)\n",
    "expl.extras.layerwise_relevances"
   ],
   "metadata": {},
   "execution_count": 9
  },
  {
   "cell_type": "markdown",
   "source": [
    "Note that the layerwise relevances are only kept for layers in the outermost `Chain` of the model.\n",
    "When using our unflattened model, we only obtain three layerwise relevances,\n",
    "one for each chain in the model and the output relevance:"
   ],
   "metadata": {}
  },
  {
   "outputs": [
    {
     "output_type": "execute_result",
     "data": {
      "text/plain": "3-element Vector{Array{Float32}}:\n [-0.00030796978 0.022312518 … 0.1060526 0.011429385; -0.005689325 -0.108352736 … 0.13922119 0.0021702994; … ; -0.1298489 -0.13122123 … -0.2745749 0.050535772; 0.030822238 -0.20286837 … 1.1225337 -0.0049680145;;; 0.010525914 -0.0079715345 … -0.012172496 -0.28491655; 0.006977133 0.22310103 … -0.09988386 -0.27886805; … ; 0.06729122 0.09336093 … 0.030711418 -0.0249808; -0.034310948 0.08068441 … 0.2550797 -0.0024802196;;; 0.08051469 -0.04540617 … 0.08214495 0.0034638431; 0.075959176 -0.03464199 … 0.39616728 0.29529622; … ; 0.1952497 0.0088418815 … 0.04506221 -0.23366533; 2.5112631f-5 -0.050635673 … 0.19069813 -0.41390914;;;;]\n [0.00922432 -0.015618816 … 0.013215207 -0.00061489723; -0.004164366 0.030595807 … -0.0100742355 0.009426368; … ; 0.0029560712 -0.004976026 … -0.0065034516 -0.002629637; -0.0008210285 -0.016184729 … -0.0030729268 0.00050035823;;; 0.0 0.0 … 0.0 0.0; 0.0 0.0 … 0.0 0.0; … ; 0.0 0.0 … 0.0 0.0; 0.0 0.0 … 0.0 0.0;;; 0.0007383995 0.003631039 … 0.0 0.0; 0.0003571696 -0.0032695709 … 0.00045056536 0.00062019395; … ; -0.0005236869 0.008011436 … 9.722119f-5 8.0582504f-5; 0.0 0.0 … 0.0010960487 0.0;;; -0.0057793283 0.0 … 0.0 0.0; 0.0015057531 0.006858797 … 0.0068879826 -0.00083078456; … ; 0.0035885517 -0.0014570794 … -0.00068342214 0.0; -0.0015580925 0.0019750232 … 0.0 0.0;;; 0.0 0.0 … 0.0 0.0; 0.0 0.0 … 0.0 0.0; … ; -0.0012506542 0.0 … 0.0 0.0; 0.0021430596 0.0 … 0.0 0.0;;; -0.0021594346 -0.0055154944 … -0.0019081265 0.00022061824; 0.0022070126 -0.003749365 … -0.00049075054 0.0019827017; … ; 0.0 -0.00020212996 … -0.0009472352 -0.00028640425; 0.00013570688 0.0025908884 … 9.6165895f-5 5.56572f-5;;; 0.0 0.0 … 0.0 0.0; 0.0036734357 -0.00395918 … 0.00022018282 0.0; … ; -0.0002521254 0.0015740045 … -0.0033437386 0.00025917223; 0.0 0.0012210293 … 0.0 -0.002623131;;; 0.0 0.0 … 0.0 0.0; 0.0 0.0 … 0.0 0.0; … ; 0.0 0.0 … 0.0 0.0; 0.0 0.0 … 0.0 0.0;;;;]\n [0.0; 0.0; … ; 0.0; 0.0;;]"
     },
     "metadata": {},
     "execution_count": 10
    }
   ],
   "cell_type": "code",
   "source": [
    "analyzer = LRP(model; flatten=false) # use unflattened model\n",
    "\n",
    "expl = analyze(input, analyzer; layerwise_relevances=true)\n",
    "expl.extras.layerwise_relevances"
   ],
   "metadata": {},
   "execution_count": 10
  },
  {
   "cell_type": "markdown",
   "source": [
    "## Performance tips\n",
    "### Using LRP without a GPU\n",
    "Since ExplainableAI.jl's LRP implementation makes use of\n",
    "[Tullio.jl](https://github.com/mcabbott/Tullio.jl),\n",
    "analysis can be accelerated by loading either\n",
    "- a package from the [JuliaGPU](https://juliagpu.org) ecosystem,\n",
    "  e.g. [CUDA.jl](https://github.com/JuliaGPU/CUDA.jl), if a GPU is available\n",
    "- [LoopVectorization.jl](https://github.com/JuliaSIMD/LoopVectorization.jl)\n",
    "  if only a CPU is available.\n",
    "\n",
    "This only requires loading the LoopVectorization.jl package before ExplainableAI.jl:\n",
    "```julia\n",
    "using LoopVectorization\n",
    "using ExplainableAI\n",
    "```\n",
    "\n",
    "[^1]: G. Montavon et al., [Layer-Wise Relevance Propagation: An Overview](https://link.springer.com/chapter/10.1007/978-3-030-28954-6_10)"
   ],
   "metadata": {}
  },
  {
   "cell_type": "markdown",
   "source": [
    "---\n",
    "\n",
    "*This notebook was generated using [Literate.jl](https://github.com/fredrikekre/Literate.jl).*"
   ],
   "metadata": {}
  }
 ],
 "nbformat_minor": 3,
 "metadata": {
  "language_info": {
   "file_extension": ".jl",
   "mimetype": "application/julia",
   "name": "julia",
   "version": "1.9.3"
  },
  "kernelspec": {
   "name": "julia-1.9",
   "display_name": "Julia 1.9.3",
   "language": "julia"
  }
 },
 "nbformat": 4
}
