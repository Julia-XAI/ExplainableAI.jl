{
 "cells": [
  {
   "cell_type": "markdown",
   "source": [
    "# Basic usage of LRP\n",
    "This example will show you best practices for using LRP,\n",
    "building on the basics shown in the *Getting started* section."
   ],
   "metadata": {}
  },
  {
   "cell_type": "markdown",
   "source": [
    "We start out by loading a small convolutional neural network:"
   ],
   "metadata": {}
  },
  {
   "outputs": [],
   "cell_type": "code",
   "source": [
    "using ExplainableAI\n",
    "using Flux\n",
    "\n",
    "model = Chain(\n",
    "    Chain(\n",
    "        Conv((3, 3), 3 => 8, relu; pad=1),\n",
    "        Conv((3, 3), 8 => 8, relu; pad=1),\n",
    "        MaxPool((2, 2)),\n",
    "        Conv((3, 3), 8 => 16; pad=1),\n",
    "        BatchNorm(16, relu),\n",
    "        Conv((3, 3), 16 => 8, relu; pad=1),\n",
    "        BatchNorm(8, relu),\n",
    "    ),\n",
    "    Chain(\n",
    "        Flux.flatten,\n",
    "        Dense(2048 => 512, relu),\n",
    "        Dropout(0.5),\n",
    "        Dense(512 => 100, softmax)\n",
    "    ),\n",
    ");"
   ],
   "metadata": {},
   "execution_count": 1
  },
  {
   "cell_type": "markdown",
   "source": [
    "This model contains two chains: the convolutional layers and the fully connected layers."
   ],
   "metadata": {}
  },
  {
   "cell_type": "markdown",
   "source": [
    "## Model preparation\n",
    "### Stripping the output softmax\n",
    "When using LRP, it is recommended to explain output logits instead of probabilities.\n",
    "This can be done by stripping the output softmax activation from the model\n",
    "using the `strip_softmax` function:"
   ],
   "metadata": {}
  },
  {
   "outputs": [
    {
     "output_type": "execute_result",
     "data": {
      "text/plain": "Chain(\n  Chain(\n    Conv((3, 3), 3 => 8, relu, pad=1),  \u001b[90m# 224 parameters\u001b[39m\n    Conv((3, 3), 8 => 8, relu, pad=1),  \u001b[90m# 584 parameters\u001b[39m\n    MaxPool((2, 2)),\n    Conv((3, 3), 8 => 16, pad=1),       \u001b[90m# 1_168 parameters\u001b[39m\n    BatchNorm(16, relu),                \u001b[90m# 32 parameters\u001b[39m\u001b[90m, plus 32\u001b[39m\n    Conv((3, 3), 16 => 8, relu, pad=1),  \u001b[90m# 1_160 parameters\u001b[39m\n    BatchNorm(8, relu),                 \u001b[90m# 16 parameters\u001b[39m\u001b[90m, plus 16\u001b[39m\n  ),\n  Chain(\n    Flux.flatten,\n    Dense(2048 => 512, relu),           \u001b[90m# 1_049_088 parameters\u001b[39m\n    Dropout(0.5),\n    Dense(512 => 100),                  \u001b[90m# 51_300 parameters\u001b[39m\n  ),\n) \u001b[90m        # Total: 16 trainable arrays, \u001b[39m1_103_572 parameters,\n\u001b[90m          # plus 4 non-trainable, 48 parameters, summarysize \u001b[39m4.213 MiB."
     },
     "metadata": {},
     "execution_count": 2
    }
   ],
   "cell_type": "code",
   "source": [
    "model = strip_softmax(model)"
   ],
   "metadata": {},
   "execution_count": 2
  },
  {
   "cell_type": "markdown",
   "source": [
    "If you don't remove the output softmax,\n",
    "model checks will fail."
   ],
   "metadata": {}
  },
  {
   "cell_type": "markdown",
   "source": [
    "### Canonizing the model\n",
    "LRP is not invariant to a model's implementation.\n",
    "Applying the `GammaRule` to two linear layers in a row will yield different results\n",
    "than first fusing the two layers into one linear layer and then applying the rule.\n",
    "This fusing is called \"canonization\" and can be done using the `canonize` function:"
   ],
   "metadata": {}
  },
  {
   "outputs": [
    {
     "output_type": "execute_result",
     "data": {
      "text/plain": "Chain(\n  Conv((3, 3), 3 => 8, relu, pad=1),    \u001b[90m# 224 parameters\u001b[39m\n  Conv((3, 3), 8 => 8, relu, pad=1),    \u001b[90m# 584 parameters\u001b[39m\n  MaxPool((2, 2)),\n  Conv((3, 3), 8 => 16, relu, pad=1),   \u001b[90m# 1_168 parameters\u001b[39m\n  Conv((3, 3), 16 => 8, relu, pad=1),   \u001b[90m# 1_160 parameters\u001b[39m\n  BatchNorm(8, relu),                   \u001b[90m# 16 parameters\u001b[39m\u001b[90m, plus 16\u001b[39m\n  Flux.flatten,\n  Dense(2048 => 512, relu),             \u001b[90m# 1_049_088 parameters\u001b[39m\n  Dropout(0.5),\n  Dense(512 => 100),                    \u001b[90m# 51_300 parameters\u001b[39m\n) \u001b[90m        # Total: 14 trainable arrays, \u001b[39m1_103_540 parameters,\n\u001b[90m          # plus 2 non-trainable, 16 parameters, summarysize \u001b[39m4.212 MiB."
     },
     "metadata": {},
     "execution_count": 3
    }
   ],
   "cell_type": "code",
   "source": [
    "model_canonized = canonize(model)"
   ],
   "metadata": {},
   "execution_count": 3
  },
  {
   "cell_type": "markdown",
   "source": [
    "After canonization, the first `BatchNorm` layer has been fused into the preceding `Conv` layer.\n",
    "The second `BatchNorm` layer wasn't fused\n",
    "since its preceding `Conv` layer has a ReLU activation function."
   ],
   "metadata": {}
  },
  {
   "cell_type": "markdown",
   "source": [
    "### Flattening the model\n",
    "ExplainableAI.jl's LRP implementation supports nested Flux Chains and Parallel layers.\n",
    "However, it is recommended to flatten the model before analyzing it.\n",
    "\n",
    "LRP is implemented by first running a forward pass through the model,\n",
    "keeping track of the intermediate activations, followed by a backward pass\n",
    "that computes the relevances.\n",
    "\n",
    "To keep the LRP implementation simple and maintainable,\n",
    "ExplainableAI.jl does not pre-compute \"nested\" activations.\n",
    "Instead, for every internal chain, a new forward pass is run to compute activations.\n",
    "\n",
    "By \"flattening\" a model, this overhead can be avoided.\n",
    "For this purpose, ExplainableAI.jl provides the function `flatten_model`:"
   ],
   "metadata": {}
  },
  {
   "outputs": [
    {
     "output_type": "execute_result",
     "data": {
      "text/plain": "Chain(\n  Conv((3, 3), 3 => 8, relu, pad=1),    \u001b[90m# 224 parameters\u001b[39m\n  Conv((3, 3), 8 => 8, relu, pad=1),    \u001b[90m# 584 parameters\u001b[39m\n  MaxPool((2, 2)),\n  Conv((3, 3), 8 => 16, pad=1),         \u001b[90m# 1_168 parameters\u001b[39m\n  BatchNorm(16, relu),                  \u001b[90m# 32 parameters\u001b[39m\u001b[90m, plus 32\u001b[39m\n  Conv((3, 3), 16 => 8, relu, pad=1),   \u001b[90m# 1_160 parameters\u001b[39m\n  BatchNorm(8, relu),                   \u001b[90m# 16 parameters\u001b[39m\u001b[90m, plus 16\u001b[39m\n  Flux.flatten,\n  Dense(2048 => 512, relu),             \u001b[90m# 1_049_088 parameters\u001b[39m\n  Dropout(0.5),\n  Dense(512 => 100),                    \u001b[90m# 51_300 parameters\u001b[39m\n) \u001b[90m        # Total: 16 trainable arrays, \u001b[39m1_103_572 parameters,\n\u001b[90m          # plus 4 non-trainable, 48 parameters, summarysize \u001b[39m4.212 MiB."
     },
     "metadata": {},
     "execution_count": 4
    }
   ],
   "cell_type": "code",
   "source": [
    "model_flat = flatten_model(model)"
   ],
   "metadata": {},
   "execution_count": 4
  },
  {
   "cell_type": "markdown",
   "source": [
    "This function is called by default when creating an LRP analyzer.\n",
    "Note that we pass the unflattened model to the analyzer, but `analyzer.model` is flattened:"
   ],
   "metadata": {}
  },
  {
   "outputs": [
    {
     "output_type": "execute_result",
     "data": {
      "text/plain": "Chain(\n  Conv((3, 3), 3 => 8, relu, pad=1),    \u001b[90m# 224 parameters\u001b[39m\n  Conv((3, 3), 8 => 8, relu, pad=1),    \u001b[90m# 584 parameters\u001b[39m\n  MaxPool((2, 2)),\n  Conv((3, 3), 8 => 16, pad=1),         \u001b[90m# 1_168 parameters\u001b[39m\n  BatchNorm(16, relu),                  \u001b[90m# 32 parameters\u001b[39m\u001b[90m, plus 32\u001b[39m\n  Conv((3, 3), 16 => 8, relu, pad=1),   \u001b[90m# 1_160 parameters\u001b[39m\n  BatchNorm(8, relu),                   \u001b[90m# 16 parameters\u001b[39m\u001b[90m, plus 16\u001b[39m\n  Flux.flatten,\n  Dense(2048 => 512, relu),             \u001b[90m# 1_049_088 parameters\u001b[39m\n  Dropout(0.5),\n  Dense(512 => 100),                    \u001b[90m# 51_300 parameters\u001b[39m\n) \u001b[90m        # Total: 16 trainable arrays, \u001b[39m1_103_572 parameters,\n\u001b[90m          # plus 4 non-trainable, 48 parameters, summarysize \u001b[39m4.212 MiB."
     },
     "metadata": {},
     "execution_count": 5
    }
   ],
   "cell_type": "code",
   "source": [
    "analyzer = LRP(model)\n",
    "analyzer.model"
   ],
   "metadata": {},
   "execution_count": 5
  },
  {
   "cell_type": "markdown",
   "source": [
    "If this flattening is not desired, it can be disabled\n",
    "by passing the keyword argument `flatten=false` to the `LRP` constructor."
   ],
   "metadata": {}
  },
  {
   "cell_type": "markdown",
   "source": [
    "## LRP rules\n",
    "By default, the `LRP` constructor will assign the `ZeroRule` to all layers."
   ],
   "metadata": {}
  },
  {
   "outputs": [
    {
     "output_type": "execute_result",
     "data": {
      "text/plain": "LRP(\n  Conv((3, 3), 3 => 8, relu, pad=1) \u001b[90m => \u001b[39m\u001b[33mZeroRule()\u001b[39m,\n  Conv((3, 3), 8 => 8, relu, pad=1) \u001b[90m => \u001b[39m\u001b[33mZeroRule()\u001b[39m,\n  MaxPool((2, 2))                   \u001b[90m => \u001b[39m\u001b[33mZeroRule()\u001b[39m,\n  Conv((3, 3), 8 => 16, pad=1)      \u001b[90m => \u001b[39m\u001b[33mZeroRule()\u001b[39m,\n  BatchNorm(16, relu)               \u001b[90m => \u001b[39m\u001b[33mZeroRule()\u001b[39m,\n  Conv((3, 3), 16 => 8, relu, pad=1)\u001b[90m => \u001b[39m\u001b[33mZeroRule()\u001b[39m,\n  BatchNorm(8, relu)                \u001b[90m => \u001b[39m\u001b[33mZeroRule()\u001b[39m,\n  Flux.flatten                      \u001b[90m => \u001b[39m\u001b[33mZeroRule()\u001b[39m,\n  Dense(2048 => 512, relu)          \u001b[90m => \u001b[39m\u001b[33mZeroRule()\u001b[39m,\n  Dropout(0.5)                      \u001b[90m => \u001b[39m\u001b[33mZeroRule()\u001b[39m,\n  Dense(512 => 100)                 \u001b[90m => \u001b[39m\u001b[33mZeroRule()\u001b[39m,\n)"
     },
     "metadata": {},
     "execution_count": 6
    }
   ],
   "cell_type": "code",
   "source": [
    "LRP(model)"
   ],
   "metadata": {},
   "execution_count": 6
  },
  {
   "cell_type": "markdown",
   "source": [
    "This analyzer will return heatmaps that look identical to `InputTimesGradient`."
   ],
   "metadata": {}
  },
  {
   "cell_type": "markdown",
   "source": [
    "LRP's strength lies in assigning different rules to different layers,\n",
    "based on their functionality in the neural network[^1].\n",
    "ExplainableAI.jl implements many LRP rules out of the box,\n",
    "but it is also possible to *implement custom rules*.\n",
    "\n",
    "To assign different rules to different layers,\n",
    "use one of the composites presets,\n",
    "or create your own composite, as described in\n",
    "*Assigning rules to layers*."
   ],
   "metadata": {}
  },
  {
   "outputs": [
    {
     "output_type": "execute_result",
     "data": {
      "text/plain": "Composite(\n  GlobalTypeMap(  \u001b[90m# all layers\u001b[39m\n\u001b[94m    Flux.Conv              \u001b[39m => \u001b[33mZPlusRule()\u001b[39m,\n\u001b[94m    Flux.ConvTranspose     \u001b[39m => \u001b[33mZPlusRule()\u001b[39m,\n\u001b[94m    Flux.CrossCor          \u001b[39m => \u001b[33mZPlusRule()\u001b[39m,\n\u001b[94m    Flux.Dense             \u001b[39m => \u001b[33mEpsilonRule{Float32}(1.0f-6)\u001b[39m,\n\u001b[94m    typeof(NNlib.dropout)  \u001b[39m => \u001b[33mPassRule()\u001b[39m,\n\u001b[94m    Flux.AlphaDropout      \u001b[39m => \u001b[33mPassRule()\u001b[39m,\n\u001b[94m    Flux.Dropout           \u001b[39m => \u001b[33mPassRule()\u001b[39m,\n\u001b[94m    Flux.BatchNorm         \u001b[39m => \u001b[33mPassRule()\u001b[39m,\n\u001b[94m    typeof(Flux.flatten)   \u001b[39m => \u001b[33mPassRule()\u001b[39m,\n\u001b[94m    typeof(MLUtils.flatten)\u001b[39m => \u001b[33mPassRule()\u001b[39m,\n\u001b[94m    typeof(identity)       \u001b[39m => \u001b[33mPassRule()\u001b[39m,\n ),\n  FirstLayerTypeMap(  \u001b[90m# first layer\u001b[39m\n\u001b[94m    Flux.Conv         \u001b[39m => \u001b[33mFlatRule()\u001b[39m,\n\u001b[94m    Flux.ConvTranspose\u001b[39m => \u001b[33mFlatRule()\u001b[39m,\n\u001b[94m    Flux.CrossCor     \u001b[39m => \u001b[33mFlatRule()\u001b[39m,\n ),\n)"
     },
     "metadata": {},
     "execution_count": 7
    }
   ],
   "cell_type": "code",
   "source": [
    "composite = EpsilonPlusFlat() # using composite preset EpsilonPlusFlat"
   ],
   "metadata": {},
   "execution_count": 7
  },
  {
   "outputs": [
    {
     "output_type": "execute_result",
     "data": {
      "text/plain": "LRP(\n  Conv((3, 3), 3 => 8, relu, pad=1) \u001b[90m => \u001b[39m\u001b[33mFlatRule()\u001b[39m,\n  Conv((3, 3), 8 => 8, relu, pad=1) \u001b[90m => \u001b[39m\u001b[33mZPlusRule()\u001b[39m,\n  MaxPool((2, 2))                   \u001b[90m => \u001b[39m\u001b[33mZeroRule()\u001b[39m,\n  Conv((3, 3), 8 => 16, pad=1)      \u001b[90m => \u001b[39m\u001b[33mZPlusRule()\u001b[39m,\n  BatchNorm(16, relu)               \u001b[90m => \u001b[39m\u001b[33mPassRule()\u001b[39m,\n  Conv((3, 3), 16 => 8, relu, pad=1)\u001b[90m => \u001b[39m\u001b[33mZPlusRule()\u001b[39m,\n  BatchNorm(8, relu)                \u001b[90m => \u001b[39m\u001b[33mPassRule()\u001b[39m,\n  Flux.flatten                      \u001b[90m => \u001b[39m\u001b[33mPassRule()\u001b[39m,\n  Dense(2048 => 512, relu)          \u001b[90m => \u001b[39m\u001b[33mEpsilonRule{Float32}(1.0f-6)\u001b[39m,\n  Dropout(0.5)                      \u001b[90m => \u001b[39m\u001b[33mPassRule()\u001b[39m,\n  Dense(512 => 100)                 \u001b[90m => \u001b[39m\u001b[33mEpsilonRule{Float32}(1.0f-6)\u001b[39m,\n)"
     },
     "metadata": {},
     "execution_count": 8
    }
   ],
   "cell_type": "code",
   "source": [
    "LRP(model, composite)"
   ],
   "metadata": {},
   "execution_count": 8
  },
  {
   "cell_type": "markdown",
   "source": [
    "## Computing layerwise relevances\n",
    "If you are interested in computing layerwise relevances,\n",
    "call `analyze` with an LRP analyzer and the keyword argument\n",
    "`layerwise_relevances=true`.\n",
    "\n",
    "The layerwise relevances can be accessed in the `extras` field\n",
    "of the returned `Explanation`:"
   ],
   "metadata": {}
  },
  {
   "outputs": [
    {
     "output_type": "execute_result",
     "data": {
      "text/plain": "([1.9460664 -4.000114 … 0.32708988 0.017655706; -3.4402237 3.7868927 … 11.8427925 -8.248765; … ; 1.3428658 17.13598 … 140.2151 -8.219746; -2.738905 0.053753875 … 37.353058 -9.571156;;; -0.08987295 -0.012648836 … 3.1640525 -7.3261676; -0.7410854 0.07334778 … 17.741678 -2.7707615; … ; -0.44648987 14.056004 … 177.5628 95.68949; -6.6596975 -1.8636881 … 121.91655 -5.343779;;; 0.47684613 -0.06741404 … 3.947497 6.5515127; 4.7839327 2.8847454 … 1.0513874 -4.6038256; … ; -1.7004848 5.134446 … -14.77696 62.45489; 5.6142077 0.5171625 … 0.5092675 13.5265465;;;;], [-0.5776634 -0.0 … -0.0 0.6160287; 0.0 -0.12138494 … 7.4745674 -0.010119249; … ; -0.6123613 1.98086 … 53.041138 -32.385963; -1.4698659 0.14450376 … 14.151524 51.21831;;; 0.41198912 2.4265804 … 1.1065407 0.43421382; -0.31872436 -7.557343 … 2.921002 1.8239552; … ; -0.30432805 -2.698018 … 202.24 22.077559; -0.3796434 2.0104346 … -60.825855 10.576161;;; 1.8269283 0.0 … -0.0 0.0; -0.0 0.23212467 … -2.5403264 -1.8406906; … ; 0.0 -3.5555546 … 307.93137 120.85179; 0.0 0.0 … 0.0 21.56908;;; 0.0 -0.0 … 0.0 -0.0; 0.3776068 0.0 … -0.0 0.0; … ; -0.15879765 0.0 … -0.0 -0.0; -0.0 0.4820304 … -0.0 0.0;;; 0.53618383 -0.0 … 0.70238435 -0.18599029; 3.6273305 -0.92910975 … 7.372473 -2.8295698; … ; -8.831392 14.652174 … -0.8195861 4.7121453; -12.53993 17.689741 … 330.02795 10.456721;;; 0.28870243 3.3519373 … 3.3624456 -1.3691486; 7.2586293 6.243837 … 0.094697095 0.7868249; … ; 5.9330883 2.8495312 … 20.592262 -98.23644; 0.0 0.0 … -7.2038674 -0.0;;; 0.0 -0.036618225 … 0.0 -0.9678926; 0.0 -0.0 … 0.0 0.0; … ; 0.0 0.0 … -0.0 28.11709; 0.0 0.0 … 0.0 -0.0;;; -0.0 0.5202167 … -0.59047896 1.088741; -0.0 0.88044906 … -5.1292033 -0.0; … ; 0.0 -0.0 … 0.06896178 -0.6834824; -0.0 0.5613813 … -8.721084 -0.0;;;;], [0.0 0.0 … 0.0 0.0; 0.0 11.742943 … -6.603014 0.0; … ; 0.0 0.0 … 272.33862 0.0; 0.0 15.09 … 0.0 0.0;;; 0.0 0.0 … 0.0 0.0; 0.0 3.00278 … 3.1386867 0.0; … ; 0.0 -1.4881439 … 0.0 0.0; 0.0 0.0 … 0.0 -8.050736;;; 3.537362 0.0 … 0.0 0.0; 0.0 0.0 … -6.6325755 0.0; … ; 0.0 0.0 … 13.772351 0.0; 0.0 0.0 … 0.0 0.0;;; 0.0 0.0 … 0.0 0.0; 0.0 0.0 … 0.0 0.0; … ; 0.0 0.0 … 0.0 0.0; 0.048207305 0.0 … 0.0 0.0;;; 0.0 2.9885786 … 0.0 11.82808; 0.0 0.0 … 0.0 0.0; … ; 0.0 0.0 … 0.0 13.51905; 0.0 0.0 … 0.0 0.0;;; 0.0 0.0 … 0.0 0.0; -1.1433964 0.0 … -8.171793 0.0; … ; -3.2726448 0.0 … 0.0 68.91726; 0.0 0.0 … 0.0 0.0;;; 0.0 0.0 … 0.0 0.0; 0.0 15.085913 … 17.020987 0.0; … ; 0.0 21.051052 … -138.1312 0.0; 0.0 0.0 … 0.0 0.0;;; 0.0 0.0 … 0.0 0.0; 0.0 0.0 … 0.0 0.0; … ; 0.0 0.0 … 0.0 0.0; 0.0 0.0 … 0.0 0.0;;;;], [11.742943 7.3622746 … 2.7922661 -6.603014; 9.886308 7.8937697 … 12.540488 -9.69794; … ; -0.09628586 36.31969 … -103.009636 -362.7022; 15.09 19.148432 … 385.05118 272.33862;;; 3.00278 1.5083004 … 0.7902931 3.1386867; -0.13093 -0.0 … 0.0 0.0; … ; -0.6190892 -2.2523518 … -0.0 -0.0; -1.4881439 2.799679 … 0.0 -8.050736;;; 3.537362 1.0811747 … -0.30980438 -6.6325755; 3.7763913 4.21293 … 0.0 -0.0; … ; 0.75673544 0.0 … 27.276783 79.599106; 0.0 0.0 … 118.47701 13.772352;;; -0.0 0.0 … -0.0 0.0; 0.0 0.0 … 0.0 0.0; … ; 0.0 0.0 … 0.0 -0.0; 0.048207354 0.0 … -0.0 0.0;;; 2.9885786 0.0 … 0.0 11.82808; 0.0 0.0 … 0.0 3.4389179; … ; 0.0 0.0 … 0.0 -132.06203; -0.0 0.0 … 0.0 13.519051;;; -1.1433964 -3.3044846 … -9.374302 -8.171793; -3.3520641 -11.761325 … -24.979824 -9.838041; … ; 0.22044487 -14.760769 … 117.08908 122.14424; -3.2726448 4.6446047 … -291.44864 68.91726;;; 15.085913 26.517738 … 17.276024 17.020987; 10.937417 8.907439 … 8.817517 10.887919; … ; -10.788839 21.151924 … 203.42265 67.2063; 21.051052 13.115604 … -115.539856 -138.1312;;; 0.0 0.0 … 0.0 0.0; 0.0 0.0 … 0.0 0.0; … ; 0.0 0.0 … 0.0 0.0; 0.0 0.0 … 0.0 -0.0;;;;], [6.701746 6.9678955 … 7.7350655 5.970869; 0.73426294 9.202861 … 2.7224288 9.431201; … ; 3.0759006 59.02393 … 11.698414 7.9787865; 0.3613792 -1.6109626 … -0.8366191 1.9099313;;; 1.8917649 4.6571827 … 2.62139 2.3295503; 1.3777562 3.4665298 … 3.5697978 7.66722; … ; 1.1810497 2.8303626 … 5.821599 8.410202; 0.78854704 3.9594924 … 1.3859203 6.723978;;; 0.0002961643 0.00027797755 … 0.00015177358 -0.0063436436; -0.0001636163 -0.00019874217 … 0.000239299 0.00021178831; … ; -0.0005330748 -0.00020320175 … 0.00022104649 0.009414222; 0.00024462113 0.00026672933 … 0.00030148294 0.0002585816;;; … ;;; 0.00047492678 0.0005424281 … -0.003329941 -0.016741592; 0.00020685834 0.000101921774 … -9.6009004f-5 0.0016062527; … ; 0.003038373 5.7895828f-5 … 0.0003590375 0.00030916592; 0.00068125466 -0.0024922357 … 0.00039820533 0.00067757844;;; -1.5347478 -3.0031433 … -5.038777 -3.6008713; -1.6799909 -9.111935 … -6.1059275 -10.296039; … ; -2.312483 -6.5997753 … -8.257293 -14.663458; -2.293556 -4.1507864 … -4.409658 -5.9621477;;; -0.0 0.0 … -0.0 -0.0; 0.0 -0.0 … 0.0 0.0; … ; 0.0 -0.0 … -0.0 0.0; -0.0 0.0 … 0.0 0.0;;;;], [0.40838376 0.5815391 … 0.78925496 0.3335541; 0.1390044 1.3457782 … 0.5815504 1.1743181; … ; 0.57091737 0.8021768 … 0.91947365 0.900708; 0.06627581 0.0 … 0.0 0.12373885;;; 0.018476384 0.0011875173 … 0.05317213 -0.078974634; -0.06267479 -0.1709678 … -0.22840206 -0.35584322; … ; -0.056719135 -0.152641 … -0.5257247 -0.16969213; -0.033430982 -0.18849027 … -0.25267836 -0.29914257;;; -0.0 -0.0 … 0.0 -0.021200696; 0.0 0.0 … 0.0 0.0; … ; 0.0 0.0 … 0.0 0.057101157; 0.0 0.0 … 0.0 0.0;;; … ;;; -0.0 -0.0 … -0.015588815 -0.036942825; 0.0 0.0 … 0.0 0.015893796; … ; 0.02804037 0.0 … 0.0 -0.0; 0.0 0.0 … 0.0 -0.0;;; 0.016925195 0.14825785 … 0.22337489 0.04257639; 0.058508858 0.13937664 … 0.15084332 -0.02153529; … ; 0.04129449 0.047519557 … 0.06441876 -0.4138008; -0.075759076 -0.2837803 … -0.27100676 -0.21992967;;; 0.0 -0.0 … 0.0 0.0; -0.0 -0.0 … -0.0 -0.0; … ; -0.0 -0.0 … 0.0 -0.0; 0.0 -0.0 … -0.0 -0.0;;;;], [-0.0004994872 -0.0056774328 … 0.03912964 -0.0022491708; -0.00058257056 -0.003974302 … -0.007981318 -0.0023850808; … ; -5.82158f-5 -0.0014522033 … -0.007583716 -0.0091993455; -0.0 -0.00012024067 … -0.00050936843 -0.006327691;;; -0.0010236377 -0.0059071197 … 0.0070582125 -0.00036681184; -0.0 -0.0 … -0.0008080947 0.034067597; … ; -0.0 -0.0 … -0.0 -0.0046041706; -0.0 -0.00077294884 … -0.0012282036 -0.0045027104;;; -0.0 -0.0 … -0.0 -0.0; -0.0 -0.0 … -9.5316995f-5 -0.0097628385; … ; -5.170718f-5 -0.00024333164 … 0.013609133 0.014787033; -0.00012796033 0.002316469 … 0.020358123 -0.0;;; 0.001435306 0.0 … 0.00035282515 0.0; -0.0018954043 0.0 … 0.0 0.0; … ; 0.008417861 0.0 … 0.0 0.0; 0.0 0.0 … 0.0 0.0;;; -0.0 -0.0 … -0.0 -0.0; -0.0 0.003150124 … -0.0 -0.0; … ; -0.0 -0.0 … -0.0 -0.0; -0.0 -0.0 … -0.0 -0.0004528325;;; -0.020402368 -0.09955685 … -0.075280055 -0.14582546; -0.0 -0.031487536 … -0.025803853 -0.12094591; … ; -0.0074291257 -0.123325355 … -0.03501256 -0.11252634; -0.0 -0.0 … -0.0 -0.024760172;;; 0.05644965 0.11766295 … 0.19157387 0.25693175; 0.20794608 0.38837752 … 0.8644926 0.25459772; … ; 0.7366338 0.32214454 … 0.74645597 0.37047204; 0.2155694 0.49054274 … 0.20360942 0.0;;; -0.0 -8.8569774f-5 … -0.0 -0.0; -0.0 -0.002142798 … -0.0 -0.0; … ; -0.0 -0.0 … -0.0 -0.0; 0.0005356163 -7.325882f-7 … -0.0 0.00787127;;;;], [-0.0029848407 0.010157078 … 0.0080242045 0.006220774; 0.0009299441 0.0059716254 … 0.008420042 0.006208612; … ; -0.0006373323 0.009593342 … 0.017525412 -0.01727981; 0.0 -0.0023315763 … -0.0068442053 0.010956026;;; 0.00408596 0.008104226 … 0.0049833753 0.000589392; 0.0 -0.0 … 0.0039276537 0.0012170735; … ; 0.0 0.0 … -0.0 0.00079724664; -0.0 -0.0002874181 … -0.00097442186 0.00088532874;;; -0.0 0.0 … -0.0 -0.0; -0.0 -0.0 … 0.00019286657 -0.006295366; … ; -0.00017669267 -2.194231f-5 … 0.010316352 0.012557494; 0.0012077126 0.0023584277 … 0.013439167 -0.0;;; 0.0008430234 -0.0 … 0.00019552185 0.0; -0.0021076035 0.0 … 0.0 0.0; … ; 0.0065742056 -0.0 … -0.0 0.0; -0.0 -0.0 … 0.0 -0.0;;; 0.0 -0.0 … 0.0 0.0; 0.0 0.0025107889 … 0.0 -0.0; … ; -0.0 0.0 … 0.0 -0.0; 0.0 -0.0 … 0.0 0.00081129273;;; -0.00046073087 -0.005346803 … 0.0048855883 -0.022058604; -0.0 -0.0030250254 … 0.0021819791 -0.00019922761; … ; 0.0005405763 -0.014076021 … 0.03065632 0.006552085; -0.0 0.0 … -0.0 -0.007901125;;; 0.0006838197 -0.00014298389 … -0.008300884 0.0075989547; 0.0031663398 -0.010515396 … -0.013247198 0.0027985855; … ; 0.019417545 0.009068846 … -0.016824862 0.008413105; 0.0001720888 -0.0019583546 … 0.0031553986 0.0;;; 0.0 -8.274542f-5 … 0.0 -0.0; 0.0 -0.0020129937 … -0.0 0.0; … ; 0.0 0.0 … 0.0 0.0; 0.00044919967 0.00018711269 … -0.0 0.0075864578;;;;], Float32[-0.0029848407; 0.0009299441; … ; 0.0; 0.0075864578;;], Float32[-0.0; 0.0; … ; 0.0070787575; 0.005087884;;], Float32[-0.0; 0.0; … ; 0.0070787575; 0.005087884;;], Float32[0.0; 0.0; … ; 0.0; 0.0;;])"
     },
     "metadata": {},
     "execution_count": 9
    }
   ],
   "cell_type": "code",
   "source": [
    "input = rand(Float32, 32, 32, 3, 1) # dummy input for our convolutional neural network\n",
    "\n",
    "expl = analyze(input, analyzer; layerwise_relevances=true)\n",
    "expl.extras.layerwise_relevances"
   ],
   "metadata": {},
   "execution_count": 9
  },
  {
   "cell_type": "markdown",
   "source": [
    "Note that the layerwise relevances are only kept for layers in the outermost `Chain` of the model.\n",
    "When using our unflattened model, we only obtain three layerwise relevances,\n",
    "one for each chain in the model and the output relevance:"
   ],
   "metadata": {}
  },
  {
   "outputs": [
    {
     "output_type": "execute_result",
     "data": {
      "text/plain": "([0.8384999 -1.7339987 … 0.06856356 -0.024505565; -0.6128526 0.0915001 … 3.081212 -2.176232; … ; -0.042139407 7.6000996 … 39.581394 -1.703708; -0.3576659 0.5253758 … 10.162303 -1.8554757;;; 0.44407696 0.16046733 … -0.7048524 -2.881891; -0.4959617 1.8727214 … 3.3481383 1.0614374; … ; -0.016314598 -0.30778944 … 45.590622 23.91254; -0.5258327 -0.2954882 … 32.68153 -2.4600086;;; 0.10604276 0.024342332 … 0.448635 -0.9438752; 0.051162034 -0.33360162 … 0.20026855 -0.21512987; … ; 0.58288753 -0.073004626 … -3.0928304 17.465034; 1.2515695 0.16304094 … 1.3226588 2.5644326;;;;], [-0.0013269187 0.011907938 … 0.0118758455 0.00425496; 0.00033920148 0.0060844333 … 0.009361693 0.0033289038; … ; -0.0 0.005219951 … 0.016379412 -0.01683028; 0.0 -0.0 … -0.004679337 0.0097621465;;; 0.004705991 0.0076469625 … 0.0053169164 0.0; 0.0 0.0 … 0.0031880965 0.00033901507; … ; 0.0 0.0 … -0.0 0.0012021966; -0.0 -0.00010891141 … -0.00065700867 0.00035475672;;; -0.0 0.0 … -0.0 -0.0; -0.0 -0.0 … 0.00013483934 -0.0074298903; … ; -0.00021366178 -3.4253957f-5 … 0.009789932 0.013806506; 0.00042504744 0.0021694528 … 0.011392324 -0.0;;; 0.0008027421 -0.0 … 0.0001593302 0.0; -0.003146195 0.0 … 0.0 0.0; … ; 0.007540688 -0.0 … -0.0 0.0; -0.0 -0.0 … 0.0 -0.0;;; 0.00040238918 -0.0002784217 … 0.0 -0.0; 0.0 0.004838045 … 0.0 -0.0; … ; -0.0 0.0 … 0.0 -0.0; 0.0 -0.0 … 0.0 0.00044769954;;; 0.00024825506 -0.006336649 … 0.0044477955 -0.023299422; -0.0 -0.0027447287 … 0.0017508015 0.00074696617; … ; 0.0002746977 -0.015115641 … 0.03705202 0.0081082275; -0.0 0.0 … -0.0 -0.008913216;;; 0.0003347522 -2.5089823f-5 … -0.0071633514 0.0065105567; 0.0015803191 -0.008845445 … -0.011704612 0.0024176477; … ; 0.020372517 0.006287898 … -0.01952959 0.010023409; 0.00031484693 -0.0028717793 … 0.0022012473 -0.0;;; 0.0 0.001198322 … 0.0 0.0; 0.00035205903 -0.0036358933 … -0.0 0.0; … ; 0.0 0.0 … 0.0 0.0; 0.0005109067 0.0 … -0.0 0.010421893;;;;], Float32[0.0; 0.0; … ; 0.0; 0.0;;])"
     },
     "metadata": {},
     "execution_count": 10
    }
   ],
   "cell_type": "code",
   "source": [
    "analyzer = LRP(model; flatten=false) # use unflattened model\n",
    "\n",
    "expl = analyze(input, analyzer; layerwise_relevances=true)\n",
    "expl.extras.layerwise_relevances"
   ],
   "metadata": {},
   "execution_count": 10
  },
  {
   "cell_type": "markdown",
   "source": [
    "## Performance tips\n",
    "### Using LRP with a GPU\n",
    "Like all other analyzers, LRP can be used on GPUs.\n",
    "Follow the instructions on *GPU support*.\n",
    "\n",
    "### Using LRP without a GPU\n",
    "Using Julia's package extension mechanism,\n",
    "ExplainableAI.jl's LRP implementation can optionally make use of\n",
    "[Tullio.jl](https://github.com/mcabbott/Tullio.jl) and\n",
    "[LoopVectorization.jl](https://github.com/JuliaSIMD/LoopVectorization.jl)\n",
    "for faster LRP rules on dense layers.\n",
    "\n",
    "This only requires loading the packages before loading ExplainableAI.jl:\n",
    "```julia\n",
    "using LoopVectorization, Tullio\n",
    "using ExplainableAI\n",
    "```\n",
    "\n",
    "[^1]: G. Montavon et al., [Layer-Wise Relevance Propagation: An Overview](https://link.springer.com/chapter/10.1007/978-3-030-28954-6_10)"
   ],
   "metadata": {}
  },
  {
   "cell_type": "markdown",
   "source": [
    "---\n",
    "\n",
    "*This notebook was generated using [Literate.jl](https://github.com/fredrikekre/Literate.jl).*"
   ],
   "metadata": {}
  }
 ],
 "nbformat_minor": 3,
 "metadata": {
  "language_info": {
   "file_extension": ".jl",
   "mimetype": "application/julia",
   "name": "julia",
   "version": "1.9.3"
  },
  "kernelspec": {
   "name": "julia-1.9",
   "display_name": "Julia 1.9.3",
   "language": "julia"
  }
 },
 "nbformat": 4
}
