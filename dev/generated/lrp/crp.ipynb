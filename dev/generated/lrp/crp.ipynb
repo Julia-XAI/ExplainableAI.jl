{
 "cells": [
  {
   "cell_type": "markdown",
   "source": [
    "# Concept relevance propagation\n",
    "In [*From attribution maps to human-understandable explanations through Concept Relevance Propagation*](https://www.nature.com/articles/s42256-023-00711-8) (CRP),\n",
    "Achtibat et al. propose the conditioning of LRP relevances on individual features of a model.\n",
    "\n",
    "This example builds on the basics shown in the *Getting started* section.\n",
    "We start out by loading the same pre-trained LeNet5 model and MNIST input data:"
   ],
   "metadata": {}
  },
  {
   "outputs": [
    {
     "output_type": "execute_result",
     "data": {
      "text/plain": "Chain(\n  Conv((5, 5), 1 => 6, relu),           \u001b[90m# 156 parameters\u001b[39m\n  MaxPool((2, 2)),\n  Conv((5, 5), 6 => 16, relu),          \u001b[90m# 2_416 parameters\u001b[39m\n  MaxPool((2, 2)),\n  Flux.flatten,\n  Dense(256 => 120, relu),              \u001b[90m# 30_840 parameters\u001b[39m\n  Dense(120 => 84, relu),               \u001b[90m# 10_164 parameters\u001b[39m\n  Dense(84 => 10),                      \u001b[90m# 850 parameters\u001b[39m\n) \u001b[90m                  # Total: 10 arrays, \u001b[39m44_426 parameters, 174.867 KiB."
     },
     "metadata": {},
     "execution_count": 1
    }
   ],
   "cell_type": "code",
   "source": [
    "using ExplainableAI\n",
    "using Flux\n",
    "\n",
    "using BSON # hide\n",
    "model = BSON.load(\"../../model.bson\", @__MODULE__)[:model] # hide\n",
    "model"
   ],
   "metadata": {},
   "execution_count": 1
  },
  {
   "outputs": [
    {
     "output_type": "execute_result",
     "data": {
      "text/plain": "28×28 reinterpret(reshape, ColorTypes.Gray{Float32}, ::Matrix{Float32}) with eltype ColorTypes.Gray{Float32}:\n Gray{Float32}(0.0)  Gray{Float32}(0.0)  …  Gray{Float32}(0.0)\n Gray{Float32}(0.0)  Gray{Float32}(0.0)     Gray{Float32}(0.0)\n Gray{Float32}(0.0)  Gray{Float32}(0.0)     Gray{Float32}(0.0)\n Gray{Float32}(0.0)  Gray{Float32}(0.0)     Gray{Float32}(0.0)\n Gray{Float32}(0.0)  Gray{Float32}(0.0)     Gray{Float32}(0.0)\n Gray{Float32}(0.0)  Gray{Float32}(0.0)  …  Gray{Float32}(0.0)\n Gray{Float32}(0.0)  Gray{Float32}(0.0)     Gray{Float32}(0.0)\n Gray{Float32}(0.0)  Gray{Float32}(0.0)     Gray{Float32}(0.0)\n Gray{Float32}(0.0)  Gray{Float32}(0.0)     Gray{Float32}(0.0)\n Gray{Float32}(0.0)  Gray{Float32}(0.0)     Gray{Float32}(0.0)\n ⋮                                       ⋱  \n Gray{Float32}(0.0)  Gray{Float32}(0.0)     Gray{Float32}(0.0)\n Gray{Float32}(0.0)  Gray{Float32}(0.0)  …  Gray{Float32}(0.0)\n Gray{Float32}(0.0)  Gray{Float32}(0.0)     Gray{Float32}(0.0)\n Gray{Float32}(0.0)  Gray{Float32}(0.0)     Gray{Float32}(0.0)\n Gray{Float32}(0.0)  Gray{Float32}(0.0)     Gray{Float32}(0.0)\n Gray{Float32}(0.0)  Gray{Float32}(0.0)     Gray{Float32}(0.0)\n Gray{Float32}(0.0)  Gray{Float32}(0.0)  …  Gray{Float32}(0.0)\n Gray{Float32}(0.0)  Gray{Float32}(0.0)     Gray{Float32}(0.0)\n Gray{Float32}(0.0)  Gray{Float32}(0.0)     Gray{Float32}(0.0)",
      "image/png": "[encoded data removed]",
      "text/html": [
       "<img src=\"data:image/png;base64,iVBORw0KGgoAAAANSUhEUgAAAHAAAABwCAAAAADji6uXAAAABGdBTUEAALGPC/xhBQAAAAFzUkdCAK7OHOkAAAAgY0hSTQAAeiYAAICEAAD6AAAAgOgAAHUwAADqYAAAOpgAABdwnLpRPAAAAjhJREFUaAW9wb2L1gUAB/DPcd+oQaPswCGqpSGHXqYTapGgJSg4CeoPcEiECqFDpCGwTdIQImuIsGiTtmjJgl6GoKEiIhqCoMQsOOhFy85r+A3H8fTo73mM7+cTZVEWZVEWZVEWZVEWZVEWZVEWZVEWZVEWZVEWZVEWZVEWZVEWZVEWZVEWc7gTS1jBHlzGSXyK71xZlEVZlMUM7sYB7MWSrXbjH3yLj/E0/jYpyqIsymKEe3AAj+NGgx/xEb7HKj7HMnbgYXyBkyZFWZRFWVzFq1jBksH7+AqHcdHgfuzH67gP5/AyTuO8raIsyqIsprgBq9iHBZzHKziKP2x1CxbxPN7DHaaLsiiLsphiD57FAn7CXnxmq0XchlN4FzcbLOBNrJkUZVEWZTHFItYNLmE3HsNdBhewC7vwC3badA4v4JJJURZlURZTnMEHeAi34wQ2DNaxaNNOg8t4B0/hrP8WZVEWZTHFBazgJhzCA/gVP+B63ItlW72Gw1gzXZRFWZTFVazhkEmnsGzwGw7iDay7siiLsiiLOaziCZv2423jRFmURVnMaB+eQwy+xmnjRVmURVnMYBkvYpvB73gSfxkvyqIsymIGj2C7wZ94FJ+YTZRFWZTFSNuxatNb+NDsoizKoixG2IZvcJ3Bl3jGfKIsyqIsRngQt2LD4CAumk+URVmUxQhHsGFwFGfML8qiLMpihB1YwM94ybWJsiiLshjhGI7hCM66NlEWZVEWIxzHcf+PKIuyKPsXNwdYfgiRxs8AAAAASUVORK5C\">"
      ]
     },
     "metadata": {},
     "execution_count": 2
    }
   ],
   "cell_type": "code",
   "source": [
    "using MLDatasets\n",
    "using ImageCore, ImageIO, ImageShow\n",
    "\n",
    "index = 10\n",
    "x, y = MNIST(Float32, :test)[10]\n",
    "input = reshape(x, 28, 28, 1, :)\n",
    "\n",
    "convert2image(MNIST, x)"
   ],
   "metadata": {},
   "execution_count": 2
  },
  {
   "cell_type": "markdown",
   "source": [
    "## Step 1: Create LRP analyzer\n",
    "To create a CRP analyzer, first define an LRP analyzer with your desired rules:"
   ],
   "metadata": {}
  },
  {
   "outputs": [
    {
     "output_type": "execute_result",
     "data": {
      "text/plain": "LRP(\n  Conv((5, 5), 1 => 6, relu) \u001b[90m => \u001b[39m\u001b[33mFlatRule()\u001b[39m,\n  MaxPool((2, 2))            \u001b[90m => \u001b[39m\u001b[33mZeroRule()\u001b[39m,\n  Conv((5, 5), 6 => 16, relu)\u001b[90m => \u001b[39m\u001b[33mZPlusRule()\u001b[39m,\n  MaxPool((2, 2))            \u001b[90m => \u001b[39m\u001b[33mZeroRule()\u001b[39m,\n  Flux.flatten               \u001b[90m => \u001b[39m\u001b[33mPassRule()\u001b[39m,\n  Dense(256 => 120, relu)    \u001b[90m => \u001b[39m\u001b[33mEpsilonRule{Float32}(1.0f-6)\u001b[39m,\n  Dense(120 => 84, relu)     \u001b[90m => \u001b[39m\u001b[33mEpsilonRule{Float32}(1.0f-6)\u001b[39m,\n  Dense(84 => 10)            \u001b[90m => \u001b[39m\u001b[33mEpsilonRule{Float32}(1.0f-6)\u001b[39m,\n)"
     },
     "metadata": {},
     "execution_count": 3
    }
   ],
   "cell_type": "code",
   "source": [
    "composite = EpsilonPlusFlat()\n",
    "lrp_analyzer = LRP(model, composite)"
   ],
   "metadata": {},
   "execution_count": 3
  },
  {
   "cell_type": "markdown",
   "source": [
    "## Step 2: Define concepts\n",
    "Then, specify the index of the layer on the outputs of which you want to condition the explanation.\n",
    "In this example, we are interested in the outputs of the last convolutional layer, layer 3:"
   ],
   "metadata": {}
  },
  {
   "outputs": [
    {
     "output_type": "execute_result",
     "data": {
      "text/plain": "Conv((5, 5), 6 => 16, relu)  \u001b[90m# 2_416 parameters\u001b[39m"
     },
     "metadata": {},
     "execution_count": 4
    }
   ],
   "cell_type": "code",
   "source": [
    "concept_layer = 3    # index of relevant layer in model\n",
    "model[concept_layer] # show layer"
   ],
   "metadata": {},
   "execution_count": 4
  },
  {
   "cell_type": "markdown",
   "source": [
    "Then, specify the concepts you are interested in.\n",
    "To automatically select the $n$ most relevant concepts, use `TopNConcepts`.\n",
    "\n",
    "Note that for convolutional layers,\n",
    "a feature corresponds to an entire output channel of the layer."
   ],
   "metadata": {}
  },
  {
   "outputs": [
    {
     "output_type": "execute_result",
     "data": {
      "text/plain": "TopNConcepts(5)"
     },
     "metadata": {},
     "execution_count": 5
    }
   ],
   "cell_type": "code",
   "source": [
    "concepts = TopNConcepts(5)"
   ],
   "metadata": {},
   "execution_count": 5
  },
  {
   "cell_type": "markdown",
   "source": [
    "To manually specify features, use `IndexedConcepts`."
   ],
   "metadata": {}
  },
  {
   "outputs": [
    {
     "output_type": "execute_result",
     "data": {
      "text/plain": "IndexedConcepts(1, 2, 10)"
     },
     "metadata": {},
     "execution_count": 6
    }
   ],
   "cell_type": "code",
   "source": [
    "concepts = IndexedConcepts(1, 2, 10)"
   ],
   "metadata": {},
   "execution_count": 6
  },
  {
   "cell_type": "markdown",
   "source": [
    "## Step 3: Use CRP analyzer\n",
    "We can now create a `CRP` analyzer\n",
    "and use it like any other analyzer from ExplainableAI.jl:"
   ],
   "metadata": {}
  },
  {
   "outputs": [
    {
     "output_type": "execute_result",
     "data": {
      "text/plain": "3-element Vector{Matrix{ColorTypes.RGB{Float64}}}:\n [RGB{Float64}(1.0,1.0,1.0) RGB{Float64}(1.0,1.0,1.0) … RGB{Float64}(1.0,1.0,1.0) RGB{Float64}(1.0,1.0,1.0); RGB{Float64}(1.0,1.0,1.0) RGB{Float64}(1.0,1.0,1.0) … RGB{Float64}(1.0,1.0,1.0) RGB{Float64}(1.0,1.0,1.0); … ; RGB{Float64}(1.0,1.0,1.0) RGB{Float64}(1.0,1.0,1.0) … RGB{Float64}(1.0,1.0,1.0) RGB{Float64}(1.0,1.0,1.0); RGB{Float64}(1.0,1.0,1.0) RGB{Float64}(1.0,1.0,1.0) … RGB{Float64}(1.0,1.0,1.0) RGB{Float64}(1.0,1.0,1.0)]\n [RGB{Float64}(0.9997586059570313,0.9997586059570313,1.0) RGB{Float64}(0.9997586059570313,0.9997586059570313,1.0) … RGB{Float64}(1.0,1.0,1.0) RGB{Float64}(1.0,1.0,1.0); RGB{Float64}(0.9997586059570313,0.9997586059570313,1.0) RGB{Float64}(0.9997586059570313,0.9997586059570313,1.0) … RGB{Float64}(1.0,1.0,1.0) RGB{Float64}(1.0,1.0,1.0); … ; RGB{Float64}(1.0,1.0,1.0) RGB{Float64}(1.0,1.0,1.0) … RGB{Float64}(1.0,1.0,1.0) RGB{Float64}(1.0,1.0,1.0); RGB{Float64}(1.0,1.0,1.0) RGB{Float64}(1.0,1.0,1.0) … RGB{Float64}(1.0,1.0,1.0) RGB{Float64}(1.0,1.0,1.0)]\n [RGB{Float64}(0.9999998474121093,0.9999998474121093,1.0) RGB{Float64}(0.9999998474121093,0.9999998474121093,1.0) … RGB{Float64}(0.9999998474121093,0.9999998474121093,1.0) RGB{Float64}(0.9999998474121093,0.9999998474121093,1.0); RGB{Float64}(0.9999998474121093,0.9999998474121093,1.0) RGB{Float64}(0.9999998474121093,0.9999998474121093,1.0) … RGB{Float64}(0.9999998474121093,0.9999998474121093,1.0) RGB{Float64}(0.9999998474121093,0.9999998474121093,1.0); … ; RGB{Float64}(0.9999998474121093,0.9999998474121093,1.0) RGB{Float64}(0.9999998474121093,0.9999998474121093,1.0) … RGB{Float64}(0.9999998474121093,0.9999998474121093,1.0) RGB{Float64}(0.9999998474121093,0.9999998474121093,1.0); RGB{Float64}(0.9999998474121093,0.9999998474121093,1.0) RGB{Float64}(0.9999998474121093,0.9999998474121093,1.0) … RGB{Float64}(0.9999998474121093,0.9999998474121093,1.0) RGB{Float64}(0.9999998474121093,0.9999998474121093,1.0)]",
      "text/html": [
       "<table><tbody><tr><td style='text-align:center;vertical-align:middle; margin: 0.5em;border:1px #90999f solid;border-collapse:collapse'><img style='max-width: 100px; max-height:100px;display:inline' src=\"data:image/png;base64,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\"></td><td style='text-align:center;vertical-align:middle; margin: 0.5em;border:1px #90999f solid;border-collapse:collapse'><img style='max-width: 100px; max-height:100px;display:inline' src=\"data:image/png;base64,iVBORw0KGgoAAAANSUhEUgAAAHAAAABwCAIAAABJgmMcAAAABGdBTUEAALGPC/xhBQAAAAFzUkdCAK7OHOkAAAAgY0hSTQAAeiYAAICEAAD6AAAAgOgAAHUwAADqYAAAOpgAABdwnLpRPAAABRdJREFUeAHtwc1vVfUWx+HP2qzTnr7Q0gJGsFi8NDHBEEIYqAONkxvjP22iI0fGwcWQSNJoaBHCS+HY00PP6f7dgfl99x3spAVW76U363m8lMJpKgUx4+2VgphxrFJ4a2a8LSeFclIoJ4VyUignhXJSKCeFctLfSkHMeFtOCuWkUE4K5bwPSkFKQY6OkLZFZjPEjF5mSNMg7ogZ0ZwUykmhnBTKOStKQUpBmoZeTYM0DdI0SClEc1IoJ4VyUijnXZRCLzMqM/r98Qfy/DlSCvLsGTIaISsriBm9zp9HVlaQtTVkfR0xo2pbjmWGmCFOCuWkUE4K5Zy2UuhVCjKdIq9eIQ8eIKMRcniIDAaIO7K5iaysIPPzyHCILC9TlYKY0asUxAxxUignhXJSKOck2pZeBwfIdIq8fImYIeMx8vAh8vPPiBnyyy/IbIY8eoSsrSFNg+zuIpcvI/PzyMICMjdHddQMqeYGhWp2ZFRm9HJSKCeFclIo511MJshshjx6hLx4gezvIw8fIvfuIU2D7O4i29vIaITMZsilS8hkgnz2GfLkCbK1hcxmVIMlpGC8CSeFclIoJ4VyTsKMXqMR8uuvyIMHyPY2sr+PPH6MjMdI2yJ7e8jLl8hshkwmSNMgZsh4jIxGyMEBUgqVlYIsLVGZNVRm9HJSKCeFclIo5ySOjuj1+jXy9Cny00/I/fvI/j6yvIxcvIhsbSELC8jNm8jjx8h0inz8MbK1hWxtIXfvUrWf3KA6OKCXT5G5OY7lpFBOCuWkUM5JtC29dneRe/eQH3+kerqzQ7VDZ5WO09lYXES++ALZ2EA++gjZ2EBu3ECWlpDNTWR9nWo0QpaWkMNDxAwx41hOCuWkUE4K5ZxE09DryRNkb4/q9c4O1X06/6Jzic6Izs3xmOrO999Tzd25g3z6KfLNN8itW1QvFz6k+vNP5NkDxB1ZXkY2NpDDQ2RujmM5KZSTQjkplHMSpdBrYQGZn6fap7NHZ4/OOTqv6AzozF24gHz7LXL9OtWT2/+k2tlBtreR5WXkxQtkYwOZTpHpFHFHSkHM6OWkUE4K5aRQzrs4fx65e5dqfTikWp9MqFbpzNH5i84hneneHtXg6VNkbY1qZQVpW+T335HJBBmPkYMD5OgIWVlBVleRUuhlhjgplJNCOSmUcxJNQ6/hELl8Gfn8c6rrP/xA9YrOgM5fdM7RafkPh4dIKVRmSCnIcIisrSGrq8i1a8hwiFy8yLHM6OWkUE4K5aRQzkmcO0evq1eRq1eRr7+murq7S3X5t9+opnSu0Lk5GCBffYVsbiLXrlHNzyMXLiCLi8hgQK+mQQ4PeSOlIGaIk0I5KZSTQjnvYnOTXt99h1y6RDWYzagGz55R3ZzNkC+/RDY3kbU1ZH0dmU6pFhy5dWtAtbxML3femhm9nBTKSaGcFMo5DbdvI1euINMp8vw50rbI4iK9xmNkOEQmE/qsffAB/wtOCuWkUE4K5ZyGxUXk+nWqtkWafxwhpSCl0KsUZDBAzHifOCmUk0I5KZTzX2SGFDtHHzPONCeFclIoJ4VyTkHb0qsUjtU09DLjTHBSKCeFclIo5xSUgpSClMIbaRrOHCeFclIoJ4Vy3kEp9GpbpBSkbREzejUNUgpixpngpFBOCuWkUE4K5aRQTgrlpFDOe8CM/xtOCuWkUE4K5ZyCpkFKQcwQM3qZIWacOU4K5aRQTgrlnDIzxAwxo1fTcKY5KZSTQjkp1L8BZSFE3uyo0iYAAAAASUVORK5C\"></td><td style='text-align:center;vertical-align:middle; margin: 0.5em;border:1px #90999f solid;border-collapse:collapse'><img style='max-width: 100px; max-height:100px;display:inline' src=\"data:image/png;base64,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\"></td></tr></tbody></table><div><small>(a vector displayed as a row to save space)</small></div>"
      ]
     },
     "metadata": {},
     "execution_count": 7
    }
   ],
   "cell_type": "code",
   "source": [
    "analyzer = CRP(lrp_analyzer, concept_layer, concepts)\n",
    "heatmap(input, analyzer)"
   ],
   "metadata": {},
   "execution_count": 7
  },
  {
   "cell_type": "markdown",
   "source": [
    "## Using CRP on input batches\n",
    "Note that `CRP` uses the batch dimension to return explanations.\n",
    "When using CRP on batches, the explanations are first sorted by concepts, then inputs,\n",
    "e.g. `[c1_i1, c1_i2, c2_i1, c2_i2, c3_i1, c3_i2]` in the following example:"
   ],
   "metadata": {}
  },
  {
   "outputs": [
    {
     "output_type": "execute_result",
     "data": {
      "text/plain": "6-element Vector{Matrix{ColorTypes.RGB{Float64}}}:\n [RGB{Float64}(1.0,1.0,1.0) RGB{Float64}(1.0,1.0,1.0) … RGB{Float64}(1.0,1.0,1.0) RGB{Float64}(1.0,1.0,1.0); RGB{Float64}(1.0,1.0,1.0) RGB{Float64}(1.0,1.0,1.0) … RGB{Float64}(1.0,1.0,1.0) RGB{Float64}(1.0,1.0,1.0); … ; RGB{Float64}(1.0,1.0,1.0) RGB{Float64}(1.0,1.0,1.0) … RGB{Float64}(1.0,1.0,1.0) RGB{Float64}(1.0,1.0,1.0); RGB{Float64}(1.0,1.0,1.0) RGB{Float64}(1.0,1.0,1.0) … RGB{Float64}(1.0,1.0,1.0) RGB{Float64}(1.0,1.0,1.0)]\n [RGB{Float64}(1.0,1.0,1.0) RGB{Float64}(1.0,1.0,1.0) … RGB{Float64}(1.0,1.0,1.0) RGB{Float64}(1.0,1.0,1.0); RGB{Float64}(1.0,1.0,1.0) RGB{Float64}(1.0,1.0,1.0) … RGB{Float64}(1.0,1.0,1.0) RGB{Float64}(1.0,1.0,1.0); … ; RGB{Float64}(1.0,1.0,1.0) RGB{Float64}(1.0,1.0,1.0) … RGB{Float64}(1.0,1.0,1.0) RGB{Float64}(1.0,1.0,1.0); RGB{Float64}(1.0,1.0,1.0) RGB{Float64}(1.0,1.0,1.0) … RGB{Float64}(1.0,1.0,1.0) RGB{Float64}(1.0,1.0,1.0)]\n [RGB{Float64}(0.9997586059570313,0.9997586059570313,1.0) RGB{Float64}(0.9997586059570313,0.9997586059570313,1.0) … RGB{Float64}(1.0,1.0,1.0) RGB{Float64}(1.0,1.0,1.0); RGB{Float64}(0.9997586059570313,0.9997586059570313,1.0) RGB{Float64}(0.9997586059570313,0.9997586059570313,1.0) … RGB{Float64}(1.0,1.0,1.0) RGB{Float64}(1.0,1.0,1.0); … ; RGB{Float64}(1.0,1.0,1.0) RGB{Float64}(1.0,1.0,1.0) … RGB{Float64}(1.0,1.0,1.0) RGB{Float64}(1.0,1.0,1.0); RGB{Float64}(1.0,1.0,1.0) RGB{Float64}(1.0,1.0,1.0) … RGB{Float64}(1.0,1.0,1.0) RGB{Float64}(1.0,1.0,1.0)]\n [RGB{Float64}(1.0,1.0,1.0) RGB{Float64}(1.0,1.0,1.0) … RGB{Float64}(1.0,0.9953031921386719,0.9953031921386719) RGB{Float64}(1.0,1.0,1.0); RGB{Float64}(1.0,1.0,1.0) RGB{Float64}(1.0,1.0,1.0) … RGB{Float64}(1.0,0.9953031921386719,0.9953031921386719) RGB{Float64}(1.0,1.0,1.0); … ; RGB{Float64}(1.0,1.0,1.0) RGB{Float64}(1.0,1.0,1.0) … RGB{Float64}(1.0,1.0,1.0) RGB{Float64}(1.0,1.0,1.0); RGB{Float64}(1.0,1.0,1.0) RGB{Float64}(1.0,1.0,1.0) … RGB{Float64}(1.0,1.0,1.0) RGB{Float64}(1.0,1.0,1.0)]\n [RGB{Float64}(0.9999998474121093,0.9999998474121093,1.0) RGB{Float64}(0.9999998474121093,0.9999998474121093,1.0) … RGB{Float64}(0.9999998474121093,0.9999998474121093,1.0) RGB{Float64}(0.9999998474121093,0.9999998474121093,1.0); RGB{Float64}(0.9999998474121093,0.9999998474121093,1.0) RGB{Float64}(0.9999998474121093,0.9999998474121093,1.0) … RGB{Float64}(0.9999998474121093,0.9999998474121093,1.0) RGB{Float64}(0.9999998474121093,0.9999998474121093,1.0); … ; RGB{Float64}(0.9999998474121093,0.9999998474121093,1.0) RGB{Float64}(0.9999998474121093,0.9999998474121093,1.0) … RGB{Float64}(0.9999998474121093,0.9999998474121093,1.0) RGB{Float64}(0.9999998474121093,0.9999998474121093,1.0); RGB{Float64}(0.9999998474121093,0.9999998474121093,1.0) RGB{Float64}(0.9999998474121093,0.9999998474121093,1.0) … RGB{Float64}(0.9999998474121093,0.9999998474121093,1.0) RGB{Float64}(0.9999998474121093,0.9999998474121093,1.0)]\n [RGB{Float64}(1.0,1.0,1.0) RGB{Float64}(1.0,1.0,1.0) … RGB{Float64}(1.0,1.0,1.0) RGB{Float64}(1.0,1.0,1.0); RGB{Float64}(1.0,1.0,1.0) RGB{Float64}(1.0,1.0,1.0) … RGB{Float64}(1.0,1.0,1.0) RGB{Float64}(1.0,1.0,1.0); … ; RGB{Float64}(1.0,1.0,1.0) RGB{Float64}(1.0,1.0,1.0) … RGB{Float64}(1.0,0.9981547546386719,0.9981547546386719) RGB{Float64}(1.0,1.0,1.0); RGB{Float64}(1.0,1.0,1.0) RGB{Float64}(1.0,1.0,1.0) … RGB{Float64}(1.0,1.0,1.0) RGB{Float64}(1.0,1.0,1.0)]",
      "text/html": [
       "<table><tbody><tr><td style='text-align:center;vertical-align:middle; margin: 0.5em;border:1px #90999f solid;border-collapse:collapse'><img style='max-width: 100px; max-height:100px;display:inline' src=\"data:image/png;base64,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\"></td><td style='text-align:center;vertical-align:middle; margin: 0.5em;border:1px #90999f solid;border-collapse:collapse'><img style='max-width: 100px; max-height:100px;display:inline' src=\"data:image/png;base64,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\"></td><td style='text-align:center;vertical-align:middle; margin: 0.5em;border:1px #90999f solid;border-collapse:collapse'><img style='max-width: 100px; max-height:100px;display:inline' src=\"data:image/png;base64,iVBORw0KGgoAAAANSUhEUgAAAHAAAABwCAIAAABJgmMcAAAABGdBTUEAALGPC/xhBQAAAAFzUkdCAK7OHOkAAAAgY0hSTQAAeiYAAICEAAD6AAAAgOgAAHUwAADqYAAAOpgAABdwnLpRPAAABRdJREFUeAHtwc1vVfUWx+HP2qzTnr7Q0gJGsFi8NDHBEEIYqAONkxvjP22iI0fGwcWQSNJoaBHCS+HY00PP6f7dgfl99x3spAVW76U363m8lMJpKgUx4+2VgphxrFJ4a2a8LSeFclIoJ4VyUignhXJSKCeFctLfSkHMeFtOCuWkUE4K5bwPSkFKQY6OkLZFZjPEjF5mSNMg7ogZ0ZwUykmhnBTKOStKQUpBmoZeTYM0DdI0SClEc1IoJ4VyUijnXZRCLzMqM/r98Qfy/DlSCvLsGTIaISsriBm9zp9HVlaQtTVkfR0xo2pbjmWGmCFOCuWkUE4K5Zy2UuhVCjKdIq9eIQ8eIKMRcniIDAaIO7K5iaysIPPzyHCILC9TlYKY0asUxAxxUignhXJSKOck2pZeBwfIdIq8fImYIeMx8vAh8vPPiBnyyy/IbIY8eoSsrSFNg+zuIpcvI/PzyMICMjdHddQMqeYGhWp2ZFRm9HJSKCeFclIo511MJshshjx6hLx4gezvIw8fIvfuIU2D7O4i29vIaITMZsilS8hkgnz2GfLkCbK1hcxmVIMlpGC8CSeFclIoJ4VyTsKMXqMR8uuvyIMHyPY2sr+PPH6MjMdI2yJ7e8jLl8hshkwmSNMgZsh4jIxGyMEBUgqVlYIsLVGZNVRm9HJSKCeFclIo5ySOjuj1+jXy9Cny00/I/fvI/j6yvIxcvIhsbSELC8jNm8jjx8h0inz8MbK1hWxtIXfvUrWf3KA6OKCXT5G5OY7lpFBOCuWkUM5JtC29dneRe/eQH3+kerqzQ7VDZ5WO09lYXES++ALZ2EA++gjZ2EBu3ECWlpDNTWR9nWo0QpaWkMNDxAwx41hOCuWkUE4K5ZxE09DryRNkb4/q9c4O1X06/6Jzic6Izs3xmOrO999Tzd25g3z6KfLNN8itW1QvFz6k+vNP5NkDxB1ZXkY2NpDDQ2RujmM5KZSTQjkplHMSpdBrYQGZn6fap7NHZ4/OOTqv6AzozF24gHz7LXL9OtWT2/+k2tlBtreR5WXkxQtkYwOZTpHpFHFHSkHM6OWkUE4K5aRQzrs4fx65e5dqfTikWp9MqFbpzNH5i84hneneHtXg6VNkbY1qZQVpW+T335HJBBmPkYMD5OgIWVlBVleRUuhlhjgplJNCOSmUcxJNQ6/hELl8Gfn8c6rrP/xA9YrOgM5fdM7RafkPh4dIKVRmSCnIcIisrSGrq8i1a8hwiFy8yLHM6OWkUE4K5aRQzkmcO0evq1eRq1eRr7+murq7S3X5t9+opnSu0Lk5GCBffYVsbiLXrlHNzyMXLiCLi8hgQK+mQQ4PeSOlIGaIk0I5KZSTQjnvYnOTXt99h1y6RDWYzagGz55R3ZzNkC+/RDY3kbU1ZH0dmU6pFhy5dWtAtbxML3femhm9nBTKSaGcFMo5DbdvI1euINMp8vw50rbI4iK9xmNkOEQmE/qsffAB/wtOCuWkUE4K5ZyGxUXk+nWqtkWafxwhpSCl0KsUZDBAzHifOCmUk0I5KZTzX2SGFDtHHzPONCeFclIoJ4VyTkHb0qsUjtU09DLjTHBSKCeFclIo5xSUgpSClMIbaRrOHCeFclIoJ4Vy3kEp9GpbpBSkbREzejUNUgpixpngpFBOCuWkUE4K5aRQTgrlpFDOe8CM/xtOCuWkUE4K5ZyCpkFKQcwQM3qZIWacOU4K5aRQTgrlnDIzxAwxo1fTcKY5KZSTQjkp1L8BZSFE3uyo0iYAAAAASUVORK5C\"></td><td style='text-align:center;vertical-align:middle; margin: 0.5em;border:1px #90999f solid;border-collapse:collapse'><img style='max-width: 100px; max-height:100px;display:inline' src=\"data:image/png;base64,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\"></td><td style='text-align:center;vertical-align:middle; margin: 0.5em;border:1px #90999f solid;border-collapse:collapse'><img style='max-width: 100px; max-height:100px;display:inline' src=\"data:image/png;base64,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\"></td><td style='text-align:center;vertical-align:middle; margin: 0.5em;border:1px #90999f solid;border-collapse:collapse'><img style='max-width: 100px; max-height:100px;display:inline' src=\"data:image/png;base64,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\"></td></tr></tbody></table><div><small>(a vector displayed as a row to save space)</small></div>"
      ]
     },
     "metadata": {},
     "execution_count": 8
    }
   ],
   "cell_type": "code",
   "source": [
    "x, y = MNIST(Float32, :test)[10:11]\n",
    "batch = reshape(x, 28, 28, 1, :)\n",
    "\n",
    "heatmap(batch, analyzer)"
   ],
   "metadata": {},
   "execution_count": 8
  },
  {
   "cell_type": "markdown",
   "source": [
    "---\n",
    "\n",
    "*This notebook was generated using [Literate.jl](https://github.com/fredrikekre/Literate.jl).*"
   ],
   "metadata": {}
  }
 ],
 "nbformat_minor": 3,
 "metadata": {
  "language_info": {
   "file_extension": ".jl",
   "mimetype": "application/julia",
   "name": "julia",
   "version": "1.10.0"
  },
  "kernelspec": {
   "name": "julia-1.10",
   "display_name": "Julia 1.10.0",
   "language": "julia"
  }
 },
 "nbformat": 4
}
