{
 "cells": [
  {
   "cell_type": "markdown",
   "source": [
    "# Basic usage of LRP\n",
    "This example will show you best practices for using LRP,\n",
    "building on the basics shown in the *Getting started* section."
   ],
   "metadata": {}
  },
  {
   "cell_type": "markdown",
   "source": [
    "We start out by loading a small convolutional neural network:"
   ],
   "metadata": {}
  },
  {
   "outputs": [],
   "cell_type": "code",
   "source": [
    "using ExplainableAI\n",
    "using Flux\n",
    "\n",
    "model = Chain(\n",
    "    Chain(\n",
    "        Conv((3, 3), 3 => 8, relu; pad=1),\n",
    "        Conv((3, 3), 8 => 8, relu; pad=1),\n",
    "        MaxPool((2, 2)),\n",
    "        Conv((3, 3), 8 => 16; pad=1),\n",
    "        BatchNorm(16, relu),\n",
    "        Conv((3, 3), 16 => 8, relu; pad=1),\n",
    "        BatchNorm(8, relu),\n",
    "    ),\n",
    "    Chain(\n",
    "        Flux.flatten,\n",
    "        Dense(2048 => 512, relu),\n",
    "        Dropout(0.5),\n",
    "        Dense(512 => 100, softmax)\n",
    "    ),\n",
    ");"
   ],
   "metadata": {},
   "execution_count": 1
  },
  {
   "cell_type": "markdown",
   "source": [
    "This model contains two chains: the convolutional layers and the fully connected layers."
   ],
   "metadata": {}
  },
  {
   "cell_type": "markdown",
   "source": [
    "## Model preparation\n",
    "### Stripping the output softmax\n",
    "When using LRP, it is recommended to explain output logits instead of probabilities.\n",
    "This can be done by stripping the output softmax activation from the model\n",
    "using the `strip_softmax` function:"
   ],
   "metadata": {}
  },
  {
   "outputs": [
    {
     "output_type": "execute_result",
     "data": {
      "text/plain": "Chain(\n  Chain(\n    Conv((3, 3), 3 => 8, relu, pad=1),  \u001b[90m# 224 parameters\u001b[39m\n    Conv((3, 3), 8 => 8, relu, pad=1),  \u001b[90m# 584 parameters\u001b[39m\n    MaxPool((2, 2)),\n    Conv((3, 3), 8 => 16, pad=1),       \u001b[90m# 1_168 parameters\u001b[39m\n    BatchNorm(16, relu),                \u001b[90m# 32 parameters\u001b[39m\u001b[90m, plus 32\u001b[39m\n    Conv((3, 3), 16 => 8, relu, pad=1),  \u001b[90m# 1_160 parameters\u001b[39m\n    BatchNorm(8, relu),                 \u001b[90m# 16 parameters\u001b[39m\u001b[90m, plus 16\u001b[39m\n  ),\n  Chain(\n    Flux.flatten,\n    Dense(2048 => 512, relu),           \u001b[90m# 1_049_088 parameters\u001b[39m\n    Dropout(0.5),\n    Dense(512 => 100),                  \u001b[90m# 51_300 parameters\u001b[39m\n  ),\n) \u001b[90m        # Total: 16 trainable arrays, \u001b[39m1_103_572 parameters,\n\u001b[90m          # plus 4 non-trainable, 48 parameters, summarysize \u001b[39m4.213 MiB."
     },
     "metadata": {},
     "execution_count": 2
    }
   ],
   "cell_type": "code",
   "source": [
    "model = strip_softmax(model)"
   ],
   "metadata": {},
   "execution_count": 2
  },
  {
   "cell_type": "markdown",
   "source": [
    "If you don't remove the output softmax,\n",
    "model checks will fail."
   ],
   "metadata": {}
  },
  {
   "cell_type": "markdown",
   "source": [
    "### Canonizing the model\n",
    "LRP is not invariant to a model's implementation.\n",
    "Applying the `GammaRule` to two linear layers in a row will yield different results\n",
    "than first fusing the two layers into one linear layer and then applying the rule.\n",
    "This fusing is called \"canonization\" and can be done using the `canonize` function:"
   ],
   "metadata": {}
  },
  {
   "outputs": [
    {
     "output_type": "execute_result",
     "data": {
      "text/plain": "Chain(\n  Conv((3, 3), 3 => 8, relu, pad=1),    \u001b[90m# 224 parameters\u001b[39m\n  Conv((3, 3), 8 => 8, relu, pad=1),    \u001b[90m# 584 parameters\u001b[39m\n  MaxPool((2, 2)),\n  Conv((3, 3), 8 => 16, relu, pad=1),   \u001b[90m# 1_168 parameters\u001b[39m\n  Conv((3, 3), 16 => 8, relu, pad=1),   \u001b[90m# 1_160 parameters\u001b[39m\n  BatchNorm(8, relu),                   \u001b[90m# 16 parameters\u001b[39m\u001b[90m, plus 16\u001b[39m\n  Flux.flatten,\n  Dense(2048 => 512, relu),             \u001b[90m# 1_049_088 parameters\u001b[39m\n  Dropout(0.5),\n  Dense(512 => 100),                    \u001b[90m# 51_300 parameters\u001b[39m\n) \u001b[90m        # Total: 14 trainable arrays, \u001b[39m1_103_540 parameters,\n\u001b[90m          # plus 2 non-trainable, 16 parameters, summarysize \u001b[39m4.212 MiB."
     },
     "metadata": {},
     "execution_count": 3
    }
   ],
   "cell_type": "code",
   "source": [
    "model_canonized = canonize(model)"
   ],
   "metadata": {},
   "execution_count": 3
  },
  {
   "cell_type": "markdown",
   "source": [
    "After canonization, the first `BatchNorm` layer has been fused into the preceding `Conv` layer.\n",
    "The second `BatchNorm` layer wasn't fused\n",
    "since its preceding `Conv` layer has a ReLU activation function."
   ],
   "metadata": {}
  },
  {
   "cell_type": "markdown",
   "source": [
    "### Flattening the model\n",
    "ExplainableAI.jl's LRP implementation supports nested Flux Chains and Parallel layers.\n",
    "However, it is recommended to flatten the model before analyzing it.\n",
    "\n",
    "LRP is implemented by first running a forward pass through the model,\n",
    "keeping track of the intermediate activations, followed by a backward pass\n",
    "that computes the relevances.\n",
    "\n",
    "To keep the LRP implementation simple and maintainable,\n",
    "ExplainableAI.jl does not pre-compute \"nested\" activations.\n",
    "Instead, for every internal chain, a new forward pass is run to compute activations.\n",
    "\n",
    "By \"flattening\" a model, this overhead can be avoided.\n",
    "For this purpose, ExplainableAI.jl provides the function `flatten_model`:"
   ],
   "metadata": {}
  },
  {
   "outputs": [
    {
     "output_type": "execute_result",
     "data": {
      "text/plain": "Chain(\n  Conv((3, 3), 3 => 8, relu, pad=1),    \u001b[90m# 224 parameters\u001b[39m\n  Conv((3, 3), 8 => 8, relu, pad=1),    \u001b[90m# 584 parameters\u001b[39m\n  MaxPool((2, 2)),\n  Conv((3, 3), 8 => 16, pad=1),         \u001b[90m# 1_168 parameters\u001b[39m\n  BatchNorm(16, relu),                  \u001b[90m# 32 parameters\u001b[39m\u001b[90m, plus 32\u001b[39m\n  Conv((3, 3), 16 => 8, relu, pad=1),   \u001b[90m# 1_160 parameters\u001b[39m\n  BatchNorm(8, relu),                   \u001b[90m# 16 parameters\u001b[39m\u001b[90m, plus 16\u001b[39m\n  Flux.flatten,\n  Dense(2048 => 512, relu),             \u001b[90m# 1_049_088 parameters\u001b[39m\n  Dropout(0.5),\n  Dense(512 => 100),                    \u001b[90m# 51_300 parameters\u001b[39m\n) \u001b[90m        # Total: 16 trainable arrays, \u001b[39m1_103_572 parameters,\n\u001b[90m          # plus 4 non-trainable, 48 parameters, summarysize \u001b[39m4.212 MiB."
     },
     "metadata": {},
     "execution_count": 4
    }
   ],
   "cell_type": "code",
   "source": [
    "model_flat = flatten_model(model)"
   ],
   "metadata": {},
   "execution_count": 4
  },
  {
   "cell_type": "markdown",
   "source": [
    "This function is called by default when creating an LRP analyzer.\n",
    "Note that we pass the unflattened model to the analyzer, but `analyzer.model` is flattened:"
   ],
   "metadata": {}
  },
  {
   "outputs": [
    {
     "output_type": "execute_result",
     "data": {
      "text/plain": "Chain(\n  Conv((3, 3), 3 => 8, relu, pad=1),    \u001b[90m# 224 parameters\u001b[39m\n  Conv((3, 3), 8 => 8, relu, pad=1),    \u001b[90m# 584 parameters\u001b[39m\n  MaxPool((2, 2)),\n  Conv((3, 3), 8 => 16, pad=1),         \u001b[90m# 1_168 parameters\u001b[39m\n  BatchNorm(16, relu),                  \u001b[90m# 32 parameters\u001b[39m\u001b[90m, plus 32\u001b[39m\n  Conv((3, 3), 16 => 8, relu, pad=1),   \u001b[90m# 1_160 parameters\u001b[39m\n  BatchNorm(8, relu),                   \u001b[90m# 16 parameters\u001b[39m\u001b[90m, plus 16\u001b[39m\n  Flux.flatten,\n  Dense(2048 => 512, relu),             \u001b[90m# 1_049_088 parameters\u001b[39m\n  Dropout(0.5),\n  Dense(512 => 100),                    \u001b[90m# 51_300 parameters\u001b[39m\n) \u001b[90m        # Total: 16 trainable arrays, \u001b[39m1_103_572 parameters,\n\u001b[90m          # plus 4 non-trainable, 48 parameters, summarysize \u001b[39m4.212 MiB."
     },
     "metadata": {},
     "execution_count": 5
    }
   ],
   "cell_type": "code",
   "source": [
    "analyzer = LRP(model)\n",
    "analyzer.model"
   ],
   "metadata": {},
   "execution_count": 5
  },
  {
   "cell_type": "markdown",
   "source": [
    "If this flattening is not desired, it can be disabled\n",
    "by passing the keyword argument `flatten=false` to the `LRP` constructor."
   ],
   "metadata": {}
  },
  {
   "cell_type": "markdown",
   "source": [
    "## LRP rules\n",
    "By default, the `LRP` constructor will assign the `ZeroRule` to all layers."
   ],
   "metadata": {}
  },
  {
   "outputs": [
    {
     "output_type": "execute_result",
     "data": {
      "text/plain": "LRP(\n  Conv((3, 3), 3 => 8, relu, pad=1) \u001b[90m => \u001b[39m\u001b[33mZeroRule()\u001b[39m,\n  Conv((3, 3), 8 => 8, relu, pad=1) \u001b[90m => \u001b[39m\u001b[33mZeroRule()\u001b[39m,\n  MaxPool((2, 2))                   \u001b[90m => \u001b[39m\u001b[33mZeroRule()\u001b[39m,\n  Conv((3, 3), 8 => 16, pad=1)      \u001b[90m => \u001b[39m\u001b[33mZeroRule()\u001b[39m,\n  BatchNorm(16, relu)               \u001b[90m => \u001b[39m\u001b[33mZeroRule()\u001b[39m,\n  Conv((3, 3), 16 => 8, relu, pad=1)\u001b[90m => \u001b[39m\u001b[33mZeroRule()\u001b[39m,\n  BatchNorm(8, relu)                \u001b[90m => \u001b[39m\u001b[33mZeroRule()\u001b[39m,\n  Flux.flatten                      \u001b[90m => \u001b[39m\u001b[33mZeroRule()\u001b[39m,\n  Dense(2048 => 512, relu)          \u001b[90m => \u001b[39m\u001b[33mZeroRule()\u001b[39m,\n  Dropout(0.5)                      \u001b[90m => \u001b[39m\u001b[33mZeroRule()\u001b[39m,\n  Dense(512 => 100)                 \u001b[90m => \u001b[39m\u001b[33mZeroRule()\u001b[39m,\n)"
     },
     "metadata": {},
     "execution_count": 6
    }
   ],
   "cell_type": "code",
   "source": [
    "LRP(model)"
   ],
   "metadata": {},
   "execution_count": 6
  },
  {
   "cell_type": "markdown",
   "source": [
    "This analyzer will return heatmaps that look identical to `InputTimesGradient`."
   ],
   "metadata": {}
  },
  {
   "cell_type": "markdown",
   "source": [
    "LRP's strength lies in assigning different rules to different layers,\n",
    "based on their functionality in the neural network[^1].\n",
    "ExplainableAI.jl implements many LRP rules out of the box,\n",
    "but it is also possible to *implement custom rules*.\n",
    "\n",
    "To assign different rules to different layers,\n",
    "use one of the composites presets,\n",
    "or create your own composite, as described in\n",
    "*Assigning rules to layers*."
   ],
   "metadata": {}
  },
  {
   "outputs": [
    {
     "output_type": "execute_result",
     "data": {
      "text/plain": "Composite(\n  GlobalTypeMap(  \u001b[90m# all layers\u001b[39m\n\u001b[94m    Flux.Conv              \u001b[39m => \u001b[33mZPlusRule()\u001b[39m,\n\u001b[94m    Flux.ConvTranspose     \u001b[39m => \u001b[33mZPlusRule()\u001b[39m,\n\u001b[94m    Flux.CrossCor          \u001b[39m => \u001b[33mZPlusRule()\u001b[39m,\n\u001b[94m    Flux.Dense             \u001b[39m => \u001b[33mEpsilonRule{Float32}(1.0f-6)\u001b[39m,\n\u001b[94m    typeof(NNlib.dropout)  \u001b[39m => \u001b[33mPassRule()\u001b[39m,\n\u001b[94m    Flux.AlphaDropout      \u001b[39m => \u001b[33mPassRule()\u001b[39m,\n\u001b[94m    Flux.Dropout           \u001b[39m => \u001b[33mPassRule()\u001b[39m,\n\u001b[94m    Flux.BatchNorm         \u001b[39m => \u001b[33mPassRule()\u001b[39m,\n\u001b[94m    typeof(Flux.flatten)   \u001b[39m => \u001b[33mPassRule()\u001b[39m,\n\u001b[94m    typeof(MLUtils.flatten)\u001b[39m => \u001b[33mPassRule()\u001b[39m,\n\u001b[94m    typeof(identity)       \u001b[39m => \u001b[33mPassRule()\u001b[39m,\n ),\n  FirstLayerTypeMap(  \u001b[90m# first layer\u001b[39m\n\u001b[94m    Flux.Conv         \u001b[39m => \u001b[33mFlatRule()\u001b[39m,\n\u001b[94m    Flux.ConvTranspose\u001b[39m => \u001b[33mFlatRule()\u001b[39m,\n\u001b[94m    Flux.CrossCor     \u001b[39m => \u001b[33mFlatRule()\u001b[39m,\n ),\n)"
     },
     "metadata": {},
     "execution_count": 7
    }
   ],
   "cell_type": "code",
   "source": [
    "composite = EpsilonPlusFlat() # using composite preset EpsilonPlusFlat"
   ],
   "metadata": {},
   "execution_count": 7
  },
  {
   "outputs": [
    {
     "output_type": "execute_result",
     "data": {
      "text/plain": "LRP(\n  Conv((3, 3), 3 => 8, relu, pad=1) \u001b[90m => \u001b[39m\u001b[33mFlatRule()\u001b[39m,\n  Conv((3, 3), 8 => 8, relu, pad=1) \u001b[90m => \u001b[39m\u001b[33mZPlusRule()\u001b[39m,\n  MaxPool((2, 2))                   \u001b[90m => \u001b[39m\u001b[33mZeroRule()\u001b[39m,\n  Conv((3, 3), 8 => 16, pad=1)      \u001b[90m => \u001b[39m\u001b[33mZPlusRule()\u001b[39m,\n  BatchNorm(16, relu)               \u001b[90m => \u001b[39m\u001b[33mPassRule()\u001b[39m,\n  Conv((3, 3), 16 => 8, relu, pad=1)\u001b[90m => \u001b[39m\u001b[33mZPlusRule()\u001b[39m,\n  BatchNorm(8, relu)                \u001b[90m => \u001b[39m\u001b[33mPassRule()\u001b[39m,\n  Flux.flatten                      \u001b[90m => \u001b[39m\u001b[33mPassRule()\u001b[39m,\n  Dense(2048 => 512, relu)          \u001b[90m => \u001b[39m\u001b[33mEpsilonRule{Float32}(1.0f-6)\u001b[39m,\n  Dropout(0.5)                      \u001b[90m => \u001b[39m\u001b[33mPassRule()\u001b[39m,\n  Dense(512 => 100)                 \u001b[90m => \u001b[39m\u001b[33mEpsilonRule{Float32}(1.0f-6)\u001b[39m,\n)"
     },
     "metadata": {},
     "execution_count": 8
    }
   ],
   "cell_type": "code",
   "source": [
    "LRP(model, composite)"
   ],
   "metadata": {},
   "execution_count": 8
  },
  {
   "cell_type": "markdown",
   "source": [
    "## Computing layerwise relevances\n",
    "If you are interested in computing layerwise relevances,\n",
    "call `analyze` with an LRP analyzer and the keyword argument\n",
    "`layerwise_relevances=true`.\n",
    "\n",
    "The layerwise relevances can be accessed in the `extras` field\n",
    "of the returned `Explanation`:"
   ],
   "metadata": {}
  },
  {
   "outputs": [
    {
     "output_type": "execute_result",
     "data": {
      "text/plain": "([-0.0006864101 -0.078930825 … -0.4131962 0.5393244; -0.06560685 -0.34346953 … 0.046793558 -0.007006454; … ; -1.1805439 -0.46861368 … 0.092092976 -0.03201009; 0.5660078 -2.825296 … -0.007818426 -0.0014134663;;; 0.044607528 -0.1394447 … -0.009186547 -0.06972114; 0.19734967 0.7840045 … -0.09371509 0.6436557; … ; -0.876227 -1.3821394 … -0.005657232 0.049912658; -0.44477627 2.6034818 … 0.074788295 0.18833853;;; -0.13327515 -0.09127686 … -0.103256926 0.06795376; 0.05460218 0.87574416 … 0.38693053 0.023261825; … ; -1.2142085 1.9633592 … -0.024972664 0.23542017; -0.82592946 -0.05838378 … 0.027492216 0.3004063;;;;], [0.0 -0.0 … -0.0 0.0; -0.0 -0.0 … -0.0 0.0; … ; 0.0 -0.0 … 0.0 0.0; 0.14459471 0.16872694 … -0.0 0.0;;; -0.0130703775 0.120102026 … -0.28146046 0.121841766; 0.15505257 0.21610779 … 0.09389838 -0.082121566; … ; -0.06646787 -0.8353111 … 0.32321677 -0.06788002; -0.05648856 -2.2186615 … 0.14575148 0.03371396;;; 0.007999132 0.0044154897 … -0.0 0.01918838; 0.0 0.08594382 … -0.14401537 0.149296; … ; -0.011195928 0.44478747 … -0.0 0.0040337513; 0.0 0.10118876 … -0.0 0.028589772;;; -0.025875647 -0.11385281 … -0.024002058 -0.19434994; 0.027944136 0.05465699 … 0.08009886 0.40830037; … ; 0.0 -0.68239295 … -0.03234424 -0.0021624009; 0.0 -1.1748375 … 0.0 0.29578376;;; 0.0 0.0 … -0.0 0.05371911; -0.0 0.0 … 0.0 0.25605705; … ; 0.0 -0.0 … -0.0 0.0; -0.0 -0.0 … 0.0 0.0;;; -0.0 0.0 … 0.0 0.0; -0.1404586 0.0 … 0.0 -0.0; … ; -4.8496213 -0.8598969 … -0.0 0.03163185; -0.98458064 0.81794953 … 0.0 -0.0;;; 0.0 0.0 … 0.0 0.0; 0.0 0.0 … 0.0 -0.0; … ; -0.0 -0.0 … 0.0 -0.0; -0.0 -0.0 … 0.0 0.0;;; -0.0 -0.0 … -0.0 0.0031455108; 0.0 0.0 … -0.0 0.25239226; … ; -0.0 -0.0 … 0.0 -0.0; 0.11696371 0.55409205 … 0.08184526 0.11433555;;;;], [0.0 0.0 … 0.0 0.07653179; 0.0 0.0 … 0.0 0.0; … ; 0.0 0.0 … 0.0 0.0; 0.0 -0.43776378 … 0.0 0.048396286;;; 0.0 0.0 … 0.0 0.08418293; 0.0 0.0 … 0.0 0.0; … ; 0.0 0.0 … 0.0 0.033990167; -0.16237932 0.0 … 0.0 0.0;;; -0.34304312 0.0 … 0.05122671 0.0; 0.0 0.0 … 0.0 0.0; … ; -5.3973017 0.0 … 0.0 0.0; 0.0 0.0 … 0.17359255 0.0;;; 0.0 0.0 … 0.0 0.0; 0.0 0.0 … 0.0 0.0; … ; 0.0 0.0 … 0.0 0.0; 0.0 0.0 … 0.02941122 0.0;;; 0.0 0.0 … 0.0 0.0; 0.0 -0.0029657076 … 0.0 0.09997487; … ; 0.0 0.0 … 0.0 0.0; 0.0 -3.4542649 … 0.0 0.23226683;;; 0.0 0.0 … 0.0 0.0; 0.0 0.006924084 … 0.0 -0.68019974; … ; 0.0 -0.42309907 … 0.0 0.0271026; 0.0 0.0 … 0.0 0.0;;; 0.0 -0.021958923 … 0.16687351 0.0; 0.0 0.0 … 0.0 0.0; … ; 2.7827594 0.0 … -0.08195559 0.0; 0.0 0.0 … 0.0 0.0;;; 0.0 0.0 … 0.0 0.0; 0.0 0.0 … 0.0 0.0; … ; 0.0 0.0 … 0.0 0.0; 0.0 0.0 … 0.0 -0.031913135;;;;], [-0.0 0.0 … -0.0 0.07653179; -0.0 -0.38522393 … 0.0019620075 -0.08191976; … ; 0.0 0.6244626 … 0.040080406 0.15492857; -0.43776378 -4.063887 … 0.08437558 0.048396286;;; -0.0 0.0 … 0.0 0.08418293; 0.0 0.0 … 0.0 0.21391031; … ; 0.05469677 0.0 … 0.0 0.24194844; -0.16237932 0.0 … 0.0 0.03399017;;; -0.34304312 0.60139525 … -0.7073394 0.05122671; 0.20356034 1.2843986 … -0.071102954 0.059835512; … ; -7.811788 -3.3968794 … 0.47909978 0.24106278; -5.3973017 -2.4156485 … 0.86806244 0.17359255;;; 0.0 0.0 … 0.0 0.0; -0.0 0.0 … 0.0 0.6035662; … ; 0.0 0.0 … -0.0 0.15288408; 0.0 1.2433957 … 0.0 0.02941122;;; -0.0029657078 0.0 … 0.0 0.09997488; 0.1448461 0.49477744 … -0.27998698 0.22807753; … ; -1.3626148 0.0 … -0.00044012867 0.0; -3.4542649 -6.780552 … 0.25775373 0.23226683;;; 0.006924085 0.2396772 … 0.9952139 -0.68019974; 0.0 2.2640238 … 0.6350267 -0.018767815; … ; -3.1267426 -4.2625656 … 0.105278894 0.56863636; -0.42309907 -3.4998155 … 0.12946354 0.0271026;;; -0.021958923 0.64075 … 0.05715935 0.16687351; -0.09924216 -0.0 … -0.023700409 -0.0; … ; -0.6073823 -2.1711395 … 0.0022601904 -0.0; 2.7827594 2.3714254 … -0.035813455 -0.08195559;;; 0.0 -0.0 … 0.0 0.0; -0.0 -0.0 … 0.0 -0.0; … ; 0.0 0.0 … 0.0 -0.0; 0.0 0.0 … -0.0 -0.031913135;;;;], [0.041824043 0.31154168 … 0.56333506 0.7217932; 0.20182359 0.18055882 … 0.5312517 0.15713297; … ; 0.11421035 -1.8864827 … 0.5384003 0.38260952; 0.23767748 0.2168949 … 0.27792397 0.19554888;;; 0.0054825633 -0.0005620847 … 0.004457078 -0.0015864087; -0.0009633518 -0.00068335264 … -0.00020339331 -0.0021214737; … ; 0.0012863701 0.001135926 … 0.011224476 0.0717712; 0.0028006576 0.004424514 … 0.0013985935 -0.0011535214;;; 0.057877205 0.20497267 … 0.11412815 0.070789956; 0.27739066 0.33403924 … 0.33601645 0.26717898; … ; 0.29394066 0.4275642 … 0.3880629 0.2899134; 0.41769046 1.2929223 … 0.7326615 0.47476497;;; … ;;; 0.04536945 0.020988656 … 0.013662098 1.5284108; 0.11037794 0.050092794 … 0.23442523 0.008554228; … ; 0.06518419 -0.031883635 … 0.12838751 -0.043416437; 0.114415236 0.6338472 … 0.12432637 -0.08452452;;; 0.00096282875 -0.00020074841 … 0.0004245313 -0.00023436837; 0.015299393 -0.00021939455 … 0.011715617 0.0137069635; … ; 0.008868344 -0.113940194 … 0.0009947948 -0.00023427758; -9.831491f-5 0.0023451215 … 0.008959015 0.0017471123;;; -0.001058566 -0.44850162 … 0.0054976447 0.007163529; -0.039348904 -0.07362793 … -0.10910857 -0.007984383; … ; 0.009942033 0.36047328 … 0.052944932 -0.006222852; -0.013056297 0.004837704 … 0.0036273147 -0.021447672;;;;], [0.001689165 -0.03476845 … 0.009037515 0.0642156; -0.013471739 -0.0016348015 … 0.0125395795 -0.1666411; … ; -0.0035365017 -0.31384313 … -0.035847593 -0.051270034; -0.029507613 -0.26209193 … -0.01933235 0.01780275;;; -0.007126718 0.0 … 0.0036864462 0.0; -0.0 0.0 … 0.0 -0.006979925; … ; -0.0043025455 -0.0 … 6.8146175f-5 0.017791713; -0.0027006066 -0.0 … 0.0 -0.0;;; -0.00042752692 -0.007454037 … -0.006429266 -0.008562597; 0.001628328 -0.014264324 … -0.08805216 0.014697258; … ; -0.009762457 0.07446067 … -0.0045052855 -0.0025718438; 0.008124109 0.20047396 … -0.013385437 -0.0006350469;;; … ;;; -0.0039084116 0.0036228045 … -0.0007744732 0.06659996; 0.004582948 -0.0009086235 … 0.044213563 -0.0013851798; … ; 0.005005465 0.0 … 0.0052697137 -0.0; -0.0023575644 0.21302249 … 0.0050334674 0.0;;; 0.0 0.0 … 0.0 -0.0; 0.011912913 0.0 … 0.01726339 0.018549556; … ; 0.008030254 -0.14953546 … 0.002089367 0.0; 0.0 0.0 … 0.0 0.0021353427;;; -0.0 -0.019011425 … 0.007847622 -0.010264321; -0.020630548 -0.045435756 … -0.048560634 -0.0; … ; -0.0051454054 0.21424064 … 0.01872606 0.0; 0.0 0.062753856 … 0.00066003716 -0.0;;;;], [0.049355906 -0.0022876796 … 0.0049463906 0.0; 0.049958616 0.04094524 … 0.0045988457 0.0; … ; 0.049446315 0.023156326 … 0.0 0.0; 0.0 0.0021865044 … 0.0 0.0011842347;;; -0.0 -0.0 … -0.0 -0.0; -0.0 -0.0 … -0.0 -0.0; … ; -0.0 -0.0 … -0.0 -0.0; -0.0 -0.0 … -0.0 -0.025816813;;; 0.0 0.0 … 0.005184765 -0.008779709; 0.0 0.0 … 0.0 0.008403276; … ; 0.0 0.0 … -5.7058805f-5 -0.03142927; 0.0 -0.0058360887 … 0.0 0.0;;; -0.0032647795 -0.004875416 … -0.18530624 -0.0; -0.0023576582 -0.0032892379 … -0.000722064 -0.0; … ; -0.00044314787 -0.010738529 … -0.0 -0.00090366835; -0.0 -0.0 … -0.0 -0.0038778787;;; -0.0 -0.0 … -0.0 -0.0; -0.0 -0.0 … -0.0 -0.0; … ; -0.0 -0.0 … -0.0 -0.0; -0.0039342367 0.0014814001 … 0.00182026 -5.0655063f-7;;; 0.0 0.0 … 0.011298685 -0.0019967007; 0.0 0.0 … 0.0 0.0004463275; … ; 0.0 0.0 … 0.0 0.0035777048; 0.0 0.0 … 0.0 -0.013613675;;; -0.0 -0.0 … -0.0 -0.0; -0.0 -0.00056725094 … 0.029389784 0.028141404; … ; -1.40435095f-5 -0.0010734345 … 0.0051785116 -0.018574702; -0.00013994052 -0.00024131818 … -0.017815774 0.05014975;;; -0.0 -0.0 … -0.0 -0.0; -0.0 -0.0 … -0.0 -0.0; … ; -0.0 -0.0 … -0.0 -0.0; -0.0 0.012333668 … 0.012700961 -0.018700311;;;;], [0.020998038 -0.024089668 … -0.00046370336 0.0; 0.021499388 0.014681761 … -0.0005055548 -0.0; … ; 0.02114441 0.004532842 … -0.0 0.0; -0.0 0.0001861998 … -0.0 -0.0005896693;;; 0.0 0.0 … 0.0 -0.0; -0.0 0.0 … 0.0 0.0; … ; 0.0 0.0 … 0.0 -0.0; -0.0 -0.0 … 0.0 -0.023760414;;; -0.0 -0.0 … 0.016044697 -0.0036847384; 0.0 -0.0 … 0.0 0.024315696; … ; -0.0 -0.0 … -0.0009800098 -0.018893385; -0.0 -0.0023008918 … -0.0 -0.0;;; 0.0044605755 0.005191076 … -0.007920145 0.0; -0.0006349168 0.0024377678 … 0.0011561193 0.0; … ; 0.0014940986 -0.00015905683 … 0.0 -0.0018527065; 0.0 -0.0 … 0.0 -0.004335798;;; -0.0 -0.0 … -0.0 0.0; -0.0 0.0 … -0.0 -0.0; … ; -0.0 0.0 … -0.0 -0.0; -0.0047957413 0.0012211392 … 0.0014833736 -4.695129f-5;;; -0.0 0.0 … 0.010080385 -0.0017334828; 0.0 0.0 … -0.0 0.00030691182; … ; 0.0 -0.0 … -0.0 0.0012970854; 0.0 0.0 … 0.0 -0.014606666;;; 0.0 0.0 … -0.0 0.0; 0.0 -0.0028316833 … 0.01938282 0.023200212; … ; -4.6984085f-5 -0.00052531395 … 0.0027818126 -0.007175223; 0.00083125284 0.00089589274 … -0.006171851 0.039008953;;; 0.0 -0.0 … 0.0 -0.0; -0.0 0.0 … 0.0 0.0; … ; -0.0 -0.0 … 0.0 0.0; -0.0 0.013678788 … 0.027721046 -0.011118822;;;;], Float32[0.020998038; 0.021499388; … ; 0.0; -0.011118822;;], Float32[0.03077009; 0.007995234; … ; 0.0; -0.0;;], Float32[0.03077009; 0.007995234; … ; 0.0; -0.0;;], Float32[0.0; 0.0; … ; 0.0; 0.0;;])"
     },
     "metadata": {},
     "execution_count": 9
    }
   ],
   "cell_type": "code",
   "source": [
    "input = rand(Float32, 32, 32, 3, 1) # dummy input for our convolutional neural network\n",
    "\n",
    "expl = analyze(input, analyzer; layerwise_relevances=true)\n",
    "expl.extras.layerwise_relevances"
   ],
   "metadata": {},
   "execution_count": 9
  },
  {
   "cell_type": "markdown",
   "source": [
    "Note that the layerwise relevances are only kept for layers in the outermost `Chain` of the model.\n",
    "When using our unflattened model, we only obtain three layerwise relevances,\n",
    "one for each chain in the model and the output relevance:"
   ],
   "metadata": {}
  },
  {
   "outputs": [
    {
     "output_type": "execute_result",
     "data": {
      "text/plain": "([-0.17308985 -0.15571883 … -0.5195231 0.30093274; 0.018469445 -0.44427815 … -0.0926666 0.008435047; … ; 0.02910979 0.018754538 … 0.03596832 0.1228399; -0.048542038 0.32933024 … -0.001901448 -0.012353493;;; 0.15901117 -0.1774528 … -0.04062775 0.15536262; 0.10119414 1.3675128 … -0.29742998 0.9436778; … ; 0.06844353 0.023010522 … -0.0012964173 -0.038201727; -0.09299599 0.04216917 … 0.28259063 0.33475304;;; -0.0254387 0.23222831 … -0.07566324 0.15832467; 0.1824174 1.9717578 … 0.14434686 0.016018333; … ; 0.20632188 -0.011922153 … 0.0026042634 -0.051944003; 0.13063245 0.016881537 … 0.06424899 0.2991331;;;;], [0.019005792 -0.017512042 … -0.00011526973 0.0; 0.02049657 0.015511755 … 1.7883569f-6 -0.0; … ; 0.01668819 0.008472187 … -0.0 0.0; -0.0 0.00030971863 … -0.0 -0.0015736568;;; 0.0 0.0 … 0.0 -0.0; -0.0 0.0 … 0.0 0.0; … ; 0.0 -0.0 … 0.0 -0.0; 0.0 -0.0 … 0.0 -0.019758038;;; -0.0 -0.0 … 0.021197433 -0.0052836016; 0.0 -0.0 … 0.0 0.03463931; … ; -0.0 -0.0 … -0.0003811233 -0.01770223; 0.0 -0.0019408517 … -0.0 -0.0;;; 0.001319895 0.0012205689 … -0.0034689757 -0.0; 4.721002f-5 0.003972265 … -0.000119001605 0.0; … ; 0.0 -0.0095465705 … 0.0 -0.0019208065; 0.0 -0.0 … 0.0 -0.0019336386;;; -0.0 -0.0 … -0.0 0.0; 0.0 -0.0 … 0.0 0.0; … ; -0.0 -0.0 … -0.0 -0.0; -0.0027089033 0.0022508625 … 0.0018343723 -0.0;;; -0.0 -0.0 … 0.009034114 -0.0010193604; 0.0 0.0 … -0.0 0.00042141727; … ; -0.0 -0.0 … -0.0 0.0066717616; 0.0 0.0 … 0.0 -0.016945362;;; 0.0 0.0 … -0.0 0.0; 0.0 -0.0019319863 … 0.018786378 0.0121960575; … ; -0.0 -0.0003370842 … 0.005949083 -0.0062015764; 0.0 0.0 … -0.015892377 0.04145267;;; 0.0 0.0 … 0.0 -0.0; 0.0 0.0 … 0.0 0.0; … ; -0.0 -0.0 … 0.0 0.0; -0.0 0.01141799 … 0.045350548 -0.0128086535;;;;], Float32[0.0; 0.0; … ; 0.0; 0.0;;])"
     },
     "metadata": {},
     "execution_count": 10
    }
   ],
   "cell_type": "code",
   "source": [
    "analyzer = LRP(model; flatten=false) # use unflattened model\n",
    "\n",
    "expl = analyze(input, analyzer; layerwise_relevances=true)\n",
    "expl.extras.layerwise_relevances"
   ],
   "metadata": {},
   "execution_count": 10
  },
  {
   "cell_type": "markdown",
   "source": [
    "## Performance tips\n",
    "### Using LRP with a GPU\n",
    "Like all other analyzers, LRP can be used on GPUs.\n",
    "Follow the instructions on *GPU support*.\n",
    "\n",
    "### Using LRP without a GPU\n",
    "Using Julia's package extension mechanism,\n",
    "ExplainableAI.jl's LRP implementation can optionally make use of\n",
    "[Tullio.jl](https://github.com/mcabbott/Tullio.jl) and\n",
    "[LoopVectorization.jl](https://github.com/JuliaSIMD/LoopVectorization.jl)\n",
    "for faster LRP rules on dense layers.\n",
    "\n",
    "This only requires loading the packages before loading ExplainableAI.jl:\n",
    "```julia\n",
    "using LoopVectorization, Tullio\n",
    "using ExplainableAI\n",
    "```\n",
    "\n",
    "[^1]: G. Montavon et al., [Layer-Wise Relevance Propagation: An Overview](https://link.springer.com/chapter/10.1007/978-3-030-28954-6_10)"
   ],
   "metadata": {}
  },
  {
   "cell_type": "markdown",
   "source": [
    "---\n",
    "\n",
    "*This notebook was generated using [Literate.jl](https://github.com/fredrikekre/Literate.jl).*"
   ],
   "metadata": {}
  }
 ],
 "nbformat_minor": 3,
 "metadata": {
  "language_info": {
   "file_extension": ".jl",
   "mimetype": "application/julia",
   "name": "julia",
   "version": "1.9.3"
  },
  "kernelspec": {
   "name": "julia-1.9",
   "display_name": "Julia 1.9.3",
   "language": "julia"
  }
 },
 "nbformat": 4
}
